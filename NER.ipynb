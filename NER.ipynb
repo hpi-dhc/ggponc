{
 "cells": [
  {
   "cell_type": "code",
   "execution_count": 1,
   "id": "1cdd57de-788b-4408-8e4e-fb180194a521",
   "metadata": {},
   "outputs": [],
   "source": [
    "%load_ext autoreload\n",
    "%autoreload 2"
   ]
  },
  {
   "cell_type": "code",
   "execution_count": 2,
   "id": "ccfa865a-f2ff-4cf5-828b-f85eafdc1999",
   "metadata": {},
   "outputs": [
    {
     "name": "stderr",
     "output_type": "stream",
     "text": [
      "/home/Florian.Borchert/miniconda3/envs/ggponc/lib/python3.10/site-packages/tqdm/auto.py:21: TqdmWarning: IProgress not found. Please update jupyter and ipywidgets. See https://ipywidgets.readthedocs.io/en/stable/user_install.html\n",
      "  from .autonotebook import tqdm as notebook_tqdm\n"
     ]
    }
   ],
   "source": [
    "from datasets import load_dataset\n",
    "ggponc_raw = load_dataset('bigbio/ggponc2', data_dir='data/v2.0_2022_03_24', name='ggponc2_fine_long_bigbio_kb')"
   ]
  },
  {
   "cell_type": "code",
   "execution_count": null,
   "id": "63b1b8d2-e61e-4600-a85e-47a0886c7677",
   "metadata": {},
   "outputs": [],
   "source": [
    "from xmen.evaluation import error_analysis\n",
    "ea = error_analysis(ggponc_raw['test'], ggponc_raw['test'], tasks=['ner'])"
   ]
  },
  {
   "cell_type": "code",
   "execution_count": 3,
   "id": "6307f799",
   "metadata": {},
   "outputs": [
    {
     "data": {
      "text/plain": [
       "DatasetDict({\n",
       "    train: Dataset({\n",
       "        features: ['id', 'document_id', 'passages', 'entities', 'events', 'coreferences', 'relations'],\n",
       "        num_rows: 59515\n",
       "    })\n",
       "    test: Dataset({\n",
       "        features: ['id', 'document_id', 'passages', 'entities', 'events', 'coreferences', 'relations'],\n",
       "        num_rows: 13714\n",
       "    })\n",
       "    validation: Dataset({\n",
       "        features: ['id', 'document_id', 'passages', 'entities', 'events', 'coreferences', 'relations'],\n",
       "        num_rows: 12770\n",
       "    })\n",
       "})"
      ]
     },
     "execution_count": 3,
     "metadata": {},
     "output_type": "execute_result"
    }
   ],
   "source": [
    "from ner_util import *\n",
    "\n",
    "ggponc_ds = bigbio_split_passages(ggponc_raw)\n",
    "ggponc_ds"
   ]
  },
  {
   "cell_type": "code",
   "execution_count": null,
   "id": "4803bd88",
   "metadata": {},
   "outputs": [],
   "source": [
    "len([e for d in ggponc_ds['train']['entities'] for e in d])"
   ]
  },
  {
   "cell_type": "code",
   "execution_count": null,
   "id": "3c179616",
   "metadata": {},
   "outputs": [],
   "source": [
    "substance_examples = ggponc_ds['train'].filter(lambda d: len([e for e in d['entities'] if 'Substance' in e['type']]) > 0)\n",
    "substance_examples"
   ]
  },
  {
   "cell_type": "code",
   "execution_count": null,
   "id": "65ccf7d8",
   "metadata": {},
   "outputs": [],
   "source": [
    "import datasets\n",
    "\n",
    "ggponc_ds_upsampled = ggponc_ds.copy()\n",
    "ggponc_ds_upsampled['train'] = datasets.concatenate_datasets([ggponc_ds['train'], substance_examples, substance_examples])\n",
    "ggponc_ds_upsampled\n"
   ]
  },
  {
   "cell_type": "code",
   "execution_count": 5,
   "id": "ed356390",
   "metadata": {},
   "outputs": [],
   "source": [
    "from xmen.data import from_spacy\n",
    "import spacy\n",
    "\n",
    "nlp = spacy.blank('de')"
   ]
  },
  {
   "cell_type": "code",
   "execution_count": 6,
   "id": "704273e9",
   "metadata": {},
   "outputs": [
    {
     "name": "stderr",
     "output_type": "stream",
     "text": [
      " 99%|█████████▉| 99/100 [00:00<00:00, 1988.61it/s]"
     ]
    },
    {
     "name": "stderr",
     "output_type": "stream",
     "text": [
      "\n",
      " 99%|█████████▉| 99/100 [00:00<00:00, 2064.55it/s]\n",
      " 99%|█████████▉| 99/100 [00:00<00:00, 2159.37it/s]\n"
     ]
    }
   ],
   "source": [
    "from xmen.data import Sampler\n",
    "\n",
    "subset = Sampler(1, 100).transform_batch(ggponc_ds)\n",
    "subset\n",
    "\n",
    "bigbio_to_spacy_docbin('data/ggponc_subset', nlp, subset, 'entities', is_sentencized=True)"
   ]
  },
  {
   "cell_type": "code",
   "execution_count": null,
   "id": "377c6443",
   "metadata": {},
   "outputs": [],
   "source": [
    "bigbio_to_spacy_docbin('data/ggponc_spacy_up', nlp, ggponc_ds_upsampled, 'entities', is_sentencized=True)"
   ]
  },
  {
   "cell_type": "code",
   "execution_count": null,
   "id": "9df3ac16-6382-4d0b-9072-3822ab7d2289",
   "metadata": {},
   "outputs": [],
   "source": [
    "bigbio_to_spacy_docbin('data/ggponc_spacy', nlp, ggponc_ds, 'entities', is_sentencized=True)"
   ]
  },
  {
   "cell_type": "markdown",
   "id": "c2e61f05",
   "metadata": {},
   "source": [
    "# Evaluate NER model"
   ]
  },
  {
   "cell_type": "code",
   "execution_count": 59,
   "id": "3e0b3a40",
   "metadata": {},
   "outputs": [],
   "source": [
    "import spacy\n",
    "from spacy_ner import chunk_and_ngram_suggester\n",
    "run = \"2023-12-22_13-23-15-cuda-3\"\n",
    "ner_model = spacy.load(f'spacy_ner/training/{run}/model-best/') "
   ]
  },
  {
   "cell_type": "code",
   "execution_count": 68,
   "id": "1a749139",
   "metadata": {},
   "outputs": [
    {
     "name": "stdout",
     "output_type": "stream",
     "text": [
      "Covid-19 Diagnosis_or_Pathology\n",
      "Oxaliplatin Clinical_Drug\n",
      "Irinotecan Clinical_Drug\n",
      "Behandlung von Covid-19 mit Oxaliplatin und Irinotecan Therapeutic\n"
     ]
    }
   ],
   "source": [
    "d = ner_model(\"Wir haben ein Versagen einer Behandlung von Covid-19 mit Oxaliplatin und Irinotecan festgestellt.\")\n",
    "for e in d.spans['entities']:\n",
    "    print(e, e.label_)"
   ]
  },
  {
   "cell_type": "code",
   "execution_count": 61,
   "id": "93ea3abe",
   "metadata": {},
   "outputs": [],
   "source": [
    "from spacy.tokens import DocBin\n",
    "from itertools import islice\n",
    "from xmen.data import from_spacy\n",
    "\n",
    "spacy_test_db = DocBin(store_user_data=True).from_disk('data/ggponc_spacy/test.spacy')\n",
    "spacy_test = list(spacy_test_db.get_docs(ner_model.vocab))"
   ]
  },
  {
   "cell_type": "code",
   "execution_count": 62,
   "id": "47a4e05d",
   "metadata": {},
   "outputs": [],
   "source": [
    "spacy_test_ds = from_spacy(spacy_test, 'entities')"
   ]
  },
  {
   "cell_type": "code",
   "execution_count": 63,
   "id": "4b360edd",
   "metadata": {},
   "outputs": [
    {
     "name": "stderr",
     "output_type": "stream",
     "text": [
      "100%|█████████████████████████████████████████████████████████████████████████████████████████████████| 13714/13714 [05:04<00:00, 45.09it/s]\n"
     ]
    }
   ],
   "source": [
    "from tqdm.auto import tqdm\n",
    "test_data = [d.text for d in spacy_test]\n",
    "pred = list(tqdm(ner_model.pipe(test_data), total=len(test_data)))"
   ]
  },
  {
   "cell_type": "code",
   "execution_count": 64,
   "id": "1bf81961-2ce2-4e3d-9e32-67222e73f760",
   "metadata": {},
   "outputs": [],
   "source": [
    "pred_ds = from_spacy(pred, 'entities')"
   ]
  },
  {
   "cell_type": "code",
   "execution_count": 65,
   "id": "e1b5c4c9",
   "metadata": {},
   "outputs": [
    {
     "data": {
      "text/plain": [
       "{'strict': {'precision': 0.7357169185403613,\n",
       "  'recall': 0.7545874894582255,\n",
       "  'fscore': 0.7450327322843688,\n",
       "  'ptp': 25948,\n",
       "  'fp': 9321,\n",
       "  'rtp': 25948,\n",
       "  'fn': 8439,\n",
       "  'n_docs_system': 13714,\n",
       "  'n_annos_system': 35319,\n",
       "  'n_docs_gold': 13714,\n",
       "  'n_annos_gold': 34414},\n",
       " 'partial': {'precision': 0.8292413421815512,\n",
       "  'recall': 0.829673434405918,\n",
       "  'fscore': 0.829457332020895,\n",
       "  'ptp': 29287.974964510206,\n",
       "  'fp': 6031.025035489794,\n",
       "  'rtp': 28552.381571645263,\n",
       "  'fn': 5861.618428354737,\n",
       "  'n_docs_system': 13714,\n",
       "  'n_annos_system': 35319,\n",
       "  'n_docs_gold': 13714,\n",
       "  'n_annos_gold': 34414},\n",
       " 'loose': {'precision': 0.9679721496953873,\n",
       "  'recall': 0.9772427730427906,\n",
       "  'fscore': 0.9725853701193651,\n",
       "  'ptp': 11122,\n",
       "  'fp': 368,\n",
       "  'rtp': 11122,\n",
       "  'fn': 259,\n",
       "  'n_docs_system': 13714,\n",
       "  'n_annos_system': 35319,\n",
       "  'n_docs_gold': 13714,\n",
       "  'n_annos_gold': 34414},\n",
       " 'ner_strict': {'precision': 0.7357169185403613,\n",
       "  'recall': 0.7545874894582255,\n",
       "  'fscore': 0.7450327322843688,\n",
       "  'ptp': 25948,\n",
       "  'fp': 9321,\n",
       "  'rtp': 25948,\n",
       "  'fn': 8439,\n",
       "  'n_docs_system': 13714,\n",
       "  'n_annos_system': 35319,\n",
       "  'n_docs_gold': 13714,\n",
       "  'n_annos_gold': 34414},\n",
       " 'ner_partial': {'precision': 0.8292413421815512,\n",
       "  'recall': 0.829673434405918,\n",
       "  'fscore': 0.829457332020895,\n",
       "  'ptp': 29287.974964510206,\n",
       "  'fp': 6031.025035489794,\n",
       "  'rtp': 28552.381571645263,\n",
       "  'fn': 5861.618428354737,\n",
       "  'n_docs_system': 13714,\n",
       "  'n_annos_system': 35319,\n",
       "  'n_docs_gold': 13714,\n",
       "  'n_annos_gold': 34414}}"
      ]
     },
     "execution_count": 65,
     "metadata": {},
     "output_type": "execute_result"
    }
   ],
   "source": [
    "from xmen.evaluation import evaluate, error_analysis\n",
    "evaluate(spacy_test_ds, pred_ds, ner_only=True, metrics='all')"
   ]
  },
  {
   "cell_type": "code",
   "execution_count": 31,
   "id": "e7e186cc",
   "metadata": {},
   "outputs": [],
   "source": [
    "ea = error_analysis(spacy_test_ds.select(range(0,100)), pred_ds.select(range(0,100)), tasks=['ner'])"
   ]
  },
  {
   "cell_type": "code",
   "execution_count": 58,
   "id": "bd0b7dfb-68fd-4f44-b324-3567f8e68f76",
   "metadata": {},
   "outputs": [
    {
     "name": "stdout",
     "output_type": "stream",
     "text": [
      "Beginn einer Statintherapie Therapeutic\n",
      "Verbesserung nach Beginn einer Statintherapie Other_Finding\n"
     ]
    }
   ],
   "source": [
    "d = ner_model(\"\"\"Im Gegensatz dazu zeigte sich keine Verbesserung nach Beginn einer Statintherapie bei kardiochirurgischen Patienten.\"\"\")\n",
    "for e in d.spans['entities']:\n",
    "    print(e, e.label_)"
   ]
  },
  {
   "cell_type": "code",
   "execution_count": 32,
   "id": "01c58b49-a791-4733-8dd1-71275bfda4ec",
   "metadata": {},
   "outputs": [
    {
     "data": {
      "text/html": [
       "<div>\n",
       "<style scoped>\n",
       "    .dataframe tbody tr th:only-of-type {\n",
       "        vertical-align: middle;\n",
       "    }\n",
       "\n",
       "    .dataframe tbody tr th {\n",
       "        vertical-align: top;\n",
       "    }\n",
       "\n",
       "    .dataframe thead th {\n",
       "        text-align: right;\n",
       "    }\n",
       "</style>\n",
       "<table border=\"1\" class=\"dataframe\">\n",
       "  <thead>\n",
       "    <tr style=\"text-align: right;\">\n",
       "      <th></th>\n",
       "      <th>_word_len</th>\n",
       "      <th>_abbrev</th>\n",
       "      <th>gt_start</th>\n",
       "      <th>gt_end</th>\n",
       "      <th>gt_text</th>\n",
       "      <th>gold_type</th>\n",
       "      <th>pred_start</th>\n",
       "      <th>pred_end</th>\n",
       "      <th>pred_text</th>\n",
       "      <th>pred_type</th>\n",
       "      <th>ner_match_type</th>\n",
       "      <th>corpus_id</th>\n",
       "      <th>document_id</th>\n",
       "    </tr>\n",
       "  </thead>\n",
       "  <tbody>\n",
       "    <tr>\n",
       "      <th>63</th>\n",
       "      <td>1.0</td>\n",
       "      <td>False</td>\n",
       "      <td>5.0</td>\n",
       "      <td>14.0</td>\n",
       "      <td>[Resektion]</td>\n",
       "      <td>Therapeutic</td>\n",
       "      <td>5.0</td>\n",
       "      <td>79.0</td>\n",
       "      <td>[Resektion mit einem histologisch bestätigten ...</td>\n",
       "      <td>Therapeutic</td>\n",
       "      <td>be</td>\n",
       "      <td>None</td>\n",
       "      <td>19</td>\n",
       "    </tr>\n",
       "    <tr>\n",
       "      <th>64</th>\n",
       "      <td>6.0</td>\n",
       "      <td>False</td>\n",
       "      <td>25.0</td>\n",
       "      <td>79.0</td>\n",
       "      <td>[histologisch bestätigten Sicherheitsabstand v...</td>\n",
       "      <td>Other_Finding</td>\n",
       "      <td>5.0</td>\n",
       "      <td>79.0</td>\n",
       "      <td>[Resektion mit einem histologisch bestätigten ...</td>\n",
       "      <td>Therapeutic</td>\n",
       "      <td>lbe</td>\n",
       "      <td>None</td>\n",
       "      <td>19</td>\n",
       "    </tr>\n",
       "    <tr>\n",
       "      <th>65</th>\n",
       "      <td>NaN</td>\n",
       "      <td>None</td>\n",
       "      <td>NaN</td>\n",
       "      <td>NaN</td>\n",
       "      <td>None</td>\n",
       "      <td>None</td>\n",
       "      <td>25.0</td>\n",
       "      <td>79.0</td>\n",
       "      <td>[histologisch bestätigten Sicherheitsabstand v...</td>\n",
       "      <td>Other_Finding</td>\n",
       "      <td>fp</td>\n",
       "      <td>None</td>\n",
       "      <td>19</td>\n",
       "    </tr>\n",
       "    <tr>\n",
       "      <th>66</th>\n",
       "      <td>NaN</td>\n",
       "      <td>None</td>\n",
       "      <td>NaN</td>\n",
       "      <td>NaN</td>\n",
       "      <td>None</td>\n",
       "      <td>None</td>\n",
       "      <td>25.0</td>\n",
       "      <td>79.0</td>\n",
       "      <td>[histologisch bestätigten Sicherheitsabstand v...</td>\n",
       "      <td>Other_Finding</td>\n",
       "      <td>fp</td>\n",
       "      <td>None</td>\n",
       "      <td>19</td>\n",
       "    </tr>\n",
       "    <tr>\n",
       "      <th>67</th>\n",
       "      <td>2.0</td>\n",
       "      <td>False</td>\n",
       "      <td>89.0</td>\n",
       "      <td>111.0</td>\n",
       "      <td>[knapper Resektionsrand]</td>\n",
       "      <td>Other_Finding</td>\n",
       "      <td>89.0</td>\n",
       "      <td>111.0</td>\n",
       "      <td>[knapper Resektionsrand]</td>\n",
       "      <td>Other_Finding</td>\n",
       "      <td>tp</td>\n",
       "      <td>None</td>\n",
       "      <td>19</td>\n",
       "    </tr>\n",
       "    <tr>\n",
       "      <th>68</th>\n",
       "      <td>2.0</td>\n",
       "      <td>False</td>\n",
       "      <td>149.0</td>\n",
       "      <td>172.0</td>\n",
       "      <td>[sicherer Resektionsrand]</td>\n",
       "      <td>Other_Finding</td>\n",
       "      <td>149.0</td>\n",
       "      <td>172.0</td>\n",
       "      <td>[sicherer Resektionsrand]</td>\n",
       "      <td>Other_Finding</td>\n",
       "      <td>tp</td>\n",
       "      <td>None</td>\n",
       "      <td>19</td>\n",
       "    </tr>\n",
       "  </tbody>\n",
       "</table>\n",
       "</div>"
      ],
      "text/plain": [
       "    _word_len _abbrev  gt_start  gt_end  \\\n",
       "63        1.0   False       5.0    14.0   \n",
       "64        6.0   False      25.0    79.0   \n",
       "65        NaN    None       NaN     NaN   \n",
       "66        NaN    None       NaN     NaN   \n",
       "67        2.0   False      89.0   111.0   \n",
       "68        2.0   False     149.0   172.0   \n",
       "\n",
       "                                              gt_text      gold_type  \\\n",
       "63                                        [Resektion]    Therapeutic   \n",
       "64  [histologisch bestätigten Sicherheitsabstand v...  Other_Finding   \n",
       "65                                               None           None   \n",
       "66                                               None           None   \n",
       "67                           [knapper Resektionsrand]  Other_Finding   \n",
       "68                          [sicherer Resektionsrand]  Other_Finding   \n",
       "\n",
       "    pred_start  pred_end                                          pred_text  \\\n",
       "63         5.0      79.0  [Resektion mit einem histologisch bestätigten ...   \n",
       "64         5.0      79.0  [Resektion mit einem histologisch bestätigten ...   \n",
       "65        25.0      79.0  [histologisch bestätigten Sicherheitsabstand v...   \n",
       "66        25.0      79.0  [histologisch bestätigten Sicherheitsabstand v...   \n",
       "67        89.0     111.0                           [knapper Resektionsrand]   \n",
       "68       149.0     172.0                          [sicherer Resektionsrand]   \n",
       "\n",
       "        pred_type ner_match_type corpus_id document_id  \n",
       "63    Therapeutic             be      None          19  \n",
       "64    Therapeutic            lbe      None          19  \n",
       "65  Other_Finding             fp      None          19  \n",
       "66  Other_Finding             fp      None          19  \n",
       "67  Other_Finding             tp      None          19  \n",
       "68  Other_Finding             tp      None          19  "
      ]
     },
     "execution_count": 32,
     "metadata": {},
     "output_type": "execute_result"
    }
   ],
   "source": [
    "ea[ea.document_id == '19']"
   ]
  },
  {
   "cell_type": "code",
   "execution_count": null,
   "id": "048b76d1-6ec8-4af5-87b0-eedc6fba2167",
   "metadata": {},
   "outputs": [],
   "source": [
    "spacy_test[1]"
   ]
  },
  {
   "cell_type": "code",
   "execution_count": null,
   "id": "1efa3c9b-f083-479c-8564-a9d768115615",
   "metadata": {},
   "outputs": [],
   "source": [
    "spacy_test[1].spans['entities']"
   ]
  },
  {
   "cell_type": "code",
   "execution_count": null,
   "id": "0fd39dc7-a77a-4721-be67-b928464703b4",
   "metadata": {},
   "outputs": [],
   "source": [
    "pred[1].spans['entities']"
   ]
  },
  {
   "cell_type": "code",
   "execution_count": null,
   "id": "adda70bd",
   "metadata": {},
   "outputs": [],
   "source": [
    "ea[ea.document_id == '4']"
   ]
  },
  {
   "cell_type": "code",
   "execution_count": null,
   "id": "ce570d37-9585-4578-8bc2-b6cda483adb3",
   "metadata": {},
   "outputs": [],
   "source": [
    "from spacy_ner import snomed_spans\n",
    "ner_model = spacy.load('data/v2.0_2022_03_24/models/spacy')"
   ]
  },
  {
   "cell_type": "code",
   "execution_count": null,
   "id": "b8077db0-938a-409f-a8b3-eb507d6158ff",
   "metadata": {},
   "outputs": [],
   "source": [
    "f = lambda d: d['document_id'] == '00_mundhoehlenkarzinom_0039.tsv'\n",
    "ggponc_ds['test'].filter(f)[0]['entities']"
   ]
  },
  {
   "cell_type": "code",
   "execution_count": null,
   "id": "7c7677bc-4ecd-4b53-b048-870a1e07cb2e",
   "metadata": {},
   "outputs": [],
   "source": [
    "[d for d in spacy_test if d.user_data['document_id'] == '00_mundhoehlenkarzinom_0039.tsv'][0].spans"
   ]
  },
  {
   "cell_type": "code",
   "execution_count": null,
   "id": "13ff8bc9-3015-48c6-b9d6-18396cf4ce18",
   "metadata": {},
   "outputs": [],
   "source": [
    "#bigbio_spacy.filter(f)[0]['entities']"
   ]
  },
  {
   "cell_type": "code",
   "execution_count": null,
   "id": "ee1e1690-a924-4fcf-8e2b-33f7f0dd0291",
   "metadata": {},
   "outputs": [],
   "source": []
  },
  {
   "cell_type": "code",
   "execution_count": null,
   "id": "9ef097ce-0e92-400a-93c5-3e1b7668c712",
   "metadata": {},
   "outputs": [],
   "source": [
    "import spacy\n",
    "from spacy.tokens import DocBin\n",
    "from itertools import islice"
   ]
  },
  {
   "cell_type": "code",
   "execution_count": null,
   "id": "e1684508-3a7a-4291-ae94-5a8add5d6039",
   "metadata": {},
   "outputs": [],
   "source": [
    "nlp = spacy.blank('de')\n",
    "db = DocBin(store_user_data=True).from_disk('data/v2.0_2022_03_24/annotations/spacy/test.spacy')\n",
    "docs = list(db.get_docs(nlp.vocab))\n",
    "for d in docs:\n",
    "    d[0].is_sent_start = True\n",
    "    for t in d[1:]:\n",
    "        t.is_sent_start = False\n",
    "docs[0:5]"
   ]
  },
  {
   "cell_type": "code",
   "execution_count": null,
   "id": "0ba30477-1015-4681-b0b1-7e964bc5ce85",
   "metadata": {},
   "outputs": [],
   "source": [
    "len(docs)"
   ]
  },
  {
   "cell_type": "code",
   "execution_count": null,
   "id": "54db9176-5f93-44a0-810c-4f99dadd4962",
   "metadata": {},
   "outputs": [],
   "source": [
    "len(spacy_test)"
   ]
  },
  {
   "cell_type": "code",
   "execution_count": null,
   "id": "878e4dd0-25c1-40e7-aa2e-c12d28d84448",
   "metadata": {},
   "outputs": [],
   "source": []
  },
  {
   "cell_type": "code",
   "execution_count": null,
   "id": "a2e1e8db-8be5-46f5-9272-1df4b7b50193",
   "metadata": {},
   "outputs": [],
   "source": [
    "d2 = from_spacy(spacy_test, span_key='snomed')"
   ]
  },
  {
   "cell_type": "code",
   "execution_count": null,
   "id": "d9d1d409-6255-4b77-a538-3494a0d5fd0b",
   "metadata": {},
   "outputs": [],
   "source": [
    "from xmen.evaluation import evaluate\n",
    "from xmen.data import from_spacy\n",
    "\n",
    "evaluate(d2, d2, ner_only=True)"
   ]
  },
  {
   "cell_type": "code",
   "execution_count": null,
   "id": "db04be17-3837-486f-9a0c-73cff259c92c",
   "metadata": {},
   "outputs": [],
   "source": []
  },
  {
   "cell_type": "code",
   "execution_count": null,
   "id": "44d961dd-2d94-421b-9acd-95a711320936",
   "metadata": {},
   "outputs": [],
   "source": [
    "ents_spacy = []\n",
    "for d in conv_test:\n",
    "    for s in d.spans['snomed']:\n",
    "        ents_spacy.append(s)"
   ]
  },
  {
   "cell_type": "code",
   "execution_count": null,
   "id": "0e036c58-1da4-40bb-b2d4-771c585fdae9",
   "metadata": {},
   "outputs": [],
   "source": [
    "len(ents_spacy)"
   ]
  },
  {
   "cell_type": "code",
   "execution_count": null,
   "id": "872b8b0e-8a3b-4282-bc5d-630f2ad3c800",
   "metadata": {},
   "outputs": [],
   "source": [
    "ents_spacy[123:127]"
   ]
  },
  {
   "cell_type": "code",
   "execution_count": null,
   "id": "ed5bbf0f-53e7-4bbd-ada0-dff10fa72934",
   "metadata": {},
   "outputs": [],
   "source": []
  }
 ],
 "metadata": {
  "kernelspec": {
   "display_name": "ggponc",
   "language": "python",
   "name": "python3"
  },
  "language_info": {
   "codemirror_mode": {
    "name": "ipython",
    "version": 3
   },
   "file_extension": ".py",
   "mimetype": "text/x-python",
   "name": "python",
   "nbconvert_exporter": "python",
   "pygments_lexer": "ipython3",
   "version": "3.10.13"
  }
 },
 "nbformat": 4,
 "nbformat_minor": 5
}
