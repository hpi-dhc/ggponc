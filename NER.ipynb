{
 "cells": [
  {
   "cell_type": "code",
   "execution_count": 116,
   "id": "ef6b701a-1a1a-4c16-aa7d-f28a78c05d16",
   "metadata": {},
   "outputs": [],
   "source": [
    "from spacy.tokens import Doc, Span\n",
    "from datasets import Dataset\n",
    "from typing import List\n",
    "\n",
    "def bigbio_to_spacy(nlp, bigbio_dataset : Dataset, is_sentencized : bool = False) -> List[Doc]:\n",
    "    result = []\n",
    "    for d in bigbio_dataset:\n",
    "        doc_text = \" \".join([t for p in d[\"passages\"] for t in p[\"text\"]])\n",
    "        doc = nlp(doc_text)\n",
    "        spans = []\n",
    "        for e in d['entities']:\n",
    "            span = doc.char_span(e['offsets'][0][0], e['offsets'][-1][1], label=e['type'])\n",
    "            spans.append(span)\n",
    "        doc.spans['snomed'] = spans\n",
    "        doc.user_data['document_id'] = d['document_id']\n",
    "        if is_sentencized:\n",
    "            doc[0].is_sent_start = True\n",
    "            for t in doc[1:]:\n",
    "                t.is_sent_start = False\n",
    "        result.append(doc)\n",
    "    return result"
   ]
  },
  {
   "cell_type": "code",
   "execution_count": 117,
   "id": "ccfa865a-f2ff-4cf5-828b-f85eafdc1999",
   "metadata": {},
   "outputs": [],
   "source": [
    "from datasets import load_dataset\n",
    "\n",
    "ggponc_ds = load_dataset('bigbio/ggponc2', data_dir='data/v2.0_2022_03_24', name='ggponc2_fine_long_bigbio_kb')"
   ]
  },
  {
   "cell_type": "code",
   "execution_count": 119,
   "id": "76056c8d-d105-49b3-91d5-cd0af39a8441",
   "metadata": {},
   "outputs": [],
   "source": [
    "nlp = spacy.blank('de')\n",
    "nlp.add_pipe('sentencizer')\n",
    "\n",
    "spacy_test = bigbio_to_spacy(nlp, ggponc_ds['test'])"
   ]
  },
  {
   "cell_type": "code",
   "execution_count": 1,
   "id": "9ef097ce-0e92-400a-93c5-3e1b7668c712",
   "metadata": {},
   "outputs": [],
   "source": [
    "import spacy\n",
    "from spacy.tokens import DocBin\n",
    "from itertools import islice"
   ]
  },
  {
   "cell_type": "code",
   "execution_count": 112,
   "id": "e1684508-3a7a-4291-ae94-5a8add5d6039",
   "metadata": {},
   "outputs": [
    {
     "data": {
      "text/plain": [
       "[Die Panorama-Schichtaufnahme gehört zur zahnärztlichen Basisdiagnostik und sollte vor Beginn der spezifischen Tumortherapie vorliegen . ,\n",
       " Bei zu erwartenden Metallartefakten im Bereich der Mundhöhle sollte die MRT dem CT zur Beurteilung des Primärtumors vorgezogen werden . ,\n",
       " Die diagnostische Spezifität des Lymphknotenstagings am Hals kann durch die Ultraschall gestützte Feinnadelbiopsie verbessert werden . ,\n",
       " Um einen positiven Resektionsrand , der mit einer schlechteren Prognose verbunden ist zu vermeiden , kann die Technik einer intraoperativen Schnellschnitthistologie hilfreich sein . ,\n",
       " Der histopathologische Befund soll in Kommunikation mit dem Kliniker die genaue Lokalisation einer ggf . vorliegenden R + - Situation beschreiben . ]"
      ]
     },
     "execution_count": 112,
     "metadata": {},
     "output_type": "execute_result"
    }
   ],
   "source": [
    "nlp = spacy.blank('de')\n",
    "db = DocBin(store_user_data=True).from_disk('data/v2.0_2022_03_24/annotations/spacy/test.spacy')\n",
    "docs = list(db.get_docs(nlp.vocab))\n",
    "for d in docs:\n",
    "    d[0].is_sent_start = True\n",
    "    for t in d[1:]:\n",
    "        t.is_sent_start = False\n",
    "docs[0:5]"
   ]
  },
  {
   "cell_type": "code",
   "execution_count": 114,
   "id": "0ba30477-1015-4681-b0b1-7e964bc5ce85",
   "metadata": {},
   "outputs": [
    {
     "data": {
      "text/plain": [
       "13714"
      ]
     },
     "execution_count": 114,
     "metadata": {},
     "output_type": "execute_result"
    }
   ],
   "source": [
    "len(docs)"
   ]
  },
  {
   "cell_type": "code",
   "execution_count": 115,
   "id": "54db9176-5f93-44a0-810c-4f99dadd4962",
   "metadata": {},
   "outputs": [
    {
     "data": {
      "text/plain": [
       "1529"
      ]
     },
     "execution_count": 115,
     "metadata": {},
     "output_type": "execute_result"
    }
   ],
   "source": [
    "len(spacy_test)"
   ]
  },
  {
   "cell_type": "code",
   "execution_count": 93,
   "id": "878e4dd0-25c1-40e7-aa2e-c12d28d84448",
   "metadata": {},
   "outputs": [],
   "source": [
    "d1 = from_spacy(docs, span_key='snomed')"
   ]
  },
  {
   "cell_type": "code",
   "execution_count": 120,
   "id": "a2e1e8db-8be5-46f5-9272-1df4b7b50193",
   "metadata": {},
   "outputs": [],
   "source": [
    "d2 = from_spacy(spacy_test, span_key='snomed')"
   ]
  },
  {
   "cell_type": "code",
   "execution_count": 121,
   "id": "d9d1d409-6255-4b77-a538-3494a0d5fd0b",
   "metadata": {},
   "outputs": [
    {
     "data": {
      "text/plain": [
       "{'strict': {'precision': 1.0,\n",
       "  'recall': 1.0,\n",
       "  'fscore': 1.0,\n",
       "  'ptp': 34162,\n",
       "  'fp': 0,\n",
       "  'rtp': 34162,\n",
       "  'fn': 0,\n",
       "  'n_docs_system': 1529,\n",
       "  'n_annos_system': 34414,\n",
       "  'n_docs_gold': 1529,\n",
       "  'n_annos_gold': 34414}}"
      ]
     },
     "execution_count": 121,
     "metadata": {},
     "output_type": "execute_result"
    }
   ],
   "source": [
    "from xmen.evaluation import evaluate\n",
    "from xmen.data import from_spacy\n",
    "\n",
    "evaluate(d2, d2, ner_only=True)"
   ]
  },
  {
   "cell_type": "code",
   "execution_count": 72,
   "id": "db04be17-3837-486f-9a0c-73cff259c92c",
   "metadata": {},
   "outputs": [],
   "source": []
  },
  {
   "cell_type": "code",
   "execution_count": 68,
   "id": "44d961dd-2d94-421b-9acd-95a711320936",
   "metadata": {},
   "outputs": [],
   "source": [
    "ents_spacy = []\n",
    "for d in conv_test:\n",
    "    for s in d.spans['snomed']:\n",
    "        ents_spacy.append(s)"
   ]
  },
  {
   "cell_type": "code",
   "execution_count": 69,
   "id": "0e036c58-1da4-40bb-b2d4-771c585fdae9",
   "metadata": {},
   "outputs": [
    {
     "data": {
      "text/plain": [
       "34414"
      ]
     },
     "execution_count": 69,
     "metadata": {},
     "output_type": "execute_result"
    }
   ],
   "source": [
    "len(ents_spacy)"
   ]
  },
  {
   "cell_type": "code",
   "execution_count": 70,
   "id": "872b8b0e-8a3b-4282-bc5d-630f2ad3c800",
   "metadata": {},
   "outputs": [
    {
     "data": {
      "text/plain": [
       "[Radiochemotherapie,\n",
       " Behandlung des Mundhöhlenkarzinoms,\n",
       " Mundhöhlenkarzinoms,\n",
       " Strahlentherapie]"
      ]
     },
     "execution_count": 70,
     "metadata": {},
     "output_type": "execute_result"
    }
   ],
   "source": [
    "ents_spacy[123:127]"
   ]
  },
  {
   "cell_type": "code",
   "execution_count": null,
   "id": "ed5bbf0f-53e7-4bbd-ada0-dff10fa72934",
   "metadata": {},
   "outputs": [],
   "source": []
  }
 ],
 "metadata": {
  "kernelspec": {
   "display_name": "Python [conda env:ggponc]",
   "language": "python",
   "name": "conda-env-ggponc-py"
  },
  "language_info": {
   "codemirror_mode": {
    "name": "ipython",
    "version": 3
   },
   "file_extension": ".py",
   "mimetype": "text/x-python",
   "name": "python",
   "nbconvert_exporter": "python",
   "pygments_lexer": "ipython3",
   "version": "3.10.13"
  }
 },
 "nbformat": 4,
 "nbformat_minor": 5
}
