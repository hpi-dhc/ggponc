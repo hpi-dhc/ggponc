{
 "cells": [
  {
   "cell_type": "markdown",
   "id": "1409bc98-c126-4bf7-8dea-08435d4abd97",
   "metadata": {},
   "source": [
    "# Analysis of ECCNP Resolution and Impact on NER and EL Performance"
   ]
  },
  {
   "cell_type": "code",
   "execution_count": 3,
   "id": "d38bfb4c-1586-4ae7-98cb-bf2ca7ffa15b",
   "metadata": {
    "tags": []
   },
   "outputs": [],
   "source": [
    "from xmen import load_config, load_kb\n",
    "from xmen.data import from_spacy\n",
    "\n",
    "conf = load_config('xmen_ggponc3.yaml')"
   ]
  },
  {
   "cell_type": "markdown",
   "id": "79e4bdce-acb9-4dc3-a6a4-28efd9ec37ad",
   "metadata": {
    "tags": []
   },
   "source": [
    "**Note:** For this notebook, we only use a small subset of GGPONC 2.0 for demonstration purposes\n",
    "Change the version if you want to use any other GGPONC release"
   ]
  },
  {
   "cell_type": "code",
   "execution_count": 4,
   "id": "b265c2a8-4288-43a4-a78b-9f10f73c9e6d",
   "metadata": {
    "tags": []
   },
   "outputs": [
    {
     "data": {
      "application/vnd.jupyter.widget-view+json": {
       "model_id": "488a3082ea43431bbc89a303bbc414fa",
       "version_major": 2,
       "version_minor": 0
      },
      "text/plain": [
       "  0%|          | 0/14 [00:00<?, ?it/s]"
      ]
     },
     "metadata": {},
     "output_type": "display_data"
    }
   ],
   "source": [
    "from ggponc import *\n",
    "\n",
    "sent_df = read_sentences(conf.data_version, 'data')"
   ]
  },
  {
   "cell_type": "code",
   "execution_count": 5,
   "id": "1b1298e5-5963-4afa-8ff2-efdf27580bbb",
   "metadata": {
    "tags": []
   },
   "outputs": [
    {
     "name": "stderr",
     "output_type": "stream",
     "text": [
      "/home/Florian.Borchert/miniconda3/envs/ggponc/lib/python3.10/site-packages/huggingface_hub/file_download.py:1132: FutureWarning: `resume_download` is deprecated and will be removed in version 1.0.0. Downloads always resume when possible. If you want to force a new download, use `force_download=True`.\n",
      "  warnings.warn(\n",
      "/home/Florian.Borchert/miniconda3/envs/ggponc/lib/python3.10/site-packages/transformers/convert_slow_tokenizer.py:446: UserWarning: The sentencepiece tokenizer that you are converting to a fast tokenizer uses the byte fallback option which is not implemented in the fast tokenizers. In practice this means that the fast version of the tokenizer can produce unknown tokens whereas the sentencepiece version would have converted these unknown tokens into a sequence of byte tokens matching the original piece of text.\n",
      "  warnings.warn(\n"
     ]
    }
   ],
   "source": [
    "resolver = ECCNPResolver(**conf.eccnp)"
   ]
  },
  {
   "cell_type": "code",
   "execution_count": 6,
   "id": "ffefead0-a5a9-4eda-9902-1f32424ea979",
   "metadata": {
    "tags": []
   },
   "outputs": [
    {
     "data": {
      "application/vnd.jupyter.widget-view+json": {
       "model_id": "8be76c510c364de3a5116fc198711860",
       "version_major": 2,
       "version_minor": 0
      },
      "text/plain": [
       "  0%|          | 0/374 [00:00<?, ?it/s]"
      ]
     },
     "metadata": {},
     "output_type": "display_data"
    }
   ],
   "source": [
    "sent_df = resolver.set_df(sent_df)"
   ]
  },
  {
   "cell_type": "code",
   "execution_count": 7,
   "id": "f888ba14-e5f8-4f95-8eb4-abdd8e057bd5",
   "metadata": {
    "tags": []
   },
   "outputs": [],
   "source": [
    "ner = NERTagger()"
   ]
  },
  {
   "cell_type": "code",
   "execution_count": 8,
   "id": "d7dfbe74-f8ba-4509-949f-547563c15d36",
   "metadata": {
    "tags": []
   },
   "outputs": [
    {
     "data": {
      "application/vnd.jupyter.widget-view+json": {
       "model_id": "4186b1c3cb884ea28bb58e2807f698d3",
       "version_major": 2,
       "version_minor": 0
      },
      "text/plain": [
       "  0%|          | 0/374 [00:00<?, ?it/s]"
      ]
     },
     "metadata": {},
     "output_type": "display_data"
    }
   ],
   "source": [
    "ner_df_before = ner.set_df(sent_df, sent_col='sentence')\n",
    "ds_ner_before = from_spacy(ner_df_before.spacy_ner, span_key='entities', doc_id_key='file_name')"
   ]
  },
  {
   "cell_type": "code",
   "execution_count": 9,
   "id": "3d35e3dc-3ccf-4dd8-ae7c-860eb862509e",
   "metadata": {
    "tags": []
   },
   "outputs": [
    {
     "data": {
      "application/vnd.jupyter.widget-view+json": {
       "model_id": "a94645f1253f4462aa821b5fc1e231d3",
       "version_major": 2,
       "version_minor": 0
      },
      "text/plain": [
       "  0%|          | 0/374 [00:00<?, ?it/s]"
      ]
     },
     "metadata": {},
     "output_type": "display_data"
    }
   ],
   "source": [
    "ner_df_after = ner.set_df(sent_df)\n",
    "ds_ner_after = from_spacy(ner_df_after.spacy_ner, span_key='entities', doc_id_key='file_name')"
   ]
  },
  {
   "cell_type": "code",
   "execution_count": 10,
   "id": "a2c821d8-2545-4410-987e-668d47c151ba",
   "metadata": {
    "tags": []
   },
   "outputs": [
    {
     "name": "stderr",
     "output_type": "stream",
     "text": [
      "/home/Florian.Borchert/miniconda3/envs/ggponc/lib/python3.10/site-packages/sklearn/base.py:376: InconsistentVersionWarning: Trying to unpickle estimator TfidfTransformer from version 1.3.1 when using version 1.5.0. This might lead to breaking code or invalid results. Use at your own risk. For more info please refer to:\n",
      "https://scikit-learn.org/stable/model_persistence.html#security-maintainability-limitations\n",
      "  warnings.warn(\n",
      "/home/Florian.Borchert/miniconda3/envs/ggponc/lib/python3.10/site-packages/sklearn/base.py:376: InconsistentVersionWarning: Trying to unpickle estimator TfidfVectorizer from version 1.3.1 when using version 1.5.0. This might lead to breaking code or invalid results. Use at your own risk. For more info please refer to:\n",
      "https://scikit-learn.org/stable/model_persistence.html#security-maintainability-limitations\n",
      "  warnings.warn(\n",
      "/home/Florian.Borchert/miniconda3/envs/ggponc/lib/python3.10/site-packages/huggingface_hub/file_download.py:1132: FutureWarning: `resume_download` is deprecated and will be removed in version 1.0.0. Downloads always resume when possible. If you want to force a new download, use `force_download=True`.\n",
      "  warnings.warn(\n"
     ]
    },
    {
     "data": {
      "text/html": [
       "<pre style=\"white-space:pre;overflow-x:auto;line-height:normal;font-family:Menlo,'DejaVu Sans Mono',consolas,'Courier New',monospace\"><span style=\"color: #7fbfbf; text-decoration-color: #7fbfbf\">[05/23/24 14:38:15] </span><span style=\"color: #000080; text-decoration-color: #000080\">INFO    </span> Loading hierarchical faiss index                                <a href=\"file:///home/Florian.Borchert/miniconda3/envs/ggponc/lib/python3.10/site-packages/xmen/linkers/sap_bert_linker.py\" target=\"_blank\"><span style=\"color: #7f7f7f; text-decoration-color: #7f7f7f\">sap_bert_linker.py</span></a><span style=\"color: #7f7f7f; text-decoration-color: #7f7f7f\">:</span><a href=\"file:///home/Florian.Borchert/miniconda3/envs/ggponc/lib/python3.10/site-packages/xmen/linkers/sap_bert_linker.py#153\" target=\"_blank\"><span style=\"color: #7f7f7f; text-decoration-color: #7f7f7f\">153</span></a>\n",
       "</pre>\n"
      ],
      "text/plain": [
       "\u001b[2;36m[05/23/24 14:38:15]\u001b[0m\u001b[2;36m \u001b[0m\u001b[34mINFO    \u001b[0m Loading hierarchical faiss index                                \u001b]8;id=573462;file:///home/Florian.Borchert/miniconda3/envs/ggponc/lib/python3.10/site-packages/xmen/linkers/sap_bert_linker.py\u001b\\\u001b[2msap_bert_linker.py\u001b[0m\u001b]8;;\u001b\\\u001b[2m:\u001b[0m\u001b]8;id=670160;file:///home/Florian.Borchert/miniconda3/envs/ggponc/lib/python3.10/site-packages/xmen/linkers/sap_bert_linker.py#153\u001b\\\u001b[2m153\u001b[0m\u001b]8;;\u001b\\\n"
      ]
     },
     "metadata": {},
     "output_type": "display_data"
    },
    {
     "data": {
      "text/html": [
       "<pre style=\"white-space:pre;overflow-x:auto;line-height:normal;font-family:Menlo,'DejaVu Sans Mono',consolas,'Courier New',monospace\"><span style=\"color: #7fbfbf; text-decoration-color: #7fbfbf\">                    </span><span style=\"color: #000080; text-decoration-color: #000080\">INFO    </span> Loading index from                                                 <a href=\"file:///home/Florian.Borchert/miniconda3/envs/ggponc/lib/python3.10/site-packages/xmen/linkers/faiss_indexer.py\" target=\"_blank\"><span style=\"color: #7f7f7f; text-decoration-color: #7f7f7f\">faiss_indexer.py</span></a><span style=\"color: #7f7f7f; text-decoration-color: #7f7f7f\">:</span><a href=\"file:///home/Florian.Borchert/miniconda3/envs/ggponc/lib/python3.10/site-packages/xmen/linkers/faiss_indexer.py#64\" target=\"_blank\"><span style=\"color: #7f7f7f; text-decoration-color: #7f7f7f\">64</span></a>\n",
       "<span style=\"color: #7fbfbf; text-decoration-color: #7fbfbf\">                    </span>         <span style=\"color: #800080; text-decoration-color: #800080\">/home/Florian.Borchert/.cache/xmen/ggponc3/index/sapbert/</span><span style=\"color: #ff00ff; text-decoration-color: #ff00ff\">embed_fai</span> <span style=\"color: #7f7f7f; text-decoration-color: #7f7f7f\">                   </span>\n",
       "<span style=\"color: #7fbfbf; text-decoration-color: #7fbfbf\">                    </span>         <span style=\"color: #ff00ff; text-decoration-color: #ff00ff\">ss_hier.pickle</span>                                                     <span style=\"color: #7f7f7f; text-decoration-color: #7f7f7f\">                   </span>\n",
       "</pre>\n"
      ],
      "text/plain": [
       "\u001b[2;36m                   \u001b[0m\u001b[2;36m \u001b[0m\u001b[34mINFO    \u001b[0m Loading index from                                                 \u001b]8;id=249352;file:///home/Florian.Borchert/miniconda3/envs/ggponc/lib/python3.10/site-packages/xmen/linkers/faiss_indexer.py\u001b\\\u001b[2mfaiss_indexer.py\u001b[0m\u001b]8;;\u001b\\\u001b[2m:\u001b[0m\u001b]8;id=526101;file:///home/Florian.Borchert/miniconda3/envs/ggponc/lib/python3.10/site-packages/xmen/linkers/faiss_indexer.py#64\u001b\\\u001b[2m64\u001b[0m\u001b]8;;\u001b\\\n",
       "\u001b[2;36m                    \u001b[0m         \u001b[35m/home/Florian.Borchert/.cache/xmen/ggponc3/index/sapbert/\u001b[0m\u001b[95membed_fai\u001b[0m \u001b[2m                   \u001b[0m\n",
       "\u001b[2;36m                    \u001b[0m         \u001b[95mss_hier.pickle\u001b[0m                                                     \u001b[2m                   \u001b[0m\n"
      ]
     },
     "metadata": {},
     "output_type": "display_data"
    },
    {
     "data": {
      "text/html": [
       "<pre style=\"white-space:pre;overflow-x:auto;line-height:normal;font-family:Menlo,'DejaVu Sans Mono',consolas,'Courier New',monospace\"><span style=\"color: #7fbfbf; text-decoration-color: #7fbfbf\">[05/23/24 14:38:19] </span><span style=\"color: #000080; text-decoration-color: #000080\">INFO    </span> Loaded index of type <span style=\"font-weight: bold\">&lt;</span><span style=\"color: #ff00ff; text-decoration-color: #ff00ff; font-weight: bold\">class</span><span style=\"color: #000000; text-decoration-color: #000000\"> </span><span style=\"color: #008000; text-decoration-color: #008000\">'faiss.swigfaiss.IndexHNSWFlat'</span><span style=\"font-weight: bold\">&gt;</span> and   <a href=\"file:///home/Florian.Borchert/miniconda3/envs/ggponc/lib/python3.10/site-packages/xmen/linkers/faiss_indexer.py\" target=\"_blank\"><span style=\"color: #7f7f7f; text-decoration-color: #7f7f7f\">faiss_indexer.py</span></a><span style=\"color: #7f7f7f; text-decoration-color: #7f7f7f\">:</span><a href=\"file:///home/Florian.Borchert/miniconda3/envs/ggponc/lib/python3.10/site-packages/xmen/linkers/faiss_indexer.py#66\" target=\"_blank\"><span style=\"color: #7f7f7f; text-decoration-color: #7f7f7f\">66</span></a>\n",
       "<span style=\"color: #7fbfbf; text-decoration-color: #7fbfbf\">                    </span>         size <span style=\"color: #008080; text-decoration-color: #008080; font-weight: bold\">2465719</span>                                                       <span style=\"color: #7f7f7f; text-decoration-color: #7f7f7f\">                   </span>\n",
       "</pre>\n"
      ],
      "text/plain": [
       "\u001b[2;36m[05/23/24 14:38:19]\u001b[0m\u001b[2;36m \u001b[0m\u001b[34mINFO    \u001b[0m Loaded index of type \u001b[1m<\u001b[0m\u001b[1;95mclass\u001b[0m\u001b[39m \u001b[0m\u001b[32m'faiss.swigfaiss.IndexHNSWFlat'\u001b[0m\u001b[1m>\u001b[0m and   \u001b]8;id=131471;file:///home/Florian.Borchert/miniconda3/envs/ggponc/lib/python3.10/site-packages/xmen/linkers/faiss_indexer.py\u001b\\\u001b[2mfaiss_indexer.py\u001b[0m\u001b]8;;\u001b\\\u001b[2m:\u001b[0m\u001b]8;id=651185;file:///home/Florian.Borchert/miniconda3/envs/ggponc/lib/python3.10/site-packages/xmen/linkers/faiss_indexer.py#66\u001b\\\u001b[2m66\u001b[0m\u001b]8;;\u001b\\\n",
       "\u001b[2;36m                    \u001b[0m         size \u001b[1;36m2465719\u001b[0m                                                       \u001b[2m                   \u001b[0m\n"
      ]
     },
     "metadata": {},
     "output_type": "display_data"
    },
    {
     "name": "stderr",
     "output_type": "stream",
     "text": [
      "/home/Florian.Borchert/miniconda3/envs/ggponc/lib/python3.10/site-packages/huggingface_hub/file_download.py:1132: FutureWarning: `resume_download` is deprecated and will be removed in version 1.0.0. Downloads always resume when possible. If you want to force a new download, use `force_download=True`.\n",
      "  warnings.warn(\n"
     ]
    }
   ],
   "source": [
    "from ggponc import EntityLinker\n",
    "linker = EntityLinker(**conf.linker.ranking, candidate_generation_kwargs=conf.linker.candidate_generation)"
   ]
  },
  {
   "cell_type": "code",
   "execution_count": 11,
   "id": "a9bbfda6-a097-479e-b19d-cb511788ec2e",
   "metadata": {
    "scrolled": true,
    "tags": []
   },
   "outputs": [
    {
     "data": {
      "application/vnd.jupyter.widget-view+json": {
       "model_id": "8129cfba1265420e82f8d9da7eafa651",
       "version_major": 2,
       "version_minor": 0
      },
      "text/plain": [
       "Map:   0%|          | 0/374 [00:00<?, ? examples/s]"
      ]
     },
     "metadata": {},
     "output_type": "display_data"
    },
    {
     "name": "stderr",
     "output_type": "stream",
     "text": [
      "/home/Florian.Borchert/miniconda3/envs/ggponc/lib/python3.10/site-packages/scispacy/abbreviation.py:248: UserWarning: [W036] The component 'matcher' does not have any patterns defined.\n",
      "  global_matches = self.global_matcher(doc)\n"
     ]
    },
    {
     "data": {
      "application/vnd.jupyter.widget-view+json": {
       "model_id": "55e16df3d2e94d8db15c557ee4e3d69a",
       "version_major": 2,
       "version_minor": 0
      },
      "text/plain": [
       "Map:   0%|          | 0/374 [00:00<?, ? examples/s]"
      ]
     },
     "metadata": {},
     "output_type": "display_data"
    },
    {
     "data": {
      "application/vnd.jupyter.widget-view+json": {
       "model_id": "4797c6f2f73641fdbb284586bd4e5975",
       "version_major": 2,
       "version_minor": 0
      },
      "text/plain": [
       "Map:   0%|          | 0/374 [00:00<?, ? examples/s]"
      ]
     },
     "metadata": {},
     "output_type": "display_data"
    },
    {
     "data": {
      "application/vnd.jupyter.widget-view+json": {
       "model_id": "7bbc37e6282847db8fcdee1f1f30dc9a",
       "version_major": 2,
       "version_minor": 0
      },
      "text/plain": [
       "Map:   0%|          | 0/374 [00:00<?, ? examples/s]"
      ]
     },
     "metadata": {},
     "output_type": "display_data"
    },
    {
     "name": "stdout",
     "output_type": "stream",
     "text": [
      "Context length: 128\n",
      "Use NIL values: False\n"
     ]
    },
    {
     "data": {
      "application/vnd.jupyter.widget-view+json": {
       "model_id": "0d1c77a08b7a46ab87a2f527aa2c20cf",
       "version_major": 2,
       "version_minor": 0
      },
      "text/plain": [
       "  0%|          | 0/1179 [00:00<?, ?it/s]"
      ]
     },
     "metadata": {},
     "output_type": "display_data"
    },
    {
     "data": {
      "application/vnd.jupyter.widget-view+json": {
       "model_id": "0e0e6d2a265c4a0d932e2468f938813a",
       "version_major": 2,
       "version_minor": 0
      },
      "text/plain": [
       "  0%|          | 0/1179 [00:00<?, ?it/s]"
      ]
     },
     "metadata": {},
     "output_type": "display_data"
    },
    {
     "data": {
      "application/vnd.jupyter.widget-view+json": {
       "model_id": "fe0d981721294561992e88f6a9893c29",
       "version_major": 2,
       "version_minor": 0
      },
      "text/plain": [
       "  0%|          | 0/1179 [00:00<?, ?it/s]"
      ]
     },
     "metadata": {},
     "output_type": "display_data"
    },
    {
     "data": {
      "application/vnd.jupyter.widget-view+json": {
       "model_id": "8fe1e62badb44b0d8aae356fff513a58",
       "version_major": 2,
       "version_minor": 0
      },
      "text/plain": [
       "Batches:   0%|          | 0/1179 [00:00<?, ?it/s]"
      ]
     },
     "metadata": {},
     "output_type": "display_data"
    },
    {
     "data": {
      "application/vnd.jupyter.widget-view+json": {
       "model_id": "6f7aee798fac4af3b289c1c2c1fabe65",
       "version_major": 2,
       "version_minor": 0
      },
      "text/plain": [
       "Map:   0%|          | 0/374 [00:00<?, ? examples/s]"
      ]
     },
     "metadata": {},
     "output_type": "display_data"
    },
    {
     "data": {
      "application/vnd.jupyter.widget-view+json": {
       "model_id": "f393873dc6f64626b7fc9cc000f66b7f",
       "version_major": 2,
       "version_minor": 0
      },
      "text/plain": [
       "Map:   0%|          | 0/374 [00:00<?, ? examples/s]"
      ]
     },
     "metadata": {},
     "output_type": "display_data"
    },
    {
     "data": {
      "application/vnd.jupyter.widget-view+json": {
       "model_id": "fc61fb13826a4f2495e015f5a19af1fc",
       "version_major": 2,
       "version_minor": 0
      },
      "text/plain": [
       "Map:   0%|          | 0/374 [00:00<?, ? examples/s]"
      ]
     },
     "metadata": {},
     "output_type": "display_data"
    },
    {
     "name": "stderr",
     "output_type": "stream",
     "text": [
      "/home/Florian.Borchert/miniconda3/envs/ggponc/lib/python3.10/site-packages/scispacy/abbreviation.py:248: UserWarning: [W036] The component 'matcher' does not have any patterns defined.\n",
      "  global_matches = self.global_matcher(doc)\n"
     ]
    },
    {
     "data": {
      "application/vnd.jupyter.widget-view+json": {
       "model_id": "16fba343a99e4bf1beaf4d17245e29a6",
       "version_major": 2,
       "version_minor": 0
      },
      "text/plain": [
       "Map:   0%|          | 0/374 [00:00<?, ? examples/s]"
      ]
     },
     "metadata": {},
     "output_type": "display_data"
    },
    {
     "data": {
      "application/vnd.jupyter.widget-view+json": {
       "model_id": "ceab70681ac144eb9579ba8dc30978b3",
       "version_major": 2,
       "version_minor": 0
      },
      "text/plain": [
       "Map:   0%|          | 0/374 [00:00<?, ? examples/s]"
      ]
     },
     "metadata": {},
     "output_type": "display_data"
    },
    {
     "name": "stdout",
     "output_type": "stream",
     "text": [
      "Context length: 128\n",
      "Use NIL values: False\n"
     ]
    },
    {
     "data": {
      "application/vnd.jupyter.widget-view+json": {
       "model_id": "8bb8ebc59276406f86074809bd3c3191",
       "version_major": 2,
       "version_minor": 0
      },
      "text/plain": [
       "  0%|          | 0/1179 [00:00<?, ?it/s]"
      ]
     },
     "metadata": {},
     "output_type": "display_data"
    },
    {
     "data": {
      "application/vnd.jupyter.widget-view+json": {
       "model_id": "5e437efed3fa44afb3165fc2681d332c",
       "version_major": 2,
       "version_minor": 0
      },
      "text/plain": [
       "  0%|          | 0/1179 [00:00<?, ?it/s]"
      ]
     },
     "metadata": {},
     "output_type": "display_data"
    },
    {
     "data": {
      "application/vnd.jupyter.widget-view+json": {
       "model_id": "67a5c3403dcf44dbba02d2dec0fee60e",
       "version_major": 2,
       "version_minor": 0
      },
      "text/plain": [
       "  0%|          | 0/1179 [00:00<?, ?it/s]"
      ]
     },
     "metadata": {},
     "output_type": "display_data"
    },
    {
     "data": {
      "application/vnd.jupyter.widget-view+json": {
       "model_id": "50cf80739e4545a3bf0af7b9dd5c5774",
       "version_major": 2,
       "version_minor": 0
      },
      "text/plain": [
       "Batches:   0%|          | 0/1179 [00:00<?, ?it/s]"
      ]
     },
     "metadata": {},
     "output_type": "display_data"
    },
    {
     "data": {
      "application/vnd.jupyter.widget-view+json": {
       "model_id": "c6b29e14b654482ea4ee7f43d2c5ff4a",
       "version_major": 2,
       "version_minor": 0
      },
      "text/plain": [
       "Map:   0%|          | 0/374 [00:00<?, ? examples/s]"
      ]
     },
     "metadata": {},
     "output_type": "display_data"
    },
    {
     "data": {
      "application/vnd.jupyter.widget-view+json": {
       "model_id": "2e088ad0d540409e9798e9195be9e54d",
       "version_major": 2,
       "version_minor": 0
      },
      "text/plain": [
       "Map:   0%|          | 0/374 [00:00<?, ? examples/s]"
      ]
     },
     "metadata": {},
     "output_type": "display_data"
    },
    {
     "data": {
      "application/vnd.jupyter.widget-view+json": {
       "model_id": "9763fa8780854011b592a5c9647fd00a",
       "version_major": 2,
       "version_minor": 0
      },
      "text/plain": [
       "Map:   0%|          | 0/374 [00:00<?, ? examples/s]"
      ]
     },
     "metadata": {},
     "output_type": "display_data"
    },
    {
     "name": "stderr",
     "output_type": "stream",
     "text": [
      "/home/Florian.Borchert/miniconda3/envs/ggponc/lib/python3.10/site-packages/scispacy/abbreviation.py:248: UserWarning: [W036] The component 'matcher' does not have any patterns defined.\n",
      "  global_matches = self.global_matcher(doc)\n"
     ]
    },
    {
     "data": {
      "application/vnd.jupyter.widget-view+json": {
       "model_id": "614cc14924324ead8477286e630369c5",
       "version_major": 2,
       "version_minor": 0
      },
      "text/plain": [
       "Map:   0%|          | 0/374 [00:00<?, ? examples/s]"
      ]
     },
     "metadata": {},
     "output_type": "display_data"
    },
    {
     "data": {
      "application/vnd.jupyter.widget-view+json": {
       "model_id": "d362eb788d33451c98947fa5c525c2b5",
       "version_major": 2,
       "version_minor": 0
      },
      "text/plain": [
       "Map:   0%|          | 0/374 [00:00<?, ? examples/s]"
      ]
     },
     "metadata": {},
     "output_type": "display_data"
    },
    {
     "data": {
      "application/vnd.jupyter.widget-view+json": {
       "model_id": "07b9d002dcef4ee88051e91a51609a29",
       "version_major": 2,
       "version_minor": 0
      },
      "text/plain": [
       "Map:   0%|          | 0/374 [00:00<?, ? examples/s]"
      ]
     },
     "metadata": {},
     "output_type": "display_data"
    },
    {
     "name": "stdout",
     "output_type": "stream",
     "text": [
      "Context length: 128\n",
      "Use NIL values: False\n"
     ]
    },
    {
     "data": {
      "application/vnd.jupyter.widget-view+json": {
       "model_id": "80d671a701274522937e1431fcd8e91b",
       "version_major": 2,
       "version_minor": 0
      },
      "text/plain": [
       "  0%|          | 0/1177 [00:00<?, ?it/s]"
      ]
     },
     "metadata": {},
     "output_type": "display_data"
    },
    {
     "data": {
      "application/vnd.jupyter.widget-view+json": {
       "model_id": "b199eb3cfcdf491b8792b6afaa98690a",
       "version_major": 2,
       "version_minor": 0
      },
      "text/plain": [
       "  0%|          | 0/1177 [00:00<?, ?it/s]"
      ]
     },
     "metadata": {},
     "output_type": "display_data"
    },
    {
     "data": {
      "application/vnd.jupyter.widget-view+json": {
       "model_id": "ee230eac974447b4be77e7f6ff5a4fff",
       "version_major": 2,
       "version_minor": 0
      },
      "text/plain": [
       "  0%|          | 0/1177 [00:00<?, ?it/s]"
      ]
     },
     "metadata": {},
     "output_type": "display_data"
    },
    {
     "data": {
      "application/vnd.jupyter.widget-view+json": {
       "model_id": "cf83ab2738774a5c98f6b4ae998410fe",
       "version_major": 2,
       "version_minor": 0
      },
      "text/plain": [
       "Batches:   0%|          | 0/1177 [00:00<?, ?it/s]"
      ]
     },
     "metadata": {},
     "output_type": "display_data"
    },
    {
     "data": {
      "application/vnd.jupyter.widget-view+json": {
       "model_id": "87dd425999dd402991a4402c8b8edb4a",
       "version_major": 2,
       "version_minor": 0
      },
      "text/plain": [
       "Map:   0%|          | 0/374 [00:00<?, ? examples/s]"
      ]
     },
     "metadata": {},
     "output_type": "display_data"
    },
    {
     "data": {
      "application/vnd.jupyter.widget-view+json": {
       "model_id": "70850cf4055449eca3caf3caf00ffcfd",
       "version_major": 2,
       "version_minor": 0
      },
      "text/plain": [
       "Map:   0%|          | 0/374 [00:00<?, ? examples/s]"
      ]
     },
     "metadata": {},
     "output_type": "display_data"
    },
    {
     "data": {
      "application/vnd.jupyter.widget-view+json": {
       "model_id": "06fd028c8de045ec8cb16e206f7548e3",
       "version_major": 2,
       "version_minor": 0
      },
      "text/plain": [
       "Map:   0%|          | 0/374 [00:00<?, ? examples/s]"
      ]
     },
     "metadata": {},
     "output_type": "display_data"
    },
    {
     "name": "stderr",
     "output_type": "stream",
     "text": [
      "/home/Florian.Borchert/miniconda3/envs/ggponc/lib/python3.10/site-packages/scispacy/abbreviation.py:248: UserWarning: [W036] The component 'matcher' does not have any patterns defined.\n",
      "  global_matches = self.global_matcher(doc)\n"
     ]
    },
    {
     "data": {
      "application/vnd.jupyter.widget-view+json": {
       "model_id": "7f5b05b1687e49abaf2b0e7d6130606d",
       "version_major": 2,
       "version_minor": 0
      },
      "text/plain": [
       "Map:   0%|          | 0/374 [00:00<?, ? examples/s]"
      ]
     },
     "metadata": {},
     "output_type": "display_data"
    },
    {
     "data": {
      "application/vnd.jupyter.widget-view+json": {
       "model_id": "20ce5c23e94d4f668645085cb4ddfa6c",
       "version_major": 2,
       "version_minor": 0
      },
      "text/plain": [
       "Map:   0%|          | 0/374 [00:00<?, ? examples/s]"
      ]
     },
     "metadata": {},
     "output_type": "display_data"
    },
    {
     "name": "stdout",
     "output_type": "stream",
     "text": [
      "Context length: 128\n",
      "Use NIL values: False\n"
     ]
    },
    {
     "data": {
      "application/vnd.jupyter.widget-view+json": {
       "model_id": "8b33e2a972d4494ab892d4e38184751e",
       "version_major": 2,
       "version_minor": 0
      },
      "text/plain": [
       "  0%|          | 0/1177 [00:00<?, ?it/s]"
      ]
     },
     "metadata": {},
     "output_type": "display_data"
    },
    {
     "data": {
      "application/vnd.jupyter.widget-view+json": {
       "model_id": "3ef118208f8e441b935f6b26f4628678",
       "version_major": 2,
       "version_minor": 0
      },
      "text/plain": [
       "  0%|          | 0/1177 [00:00<?, ?it/s]"
      ]
     },
     "metadata": {},
     "output_type": "display_data"
    },
    {
     "data": {
      "application/vnd.jupyter.widget-view+json": {
       "model_id": "2bb34820dc5e4605b131fb17ac62d932",
       "version_major": 2,
       "version_minor": 0
      },
      "text/plain": [
       "  0%|          | 0/1177 [00:00<?, ?it/s]"
      ]
     },
     "metadata": {},
     "output_type": "display_data"
    },
    {
     "data": {
      "application/vnd.jupyter.widget-view+json": {
       "model_id": "7de1608a165e474da24e0681946eab2e",
       "version_major": 2,
       "version_minor": 0
      },
      "text/plain": [
       "Batches:   0%|          | 0/1177 [00:00<?, ?it/s]"
      ]
     },
     "metadata": {},
     "output_type": "display_data"
    },
    {
     "data": {
      "application/vnd.jupyter.widget-view+json": {
       "model_id": "1ad5ab66eb85421585a3419d262b88b1",
       "version_major": 2,
       "version_minor": 0
      },
      "text/plain": [
       "Map:   0%|          | 0/374 [00:00<?, ? examples/s]"
      ]
     },
     "metadata": {},
     "output_type": "display_data"
    },
    {
     "data": {
      "application/vnd.jupyter.widget-view+json": {
       "model_id": "30f49c8aba094b3e83a89906054abe35",
       "version_major": 2,
       "version_minor": 0
      },
      "text/plain": [
       "Map:   0%|          | 0/374 [00:00<?, ? examples/s]"
      ]
     },
     "metadata": {},
     "output_type": "display_data"
    }
   ],
   "source": [
    "linking_results = {}\n",
    "linking_results['before_eccnp'] = linker.transform(ds_ner_before, silent=True)\n",
    "linking_results['before_eccnp_no_semtype'] = linker.transform(ds_ner_before, ['abbrv', 'candidates', 'reranking'], silent=True)\n",
    "linking_results['after_eccnp'] = linker.transform(ds_ner_after, silent=True)\n",
    "linking_results['after_eccnp_no_semtype'] = linker.transform(ds_ner_after, ['abbrv', 'candidates', 'reranking'], silent=True)"
   ]
  },
  {
   "cell_type": "code",
   "execution_count": 12,
   "id": "3340d144-944c-4d80-82df-8c62e4ac4960",
   "metadata": {
    "tags": []
   },
   "outputs": [],
   "source": [
    "from nb_util import show_diff_single\n",
    "from IPython.display import display\n",
    "from nen_util import get_annotation_dataframe\n",
    "from xmen.data import Sampler\n",
    "\n",
    "def get_ent_texts(d):\n",
    "    return [e['text'] for e in d['entities']]"
   ]
  },
  {
   "cell_type": "markdown",
   "id": "130de8aa-3632-4845-bd51-a7c3b7f5eb6f",
   "metadata": {},
   "source": [
    "# Impact of Semantic Type Filter"
   ]
  },
  {
   "cell_type": "code",
   "execution_count": null,
   "id": "7e7ed804-26c1-4471-9cf3-616153f55a8e",
   "metadata": {
    "scrolled": true,
    "tags": []
   },
   "outputs": [],
   "source": [
    "res_sem = linking_results['before_eccnp']['reranked']\n",
    "res_no_sem = linking_results['before_eccnp_no_semtype']['reranked']\n",
    "\n",
    "assert len(res_sem) == len(res_no_sem)\n",
    "#s = Sampler(42, 10)\n",
    "#l, r = s.transform_batch(res_sem, res_no_sem)\n",
    "\n",
    "diff_sem = 0\n",
    "\n",
    "for d_b, d_a in zip(res_no_sem, res_sem):\n",
    "    t_a = d_a['passages'][0]['text'][0]\n",
    "    df1 = get_annotation_dataframe([d_b], linker.kb, 1, 0.0)\n",
    "    df2 = get_annotation_dataframe([d_a], linker.kb, 1, 0.0)\n",
    "    if len(df1) == 0:\n",
    "        continue\n",
    "    mask = df1.canonical != df2.canonical\n",
    "    if mask.any():\n",
    "        print(t_a + '\\n')\n",
    "        #show_diff_single(t_b, t_a)\n",
    "        print('No Filter:')\n",
    "        display(df1[mask])\n",
    "        print('Filter:')\n",
    "        display(df2[mask])\n",
    "        diff_sem += 1\n",
    "        print('####')"
   ]
  },
  {
   "cell_type": "code",
   "execution_count": null,
   "id": "81a10ff2-065d-4472-b1b5-2c99f25147af",
   "metadata": {
    "tags": []
   },
   "outputs": [],
   "source": [
    "diff_sem / len(res_no_sem)"
   ]
  },
  {
   "cell_type": "markdown",
   "id": "c1eca9dc-1154-4f25-8c44-97916db355dc",
   "metadata": {},
   "source": [
    "# Impact of ECCNPs"
   ]
  },
  {
   "cell_type": "code",
   "execution_count": null,
   "id": "e02979b7-f39d-461e-8f7f-fea5177d5777",
   "metadata": {
    "tags": []
   },
   "outputs": [],
   "source": [
    "res_before = linking_results['before_eccnp']['reranked']\n",
    "res_after = linking_results['after_eccnp']['reranked']\n",
    "\n",
    "assert len(res_sem) == len(res_no_sem)\n",
    "\n",
    "diff_text = 0\n",
    "diff_ents = 0\n",
    "for d_b, d_a in zip(res_before, res_after):\n",
    "    if d_b['passages'] != d_a['passages']: \n",
    "        diff_text += 1\n",
    "        if get_ent_texts(d_b) != get_ent_texts(d_a):\n",
    "            diff_ents += 1\n",
    "            t_a = d_a['passages'][0]['text'][0]\n",
    "            t_b = d_b['passages'][0]['text'][0]\n",
    "            print('Difference', diff_ents)\n",
    "            show_diff_single(t_b, t_a)\n",
    "            display(get_annotation_dataframe([d_b], linker.kb, 1, 0.0))\n",
    "            display(get_annotation_dataframe([d_a], linker.kb, 1, 0.0))"
   ]
  },
  {
   "cell_type": "markdown",
   "id": "f1a01a1c-f99c-4fb5-82d6-1e567e3fc170",
   "metadata": {
    "tags": []
   },
   "source": [
    "# Examples"
   ]
  },
  {
   "cell_type": "code",
   "execution_count": null,
   "id": "73fad2e8-6ea0-4138-b9ac-a4e84175012b",
   "metadata": {
    "tags": []
   },
   "outputs": [],
   "source": [
    "df_analysis = get_annotation_dataframe(res_after, linker.kb, 3, 0.0, show_progress=False)"
   ]
  },
  {
   "cell_type": "code",
   "execution_count": null,
   "id": "c316bf57-9cb3-4e0d-a52a-09afd2a1047b",
   "metadata": {
    "tags": []
   },
   "outputs": [],
   "source": [
    "german_umls = load_kb(Path(conf.cache_dir) / 'german_umls' / 'german_umls.jsonl')"
   ]
  },
  {
   "cell_type": "code",
   "execution_count": null,
   "id": "9e07b360-d635-4941-94ff-e72bedac2d43",
   "metadata": {
    "tags": []
   },
   "outputs": [],
   "source": [
    "def get_example(i):\n",
    "    doc = df_analysis.loc[i].document\n",
    "    d = res_after.filter(lambda d: d['document_id'] == doc)[0]\n",
    "    print(d['passages'])"
   ]
  },
  {
   "cell_type": "markdown",
   "id": "69b163ed-5bfc-473b-8e48-098df7ba4216",
   "metadata": {
    "tags": []
   },
   "source": [
    "### Language Mismatch"
   ]
  },
  {
   "cell_type": "code",
   "execution_count": null,
   "id": "09da1acc-fe45-49eb-91c9-e398de41c810",
   "metadata": {},
   "outputs": [],
   "source": [
    "df_analysis[df_analysis.cui.map(lambda c: not c in german_umls.cui_to_entity)].sort_values('confidence', ascending=False)[0:20]"
   ]
  },
  {
   "cell_type": "code",
   "execution_count": null,
   "id": "38afc8b8-7084-477f-bef2-439f1b422a71",
   "metadata": {
    "tags": []
   },
   "outputs": [],
   "source": [
    "get_example(1404)"
   ]
  },
  {
   "cell_type": "markdown",
   "id": "2223faa4-76f5-4b3c-a9b5-5b6102c9ee81",
   "metadata": {},
   "source": [
    "### Complex Entities"
   ]
  },
  {
   "cell_type": "code",
   "execution_count": null,
   "id": "7c7ffc62-82ea-49f8-882e-8690560e7d65",
   "metadata": {
    "tags": []
   },
   "outputs": [],
   "source": [
    "df_analysis[df_analysis.text.map(lambda s: len(s.split(' ')) > 5) & (df_analysis.type == 'Clinical_Drug')].sort_values('confidence', ascending=False)[0:20]"
   ]
  },
  {
   "cell_type": "code",
   "execution_count": null,
   "id": "37077826-9fab-4d2e-bbff-5a8f0854ddbb",
   "metadata": {
    "tags": []
   },
   "outputs": [],
   "source": [
    "get_example(1590)"
   ]
  },
  {
   "cell_type": "markdown",
   "id": "a3061119-c850-4a1e-b37a-e9b4b6686573",
   "metadata": {},
   "source": [
    "### Amibiguity"
   ]
  },
  {
   "cell_type": "code",
   "execution_count": null,
   "id": "dd35604c-a8c1-4123-b05b-ef3617870d90",
   "metadata": {
    "scrolled": true,
    "tags": []
   },
   "outputs": [],
   "source": [
    "linker.candidate_generator.predict_no_context(['M. Paget'])"
   ]
  },
  {
   "cell_type": "code",
   "execution_count": null,
   "id": "674548a8-c76a-412e-bfc0-239f0e717e4f",
   "metadata": {},
   "outputs": [],
   "source": []
  }
 ],
 "metadata": {
  "kernelspec": {
   "name": "conda-env-ggponc-py"
  },
  "language_info": {
   "codemirror_mode": {
    "name": "ipython",
    "version": 3
   },
   "file_extension": ".py",
   "mimetype": "text/x-python",
   "name": "python",
   "nbconvert_exporter": "python",
   "pygments_lexer": "ipython3",
   "version": "3.9.0"
  }
 },
 "nbformat": 4,
 "nbformat_minor": 5
}
