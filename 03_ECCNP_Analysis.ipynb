{
 "cells": [
  {
   "cell_type": "code",
   "execution_count": 1,
   "id": "d38bfb4c-1586-4ae7-98cb-bf2ca7ffa15b",
   "metadata": {
    "tags": []
   },
   "outputs": [],
   "source": [
    "from xmen import load_config, load_kb\n",
    "from xmen.data import from_spacy\n",
    "\n",
    "conf = load_config('xmen_ggponc3.yaml')\n",
    "folder = 'agreement'"
   ]
  },
  {
   "cell_type": "code",
   "execution_count": 2,
   "id": "b265c2a8-4288-43a4-a78b-9f10f73c9e6d",
   "metadata": {
    "tags": []
   },
   "outputs": [
    {
     "name": "stderr",
     "output_type": "stream",
     "text": [
      "Your CPU supports instructions that this binary was not compiled to use: SSE3 SSE4.1 SSE4.2 AVX AVX2\n",
      "For maximum performance, you can install NMSLIB from sources \n",
      "pip install --no-binary :all: nmslib\n"
     ]
    },
    {
     "data": {
      "application/vnd.jupyter.widget-view+json": {
       "model_id": "c1d39b1b72ae4691beb23013b7830f0b",
       "version_major": 2,
       "version_minor": 0
      },
      "text/plain": [
       "  0%|          | 0/14 [00:00<?, ?it/s]"
      ]
     },
     "metadata": {},
     "output_type": "display_data"
    }
   ],
   "source": [
    "from ggponc import *\n",
    "\n",
    "sent_df = read_sentences(folder)"
   ]
  },
  {
   "cell_type": "code",
   "execution_count": 3,
   "id": "1b1298e5-5963-4afa-8ff2-efdf27580bbb",
   "metadata": {
    "tags": []
   },
   "outputs": [
    {
     "name": "stderr",
     "output_type": "stream",
     "text": [
      "/home/Florian.Borchert/miniconda3/envs/ggponc/lib/python3.9/site-packages/transformers/convert_slow_tokenizer.py:446: UserWarning: The sentencepiece tokenizer that you are converting to a fast tokenizer uses the byte fallback option which is not implemented in the fast tokenizers. In practice this means that the fast version of the tokenizer can produce unknown tokens whereas the sentencepiece version would have converted these unknown tokens into a sequence of byte tokens matching the original piece of text.\n",
      "  warnings.warn(\n"
     ]
    }
   ],
   "source": [
    "resolver = ECCNPResolver(**conf.eccnp)"
   ]
  },
  {
   "cell_type": "code",
   "execution_count": 4,
   "id": "ffefead0-a5a9-4eda-9902-1f32424ea979",
   "metadata": {
    "tags": []
   },
   "outputs": [
    {
     "data": {
      "application/vnd.jupyter.widget-view+json": {
       "model_id": "f74a12cd94aa482bbcbb831eb12a9019",
       "version_major": 2,
       "version_minor": 0
      },
      "text/plain": [
       "  0%|          | 0/374 [00:00<?, ?it/s]"
      ]
     },
     "metadata": {},
     "output_type": "display_data"
    }
   ],
   "source": [
    "sent_df = resolver.set_df(sent_df)"
   ]
  },
  {
   "cell_type": "code",
   "execution_count": 5,
   "id": "f888ba14-e5f8-4f95-8eb4-abdd8e057bd5",
   "metadata": {
    "tags": []
   },
   "outputs": [],
   "source": [
    "ner = NERTagger()"
   ]
  },
  {
   "cell_type": "code",
   "execution_count": 6,
   "id": "d7dfbe74-f8ba-4509-949f-547563c15d36",
   "metadata": {
    "tags": []
   },
   "outputs": [
    {
     "data": {
      "application/vnd.jupyter.widget-view+json": {
       "model_id": "a91bd558cdab4176b554aa8f7fa30dec",
       "version_major": 2,
       "version_minor": 0
      },
      "text/plain": [
       "  0%|          | 0/374 [00:00<?, ?it/s]"
      ]
     },
     "metadata": {},
     "output_type": "display_data"
    }
   ],
   "source": [
    "ner_df_before = ner.set_df(sent_df, sent_col='sentence')\n",
    "ds_ner_before = from_spacy(ner_df_before.spacy_ner, span_key='entities', doc_id_key='file_name')"
   ]
  },
  {
   "cell_type": "code",
   "execution_count": 7,
   "id": "3d35e3dc-3ccf-4dd8-ae7c-860eb862509e",
   "metadata": {
    "tags": []
   },
   "outputs": [
    {
     "data": {
      "application/vnd.jupyter.widget-view+json": {
       "model_id": "6410ef10fca645879b6c800cb2d54947",
       "version_major": 2,
       "version_minor": 0
      },
      "text/plain": [
       "  0%|          | 0/374 [00:00<?, ?it/s]"
      ]
     },
     "metadata": {},
     "output_type": "display_data"
    }
   ],
   "source": [
    "ner_df_after = ner.set_df(sent_df)\n",
    "ds_ner_after = from_spacy(ner_df_after.spacy_ner, span_key='entities', doc_id_key='file_name')"
   ]
  },
  {
   "cell_type": "code",
   "execution_count": 8,
   "id": "a2c821d8-2545-4410-987e-668d47c151ba",
   "metadata": {
    "tags": []
   },
   "outputs": [
    {
     "name": "stderr",
     "output_type": "stream",
     "text": [
      "/home/Florian.Borchert/miniconda3/envs/ggponc/lib/python3.9/site-packages/sklearn/base.py:348: InconsistentVersionWarning: Trying to unpickle estimator TfidfTransformer from version 1.3.1 when using version 1.3.2. This might lead to breaking code or invalid results. Use at your own risk. For more info please refer to:\n",
      "https://scikit-learn.org/stable/model_persistence.html#security-maintainability-limitations\n",
      "  warnings.warn(\n",
      "/home/Florian.Borchert/miniconda3/envs/ggponc/lib/python3.9/site-packages/sklearn/base.py:348: InconsistentVersionWarning: Trying to unpickle estimator TfidfVectorizer from version 1.3.1 when using version 1.3.2. This might lead to breaking code or invalid results. Use at your own risk. For more info please refer to:\n",
      "https://scikit-learn.org/stable/model_persistence.html#security-maintainability-limitations\n",
      "  warnings.warn(\n"
     ]
    },
    {
     "data": {
      "text/html": [
       "<pre style=\"white-space:pre;overflow-x:auto;line-height:normal;font-family:Menlo,'DejaVu Sans Mono',consolas,'Courier New',monospace\"><span style=\"color: #7fbfbf; text-decoration-color: #7fbfbf\">[03/22/24 13:14:10] </span><span style=\"color: #000080; text-decoration-color: #000080\">INFO    </span> Loading hierarchical faiss index                                <a href=\"file:///mnt/nfs/home/Florian.Borchert/workspace/xmen/xmen/linkers/sap_bert_linker.py\" target=\"_blank\"><span style=\"color: #7f7f7f; text-decoration-color: #7f7f7f\">sap_bert_linker.py</span></a><span style=\"color: #7f7f7f; text-decoration-color: #7f7f7f\">:</span><a href=\"file:///mnt/nfs/home/Florian.Borchert/workspace/xmen/xmen/linkers/sap_bert_linker.py#153\" target=\"_blank\"><span style=\"color: #7f7f7f; text-decoration-color: #7f7f7f\">153</span></a>\n",
       "</pre>\n"
      ],
      "text/plain": [
       "\u001b[2;36m[03/22/24 13:14:10]\u001b[0m\u001b[2;36m \u001b[0m\u001b[34mINFO    \u001b[0m Loading hierarchical faiss index                                \u001b]8;id=251265;file:///mnt/nfs/home/Florian.Borchert/workspace/xmen/xmen/linkers/sap_bert_linker.py\u001b\\\u001b[2msap_bert_linker.py\u001b[0m\u001b]8;;\u001b\\\u001b[2m:\u001b[0m\u001b]8;id=765780;file:///mnt/nfs/home/Florian.Borchert/workspace/xmen/xmen/linkers/sap_bert_linker.py#153\u001b\\\u001b[2m153\u001b[0m\u001b]8;;\u001b\\\n"
      ]
     },
     "metadata": {},
     "output_type": "display_data"
    },
    {
     "data": {
      "text/html": [
       "<pre style=\"white-space:pre;overflow-x:auto;line-height:normal;font-family:Menlo,'DejaVu Sans Mono',consolas,'Courier New',monospace\"><span style=\"color: #7fbfbf; text-decoration-color: #7fbfbf\">                    </span><span style=\"color: #000080; text-decoration-color: #000080\">INFO    </span> Loading index from                                                 <a href=\"file:///mnt/nfs/home/Florian.Borchert/workspace/xmen/xmen/linkers/faiss_indexer.py\" target=\"_blank\"><span style=\"color: #7f7f7f; text-decoration-color: #7f7f7f\">faiss_indexer.py</span></a><span style=\"color: #7f7f7f; text-decoration-color: #7f7f7f\">:</span><a href=\"file:///mnt/nfs/home/Florian.Borchert/workspace/xmen/xmen/linkers/faiss_indexer.py#64\" target=\"_blank\"><span style=\"color: #7f7f7f; text-decoration-color: #7f7f7f\">64</span></a>\n",
       "<span style=\"color: #7fbfbf; text-decoration-color: #7fbfbf\">                    </span>         <span style=\"color: #800080; text-decoration-color: #800080\">/home/Florian.Borchert/.cache/xmen/ggponc3/index/sapbert/</span><span style=\"color: #ff00ff; text-decoration-color: #ff00ff\">embed_fai</span> <span style=\"color: #7f7f7f; text-decoration-color: #7f7f7f\">                   </span>\n",
       "<span style=\"color: #7fbfbf; text-decoration-color: #7fbfbf\">                    </span>         <span style=\"color: #ff00ff; text-decoration-color: #ff00ff\">ss_hier.pickle</span>                                                     <span style=\"color: #7f7f7f; text-decoration-color: #7f7f7f\">                   </span>\n",
       "</pre>\n"
      ],
      "text/plain": [
       "\u001b[2;36m                   \u001b[0m\u001b[2;36m \u001b[0m\u001b[34mINFO    \u001b[0m Loading index from                                                 \u001b]8;id=910346;file:///mnt/nfs/home/Florian.Borchert/workspace/xmen/xmen/linkers/faiss_indexer.py\u001b\\\u001b[2mfaiss_indexer.py\u001b[0m\u001b]8;;\u001b\\\u001b[2m:\u001b[0m\u001b]8;id=474785;file:///mnt/nfs/home/Florian.Borchert/workspace/xmen/xmen/linkers/faiss_indexer.py#64\u001b\\\u001b[2m64\u001b[0m\u001b]8;;\u001b\\\n",
       "\u001b[2;36m                    \u001b[0m         \u001b[35m/home/Florian.Borchert/.cache/xmen/ggponc3/index/sapbert/\u001b[0m\u001b[95membed_fai\u001b[0m \u001b[2m                   \u001b[0m\n",
       "\u001b[2;36m                    \u001b[0m         \u001b[95mss_hier.pickle\u001b[0m                                                     \u001b[2m                   \u001b[0m\n"
      ]
     },
     "metadata": {},
     "output_type": "display_data"
    },
    {
     "data": {
      "text/html": [
       "<pre style=\"white-space:pre;overflow-x:auto;line-height:normal;font-family:Menlo,'DejaVu Sans Mono',consolas,'Courier New',monospace\"><span style=\"color: #7fbfbf; text-decoration-color: #7fbfbf\">[03/22/24 13:14:14] </span><span style=\"color: #000080; text-decoration-color: #000080\">INFO    </span> Loaded index of type <span style=\"font-weight: bold\">&lt;</span><span style=\"color: #ff00ff; text-decoration-color: #ff00ff; font-weight: bold\">class</span><span style=\"color: #000000; text-decoration-color: #000000\"> </span><span style=\"color: #008000; text-decoration-color: #008000\">'faiss.swigfaiss.IndexHNSWFlat'</span><span style=\"font-weight: bold\">&gt;</span> and   <a href=\"file:///mnt/nfs/home/Florian.Borchert/workspace/xmen/xmen/linkers/faiss_indexer.py\" target=\"_blank\"><span style=\"color: #7f7f7f; text-decoration-color: #7f7f7f\">faiss_indexer.py</span></a><span style=\"color: #7f7f7f; text-decoration-color: #7f7f7f\">:</span><a href=\"file:///mnt/nfs/home/Florian.Borchert/workspace/xmen/xmen/linkers/faiss_indexer.py#66\" target=\"_blank\"><span style=\"color: #7f7f7f; text-decoration-color: #7f7f7f\">66</span></a>\n",
       "<span style=\"color: #7fbfbf; text-decoration-color: #7fbfbf\">                    </span>         size <span style=\"color: #008080; text-decoration-color: #008080; font-weight: bold\">2465719</span>                                                       <span style=\"color: #7f7f7f; text-decoration-color: #7f7f7f\">                   </span>\n",
       "</pre>\n"
      ],
      "text/plain": [
       "\u001b[2;36m[03/22/24 13:14:14]\u001b[0m\u001b[2;36m \u001b[0m\u001b[34mINFO    \u001b[0m Loaded index of type \u001b[1m<\u001b[0m\u001b[1;95mclass\u001b[0m\u001b[39m \u001b[0m\u001b[32m'faiss.swigfaiss.IndexHNSWFlat'\u001b[0m\u001b[1m>\u001b[0m and   \u001b]8;id=69117;file:///mnt/nfs/home/Florian.Borchert/workspace/xmen/xmen/linkers/faiss_indexer.py\u001b\\\u001b[2mfaiss_indexer.py\u001b[0m\u001b]8;;\u001b\\\u001b[2m:\u001b[0m\u001b]8;id=39253;file:///mnt/nfs/home/Florian.Borchert/workspace/xmen/xmen/linkers/faiss_indexer.py#66\u001b\\\u001b[2m66\u001b[0m\u001b]8;;\u001b\\\n",
       "\u001b[2;36m                    \u001b[0m         size \u001b[1;36m2465719\u001b[0m                                                       \u001b[2m                   \u001b[0m\n"
      ]
     },
     "metadata": {},
     "output_type": "display_data"
    }
   ],
   "source": [
    "from ggponc import EntityLinker\n",
    "linker = EntityLinker(**conf.linker.ranking, candidate_generation_kwargs=conf.linker.candidate_generation)"
   ]
  },
  {
   "cell_type": "code",
   "execution_count": 9,
   "id": "a9bbfda6-a097-479e-b19d-cb511788ec2e",
   "metadata": {
    "scrolled": true,
    "tags": []
   },
   "outputs": [
    {
     "data": {
      "application/vnd.jupyter.widget-view+json": {
       "model_id": "061a183ec11a4e169517a4ff5bbb2abd",
       "version_major": 2,
       "version_minor": 0
      },
      "text/plain": [
       "Map:   0%|          | 0/374 [00:00<?, ? examples/s]"
      ]
     },
     "metadata": {},
     "output_type": "display_data"
    },
    {
     "name": "stderr",
     "output_type": "stream",
     "text": [
      "/home/Florian.Borchert/miniconda3/envs/ggponc/lib/python3.9/site-packages/scispacy/abbreviation.py:248: UserWarning: [W036] The component 'matcher' does not have any patterns defined.\n",
      "  global_matches = self.global_matcher(doc)\n"
     ]
    },
    {
     "data": {
      "application/vnd.jupyter.widget-view+json": {
       "model_id": "83d742c6f14240e99282c00459dddecc",
       "version_major": 2,
       "version_minor": 0
      },
      "text/plain": [
       "Map:   0%|          | 0/374 [00:00<?, ? examples/s]"
      ]
     },
     "metadata": {},
     "output_type": "display_data"
    },
    {
     "data": {
      "application/vnd.jupyter.widget-view+json": {
       "model_id": "96ba997baaac4ccabeb904a4408c2b93",
       "version_major": 2,
       "version_minor": 0
      },
      "text/plain": [
       "Map:   0%|          | 0/374 [00:00<?, ? examples/s]"
      ]
     },
     "metadata": {},
     "output_type": "display_data"
    },
    {
     "data": {
      "application/vnd.jupyter.widget-view+json": {
       "model_id": "8713add9dec34bd0bd2de744f82ef13e",
       "version_major": 2,
       "version_minor": 0
      },
      "text/plain": [
       "Map:   0%|          | 0/374 [00:00<?, ? examples/s]"
      ]
     },
     "metadata": {},
     "output_type": "display_data"
    },
    {
     "name": "stdout",
     "output_type": "stream",
     "text": [
      "Context length: 128\n",
      "Use NIL values: False\n"
     ]
    },
    {
     "data": {
      "application/vnd.jupyter.widget-view+json": {
       "model_id": "64919cb0189a4da6b14b6d84c3d0250a",
       "version_major": 2,
       "version_minor": 0
      },
      "text/plain": [
       "  0%|          | 0/1179 [00:00<?, ?it/s]"
      ]
     },
     "metadata": {},
     "output_type": "display_data"
    },
    {
     "data": {
      "application/vnd.jupyter.widget-view+json": {
       "model_id": "cbfad7c51024496d853b3f1b390151eb",
       "version_major": 2,
       "version_minor": 0
      },
      "text/plain": [
       "  0%|          | 0/1179 [00:00<?, ?it/s]"
      ]
     },
     "metadata": {},
     "output_type": "display_data"
    },
    {
     "name": "stderr",
     "output_type": "stream",
     "text": [
      "/home/Florian.Borchert/miniconda3/envs/ggponc/lib/python3.9/site-packages/datasets/table.py:1395: FutureWarning: promote has been superseded by promote_options='default'.\n",
      "  block_group = [InMemoryTable(cls._concat_blocks(list(block_group), axis=axis))]\n",
      "/home/Florian.Borchert/miniconda3/envs/ggponc/lib/python3.9/site-packages/datasets/table.py:1421: FutureWarning: promote has been superseded by promote_options='default'.\n",
      "  table = cls._concat_blocks(blocks, axis=0)\n"
     ]
    },
    {
     "data": {
      "application/vnd.jupyter.widget-view+json": {
       "model_id": "38c4b8e6c03047bc9834ab893788b797",
       "version_major": 2,
       "version_minor": 0
      },
      "text/plain": [
       "  0%|          | 0/1179 [00:00<?, ?it/s]"
      ]
     },
     "metadata": {},
     "output_type": "display_data"
    },
    {
     "data": {
      "application/vnd.jupyter.widget-view+json": {
       "model_id": "dd3c70a09e814c7cb2f9c644d4de2c32",
       "version_major": 2,
       "version_minor": 0
      },
      "text/plain": [
       "Batches:   0%|          | 0/1179 [00:00<?, ?it/s]"
      ]
     },
     "metadata": {},
     "output_type": "display_data"
    },
    {
     "data": {
      "application/vnd.jupyter.widget-view+json": {
       "model_id": "3d1431d2e89d42dba19e09df8f56280c",
       "version_major": 2,
       "version_minor": 0
      },
      "text/plain": [
       "Map:   0%|          | 0/374 [00:00<?, ? examples/s]"
      ]
     },
     "metadata": {},
     "output_type": "display_data"
    },
    {
     "data": {
      "application/vnd.jupyter.widget-view+json": {
       "model_id": "e22a18f64fe74bfbb184399b4d7f617b",
       "version_major": 2,
       "version_minor": 0
      },
      "text/plain": [
       "Map:   0%|          | 0/374 [00:00<?, ? examples/s]"
      ]
     },
     "metadata": {},
     "output_type": "display_data"
    },
    {
     "data": {
      "application/vnd.jupyter.widget-view+json": {
       "model_id": "03c535867eeb47bead7b85fa38b01958",
       "version_major": 2,
       "version_minor": 0
      },
      "text/plain": [
       "Map:   0%|          | 0/374 [00:00<?, ? examples/s]"
      ]
     },
     "metadata": {},
     "output_type": "display_data"
    },
    {
     "name": "stderr",
     "output_type": "stream",
     "text": [
      "/home/Florian.Borchert/miniconda3/envs/ggponc/lib/python3.9/site-packages/scispacy/abbreviation.py:248: UserWarning: [W036] The component 'matcher' does not have any patterns defined.\n",
      "  global_matches = self.global_matcher(doc)\n"
     ]
    },
    {
     "data": {
      "application/vnd.jupyter.widget-view+json": {
       "model_id": "03ef8d31ba474bbea50ff764e82f628c",
       "version_major": 2,
       "version_minor": 0
      },
      "text/plain": [
       "Map:   0%|          | 0/374 [00:00<?, ? examples/s]"
      ]
     },
     "metadata": {},
     "output_type": "display_data"
    },
    {
     "data": {
      "application/vnd.jupyter.widget-view+json": {
       "model_id": "2e7ef1cb543e451bb573921ca9285155",
       "version_major": 2,
       "version_minor": 0
      },
      "text/plain": [
       "Map:   0%|          | 0/374 [00:00<?, ? examples/s]"
      ]
     },
     "metadata": {},
     "output_type": "display_data"
    },
    {
     "name": "stdout",
     "output_type": "stream",
     "text": [
      "Context length: 128\n",
      "Use NIL values: False\n"
     ]
    },
    {
     "data": {
      "application/vnd.jupyter.widget-view+json": {
       "model_id": "120d1dde0e8147c0b1ab7730442611b1",
       "version_major": 2,
       "version_minor": 0
      },
      "text/plain": [
       "  0%|          | 0/1179 [00:00<?, ?it/s]"
      ]
     },
     "metadata": {},
     "output_type": "display_data"
    },
    {
     "data": {
      "application/vnd.jupyter.widget-view+json": {
       "model_id": "eda1b3f480394e85a84c8ce9d129282a",
       "version_major": 2,
       "version_minor": 0
      },
      "text/plain": [
       "  0%|          | 0/1179 [00:00<?, ?it/s]"
      ]
     },
     "metadata": {},
     "output_type": "display_data"
    },
    {
     "name": "stderr",
     "output_type": "stream",
     "text": [
      "/home/Florian.Borchert/miniconda3/envs/ggponc/lib/python3.9/site-packages/datasets/table.py:1395: FutureWarning: promote has been superseded by promote_options='default'.\n",
      "  block_group = [InMemoryTable(cls._concat_blocks(list(block_group), axis=axis))]\n",
      "/home/Florian.Borchert/miniconda3/envs/ggponc/lib/python3.9/site-packages/datasets/table.py:1421: FutureWarning: promote has been superseded by promote_options='default'.\n",
      "  table = cls._concat_blocks(blocks, axis=0)\n"
     ]
    },
    {
     "data": {
      "application/vnd.jupyter.widget-view+json": {
       "model_id": "c8ebbafbab1d48f486367e7a568d8a30",
       "version_major": 2,
       "version_minor": 0
      },
      "text/plain": [
       "  0%|          | 0/1179 [00:00<?, ?it/s]"
      ]
     },
     "metadata": {},
     "output_type": "display_data"
    },
    {
     "data": {
      "application/vnd.jupyter.widget-view+json": {
       "model_id": "6b42a9e47cfd4d7a864bc850c53de604",
       "version_major": 2,
       "version_minor": 0
      },
      "text/plain": [
       "Batches:   0%|          | 0/1179 [00:00<?, ?it/s]"
      ]
     },
     "metadata": {},
     "output_type": "display_data"
    },
    {
     "data": {
      "application/vnd.jupyter.widget-view+json": {
       "model_id": "26da956fd6ca4dfeb80992af41859b8c",
       "version_major": 2,
       "version_minor": 0
      },
      "text/plain": [
       "Map:   0%|          | 0/374 [00:00<?, ? examples/s]"
      ]
     },
     "metadata": {},
     "output_type": "display_data"
    },
    {
     "data": {
      "application/vnd.jupyter.widget-view+json": {
       "model_id": "0ef9b8ddd332422e9978b170db3e2ba7",
       "version_major": 2,
       "version_minor": 0
      },
      "text/plain": [
       "Map:   0%|          | 0/374 [00:00<?, ? examples/s]"
      ]
     },
     "metadata": {},
     "output_type": "display_data"
    },
    {
     "data": {
      "application/vnd.jupyter.widget-view+json": {
       "model_id": "a916c9fcc0e54422a6d0e4d7b0030b35",
       "version_major": 2,
       "version_minor": 0
      },
      "text/plain": [
       "Map:   0%|          | 0/374 [00:00<?, ? examples/s]"
      ]
     },
     "metadata": {},
     "output_type": "display_data"
    },
    {
     "name": "stderr",
     "output_type": "stream",
     "text": [
      "/home/Florian.Borchert/miniconda3/envs/ggponc/lib/python3.9/site-packages/scispacy/abbreviation.py:248: UserWarning: [W036] The component 'matcher' does not have any patterns defined.\n",
      "  global_matches = self.global_matcher(doc)\n"
     ]
    },
    {
     "data": {
      "application/vnd.jupyter.widget-view+json": {
       "model_id": "faa50189f70945cb89556af8467644e3",
       "version_major": 2,
       "version_minor": 0
      },
      "text/plain": [
       "Map:   0%|          | 0/374 [00:00<?, ? examples/s]"
      ]
     },
     "metadata": {},
     "output_type": "display_data"
    },
    {
     "data": {
      "application/vnd.jupyter.widget-view+json": {
       "model_id": "0113ac44c69143328e6d23088d396637",
       "version_major": 2,
       "version_minor": 0
      },
      "text/plain": [
       "Map:   0%|          | 0/374 [00:00<?, ? examples/s]"
      ]
     },
     "metadata": {},
     "output_type": "display_data"
    },
    {
     "data": {
      "application/vnd.jupyter.widget-view+json": {
       "model_id": "08d7f24c27f245e49657600b1d6c3668",
       "version_major": 2,
       "version_minor": 0
      },
      "text/plain": [
       "Map:   0%|          | 0/374 [00:00<?, ? examples/s]"
      ]
     },
     "metadata": {},
     "output_type": "display_data"
    },
    {
     "name": "stdout",
     "output_type": "stream",
     "text": [
      "Context length: 128\n",
      "Use NIL values: False\n"
     ]
    },
    {
     "data": {
      "application/vnd.jupyter.widget-view+json": {
       "model_id": "ab4d5cd276344a2bb973166902fd7fb5",
       "version_major": 2,
       "version_minor": 0
      },
      "text/plain": [
       "  0%|          | 0/1177 [00:00<?, ?it/s]"
      ]
     },
     "metadata": {},
     "output_type": "display_data"
    },
    {
     "data": {
      "application/vnd.jupyter.widget-view+json": {
       "model_id": "74fc95fa5a4a43bd801b665969a13ddb",
       "version_major": 2,
       "version_minor": 0
      },
      "text/plain": [
       "  0%|          | 0/1177 [00:00<?, ?it/s]"
      ]
     },
     "metadata": {},
     "output_type": "display_data"
    },
    {
     "name": "stderr",
     "output_type": "stream",
     "text": [
      "/home/Florian.Borchert/miniconda3/envs/ggponc/lib/python3.9/site-packages/datasets/table.py:1395: FutureWarning: promote has been superseded by promote_options='default'.\n",
      "  block_group = [InMemoryTable(cls._concat_blocks(list(block_group), axis=axis))]\n",
      "/home/Florian.Borchert/miniconda3/envs/ggponc/lib/python3.9/site-packages/datasets/table.py:1421: FutureWarning: promote has been superseded by promote_options='default'.\n",
      "  table = cls._concat_blocks(blocks, axis=0)\n"
     ]
    },
    {
     "data": {
      "application/vnd.jupyter.widget-view+json": {
       "model_id": "5a14ae8d0300461aacba159da5ffe901",
       "version_major": 2,
       "version_minor": 0
      },
      "text/plain": [
       "  0%|          | 0/1177 [00:00<?, ?it/s]"
      ]
     },
     "metadata": {},
     "output_type": "display_data"
    },
    {
     "data": {
      "application/vnd.jupyter.widget-view+json": {
       "model_id": "8ac29add69e04269bf05593328ba4173",
       "version_major": 2,
       "version_minor": 0
      },
      "text/plain": [
       "Batches:   0%|          | 0/1177 [00:00<?, ?it/s]"
      ]
     },
     "metadata": {},
     "output_type": "display_data"
    },
    {
     "data": {
      "application/vnd.jupyter.widget-view+json": {
       "model_id": "b4550864751e4741a73abcbc403d4df9",
       "version_major": 2,
       "version_minor": 0
      },
      "text/plain": [
       "Map:   0%|          | 0/374 [00:00<?, ? examples/s]"
      ]
     },
     "metadata": {},
     "output_type": "display_data"
    },
    {
     "data": {
      "application/vnd.jupyter.widget-view+json": {
       "model_id": "9d6f02bb8ab84ca3b7279e16edf963d3",
       "version_major": 2,
       "version_minor": 0
      },
      "text/plain": [
       "Map:   0%|          | 0/374 [00:00<?, ? examples/s]"
      ]
     },
     "metadata": {},
     "output_type": "display_data"
    },
    {
     "data": {
      "application/vnd.jupyter.widget-view+json": {
       "model_id": "f077442a2ad74a0683644e83d17471ac",
       "version_major": 2,
       "version_minor": 0
      },
      "text/plain": [
       "Map:   0%|          | 0/374 [00:00<?, ? examples/s]"
      ]
     },
     "metadata": {},
     "output_type": "display_data"
    },
    {
     "name": "stderr",
     "output_type": "stream",
     "text": [
      "/home/Florian.Borchert/miniconda3/envs/ggponc/lib/python3.9/site-packages/scispacy/abbreviation.py:248: UserWarning: [W036] The component 'matcher' does not have any patterns defined.\n",
      "  global_matches = self.global_matcher(doc)\n"
     ]
    },
    {
     "data": {
      "application/vnd.jupyter.widget-view+json": {
       "model_id": "2629770fa983423db441e847af567902",
       "version_major": 2,
       "version_minor": 0
      },
      "text/plain": [
       "Map:   0%|          | 0/374 [00:00<?, ? examples/s]"
      ]
     },
     "metadata": {},
     "output_type": "display_data"
    },
    {
     "data": {
      "application/vnd.jupyter.widget-view+json": {
       "model_id": "aa7ed1f3ce584424a9737121d08fdb3d",
       "version_major": 2,
       "version_minor": 0
      },
      "text/plain": [
       "Map:   0%|          | 0/374 [00:00<?, ? examples/s]"
      ]
     },
     "metadata": {},
     "output_type": "display_data"
    },
    {
     "name": "stdout",
     "output_type": "stream",
     "text": [
      "Context length: 128\n",
      "Use NIL values: False\n"
     ]
    },
    {
     "data": {
      "application/vnd.jupyter.widget-view+json": {
       "model_id": "68626a34c25a4bc3bdeff0b86b2ea7d6",
       "version_major": 2,
       "version_minor": 0
      },
      "text/plain": [
       "  0%|          | 0/1177 [00:00<?, ?it/s]"
      ]
     },
     "metadata": {},
     "output_type": "display_data"
    },
    {
     "data": {
      "application/vnd.jupyter.widget-view+json": {
       "model_id": "035de1436f8b486a850f6ca5303242af",
       "version_major": 2,
       "version_minor": 0
      },
      "text/plain": [
       "  0%|          | 0/1177 [00:00<?, ?it/s]"
      ]
     },
     "metadata": {},
     "output_type": "display_data"
    },
    {
     "name": "stderr",
     "output_type": "stream",
     "text": [
      "/home/Florian.Borchert/miniconda3/envs/ggponc/lib/python3.9/site-packages/datasets/table.py:1395: FutureWarning: promote has been superseded by promote_options='default'.\n",
      "  block_group = [InMemoryTable(cls._concat_blocks(list(block_group), axis=axis))]\n",
      "/home/Florian.Borchert/miniconda3/envs/ggponc/lib/python3.9/site-packages/datasets/table.py:1421: FutureWarning: promote has been superseded by promote_options='default'.\n",
      "  table = cls._concat_blocks(blocks, axis=0)\n"
     ]
    },
    {
     "data": {
      "application/vnd.jupyter.widget-view+json": {
       "model_id": "b91c6eba14ff4c238c9e2ab64e97a9e7",
       "version_major": 2,
       "version_minor": 0
      },
      "text/plain": [
       "  0%|          | 0/1177 [00:00<?, ?it/s]"
      ]
     },
     "metadata": {},
     "output_type": "display_data"
    },
    {
     "data": {
      "application/vnd.jupyter.widget-view+json": {
       "model_id": "2215f2bbf0c14beeb79d65fe6562d86e",
       "version_major": 2,
       "version_minor": 0
      },
      "text/plain": [
       "Batches:   0%|          | 0/1177 [00:00<?, ?it/s]"
      ]
     },
     "metadata": {},
     "output_type": "display_data"
    },
    {
     "data": {
      "application/vnd.jupyter.widget-view+json": {
       "model_id": "45277e8c61ee45aba26212c4d435f92a",
       "version_major": 2,
       "version_minor": 0
      },
      "text/plain": [
       "Map:   0%|          | 0/374 [00:00<?, ? examples/s]"
      ]
     },
     "metadata": {},
     "output_type": "display_data"
    },
    {
     "data": {
      "application/vnd.jupyter.widget-view+json": {
       "model_id": "6b6184ffc93e43788b02eda71ae59df4",
       "version_major": 2,
       "version_minor": 0
      },
      "text/plain": [
       "Map:   0%|          | 0/374 [00:00<?, ? examples/s]"
      ]
     },
     "metadata": {},
     "output_type": "display_data"
    }
   ],
   "source": [
    "linking_results = {}\n",
    "linking_results['before_eccnp'] = linker.transform(ds_ner_before, silent=True)\n",
    "linking_results['before_eccnp_no_semtype'] = linker.transform(ds_ner_before, ['abbrv', 'candidates', 'reranking'], silent=True)\n",
    "linking_results['after_eccnp'] = linker.transform(ds_ner_after, silent=True)\n",
    "linking_results['after_eccnp_no_semtype'] = linker.transform(ds_ner_after, ['abbrv', 'candidates', 'reranking'], silent=True)"
   ]
  },
  {
   "cell_type": "code",
   "execution_count": 12,
   "id": "3340d144-944c-4d80-82df-8c62e4ac4960",
   "metadata": {
    "tags": []
   },
   "outputs": [],
   "source": [
    "from nb_util import show_diff_single\n",
    "from IPython.display import display\n",
    "from nen_util import get_annotation_dataframe\n",
    "from xmen.data import Sampler\n",
    "\n",
    "def get_ent_texts(d):\n",
    "    return [e['text'] for e in d['entities']]"
   ]
  },
  {
   "cell_type": "markdown",
   "id": "130de8aa-3632-4845-bd51-a7c3b7f5eb6f",
   "metadata": {},
   "source": [
    "# Impact of Semantic Type Filter"
   ]
  },
  {
   "cell_type": "code",
   "execution_count": 13,
   "id": "7e7ed804-26c1-4471-9cf3-616153f55a8e",
   "metadata": {
    "scrolled": true,
    "tags": []
   },
   "outputs": [
    {
     "data": {
      "application/vnd.jupyter.widget-view+json": {
       "model_id": "6d445cb1183b4c6684d6e5dae5069a29",
       "version_major": 2,
       "version_minor": 0
      },
      "text/plain": [
       "  0%|          | 0/1 [00:00<?, ?it/s]"
      ]
     },
     "metadata": {},
     "output_type": "display_data"
    },
    {
     "data": {
      "application/vnd.jupyter.widget-view+json": {
       "model_id": "47ac6dc84d0d4ea2834d0b0807055d9f",
       "version_major": 2,
       "version_minor": 0
      },
      "text/plain": [
       "  0%|          | 0/1 [00:00<?, ?it/s]"
      ]
     },
     "metadata": {},
     "output_type": "display_data"
    },
    {
     "data": {
      "application/vnd.jupyter.widget-view+json": {
       "model_id": "af5449ec7d9f47caa31b13874c52d22a",
       "version_major": 2,
       "version_minor": 0
      },
      "text/plain": [
       "  0%|          | 0/1 [00:00<?, ?it/s]"
      ]
     },
     "metadata": {},
     "output_type": "display_data"
    },
    {
     "data": {
      "application/vnd.jupyter.widget-view+json": {
       "model_id": "9a32f855f2e4456e838299b08f829bf9",
       "version_major": 2,
       "version_minor": 0
      },
      "text/plain": [
       "  0%|          | 0/1 [00:00<?, ?it/s]"
      ]
     },
     "metadata": {},
     "output_type": "display_data"
    },
    {
     "data": {
      "application/vnd.jupyter.widget-view+json": {
       "model_id": "a4ff72da5c5e4403b38ef54d97818182",
       "version_major": 2,
       "version_minor": 0
      },
      "text/plain": [
       "  0%|          | 0/1 [00:00<?, ?it/s]"
      ]
     },
     "metadata": {},
     "output_type": "display_data"
    },
    {
     "data": {
      "application/vnd.jupyter.widget-view+json": {
       "model_id": "66dfa78640c744809011b6d04456bca4",
       "version_major": 2,
       "version_minor": 0
      },
      "text/plain": [
       "  0%|          | 0/1 [00:00<?, ?it/s]"
      ]
     },
     "metadata": {},
     "output_type": "display_data"
    },
    {
     "data": {
      "application/vnd.jupyter.widget-view+json": {
       "model_id": "ad20126a81e1422cabbdd6e64bd120e7",
       "version_major": 2,
       "version_minor": 0
      },
      "text/plain": [
       "  0%|          | 0/1 [00:00<?, ?it/s]"
      ]
     },
     "metadata": {},
     "output_type": "display_data"
    },
    {
     "data": {
      "application/vnd.jupyter.widget-view+json": {
       "model_id": "6db747a5601b4a62acca4410de0068cb",
       "version_major": 2,
       "version_minor": 0
      },
      "text/plain": [
       "  0%|          | 0/1 [00:00<?, ?it/s]"
      ]
     },
     "metadata": {},
     "output_type": "display_data"
    },
    {
     "data": {
      "application/vnd.jupyter.widget-view+json": {
       "model_id": "4da917f96cd1415f97822e4806a12529",
       "version_major": 2,
       "version_minor": 0
      },
      "text/plain": [
       "  0%|          | 0/1 [00:00<?, ?it/s]"
      ]
     },
     "metadata": {},
     "output_type": "display_data"
    },
    {
     "data": {
      "application/vnd.jupyter.widget-view+json": {
       "model_id": "f0d144af6bc84b62a989eb2d8ead410c",
       "version_major": 2,
       "version_minor": 0
      },
      "text/plain": [
       "  0%|          | 0/1 [00:00<?, ?it/s]"
      ]
     },
     "metadata": {},
     "output_type": "display_data"
    },
    {
     "data": {
      "application/vnd.jupyter.widget-view+json": {
       "model_id": "6590c55e3bcc4eb3ae1a89dca4b38b38",
       "version_major": 2,
       "version_minor": 0
      },
      "text/plain": [
       "  0%|          | 0/1 [00:00<?, ?it/s]"
      ]
     },
     "metadata": {},
     "output_type": "display_data"
    },
    {
     "data": {
      "application/vnd.jupyter.widget-view+json": {
       "model_id": "8ddf45d229154b3aad262f0a665e2f78",
       "version_major": 2,
       "version_minor": 0
      },
      "text/plain": [
       "  0%|          | 0/1 [00:00<?, ?it/s]"
      ]
     },
     "metadata": {},
     "output_type": "display_data"
    },
    {
     "name": "stdout",
     "output_type": "stream",
     "text": [
      "Bei komplett parenteraler Ernährung kann die Supplementierung von Spurenelementen deren Abfall im Serum verhindern; dies trifft besonders auf Mangan und Kupfer zu [REF].\n",
      "\n",
      "No Filter:\n"
     ]
    },
    {
     "data": {
      "text/html": [
       "<div>\n",
       "<style scoped>\n",
       "    .dataframe tbody tr th:only-of-type {\n",
       "        vertical-align: middle;\n",
       "    }\n",
       "\n",
       "    .dataframe tbody tr th {\n",
       "        vertical-align: top;\n",
       "    }\n",
       "\n",
       "    .dataframe thead th {\n",
       "        text-align: right;\n",
       "    }\n",
       "</style>\n",
       "<table border=\"1\" class=\"dataframe\">\n",
       "  <thead>\n",
       "    <tr style=\"text-align: right;\">\n",
       "      <th></th>\n",
       "      <th>document</th>\n",
       "      <th>text</th>\n",
       "      <th>type</th>\n",
       "      <th>start</th>\n",
       "      <th>end</th>\n",
       "      <th>cui</th>\n",
       "      <th>tuis</th>\n",
       "      <th>canonical</th>\n",
       "      <th>linker</th>\n",
       "      <th>confidence</th>\n",
       "    </tr>\n",
       "  </thead>\n",
       "  <tbody>\n",
       "    <tr>\n",
       "      <th>6</th>\n",
       "      <td>01_magenkarzinom_0192_5</td>\n",
       "      <td>Kupfer</td>\n",
       "      <td>Clinical_Drug</td>\n",
       "      <td>153</td>\n",
       "      <td>159</td>\n",
       "      <td>C0373587</td>\n",
       "      <td>[T059]</td>\n",
       "      <td>Cu</td>\n",
       "      <td>[ngram, sapbert]</td>\n",
       "      <td>0.084491</td>\n",
       "    </tr>\n",
       "  </tbody>\n",
       "</table>\n",
       "</div>"
      ],
      "text/plain": [
       "                  document    text           type  start  end       cui  \\\n",
       "6  01_magenkarzinom_0192_5  Kupfer  Clinical_Drug    153  159  C0373587   \n",
       "\n",
       "     tuis canonical            linker  confidence  \n",
       "6  [T059]        Cu  [ngram, sapbert]    0.084491  "
      ]
     },
     "metadata": {},
     "output_type": "display_data"
    },
    {
     "name": "stdout",
     "output_type": "stream",
     "text": [
      "Filter:\n"
     ]
    },
    {
     "data": {
      "text/html": [
       "<div>\n",
       "<style scoped>\n",
       "    .dataframe tbody tr th:only-of-type {\n",
       "        vertical-align: middle;\n",
       "    }\n",
       "\n",
       "    .dataframe tbody tr th {\n",
       "        vertical-align: top;\n",
       "    }\n",
       "\n",
       "    .dataframe thead th {\n",
       "        text-align: right;\n",
       "    }\n",
       "</style>\n",
       "<table border=\"1\" class=\"dataframe\">\n",
       "  <thead>\n",
       "    <tr style=\"text-align: right;\">\n",
       "      <th></th>\n",
       "      <th>document</th>\n",
       "      <th>text</th>\n",
       "      <th>type</th>\n",
       "      <th>start</th>\n",
       "      <th>end</th>\n",
       "      <th>cui</th>\n",
       "      <th>tuis</th>\n",
       "      <th>canonical</th>\n",
       "      <th>linker</th>\n",
       "      <th>confidence</th>\n",
       "    </tr>\n",
       "  </thead>\n",
       "  <tbody>\n",
       "    <tr>\n",
       "      <th>6</th>\n",
       "      <td>01_magenkarzinom_0192_5</td>\n",
       "      <td>Kupfer</td>\n",
       "      <td>Clinical_Drug</td>\n",
       "      <td>153</td>\n",
       "      <td>159</td>\n",
       "      <td>C0009968</td>\n",
       "      <td>[T121, T123, T196]</td>\n",
       "      <td>Kupfer</td>\n",
       "      <td>[ngram, sapbert]</td>\n",
       "      <td>0.069323</td>\n",
       "    </tr>\n",
       "  </tbody>\n",
       "</table>\n",
       "</div>"
      ],
      "text/plain": [
       "                  document    text           type  start  end       cui  \\\n",
       "6  01_magenkarzinom_0192_5  Kupfer  Clinical_Drug    153  159  C0009968   \n",
       "\n",
       "                 tuis canonical            linker  confidence  \n",
       "6  [T121, T123, T196]    Kupfer  [ngram, sapbert]    0.069323  "
      ]
     },
     "metadata": {},
     "output_type": "display_data"
    },
    {
     "name": "stdout",
     "output_type": "stream",
     "text": [
      "####\n"
     ]
    },
    {
     "data": {
      "application/vnd.jupyter.widget-view+json": {
       "model_id": "f9283a197371435ab48ded4f343e1697",
       "version_major": 2,
       "version_minor": 0
      },
      "text/plain": [
       "  0%|          | 0/1 [00:00<?, ?it/s]"
      ]
     },
     "metadata": {},
     "output_type": "display_data"
    },
    {
     "data": {
      "application/vnd.jupyter.widget-view+json": {
       "model_id": "c544052e886b4d44ae8ebce0b43054cc",
       "version_major": 2,
       "version_minor": 0
      },
      "text/plain": [
       "  0%|          | 0/1 [00:00<?, ?it/s]"
      ]
     },
     "metadata": {},
     "output_type": "display_data"
    },
    {
     "data": {
      "application/vnd.jupyter.widget-view+json": {
       "model_id": "d24d6269160b4227a39801408e209256",
       "version_major": 2,
       "version_minor": 0
      },
      "text/plain": [
       "  0%|          | 0/1 [00:00<?, ?it/s]"
      ]
     },
     "metadata": {},
     "output_type": "display_data"
    },
    {
     "data": {
      "application/vnd.jupyter.widget-view+json": {
       "model_id": "994592ea9f264d5b91140d1b5f02775c",
       "version_major": 2,
       "version_minor": 0
      },
      "text/plain": [
       "  0%|          | 0/1 [00:00<?, ?it/s]"
      ]
     },
     "metadata": {},
     "output_type": "display_data"
    },
    {
     "data": {
      "application/vnd.jupyter.widget-view+json": {
       "model_id": "b60d850ea9f94b23ad152a29df90f5a0",
       "version_major": 2,
       "version_minor": 0
      },
      "text/plain": [
       "  0%|          | 0/1 [00:00<?, ?it/s]"
      ]
     },
     "metadata": {},
     "output_type": "display_data"
    },
    {
     "data": {
      "application/vnd.jupyter.widget-view+json": {
       "model_id": "29c74c5f264c424b8d75504fc3f6ada9",
       "version_major": 2,
       "version_minor": 0
      },
      "text/plain": [
       "  0%|          | 0/1 [00:00<?, ?it/s]"
      ]
     },
     "metadata": {},
     "output_type": "display_data"
    },
    {
     "data": {
      "application/vnd.jupyter.widget-view+json": {
       "model_id": "990f928977b9490c8d923a850b13e8d7",
       "version_major": 2,
       "version_minor": 0
      },
      "text/plain": [
       "  0%|          | 0/1 [00:00<?, ?it/s]"
      ]
     },
     "metadata": {},
     "output_type": "display_data"
    },
    {
     "data": {
      "application/vnd.jupyter.widget-view+json": {
       "model_id": "a126f74341cc4a4c8a0ca8fa392e00e6",
       "version_major": 2,
       "version_minor": 0
      },
      "text/plain": [
       "  0%|          | 0/1 [00:00<?, ?it/s]"
      ]
     },
     "metadata": {},
     "output_type": "display_data"
    },
    {
     "data": {
      "application/vnd.jupyter.widget-view+json": {
       "model_id": "b42880d400a849ffbdbe7def9a479069",
       "version_major": 2,
       "version_minor": 0
      },
      "text/plain": [
       "  0%|          | 0/1 [00:00<?, ?it/s]"
      ]
     },
     "metadata": {},
     "output_type": "display_data"
    },
    {
     "data": {
      "application/vnd.jupyter.widget-view+json": {
       "model_id": "cc49a44218344099991033894689b8db",
       "version_major": 2,
       "version_minor": 0
      },
      "text/plain": [
       "  0%|          | 0/1 [00:00<?, ?it/s]"
      ]
     },
     "metadata": {},
     "output_type": "display_data"
    },
    {
     "data": {
      "application/vnd.jupyter.widget-view+json": {
       "model_id": "308f7f2b9ef54245ac3c935e2d06c403",
       "version_major": 2,
       "version_minor": 0
      },
      "text/plain": [
       "  0%|          | 0/1 [00:00<?, ?it/s]"
      ]
     },
     "metadata": {},
     "output_type": "display_data"
    },
    {
     "data": {
      "application/vnd.jupyter.widget-view+json": {
       "model_id": "743385d57a5e49b4ab1bf994f3646888",
       "version_major": 2,
       "version_minor": 0
      },
      "text/plain": [
       "  0%|          | 0/1 [00:00<?, ?it/s]"
      ]
     },
     "metadata": {},
     "output_type": "display_data"
    },
    {
     "data": {
      "application/vnd.jupyter.widget-view+json": {
       "model_id": "56a697a70fa14def83766f006312d626",
       "version_major": 2,
       "version_minor": 0
      },
      "text/plain": [
       "  0%|          | 0/1 [00:00<?, ?it/s]"
      ]
     },
     "metadata": {},
     "output_type": "display_data"
    },
    {
     "data": {
      "application/vnd.jupyter.widget-view+json": {
       "model_id": "d24d25bb8d88447b976208381b881fb3",
       "version_major": 2,
       "version_minor": 0
      },
      "text/plain": [
       "  0%|          | 0/1 [00:00<?, ?it/s]"
      ]
     },
     "metadata": {},
     "output_type": "display_data"
    },
    {
     "data": {
      "application/vnd.jupyter.widget-view+json": {
       "model_id": "967fa76d20bf458dbee1cbb1afdd9070",
       "version_major": 2,
       "version_minor": 0
      },
      "text/plain": [
       "  0%|          | 0/1 [00:00<?, ?it/s]"
      ]
     },
     "metadata": {},
     "output_type": "display_data"
    },
    {
     "data": {
      "application/vnd.jupyter.widget-view+json": {
       "model_id": "c4cc0bb3deda4bea928c49519ff8b9ac",
       "version_major": 2,
       "version_minor": 0
      },
      "text/plain": [
       "  0%|          | 0/1 [00:00<?, ?it/s]"
      ]
     },
     "metadata": {},
     "output_type": "display_data"
    },
    {
     "data": {
      "application/vnd.jupyter.widget-view+json": {
       "model_id": "2a25b54615154dc7a23c982b4162870a",
       "version_major": 2,
       "version_minor": 0
      },
      "text/plain": [
       "  0%|          | 0/1 [00:00<?, ?it/s]"
      ]
     },
     "metadata": {},
     "output_type": "display_data"
    },
    {
     "data": {
      "application/vnd.jupyter.widget-view+json": {
       "model_id": "bd8b2777b2b543d69c346451e29a51b4",
       "version_major": 2,
       "version_minor": 0
      },
      "text/plain": [
       "  0%|          | 0/1 [00:00<?, ?it/s]"
      ]
     },
     "metadata": {},
     "output_type": "display_data"
    },
    {
     "data": {
      "application/vnd.jupyter.widget-view+json": {
       "model_id": "c5bf970e61124f13a516f75daf93e530",
       "version_major": 2,
       "version_minor": 0
      },
      "text/plain": [
       "  0%|          | 0/1 [00:00<?, ?it/s]"
      ]
     },
     "metadata": {},
     "output_type": "display_data"
    },
    {
     "data": {
      "application/vnd.jupyter.widget-view+json": {
       "model_id": "10f433f8b3a04a1396673592fadb4e3e",
       "version_major": 2,
       "version_minor": 0
      },
      "text/plain": [
       "  0%|          | 0/1 [00:00<?, ?it/s]"
      ]
     },
     "metadata": {},
     "output_type": "display_data"
    },
    {
     "data": {
      "application/vnd.jupyter.widget-view+json": {
       "model_id": "f8aff2cf94fe4ef48da72ec12b35e4e6",
       "version_major": 2,
       "version_minor": 0
      },
      "text/plain": [
       "  0%|          | 0/1 [00:00<?, ?it/s]"
      ]
     },
     "metadata": {},
     "output_type": "display_data"
    },
    {
     "data": {
      "application/vnd.jupyter.widget-view+json": {
       "model_id": "ce8920410a5b49a590cc7dc2656158a8",
       "version_major": 2,
       "version_minor": 0
      },
      "text/plain": [
       "  0%|          | 0/1 [00:00<?, ?it/s]"
      ]
     },
     "metadata": {},
     "output_type": "display_data"
    },
    {
     "data": {
      "application/vnd.jupyter.widget-view+json": {
       "model_id": "5fd14c07795c4fa59c71ad7e3c7f8800",
       "version_major": 2,
       "version_minor": 0
      },
      "text/plain": [
       "  0%|          | 0/1 [00:00<?, ?it/s]"
      ]
     },
     "metadata": {},
     "output_type": "display_data"
    },
    {
     "data": {
      "application/vnd.jupyter.widget-view+json": {
       "model_id": "3741df9fe2b843f1b09e63eacb923f67",
       "version_major": 2,
       "version_minor": 0
      },
      "text/plain": [
       "  0%|          | 0/1 [00:00<?, ?it/s]"
      ]
     },
     "metadata": {},
     "output_type": "display_data"
    },
    {
     "data": {
      "application/vnd.jupyter.widget-view+json": {
       "model_id": "72dcf6fd52f74690b275731d8ea9e9f5",
       "version_major": 2,
       "version_minor": 0
      },
      "text/plain": [
       "  0%|          | 0/1 [00:00<?, ?it/s]"
      ]
     },
     "metadata": {},
     "output_type": "display_data"
    },
    {
     "data": {
      "application/vnd.jupyter.widget-view+json": {
       "model_id": "cb3bddcd0d824d959adedcccb2a27c21",
       "version_major": 2,
       "version_minor": 0
      },
      "text/plain": [
       "  0%|          | 0/1 [00:00<?, ?it/s]"
      ]
     },
     "metadata": {},
     "output_type": "display_data"
    },
    {
     "data": {
      "application/vnd.jupyter.widget-view+json": {
       "model_id": "af290fd9916246bd83e073b189ad6caa",
       "version_major": 2,
       "version_minor": 0
      },
      "text/plain": [
       "  0%|          | 0/1 [00:00<?, ?it/s]"
      ]
     },
     "metadata": {},
     "output_type": "display_data"
    },
    {
     "data": {
      "application/vnd.jupyter.widget-view+json": {
       "model_id": "1b1a8bed18064a1eae4d5278811fe3b9",
       "version_major": 2,
       "version_minor": 0
      },
      "text/plain": [
       "  0%|          | 0/1 [00:00<?, ?it/s]"
      ]
     },
     "metadata": {},
     "output_type": "display_data"
    },
    {
     "name": "stdout",
     "output_type": "stream",
     "text": [
      "Es gibt keinen Beweis, dass Selen Nebenwirkungen vermindert, die im Zusammenhang mit Therapien des Magenkarzinoms relevant sind.\n",
      "\n",
      "No Filter:\n"
     ]
    },
    {
     "data": {
      "text/html": [
       "<div>\n",
       "<style scoped>\n",
       "    .dataframe tbody tr th:only-of-type {\n",
       "        vertical-align: middle;\n",
       "    }\n",
       "\n",
       "    .dataframe tbody tr th {\n",
       "        vertical-align: top;\n",
       "    }\n",
       "\n",
       "    .dataframe thead th {\n",
       "        text-align: right;\n",
       "    }\n",
       "</style>\n",
       "<table border=\"1\" class=\"dataframe\">\n",
       "  <thead>\n",
       "    <tr style=\"text-align: right;\">\n",
       "      <th></th>\n",
       "      <th>document</th>\n",
       "      <th>text</th>\n",
       "      <th>type</th>\n",
       "      <th>start</th>\n",
       "      <th>end</th>\n",
       "      <th>cui</th>\n",
       "      <th>tuis</th>\n",
       "      <th>canonical</th>\n",
       "      <th>linker</th>\n",
       "      <th>confidence</th>\n",
       "    </tr>\n",
       "  </thead>\n",
       "  <tbody>\n",
       "    <tr>\n",
       "      <th>2</th>\n",
       "      <td>01_magenkarzinom_0192_19</td>\n",
       "      <td>Therapien des Magenkarzinoms</td>\n",
       "      <td>Therapeutic</td>\n",
       "      <td>85</td>\n",
       "      <td>113</td>\n",
       "      <td>C0024623</td>\n",
       "      <td>[T191]</td>\n",
       "      <td>Krebs des Magens</td>\n",
       "      <td>[ngram]</td>\n",
       "      <td>0.072412</td>\n",
       "    </tr>\n",
       "  </tbody>\n",
       "</table>\n",
       "</div>"
      ],
      "text/plain": [
       "                   document                          text         type  start  \\\n",
       "2  01_magenkarzinom_0192_19  Therapien des Magenkarzinoms  Therapeutic     85   \n",
       "\n",
       "   end       cui    tuis         canonical   linker  confidence  \n",
       "2  113  C0024623  [T191]  Krebs des Magens  [ngram]    0.072412  "
      ]
     },
     "metadata": {},
     "output_type": "display_data"
    },
    {
     "name": "stdout",
     "output_type": "stream",
     "text": [
      "Filter:\n"
     ]
    },
    {
     "data": {
      "text/html": [
       "<div>\n",
       "<style scoped>\n",
       "    .dataframe tbody tr th:only-of-type {\n",
       "        vertical-align: middle;\n",
       "    }\n",
       "\n",
       "    .dataframe tbody tr th {\n",
       "        vertical-align: top;\n",
       "    }\n",
       "\n",
       "    .dataframe thead th {\n",
       "        text-align: right;\n",
       "    }\n",
       "</style>\n",
       "<table border=\"1\" class=\"dataframe\">\n",
       "  <thead>\n",
       "    <tr style=\"text-align: right;\">\n",
       "      <th></th>\n",
       "      <th>document</th>\n",
       "      <th>text</th>\n",
       "      <th>type</th>\n",
       "      <th>start</th>\n",
       "      <th>end</th>\n",
       "      <th>cui</th>\n",
       "      <th>tuis</th>\n",
       "      <th>canonical</th>\n",
       "      <th>linker</th>\n",
       "      <th>confidence</th>\n",
       "    </tr>\n",
       "  </thead>\n",
       "  <tbody>\n",
       "    <tr>\n",
       "      <th>2</th>\n",
       "      <td>01_magenkarzinom_0192_19</td>\n",
       "      <td>Therapien des Magenkarzinoms</td>\n",
       "      <td>Therapeutic</td>\n",
       "      <td>85</td>\n",
       "      <td>113</td>\n",
       "      <td>C0947833</td>\n",
       "      <td>[T061]</td>\n",
       "      <td>Gastric therapeutic procedures</td>\n",
       "      <td>[sapbert]</td>\n",
       "      <td>0.06769</td>\n",
       "    </tr>\n",
       "  </tbody>\n",
       "</table>\n",
       "</div>"
      ],
      "text/plain": [
       "                   document                          text         type  start  \\\n",
       "2  01_magenkarzinom_0192_19  Therapien des Magenkarzinoms  Therapeutic     85   \n",
       "\n",
       "   end       cui    tuis                       canonical     linker  \\\n",
       "2  113  C0947833  [T061]  Gastric therapeutic procedures  [sapbert]   \n",
       "\n",
       "   confidence  \n",
       "2     0.06769  "
      ]
     },
     "metadata": {},
     "output_type": "display_data"
    },
    {
     "name": "stdout",
     "output_type": "stream",
     "text": [
      "####\n"
     ]
    },
    {
     "data": {
      "application/vnd.jupyter.widget-view+json": {
       "model_id": "58d607883a7545a8b6d5833b17319eca",
       "version_major": 2,
       "version_minor": 0
      },
      "text/plain": [
       "  0%|          | 0/1 [00:00<?, ?it/s]"
      ]
     },
     "metadata": {},
     "output_type": "display_data"
    },
    {
     "data": {
      "application/vnd.jupyter.widget-view+json": {
       "model_id": "8470d09255ab455bb50eb229d7cbf0bd",
       "version_major": 2,
       "version_minor": 0
      },
      "text/plain": [
       "  0%|          | 0/1 [00:00<?, ?it/s]"
      ]
     },
     "metadata": {},
     "output_type": "display_data"
    },
    {
     "data": {
      "application/vnd.jupyter.widget-view+json": {
       "model_id": "f082b02da12249e1853fac04e24f6918",
       "version_major": 2,
       "version_minor": 0
      },
      "text/plain": [
       "  0%|          | 0/1 [00:00<?, ?it/s]"
      ]
     },
     "metadata": {},
     "output_type": "display_data"
    },
    {
     "data": {
      "application/vnd.jupyter.widget-view+json": {
       "model_id": "dce342ceba3341929d6e3107d598d038",
       "version_major": 2,
       "version_minor": 0
      },
      "text/plain": [
       "  0%|          | 0/1 [00:00<?, ?it/s]"
      ]
     },
     "metadata": {},
     "output_type": "display_data"
    },
    {
     "data": {
      "application/vnd.jupyter.widget-view+json": {
       "model_id": "cef5f556f2314e85ab22750a2fbcaaba",
       "version_major": 2,
       "version_minor": 0
      },
      "text/plain": [
       "  0%|          | 0/1 [00:00<?, ?it/s]"
      ]
     },
     "metadata": {},
     "output_type": "display_data"
    },
    {
     "data": {
      "application/vnd.jupyter.widget-view+json": {
       "model_id": "a39f50d608f7486fb6efcd1bf7110939",
       "version_major": 2,
       "version_minor": 0
      },
      "text/plain": [
       "  0%|          | 0/1 [00:00<?, ?it/s]"
      ]
     },
     "metadata": {},
     "output_type": "display_data"
    },
    {
     "name": "stdout",
     "output_type": "stream",
     "text": [
      "Präklinische Daten sprechen dafür, dass Zink das Wachstum von Tumoren fördert, eine Supplementierung ist deshalb bei normaler Ernährung nicht zu empfehlen.\n",
      "\n",
      "No Filter:\n"
     ]
    },
    {
     "data": {
      "text/html": [
       "<div>\n",
       "<style scoped>\n",
       "    .dataframe tbody tr th:only-of-type {\n",
       "        vertical-align: middle;\n",
       "    }\n",
       "\n",
       "    .dataframe tbody tr th {\n",
       "        vertical-align: top;\n",
       "    }\n",
       "\n",
       "    .dataframe thead th {\n",
       "        text-align: right;\n",
       "    }\n",
       "</style>\n",
       "<table border=\"1\" class=\"dataframe\">\n",
       "  <thead>\n",
       "    <tr style=\"text-align: right;\">\n",
       "      <th></th>\n",
       "      <th>document</th>\n",
       "      <th>text</th>\n",
       "      <th>type</th>\n",
       "      <th>start</th>\n",
       "      <th>end</th>\n",
       "      <th>cui</th>\n",
       "      <th>tuis</th>\n",
       "      <th>canonical</th>\n",
       "      <th>linker</th>\n",
       "      <th>confidence</th>\n",
       "    </tr>\n",
       "  </thead>\n",
       "  <tbody>\n",
       "    <tr>\n",
       "      <th>0</th>\n",
       "      <td>01_magenkarzinom_0192_22</td>\n",
       "      <td>Zink</td>\n",
       "      <td>Nutrient_or_Body_Substance</td>\n",
       "      <td>40</td>\n",
       "      <td>44</td>\n",
       "      <td>C0373748</td>\n",
       "      <td>[T059]</td>\n",
       "      <td>Zn</td>\n",
       "      <td>[ngram, sapbert]</td>\n",
       "      <td>0.076587</td>\n",
       "    </tr>\n",
       "  </tbody>\n",
       "</table>\n",
       "</div>"
      ],
      "text/plain": [
       "                   document  text                        type  start  end  \\\n",
       "0  01_magenkarzinom_0192_22  Zink  Nutrient_or_Body_Substance     40   44   \n",
       "\n",
       "        cui    tuis canonical            linker  confidence  \n",
       "0  C0373748  [T059]        Zn  [ngram, sapbert]    0.076587  "
      ]
     },
     "metadata": {},
     "output_type": "display_data"
    },
    {
     "name": "stdout",
     "output_type": "stream",
     "text": [
      "Filter:\n"
     ]
    },
    {
     "data": {
      "text/html": [
       "<div>\n",
       "<style scoped>\n",
       "    .dataframe tbody tr th:only-of-type {\n",
       "        vertical-align: middle;\n",
       "    }\n",
       "\n",
       "    .dataframe tbody tr th {\n",
       "        vertical-align: top;\n",
       "    }\n",
       "\n",
       "    .dataframe thead th {\n",
       "        text-align: right;\n",
       "    }\n",
       "</style>\n",
       "<table border=\"1\" class=\"dataframe\">\n",
       "  <thead>\n",
       "    <tr style=\"text-align: right;\">\n",
       "      <th></th>\n",
       "      <th>document</th>\n",
       "      <th>text</th>\n",
       "      <th>type</th>\n",
       "      <th>start</th>\n",
       "      <th>end</th>\n",
       "      <th>cui</th>\n",
       "      <th>tuis</th>\n",
       "      <th>canonical</th>\n",
       "      <th>linker</th>\n",
       "      <th>confidence</th>\n",
       "    </tr>\n",
       "  </thead>\n",
       "  <tbody>\n",
       "    <tr>\n",
       "      <th>0</th>\n",
       "      <td>01_magenkarzinom_0192_22</td>\n",
       "      <td>Zink</td>\n",
       "      <td>Nutrient_or_Body_Substance</td>\n",
       "      <td>40</td>\n",
       "      <td>44</td>\n",
       "      <td>C0043481</td>\n",
       "      <td>[T121, T123, T196]</td>\n",
       "      <td>Zink</td>\n",
       "      <td>[ngram, sapbert]</td>\n",
       "      <td>0.074914</td>\n",
       "    </tr>\n",
       "  </tbody>\n",
       "</table>\n",
       "</div>"
      ],
      "text/plain": [
       "                   document  text                        type  start  end  \\\n",
       "0  01_magenkarzinom_0192_22  Zink  Nutrient_or_Body_Substance     40   44   \n",
       "\n",
       "        cui                tuis canonical            linker  confidence  \n",
       "0  C0043481  [T121, T123, T196]      Zink  [ngram, sapbert]    0.074914  "
      ]
     },
     "metadata": {},
     "output_type": "display_data"
    },
    {
     "name": "stdout",
     "output_type": "stream",
     "text": [
      "####\n"
     ]
    },
    {
     "data": {
      "application/vnd.jupyter.widget-view+json": {
       "model_id": "899a1209ea8d41aab0f6a2658d5f3026",
       "version_major": 2,
       "version_minor": 0
      },
      "text/plain": [
       "  0%|          | 0/1 [00:00<?, ?it/s]"
      ]
     },
     "metadata": {},
     "output_type": "display_data"
    },
    {
     "data": {
      "application/vnd.jupyter.widget-view+json": {
       "model_id": "9c67d6c771ab43bb9f870288f16af255",
       "version_major": 2,
       "version_minor": 0
      },
      "text/plain": [
       "  0%|          | 0/1 [00:00<?, ?it/s]"
      ]
     },
     "metadata": {},
     "output_type": "display_data"
    },
    {
     "data": {
      "application/vnd.jupyter.widget-view+json": {
       "model_id": "9149633b234a445ca273cd18032e44e4",
       "version_major": 2,
       "version_minor": 0
      },
      "text/plain": [
       "  0%|          | 0/1 [00:00<?, ?it/s]"
      ]
     },
     "metadata": {},
     "output_type": "display_data"
    },
    {
     "data": {
      "application/vnd.jupyter.widget-view+json": {
       "model_id": "35a4dff1d4804fa79f8a7fe14c6d6472",
       "version_major": 2,
       "version_minor": 0
      },
      "text/plain": [
       "  0%|          | 0/1 [00:00<?, ?it/s]"
      ]
     },
     "metadata": {},
     "output_type": "display_data"
    },
    {
     "data": {
      "application/vnd.jupyter.widget-view+json": {
       "model_id": "c711a570fd774eea86a8c5566c5b214d",
       "version_major": 2,
       "version_minor": 0
      },
      "text/plain": [
       "  0%|          | 0/1 [00:00<?, ?it/s]"
      ]
     },
     "metadata": {},
     "output_type": "display_data"
    },
    {
     "data": {
      "application/vnd.jupyter.widget-view+json": {
       "model_id": "3518f458666d4831b366e63ace87f269",
       "version_major": 2,
       "version_minor": 0
      },
      "text/plain": [
       "  0%|          | 0/1 [00:00<?, ?it/s]"
      ]
     },
     "metadata": {},
     "output_type": "display_data"
    },
    {
     "name": "stdout",
     "output_type": "stream",
     "text": [
      "Die Cochrane-Übersichtsarbeit aus dem Jahr 2007 sah eine ungenügende Datenlage im Hinblick auf eine Evidenz für die Wirksamkeit von Omega-3-Fettsäuren zur Behandlung der Tumorkachexie [REF].\n",
      "\n",
      "No Filter:\n"
     ]
    },
    {
     "data": {
      "text/html": [
       "<div>\n",
       "<style scoped>\n",
       "    .dataframe tbody tr th:only-of-type {\n",
       "        vertical-align: middle;\n",
       "    }\n",
       "\n",
       "    .dataframe tbody tr th {\n",
       "        vertical-align: top;\n",
       "    }\n",
       "\n",
       "    .dataframe thead th {\n",
       "        text-align: right;\n",
       "    }\n",
       "</style>\n",
       "<table border=\"1\" class=\"dataframe\">\n",
       "  <thead>\n",
       "    <tr style=\"text-align: right;\">\n",
       "      <th></th>\n",
       "      <th>document</th>\n",
       "      <th>text</th>\n",
       "      <th>type</th>\n",
       "      <th>start</th>\n",
       "      <th>end</th>\n",
       "      <th>cui</th>\n",
       "      <th>tuis</th>\n",
       "      <th>canonical</th>\n",
       "      <th>linker</th>\n",
       "      <th>confidence</th>\n",
       "    </tr>\n",
       "  </thead>\n",
       "  <tbody>\n",
       "    <tr>\n",
       "      <th>1</th>\n",
       "      <td>01_magenkarzinom_0192_25</td>\n",
       "      <td>Behandlung der Tumorkachexie</td>\n",
       "      <td>Therapeutic</td>\n",
       "      <td>155</td>\n",
       "      <td>183</td>\n",
       "      <td>C1391732</td>\n",
       "      <td>[T184]</td>\n",
       "      <td>Malignant cachexia</td>\n",
       "      <td>[sapbert]</td>\n",
       "      <td>0.078873</td>\n",
       "    </tr>\n",
       "  </tbody>\n",
       "</table>\n",
       "</div>"
      ],
      "text/plain": [
       "                   document                          text         type  start  \\\n",
       "1  01_magenkarzinom_0192_25  Behandlung der Tumorkachexie  Therapeutic    155   \n",
       "\n",
       "   end       cui    tuis           canonical     linker  confidence  \n",
       "1  183  C1391732  [T184]  Malignant cachexia  [sapbert]    0.078873  "
      ]
     },
     "metadata": {},
     "output_type": "display_data"
    },
    {
     "name": "stdout",
     "output_type": "stream",
     "text": [
      "Filter:\n"
     ]
    },
    {
     "data": {
      "text/html": [
       "<div>\n",
       "<style scoped>\n",
       "    .dataframe tbody tr th:only-of-type {\n",
       "        vertical-align: middle;\n",
       "    }\n",
       "\n",
       "    .dataframe tbody tr th {\n",
       "        vertical-align: top;\n",
       "    }\n",
       "\n",
       "    .dataframe thead th {\n",
       "        text-align: right;\n",
       "    }\n",
       "</style>\n",
       "<table border=\"1\" class=\"dataframe\">\n",
       "  <thead>\n",
       "    <tr style=\"text-align: right;\">\n",
       "      <th></th>\n",
       "      <th>document</th>\n",
       "      <th>text</th>\n",
       "      <th>type</th>\n",
       "      <th>start</th>\n",
       "      <th>end</th>\n",
       "      <th>cui</th>\n",
       "      <th>tuis</th>\n",
       "      <th>canonical</th>\n",
       "      <th>linker</th>\n",
       "      <th>confidence</th>\n",
       "    </tr>\n",
       "  </thead>\n",
       "  <tbody>\n",
       "    <tr>\n",
       "      <th>1</th>\n",
       "      <td>01_magenkarzinom_0192_25</td>\n",
       "      <td>Behandlung der Tumorkachexie</td>\n",
       "      <td>Therapeutic</td>\n",
       "      <td>155</td>\n",
       "      <td>183</td>\n",
       "      <td>C4763991</td>\n",
       "      <td>[T061]</td>\n",
       "      <td>Tumor Ablation Therapy</td>\n",
       "      <td>[sapbert]</td>\n",
       "      <td>0.064244</td>\n",
       "    </tr>\n",
       "  </tbody>\n",
       "</table>\n",
       "</div>"
      ],
      "text/plain": [
       "                   document                          text         type  start  \\\n",
       "1  01_magenkarzinom_0192_25  Behandlung der Tumorkachexie  Therapeutic    155   \n",
       "\n",
       "   end       cui    tuis               canonical     linker  confidence  \n",
       "1  183  C4763991  [T061]  Tumor Ablation Therapy  [sapbert]    0.064244  "
      ]
     },
     "metadata": {},
     "output_type": "display_data"
    },
    {
     "name": "stdout",
     "output_type": "stream",
     "text": [
      "####\n"
     ]
    },
    {
     "data": {
      "application/vnd.jupyter.widget-view+json": {
       "model_id": "3b0581e6358a4362a1dcc2b394756644",
       "version_major": 2,
       "version_minor": 0
      },
      "text/plain": [
       "  0%|          | 0/1 [00:00<?, ?it/s]"
      ]
     },
     "metadata": {},
     "output_type": "display_data"
    },
    {
     "data": {
      "application/vnd.jupyter.widget-view+json": {
       "model_id": "7d26d873e69146b781bc6ece0361ba6f",
       "version_major": 2,
       "version_minor": 0
      },
      "text/plain": [
       "  0%|          | 0/1 [00:00<?, ?it/s]"
      ]
     },
     "metadata": {},
     "output_type": "display_data"
    },
    {
     "data": {
      "application/vnd.jupyter.widget-view+json": {
       "model_id": "a752f32fcb6d45799f2c93c5e66c95df",
       "version_major": 2,
       "version_minor": 0
      },
      "text/plain": [
       "  0%|          | 0/1 [00:00<?, ?it/s]"
      ]
     },
     "metadata": {},
     "output_type": "display_data"
    },
    {
     "data": {
      "application/vnd.jupyter.widget-view+json": {
       "model_id": "014702c0e54043cf93ed8fcdd971e455",
       "version_major": 2,
       "version_minor": 0
      },
      "text/plain": [
       "  0%|          | 0/1 [00:00<?, ?it/s]"
      ]
     },
     "metadata": {},
     "output_type": "display_data"
    },
    {
     "data": {
      "application/vnd.jupyter.widget-view+json": {
       "model_id": "3b9515e84a474d0494183f8ae4dc7a76",
       "version_major": 2,
       "version_minor": 0
      },
      "text/plain": [
       "  0%|          | 0/1 [00:00<?, ?it/s]"
      ]
     },
     "metadata": {},
     "output_type": "display_data"
    },
    {
     "data": {
      "application/vnd.jupyter.widget-view+json": {
       "model_id": "836ce7f12239437e954aaa92f02131e3",
       "version_major": 2,
       "version_minor": 0
      },
      "text/plain": [
       "  0%|          | 0/1 [00:00<?, ?it/s]"
      ]
     },
     "metadata": {},
     "output_type": "display_data"
    },
    {
     "data": {
      "application/vnd.jupyter.widget-view+json": {
       "model_id": "ff87050a8abe46c4b85d09d03d4942e5",
       "version_major": 2,
       "version_minor": 0
      },
      "text/plain": [
       "  0%|          | 0/1 [00:00<?, ?it/s]"
      ]
     },
     "metadata": {},
     "output_type": "display_data"
    },
    {
     "data": {
      "application/vnd.jupyter.widget-view+json": {
       "model_id": "ce3f3f3a815449e790a3383d7f7d4a70",
       "version_major": 2,
       "version_minor": 0
      },
      "text/plain": [
       "  0%|          | 0/1 [00:00<?, ?it/s]"
      ]
     },
     "metadata": {},
     "output_type": "display_data"
    },
    {
     "data": {
      "application/vnd.jupyter.widget-view+json": {
       "model_id": "3659dafa1b9844729a95f47d387b60b5",
       "version_major": 2,
       "version_minor": 0
      },
      "text/plain": [
       "  0%|          | 0/1 [00:00<?, ?it/s]"
      ]
     },
     "metadata": {},
     "output_type": "display_data"
    },
    {
     "data": {
      "application/vnd.jupyter.widget-view+json": {
       "model_id": "b344b5a4d4c8473298c164691a546baf",
       "version_major": 2,
       "version_minor": 0
      },
      "text/plain": [
       "  0%|          | 0/1 [00:00<?, ?it/s]"
      ]
     },
     "metadata": {},
     "output_type": "display_data"
    },
    {
     "data": {
      "application/vnd.jupyter.widget-view+json": {
       "model_id": "ac0992c3666e4cca874b37124dd45a36",
       "version_major": 2,
       "version_minor": 0
      },
      "text/plain": [
       "  0%|          | 0/1 [00:00<?, ?it/s]"
      ]
     },
     "metadata": {},
     "output_type": "display_data"
    },
    {
     "data": {
      "application/vnd.jupyter.widget-view+json": {
       "model_id": "11b0e4c4d52e41168c51bedcbccb3463",
       "version_major": 2,
       "version_minor": 0
      },
      "text/plain": [
       "  0%|          | 0/1 [00:00<?, ?it/s]"
      ]
     },
     "metadata": {},
     "output_type": "display_data"
    },
    {
     "data": {
      "application/vnd.jupyter.widget-view+json": {
       "model_id": "7e95a8f45ce2489e9f134fd319563fb3",
       "version_major": 2,
       "version_minor": 0
      },
      "text/plain": [
       "  0%|          | 0/1 [00:00<?, ?it/s]"
      ]
     },
     "metadata": {},
     "output_type": "display_data"
    },
    {
     "data": {
      "application/vnd.jupyter.widget-view+json": {
       "model_id": "0b7485805ed84a43bcabeebc1a22422b",
       "version_major": 2,
       "version_minor": 0
      },
      "text/plain": [
       "  0%|          | 0/1 [00:00<?, ?it/s]"
      ]
     },
     "metadata": {},
     "output_type": "display_data"
    },
    {
     "data": {
      "application/vnd.jupyter.widget-view+json": {
       "model_id": "9fd69ecca6dd46ecb5c443d1398ca4df",
       "version_major": 2,
       "version_minor": 0
      },
      "text/plain": [
       "  0%|          | 0/1 [00:00<?, ?it/s]"
      ]
     },
     "metadata": {},
     "output_type": "display_data"
    },
    {
     "data": {
      "application/vnd.jupyter.widget-view+json": {
       "model_id": "fbd8411e1cb645599edc6c1a5e5fd8d3",
       "version_major": 2,
       "version_minor": 0
      },
      "text/plain": [
       "  0%|          | 0/1 [00:00<?, ?it/s]"
      ]
     },
     "metadata": {},
     "output_type": "display_data"
    },
    {
     "data": {
      "application/vnd.jupyter.widget-view+json": {
       "model_id": "5721d37da8c94a20bb3e10063034a93c",
       "version_major": 2,
       "version_minor": 0
      },
      "text/plain": [
       "  0%|          | 0/1 [00:00<?, ?it/s]"
      ]
     },
     "metadata": {},
     "output_type": "display_data"
    },
    {
     "data": {
      "application/vnd.jupyter.widget-view+json": {
       "model_id": "d2ee9cb66ab74368afc345c55e548f72",
       "version_major": 2,
       "version_minor": 0
      },
      "text/plain": [
       "  0%|          | 0/1 [00:00<?, ?it/s]"
      ]
     },
     "metadata": {},
     "output_type": "display_data"
    },
    {
     "data": {
      "application/vnd.jupyter.widget-view+json": {
       "model_id": "ab76a12630cd46b9a8dc116389558d0e",
       "version_major": 2,
       "version_minor": 0
      },
      "text/plain": [
       "  0%|          | 0/1 [00:00<?, ?it/s]"
      ]
     },
     "metadata": {},
     "output_type": "display_data"
    },
    {
     "data": {
      "application/vnd.jupyter.widget-view+json": {
       "model_id": "be6e33bd8cf147bda75305dc542a00bc",
       "version_major": 2,
       "version_minor": 0
      },
      "text/plain": [
       "  0%|          | 0/1 [00:00<?, ?it/s]"
      ]
     },
     "metadata": {},
     "output_type": "display_data"
    },
    {
     "data": {
      "application/vnd.jupyter.widget-view+json": {
       "model_id": "fca7954ea41b4454b8af6239bfa05bd4",
       "version_major": 2,
       "version_minor": 0
      },
      "text/plain": [
       "  0%|          | 0/1 [00:00<?, ?it/s]"
      ]
     },
     "metadata": {},
     "output_type": "display_data"
    },
    {
     "data": {
      "application/vnd.jupyter.widget-view+json": {
       "model_id": "b800d0dca6954b7687e0dfa40fda3eb5",
       "version_major": 2,
       "version_minor": 0
      },
      "text/plain": [
       "  0%|          | 0/1 [00:00<?, ?it/s]"
      ]
     },
     "metadata": {},
     "output_type": "display_data"
    },
    {
     "data": {
      "application/vnd.jupyter.widget-view+json": {
       "model_id": "c1cd83d3470643d39a0e847c3485e7e6",
       "version_major": 2,
       "version_minor": 0
      },
      "text/plain": [
       "  0%|          | 0/1 [00:00<?, ?it/s]"
      ]
     },
     "metadata": {},
     "output_type": "display_data"
    },
    {
     "data": {
      "application/vnd.jupyter.widget-view+json": {
       "model_id": "a829d15a20e94ba4811d412ff3cf3cc5",
       "version_major": 2,
       "version_minor": 0
      },
      "text/plain": [
       "  0%|          | 0/1 [00:00<?, ?it/s]"
      ]
     },
     "metadata": {},
     "output_type": "display_data"
    },
    {
     "data": {
      "application/vnd.jupyter.widget-view+json": {
       "model_id": "d48bed7a0e024e56b457bd82229aba91",
       "version_major": 2,
       "version_minor": 0
      },
      "text/plain": [
       "  0%|          | 0/1 [00:00<?, ?it/s]"
      ]
     },
     "metadata": {},
     "output_type": "display_data"
    },
    {
     "data": {
      "application/vnd.jupyter.widget-view+json": {
       "model_id": "47a8ce16e6df4ce984aa5e446b6e1165",
       "version_major": 2,
       "version_minor": 0
      },
      "text/plain": [
       "  0%|          | 0/1 [00:00<?, ?it/s]"
      ]
     },
     "metadata": {},
     "output_type": "display_data"
    },
    {
     "data": {
      "application/vnd.jupyter.widget-view+json": {
       "model_id": "90f9f6bbee13441485ca9e66e5918261",
       "version_major": 2,
       "version_minor": 0
      },
      "text/plain": [
       "  0%|          | 0/1 [00:00<?, ?it/s]"
      ]
     },
     "metadata": {},
     "output_type": "display_data"
    },
    {
     "data": {
      "application/vnd.jupyter.widget-view+json": {
       "model_id": "8d4ac4dbdcd74d99b21a4b2f28a43665",
       "version_major": 2,
       "version_minor": 0
      },
      "text/plain": [
       "  0%|          | 0/1 [00:00<?, ?it/s]"
      ]
     },
     "metadata": {},
     "output_type": "display_data"
    },
    {
     "data": {
      "application/vnd.jupyter.widget-view+json": {
       "model_id": "60ab5d7fce9241a9b3c237c9c22aff68",
       "version_major": 2,
       "version_minor": 0
      },
      "text/plain": [
       "  0%|          | 0/1 [00:00<?, ?it/s]"
      ]
     },
     "metadata": {},
     "output_type": "display_data"
    },
    {
     "data": {
      "application/vnd.jupyter.widget-view+json": {
       "model_id": "34ffa404bea84519827f74950afcdc7c",
       "version_major": 2,
       "version_minor": 0
      },
      "text/plain": [
       "  0%|          | 0/1 [00:00<?, ?it/s]"
      ]
     },
     "metadata": {},
     "output_type": "display_data"
    },
    {
     "data": {
      "application/vnd.jupyter.widget-view+json": {
       "model_id": "0f66b6a496064a7fb459b016839ab463",
       "version_major": 2,
       "version_minor": 0
      },
      "text/plain": [
       "  0%|          | 0/1 [00:00<?, ?it/s]"
      ]
     },
     "metadata": {},
     "output_type": "display_data"
    },
    {
     "data": {
      "application/vnd.jupyter.widget-view+json": {
       "model_id": "4c4d0867b77d467988f99849d526135b",
       "version_major": 2,
       "version_minor": 0
      },
      "text/plain": [
       "  0%|          | 0/1 [00:00<?, ?it/s]"
      ]
     },
     "metadata": {},
     "output_type": "display_data"
    },
    {
     "data": {
      "application/vnd.jupyter.widget-view+json": {
       "model_id": "07922410521b46659cdfb888a9f42fc9",
       "version_major": 2,
       "version_minor": 0
      },
      "text/plain": [
       "  0%|          | 0/1 [00:00<?, ?it/s]"
      ]
     },
     "metadata": {},
     "output_type": "display_data"
    },
    {
     "data": {
      "application/vnd.jupyter.widget-view+json": {
       "model_id": "0b17b95f07724246af82aa460e3ed92c",
       "version_major": 2,
       "version_minor": 0
      },
      "text/plain": [
       "  0%|          | 0/1 [00:00<?, ?it/s]"
      ]
     },
     "metadata": {},
     "output_type": "display_data"
    },
    {
     "data": {
      "application/vnd.jupyter.widget-view+json": {
       "model_id": "101eebdce04948ffa2200eeebca51a01",
       "version_major": 2,
       "version_minor": 0
      },
      "text/plain": [
       "  0%|          | 0/1 [00:00<?, ?it/s]"
      ]
     },
     "metadata": {},
     "output_type": "display_data"
    },
    {
     "data": {
      "application/vnd.jupyter.widget-view+json": {
       "model_id": "8066b6fdb58f4ea9bcbd47fc9da9ae2c",
       "version_major": 2,
       "version_minor": 0
      },
      "text/plain": [
       "  0%|          | 0/1 [00:00<?, ?it/s]"
      ]
     },
     "metadata": {},
     "output_type": "display_data"
    },
    {
     "data": {
      "application/vnd.jupyter.widget-view+json": {
       "model_id": "c7f0c34a538c4d1c8eec3f16ce9dc617",
       "version_major": 2,
       "version_minor": 0
      },
      "text/plain": [
       "  0%|          | 0/1 [00:00<?, ?it/s]"
      ]
     },
     "metadata": {},
     "output_type": "display_data"
    },
    {
     "data": {
      "application/vnd.jupyter.widget-view+json": {
       "model_id": "7307d8fd0fd840fb8ceec860e7a2b55c",
       "version_major": 2,
       "version_minor": 0
      },
      "text/plain": [
       "  0%|          | 0/1 [00:00<?, ?it/s]"
      ]
     },
     "metadata": {},
     "output_type": "display_data"
    },
    {
     "data": {
      "application/vnd.jupyter.widget-view+json": {
       "model_id": "c386ffce829c4d7c9e4dc83e55b832a1",
       "version_major": 2,
       "version_minor": 0
      },
      "text/plain": [
       "  0%|          | 0/1 [00:00<?, ?it/s]"
      ]
     },
     "metadata": {},
     "output_type": "display_data"
    },
    {
     "data": {
      "application/vnd.jupyter.widget-view+json": {
       "model_id": "6fa2d8bf457b4199ace6bd2418ef88ea",
       "version_major": 2,
       "version_minor": 0
      },
      "text/plain": [
       "  0%|          | 0/1 [00:00<?, ?it/s]"
      ]
     },
     "metadata": {},
     "output_type": "display_data"
    },
    {
     "data": {
      "application/vnd.jupyter.widget-view+json": {
       "model_id": "8b19341eedbd447cb3f4a7a85f97d96f",
       "version_major": 2,
       "version_minor": 0
      },
      "text/plain": [
       "  0%|          | 0/1 [00:00<?, ?it/s]"
      ]
     },
     "metadata": {},
     "output_type": "display_data"
    },
    {
     "data": {
      "application/vnd.jupyter.widget-view+json": {
       "model_id": "5d899e1d050c4a39a2b6cbe3a2bcde2c",
       "version_major": 2,
       "version_minor": 0
      },
      "text/plain": [
       "  0%|          | 0/1 [00:00<?, ?it/s]"
      ]
     },
     "metadata": {},
     "output_type": "display_data"
    },
    {
     "data": {
      "application/vnd.jupyter.widget-view+json": {
       "model_id": "93801a7311174f9fbee9986189cb20b9",
       "version_major": 2,
       "version_minor": 0
      },
      "text/plain": [
       "  0%|          | 0/1 [00:00<?, ?it/s]"
      ]
     },
     "metadata": {},
     "output_type": "display_data"
    },
    {
     "data": {
      "application/vnd.jupyter.widget-view+json": {
       "model_id": "2c3d7fbbdecb4820aa6a0001aaccd2f1",
       "version_major": 2,
       "version_minor": 0
      },
      "text/plain": [
       "  0%|          | 0/1 [00:00<?, ?it/s]"
      ]
     },
     "metadata": {},
     "output_type": "display_data"
    },
    {
     "data": {
      "application/vnd.jupyter.widget-view+json": {
       "model_id": "5fe32077ee4b46a0a311f521658538e9",
       "version_major": 2,
       "version_minor": 0
      },
      "text/plain": [
       "  0%|          | 0/1 [00:00<?, ?it/s]"
      ]
     },
     "metadata": {},
     "output_type": "display_data"
    },
    {
     "data": {
      "application/vnd.jupyter.widget-view+json": {
       "model_id": "7f58b3797eef47ae9ca1498764631628",
       "version_major": 2,
       "version_minor": 0
      },
      "text/plain": [
       "  0%|          | 0/1 [00:00<?, ?it/s]"
      ]
     },
     "metadata": {},
     "output_type": "display_data"
    },
    {
     "name": "stdout",
     "output_type": "stream",
     "text": [
      "Deutlich niedriger ist die Exposition für Berufstätige in Wasserwerken, Heilstollen und Radonbädern.\n",
      "\n",
      "No Filter:\n"
     ]
    },
    {
     "data": {
      "text/html": [
       "<div>\n",
       "<style scoped>\n",
       "    .dataframe tbody tr th:only-of-type {\n",
       "        vertical-align: middle;\n",
       "    }\n",
       "\n",
       "    .dataframe tbody tr th {\n",
       "        vertical-align: top;\n",
       "    }\n",
       "\n",
       "    .dataframe thead th {\n",
       "        text-align: right;\n",
       "    }\n",
       "</style>\n",
       "<table border=\"1\" class=\"dataframe\">\n",
       "  <thead>\n",
       "    <tr style=\"text-align: right;\">\n",
       "      <th></th>\n",
       "      <th>document</th>\n",
       "      <th>text</th>\n",
       "      <th>type</th>\n",
       "      <th>start</th>\n",
       "      <th>end</th>\n",
       "      <th>cui</th>\n",
       "      <th>tuis</th>\n",
       "      <th>canonical</th>\n",
       "      <th>linker</th>\n",
       "      <th>confidence</th>\n",
       "    </tr>\n",
       "  </thead>\n",
       "  <tbody>\n",
       "    <tr>\n",
       "      <th>1</th>\n",
       "      <td>03_lungenkarzinom_0010_14</td>\n",
       "      <td>Radonbädern</td>\n",
       "      <td>External_Substance</td>\n",
       "      <td>88</td>\n",
       "      <td>99</td>\n",
       "      <td>C0034547</td>\n",
       "      <td>[T070]</td>\n",
       "      <td>Radio Waves</td>\n",
       "      <td>[sapbert]</td>\n",
       "      <td>0.066053</td>\n",
       "    </tr>\n",
       "  </tbody>\n",
       "</table>\n",
       "</div>"
      ],
      "text/plain": [
       "                    document         text                type  start  end  \\\n",
       "1  03_lungenkarzinom_0010_14  Radonbädern  External_Substance     88   99   \n",
       "\n",
       "        cui    tuis    canonical     linker  confidence  \n",
       "1  C0034547  [T070]  Radio Waves  [sapbert]    0.066053  "
      ]
     },
     "metadata": {},
     "output_type": "display_data"
    },
    {
     "name": "stdout",
     "output_type": "stream",
     "text": [
      "Filter:\n"
     ]
    },
    {
     "data": {
      "text/html": [
       "<div>\n",
       "<style scoped>\n",
       "    .dataframe tbody tr th:only-of-type {\n",
       "        vertical-align: middle;\n",
       "    }\n",
       "\n",
       "    .dataframe tbody tr th {\n",
       "        vertical-align: top;\n",
       "    }\n",
       "\n",
       "    .dataframe thead th {\n",
       "        text-align: right;\n",
       "    }\n",
       "</style>\n",
       "<table border=\"1\" class=\"dataframe\">\n",
       "  <thead>\n",
       "    <tr style=\"text-align: right;\">\n",
       "      <th></th>\n",
       "      <th>document</th>\n",
       "      <th>text</th>\n",
       "      <th>type</th>\n",
       "      <th>start</th>\n",
       "      <th>end</th>\n",
       "      <th>cui</th>\n",
       "      <th>tuis</th>\n",
       "      <th>canonical</th>\n",
       "      <th>linker</th>\n",
       "      <th>confidence</th>\n",
       "    </tr>\n",
       "  </thead>\n",
       "  <tbody>\n",
       "    <tr>\n",
       "      <th>1</th>\n",
       "      <td>03_lungenkarzinom_0010_14</td>\n",
       "      <td>Radonbädern</td>\n",
       "      <td>External_Substance</td>\n",
       "      <td>88</td>\n",
       "      <td>99</td>\n",
       "      <td>C0034629</td>\n",
       "      <td>[T131, T196]</td>\n",
       "      <td>Radon</td>\n",
       "      <td>[ngram, sapbert]</td>\n",
       "      <td>0.0655</td>\n",
       "    </tr>\n",
       "  </tbody>\n",
       "</table>\n",
       "</div>"
      ],
      "text/plain": [
       "                    document         text                type  start  end  \\\n",
       "1  03_lungenkarzinom_0010_14  Radonbädern  External_Substance     88   99   \n",
       "\n",
       "        cui          tuis canonical            linker  confidence  \n",
       "1  C0034629  [T131, T196]     Radon  [ngram, sapbert]      0.0655  "
      ]
     },
     "metadata": {},
     "output_type": "display_data"
    },
    {
     "name": "stdout",
     "output_type": "stream",
     "text": [
      "####\n"
     ]
    },
    {
     "data": {
      "application/vnd.jupyter.widget-view+json": {
       "model_id": "df66a7a3f04b4dd1ad0af5d9e67e8807",
       "version_major": 2,
       "version_minor": 0
      },
      "text/plain": [
       "  0%|          | 0/1 [00:00<?, ?it/s]"
      ]
     },
     "metadata": {},
     "output_type": "display_data"
    },
    {
     "data": {
      "application/vnd.jupyter.widget-view+json": {
       "model_id": "99a7cfb62f4840409facbc827129cdee",
       "version_major": 2,
       "version_minor": 0
      },
      "text/plain": [
       "  0%|          | 0/1 [00:00<?, ?it/s]"
      ]
     },
     "metadata": {},
     "output_type": "display_data"
    },
    {
     "name": "stdout",
     "output_type": "stream",
     "text": [
      "Aktuelle Daten zur Radonexposition finden sich in der Radonkarte des Bundesamts für Strahlenschutz, welche online verfügbar ist ([URL]).\n",
      "\n",
      "No Filter:\n"
     ]
    },
    {
     "data": {
      "text/html": [
       "<div>\n",
       "<style scoped>\n",
       "    .dataframe tbody tr th:only-of-type {\n",
       "        vertical-align: middle;\n",
       "    }\n",
       "\n",
       "    .dataframe tbody tr th {\n",
       "        vertical-align: top;\n",
       "    }\n",
       "\n",
       "    .dataframe thead th {\n",
       "        text-align: right;\n",
       "    }\n",
       "</style>\n",
       "<table border=\"1\" class=\"dataframe\">\n",
       "  <thead>\n",
       "    <tr style=\"text-align: right;\">\n",
       "      <th></th>\n",
       "      <th>document</th>\n",
       "      <th>text</th>\n",
       "      <th>type</th>\n",
       "      <th>start</th>\n",
       "      <th>end</th>\n",
       "      <th>cui</th>\n",
       "      <th>tuis</th>\n",
       "      <th>canonical</th>\n",
       "      <th>linker</th>\n",
       "      <th>confidence</th>\n",
       "    </tr>\n",
       "  </thead>\n",
       "  <tbody>\n",
       "    <tr>\n",
       "      <th>1</th>\n",
       "      <td>03_lungenkarzinom_0010_15</td>\n",
       "      <td>Radonkarte</td>\n",
       "      <td>External_Substance</td>\n",
       "      <td>54</td>\n",
       "      <td>64</td>\n",
       "      <td>C1306645</td>\n",
       "      <td>[T060]</td>\n",
       "      <td>Roentgen</td>\n",
       "      <td>[sapbert]</td>\n",
       "      <td>0.064765</td>\n",
       "    </tr>\n",
       "  </tbody>\n",
       "</table>\n",
       "</div>"
      ],
      "text/plain": [
       "                    document        text                type  start  end  \\\n",
       "1  03_lungenkarzinom_0010_15  Radonkarte  External_Substance     54   64   \n",
       "\n",
       "        cui    tuis canonical     linker  confidence  \n",
       "1  C1306645  [T060]  Roentgen  [sapbert]    0.064765  "
      ]
     },
     "metadata": {},
     "output_type": "display_data"
    },
    {
     "name": "stdout",
     "output_type": "stream",
     "text": [
      "Filter:\n"
     ]
    },
    {
     "data": {
      "text/html": [
       "<div>\n",
       "<style scoped>\n",
       "    .dataframe tbody tr th:only-of-type {\n",
       "        vertical-align: middle;\n",
       "    }\n",
       "\n",
       "    .dataframe tbody tr th {\n",
       "        vertical-align: top;\n",
       "    }\n",
       "\n",
       "    .dataframe thead th {\n",
       "        text-align: right;\n",
       "    }\n",
       "</style>\n",
       "<table border=\"1\" class=\"dataframe\">\n",
       "  <thead>\n",
       "    <tr style=\"text-align: right;\">\n",
       "      <th></th>\n",
       "      <th>document</th>\n",
       "      <th>text</th>\n",
       "      <th>type</th>\n",
       "      <th>start</th>\n",
       "      <th>end</th>\n",
       "      <th>cui</th>\n",
       "      <th>tuis</th>\n",
       "      <th>canonical</th>\n",
       "      <th>linker</th>\n",
       "      <th>confidence</th>\n",
       "    </tr>\n",
       "  </thead>\n",
       "  <tbody>\n",
       "    <tr>\n",
       "      <th>1</th>\n",
       "      <td>03_lungenkarzinom_0010_15</td>\n",
       "      <td>Radonkarte</td>\n",
       "      <td>External_Substance</td>\n",
       "      <td>54</td>\n",
       "      <td>64</td>\n",
       "      <td>C0034629</td>\n",
       "      <td>[T131, T196]</td>\n",
       "      <td>Radon</td>\n",
       "      <td>[ngram, sapbert]</td>\n",
       "      <td>0.064422</td>\n",
       "    </tr>\n",
       "  </tbody>\n",
       "</table>\n",
       "</div>"
      ],
      "text/plain": [
       "                    document        text                type  start  end  \\\n",
       "1  03_lungenkarzinom_0010_15  Radonkarte  External_Substance     54   64   \n",
       "\n",
       "        cui          tuis canonical            linker  confidence  \n",
       "1  C0034629  [T131, T196]     Radon  [ngram, sapbert]    0.064422  "
      ]
     },
     "metadata": {},
     "output_type": "display_data"
    },
    {
     "name": "stdout",
     "output_type": "stream",
     "text": [
      "####\n"
     ]
    },
    {
     "data": {
      "application/vnd.jupyter.widget-view+json": {
       "model_id": "3d011e87fdb24d2bae537235daf6875c",
       "version_major": 2,
       "version_minor": 0
      },
      "text/plain": [
       "  0%|          | 0/1 [00:00<?, ?it/s]"
      ]
     },
     "metadata": {},
     "output_type": "display_data"
    },
    {
     "data": {
      "application/vnd.jupyter.widget-view+json": {
       "model_id": "76304cb7ae324cdf8c1443ec9c8a2127",
       "version_major": 2,
       "version_minor": 0
      },
      "text/plain": [
       "  0%|          | 0/1 [00:00<?, ?it/s]"
      ]
     },
     "metadata": {},
     "output_type": "display_data"
    },
    {
     "data": {
      "application/vnd.jupyter.widget-view+json": {
       "model_id": "3f7d0b5e16e44741bec90c93bd26c110",
       "version_major": 2,
       "version_minor": 0
      },
      "text/plain": [
       "  0%|          | 0/1 [00:00<?, ?it/s]"
      ]
     },
     "metadata": {},
     "output_type": "display_data"
    },
    {
     "data": {
      "application/vnd.jupyter.widget-view+json": {
       "model_id": "5702f9b450934249b90b8a32675f7f5d",
       "version_major": 2,
       "version_minor": 0
      },
      "text/plain": [
       "  0%|          | 0/1 [00:00<?, ?it/s]"
      ]
     },
     "metadata": {},
     "output_type": "display_data"
    },
    {
     "data": {
      "application/vnd.jupyter.widget-view+json": {
       "model_id": "462b0d1047ae4a88af8490ec28918f5d",
       "version_major": 2,
       "version_minor": 0
      },
      "text/plain": [
       "  0%|          | 0/1 [00:00<?, ?it/s]"
      ]
     },
     "metadata": {},
     "output_type": "display_data"
    },
    {
     "data": {
      "application/vnd.jupyter.widget-view+json": {
       "model_id": "8d993c4ee91247688a672e5347b80172",
       "version_major": 2,
       "version_minor": 0
      },
      "text/plain": [
       "  0%|          | 0/1 [00:00<?, ?it/s]"
      ]
     },
     "metadata": {},
     "output_type": "display_data"
    },
    {
     "data": {
      "application/vnd.jupyter.widget-view+json": {
       "model_id": "632b98c137484e878177e008cf28a1d8",
       "version_major": 2,
       "version_minor": 0
      },
      "text/plain": [
       "  0%|          | 0/1 [00:00<?, ?it/s]"
      ]
     },
     "metadata": {},
     "output_type": "display_data"
    },
    {
     "data": {
      "application/vnd.jupyter.widget-view+json": {
       "model_id": "1e9a67f489914b0eab16c6455cd9a8f9",
       "version_major": 2,
       "version_minor": 0
      },
      "text/plain": [
       "  0%|          | 0/1 [00:00<?, ?it/s]"
      ]
     },
     "metadata": {},
     "output_type": "display_data"
    },
    {
     "data": {
      "application/vnd.jupyter.widget-view+json": {
       "model_id": "1305a966999a40d7bbfe1391bdeb84b5",
       "version_major": 2,
       "version_minor": 0
      },
      "text/plain": [
       "  0%|          | 0/1 [00:00<?, ?it/s]"
      ]
     },
     "metadata": {},
     "output_type": "display_data"
    },
    {
     "data": {
      "application/vnd.jupyter.widget-view+json": {
       "model_id": "c3337f9c319847fa89d07c6929c98a5c",
       "version_major": 2,
       "version_minor": 0
      },
      "text/plain": [
       "  0%|          | 0/1 [00:00<?, ?it/s]"
      ]
     },
     "metadata": {},
     "output_type": "display_data"
    },
    {
     "data": {
      "application/vnd.jupyter.widget-view+json": {
       "model_id": "c6056278a1694475af09fa289aa09f1c",
       "version_major": 2,
       "version_minor": 0
      },
      "text/plain": [
       "  0%|          | 0/1 [00:00<?, ?it/s]"
      ]
     },
     "metadata": {},
     "output_type": "display_data"
    },
    {
     "data": {
      "application/vnd.jupyter.widget-view+json": {
       "model_id": "4f48418011f246a099dcada3feea8078",
       "version_major": 2,
       "version_minor": 0
      },
      "text/plain": [
       "  0%|          | 0/1 [00:00<?, ?it/s]"
      ]
     },
     "metadata": {},
     "output_type": "display_data"
    },
    {
     "data": {
      "application/vnd.jupyter.widget-view+json": {
       "model_id": "a85b328b44694dac9d97ed5e7ca072b8",
       "version_major": 2,
       "version_minor": 0
      },
      "text/plain": [
       "  0%|          | 0/1 [00:00<?, ?it/s]"
      ]
     },
     "metadata": {},
     "output_type": "display_data"
    },
    {
     "data": {
      "application/vnd.jupyter.widget-view+json": {
       "model_id": "f009a9dbe13d4e1da1130b0fdfcb05bd",
       "version_major": 2,
       "version_minor": 0
      },
      "text/plain": [
       "  0%|          | 0/1 [00:00<?, ?it/s]"
      ]
     },
     "metadata": {},
     "output_type": "display_data"
    },
    {
     "data": {
      "application/vnd.jupyter.widget-view+json": {
       "model_id": "0d0719b7e2b44792831dd6a35725ee40",
       "version_major": 2,
       "version_minor": 0
      },
      "text/plain": [
       "  0%|          | 0/1 [00:00<?, ?it/s]"
      ]
     },
     "metadata": {},
     "output_type": "display_data"
    },
    {
     "data": {
      "application/vnd.jupyter.widget-view+json": {
       "model_id": "192e9a43b4c9457a8b41ac9517874695",
       "version_major": 2,
       "version_minor": 0
      },
      "text/plain": [
       "  0%|          | 0/1 [00:00<?, ?it/s]"
      ]
     },
     "metadata": {},
     "output_type": "display_data"
    },
    {
     "data": {
      "application/vnd.jupyter.widget-view+json": {
       "model_id": "81012777760d4584a5ba8f0bc2a15bdd",
       "version_major": 2,
       "version_minor": 0
      },
      "text/plain": [
       "  0%|          | 0/1 [00:00<?, ?it/s]"
      ]
     },
     "metadata": {},
     "output_type": "display_data"
    },
    {
     "data": {
      "application/vnd.jupyter.widget-view+json": {
       "model_id": "8269bef7515c45c68de7a224f0d47705",
       "version_major": 2,
       "version_minor": 0
      },
      "text/plain": [
       "  0%|          | 0/1 [00:00<?, ?it/s]"
      ]
     },
     "metadata": {},
     "output_type": "display_data"
    },
    {
     "data": {
      "application/vnd.jupyter.widget-view+json": {
       "model_id": "5faffbb0299341e0b3d97910ed082c3a",
       "version_major": 2,
       "version_minor": 0
      },
      "text/plain": [
       "  0%|          | 0/1 [00:00<?, ?it/s]"
      ]
     },
     "metadata": {},
     "output_type": "display_data"
    },
    {
     "data": {
      "application/vnd.jupyter.widget-view+json": {
       "model_id": "8fcaba50ba5c43abbd67272500008e85",
       "version_major": 2,
       "version_minor": 0
      },
      "text/plain": [
       "  0%|          | 0/1 [00:00<?, ?it/s]"
      ]
     },
     "metadata": {},
     "output_type": "display_data"
    },
    {
     "data": {
      "application/vnd.jupyter.widget-view+json": {
       "model_id": "560ce8891a1744d0a2d84403bdcd647c",
       "version_major": 2,
       "version_minor": 0
      },
      "text/plain": [
       "  0%|          | 0/1 [00:00<?, ?it/s]"
      ]
     },
     "metadata": {},
     "output_type": "display_data"
    },
    {
     "data": {
      "application/vnd.jupyter.widget-view+json": {
       "model_id": "70fa88782085456cb470dbf3fc11c4c3",
       "version_major": 2,
       "version_minor": 0
      },
      "text/plain": [
       "  0%|          | 0/1 [00:00<?, ?it/s]"
      ]
     },
     "metadata": {},
     "output_type": "display_data"
    },
    {
     "data": {
      "application/vnd.jupyter.widget-view+json": {
       "model_id": "81e54dd8ab8940ce864f90290a086691",
       "version_major": 2,
       "version_minor": 0
      },
      "text/plain": [
       "  0%|          | 0/1 [00:00<?, ?it/s]"
      ]
     },
     "metadata": {},
     "output_type": "display_data"
    },
    {
     "data": {
      "application/vnd.jupyter.widget-view+json": {
       "model_id": "99fe6e50ceff4a1baa22e80fdcfc8ceb",
       "version_major": 2,
       "version_minor": 0
      },
      "text/plain": [
       "  0%|          | 0/1 [00:00<?, ?it/s]"
      ]
     },
     "metadata": {},
     "output_type": "display_data"
    },
    {
     "data": {
      "application/vnd.jupyter.widget-view+json": {
       "model_id": "5b27eddb106048099f18519ef4ac171c",
       "version_major": 2,
       "version_minor": 0
      },
      "text/plain": [
       "  0%|          | 0/1 [00:00<?, ?it/s]"
      ]
     },
     "metadata": {},
     "output_type": "display_data"
    },
    {
     "data": {
      "application/vnd.jupyter.widget-view+json": {
       "model_id": "629fb4cf2a0847e2a374c4ba64b2815e",
       "version_major": 2,
       "version_minor": 0
      },
      "text/plain": [
       "  0%|          | 0/1 [00:00<?, ?it/s]"
      ]
     },
     "metadata": {},
     "output_type": "display_data"
    },
    {
     "data": {
      "application/vnd.jupyter.widget-view+json": {
       "model_id": "a509ec6a4a334bd6b4ac84cf40ccef09",
       "version_major": 2,
       "version_minor": 0
      },
      "text/plain": [
       "  0%|          | 0/1 [00:00<?, ?it/s]"
      ]
     },
     "metadata": {},
     "output_type": "display_data"
    },
    {
     "data": {
      "application/vnd.jupyter.widget-view+json": {
       "model_id": "835c1c249b4042fcbf26b16c6a1838b0",
       "version_major": 2,
       "version_minor": 0
      },
      "text/plain": [
       "  0%|          | 0/1 [00:00<?, ?it/s]"
      ]
     },
     "metadata": {},
     "output_type": "display_data"
    },
    {
     "data": {
      "application/vnd.jupyter.widget-view+json": {
       "model_id": "e420f07a4f5c4f95853bba50a06193a8",
       "version_major": 2,
       "version_minor": 0
      },
      "text/plain": [
       "  0%|          | 0/1 [00:00<?, ?it/s]"
      ]
     },
     "metadata": {},
     "output_type": "display_data"
    },
    {
     "data": {
      "application/vnd.jupyter.widget-view+json": {
       "model_id": "623b1871f26d4a508dfb59c4326a0793",
       "version_major": 2,
       "version_minor": 0
      },
      "text/plain": [
       "  0%|          | 0/1 [00:00<?, ?it/s]"
      ]
     },
     "metadata": {},
     "output_type": "display_data"
    },
    {
     "data": {
      "application/vnd.jupyter.widget-view+json": {
       "model_id": "fc1e3fa0d59d46acb32b11bb17767f6e",
       "version_major": 2,
       "version_minor": 0
      },
      "text/plain": [
       "  0%|          | 0/1 [00:00<?, ?it/s]"
      ]
     },
     "metadata": {},
     "output_type": "display_data"
    },
    {
     "data": {
      "application/vnd.jupyter.widget-view+json": {
       "model_id": "1e9749b302a747f3b9efa5430df93ef7",
       "version_major": 2,
       "version_minor": 0
      },
      "text/plain": [
       "  0%|          | 0/1 [00:00<?, ?it/s]"
      ]
     },
     "metadata": {},
     "output_type": "display_data"
    },
    {
     "data": {
      "application/vnd.jupyter.widget-view+json": {
       "model_id": "912e7e8a597a4dfbb0e18adcfb34d005",
       "version_major": 2,
       "version_minor": 0
      },
      "text/plain": [
       "  0%|          | 0/1 [00:00<?, ?it/s]"
      ]
     },
     "metadata": {},
     "output_type": "display_data"
    },
    {
     "data": {
      "application/vnd.jupyter.widget-view+json": {
       "model_id": "83a04b5a274544cda8c3ff4d79710ad6",
       "version_major": 2,
       "version_minor": 0
      },
      "text/plain": [
       "  0%|          | 0/1 [00:00<?, ?it/s]"
      ]
     },
     "metadata": {},
     "output_type": "display_data"
    },
    {
     "data": {
      "application/vnd.jupyter.widget-view+json": {
       "model_id": "53c6522b729e4ba5baa81c08cd1c5af7",
       "version_major": 2,
       "version_minor": 0
      },
      "text/plain": [
       "  0%|          | 0/1 [00:00<?, ?it/s]"
      ]
     },
     "metadata": {},
     "output_type": "display_data"
    },
    {
     "data": {
      "application/vnd.jupyter.widget-view+json": {
       "model_id": "3a8d8094d0ad4f9595c095f33c8b2fc9",
       "version_major": 2,
       "version_minor": 0
      },
      "text/plain": [
       "  0%|          | 0/1 [00:00<?, ?it/s]"
      ]
     },
     "metadata": {},
     "output_type": "display_data"
    },
    {
     "data": {
      "application/vnd.jupyter.widget-view+json": {
       "model_id": "c7b8bfef71454a7f9f79b92f99bf30bd",
       "version_major": 2,
       "version_minor": 0
      },
      "text/plain": [
       "  0%|          | 0/1 [00:00<?, ?it/s]"
      ]
     },
     "metadata": {},
     "output_type": "display_data"
    },
    {
     "data": {
      "application/vnd.jupyter.widget-view+json": {
       "model_id": "5898021c71ac4d9dbe824ebc0d65cee6",
       "version_major": 2,
       "version_minor": 0
      },
      "text/plain": [
       "  0%|          | 0/1 [00:00<?, ?it/s]"
      ]
     },
     "metadata": {},
     "output_type": "display_data"
    },
    {
     "data": {
      "application/vnd.jupyter.widget-view+json": {
       "model_id": "00725f59c1404eb9b01a03701bf5fb82",
       "version_major": 2,
       "version_minor": 0
      },
      "text/plain": [
       "  0%|          | 0/1 [00:00<?, ?it/s]"
      ]
     },
     "metadata": {},
     "output_type": "display_data"
    },
    {
     "data": {
      "application/vnd.jupyter.widget-view+json": {
       "model_id": "fd6bcdc2ef0941b69eb753d04e0ca554",
       "version_major": 2,
       "version_minor": 0
      },
      "text/plain": [
       "  0%|          | 0/1 [00:00<?, ?it/s]"
      ]
     },
     "metadata": {},
     "output_type": "display_data"
    },
    {
     "data": {
      "application/vnd.jupyter.widget-view+json": {
       "model_id": "9f386fae1c57438eb704ac4ee7667bc7",
       "version_major": 2,
       "version_minor": 0
      },
      "text/plain": [
       "  0%|          | 0/1 [00:00<?, ?it/s]"
      ]
     },
     "metadata": {},
     "output_type": "display_data"
    },
    {
     "data": {
      "application/vnd.jupyter.widget-view+json": {
       "model_id": "9a7e88c4a1b44c5f9becaa47b81ec3d3",
       "version_major": 2,
       "version_minor": 0
      },
      "text/plain": [
       "  0%|          | 0/1 [00:00<?, ?it/s]"
      ]
     },
     "metadata": {},
     "output_type": "display_data"
    },
    {
     "data": {
      "application/vnd.jupyter.widget-view+json": {
       "model_id": "2f290a76cb774ae38ea72bf7010841a4",
       "version_major": 2,
       "version_minor": 0
      },
      "text/plain": [
       "  0%|          | 0/1 [00:00<?, ?it/s]"
      ]
     },
     "metadata": {},
     "output_type": "display_data"
    },
    {
     "data": {
      "application/vnd.jupyter.widget-view+json": {
       "model_id": "54b72cb69f994cacafb8c30b361a8d87",
       "version_major": 2,
       "version_minor": 0
      },
      "text/plain": [
       "  0%|          | 0/1 [00:00<?, ?it/s]"
      ]
     },
     "metadata": {},
     "output_type": "display_data"
    },
    {
     "data": {
      "application/vnd.jupyter.widget-view+json": {
       "model_id": "9050d1f61a9c4f4393fb453149629e17",
       "version_major": 2,
       "version_minor": 0
      },
      "text/plain": [
       "  0%|          | 0/1 [00:00<?, ?it/s]"
      ]
     },
     "metadata": {},
     "output_type": "display_data"
    },
    {
     "data": {
      "application/vnd.jupyter.widget-view+json": {
       "model_id": "af0b75fcf8c84a3aa6f5ae2b5eac60ec",
       "version_major": 2,
       "version_minor": 0
      },
      "text/plain": [
       "  0%|          | 0/1 [00:00<?, ?it/s]"
      ]
     },
     "metadata": {},
     "output_type": "display_data"
    },
    {
     "data": {
      "application/vnd.jupyter.widget-view+json": {
       "model_id": "194ce6745fb34da8925a460bc74def30",
       "version_major": 2,
       "version_minor": 0
      },
      "text/plain": [
       "  0%|          | 0/1 [00:00<?, ?it/s]"
      ]
     },
     "metadata": {},
     "output_type": "display_data"
    },
    {
     "data": {
      "application/vnd.jupyter.widget-view+json": {
       "model_id": "09ecce5836be4adeafab02a2c69a5959",
       "version_major": 2,
       "version_minor": 0
      },
      "text/plain": [
       "  0%|          | 0/1 [00:00<?, ?it/s]"
      ]
     },
     "metadata": {},
     "output_type": "display_data"
    },
    {
     "data": {
      "application/vnd.jupyter.widget-view+json": {
       "model_id": "446d2a00e8844f8e8e5d528e89b8db1a",
       "version_major": 2,
       "version_minor": 0
      },
      "text/plain": [
       "  0%|          | 0/1 [00:00<?, ?it/s]"
      ]
     },
     "metadata": {},
     "output_type": "display_data"
    },
    {
     "data": {
      "application/vnd.jupyter.widget-view+json": {
       "model_id": "7c4976fc6d004eaeb10b08eafed6b4ea",
       "version_major": 2,
       "version_minor": 0
      },
      "text/plain": [
       "  0%|          | 0/1 [00:00<?, ?it/s]"
      ]
     },
     "metadata": {},
     "output_type": "display_data"
    },
    {
     "data": {
      "application/vnd.jupyter.widget-view+json": {
       "model_id": "b0e53d72ea21417781c3d6c1e4abfc1b",
       "version_major": 2,
       "version_minor": 0
      },
      "text/plain": [
       "  0%|          | 0/1 [00:00<?, ?it/s]"
      ]
     },
     "metadata": {},
     "output_type": "display_data"
    },
    {
     "data": {
      "application/vnd.jupyter.widget-view+json": {
       "model_id": "1241be70773248d7b737168611b1abc5",
       "version_major": 2,
       "version_minor": 0
      },
      "text/plain": [
       "  0%|          | 0/1 [00:00<?, ?it/s]"
      ]
     },
     "metadata": {},
     "output_type": "display_data"
    },
    {
     "data": {
      "application/vnd.jupyter.widget-view+json": {
       "model_id": "231a45ac03794a31a21b48ca29f5fd53",
       "version_major": 2,
       "version_minor": 0
      },
      "text/plain": [
       "  0%|          | 0/1 [00:00<?, ?it/s]"
      ]
     },
     "metadata": {},
     "output_type": "display_data"
    },
    {
     "data": {
      "application/vnd.jupyter.widget-view+json": {
       "model_id": "d4d9758be9c740588f5cd567852ae6fd",
       "version_major": 2,
       "version_minor": 0
      },
      "text/plain": [
       "  0%|          | 0/1 [00:00<?, ?it/s]"
      ]
     },
     "metadata": {},
     "output_type": "display_data"
    },
    {
     "data": {
      "application/vnd.jupyter.widget-view+json": {
       "model_id": "fd1a4ce8605e4b7393cd048833782066",
       "version_major": 2,
       "version_minor": 0
      },
      "text/plain": [
       "  0%|          | 0/1 [00:00<?, ?it/s]"
      ]
     },
     "metadata": {},
     "output_type": "display_data"
    },
    {
     "data": {
      "application/vnd.jupyter.widget-view+json": {
       "model_id": "015978617b864281b0a09dd38209453d",
       "version_major": 2,
       "version_minor": 0
      },
      "text/plain": [
       "  0%|          | 0/1 [00:00<?, ?it/s]"
      ]
     },
     "metadata": {},
     "output_type": "display_data"
    },
    {
     "data": {
      "application/vnd.jupyter.widget-view+json": {
       "model_id": "f16c734ff37c4e3c9b746372a16b1e9b",
       "version_major": 2,
       "version_minor": 0
      },
      "text/plain": [
       "  0%|          | 0/1 [00:00<?, ?it/s]"
      ]
     },
     "metadata": {},
     "output_type": "display_data"
    },
    {
     "data": {
      "application/vnd.jupyter.widget-view+json": {
       "model_id": "686124b1bede4169b6cd2dbfe7d09637",
       "version_major": 2,
       "version_minor": 0
      },
      "text/plain": [
       "  0%|          | 0/1 [00:00<?, ?it/s]"
      ]
     },
     "metadata": {},
     "output_type": "display_data"
    },
    {
     "data": {
      "application/vnd.jupyter.widget-view+json": {
       "model_id": "d4b2a80d3ba4465bb298384d8f6c0375",
       "version_major": 2,
       "version_minor": 0
      },
      "text/plain": [
       "  0%|          | 0/1 [00:00<?, ?it/s]"
      ]
     },
     "metadata": {},
     "output_type": "display_data"
    },
    {
     "data": {
      "application/vnd.jupyter.widget-view+json": {
       "model_id": "e2540ad7b64a4bda915960e93be47a8a",
       "version_major": 2,
       "version_minor": 0
      },
      "text/plain": [
       "  0%|          | 0/1 [00:00<?, ?it/s]"
      ]
     },
     "metadata": {},
     "output_type": "display_data"
    },
    {
     "data": {
      "application/vnd.jupyter.widget-view+json": {
       "model_id": "4aea199e6591411d87ea9d363199b3d2",
       "version_major": 2,
       "version_minor": 0
      },
      "text/plain": [
       "  0%|          | 0/1 [00:00<?, ?it/s]"
      ]
     },
     "metadata": {},
     "output_type": "display_data"
    },
    {
     "data": {
      "application/vnd.jupyter.widget-view+json": {
       "model_id": "b9dde014a1874501b7ce118d9dff6250",
       "version_major": 2,
       "version_minor": 0
      },
      "text/plain": [
       "  0%|          | 0/1 [00:00<?, ?it/s]"
      ]
     },
     "metadata": {},
     "output_type": "display_data"
    },
    {
     "name": "stdout",
     "output_type": "stream",
     "text": [
      "Bei inadäquater kolposkopischer Aussage, Verdacht auf endocervikale CIN 2 oder CIN 3 oder Zustand nach früherer Behandlung einer CIN wird die Exzision mit kompletter histopathologischer Evaluierung empfohlen ( [REF], S17).\n",
      "\n",
      "No Filter:\n"
     ]
    },
    {
     "data": {
      "text/html": [
       "<div>\n",
       "<style scoped>\n",
       "    .dataframe tbody tr th:only-of-type {\n",
       "        vertical-align: middle;\n",
       "    }\n",
       "\n",
       "    .dataframe tbody tr th {\n",
       "        vertical-align: top;\n",
       "    }\n",
       "\n",
       "    .dataframe thead th {\n",
       "        text-align: right;\n",
       "    }\n",
       "</style>\n",
       "<table border=\"1\" class=\"dataframe\">\n",
       "  <thead>\n",
       "    <tr style=\"text-align: right;\">\n",
       "      <th></th>\n",
       "      <th>document</th>\n",
       "      <th>text</th>\n",
       "      <th>type</th>\n",
       "      <th>start</th>\n",
       "      <th>end</th>\n",
       "      <th>cui</th>\n",
       "      <th>tuis</th>\n",
       "      <th>canonical</th>\n",
       "      <th>linker</th>\n",
       "      <th>confidence</th>\n",
       "    </tr>\n",
       "  </thead>\n",
       "  <tbody>\n",
       "    <tr>\n",
       "      <th>2</th>\n",
       "      <td>04_praevention-zervixkarzinom_0211_12</td>\n",
       "      <td>früherer Behandlung einer CIN</td>\n",
       "      <td>Therapeutic</td>\n",
       "      <td>103</td>\n",
       "      <td>132</td>\n",
       "      <td>C4505227</td>\n",
       "      <td>[T058]</td>\n",
       "      <td>Early Goal-Directed Therapy</td>\n",
       "      <td>[sapbert]</td>\n",
       "      <td>0.064404</td>\n",
       "    </tr>\n",
       "  </tbody>\n",
       "</table>\n",
       "</div>"
      ],
      "text/plain": [
       "                                document                           text  \\\n",
       "2  04_praevention-zervixkarzinom_0211_12  früherer Behandlung einer CIN   \n",
       "\n",
       "          type  start  end       cui    tuis                    canonical  \\\n",
       "2  Therapeutic    103  132  C4505227  [T058]  Early Goal-Directed Therapy   \n",
       "\n",
       "      linker  confidence  \n",
       "2  [sapbert]    0.064404  "
      ]
     },
     "metadata": {},
     "output_type": "display_data"
    },
    {
     "name": "stdout",
     "output_type": "stream",
     "text": [
      "Filter:\n"
     ]
    },
    {
     "data": {
      "text/html": [
       "<div>\n",
       "<style scoped>\n",
       "    .dataframe tbody tr th:only-of-type {\n",
       "        vertical-align: middle;\n",
       "    }\n",
       "\n",
       "    .dataframe tbody tr th {\n",
       "        vertical-align: top;\n",
       "    }\n",
       "\n",
       "    .dataframe thead th {\n",
       "        text-align: right;\n",
       "    }\n",
       "</style>\n",
       "<table border=\"1\" class=\"dataframe\">\n",
       "  <thead>\n",
       "    <tr style=\"text-align: right;\">\n",
       "      <th></th>\n",
       "      <th>document</th>\n",
       "      <th>text</th>\n",
       "      <th>type</th>\n",
       "      <th>start</th>\n",
       "      <th>end</th>\n",
       "      <th>cui</th>\n",
       "      <th>tuis</th>\n",
       "      <th>canonical</th>\n",
       "      <th>linker</th>\n",
       "      <th>confidence</th>\n",
       "    </tr>\n",
       "  </thead>\n",
       "  <tbody>\n",
       "    <tr>\n",
       "      <th>2</th>\n",
       "      <td>04_praevention-zervixkarzinom_0211_12</td>\n",
       "      <td>früherer Behandlung einer CIN</td>\n",
       "      <td>Therapeutic</td>\n",
       "      <td>103</td>\n",
       "      <td>132</td>\n",
       "      <td>C3177188</td>\n",
       "      <td>[T061]</td>\n",
       "      <td>Early Therapy</td>\n",
       "      <td>[sapbert]</td>\n",
       "      <td>0.064505</td>\n",
       "    </tr>\n",
       "  </tbody>\n",
       "</table>\n",
       "</div>"
      ],
      "text/plain": [
       "                                document                           text  \\\n",
       "2  04_praevention-zervixkarzinom_0211_12  früherer Behandlung einer CIN   \n",
       "\n",
       "          type  start  end       cui    tuis      canonical     linker  \\\n",
       "2  Therapeutic    103  132  C3177188  [T061]  Early Therapy  [sapbert]   \n",
       "\n",
       "   confidence  \n",
       "2    0.064505  "
      ]
     },
     "metadata": {},
     "output_type": "display_data"
    },
    {
     "name": "stdout",
     "output_type": "stream",
     "text": [
      "####\n"
     ]
    },
    {
     "data": {
      "application/vnd.jupyter.widget-view+json": {
       "model_id": "d64d9cf5328b4dcaaeafa9b25c4fe6f8",
       "version_major": 2,
       "version_minor": 0
      },
      "text/plain": [
       "  0%|          | 0/1 [00:00<?, ?it/s]"
      ]
     },
     "metadata": {},
     "output_type": "display_data"
    },
    {
     "data": {
      "application/vnd.jupyter.widget-view+json": {
       "model_id": "2ce510e4144347f684b105f758da844e",
       "version_major": 2,
       "version_minor": 0
      },
      "text/plain": [
       "  0%|          | 0/1 [00:00<?, ?it/s]"
      ]
     },
     "metadata": {},
     "output_type": "display_data"
    },
    {
     "data": {
      "application/vnd.jupyter.widget-view+json": {
       "model_id": "62a1409832834b68a344d8a6b43e93cd",
       "version_major": 2,
       "version_minor": 0
      },
      "text/plain": [
       "  0%|          | 0/1 [00:00<?, ?it/s]"
      ]
     },
     "metadata": {},
     "output_type": "display_data"
    },
    {
     "data": {
      "application/vnd.jupyter.widget-view+json": {
       "model_id": "b270f6e0dcaa41ef9033640c959e44d3",
       "version_major": 2,
       "version_minor": 0
      },
      "text/plain": [
       "  0%|          | 0/1 [00:00<?, ?it/s]"
      ]
     },
     "metadata": {},
     "output_type": "display_data"
    },
    {
     "data": {
      "application/vnd.jupyter.widget-view+json": {
       "model_id": "6ced076ceaee47b5a48e06756d601250",
       "version_major": 2,
       "version_minor": 0
      },
      "text/plain": [
       "  0%|          | 0/1 [00:00<?, ?it/s]"
      ]
     },
     "metadata": {},
     "output_type": "display_data"
    },
    {
     "data": {
      "application/vnd.jupyter.widget-view+json": {
       "model_id": "b57258c6bb62465d8b833286d3530e58",
       "version_major": 2,
       "version_minor": 0
      },
      "text/plain": [
       "  0%|          | 0/1 [00:00<?, ?it/s]"
      ]
     },
     "metadata": {},
     "output_type": "display_data"
    },
    {
     "data": {
      "application/vnd.jupyter.widget-view+json": {
       "model_id": "a057b16865ca4e4cbfbc44561dc5ba6d",
       "version_major": 2,
       "version_minor": 0
      },
      "text/plain": [
       "  0%|          | 0/1 [00:00<?, ?it/s]"
      ]
     },
     "metadata": {},
     "output_type": "display_data"
    },
    {
     "data": {
      "application/vnd.jupyter.widget-view+json": {
       "model_id": "8d97a9d01f8a455c85ae7fdb56818d8a",
       "version_major": 2,
       "version_minor": 0
      },
      "text/plain": [
       "  0%|          | 0/1 [00:00<?, ?it/s]"
      ]
     },
     "metadata": {},
     "output_type": "display_data"
    },
    {
     "data": {
      "application/vnd.jupyter.widget-view+json": {
       "model_id": "864f1ed90d3e4710ac5f6d748f149c34",
       "version_major": 2,
       "version_minor": 0
      },
      "text/plain": [
       "  0%|          | 0/1 [00:00<?, ?it/s]"
      ]
     },
     "metadata": {},
     "output_type": "display_data"
    },
    {
     "data": {
      "application/vnd.jupyter.widget-view+json": {
       "model_id": "0e4df82197704defb50cae26f3eb2e36",
       "version_major": 2,
       "version_minor": 0
      },
      "text/plain": [
       "  0%|          | 0/1 [00:00<?, ?it/s]"
      ]
     },
     "metadata": {},
     "output_type": "display_data"
    },
    {
     "data": {
      "application/vnd.jupyter.widget-view+json": {
       "model_id": "08ece93d29c2423b8cd2d7c624b8b643",
       "version_major": 2,
       "version_minor": 0
      },
      "text/plain": [
       "  0%|          | 0/1 [00:00<?, ?it/s]"
      ]
     },
     "metadata": {},
     "output_type": "display_data"
    },
    {
     "data": {
      "application/vnd.jupyter.widget-view+json": {
       "model_id": "e0fc81de061943a28f8fa2b29c95aba8",
       "version_major": 2,
       "version_minor": 0
      },
      "text/plain": [
       "  0%|          | 0/1 [00:00<?, ?it/s]"
      ]
     },
     "metadata": {},
     "output_type": "display_data"
    },
    {
     "data": {
      "application/vnd.jupyter.widget-view+json": {
       "model_id": "aff5a1e0cf8342f0b7f2843db576f936",
       "version_major": 2,
       "version_minor": 0
      },
      "text/plain": [
       "  0%|          | 0/1 [00:00<?, ?it/s]"
      ]
     },
     "metadata": {},
     "output_type": "display_data"
    },
    {
     "data": {
      "application/vnd.jupyter.widget-view+json": {
       "model_id": "ed82da74d17a45f787cd7d8846c2b46e",
       "version_major": 2,
       "version_minor": 0
      },
      "text/plain": [
       "  0%|          | 0/1 [00:00<?, ?it/s]"
      ]
     },
     "metadata": {},
     "output_type": "display_data"
    },
    {
     "data": {
      "application/vnd.jupyter.widget-view+json": {
       "model_id": "68cba7b9064b4c1fb757a9fa7902380b",
       "version_major": 2,
       "version_minor": 0
      },
      "text/plain": [
       "  0%|          | 0/1 [00:00<?, ?it/s]"
      ]
     },
     "metadata": {},
     "output_type": "display_data"
    },
    {
     "data": {
      "application/vnd.jupyter.widget-view+json": {
       "model_id": "030ade7a4e7e4325bdfec5537333d929",
       "version_major": 2,
       "version_minor": 0
      },
      "text/plain": [
       "  0%|          | 0/1 [00:00<?, ?it/s]"
      ]
     },
     "metadata": {},
     "output_type": "display_data"
    },
    {
     "name": "stdout",
     "output_type": "stream",
     "text": [
      "Eine Hysterektomie als primäre Therapie sollte bei histologisch nachgewiesener CIN 1 ohne Zusatzindikation nicht durchgeführt werden.\n",
      "\n",
      "No Filter:\n"
     ]
    },
    {
     "data": {
      "text/html": [
       "<div>\n",
       "<style scoped>\n",
       "    .dataframe tbody tr th:only-of-type {\n",
       "        vertical-align: middle;\n",
       "    }\n",
       "\n",
       "    .dataframe tbody tr th {\n",
       "        vertical-align: top;\n",
       "    }\n",
       "\n",
       "    .dataframe thead th {\n",
       "        text-align: right;\n",
       "    }\n",
       "</style>\n",
       "<table border=\"1\" class=\"dataframe\">\n",
       "  <thead>\n",
       "    <tr style=\"text-align: right;\">\n",
       "      <th></th>\n",
       "      <th>document</th>\n",
       "      <th>text</th>\n",
       "      <th>type</th>\n",
       "      <th>start</th>\n",
       "      <th>end</th>\n",
       "      <th>cui</th>\n",
       "      <th>tuis</th>\n",
       "      <th>canonical</th>\n",
       "      <th>linker</th>\n",
       "      <th>confidence</th>\n",
       "    </tr>\n",
       "  </thead>\n",
       "  <tbody>\n",
       "    <tr>\n",
       "      <th>1</th>\n",
       "      <td>04_praevention-zervixkarzinom_0211_20</td>\n",
       "      <td>primäre Therapie</td>\n",
       "      <td>Therapeutic</td>\n",
       "      <td>23</td>\n",
       "      <td>39</td>\n",
       "      <td>C1335497</td>\n",
       "      <td>[T033]</td>\n",
       "      <td>Prior Primary</td>\n",
       "      <td>[sapbert]</td>\n",
       "      <td>0.070375</td>\n",
       "    </tr>\n",
       "  </tbody>\n",
       "</table>\n",
       "</div>"
      ],
      "text/plain": [
       "                                document              text         type  \\\n",
       "1  04_praevention-zervixkarzinom_0211_20  primäre Therapie  Therapeutic   \n",
       "\n",
       "   start  end       cui    tuis      canonical     linker  confidence  \n",
       "1     23   39  C1335497  [T033]  Prior Primary  [sapbert]    0.070375  "
      ]
     },
     "metadata": {},
     "output_type": "display_data"
    },
    {
     "name": "stdout",
     "output_type": "stream",
     "text": [
      "Filter:\n"
     ]
    },
    {
     "data": {
      "text/html": [
       "<div>\n",
       "<style scoped>\n",
       "    .dataframe tbody tr th:only-of-type {\n",
       "        vertical-align: middle;\n",
       "    }\n",
       "\n",
       "    .dataframe tbody tr th {\n",
       "        vertical-align: top;\n",
       "    }\n",
       "\n",
       "    .dataframe thead th {\n",
       "        text-align: right;\n",
       "    }\n",
       "</style>\n",
       "<table border=\"1\" class=\"dataframe\">\n",
       "  <thead>\n",
       "    <tr style=\"text-align: right;\">\n",
       "      <th></th>\n",
       "      <th>document</th>\n",
       "      <th>text</th>\n",
       "      <th>type</th>\n",
       "      <th>start</th>\n",
       "      <th>end</th>\n",
       "      <th>cui</th>\n",
       "      <th>tuis</th>\n",
       "      <th>canonical</th>\n",
       "      <th>linker</th>\n",
       "      <th>confidence</th>\n",
       "    </tr>\n",
       "  </thead>\n",
       "  <tbody>\n",
       "    <tr>\n",
       "      <th>1</th>\n",
       "      <td>04_praevention-zervixkarzinom_0211_20</td>\n",
       "      <td>primäre Therapie</td>\n",
       "      <td>Therapeutic</td>\n",
       "      <td>23</td>\n",
       "      <td>39</td>\n",
       "      <td>C0221296</td>\n",
       "      <td>[T061]</td>\n",
       "      <td>Primal therapy</td>\n",
       "      <td>[sapbert]</td>\n",
       "      <td>0.069082</td>\n",
       "    </tr>\n",
       "  </tbody>\n",
       "</table>\n",
       "</div>"
      ],
      "text/plain": [
       "                                document              text         type  \\\n",
       "1  04_praevention-zervixkarzinom_0211_20  primäre Therapie  Therapeutic   \n",
       "\n",
       "   start  end       cui    tuis       canonical     linker  confidence  \n",
       "1     23   39  C0221296  [T061]  Primal therapy  [sapbert]    0.069082  "
      ]
     },
     "metadata": {},
     "output_type": "display_data"
    },
    {
     "name": "stdout",
     "output_type": "stream",
     "text": [
      "####\n"
     ]
    },
    {
     "data": {
      "application/vnd.jupyter.widget-view+json": {
       "model_id": "6376464bd96b4c9ebda2be7c5fae9f4c",
       "version_major": 2,
       "version_minor": 0
      },
      "text/plain": [
       "  0%|          | 0/1 [00:00<?, ?it/s]"
      ]
     },
     "metadata": {},
     "output_type": "display_data"
    },
    {
     "data": {
      "application/vnd.jupyter.widget-view+json": {
       "model_id": "b06cf3ed5f8142e68c2bd414fe404112",
       "version_major": 2,
       "version_minor": 0
      },
      "text/plain": [
       "  0%|          | 0/1 [00:00<?, ?it/s]"
      ]
     },
     "metadata": {},
     "output_type": "display_data"
    },
    {
     "data": {
      "application/vnd.jupyter.widget-view+json": {
       "model_id": "17f2e3e91e494692adc60c953f390e93",
       "version_major": 2,
       "version_minor": 0
      },
      "text/plain": [
       "  0%|          | 0/1 [00:00<?, ?it/s]"
      ]
     },
     "metadata": {},
     "output_type": "display_data"
    },
    {
     "data": {
      "application/vnd.jupyter.widget-view+json": {
       "model_id": "1d4c99e195ab4cc0b53fe7dc2a58a680",
       "version_major": 2,
       "version_minor": 0
      },
      "text/plain": [
       "  0%|          | 0/1 [00:00<?, ?it/s]"
      ]
     },
     "metadata": {},
     "output_type": "display_data"
    },
    {
     "data": {
      "application/vnd.jupyter.widget-view+json": {
       "model_id": "b553b515d86f4e688fec2977365dfe86",
       "version_major": 2,
       "version_minor": 0
      },
      "text/plain": [
       "  0%|          | 0/1 [00:00<?, ?it/s]"
      ]
     },
     "metadata": {},
     "output_type": "display_data"
    },
    {
     "data": {
      "application/vnd.jupyter.widget-view+json": {
       "model_id": "6792f62f4e4947c49fa758b8e0997d0c",
       "version_major": 2,
       "version_minor": 0
      },
      "text/plain": [
       "  0%|          | 0/1 [00:00<?, ?it/s]"
      ]
     },
     "metadata": {},
     "output_type": "display_data"
    },
    {
     "data": {
      "application/vnd.jupyter.widget-view+json": {
       "model_id": "0f3d4b47e0d444b9af9b4a9869b15a38",
       "version_major": 2,
       "version_minor": 0
      },
      "text/plain": [
       "  0%|          | 0/1 [00:00<?, ?it/s]"
      ]
     },
     "metadata": {},
     "output_type": "display_data"
    },
    {
     "data": {
      "application/vnd.jupyter.widget-view+json": {
       "model_id": "930bc9be6bfc429cbd561d451d1af26c",
       "version_major": 2,
       "version_minor": 0
      },
      "text/plain": [
       "  0%|          | 0/1 [00:00<?, ?it/s]"
      ]
     },
     "metadata": {},
     "output_type": "display_data"
    },
    {
     "data": {
      "application/vnd.jupyter.widget-view+json": {
       "model_id": "e67d597599934880902887bb99b697c2",
       "version_major": 2,
       "version_minor": 0
      },
      "text/plain": [
       "  0%|          | 0/1 [00:00<?, ?it/s]"
      ]
     },
     "metadata": {},
     "output_type": "display_data"
    },
    {
     "data": {
      "application/vnd.jupyter.widget-view+json": {
       "model_id": "fb461be1943441e09a5ceb2dd4ea4fac",
       "version_major": 2,
       "version_minor": 0
      },
      "text/plain": [
       "  0%|          | 0/1 [00:00<?, ?it/s]"
      ]
     },
     "metadata": {},
     "output_type": "display_data"
    },
    {
     "data": {
      "application/vnd.jupyter.widget-view+json": {
       "model_id": "a4c1a885e6084c84b955fbf41e84efea",
       "version_major": 2,
       "version_minor": 0
      },
      "text/plain": [
       "  0%|          | 0/1 [00:00<?, ?it/s]"
      ]
     },
     "metadata": {},
     "output_type": "display_data"
    },
    {
     "data": {
      "application/vnd.jupyter.widget-view+json": {
       "model_id": "6678eb986f144ed2b91656fe43dba9d7",
       "version_major": 2,
       "version_minor": 0
      },
      "text/plain": [
       "  0%|          | 0/1 [00:00<?, ?it/s]"
      ]
     },
     "metadata": {},
     "output_type": "display_data"
    },
    {
     "data": {
      "application/vnd.jupyter.widget-view+json": {
       "model_id": "2065d1521d614befa928dad913ac13a9",
       "version_major": 2,
       "version_minor": 0
      },
      "text/plain": [
       "  0%|          | 0/1 [00:00<?, ?it/s]"
      ]
     },
     "metadata": {},
     "output_type": "display_data"
    },
    {
     "data": {
      "application/vnd.jupyter.widget-view+json": {
       "model_id": "0dd0bf089e954e01aec4e59055297667",
       "version_major": 2,
       "version_minor": 0
      },
      "text/plain": [
       "  0%|          | 0/1 [00:00<?, ?it/s]"
      ]
     },
     "metadata": {},
     "output_type": "display_data"
    },
    {
     "data": {
      "application/vnd.jupyter.widget-view+json": {
       "model_id": "60ee7bad9bdc48518806753616217eef",
       "version_major": 2,
       "version_minor": 0
      },
      "text/plain": [
       "  0%|          | 0/1 [00:00<?, ?it/s]"
      ]
     },
     "metadata": {},
     "output_type": "display_data"
    },
    {
     "data": {
      "application/vnd.jupyter.widget-view+json": {
       "model_id": "4cd0ee45885d4451818c1c8dbaaa56f6",
       "version_major": 2,
       "version_minor": 0
      },
      "text/plain": [
       "  0%|          | 0/1 [00:00<?, ?it/s]"
      ]
     },
     "metadata": {},
     "output_type": "display_data"
    },
    {
     "name": "stdout",
     "output_type": "stream",
     "text": [
      "Zum Thema der Antioxidantien und Vitamine während der aktiven konventionellen Behandlung des Zervixkarzinoms existieren nur wenige Daten.\n",
      "\n",
      "No Filter:\n"
     ]
    },
    {
     "data": {
      "text/html": [
       "<div>\n",
       "<style scoped>\n",
       "    .dataframe tbody tr th:only-of-type {\n",
       "        vertical-align: middle;\n",
       "    }\n",
       "\n",
       "    .dataframe tbody tr th {\n",
       "        vertical-align: top;\n",
       "    }\n",
       "\n",
       "    .dataframe thead th {\n",
       "        text-align: right;\n",
       "    }\n",
       "</style>\n",
       "<table border=\"1\" class=\"dataframe\">\n",
       "  <thead>\n",
       "    <tr style=\"text-align: right;\">\n",
       "      <th></th>\n",
       "      <th>document</th>\n",
       "      <th>text</th>\n",
       "      <th>type</th>\n",
       "      <th>start</th>\n",
       "      <th>end</th>\n",
       "      <th>cui</th>\n",
       "      <th>tuis</th>\n",
       "      <th>canonical</th>\n",
       "      <th>linker</th>\n",
       "      <th>confidence</th>\n",
       "    </tr>\n",
       "  </thead>\n",
       "  <tbody>\n",
       "    <tr>\n",
       "      <th>2</th>\n",
       "      <td>05_zervixkarzinom_0265_0</td>\n",
       "      <td>aktiven konventionellen Behandlung des Zervixk...</td>\n",
       "      <td>Therapeutic</td>\n",
       "      <td>54</td>\n",
       "      <td>108</td>\n",
       "      <td>C5420818</td>\n",
       "      <td>[T191]</td>\n",
       "      <td>Locally Advanced Cervical Squamous Cell Carcinoma</td>\n",
       "      <td>[sapbert]</td>\n",
       "      <td>0.063582</td>\n",
       "    </tr>\n",
       "  </tbody>\n",
       "</table>\n",
       "</div>"
      ],
      "text/plain": [
       "                   document  \\\n",
       "2  05_zervixkarzinom_0265_0   \n",
       "\n",
       "                                                text         type  start  end  \\\n",
       "2  aktiven konventionellen Behandlung des Zervixk...  Therapeutic     54  108   \n",
       "\n",
       "        cui    tuis                                          canonical  \\\n",
       "2  C5420818  [T191]  Locally Advanced Cervical Squamous Cell Carcinoma   \n",
       "\n",
       "      linker  confidence  \n",
       "2  [sapbert]    0.063582  "
      ]
     },
     "metadata": {},
     "output_type": "display_data"
    },
    {
     "name": "stdout",
     "output_type": "stream",
     "text": [
      "Filter:\n"
     ]
    },
    {
     "data": {
      "text/html": [
       "<div>\n",
       "<style scoped>\n",
       "    .dataframe tbody tr th:only-of-type {\n",
       "        vertical-align: middle;\n",
       "    }\n",
       "\n",
       "    .dataframe tbody tr th {\n",
       "        vertical-align: top;\n",
       "    }\n",
       "\n",
       "    .dataframe thead th {\n",
       "        text-align: right;\n",
       "    }\n",
       "</style>\n",
       "<table border=\"1\" class=\"dataframe\">\n",
       "  <thead>\n",
       "    <tr style=\"text-align: right;\">\n",
       "      <th></th>\n",
       "      <th>document</th>\n",
       "      <th>text</th>\n",
       "      <th>type</th>\n",
       "      <th>start</th>\n",
       "      <th>end</th>\n",
       "      <th>cui</th>\n",
       "      <th>tuis</th>\n",
       "      <th>canonical</th>\n",
       "      <th>linker</th>\n",
       "      <th>confidence</th>\n",
       "    </tr>\n",
       "  </thead>\n",
       "  <tbody>\n",
       "    <tr>\n",
       "      <th>2</th>\n",
       "      <td>05_zervixkarzinom_0265_0</td>\n",
       "      <td>aktiven konventionellen Behandlung des Zervixk...</td>\n",
       "      <td>Therapeutic</td>\n",
       "      <td>54</td>\n",
       "      <td>108</td>\n",
       "      <td>C1880037</td>\n",
       "      <td>[T061]</td>\n",
       "      <td>Regimen Used to Treat Cervical Carcinoma</td>\n",
       "      <td>[sapbert]</td>\n",
       "      <td>0.063736</td>\n",
       "    </tr>\n",
       "  </tbody>\n",
       "</table>\n",
       "</div>"
      ],
      "text/plain": [
       "                   document  \\\n",
       "2  05_zervixkarzinom_0265_0   \n",
       "\n",
       "                                                text         type  start  end  \\\n",
       "2  aktiven konventionellen Behandlung des Zervixk...  Therapeutic     54  108   \n",
       "\n",
       "        cui    tuis                                 canonical     linker  \\\n",
       "2  C1880037  [T061]  Regimen Used to Treat Cervical Carcinoma  [sapbert]   \n",
       "\n",
       "   confidence  \n",
       "2    0.063736  "
      ]
     },
     "metadata": {},
     "output_type": "display_data"
    },
    {
     "name": "stdout",
     "output_type": "stream",
     "text": [
      "####\n"
     ]
    },
    {
     "data": {
      "application/vnd.jupyter.widget-view+json": {
       "model_id": "085c311ff5354c6da863e85b6a77c321",
       "version_major": 2,
       "version_minor": 0
      },
      "text/plain": [
       "  0%|          | 0/1 [00:00<?, ?it/s]"
      ]
     },
     "metadata": {},
     "output_type": "display_data"
    },
    {
     "data": {
      "application/vnd.jupyter.widget-view+json": {
       "model_id": "5f995c7a9a0b49aca63c2796eb359dfc",
       "version_major": 2,
       "version_minor": 0
      },
      "text/plain": [
       "  0%|          | 0/1 [00:00<?, ?it/s]"
      ]
     },
     "metadata": {},
     "output_type": "display_data"
    },
    {
     "data": {
      "application/vnd.jupyter.widget-view+json": {
       "model_id": "8815cb8e4cae4f2ba555236a296d26e4",
       "version_major": 2,
       "version_minor": 0
      },
      "text/plain": [
       "  0%|          | 0/1 [00:00<?, ?it/s]"
      ]
     },
     "metadata": {},
     "output_type": "display_data"
    },
    {
     "data": {
      "application/vnd.jupyter.widget-view+json": {
       "model_id": "f640a36073f2407ea1a326c16a90883f",
       "version_major": 2,
       "version_minor": 0
      },
      "text/plain": [
       "  0%|          | 0/1 [00:00<?, ?it/s]"
      ]
     },
     "metadata": {},
     "output_type": "display_data"
    },
    {
     "data": {
      "application/vnd.jupyter.widget-view+json": {
       "model_id": "789e036e30ac4de2b739b3723cd53e2d",
       "version_major": 2,
       "version_minor": 0
      },
      "text/plain": [
       "  0%|          | 0/1 [00:00<?, ?it/s]"
      ]
     },
     "metadata": {},
     "output_type": "display_data"
    },
    {
     "data": {
      "application/vnd.jupyter.widget-view+json": {
       "model_id": "210faeeebd7c45f19870c20dfbdaba08",
       "version_major": 2,
       "version_minor": 0
      },
      "text/plain": [
       "  0%|          | 0/1 [00:00<?, ?it/s]"
      ]
     },
     "metadata": {},
     "output_type": "display_data"
    },
    {
     "data": {
      "application/vnd.jupyter.widget-view+json": {
       "model_id": "24efa3497e2d4c09bf71e29f571df09f",
       "version_major": 2,
       "version_minor": 0
      },
      "text/plain": [
       "  0%|          | 0/1 [00:00<?, ?it/s]"
      ]
     },
     "metadata": {},
     "output_type": "display_data"
    },
    {
     "data": {
      "application/vnd.jupyter.widget-view+json": {
       "model_id": "11c0d395199b4bdebbac840a5a0f0ff4",
       "version_major": 2,
       "version_minor": 0
      },
      "text/plain": [
       "  0%|          | 0/1 [00:00<?, ?it/s]"
      ]
     },
     "metadata": {},
     "output_type": "display_data"
    },
    {
     "data": {
      "application/vnd.jupyter.widget-view+json": {
       "model_id": "07056c1b22f9430ca989ac49122f46cc",
       "version_major": 2,
       "version_minor": 0
      },
      "text/plain": [
       "  0%|          | 0/1 [00:00<?, ?it/s]"
      ]
     },
     "metadata": {},
     "output_type": "display_data"
    },
    {
     "data": {
      "application/vnd.jupyter.widget-view+json": {
       "model_id": "f4757721ffcb4df08bf903df0e72406e",
       "version_major": 2,
       "version_minor": 0
      },
      "text/plain": [
       "  0%|          | 0/1 [00:00<?, ?it/s]"
      ]
     },
     "metadata": {},
     "output_type": "display_data"
    },
    {
     "data": {
      "application/vnd.jupyter.widget-view+json": {
       "model_id": "8c97211ba844489788d6c1a0ff955131",
       "version_major": 2,
       "version_minor": 0
      },
      "text/plain": [
       "  0%|          | 0/1 [00:00<?, ?it/s]"
      ]
     },
     "metadata": {},
     "output_type": "display_data"
    },
    {
     "data": {
      "application/vnd.jupyter.widget-view+json": {
       "model_id": "1beae6981d794fe8a0f22e20a9644902",
       "version_major": 2,
       "version_minor": 0
      },
      "text/plain": [
       "  0%|          | 0/1 [00:00<?, ?it/s]"
      ]
     },
     "metadata": {},
     "output_type": "display_data"
    },
    {
     "data": {
      "application/vnd.jupyter.widget-view+json": {
       "model_id": "e252646d221a406186101ae3bee37ea1",
       "version_major": 2,
       "version_minor": 0
      },
      "text/plain": [
       "  0%|          | 0/1 [00:00<?, ?it/s]"
      ]
     },
     "metadata": {},
     "output_type": "display_data"
    },
    {
     "data": {
      "application/vnd.jupyter.widget-view+json": {
       "model_id": "b4dbd05307f54cc9959a13c800374a98",
       "version_major": 2,
       "version_minor": 0
      },
      "text/plain": [
       "  0%|          | 0/1 [00:00<?, ?it/s]"
      ]
     },
     "metadata": {},
     "output_type": "display_data"
    },
    {
     "data": {
      "application/vnd.jupyter.widget-view+json": {
       "model_id": "f765a6d3846d4f3a81711d25f7023bd3",
       "version_major": 2,
       "version_minor": 0
      },
      "text/plain": [
       "  0%|          | 0/1 [00:00<?, ?it/s]"
      ]
     },
     "metadata": {},
     "output_type": "display_data"
    },
    {
     "data": {
      "application/vnd.jupyter.widget-view+json": {
       "model_id": "c67fb3b3e5454cf89ba2aede8aee2de2",
       "version_major": 2,
       "version_minor": 0
      },
      "text/plain": [
       "  0%|          | 0/1 [00:00<?, ?it/s]"
      ]
     },
     "metadata": {},
     "output_type": "display_data"
    },
    {
     "data": {
      "application/vnd.jupyter.widget-view+json": {
       "model_id": "5c920edbfa0b4131b28f61840415abca",
       "version_major": 2,
       "version_minor": 0
      },
      "text/plain": [
       "  0%|          | 0/1 [00:00<?, ?it/s]"
      ]
     },
     "metadata": {},
     "output_type": "display_data"
    },
    {
     "data": {
      "application/vnd.jupyter.widget-view+json": {
       "model_id": "1f72df98bc1246bfb7d51ae484991946",
       "version_major": 2,
       "version_minor": 0
      },
      "text/plain": [
       "  0%|          | 0/1 [00:00<?, ?it/s]"
      ]
     },
     "metadata": {},
     "output_type": "display_data"
    },
    {
     "data": {
      "application/vnd.jupyter.widget-view+json": {
       "model_id": "79a6ce47797347ddb743968badb0f1f3",
       "version_major": 2,
       "version_minor": 0
      },
      "text/plain": [
       "  0%|          | 0/1 [00:00<?, ?it/s]"
      ]
     },
     "metadata": {},
     "output_type": "display_data"
    },
    {
     "data": {
      "application/vnd.jupyter.widget-view+json": {
       "model_id": "606ab9fbbaef4cb096dc5148cc5b58cd",
       "version_major": 2,
       "version_minor": 0
      },
      "text/plain": [
       "  0%|          | 0/1 [00:00<?, ?it/s]"
      ]
     },
     "metadata": {},
     "output_type": "display_data"
    },
    {
     "data": {
      "application/vnd.jupyter.widget-view+json": {
       "model_id": "40959740e6844ebca70d72fd0e20e579",
       "version_major": 2,
       "version_minor": 0
      },
      "text/plain": [
       "  0%|          | 0/1 [00:00<?, ?it/s]"
      ]
     },
     "metadata": {},
     "output_type": "display_data"
    },
    {
     "data": {
      "application/vnd.jupyter.widget-view+json": {
       "model_id": "5afd1cb442f0409c9a208cabcaccf41a",
       "version_major": 2,
       "version_minor": 0
      },
      "text/plain": [
       "  0%|          | 0/1 [00:00<?, ?it/s]"
      ]
     },
     "metadata": {},
     "output_type": "display_data"
    },
    {
     "data": {
      "application/vnd.jupyter.widget-view+json": {
       "model_id": "2d83befc0df64b79b9270254732010d9",
       "version_major": 2,
       "version_minor": 0
      },
      "text/plain": [
       "  0%|          | 0/1 [00:00<?, ?it/s]"
      ]
     },
     "metadata": {},
     "output_type": "display_data"
    },
    {
     "data": {
      "application/vnd.jupyter.widget-view+json": {
       "model_id": "fc1faa2bce864ee6bdfbf908e2541b9f",
       "version_major": 2,
       "version_minor": 0
      },
      "text/plain": [
       "  0%|          | 0/1 [00:00<?, ?it/s]"
      ]
     },
     "metadata": {},
     "output_type": "display_data"
    },
    {
     "data": {
      "application/vnd.jupyter.widget-view+json": {
       "model_id": "2e64ef52d5bd4974bca9d505b9caf62d",
       "version_major": 2,
       "version_minor": 0
      },
      "text/plain": [
       "  0%|          | 0/1 [00:00<?, ?it/s]"
      ]
     },
     "metadata": {},
     "output_type": "display_data"
    },
    {
     "data": {
      "application/vnd.jupyter.widget-view+json": {
       "model_id": "2c84eb4a038e4d729f81f881bd796c3e",
       "version_major": 2,
       "version_minor": 0
      },
      "text/plain": [
       "  0%|          | 0/1 [00:00<?, ?it/s]"
      ]
     },
     "metadata": {},
     "output_type": "display_data"
    },
    {
     "data": {
      "application/vnd.jupyter.widget-view+json": {
       "model_id": "4804f79aaba1454a90aa21268e7ec8f4",
       "version_major": 2,
       "version_minor": 0
      },
      "text/plain": [
       "  0%|          | 0/1 [00:00<?, ?it/s]"
      ]
     },
     "metadata": {},
     "output_type": "display_data"
    },
    {
     "data": {
      "application/vnd.jupyter.widget-view+json": {
       "model_id": "9c9fa19e2ea74c47aa8a8ffb04e590a6",
       "version_major": 2,
       "version_minor": 0
      },
      "text/plain": [
       "  0%|          | 0/1 [00:00<?, ?it/s]"
      ]
     },
     "metadata": {},
     "output_type": "display_data"
    },
    {
     "data": {
      "application/vnd.jupyter.widget-view+json": {
       "model_id": "d3231597962048bfb86abe94a0cebf77",
       "version_major": 2,
       "version_minor": 0
      },
      "text/plain": [
       "  0%|          | 0/1 [00:00<?, ?it/s]"
      ]
     },
     "metadata": {},
     "output_type": "display_data"
    },
    {
     "data": {
      "application/vnd.jupyter.widget-view+json": {
       "model_id": "af65c7a611b745bdb337befd2c4bb64c",
       "version_major": 2,
       "version_minor": 0
      },
      "text/plain": [
       "  0%|          | 0/1 [00:00<?, ?it/s]"
      ]
     },
     "metadata": {},
     "output_type": "display_data"
    },
    {
     "data": {
      "application/vnd.jupyter.widget-view+json": {
       "model_id": "e45aaa8cd0994233b16741961cd2a604",
       "version_major": 2,
       "version_minor": 0
      },
      "text/plain": [
       "  0%|          | 0/1 [00:00<?, ?it/s]"
      ]
     },
     "metadata": {},
     "output_type": "display_data"
    },
    {
     "data": {
      "application/vnd.jupyter.widget-view+json": {
       "model_id": "6eaf6d01c5144238aecdc226535941b4",
       "version_major": 2,
       "version_minor": 0
      },
      "text/plain": [
       "  0%|          | 0/1 [00:00<?, ?it/s]"
      ]
     },
     "metadata": {},
     "output_type": "display_data"
    },
    {
     "data": {
      "application/vnd.jupyter.widget-view+json": {
       "model_id": "f40c925eb0834b558715bbfa8e33f9d4",
       "version_major": 2,
       "version_minor": 0
      },
      "text/plain": [
       "  0%|          | 0/1 [00:00<?, ?it/s]"
      ]
     },
     "metadata": {},
     "output_type": "display_data"
    },
    {
     "data": {
      "application/vnd.jupyter.widget-view+json": {
       "model_id": "8fb52c30b19846cd8f86747e8cb66c24",
       "version_major": 2,
       "version_minor": 0
      },
      "text/plain": [
       "  0%|          | 0/1 [00:00<?, ?it/s]"
      ]
     },
     "metadata": {},
     "output_type": "display_data"
    },
    {
     "name": "stdout",
     "output_type": "stream",
     "text": [
      "In einer kleinen randomisierten Studie (n=42) wurde eine verbesserte Immunreaktion und ein tendenziell geringere Rezidivrate bei Vitamin-A-Gabe festgestellt [REF] [REF].\n",
      "\n",
      "No Filter:\n"
     ]
    },
    {
     "data": {
      "text/html": [
       "<div>\n",
       "<style scoped>\n",
       "    .dataframe tbody tr th:only-of-type {\n",
       "        vertical-align: middle;\n",
       "    }\n",
       "\n",
       "    .dataframe tbody tr th {\n",
       "        vertical-align: top;\n",
       "    }\n",
       "\n",
       "    .dataframe thead th {\n",
       "        text-align: right;\n",
       "    }\n",
       "</style>\n",
       "<table border=\"1\" class=\"dataframe\">\n",
       "  <thead>\n",
       "    <tr style=\"text-align: right;\">\n",
       "      <th></th>\n",
       "      <th>document</th>\n",
       "      <th>text</th>\n",
       "      <th>type</th>\n",
       "      <th>start</th>\n",
       "      <th>end</th>\n",
       "      <th>cui</th>\n",
       "      <th>tuis</th>\n",
       "      <th>canonical</th>\n",
       "      <th>linker</th>\n",
       "      <th>confidence</th>\n",
       "    </tr>\n",
       "  </thead>\n",
       "  <tbody>\n",
       "    <tr>\n",
       "      <th>2</th>\n",
       "      <td>05_zervixkarzinom_0265_17</td>\n",
       "      <td>Vitamin-A-Gabe</td>\n",
       "      <td>Therapeutic</td>\n",
       "      <td>129</td>\n",
       "      <td>143</td>\n",
       "      <td>C0042842</td>\n",
       "      <td>[T047]</td>\n",
       "      <td>Vitamin A Deficiency</td>\n",
       "      <td>[ngram, sapbert]</td>\n",
       "      <td>0.069976</td>\n",
       "    </tr>\n",
       "  </tbody>\n",
       "</table>\n",
       "</div>"
      ],
      "text/plain": [
       "                    document            text         type  start  end  \\\n",
       "2  05_zervixkarzinom_0265_17  Vitamin-A-Gabe  Therapeutic    129  143   \n",
       "\n",
       "        cui    tuis             canonical            linker  confidence  \n",
       "2  C0042842  [T047]  Vitamin A Deficiency  [ngram, sapbert]    0.069976  "
      ]
     },
     "metadata": {},
     "output_type": "display_data"
    },
    {
     "name": "stdout",
     "output_type": "stream",
     "text": [
      "Filter:\n"
     ]
    },
    {
     "data": {
      "text/html": [
       "<div>\n",
       "<style scoped>\n",
       "    .dataframe tbody tr th:only-of-type {\n",
       "        vertical-align: middle;\n",
       "    }\n",
       "\n",
       "    .dataframe tbody tr th {\n",
       "        vertical-align: top;\n",
       "    }\n",
       "\n",
       "    .dataframe thead th {\n",
       "        text-align: right;\n",
       "    }\n",
       "</style>\n",
       "<table border=\"1\" class=\"dataframe\">\n",
       "  <thead>\n",
       "    <tr style=\"text-align: right;\">\n",
       "      <th></th>\n",
       "      <th>document</th>\n",
       "      <th>text</th>\n",
       "      <th>type</th>\n",
       "      <th>start</th>\n",
       "      <th>end</th>\n",
       "      <th>cui</th>\n",
       "      <th>tuis</th>\n",
       "      <th>canonical</th>\n",
       "      <th>linker</th>\n",
       "      <th>confidence</th>\n",
       "    </tr>\n",
       "  </thead>\n",
       "  <tbody>\n",
       "    <tr>\n",
       "      <th>2</th>\n",
       "      <td>05_zervixkarzinom_0265_17</td>\n",
       "      <td>Vitamin-A-Gabe</td>\n",
       "      <td>Therapeutic</td>\n",
       "      <td>129</td>\n",
       "      <td>143</td>\n",
       "      <td>C1528406</td>\n",
       "      <td>[T109, T121, T127]</td>\n",
       "      <td>Vitamin-A-Saar</td>\n",
       "      <td>[ngram, sapbert]</td>\n",
       "      <td>0.070096</td>\n",
       "    </tr>\n",
       "  </tbody>\n",
       "</table>\n",
       "</div>"
      ],
      "text/plain": [
       "                    document            text         type  start  end  \\\n",
       "2  05_zervixkarzinom_0265_17  Vitamin-A-Gabe  Therapeutic    129  143   \n",
       "\n",
       "        cui                tuis       canonical            linker  confidence  \n",
       "2  C1528406  [T109, T121, T127]  Vitamin-A-Saar  [ngram, sapbert]    0.070096  "
      ]
     },
     "metadata": {},
     "output_type": "display_data"
    },
    {
     "name": "stdout",
     "output_type": "stream",
     "text": [
      "####\n"
     ]
    },
    {
     "data": {
      "application/vnd.jupyter.widget-view+json": {
       "model_id": "b33bbfe5e0d04d068b00321e46e40ffd",
       "version_major": 2,
       "version_minor": 0
      },
      "text/plain": [
       "  0%|          | 0/1 [00:00<?, ?it/s]"
      ]
     },
     "metadata": {},
     "output_type": "display_data"
    },
    {
     "data": {
      "application/vnd.jupyter.widget-view+json": {
       "model_id": "63bc3690a0b9460b8198cdc146cb4316",
       "version_major": 2,
       "version_minor": 0
      },
      "text/plain": [
       "  0%|          | 0/1 [00:00<?, ?it/s]"
      ]
     },
     "metadata": {},
     "output_type": "display_data"
    },
    {
     "data": {
      "application/vnd.jupyter.widget-view+json": {
       "model_id": "70178c5ee8614240ac36295b9ceacdc4",
       "version_major": 2,
       "version_minor": 0
      },
      "text/plain": [
       "  0%|          | 0/1 [00:00<?, ?it/s]"
      ]
     },
     "metadata": {},
     "output_type": "display_data"
    },
    {
     "data": {
      "application/vnd.jupyter.widget-view+json": {
       "model_id": "8cbfaec32006472eab388c0f283ed956",
       "version_major": 2,
       "version_minor": 0
      },
      "text/plain": [
       "  0%|          | 0/1 [00:00<?, ?it/s]"
      ]
     },
     "metadata": {},
     "output_type": "display_data"
    },
    {
     "data": {
      "application/vnd.jupyter.widget-view+json": {
       "model_id": "ff0133327c6b4af3bd8ab65785773185",
       "version_major": 2,
       "version_minor": 0
      },
      "text/plain": [
       "  0%|          | 0/1 [00:00<?, ?it/s]"
      ]
     },
     "metadata": {},
     "output_type": "display_data"
    },
    {
     "data": {
      "application/vnd.jupyter.widget-view+json": {
       "model_id": "ab3be915f2a14668889a871ee8222d65",
       "version_major": 2,
       "version_minor": 0
      },
      "text/plain": [
       "  0%|          | 0/1 [00:00<?, ?it/s]"
      ]
     },
     "metadata": {},
     "output_type": "display_data"
    },
    {
     "name": "stdout",
     "output_type": "stream",
     "text": [
      "Diese Hinweise aus Studien sind nicht ausreichend, um eine Empfehlung für einen vorbeugenden Einsatz von Vitaminpräparaten, Antioxidantien und/oder Selen zur Vermeidung unerwünschter Nebenwirkungen in der Therapie von Zervixkarzinompatientinnen abzuleiten.\n",
      "\n",
      "No Filter:\n"
     ]
    },
    {
     "data": {
      "text/html": [
       "<div>\n",
       "<style scoped>\n",
       "    .dataframe tbody tr th:only-of-type {\n",
       "        vertical-align: middle;\n",
       "    }\n",
       "\n",
       "    .dataframe tbody tr th {\n",
       "        vertical-align: top;\n",
       "    }\n",
       "\n",
       "    .dataframe thead th {\n",
       "        text-align: right;\n",
       "    }\n",
       "</style>\n",
       "<table border=\"1\" class=\"dataframe\">\n",
       "  <thead>\n",
       "    <tr style=\"text-align: right;\">\n",
       "      <th></th>\n",
       "      <th>document</th>\n",
       "      <th>text</th>\n",
       "      <th>type</th>\n",
       "      <th>start</th>\n",
       "      <th>end</th>\n",
       "      <th>cui</th>\n",
       "      <th>tuis</th>\n",
       "      <th>canonical</th>\n",
       "      <th>linker</th>\n",
       "      <th>confidence</th>\n",
       "    </tr>\n",
       "  </thead>\n",
       "  <tbody>\n",
       "    <tr>\n",
       "      <th>3</th>\n",
       "      <td>05_zervixkarzinom_0265_20</td>\n",
       "      <td>Vermeidung unerwünschter Nebenwirkungen in der...</td>\n",
       "      <td>Therapeutic</td>\n",
       "      <td>158</td>\n",
       "      <td>244</td>\n",
       "      <td>C4763862</td>\n",
       "      <td>[T061]</td>\n",
       "      <td>Cervical Cancer Surgery</td>\n",
       "      <td>[sapbert]</td>\n",
       "      <td>0.063171</td>\n",
       "    </tr>\n",
       "    <tr>\n",
       "      <th>5</th>\n",
       "      <td>05_zervixkarzinom_0265_20</td>\n",
       "      <td>Therapie von Zervixkarzinompatientinnen</td>\n",
       "      <td>Therapeutic</td>\n",
       "      <td>205</td>\n",
       "      <td>244</td>\n",
       "      <td>C0302592</td>\n",
       "      <td>[T191]</td>\n",
       "      <td>Zervixkarzinom</td>\n",
       "      <td>[ngram]</td>\n",
       "      <td>0.065792</td>\n",
       "    </tr>\n",
       "  </tbody>\n",
       "</table>\n",
       "</div>"
      ],
      "text/plain": [
       "                    document  \\\n",
       "3  05_zervixkarzinom_0265_20   \n",
       "5  05_zervixkarzinom_0265_20   \n",
       "\n",
       "                                                text         type  start  end  \\\n",
       "3  Vermeidung unerwünschter Nebenwirkungen in der...  Therapeutic    158  244   \n",
       "5            Therapie von Zervixkarzinompatientinnen  Therapeutic    205  244   \n",
       "\n",
       "        cui    tuis                canonical     linker  confidence  \n",
       "3  C4763862  [T061]  Cervical Cancer Surgery  [sapbert]    0.063171  \n",
       "5  C0302592  [T191]           Zervixkarzinom    [ngram]    0.065792  "
      ]
     },
     "metadata": {},
     "output_type": "display_data"
    },
    {
     "name": "stdout",
     "output_type": "stream",
     "text": [
      "Filter:\n"
     ]
    },
    {
     "data": {
      "text/html": [
       "<div>\n",
       "<style scoped>\n",
       "    .dataframe tbody tr th:only-of-type {\n",
       "        vertical-align: middle;\n",
       "    }\n",
       "\n",
       "    .dataframe tbody tr th {\n",
       "        vertical-align: top;\n",
       "    }\n",
       "\n",
       "    .dataframe thead th {\n",
       "        text-align: right;\n",
       "    }\n",
       "</style>\n",
       "<table border=\"1\" class=\"dataframe\">\n",
       "  <thead>\n",
       "    <tr style=\"text-align: right;\">\n",
       "      <th></th>\n",
       "      <th>document</th>\n",
       "      <th>text</th>\n",
       "      <th>type</th>\n",
       "      <th>start</th>\n",
       "      <th>end</th>\n",
       "      <th>cui</th>\n",
       "      <th>tuis</th>\n",
       "      <th>canonical</th>\n",
       "      <th>linker</th>\n",
       "      <th>confidence</th>\n",
       "    </tr>\n",
       "  </thead>\n",
       "  <tbody>\n",
       "    <tr>\n",
       "      <th>3</th>\n",
       "      <td>05_zervixkarzinom_0265_20</td>\n",
       "      <td>Vermeidung unerwünschter Nebenwirkungen in der...</td>\n",
       "      <td>Therapeutic</td>\n",
       "      <td>158</td>\n",
       "      <td>244</td>\n",
       "      <td>C1880037</td>\n",
       "      <td>[T061]</td>\n",
       "      <td>Regimen Used to Treat Cervical Carcinoma</td>\n",
       "      <td>[sapbert]</td>\n",
       "      <td>0.063227</td>\n",
       "    </tr>\n",
       "    <tr>\n",
       "      <th>5</th>\n",
       "      <td>05_zervixkarzinom_0265_20</td>\n",
       "      <td>Therapie von Zervixkarzinompatientinnen</td>\n",
       "      <td>Therapeutic</td>\n",
       "      <td>205</td>\n",
       "      <td>244</td>\n",
       "      <td>C0860350</td>\n",
       "      <td>[T061]</td>\n",
       "      <td>Cervical laser therapy (excl cancer)</td>\n",
       "      <td>[sapbert]</td>\n",
       "      <td>0.063858</td>\n",
       "    </tr>\n",
       "  </tbody>\n",
       "</table>\n",
       "</div>"
      ],
      "text/plain": [
       "                    document  \\\n",
       "3  05_zervixkarzinom_0265_20   \n",
       "5  05_zervixkarzinom_0265_20   \n",
       "\n",
       "                                                text         type  start  end  \\\n",
       "3  Vermeidung unerwünschter Nebenwirkungen in der...  Therapeutic    158  244   \n",
       "5            Therapie von Zervixkarzinompatientinnen  Therapeutic    205  244   \n",
       "\n",
       "        cui    tuis                                 canonical     linker  \\\n",
       "3  C1880037  [T061]  Regimen Used to Treat Cervical Carcinoma  [sapbert]   \n",
       "5  C0860350  [T061]      Cervical laser therapy (excl cancer)  [sapbert]   \n",
       "\n",
       "   confidence  \n",
       "3    0.063227  \n",
       "5    0.063858  "
      ]
     },
     "metadata": {},
     "output_type": "display_data"
    },
    {
     "name": "stdout",
     "output_type": "stream",
     "text": [
      "####\n"
     ]
    },
    {
     "data": {
      "application/vnd.jupyter.widget-view+json": {
       "model_id": "811abc1b262447618b9851e730c8434c",
       "version_major": 2,
       "version_minor": 0
      },
      "text/plain": [
       "  0%|          | 0/1 [00:00<?, ?it/s]"
      ]
     },
     "metadata": {},
     "output_type": "display_data"
    },
    {
     "data": {
      "application/vnd.jupyter.widget-view+json": {
       "model_id": "fbff2a979e8745719973f5b08672fb72",
       "version_major": 2,
       "version_minor": 0
      },
      "text/plain": [
       "  0%|          | 0/1 [00:00<?, ?it/s]"
      ]
     },
     "metadata": {},
     "output_type": "display_data"
    },
    {
     "data": {
      "application/vnd.jupyter.widget-view+json": {
       "model_id": "c1727a62ea0544c59cebe8429f101ae4",
       "version_major": 2,
       "version_minor": 0
      },
      "text/plain": [
       "  0%|          | 0/1 [00:00<?, ?it/s]"
      ]
     },
     "metadata": {},
     "output_type": "display_data"
    },
    {
     "data": {
      "application/vnd.jupyter.widget-view+json": {
       "model_id": "4553073bcdc24529b65013964534b114",
       "version_major": 2,
       "version_minor": 0
      },
      "text/plain": [
       "  0%|          | 0/1 [00:00<?, ?it/s]"
      ]
     },
     "metadata": {},
     "output_type": "display_data"
    },
    {
     "data": {
      "application/vnd.jupyter.widget-view+json": {
       "model_id": "527a8f92d0f341f8ad0a5e3664b85225",
       "version_major": 2,
       "version_minor": 0
      },
      "text/plain": [
       "  0%|          | 0/1 [00:00<?, ?it/s]"
      ]
     },
     "metadata": {},
     "output_type": "display_data"
    },
    {
     "data": {
      "application/vnd.jupyter.widget-view+json": {
       "model_id": "524aaa44c485475bbd30cf0ad4b158f9",
       "version_major": 2,
       "version_minor": 0
      },
      "text/plain": [
       "  0%|          | 0/1 [00:00<?, ?it/s]"
      ]
     },
     "metadata": {},
     "output_type": "display_data"
    },
    {
     "data": {
      "application/vnd.jupyter.widget-view+json": {
       "model_id": "43450381ea3b42ff8f8eac15eb253d91",
       "version_major": 2,
       "version_minor": 0
      },
      "text/plain": [
       "  0%|          | 0/1 [00:00<?, ?it/s]"
      ]
     },
     "metadata": {},
     "output_type": "display_data"
    },
    {
     "data": {
      "application/vnd.jupyter.widget-view+json": {
       "model_id": "f0ae9da5af154c83b2d4a974d9e9d456",
       "version_major": 2,
       "version_minor": 0
      },
      "text/plain": [
       "  0%|          | 0/1 [00:00<?, ?it/s]"
      ]
     },
     "metadata": {},
     "output_type": "display_data"
    },
    {
     "data": {
      "application/vnd.jupyter.widget-view+json": {
       "model_id": "8e280dc6f20a43fa858d22605c16bd8a",
       "version_major": 2,
       "version_minor": 0
      },
      "text/plain": [
       "  0%|          | 0/1 [00:00<?, ?it/s]"
      ]
     },
     "metadata": {},
     "output_type": "display_data"
    },
    {
     "data": {
      "application/vnd.jupyter.widget-view+json": {
       "model_id": "f6c306f30e084efeaf1aebf938af58f3",
       "version_major": 2,
       "version_minor": 0
      },
      "text/plain": [
       "  0%|          | 0/1 [00:00<?, ?it/s]"
      ]
     },
     "metadata": {},
     "output_type": "display_data"
    },
    {
     "data": {
      "application/vnd.jupyter.widget-view+json": {
       "model_id": "899b46e7826544e59db4c026580b6a68",
       "version_major": 2,
       "version_minor": 0
      },
      "text/plain": [
       "  0%|          | 0/1 [00:00<?, ?it/s]"
      ]
     },
     "metadata": {},
     "output_type": "display_data"
    },
    {
     "data": {
      "application/vnd.jupyter.widget-view+json": {
       "model_id": "25ae14480b1146c691636dfe90fc0103",
       "version_major": 2,
       "version_minor": 0
      },
      "text/plain": [
       "  0%|          | 0/1 [00:00<?, ?it/s]"
      ]
     },
     "metadata": {},
     "output_type": "display_data"
    },
    {
     "data": {
      "application/vnd.jupyter.widget-view+json": {
       "model_id": "9f43e0c526cb45498f5acb3f47e67819",
       "version_major": 2,
       "version_minor": 0
      },
      "text/plain": [
       "  0%|          | 0/1 [00:00<?, ?it/s]"
      ]
     },
     "metadata": {},
     "output_type": "display_data"
    },
    {
     "data": {
      "application/vnd.jupyter.widget-view+json": {
       "model_id": "473b2df85db540f493cb0d028afe447d",
       "version_major": 2,
       "version_minor": 0
      },
      "text/plain": [
       "  0%|          | 0/1 [00:00<?, ?it/s]"
      ]
     },
     "metadata": {},
     "output_type": "display_data"
    },
    {
     "data": {
      "application/vnd.jupyter.widget-view+json": {
       "model_id": "402e7ea7ff48487ab6f547c1ff95d401",
       "version_major": 2,
       "version_minor": 0
      },
      "text/plain": [
       "  0%|          | 0/1 [00:00<?, ?it/s]"
      ]
     },
     "metadata": {},
     "output_type": "display_data"
    },
    {
     "data": {
      "application/vnd.jupyter.widget-view+json": {
       "model_id": "f979533306a94d29ba9d41e169209953",
       "version_major": 2,
       "version_minor": 0
      },
      "text/plain": [
       "  0%|          | 0/1 [00:00<?, ?it/s]"
      ]
     },
     "metadata": {},
     "output_type": "display_data"
    },
    {
     "data": {
      "application/vnd.jupyter.widget-view+json": {
       "model_id": "2b00b853017641d391ca884bccbb44eb",
       "version_major": 2,
       "version_minor": 0
      },
      "text/plain": [
       "  0%|          | 0/1 [00:00<?, ?it/s]"
      ]
     },
     "metadata": {},
     "output_type": "display_data"
    },
    {
     "data": {
      "application/vnd.jupyter.widget-view+json": {
       "model_id": "8666c13467044dc6abd99f95395bcbe1",
       "version_major": 2,
       "version_minor": 0
      },
      "text/plain": [
       "  0%|          | 0/1 [00:00<?, ?it/s]"
      ]
     },
     "metadata": {},
     "output_type": "display_data"
    },
    {
     "data": {
      "application/vnd.jupyter.widget-view+json": {
       "model_id": "e03efdd4a6984bef97923527d31f9d5c",
       "version_major": 2,
       "version_minor": 0
      },
      "text/plain": [
       "  0%|          | 0/1 [00:00<?, ?it/s]"
      ]
     },
     "metadata": {},
     "output_type": "display_data"
    },
    {
     "data": {
      "application/vnd.jupyter.widget-view+json": {
       "model_id": "3a190f649bfb43e081a67d7a636f1464",
       "version_major": 2,
       "version_minor": 0
      },
      "text/plain": [
       "  0%|          | 0/1 [00:00<?, ?it/s]"
      ]
     },
     "metadata": {},
     "output_type": "display_data"
    },
    {
     "data": {
      "application/vnd.jupyter.widget-view+json": {
       "model_id": "1d3fd0ea1b284f528fe28b4e43f3650b",
       "version_major": 2,
       "version_minor": 0
      },
      "text/plain": [
       "  0%|          | 0/1 [00:00<?, ?it/s]"
      ]
     },
     "metadata": {},
     "output_type": "display_data"
    },
    {
     "data": {
      "application/vnd.jupyter.widget-view+json": {
       "model_id": "5e248a00e2cb4ae58a0351b0b2249ad0",
       "version_major": 2,
       "version_minor": 0
      },
      "text/plain": [
       "  0%|          | 0/1 [00:00<?, ?it/s]"
      ]
     },
     "metadata": {},
     "output_type": "display_data"
    },
    {
     "data": {
      "application/vnd.jupyter.widget-view+json": {
       "model_id": "66d482688a2e41b7b851002286af2e59",
       "version_major": 2,
       "version_minor": 0
      },
      "text/plain": [
       "  0%|          | 0/1 [00:00<?, ?it/s]"
      ]
     },
     "metadata": {},
     "output_type": "display_data"
    },
    {
     "data": {
      "application/vnd.jupyter.widget-view+json": {
       "model_id": "c2a5a62e8f6445ec9ce94a21f30cfed3",
       "version_major": 2,
       "version_minor": 0
      },
      "text/plain": [
       "  0%|          | 0/1 [00:00<?, ?it/s]"
      ]
     },
     "metadata": {},
     "output_type": "display_data"
    },
    {
     "data": {
      "application/vnd.jupyter.widget-view+json": {
       "model_id": "bf21d193dd294c4aabb3cb2919dcce52",
       "version_major": 2,
       "version_minor": 0
      },
      "text/plain": [
       "  0%|          | 0/1 [00:00<?, ?it/s]"
      ]
     },
     "metadata": {},
     "output_type": "display_data"
    },
    {
     "data": {
      "application/vnd.jupyter.widget-view+json": {
       "model_id": "8819fa676b2c4976b3ea923252e82a0a",
       "version_major": 2,
       "version_minor": 0
      },
      "text/plain": [
       "  0%|          | 0/1 [00:00<?, ?it/s]"
      ]
     },
     "metadata": {},
     "output_type": "display_data"
    },
    {
     "data": {
      "application/vnd.jupyter.widget-view+json": {
       "model_id": "f7eaa026cba84d478e47e6b382d321c6",
       "version_major": 2,
       "version_minor": 0
      },
      "text/plain": [
       "  0%|          | 0/1 [00:00<?, ?it/s]"
      ]
     },
     "metadata": {},
     "output_type": "display_data"
    },
    {
     "data": {
      "application/vnd.jupyter.widget-view+json": {
       "model_id": "683dccf7984249ac815f409af9ae23ef",
       "version_major": 2,
       "version_minor": 0
      },
      "text/plain": [
       "  0%|          | 0/1 [00:00<?, ?it/s]"
      ]
     },
     "metadata": {},
     "output_type": "display_data"
    },
    {
     "data": {
      "application/vnd.jupyter.widget-view+json": {
       "model_id": "87f4e6a56d1f4ef89623f8269d0cae6b",
       "version_major": 2,
       "version_minor": 0
      },
      "text/plain": [
       "  0%|          | 0/1 [00:00<?, ?it/s]"
      ]
     },
     "metadata": {},
     "output_type": "display_data"
    },
    {
     "data": {
      "application/vnd.jupyter.widget-view+json": {
       "model_id": "0adb44de5a0b4c20914ce55899e2098c",
       "version_major": 2,
       "version_minor": 0
      },
      "text/plain": [
       "  0%|          | 0/1 [00:00<?, ?it/s]"
      ]
     },
     "metadata": {},
     "output_type": "display_data"
    },
    {
     "data": {
      "application/vnd.jupyter.widget-view+json": {
       "model_id": "e1d64eaac7c34339867acb60780c2040",
       "version_major": 2,
       "version_minor": 0
      },
      "text/plain": [
       "  0%|          | 0/1 [00:00<?, ?it/s]"
      ]
     },
     "metadata": {},
     "output_type": "display_data"
    },
    {
     "data": {
      "application/vnd.jupyter.widget-view+json": {
       "model_id": "09ad79017f474c4e9f7630c3dd2ab827",
       "version_major": 2,
       "version_minor": 0
      },
      "text/plain": [
       "  0%|          | 0/1 [00:00<?, ?it/s]"
      ]
     },
     "metadata": {},
     "output_type": "display_data"
    },
    {
     "name": "stdout",
     "output_type": "stream",
     "text": [
      "Dieser tritt bei der Kombinationstherapie mit Ipilimumab plus Nivolumab typischerweise früher auf als unter den Monotherapien – zwischen 6 und 14 Wochen nach Therapiestart [REF].\n",
      "\n",
      "No Filter:\n"
     ]
    },
    {
     "data": {
      "text/html": [
       "<div>\n",
       "<style scoped>\n",
       "    .dataframe tbody tr th:only-of-type {\n",
       "        vertical-align: middle;\n",
       "    }\n",
       "\n",
       "    .dataframe tbody tr th {\n",
       "        vertical-align: top;\n",
       "    }\n",
       "\n",
       "    .dataframe thead th {\n",
       "        text-align: right;\n",
       "    }\n",
       "</style>\n",
       "<table border=\"1\" class=\"dataframe\">\n",
       "  <thead>\n",
       "    <tr style=\"text-align: right;\">\n",
       "      <th></th>\n",
       "      <th>document</th>\n",
       "      <th>text</th>\n",
       "      <th>type</th>\n",
       "      <th>start</th>\n",
       "      <th>end</th>\n",
       "      <th>cui</th>\n",
       "      <th>tuis</th>\n",
       "      <th>canonical</th>\n",
       "      <th>linker</th>\n",
       "      <th>confidence</th>\n",
       "    </tr>\n",
       "  </thead>\n",
       "  <tbody>\n",
       "    <tr>\n",
       "      <th>4</th>\n",
       "      <td>07_malignes-melanom_0197_15</td>\n",
       "      <td>Therapiestart</td>\n",
       "      <td>Therapeutic</td>\n",
       "      <td>158</td>\n",
       "      <td>171</td>\n",
       "      <td>C1699848</td>\n",
       "      <td>[T033]</td>\n",
       "      <td>Therapy cessation</td>\n",
       "      <td>[sapbert]</td>\n",
       "      <td>0.066351</td>\n",
       "    </tr>\n",
       "  </tbody>\n",
       "</table>\n",
       "</div>"
      ],
      "text/plain": [
       "                      document           text         type  start  end  \\\n",
       "4  07_malignes-melanom_0197_15  Therapiestart  Therapeutic    158  171   \n",
       "\n",
       "        cui    tuis          canonical     linker  confidence  \n",
       "4  C1699848  [T033]  Therapy cessation  [sapbert]    0.066351  "
      ]
     },
     "metadata": {},
     "output_type": "display_data"
    },
    {
     "name": "stdout",
     "output_type": "stream",
     "text": [
      "Filter:\n"
     ]
    },
    {
     "data": {
      "text/html": [
       "<div>\n",
       "<style scoped>\n",
       "    .dataframe tbody tr th:only-of-type {\n",
       "        vertical-align: middle;\n",
       "    }\n",
       "\n",
       "    .dataframe tbody tr th {\n",
       "        vertical-align: top;\n",
       "    }\n",
       "\n",
       "    .dataframe thead th {\n",
       "        text-align: right;\n",
       "    }\n",
       "</style>\n",
       "<table border=\"1\" class=\"dataframe\">\n",
       "  <thead>\n",
       "    <tr style=\"text-align: right;\">\n",
       "      <th></th>\n",
       "      <th>document</th>\n",
       "      <th>text</th>\n",
       "      <th>type</th>\n",
       "      <th>start</th>\n",
       "      <th>end</th>\n",
       "      <th>cui</th>\n",
       "      <th>tuis</th>\n",
       "      <th>canonical</th>\n",
       "      <th>linker</th>\n",
       "      <th>confidence</th>\n",
       "    </tr>\n",
       "  </thead>\n",
       "  <tbody>\n",
       "    <tr>\n",
       "      <th>4</th>\n",
       "      <td>07_malignes-melanom_0197_15</td>\n",
       "      <td>Therapiestart</td>\n",
       "      <td>Therapeutic</td>\n",
       "      <td>158</td>\n",
       "      <td>171</td>\n",
       "      <td>C0087111</td>\n",
       "      <td>[T061]</td>\n",
       "      <td>Therapie</td>\n",
       "      <td>[ngram]</td>\n",
       "      <td>0.066326</td>\n",
       "    </tr>\n",
       "  </tbody>\n",
       "</table>\n",
       "</div>"
      ],
      "text/plain": [
       "                      document           text         type  start  end  \\\n",
       "4  07_malignes-melanom_0197_15  Therapiestart  Therapeutic    158  171   \n",
       "\n",
       "        cui    tuis canonical   linker  confidence  \n",
       "4  C0087111  [T061]  Therapie  [ngram]    0.066326  "
      ]
     },
     "metadata": {},
     "output_type": "display_data"
    },
    {
     "name": "stdout",
     "output_type": "stream",
     "text": [
      "####\n"
     ]
    },
    {
     "data": {
      "application/vnd.jupyter.widget-view+json": {
       "model_id": "49e040f5c61745a3aaea51d0e26f8ad4",
       "version_major": 2,
       "version_minor": 0
      },
      "text/plain": [
       "  0%|          | 0/1 [00:00<?, ?it/s]"
      ]
     },
     "metadata": {},
     "output_type": "display_data"
    },
    {
     "data": {
      "application/vnd.jupyter.widget-view+json": {
       "model_id": "4fb2289ecc17411c9b2615d2e70a573d",
       "version_major": 2,
       "version_minor": 0
      },
      "text/plain": [
       "  0%|          | 0/1 [00:00<?, ?it/s]"
      ]
     },
     "metadata": {},
     "output_type": "display_data"
    },
    {
     "data": {
      "application/vnd.jupyter.widget-view+json": {
       "model_id": "07402c7006d745b3931b13fa44574db9",
       "version_major": 2,
       "version_minor": 0
      },
      "text/plain": [
       "  0%|          | 0/1 [00:00<?, ?it/s]"
      ]
     },
     "metadata": {},
     "output_type": "display_data"
    },
    {
     "data": {
      "application/vnd.jupyter.widget-view+json": {
       "model_id": "8445716ec3d8493ca6eebec05ec21f07",
       "version_major": 2,
       "version_minor": 0
      },
      "text/plain": [
       "  0%|          | 0/1 [00:00<?, ?it/s]"
      ]
     },
     "metadata": {},
     "output_type": "display_data"
    },
    {
     "data": {
      "application/vnd.jupyter.widget-view+json": {
       "model_id": "1f1c0aff37784553a0c4ec437bb3d81c",
       "version_major": 2,
       "version_minor": 0
      },
      "text/plain": [
       "  0%|          | 0/1 [00:00<?, ?it/s]"
      ]
     },
     "metadata": {},
     "output_type": "display_data"
    },
    {
     "data": {
      "application/vnd.jupyter.widget-view+json": {
       "model_id": "0fc909050577433cb392651b8378a16b",
       "version_major": 2,
       "version_minor": 0
      },
      "text/plain": [
       "  0%|          | 0/1 [00:00<?, ?it/s]"
      ]
     },
     "metadata": {},
     "output_type": "display_data"
    },
    {
     "data": {
      "application/vnd.jupyter.widget-view+json": {
       "model_id": "88e57010fe484385b790ea48548b00da",
       "version_major": 2,
       "version_minor": 0
      },
      "text/plain": [
       "  0%|          | 0/1 [00:00<?, ?it/s]"
      ]
     },
     "metadata": {},
     "output_type": "display_data"
    },
    {
     "data": {
      "application/vnd.jupyter.widget-view+json": {
       "model_id": "fd8b0e18ef534fa99a7807fd60e3a56d",
       "version_major": 2,
       "version_minor": 0
      },
      "text/plain": [
       "  0%|          | 0/1 [00:00<?, ?it/s]"
      ]
     },
     "metadata": {},
     "output_type": "display_data"
    },
    {
     "data": {
      "application/vnd.jupyter.widget-view+json": {
       "model_id": "f1d412c2296a4693889872eeec5ea492",
       "version_major": 2,
       "version_minor": 0
      },
      "text/plain": [
       "  0%|          | 0/1 [00:00<?, ?it/s]"
      ]
     },
     "metadata": {},
     "output_type": "display_data"
    },
    {
     "data": {
      "application/vnd.jupyter.widget-view+json": {
       "model_id": "c209b73c867a4168907b498ae941175d",
       "version_major": 2,
       "version_minor": 0
      },
      "text/plain": [
       "  0%|          | 0/1 [00:00<?, ?it/s]"
      ]
     },
     "metadata": {},
     "output_type": "display_data"
    },
    {
     "data": {
      "application/vnd.jupyter.widget-view+json": {
       "model_id": "7df039e01b6544bd81101d8e5bbaec78",
       "version_major": 2,
       "version_minor": 0
      },
      "text/plain": [
       "  0%|          | 0/1 [00:00<?, ?it/s]"
      ]
     },
     "metadata": {},
     "output_type": "display_data"
    },
    {
     "data": {
      "application/vnd.jupyter.widget-view+json": {
       "model_id": "dcb709bbcc854c4e8fd7666104751e92",
       "version_major": 2,
       "version_minor": 0
      },
      "text/plain": [
       "  0%|          | 0/1 [00:00<?, ?it/s]"
      ]
     },
     "metadata": {},
     "output_type": "display_data"
    },
    {
     "data": {
      "application/vnd.jupyter.widget-view+json": {
       "model_id": "b77c7971fbb34fcfad234eaa19005292",
       "version_major": 2,
       "version_minor": 0
      },
      "text/plain": [
       "  0%|          | 0/1 [00:00<?, ?it/s]"
      ]
     },
     "metadata": {},
     "output_type": "display_data"
    },
    {
     "data": {
      "application/vnd.jupyter.widget-view+json": {
       "model_id": "af7adfb13f8542d2afb867cc5b80b10f",
       "version_major": 2,
       "version_minor": 0
      },
      "text/plain": [
       "  0%|          | 0/1 [00:00<?, ?it/s]"
      ]
     },
     "metadata": {},
     "output_type": "display_data"
    },
    {
     "data": {
      "application/vnd.jupyter.widget-view+json": {
       "model_id": "5953d659b59b4d9e91c93770e016a8ff",
       "version_major": 2,
       "version_minor": 0
      },
      "text/plain": [
       "  0%|          | 0/1 [00:00<?, ?it/s]"
      ]
     },
     "metadata": {},
     "output_type": "display_data"
    },
    {
     "data": {
      "application/vnd.jupyter.widget-view+json": {
       "model_id": "982ad4e5bf8e4ed5a532e726429261e5",
       "version_major": 2,
       "version_minor": 0
      },
      "text/plain": [
       "  0%|          | 0/1 [00:00<?, ?it/s]"
      ]
     },
     "metadata": {},
     "output_type": "display_data"
    },
    {
     "data": {
      "application/vnd.jupyter.widget-view+json": {
       "model_id": "32d76072bcf14bd0a0b8fc80359fdd12",
       "version_major": 2,
       "version_minor": 0
      },
      "text/plain": [
       "  0%|          | 0/1 [00:00<?, ?it/s]"
      ]
     },
     "metadata": {},
     "output_type": "display_data"
    },
    {
     "data": {
      "application/vnd.jupyter.widget-view+json": {
       "model_id": "ae148dceabdb4f0b87915af51ebe0ce0",
       "version_major": 2,
       "version_minor": 0
      },
      "text/plain": [
       "  0%|          | 0/1 [00:00<?, ?it/s]"
      ]
     },
     "metadata": {},
     "output_type": "display_data"
    },
    {
     "name": "stdout",
     "output_type": "stream",
     "text": [
      "Immun-Checkpoint-Blocker induzierte Hepatitiden erfordern ein Abbrechen der Immuntherapie ab Schweregrad 3 nach CTCAE und eine Behandlung mit Kortikosteroiden und bei fehlendem Ansprechen ggf. weiteren immunsuppressiven Medikamenten wie dem Mycophenolatmofetil [REF].\n",
      "\n",
      "No Filter:\n"
     ]
    },
    {
     "data": {
      "text/html": [
       "<div>\n",
       "<style scoped>\n",
       "    .dataframe tbody tr th:only-of-type {\n",
       "        vertical-align: middle;\n",
       "    }\n",
       "\n",
       "    .dataframe tbody tr th {\n",
       "        vertical-align: top;\n",
       "    }\n",
       "\n",
       "    .dataframe thead th {\n",
       "        text-align: right;\n",
       "    }\n",
       "</style>\n",
       "<table border=\"1\" class=\"dataframe\">\n",
       "  <thead>\n",
       "    <tr style=\"text-align: right;\">\n",
       "      <th></th>\n",
       "      <th>document</th>\n",
       "      <th>text</th>\n",
       "      <th>type</th>\n",
       "      <th>start</th>\n",
       "      <th>end</th>\n",
       "      <th>cui</th>\n",
       "      <th>tuis</th>\n",
       "      <th>canonical</th>\n",
       "      <th>linker</th>\n",
       "      <th>confidence</th>\n",
       "    </tr>\n",
       "  </thead>\n",
       "  <tbody>\n",
       "    <tr>\n",
       "      <th>3</th>\n",
       "      <td>07_malignes-melanom_0197_24</td>\n",
       "      <td>CTCAE</td>\n",
       "      <td>Diagnostic</td>\n",
       "      <td>112</td>\n",
       "      <td>117</td>\n",
       "      <td>C5670031</td>\n",
       "      <td>[T170]</td>\n",
       "      <td>CTCAE Version</td>\n",
       "      <td>[ngram, sapbert]</td>\n",
       "      <td>0.066386</td>\n",
       "    </tr>\n",
       "  </tbody>\n",
       "</table>\n",
       "</div>"
      ],
      "text/plain": [
       "                      document   text        type  start  end       cui  \\\n",
       "3  07_malignes-melanom_0197_24  CTCAE  Diagnostic    112  117  C5670031   \n",
       "\n",
       "     tuis      canonical            linker  confidence  \n",
       "3  [T170]  CTCAE Version  [ngram, sapbert]    0.066386  "
      ]
     },
     "metadata": {},
     "output_type": "display_data"
    },
    {
     "name": "stdout",
     "output_type": "stream",
     "text": [
      "Filter:\n"
     ]
    },
    {
     "data": {
      "text/html": [
       "<div>\n",
       "<style scoped>\n",
       "    .dataframe tbody tr th:only-of-type {\n",
       "        vertical-align: middle;\n",
       "    }\n",
       "\n",
       "    .dataframe tbody tr th {\n",
       "        vertical-align: top;\n",
       "    }\n",
       "\n",
       "    .dataframe thead th {\n",
       "        text-align: right;\n",
       "    }\n",
       "</style>\n",
       "<table border=\"1\" class=\"dataframe\">\n",
       "  <thead>\n",
       "    <tr style=\"text-align: right;\">\n",
       "      <th></th>\n",
       "      <th>document</th>\n",
       "      <th>text</th>\n",
       "      <th>type</th>\n",
       "      <th>start</th>\n",
       "      <th>end</th>\n",
       "      <th>cui</th>\n",
       "      <th>tuis</th>\n",
       "      <th>canonical</th>\n",
       "      <th>linker</th>\n",
       "      <th>confidence</th>\n",
       "    </tr>\n",
       "  </thead>\n",
       "  <tbody>\n",
       "    <tr>\n",
       "      <th>3</th>\n",
       "      <td>07_malignes-melanom_0197_24</td>\n",
       "      <td>CTCAE</td>\n",
       "      <td>Diagnostic</td>\n",
       "      <td>112</td>\n",
       "      <td>117</td>\n",
       "      <td>C1516728</td>\n",
       "      <td>[T170]</td>\n",
       "      <td>National Cancer Institute common terminology c...</td>\n",
       "      <td>[ngram, sapbert]</td>\n",
       "      <td>0.068705</td>\n",
       "    </tr>\n",
       "  </tbody>\n",
       "</table>\n",
       "</div>"
      ],
      "text/plain": [
       "                      document   text        type  start  end       cui  \\\n",
       "3  07_malignes-melanom_0197_24  CTCAE  Diagnostic    112  117  C1516728   \n",
       "\n",
       "     tuis                                          canonical  \\\n",
       "3  [T170]  National Cancer Institute common terminology c...   \n",
       "\n",
       "             linker  confidence  \n",
       "3  [ngram, sapbert]    0.068705  "
      ]
     },
     "metadata": {},
     "output_type": "display_data"
    },
    {
     "name": "stdout",
     "output_type": "stream",
     "text": [
      "####\n"
     ]
    },
    {
     "data": {
      "application/vnd.jupyter.widget-view+json": {
       "model_id": "aa030b3982194bb5a9768a1bc509f5b2",
       "version_major": 2,
       "version_minor": 0
      },
      "text/plain": [
       "  0%|          | 0/1 [00:00<?, ?it/s]"
      ]
     },
     "metadata": {},
     "output_type": "display_data"
    },
    {
     "data": {
      "application/vnd.jupyter.widget-view+json": {
       "model_id": "8d004c6f8b224453875bc166c2afa350",
       "version_major": 2,
       "version_minor": 0
      },
      "text/plain": [
       "  0%|          | 0/1 [00:00<?, ?it/s]"
      ]
     },
     "metadata": {},
     "output_type": "display_data"
    },
    {
     "data": {
      "application/vnd.jupyter.widget-view+json": {
       "model_id": "d188c245b493439d955a8b8d9234ba34",
       "version_major": 2,
       "version_minor": 0
      },
      "text/plain": [
       "  0%|          | 0/1 [00:00<?, ?it/s]"
      ]
     },
     "metadata": {},
     "output_type": "display_data"
    },
    {
     "data": {
      "application/vnd.jupyter.widget-view+json": {
       "model_id": "8b037c2a60d44c2c8f95bb7c4862933d",
       "version_major": 2,
       "version_minor": 0
      },
      "text/plain": [
       "  0%|          | 0/1 [00:00<?, ?it/s]"
      ]
     },
     "metadata": {},
     "output_type": "display_data"
    },
    {
     "data": {
      "application/vnd.jupyter.widget-view+json": {
       "model_id": "1152f295cad34335a46db79280da7f7d",
       "version_major": 2,
       "version_minor": 0
      },
      "text/plain": [
       "  0%|          | 0/1 [00:00<?, ?it/s]"
      ]
     },
     "metadata": {},
     "output_type": "display_data"
    },
    {
     "data": {
      "application/vnd.jupyter.widget-view+json": {
       "model_id": "c9042a32c796471caa04c2af576ecb94",
       "version_major": 2,
       "version_minor": 0
      },
      "text/plain": [
       "  0%|          | 0/1 [00:00<?, ?it/s]"
      ]
     },
     "metadata": {},
     "output_type": "display_data"
    },
    {
     "data": {
      "application/vnd.jupyter.widget-view+json": {
       "model_id": "964912a30f51442b8c81118efe0d7cac",
       "version_major": 2,
       "version_minor": 0
      },
      "text/plain": [
       "  0%|          | 0/1 [00:00<?, ?it/s]"
      ]
     },
     "metadata": {},
     "output_type": "display_data"
    },
    {
     "data": {
      "application/vnd.jupyter.widget-view+json": {
       "model_id": "12eb4cb78dc1455ea2ba79b921646076",
       "version_major": 2,
       "version_minor": 0
      },
      "text/plain": [
       "  0%|          | 0/1 [00:00<?, ?it/s]"
      ]
     },
     "metadata": {},
     "output_type": "display_data"
    },
    {
     "data": {
      "application/vnd.jupyter.widget-view+json": {
       "model_id": "0cc632f22f844d1eb2653de34b77583a",
       "version_major": 2,
       "version_minor": 0
      },
      "text/plain": [
       "  0%|          | 0/1 [00:00<?, ?it/s]"
      ]
     },
     "metadata": {},
     "output_type": "display_data"
    },
    {
     "data": {
      "application/vnd.jupyter.widget-view+json": {
       "model_id": "f4ce2184fb5a4804b5ea1c06c993eee9",
       "version_major": 2,
       "version_minor": 0
      },
      "text/plain": [
       "  0%|          | 0/1 [00:00<?, ?it/s]"
      ]
     },
     "metadata": {},
     "output_type": "display_data"
    },
    {
     "data": {
      "application/vnd.jupyter.widget-view+json": {
       "model_id": "b5105524d4f34fc88de2fcf2c288870f",
       "version_major": 2,
       "version_minor": 0
      },
      "text/plain": [
       "  0%|          | 0/1 [00:00<?, ?it/s]"
      ]
     },
     "metadata": {},
     "output_type": "display_data"
    },
    {
     "data": {
      "application/vnd.jupyter.widget-view+json": {
       "model_id": "087a5bf873bc4793a13fe02ebf103a41",
       "version_major": 2,
       "version_minor": 0
      },
      "text/plain": [
       "  0%|          | 0/1 [00:00<?, ?it/s]"
      ]
     },
     "metadata": {},
     "output_type": "display_data"
    },
    {
     "data": {
      "application/vnd.jupyter.widget-view+json": {
       "model_id": "d6f2bf7f94ad4cb688534d5396dbfd8e",
       "version_major": 2,
       "version_minor": 0
      },
      "text/plain": [
       "  0%|          | 0/1 [00:00<?, ?it/s]"
      ]
     },
     "metadata": {},
     "output_type": "display_data"
    },
    {
     "data": {
      "application/vnd.jupyter.widget-view+json": {
       "model_id": "548ddfa5e6464f709d9edd6a7d5497eb",
       "version_major": 2,
       "version_minor": 0
      },
      "text/plain": [
       "  0%|          | 0/1 [00:00<?, ?it/s]"
      ]
     },
     "metadata": {},
     "output_type": "display_data"
    },
    {
     "data": {
      "application/vnd.jupyter.widget-view+json": {
       "model_id": "9f91a199bf2b4612b90e8ddfeb7701f4",
       "version_major": 2,
       "version_minor": 0
      },
      "text/plain": [
       "  0%|          | 0/1 [00:00<?, ?it/s]"
      ]
     },
     "metadata": {},
     "output_type": "display_data"
    },
    {
     "data": {
      "application/vnd.jupyter.widget-view+json": {
       "model_id": "fb159ba17a9046f39e155efd9cfd5828",
       "version_major": 2,
       "version_minor": 0
      },
      "text/plain": [
       "  0%|          | 0/1 [00:00<?, ?it/s]"
      ]
     },
     "metadata": {},
     "output_type": "display_data"
    },
    {
     "data": {
      "application/vnd.jupyter.widget-view+json": {
       "model_id": "3f8234ccdf0248159ed005defc11d727",
       "version_major": 2,
       "version_minor": 0
      },
      "text/plain": [
       "  0%|          | 0/1 [00:00<?, ?it/s]"
      ]
     },
     "metadata": {},
     "output_type": "display_data"
    },
    {
     "data": {
      "application/vnd.jupyter.widget-view+json": {
       "model_id": "ce3f9ce4c4274390b4440b116b85ac7a",
       "version_major": 2,
       "version_minor": 0
      },
      "text/plain": [
       "  0%|          | 0/1 [00:00<?, ?it/s]"
      ]
     },
     "metadata": {},
     "output_type": "display_data"
    },
    {
     "data": {
      "application/vnd.jupyter.widget-view+json": {
       "model_id": "63be7c0333174ef2910bd6a0b8df972d",
       "version_major": 2,
       "version_minor": 0
      },
      "text/plain": [
       "  0%|          | 0/1 [00:00<?, ?it/s]"
      ]
     },
     "metadata": {},
     "output_type": "display_data"
    },
    {
     "data": {
      "application/vnd.jupyter.widget-view+json": {
       "model_id": "99305b1111464913af8c80a4be014bb1",
       "version_major": 2,
       "version_minor": 0
      },
      "text/plain": [
       "  0%|          | 0/1 [00:00<?, ?it/s]"
      ]
     },
     "metadata": {},
     "output_type": "display_data"
    },
    {
     "data": {
      "application/vnd.jupyter.widget-view+json": {
       "model_id": "8c37b47ba10943a3974619883f80486c",
       "version_major": 2,
       "version_minor": 0
      },
      "text/plain": [
       "  0%|          | 0/1 [00:00<?, ?it/s]"
      ]
     },
     "metadata": {},
     "output_type": "display_data"
    },
    {
     "data": {
      "application/vnd.jupyter.widget-view+json": {
       "model_id": "b7e5e93a9e8a4de288499c7b9371083f",
       "version_major": 2,
       "version_minor": 0
      },
      "text/plain": [
       "  0%|          | 0/1 [00:00<?, ?it/s]"
      ]
     },
     "metadata": {},
     "output_type": "display_data"
    },
    {
     "data": {
      "application/vnd.jupyter.widget-view+json": {
       "model_id": "7c9de6e3d3804511b43df66d4df1e689",
       "version_major": 2,
       "version_minor": 0
      },
      "text/plain": [
       "  0%|          | 0/1 [00:00<?, ?it/s]"
      ]
     },
     "metadata": {},
     "output_type": "display_data"
    },
    {
     "data": {
      "application/vnd.jupyter.widget-view+json": {
       "model_id": "1cb1ac141a4941699d7904221e7ca6dc",
       "version_major": 2,
       "version_minor": 0
      },
      "text/plain": [
       "  0%|          | 0/1 [00:00<?, ?it/s]"
      ]
     },
     "metadata": {},
     "output_type": "display_data"
    },
    {
     "data": {
      "application/vnd.jupyter.widget-view+json": {
       "model_id": "733efc5a170d4432b124b866dbf52c4a",
       "version_major": 2,
       "version_minor": 0
      },
      "text/plain": [
       "  0%|          | 0/1 [00:00<?, ?it/s]"
      ]
     },
     "metadata": {},
     "output_type": "display_data"
    },
    {
     "data": {
      "application/vnd.jupyter.widget-view+json": {
       "model_id": "b513a7030032491683c6699983a5716e",
       "version_major": 2,
       "version_minor": 0
      },
      "text/plain": [
       "  0%|          | 0/1 [00:00<?, ?it/s]"
      ]
     },
     "metadata": {},
     "output_type": "display_data"
    },
    {
     "data": {
      "application/vnd.jupyter.widget-view+json": {
       "model_id": "48f94724be8b4363a6c4f7ffa1b00c46",
       "version_major": 2,
       "version_minor": 0
      },
      "text/plain": [
       "  0%|          | 0/1 [00:00<?, ?it/s]"
      ]
     },
     "metadata": {},
     "output_type": "display_data"
    },
    {
     "data": {
      "application/vnd.jupyter.widget-view+json": {
       "model_id": "86f416431f0d440b89ab2fbf5dafacc7",
       "version_major": 2,
       "version_minor": 0
      },
      "text/plain": [
       "  0%|          | 0/1 [00:00<?, ?it/s]"
      ]
     },
     "metadata": {},
     "output_type": "display_data"
    },
    {
     "data": {
      "application/vnd.jupyter.widget-view+json": {
       "model_id": "bd4f5b0438c242608d76d3b50e6556a0",
       "version_major": 2,
       "version_minor": 0
      },
      "text/plain": [
       "  0%|          | 0/1 [00:00<?, ?it/s]"
      ]
     },
     "metadata": {},
     "output_type": "display_data"
    },
    {
     "data": {
      "application/vnd.jupyter.widget-view+json": {
       "model_id": "45101a26826e42b9ad0ba2b816dcffe1",
       "version_major": 2,
       "version_minor": 0
      },
      "text/plain": [
       "  0%|          | 0/1 [00:00<?, ?it/s]"
      ]
     },
     "metadata": {},
     "output_type": "display_data"
    },
    {
     "data": {
      "application/vnd.jupyter.widget-view+json": {
       "model_id": "5f2def4f517b49598a44d33a7d9cd7a9",
       "version_major": 2,
       "version_minor": 0
      },
      "text/plain": [
       "  0%|          | 0/1 [00:00<?, ?it/s]"
      ]
     },
     "metadata": {},
     "output_type": "display_data"
    },
    {
     "data": {
      "application/vnd.jupyter.widget-view+json": {
       "model_id": "dd8aaf4c2fca4b34baad925e7ace7a42",
       "version_major": 2,
       "version_minor": 0
      },
      "text/plain": [
       "  0%|          | 0/1 [00:00<?, ?it/s]"
      ]
     },
     "metadata": {},
     "output_type": "display_data"
    },
    {
     "data": {
      "application/vnd.jupyter.widget-view+json": {
       "model_id": "d48f5c3eaa2549bab00d63f6f5beeaa4",
       "version_major": 2,
       "version_minor": 0
      },
      "text/plain": [
       "  0%|          | 0/1 [00:00<?, ?it/s]"
      ]
     },
     "metadata": {},
     "output_type": "display_data"
    },
    {
     "data": {
      "application/vnd.jupyter.widget-view+json": {
       "model_id": "4eb72ede795c45cca4e7e681c8f2285a",
       "version_major": 2,
       "version_minor": 0
      },
      "text/plain": [
       "  0%|          | 0/1 [00:00<?, ?it/s]"
      ]
     },
     "metadata": {},
     "output_type": "display_data"
    },
    {
     "data": {
      "application/vnd.jupyter.widget-view+json": {
       "model_id": "44edf9bfde064427983e5fef325b81f6",
       "version_major": 2,
       "version_minor": 0
      },
      "text/plain": [
       "  0%|          | 0/1 [00:00<?, ?it/s]"
      ]
     },
     "metadata": {},
     "output_type": "display_data"
    },
    {
     "data": {
      "application/vnd.jupyter.widget-view+json": {
       "model_id": "0612cd2556de4bf894b53190a68b5201",
       "version_major": 2,
       "version_minor": 0
      },
      "text/plain": [
       "  0%|          | 0/1 [00:00<?, ?it/s]"
      ]
     },
     "metadata": {},
     "output_type": "display_data"
    },
    {
     "data": {
      "application/vnd.jupyter.widget-view+json": {
       "model_id": "9218e09e2fa24b88a733f05e255bd5ce",
       "version_major": 2,
       "version_minor": 0
      },
      "text/plain": [
       "  0%|          | 0/1 [00:00<?, ?it/s]"
      ]
     },
     "metadata": {},
     "output_type": "display_data"
    },
    {
     "data": {
      "application/vnd.jupyter.widget-view+json": {
       "model_id": "66a0fca35acb45f288d32cc4d53f0ae1",
       "version_major": 2,
       "version_minor": 0
      },
      "text/plain": [
       "  0%|          | 0/1 [00:00<?, ?it/s]"
      ]
     },
     "metadata": {},
     "output_type": "display_data"
    },
    {
     "data": {
      "application/vnd.jupyter.widget-view+json": {
       "model_id": "70427832b255421db282f6a92f0c3f71",
       "version_major": 2,
       "version_minor": 0
      },
      "text/plain": [
       "  0%|          | 0/1 [00:00<?, ?it/s]"
      ]
     },
     "metadata": {},
     "output_type": "display_data"
    },
    {
     "data": {
      "application/vnd.jupyter.widget-view+json": {
       "model_id": "b6b403f124754c49afe1f804628a87f7",
       "version_major": 2,
       "version_minor": 0
      },
      "text/plain": [
       "  0%|          | 0/1 [00:00<?, ?it/s]"
      ]
     },
     "metadata": {},
     "output_type": "display_data"
    },
    {
     "data": {
      "application/vnd.jupyter.widget-view+json": {
       "model_id": "c07d3de89fe44c698f87e1d9f53a4e40",
       "version_major": 2,
       "version_minor": 0
      },
      "text/plain": [
       "  0%|          | 0/1 [00:00<?, ?it/s]"
      ]
     },
     "metadata": {},
     "output_type": "display_data"
    },
    {
     "data": {
      "application/vnd.jupyter.widget-view+json": {
       "model_id": "f99c65e8acf746ea8024f3bf523bfd16",
       "version_major": 2,
       "version_minor": 0
      },
      "text/plain": [
       "  0%|          | 0/1 [00:00<?, ?it/s]"
      ]
     },
     "metadata": {},
     "output_type": "display_data"
    },
    {
     "data": {
      "application/vnd.jupyter.widget-view+json": {
       "model_id": "5446eb6b532b4510a55da6438c1811dd",
       "version_major": 2,
       "version_minor": 0
      },
      "text/plain": [
       "  0%|          | 0/1 [00:00<?, ?it/s]"
      ]
     },
     "metadata": {},
     "output_type": "display_data"
    },
    {
     "data": {
      "application/vnd.jupyter.widget-view+json": {
       "model_id": "2f1a79c4c1284b7598e9648a9da5ba4d",
       "version_major": 2,
       "version_minor": 0
      },
      "text/plain": [
       "  0%|          | 0/1 [00:00<?, ?it/s]"
      ]
     },
     "metadata": {},
     "output_type": "display_data"
    },
    {
     "data": {
      "application/vnd.jupyter.widget-view+json": {
       "model_id": "72bd7c1cf1ce4b268a805f3493d3bc59",
       "version_major": 2,
       "version_minor": 0
      },
      "text/plain": [
       "  0%|          | 0/1 [00:00<?, ?it/s]"
      ]
     },
     "metadata": {},
     "output_type": "display_data"
    },
    {
     "data": {
      "application/vnd.jupyter.widget-view+json": {
       "model_id": "e7b2bee60f0041fbb7adf9a96011e914",
       "version_major": 2,
       "version_minor": 0
      },
      "text/plain": [
       "  0%|          | 0/1 [00:00<?, ?it/s]"
      ]
     },
     "metadata": {},
     "output_type": "display_data"
    },
    {
     "data": {
      "application/vnd.jupyter.widget-view+json": {
       "model_id": "6b334aef19fc4711b2a8c356290298ab",
       "version_major": 2,
       "version_minor": 0
      },
      "text/plain": [
       "  0%|          | 0/1 [00:00<?, ?it/s]"
      ]
     },
     "metadata": {},
     "output_type": "display_data"
    },
    {
     "data": {
      "application/vnd.jupyter.widget-view+json": {
       "model_id": "f28d8aa5992f43bea987fc8f657e97b8",
       "version_major": 2,
       "version_minor": 0
      },
      "text/plain": [
       "  0%|          | 0/1 [00:00<?, ?it/s]"
      ]
     },
     "metadata": {},
     "output_type": "display_data"
    },
    {
     "data": {
      "application/vnd.jupyter.widget-view+json": {
       "model_id": "b5be06c451f34857b9e2913daa992b0d",
       "version_major": 2,
       "version_minor": 0
      },
      "text/plain": [
       "  0%|          | 0/1 [00:00<?, ?it/s]"
      ]
     },
     "metadata": {},
     "output_type": "display_data"
    },
    {
     "data": {
      "application/vnd.jupyter.widget-view+json": {
       "model_id": "395a2eaa9fd2488b8e9675cfa4e66c62",
       "version_major": 2,
       "version_minor": 0
      },
      "text/plain": [
       "  0%|          | 0/1 [00:00<?, ?it/s]"
      ]
     },
     "metadata": {},
     "output_type": "display_data"
    },
    {
     "data": {
      "application/vnd.jupyter.widget-view+json": {
       "model_id": "559e5f3d12b14eafb66c8ca54daa5343",
       "version_major": 2,
       "version_minor": 0
      },
      "text/plain": [
       "  0%|          | 0/1 [00:00<?, ?it/s]"
      ]
     },
     "metadata": {},
     "output_type": "display_data"
    },
    {
     "data": {
      "application/vnd.jupyter.widget-view+json": {
       "model_id": "8af5c282c9f44d4f99816bbee7410f12",
       "version_major": 2,
       "version_minor": 0
      },
      "text/plain": [
       "  0%|          | 0/1 [00:00<?, ?it/s]"
      ]
     },
     "metadata": {},
     "output_type": "display_data"
    },
    {
     "data": {
      "application/vnd.jupyter.widget-view+json": {
       "model_id": "69e2d98d1d0c4216bd7e8bf1f464f04e",
       "version_major": 2,
       "version_minor": 0
      },
      "text/plain": [
       "  0%|          | 0/1 [00:00<?, ?it/s]"
      ]
     },
     "metadata": {},
     "output_type": "display_data"
    },
    {
     "data": {
      "application/vnd.jupyter.widget-view+json": {
       "model_id": "24293eb84e88496ba7d3f7084285b75d",
       "version_major": 2,
       "version_minor": 0
      },
      "text/plain": [
       "  0%|          | 0/1 [00:00<?, ?it/s]"
      ]
     },
     "metadata": {},
     "output_type": "display_data"
    },
    {
     "data": {
      "application/vnd.jupyter.widget-view+json": {
       "model_id": "4975e55ce1b34b9096b22157a4aa33b2",
       "version_major": 2,
       "version_minor": 0
      },
      "text/plain": [
       "  0%|          | 0/1 [00:00<?, ?it/s]"
      ]
     },
     "metadata": {},
     "output_type": "display_data"
    },
    {
     "data": {
      "application/vnd.jupyter.widget-view+json": {
       "model_id": "368ab04ca21f408d9cf0007a74964508",
       "version_major": 2,
       "version_minor": 0
      },
      "text/plain": [
       "  0%|          | 0/1 [00:00<?, ?it/s]"
      ]
     },
     "metadata": {},
     "output_type": "display_data"
    },
    {
     "data": {
      "application/vnd.jupyter.widget-view+json": {
       "model_id": "c66b68fa3fe84ad387f09d22dd10b7a8",
       "version_major": 2,
       "version_minor": 0
      },
      "text/plain": [
       "  0%|          | 0/1 [00:00<?, ?it/s]"
      ]
     },
     "metadata": {},
     "output_type": "display_data"
    },
    {
     "data": {
      "application/vnd.jupyter.widget-view+json": {
       "model_id": "a28ac22c20314df885ddbcd0d47ab2fa",
       "version_major": 2,
       "version_minor": 0
      },
      "text/plain": [
       "  0%|          | 0/1 [00:00<?, ?it/s]"
      ]
     },
     "metadata": {},
     "output_type": "display_data"
    },
    {
     "data": {
      "application/vnd.jupyter.widget-view+json": {
       "model_id": "b64c9225c10446b4be735ab403011ab0",
       "version_major": 2,
       "version_minor": 0
      },
      "text/plain": [
       "  0%|          | 0/1 [00:00<?, ?it/s]"
      ]
     },
     "metadata": {},
     "output_type": "display_data"
    },
    {
     "data": {
      "application/vnd.jupyter.widget-view+json": {
       "model_id": "607a377f2fe24d4183461a9c5e9556e8",
       "version_major": 2,
       "version_minor": 0
      },
      "text/plain": [
       "  0%|          | 0/1 [00:00<?, ?it/s]"
      ]
     },
     "metadata": {},
     "output_type": "display_data"
    },
    {
     "data": {
      "application/vnd.jupyter.widget-view+json": {
       "model_id": "5486363a381d4f3ab4e7a895d6e4d0fe",
       "version_major": 2,
       "version_minor": 0
      },
      "text/plain": [
       "  0%|          | 0/1 [00:00<?, ?it/s]"
      ]
     },
     "metadata": {},
     "output_type": "display_data"
    },
    {
     "data": {
      "application/vnd.jupyter.widget-view+json": {
       "model_id": "c45d5f462f9743958d1eab5876cbae93",
       "version_major": 2,
       "version_minor": 0
      },
      "text/plain": [
       "  0%|          | 0/1 [00:00<?, ?it/s]"
      ]
     },
     "metadata": {},
     "output_type": "display_data"
    },
    {
     "name": "stdout",
     "output_type": "stream",
     "text": [
      "Unter der Immuntherapie können lebensgefährliche kardiale Nebenwirkungen auftreten, die ein schnelles konsequentes Vorgehen inklusive symptomatischer medizinischer Intervention ggf. auf der Intensivstation erfordern können [REF].\n",
      "\n",
      "No Filter:\n"
     ]
    },
    {
     "data": {
      "text/html": [
       "<div>\n",
       "<style scoped>\n",
       "    .dataframe tbody tr th:only-of-type {\n",
       "        vertical-align: middle;\n",
       "    }\n",
       "\n",
       "    .dataframe tbody tr th {\n",
       "        vertical-align: top;\n",
       "    }\n",
       "\n",
       "    .dataframe thead th {\n",
       "        text-align: right;\n",
       "    }\n",
       "</style>\n",
       "<table border=\"1\" class=\"dataframe\">\n",
       "  <thead>\n",
       "    <tr style=\"text-align: right;\">\n",
       "      <th></th>\n",
       "      <th>document</th>\n",
       "      <th>text</th>\n",
       "      <th>type</th>\n",
       "      <th>start</th>\n",
       "      <th>end</th>\n",
       "      <th>cui</th>\n",
       "      <th>tuis</th>\n",
       "      <th>canonical</th>\n",
       "      <th>linker</th>\n",
       "      <th>confidence</th>\n",
       "    </tr>\n",
       "  </thead>\n",
       "  <tbody>\n",
       "    <tr>\n",
       "      <th>2</th>\n",
       "      <td>07_malignes-melanom_0207_29</td>\n",
       "      <td>schnelles konsequentes Vorgehen</td>\n",
       "      <td>Therapeutic</td>\n",
       "      <td>92</td>\n",
       "      <td>123</td>\n",
       "      <td>C0220813</td>\n",
       "      <td>[T089]</td>\n",
       "      <td>court decisions</td>\n",
       "      <td>[sapbert]</td>\n",
       "      <td>0.111342</td>\n",
       "    </tr>\n",
       "  </tbody>\n",
       "</table>\n",
       "</div>"
      ],
      "text/plain": [
       "                      document                             text         type  \\\n",
       "2  07_malignes-melanom_0207_29  schnelles konsequentes Vorgehen  Therapeutic   \n",
       "\n",
       "   start  end       cui    tuis        canonical     linker  confidence  \n",
       "2     92  123  C0220813  [T089]  court decisions  [sapbert]    0.111342  "
      ]
     },
     "metadata": {},
     "output_type": "display_data"
    },
    {
     "name": "stdout",
     "output_type": "stream",
     "text": [
      "Filter:\n"
     ]
    },
    {
     "data": {
      "text/html": [
       "<div>\n",
       "<style scoped>\n",
       "    .dataframe tbody tr th:only-of-type {\n",
       "        vertical-align: middle;\n",
       "    }\n",
       "\n",
       "    .dataframe tbody tr th {\n",
       "        vertical-align: top;\n",
       "    }\n",
       "\n",
       "    .dataframe thead th {\n",
       "        text-align: right;\n",
       "    }\n",
       "</style>\n",
       "<table border=\"1\" class=\"dataframe\">\n",
       "  <thead>\n",
       "    <tr style=\"text-align: right;\">\n",
       "      <th></th>\n",
       "      <th>document</th>\n",
       "      <th>text</th>\n",
       "      <th>type</th>\n",
       "      <th>start</th>\n",
       "      <th>end</th>\n",
       "      <th>cui</th>\n",
       "      <th>tuis</th>\n",
       "      <th>canonical</th>\n",
       "      <th>linker</th>\n",
       "      <th>confidence</th>\n",
       "    </tr>\n",
       "  </thead>\n",
       "  <tbody>\n",
       "    <tr>\n",
       "      <th>2</th>\n",
       "      <td>07_malignes-melanom_0207_29</td>\n",
       "      <td>schnelles konsequentes Vorgehen</td>\n",
       "      <td>Therapeutic</td>\n",
       "      <td>92</td>\n",
       "      <td>123</td>\n",
       "      <td>C4038769</td>\n",
       "      <td>[T061]</td>\n",
       "      <td>Rapid extrication</td>\n",
       "      <td>[sapbert]</td>\n",
       "      <td>0.064276</td>\n",
       "    </tr>\n",
       "  </tbody>\n",
       "</table>\n",
       "</div>"
      ],
      "text/plain": [
       "                      document                             text         type  \\\n",
       "2  07_malignes-melanom_0207_29  schnelles konsequentes Vorgehen  Therapeutic   \n",
       "\n",
       "   start  end       cui    tuis          canonical     linker  confidence  \n",
       "2     92  123  C4038769  [T061]  Rapid extrication  [sapbert]    0.064276  "
      ]
     },
     "metadata": {},
     "output_type": "display_data"
    },
    {
     "name": "stdout",
     "output_type": "stream",
     "text": [
      "####\n"
     ]
    },
    {
     "data": {
      "application/vnd.jupyter.widget-view+json": {
       "model_id": "9fff1f8f58334984b7decbafa2e953c9",
       "version_major": 2,
       "version_minor": 0
      },
      "text/plain": [
       "  0%|          | 0/1 [00:00<?, ?it/s]"
      ]
     },
     "metadata": {},
     "output_type": "display_data"
    },
    {
     "data": {
      "application/vnd.jupyter.widget-view+json": {
       "model_id": "f25091f624874a09a7209a7c27c1f4ea",
       "version_major": 2,
       "version_minor": 0
      },
      "text/plain": [
       "  0%|          | 0/1 [00:00<?, ?it/s]"
      ]
     },
     "metadata": {},
     "output_type": "display_data"
    },
    {
     "data": {
      "application/vnd.jupyter.widget-view+json": {
       "model_id": "4ddc329af3a442fbba47fd6e0db35093",
       "version_major": 2,
       "version_minor": 0
      },
      "text/plain": [
       "  0%|          | 0/1 [00:00<?, ?it/s]"
      ]
     },
     "metadata": {},
     "output_type": "display_data"
    },
    {
     "data": {
      "application/vnd.jupyter.widget-view+json": {
       "model_id": "98d2390f42df424782409e5cca84bd77",
       "version_major": 2,
       "version_minor": 0
      },
      "text/plain": [
       "  0%|          | 0/1 [00:00<?, ?it/s]"
      ]
     },
     "metadata": {},
     "output_type": "display_data"
    },
    {
     "data": {
      "application/vnd.jupyter.widget-view+json": {
       "model_id": "0f33ac6dcdf24fb0a191377c25971353",
       "version_major": 2,
       "version_minor": 0
      },
      "text/plain": [
       "  0%|          | 0/1 [00:00<?, ?it/s]"
      ]
     },
     "metadata": {},
     "output_type": "display_data"
    },
    {
     "data": {
      "application/vnd.jupyter.widget-view+json": {
       "model_id": "b7fdcb18d0744177ad0e34768e60cb7f",
       "version_major": 2,
       "version_minor": 0
      },
      "text/plain": [
       "  0%|          | 0/1 [00:00<?, ?it/s]"
      ]
     },
     "metadata": {},
     "output_type": "display_data"
    },
    {
     "data": {
      "application/vnd.jupyter.widget-view+json": {
       "model_id": "7a2ee8e15fb04581a5470c6ebcc9ae3e",
       "version_major": 2,
       "version_minor": 0
      },
      "text/plain": [
       "  0%|          | 0/1 [00:00<?, ?it/s]"
      ]
     },
     "metadata": {},
     "output_type": "display_data"
    },
    {
     "data": {
      "application/vnd.jupyter.widget-view+json": {
       "model_id": "5312b84953914197a97ddfbf562a4b31",
       "version_major": 2,
       "version_minor": 0
      },
      "text/plain": [
       "  0%|          | 0/1 [00:00<?, ?it/s]"
      ]
     },
     "metadata": {},
     "output_type": "display_data"
    },
    {
     "data": {
      "application/vnd.jupyter.widget-view+json": {
       "model_id": "36605fc9f88a4f9392595d39b26291de",
       "version_major": 2,
       "version_minor": 0
      },
      "text/plain": [
       "  0%|          | 0/1 [00:00<?, ?it/s]"
      ]
     },
     "metadata": {},
     "output_type": "display_data"
    },
    {
     "data": {
      "application/vnd.jupyter.widget-view+json": {
       "model_id": "b6560c3a85594d48a975fcf80f764caa",
       "version_major": 2,
       "version_minor": 0
      },
      "text/plain": [
       "  0%|          | 0/1 [00:00<?, ?it/s]"
      ]
     },
     "metadata": {},
     "output_type": "display_data"
    },
    {
     "data": {
      "application/vnd.jupyter.widget-view+json": {
       "model_id": "2fee6c600b104510bd387e55ae431eff",
       "version_major": 2,
       "version_minor": 0
      },
      "text/plain": [
       "  0%|          | 0/1 [00:00<?, ?it/s]"
      ]
     },
     "metadata": {},
     "output_type": "display_data"
    },
    {
     "data": {
      "application/vnd.jupyter.widget-view+json": {
       "model_id": "41e7aa0f7f884e64a0f84877cea6add1",
       "version_major": 2,
       "version_minor": 0
      },
      "text/plain": [
       "  0%|          | 0/1 [00:00<?, ?it/s]"
      ]
     },
     "metadata": {},
     "output_type": "display_data"
    },
    {
     "data": {
      "application/vnd.jupyter.widget-view+json": {
       "model_id": "387d6eb4ab1043df8a8842f2a1c6752d",
       "version_major": 2,
       "version_minor": 0
      },
      "text/plain": [
       "  0%|          | 0/1 [00:00<?, ?it/s]"
      ]
     },
     "metadata": {},
     "output_type": "display_data"
    },
    {
     "data": {
      "application/vnd.jupyter.widget-view+json": {
       "model_id": "ec3a06c0e3bb40e38f9267923951db14",
       "version_major": 2,
       "version_minor": 0
      },
      "text/plain": [
       "  0%|          | 0/1 [00:00<?, ?it/s]"
      ]
     },
     "metadata": {},
     "output_type": "display_data"
    },
    {
     "data": {
      "application/vnd.jupyter.widget-view+json": {
       "model_id": "0eda6d0f97094b938a0a5a493f0f7e19",
       "version_major": 2,
       "version_minor": 0
      },
      "text/plain": [
       "  0%|          | 0/1 [00:00<?, ?it/s]"
      ]
     },
     "metadata": {},
     "output_type": "display_data"
    },
    {
     "data": {
      "application/vnd.jupyter.widget-view+json": {
       "model_id": "4b6cdbed8caa438d9e54511840198e7e",
       "version_major": 2,
       "version_minor": 0
      },
      "text/plain": [
       "  0%|          | 0/1 [00:00<?, ?it/s]"
      ]
     },
     "metadata": {},
     "output_type": "display_data"
    },
    {
     "data": {
      "application/vnd.jupyter.widget-view+json": {
       "model_id": "229b2d70b38d48b5ac32306461006b86",
       "version_major": 2,
       "version_minor": 0
      },
      "text/plain": [
       "  0%|          | 0/1 [00:00<?, ?it/s]"
      ]
     },
     "metadata": {},
     "output_type": "display_data"
    },
    {
     "data": {
      "application/vnd.jupyter.widget-view+json": {
       "model_id": "cf871bb3075941239ed45f789343be73",
       "version_major": 2,
       "version_minor": 0
      },
      "text/plain": [
       "  0%|          | 0/1 [00:00<?, ?it/s]"
      ]
     },
     "metadata": {},
     "output_type": "display_data"
    },
    {
     "data": {
      "application/vnd.jupyter.widget-view+json": {
       "model_id": "2cda383e6868499b9a557ceb5027417e",
       "version_major": 2,
       "version_minor": 0
      },
      "text/plain": [
       "  0%|          | 0/1 [00:00<?, ?it/s]"
      ]
     },
     "metadata": {},
     "output_type": "display_data"
    },
    {
     "data": {
      "application/vnd.jupyter.widget-view+json": {
       "model_id": "8a63d5e812114c01b24bf679e05fceb2",
       "version_major": 2,
       "version_minor": 0
      },
      "text/plain": [
       "  0%|          | 0/1 [00:00<?, ?it/s]"
      ]
     },
     "metadata": {},
     "output_type": "display_data"
    },
    {
     "data": {
      "application/vnd.jupyter.widget-view+json": {
       "model_id": "740c2817269f49e7b24d1b4885d0ffea",
       "version_major": 2,
       "version_minor": 0
      },
      "text/plain": [
       "  0%|          | 0/1 [00:00<?, ?it/s]"
      ]
     },
     "metadata": {},
     "output_type": "display_data"
    },
    {
     "data": {
      "application/vnd.jupyter.widget-view+json": {
       "model_id": "a5705029305f48419729cb59b297f7bf",
       "version_major": 2,
       "version_minor": 0
      },
      "text/plain": [
       "  0%|          | 0/1 [00:00<?, ?it/s]"
      ]
     },
     "metadata": {},
     "output_type": "display_data"
    },
    {
     "data": {
      "application/vnd.jupyter.widget-view+json": {
       "model_id": "e9dc79d52a514c41a2e732dde2223c2c",
       "version_major": 2,
       "version_minor": 0
      },
      "text/plain": [
       "  0%|          | 0/1 [00:00<?, ?it/s]"
      ]
     },
     "metadata": {},
     "output_type": "display_data"
    },
    {
     "data": {
      "application/vnd.jupyter.widget-view+json": {
       "model_id": "fcbe2b7f1d1b405c85ee3c10a8abe636",
       "version_major": 2,
       "version_minor": 0
      },
      "text/plain": [
       "  0%|          | 0/1 [00:00<?, ?it/s]"
      ]
     },
     "metadata": {},
     "output_type": "display_data"
    },
    {
     "data": {
      "application/vnd.jupyter.widget-view+json": {
       "model_id": "191350046a6b49deb78ded625a6548e7",
       "version_major": 2,
       "version_minor": 0
      },
      "text/plain": [
       "  0%|          | 0/1 [00:00<?, ?it/s]"
      ]
     },
     "metadata": {},
     "output_type": "display_data"
    },
    {
     "data": {
      "application/vnd.jupyter.widget-view+json": {
       "model_id": "893632cc12c643b0b15b7d032861d683",
       "version_major": 2,
       "version_minor": 0
      },
      "text/plain": [
       "  0%|          | 0/1 [00:00<?, ?it/s]"
      ]
     },
     "metadata": {},
     "output_type": "display_data"
    },
    {
     "data": {
      "application/vnd.jupyter.widget-view+json": {
       "model_id": "0e04d7447c2e4d4089f2c8811d9c1ca0",
       "version_major": 2,
       "version_minor": 0
      },
      "text/plain": [
       "  0%|          | 0/1 [00:00<?, ?it/s]"
      ]
     },
     "metadata": {},
     "output_type": "display_data"
    },
    {
     "data": {
      "application/vnd.jupyter.widget-view+json": {
       "model_id": "4cc70b29a53943bd8d269147776da562",
       "version_major": 2,
       "version_minor": 0
      },
      "text/plain": [
       "  0%|          | 0/1 [00:00<?, ?it/s]"
      ]
     },
     "metadata": {},
     "output_type": "display_data"
    },
    {
     "data": {
      "application/vnd.jupyter.widget-view+json": {
       "model_id": "fc1d26dc85a84f8fafd2d1f8971db61d",
       "version_major": 2,
       "version_minor": 0
      },
      "text/plain": [
       "  0%|          | 0/1 [00:00<?, ?it/s]"
      ]
     },
     "metadata": {},
     "output_type": "display_data"
    },
    {
     "data": {
      "application/vnd.jupyter.widget-view+json": {
       "model_id": "a9150426938c49c68371531bb6a61732",
       "version_major": 2,
       "version_minor": 0
      },
      "text/plain": [
       "  0%|          | 0/1 [00:00<?, ?it/s]"
      ]
     },
     "metadata": {},
     "output_type": "display_data"
    },
    {
     "data": {
      "application/vnd.jupyter.widget-view+json": {
       "model_id": "f9e8b9ff94d74e959096e3431028a80e",
       "version_major": 2,
       "version_minor": 0
      },
      "text/plain": [
       "  0%|          | 0/1 [00:00<?, ?it/s]"
      ]
     },
     "metadata": {},
     "output_type": "display_data"
    },
    {
     "data": {
      "application/vnd.jupyter.widget-view+json": {
       "model_id": "2e3d2440d6d34e6cad770836063ff14d",
       "version_major": 2,
       "version_minor": 0
      },
      "text/plain": [
       "  0%|          | 0/1 [00:00<?, ?it/s]"
      ]
     },
     "metadata": {},
     "output_type": "display_data"
    },
    {
     "data": {
      "application/vnd.jupyter.widget-view+json": {
       "model_id": "4f7a9cf1da9b4e9bba507b1a6bf71bc8",
       "version_major": 2,
       "version_minor": 0
      },
      "text/plain": [
       "  0%|          | 0/1 [00:00<?, ?it/s]"
      ]
     },
     "metadata": {},
     "output_type": "display_data"
    },
    {
     "data": {
      "application/vnd.jupyter.widget-view+json": {
       "model_id": "348d7572da0146caa0a03f1f19464c0f",
       "version_major": 2,
       "version_minor": 0
      },
      "text/plain": [
       "  0%|          | 0/1 [00:00<?, ?it/s]"
      ]
     },
     "metadata": {},
     "output_type": "display_data"
    },
    {
     "data": {
      "application/vnd.jupyter.widget-view+json": {
       "model_id": "7b1343b30b4b4136a146ec619d41db94",
       "version_major": 2,
       "version_minor": 0
      },
      "text/plain": [
       "  0%|          | 0/1 [00:00<?, ?it/s]"
      ]
     },
     "metadata": {},
     "output_type": "display_data"
    },
    {
     "data": {
      "application/vnd.jupyter.widget-view+json": {
       "model_id": "1cd54dce5de44d5185c0c3a761a2744f",
       "version_major": 2,
       "version_minor": 0
      },
      "text/plain": [
       "  0%|          | 0/1 [00:00<?, ?it/s]"
      ]
     },
     "metadata": {},
     "output_type": "display_data"
    },
    {
     "data": {
      "application/vnd.jupyter.widget-view+json": {
       "model_id": "ddaed3564e44466b8a8c8c60ade4decb",
       "version_major": 2,
       "version_minor": 0
      },
      "text/plain": [
       "  0%|          | 0/1 [00:00<?, ?it/s]"
      ]
     },
     "metadata": {},
     "output_type": "display_data"
    },
    {
     "data": {
      "application/vnd.jupyter.widget-view+json": {
       "model_id": "6aa349b7c9cd4b9eabe2a8abd2e573cb",
       "version_major": 2,
       "version_minor": 0
      },
      "text/plain": [
       "  0%|          | 0/1 [00:00<?, ?it/s]"
      ]
     },
     "metadata": {},
     "output_type": "display_data"
    },
    {
     "data": {
      "application/vnd.jupyter.widget-view+json": {
       "model_id": "9ede02bdb0fc4732a4ac8da0341c1df1",
       "version_major": 2,
       "version_minor": 0
      },
      "text/plain": [
       "  0%|          | 0/1 [00:00<?, ?it/s]"
      ]
     },
     "metadata": {},
     "output_type": "display_data"
    },
    {
     "data": {
      "application/vnd.jupyter.widget-view+json": {
       "model_id": "66acf3d55b46468b99f97634a2f0661c",
       "version_major": 2,
       "version_minor": 0
      },
      "text/plain": [
       "  0%|          | 0/1 [00:00<?, ?it/s]"
      ]
     },
     "metadata": {},
     "output_type": "display_data"
    },
    {
     "data": {
      "application/vnd.jupyter.widget-view+json": {
       "model_id": "20e40eed74414e6c91064bcf899fd96e",
       "version_major": 2,
       "version_minor": 0
      },
      "text/plain": [
       "  0%|          | 0/1 [00:00<?, ?it/s]"
      ]
     },
     "metadata": {},
     "output_type": "display_data"
    },
    {
     "data": {
      "application/vnd.jupyter.widget-view+json": {
       "model_id": "76d210c806dd4ce4841ca5c893b8e477",
       "version_major": 2,
       "version_minor": 0
      },
      "text/plain": [
       "  0%|          | 0/1 [00:00<?, ?it/s]"
      ]
     },
     "metadata": {},
     "output_type": "display_data"
    },
    {
     "data": {
      "application/vnd.jupyter.widget-view+json": {
       "model_id": "ba2c46762c4541ac9714d7163381cb5a",
       "version_major": 2,
       "version_minor": 0
      },
      "text/plain": [
       "  0%|          | 0/1 [00:00<?, ?it/s]"
      ]
     },
     "metadata": {},
     "output_type": "display_data"
    },
    {
     "data": {
      "application/vnd.jupyter.widget-view+json": {
       "model_id": "b0fabc92e47544b7b7989c2e63688d86",
       "version_major": 2,
       "version_minor": 0
      },
      "text/plain": [
       "  0%|          | 0/1 [00:00<?, ?it/s]"
      ]
     },
     "metadata": {},
     "output_type": "display_data"
    },
    {
     "data": {
      "application/vnd.jupyter.widget-view+json": {
       "model_id": "518a3a5c143440c4937cc4e0ecbdbace",
       "version_major": 2,
       "version_minor": 0
      },
      "text/plain": [
       "  0%|          | 0/1 [00:00<?, ?it/s]"
      ]
     },
     "metadata": {},
     "output_type": "display_data"
    },
    {
     "data": {
      "application/vnd.jupyter.widget-view+json": {
       "model_id": "13d0a96af3ff4f1380b5ea20c5d0901a",
       "version_major": 2,
       "version_minor": 0
      },
      "text/plain": [
       "  0%|          | 0/1 [00:00<?, ?it/s]"
      ]
     },
     "metadata": {},
     "output_type": "display_data"
    },
    {
     "data": {
      "application/vnd.jupyter.widget-view+json": {
       "model_id": "6fbc5d0b76dd419aa3b63548205995fe",
       "version_major": 2,
       "version_minor": 0
      },
      "text/plain": [
       "  0%|          | 0/1 [00:00<?, ?it/s]"
      ]
     },
     "metadata": {},
     "output_type": "display_data"
    },
    {
     "data": {
      "application/vnd.jupyter.widget-view+json": {
       "model_id": "d532a8b896294ad288f81731310b6824",
       "version_major": 2,
       "version_minor": 0
      },
      "text/plain": [
       "  0%|          | 0/1 [00:00<?, ?it/s]"
      ]
     },
     "metadata": {},
     "output_type": "display_data"
    },
    {
     "data": {
      "application/vnd.jupyter.widget-view+json": {
       "model_id": "bf4777206f1044f9ac7ff3c565dca891",
       "version_major": 2,
       "version_minor": 0
      },
      "text/plain": [
       "  0%|          | 0/1 [00:00<?, ?it/s]"
      ]
     },
     "metadata": {},
     "output_type": "display_data"
    },
    {
     "data": {
      "application/vnd.jupyter.widget-view+json": {
       "model_id": "40fc76efe06643a3b4729f495f818eba",
       "version_major": 2,
       "version_minor": 0
      },
      "text/plain": [
       "  0%|          | 0/1 [00:00<?, ?it/s]"
      ]
     },
     "metadata": {},
     "output_type": "display_data"
    },
    {
     "data": {
      "application/vnd.jupyter.widget-view+json": {
       "model_id": "00723ebc58894a0d89d0160191bfefe9",
       "version_major": 2,
       "version_minor": 0
      },
      "text/plain": [
       "  0%|          | 0/1 [00:00<?, ?it/s]"
      ]
     },
     "metadata": {},
     "output_type": "display_data"
    },
    {
     "data": {
      "application/vnd.jupyter.widget-view+json": {
       "model_id": "ad33386a86ef4d758b5ec2472124253d",
       "version_major": 2,
       "version_minor": 0
      },
      "text/plain": [
       "  0%|          | 0/1 [00:00<?, ?it/s]"
      ]
     },
     "metadata": {},
     "output_type": "display_data"
    },
    {
     "name": "stdout",
     "output_type": "stream",
     "text": [
      "Aufgrund des subendothelialen Wachstums entlang der Perineuralscheiden beträgt das Rezidivrisiko nach radikaler chirurgischer Tumorentfernung für ein perihiläres Cholangiokarzinom (CCA) 40-80% (Auflistung der Studienergebnisse siehe [REF] ).\n",
      "\n",
      "No Filter:\n"
     ]
    },
    {
     "data": {
      "text/html": [
       "<div>\n",
       "<style scoped>\n",
       "    .dataframe tbody tr th:only-of-type {\n",
       "        vertical-align: middle;\n",
       "    }\n",
       "\n",
       "    .dataframe tbody tr th {\n",
       "        vertical-align: top;\n",
       "    }\n",
       "\n",
       "    .dataframe thead th {\n",
       "        text-align: right;\n",
       "    }\n",
       "</style>\n",
       "<table border=\"1\" class=\"dataframe\">\n",
       "  <thead>\n",
       "    <tr style=\"text-align: right;\">\n",
       "      <th></th>\n",
       "      <th>document</th>\n",
       "      <th>text</th>\n",
       "      <th>type</th>\n",
       "      <th>start</th>\n",
       "      <th>end</th>\n",
       "      <th>cui</th>\n",
       "      <th>tuis</th>\n",
       "      <th>canonical</th>\n",
       "      <th>linker</th>\n",
       "      <th>confidence</th>\n",
       "    </tr>\n",
       "  </thead>\n",
       "  <tbody>\n",
       "    <tr>\n",
       "      <th>2</th>\n",
       "      <td>11_hepatozellulaeres-karzinom-und-biliaere-kar...</td>\n",
       "      <td>radikaler chirurgischer Tumorentfernung</td>\n",
       "      <td>Therapeutic</td>\n",
       "      <td>102</td>\n",
       "      <td>141</td>\n",
       "      <td>C0024884</td>\n",
       "      <td>[T061]</td>\n",
       "      <td>Mastektomie, radikale</td>\n",
       "      <td>[sapbert]</td>\n",
       "      <td>0.066802</td>\n",
       "    </tr>\n",
       "  </tbody>\n",
       "</table>\n",
       "</div>"
      ],
      "text/plain": [
       "                                            document  \\\n",
       "2  11_hepatozellulaeres-karzinom-und-biliaere-kar...   \n",
       "\n",
       "                                      text         type  start  end       cui  \\\n",
       "2  radikaler chirurgischer Tumorentfernung  Therapeutic    102  141  C0024884   \n",
       "\n",
       "     tuis              canonical     linker  confidence  \n",
       "2  [T061]  Mastektomie, radikale  [sapbert]    0.066802  "
      ]
     },
     "metadata": {},
     "output_type": "display_data"
    },
    {
     "name": "stdout",
     "output_type": "stream",
     "text": [
      "Filter:\n"
     ]
    },
    {
     "data": {
      "text/html": [
       "<div>\n",
       "<style scoped>\n",
       "    .dataframe tbody tr th:only-of-type {\n",
       "        vertical-align: middle;\n",
       "    }\n",
       "\n",
       "    .dataframe tbody tr th {\n",
       "        vertical-align: top;\n",
       "    }\n",
       "\n",
       "    .dataframe thead th {\n",
       "        text-align: right;\n",
       "    }\n",
       "</style>\n",
       "<table border=\"1\" class=\"dataframe\">\n",
       "  <thead>\n",
       "    <tr style=\"text-align: right;\">\n",
       "      <th></th>\n",
       "      <th>document</th>\n",
       "      <th>text</th>\n",
       "      <th>type</th>\n",
       "      <th>start</th>\n",
       "      <th>end</th>\n",
       "      <th>cui</th>\n",
       "      <th>tuis</th>\n",
       "      <th>canonical</th>\n",
       "      <th>linker</th>\n",
       "      <th>confidence</th>\n",
       "    </tr>\n",
       "  </thead>\n",
       "  <tbody>\n",
       "    <tr>\n",
       "      <th>2</th>\n",
       "      <td>11_hepatozellulaeres-karzinom-und-biliaere-kar...</td>\n",
       "      <td>radikaler chirurgischer Tumorentfernung</td>\n",
       "      <td>Therapeutic</td>\n",
       "      <td>102</td>\n",
       "      <td>141</td>\n",
       "      <td>C4761063</td>\n",
       "      <td>[T061]</td>\n",
       "      <td>Tumor resection</td>\n",
       "      <td>[sapbert]</td>\n",
       "      <td>0.070224</td>\n",
       "    </tr>\n",
       "  </tbody>\n",
       "</table>\n",
       "</div>"
      ],
      "text/plain": [
       "                                            document  \\\n",
       "2  11_hepatozellulaeres-karzinom-und-biliaere-kar...   \n",
       "\n",
       "                                      text         type  start  end       cui  \\\n",
       "2  radikaler chirurgischer Tumorentfernung  Therapeutic    102  141  C4761063   \n",
       "\n",
       "     tuis        canonical     linker  confidence  \n",
       "2  [T061]  Tumor resection  [sapbert]    0.070224  "
      ]
     },
     "metadata": {},
     "output_type": "display_data"
    },
    {
     "name": "stdout",
     "output_type": "stream",
     "text": [
      "####\n"
     ]
    },
    {
     "data": {
      "application/vnd.jupyter.widget-view+json": {
       "model_id": "4b415dfa324e431696c09134213facf6",
       "version_major": 2,
       "version_minor": 0
      },
      "text/plain": [
       "  0%|          | 0/1 [00:00<?, ?it/s]"
      ]
     },
     "metadata": {},
     "output_type": "display_data"
    },
    {
     "data": {
      "application/vnd.jupyter.widget-view+json": {
       "model_id": "eecaa6e93bdc4c1a97e248172dc656af",
       "version_major": 2,
       "version_minor": 0
      },
      "text/plain": [
       "  0%|          | 0/1 [00:00<?, ?it/s]"
      ]
     },
     "metadata": {},
     "output_type": "display_data"
    },
    {
     "data": {
      "application/vnd.jupyter.widget-view+json": {
       "model_id": "40b58ab903cb426fb89379ca60227e62",
       "version_major": 2,
       "version_minor": 0
      },
      "text/plain": [
       "  0%|          | 0/1 [00:00<?, ?it/s]"
      ]
     },
     "metadata": {},
     "output_type": "display_data"
    },
    {
     "data": {
      "application/vnd.jupyter.widget-view+json": {
       "model_id": "880438f5957d4bcb86d5d6df88cdb0db",
       "version_major": 2,
       "version_minor": 0
      },
      "text/plain": [
       "  0%|          | 0/1 [00:00<?, ?it/s]"
      ]
     },
     "metadata": {},
     "output_type": "display_data"
    },
    {
     "data": {
      "application/vnd.jupyter.widget-view+json": {
       "model_id": "5232345acbb44bf288b37846353de081",
       "version_major": 2,
       "version_minor": 0
      },
      "text/plain": [
       "  0%|          | 0/1 [00:00<?, ?it/s]"
      ]
     },
     "metadata": {},
     "output_type": "display_data"
    },
    {
     "data": {
      "application/vnd.jupyter.widget-view+json": {
       "model_id": "3db6b204901f430e885fba7e0410cf9b",
       "version_major": 2,
       "version_minor": 0
      },
      "text/plain": [
       "  0%|          | 0/1 [00:00<?, ?it/s]"
      ]
     },
     "metadata": {},
     "output_type": "display_data"
    },
    {
     "data": {
      "application/vnd.jupyter.widget-view+json": {
       "model_id": "d6e1e531bf804a7ead3b591a9e7b2f15",
       "version_major": 2,
       "version_minor": 0
      },
      "text/plain": [
       "  0%|          | 0/1 [00:00<?, ?it/s]"
      ]
     },
     "metadata": {},
     "output_type": "display_data"
    },
    {
     "data": {
      "application/vnd.jupyter.widget-view+json": {
       "model_id": "2e71f0af19194064a75ffca6c52f966e",
       "version_major": 2,
       "version_minor": 0
      },
      "text/plain": [
       "  0%|          | 0/1 [00:00<?, ?it/s]"
      ]
     },
     "metadata": {},
     "output_type": "display_data"
    },
    {
     "data": {
      "application/vnd.jupyter.widget-view+json": {
       "model_id": "43b1b47fe59c473ea5606c588917820f",
       "version_major": 2,
       "version_minor": 0
      },
      "text/plain": [
       "  0%|          | 0/1 [00:00<?, ?it/s]"
      ]
     },
     "metadata": {},
     "output_type": "display_data"
    },
    {
     "data": {
      "application/vnd.jupyter.widget-view+json": {
       "model_id": "f21ecae23ce74a88b4fad023f456eb5c",
       "version_major": 2,
       "version_minor": 0
      },
      "text/plain": [
       "  0%|          | 0/1 [00:00<?, ?it/s]"
      ]
     },
     "metadata": {},
     "output_type": "display_data"
    },
    {
     "name": "stdout",
     "output_type": "stream",
     "text": [
      "In dieser Studie wurde bei 447 Patienten mit CCA oder muskelinvasivem GB-CA sowie vollständiger makroskopischer Tumorentfernung (R0 oder R1) die Gabe von Capecitabin (1250 mg/m2 zweimal täglich an Tag 1 bis 14 bei einer Zyklusdauer von 21 Tagen, insgesamt 8 Zyklen) mit der alleinigen Nachsorge verglichen.\n",
      "\n",
      "No Filter:\n"
     ]
    },
    {
     "data": {
      "text/html": [
       "<div>\n",
       "<style scoped>\n",
       "    .dataframe tbody tr th:only-of-type {\n",
       "        vertical-align: middle;\n",
       "    }\n",
       "\n",
       "    .dataframe tbody tr th {\n",
       "        vertical-align: top;\n",
       "    }\n",
       "\n",
       "    .dataframe thead th {\n",
       "        text-align: right;\n",
       "    }\n",
       "</style>\n",
       "<table border=\"1\" class=\"dataframe\">\n",
       "  <thead>\n",
       "    <tr style=\"text-align: right;\">\n",
       "      <th></th>\n",
       "      <th>document</th>\n",
       "      <th>text</th>\n",
       "      <th>type</th>\n",
       "      <th>start</th>\n",
       "      <th>end</th>\n",
       "      <th>cui</th>\n",
       "      <th>tuis</th>\n",
       "      <th>canonical</th>\n",
       "      <th>linker</th>\n",
       "      <th>confidence</th>\n",
       "    </tr>\n",
       "  </thead>\n",
       "  <tbody>\n",
       "    <tr>\n",
       "      <th>1</th>\n",
       "      <td>11_hepatozellulaeres-karzinom-und-biliaere-kar...</td>\n",
       "      <td>muskelinvasivem GB-CA</td>\n",
       "      <td>Diagnosis_or_Pathology</td>\n",
       "      <td>54</td>\n",
       "      <td>75</td>\n",
       "      <td>C0674272</td>\n",
       "      <td>[T116]</td>\n",
       "      <td>Boc-Gly-Arg-Arg-MCA</td>\n",
       "      <td>[sapbert]</td>\n",
       "      <td>0.063696</td>\n",
       "    </tr>\n",
       "  </tbody>\n",
       "</table>\n",
       "</div>"
      ],
      "text/plain": [
       "                                            document                   text  \\\n",
       "1  11_hepatozellulaeres-karzinom-und-biliaere-kar...  muskelinvasivem GB-CA   \n",
       "\n",
       "                     type  start  end       cui    tuis            canonical  \\\n",
       "1  Diagnosis_or_Pathology     54   75  C0674272  [T116]  Boc-Gly-Arg-Arg-MCA   \n",
       "\n",
       "      linker  confidence  \n",
       "1  [sapbert]    0.063696  "
      ]
     },
     "metadata": {},
     "output_type": "display_data"
    },
    {
     "name": "stdout",
     "output_type": "stream",
     "text": [
      "Filter:\n"
     ]
    },
    {
     "data": {
      "text/html": [
       "<div>\n",
       "<style scoped>\n",
       "    .dataframe tbody tr th:only-of-type {\n",
       "        vertical-align: middle;\n",
       "    }\n",
       "\n",
       "    .dataframe tbody tr th {\n",
       "        vertical-align: top;\n",
       "    }\n",
       "\n",
       "    .dataframe thead th {\n",
       "        text-align: right;\n",
       "    }\n",
       "</style>\n",
       "<table border=\"1\" class=\"dataframe\">\n",
       "  <thead>\n",
       "    <tr style=\"text-align: right;\">\n",
       "      <th></th>\n",
       "      <th>document</th>\n",
       "      <th>text</th>\n",
       "      <th>type</th>\n",
       "      <th>start</th>\n",
       "      <th>end</th>\n",
       "      <th>cui</th>\n",
       "      <th>tuis</th>\n",
       "      <th>canonical</th>\n",
       "      <th>linker</th>\n",
       "      <th>confidence</th>\n",
       "    </tr>\n",
       "  </thead>\n",
       "  <tbody>\n",
       "    <tr>\n",
       "      <th>1</th>\n",
       "      <td>11_hepatozellulaeres-karzinom-und-biliaere-kar...</td>\n",
       "      <td>muskelinvasivem GB-CA</td>\n",
       "      <td>Diagnosis_or_Pathology</td>\n",
       "      <td>54</td>\n",
       "      <td>75</td>\n",
       "      <td>C0250995</td>\n",
       "      <td>[T116, T121]</td>\n",
       "      <td>gamma-glutaminyl-S-(4-methylbenzyl)cysteinyl-b...</td>\n",
       "      <td>[sapbert]</td>\n",
       "      <td>0.063638</td>\n",
       "    </tr>\n",
       "  </tbody>\n",
       "</table>\n",
       "</div>"
      ],
      "text/plain": [
       "                                            document                   text  \\\n",
       "1  11_hepatozellulaeres-karzinom-und-biliaere-kar...  muskelinvasivem GB-CA   \n",
       "\n",
       "                     type  start  end       cui          tuis  \\\n",
       "1  Diagnosis_or_Pathology     54   75  C0250995  [T116, T121]   \n",
       "\n",
       "                                           canonical     linker  confidence  \n",
       "1  gamma-glutaminyl-S-(4-methylbenzyl)cysteinyl-b...  [sapbert]    0.063638  "
      ]
     },
     "metadata": {},
     "output_type": "display_data"
    },
    {
     "name": "stdout",
     "output_type": "stream",
     "text": [
      "####\n"
     ]
    },
    {
     "data": {
      "application/vnd.jupyter.widget-view+json": {
       "model_id": "87050dc8a2a94a239b6e32015d65b045",
       "version_major": 2,
       "version_minor": 0
      },
      "text/plain": [
       "  0%|          | 0/1 [00:00<?, ?it/s]"
      ]
     },
     "metadata": {},
     "output_type": "display_data"
    },
    {
     "data": {
      "application/vnd.jupyter.widget-view+json": {
       "model_id": "376d50e552284b0f8506febe6e298ea6",
       "version_major": 2,
       "version_minor": 0
      },
      "text/plain": [
       "  0%|          | 0/1 [00:00<?, ?it/s]"
      ]
     },
     "metadata": {},
     "output_type": "display_data"
    },
    {
     "name": "stdout",
     "output_type": "stream",
     "text": [
      "Der Therapiebeginn sollte innerhalb von 12 Wochen postoperativ bei Patienten mit ECOG 0 – 1 erfolgen, erlaubt war eine Ausdehnung des Zeitraumes bis auf 16 Wochen.\n",
      "\n",
      "No Filter:\n"
     ]
    },
    {
     "data": {
      "text/html": [
       "<div>\n",
       "<style scoped>\n",
       "    .dataframe tbody tr th:only-of-type {\n",
       "        vertical-align: middle;\n",
       "    }\n",
       "\n",
       "    .dataframe tbody tr th {\n",
       "        vertical-align: top;\n",
       "    }\n",
       "\n",
       "    .dataframe thead th {\n",
       "        text-align: right;\n",
       "    }\n",
       "</style>\n",
       "<table border=\"1\" class=\"dataframe\">\n",
       "  <thead>\n",
       "    <tr style=\"text-align: right;\">\n",
       "      <th></th>\n",
       "      <th>document</th>\n",
       "      <th>text</th>\n",
       "      <th>type</th>\n",
       "      <th>start</th>\n",
       "      <th>end</th>\n",
       "      <th>cui</th>\n",
       "      <th>tuis</th>\n",
       "      <th>canonical</th>\n",
       "      <th>linker</th>\n",
       "      <th>confidence</th>\n",
       "    </tr>\n",
       "  </thead>\n",
       "  <tbody>\n",
       "    <tr>\n",
       "      <th>0</th>\n",
       "      <td>11_hepatozellulaeres-karzinom-und-biliaere-kar...</td>\n",
       "      <td>Therapiebeginn</td>\n",
       "      <td>Therapeutic</td>\n",
       "      <td>4</td>\n",
       "      <td>18</td>\n",
       "      <td>C1273560</td>\n",
       "      <td>[T033]</td>\n",
       "      <td>Procedure started</td>\n",
       "      <td>[sapbert]</td>\n",
       "      <td>0.066248</td>\n",
       "    </tr>\n",
       "  </tbody>\n",
       "</table>\n",
       "</div>"
      ],
      "text/plain": [
       "                                            document            text  \\\n",
       "0  11_hepatozellulaeres-karzinom-und-biliaere-kar...  Therapiebeginn   \n",
       "\n",
       "          type  start  end       cui    tuis          canonical     linker  \\\n",
       "0  Therapeutic      4   18  C1273560  [T033]  Procedure started  [sapbert]   \n",
       "\n",
       "   confidence  \n",
       "0    0.066248  "
      ]
     },
     "metadata": {},
     "output_type": "display_data"
    },
    {
     "name": "stdout",
     "output_type": "stream",
     "text": [
      "Filter:\n"
     ]
    },
    {
     "data": {
      "text/html": [
       "<div>\n",
       "<style scoped>\n",
       "    .dataframe tbody tr th:only-of-type {\n",
       "        vertical-align: middle;\n",
       "    }\n",
       "\n",
       "    .dataframe tbody tr th {\n",
       "        vertical-align: top;\n",
       "    }\n",
       "\n",
       "    .dataframe thead th {\n",
       "        text-align: right;\n",
       "    }\n",
       "</style>\n",
       "<table border=\"1\" class=\"dataframe\">\n",
       "  <thead>\n",
       "    <tr style=\"text-align: right;\">\n",
       "      <th></th>\n",
       "      <th>document</th>\n",
       "      <th>text</th>\n",
       "      <th>type</th>\n",
       "      <th>start</th>\n",
       "      <th>end</th>\n",
       "      <th>cui</th>\n",
       "      <th>tuis</th>\n",
       "      <th>canonical</th>\n",
       "      <th>linker</th>\n",
       "      <th>confidence</th>\n",
       "    </tr>\n",
       "  </thead>\n",
       "  <tbody>\n",
       "    <tr>\n",
       "      <th>0</th>\n",
       "      <td>11_hepatozellulaeres-karzinom-und-biliaere-kar...</td>\n",
       "      <td>Therapiebeginn</td>\n",
       "      <td>Therapeutic</td>\n",
       "      <td>4</td>\n",
       "      <td>18</td>\n",
       "      <td>C5419193</td>\n",
       "      <td>[T079]</td>\n",
       "      <td>Since Starting Treatment</td>\n",
       "      <td>[sapbert]</td>\n",
       "      <td>0.066774</td>\n",
       "    </tr>\n",
       "  </tbody>\n",
       "</table>\n",
       "</div>"
      ],
      "text/plain": [
       "                                            document            text  \\\n",
       "0  11_hepatozellulaeres-karzinom-und-biliaere-kar...  Therapiebeginn   \n",
       "\n",
       "          type  start  end       cui    tuis                 canonical  \\\n",
       "0  Therapeutic      4   18  C5419193  [T079]  Since Starting Treatment   \n",
       "\n",
       "      linker  confidence  \n",
       "0  [sapbert]    0.066774  "
      ]
     },
     "metadata": {},
     "output_type": "display_data"
    },
    {
     "name": "stdout",
     "output_type": "stream",
     "text": [
      "####\n"
     ]
    },
    {
     "data": {
      "application/vnd.jupyter.widget-view+json": {
       "model_id": "f04ee95486084552af4454483ee3d441",
       "version_major": 2,
       "version_minor": 0
      },
      "text/plain": [
       "  0%|          | 0/1 [00:00<?, ?it/s]"
      ]
     },
     "metadata": {},
     "output_type": "display_data"
    },
    {
     "data": {
      "application/vnd.jupyter.widget-view+json": {
       "model_id": "5ec27925b5ce423a8abfd72b206f0d9c",
       "version_major": 2,
       "version_minor": 0
      },
      "text/plain": [
       "  0%|          | 0/1 [00:00<?, ?it/s]"
      ]
     },
     "metadata": {},
     "output_type": "display_data"
    },
    {
     "data": {
      "application/vnd.jupyter.widget-view+json": {
       "model_id": "2eaf17d1960a46e387d964cd1fc2675f",
       "version_major": 2,
       "version_minor": 0
      },
      "text/plain": [
       "  0%|          | 0/1 [00:00<?, ?it/s]"
      ]
     },
     "metadata": {},
     "output_type": "display_data"
    },
    {
     "data": {
      "application/vnd.jupyter.widget-view+json": {
       "model_id": "f290e9cc51604e2b8d824b64bcdcabc5",
       "version_major": 2,
       "version_minor": 0
      },
      "text/plain": [
       "  0%|          | 0/1 [00:00<?, ?it/s]"
      ]
     },
     "metadata": {},
     "output_type": "display_data"
    },
    {
     "data": {
      "application/vnd.jupyter.widget-view+json": {
       "model_id": "0fba5028cba74287a99f190bb9513b40",
       "version_major": 2,
       "version_minor": 0
      },
      "text/plain": [
       "  0%|          | 0/1 [00:00<?, ?it/s]"
      ]
     },
     "metadata": {},
     "output_type": "display_data"
    },
    {
     "data": {
      "application/vnd.jupyter.widget-view+json": {
       "model_id": "a891c8e6f3254ddc98161b6e3d741cfe",
       "version_major": 2,
       "version_minor": 0
      },
      "text/plain": [
       "  0%|          | 0/1 [00:00<?, ?it/s]"
      ]
     },
     "metadata": {},
     "output_type": "display_data"
    },
    {
     "data": {
      "application/vnd.jupyter.widget-view+json": {
       "model_id": "a9e368e52656470ebd2153904083fad9",
       "version_major": 2,
       "version_minor": 0
      },
      "text/plain": [
       "  0%|          | 0/1 [00:00<?, ?it/s]"
      ]
     },
     "metadata": {},
     "output_type": "display_data"
    },
    {
     "data": {
      "application/vnd.jupyter.widget-view+json": {
       "model_id": "00d02d4fb1004e3fbad1798c12e64a9d",
       "version_major": 2,
       "version_minor": 0
      },
      "text/plain": [
       "  0%|          | 0/1 [00:00<?, ?it/s]"
      ]
     },
     "metadata": {},
     "output_type": "display_data"
    },
    {
     "name": "stdout",
     "output_type": "stream",
     "text": [
      "Die mediane Zeit von der OP bis zum Therapiebeginn lag bei 10,3 Wochen.\n",
      "\n",
      "No Filter:\n"
     ]
    },
    {
     "data": {
      "text/html": [
       "<div>\n",
       "<style scoped>\n",
       "    .dataframe tbody tr th:only-of-type {\n",
       "        vertical-align: middle;\n",
       "    }\n",
       "\n",
       "    .dataframe tbody tr th {\n",
       "        vertical-align: top;\n",
       "    }\n",
       "\n",
       "    .dataframe thead th {\n",
       "        text-align: right;\n",
       "    }\n",
       "</style>\n",
       "<table border=\"1\" class=\"dataframe\">\n",
       "  <thead>\n",
       "    <tr style=\"text-align: right;\">\n",
       "      <th></th>\n",
       "      <th>document</th>\n",
       "      <th>text</th>\n",
       "      <th>type</th>\n",
       "      <th>start</th>\n",
       "      <th>end</th>\n",
       "      <th>cui</th>\n",
       "      <th>tuis</th>\n",
       "      <th>canonical</th>\n",
       "      <th>linker</th>\n",
       "      <th>confidence</th>\n",
       "    </tr>\n",
       "  </thead>\n",
       "  <tbody>\n",
       "    <tr>\n",
       "      <th>1</th>\n",
       "      <td>11_hepatozellulaeres-karzinom-und-biliaere-kar...</td>\n",
       "      <td>Therapiebeginn</td>\n",
       "      <td>Therapeutic</td>\n",
       "      <td>36</td>\n",
       "      <td>50</td>\n",
       "      <td>C1273560</td>\n",
       "      <td>[T033]</td>\n",
       "      <td>Procedure started</td>\n",
       "      <td>[sapbert]</td>\n",
       "      <td>0.074768</td>\n",
       "    </tr>\n",
       "  </tbody>\n",
       "</table>\n",
       "</div>"
      ],
      "text/plain": [
       "                                            document            text  \\\n",
       "1  11_hepatozellulaeres-karzinom-und-biliaere-kar...  Therapiebeginn   \n",
       "\n",
       "          type  start  end       cui    tuis          canonical     linker  \\\n",
       "1  Therapeutic     36   50  C1273560  [T033]  Procedure started  [sapbert]   \n",
       "\n",
       "   confidence  \n",
       "1    0.074768  "
      ]
     },
     "metadata": {},
     "output_type": "display_data"
    },
    {
     "name": "stdout",
     "output_type": "stream",
     "text": [
      "Filter:\n"
     ]
    },
    {
     "data": {
      "text/html": [
       "<div>\n",
       "<style scoped>\n",
       "    .dataframe tbody tr th:only-of-type {\n",
       "        vertical-align: middle;\n",
       "    }\n",
       "\n",
       "    .dataframe tbody tr th {\n",
       "        vertical-align: top;\n",
       "    }\n",
       "\n",
       "    .dataframe thead th {\n",
       "        text-align: right;\n",
       "    }\n",
       "</style>\n",
       "<table border=\"1\" class=\"dataframe\">\n",
       "  <thead>\n",
       "    <tr style=\"text-align: right;\">\n",
       "      <th></th>\n",
       "      <th>document</th>\n",
       "      <th>text</th>\n",
       "      <th>type</th>\n",
       "      <th>start</th>\n",
       "      <th>end</th>\n",
       "      <th>cui</th>\n",
       "      <th>tuis</th>\n",
       "      <th>canonical</th>\n",
       "      <th>linker</th>\n",
       "      <th>confidence</th>\n",
       "    </tr>\n",
       "  </thead>\n",
       "  <tbody>\n",
       "    <tr>\n",
       "      <th>1</th>\n",
       "      <td>11_hepatozellulaeres-karzinom-und-biliaere-kar...</td>\n",
       "      <td>Therapiebeginn</td>\n",
       "      <td>Therapeutic</td>\n",
       "      <td>36</td>\n",
       "      <td>50</td>\n",
       "      <td>C2712338</td>\n",
       "      <td>[T079]</td>\n",
       "      <td>Start time of procedure</td>\n",
       "      <td>[sapbert]</td>\n",
       "      <td>0.077498</td>\n",
       "    </tr>\n",
       "  </tbody>\n",
       "</table>\n",
       "</div>"
      ],
      "text/plain": [
       "                                            document            text  \\\n",
       "1  11_hepatozellulaeres-karzinom-und-biliaere-kar...  Therapiebeginn   \n",
       "\n",
       "          type  start  end       cui    tuis                canonical  \\\n",
       "1  Therapeutic     36   50  C2712338  [T079]  Start time of procedure   \n",
       "\n",
       "      linker  confidence  \n",
       "1  [sapbert]    0.077498  "
      ]
     },
     "metadata": {},
     "output_type": "display_data"
    },
    {
     "name": "stdout",
     "output_type": "stream",
     "text": [
      "####\n"
     ]
    },
    {
     "data": {
      "application/vnd.jupyter.widget-view+json": {
       "model_id": "50faf598b36b44f48d954f5ac1168ea2",
       "version_major": 2,
       "version_minor": 0
      },
      "text/plain": [
       "  0%|          | 0/1 [00:00<?, ?it/s]"
      ]
     },
     "metadata": {},
     "output_type": "display_data"
    },
    {
     "data": {
      "application/vnd.jupyter.widget-view+json": {
       "model_id": "afac1847b2e7473b812e20d417bb11ed",
       "version_major": 2,
       "version_minor": 0
      },
      "text/plain": [
       "  0%|          | 0/1 [00:00<?, ?it/s]"
      ]
     },
     "metadata": {},
     "output_type": "display_data"
    },
    {
     "data": {
      "application/vnd.jupyter.widget-view+json": {
       "model_id": "585a1143c0af426793f936c806648366",
       "version_major": 2,
       "version_minor": 0
      },
      "text/plain": [
       "  0%|          | 0/1 [00:00<?, ?it/s]"
      ]
     },
     "metadata": {},
     "output_type": "display_data"
    },
    {
     "data": {
      "application/vnd.jupyter.widget-view+json": {
       "model_id": "2d50f36f0f634f83aeaed76f39b2786f",
       "version_major": 2,
       "version_minor": 0
      },
      "text/plain": [
       "  0%|          | 0/1 [00:00<?, ?it/s]"
      ]
     },
     "metadata": {},
     "output_type": "display_data"
    },
    {
     "data": {
      "application/vnd.jupyter.widget-view+json": {
       "model_id": "7a417b31fdcc4cd79234a6cf7ead8428",
       "version_major": 2,
       "version_minor": 0
      },
      "text/plain": [
       "  0%|          | 0/1 [00:00<?, ?it/s]"
      ]
     },
     "metadata": {},
     "output_type": "display_data"
    },
    {
     "data": {
      "application/vnd.jupyter.widget-view+json": {
       "model_id": "faa6fab877d74940a3158cfdd21466f1",
       "version_major": 2,
       "version_minor": 0
      },
      "text/plain": [
       "  0%|          | 0/1 [00:00<?, ?it/s]"
      ]
     },
     "metadata": {},
     "output_type": "display_data"
    },
    {
     "data": {
      "application/vnd.jupyter.widget-view+json": {
       "model_id": "d5e0a99ce9e54d3d9629bb582587eaf6",
       "version_major": 2,
       "version_minor": 0
      },
      "text/plain": [
       "  0%|          | 0/1 [00:00<?, ?it/s]"
      ]
     },
     "metadata": {},
     "output_type": "display_data"
    },
    {
     "data": {
      "application/vnd.jupyter.widget-view+json": {
       "model_id": "6c6a91635af047dcbc06181e526a588b",
       "version_major": 2,
       "version_minor": 0
      },
      "text/plain": [
       "  0%|          | 0/1 [00:00<?, ?it/s]"
      ]
     },
     "metadata": {},
     "output_type": "display_data"
    },
    {
     "data": {
      "application/vnd.jupyter.widget-view+json": {
       "model_id": "40896e76b7854759aabcf47ceb37a7af",
       "version_major": 2,
       "version_minor": 0
      },
      "text/plain": [
       "  0%|          | 0/1 [00:00<?, ?it/s]"
      ]
     },
     "metadata": {},
     "output_type": "display_data"
    },
    {
     "data": {
      "application/vnd.jupyter.widget-view+json": {
       "model_id": "2239358a169145eb9dd399a10e7919a8",
       "version_major": 2,
       "version_minor": 0
      },
      "text/plain": [
       "  0%|          | 0/1 [00:00<?, ?it/s]"
      ]
     },
     "metadata": {},
     "output_type": "display_data"
    },
    {
     "data": {
      "application/vnd.jupyter.widget-view+json": {
       "model_id": "1dfd09f2fce94c0c9d020b6c830e8115",
       "version_major": 2,
       "version_minor": 0
      },
      "text/plain": [
       "  0%|          | 0/1 [00:00<?, ?it/s]"
      ]
     },
     "metadata": {},
     "output_type": "display_data"
    },
    {
     "data": {
      "application/vnd.jupyter.widget-view+json": {
       "model_id": "8bbf03c2495f49b1af804855412b3b69",
       "version_major": 2,
       "version_minor": 0
      },
      "text/plain": [
       "  0%|          | 0/1 [00:00<?, ?it/s]"
      ]
     },
     "metadata": {},
     "output_type": "display_data"
    },
    {
     "name": "stdout",
     "output_type": "stream",
     "text": [
      "Datenlage zum prädiktiven Wert einer negativen Interim-PET nach zwei/drei Zyklen ABVD\n",
      "\n",
      "No Filter:\n"
     ]
    },
    {
     "data": {
      "text/html": [
       "<div>\n",
       "<style scoped>\n",
       "    .dataframe tbody tr th:only-of-type {\n",
       "        vertical-align: middle;\n",
       "    }\n",
       "\n",
       "    .dataframe tbody tr th {\n",
       "        vertical-align: top;\n",
       "    }\n",
       "\n",
       "    .dataframe thead th {\n",
       "        text-align: right;\n",
       "    }\n",
       "</style>\n",
       "<table border=\"1\" class=\"dataframe\">\n",
       "  <thead>\n",
       "    <tr style=\"text-align: right;\">\n",
       "      <th></th>\n",
       "      <th>document</th>\n",
       "      <th>text</th>\n",
       "      <th>type</th>\n",
       "      <th>start</th>\n",
       "      <th>end</th>\n",
       "      <th>cui</th>\n",
       "      <th>tuis</th>\n",
       "      <th>canonical</th>\n",
       "      <th>linker</th>\n",
       "      <th>confidence</th>\n",
       "    </tr>\n",
       "  </thead>\n",
       "  <tbody>\n",
       "    <tr>\n",
       "      <th>1</th>\n",
       "      <td>18_hodgkin-lymphom_0051_1</td>\n",
       "      <td>zwei/drei Zyklen ABVD</td>\n",
       "      <td>Therapeutic</td>\n",
       "      <td>64</td>\n",
       "      <td>85</td>\n",
       "      <td>C0050380</td>\n",
       "      <td>[T061]</td>\n",
       "      <td>BLEO/DOX/DTIC/VBL</td>\n",
       "      <td>[sapbert]</td>\n",
       "      <td>0.065968</td>\n",
       "    </tr>\n",
       "  </tbody>\n",
       "</table>\n",
       "</div>"
      ],
      "text/plain": [
       "                    document                   text         type  start  end  \\\n",
       "1  18_hodgkin-lymphom_0051_1  zwei/drei Zyklen ABVD  Therapeutic     64   85   \n",
       "\n",
       "        cui    tuis          canonical     linker  confidence  \n",
       "1  C0050380  [T061]  BLEO/DOX/DTIC/VBL  [sapbert]    0.065968  "
      ]
     },
     "metadata": {},
     "output_type": "display_data"
    },
    {
     "name": "stdout",
     "output_type": "stream",
     "text": [
      "Filter:\n"
     ]
    },
    {
     "data": {
      "text/html": [
       "<div>\n",
       "<style scoped>\n",
       "    .dataframe tbody tr th:only-of-type {\n",
       "        vertical-align: middle;\n",
       "    }\n",
       "\n",
       "    .dataframe tbody tr th {\n",
       "        vertical-align: top;\n",
       "    }\n",
       "\n",
       "    .dataframe thead th {\n",
       "        text-align: right;\n",
       "    }\n",
       "</style>\n",
       "<table border=\"1\" class=\"dataframe\">\n",
       "  <thead>\n",
       "    <tr style=\"text-align: right;\">\n",
       "      <th></th>\n",
       "      <th>document</th>\n",
       "      <th>text</th>\n",
       "      <th>type</th>\n",
       "      <th>start</th>\n",
       "      <th>end</th>\n",
       "      <th>cui</th>\n",
       "      <th>tuis</th>\n",
       "      <th>canonical</th>\n",
       "      <th>linker</th>\n",
       "      <th>confidence</th>\n",
       "    </tr>\n",
       "  </thead>\n",
       "  <tbody>\n",
       "    <tr>\n",
       "      <th>1</th>\n",
       "      <td>18_hodgkin-lymphom_0051_1</td>\n",
       "      <td>zwei/drei Zyklen ABVD</td>\n",
       "      <td>Therapeutic</td>\n",
       "      <td>64</td>\n",
       "      <td>85</td>\n",
       "      <td>C1741578</td>\n",
       "      <td>[T116, T123]</td>\n",
       "      <td>dual altered peptide ligand</td>\n",
       "      <td>[sapbert]</td>\n",
       "      <td>0.066694</td>\n",
       "    </tr>\n",
       "  </tbody>\n",
       "</table>\n",
       "</div>"
      ],
      "text/plain": [
       "                    document                   text         type  start  end  \\\n",
       "1  18_hodgkin-lymphom_0051_1  zwei/drei Zyklen ABVD  Therapeutic     64   85   \n",
       "\n",
       "        cui          tuis                    canonical     linker  confidence  \n",
       "1  C1741578  [T116, T123]  dual altered peptide ligand  [sapbert]    0.066694  "
      ]
     },
     "metadata": {},
     "output_type": "display_data"
    },
    {
     "name": "stdout",
     "output_type": "stream",
     "text": [
      "####\n"
     ]
    },
    {
     "data": {
      "application/vnd.jupyter.widget-view+json": {
       "model_id": "83a8a9a95e064abc8ac89fb450340bb0",
       "version_major": 2,
       "version_minor": 0
      },
      "text/plain": [
       "  0%|          | 0/1 [00:00<?, ?it/s]"
      ]
     },
     "metadata": {},
     "output_type": "display_data"
    },
    {
     "data": {
      "application/vnd.jupyter.widget-view+json": {
       "model_id": "921f38ec3e8d42529f5635067523891b",
       "version_major": 2,
       "version_minor": 0
      },
      "text/plain": [
       "  0%|          | 0/1 [00:00<?, ?it/s]"
      ]
     },
     "metadata": {},
     "output_type": "display_data"
    },
    {
     "name": "stdout",
     "output_type": "stream",
     "text": [
      "In kleinen (77 bzw. 85 Patienten), nicht-randomisierten Studien aus Dänemark (Hutchings 2006b) und aus England [REF] wurde das Ergebnis des PET/CTs nach 2 Zyklen Chemotherapie beim Hodgkin Lymphom als unabhängiger Prognosefaktor identifiziert.\n",
      "\n",
      "No Filter:\n"
     ]
    },
    {
     "data": {
      "text/html": [
       "<div>\n",
       "<style scoped>\n",
       "    .dataframe tbody tr th:only-of-type {\n",
       "        vertical-align: middle;\n",
       "    }\n",
       "\n",
       "    .dataframe tbody tr th {\n",
       "        vertical-align: top;\n",
       "    }\n",
       "\n",
       "    .dataframe thead th {\n",
       "        text-align: right;\n",
       "    }\n",
       "</style>\n",
       "<table border=\"1\" class=\"dataframe\">\n",
       "  <thead>\n",
       "    <tr style=\"text-align: right;\">\n",
       "      <th></th>\n",
       "      <th>document</th>\n",
       "      <th>text</th>\n",
       "      <th>type</th>\n",
       "      <th>start</th>\n",
       "      <th>end</th>\n",
       "      <th>cui</th>\n",
       "      <th>tuis</th>\n",
       "      <th>canonical</th>\n",
       "      <th>linker</th>\n",
       "      <th>confidence</th>\n",
       "    </tr>\n",
       "  </thead>\n",
       "  <tbody>\n",
       "    <tr>\n",
       "      <th>0</th>\n",
       "      <td>18_hodgkin-lymphom_0051_2</td>\n",
       "      <td>PET/CTs nach 2 Zyklen Chemotherapie</td>\n",
       "      <td>Diagnostic</td>\n",
       "      <td>140</td>\n",
       "      <td>175</td>\n",
       "      <td>C1559156</td>\n",
       "      <td>[T033]</td>\n",
       "      <td>Grade 2 Chemoradiation, CTCAE</td>\n",
       "      <td>[sapbert]</td>\n",
       "      <td>0.063776</td>\n",
       "    </tr>\n",
       "  </tbody>\n",
       "</table>\n",
       "</div>"
      ],
      "text/plain": [
       "                    document                                 text        type  \\\n",
       "0  18_hodgkin-lymphom_0051_2  PET/CTs nach 2 Zyklen Chemotherapie  Diagnostic   \n",
       "\n",
       "   start  end       cui    tuis                      canonical     linker  \\\n",
       "0    140  175  C1559156  [T033]  Grade 2 Chemoradiation, CTCAE  [sapbert]   \n",
       "\n",
       "   confidence  \n",
       "0    0.063776  "
      ]
     },
     "metadata": {},
     "output_type": "display_data"
    },
    {
     "name": "stdout",
     "output_type": "stream",
     "text": [
      "Filter:\n"
     ]
    },
    {
     "data": {
      "text/html": [
       "<div>\n",
       "<style scoped>\n",
       "    .dataframe tbody tr th:only-of-type {\n",
       "        vertical-align: middle;\n",
       "    }\n",
       "\n",
       "    .dataframe tbody tr th {\n",
       "        vertical-align: top;\n",
       "    }\n",
       "\n",
       "    .dataframe thead th {\n",
       "        text-align: right;\n",
       "    }\n",
       "</style>\n",
       "<table border=\"1\" class=\"dataframe\">\n",
       "  <thead>\n",
       "    <tr style=\"text-align: right;\">\n",
       "      <th></th>\n",
       "      <th>document</th>\n",
       "      <th>text</th>\n",
       "      <th>type</th>\n",
       "      <th>start</th>\n",
       "      <th>end</th>\n",
       "      <th>cui</th>\n",
       "      <th>tuis</th>\n",
       "      <th>canonical</th>\n",
       "      <th>linker</th>\n",
       "      <th>confidence</th>\n",
       "    </tr>\n",
       "  </thead>\n",
       "  <tbody>\n",
       "    <tr>\n",
       "      <th>0</th>\n",
       "      <td>18_hodgkin-lymphom_0051_2</td>\n",
       "      <td>PET/CTs nach 2 Zyklen Chemotherapie</td>\n",
       "      <td>Diagnostic</td>\n",
       "      <td>140</td>\n",
       "      <td>175</td>\n",
       "      <td>C0260835</td>\n",
       "      <td>[T061]</td>\n",
       "      <td>Chemotherapy follow-up</td>\n",
       "      <td>[sapbert]</td>\n",
       "      <td>0.063648</td>\n",
       "    </tr>\n",
       "  </tbody>\n",
       "</table>\n",
       "</div>"
      ],
      "text/plain": [
       "                    document                                 text        type  \\\n",
       "0  18_hodgkin-lymphom_0051_2  PET/CTs nach 2 Zyklen Chemotherapie  Diagnostic   \n",
       "\n",
       "   start  end       cui    tuis               canonical     linker  confidence  \n",
       "0    140  175  C0260835  [T061]  Chemotherapy follow-up  [sapbert]    0.063648  "
      ]
     },
     "metadata": {},
     "output_type": "display_data"
    },
    {
     "name": "stdout",
     "output_type": "stream",
     "text": [
      "####\n"
     ]
    },
    {
     "data": {
      "application/vnd.jupyter.widget-view+json": {
       "model_id": "3a0e1d35423c40f5b57435283084b3a4",
       "version_major": 2,
       "version_minor": 0
      },
      "text/plain": [
       "  0%|          | 0/1 [00:00<?, ?it/s]"
      ]
     },
     "metadata": {},
     "output_type": "display_data"
    },
    {
     "data": {
      "application/vnd.jupyter.widget-view+json": {
       "model_id": "821cf5381ae24b3db0fa4b1e9cb86eb4",
       "version_major": 2,
       "version_minor": 0
      },
      "text/plain": [
       "  0%|          | 0/1 [00:00<?, ?it/s]"
      ]
     },
     "metadata": {},
     "output_type": "display_data"
    },
    {
     "data": {
      "application/vnd.jupyter.widget-view+json": {
       "model_id": "e5b55b15e80a450c9d64ef38b547a069",
       "version_major": 2,
       "version_minor": 0
      },
      "text/plain": [
       "  0%|          | 0/1 [00:00<?, ?it/s]"
      ]
     },
     "metadata": {},
     "output_type": "display_data"
    },
    {
     "data": {
      "application/vnd.jupyter.widget-view+json": {
       "model_id": "82e14c7efdf04e3aab0e38ae8037ce2c",
       "version_major": 2,
       "version_minor": 0
      },
      "text/plain": [
       "  0%|          | 0/1 [00:00<?, ?it/s]"
      ]
     },
     "metadata": {},
     "output_type": "display_data"
    },
    {
     "data": {
      "application/vnd.jupyter.widget-view+json": {
       "model_id": "34b36ad2019a4e0a9c6fb39c52ea5501",
       "version_major": 2,
       "version_minor": 0
      },
      "text/plain": [
       "  0%|          | 0/1 [00:00<?, ?it/s]"
      ]
     },
     "metadata": {},
     "output_type": "display_data"
    },
    {
     "data": {
      "application/vnd.jupyter.widget-view+json": {
       "model_id": "de4e903df79045b3a16aa4e35f84f963",
       "version_major": 2,
       "version_minor": 0
      },
      "text/plain": [
       "  0%|          | 0/1 [00:00<?, ?it/s]"
      ]
     },
     "metadata": {},
     "output_type": "display_data"
    },
    {
     "name": "stdout",
     "output_type": "stream",
     "text": [
      "In die „RAPID“-Studie des britischen „National Cancer Research Institute“(NCRI) wurden Patienten im Stadium IA/IIA eines klassischen Hodgkin Lymphoms (bei Diagnosestellung lag bei ca. 70% der Patienten nach der GHSG-Risikostratifizierung ein frühes Stadium vor) bei Vorliegen eines negativen PET/CTs nach drei Zyklen ABVD entweder in einen Nachbeobachtungsarm oder in einen Therapiearm mit konsolidierender Strahlentherapie mit 30 Gy IF-RT randomisiert.\n",
      "\n",
      "No Filter:\n"
     ]
    },
    {
     "data": {
      "text/html": [
       "<div>\n",
       "<style scoped>\n",
       "    .dataframe tbody tr th:only-of-type {\n",
       "        vertical-align: middle;\n",
       "    }\n",
       "\n",
       "    .dataframe tbody tr th {\n",
       "        vertical-align: top;\n",
       "    }\n",
       "\n",
       "    .dataframe thead th {\n",
       "        text-align: right;\n",
       "    }\n",
       "</style>\n",
       "<table border=\"1\" class=\"dataframe\">\n",
       "  <thead>\n",
       "    <tr style=\"text-align: right;\">\n",
       "      <th></th>\n",
       "      <th>document</th>\n",
       "      <th>text</th>\n",
       "      <th>type</th>\n",
       "      <th>start</th>\n",
       "      <th>end</th>\n",
       "      <th>cui</th>\n",
       "      <th>tuis</th>\n",
       "      <th>canonical</th>\n",
       "      <th>linker</th>\n",
       "      <th>confidence</th>\n",
       "    </tr>\n",
       "  </thead>\n",
       "  <tbody>\n",
       "    <tr>\n",
       "      <th>3</th>\n",
       "      <td>18_hodgkin-lymphom_0051_5</td>\n",
       "      <td>GHSG-Risikostratifizierung</td>\n",
       "      <td>Diagnostic</td>\n",
       "      <td>211</td>\n",
       "      <td>237</td>\n",
       "      <td>C0018133</td>\n",
       "      <td>[T047]</td>\n",
       "      <td>Graft-versus-host-Krankheit</td>\n",
       "      <td>[sapbert]</td>\n",
       "      <td>0.063292</td>\n",
       "    </tr>\n",
       "  </tbody>\n",
       "</table>\n",
       "</div>"
      ],
      "text/plain": [
       "                    document                        text        type  start  \\\n",
       "3  18_hodgkin-lymphom_0051_5  GHSG-Risikostratifizierung  Diagnostic    211   \n",
       "\n",
       "   end       cui    tuis                    canonical     linker  confidence  \n",
       "3  237  C0018133  [T047]  Graft-versus-host-Krankheit  [sapbert]    0.063292  "
      ]
     },
     "metadata": {},
     "output_type": "display_data"
    },
    {
     "name": "stdout",
     "output_type": "stream",
     "text": [
      "Filter:\n"
     ]
    },
    {
     "data": {
      "text/html": [
       "<div>\n",
       "<style scoped>\n",
       "    .dataframe tbody tr th:only-of-type {\n",
       "        vertical-align: middle;\n",
       "    }\n",
       "\n",
       "    .dataframe tbody tr th {\n",
       "        vertical-align: top;\n",
       "    }\n",
       "\n",
       "    .dataframe thead th {\n",
       "        text-align: right;\n",
       "    }\n",
       "</style>\n",
       "<table border=\"1\" class=\"dataframe\">\n",
       "  <thead>\n",
       "    <tr style=\"text-align: right;\">\n",
       "      <th></th>\n",
       "      <th>document</th>\n",
       "      <th>text</th>\n",
       "      <th>type</th>\n",
       "      <th>start</th>\n",
       "      <th>end</th>\n",
       "      <th>cui</th>\n",
       "      <th>tuis</th>\n",
       "      <th>canonical</th>\n",
       "      <th>linker</th>\n",
       "      <th>confidence</th>\n",
       "    </tr>\n",
       "  </thead>\n",
       "  <tbody>\n",
       "    <tr>\n",
       "      <th>3</th>\n",
       "      <td>18_hodgkin-lymphom_0051_5</td>\n",
       "      <td>GHSG-Risikostratifizierung</td>\n",
       "      <td>Diagnostic</td>\n",
       "      <td>211</td>\n",
       "      <td>237</td>\n",
       "      <td>C0391690</td>\n",
       "      <td>[T116, T192]</td>\n",
       "      <td>Rezeptoren, Ghrelin-</td>\n",
       "      <td>[sapbert]</td>\n",
       "      <td>0.063205</td>\n",
       "    </tr>\n",
       "  </tbody>\n",
       "</table>\n",
       "</div>"
      ],
      "text/plain": [
       "                    document                        text        type  start  \\\n",
       "3  18_hodgkin-lymphom_0051_5  GHSG-Risikostratifizierung  Diagnostic    211   \n",
       "\n",
       "   end       cui          tuis             canonical     linker  confidence  \n",
       "3  237  C0391690  [T116, T192]  Rezeptoren, Ghrelin-  [sapbert]    0.063205  "
      ]
     },
     "metadata": {},
     "output_type": "display_data"
    },
    {
     "name": "stdout",
     "output_type": "stream",
     "text": [
      "####\n"
     ]
    },
    {
     "data": {
      "application/vnd.jupyter.widget-view+json": {
       "model_id": "91ba37c2ed334e79bd2cae28c056b10c",
       "version_major": 2,
       "version_minor": 0
      },
      "text/plain": [
       "  0%|          | 0/1 [00:00<?, ?it/s]"
      ]
     },
     "metadata": {},
     "output_type": "display_data"
    },
    {
     "data": {
      "application/vnd.jupyter.widget-view+json": {
       "model_id": "e631af38afe74f96a694292375b80531",
       "version_major": 2,
       "version_minor": 0
      },
      "text/plain": [
       "  0%|          | 0/1 [00:00<?, ?it/s]"
      ]
     },
     "metadata": {},
     "output_type": "display_data"
    },
    {
     "name": "stdout",
     "output_type": "stream",
     "text": [
      "Bei einem medianen Follow-up von 60 Monaten wurden im Beobachtungsarm 9.5% und im Strahlentherapiearm 3.5% Progresse dokumentiert.\n",
      "\n",
      "No Filter:\n"
     ]
    },
    {
     "data": {
      "text/html": [
       "<div>\n",
       "<style scoped>\n",
       "    .dataframe tbody tr th:only-of-type {\n",
       "        vertical-align: middle;\n",
       "    }\n",
       "\n",
       "    .dataframe tbody tr th {\n",
       "        vertical-align: top;\n",
       "    }\n",
       "\n",
       "    .dataframe thead th {\n",
       "        text-align: right;\n",
       "    }\n",
       "</style>\n",
       "<table border=\"1\" class=\"dataframe\">\n",
       "  <thead>\n",
       "    <tr style=\"text-align: right;\">\n",
       "      <th></th>\n",
       "      <th>document</th>\n",
       "      <th>text</th>\n",
       "      <th>type</th>\n",
       "      <th>start</th>\n",
       "      <th>end</th>\n",
       "      <th>cui</th>\n",
       "      <th>tuis</th>\n",
       "      <th>canonical</th>\n",
       "      <th>linker</th>\n",
       "      <th>confidence</th>\n",
       "    </tr>\n",
       "  </thead>\n",
       "  <tbody>\n",
       "    <tr>\n",
       "      <th>0</th>\n",
       "      <td>18_hodgkin-lymphom_0051_6</td>\n",
       "      <td>Beobachtungsarm</td>\n",
       "      <td>Diagnostic</td>\n",
       "      <td>54</td>\n",
       "      <td>69</td>\n",
       "      <td>C0302523</td>\n",
       "      <td>[T062]</td>\n",
       "      <td>Beobachtung</td>\n",
       "      <td>[ngram, sapbert]</td>\n",
       "      <td>0.088545</td>\n",
       "    </tr>\n",
       "  </tbody>\n",
       "</table>\n",
       "</div>"
      ],
      "text/plain": [
       "                    document             text        type  start  end  \\\n",
       "0  18_hodgkin-lymphom_0051_6  Beobachtungsarm  Diagnostic     54   69   \n",
       "\n",
       "        cui    tuis    canonical            linker  confidence  \n",
       "0  C0302523  [T062]  Beobachtung  [ngram, sapbert]    0.088545  "
      ]
     },
     "metadata": {},
     "output_type": "display_data"
    },
    {
     "name": "stdout",
     "output_type": "stream",
     "text": [
      "Filter:\n"
     ]
    },
    {
     "data": {
      "text/html": [
       "<div>\n",
       "<style scoped>\n",
       "    .dataframe tbody tr th:only-of-type {\n",
       "        vertical-align: middle;\n",
       "    }\n",
       "\n",
       "    .dataframe tbody tr th {\n",
       "        vertical-align: top;\n",
       "    }\n",
       "\n",
       "    .dataframe thead th {\n",
       "        text-align: right;\n",
       "    }\n",
       "</style>\n",
       "<table border=\"1\" class=\"dataframe\">\n",
       "  <thead>\n",
       "    <tr style=\"text-align: right;\">\n",
       "      <th></th>\n",
       "      <th>document</th>\n",
       "      <th>text</th>\n",
       "      <th>type</th>\n",
       "      <th>start</th>\n",
       "      <th>end</th>\n",
       "      <th>cui</th>\n",
       "      <th>tuis</th>\n",
       "      <th>canonical</th>\n",
       "      <th>linker</th>\n",
       "      <th>confidence</th>\n",
       "    </tr>\n",
       "  </thead>\n",
       "  <tbody>\n",
       "    <tr>\n",
       "      <th>0</th>\n",
       "      <td>18_hodgkin-lymphom_0051_6</td>\n",
       "      <td>Beobachtungsarm</td>\n",
       "      <td>Diagnostic</td>\n",
       "      <td>54</td>\n",
       "      <td>69</td>\n",
       "      <td>C0558046</td>\n",
       "      <td>[T061]</td>\n",
       "      <td>Levels of observation</td>\n",
       "      <td>[sapbert]</td>\n",
       "      <td>0.085869</td>\n",
       "    </tr>\n",
       "  </tbody>\n",
       "</table>\n",
       "</div>"
      ],
      "text/plain": [
       "                    document             text        type  start  end  \\\n",
       "0  18_hodgkin-lymphom_0051_6  Beobachtungsarm  Diagnostic     54   69   \n",
       "\n",
       "        cui    tuis              canonical     linker  confidence  \n",
       "0  C0558046  [T061]  Levels of observation  [sapbert]    0.085869  "
      ]
     },
     "metadata": {},
     "output_type": "display_data"
    },
    {
     "name": "stdout",
     "output_type": "stream",
     "text": [
      "####\n"
     ]
    },
    {
     "data": {
      "application/vnd.jupyter.widget-view+json": {
       "model_id": "026e46192bf94c46821a4069dcd0c9a3",
       "version_major": 2,
       "version_minor": 0
      },
      "text/plain": [
       "  0%|          | 0/1 [00:00<?, ?it/s]"
      ]
     },
     "metadata": {},
     "output_type": "display_data"
    },
    {
     "data": {
      "application/vnd.jupyter.widget-view+json": {
       "model_id": "9393f3645f644860b845aaf2bd38a1d8",
       "version_major": 2,
       "version_minor": 0
      },
      "text/plain": [
       "  0%|          | 0/1 [00:00<?, ?it/s]"
      ]
     },
     "metadata": {},
     "output_type": "display_data"
    },
    {
     "name": "stdout",
     "output_type": "stream",
     "text": [
      "In der „Intent-to-Treat“-Analyse betrug das 3-Jahres progressionsfreie Überleben (PFS) 94.6% (95% Konfidenzintervall [CI], 91.5% bis 97.7%) im Bestrahlungsarm und 90.8% (95% CI, 86.9% bis 94.8%) im Beobachtungsarm; noch deutlicher war der PFS-Unterschied in der „Per-Protocol“-Analyse mit einem 3-Jahres PFS von 97.1% (95% CI, 94.7% bis 99.6%) im Bestrahlungsarm und von 90.8% (95% CI, 86.8% bis 94.7%) im Beobachtungsarm.\n",
      "\n",
      "No Filter:\n"
     ]
    },
    {
     "data": {
      "text/html": [
       "<div>\n",
       "<style scoped>\n",
       "    .dataframe tbody tr th:only-of-type {\n",
       "        vertical-align: middle;\n",
       "    }\n",
       "\n",
       "    .dataframe tbody tr th {\n",
       "        vertical-align: top;\n",
       "    }\n",
       "\n",
       "    .dataframe thead th {\n",
       "        text-align: right;\n",
       "    }\n",
       "</style>\n",
       "<table border=\"1\" class=\"dataframe\">\n",
       "  <thead>\n",
       "    <tr style=\"text-align: right;\">\n",
       "      <th></th>\n",
       "      <th>document</th>\n",
       "      <th>text</th>\n",
       "      <th>type</th>\n",
       "      <th>start</th>\n",
       "      <th>end</th>\n",
       "      <th>cui</th>\n",
       "      <th>tuis</th>\n",
       "      <th>canonical</th>\n",
       "      <th>linker</th>\n",
       "      <th>confidence</th>\n",
       "    </tr>\n",
       "  </thead>\n",
       "  <tbody>\n",
       "    <tr>\n",
       "      <th>3</th>\n",
       "      <td>18_hodgkin-lymphom_0051_7</td>\n",
       "      <td>Beobachtungsarm</td>\n",
       "      <td>Diagnostic</td>\n",
       "      <td>198</td>\n",
       "      <td>213</td>\n",
       "      <td>C0302523</td>\n",
       "      <td>[T062]</td>\n",
       "      <td>Beobachtung</td>\n",
       "      <td>[ngram, sapbert]</td>\n",
       "      <td>0.089368</td>\n",
       "    </tr>\n",
       "  </tbody>\n",
       "</table>\n",
       "</div>"
      ],
      "text/plain": [
       "                    document             text        type  start  end  \\\n",
       "3  18_hodgkin-lymphom_0051_7  Beobachtungsarm  Diagnostic    198  213   \n",
       "\n",
       "        cui    tuis    canonical            linker  confidence  \n",
       "3  C0302523  [T062]  Beobachtung  [ngram, sapbert]    0.089368  "
      ]
     },
     "metadata": {},
     "output_type": "display_data"
    },
    {
     "name": "stdout",
     "output_type": "stream",
     "text": [
      "Filter:\n"
     ]
    },
    {
     "data": {
      "text/html": [
       "<div>\n",
       "<style scoped>\n",
       "    .dataframe tbody tr th:only-of-type {\n",
       "        vertical-align: middle;\n",
       "    }\n",
       "\n",
       "    .dataframe tbody tr th {\n",
       "        vertical-align: top;\n",
       "    }\n",
       "\n",
       "    .dataframe thead th {\n",
       "        text-align: right;\n",
       "    }\n",
       "</style>\n",
       "<table border=\"1\" class=\"dataframe\">\n",
       "  <thead>\n",
       "    <tr style=\"text-align: right;\">\n",
       "      <th></th>\n",
       "      <th>document</th>\n",
       "      <th>text</th>\n",
       "      <th>type</th>\n",
       "      <th>start</th>\n",
       "      <th>end</th>\n",
       "      <th>cui</th>\n",
       "      <th>tuis</th>\n",
       "      <th>canonical</th>\n",
       "      <th>linker</th>\n",
       "      <th>confidence</th>\n",
       "    </tr>\n",
       "  </thead>\n",
       "  <tbody>\n",
       "    <tr>\n",
       "      <th>3</th>\n",
       "      <td>18_hodgkin-lymphom_0051_7</td>\n",
       "      <td>Beobachtungsarm</td>\n",
       "      <td>Diagnostic</td>\n",
       "      <td>198</td>\n",
       "      <td>213</td>\n",
       "      <td>C1964257</td>\n",
       "      <td>[T060]</td>\n",
       "      <td>Observation</td>\n",
       "      <td>[sapbert]</td>\n",
       "      <td>0.08438</td>\n",
       "    </tr>\n",
       "  </tbody>\n",
       "</table>\n",
       "</div>"
      ],
      "text/plain": [
       "                    document             text        type  start  end  \\\n",
       "3  18_hodgkin-lymphom_0051_7  Beobachtungsarm  Diagnostic    198  213   \n",
       "\n",
       "        cui    tuis    canonical     linker  confidence  \n",
       "3  C1964257  [T060]  Observation  [sapbert]     0.08438  "
      ]
     },
     "metadata": {},
     "output_type": "display_data"
    },
    {
     "name": "stdout",
     "output_type": "stream",
     "text": [
      "####\n"
     ]
    },
    {
     "data": {
      "application/vnd.jupyter.widget-view+json": {
       "model_id": "01105ad80bb343fc937a265ce84f98e8",
       "version_major": 2,
       "version_minor": 0
      },
      "text/plain": [
       "  0%|          | 0/1 [00:00<?, ?it/s]"
      ]
     },
     "metadata": {},
     "output_type": "display_data"
    },
    {
     "data": {
      "application/vnd.jupyter.widget-view+json": {
       "model_id": "7eb2220f0f6944af9f6cfeb14b47e04d",
       "version_major": 2,
       "version_minor": 0
      },
      "text/plain": [
       "  0%|          | 0/1 [00:00<?, ?it/s]"
      ]
     },
     "metadata": {},
     "output_type": "display_data"
    },
    {
     "data": {
      "application/vnd.jupyter.widget-view+json": {
       "model_id": "d6949ef61bcb4fe2bcc152b0f7091fa3",
       "version_major": 2,
       "version_minor": 0
      },
      "text/plain": [
       "  0%|          | 0/1 [00:00<?, ?it/s]"
      ]
     },
     "metadata": {},
     "output_type": "display_data"
    },
    {
     "data": {
      "application/vnd.jupyter.widget-view+json": {
       "model_id": "1d71fc58cc694c399ad5d0141b93915c",
       "version_major": 2,
       "version_minor": 0
      },
      "text/plain": [
       "  0%|          | 0/1 [00:00<?, ?it/s]"
      ]
     },
     "metadata": {},
     "output_type": "display_data"
    },
    {
     "name": "stdout",
     "output_type": "stream",
     "text": [
      "In der H10F Studie der EORTC/The Lymphoma Study Association (LYSA)/Italian Foundation for Lymphoma Study (FIL) wurden Patienten im Stadium I/II eines klassischen Hodgkin Lymphoms ohne Vorliegen eines definierten Risikofaktors bei Dokumentation eines negativen PET/CTs nach zwei Zyklen ABVD im Standardarm mit einem weiteren Zyklus ABVD gefolgt von 30 Gy „involved-node“ (IN)-RT und im experimentellen Arm mit zwei weiteren Zyklen ABVD ohne konsolidierende Strahlentherapie behandelt.\n",
      "\n",
      "No Filter:\n"
     ]
    },
    {
     "data": {
      "text/html": [
       "<div>\n",
       "<style scoped>\n",
       "    .dataframe tbody tr th:only-of-type {\n",
       "        vertical-align: middle;\n",
       "    }\n",
       "\n",
       "    .dataframe tbody tr th {\n",
       "        vertical-align: top;\n",
       "    }\n",
       "\n",
       "    .dataframe thead th {\n",
       "        text-align: right;\n",
       "    }\n",
       "</style>\n",
       "<table border=\"1\" class=\"dataframe\">\n",
       "  <thead>\n",
       "    <tr style=\"text-align: right;\">\n",
       "      <th></th>\n",
       "      <th>document</th>\n",
       "      <th>text</th>\n",
       "      <th>type</th>\n",
       "      <th>start</th>\n",
       "      <th>end</th>\n",
       "      <th>cui</th>\n",
       "      <th>tuis</th>\n",
       "      <th>canonical</th>\n",
       "      <th>linker</th>\n",
       "      <th>confidence</th>\n",
       "    </tr>\n",
       "  </thead>\n",
       "  <tbody>\n",
       "    <tr>\n",
       "      <th>4</th>\n",
       "      <td>18_hodgkin-lymphom_0051_9</td>\n",
       "      <td>zwei weiteren Zyklen ABVD ohne konsolidierende...</td>\n",
       "      <td>Therapeutic</td>\n",
       "      <td>409</td>\n",
       "      <td>472</td>\n",
       "      <td>C1168319</td>\n",
       "      <td>[T033]</td>\n",
       "      <td>AV dual-paced rhythm</td>\n",
       "      <td>[sapbert]</td>\n",
       "      <td>0.062895</td>\n",
       "    </tr>\n",
       "  </tbody>\n",
       "</table>\n",
       "</div>"
      ],
      "text/plain": [
       "                    document  \\\n",
       "4  18_hodgkin-lymphom_0051_9   \n",
       "\n",
       "                                                text         type  start  end  \\\n",
       "4  zwei weiteren Zyklen ABVD ohne konsolidierende...  Therapeutic    409  472   \n",
       "\n",
       "        cui    tuis             canonical     linker  confidence  \n",
       "4  C1168319  [T033]  AV dual-paced rhythm  [sapbert]    0.062895  "
      ]
     },
     "metadata": {},
     "output_type": "display_data"
    },
    {
     "name": "stdout",
     "output_type": "stream",
     "text": [
      "Filter:\n"
     ]
    },
    {
     "data": {
      "text/html": [
       "<div>\n",
       "<style scoped>\n",
       "    .dataframe tbody tr th:only-of-type {\n",
       "        vertical-align: middle;\n",
       "    }\n",
       "\n",
       "    .dataframe tbody tr th {\n",
       "        vertical-align: top;\n",
       "    }\n",
       "\n",
       "    .dataframe thead th {\n",
       "        text-align: right;\n",
       "    }\n",
       "</style>\n",
       "<table border=\"1\" class=\"dataframe\">\n",
       "  <thead>\n",
       "    <tr style=\"text-align: right;\">\n",
       "      <th></th>\n",
       "      <th>document</th>\n",
       "      <th>text</th>\n",
       "      <th>type</th>\n",
       "      <th>start</th>\n",
       "      <th>end</th>\n",
       "      <th>cui</th>\n",
       "      <th>tuis</th>\n",
       "      <th>canonical</th>\n",
       "      <th>linker</th>\n",
       "      <th>confidence</th>\n",
       "    </tr>\n",
       "  </thead>\n",
       "  <tbody>\n",
       "    <tr>\n",
       "      <th>4</th>\n",
       "      <td>18_hodgkin-lymphom_0051_9</td>\n",
       "      <td>zwei weiteren Zyklen ABVD ohne konsolidierende...</td>\n",
       "      <td>Therapeutic</td>\n",
       "      <td>409</td>\n",
       "      <td>472</td>\n",
       "      <td>C1522449</td>\n",
       "      <td>[T061]</td>\n",
       "      <td>Strahlentherapie</td>\n",
       "      <td>[ngram]</td>\n",
       "      <td>0.073113</td>\n",
       "    </tr>\n",
       "  </tbody>\n",
       "</table>\n",
       "</div>"
      ],
      "text/plain": [
       "                    document  \\\n",
       "4  18_hodgkin-lymphom_0051_9   \n",
       "\n",
       "                                                text         type  start  end  \\\n",
       "4  zwei weiteren Zyklen ABVD ohne konsolidierende...  Therapeutic    409  472   \n",
       "\n",
       "        cui    tuis         canonical   linker  confidence  \n",
       "4  C1522449  [T061]  Strahlentherapie  [ngram]    0.073113  "
      ]
     },
     "metadata": {},
     "output_type": "display_data"
    },
    {
     "name": "stdout",
     "output_type": "stream",
     "text": [
      "####\n"
     ]
    },
    {
     "data": {
      "application/vnd.jupyter.widget-view+json": {
       "model_id": "2c71d2f660ef46e59c788685004006a9",
       "version_major": 2,
       "version_minor": 0
      },
      "text/plain": [
       "  0%|          | 0/1 [00:00<?, ?it/s]"
      ]
     },
     "metadata": {},
     "output_type": "display_data"
    },
    {
     "data": {
      "application/vnd.jupyter.widget-view+json": {
       "model_id": "d72b2bcbf02c49928c989978349968b8",
       "version_major": 2,
       "version_minor": 0
      },
      "text/plain": [
       "  0%|          | 0/1 [00:00<?, ?it/s]"
      ]
     },
     "metadata": {},
     "output_type": "display_data"
    },
    {
     "name": "stdout",
     "output_type": "stream",
     "text": [
      "Der experimentelle Arm wurde nach Vorliegen der Ergebnisse der 12-Monats-Interimsanalyse geschlossen, da im experimentellen Arm 9 Rezidive und im Standardarm nur 1 Rezidiv zu dokumentieren waren (1-Jahres PFS 94.9% (95% CI 91.9% bis 96.9%) bzw. 100%) [REF].\n",
      "\n",
      "No Filter:\n"
     ]
    },
    {
     "data": {
      "text/html": [
       "<div>\n",
       "<style scoped>\n",
       "    .dataframe tbody tr th:only-of-type {\n",
       "        vertical-align: middle;\n",
       "    }\n",
       "\n",
       "    .dataframe tbody tr th {\n",
       "        vertical-align: top;\n",
       "    }\n",
       "\n",
       "    .dataframe thead th {\n",
       "        text-align: right;\n",
       "    }\n",
       "</style>\n",
       "<table border=\"1\" class=\"dataframe\">\n",
       "  <thead>\n",
       "    <tr style=\"text-align: right;\">\n",
       "      <th></th>\n",
       "      <th>document</th>\n",
       "      <th>text</th>\n",
       "      <th>type</th>\n",
       "      <th>start</th>\n",
       "      <th>end</th>\n",
       "      <th>cui</th>\n",
       "      <th>tuis</th>\n",
       "      <th>canonical</th>\n",
       "      <th>linker</th>\n",
       "      <th>confidence</th>\n",
       "    </tr>\n",
       "  </thead>\n",
       "  <tbody>\n",
       "    <tr>\n",
       "      <th>2</th>\n",
       "      <td>18_hodgkin-lymphom_0051_10</td>\n",
       "      <td>1-Jahres PFS</td>\n",
       "      <td>Other_Finding</td>\n",
       "      <td>196</td>\n",
       "      <td>208</td>\n",
       "      <td>C0969299</td>\n",
       "      <td>[T116]</td>\n",
       "      <td>small heat shock protein, Pyrococcus furiosus</td>\n",
       "      <td>[sapbert]</td>\n",
       "      <td>0.092062</td>\n",
       "    </tr>\n",
       "  </tbody>\n",
       "</table>\n",
       "</div>"
      ],
      "text/plain": [
       "                     document          text           type  start  end  \\\n",
       "2  18_hodgkin-lymphom_0051_10  1-Jahres PFS  Other_Finding    196  208   \n",
       "\n",
       "        cui    tuis                                      canonical     linker  \\\n",
       "2  C0969299  [T116]  small heat shock protein, Pyrococcus furiosus  [sapbert]   \n",
       "\n",
       "   confidence  \n",
       "2    0.092062  "
      ]
     },
     "metadata": {},
     "output_type": "display_data"
    },
    {
     "name": "stdout",
     "output_type": "stream",
     "text": [
      "Filter:\n"
     ]
    },
    {
     "data": {
      "text/html": [
       "<div>\n",
       "<style scoped>\n",
       "    .dataframe tbody tr th:only-of-type {\n",
       "        vertical-align: middle;\n",
       "    }\n",
       "\n",
       "    .dataframe tbody tr th {\n",
       "        vertical-align: top;\n",
       "    }\n",
       "\n",
       "    .dataframe thead th {\n",
       "        text-align: right;\n",
       "    }\n",
       "</style>\n",
       "<table border=\"1\" class=\"dataframe\">\n",
       "  <thead>\n",
       "    <tr style=\"text-align: right;\">\n",
       "      <th></th>\n",
       "      <th>document</th>\n",
       "      <th>text</th>\n",
       "      <th>type</th>\n",
       "      <th>start</th>\n",
       "      <th>end</th>\n",
       "      <th>cui</th>\n",
       "      <th>tuis</th>\n",
       "      <th>canonical</th>\n",
       "      <th>linker</th>\n",
       "      <th>confidence</th>\n",
       "    </tr>\n",
       "  </thead>\n",
       "  <tbody>\n",
       "    <tr>\n",
       "      <th>2</th>\n",
       "      <td>18_hodgkin-lymphom_0051_10</td>\n",
       "      <td>1-Jahres PFS</td>\n",
       "      <td>Other_Finding</td>\n",
       "      <td>196</td>\n",
       "      <td>208</td>\n",
       "      <td>C1453067</td>\n",
       "      <td>[T116, T126]</td>\n",
       "      <td>aldo-keto reductase family 1 member C3 protein...</td>\n",
       "      <td>[sapbert]</td>\n",
       "      <td>0.063981</td>\n",
       "    </tr>\n",
       "  </tbody>\n",
       "</table>\n",
       "</div>"
      ],
      "text/plain": [
       "                     document          text           type  start  end  \\\n",
       "2  18_hodgkin-lymphom_0051_10  1-Jahres PFS  Other_Finding    196  208   \n",
       "\n",
       "        cui          tuis                                          canonical  \\\n",
       "2  C1453067  [T116, T126]  aldo-keto reductase family 1 member C3 protein...   \n",
       "\n",
       "      linker  confidence  \n",
       "2  [sapbert]    0.063981  "
      ]
     },
     "metadata": {},
     "output_type": "display_data"
    },
    {
     "name": "stdout",
     "output_type": "stream",
     "text": [
      "####\n"
     ]
    },
    {
     "data": {
      "application/vnd.jupyter.widget-view+json": {
       "model_id": "010b7ac683504ce988ee0fb279cf1e06",
       "version_major": 2,
       "version_minor": 0
      },
      "text/plain": [
       "  0%|          | 0/1 [00:00<?, ?it/s]"
      ]
     },
     "metadata": {},
     "output_type": "display_data"
    },
    {
     "data": {
      "application/vnd.jupyter.widget-view+json": {
       "model_id": "0812a1b7b2c94121beffde0fe003eba8",
       "version_major": 2,
       "version_minor": 0
      },
      "text/plain": [
       "  0%|          | 0/1 [00:00<?, ?it/s]"
      ]
     },
     "metadata": {},
     "output_type": "display_data"
    },
    {
     "data": {
      "application/vnd.jupyter.widget-view+json": {
       "model_id": "87d103f4f19d413080fdf91b284bff4c",
       "version_major": 2,
       "version_minor": 0
      },
      "text/plain": [
       "  0%|          | 0/1 [00:00<?, ?it/s]"
      ]
     },
     "metadata": {},
     "output_type": "display_data"
    },
    {
     "data": {
      "application/vnd.jupyter.widget-view+json": {
       "model_id": "0676c6ced89a452b81f98772bb14e6b2",
       "version_major": 2,
       "version_minor": 0
      },
      "text/plain": [
       "  0%|          | 0/1 [00:00<?, ?it/s]"
      ]
     },
     "metadata": {},
     "output_type": "display_data"
    },
    {
     "data": {
      "application/vnd.jupyter.widget-view+json": {
       "model_id": "0891bc55fab14bb68e582dcc5cfedd67",
       "version_major": 2,
       "version_minor": 0
      },
      "text/plain": [
       "  0%|          | 0/1 [00:00<?, ?it/s]"
      ]
     },
     "metadata": {},
     "output_type": "display_data"
    },
    {
     "data": {
      "application/vnd.jupyter.widget-view+json": {
       "model_id": "27f3ee949c494baaa0f56011c03b4896",
       "version_major": 2,
       "version_minor": 0
      },
      "text/plain": [
       "  0%|          | 0/1 [00:00<?, ?it/s]"
      ]
     },
     "metadata": {},
     "output_type": "display_data"
    },
    {
     "data": {
      "application/vnd.jupyter.widget-view+json": {
       "model_id": "aafdf108a1c147adb3f141c32b038222",
       "version_major": 2,
       "version_minor": 0
      },
      "text/plain": [
       "  0%|          | 0/1 [00:00<?, ?it/s]"
      ]
     },
     "metadata": {},
     "output_type": "display_data"
    },
    {
     "data": {
      "application/vnd.jupyter.widget-view+json": {
       "model_id": "49b4e42595794d628ef1c9eb240e77dd",
       "version_major": 2,
       "version_minor": 0
      },
      "text/plain": [
       "  0%|          | 0/1 [00:00<?, ?it/s]"
      ]
     },
     "metadata": {},
     "output_type": "display_data"
    },
    {
     "data": {
      "application/vnd.jupyter.widget-view+json": {
       "model_id": "e58bcee22ece4fc9b739a4133a422f0c",
       "version_major": 2,
       "version_minor": 0
      },
      "text/plain": [
       "  0%|          | 0/1 [00:00<?, ?it/s]"
      ]
     },
     "metadata": {},
     "output_type": "display_data"
    },
    {
     "data": {
      "application/vnd.jupyter.widget-view+json": {
       "model_id": "555898f4c40c4acf98090dc21f4a7e1e",
       "version_major": 2,
       "version_minor": 0
      },
      "text/plain": [
       "  0%|          | 0/1 [00:00<?, ?it/s]"
      ]
     },
     "metadata": {},
     "output_type": "display_data"
    },
    {
     "name": "stdout",
     "output_type": "stream",
     "text": [
      "Der PFS-Unterschied war v.a. durch eine vermehrte Inzidenz an Rezidiven im Bereich der initialen Lymphomlokalisation und damit im Bestrahlungsfeld bedingt.\n",
      "\n",
      "No Filter:\n"
     ]
    },
    {
     "data": {
      "text/html": [
       "<div>\n",
       "<style scoped>\n",
       "    .dataframe tbody tr th:only-of-type {\n",
       "        vertical-align: middle;\n",
       "    }\n",
       "\n",
       "    .dataframe tbody tr th {\n",
       "        vertical-align: top;\n",
       "    }\n",
       "\n",
       "    .dataframe thead th {\n",
       "        text-align: right;\n",
       "    }\n",
       "</style>\n",
       "<table border=\"1\" class=\"dataframe\">\n",
       "  <thead>\n",
       "    <tr style=\"text-align: right;\">\n",
       "      <th></th>\n",
       "      <th>document</th>\n",
       "      <th>text</th>\n",
       "      <th>type</th>\n",
       "      <th>start</th>\n",
       "      <th>end</th>\n",
       "      <th>cui</th>\n",
       "      <th>tuis</th>\n",
       "      <th>canonical</th>\n",
       "      <th>linker</th>\n",
       "      <th>confidence</th>\n",
       "    </tr>\n",
       "  </thead>\n",
       "  <tbody>\n",
       "    <tr>\n",
       "      <th>0</th>\n",
       "      <td>18_hodgkin-lymphom_0051_15</td>\n",
       "      <td>PFS-Unterschied</td>\n",
       "      <td>Other_Finding</td>\n",
       "      <td>4</td>\n",
       "      <td>19</td>\n",
       "      <td>C0231981</td>\n",
       "      <td>[T034]</td>\n",
       "      <td>Partial expiratory flow-static recoil curve</td>\n",
       "      <td>[sapbert]</td>\n",
       "      <td>0.064313</td>\n",
       "    </tr>\n",
       "    <tr>\n",
       "      <th>2</th>\n",
       "      <td>18_hodgkin-lymphom_0051_15</td>\n",
       "      <td>Bestrahlungsfeld</td>\n",
       "      <td>Therapeutic</td>\n",
       "      <td>130</td>\n",
       "      <td>146</td>\n",
       "      <td>C1882536</td>\n",
       "      <td>[T029]</td>\n",
       "      <td>Radiation Field</td>\n",
       "      <td>[sapbert]</td>\n",
       "      <td>0.094267</td>\n",
       "    </tr>\n",
       "  </tbody>\n",
       "</table>\n",
       "</div>"
      ],
      "text/plain": [
       "                     document              text           type  start  end  \\\n",
       "0  18_hodgkin-lymphom_0051_15   PFS-Unterschied  Other_Finding      4   19   \n",
       "2  18_hodgkin-lymphom_0051_15  Bestrahlungsfeld    Therapeutic    130  146   \n",
       "\n",
       "        cui    tuis                                    canonical     linker  \\\n",
       "0  C0231981  [T034]  Partial expiratory flow-static recoil curve  [sapbert]   \n",
       "2  C1882536  [T029]                              Radiation Field  [sapbert]   \n",
       "\n",
       "   confidence  \n",
       "0    0.064313  \n",
       "2    0.094267  "
      ]
     },
     "metadata": {},
     "output_type": "display_data"
    },
    {
     "name": "stdout",
     "output_type": "stream",
     "text": [
      "Filter:\n"
     ]
    },
    {
     "data": {
      "text/html": [
       "<div>\n",
       "<style scoped>\n",
       "    .dataframe tbody tr th:only-of-type {\n",
       "        vertical-align: middle;\n",
       "    }\n",
       "\n",
       "    .dataframe tbody tr th {\n",
       "        vertical-align: top;\n",
       "    }\n",
       "\n",
       "    .dataframe thead th {\n",
       "        text-align: right;\n",
       "    }\n",
       "</style>\n",
       "<table border=\"1\" class=\"dataframe\">\n",
       "  <thead>\n",
       "    <tr style=\"text-align: right;\">\n",
       "      <th></th>\n",
       "      <th>document</th>\n",
       "      <th>text</th>\n",
       "      <th>type</th>\n",
       "      <th>start</th>\n",
       "      <th>end</th>\n",
       "      <th>cui</th>\n",
       "      <th>tuis</th>\n",
       "      <th>canonical</th>\n",
       "      <th>linker</th>\n",
       "      <th>confidence</th>\n",
       "    </tr>\n",
       "  </thead>\n",
       "  <tbody>\n",
       "    <tr>\n",
       "      <th>0</th>\n",
       "      <td>18_hodgkin-lymphom_0051_15</td>\n",
       "      <td>PFS-Unterschied</td>\n",
       "      <td>Other_Finding</td>\n",
       "      <td>4</td>\n",
       "      <td>19</td>\n",
       "      <td>C1453067</td>\n",
       "      <td>[T116, T126]</td>\n",
       "      <td>aldo-keto reductase family 1 member C3 protein...</td>\n",
       "      <td>[sapbert]</td>\n",
       "      <td>0.064342</td>\n",
       "    </tr>\n",
       "    <tr>\n",
       "      <th>2</th>\n",
       "      <td>18_hodgkin-lymphom_0051_15</td>\n",
       "      <td>Bestrahlungsfeld</td>\n",
       "      <td>Therapeutic</td>\n",
       "      <td>130</td>\n",
       "      <td>146</td>\n",
       "      <td>C0851346</td>\n",
       "      <td>[T070]</td>\n",
       "      <td>Strahlung</td>\n",
       "      <td>[ngram, sapbert]</td>\n",
       "      <td>0.069980</td>\n",
       "    </tr>\n",
       "  </tbody>\n",
       "</table>\n",
       "</div>"
      ],
      "text/plain": [
       "                     document              text           type  start  end  \\\n",
       "0  18_hodgkin-lymphom_0051_15   PFS-Unterschied  Other_Finding      4   19   \n",
       "2  18_hodgkin-lymphom_0051_15  Bestrahlungsfeld    Therapeutic    130  146   \n",
       "\n",
       "        cui          tuis                                          canonical  \\\n",
       "0  C1453067  [T116, T126]  aldo-keto reductase family 1 member C3 protein...   \n",
       "2  C0851346        [T070]                                          Strahlung   \n",
       "\n",
       "             linker  confidence  \n",
       "0         [sapbert]    0.064342  \n",
       "2  [ngram, sapbert]    0.069980  "
      ]
     },
     "metadata": {},
     "output_type": "display_data"
    },
    {
     "name": "stdout",
     "output_type": "stream",
     "text": [
      "####\n"
     ]
    },
    {
     "data": {
      "application/vnd.jupyter.widget-view+json": {
       "model_id": "6469f3ab579349099ae1372670ea2e60",
       "version_major": 2,
       "version_minor": 0
      },
      "text/plain": [
       "  0%|          | 0/1 [00:00<?, ?it/s]"
      ]
     },
     "metadata": {},
     "output_type": "display_data"
    },
    {
     "data": {
      "application/vnd.jupyter.widget-view+json": {
       "model_id": "e6c60a6916754bb6a7ed0981d5b74560",
       "version_major": 2,
       "version_minor": 0
      },
      "text/plain": [
       "  0%|          | 0/1 [00:00<?, ?it/s]"
      ]
     },
     "metadata": {},
     "output_type": "display_data"
    },
    {
     "data": {
      "application/vnd.jupyter.widget-view+json": {
       "model_id": "0765df9792a840afaefaca335d64b0ea",
       "version_major": 2,
       "version_minor": 0
      },
      "text/plain": [
       "  0%|          | 0/1 [00:00<?, ?it/s]"
      ]
     },
     "metadata": {},
     "output_type": "display_data"
    },
    {
     "data": {
      "application/vnd.jupyter.widget-view+json": {
       "model_id": "6f5761f59b5b4b38aabf7ee18b41244e",
       "version_major": 2,
       "version_minor": 0
      },
      "text/plain": [
       "  0%|          | 0/1 [00:00<?, ?it/s]"
      ]
     },
     "metadata": {},
     "output_type": "display_data"
    },
    {
     "data": {
      "application/vnd.jupyter.widget-view+json": {
       "model_id": "e9c0bda3aa234fd8a76af9ff24cda9ee",
       "version_major": 2,
       "version_minor": 0
      },
      "text/plain": [
       "  0%|          | 0/1 [00:00<?, ?it/s]"
      ]
     },
     "metadata": {},
     "output_type": "display_data"
    },
    {
     "data": {
      "application/vnd.jupyter.widget-view+json": {
       "model_id": "aa6f65f4579e4525b08668645c38c2db",
       "version_major": 2,
       "version_minor": 0
      },
      "text/plain": [
       "  0%|          | 0/1 [00:00<?, ?it/s]"
      ]
     },
     "metadata": {},
     "output_type": "display_data"
    },
    {
     "data": {
      "application/vnd.jupyter.widget-view+json": {
       "model_id": "fb8c25fa00404e59a48d90e54387833d",
       "version_major": 2,
       "version_minor": 0
      },
      "text/plain": [
       "  0%|          | 0/1 [00:00<?, ?it/s]"
      ]
     },
     "metadata": {},
     "output_type": "display_data"
    },
    {
     "data": {
      "application/vnd.jupyter.widget-view+json": {
       "model_id": "c29de289c3844934849ccbd1759b5c40",
       "version_major": 2,
       "version_minor": 0
      },
      "text/plain": [
       "  0%|          | 0/1 [00:00<?, ?it/s]"
      ]
     },
     "metadata": {},
     "output_type": "display_data"
    },
    {
     "name": "stdout",
     "output_type": "stream",
     "text": [
      "Zusammenfassend ergab die Meta-Analyse der RAPID-, H10F- und HD16-Studie der GHSG, dass der Verzicht auf eine konsolidierende Strahlentherapie trotz Dokumentation einer PET-Negativität nach zwei bis drei Zyklen ABVD mit einer niedrigeren Tumorkontrolle und damit einem niedrigeren PFS/EFS einhergeht ( [REF] [REF] und Metaanalyse im Leitlinienreport).\n",
      "\n",
      "No Filter:\n"
     ]
    },
    {
     "data": {
      "text/html": [
       "<div>\n",
       "<style scoped>\n",
       "    .dataframe tbody tr th:only-of-type {\n",
       "        vertical-align: middle;\n",
       "    }\n",
       "\n",
       "    .dataframe tbody tr th {\n",
       "        vertical-align: top;\n",
       "    }\n",
       "\n",
       "    .dataframe thead th {\n",
       "        text-align: right;\n",
       "    }\n",
       "</style>\n",
       "<table border=\"1\" class=\"dataframe\">\n",
       "  <thead>\n",
       "    <tr style=\"text-align: right;\">\n",
       "      <th></th>\n",
       "      <th>document</th>\n",
       "      <th>text</th>\n",
       "      <th>type</th>\n",
       "      <th>start</th>\n",
       "      <th>end</th>\n",
       "      <th>cui</th>\n",
       "      <th>tuis</th>\n",
       "      <th>canonical</th>\n",
       "      <th>linker</th>\n",
       "      <th>confidence</th>\n",
       "    </tr>\n",
       "  </thead>\n",
       "  <tbody>\n",
       "    <tr>\n",
       "      <th>1</th>\n",
       "      <td>18_hodgkin-lymphom_0051_19</td>\n",
       "      <td>Dokumentation einer PET-Negativität nach zwei ...</td>\n",
       "      <td>Diagnostic</td>\n",
       "      <td>149</td>\n",
       "      <td>215</td>\n",
       "      <td>C0439619</td>\n",
       "      <td>[T079]</td>\n",
       "      <td>Two stage revision</td>\n",
       "      <td>[sapbert]</td>\n",
       "      <td>0.062827</td>\n",
       "    </tr>\n",
       "    <tr>\n",
       "      <th>2</th>\n",
       "      <td>18_hodgkin-lymphom_0051_19</td>\n",
       "      <td>Dokumentation einer PET-Negativität</td>\n",
       "      <td>Diagnostic</td>\n",
       "      <td>149</td>\n",
       "      <td>184</td>\n",
       "      <td>C0853546</td>\n",
       "      <td>[T033]</td>\n",
       "      <td>Positron emission tomogram abnormal</td>\n",
       "      <td>[sapbert]</td>\n",
       "      <td>0.064737</td>\n",
       "    </tr>\n",
       "    <tr>\n",
       "      <th>4</th>\n",
       "      <td>18_hodgkin-lymphom_0051_19</td>\n",
       "      <td>zwei bis drei Zyklen ABVD</td>\n",
       "      <td>Therapeutic</td>\n",
       "      <td>190</td>\n",
       "      <td>215</td>\n",
       "      <td>C0050380</td>\n",
       "      <td>[T061]</td>\n",
       "      <td>BLEO/DOX/DTIC/VBL</td>\n",
       "      <td>[sapbert]</td>\n",
       "      <td>0.066833</td>\n",
       "    </tr>\n",
       "  </tbody>\n",
       "</table>\n",
       "</div>"
      ],
      "text/plain": [
       "                     document  \\\n",
       "1  18_hodgkin-lymphom_0051_19   \n",
       "2  18_hodgkin-lymphom_0051_19   \n",
       "4  18_hodgkin-lymphom_0051_19   \n",
       "\n",
       "                                                text         type  start  end  \\\n",
       "1  Dokumentation einer PET-Negativität nach zwei ...   Diagnostic    149  215   \n",
       "2                Dokumentation einer PET-Negativität   Diagnostic    149  184   \n",
       "4                          zwei bis drei Zyklen ABVD  Therapeutic    190  215   \n",
       "\n",
       "        cui    tuis                            canonical     linker  \\\n",
       "1  C0439619  [T079]                   Two stage revision  [sapbert]   \n",
       "2  C0853546  [T033]  Positron emission tomogram abnormal  [sapbert]   \n",
       "4  C0050380  [T061]                    BLEO/DOX/DTIC/VBL  [sapbert]   \n",
       "\n",
       "   confidence  \n",
       "1    0.062827  \n",
       "2    0.064737  \n",
       "4    0.066833  "
      ]
     },
     "metadata": {},
     "output_type": "display_data"
    },
    {
     "name": "stdout",
     "output_type": "stream",
     "text": [
      "Filter:\n"
     ]
    },
    {
     "data": {
      "text/html": [
       "<div>\n",
       "<style scoped>\n",
       "    .dataframe tbody tr th:only-of-type {\n",
       "        vertical-align: middle;\n",
       "    }\n",
       "\n",
       "    .dataframe tbody tr th {\n",
       "        vertical-align: top;\n",
       "    }\n",
       "\n",
       "    .dataframe thead th {\n",
       "        text-align: right;\n",
       "    }\n",
       "</style>\n",
       "<table border=\"1\" class=\"dataframe\">\n",
       "  <thead>\n",
       "    <tr style=\"text-align: right;\">\n",
       "      <th></th>\n",
       "      <th>document</th>\n",
       "      <th>text</th>\n",
       "      <th>type</th>\n",
       "      <th>start</th>\n",
       "      <th>end</th>\n",
       "      <th>cui</th>\n",
       "      <th>tuis</th>\n",
       "      <th>canonical</th>\n",
       "      <th>linker</th>\n",
       "      <th>confidence</th>\n",
       "    </tr>\n",
       "  </thead>\n",
       "  <tbody>\n",
       "    <tr>\n",
       "      <th>1</th>\n",
       "      <td>18_hodgkin-lymphom_0051_19</td>\n",
       "      <td>Dokumentation einer PET-Negativität nach zwei ...</td>\n",
       "      <td>Diagnostic</td>\n",
       "      <td>149</td>\n",
       "      <td>215</td>\n",
       "      <td>C4085919</td>\n",
       "      <td>[T060]</td>\n",
       "      <td>4D PET Scan</td>\n",
       "      <td>[sapbert]</td>\n",
       "      <td>0.063313</td>\n",
       "    </tr>\n",
       "    <tr>\n",
       "      <th>2</th>\n",
       "      <td>18_hodgkin-lymphom_0051_19</td>\n",
       "      <td>Dokumentation einer PET-Negativität</td>\n",
       "      <td>Diagnostic</td>\n",
       "      <td>149</td>\n",
       "      <td>184</td>\n",
       "      <td>C0182349</td>\n",
       "      <td>[T074]</td>\n",
       "      <td>Positron emission tomography unit</td>\n",
       "      <td>[sapbert]</td>\n",
       "      <td>0.064357</td>\n",
       "    </tr>\n",
       "    <tr>\n",
       "      <th>4</th>\n",
       "      <td>18_hodgkin-lymphom_0051_19</td>\n",
       "      <td>zwei bis drei Zyklen ABVD</td>\n",
       "      <td>Therapeutic</td>\n",
       "      <td>190</td>\n",
       "      <td>215</td>\n",
       "      <td>C1741578</td>\n",
       "      <td>[T116, T123]</td>\n",
       "      <td>dual altered peptide ligand</td>\n",
       "      <td>[sapbert]</td>\n",
       "      <td>0.078018</td>\n",
       "    </tr>\n",
       "  </tbody>\n",
       "</table>\n",
       "</div>"
      ],
      "text/plain": [
       "                     document  \\\n",
       "1  18_hodgkin-lymphom_0051_19   \n",
       "2  18_hodgkin-lymphom_0051_19   \n",
       "4  18_hodgkin-lymphom_0051_19   \n",
       "\n",
       "                                                text         type  start  end  \\\n",
       "1  Dokumentation einer PET-Negativität nach zwei ...   Diagnostic    149  215   \n",
       "2                Dokumentation einer PET-Negativität   Diagnostic    149  184   \n",
       "4                          zwei bis drei Zyklen ABVD  Therapeutic    190  215   \n",
       "\n",
       "        cui          tuis                          canonical     linker  \\\n",
       "1  C4085919        [T060]                        4D PET Scan  [sapbert]   \n",
       "2  C0182349        [T074]  Positron emission tomography unit  [sapbert]   \n",
       "4  C1741578  [T116, T123]        dual altered peptide ligand  [sapbert]   \n",
       "\n",
       "   confidence  \n",
       "1    0.063313  \n",
       "2    0.064357  \n",
       "4    0.078018  "
      ]
     },
     "metadata": {},
     "output_type": "display_data"
    },
    {
     "name": "stdout",
     "output_type": "stream",
     "text": [
      "####\n"
     ]
    },
    {
     "data": {
      "application/vnd.jupyter.widget-view+json": {
       "model_id": "145481f9c2634a4b8e966bd99e4da298",
       "version_major": 2,
       "version_minor": 0
      },
      "text/plain": [
       "  0%|          | 0/1 [00:00<?, ?it/s]"
      ]
     },
     "metadata": {},
     "output_type": "display_data"
    },
    {
     "data": {
      "application/vnd.jupyter.widget-view+json": {
       "model_id": "74cadc4e1cc64dce917d8aaf36eb8ec5",
       "version_major": 2,
       "version_minor": 0
      },
      "text/plain": [
       "  0%|          | 0/1 [00:00<?, ?it/s]"
      ]
     },
     "metadata": {},
     "output_type": "display_data"
    },
    {
     "name": "stdout",
     "output_type": "stream",
     "text": [
      "Datenlage zum prädiktiven Wert einer positiven Interim-PET nach zwei/drei Zyklen ABVD\n",
      "\n",
      "No Filter:\n"
     ]
    },
    {
     "data": {
      "text/html": [
       "<div>\n",
       "<style scoped>\n",
       "    .dataframe tbody tr th:only-of-type {\n",
       "        vertical-align: middle;\n",
       "    }\n",
       "\n",
       "    .dataframe tbody tr th {\n",
       "        vertical-align: top;\n",
       "    }\n",
       "\n",
       "    .dataframe thead th {\n",
       "        text-align: right;\n",
       "    }\n",
       "</style>\n",
       "<table border=\"1\" class=\"dataframe\">\n",
       "  <thead>\n",
       "    <tr style=\"text-align: right;\">\n",
       "      <th></th>\n",
       "      <th>document</th>\n",
       "      <th>text</th>\n",
       "      <th>type</th>\n",
       "      <th>start</th>\n",
       "      <th>end</th>\n",
       "      <th>cui</th>\n",
       "      <th>tuis</th>\n",
       "      <th>canonical</th>\n",
       "      <th>linker</th>\n",
       "      <th>confidence</th>\n",
       "    </tr>\n",
       "  </thead>\n",
       "  <tbody>\n",
       "    <tr>\n",
       "      <th>1</th>\n",
       "      <td>18_hodgkin-lymphom_0051_20</td>\n",
       "      <td>zwei/drei Zyklen ABVD</td>\n",
       "      <td>Therapeutic</td>\n",
       "      <td>64</td>\n",
       "      <td>85</td>\n",
       "      <td>C0050380</td>\n",
       "      <td>[T061]</td>\n",
       "      <td>BLEO/DOX/DTIC/VBL</td>\n",
       "      <td>[sapbert]</td>\n",
       "      <td>0.065966</td>\n",
       "    </tr>\n",
       "  </tbody>\n",
       "</table>\n",
       "</div>"
      ],
      "text/plain": [
       "                     document                   text         type  start  end  \\\n",
       "1  18_hodgkin-lymphom_0051_20  zwei/drei Zyklen ABVD  Therapeutic     64   85   \n",
       "\n",
       "        cui    tuis          canonical     linker  confidence  \n",
       "1  C0050380  [T061]  BLEO/DOX/DTIC/VBL  [sapbert]    0.065966  "
      ]
     },
     "metadata": {},
     "output_type": "display_data"
    },
    {
     "name": "stdout",
     "output_type": "stream",
     "text": [
      "Filter:\n"
     ]
    },
    {
     "data": {
      "text/html": [
       "<div>\n",
       "<style scoped>\n",
       "    .dataframe tbody tr th:only-of-type {\n",
       "        vertical-align: middle;\n",
       "    }\n",
       "\n",
       "    .dataframe tbody tr th {\n",
       "        vertical-align: top;\n",
       "    }\n",
       "\n",
       "    .dataframe thead th {\n",
       "        text-align: right;\n",
       "    }\n",
       "</style>\n",
       "<table border=\"1\" class=\"dataframe\">\n",
       "  <thead>\n",
       "    <tr style=\"text-align: right;\">\n",
       "      <th></th>\n",
       "      <th>document</th>\n",
       "      <th>text</th>\n",
       "      <th>type</th>\n",
       "      <th>start</th>\n",
       "      <th>end</th>\n",
       "      <th>cui</th>\n",
       "      <th>tuis</th>\n",
       "      <th>canonical</th>\n",
       "      <th>linker</th>\n",
       "      <th>confidence</th>\n",
       "    </tr>\n",
       "  </thead>\n",
       "  <tbody>\n",
       "    <tr>\n",
       "      <th>1</th>\n",
       "      <td>18_hodgkin-lymphom_0051_20</td>\n",
       "      <td>zwei/drei Zyklen ABVD</td>\n",
       "      <td>Therapeutic</td>\n",
       "      <td>64</td>\n",
       "      <td>85</td>\n",
       "      <td>C1741578</td>\n",
       "      <td>[T116, T123]</td>\n",
       "      <td>dual altered peptide ligand</td>\n",
       "      <td>[sapbert]</td>\n",
       "      <td>0.066139</td>\n",
       "    </tr>\n",
       "  </tbody>\n",
       "</table>\n",
       "</div>"
      ],
      "text/plain": [
       "                     document                   text         type  start  end  \\\n",
       "1  18_hodgkin-lymphom_0051_20  zwei/drei Zyklen ABVD  Therapeutic     64   85   \n",
       "\n",
       "        cui          tuis                    canonical     linker  confidence  \n",
       "1  C1741578  [T116, T123]  dual altered peptide ligand  [sapbert]    0.066139  "
      ]
     },
     "metadata": {},
     "output_type": "display_data"
    },
    {
     "name": "stdout",
     "output_type": "stream",
     "text": [
      "####\n"
     ]
    },
    {
     "data": {
      "application/vnd.jupyter.widget-view+json": {
       "model_id": "083a96334cbe45aab9289b700b5ddff0",
       "version_major": 2,
       "version_minor": 0
      },
      "text/plain": [
       "  0%|          | 0/1 [00:00<?, ?it/s]"
      ]
     },
     "metadata": {},
     "output_type": "display_data"
    },
    {
     "data": {
      "application/vnd.jupyter.widget-view+json": {
       "model_id": "7d9fa43531264734bd65e650f82d8805",
       "version_major": 2,
       "version_minor": 0
      },
      "text/plain": [
       "  0%|          | 0/1 [00:00<?, ?it/s]"
      ]
     },
     "metadata": {},
     "output_type": "display_data"
    },
    {
     "data": {
      "application/vnd.jupyter.widget-view+json": {
       "model_id": "2371294f8bb240b6a6dce2f1dd624a3c",
       "version_major": 2,
       "version_minor": 0
      },
      "text/plain": [
       "  0%|          | 0/1 [00:00<?, ?it/s]"
      ]
     },
     "metadata": {},
     "output_type": "display_data"
    },
    {
     "data": {
      "application/vnd.jupyter.widget-view+json": {
       "model_id": "fd1c39122c3349be941c92d5f5b29cab",
       "version_major": 2,
       "version_minor": 0
      },
      "text/plain": [
       "  0%|          | 0/1 [00:00<?, ?it/s]"
      ]
     },
     "metadata": {},
     "output_type": "display_data"
    },
    {
     "data": {
      "application/vnd.jupyter.widget-view+json": {
       "model_id": "3b11a3e80586408c95929a22913d81f2",
       "version_major": 2,
       "version_minor": 0
      },
      "text/plain": [
       "  0%|          | 0/1 [00:00<?, ?it/s]"
      ]
     },
     "metadata": {},
     "output_type": "display_data"
    },
    {
     "data": {
      "application/vnd.jupyter.widget-view+json": {
       "model_id": "2ad72c1d415a4aa799de3a18620dbb1b",
       "version_major": 2,
       "version_minor": 0
      },
      "text/plain": [
       "  0%|          | 0/1 [00:00<?, ?it/s]"
      ]
     },
     "metadata": {},
     "output_type": "display_data"
    },
    {
     "data": {
      "application/vnd.jupyter.widget-view+json": {
       "model_id": "f690468d850a414180b958e37103a608",
       "version_major": 2,
       "version_minor": 0
      },
      "text/plain": [
       "  0%|          | 0/1 [00:00<?, ?it/s]"
      ]
     },
     "metadata": {},
     "output_type": "display_data"
    },
    {
     "data": {
      "application/vnd.jupyter.widget-view+json": {
       "model_id": "f426825b33474022b6d9fc67f4516908",
       "version_major": 2,
       "version_minor": 0
      },
      "text/plain": [
       "  0%|          | 0/1 [00:00<?, ?it/s]"
      ]
     },
     "metadata": {},
     "output_type": "display_data"
    },
    {
     "name": "stdout",
     "output_type": "stream",
     "text": [
      "Für die im experimentellen Arm behandelten PET-positiven Patienten wurde eine signifikant höhere 5-Jahres-PFS-Rate (90.6%, 95% CI 84.7% bis 94.3%) im Vergleich zu der im Standardarm behandelten PET-positiven Patienten (5-Jahres PFS 77.4%; 95%CI 70.4% bis 82.9%) dokumentiert [REF].\n",
      "\n",
      "No Filter:\n"
     ]
    },
    {
     "data": {
      "text/html": [
       "<div>\n",
       "<style scoped>\n",
       "    .dataframe tbody tr th:only-of-type {\n",
       "        vertical-align: middle;\n",
       "    }\n",
       "\n",
       "    .dataframe tbody tr th {\n",
       "        vertical-align: top;\n",
       "    }\n",
       "\n",
       "    .dataframe thead th {\n",
       "        text-align: right;\n",
       "    }\n",
       "</style>\n",
       "<table border=\"1\" class=\"dataframe\">\n",
       "  <thead>\n",
       "    <tr style=\"text-align: right;\">\n",
       "      <th></th>\n",
       "      <th>document</th>\n",
       "      <th>text</th>\n",
       "      <th>type</th>\n",
       "      <th>start</th>\n",
       "      <th>end</th>\n",
       "      <th>cui</th>\n",
       "      <th>tuis</th>\n",
       "      <th>canonical</th>\n",
       "      <th>linker</th>\n",
       "      <th>confidence</th>\n",
       "    </tr>\n",
       "  </thead>\n",
       "  <tbody>\n",
       "    <tr>\n",
       "      <th>1</th>\n",
       "      <td>18_hodgkin-lymphom_0051_24</td>\n",
       "      <td>5-Jahres-PFS-Rate</td>\n",
       "      <td>Other_Finding</td>\n",
       "      <td>97</td>\n",
       "      <td>114</td>\n",
       "      <td>C2936093</td>\n",
       "      <td>[T116]</td>\n",
       "      <td>l-phenylalanyl sarcosine</td>\n",
       "      <td>[sapbert]</td>\n",
       "      <td>0.093998</td>\n",
       "    </tr>\n",
       "  </tbody>\n",
       "</table>\n",
       "</div>"
      ],
      "text/plain": [
       "                     document               text           type  start  end  \\\n",
       "1  18_hodgkin-lymphom_0051_24  5-Jahres-PFS-Rate  Other_Finding     97  114   \n",
       "\n",
       "        cui    tuis                 canonical     linker  confidence  \n",
       "1  C2936093  [T116]  l-phenylalanyl sarcosine  [sapbert]    0.093998  "
      ]
     },
     "metadata": {},
     "output_type": "display_data"
    },
    {
     "name": "stdout",
     "output_type": "stream",
     "text": [
      "Filter:\n"
     ]
    },
    {
     "data": {
      "text/html": [
       "<div>\n",
       "<style scoped>\n",
       "    .dataframe tbody tr th:only-of-type {\n",
       "        vertical-align: middle;\n",
       "    }\n",
       "\n",
       "    .dataframe tbody tr th {\n",
       "        vertical-align: top;\n",
       "    }\n",
       "\n",
       "    .dataframe thead th {\n",
       "        text-align: right;\n",
       "    }\n",
       "</style>\n",
       "<table border=\"1\" class=\"dataframe\">\n",
       "  <thead>\n",
       "    <tr style=\"text-align: right;\">\n",
       "      <th></th>\n",
       "      <th>document</th>\n",
       "      <th>text</th>\n",
       "      <th>type</th>\n",
       "      <th>start</th>\n",
       "      <th>end</th>\n",
       "      <th>cui</th>\n",
       "      <th>tuis</th>\n",
       "      <th>canonical</th>\n",
       "      <th>linker</th>\n",
       "      <th>confidence</th>\n",
       "    </tr>\n",
       "  </thead>\n",
       "  <tbody>\n",
       "    <tr>\n",
       "      <th>1</th>\n",
       "      <td>18_hodgkin-lymphom_0051_24</td>\n",
       "      <td>5-Jahres-PFS-Rate</td>\n",
       "      <td>Other_Finding</td>\n",
       "      <td>97</td>\n",
       "      <td>114</td>\n",
       "      <td>C2933387</td>\n",
       "      <td>[T109]</td>\n",
       "      <td>poly(poly(ethylene glycol)methyl ether methacr...</td>\n",
       "      <td>[sapbert]</td>\n",
       "      <td>0.098485</td>\n",
       "    </tr>\n",
       "  </tbody>\n",
       "</table>\n",
       "</div>"
      ],
      "text/plain": [
       "                     document               text           type  start  end  \\\n",
       "1  18_hodgkin-lymphom_0051_24  5-Jahres-PFS-Rate  Other_Finding     97  114   \n",
       "\n",
       "        cui    tuis                                          canonical  \\\n",
       "1  C2933387  [T109]  poly(poly(ethylene glycol)methyl ether methacr...   \n",
       "\n",
       "      linker  confidence  \n",
       "1  [sapbert]    0.098485  "
      ]
     },
     "metadata": {},
     "output_type": "display_data"
    },
    {
     "name": "stdout",
     "output_type": "stream",
     "text": [
      "####\n"
     ]
    },
    {
     "data": {
      "application/vnd.jupyter.widget-view+json": {
       "model_id": "4e1b569fc7b846268e0707da0889efef",
       "version_major": 2,
       "version_minor": 0
      },
      "text/plain": [
       "  0%|          | 0/1 [00:00<?, ?it/s]"
      ]
     },
     "metadata": {},
     "output_type": "display_data"
    },
    {
     "data": {
      "application/vnd.jupyter.widget-view+json": {
       "model_id": "c42f5735cb184ce9a97456d9c3040264",
       "version_major": 2,
       "version_minor": 0
      },
      "text/plain": [
       "  0%|          | 0/1 [00:00<?, ?it/s]"
      ]
     },
     "metadata": {},
     "output_type": "display_data"
    },
    {
     "data": {
      "application/vnd.jupyter.widget-view+json": {
       "model_id": "e4634bcd8bfc4fc88b17004d13b3e9b2",
       "version_major": 2,
       "version_minor": 0
      },
      "text/plain": [
       "  0%|          | 0/1 [00:00<?, ?it/s]"
      ]
     },
     "metadata": {},
     "output_type": "display_data"
    },
    {
     "data": {
      "application/vnd.jupyter.widget-view+json": {
       "model_id": "59cd25904948418a800b5fd96c8955c5",
       "version_major": 2,
       "version_minor": 0
      },
      "text/plain": [
       "  0%|          | 0/1 [00:00<?, ?it/s]"
      ]
     },
     "metadata": {},
     "output_type": "display_data"
    },
    {
     "data": {
      "application/vnd.jupyter.widget-view+json": {
       "model_id": "fb9dc2ce17324a3ea6df2def92f90df2",
       "version_major": 2,
       "version_minor": 0
      },
      "text/plain": [
       "  0%|          | 0/1 [00:00<?, ?it/s]"
      ]
     },
     "metadata": {},
     "output_type": "display_data"
    },
    {
     "data": {
      "application/vnd.jupyter.widget-view+json": {
       "model_id": "d585b1db3cbe4332bb2e83923aaebcf5",
       "version_major": 2,
       "version_minor": 0
      },
      "text/plain": [
       "  0%|          | 0/1 [00:00<?, ?it/s]"
      ]
     },
     "metadata": {},
     "output_type": "display_data"
    },
    {
     "name": "stdout",
     "output_type": "stream",
     "text": [
      "Mit der angewandten Definition der PET-Positivität scheint daher keine ausreichende Differenzierung der Prognose der PET-negativen und PET-positiven Patienten möglich zu sein; die weiterführende Analyse der PET-positiven Patienten ergab, dass insbesondere für die Patienten mit einem Deauville-Score von 5 im Vergleich zu den Patienten mit einem Deauville-Score von 1-4 ein signifikant niedrigeres PFS und ES (5-Jahres PFS und -EFS jeweils 61.9%) und ein niedrigeres Gesamtüberleben (5-Jahres OS 85,2%; 95% CI, 69.7% bis 100% versus 97.8%, 95%CI, 96.4 bis 99.2%) zu dokumentieren war [REF].\n",
      "\n",
      "No Filter:\n"
     ]
    },
    {
     "data": {
      "text/html": [
       "<div>\n",
       "<style scoped>\n",
       "    .dataframe tbody tr th:only-of-type {\n",
       "        vertical-align: middle;\n",
       "    }\n",
       "\n",
       "    .dataframe tbody tr th {\n",
       "        vertical-align: top;\n",
       "    }\n",
       "\n",
       "    .dataframe thead th {\n",
       "        text-align: right;\n",
       "    }\n",
       "</style>\n",
       "<table border=\"1\" class=\"dataframe\">\n",
       "  <thead>\n",
       "    <tr style=\"text-align: right;\">\n",
       "      <th></th>\n",
       "      <th>document</th>\n",
       "      <th>text</th>\n",
       "      <th>type</th>\n",
       "      <th>start</th>\n",
       "      <th>end</th>\n",
       "      <th>cui</th>\n",
       "      <th>tuis</th>\n",
       "      <th>canonical</th>\n",
       "      <th>linker</th>\n",
       "      <th>confidence</th>\n",
       "    </tr>\n",
       "  </thead>\n",
       "  <tbody>\n",
       "    <tr>\n",
       "      <th>7</th>\n",
       "      <td>18_hodgkin-lymphom_0051_27</td>\n",
       "      <td>-EFS</td>\n",
       "      <td>Other_Finding</td>\n",
       "      <td>427</td>\n",
       "      <td>431</td>\n",
       "      <td>C4724032</td>\n",
       "      <td>[T170]</td>\n",
       "      <td>EFS</td>\n",
       "      <td>[ngram, sapbert]</td>\n",
       "      <td>0.074262</td>\n",
       "    </tr>\n",
       "  </tbody>\n",
       "</table>\n",
       "</div>"
      ],
      "text/plain": [
       "                     document  text           type  start  end       cui  \\\n",
       "7  18_hodgkin-lymphom_0051_27  -EFS  Other_Finding    427  431  C4724032   \n",
       "\n",
       "     tuis canonical            linker  confidence  \n",
       "7  [T170]       EFS  [ngram, sapbert]    0.074262  "
      ]
     },
     "metadata": {},
     "output_type": "display_data"
    },
    {
     "name": "stdout",
     "output_type": "stream",
     "text": [
      "Filter:\n"
     ]
    },
    {
     "data": {
      "text/html": [
       "<div>\n",
       "<style scoped>\n",
       "    .dataframe tbody tr th:only-of-type {\n",
       "        vertical-align: middle;\n",
       "    }\n",
       "\n",
       "    .dataframe tbody tr th {\n",
       "        vertical-align: top;\n",
       "    }\n",
       "\n",
       "    .dataframe thead th {\n",
       "        text-align: right;\n",
       "    }\n",
       "</style>\n",
       "<table border=\"1\" class=\"dataframe\">\n",
       "  <thead>\n",
       "    <tr style=\"text-align: right;\">\n",
       "      <th></th>\n",
       "      <th>document</th>\n",
       "      <th>text</th>\n",
       "      <th>type</th>\n",
       "      <th>start</th>\n",
       "      <th>end</th>\n",
       "      <th>cui</th>\n",
       "      <th>tuis</th>\n",
       "      <th>canonical</th>\n",
       "      <th>linker</th>\n",
       "      <th>confidence</th>\n",
       "    </tr>\n",
       "  </thead>\n",
       "  <tbody>\n",
       "    <tr>\n",
       "      <th>7</th>\n",
       "      <td>18_hodgkin-lymphom_0051_27</td>\n",
       "      <td>-EFS</td>\n",
       "      <td>Other_Finding</td>\n",
       "      <td>427</td>\n",
       "      <td>431</td>\n",
       "      <td>C4045375</td>\n",
       "      <td>[T109]</td>\n",
       "      <td>1-fluoro-1-(phenylsulfonyl)ethylene</td>\n",
       "      <td>[sapbert]</td>\n",
       "      <td>0.076742</td>\n",
       "    </tr>\n",
       "  </tbody>\n",
       "</table>\n",
       "</div>"
      ],
      "text/plain": [
       "                     document  text           type  start  end       cui  \\\n",
       "7  18_hodgkin-lymphom_0051_27  -EFS  Other_Finding    427  431  C4045375   \n",
       "\n",
       "     tuis                            canonical     linker  confidence  \n",
       "7  [T109]  1-fluoro-1-(phenylsulfonyl)ethylene  [sapbert]    0.076742  "
      ]
     },
     "metadata": {},
     "output_type": "display_data"
    },
    {
     "name": "stdout",
     "output_type": "stream",
     "text": [
      "####\n"
     ]
    },
    {
     "data": {
      "application/vnd.jupyter.widget-view+json": {
       "model_id": "efb0f766875647f4b1795afa69e6bbcf",
       "version_major": 2,
       "version_minor": 0
      },
      "text/plain": [
       "  0%|          | 0/1 [00:00<?, ?it/s]"
      ]
     },
     "metadata": {},
     "output_type": "display_data"
    },
    {
     "data": {
      "application/vnd.jupyter.widget-view+json": {
       "model_id": "92971ff37ab34308847a9e5c61367fa8",
       "version_major": 2,
       "version_minor": 0
      },
      "text/plain": [
       "  0%|          | 0/1 [00:00<?, ?it/s]"
      ]
     },
     "metadata": {},
     "output_type": "display_data"
    },
    {
     "data": {
      "application/vnd.jupyter.widget-view+json": {
       "model_id": "df4daa33a31948919b59828bb205a46e",
       "version_major": 2,
       "version_minor": 0
      },
      "text/plain": [
       "  0%|          | 0/1 [00:00<?, ?it/s]"
      ]
     },
     "metadata": {},
     "output_type": "display_data"
    },
    {
     "data": {
      "application/vnd.jupyter.widget-view+json": {
       "model_id": "d83059f2237e41298ec2e7b2f233672a",
       "version_major": 2,
       "version_minor": 0
      },
      "text/plain": [
       "  0%|          | 0/1 [00:00<?, ?it/s]"
      ]
     },
     "metadata": {},
     "output_type": "display_data"
    },
    {
     "data": {
      "application/vnd.jupyter.widget-view+json": {
       "model_id": "f86632ad23a94f72abbeee0906976fc5",
       "version_major": 2,
       "version_minor": 0
      },
      "text/plain": [
       "  0%|          | 0/1 [00:00<?, ?it/s]"
      ]
     },
     "metadata": {},
     "output_type": "display_data"
    },
    {
     "data": {
      "application/vnd.jupyter.widget-view+json": {
       "model_id": "5cbafa82b8224782b63d00f212873c32",
       "version_major": 2,
       "version_minor": 0
      },
      "text/plain": [
       "  0%|          | 0/1 [00:00<?, ?it/s]"
      ]
     },
     "metadata": {},
     "output_type": "display_data"
    },
    {
     "name": "stdout",
     "output_type": "stream",
     "text": [
      "Die Ergebnisse der H10F-, RAPID- und der HD16- Studie unterstützen daher die Hypothese des prognostischen Werts einer positiven PET-CT nach zwei bis drei Zyklen ABVD, d.h. einer signifikant schlechteren Prognose der Patienten mit einer positiven Interim-PET, insbesondere bei Vorliegen eines Deauville-Scores von 4-5.\n",
      "\n",
      "No Filter:\n"
     ]
    },
    {
     "data": {
      "text/html": [
       "<div>\n",
       "<style scoped>\n",
       "    .dataframe tbody tr th:only-of-type {\n",
       "        vertical-align: middle;\n",
       "    }\n",
       "\n",
       "    .dataframe tbody tr th {\n",
       "        vertical-align: top;\n",
       "    }\n",
       "\n",
       "    .dataframe thead th {\n",
       "        text-align: right;\n",
       "    }\n",
       "</style>\n",
       "<table border=\"1\" class=\"dataframe\">\n",
       "  <thead>\n",
       "    <tr style=\"text-align: right;\">\n",
       "      <th></th>\n",
       "      <th>document</th>\n",
       "      <th>text</th>\n",
       "      <th>type</th>\n",
       "      <th>start</th>\n",
       "      <th>end</th>\n",
       "      <th>cui</th>\n",
       "      <th>tuis</th>\n",
       "      <th>canonical</th>\n",
       "      <th>linker</th>\n",
       "      <th>confidence</th>\n",
       "    </tr>\n",
       "  </thead>\n",
       "  <tbody>\n",
       "    <tr>\n",
       "      <th>1</th>\n",
       "      <td>18_hodgkin-lymphom_0051_30</td>\n",
       "      <td>zwei bis drei Zyklen ABVD</td>\n",
       "      <td>Therapeutic</td>\n",
       "      <td>140</td>\n",
       "      <td>165</td>\n",
       "      <td>C0050380</td>\n",
       "      <td>[T061]</td>\n",
       "      <td>BLEO/DOX/DTIC/VBL</td>\n",
       "      <td>[sapbert]</td>\n",
       "      <td>0.065995</td>\n",
       "    </tr>\n",
       "  </tbody>\n",
       "</table>\n",
       "</div>"
      ],
      "text/plain": [
       "                     document                       text         type  start  \\\n",
       "1  18_hodgkin-lymphom_0051_30  zwei bis drei Zyklen ABVD  Therapeutic    140   \n",
       "\n",
       "   end       cui    tuis          canonical     linker  confidence  \n",
       "1  165  C0050380  [T061]  BLEO/DOX/DTIC/VBL  [sapbert]    0.065995  "
      ]
     },
     "metadata": {},
     "output_type": "display_data"
    },
    {
     "name": "stdout",
     "output_type": "stream",
     "text": [
      "Filter:\n"
     ]
    },
    {
     "data": {
      "text/html": [
       "<div>\n",
       "<style scoped>\n",
       "    .dataframe tbody tr th:only-of-type {\n",
       "        vertical-align: middle;\n",
       "    }\n",
       "\n",
       "    .dataframe tbody tr th {\n",
       "        vertical-align: top;\n",
       "    }\n",
       "\n",
       "    .dataframe thead th {\n",
       "        text-align: right;\n",
       "    }\n",
       "</style>\n",
       "<table border=\"1\" class=\"dataframe\">\n",
       "  <thead>\n",
       "    <tr style=\"text-align: right;\">\n",
       "      <th></th>\n",
       "      <th>document</th>\n",
       "      <th>text</th>\n",
       "      <th>type</th>\n",
       "      <th>start</th>\n",
       "      <th>end</th>\n",
       "      <th>cui</th>\n",
       "      <th>tuis</th>\n",
       "      <th>canonical</th>\n",
       "      <th>linker</th>\n",
       "      <th>confidence</th>\n",
       "    </tr>\n",
       "  </thead>\n",
       "  <tbody>\n",
       "    <tr>\n",
       "      <th>1</th>\n",
       "      <td>18_hodgkin-lymphom_0051_30</td>\n",
       "      <td>zwei bis drei Zyklen ABVD</td>\n",
       "      <td>Therapeutic</td>\n",
       "      <td>140</td>\n",
       "      <td>165</td>\n",
       "      <td>C1741578</td>\n",
       "      <td>[T116, T123]</td>\n",
       "      <td>dual altered peptide ligand</td>\n",
       "      <td>[sapbert]</td>\n",
       "      <td>0.0733</td>\n",
       "    </tr>\n",
       "  </tbody>\n",
       "</table>\n",
       "</div>"
      ],
      "text/plain": [
       "                     document                       text         type  start  \\\n",
       "1  18_hodgkin-lymphom_0051_30  zwei bis drei Zyklen ABVD  Therapeutic    140   \n",
       "\n",
       "   end       cui          tuis                    canonical     linker  \\\n",
       "1  165  C1741578  [T116, T123]  dual altered peptide ligand  [sapbert]   \n",
       "\n",
       "   confidence  \n",
       "1      0.0733  "
      ]
     },
     "metadata": {},
     "output_type": "display_data"
    },
    {
     "name": "stdout",
     "output_type": "stream",
     "text": [
      "####\n"
     ]
    },
    {
     "data": {
      "application/vnd.jupyter.widget-view+json": {
       "model_id": "567ce118b4d34bd1bf27706c0df1a2aa",
       "version_major": 2,
       "version_minor": 0
      },
      "text/plain": [
       "  0%|          | 0/1 [00:00<?, ?it/s]"
      ]
     },
     "metadata": {},
     "output_type": "display_data"
    },
    {
     "data": {
      "application/vnd.jupyter.widget-view+json": {
       "model_id": "f4887222025b455eba5f11b271383299",
       "version_major": 2,
       "version_minor": 0
      },
      "text/plain": [
       "  0%|          | 0/1 [00:00<?, ?it/s]"
      ]
     },
     "metadata": {},
     "output_type": "display_data"
    },
    {
     "data": {
      "application/vnd.jupyter.widget-view+json": {
       "model_id": "9dd46dfdebcc4898b17be34cbaa512f7",
       "version_major": 2,
       "version_minor": 0
      },
      "text/plain": [
       "  0%|          | 0/1 [00:00<?, ?it/s]"
      ]
     },
     "metadata": {},
     "output_type": "display_data"
    },
    {
     "data": {
      "application/vnd.jupyter.widget-view+json": {
       "model_id": "cff4374262a74351a6230a4dc293dd5a",
       "version_major": 2,
       "version_minor": 0
      },
      "text/plain": [
       "  0%|          | 0/1 [00:00<?, ?it/s]"
      ]
     },
     "metadata": {},
     "output_type": "display_data"
    },
    {
     "data": {
      "application/vnd.jupyter.widget-view+json": {
       "model_id": "4cc2d106ed984855864d7175eb87edfa",
       "version_major": 2,
       "version_minor": 0
      },
      "text/plain": [
       "  0%|          | 0/1 [00:00<?, ?it/s]"
      ]
     },
     "metadata": {},
     "output_type": "display_data"
    },
    {
     "data": {
      "application/vnd.jupyter.widget-view+json": {
       "model_id": "2df74e3c9ab74643a4c92160e84ab04d",
       "version_major": 2,
       "version_minor": 0
      },
      "text/plain": [
       "  0%|          | 0/1 [00:00<?, ?it/s]"
      ]
     },
     "metadata": {},
     "output_type": "display_data"
    },
    {
     "name": "stdout",
     "output_type": "stream",
     "text": [
      "Im Hinblick darauf, dass in der HD16-Studie für die Patienten mit einer positiven Interim-PET ein signifikant niedrigeres PFS dokumentiert wurde und das der PFS-Unterschied besonders deutlich bei Vorliegen eines Deauville-Score von 4-5 war, sollte die Option einer Therapieeskalation in Form von zwei Zyklen BEACOPPeskaliert analog der H10F-Studie vor der konsolidierenden Strahlentherapie bei den Patienten mit einem positiven PET Ergebnis mit einem Deauville-Score von 4-5 nach zwei Zyklen ABVD individuell erwogen werden.\n",
      "\n",
      "No Filter:\n"
     ]
    },
    {
     "data": {
      "text/html": [
       "<div>\n",
       "<style scoped>\n",
       "    .dataframe tbody tr th:only-of-type {\n",
       "        vertical-align: middle;\n",
       "    }\n",
       "\n",
       "    .dataframe tbody tr th {\n",
       "        vertical-align: top;\n",
       "    }\n",
       "\n",
       "    .dataframe thead th {\n",
       "        text-align: right;\n",
       "    }\n",
       "</style>\n",
       "<table border=\"1\" class=\"dataframe\">\n",
       "  <thead>\n",
       "    <tr style=\"text-align: right;\">\n",
       "      <th></th>\n",
       "      <th>document</th>\n",
       "      <th>text</th>\n",
       "      <th>type</th>\n",
       "      <th>start</th>\n",
       "      <th>end</th>\n",
       "      <th>cui</th>\n",
       "      <th>tuis</th>\n",
       "      <th>canonical</th>\n",
       "      <th>linker</th>\n",
       "      <th>confidence</th>\n",
       "    </tr>\n",
       "  </thead>\n",
       "  <tbody>\n",
       "    <tr>\n",
       "      <th>4</th>\n",
       "      <td>18_hodgkin-lymphom_0051_33</td>\n",
       "      <td>Therapieeskalation in Form von zwei Zyklen BEA...</td>\n",
       "      <td>Therapeutic</td>\n",
       "      <td>265</td>\n",
       "      <td>324</td>\n",
       "      <td>C1276295</td>\n",
       "      <td>[T033]</td>\n",
       "      <td>Two field external beam radiation therapy</td>\n",
       "      <td>[sapbert]</td>\n",
       "      <td>0.062934</td>\n",
       "    </tr>\n",
       "    <tr>\n",
       "      <th>6</th>\n",
       "      <td>18_hodgkin-lymphom_0051_33</td>\n",
       "      <td>positiven PET Ergebnis</td>\n",
       "      <td>Diagnosis_or_Pathology</td>\n",
       "      <td>418</td>\n",
       "      <td>440</td>\n",
       "      <td>C5555404</td>\n",
       "      <td>[T096]</td>\n",
       "      <td>Positive Biospecimen</td>\n",
       "      <td>[sapbert]</td>\n",
       "      <td>0.063872</td>\n",
       "    </tr>\n",
       "  </tbody>\n",
       "</table>\n",
       "</div>"
      ],
      "text/plain": [
       "                     document  \\\n",
       "4  18_hodgkin-lymphom_0051_33   \n",
       "6  18_hodgkin-lymphom_0051_33   \n",
       "\n",
       "                                                text                    type  \\\n",
       "4  Therapieeskalation in Form von zwei Zyklen BEA...             Therapeutic   \n",
       "6                             positiven PET Ergebnis  Diagnosis_or_Pathology   \n",
       "\n",
       "   start  end       cui    tuis                                  canonical  \\\n",
       "4    265  324  C1276295  [T033]  Two field external beam radiation therapy   \n",
       "6    418  440  C5555404  [T096]                       Positive Biospecimen   \n",
       "\n",
       "      linker  confidence  \n",
       "4  [sapbert]    0.062934  \n",
       "6  [sapbert]    0.063872  "
      ]
     },
     "metadata": {},
     "output_type": "display_data"
    },
    {
     "name": "stdout",
     "output_type": "stream",
     "text": [
      "Filter:\n"
     ]
    },
    {
     "data": {
      "text/html": [
       "<div>\n",
       "<style scoped>\n",
       "    .dataframe tbody tr th:only-of-type {\n",
       "        vertical-align: middle;\n",
       "    }\n",
       "\n",
       "    .dataframe tbody tr th {\n",
       "        vertical-align: top;\n",
       "    }\n",
       "\n",
       "    .dataframe thead th {\n",
       "        text-align: right;\n",
       "    }\n",
       "</style>\n",
       "<table border=\"1\" class=\"dataframe\">\n",
       "  <thead>\n",
       "    <tr style=\"text-align: right;\">\n",
       "      <th></th>\n",
       "      <th>document</th>\n",
       "      <th>text</th>\n",
       "      <th>type</th>\n",
       "      <th>start</th>\n",
       "      <th>end</th>\n",
       "      <th>cui</th>\n",
       "      <th>tuis</th>\n",
       "      <th>canonical</th>\n",
       "      <th>linker</th>\n",
       "      <th>confidence</th>\n",
       "    </tr>\n",
       "  </thead>\n",
       "  <tbody>\n",
       "    <tr>\n",
       "      <th>4</th>\n",
       "      <td>18_hodgkin-lymphom_0051_33</td>\n",
       "      <td>Therapieeskalation in Form von zwei Zyklen BEA...</td>\n",
       "      <td>Therapeutic</td>\n",
       "      <td>265</td>\n",
       "      <td>324</td>\n",
       "      <td>C0397344</td>\n",
       "      <td>[T061]</td>\n",
       "      <td>Arterial Switch Operation</td>\n",
       "      <td>[sapbert]</td>\n",
       "      <td>0.062876</td>\n",
       "    </tr>\n",
       "    <tr>\n",
       "      <th>6</th>\n",
       "      <td>18_hodgkin-lymphom_0051_33</td>\n",
       "      <td>positiven PET Ergebnis</td>\n",
       "      <td>Diagnosis_or_Pathology</td>\n",
       "      <td>418</td>\n",
       "      <td>440</td>\n",
       "      <td>C2939040</td>\n",
       "      <td>[T034]</td>\n",
       "      <td>False positive investigation result</td>\n",
       "      <td>[sapbert]</td>\n",
       "      <td>0.063510</td>\n",
       "    </tr>\n",
       "  </tbody>\n",
       "</table>\n",
       "</div>"
      ],
      "text/plain": [
       "                     document  \\\n",
       "4  18_hodgkin-lymphom_0051_33   \n",
       "6  18_hodgkin-lymphom_0051_33   \n",
       "\n",
       "                                                text                    type  \\\n",
       "4  Therapieeskalation in Form von zwei Zyklen BEA...             Therapeutic   \n",
       "6                             positiven PET Ergebnis  Diagnosis_or_Pathology   \n",
       "\n",
       "   start  end       cui    tuis                            canonical  \\\n",
       "4    265  324  C0397344  [T061]            Arterial Switch Operation   \n",
       "6    418  440  C2939040  [T034]  False positive investigation result   \n",
       "\n",
       "      linker  confidence  \n",
       "4  [sapbert]    0.062876  \n",
       "6  [sapbert]    0.063510  "
      ]
     },
     "metadata": {},
     "output_type": "display_data"
    },
    {
     "name": "stdout",
     "output_type": "stream",
     "text": [
      "####\n"
     ]
    },
    {
     "data": {
      "application/vnd.jupyter.widget-view+json": {
       "model_id": "5ae21fe238f242ee9e39ade86b771453",
       "version_major": 2,
       "version_minor": 0
      },
      "text/plain": [
       "  0%|          | 0/1 [00:00<?, ?it/s]"
      ]
     },
     "metadata": {},
     "output_type": "display_data"
    },
    {
     "data": {
      "application/vnd.jupyter.widget-view+json": {
       "model_id": "be2aad90bad74cfdaf20ebb35eb29fde",
       "version_major": 2,
       "version_minor": 0
      },
      "text/plain": [
       "  0%|          | 0/1 [00:00<?, ?it/s]"
      ]
     },
     "metadata": {},
     "output_type": "display_data"
    },
    {
     "data": {
      "application/vnd.jupyter.widget-view+json": {
       "model_id": "bd2fa549a0dd4e6aad502282d8b36f30",
       "version_major": 2,
       "version_minor": 0
      },
      "text/plain": [
       "  0%|          | 0/1 [00:00<?, ?it/s]"
      ]
     },
     "metadata": {},
     "output_type": "display_data"
    },
    {
     "data": {
      "application/vnd.jupyter.widget-view+json": {
       "model_id": "bc392976374348c7bdeefb43e961c8e5",
       "version_major": 2,
       "version_minor": 0
      },
      "text/plain": [
       "  0%|          | 0/1 [00:00<?, ?it/s]"
      ]
     },
     "metadata": {},
     "output_type": "display_data"
    },
    {
     "data": {
      "application/vnd.jupyter.widget-view+json": {
       "model_id": "ec60f56982f84efb8b3bab85175ed5b0",
       "version_major": 2,
       "version_minor": 0
      },
      "text/plain": [
       "  0%|          | 0/1 [00:00<?, ?it/s]"
      ]
     },
     "metadata": {},
     "output_type": "display_data"
    },
    {
     "data": {
      "application/vnd.jupyter.widget-view+json": {
       "model_id": "264c8d6e4c6e4108bb907258c3ddc58e",
       "version_major": 2,
       "version_minor": 0
      },
      "text/plain": [
       "  0%|          | 0/1 [00:00<?, ?it/s]"
      ]
     },
     "metadata": {},
     "output_type": "display_data"
    },
    {
     "name": "stdout",
     "output_type": "stream",
     "text": [
      "In retrospektiven bzw. in Kohortenanalysen konnte gezeigt werden, dass insbesondere bei Frauen bis zu einem Alter von 29 Jahren zum Zeitpunkt der Therapie des Hodgkin Lymphoms ein gegenüber der Normalbevölkerung deutlich erhöhtes Risiko der Entwicklung eines sekundären Mamma-Karzinoms vorliegt und, dass das Risiko mit zunehmendem Alter zum Zeitpunkt der Hodgkin-Lymphom-Diagnose abnimmt [REF].\n",
      "\n",
      "No Filter:\n"
     ]
    },
    {
     "data": {
      "text/html": [
       "<div>\n",
       "<style scoped>\n",
       "    .dataframe tbody tr th:only-of-type {\n",
       "        vertical-align: middle;\n",
       "    }\n",
       "\n",
       "    .dataframe tbody tr th {\n",
       "        vertical-align: top;\n",
       "    }\n",
       "\n",
       "    .dataframe thead th {\n",
       "        text-align: right;\n",
       "    }\n",
       "</style>\n",
       "<table border=\"1\" class=\"dataframe\">\n",
       "  <thead>\n",
       "    <tr style=\"text-align: right;\">\n",
       "      <th></th>\n",
       "      <th>document</th>\n",
       "      <th>text</th>\n",
       "      <th>type</th>\n",
       "      <th>start</th>\n",
       "      <th>end</th>\n",
       "      <th>cui</th>\n",
       "      <th>tuis</th>\n",
       "      <th>canonical</th>\n",
       "      <th>linker</th>\n",
       "      <th>confidence</th>\n",
       "    </tr>\n",
       "  </thead>\n",
       "  <tbody>\n",
       "    <tr>\n",
       "      <th>1</th>\n",
       "      <td>18_hodgkin-lymphom_0051_36</td>\n",
       "      <td>Therapie des Hodgkin Lymphoms</td>\n",
       "      <td>Therapeutic</td>\n",
       "      <td>146</td>\n",
       "      <td>175</td>\n",
       "      <td>C0019829</td>\n",
       "      <td>[T191]</td>\n",
       "      <td>Hodgkin-Krankheit</td>\n",
       "      <td>[ngram, sapbert]</td>\n",
       "      <td>0.071369</td>\n",
       "    </tr>\n",
       "  </tbody>\n",
       "</table>\n",
       "</div>"
      ],
      "text/plain": [
       "                     document                           text         type  \\\n",
       "1  18_hodgkin-lymphom_0051_36  Therapie des Hodgkin Lymphoms  Therapeutic   \n",
       "\n",
       "   start  end       cui    tuis          canonical            linker  \\\n",
       "1    146  175  C0019829  [T191]  Hodgkin-Krankheit  [ngram, sapbert]   \n",
       "\n",
       "   confidence  \n",
       "1    0.071369  "
      ]
     },
     "metadata": {},
     "output_type": "display_data"
    },
    {
     "name": "stdout",
     "output_type": "stream",
     "text": [
      "Filter:\n"
     ]
    },
    {
     "data": {
      "text/html": [
       "<div>\n",
       "<style scoped>\n",
       "    .dataframe tbody tr th:only-of-type {\n",
       "        vertical-align: middle;\n",
       "    }\n",
       "\n",
       "    .dataframe tbody tr th {\n",
       "        vertical-align: top;\n",
       "    }\n",
       "\n",
       "    .dataframe thead th {\n",
       "        text-align: right;\n",
       "    }\n",
       "</style>\n",
       "<table border=\"1\" class=\"dataframe\">\n",
       "  <thead>\n",
       "    <tr style=\"text-align: right;\">\n",
       "      <th></th>\n",
       "      <th>document</th>\n",
       "      <th>text</th>\n",
       "      <th>type</th>\n",
       "      <th>start</th>\n",
       "      <th>end</th>\n",
       "      <th>cui</th>\n",
       "      <th>tuis</th>\n",
       "      <th>canonical</th>\n",
       "      <th>linker</th>\n",
       "      <th>confidence</th>\n",
       "    </tr>\n",
       "  </thead>\n",
       "  <tbody>\n",
       "    <tr>\n",
       "      <th>1</th>\n",
       "      <td>18_hodgkin-lymphom_0051_36</td>\n",
       "      <td>Therapie des Hodgkin Lymphoms</td>\n",
       "      <td>Therapeutic</td>\n",
       "      <td>146</td>\n",
       "      <td>175</td>\n",
       "      <td>C5557287</td>\n",
       "      <td>[T170]</td>\n",
       "      <td>HL Project Terminology</td>\n",
       "      <td>[ngram, sapbert]</td>\n",
       "      <td>0.349378</td>\n",
       "    </tr>\n",
       "  </tbody>\n",
       "</table>\n",
       "</div>"
      ],
      "text/plain": [
       "                     document                           text         type  \\\n",
       "1  18_hodgkin-lymphom_0051_36  Therapie des Hodgkin Lymphoms  Therapeutic   \n",
       "\n",
       "   start  end       cui    tuis               canonical            linker  \\\n",
       "1    146  175  C5557287  [T170]  HL Project Terminology  [ngram, sapbert]   \n",
       "\n",
       "   confidence  \n",
       "1    0.349378  "
      ]
     },
     "metadata": {},
     "output_type": "display_data"
    },
    {
     "name": "stdout",
     "output_type": "stream",
     "text": [
      "####\n"
     ]
    },
    {
     "data": {
      "application/vnd.jupyter.widget-view+json": {
       "model_id": "9e0e5d81f99b4691ba8a6cd8850754e7",
       "version_major": 2,
       "version_minor": 0
      },
      "text/plain": [
       "  0%|          | 0/1 [00:00<?, ?it/s]"
      ]
     },
     "metadata": {},
     "output_type": "display_data"
    },
    {
     "data": {
      "application/vnd.jupyter.widget-view+json": {
       "model_id": "a28ad6420a3f4edeba358dd1e61ac448",
       "version_major": 2,
       "version_minor": 0
      },
      "text/plain": [
       "  0%|          | 0/1 [00:00<?, ?it/s]"
      ]
     },
     "metadata": {},
     "output_type": "display_data"
    },
    {
     "data": {
      "application/vnd.jupyter.widget-view+json": {
       "model_id": "39bacccba68c499283b4e04b07c598b5",
       "version_major": 2,
       "version_minor": 0
      },
      "text/plain": [
       "  0%|          | 0/1 [00:00<?, ?it/s]"
      ]
     },
     "metadata": {},
     "output_type": "display_data"
    },
    {
     "data": {
      "application/vnd.jupyter.widget-view+json": {
       "model_id": "662ee8041c3a47acbd15f1a8a1726244",
       "version_major": 2,
       "version_minor": 0
      },
      "text/plain": [
       "  0%|          | 0/1 [00:00<?, ?it/s]"
      ]
     },
     "metadata": {},
     "output_type": "display_data"
    },
    {
     "name": "stdout",
     "output_type": "stream",
     "text": [
      "Sollte aufgrund des Vorliegens einer positiven PET/CT oder unabhängig vom PET/CT-Befund die Entscheidung zur konsolidierenden Strahlentherapie gefällt werden, sollten- wie in Abschnitt 11.2 beschrieben- frühzeitig intensivierte Vorsorgeuntersuchungen erfolgen.\n",
      "\n",
      "No Filter:\n"
     ]
    },
    {
     "data": {
      "text/html": [
       "<div>\n",
       "<style scoped>\n",
       "    .dataframe tbody tr th:only-of-type {\n",
       "        vertical-align: middle;\n",
       "    }\n",
       "\n",
       "    .dataframe tbody tr th {\n",
       "        vertical-align: top;\n",
       "    }\n",
       "\n",
       "    .dataframe thead th {\n",
       "        text-align: right;\n",
       "    }\n",
       "</style>\n",
       "<table border=\"1\" class=\"dataframe\">\n",
       "  <thead>\n",
       "    <tr style=\"text-align: right;\">\n",
       "      <th></th>\n",
       "      <th>document</th>\n",
       "      <th>text</th>\n",
       "      <th>type</th>\n",
       "      <th>start</th>\n",
       "      <th>end</th>\n",
       "      <th>cui</th>\n",
       "      <th>tuis</th>\n",
       "      <th>canonical</th>\n",
       "      <th>linker</th>\n",
       "      <th>confidence</th>\n",
       "    </tr>\n",
       "  </thead>\n",
       "  <tbody>\n",
       "    <tr>\n",
       "      <th>3</th>\n",
       "      <td>18_hodgkin-lymphom_0051_38</td>\n",
       "      <td>frühzeitig intensivierte Vorsorgeuntersuchungen</td>\n",
       "      <td>Diagnostic</td>\n",
       "      <td>203</td>\n",
       "      <td>250</td>\n",
       "      <td>C5197888</td>\n",
       "      <td>[T058]</td>\n",
       "      <td>Early Warning Score</td>\n",
       "      <td>[sapbert]</td>\n",
       "      <td>0.063525</td>\n",
       "    </tr>\n",
       "  </tbody>\n",
       "</table>\n",
       "</div>"
      ],
      "text/plain": [
       "                     document  \\\n",
       "3  18_hodgkin-lymphom_0051_38   \n",
       "\n",
       "                                              text        type  start  end  \\\n",
       "3  frühzeitig intensivierte Vorsorgeuntersuchungen  Diagnostic    203  250   \n",
       "\n",
       "        cui    tuis            canonical     linker  confidence  \n",
       "3  C5197888  [T058]  Early Warning Score  [sapbert]    0.063525  "
      ]
     },
     "metadata": {},
     "output_type": "display_data"
    },
    {
     "name": "stdout",
     "output_type": "stream",
     "text": [
      "Filter:\n"
     ]
    },
    {
     "data": {
      "text/html": [
       "<div>\n",
       "<style scoped>\n",
       "    .dataframe tbody tr th:only-of-type {\n",
       "        vertical-align: middle;\n",
       "    }\n",
       "\n",
       "    .dataframe tbody tr th {\n",
       "        vertical-align: top;\n",
       "    }\n",
       "\n",
       "    .dataframe thead th {\n",
       "        text-align: right;\n",
       "    }\n",
       "</style>\n",
       "<table border=\"1\" class=\"dataframe\">\n",
       "  <thead>\n",
       "    <tr style=\"text-align: right;\">\n",
       "      <th></th>\n",
       "      <th>document</th>\n",
       "      <th>text</th>\n",
       "      <th>type</th>\n",
       "      <th>start</th>\n",
       "      <th>end</th>\n",
       "      <th>cui</th>\n",
       "      <th>tuis</th>\n",
       "      <th>canonical</th>\n",
       "      <th>linker</th>\n",
       "      <th>confidence</th>\n",
       "    </tr>\n",
       "  </thead>\n",
       "  <tbody>\n",
       "    <tr>\n",
       "      <th>3</th>\n",
       "      <td>18_hodgkin-lymphom_0051_38</td>\n",
       "      <td>frühzeitig intensivierte Vorsorgeuntersuchungen</td>\n",
       "      <td>Diagnostic</td>\n",
       "      <td>203</td>\n",
       "      <td>250</td>\n",
       "      <td>C1514407</td>\n",
       "      <td>[T060]</td>\n",
       "      <td>Prevention, Early Detection of Premalignant Le...</td>\n",
       "      <td>[sapbert]</td>\n",
       "      <td>0.066824</td>\n",
       "    </tr>\n",
       "  </tbody>\n",
       "</table>\n",
       "</div>"
      ],
      "text/plain": [
       "                     document  \\\n",
       "3  18_hodgkin-lymphom_0051_38   \n",
       "\n",
       "                                              text        type  start  end  \\\n",
       "3  frühzeitig intensivierte Vorsorgeuntersuchungen  Diagnostic    203  250   \n",
       "\n",
       "        cui    tuis                                          canonical  \\\n",
       "3  C1514407  [T060]  Prevention, Early Detection of Premalignant Le...   \n",
       "\n",
       "      linker  confidence  \n",
       "3  [sapbert]    0.066824  "
      ]
     },
     "metadata": {},
     "output_type": "display_data"
    },
    {
     "name": "stdout",
     "output_type": "stream",
     "text": [
      "####\n"
     ]
    },
    {
     "data": {
      "application/vnd.jupyter.widget-view+json": {
       "model_id": "3fe8041a3be54c208c167cf25cd21164",
       "version_major": 2,
       "version_minor": 0
      },
      "text/plain": [
       "  0%|          | 0/1 [00:00<?, ?it/s]"
      ]
     },
     "metadata": {},
     "output_type": "display_data"
    },
    {
     "data": {
      "application/vnd.jupyter.widget-view+json": {
       "model_id": "29cb8c74636446df8e1f4b9b4e6088f7",
       "version_major": 2,
       "version_minor": 0
      },
      "text/plain": [
       "  0%|          | 0/1 [00:00<?, ?it/s]"
      ]
     },
     "metadata": {},
     "output_type": "display_data"
    },
    {
     "name": "stdout",
     "output_type": "stream",
     "text": [
      "In der großen Kohortenanalyse von Veit-Rubin wurde nämlich gezeigt, dass bis zu 30 Jahre nach Therapie des Hodgkin-Lymphoms von einer steigenden Inzidenz des sekundären Mamma-Karzinoms auszugehen ist.\n",
      "\n",
      "No Filter:\n"
     ]
    },
    {
     "data": {
      "text/html": [
       "<div>\n",
       "<style scoped>\n",
       "    .dataframe tbody tr th:only-of-type {\n",
       "        vertical-align: middle;\n",
       "    }\n",
       "\n",
       "    .dataframe tbody tr th {\n",
       "        vertical-align: top;\n",
       "    }\n",
       "\n",
       "    .dataframe thead th {\n",
       "        text-align: right;\n",
       "    }\n",
       "</style>\n",
       "<table border=\"1\" class=\"dataframe\">\n",
       "  <thead>\n",
       "    <tr style=\"text-align: right;\">\n",
       "      <th></th>\n",
       "      <th>document</th>\n",
       "      <th>text</th>\n",
       "      <th>type</th>\n",
       "      <th>start</th>\n",
       "      <th>end</th>\n",
       "      <th>cui</th>\n",
       "      <th>tuis</th>\n",
       "      <th>canonical</th>\n",
       "      <th>linker</th>\n",
       "      <th>confidence</th>\n",
       "    </tr>\n",
       "  </thead>\n",
       "  <tbody>\n",
       "    <tr>\n",
       "      <th>0</th>\n",
       "      <td>18_hodgkin-lymphom_0051_39</td>\n",
       "      <td>Therapie des Hodgkin-Lymphoms</td>\n",
       "      <td>Therapeutic</td>\n",
       "      <td>94</td>\n",
       "      <td>123</td>\n",
       "      <td>C0019829</td>\n",
       "      <td>[T191]</td>\n",
       "      <td>Hodgkin-Krankheit</td>\n",
       "      <td>[ngram, sapbert]</td>\n",
       "      <td>0.070408</td>\n",
       "    </tr>\n",
       "  </tbody>\n",
       "</table>\n",
       "</div>"
      ],
      "text/plain": [
       "                     document                           text         type  \\\n",
       "0  18_hodgkin-lymphom_0051_39  Therapie des Hodgkin-Lymphoms  Therapeutic   \n",
       "\n",
       "   start  end       cui    tuis          canonical            linker  \\\n",
       "0     94  123  C0019829  [T191]  Hodgkin-Krankheit  [ngram, sapbert]   \n",
       "\n",
       "   confidence  \n",
       "0    0.070408  "
      ]
     },
     "metadata": {},
     "output_type": "display_data"
    },
    {
     "name": "stdout",
     "output_type": "stream",
     "text": [
      "Filter:\n"
     ]
    },
    {
     "data": {
      "text/html": [
       "<div>\n",
       "<style scoped>\n",
       "    .dataframe tbody tr th:only-of-type {\n",
       "        vertical-align: middle;\n",
       "    }\n",
       "\n",
       "    .dataframe tbody tr th {\n",
       "        vertical-align: top;\n",
       "    }\n",
       "\n",
       "    .dataframe thead th {\n",
       "        text-align: right;\n",
       "    }\n",
       "</style>\n",
       "<table border=\"1\" class=\"dataframe\">\n",
       "  <thead>\n",
       "    <tr style=\"text-align: right;\">\n",
       "      <th></th>\n",
       "      <th>document</th>\n",
       "      <th>text</th>\n",
       "      <th>type</th>\n",
       "      <th>start</th>\n",
       "      <th>end</th>\n",
       "      <th>cui</th>\n",
       "      <th>tuis</th>\n",
       "      <th>canonical</th>\n",
       "      <th>linker</th>\n",
       "      <th>confidence</th>\n",
       "    </tr>\n",
       "  </thead>\n",
       "  <tbody>\n",
       "    <tr>\n",
       "      <th>0</th>\n",
       "      <td>18_hodgkin-lymphom_0051_39</td>\n",
       "      <td>Therapie des Hodgkin-Lymphoms</td>\n",
       "      <td>Therapeutic</td>\n",
       "      <td>94</td>\n",
       "      <td>123</td>\n",
       "      <td>C5557287</td>\n",
       "      <td>[T170]</td>\n",
       "      <td>HL Project Terminology</td>\n",
       "      <td>[ngram, sapbert]</td>\n",
       "      <td>0.356148</td>\n",
       "    </tr>\n",
       "  </tbody>\n",
       "</table>\n",
       "</div>"
      ],
      "text/plain": [
       "                     document                           text         type  \\\n",
       "0  18_hodgkin-lymphom_0051_39  Therapie des Hodgkin-Lymphoms  Therapeutic   \n",
       "\n",
       "   start  end       cui    tuis               canonical            linker  \\\n",
       "0     94  123  C5557287  [T170]  HL Project Terminology  [ngram, sapbert]   \n",
       "\n",
       "   confidence  \n",
       "0    0.356148  "
      ]
     },
     "metadata": {},
     "output_type": "display_data"
    },
    {
     "name": "stdout",
     "output_type": "stream",
     "text": [
      "####\n"
     ]
    },
    {
     "data": {
      "application/vnd.jupyter.widget-view+json": {
       "model_id": "fdb3a4318c4f4c2881f6563295130ed7",
       "version_major": 2,
       "version_minor": 0
      },
      "text/plain": [
       "  0%|          | 0/1 [00:00<?, ?it/s]"
      ]
     },
     "metadata": {},
     "output_type": "display_data"
    },
    {
     "data": {
      "application/vnd.jupyter.widget-view+json": {
       "model_id": "1c7f311481a040498203de9d0e77f0bd",
       "version_major": 2,
       "version_minor": 0
      },
      "text/plain": [
       "  0%|          | 0/1 [00:00<?, ?it/s]"
      ]
     },
     "metadata": {},
     "output_type": "display_data"
    },
    {
     "data": {
      "application/vnd.jupyter.widget-view+json": {
       "model_id": "669814242bf8449bbf2687f2a42b9b16",
       "version_major": 2,
       "version_minor": 0
      },
      "text/plain": [
       "  0%|          | 0/1 [00:00<?, ?it/s]"
      ]
     },
     "metadata": {},
     "output_type": "display_data"
    },
    {
     "data": {
      "application/vnd.jupyter.widget-view+json": {
       "model_id": "67c6d8c10a0c4b739ffcdfc16383b590",
       "version_major": 2,
       "version_minor": 0
      },
      "text/plain": [
       "  0%|          | 0/1 [00:00<?, ?it/s]"
      ]
     },
     "metadata": {},
     "output_type": "display_data"
    },
    {
     "data": {
      "application/vnd.jupyter.widget-view+json": {
       "model_id": "7978b2a3bcb8499fb4d212226da07732",
       "version_major": 2,
       "version_minor": 0
      },
      "text/plain": [
       "  0%|          | 0/1 [00:00<?, ?it/s]"
      ]
     },
     "metadata": {},
     "output_type": "display_data"
    },
    {
     "data": {
      "application/vnd.jupyter.widget-view+json": {
       "model_id": "5b09832a3e3b439a8f6cfc2c05aa01ed",
       "version_major": 2,
       "version_minor": 0
      },
      "text/plain": [
       "  0%|          | 0/1 [00:00<?, ?it/s]"
      ]
     },
     "metadata": {},
     "output_type": "display_data"
    },
    {
     "data": {
      "application/vnd.jupyter.widget-view+json": {
       "model_id": "64b99fba7e8d48d9b637def83780e7f7",
       "version_major": 2,
       "version_minor": 0
      },
      "text/plain": [
       "  0%|          | 0/1 [00:00<?, ?it/s]"
      ]
     },
     "metadata": {},
     "output_type": "display_data"
    },
    {
     "data": {
      "application/vnd.jupyter.widget-view+json": {
       "model_id": "f40c71937bd4432db56db9f4b0019576",
       "version_major": 2,
       "version_minor": 0
      },
      "text/plain": [
       "  0%|          | 0/1 [00:00<?, ?it/s]"
      ]
     },
     "metadata": {},
     "output_type": "display_data"
    },
    {
     "data": {
      "application/vnd.jupyter.widget-view+json": {
       "model_id": "6f22bef2181249f4ae7249e2d0253490",
       "version_major": 2,
       "version_minor": 0
      },
      "text/plain": [
       "  0%|          | 0/1 [00:00<?, ?it/s]"
      ]
     },
     "metadata": {},
     "output_type": "display_data"
    },
    {
     "data": {
      "application/vnd.jupyter.widget-view+json": {
       "model_id": "30e87ca4710949268584a86ab8b7a138",
       "version_major": 2,
       "version_minor": 0
      },
      "text/plain": [
       "  0%|          | 0/1 [00:00<?, ?it/s]"
      ]
     },
     "metadata": {},
     "output_type": "display_data"
    },
    {
     "name": "stdout",
     "output_type": "stream",
     "text": [
      "Obligatorische Untersuchungen des Restagings nach Bestrahlung enthalten:\n",
      "\n",
      "No Filter:\n"
     ]
    },
    {
     "data": {
      "text/html": [
       "<div>\n",
       "<style scoped>\n",
       "    .dataframe tbody tr th:only-of-type {\n",
       "        vertical-align: middle;\n",
       "    }\n",
       "\n",
       "    .dataframe tbody tr th {\n",
       "        vertical-align: top;\n",
       "    }\n",
       "\n",
       "    .dataframe thead th {\n",
       "        text-align: right;\n",
       "    }\n",
       "</style>\n",
       "<table border=\"1\" class=\"dataframe\">\n",
       "  <thead>\n",
       "    <tr style=\"text-align: right;\">\n",
       "      <th></th>\n",
       "      <th>document</th>\n",
       "      <th>text</th>\n",
       "      <th>type</th>\n",
       "      <th>start</th>\n",
       "      <th>end</th>\n",
       "      <th>cui</th>\n",
       "      <th>tuis</th>\n",
       "      <th>canonical</th>\n",
       "      <th>linker</th>\n",
       "      <th>confidence</th>\n",
       "    </tr>\n",
       "  </thead>\n",
       "  <tbody>\n",
       "    <tr>\n",
       "      <th>0</th>\n",
       "      <td>18_hodgkin-lymphom_0051_44</td>\n",
       "      <td>Obligatorische Untersuchungen des Restagings n...</td>\n",
       "      <td>Diagnostic</td>\n",
       "      <td>0</td>\n",
       "      <td>61</td>\n",
       "      <td>C1700931</td>\n",
       "      <td>[T046]</td>\n",
       "      <td>Post vaccination satellite lesions</td>\n",
       "      <td>[sapbert]</td>\n",
       "      <td>0.068599</td>\n",
       "    </tr>\n",
       "  </tbody>\n",
       "</table>\n",
       "</div>"
      ],
      "text/plain": [
       "                     document  \\\n",
       "0  18_hodgkin-lymphom_0051_44   \n",
       "\n",
       "                                                text        type  start  end  \\\n",
       "0  Obligatorische Untersuchungen des Restagings n...  Diagnostic      0   61   \n",
       "\n",
       "        cui    tuis                           canonical     linker  confidence  \n",
       "0  C1700931  [T046]  Post vaccination satellite lesions  [sapbert]    0.068599  "
      ]
     },
     "metadata": {},
     "output_type": "display_data"
    },
    {
     "name": "stdout",
     "output_type": "stream",
     "text": [
      "Filter:\n"
     ]
    },
    {
     "data": {
      "text/html": [
       "<div>\n",
       "<style scoped>\n",
       "    .dataframe tbody tr th:only-of-type {\n",
       "        vertical-align: middle;\n",
       "    }\n",
       "\n",
       "    .dataframe tbody tr th {\n",
       "        vertical-align: top;\n",
       "    }\n",
       "\n",
       "    .dataframe thead th {\n",
       "        text-align: right;\n",
       "    }\n",
       "</style>\n",
       "<table border=\"1\" class=\"dataframe\">\n",
       "  <thead>\n",
       "    <tr style=\"text-align: right;\">\n",
       "      <th></th>\n",
       "      <th>document</th>\n",
       "      <th>text</th>\n",
       "      <th>type</th>\n",
       "      <th>start</th>\n",
       "      <th>end</th>\n",
       "      <th>cui</th>\n",
       "      <th>tuis</th>\n",
       "      <th>canonical</th>\n",
       "      <th>linker</th>\n",
       "      <th>confidence</th>\n",
       "    </tr>\n",
       "  </thead>\n",
       "  <tbody>\n",
       "    <tr>\n",
       "      <th>0</th>\n",
       "      <td>18_hodgkin-lymphom_0051_44</td>\n",
       "      <td>Obligatorische Untersuchungen des Restagings n...</td>\n",
       "      <td>Diagnostic</td>\n",
       "      <td>0</td>\n",
       "      <td>61</td>\n",
       "      <td>C5208122</td>\n",
       "      <td>[T060]</td>\n",
       "      <td>Radiation contamination survey</td>\n",
       "      <td>[sapbert]</td>\n",
       "      <td>0.064638</td>\n",
       "    </tr>\n",
       "  </tbody>\n",
       "</table>\n",
       "</div>"
      ],
      "text/plain": [
       "                     document  \\\n",
       "0  18_hodgkin-lymphom_0051_44   \n",
       "\n",
       "                                                text        type  start  end  \\\n",
       "0  Obligatorische Untersuchungen des Restagings n...  Diagnostic      0   61   \n",
       "\n",
       "        cui    tuis                       canonical     linker  confidence  \n",
       "0  C5208122  [T060]  Radiation contamination survey  [sapbert]    0.064638  "
      ]
     },
     "metadata": {},
     "output_type": "display_data"
    },
    {
     "name": "stdout",
     "output_type": "stream",
     "text": [
      "####\n"
     ]
    },
    {
     "data": {
      "application/vnd.jupyter.widget-view+json": {
       "model_id": "8b44ae6c45bd42e29e685067cd69bf55",
       "version_major": 2,
       "version_minor": 0
      },
      "text/plain": [
       "  0%|          | 0/1 [00:00<?, ?it/s]"
      ]
     },
     "metadata": {},
     "output_type": "display_data"
    },
    {
     "data": {
      "application/vnd.jupyter.widget-view+json": {
       "model_id": "9c8d80c5378d4ff5ab2124f265198bf6",
       "version_major": 2,
       "version_minor": 0
      },
      "text/plain": [
       "  0%|          | 0/1 [00:00<?, ?it/s]"
      ]
     },
     "metadata": {},
     "output_type": "display_data"
    },
    {
     "name": "stdout",
     "output_type": "stream",
     "text": [
      "- Anamnese\n",
      "\n",
      "No Filter:\n"
     ]
    },
    {
     "data": {
      "text/html": [
       "<div>\n",
       "<style scoped>\n",
       "    .dataframe tbody tr th:only-of-type {\n",
       "        vertical-align: middle;\n",
       "    }\n",
       "\n",
       "    .dataframe tbody tr th {\n",
       "        vertical-align: top;\n",
       "    }\n",
       "\n",
       "    .dataframe thead th {\n",
       "        text-align: right;\n",
       "    }\n",
       "</style>\n",
       "<table border=\"1\" class=\"dataframe\">\n",
       "  <thead>\n",
       "    <tr style=\"text-align: right;\">\n",
       "      <th></th>\n",
       "      <th>document</th>\n",
       "      <th>text</th>\n",
       "      <th>type</th>\n",
       "      <th>start</th>\n",
       "      <th>end</th>\n",
       "      <th>cui</th>\n",
       "      <th>tuis</th>\n",
       "      <th>canonical</th>\n",
       "      <th>linker</th>\n",
       "      <th>confidence</th>\n",
       "    </tr>\n",
       "  </thead>\n",
       "  <tbody>\n",
       "    <tr>\n",
       "      <th>0</th>\n",
       "      <td>18_hodgkin-lymphom_0051_45</td>\n",
       "      <td>Anamnese</td>\n",
       "      <td>Diagnostic</td>\n",
       "      <td>2</td>\n",
       "      <td>10</td>\n",
       "      <td>C0021055</td>\n",
       "      <td>[T042]</td>\n",
       "      <td>Immunologisches Gedächtnis</td>\n",
       "      <td>[ngram, sapbert]</td>\n",
       "      <td>0.08095</td>\n",
       "    </tr>\n",
       "  </tbody>\n",
       "</table>\n",
       "</div>"
      ],
      "text/plain": [
       "                     document      text        type  start  end       cui  \\\n",
       "0  18_hodgkin-lymphom_0051_45  Anamnese  Diagnostic      2   10  C0021055   \n",
       "\n",
       "     tuis                   canonical            linker  confidence  \n",
       "0  [T042]  Immunologisches Gedächtnis  [ngram, sapbert]     0.08095  "
      ]
     },
     "metadata": {},
     "output_type": "display_data"
    },
    {
     "name": "stdout",
     "output_type": "stream",
     "text": [
      "Filter:\n"
     ]
    },
    {
     "data": {
      "text/html": [
       "<div>\n",
       "<style scoped>\n",
       "    .dataframe tbody tr th:only-of-type {\n",
       "        vertical-align: middle;\n",
       "    }\n",
       "\n",
       "    .dataframe tbody tr th {\n",
       "        vertical-align: top;\n",
       "    }\n",
       "\n",
       "    .dataframe thead th {\n",
       "        text-align: right;\n",
       "    }\n",
       "</style>\n",
       "<table border=\"1\" class=\"dataframe\">\n",
       "  <thead>\n",
       "    <tr style=\"text-align: right;\">\n",
       "      <th></th>\n",
       "      <th>document</th>\n",
       "      <th>text</th>\n",
       "      <th>type</th>\n",
       "      <th>start</th>\n",
       "      <th>end</th>\n",
       "      <th>cui</th>\n",
       "      <th>tuis</th>\n",
       "      <th>canonical</th>\n",
       "      <th>linker</th>\n",
       "      <th>confidence</th>\n",
       "    </tr>\n",
       "  </thead>\n",
       "  <tbody>\n",
       "    <tr>\n",
       "      <th>0</th>\n",
       "      <td>18_hodgkin-lymphom_0051_45</td>\n",
       "      <td>Anamnese</td>\n",
       "      <td>Diagnostic</td>\n",
       "      <td>2</td>\n",
       "      <td>10</td>\n",
       "      <td>C0085970</td>\n",
       "      <td>[T170]</td>\n",
       "      <td>Case Histories</td>\n",
       "      <td>[sapbert]</td>\n",
       "      <td>0.078161</td>\n",
       "    </tr>\n",
       "  </tbody>\n",
       "</table>\n",
       "</div>"
      ],
      "text/plain": [
       "                     document      text        type  start  end       cui  \\\n",
       "0  18_hodgkin-lymphom_0051_45  Anamnese  Diagnostic      2   10  C0085970   \n",
       "\n",
       "     tuis       canonical     linker  confidence  \n",
       "0  [T170]  Case Histories  [sapbert]    0.078161  "
      ]
     },
     "metadata": {},
     "output_type": "display_data"
    },
    {
     "name": "stdout",
     "output_type": "stream",
     "text": [
      "####\n"
     ]
    },
    {
     "data": {
      "application/vnd.jupyter.widget-view+json": {
       "model_id": "544b29d0aedf45469381efce4d6f7b2b",
       "version_major": 2,
       "version_minor": 0
      },
      "text/plain": [
       "  0%|          | 0/1 [00:00<?, ?it/s]"
      ]
     },
     "metadata": {},
     "output_type": "display_data"
    },
    {
     "data": {
      "application/vnd.jupyter.widget-view+json": {
       "model_id": "9285726dcd144b3d94c74321a7a145b6",
       "version_major": 2,
       "version_minor": 0
      },
      "text/plain": [
       "  0%|          | 0/1 [00:00<?, ?it/s]"
      ]
     },
     "metadata": {},
     "output_type": "display_data"
    },
    {
     "data": {
      "application/vnd.jupyter.widget-view+json": {
       "model_id": "3e3ee01c72814f23aa11c8d768d53ddf",
       "version_major": 2,
       "version_minor": 0
      },
      "text/plain": [
       "  0%|          | 0/1 [00:00<?, ?it/s]"
      ]
     },
     "metadata": {},
     "output_type": "display_data"
    },
    {
     "data": {
      "application/vnd.jupyter.widget-view+json": {
       "model_id": "8bb17b19da2a4c4b8db5d0c8c7017d8b",
       "version_major": 2,
       "version_minor": 0
      },
      "text/plain": [
       "  0%|          | 0/1 [00:00<?, ?it/s]"
      ]
     },
     "metadata": {},
     "output_type": "display_data"
    },
    {
     "name": "stdout",
     "output_type": "stream",
     "text": [
      "- Labordiagnostik, wie Blutsenkungsgeschwindigkeit (BSG), Differentialblutbild, Klinische Chemie (Gamma-GT, GOT, GPT, Bilirubin, Kreatinin, Harnsäure), Alkalische Phosphatase (AP), Laktatdehydrogenase (LDH)\n",
      "\n",
      "No Filter:\n"
     ]
    },
    {
     "data": {
      "text/html": [
       "<div>\n",
       "<style scoped>\n",
       "    .dataframe tbody tr th:only-of-type {\n",
       "        vertical-align: middle;\n",
       "    }\n",
       "\n",
       "    .dataframe tbody tr th {\n",
       "        vertical-align: top;\n",
       "    }\n",
       "\n",
       "    .dataframe thead th {\n",
       "        text-align: right;\n",
       "    }\n",
       "</style>\n",
       "<table border=\"1\" class=\"dataframe\">\n",
       "  <thead>\n",
       "    <tr style=\"text-align: right;\">\n",
       "      <th></th>\n",
       "      <th>document</th>\n",
       "      <th>text</th>\n",
       "      <th>type</th>\n",
       "      <th>start</th>\n",
       "      <th>end</th>\n",
       "      <th>cui</th>\n",
       "      <th>tuis</th>\n",
       "      <th>canonical</th>\n",
       "      <th>linker</th>\n",
       "      <th>confidence</th>\n",
       "    </tr>\n",
       "  </thead>\n",
       "  <tbody>\n",
       "    <tr>\n",
       "      <th>0</th>\n",
       "      <td>18_hodgkin-lymphom_0051_47</td>\n",
       "      <td>Labordiagnostik</td>\n",
       "      <td>Diagnostic</td>\n",
       "      <td>2</td>\n",
       "      <td>17</td>\n",
       "      <td>C0011911</td>\n",
       "      <td>[T033]</td>\n",
       "      <td>Labordiagnostik</td>\n",
       "      <td>[ngram, sapbert]</td>\n",
       "      <td>0.159278</td>\n",
       "    </tr>\n",
       "    <tr>\n",
       "      <th>3</th>\n",
       "      <td>18_hodgkin-lymphom_0051_47</td>\n",
       "      <td>Differentialblutbild</td>\n",
       "      <td>Diagnostic</td>\n",
       "      <td>58</td>\n",
       "      <td>78</td>\n",
       "      <td>C0009555</td>\n",
       "      <td>[T059]</td>\n",
       "      <td>Blutzellzählung, vollständige</td>\n",
       "      <td>[ngram, sapbert]</td>\n",
       "      <td>0.067997</td>\n",
       "    </tr>\n",
       "  </tbody>\n",
       "</table>\n",
       "</div>"
      ],
      "text/plain": [
       "                     document                  text        type  start  end  \\\n",
       "0  18_hodgkin-lymphom_0051_47       Labordiagnostik  Diagnostic      2   17   \n",
       "3  18_hodgkin-lymphom_0051_47  Differentialblutbild  Diagnostic     58   78   \n",
       "\n",
       "        cui    tuis                      canonical            linker  \\\n",
       "0  C0011911  [T033]                Labordiagnostik  [ngram, sapbert]   \n",
       "3  C0009555  [T059]  Blutzellzählung, vollständige  [ngram, sapbert]   \n",
       "\n",
       "   confidence  \n",
       "0    0.159278  \n",
       "3    0.067997  "
      ]
     },
     "metadata": {},
     "output_type": "display_data"
    },
    {
     "name": "stdout",
     "output_type": "stream",
     "text": [
      "Filter:\n"
     ]
    },
    {
     "data": {
      "text/html": [
       "<div>\n",
       "<style scoped>\n",
       "    .dataframe tbody tr th:only-of-type {\n",
       "        vertical-align: middle;\n",
       "    }\n",
       "\n",
       "    .dataframe tbody tr th {\n",
       "        vertical-align: top;\n",
       "    }\n",
       "\n",
       "    .dataframe thead th {\n",
       "        text-align: right;\n",
       "    }\n",
       "</style>\n",
       "<table border=\"1\" class=\"dataframe\">\n",
       "  <thead>\n",
       "    <tr style=\"text-align: right;\">\n",
       "      <th></th>\n",
       "      <th>document</th>\n",
       "      <th>text</th>\n",
       "      <th>type</th>\n",
       "      <th>start</th>\n",
       "      <th>end</th>\n",
       "      <th>cui</th>\n",
       "      <th>tuis</th>\n",
       "      <th>canonical</th>\n",
       "      <th>linker</th>\n",
       "      <th>confidence</th>\n",
       "    </tr>\n",
       "  </thead>\n",
       "  <tbody>\n",
       "    <tr>\n",
       "      <th>0</th>\n",
       "      <td>18_hodgkin-lymphom_0051_47</td>\n",
       "      <td>Labordiagnostik</td>\n",
       "      <td>Diagnostic</td>\n",
       "      <td>2</td>\n",
       "      <td>17</td>\n",
       "      <td>C1319069</td>\n",
       "      <td>[T060]</td>\n",
       "      <td>Point-of-Care Testing</td>\n",
       "      <td>[ngram, sapbert]</td>\n",
       "      <td>0.069894</td>\n",
       "    </tr>\n",
       "    <tr>\n",
       "      <th>3</th>\n",
       "      <td>18_hodgkin-lymphom_0051_47</td>\n",
       "      <td>Differentialblutbild</td>\n",
       "      <td>Diagnostic</td>\n",
       "      <td>58</td>\n",
       "      <td>78</td>\n",
       "      <td>C0005771</td>\n",
       "      <td>[T059]</td>\n",
       "      <td>Blutkörperchenbestimmung</td>\n",
       "      <td>[ngram, sapbert]</td>\n",
       "      <td>0.070344</td>\n",
       "    </tr>\n",
       "  </tbody>\n",
       "</table>\n",
       "</div>"
      ],
      "text/plain": [
       "                     document                  text        type  start  end  \\\n",
       "0  18_hodgkin-lymphom_0051_47       Labordiagnostik  Diagnostic      2   17   \n",
       "3  18_hodgkin-lymphom_0051_47  Differentialblutbild  Diagnostic     58   78   \n",
       "\n",
       "        cui    tuis                 canonical            linker  confidence  \n",
       "0  C1319069  [T060]     Point-of-Care Testing  [ngram, sapbert]    0.069894  \n",
       "3  C0005771  [T059]  Blutkörperchenbestimmung  [ngram, sapbert]    0.070344  "
      ]
     },
     "metadata": {},
     "output_type": "display_data"
    },
    {
     "name": "stdout",
     "output_type": "stream",
     "text": [
      "####\n"
     ]
    },
    {
     "data": {
      "application/vnd.jupyter.widget-view+json": {
       "model_id": "a175897fef4d4479a682d88b97df2e21",
       "version_major": 2,
       "version_minor": 0
      },
      "text/plain": [
       "  0%|          | 0/1 [00:00<?, ?it/s]"
      ]
     },
     "metadata": {},
     "output_type": "display_data"
    },
    {
     "data": {
      "application/vnd.jupyter.widget-view+json": {
       "model_id": "25e38fafa71845f5863214c864d676e9",
       "version_major": 2,
       "version_minor": 0
      },
      "text/plain": [
       "  0%|          | 0/1 [00:00<?, ?it/s]"
      ]
     },
     "metadata": {},
     "output_type": "display_data"
    },
    {
     "data": {
      "application/vnd.jupyter.widget-view+json": {
       "model_id": "4484b2bdd39b4026bca19452cbd5561f",
       "version_major": 2,
       "version_minor": 0
      },
      "text/plain": [
       "  0%|          | 0/1 [00:00<?, ?it/s]"
      ]
     },
     "metadata": {},
     "output_type": "display_data"
    },
    {
     "data": {
      "application/vnd.jupyter.widget-view+json": {
       "model_id": "5cafb20413d342389a95e53572c18fe3",
       "version_major": 2,
       "version_minor": 0
      },
      "text/plain": [
       "  0%|          | 0/1 [00:00<?, ?it/s]"
      ]
     },
     "metadata": {},
     "output_type": "display_data"
    },
    {
     "data": {
      "application/vnd.jupyter.widget-view+json": {
       "model_id": "63b5ed01acfa4454815b381dba55efac",
       "version_major": 2,
       "version_minor": 0
      },
      "text/plain": [
       "  0%|          | 0/1 [00:00<?, ?it/s]"
      ]
     },
     "metadata": {},
     "output_type": "display_data"
    },
    {
     "data": {
      "application/vnd.jupyter.widget-view+json": {
       "model_id": "b338c20896954071915ab63ebd1be577",
       "version_major": 2,
       "version_minor": 0
      },
      "text/plain": [
       "  0%|          | 0/1 [00:00<?, ?it/s]"
      ]
     },
     "metadata": {},
     "output_type": "display_data"
    },
    {
     "data": {
      "application/vnd.jupyter.widget-view+json": {
       "model_id": "f78737d33c9d4d7bb5ccee8e780ae497",
       "version_major": 2,
       "version_minor": 0
      },
      "text/plain": [
       "  0%|          | 0/1 [00:00<?, ?it/s]"
      ]
     },
     "metadata": {},
     "output_type": "display_data"
    },
    {
     "data": {
      "application/vnd.jupyter.widget-view+json": {
       "model_id": "5d55cfe752434e609baed4ab9988374b",
       "version_major": 2,
       "version_minor": 0
      },
      "text/plain": [
       "  0%|          | 0/1 [00:00<?, ?it/s]"
      ]
     },
     "metadata": {},
     "output_type": "display_data"
    },
    {
     "data": {
      "application/vnd.jupyter.widget-view+json": {
       "model_id": "bc23d483cf1e4b77acd36e2fe2c069a9",
       "version_major": 2,
       "version_minor": 0
      },
      "text/plain": [
       "  0%|          | 0/1 [00:00<?, ?it/s]"
      ]
     },
     "metadata": {},
     "output_type": "display_data"
    },
    {
     "data": {
      "application/vnd.jupyter.widget-view+json": {
       "model_id": "6362060ba83a45a784a23fbdb16b9462",
       "version_major": 2,
       "version_minor": 0
      },
      "text/plain": [
       "  0%|          | 0/1 [00:00<?, ?it/s]"
      ]
     },
     "metadata": {},
     "output_type": "display_data"
    },
    {
     "data": {
      "application/vnd.jupyter.widget-view+json": {
       "model_id": "2e11a4f328474d4ea45a650692803882",
       "version_major": 2,
       "version_minor": 0
      },
      "text/plain": [
       "  0%|          | 0/1 [00:00<?, ?it/s]"
      ]
     },
     "metadata": {},
     "output_type": "display_data"
    },
    {
     "data": {
      "application/vnd.jupyter.widget-view+json": {
       "model_id": "477c4eea9c984956a4d06baa0f17c6e4",
       "version_major": 2,
       "version_minor": 0
      },
      "text/plain": [
       "  0%|          | 0/1 [00:00<?, ?it/s]"
      ]
     },
     "metadata": {},
     "output_type": "display_data"
    },
    {
     "data": {
      "application/vnd.jupyter.widget-view+json": {
       "model_id": "2ef17a0dc0074cc9a97f08f881a7d8d0",
       "version_major": 2,
       "version_minor": 0
      },
      "text/plain": [
       "  0%|          | 0/1 [00:00<?, ?it/s]"
      ]
     },
     "metadata": {},
     "output_type": "display_data"
    },
    {
     "data": {
      "application/vnd.jupyter.widget-view+json": {
       "model_id": "eadf3beaafce4ff89466a8b97887a17d",
       "version_major": 2,
       "version_minor": 0
      },
      "text/plain": [
       "  0%|          | 0/1 [00:00<?, ?it/s]"
      ]
     },
     "metadata": {},
     "output_type": "display_data"
    },
    {
     "data": {
      "application/vnd.jupyter.widget-view+json": {
       "model_id": "cabbcb0bfeb745328168240cd0960463",
       "version_major": 2,
       "version_minor": 0
      },
      "text/plain": [
       "  0%|          | 0/1 [00:00<?, ?it/s]"
      ]
     },
     "metadata": {},
     "output_type": "display_data"
    },
    {
     "data": {
      "application/vnd.jupyter.widget-view+json": {
       "model_id": "93eea424f0844c4a9e716089676460e2",
       "version_major": 2,
       "version_minor": 0
      },
      "text/plain": [
       "  0%|          | 0/1 [00:00<?, ?it/s]"
      ]
     },
     "metadata": {},
     "output_type": "display_data"
    },
    {
     "data": {
      "application/vnd.jupyter.widget-view+json": {
       "model_id": "117f4fc047cd45ccb64018515f790f73",
       "version_major": 2,
       "version_minor": 0
      },
      "text/plain": [
       "  0%|          | 0/1 [00:00<?, ?it/s]"
      ]
     },
     "metadata": {},
     "output_type": "display_data"
    },
    {
     "data": {
      "application/vnd.jupyter.widget-view+json": {
       "model_id": "84ecb36e2d1e4e73943949aad7600b2a",
       "version_major": 2,
       "version_minor": 0
      },
      "text/plain": [
       "  0%|          | 0/1 [00:00<?, ?it/s]"
      ]
     },
     "metadata": {},
     "output_type": "display_data"
    },
    {
     "data": {
      "application/vnd.jupyter.widget-view+json": {
       "model_id": "b2d7fa3ddc844155bf820bba1f5d70bf",
       "version_major": 2,
       "version_minor": 0
      },
      "text/plain": [
       "  0%|          | 0/1 [00:00<?, ?it/s]"
      ]
     },
     "metadata": {},
     "output_type": "display_data"
    },
    {
     "data": {
      "application/vnd.jupyter.widget-view+json": {
       "model_id": "5014ba8dc78c49aaa9dd37ac54904789",
       "version_major": 2,
       "version_minor": 0
      },
      "text/plain": [
       "  0%|          | 0/1 [00:00<?, ?it/s]"
      ]
     },
     "metadata": {},
     "output_type": "display_data"
    },
    {
     "data": {
      "application/vnd.jupyter.widget-view+json": {
       "model_id": "7d688caebbf5436e9ce5f036e2a3d08e",
       "version_major": 2,
       "version_minor": 0
      },
      "text/plain": [
       "  0%|          | 0/1 [00:00<?, ?it/s]"
      ]
     },
     "metadata": {},
     "output_type": "display_data"
    },
    {
     "data": {
      "application/vnd.jupyter.widget-view+json": {
       "model_id": "fd24aedce0cb42e3a409f3994db32d92",
       "version_major": 2,
       "version_minor": 0
      },
      "text/plain": [
       "  0%|          | 0/1 [00:00<?, ?it/s]"
      ]
     },
     "metadata": {},
     "output_type": "display_data"
    },
    {
     "data": {
      "application/vnd.jupyter.widget-view+json": {
       "model_id": "9820385114f34777a7fcada6349e3494",
       "version_major": 2,
       "version_minor": 0
      },
      "text/plain": [
       "  0%|          | 0/1 [00:00<?, ?it/s]"
      ]
     },
     "metadata": {},
     "output_type": "display_data"
    },
    {
     "data": {
      "application/vnd.jupyter.widget-view+json": {
       "model_id": "8be219482c5644a283f46cbd52add852",
       "version_major": 2,
       "version_minor": 0
      },
      "text/plain": [
       "  0%|          | 0/1 [00:00<?, ?it/s]"
      ]
     },
     "metadata": {},
     "output_type": "display_data"
    },
    {
     "data": {
      "application/vnd.jupyter.widget-view+json": {
       "model_id": "b48dc02ec5d642ec9624730f02fb6052",
       "version_major": 2,
       "version_minor": 0
      },
      "text/plain": [
       "  0%|          | 0/1 [00:00<?, ?it/s]"
      ]
     },
     "metadata": {},
     "output_type": "display_data"
    },
    {
     "data": {
      "application/vnd.jupyter.widget-view+json": {
       "model_id": "ff6ce0892fbb4b68b8f52b7ef682371b",
       "version_major": 2,
       "version_minor": 0
      },
      "text/plain": [
       "  0%|          | 0/1 [00:00<?, ?it/s]"
      ]
     },
     "metadata": {},
     "output_type": "display_data"
    },
    {
     "data": {
      "application/vnd.jupyter.widget-view+json": {
       "model_id": "4587501f125b43d8b6927f0776232fc8",
       "version_major": 2,
       "version_minor": 0
      },
      "text/plain": [
       "  0%|          | 0/1 [00:00<?, ?it/s]"
      ]
     },
     "metadata": {},
     "output_type": "display_data"
    },
    {
     "data": {
      "application/vnd.jupyter.widget-view+json": {
       "model_id": "6062f1c93b0849fd90c0c9a4f5aacf3d",
       "version_major": 2,
       "version_minor": 0
      },
      "text/plain": [
       "  0%|          | 0/1 [00:00<?, ?it/s]"
      ]
     },
     "metadata": {},
     "output_type": "display_data"
    },
    {
     "data": {
      "application/vnd.jupyter.widget-view+json": {
       "model_id": "d7c3ac020dd14e229f9e6a11008ff0f8",
       "version_major": 2,
       "version_minor": 0
      },
      "text/plain": [
       "  0%|          | 0/1 [00:00<?, ?it/s]"
      ]
     },
     "metadata": {},
     "output_type": "display_data"
    },
    {
     "data": {
      "application/vnd.jupyter.widget-view+json": {
       "model_id": "8c69efba9b964fea9df5c836eeffd619",
       "version_major": 2,
       "version_minor": 0
      },
      "text/plain": [
       "  0%|          | 0/1 [00:00<?, ?it/s]"
      ]
     },
     "metadata": {},
     "output_type": "display_data"
    },
    {
     "data": {
      "application/vnd.jupyter.widget-view+json": {
       "model_id": "6149272f9f9d4960badbbb05951cd994",
       "version_major": 2,
       "version_minor": 0
      },
      "text/plain": [
       "  0%|          | 0/1 [00:00<?, ?it/s]"
      ]
     },
     "metadata": {},
     "output_type": "display_data"
    },
    {
     "data": {
      "application/vnd.jupyter.widget-view+json": {
       "model_id": "dde1fe9f3ebd4fd892dc0a813d29d036",
       "version_major": 2,
       "version_minor": 0
      },
      "text/plain": [
       "  0%|          | 0/1 [00:00<?, ?it/s]"
      ]
     },
     "metadata": {},
     "output_type": "display_data"
    },
    {
     "data": {
      "application/vnd.jupyter.widget-view+json": {
       "model_id": "429d0498177f4615a51c483d9bd06f6f",
       "version_major": 2,
       "version_minor": 0
      },
      "text/plain": [
       "  0%|          | 0/1 [00:00<?, ?it/s]"
      ]
     },
     "metadata": {},
     "output_type": "display_data"
    },
    {
     "data": {
      "application/vnd.jupyter.widget-view+json": {
       "model_id": "8896503937724f599c6ad9bfb0b42a88",
       "version_major": 2,
       "version_minor": 0
      },
      "text/plain": [
       "  0%|          | 0/1 [00:00<?, ?it/s]"
      ]
     },
     "metadata": {},
     "output_type": "display_data"
    },
    {
     "data": {
      "application/vnd.jupyter.widget-view+json": {
       "model_id": "05627d0795774dce95d33d17ac6345fc",
       "version_major": 2,
       "version_minor": 0
      },
      "text/plain": [
       "  0%|          | 0/1 [00:00<?, ?it/s]"
      ]
     },
     "metadata": {},
     "output_type": "display_data"
    },
    {
     "data": {
      "application/vnd.jupyter.widget-view+json": {
       "model_id": "218c67257f2c4ad1aae048c0240da1fc",
       "version_major": 2,
       "version_minor": 0
      },
      "text/plain": [
       "  0%|          | 0/1 [00:00<?, ?it/s]"
      ]
     },
     "metadata": {},
     "output_type": "display_data"
    },
    {
     "data": {
      "application/vnd.jupyter.widget-view+json": {
       "model_id": "eace151293824c0587b047c8cdcd97f6",
       "version_major": 2,
       "version_minor": 0
      },
      "text/plain": [
       "  0%|          | 0/1 [00:00<?, ?it/s]"
      ]
     },
     "metadata": {},
     "output_type": "display_data"
    },
    {
     "data": {
      "application/vnd.jupyter.widget-view+json": {
       "model_id": "4864f874e63e480ab46b54a4cef00a6f",
       "version_major": 2,
       "version_minor": 0
      },
      "text/plain": [
       "  0%|          | 0/1 [00:00<?, ?it/s]"
      ]
     },
     "metadata": {},
     "output_type": "display_data"
    },
    {
     "data": {
      "application/vnd.jupyter.widget-view+json": {
       "model_id": "3ba854f9d31c4fddbd18fbb91a3437ff",
       "version_major": 2,
       "version_minor": 0
      },
      "text/plain": [
       "  0%|          | 0/1 [00:00<?, ?it/s]"
      ]
     },
     "metadata": {},
     "output_type": "display_data"
    },
    {
     "data": {
      "application/vnd.jupyter.widget-view+json": {
       "model_id": "233fa37aa0374f8dbdc36906de4e1af9",
       "version_major": 2,
       "version_minor": 0
      },
      "text/plain": [
       "  0%|          | 0/1 [00:00<?, ?it/s]"
      ]
     },
     "metadata": {},
     "output_type": "display_data"
    },
    {
     "data": {
      "application/vnd.jupyter.widget-view+json": {
       "model_id": "b2f7c23f913647a48a73f0904f501f49",
       "version_major": 2,
       "version_minor": 0
      },
      "text/plain": [
       "  0%|          | 0/1 [00:00<?, ?it/s]"
      ]
     },
     "metadata": {},
     "output_type": "display_data"
    },
    {
     "data": {
      "application/vnd.jupyter.widget-view+json": {
       "model_id": "e01dd3ffedcc470ea3d4989df18afb2c",
       "version_major": 2,
       "version_minor": 0
      },
      "text/plain": [
       "  0%|          | 0/1 [00:00<?, ?it/s]"
      ]
     },
     "metadata": {},
     "output_type": "display_data"
    },
    {
     "data": {
      "application/vnd.jupyter.widget-view+json": {
       "model_id": "3425f0a97f6a4e90ae19696860e4bd5f",
       "version_major": 2,
       "version_minor": 0
      },
      "text/plain": [
       "  0%|          | 0/1 [00:00<?, ?it/s]"
      ]
     },
     "metadata": {},
     "output_type": "display_data"
    },
    {
     "data": {
      "application/vnd.jupyter.widget-view+json": {
       "model_id": "53426f8f3cfb4f7abf18591918465a03",
       "version_major": 2,
       "version_minor": 0
      },
      "text/plain": [
       "  0%|          | 0/1 [00:00<?, ?it/s]"
      ]
     },
     "metadata": {},
     "output_type": "display_data"
    },
    {
     "data": {
      "application/vnd.jupyter.widget-view+json": {
       "model_id": "d878f6759cef4bbd9f545cedf60eb09c",
       "version_major": 2,
       "version_minor": 0
      },
      "text/plain": [
       "  0%|          | 0/1 [00:00<?, ?it/s]"
      ]
     },
     "metadata": {},
     "output_type": "display_data"
    },
    {
     "data": {
      "application/vnd.jupyter.widget-view+json": {
       "model_id": "cc042a18534a4530950841a6bbc00753",
       "version_major": 2,
       "version_minor": 0
      },
      "text/plain": [
       "  0%|          | 0/1 [00:00<?, ?it/s]"
      ]
     },
     "metadata": {},
     "output_type": "display_data"
    },
    {
     "data": {
      "application/vnd.jupyter.widget-view+json": {
       "model_id": "5d6a1e6ad847405eb582ead4d9964d92",
       "version_major": 2,
       "version_minor": 0
      },
      "text/plain": [
       "  0%|          | 0/1 [00:00<?, ?it/s]"
      ]
     },
     "metadata": {},
     "output_type": "display_data"
    },
    {
     "data": {
      "application/vnd.jupyter.widget-view+json": {
       "model_id": "d806d90ea3834b0abd93fc0cb8157317",
       "version_major": 2,
       "version_minor": 0
      },
      "text/plain": [
       "  0%|          | 0/1 [00:00<?, ?it/s]"
      ]
     },
     "metadata": {},
     "output_type": "display_data"
    },
    {
     "data": {
      "application/vnd.jupyter.widget-view+json": {
       "model_id": "64b5f56c31d644189f6e99a5f4f30bbe",
       "version_major": 2,
       "version_minor": 0
      },
      "text/plain": [
       "  0%|          | 0/1 [00:00<?, ?it/s]"
      ]
     },
     "metadata": {},
     "output_type": "display_data"
    },
    {
     "data": {
      "application/vnd.jupyter.widget-view+json": {
       "model_id": "460dabf8540f4303b96598943bc0717d",
       "version_major": 2,
       "version_minor": 0
      },
      "text/plain": [
       "  0%|          | 0/1 [00:00<?, ?it/s]"
      ]
     },
     "metadata": {},
     "output_type": "display_data"
    },
    {
     "data": {
      "application/vnd.jupyter.widget-view+json": {
       "model_id": "2d34e0c177b5468194dc1b07cc9ae022",
       "version_major": 2,
       "version_minor": 0
      },
      "text/plain": [
       "  0%|          | 0/1 [00:00<?, ?it/s]"
      ]
     },
     "metadata": {},
     "output_type": "display_data"
    },
    {
     "data": {
      "application/vnd.jupyter.widget-view+json": {
       "model_id": "6206228f7fe64f0699bcde872ef5db55",
       "version_major": 2,
       "version_minor": 0
      },
      "text/plain": [
       "  0%|          | 0/1 [00:00<?, ?it/s]"
      ]
     },
     "metadata": {},
     "output_type": "display_data"
    },
    {
     "data": {
      "application/vnd.jupyter.widget-view+json": {
       "model_id": "46711ff481754777b30c3aad1fc3eff6",
       "version_major": 2,
       "version_minor": 0
      },
      "text/plain": [
       "  0%|          | 0/1 [00:00<?, ?it/s]"
      ]
     },
     "metadata": {},
     "output_type": "display_data"
    },
    {
     "data": {
      "application/vnd.jupyter.widget-view+json": {
       "model_id": "11fea1d96eee426baa61a05b4e8dee57",
       "version_major": 2,
       "version_minor": 0
      },
      "text/plain": [
       "  0%|          | 0/1 [00:00<?, ?it/s]"
      ]
     },
     "metadata": {},
     "output_type": "display_data"
    },
    {
     "name": "stdout",
     "output_type": "stream",
     "text": [
      "Dies kann durch sonographisch- oder CT-gesteuerte Feinnadelbiopsie oder mittels Medianoskopie/Laparoskopie erfolgen.\n",
      "\n",
      "No Filter:\n"
     ]
    },
    {
     "data": {
      "text/html": [
       "<div>\n",
       "<style scoped>\n",
       "    .dataframe tbody tr th:only-of-type {\n",
       "        vertical-align: middle;\n",
       "    }\n",
       "\n",
       "    .dataframe tbody tr th {\n",
       "        vertical-align: top;\n",
       "    }\n",
       "\n",
       "    .dataframe thead th {\n",
       "        text-align: right;\n",
       "    }\n",
       "</style>\n",
       "<table border=\"1\" class=\"dataframe\">\n",
       "  <thead>\n",
       "    <tr style=\"text-align: right;\">\n",
       "      <th></th>\n",
       "      <th>document</th>\n",
       "      <th>text</th>\n",
       "      <th>type</th>\n",
       "      <th>start</th>\n",
       "      <th>end</th>\n",
       "      <th>cui</th>\n",
       "      <th>tuis</th>\n",
       "      <th>canonical</th>\n",
       "      <th>linker</th>\n",
       "      <th>confidence</th>\n",
       "    </tr>\n",
       "  </thead>\n",
       "  <tbody>\n",
       "    <tr>\n",
       "      <th>1</th>\n",
       "      <td>21_hodentumoren_0260_21</td>\n",
       "      <td>Medianoskopie</td>\n",
       "      <td>Diagnostic</td>\n",
       "      <td>80</td>\n",
       "      <td>93</td>\n",
       "      <td>C0029090</td>\n",
       "      <td>[T060]</td>\n",
       "      <td>Ophthalmoskopie</td>\n",
       "      <td>[ngram, sapbert]</td>\n",
       "      <td>0.063943</td>\n",
       "    </tr>\n",
       "  </tbody>\n",
       "</table>\n",
       "</div>"
      ],
      "text/plain": [
       "                  document           text        type  start  end       cui  \\\n",
       "1  21_hodentumoren_0260_21  Medianoskopie  Diagnostic     80   93  C0029090   \n",
       "\n",
       "     tuis        canonical            linker  confidence  \n",
       "1  [T060]  Ophthalmoskopie  [ngram, sapbert]    0.063943  "
      ]
     },
     "metadata": {},
     "output_type": "display_data"
    },
    {
     "name": "stdout",
     "output_type": "stream",
     "text": [
      "Filter:\n"
     ]
    },
    {
     "data": {
      "text/html": [
       "<div>\n",
       "<style scoped>\n",
       "    .dataframe tbody tr th:only-of-type {\n",
       "        vertical-align: middle;\n",
       "    }\n",
       "\n",
       "    .dataframe tbody tr th {\n",
       "        vertical-align: top;\n",
       "    }\n",
       "\n",
       "    .dataframe thead th {\n",
       "        text-align: right;\n",
       "    }\n",
       "</style>\n",
       "<table border=\"1\" class=\"dataframe\">\n",
       "  <thead>\n",
       "    <tr style=\"text-align: right;\">\n",
       "      <th></th>\n",
       "      <th>document</th>\n",
       "      <th>text</th>\n",
       "      <th>type</th>\n",
       "      <th>start</th>\n",
       "      <th>end</th>\n",
       "      <th>cui</th>\n",
       "      <th>tuis</th>\n",
       "      <th>canonical</th>\n",
       "      <th>linker</th>\n",
       "      <th>confidence</th>\n",
       "    </tr>\n",
       "  </thead>\n",
       "  <tbody>\n",
       "    <tr>\n",
       "      <th>1</th>\n",
       "      <td>21_hodentumoren_0260_21</td>\n",
       "      <td>Medianoskopie</td>\n",
       "      <td>Diagnostic</td>\n",
       "      <td>80</td>\n",
       "      <td>93</td>\n",
       "      <td>C0031150</td>\n",
       "      <td>[T060]</td>\n",
       "      <td>Laparoskopie</td>\n",
       "      <td>[ngram, sapbert]</td>\n",
       "      <td>0.063796</td>\n",
       "    </tr>\n",
       "  </tbody>\n",
       "</table>\n",
       "</div>"
      ],
      "text/plain": [
       "                  document           text        type  start  end       cui  \\\n",
       "1  21_hodentumoren_0260_21  Medianoskopie  Diagnostic     80   93  C0031150   \n",
       "\n",
       "     tuis     canonical            linker  confidence  \n",
       "1  [T060]  Laparoskopie  [ngram, sapbert]    0.063796  "
      ]
     },
     "metadata": {},
     "output_type": "display_data"
    },
    {
     "name": "stdout",
     "output_type": "stream",
     "text": [
      "####\n"
     ]
    },
    {
     "data": {
      "application/vnd.jupyter.widget-view+json": {
       "model_id": "a634e69f04fa436b9bb162f4e44a1b37",
       "version_major": 2,
       "version_minor": 0
      },
      "text/plain": [
       "  0%|          | 0/1 [00:00<?, ?it/s]"
      ]
     },
     "metadata": {},
     "output_type": "display_data"
    },
    {
     "data": {
      "application/vnd.jupyter.widget-view+json": {
       "model_id": "12870e86c85942c98ca7eef8692e8b76",
       "version_major": 2,
       "version_minor": 0
      },
      "text/plain": [
       "  0%|          | 0/1 [00:00<?, ?it/s]"
      ]
     },
     "metadata": {},
     "output_type": "display_data"
    },
    {
     "name": "stdout",
     "output_type": "stream",
     "text": [
      "Zudem ist die Bestimmung der Serumtumormarker (AFP, Beta-hCG, LDH) zur korrekten Klassifikation des EGKZT nach IGCCCG erforderlich.\n",
      "\n",
      "No Filter:\n"
     ]
    },
    {
     "data": {
      "text/html": [
       "<div>\n",
       "<style scoped>\n",
       "    .dataframe tbody tr th:only-of-type {\n",
       "        vertical-align: middle;\n",
       "    }\n",
       "\n",
       "    .dataframe tbody tr th {\n",
       "        vertical-align: top;\n",
       "    }\n",
       "\n",
       "    .dataframe thead th {\n",
       "        text-align: right;\n",
       "    }\n",
       "</style>\n",
       "<table border=\"1\" class=\"dataframe\">\n",
       "  <thead>\n",
       "    <tr style=\"text-align: right;\">\n",
       "      <th></th>\n",
       "      <th>document</th>\n",
       "      <th>text</th>\n",
       "      <th>type</th>\n",
       "      <th>start</th>\n",
       "      <th>end</th>\n",
       "      <th>cui</th>\n",
       "      <th>tuis</th>\n",
       "      <th>canonical</th>\n",
       "      <th>linker</th>\n",
       "      <th>confidence</th>\n",
       "    </tr>\n",
       "  </thead>\n",
       "  <tbody>\n",
       "    <tr>\n",
       "      <th>4</th>\n",
       "      <td>21_hodentumoren_0260_22</td>\n",
       "      <td>LDH</td>\n",
       "      <td>Nutrient_or_Body_Substance</td>\n",
       "      <td>62</td>\n",
       "      <td>65</td>\n",
       "      <td>C0202113</td>\n",
       "      <td>[T059]</td>\n",
       "      <td>Laktatdehydrogenase</td>\n",
       "      <td>[ngram, sapbert]</td>\n",
       "      <td>0.073044</td>\n",
       "    </tr>\n",
       "  </tbody>\n",
       "</table>\n",
       "</div>"
      ],
      "text/plain": [
       "                  document text                        type  start  end  \\\n",
       "4  21_hodentumoren_0260_22  LDH  Nutrient_or_Body_Substance     62   65   \n",
       "\n",
       "        cui    tuis            canonical            linker  confidence  \n",
       "4  C0202113  [T059]  Laktatdehydrogenase  [ngram, sapbert]    0.073044  "
      ]
     },
     "metadata": {},
     "output_type": "display_data"
    },
    {
     "name": "stdout",
     "output_type": "stream",
     "text": [
      "Filter:\n"
     ]
    },
    {
     "data": {
      "text/html": [
       "<div>\n",
       "<style scoped>\n",
       "    .dataframe tbody tr th:only-of-type {\n",
       "        vertical-align: middle;\n",
       "    }\n",
       "\n",
       "    .dataframe tbody tr th {\n",
       "        vertical-align: top;\n",
       "    }\n",
       "\n",
       "    .dataframe thead th {\n",
       "        text-align: right;\n",
       "    }\n",
       "</style>\n",
       "<table border=\"1\" class=\"dataframe\">\n",
       "  <thead>\n",
       "    <tr style=\"text-align: right;\">\n",
       "      <th></th>\n",
       "      <th>document</th>\n",
       "      <th>text</th>\n",
       "      <th>type</th>\n",
       "      <th>start</th>\n",
       "      <th>end</th>\n",
       "      <th>cui</th>\n",
       "      <th>tuis</th>\n",
       "      <th>canonical</th>\n",
       "      <th>linker</th>\n",
       "      <th>confidence</th>\n",
       "    </tr>\n",
       "  </thead>\n",
       "  <tbody>\n",
       "    <tr>\n",
       "      <th>4</th>\n",
       "      <td>21_hodentumoren_0260_22</td>\n",
       "      <td>LDH</td>\n",
       "      <td>Nutrient_or_Body_Substance</td>\n",
       "      <td>62</td>\n",
       "      <td>65</td>\n",
       "      <td>C0024395</td>\n",
       "      <td>[T116, T126]</td>\n",
       "      <td>Lactatdehydrogenase 5</td>\n",
       "      <td>[ngram, sapbert]</td>\n",
       "      <td>0.069396</td>\n",
       "    </tr>\n",
       "  </tbody>\n",
       "</table>\n",
       "</div>"
      ],
      "text/plain": [
       "                  document text                        type  start  end  \\\n",
       "4  21_hodentumoren_0260_22  LDH  Nutrient_or_Body_Substance     62   65   \n",
       "\n",
       "        cui          tuis              canonical            linker  confidence  \n",
       "4  C0024395  [T116, T126]  Lactatdehydrogenase 5  [ngram, sapbert]    0.069396  "
      ]
     },
     "metadata": {},
     "output_type": "display_data"
    },
    {
     "name": "stdout",
     "output_type": "stream",
     "text": [
      "####\n"
     ]
    },
    {
     "data": {
      "application/vnd.jupyter.widget-view+json": {
       "model_id": "bab912926a194d5aafeafd3d39c60a4f",
       "version_major": 2,
       "version_minor": 0
      },
      "text/plain": [
       "  0%|          | 0/1 [00:00<?, ?it/s]"
      ]
     },
     "metadata": {},
     "output_type": "display_data"
    },
    {
     "data": {
      "application/vnd.jupyter.widget-view+json": {
       "model_id": "7689d2127df542b28c49fda3cf688243",
       "version_major": 2,
       "version_minor": 0
      },
      "text/plain": [
       "  0%|          | 0/1 [00:00<?, ?it/s]"
      ]
     },
     "metadata": {},
     "output_type": "display_data"
    },
    {
     "data": {
      "application/vnd.jupyter.widget-view+json": {
       "model_id": "e92907cbfae64a9f8e7e95b71fc26287",
       "version_major": 2,
       "version_minor": 0
      },
      "text/plain": [
       "  0%|          | 0/1 [00:00<?, ?it/s]"
      ]
     },
     "metadata": {},
     "output_type": "display_data"
    },
    {
     "data": {
      "application/vnd.jupyter.widget-view+json": {
       "model_id": "e9b588ccb3b14093a9d1c45e877d08b1",
       "version_major": 2,
       "version_minor": 0
      },
      "text/plain": [
       "  0%|          | 0/1 [00:00<?, ?it/s]"
      ]
     },
     "metadata": {},
     "output_type": "display_data"
    },
    {
     "data": {
      "application/vnd.jupyter.widget-view+json": {
       "model_id": "c98529efe9c94a6c884142642f127a97",
       "version_major": 2,
       "version_minor": 0
      },
      "text/plain": [
       "  0%|          | 0/1 [00:00<?, ?it/s]"
      ]
     },
     "metadata": {},
     "output_type": "display_data"
    },
    {
     "data": {
      "application/vnd.jupyter.widget-view+json": {
       "model_id": "ad9ccdd0a43c42b39acd1c9fec295e09",
       "version_major": 2,
       "version_minor": 0
      },
      "text/plain": [
       "  0%|          | 0/1 [00:00<?, ?it/s]"
      ]
     },
     "metadata": {},
     "output_type": "display_data"
    },
    {
     "data": {
      "application/vnd.jupyter.widget-view+json": {
       "model_id": "dfc66559a12f4033b038cdf6a8740df2",
       "version_major": 2,
       "version_minor": 0
      },
      "text/plain": [
       "  0%|          | 0/1 [00:00<?, ?it/s]"
      ]
     },
     "metadata": {},
     "output_type": "display_data"
    },
    {
     "data": {
      "application/vnd.jupyter.widget-view+json": {
       "model_id": "605e39369bc14023aa6b76439d9455a8",
       "version_major": 2,
       "version_minor": 0
      },
      "text/plain": [
       "  0%|          | 0/1 [00:00<?, ?it/s]"
      ]
     },
     "metadata": {},
     "output_type": "display_data"
    },
    {
     "name": "stdout",
     "output_type": "stream",
     "text": [
      "Die Notwendigkeit einer primären Biopsie eines solchen Befundes wird kontrovers diskutiert.\n",
      "\n",
      "No Filter:\n"
     ]
    },
    {
     "data": {
      "text/html": [
       "<div>\n",
       "<style scoped>\n",
       "    .dataframe tbody tr th:only-of-type {\n",
       "        vertical-align: middle;\n",
       "    }\n",
       "\n",
       "    .dataframe tbody tr th {\n",
       "        vertical-align: top;\n",
       "    }\n",
       "\n",
       "    .dataframe thead th {\n",
       "        text-align: right;\n",
       "    }\n",
       "</style>\n",
       "<table border=\"1\" class=\"dataframe\">\n",
       "  <thead>\n",
       "    <tr style=\"text-align: right;\">\n",
       "      <th></th>\n",
       "      <th>document</th>\n",
       "      <th>text</th>\n",
       "      <th>type</th>\n",
       "      <th>start</th>\n",
       "      <th>end</th>\n",
       "      <th>cui</th>\n",
       "      <th>tuis</th>\n",
       "      <th>canonical</th>\n",
       "      <th>linker</th>\n",
       "      <th>confidence</th>\n",
       "    </tr>\n",
       "  </thead>\n",
       "  <tbody>\n",
       "    <tr>\n",
       "      <th>0</th>\n",
       "      <td>21_hodentumoren_0260_26</td>\n",
       "      <td>primären Biopsie eines solchen Befundes</td>\n",
       "      <td>Diagnostic</td>\n",
       "      <td>24</td>\n",
       "      <td>63</td>\n",
       "      <td>C0220797</td>\n",
       "      <td>[T033]</td>\n",
       "      <td>biopsy</td>\n",
       "      <td>[sapbert]</td>\n",
       "      <td>0.064055</td>\n",
       "    </tr>\n",
       "  </tbody>\n",
       "</table>\n",
       "</div>"
      ],
      "text/plain": [
       "                  document                                     text  \\\n",
       "0  21_hodentumoren_0260_26  primären Biopsie eines solchen Befundes   \n",
       "\n",
       "         type  start  end       cui    tuis canonical     linker  confidence  \n",
       "0  Diagnostic     24   63  C0220797  [T033]    biopsy  [sapbert]    0.064055  "
      ]
     },
     "metadata": {},
     "output_type": "display_data"
    },
    {
     "name": "stdout",
     "output_type": "stream",
     "text": [
      "Filter:\n"
     ]
    },
    {
     "data": {
      "text/html": [
       "<div>\n",
       "<style scoped>\n",
       "    .dataframe tbody tr th:only-of-type {\n",
       "        vertical-align: middle;\n",
       "    }\n",
       "\n",
       "    .dataframe tbody tr th {\n",
       "        vertical-align: top;\n",
       "    }\n",
       "\n",
       "    .dataframe thead th {\n",
       "        text-align: right;\n",
       "    }\n",
       "</style>\n",
       "<table border=\"1\" class=\"dataframe\">\n",
       "  <thead>\n",
       "    <tr style=\"text-align: right;\">\n",
       "      <th></th>\n",
       "      <th>document</th>\n",
       "      <th>text</th>\n",
       "      <th>type</th>\n",
       "      <th>start</th>\n",
       "      <th>end</th>\n",
       "      <th>cui</th>\n",
       "      <th>tuis</th>\n",
       "      <th>canonical</th>\n",
       "      <th>linker</th>\n",
       "      <th>confidence</th>\n",
       "    </tr>\n",
       "  </thead>\n",
       "  <tbody>\n",
       "    <tr>\n",
       "      <th>0</th>\n",
       "      <td>21_hodentumoren_0260_26</td>\n",
       "      <td>primären Biopsie eines solchen Befundes</td>\n",
       "      <td>Diagnostic</td>\n",
       "      <td>24</td>\n",
       "      <td>63</td>\n",
       "      <td>C0005558</td>\n",
       "      <td>[T060]</td>\n",
       "      <td>Biopsie</td>\n",
       "      <td>[ngram, sapbert]</td>\n",
       "      <td>0.063768</td>\n",
       "    </tr>\n",
       "  </tbody>\n",
       "</table>\n",
       "</div>"
      ],
      "text/plain": [
       "                  document                                     text  \\\n",
       "0  21_hodentumoren_0260_26  primären Biopsie eines solchen Befundes   \n",
       "\n",
       "         type  start  end       cui    tuis canonical            linker  \\\n",
       "0  Diagnostic     24   63  C0005558  [T060]   Biopsie  [ngram, sapbert]   \n",
       "\n",
       "   confidence  \n",
       "0    0.063768  "
      ]
     },
     "metadata": {},
     "output_type": "display_data"
    },
    {
     "name": "stdout",
     "output_type": "stream",
     "text": [
      "####\n"
     ]
    },
    {
     "data": {
      "application/vnd.jupyter.widget-view+json": {
       "model_id": "ea5e96f14c474066b106e734ddd700a1",
       "version_major": 2,
       "version_minor": 0
      },
      "text/plain": [
       "  0%|          | 0/1 [00:00<?, ?it/s]"
      ]
     },
     "metadata": {},
     "output_type": "display_data"
    },
    {
     "data": {
      "application/vnd.jupyter.widget-view+json": {
       "model_id": "b7f9ad498fe5441f827759af8a2fd0bb",
       "version_major": 2,
       "version_minor": 0
      },
      "text/plain": [
       "  0%|          | 0/1 [00:00<?, ?it/s]"
      ]
     },
     "metadata": {},
     "output_type": "display_data"
    },
    {
     "data": {
      "application/vnd.jupyter.widget-view+json": {
       "model_id": "0aca070973ee486e8e42497c99ea71e0",
       "version_major": 2,
       "version_minor": 0
      },
      "text/plain": [
       "  0%|          | 0/1 [00:00<?, ?it/s]"
      ]
     },
     "metadata": {},
     "output_type": "display_data"
    },
    {
     "data": {
      "application/vnd.jupyter.widget-view+json": {
       "model_id": "91dfe7cf9d99420297ab6da96a412ed3",
       "version_major": 2,
       "version_minor": 0
      },
      "text/plain": [
       "  0%|          | 0/1 [00:00<?, ?it/s]"
      ]
     },
     "metadata": {},
     "output_type": "display_data"
    },
    {
     "data": {
      "application/vnd.jupyter.widget-view+json": {
       "model_id": "fbacb483c77348c097159aedc95026dc",
       "version_major": 2,
       "version_minor": 0
      },
      "text/plain": [
       "  0%|          | 0/1 [00:00<?, ?it/s]"
      ]
     },
     "metadata": {},
     "output_type": "display_data"
    },
    {
     "data": {
      "application/vnd.jupyter.widget-view+json": {
       "model_id": "3242fd86c2a842698a94cc2cc747c20b",
       "version_major": 2,
       "version_minor": 0
      },
      "text/plain": [
       "  0%|          | 0/1 [00:00<?, ?it/s]"
      ]
     },
     "metadata": {},
     "output_type": "display_data"
    },
    {
     "data": {
      "application/vnd.jupyter.widget-view+json": {
       "model_id": "4b3c5120f50d4d19af1ae3c86e6244d0",
       "version_major": 2,
       "version_minor": 0
      },
      "text/plain": [
       "  0%|          | 0/1 [00:00<?, ?it/s]"
      ]
     },
     "metadata": {},
     "output_type": "display_data"
    },
    {
     "data": {
      "application/vnd.jupyter.widget-view+json": {
       "model_id": "93e09302788142cbaf1690b49c3b117e",
       "version_major": 2,
       "version_minor": 0
      },
      "text/plain": [
       "  0%|          | 0/1 [00:00<?, ?it/s]"
      ]
     },
     "metadata": {},
     "output_type": "display_data"
    },
    {
     "data": {
      "application/vnd.jupyter.widget-view+json": {
       "model_id": "37984d49215042ad9e0b9e85f296fa50",
       "version_major": 2,
       "version_minor": 0
      },
      "text/plain": [
       "  0%|          | 0/1 [00:00<?, ?it/s]"
      ]
     },
     "metadata": {},
     "output_type": "display_data"
    },
    {
     "data": {
      "application/vnd.jupyter.widget-view+json": {
       "model_id": "6db37125b4d24dca90adafeec9fb9800",
       "version_major": 2,
       "version_minor": 0
      },
      "text/plain": [
       "  0%|          | 0/1 [00:00<?, ?it/s]"
      ]
     },
     "metadata": {},
     "output_type": "display_data"
    },
    {
     "data": {
      "application/vnd.jupyter.widget-view+json": {
       "model_id": "453b2a9a400c4ad0bd2c6840d59f3ae1",
       "version_major": 2,
       "version_minor": 0
      },
      "text/plain": [
       "  0%|          | 0/1 [00:00<?, ?it/s]"
      ]
     },
     "metadata": {},
     "output_type": "display_data"
    },
    {
     "data": {
      "application/vnd.jupyter.widget-view+json": {
       "model_id": "325551ae0302479c99fae40d7fe23ce8",
       "version_major": 2,
       "version_minor": 0
      },
      "text/plain": [
       "  0%|          | 0/1 [00:00<?, ?it/s]"
      ]
     },
     "metadata": {},
     "output_type": "display_data"
    },
    {
     "data": {
      "application/vnd.jupyter.widget-view+json": {
       "model_id": "fb2a1671687046e2a89f4f85fab433c7",
       "version_major": 2,
       "version_minor": 0
      },
      "text/plain": [
       "  0%|          | 0/1 [00:00<?, ?it/s]"
      ]
     },
     "metadata": {},
     "output_type": "display_data"
    },
    {
     "data": {
      "application/vnd.jupyter.widget-view+json": {
       "model_id": "eb17b7e7bd2f41488e033c63800ab541",
       "version_major": 2,
       "version_minor": 0
      },
      "text/plain": [
       "  0%|          | 0/1 [00:00<?, ?it/s]"
      ]
     },
     "metadata": {},
     "output_type": "display_data"
    },
    {
     "data": {
      "application/vnd.jupyter.widget-view+json": {
       "model_id": "713785c374f04562b3e8cdd7e6a30ec5",
       "version_major": 2,
       "version_minor": 0
      },
      "text/plain": [
       "  0%|          | 0/1 [00:00<?, ?it/s]"
      ]
     },
     "metadata": {},
     "output_type": "display_data"
    },
    {
     "data": {
      "application/vnd.jupyter.widget-view+json": {
       "model_id": "34243ab6f7844f8495b33eb4cfdb4779",
       "version_major": 2,
       "version_minor": 0
      },
      "text/plain": [
       "  0%|          | 0/1 [00:00<?, ?it/s]"
      ]
     },
     "metadata": {},
     "output_type": "display_data"
    },
    {
     "data": {
      "application/vnd.jupyter.widget-view+json": {
       "model_id": "a956e24f2f9d44b29d3867a2ca255812",
       "version_major": 2,
       "version_minor": 0
      },
      "text/plain": [
       "  0%|          | 0/1 [00:00<?, ?it/s]"
      ]
     },
     "metadata": {},
     "output_type": "display_data"
    },
    {
     "data": {
      "application/vnd.jupyter.widget-view+json": {
       "model_id": "dea8be48664141938ca96837beb34687",
       "version_major": 2,
       "version_minor": 0
      },
      "text/plain": [
       "  0%|          | 0/1 [00:00<?, ?it/s]"
      ]
     },
     "metadata": {},
     "output_type": "display_data"
    },
    {
     "data": {
      "application/vnd.jupyter.widget-view+json": {
       "model_id": "a56c0cc0857e483eb0a48bf8793c8b2d",
       "version_major": 2,
       "version_minor": 0
      },
      "text/plain": [
       "  0%|          | 0/1 [00:00<?, ?it/s]"
      ]
     },
     "metadata": {},
     "output_type": "display_data"
    },
    {
     "data": {
      "application/vnd.jupyter.widget-view+json": {
       "model_id": "1c4c6f1fa49242fc878e6e7ee056cd4d",
       "version_major": 2,
       "version_minor": 0
      },
      "text/plain": [
       "  0%|          | 0/1 [00:00<?, ?it/s]"
      ]
     },
     "metadata": {},
     "output_type": "display_data"
    },
    {
     "data": {
      "application/vnd.jupyter.widget-view+json": {
       "model_id": "aadf20db997a49179d148be8b2f68761",
       "version_major": 2,
       "version_minor": 0
      },
      "text/plain": [
       "  0%|          | 0/1 [00:00<?, ?it/s]"
      ]
     },
     "metadata": {},
     "output_type": "display_data"
    },
    {
     "data": {
      "application/vnd.jupyter.widget-view+json": {
       "model_id": "efc2f1b567bb4cdbb216c23d287d588f",
       "version_major": 2,
       "version_minor": 0
      },
      "text/plain": [
       "  0%|          | 0/1 [00:00<?, ?it/s]"
      ]
     },
     "metadata": {},
     "output_type": "display_data"
    },
    {
     "data": {
      "application/vnd.jupyter.widget-view+json": {
       "model_id": "c460fb89a6474d2abd646724c017f481",
       "version_major": 2,
       "version_minor": 0
      },
      "text/plain": [
       "  0%|          | 0/1 [00:00<?, ?it/s]"
      ]
     },
     "metadata": {},
     "output_type": "display_data"
    },
    {
     "data": {
      "application/vnd.jupyter.widget-view+json": {
       "model_id": "2288b9cde5dd4a1caff37020c7e7421d",
       "version_major": 2,
       "version_minor": 0
      },
      "text/plain": [
       "  0%|          | 0/1 [00:00<?, ?it/s]"
      ]
     },
     "metadata": {},
     "output_type": "display_data"
    },
    {
     "data": {
      "application/vnd.jupyter.widget-view+json": {
       "model_id": "42a1631ec1bd45e7b8359fafcc6cb6a3",
       "version_major": 2,
       "version_minor": 0
      },
      "text/plain": [
       "  0%|          | 0/1 [00:00<?, ?it/s]"
      ]
     },
     "metadata": {},
     "output_type": "display_data"
    },
    {
     "data": {
      "application/vnd.jupyter.widget-view+json": {
       "model_id": "6e7955c844dd400b8e18cbc07bbf115f",
       "version_major": 2,
       "version_minor": 0
      },
      "text/plain": [
       "  0%|          | 0/1 [00:00<?, ?it/s]"
      ]
     },
     "metadata": {},
     "output_type": "display_data"
    },
    {
     "data": {
      "application/vnd.jupyter.widget-view+json": {
       "model_id": "cf8c2b73455c4aacb18755821a63c079",
       "version_major": 2,
       "version_minor": 0
      },
      "text/plain": [
       "  0%|          | 0/1 [00:00<?, ?it/s]"
      ]
     },
     "metadata": {},
     "output_type": "display_data"
    },
    {
     "data": {
      "application/vnd.jupyter.widget-view+json": {
       "model_id": "582719b5ae7c47c4bb209d599b2b328a",
       "version_major": 2,
       "version_minor": 0
      },
      "text/plain": [
       "  0%|          | 0/1 [00:00<?, ?it/s]"
      ]
     },
     "metadata": {},
     "output_type": "display_data"
    },
    {
     "data": {
      "application/vnd.jupyter.widget-view+json": {
       "model_id": "0647707e8dee425c991c517ee80115e9",
       "version_major": 2,
       "version_minor": 0
      },
      "text/plain": [
       "  0%|          | 0/1 [00:00<?, ?it/s]"
      ]
     },
     "metadata": {},
     "output_type": "display_data"
    },
    {
     "data": {
      "application/vnd.jupyter.widget-view+json": {
       "model_id": "f0a73fcbcb6b41ae8c3f1210ffbb3ead",
       "version_major": 2,
       "version_minor": 0
      },
      "text/plain": [
       "  0%|          | 0/1 [00:00<?, ?it/s]"
      ]
     },
     "metadata": {},
     "output_type": "display_data"
    },
    {
     "data": {
      "application/vnd.jupyter.widget-view+json": {
       "model_id": "a48badb95c474d48bde00fc63c7fdb45",
       "version_major": 2,
       "version_minor": 0
      },
      "text/plain": [
       "  0%|          | 0/1 [00:00<?, ?it/s]"
      ]
     },
     "metadata": {},
     "output_type": "display_data"
    },
    {
     "data": {
      "application/vnd.jupyter.widget-view+json": {
       "model_id": "6b5964d3a4ef4533a53c9cd2f603d59c",
       "version_major": 2,
       "version_minor": 0
      },
      "text/plain": [
       "  0%|          | 0/1 [00:00<?, ?it/s]"
      ]
     },
     "metadata": {},
     "output_type": "display_data"
    },
    {
     "data": {
      "application/vnd.jupyter.widget-view+json": {
       "model_id": "67f0a270a7a0450ab94c1995b1cc446b",
       "version_major": 2,
       "version_minor": 0
      },
      "text/plain": [
       "  0%|          | 0/1 [00:00<?, ?it/s]"
      ]
     },
     "metadata": {},
     "output_type": "display_data"
    },
    {
     "data": {
      "application/vnd.jupyter.widget-view+json": {
       "model_id": "f8efcee7d3854eb9a6fc239a3960f0ba",
       "version_major": 2,
       "version_minor": 0
      },
      "text/plain": [
       "  0%|          | 0/1 [00:00<?, ?it/s]"
      ]
     },
     "metadata": {},
     "output_type": "display_data"
    },
    {
     "data": {
      "application/vnd.jupyter.widget-view+json": {
       "model_id": "2747e412ddd946c5acba27c28ea75cae",
       "version_major": 2,
       "version_minor": 0
      },
      "text/plain": [
       "  0%|          | 0/1 [00:00<?, ?it/s]"
      ]
     },
     "metadata": {},
     "output_type": "display_data"
    },
    {
     "data": {
      "application/vnd.jupyter.widget-view+json": {
       "model_id": "050b3b670b6a4d0c82ce5e858f5f7f7e",
       "version_major": 2,
       "version_minor": 0
      },
      "text/plain": [
       "  0%|          | 0/1 [00:00<?, ?it/s]"
      ]
     },
     "metadata": {},
     "output_type": "display_data"
    },
    {
     "data": {
      "application/vnd.jupyter.widget-view+json": {
       "model_id": "149d7bda18534eb689f63b7f38f43977",
       "version_major": 2,
       "version_minor": 0
      },
      "text/plain": [
       "  0%|          | 0/1 [00:00<?, ?it/s]"
      ]
     },
     "metadata": {},
     "output_type": "display_data"
    },
    {
     "data": {
      "application/vnd.jupyter.widget-view+json": {
       "model_id": "9784b95eb083431ea1be4de6df3c29a2",
       "version_major": 2,
       "version_minor": 0
      },
      "text/plain": [
       "  0%|          | 0/1 [00:00<?, ?it/s]"
      ]
     },
     "metadata": {},
     "output_type": "display_data"
    },
    {
     "data": {
      "application/vnd.jupyter.widget-view+json": {
       "model_id": "f781a85ac88845aca957c0e91d28f1ab",
       "version_major": 2,
       "version_minor": 0
      },
      "text/plain": [
       "  0%|          | 0/1 [00:00<?, ?it/s]"
      ]
     },
     "metadata": {},
     "output_type": "display_data"
    },
    {
     "data": {
      "application/vnd.jupyter.widget-view+json": {
       "model_id": "b574fcb7a7b54ad687ff043ff9ba8d61",
       "version_major": 2,
       "version_minor": 0
      },
      "text/plain": [
       "  0%|          | 0/1 [00:00<?, ?it/s]"
      ]
     },
     "metadata": {},
     "output_type": "display_data"
    },
    {
     "data": {
      "application/vnd.jupyter.widget-view+json": {
       "model_id": "9e5191b19b6b4f6ea520a74d5608e944",
       "version_major": 2,
       "version_minor": 0
      },
      "text/plain": [
       "  0%|          | 0/1 [00:00<?, ?it/s]"
      ]
     },
     "metadata": {},
     "output_type": "display_data"
    },
    {
     "data": {
      "application/vnd.jupyter.widget-view+json": {
       "model_id": "b5751713fb1b461ba2715917e27cf02e",
       "version_major": 2,
       "version_minor": 0
      },
      "text/plain": [
       "  0%|          | 0/1 [00:00<?, ?it/s]"
      ]
     },
     "metadata": {},
     "output_type": "display_data"
    },
    {
     "data": {
      "application/vnd.jupyter.widget-view+json": {
       "model_id": "29ad6feb50a04b3b83e78a0156aeab12",
       "version_major": 2,
       "version_minor": 0
      },
      "text/plain": [
       "  0%|          | 0/1 [00:00<?, ?it/s]"
      ]
     },
     "metadata": {},
     "output_type": "display_data"
    },
    {
     "data": {
      "application/vnd.jupyter.widget-view+json": {
       "model_id": "bcc0386bedff458c902a7a878e3c33c0",
       "version_major": 2,
       "version_minor": 0
      },
      "text/plain": [
       "  0%|          | 0/1 [00:00<?, ?it/s]"
      ]
     },
     "metadata": {},
     "output_type": "display_data"
    },
    {
     "data": {
      "application/vnd.jupyter.widget-view+json": {
       "model_id": "d3207b6a134d4a3493f366967ba384a0",
       "version_major": 2,
       "version_minor": 0
      },
      "text/plain": [
       "  0%|          | 0/1 [00:00<?, ?it/s]"
      ]
     },
     "metadata": {},
     "output_type": "display_data"
    },
    {
     "data": {
      "application/vnd.jupyter.widget-view+json": {
       "model_id": "bb2ec70aea22400baef610e394a99ef7",
       "version_major": 2,
       "version_minor": 0
      },
      "text/plain": [
       "  0%|          | 0/1 [00:00<?, ?it/s]"
      ]
     },
     "metadata": {},
     "output_type": "display_data"
    },
    {
     "data": {
      "application/vnd.jupyter.widget-view+json": {
       "model_id": "b3ac6750457b466fac174999784794ee",
       "version_major": 2,
       "version_minor": 0
      },
      "text/plain": [
       "  0%|          | 0/1 [00:00<?, ?it/s]"
      ]
     },
     "metadata": {},
     "output_type": "display_data"
    },
    {
     "data": {
      "application/vnd.jupyter.widget-view+json": {
       "model_id": "ebc3f4d067734cfda2de9bb6a9eb8e12",
       "version_major": 2,
       "version_minor": 0
      },
      "text/plain": [
       "  0%|          | 0/1 [00:00<?, ?it/s]"
      ]
     },
     "metadata": {},
     "output_type": "display_data"
    },
    {
     "name": "stdout",
     "output_type": "stream",
     "text": [
      "Die vaskulär-gezielte photodynamische Therapie (VTP) mit Padeliporfin (TOOKAD©) ist durch die EMA zugelassen für die Behandlung des unbehandelten, lokalisierten Niedrig-Risiko Prostatakarzinoms (T1c oder T2a, Gleason Score 6, PSA < 10 ng/ml) mit lokaler Begrenzung (maximal drei positive Proben mit einer maximalen Tumorinfiltrationslänge von 5 mm bei jeder der drei Proben oder 1-2 positiven Proben mit > 50 % Befall oder einer PSA-Dichte ≥ 0.15 ng/ml/mm3).\n",
      "\n",
      "No Filter:\n"
     ]
    },
    {
     "data": {
      "text/html": [
       "<div>\n",
       "<style scoped>\n",
       "    .dataframe tbody tr th:only-of-type {\n",
       "        vertical-align: middle;\n",
       "    }\n",
       "\n",
       "    .dataframe tbody tr th {\n",
       "        vertical-align: top;\n",
       "    }\n",
       "\n",
       "    .dataframe thead th {\n",
       "        text-align: right;\n",
       "    }\n",
       "</style>\n",
       "<table border=\"1\" class=\"dataframe\">\n",
       "  <thead>\n",
       "    <tr style=\"text-align: right;\">\n",
       "      <th></th>\n",
       "      <th>document</th>\n",
       "      <th>text</th>\n",
       "      <th>type</th>\n",
       "      <th>start</th>\n",
       "      <th>end</th>\n",
       "      <th>cui</th>\n",
       "      <th>tuis</th>\n",
       "      <th>canonical</th>\n",
       "      <th>linker</th>\n",
       "      <th>confidence</th>\n",
       "    </tr>\n",
       "  </thead>\n",
       "  <tbody>\n",
       "    <tr>\n",
       "      <th>4</th>\n",
       "      <td>22_prostatakarzinom_0153_0</td>\n",
       "      <td>Behandlung des unbehandelten, lokalisierten Ni...</td>\n",
       "      <td>Therapeutic</td>\n",
       "      <td>117</td>\n",
       "      <td>193</td>\n",
       "      <td>C5553996</td>\n",
       "      <td>[T191]</td>\n",
       "      <td>Locally advanced prostate cancer</td>\n",
       "      <td>[ngram, sapbert]</td>\n",
       "      <td>0.063802</td>\n",
       "    </tr>\n",
       "  </tbody>\n",
       "</table>\n",
       "</div>"
      ],
      "text/plain": [
       "                     document  \\\n",
       "4  22_prostatakarzinom_0153_0   \n",
       "\n",
       "                                                text         type  start  end  \\\n",
       "4  Behandlung des unbehandelten, lokalisierten Ni...  Therapeutic    117  193   \n",
       "\n",
       "        cui    tuis                         canonical            linker  \\\n",
       "4  C5553996  [T191]  Locally advanced prostate cancer  [ngram, sapbert]   \n",
       "\n",
       "   confidence  \n",
       "4    0.063802  "
      ]
     },
     "metadata": {},
     "output_type": "display_data"
    },
    {
     "name": "stdout",
     "output_type": "stream",
     "text": [
      "Filter:\n"
     ]
    },
    {
     "data": {
      "text/html": [
       "<div>\n",
       "<style scoped>\n",
       "    .dataframe tbody tr th:only-of-type {\n",
       "        vertical-align: middle;\n",
       "    }\n",
       "\n",
       "    .dataframe tbody tr th {\n",
       "        vertical-align: top;\n",
       "    }\n",
       "\n",
       "    .dataframe thead th {\n",
       "        text-align: right;\n",
       "    }\n",
       "</style>\n",
       "<table border=\"1\" class=\"dataframe\">\n",
       "  <thead>\n",
       "    <tr style=\"text-align: right;\">\n",
       "      <th></th>\n",
       "      <th>document</th>\n",
       "      <th>text</th>\n",
       "      <th>type</th>\n",
       "      <th>start</th>\n",
       "      <th>end</th>\n",
       "      <th>cui</th>\n",
       "      <th>tuis</th>\n",
       "      <th>canonical</th>\n",
       "      <th>linker</th>\n",
       "      <th>confidence</th>\n",
       "    </tr>\n",
       "  </thead>\n",
       "  <tbody>\n",
       "    <tr>\n",
       "      <th>4</th>\n",
       "      <td>22_prostatakarzinom_0153_0</td>\n",
       "      <td>Behandlung des unbehandelten, lokalisierten Ni...</td>\n",
       "      <td>Therapeutic</td>\n",
       "      <td>117</td>\n",
       "      <td>193</td>\n",
       "      <td>C1880062</td>\n",
       "      <td>[T061]</td>\n",
       "      <td>Regimen Used to Treat Prostate Carcinoma</td>\n",
       "      <td>[sapbert]</td>\n",
       "      <td>0.063829</td>\n",
       "    </tr>\n",
       "  </tbody>\n",
       "</table>\n",
       "</div>"
      ],
      "text/plain": [
       "                     document  \\\n",
       "4  22_prostatakarzinom_0153_0   \n",
       "\n",
       "                                                text         type  start  end  \\\n",
       "4  Behandlung des unbehandelten, lokalisierten Ni...  Therapeutic    117  193   \n",
       "\n",
       "        cui    tuis                                 canonical     linker  \\\n",
       "4  C1880062  [T061]  Regimen Used to Treat Prostate Carcinoma  [sapbert]   \n",
       "\n",
       "   confidence  \n",
       "4    0.063829  "
      ]
     },
     "metadata": {},
     "output_type": "display_data"
    },
    {
     "name": "stdout",
     "output_type": "stream",
     "text": [
      "####\n"
     ]
    },
    {
     "data": {
      "application/vnd.jupyter.widget-view+json": {
       "model_id": "c8d344f880e24531b2035ceabac90084",
       "version_major": 2,
       "version_minor": 0
      },
      "text/plain": [
       "  0%|          | 0/1 [00:00<?, ?it/s]"
      ]
     },
     "metadata": {},
     "output_type": "display_data"
    },
    {
     "data": {
      "application/vnd.jupyter.widget-view+json": {
       "model_id": "5322c48f2f7c45b5ba095bda62b8aec0",
       "version_major": 2,
       "version_minor": 0
      },
      "text/plain": [
       "  0%|          | 0/1 [00:00<?, ?it/s]"
      ]
     },
     "metadata": {},
     "output_type": "display_data"
    },
    {
     "data": {
      "application/vnd.jupyter.widget-view+json": {
       "model_id": "3cc042f469794c4ea03238ed88eabf1b",
       "version_major": 2,
       "version_minor": 0
      },
      "text/plain": [
       "  0%|          | 0/1 [00:00<?, ?it/s]"
      ]
     },
     "metadata": {},
     "output_type": "display_data"
    },
    {
     "data": {
      "application/vnd.jupyter.widget-view+json": {
       "model_id": "99a3bd911ade4540aff3fa8c1f3d5f5e",
       "version_major": 2,
       "version_minor": 0
      },
      "text/plain": [
       "  0%|          | 0/1 [00:00<?, ?it/s]"
      ]
     },
     "metadata": {},
     "output_type": "display_data"
    },
    {
     "data": {
      "application/vnd.jupyter.widget-view+json": {
       "model_id": "6cb4758f3a0c409c8a6210f088eeeb30",
       "version_major": 2,
       "version_minor": 0
      },
      "text/plain": [
       "  0%|          | 0/1 [00:00<?, ?it/s]"
      ]
     },
     "metadata": {},
     "output_type": "display_data"
    },
    {
     "data": {
      "application/vnd.jupyter.widget-view+json": {
       "model_id": "49a2b5ef030e4443bc5328142bad76ff",
       "version_major": 2,
       "version_minor": 0
      },
      "text/plain": [
       "  0%|          | 0/1 [00:00<?, ?it/s]"
      ]
     },
     "metadata": {},
     "output_type": "display_data"
    },
    {
     "data": {
      "application/vnd.jupyter.widget-view+json": {
       "model_id": "9eb5b72ba7194cd8817a223196f0d0d6",
       "version_major": 2,
       "version_minor": 0
      },
      "text/plain": [
       "  0%|          | 0/1 [00:00<?, ?it/s]"
      ]
     },
     "metadata": {},
     "output_type": "display_data"
    },
    {
     "data": {
      "application/vnd.jupyter.widget-view+json": {
       "model_id": "ec7c0748691746ccb8556951d68abf88",
       "version_major": 2,
       "version_minor": 0
      },
      "text/plain": [
       "  0%|          | 0/1 [00:00<?, ?it/s]"
      ]
     },
     "metadata": {},
     "output_type": "display_data"
    },
    {
     "data": {
      "application/vnd.jupyter.widget-view+json": {
       "model_id": "4d3d2ed4db214a6086930cd6571f601b",
       "version_major": 2,
       "version_minor": 0
      },
      "text/plain": [
       "  0%|          | 0/1 [00:00<?, ?it/s]"
      ]
     },
     "metadata": {},
     "output_type": "display_data"
    },
    {
     "data": {
      "application/vnd.jupyter.widget-view+json": {
       "model_id": "2c1da0f54f4d45e2a0b48357ac952a86",
       "version_major": 2,
       "version_minor": 0
      },
      "text/plain": [
       "  0%|          | 0/1 [00:00<?, ?it/s]"
      ]
     },
     "metadata": {},
     "output_type": "display_data"
    },
    {
     "data": {
      "application/vnd.jupyter.widget-view+json": {
       "model_id": "f195403036c04b5fa931167fed72fdca",
       "version_major": 2,
       "version_minor": 0
      },
      "text/plain": [
       "  0%|          | 0/1 [00:00<?, ?it/s]"
      ]
     },
     "metadata": {},
     "output_type": "display_data"
    },
    {
     "data": {
      "application/vnd.jupyter.widget-view+json": {
       "model_id": "1fa4cca595f6416f9fbbb146759b281f",
       "version_major": 2,
       "version_minor": 0
      },
      "text/plain": [
       "  0%|          | 0/1 [00:00<?, ?it/s]"
      ]
     },
     "metadata": {},
     "output_type": "display_data"
    },
    {
     "data": {
      "application/vnd.jupyter.widget-view+json": {
       "model_id": "9af7e9491f544aa29574c393b1e747d3",
       "version_major": 2,
       "version_minor": 0
      },
      "text/plain": [
       "  0%|          | 0/1 [00:00<?, ?it/s]"
      ]
     },
     "metadata": {},
     "output_type": "display_data"
    },
    {
     "data": {
      "application/vnd.jupyter.widget-view+json": {
       "model_id": "b07332b095eb42469070a3b2e18dbea0",
       "version_major": 2,
       "version_minor": 0
      },
      "text/plain": [
       "  0%|          | 0/1 [00:00<?, ?it/s]"
      ]
     },
     "metadata": {},
     "output_type": "display_data"
    },
    {
     "data": {
      "application/vnd.jupyter.widget-view+json": {
       "model_id": "059dd92a3f0d4d7a92096d7b91187778",
       "version_major": 2,
       "version_minor": 0
      },
      "text/plain": [
       "  0%|          | 0/1 [00:00<?, ?it/s]"
      ]
     },
     "metadata": {},
     "output_type": "display_data"
    },
    {
     "data": {
      "application/vnd.jupyter.widget-view+json": {
       "model_id": "a2d368be36144e9eb1840e504eadbac9",
       "version_major": 2,
       "version_minor": 0
      },
      "text/plain": [
       "  0%|          | 0/1 [00:00<?, ?it/s]"
      ]
     },
     "metadata": {},
     "output_type": "display_data"
    },
    {
     "data": {
      "application/vnd.jupyter.widget-view+json": {
       "model_id": "11cc6eaaf6cc4e68803ff6c01072ff25",
       "version_major": 2,
       "version_minor": 0
      },
      "text/plain": [
       "  0%|          | 0/1 [00:00<?, ?it/s]"
      ]
     },
     "metadata": {},
     "output_type": "display_data"
    },
    {
     "data": {
      "application/vnd.jupyter.widget-view+json": {
       "model_id": "3434aefb61354ccf9fe7d75255ab41dc",
       "version_major": 2,
       "version_minor": 0
      },
      "text/plain": [
       "  0%|          | 0/1 [00:00<?, ?it/s]"
      ]
     },
     "metadata": {},
     "output_type": "display_data"
    },
    {
     "data": {
      "application/vnd.jupyter.widget-view+json": {
       "model_id": "eea45fb30be1447a8829d11999a4d1a4",
       "version_major": 2,
       "version_minor": 0
      },
      "text/plain": [
       "  0%|          | 0/1 [00:00<?, ?it/s]"
      ]
     },
     "metadata": {},
     "output_type": "display_data"
    },
    {
     "data": {
      "application/vnd.jupyter.widget-view+json": {
       "model_id": "0e65fd66b96843d2856b48fa77327e94",
       "version_major": 2,
       "version_minor": 0
      },
      "text/plain": [
       "  0%|          | 0/1 [00:00<?, ?it/s]"
      ]
     },
     "metadata": {},
     "output_type": "display_data"
    },
    {
     "data": {
      "application/vnd.jupyter.widget-view+json": {
       "model_id": "cb90ff1dd0e04271aeff721a9044a56d",
       "version_major": 2,
       "version_minor": 0
      },
      "text/plain": [
       "  0%|          | 0/1 [00:00<?, ?it/s]"
      ]
     },
     "metadata": {},
     "output_type": "display_data"
    },
    {
     "data": {
      "application/vnd.jupyter.widget-view+json": {
       "model_id": "b2c0dce46ece4ba2ab03bc0df4b75511",
       "version_major": 2,
       "version_minor": 0
      },
      "text/plain": [
       "  0%|          | 0/1 [00:00<?, ?it/s]"
      ]
     },
     "metadata": {},
     "output_type": "display_data"
    },
    {
     "data": {
      "application/vnd.jupyter.widget-view+json": {
       "model_id": "f8d8f1aea1f0454f8c3222e0ab1c2112",
       "version_major": 2,
       "version_minor": 0
      },
      "text/plain": [
       "  0%|          | 0/1 [00:00<?, ?it/s]"
      ]
     },
     "metadata": {},
     "output_type": "display_data"
    },
    {
     "data": {
      "application/vnd.jupyter.widget-view+json": {
       "model_id": "424e8cab44a84b9e8bc69ccfbc2ef7f2",
       "version_major": 2,
       "version_minor": 0
      },
      "text/plain": [
       "  0%|          | 0/1 [00:00<?, ?it/s]"
      ]
     },
     "metadata": {},
     "output_type": "display_data"
    },
    {
     "data": {
      "application/vnd.jupyter.widget-view+json": {
       "model_id": "dff2e113e6fd4e2c918a8be04d0faf89",
       "version_major": 2,
       "version_minor": 0
      },
      "text/plain": [
       "  0%|          | 0/1 [00:00<?, ?it/s]"
      ]
     },
     "metadata": {},
     "output_type": "display_data"
    },
    {
     "data": {
      "application/vnd.jupyter.widget-view+json": {
       "model_id": "a5c9d6f211034b418a31476989f854ed",
       "version_major": 2,
       "version_minor": 0
      },
      "text/plain": [
       "  0%|          | 0/1 [00:00<?, ?it/s]"
      ]
     },
     "metadata": {},
     "output_type": "display_data"
    },
    {
     "data": {
      "application/vnd.jupyter.widget-view+json": {
       "model_id": "a7711c831ec342a0b984ad00f56e047b",
       "version_major": 2,
       "version_minor": 0
      },
      "text/plain": [
       "  0%|          | 0/1 [00:00<?, ?it/s]"
      ]
     },
     "metadata": {},
     "output_type": "display_data"
    },
    {
     "data": {
      "application/vnd.jupyter.widget-view+json": {
       "model_id": "2044446cb26649158e86036fdcf9d46c",
       "version_major": 2,
       "version_minor": 0
      },
      "text/plain": [
       "  0%|          | 0/1 [00:00<?, ?it/s]"
      ]
     },
     "metadata": {},
     "output_type": "display_data"
    },
    {
     "data": {
      "application/vnd.jupyter.widget-view+json": {
       "model_id": "e731fc496d2a417aaedbaef2edc5cf3c",
       "version_major": 2,
       "version_minor": 0
      },
      "text/plain": [
       "  0%|          | 0/1 [00:00<?, ?it/s]"
      ]
     },
     "metadata": {},
     "output_type": "display_data"
    },
    {
     "data": {
      "application/vnd.jupyter.widget-view+json": {
       "model_id": "945687153e734c0797228509438500c9",
       "version_major": 2,
       "version_minor": 0
      },
      "text/plain": [
       "  0%|          | 0/1 [00:00<?, ?it/s]"
      ]
     },
     "metadata": {},
     "output_type": "display_data"
    },
    {
     "data": {
      "application/vnd.jupyter.widget-view+json": {
       "model_id": "ff518dce1c5d44ccae7dc4c024b5298a",
       "version_major": 2,
       "version_minor": 0
      },
      "text/plain": [
       "  0%|          | 0/1 [00:00<?, ?it/s]"
      ]
     },
     "metadata": {},
     "output_type": "display_data"
    },
    {
     "data": {
      "application/vnd.jupyter.widget-view+json": {
       "model_id": "e05b135eb9354876892493a369bb737c",
       "version_major": 2,
       "version_minor": 0
      },
      "text/plain": [
       "  0%|          | 0/1 [00:00<?, ?it/s]"
      ]
     },
     "metadata": {},
     "output_type": "display_data"
    },
    {
     "data": {
      "application/vnd.jupyter.widget-view+json": {
       "model_id": "3ab34c4e6a044f5c8d2984c7adab03ca",
       "version_major": 2,
       "version_minor": 0
      },
      "text/plain": [
       "  0%|          | 0/1 [00:00<?, ?it/s]"
      ]
     },
     "metadata": {},
     "output_type": "display_data"
    },
    {
     "data": {
      "application/vnd.jupyter.widget-view+json": {
       "model_id": "36b08d1b56474104853ce20130e88d87",
       "version_major": 2,
       "version_minor": 0
      },
      "text/plain": [
       "  0%|          | 0/1 [00:00<?, ?it/s]"
      ]
     },
     "metadata": {},
     "output_type": "display_data"
    },
    {
     "data": {
      "application/vnd.jupyter.widget-view+json": {
       "model_id": "8f050528b0f04bd59bab278703e78b94",
       "version_major": 2,
       "version_minor": 0
      },
      "text/plain": [
       "  0%|          | 0/1 [00:00<?, ?it/s]"
      ]
     },
     "metadata": {},
     "output_type": "display_data"
    },
    {
     "data": {
      "application/vnd.jupyter.widget-view+json": {
       "model_id": "986212342991413b8639f97778fcae22",
       "version_major": 2,
       "version_minor": 0
      },
      "text/plain": [
       "  0%|          | 0/1 [00:00<?, ?it/s]"
      ]
     },
     "metadata": {},
     "output_type": "display_data"
    },
    {
     "data": {
      "application/vnd.jupyter.widget-view+json": {
       "model_id": "90c8941734f74a80be9ff453ed6f9b91",
       "version_major": 2,
       "version_minor": 0
      },
      "text/plain": [
       "  0%|          | 0/1 [00:00<?, ?it/s]"
      ]
     },
     "metadata": {},
     "output_type": "display_data"
    },
    {
     "data": {
      "application/vnd.jupyter.widget-view+json": {
       "model_id": "849680484f5c4211909b3f3bd08f07d4",
       "version_major": 2,
       "version_minor": 0
      },
      "text/plain": [
       "  0%|          | 0/1 [00:00<?, ?it/s]"
      ]
     },
     "metadata": {},
     "output_type": "display_data"
    },
    {
     "data": {
      "application/vnd.jupyter.widget-view+json": {
       "model_id": "e0ff5ca3cea64f65a8dddce34f1f6815",
       "version_major": 2,
       "version_minor": 0
      },
      "text/plain": [
       "  0%|          | 0/1 [00:00<?, ?it/s]"
      ]
     },
     "metadata": {},
     "output_type": "display_data"
    },
    {
     "data": {
      "application/vnd.jupyter.widget-view+json": {
       "model_id": "6c3a6e9159c340538d45dd7c309abe40",
       "version_major": 2,
       "version_minor": 0
      },
      "text/plain": [
       "  0%|          | 0/1 [00:00<?, ?it/s]"
      ]
     },
     "metadata": {},
     "output_type": "display_data"
    },
    {
     "data": {
      "application/vnd.jupyter.widget-view+json": {
       "model_id": "bb17c95fdbbf48cba136c65332ae8445",
       "version_major": 2,
       "version_minor": 0
      },
      "text/plain": [
       "  0%|          | 0/1 [00:00<?, ?it/s]"
      ]
     },
     "metadata": {},
     "output_type": "display_data"
    },
    {
     "data": {
      "application/vnd.jupyter.widget-view+json": {
       "model_id": "c096049f0d744ab8a2b901ff66ea465f",
       "version_major": 2,
       "version_minor": 0
      },
      "text/plain": [
       "  0%|          | 0/1 [00:00<?, ?it/s]"
      ]
     },
     "metadata": {},
     "output_type": "display_data"
    },
    {
     "data": {
      "application/vnd.jupyter.widget-view+json": {
       "model_id": "5d70e8069a3641409dbf5e70f222eb19",
       "version_major": 2,
       "version_minor": 0
      },
      "text/plain": [
       "  0%|          | 0/1 [00:00<?, ?it/s]"
      ]
     },
     "metadata": {},
     "output_type": "display_data"
    },
    {
     "data": {
      "application/vnd.jupyter.widget-view+json": {
       "model_id": "06afc65449af48f985fe804ff8260ad1",
       "version_major": 2,
       "version_minor": 0
      },
      "text/plain": [
       "  0%|          | 0/1 [00:00<?, ?it/s]"
      ]
     },
     "metadata": {},
     "output_type": "display_data"
    },
    {
     "data": {
      "application/vnd.jupyter.widget-view+json": {
       "model_id": "c991e89cbd58426ab2c0e1c03ea454b3",
       "version_major": 2,
       "version_minor": 0
      },
      "text/plain": [
       "  0%|          | 0/1 [00:00<?, ?it/s]"
      ]
     },
     "metadata": {},
     "output_type": "display_data"
    },
    {
     "data": {
      "application/vnd.jupyter.widget-view+json": {
       "model_id": "0c0403c79bbe44b08309e9fed34ebb57",
       "version_major": 2,
       "version_minor": 0
      },
      "text/plain": [
       "  0%|          | 0/1 [00:00<?, ?it/s]"
      ]
     },
     "metadata": {},
     "output_type": "display_data"
    },
    {
     "data": {
      "application/vnd.jupyter.widget-view+json": {
       "model_id": "a4dfede57fe745c4a37ff1d43697bd25",
       "version_major": 2,
       "version_minor": 0
      },
      "text/plain": [
       "  0%|          | 0/1 [00:00<?, ?it/s]"
      ]
     },
     "metadata": {},
     "output_type": "display_data"
    },
    {
     "data": {
      "application/vnd.jupyter.widget-view+json": {
       "model_id": "709b70645b14406884f0703c72d9f1ab",
       "version_major": 2,
       "version_minor": 0
      },
      "text/plain": [
       "  0%|          | 0/1 [00:00<?, ?it/s]"
      ]
     },
     "metadata": {},
     "output_type": "display_data"
    },
    {
     "data": {
      "application/vnd.jupyter.widget-view+json": {
       "model_id": "0c44efb93e7e42528dbbb7834482b414",
       "version_major": 2,
       "version_minor": 0
      },
      "text/plain": [
       "  0%|          | 0/1 [00:00<?, ?it/s]"
      ]
     },
     "metadata": {},
     "output_type": "display_data"
    },
    {
     "data": {
      "application/vnd.jupyter.widget-view+json": {
       "model_id": "325d8f5641ea479982fdedfcf3a43d3e",
       "version_major": 2,
       "version_minor": 0
      },
      "text/plain": [
       "  0%|          | 0/1 [00:00<?, ?it/s]"
      ]
     },
     "metadata": {},
     "output_type": "display_data"
    },
    {
     "data": {
      "application/vnd.jupyter.widget-view+json": {
       "model_id": "2da7b21821624c7bb8faa4e081f7a55e",
       "version_major": 2,
       "version_minor": 0
      },
      "text/plain": [
       "  0%|          | 0/1 [00:00<?, ?it/s]"
      ]
     },
     "metadata": {},
     "output_type": "display_data"
    },
    {
     "data": {
      "application/vnd.jupyter.widget-view+json": {
       "model_id": "8b7813ebffba4fe287efbbf12ed82328",
       "version_major": 2,
       "version_minor": 0
      },
      "text/plain": [
       "  0%|          | 0/1 [00:00<?, ?it/s]"
      ]
     },
     "metadata": {},
     "output_type": "display_data"
    },
    {
     "data": {
      "application/vnd.jupyter.widget-view+json": {
       "model_id": "9d0fedd5160c45d2ad00d35299b7f591",
       "version_major": 2,
       "version_minor": 0
      },
      "text/plain": [
       "  0%|          | 0/1 [00:00<?, ?it/s]"
      ]
     },
     "metadata": {},
     "output_type": "display_data"
    },
    {
     "data": {
      "application/vnd.jupyter.widget-view+json": {
       "model_id": "b714e4db50fd4ad9873640689c52669b",
       "version_major": 2,
       "version_minor": 0
      },
      "text/plain": [
       "  0%|          | 0/1 [00:00<?, ?it/s]"
      ]
     },
     "metadata": {},
     "output_type": "display_data"
    },
    {
     "data": {
      "application/vnd.jupyter.widget-view+json": {
       "model_id": "c62f6382321b4c72bda6bc138565fd11",
       "version_major": 2,
       "version_minor": 0
      },
      "text/plain": [
       "  0%|          | 0/1 [00:00<?, ?it/s]"
      ]
     },
     "metadata": {},
     "output_type": "display_data"
    },
    {
     "data": {
      "application/vnd.jupyter.widget-view+json": {
       "model_id": "52957318031d41d094d9c685631dead7",
       "version_major": 2,
       "version_minor": 0
      },
      "text/plain": [
       "  0%|          | 0/1 [00:00<?, ?it/s]"
      ]
     },
     "metadata": {},
     "output_type": "display_data"
    },
    {
     "data": {
      "application/vnd.jupyter.widget-view+json": {
       "model_id": "609f8bd69c554bf1986d15c472a90487",
       "version_major": 2,
       "version_minor": 0
      },
      "text/plain": [
       "  0%|          | 0/1 [00:00<?, ?it/s]"
      ]
     },
     "metadata": {},
     "output_type": "display_data"
    },
    {
     "data": {
      "application/vnd.jupyter.widget-view+json": {
       "model_id": "5aee294bef734a3087e5b723ac2ff9c4",
       "version_major": 2,
       "version_minor": 0
      },
      "text/plain": [
       "  0%|          | 0/1 [00:00<?, ?it/s]"
      ]
     },
     "metadata": {},
     "output_type": "display_data"
    },
    {
     "name": "stdout",
     "output_type": "stream",
     "text": [
      "Die beschriebenen Fallserien können jedoch sowohl wegen ihrer Fallzahl als auch aufgrund des Fehlens einer Kontrollgruppe nicht die Evidenz liefern, dass eine Testosteronsubstitution nach kurativer Therapie unschädlich sei.\n",
      "\n",
      "No Filter:\n"
     ]
    },
    {
     "data": {
      "text/html": [
       "<div>\n",
       "<style scoped>\n",
       "    .dataframe tbody tr th:only-of-type {\n",
       "        vertical-align: middle;\n",
       "    }\n",
       "\n",
       "    .dataframe tbody tr th {\n",
       "        vertical-align: top;\n",
       "    }\n",
       "\n",
       "    .dataframe thead th {\n",
       "        text-align: right;\n",
       "    }\n",
       "</style>\n",
       "<table border=\"1\" class=\"dataframe\">\n",
       "  <thead>\n",
       "    <tr style=\"text-align: right;\">\n",
       "      <th></th>\n",
       "      <th>document</th>\n",
       "      <th>text</th>\n",
       "      <th>type</th>\n",
       "      <th>start</th>\n",
       "      <th>end</th>\n",
       "      <th>cui</th>\n",
       "      <th>tuis</th>\n",
       "      <th>canonical</th>\n",
       "      <th>linker</th>\n",
       "      <th>confidence</th>\n",
       "    </tr>\n",
       "  </thead>\n",
       "  <tbody>\n",
       "    <tr>\n",
       "      <th>0</th>\n",
       "      <td>22_prostatakarzinom_0334_13</td>\n",
       "      <td>Testosteronsubstitution</td>\n",
       "      <td>Therapeutic</td>\n",
       "      <td>159</td>\n",
       "      <td>182</td>\n",
       "      <td>C3827232</td>\n",
       "      <td>[T033]</td>\n",
       "      <td>Testosterone excess</td>\n",
       "      <td>[sapbert]</td>\n",
       "      <td>0.065929</td>\n",
       "    </tr>\n",
       "  </tbody>\n",
       "</table>\n",
       "</div>"
      ],
      "text/plain": [
       "                      document                     text         type  start  \\\n",
       "0  22_prostatakarzinom_0334_13  Testosteronsubstitution  Therapeutic    159   \n",
       "\n",
       "   end       cui    tuis            canonical     linker  confidence  \n",
       "0  182  C3827232  [T033]  Testosterone excess  [sapbert]    0.065929  "
      ]
     },
     "metadata": {},
     "output_type": "display_data"
    },
    {
     "name": "stdout",
     "output_type": "stream",
     "text": [
      "Filter:\n"
     ]
    },
    {
     "data": {
      "text/html": [
       "<div>\n",
       "<style scoped>\n",
       "    .dataframe tbody tr th:only-of-type {\n",
       "        vertical-align: middle;\n",
       "    }\n",
       "\n",
       "    .dataframe tbody tr th {\n",
       "        vertical-align: top;\n",
       "    }\n",
       "\n",
       "    .dataframe thead th {\n",
       "        text-align: right;\n",
       "    }\n",
       "</style>\n",
       "<table border=\"1\" class=\"dataframe\">\n",
       "  <thead>\n",
       "    <tr style=\"text-align: right;\">\n",
       "      <th></th>\n",
       "      <th>document</th>\n",
       "      <th>text</th>\n",
       "      <th>type</th>\n",
       "      <th>start</th>\n",
       "      <th>end</th>\n",
       "      <th>cui</th>\n",
       "      <th>tuis</th>\n",
       "      <th>canonical</th>\n",
       "      <th>linker</th>\n",
       "      <th>confidence</th>\n",
       "    </tr>\n",
       "  </thead>\n",
       "  <tbody>\n",
       "    <tr>\n",
       "      <th>0</th>\n",
       "      <td>22_prostatakarzinom_0334_13</td>\n",
       "      <td>Testosteronsubstitution</td>\n",
       "      <td>Therapeutic</td>\n",
       "      <td>159</td>\n",
       "      <td>182</td>\n",
       "      <td>C0039607</td>\n",
       "      <td>[T109, T121, T125]</td>\n",
       "      <td>Testosteronproprionat</td>\n",
       "      <td>[sapbert]</td>\n",
       "      <td>0.065842</td>\n",
       "    </tr>\n",
       "  </tbody>\n",
       "</table>\n",
       "</div>"
      ],
      "text/plain": [
       "                      document                     text         type  start  \\\n",
       "0  22_prostatakarzinom_0334_13  Testosteronsubstitution  Therapeutic    159   \n",
       "\n",
       "   end       cui                tuis              canonical     linker  \\\n",
       "0  182  C0039607  [T109, T121, T125]  Testosteronproprionat  [sapbert]   \n",
       "\n",
       "   confidence  \n",
       "0    0.065842  "
      ]
     },
     "metadata": {},
     "output_type": "display_data"
    },
    {
     "name": "stdout",
     "output_type": "stream",
     "text": [
      "####\n"
     ]
    },
    {
     "data": {
      "application/vnd.jupyter.widget-view+json": {
       "model_id": "1e502f588fa44221a25b1c66f6b10cbf",
       "version_major": 2,
       "version_minor": 0
      },
      "text/plain": [
       "  0%|          | 0/1 [00:00<?, ?it/s]"
      ]
     },
     "metadata": {},
     "output_type": "display_data"
    },
    {
     "data": {
      "application/vnd.jupyter.widget-view+json": {
       "model_id": "c817caeb1f204059805818126dd42360",
       "version_major": 2,
       "version_minor": 0
      },
      "text/plain": [
       "  0%|          | 0/1 [00:00<?, ?it/s]"
      ]
     },
     "metadata": {},
     "output_type": "display_data"
    },
    {
     "name": "stdout",
     "output_type": "stream",
     "text": [
      "Die Autoren dieser Leitlinie sehen die Notwendigkeit für eine Stellungnahme zur Testosteronsubstition bei klinisch schwer symptomatischen Patienten mit nachgewiesenem Testosteronmangel nach kurativer Therapie eines Prostatakarzinoms.\n",
      "\n",
      "No Filter:\n"
     ]
    },
    {
     "data": {
      "text/html": [
       "<div>\n",
       "<style scoped>\n",
       "    .dataframe tbody tr th:only-of-type {\n",
       "        vertical-align: middle;\n",
       "    }\n",
       "\n",
       "    .dataframe tbody tr th {\n",
       "        vertical-align: top;\n",
       "    }\n",
       "\n",
       "    .dataframe thead th {\n",
       "        text-align: right;\n",
       "    }\n",
       "</style>\n",
       "<table border=\"1\" class=\"dataframe\">\n",
       "  <thead>\n",
       "    <tr style=\"text-align: right;\">\n",
       "      <th></th>\n",
       "      <th>document</th>\n",
       "      <th>text</th>\n",
       "      <th>type</th>\n",
       "      <th>start</th>\n",
       "      <th>end</th>\n",
       "      <th>cui</th>\n",
       "      <th>tuis</th>\n",
       "      <th>canonical</th>\n",
       "      <th>linker</th>\n",
       "      <th>confidence</th>\n",
       "    </tr>\n",
       "  </thead>\n",
       "  <tbody>\n",
       "    <tr>\n",
       "      <th>3</th>\n",
       "      <td>22_prostatakarzinom_0334_14</td>\n",
       "      <td>kurativer Therapie eines Prostatakarzinoms</td>\n",
       "      <td>Therapeutic</td>\n",
       "      <td>190</td>\n",
       "      <td>232</td>\n",
       "      <td>C1328504</td>\n",
       "      <td>[T191]</td>\n",
       "      <td>Hormone refractory prostate cancer</td>\n",
       "      <td>[ngram, sapbert]</td>\n",
       "      <td>0.065897</td>\n",
       "    </tr>\n",
       "  </tbody>\n",
       "</table>\n",
       "</div>"
      ],
      "text/plain": [
       "                      document                                        text  \\\n",
       "3  22_prostatakarzinom_0334_14  kurativer Therapie eines Prostatakarzinoms   \n",
       "\n",
       "          type  start  end       cui    tuis  \\\n",
       "3  Therapeutic    190  232  C1328504  [T191]   \n",
       "\n",
       "                            canonical            linker  confidence  \n",
       "3  Hormone refractory prostate cancer  [ngram, sapbert]    0.065897  "
      ]
     },
     "metadata": {},
     "output_type": "display_data"
    },
    {
     "name": "stdout",
     "output_type": "stream",
     "text": [
      "Filter:\n"
     ]
    },
    {
     "data": {
      "text/html": [
       "<div>\n",
       "<style scoped>\n",
       "    .dataframe tbody tr th:only-of-type {\n",
       "        vertical-align: middle;\n",
       "    }\n",
       "\n",
       "    .dataframe tbody tr th {\n",
       "        vertical-align: top;\n",
       "    }\n",
       "\n",
       "    .dataframe thead th {\n",
       "        text-align: right;\n",
       "    }\n",
       "</style>\n",
       "<table border=\"1\" class=\"dataframe\">\n",
       "  <thead>\n",
       "    <tr style=\"text-align: right;\">\n",
       "      <th></th>\n",
       "      <th>document</th>\n",
       "      <th>text</th>\n",
       "      <th>type</th>\n",
       "      <th>start</th>\n",
       "      <th>end</th>\n",
       "      <th>cui</th>\n",
       "      <th>tuis</th>\n",
       "      <th>canonical</th>\n",
       "      <th>linker</th>\n",
       "      <th>confidence</th>\n",
       "    </tr>\n",
       "  </thead>\n",
       "  <tbody>\n",
       "    <tr>\n",
       "      <th>3</th>\n",
       "      <td>22_prostatakarzinom_0334_14</td>\n",
       "      <td>kurativer Therapie eines Prostatakarzinoms</td>\n",
       "      <td>Therapeutic</td>\n",
       "      <td>190</td>\n",
       "      <td>232</td>\n",
       "      <td>C4763954</td>\n",
       "      <td>[T061]</td>\n",
       "      <td>Prostate Cancer Surgery</td>\n",
       "      <td>[sapbert]</td>\n",
       "      <td>0.063945</td>\n",
       "    </tr>\n",
       "  </tbody>\n",
       "</table>\n",
       "</div>"
      ],
      "text/plain": [
       "                      document                                        text  \\\n",
       "3  22_prostatakarzinom_0334_14  kurativer Therapie eines Prostatakarzinoms   \n",
       "\n",
       "          type  start  end       cui    tuis                canonical  \\\n",
       "3  Therapeutic    190  232  C4763954  [T061]  Prostate Cancer Surgery   \n",
       "\n",
       "      linker  confidence  \n",
       "3  [sapbert]    0.063945  "
      ]
     },
     "metadata": {},
     "output_type": "display_data"
    },
    {
     "name": "stdout",
     "output_type": "stream",
     "text": [
      "####\n"
     ]
    },
    {
     "data": {
      "application/vnd.jupyter.widget-view+json": {
       "model_id": "c24d41f386e14a39b458cd4c1f223744",
       "version_major": 2,
       "version_minor": 0
      },
      "text/plain": [
       "  0%|          | 0/1 [00:00<?, ?it/s]"
      ]
     },
     "metadata": {},
     "output_type": "display_data"
    },
    {
     "data": {
      "application/vnd.jupyter.widget-view+json": {
       "model_id": "34bb6b57772e4084bfabb2572283e693",
       "version_major": 2,
       "version_minor": 0
      },
      "text/plain": [
       "  0%|          | 0/1 [00:00<?, ?it/s]"
      ]
     },
     "metadata": {},
     "output_type": "display_data"
    },
    {
     "data": {
      "application/vnd.jupyter.widget-view+json": {
       "model_id": "7f66ca8555b74673a3b8a3ce768852ed",
       "version_major": 2,
       "version_minor": 0
      },
      "text/plain": [
       "  0%|          | 0/1 [00:00<?, ?it/s]"
      ]
     },
     "metadata": {},
     "output_type": "display_data"
    },
    {
     "data": {
      "application/vnd.jupyter.widget-view+json": {
       "model_id": "5ea0ba0e51fd4dcd802689271391ca05",
       "version_major": 2,
       "version_minor": 0
      },
      "text/plain": [
       "  0%|          | 0/1 [00:00<?, ?it/s]"
      ]
     },
     "metadata": {},
     "output_type": "display_data"
    },
    {
     "data": {
      "application/vnd.jupyter.widget-view+json": {
       "model_id": "fc00805cd0914921b78ea26efe5a6ced",
       "version_major": 2,
       "version_minor": 0
      },
      "text/plain": [
       "  0%|          | 0/1 [00:00<?, ?it/s]"
      ]
     },
     "metadata": {},
     "output_type": "display_data"
    },
    {
     "data": {
      "application/vnd.jupyter.widget-view+json": {
       "model_id": "a32fa895e9e64cf5a8811c9160893bc6",
       "version_major": 2,
       "version_minor": 0
      },
      "text/plain": [
       "  0%|          | 0/1 [00:00<?, ?it/s]"
      ]
     },
     "metadata": {},
     "output_type": "display_data"
    },
    {
     "data": {
      "application/vnd.jupyter.widget-view+json": {
       "model_id": "ad01295108e745f0aed2e9f54405f2ce",
       "version_major": 2,
       "version_minor": 0
      },
      "text/plain": [
       "  0%|          | 0/1 [00:00<?, ?it/s]"
      ]
     },
     "metadata": {},
     "output_type": "display_data"
    },
    {
     "data": {
      "application/vnd.jupyter.widget-view+json": {
       "model_id": "63ff81a1ec494568bfe8575b280e9160",
       "version_major": 2,
       "version_minor": 0
      },
      "text/plain": [
       "  0%|          | 0/1 [00:00<?, ?it/s]"
      ]
     },
     "metadata": {},
     "output_type": "display_data"
    },
    {
     "data": {
      "application/vnd.jupyter.widget-view+json": {
       "model_id": "5b73a63e29044f7fbc27eeaa51daff08",
       "version_major": 2,
       "version_minor": 0
      },
      "text/plain": [
       "  0%|          | 0/1 [00:00<?, ?it/s]"
      ]
     },
     "metadata": {},
     "output_type": "display_data"
    },
    {
     "data": {
      "application/vnd.jupyter.widget-view+json": {
       "model_id": "8d898b38a3774fdaa3a6cdde21497b28",
       "version_major": 2,
       "version_minor": 0
      },
      "text/plain": [
       "  0%|          | 0/1 [00:00<?, ?it/s]"
      ]
     },
     "metadata": {},
     "output_type": "display_data"
    },
    {
     "data": {
      "application/vnd.jupyter.widget-view+json": {
       "model_id": "6d667fc823454f44b92d349b06a5e189",
       "version_major": 2,
       "version_minor": 0
      },
      "text/plain": [
       "  0%|          | 0/1 [00:00<?, ?it/s]"
      ]
     },
     "metadata": {},
     "output_type": "display_data"
    },
    {
     "data": {
      "application/vnd.jupyter.widget-view+json": {
       "model_id": "b58623e2f0cd4a89b92b67417898fb22",
       "version_major": 2,
       "version_minor": 0
      },
      "text/plain": [
       "  0%|          | 0/1 [00:00<?, ?it/s]"
      ]
     },
     "metadata": {},
     "output_type": "display_data"
    },
    {
     "data": {
      "application/vnd.jupyter.widget-view+json": {
       "model_id": "3ac0103afb164a2680b7526314c0f1a0",
       "version_major": 2,
       "version_minor": 0
      },
      "text/plain": [
       "  0%|          | 0/1 [00:00<?, ?it/s]"
      ]
     },
     "metadata": {},
     "output_type": "display_data"
    },
    {
     "data": {
      "application/vnd.jupyter.widget-view+json": {
       "model_id": "84f248837a5b4d2499aeac4168a1f7eb",
       "version_major": 2,
       "version_minor": 0
      },
      "text/plain": [
       "  0%|          | 0/1 [00:00<?, ?it/s]"
      ]
     },
     "metadata": {},
     "output_type": "display_data"
    },
    {
     "data": {
      "application/vnd.jupyter.widget-view+json": {
       "model_id": "028faf7b26584e57a8a631b2b25b8242",
       "version_major": 2,
       "version_minor": 0
      },
      "text/plain": [
       "  0%|          | 0/1 [00:00<?, ?it/s]"
      ]
     },
     "metadata": {},
     "output_type": "display_data"
    },
    {
     "data": {
      "application/vnd.jupyter.widget-view+json": {
       "model_id": "27208da5a3e94dd1a1ed466e5789b345",
       "version_major": 2,
       "version_minor": 0
      },
      "text/plain": [
       "  0%|          | 0/1 [00:00<?, ?it/s]"
      ]
     },
     "metadata": {},
     "output_type": "display_data"
    },
    {
     "data": {
      "application/vnd.jupyter.widget-view+json": {
       "model_id": "1a1ca76c40f7417ba7c9c2f66c17cf6b",
       "version_major": 2,
       "version_minor": 0
      },
      "text/plain": [
       "  0%|          | 0/1 [00:00<?, ?it/s]"
      ]
     },
     "metadata": {},
     "output_type": "display_data"
    },
    {
     "data": {
      "application/vnd.jupyter.widget-view+json": {
       "model_id": "6c4005d8bc064b6ca5ab4243dce313be",
       "version_major": 2,
       "version_minor": 0
      },
      "text/plain": [
       "  0%|          | 0/1 [00:00<?, ?it/s]"
      ]
     },
     "metadata": {},
     "output_type": "display_data"
    },
    {
     "data": {
      "application/vnd.jupyter.widget-view+json": {
       "model_id": "8f80eab950084ddfb122bde6533d3043",
       "version_major": 2,
       "version_minor": 0
      },
      "text/plain": [
       "  0%|          | 0/1 [00:00<?, ?it/s]"
      ]
     },
     "metadata": {},
     "output_type": "display_data"
    },
    {
     "data": {
      "application/vnd.jupyter.widget-view+json": {
       "model_id": "115f2a87f0984a81a9e877683729c0f7",
       "version_major": 2,
       "version_minor": 0
      },
      "text/plain": [
       "  0%|          | 0/1 [00:00<?, ?it/s]"
      ]
     },
     "metadata": {},
     "output_type": "display_data"
    },
    {
     "data": {
      "application/vnd.jupyter.widget-view+json": {
       "model_id": "5de381d35d574905af59aab61ff48efb",
       "version_major": 2,
       "version_minor": 0
      },
      "text/plain": [
       "  0%|          | 0/1 [00:00<?, ?it/s]"
      ]
     },
     "metadata": {},
     "output_type": "display_data"
    },
    {
     "data": {
      "application/vnd.jupyter.widget-view+json": {
       "model_id": "92524c8f01fd4885940ef09406c5cf1f",
       "version_major": 2,
       "version_minor": 0
      },
      "text/plain": [
       "  0%|          | 0/1 [00:00<?, ?it/s]"
      ]
     },
     "metadata": {},
     "output_type": "display_data"
    },
    {
     "data": {
      "application/vnd.jupyter.widget-view+json": {
       "model_id": "cdeb10c0659c401b9abd96dd00c5c586",
       "version_major": 2,
       "version_minor": 0
      },
      "text/plain": [
       "  0%|          | 0/1 [00:00<?, ?it/s]"
      ]
     },
     "metadata": {},
     "output_type": "display_data"
    },
    {
     "data": {
      "application/vnd.jupyter.widget-view+json": {
       "model_id": "f53691c89af3465a9962ef1d0b027d2c",
       "version_major": 2,
       "version_minor": 0
      },
      "text/plain": [
       "  0%|          | 0/1 [00:00<?, ?it/s]"
      ]
     },
     "metadata": {},
     "output_type": "display_data"
    },
    {
     "data": {
      "application/vnd.jupyter.widget-view+json": {
       "model_id": "c6d60603f206448681ff7423027efc31",
       "version_major": 2,
       "version_minor": 0
      },
      "text/plain": [
       "  0%|          | 0/1 [00:00<?, ?it/s]"
      ]
     },
     "metadata": {},
     "output_type": "display_data"
    },
    {
     "data": {
      "application/vnd.jupyter.widget-view+json": {
       "model_id": "a07dd16f0f834bec8d76145e650374c0",
       "version_major": 2,
       "version_minor": 0
      },
      "text/plain": [
       "  0%|          | 0/1 [00:00<?, ?it/s]"
      ]
     },
     "metadata": {},
     "output_type": "display_data"
    },
    {
     "data": {
      "application/vnd.jupyter.widget-view+json": {
       "model_id": "c3f62cef2530427d94fab91f9dc8c7f6",
       "version_major": 2,
       "version_minor": 0
      },
      "text/plain": [
       "  0%|          | 0/1 [00:00<?, ?it/s]"
      ]
     },
     "metadata": {},
     "output_type": "display_data"
    },
    {
     "data": {
      "application/vnd.jupyter.widget-view+json": {
       "model_id": "7977db167752472fb4bbb5a34687d852",
       "version_major": 2,
       "version_minor": 0
      },
      "text/plain": [
       "  0%|          | 0/1 [00:00<?, ?it/s]"
      ]
     },
     "metadata": {},
     "output_type": "display_data"
    },
    {
     "data": {
      "application/vnd.jupyter.widget-view+json": {
       "model_id": "bb85eae1426b4e28b099ffa58dbcde74",
       "version_major": 2,
       "version_minor": 0
      },
      "text/plain": [
       "  0%|          | 0/1 [00:00<?, ?it/s]"
      ]
     },
     "metadata": {},
     "output_type": "display_data"
    },
    {
     "data": {
      "application/vnd.jupyter.widget-view+json": {
       "model_id": "47b1747715de4c1d9ef82b710c8a5f16",
       "version_major": 2,
       "version_minor": 0
      },
      "text/plain": [
       "  0%|          | 0/1 [00:00<?, ?it/s]"
      ]
     },
     "metadata": {},
     "output_type": "display_data"
    },
    {
     "data": {
      "application/vnd.jupyter.widget-view+json": {
       "model_id": "1c4119f27498470881f0ba10b8d37d88",
       "version_major": 2,
       "version_minor": 0
      },
      "text/plain": [
       "  0%|          | 0/1 [00:00<?, ?it/s]"
      ]
     },
     "metadata": {},
     "output_type": "display_data"
    },
    {
     "data": {
      "application/vnd.jupyter.widget-view+json": {
       "model_id": "6c4a842308804d0a8ef048d78d0907e7",
       "version_major": 2,
       "version_minor": 0
      },
      "text/plain": [
       "  0%|          | 0/1 [00:00<?, ?it/s]"
      ]
     },
     "metadata": {},
     "output_type": "display_data"
    },
    {
     "data": {
      "application/vnd.jupyter.widget-view+json": {
       "model_id": "5e67186bb2ac4a60aaaa6f206b4a7f75",
       "version_major": 2,
       "version_minor": 0
      },
      "text/plain": [
       "  0%|          | 0/1 [00:00<?, ?it/s]"
      ]
     },
     "metadata": {},
     "output_type": "display_data"
    },
    {
     "data": {
      "application/vnd.jupyter.widget-view+json": {
       "model_id": "20c6c3db708540c6aee58e646fc40f39",
       "version_major": 2,
       "version_minor": 0
      },
      "text/plain": [
       "  0%|          | 0/1 [00:00<?, ?it/s]"
      ]
     },
     "metadata": {},
     "output_type": "display_data"
    },
    {
     "data": {
      "application/vnd.jupyter.widget-view+json": {
       "model_id": "aef40e4b0fec4d9b99b3182a2f602ee4",
       "version_major": 2,
       "version_minor": 0
      },
      "text/plain": [
       "  0%|          | 0/1 [00:00<?, ?it/s]"
      ]
     },
     "metadata": {},
     "output_type": "display_data"
    },
    {
     "data": {
      "application/vnd.jupyter.widget-view+json": {
       "model_id": "c8644111baeb4c1e9b657170d1bea288",
       "version_major": 2,
       "version_minor": 0
      },
      "text/plain": [
       "  0%|          | 0/1 [00:00<?, ?it/s]"
      ]
     },
     "metadata": {},
     "output_type": "display_data"
    },
    {
     "name": "stdout",
     "output_type": "stream",
     "text": [
      "Obwohl Nikotin einen protektiven Effekt für die entzündliche Komponente der Pneumonitis hat und die Pneumonitisrate zu senken scheint [REF] [REF] [REF] [REF] [REF] [REF], wird Nikotinkarenz empfohlen, um eine Verbesserung der Lungenfunktion zu erreichen und das Risiko von Zweittumoren zu reduzieren [REF].\n",
      "\n",
      "No Filter:\n"
     ]
    },
    {
     "data": {
      "text/html": [
       "<div>\n",
       "<style scoped>\n",
       "    .dataframe tbody tr th:only-of-type {\n",
       "        vertical-align: middle;\n",
       "    }\n",
       "\n",
       "    .dataframe tbody tr th {\n",
       "        vertical-align: top;\n",
       "    }\n",
       "\n",
       "    .dataframe thead th {\n",
       "        text-align: right;\n",
       "    }\n",
       "</style>\n",
       "<table border=\"1\" class=\"dataframe\">\n",
       "  <thead>\n",
       "    <tr style=\"text-align: right;\">\n",
       "      <th></th>\n",
       "      <th>document</th>\n",
       "      <th>text</th>\n",
       "      <th>type</th>\n",
       "      <th>start</th>\n",
       "      <th>end</th>\n",
       "      <th>cui</th>\n",
       "      <th>tuis</th>\n",
       "      <th>canonical</th>\n",
       "      <th>linker</th>\n",
       "      <th>confidence</th>\n",
       "    </tr>\n",
       "  </thead>\n",
       "  <tbody>\n",
       "    <tr>\n",
       "      <th>3</th>\n",
       "      <td>27_supportive-therapie_0765_15</td>\n",
       "      <td>Nikotinkarenz</td>\n",
       "      <td>Therapeutic</td>\n",
       "      <td>176</td>\n",
       "      <td>189</td>\n",
       "      <td>C3179141</td>\n",
       "      <td>[T200]</td>\n",
       "      <td>Nikotininhalator</td>\n",
       "      <td>[ngram, sapbert]</td>\n",
       "      <td>0.064533</td>\n",
       "    </tr>\n",
       "  </tbody>\n",
       "</table>\n",
       "</div>"
      ],
      "text/plain": [
       "                         document           text         type  start  end  \\\n",
       "3  27_supportive-therapie_0765_15  Nikotinkarenz  Therapeutic    176  189   \n",
       "\n",
       "        cui    tuis         canonical            linker  confidence  \n",
       "3  C3179141  [T200]  Nikotininhalator  [ngram, sapbert]    0.064533  "
      ]
     },
     "metadata": {},
     "output_type": "display_data"
    },
    {
     "name": "stdout",
     "output_type": "stream",
     "text": [
      "Filter:\n"
     ]
    },
    {
     "data": {
      "text/html": [
       "<div>\n",
       "<style scoped>\n",
       "    .dataframe tbody tr th:only-of-type {\n",
       "        vertical-align: middle;\n",
       "    }\n",
       "\n",
       "    .dataframe tbody tr th {\n",
       "        vertical-align: top;\n",
       "    }\n",
       "\n",
       "    .dataframe thead th {\n",
       "        text-align: right;\n",
       "    }\n",
       "</style>\n",
       "<table border=\"1\" class=\"dataframe\">\n",
       "  <thead>\n",
       "    <tr style=\"text-align: right;\">\n",
       "      <th></th>\n",
       "      <th>document</th>\n",
       "      <th>text</th>\n",
       "      <th>type</th>\n",
       "      <th>start</th>\n",
       "      <th>end</th>\n",
       "      <th>cui</th>\n",
       "      <th>tuis</th>\n",
       "      <th>canonical</th>\n",
       "      <th>linker</th>\n",
       "      <th>confidence</th>\n",
       "    </tr>\n",
       "  </thead>\n",
       "  <tbody>\n",
       "    <tr>\n",
       "      <th>3</th>\n",
       "      <td>27_supportive-therapie_0765_15</td>\n",
       "      <td>Nikotinkarenz</td>\n",
       "      <td>Therapeutic</td>\n",
       "      <td>176</td>\n",
       "      <td>189</td>\n",
       "      <td>C0027996</td>\n",
       "      <td>[T109, T121, T127]</td>\n",
       "      <td>Niacin</td>\n",
       "      <td>[ngram, sapbert]</td>\n",
       "      <td>0.067396</td>\n",
       "    </tr>\n",
       "  </tbody>\n",
       "</table>\n",
       "</div>"
      ],
      "text/plain": [
       "                         document           text         type  start  end  \\\n",
       "3  27_supportive-therapie_0765_15  Nikotinkarenz  Therapeutic    176  189   \n",
       "\n",
       "        cui                tuis canonical            linker  confidence  \n",
       "3  C0027996  [T109, T121, T127]    Niacin  [ngram, sapbert]    0.067396  "
      ]
     },
     "metadata": {},
     "output_type": "display_data"
    },
    {
     "name": "stdout",
     "output_type": "stream",
     "text": [
      "####\n"
     ]
    },
    {
     "data": {
      "application/vnd.jupyter.widget-view+json": {
       "model_id": "2edeb92405ce4b7390e9a86cac512832",
       "version_major": 2,
       "version_minor": 0
      },
      "text/plain": [
       "  0%|          | 0/1 [00:00<?, ?it/s]"
      ]
     },
     "metadata": {},
     "output_type": "display_data"
    },
    {
     "data": {
      "application/vnd.jupyter.widget-view+json": {
       "model_id": "28294cb8d3e44f29959a98f6fa484c75",
       "version_major": 2,
       "version_minor": 0
      },
      "text/plain": [
       "  0%|          | 0/1 [00:00<?, ?it/s]"
      ]
     },
     "metadata": {},
     "output_type": "display_data"
    },
    {
     "data": {
      "application/vnd.jupyter.widget-view+json": {
       "model_id": "46e2ad3e015d449aa3e45052aa412ebc",
       "version_major": 2,
       "version_minor": 0
      },
      "text/plain": [
       "  0%|          | 0/1 [00:00<?, ?it/s]"
      ]
     },
     "metadata": {},
     "output_type": "display_data"
    },
    {
     "data": {
      "application/vnd.jupyter.widget-view+json": {
       "model_id": "f474a846348a4d4fb75b5de2d5c6d42d",
       "version_major": 2,
       "version_minor": 0
      },
      "text/plain": [
       "  0%|          | 0/1 [00:00<?, ?it/s]"
      ]
     },
     "metadata": {},
     "output_type": "display_data"
    },
    {
     "data": {
      "application/vnd.jupyter.widget-view+json": {
       "model_id": "018ffd81c61649abbe8bb952b487f790",
       "version_major": 2,
       "version_minor": 0
      },
      "text/plain": [
       "  0%|          | 0/1 [00:00<?, ?it/s]"
      ]
     },
     "metadata": {},
     "output_type": "display_data"
    },
    {
     "data": {
      "application/vnd.jupyter.widget-view+json": {
       "model_id": "cafe05653e144524a2641d390a179506",
       "version_major": 2,
       "version_minor": 0
      },
      "text/plain": [
       "  0%|          | 0/1 [00:00<?, ?it/s]"
      ]
     },
     "metadata": {},
     "output_type": "display_data"
    },
    {
     "data": {
      "application/vnd.jupyter.widget-view+json": {
       "model_id": "8d6f68ec249f48b1977cd29e834a6b99",
       "version_major": 2,
       "version_minor": 0
      },
      "text/plain": [
       "  0%|          | 0/1 [00:00<?, ?it/s]"
      ]
     },
     "metadata": {},
     "output_type": "display_data"
    },
    {
     "data": {
      "application/vnd.jupyter.widget-view+json": {
       "model_id": "cb0eab5c57664045b04bd859ff8fad2f",
       "version_major": 2,
       "version_minor": 0
      },
      "text/plain": [
       "  0%|          | 0/1 [00:00<?, ?it/s]"
      ]
     },
     "metadata": {},
     "output_type": "display_data"
    },
    {
     "data": {
      "application/vnd.jupyter.widget-view+json": {
       "model_id": "cc8e32183ac9441f9eaab22b36bc4944",
       "version_major": 2,
       "version_minor": 0
      },
      "text/plain": [
       "  0%|          | 0/1 [00:00<?, ?it/s]"
      ]
     },
     "metadata": {},
     "output_type": "display_data"
    },
    {
     "data": {
      "application/vnd.jupyter.widget-view+json": {
       "model_id": "ef4a3eb9d8024761a77a447b623605e0",
       "version_major": 2,
       "version_minor": 0
      },
      "text/plain": [
       "  0%|          | 0/1 [00:00<?, ?it/s]"
      ]
     },
     "metadata": {},
     "output_type": "display_data"
    },
    {
     "data": {
      "application/vnd.jupyter.widget-view+json": {
       "model_id": "2951a7c8312d439cb8637a49375ae4ca",
       "version_major": 2,
       "version_minor": 0
      },
      "text/plain": [
       "  0%|          | 0/1 [00:00<?, ?it/s]"
      ]
     },
     "metadata": {},
     "output_type": "display_data"
    },
    {
     "data": {
      "application/vnd.jupyter.widget-view+json": {
       "model_id": "77f5f8064afe47789c3cceb65616157c",
       "version_major": 2,
       "version_minor": 0
      },
      "text/plain": [
       "  0%|          | 0/1 [00:00<?, ?it/s]"
      ]
     },
     "metadata": {},
     "output_type": "display_data"
    },
    {
     "name": "stdout",
     "output_type": "stream",
     "text": [
      "In einer Metaanalyse individueller Patientendaten von 836 PatientInnen mit NSCLC und simultaner Strahlentherapie wurden Therapie mit Carboplatin/Paclitaxel (versus Cisplatin/Etoposid) (OR 3,33, p < 0,001), das Volumen der Lunge, das ≥ 20 Gy erhält (V20), (OR 1,03; pro 1% Zunahme, p = 0,008) und als Trend das Alter (OR 1,24; pro Dekade, p = 0,09) als Risikofaktoren identifiziert.\n",
      "\n",
      "No Filter:\n"
     ]
    },
    {
     "data": {
      "text/html": [
       "<div>\n",
       "<style scoped>\n",
       "    .dataframe tbody tr th:only-of-type {\n",
       "        vertical-align: middle;\n",
       "    }\n",
       "\n",
       "    .dataframe tbody tr th {\n",
       "        vertical-align: top;\n",
       "    }\n",
       "\n",
       "    .dataframe thead th {\n",
       "        text-align: right;\n",
       "    }\n",
       "</style>\n",
       "<table border=\"1\" class=\"dataframe\">\n",
       "  <thead>\n",
       "    <tr style=\"text-align: right;\">\n",
       "      <th></th>\n",
       "      <th>document</th>\n",
       "      <th>text</th>\n",
       "      <th>type</th>\n",
       "      <th>start</th>\n",
       "      <th>end</th>\n",
       "      <th>cui</th>\n",
       "      <th>tuis</th>\n",
       "      <th>canonical</th>\n",
       "      <th>linker</th>\n",
       "      <th>confidence</th>\n",
       "    </tr>\n",
       "  </thead>\n",
       "  <tbody>\n",
       "    <tr>\n",
       "      <th>0</th>\n",
       "      <td>27_supportive-therapie_0765_21</td>\n",
       "      <td>NSCLC</td>\n",
       "      <td>Diagnosis_or_Pathology</td>\n",
       "      <td>75</td>\n",
       "      <td>80</td>\n",
       "      <td>C0067671</td>\n",
       "      <td>[T116]</td>\n",
       "      <td>N-acetyl-S-lactoylcysteine</td>\n",
       "      <td>[sapbert]</td>\n",
       "      <td>0.065826</td>\n",
       "    </tr>\n",
       "  </tbody>\n",
       "</table>\n",
       "</div>"
      ],
      "text/plain": [
       "                         document   text                    type  start  end  \\\n",
       "0  27_supportive-therapie_0765_21  NSCLC  Diagnosis_or_Pathology     75   80   \n",
       "\n",
       "        cui    tuis                   canonical     linker  confidence  \n",
       "0  C0067671  [T116]  N-acetyl-S-lactoylcysteine  [sapbert]    0.065826  "
      ]
     },
     "metadata": {},
     "output_type": "display_data"
    },
    {
     "name": "stdout",
     "output_type": "stream",
     "text": [
      "Filter:\n"
     ]
    },
    {
     "data": {
      "text/html": [
       "<div>\n",
       "<style scoped>\n",
       "    .dataframe tbody tr th:only-of-type {\n",
       "        vertical-align: middle;\n",
       "    }\n",
       "\n",
       "    .dataframe tbody tr th {\n",
       "        vertical-align: top;\n",
       "    }\n",
       "\n",
       "    .dataframe thead th {\n",
       "        text-align: right;\n",
       "    }\n",
       "</style>\n",
       "<table border=\"1\" class=\"dataframe\">\n",
       "  <thead>\n",
       "    <tr style=\"text-align: right;\">\n",
       "      <th></th>\n",
       "      <th>document</th>\n",
       "      <th>text</th>\n",
       "      <th>type</th>\n",
       "      <th>start</th>\n",
       "      <th>end</th>\n",
       "      <th>cui</th>\n",
       "      <th>tuis</th>\n",
       "      <th>canonical</th>\n",
       "      <th>linker</th>\n",
       "      <th>confidence</th>\n",
       "    </tr>\n",
       "  </thead>\n",
       "  <tbody>\n",
       "    <tr>\n",
       "      <th>0</th>\n",
       "      <td>27_supportive-therapie_0765_21</td>\n",
       "      <td>NSCLC</td>\n",
       "      <td>Diagnosis_or_Pathology</td>\n",
       "      <td>75</td>\n",
       "      <td>80</td>\n",
       "      <td>C2984258</td>\n",
       "      <td>[T077]</td>\n",
       "      <td>Non-Small Cell Lung Cancer Pathway</td>\n",
       "      <td>[ngram, sapbert]</td>\n",
       "      <td>0.065139</td>\n",
       "    </tr>\n",
       "  </tbody>\n",
       "</table>\n",
       "</div>"
      ],
      "text/plain": [
       "                         document   text                    type  start  end  \\\n",
       "0  27_supportive-therapie_0765_21  NSCLC  Diagnosis_or_Pathology     75   80   \n",
       "\n",
       "        cui    tuis                           canonical            linker  \\\n",
       "0  C2984258  [T077]  Non-Small Cell Lung Cancer Pathway  [ngram, sapbert]   \n",
       "\n",
       "   confidence  \n",
       "0    0.065139  "
      ]
     },
     "metadata": {},
     "output_type": "display_data"
    },
    {
     "name": "stdout",
     "output_type": "stream",
     "text": [
      "####\n"
     ]
    },
    {
     "data": {
      "application/vnd.jupyter.widget-view+json": {
       "model_id": "c565b9a044444c168b1b6cd1ff7af0b3",
       "version_major": 2,
       "version_minor": 0
      },
      "text/plain": [
       "  0%|          | 0/1 [00:00<?, ?it/s]"
      ]
     },
     "metadata": {},
     "output_type": "display_data"
    },
    {
     "data": {
      "application/vnd.jupyter.widget-view+json": {
       "model_id": "8c71b265ff72460aa461424c99116f57",
       "version_major": 2,
       "version_minor": 0
      },
      "text/plain": [
       "  0%|          | 0/1 [00:00<?, ?it/s]"
      ]
     },
     "metadata": {},
     "output_type": "display_data"
    },
    {
     "data": {
      "application/vnd.jupyter.widget-view+json": {
       "model_id": "e59ad020f0414e8a97486efdc1f69730",
       "version_major": 2,
       "version_minor": 0
      },
      "text/plain": [
       "  0%|          | 0/1 [00:00<?, ?it/s]"
      ]
     },
     "metadata": {},
     "output_type": "display_data"
    },
    {
     "data": {
      "application/vnd.jupyter.widget-view+json": {
       "model_id": "3d7afaa3244347b7a10f5eb34a54b7ca",
       "version_major": 2,
       "version_minor": 0
      },
      "text/plain": [
       "  0%|          | 0/1 [00:00<?, ?it/s]"
      ]
     },
     "metadata": {},
     "output_type": "display_data"
    },
    {
     "data": {
      "application/vnd.jupyter.widget-view+json": {
       "model_id": "62b8cde2352a487ab45600efae137d70",
       "version_major": 2,
       "version_minor": 0
      },
      "text/plain": [
       "  0%|          | 0/1 [00:00<?, ?it/s]"
      ]
     },
     "metadata": {},
     "output_type": "display_data"
    },
    {
     "data": {
      "application/vnd.jupyter.widget-view+json": {
       "model_id": "fae09e2047624f7ea6c7081c4c4133d0",
       "version_major": 2,
       "version_minor": 0
      },
      "text/plain": [
       "  0%|          | 0/1 [00:00<?, ?it/s]"
      ]
     },
     "metadata": {},
     "output_type": "display_data"
    }
   ],
   "source": [
    "res_sem = linking_results['before_eccnp']['reranked']\n",
    "res_no_sem = linking_results['before_eccnp_no_semtype']['reranked']\n",
    "\n",
    "assert len(res_sem) == len(res_no_sem)\n",
    "\n",
    "#s = Sampler(42, 10)\n",
    "#l, r = s.transform_batch(res_sem, res_no_sem)\n",
    "\n",
    "diff_sem = 0\n",
    "\n",
    "for d_b, d_a in zip(res_no_sem, res_sem):\n",
    "    t_a = d_a['passages'][0]['text'][0]\n",
    "    df1 = get_annotation_dataframe([d_b], linker.kb, 1, 0.0)\n",
    "    df2 = get_annotation_dataframe([d_a], linker.kb, 1, 0.0)\n",
    "    if len(df1) == 0:\n",
    "        continue\n",
    "    mask = df1.canonical != df2.canonical\n",
    "    if mask.any():\n",
    "        print(t_a + '\\n')\n",
    "        #show_diff_single(t_b, t_a)\n",
    "        print('No Filter:')\n",
    "        display(df1[mask])\n",
    "        print('Filter:')\n",
    "        display(df2[mask])\n",
    "        diff_sem += 1\n",
    "        print('####')"
   ]
  },
  {
   "cell_type": "code",
   "execution_count": 16,
   "id": "81a10ff2-065d-4472-b1b5-2c99f25147af",
   "metadata": {
    "tags": []
   },
   "outputs": [
    {
     "data": {
      "text/plain": [
       "0.12299465240641712"
      ]
     },
     "execution_count": 16,
     "metadata": {},
     "output_type": "execute_result"
    }
   ],
   "source": [
    "diff_sem / len(res_no_sem)"
   ]
  },
  {
   "cell_type": "markdown",
   "id": "c1eca9dc-1154-4f25-8c44-97916db355dc",
   "metadata": {},
   "source": [
    "# Impact of ECCNPs"
   ]
  },
  {
   "cell_type": "code",
   "execution_count": 17,
   "id": "e02979b7-f39d-461e-8f7f-fea5177d5777",
   "metadata": {
    "tags": []
   },
   "outputs": [
    {
     "name": "stdout",
     "output_type": "stream",
     "text": [
      "Difference 1\n"
     ]
    },
    {
     "data": {
      "text/markdown": [
       "Am ehesten werden bei Patienten mit Malignomen Mangelzustände von Vitamin D beobachtet [REF] und von einigen Autoren mit der Erkrankungsinzidenz und -prognose in Verbindung gebracht [REF] [REF] [REF] [REF]."
      ],
      "text/plain": [
       "<IPython.core.display.Markdown object>"
      ]
     },
     "metadata": {},
     "output_type": "display_data"
    },
    {
     "data": {
      "text/markdown": [
       "Am ehesten werden bei Patienten mit Malignomen Mangelzustände von Vitamin D beobachtet [REF] und von einigen Autoren mit der Erkrankungsinzidenz und Erkrankungsprognose in Verbindung gebracht [REF] [REF] [REF] [REF]."
      ],
      "text/plain": [
       "<IPython.core.display.Markdown object>"
      ]
     },
     "metadata": {},
     "output_type": "display_data"
    },
    {
     "data": {
      "text/html": [
       "<html><body><div>Am ehesten werden bei Patienten mit Malignomen Mangelzustände von Vitamin D beobachtet [REF] und von einigen Autoren mit der Erkrankungsinzidenz und <span style=\"background-color: red; text-decoration: line-through;\">-</span><span style=\"background-color: lightgreen;\">Erkrankungs</span>prognose in Verbindung gebracht [REF] [REF] [REF] [REF].</div></body></html>"
      ],
      "text/plain": [
       "<IPython.core.display.HTML object>"
      ]
     },
     "metadata": {},
     "output_type": "display_data"
    },
    {
     "data": {
      "application/vnd.jupyter.widget-view+json": {
       "model_id": "0d765ccf68d84e6ebd2489ed94ebd2c0",
       "version_major": 2,
       "version_minor": 0
      },
      "text/plain": [
       "  0%|          | 0/1 [00:00<?, ?it/s]"
      ]
     },
     "metadata": {},
     "output_type": "display_data"
    },
    {
     "data": {
      "text/html": [
       "<div>\n",
       "<style scoped>\n",
       "    .dataframe tbody tr th:only-of-type {\n",
       "        vertical-align: middle;\n",
       "    }\n",
       "\n",
       "    .dataframe tbody tr th {\n",
       "        vertical-align: top;\n",
       "    }\n",
       "\n",
       "    .dataframe thead th {\n",
       "        text-align: right;\n",
       "    }\n",
       "</style>\n",
       "<table border=\"1\" class=\"dataframe\">\n",
       "  <thead>\n",
       "    <tr style=\"text-align: right;\">\n",
       "      <th></th>\n",
       "      <th>document</th>\n",
       "      <th>text</th>\n",
       "      <th>type</th>\n",
       "      <th>start</th>\n",
       "      <th>end</th>\n",
       "      <th>cui</th>\n",
       "      <th>tuis</th>\n",
       "      <th>canonical</th>\n",
       "      <th>linker</th>\n",
       "      <th>confidence</th>\n",
       "    </tr>\n",
       "  </thead>\n",
       "  <tbody>\n",
       "    <tr>\n",
       "      <th>0</th>\n",
       "      <td>01_magenkarzinom_0192_2</td>\n",
       "      <td>Malignomen</td>\n",
       "      <td>Diagnosis_or_Pathology</td>\n",
       "      <td>36</td>\n",
       "      <td>46</td>\n",
       "      <td>C0006826</td>\n",
       "      <td>[T191]</td>\n",
       "      <td>Krebserkrankung</td>\n",
       "      <td>[ngram, sapbert]</td>\n",
       "      <td>0.078375</td>\n",
       "    </tr>\n",
       "    <tr>\n",
       "      <th>1</th>\n",
       "      <td>01_magenkarzinom_0192_2</td>\n",
       "      <td>Mangelzustände von Vitamin D</td>\n",
       "      <td>Diagnosis_or_Pathology</td>\n",
       "      <td>47</td>\n",
       "      <td>75</td>\n",
       "      <td>C0042870</td>\n",
       "      <td>[T047]</td>\n",
       "      <td>Vitamin-D-Mangel</td>\n",
       "      <td>[ngram, sapbert]</td>\n",
       "      <td>0.071928</td>\n",
       "    </tr>\n",
       "    <tr>\n",
       "      <th>2</th>\n",
       "      <td>01_magenkarzinom_0192_2</td>\n",
       "      <td>Vitamin D</td>\n",
       "      <td>Nutrient_or_Body_Substance</td>\n",
       "      <td>66</td>\n",
       "      <td>75</td>\n",
       "      <td>C0042866</td>\n",
       "      <td>[T121, T125, T127]</td>\n",
       "      <td>Vitamin D</td>\n",
       "      <td>[ngram, sapbert]</td>\n",
       "      <td>0.077895</td>\n",
       "    </tr>\n",
       "    <tr>\n",
       "      <th>3</th>\n",
       "      <td>01_magenkarzinom_0192_2</td>\n",
       "      <td>Erkrankungsinzidenz</td>\n",
       "      <td>Diagnosis_or_Pathology</td>\n",
       "      <td>125</td>\n",
       "      <td>144</td>\n",
       "      <td>C0012655</td>\n",
       "      <td>[T201]</td>\n",
       "      <td>Krankheitsanfälligkeit</td>\n",
       "      <td>[sapbert]</td>\n",
       "      <td>0.065133</td>\n",
       "    </tr>\n",
       "    <tr>\n",
       "      <th>4</th>\n",
       "      <td>01_magenkarzinom_0192_2</td>\n",
       "      <td>-prognose</td>\n",
       "      <td>Other_Finding</td>\n",
       "      <td>149</td>\n",
       "      <td>158</td>\n",
       "      <td>C0033325</td>\n",
       "      <td>[T058]</td>\n",
       "      <td>Prognose</td>\n",
       "      <td>[ngram, sapbert]</td>\n",
       "      <td>0.092011</td>\n",
       "    </tr>\n",
       "  </tbody>\n",
       "</table>\n",
       "</div>"
      ],
      "text/plain": [
       "                  document                          text  \\\n",
       "0  01_magenkarzinom_0192_2                    Malignomen   \n",
       "1  01_magenkarzinom_0192_2  Mangelzustände von Vitamin D   \n",
       "2  01_magenkarzinom_0192_2                     Vitamin D   \n",
       "3  01_magenkarzinom_0192_2           Erkrankungsinzidenz   \n",
       "4  01_magenkarzinom_0192_2                     -prognose   \n",
       "\n",
       "                         type  start  end       cui                tuis  \\\n",
       "0      Diagnosis_or_Pathology     36   46  C0006826              [T191]   \n",
       "1      Diagnosis_or_Pathology     47   75  C0042870              [T047]   \n",
       "2  Nutrient_or_Body_Substance     66   75  C0042866  [T121, T125, T127]   \n",
       "3      Diagnosis_or_Pathology    125  144  C0012655              [T201]   \n",
       "4               Other_Finding    149  158  C0033325              [T058]   \n",
       "\n",
       "                canonical            linker  confidence  \n",
       "0         Krebserkrankung  [ngram, sapbert]    0.078375  \n",
       "1        Vitamin-D-Mangel  [ngram, sapbert]    0.071928  \n",
       "2               Vitamin D  [ngram, sapbert]    0.077895  \n",
       "3  Krankheitsanfälligkeit         [sapbert]    0.065133  \n",
       "4                Prognose  [ngram, sapbert]    0.092011  "
      ]
     },
     "metadata": {},
     "output_type": "display_data"
    },
    {
     "data": {
      "application/vnd.jupyter.widget-view+json": {
       "model_id": "41b6c923cec2492dbf3523fadbfa690d",
       "version_major": 2,
       "version_minor": 0
      },
      "text/plain": [
       "  0%|          | 0/1 [00:00<?, ?it/s]"
      ]
     },
     "metadata": {},
     "output_type": "display_data"
    },
    {
     "data": {
      "text/html": [
       "<div>\n",
       "<style scoped>\n",
       "    .dataframe tbody tr th:only-of-type {\n",
       "        vertical-align: middle;\n",
       "    }\n",
       "\n",
       "    .dataframe tbody tr th {\n",
       "        vertical-align: top;\n",
       "    }\n",
       "\n",
       "    .dataframe thead th {\n",
       "        text-align: right;\n",
       "    }\n",
       "</style>\n",
       "<table border=\"1\" class=\"dataframe\">\n",
       "  <thead>\n",
       "    <tr style=\"text-align: right;\">\n",
       "      <th></th>\n",
       "      <th>document</th>\n",
       "      <th>text</th>\n",
       "      <th>type</th>\n",
       "      <th>start</th>\n",
       "      <th>end</th>\n",
       "      <th>cui</th>\n",
       "      <th>tuis</th>\n",
       "      <th>canonical</th>\n",
       "      <th>linker</th>\n",
       "      <th>confidence</th>\n",
       "    </tr>\n",
       "  </thead>\n",
       "  <tbody>\n",
       "    <tr>\n",
       "      <th>0</th>\n",
       "      <td>01_magenkarzinom_0192_2</td>\n",
       "      <td>Malignomen</td>\n",
       "      <td>Diagnosis_or_Pathology</td>\n",
       "      <td>36</td>\n",
       "      <td>46</td>\n",
       "      <td>C0205282</td>\n",
       "      <td>[T080]</td>\n",
       "      <td>Malignant</td>\n",
       "      <td>[ngram, sapbert]</td>\n",
       "      <td>0.078865</td>\n",
       "    </tr>\n",
       "    <tr>\n",
       "      <th>1</th>\n",
       "      <td>01_magenkarzinom_0192_2</td>\n",
       "      <td>Mangelzustände von Vitamin D</td>\n",
       "      <td>Diagnosis_or_Pathology</td>\n",
       "      <td>47</td>\n",
       "      <td>75</td>\n",
       "      <td>C0042870</td>\n",
       "      <td>[T047]</td>\n",
       "      <td>Vitamin-D-Mangel</td>\n",
       "      <td>[ngram, sapbert]</td>\n",
       "      <td>0.072261</td>\n",
       "    </tr>\n",
       "    <tr>\n",
       "      <th>2</th>\n",
       "      <td>01_magenkarzinom_0192_2</td>\n",
       "      <td>Vitamin D</td>\n",
       "      <td>Nutrient_or_Body_Substance</td>\n",
       "      <td>66</td>\n",
       "      <td>75</td>\n",
       "      <td>C0042866</td>\n",
       "      <td>[T121, T125, T127]</td>\n",
       "      <td>Vitamin D</td>\n",
       "      <td>[ngram, sapbert]</td>\n",
       "      <td>0.077830</td>\n",
       "    </tr>\n",
       "    <tr>\n",
       "      <th>3</th>\n",
       "      <td>01_magenkarzinom_0192_2</td>\n",
       "      <td>Erkrankungsinzidenz</td>\n",
       "      <td>Diagnosis_or_Pathology</td>\n",
       "      <td>125</td>\n",
       "      <td>144</td>\n",
       "      <td>C0012655</td>\n",
       "      <td>[T201]</td>\n",
       "      <td>Krankheitsanfälligkeit</td>\n",
       "      <td>[sapbert]</td>\n",
       "      <td>0.065035</td>\n",
       "    </tr>\n",
       "    <tr>\n",
       "      <th>4</th>\n",
       "      <td>01_magenkarzinom_0192_2</td>\n",
       "      <td>Erkrankungsprognose</td>\n",
       "      <td>Other_Finding</td>\n",
       "      <td>149</td>\n",
       "      <td>168</td>\n",
       "      <td>C0242656</td>\n",
       "      <td>[T046]</td>\n",
       "      <td>Krankheitsprogression</td>\n",
       "      <td>[ngram, sapbert]</td>\n",
       "      <td>0.071588</td>\n",
       "    </tr>\n",
       "  </tbody>\n",
       "</table>\n",
       "</div>"
      ],
      "text/plain": [
       "                  document                          text  \\\n",
       "0  01_magenkarzinom_0192_2                    Malignomen   \n",
       "1  01_magenkarzinom_0192_2  Mangelzustände von Vitamin D   \n",
       "2  01_magenkarzinom_0192_2                     Vitamin D   \n",
       "3  01_magenkarzinom_0192_2           Erkrankungsinzidenz   \n",
       "4  01_magenkarzinom_0192_2           Erkrankungsprognose   \n",
       "\n",
       "                         type  start  end       cui                tuis  \\\n",
       "0      Diagnosis_or_Pathology     36   46  C0205282              [T080]   \n",
       "1      Diagnosis_or_Pathology     47   75  C0042870              [T047]   \n",
       "2  Nutrient_or_Body_Substance     66   75  C0042866  [T121, T125, T127]   \n",
       "3      Diagnosis_or_Pathology    125  144  C0012655              [T201]   \n",
       "4               Other_Finding    149  168  C0242656              [T046]   \n",
       "\n",
       "                canonical            linker  confidence  \n",
       "0               Malignant  [ngram, sapbert]    0.078865  \n",
       "1        Vitamin-D-Mangel  [ngram, sapbert]    0.072261  \n",
       "2               Vitamin D  [ngram, sapbert]    0.077830  \n",
       "3  Krankheitsanfälligkeit         [sapbert]    0.065035  \n",
       "4   Krankheitsprogression  [ngram, sapbert]    0.071588  "
      ]
     },
     "metadata": {},
     "output_type": "display_data"
    },
    {
     "name": "stdout",
     "output_type": "stream",
     "text": [
      "Difference 2\n"
     ]
    },
    {
     "data": {
      "text/markdown": [
       "Insbesondere Antioxidantien können die Wirkung von Chemo- und Strahlentherapie abschwächen."
      ],
      "text/plain": [
       "<IPython.core.display.Markdown object>"
      ]
     },
     "metadata": {},
     "output_type": "display_data"
    },
    {
     "data": {
      "text/markdown": [
       "Insbesondere Antioxidantien können die Wirkung von Chemotherapie und Strahlentherapie abschwächen."
      ],
      "text/plain": [
       "<IPython.core.display.Markdown object>"
      ]
     },
     "metadata": {},
     "output_type": "display_data"
    },
    {
     "data": {
      "text/html": [
       "<html><body><div>Insbesondere Antioxidantien können die Wirkung von Chemo<span style=\"background-color: red; text-decoration: line-through;\">-</span><span style=\"background-color: lightgreen;\">therapie</span> und Strahlentherapie abschwächen.</div></body></html>"
      ],
      "text/plain": [
       "<IPython.core.display.HTML object>"
      ]
     },
     "metadata": {},
     "output_type": "display_data"
    },
    {
     "data": {
      "application/vnd.jupyter.widget-view+json": {
       "model_id": "51263e60cd9a48ef8979f79a790fadb3",
       "version_major": 2,
       "version_minor": 0
      },
      "text/plain": [
       "  0%|          | 0/1 [00:00<?, ?it/s]"
      ]
     },
     "metadata": {},
     "output_type": "display_data"
    },
    {
     "data": {
      "text/html": [
       "<div>\n",
       "<style scoped>\n",
       "    .dataframe tbody tr th:only-of-type {\n",
       "        vertical-align: middle;\n",
       "    }\n",
       "\n",
       "    .dataframe tbody tr th {\n",
       "        vertical-align: top;\n",
       "    }\n",
       "\n",
       "    .dataframe thead th {\n",
       "        text-align: right;\n",
       "    }\n",
       "</style>\n",
       "<table border=\"1\" class=\"dataframe\">\n",
       "  <thead>\n",
       "    <tr style=\"text-align: right;\">\n",
       "      <th></th>\n",
       "      <th>document</th>\n",
       "      <th>text</th>\n",
       "      <th>type</th>\n",
       "      <th>start</th>\n",
       "      <th>end</th>\n",
       "      <th>cui</th>\n",
       "      <th>tuis</th>\n",
       "      <th>canonical</th>\n",
       "      <th>linker</th>\n",
       "      <th>confidence</th>\n",
       "    </tr>\n",
       "  </thead>\n",
       "  <tbody>\n",
       "    <tr>\n",
       "      <th>0</th>\n",
       "      <td>01_magenkarzinom_0192_12</td>\n",
       "      <td>Antioxidantien</td>\n",
       "      <td>Nutrient_or_Body_Substance</td>\n",
       "      <td>13</td>\n",
       "      <td>27</td>\n",
       "      <td>C0003402</td>\n",
       "      <td>[T121]</td>\n",
       "      <td>Antioxydanzien</td>\n",
       "      <td>[ngram, sapbert]</td>\n",
       "      <td>0.142912</td>\n",
       "    </tr>\n",
       "    <tr>\n",
       "      <th>1</th>\n",
       "      <td>01_magenkarzinom_0192_12</td>\n",
       "      <td>Chemo-</td>\n",
       "      <td>Therapeutic</td>\n",
       "      <td>51</td>\n",
       "      <td>57</td>\n",
       "      <td>C3665472</td>\n",
       "      <td>[T061]</td>\n",
       "      <td>Chemotherapie</td>\n",
       "      <td>[ngram, sapbert]</td>\n",
       "      <td>0.090850</td>\n",
       "    </tr>\n",
       "    <tr>\n",
       "      <th>2</th>\n",
       "      <td>01_magenkarzinom_0192_12</td>\n",
       "      <td>Strahlentherapie</td>\n",
       "      <td>Therapeutic</td>\n",
       "      <td>62</td>\n",
       "      <td>78</td>\n",
       "      <td>C1522449</td>\n",
       "      <td>[T061]</td>\n",
       "      <td>Strahlentherapie</td>\n",
       "      <td>[ngram, sapbert]</td>\n",
       "      <td>0.141145</td>\n",
       "    </tr>\n",
       "  </tbody>\n",
       "</table>\n",
       "</div>"
      ],
      "text/plain": [
       "                   document              text                        type  \\\n",
       "0  01_magenkarzinom_0192_12    Antioxidantien  Nutrient_or_Body_Substance   \n",
       "1  01_magenkarzinom_0192_12            Chemo-                 Therapeutic   \n",
       "2  01_magenkarzinom_0192_12  Strahlentherapie                 Therapeutic   \n",
       "\n",
       "   start  end       cui    tuis         canonical            linker  \\\n",
       "0     13   27  C0003402  [T121]    Antioxydanzien  [ngram, sapbert]   \n",
       "1     51   57  C3665472  [T061]     Chemotherapie  [ngram, sapbert]   \n",
       "2     62   78  C1522449  [T061]  Strahlentherapie  [ngram, sapbert]   \n",
       "\n",
       "   confidence  \n",
       "0    0.142912  \n",
       "1    0.090850  \n",
       "2    0.141145  "
      ]
     },
     "metadata": {},
     "output_type": "display_data"
    },
    {
     "data": {
      "application/vnd.jupyter.widget-view+json": {
       "model_id": "79c276c6a08941489c3f609a78a2dd31",
       "version_major": 2,
       "version_minor": 0
      },
      "text/plain": [
       "  0%|          | 0/1 [00:00<?, ?it/s]"
      ]
     },
     "metadata": {},
     "output_type": "display_data"
    },
    {
     "data": {
      "text/html": [
       "<div>\n",
       "<style scoped>\n",
       "    .dataframe tbody tr th:only-of-type {\n",
       "        vertical-align: middle;\n",
       "    }\n",
       "\n",
       "    .dataframe tbody tr th {\n",
       "        vertical-align: top;\n",
       "    }\n",
       "\n",
       "    .dataframe thead th {\n",
       "        text-align: right;\n",
       "    }\n",
       "</style>\n",
       "<table border=\"1\" class=\"dataframe\">\n",
       "  <thead>\n",
       "    <tr style=\"text-align: right;\">\n",
       "      <th></th>\n",
       "      <th>document</th>\n",
       "      <th>text</th>\n",
       "      <th>type</th>\n",
       "      <th>start</th>\n",
       "      <th>end</th>\n",
       "      <th>cui</th>\n",
       "      <th>tuis</th>\n",
       "      <th>canonical</th>\n",
       "      <th>linker</th>\n",
       "      <th>confidence</th>\n",
       "    </tr>\n",
       "  </thead>\n",
       "  <tbody>\n",
       "    <tr>\n",
       "      <th>0</th>\n",
       "      <td>01_magenkarzinom_0192_12</td>\n",
       "      <td>Antioxidantien</td>\n",
       "      <td>Nutrient_or_Body_Substance</td>\n",
       "      <td>13</td>\n",
       "      <td>27</td>\n",
       "      <td>C0003402</td>\n",
       "      <td>[T121]</td>\n",
       "      <td>Antioxydanzien</td>\n",
       "      <td>[ngram, sapbert]</td>\n",
       "      <td>0.141399</td>\n",
       "    </tr>\n",
       "    <tr>\n",
       "      <th>1</th>\n",
       "      <td>01_magenkarzinom_0192_12</td>\n",
       "      <td>Chemotherapie</td>\n",
       "      <td>Therapeutic</td>\n",
       "      <td>51</td>\n",
       "      <td>64</td>\n",
       "      <td>C3665472</td>\n",
       "      <td>[T061]</td>\n",
       "      <td>Chemotherapie</td>\n",
       "      <td>[ngram, sapbert]</td>\n",
       "      <td>0.108281</td>\n",
       "    </tr>\n",
       "    <tr>\n",
       "      <th>2</th>\n",
       "      <td>01_magenkarzinom_0192_12</td>\n",
       "      <td>Strahlentherapie</td>\n",
       "      <td>Therapeutic</td>\n",
       "      <td>69</td>\n",
       "      <td>85</td>\n",
       "      <td>C1522449</td>\n",
       "      <td>[T061]</td>\n",
       "      <td>Strahlentherapie</td>\n",
       "      <td>[ngram, sapbert]</td>\n",
       "      <td>0.138931</td>\n",
       "    </tr>\n",
       "  </tbody>\n",
       "</table>\n",
       "</div>"
      ],
      "text/plain": [
       "                   document              text                        type  \\\n",
       "0  01_magenkarzinom_0192_12    Antioxidantien  Nutrient_or_Body_Substance   \n",
       "1  01_magenkarzinom_0192_12     Chemotherapie                 Therapeutic   \n",
       "2  01_magenkarzinom_0192_12  Strahlentherapie                 Therapeutic   \n",
       "\n",
       "   start  end       cui    tuis         canonical            linker  \\\n",
       "0     13   27  C0003402  [T121]    Antioxydanzien  [ngram, sapbert]   \n",
       "1     51   64  C3665472  [T061]     Chemotherapie  [ngram, sapbert]   \n",
       "2     69   85  C1522449  [T061]  Strahlentherapie  [ngram, sapbert]   \n",
       "\n",
       "   confidence  \n",
       "0    0.141399  \n",
       "1    0.108281  \n",
       "2    0.138931  "
      ]
     },
     "metadata": {},
     "output_type": "display_data"
    },
    {
     "name": "stdout",
     "output_type": "stream",
     "text": [
      "Difference 3\n"
     ]
    },
    {
     "data": {
      "text/markdown": [
       "Hierzu gehören die Vitamine C und E sowie Betacarotin."
      ],
      "text/plain": [
       "<IPython.core.display.Markdown object>"
      ]
     },
     "metadata": {},
     "output_type": "display_data"
    },
    {
     "data": {
      "text/markdown": [
       "Hierzu gehören die Vitamine C und Vitamine E sowie Betacarotin."
      ],
      "text/plain": [
       "<IPython.core.display.Markdown object>"
      ]
     },
     "metadata": {},
     "output_type": "display_data"
    },
    {
     "data": {
      "text/html": [
       "<html><body><div>Hierzu gehören die Vitamine C und <span style=\"background-color: lightgreen;\">Vitamine </span>E sowie Betacarotin.</div></body></html>"
      ],
      "text/plain": [
       "<IPython.core.display.HTML object>"
      ]
     },
     "metadata": {},
     "output_type": "display_data"
    },
    {
     "data": {
      "application/vnd.jupyter.widget-view+json": {
       "model_id": "361a026540b343cf9560a286eda0d205",
       "version_major": 2,
       "version_minor": 0
      },
      "text/plain": [
       "  0%|          | 0/1 [00:00<?, ?it/s]"
      ]
     },
     "metadata": {},
     "output_type": "display_data"
    },
    {
     "data": {
      "text/html": [
       "<div>\n",
       "<style scoped>\n",
       "    .dataframe tbody tr th:only-of-type {\n",
       "        vertical-align: middle;\n",
       "    }\n",
       "\n",
       "    .dataframe tbody tr th {\n",
       "        vertical-align: top;\n",
       "    }\n",
       "\n",
       "    .dataframe thead th {\n",
       "        text-align: right;\n",
       "    }\n",
       "</style>\n",
       "<table border=\"1\" class=\"dataframe\">\n",
       "  <thead>\n",
       "    <tr style=\"text-align: right;\">\n",
       "      <th></th>\n",
       "      <th>document</th>\n",
       "      <th>text</th>\n",
       "      <th>type</th>\n",
       "      <th>start</th>\n",
       "      <th>end</th>\n",
       "      <th>cui</th>\n",
       "      <th>tuis</th>\n",
       "      <th>canonical</th>\n",
       "      <th>linker</th>\n",
       "      <th>confidence</th>\n",
       "    </tr>\n",
       "  </thead>\n",
       "  <tbody>\n",
       "    <tr>\n",
       "      <th>0</th>\n",
       "      <td>01_magenkarzinom_0192_13</td>\n",
       "      <td>Vitamine C</td>\n",
       "      <td>Nutrient_or_Body_Substance</td>\n",
       "      <td>19</td>\n",
       "      <td>29</td>\n",
       "      <td>C0003968</td>\n",
       "      <td>[T109, T121, T127]</td>\n",
       "      <td>Ascorbinsäure</td>\n",
       "      <td>[ngram, sapbert]</td>\n",
       "      <td>0.134796</td>\n",
       "    </tr>\n",
       "    <tr>\n",
       "      <th>1</th>\n",
       "      <td>01_magenkarzinom_0192_13</td>\n",
       "      <td>Vitamine C und E</td>\n",
       "      <td>Nutrient_or_Body_Substance</td>\n",
       "      <td>19</td>\n",
       "      <td>35</td>\n",
       "      <td>C0042874</td>\n",
       "      <td>[T109, T121, T127]</td>\n",
       "      <td>Vitamin E</td>\n",
       "      <td>[ngram, sapbert]</td>\n",
       "      <td>0.069408</td>\n",
       "    </tr>\n",
       "    <tr>\n",
       "      <th>2</th>\n",
       "      <td>01_magenkarzinom_0192_13</td>\n",
       "      <td>E</td>\n",
       "      <td>Nutrient_or_Body_Substance</td>\n",
       "      <td>34</td>\n",
       "      <td>35</td>\n",
       "      <td>C0439131</td>\n",
       "      <td>[T170]</td>\n",
       "      <td>Lower case Roman letter e (qualifier value)</td>\n",
       "      <td>[ngram, sapbert]</td>\n",
       "      <td>0.079268</td>\n",
       "    </tr>\n",
       "    <tr>\n",
       "      <th>3</th>\n",
       "      <td>01_magenkarzinom_0192_13</td>\n",
       "      <td>Betacarotin</td>\n",
       "      <td>Nutrient_or_Body_Substance</td>\n",
       "      <td>42</td>\n",
       "      <td>53</td>\n",
       "      <td>C0053396</td>\n",
       "      <td>[T109, T121, T127]</td>\n",
       "      <td>Beta-Carotin</td>\n",
       "      <td>[ngram, sapbert]</td>\n",
       "      <td>0.203045</td>\n",
       "    </tr>\n",
       "  </tbody>\n",
       "</table>\n",
       "</div>"
      ],
      "text/plain": [
       "                   document              text                        type  \\\n",
       "0  01_magenkarzinom_0192_13        Vitamine C  Nutrient_or_Body_Substance   \n",
       "1  01_magenkarzinom_0192_13  Vitamine C und E  Nutrient_or_Body_Substance   \n",
       "2  01_magenkarzinom_0192_13                 E  Nutrient_or_Body_Substance   \n",
       "3  01_magenkarzinom_0192_13       Betacarotin  Nutrient_or_Body_Substance   \n",
       "\n",
       "   start  end       cui                tuis  \\\n",
       "0     19   29  C0003968  [T109, T121, T127]   \n",
       "1     19   35  C0042874  [T109, T121, T127]   \n",
       "2     34   35  C0439131              [T170]   \n",
       "3     42   53  C0053396  [T109, T121, T127]   \n",
       "\n",
       "                                     canonical            linker  confidence  \n",
       "0                                Ascorbinsäure  [ngram, sapbert]    0.134796  \n",
       "1                                    Vitamin E  [ngram, sapbert]    0.069408  \n",
       "2  Lower case Roman letter e (qualifier value)  [ngram, sapbert]    0.079268  \n",
       "3                                 Beta-Carotin  [ngram, sapbert]    0.203045  "
      ]
     },
     "metadata": {},
     "output_type": "display_data"
    },
    {
     "data": {
      "application/vnd.jupyter.widget-view+json": {
       "model_id": "4ec5d2bb579b4f3ead6cd079f5ec0791",
       "version_major": 2,
       "version_minor": 0
      },
      "text/plain": [
       "  0%|          | 0/1 [00:00<?, ?it/s]"
      ]
     },
     "metadata": {},
     "output_type": "display_data"
    },
    {
     "data": {
      "text/html": [
       "<div>\n",
       "<style scoped>\n",
       "    .dataframe tbody tr th:only-of-type {\n",
       "        vertical-align: middle;\n",
       "    }\n",
       "\n",
       "    .dataframe tbody tr th {\n",
       "        vertical-align: top;\n",
       "    }\n",
       "\n",
       "    .dataframe thead th {\n",
       "        text-align: right;\n",
       "    }\n",
       "</style>\n",
       "<table border=\"1\" class=\"dataframe\">\n",
       "  <thead>\n",
       "    <tr style=\"text-align: right;\">\n",
       "      <th></th>\n",
       "      <th>document</th>\n",
       "      <th>text</th>\n",
       "      <th>type</th>\n",
       "      <th>start</th>\n",
       "      <th>end</th>\n",
       "      <th>cui</th>\n",
       "      <th>tuis</th>\n",
       "      <th>canonical</th>\n",
       "      <th>linker</th>\n",
       "      <th>confidence</th>\n",
       "    </tr>\n",
       "  </thead>\n",
       "  <tbody>\n",
       "    <tr>\n",
       "      <th>0</th>\n",
       "      <td>01_magenkarzinom_0192_13</td>\n",
       "      <td>Vitamine C</td>\n",
       "      <td>Nutrient_or_Body_Substance</td>\n",
       "      <td>19</td>\n",
       "      <td>29</td>\n",
       "      <td>C0003968</td>\n",
       "      <td>[T109, T121, T127]</td>\n",
       "      <td>Ascorbinsäure</td>\n",
       "      <td>[ngram, sapbert]</td>\n",
       "      <td>0.126339</td>\n",
       "    </tr>\n",
       "    <tr>\n",
       "      <th>1</th>\n",
       "      <td>01_magenkarzinom_0192_13</td>\n",
       "      <td>Vitamine E</td>\n",
       "      <td>Nutrient_or_Body_Substance</td>\n",
       "      <td>34</td>\n",
       "      <td>44</td>\n",
       "      <td>C0042874</td>\n",
       "      <td>[T109, T121, T127]</td>\n",
       "      <td>Vitamin E</td>\n",
       "      <td>[ngram, sapbert]</td>\n",
       "      <td>0.074227</td>\n",
       "    </tr>\n",
       "    <tr>\n",
       "      <th>2</th>\n",
       "      <td>01_magenkarzinom_0192_13</td>\n",
       "      <td>Betacarotin</td>\n",
       "      <td>Nutrient_or_Body_Substance</td>\n",
       "      <td>51</td>\n",
       "      <td>62</td>\n",
       "      <td>C0053396</td>\n",
       "      <td>[T109, T121, T127]</td>\n",
       "      <td>Beta-Carotin</td>\n",
       "      <td>[ngram, sapbert]</td>\n",
       "      <td>0.194001</td>\n",
       "    </tr>\n",
       "  </tbody>\n",
       "</table>\n",
       "</div>"
      ],
      "text/plain": [
       "                   document         text                        type  start  \\\n",
       "0  01_magenkarzinom_0192_13   Vitamine C  Nutrient_or_Body_Substance     19   \n",
       "1  01_magenkarzinom_0192_13   Vitamine E  Nutrient_or_Body_Substance     34   \n",
       "2  01_magenkarzinom_0192_13  Betacarotin  Nutrient_or_Body_Substance     51   \n",
       "\n",
       "   end       cui                tuis      canonical            linker  \\\n",
       "0   29  C0003968  [T109, T121, T127]  Ascorbinsäure  [ngram, sapbert]   \n",
       "1   44  C0042874  [T109, T121, T127]      Vitamin E  [ngram, sapbert]   \n",
       "2   62  C0053396  [T109, T121, T127]   Beta-Carotin  [ngram, sapbert]   \n",
       "\n",
       "   confidence  \n",
       "0    0.126339  \n",
       "1    0.074227  \n",
       "2    0.194001  "
      ]
     },
     "metadata": {},
     "output_type": "display_data"
    },
    {
     "name": "stdout",
     "output_type": "stream",
     "text": [
      "Difference 4\n"
     ]
    },
    {
     "data": {
      "text/markdown": [
       "Bei nachgewiesenem oder mit der Krankheitssituation des Patienten regelhaft einhergehenden Mangelsituationen (Beispiel Vitamin B12) ist eine Substitution orientiert am physiologischen Bedarf und den Zufuhr- und Resorptionsmöglichkeiten des Patienten erforderlich."
      ],
      "text/plain": [
       "<IPython.core.display.Markdown object>"
      ]
     },
     "metadata": {},
     "output_type": "display_data"
    },
    {
     "data": {
      "text/markdown": [
       "Bei nachgewiesenem oder mit der Krankheitssituation des Patienten regelhaft einhergehenden Mangelsituationen (Beispiel Vitamin B12) ist eine Substitution orientiert am physiologischen Bedarf und den Zufuhrmöglichkeiten und Resorptionsmöglichkeiten des Patienten erforderlich."
      ],
      "text/plain": [
       "<IPython.core.display.Markdown object>"
      ]
     },
     "metadata": {},
     "output_type": "display_data"
    },
    {
     "data": {
      "text/html": [
       "<html><body><div>Bei nachgewiesenem oder mit der Krankheitssituation des Patienten regelhaft einhergehenden Mangelsituationen (Beispiel Vitamin B12) ist eine Substitution orientiert am physiologischen Bedarf und den Zufuhr<span style=\"background-color: red; text-decoration: line-through;\">-</span><span style=\"background-color: lightgreen;\">möglichkeiten</span> und Resorptionsmöglichkeiten des Patienten erforderlich.</div></body></html>"
      ],
      "text/plain": [
       "<IPython.core.display.HTML object>"
      ]
     },
     "metadata": {},
     "output_type": "display_data"
    },
    {
     "data": {
      "application/vnd.jupyter.widget-view+json": {
       "model_id": "9cfa090472a54814a6a15cd2169eacf6",
       "version_major": 2,
       "version_minor": 0
      },
      "text/plain": [
       "  0%|          | 0/1 [00:00<?, ?it/s]"
      ]
     },
     "metadata": {},
     "output_type": "display_data"
    },
    {
     "data": {
      "text/html": [
       "<div>\n",
       "<style scoped>\n",
       "    .dataframe tbody tr th:only-of-type {\n",
       "        vertical-align: middle;\n",
       "    }\n",
       "\n",
       "    .dataframe tbody tr th {\n",
       "        vertical-align: top;\n",
       "    }\n",
       "\n",
       "    .dataframe thead th {\n",
       "        text-align: right;\n",
       "    }\n",
       "</style>\n",
       "<table border=\"1\" class=\"dataframe\">\n",
       "  <thead>\n",
       "    <tr style=\"text-align: right;\">\n",
       "      <th></th>\n",
       "      <th>document</th>\n",
       "      <th>text</th>\n",
       "      <th>type</th>\n",
       "      <th>start</th>\n",
       "      <th>end</th>\n",
       "      <th>cui</th>\n",
       "      <th>tuis</th>\n",
       "      <th>canonical</th>\n",
       "      <th>linker</th>\n",
       "      <th>confidence</th>\n",
       "    </tr>\n",
       "  </thead>\n",
       "  <tbody>\n",
       "    <tr>\n",
       "      <th>0</th>\n",
       "      <td>01_magenkarzinom_0192_18</td>\n",
       "      <td>nachgewiesenem oder mit der Krankheitssituation</td>\n",
       "      <td>Diagnosis_or_Pathology</td>\n",
       "      <td>4</td>\n",
       "      <td>51</td>\n",
       "      <td>C3887610</td>\n",
       "      <td>[T033]</td>\n",
       "      <td>Disease related state (finding)</td>\n",
       "      <td>[sapbert]</td>\n",
       "      <td>0.065285</td>\n",
       "    </tr>\n",
       "    <tr>\n",
       "      <th>1</th>\n",
       "      <td>01_magenkarzinom_0192_18</td>\n",
       "      <td>regelhaft einhergehenden Mangelsituationen</td>\n",
       "      <td>Diagnosis_or_Pathology</td>\n",
       "      <td>66</td>\n",
       "      <td>108</td>\n",
       "      <td>C0520966</td>\n",
       "      <td>[T033]</td>\n",
       "      <td>Dyskoordination</td>\n",
       "      <td>[ngram, sapbert]</td>\n",
       "      <td>0.063747</td>\n",
       "    </tr>\n",
       "    <tr>\n",
       "      <th>2</th>\n",
       "      <td>01_magenkarzinom_0192_18</td>\n",
       "      <td>Vitamin B12</td>\n",
       "      <td>Nutrient_or_Body_Substance</td>\n",
       "      <td>119</td>\n",
       "      <td>130</td>\n",
       "      <td>C0042845</td>\n",
       "      <td>[T109, T121, T127]</td>\n",
       "      <td>Vitamin B12</td>\n",
       "      <td>[ngram, sapbert]</td>\n",
       "      <td>0.124273</td>\n",
       "    </tr>\n",
       "    <tr>\n",
       "      <th>3</th>\n",
       "      <td>01_magenkarzinom_0192_18</td>\n",
       "      <td>Substitution</td>\n",
       "      <td>Therapeutic</td>\n",
       "      <td>141</td>\n",
       "      <td>153</td>\n",
       "      <td>C2936279</td>\n",
       "      <td>[T058]</td>\n",
       "      <td>Drug Substitution</td>\n",
       "      <td>[ngram, sapbert]</td>\n",
       "      <td>0.067640</td>\n",
       "    </tr>\n",
       "    <tr>\n",
       "      <th>4</th>\n",
       "      <td>01_magenkarzinom_0192_18</td>\n",
       "      <td>physiologischen Bedarf</td>\n",
       "      <td>Other_Finding</td>\n",
       "      <td>168</td>\n",
       "      <td>190</td>\n",
       "      <td>C0028719</td>\n",
       "      <td>[T032]</td>\n",
       "      <td>Nutritional Requirements</td>\n",
       "      <td>[sapbert]</td>\n",
       "      <td>0.066891</td>\n",
       "    </tr>\n",
       "    <tr>\n",
       "      <th>5</th>\n",
       "      <td>01_magenkarzinom_0192_18</td>\n",
       "      <td>Zufuhr-</td>\n",
       "      <td>Other_Finding</td>\n",
       "      <td>199</td>\n",
       "      <td>206</td>\n",
       "      <td>C0013470</td>\n",
       "      <td>[T040]</td>\n",
       "      <td>Essen</td>\n",
       "      <td>[sapbert]</td>\n",
       "      <td>0.070076</td>\n",
       "    </tr>\n",
       "    <tr>\n",
       "      <th>6</th>\n",
       "      <td>01_magenkarzinom_0192_18</td>\n",
       "      <td>Resorptionsmöglichkeiten</td>\n",
       "      <td>Other_Finding</td>\n",
       "      <td>211</td>\n",
       "      <td>235</td>\n",
       "      <td>C2985494</td>\n",
       "      <td>[T040]</td>\n",
       "      <td>Resorption</td>\n",
       "      <td>[ngram, sapbert]</td>\n",
       "      <td>0.066815</td>\n",
       "    </tr>\n",
       "  </tbody>\n",
       "</table>\n",
       "</div>"
      ],
      "text/plain": [
       "                   document                                             text  \\\n",
       "0  01_magenkarzinom_0192_18  nachgewiesenem oder mit der Krankheitssituation   \n",
       "1  01_magenkarzinom_0192_18       regelhaft einhergehenden Mangelsituationen   \n",
       "2  01_magenkarzinom_0192_18                                      Vitamin B12   \n",
       "3  01_magenkarzinom_0192_18                                     Substitution   \n",
       "4  01_magenkarzinom_0192_18                           physiologischen Bedarf   \n",
       "5  01_magenkarzinom_0192_18                                          Zufuhr-   \n",
       "6  01_magenkarzinom_0192_18                         Resorptionsmöglichkeiten   \n",
       "\n",
       "                         type  start  end       cui                tuis  \\\n",
       "0      Diagnosis_or_Pathology      4   51  C3887610              [T033]   \n",
       "1      Diagnosis_or_Pathology     66  108  C0520966              [T033]   \n",
       "2  Nutrient_or_Body_Substance    119  130  C0042845  [T109, T121, T127]   \n",
       "3                 Therapeutic    141  153  C2936279              [T058]   \n",
       "4               Other_Finding    168  190  C0028719              [T032]   \n",
       "5               Other_Finding    199  206  C0013470              [T040]   \n",
       "6               Other_Finding    211  235  C2985494              [T040]   \n",
       "\n",
       "                         canonical            linker  confidence  \n",
       "0  Disease related state (finding)         [sapbert]    0.065285  \n",
       "1                  Dyskoordination  [ngram, sapbert]    0.063747  \n",
       "2                      Vitamin B12  [ngram, sapbert]    0.124273  \n",
       "3                Drug Substitution  [ngram, sapbert]    0.067640  \n",
       "4         Nutritional Requirements         [sapbert]    0.066891  \n",
       "5                            Essen         [sapbert]    0.070076  \n",
       "6                       Resorption  [ngram, sapbert]    0.066815  "
      ]
     },
     "metadata": {},
     "output_type": "display_data"
    },
    {
     "data": {
      "application/vnd.jupyter.widget-view+json": {
       "model_id": "3e984b14e7a24e7e9fbdc101fc60e5b1",
       "version_major": 2,
       "version_minor": 0
      },
      "text/plain": [
       "  0%|          | 0/1 [00:00<?, ?it/s]"
      ]
     },
     "metadata": {},
     "output_type": "display_data"
    },
    {
     "data": {
      "text/html": [
       "<div>\n",
       "<style scoped>\n",
       "    .dataframe tbody tr th:only-of-type {\n",
       "        vertical-align: middle;\n",
       "    }\n",
       "\n",
       "    .dataframe tbody tr th {\n",
       "        vertical-align: top;\n",
       "    }\n",
       "\n",
       "    .dataframe thead th {\n",
       "        text-align: right;\n",
       "    }\n",
       "</style>\n",
       "<table border=\"1\" class=\"dataframe\">\n",
       "  <thead>\n",
       "    <tr style=\"text-align: right;\">\n",
       "      <th></th>\n",
       "      <th>document</th>\n",
       "      <th>text</th>\n",
       "      <th>type</th>\n",
       "      <th>start</th>\n",
       "      <th>end</th>\n",
       "      <th>cui</th>\n",
       "      <th>tuis</th>\n",
       "      <th>canonical</th>\n",
       "      <th>linker</th>\n",
       "      <th>confidence</th>\n",
       "    </tr>\n",
       "  </thead>\n",
       "  <tbody>\n",
       "    <tr>\n",
       "      <th>0</th>\n",
       "      <td>01_magenkarzinom_0192_18</td>\n",
       "      <td>nachgewiesenem oder mit der Krankheitssituation</td>\n",
       "      <td>Diagnosis_or_Pathology</td>\n",
       "      <td>4</td>\n",
       "      <td>51</td>\n",
       "      <td>C3887610</td>\n",
       "      <td>[T033]</td>\n",
       "      <td>Disease related state (finding)</td>\n",
       "      <td>[sapbert]</td>\n",
       "      <td>0.065285</td>\n",
       "    </tr>\n",
       "    <tr>\n",
       "      <th>1</th>\n",
       "      <td>01_magenkarzinom_0192_18</td>\n",
       "      <td>regelhaft einhergehenden Mangelsituationen</td>\n",
       "      <td>Diagnosis_or_Pathology</td>\n",
       "      <td>66</td>\n",
       "      <td>108</td>\n",
       "      <td>C0520966</td>\n",
       "      <td>[T033]</td>\n",
       "      <td>Dyskoordination</td>\n",
       "      <td>[ngram, sapbert]</td>\n",
       "      <td>0.063714</td>\n",
       "    </tr>\n",
       "    <tr>\n",
       "      <th>2</th>\n",
       "      <td>01_magenkarzinom_0192_18</td>\n",
       "      <td>Vitamin B12</td>\n",
       "      <td>Nutrient_or_Body_Substance</td>\n",
       "      <td>119</td>\n",
       "      <td>130</td>\n",
       "      <td>C0042845</td>\n",
       "      <td>[T109, T121, T127]</td>\n",
       "      <td>Vitamin B12</td>\n",
       "      <td>[ngram, sapbert]</td>\n",
       "      <td>0.123882</td>\n",
       "    </tr>\n",
       "    <tr>\n",
       "      <th>3</th>\n",
       "      <td>01_magenkarzinom_0192_18</td>\n",
       "      <td>Substitution</td>\n",
       "      <td>Therapeutic</td>\n",
       "      <td>141</td>\n",
       "      <td>153</td>\n",
       "      <td>C2936279</td>\n",
       "      <td>[T058]</td>\n",
       "      <td>Drug Substitution</td>\n",
       "      <td>[ngram, sapbert]</td>\n",
       "      <td>0.067688</td>\n",
       "    </tr>\n",
       "    <tr>\n",
       "      <th>4</th>\n",
       "      <td>01_magenkarzinom_0192_18</td>\n",
       "      <td>physiologischen Bedarf</td>\n",
       "      <td>Other_Finding</td>\n",
       "      <td>168</td>\n",
       "      <td>190</td>\n",
       "      <td>C0028719</td>\n",
       "      <td>[T032]</td>\n",
       "      <td>Nutritional Requirements</td>\n",
       "      <td>[sapbert]</td>\n",
       "      <td>0.066736</td>\n",
       "    </tr>\n",
       "    <tr>\n",
       "      <th>5</th>\n",
       "      <td>01_magenkarzinom_0192_18</td>\n",
       "      <td>Zufuhrmöglichkeiten</td>\n",
       "      <td>Other_Finding</td>\n",
       "      <td>199</td>\n",
       "      <td>218</td>\n",
       "      <td>C0028722</td>\n",
       "      <td>[T080]</td>\n",
       "      <td>Nutritive Value</td>\n",
       "      <td>[sapbert]</td>\n",
       "      <td>0.066207</td>\n",
       "    </tr>\n",
       "    <tr>\n",
       "      <th>6</th>\n",
       "      <td>01_magenkarzinom_0192_18</td>\n",
       "      <td>Resorptionsmöglichkeiten</td>\n",
       "      <td>Other_Finding</td>\n",
       "      <td>223</td>\n",
       "      <td>247</td>\n",
       "      <td>C2985494</td>\n",
       "      <td>[T040]</td>\n",
       "      <td>Resorption</td>\n",
       "      <td>[ngram, sapbert]</td>\n",
       "      <td>0.068145</td>\n",
       "    </tr>\n",
       "  </tbody>\n",
       "</table>\n",
       "</div>"
      ],
      "text/plain": [
       "                   document                                             text  \\\n",
       "0  01_magenkarzinom_0192_18  nachgewiesenem oder mit der Krankheitssituation   \n",
       "1  01_magenkarzinom_0192_18       regelhaft einhergehenden Mangelsituationen   \n",
       "2  01_magenkarzinom_0192_18                                      Vitamin B12   \n",
       "3  01_magenkarzinom_0192_18                                     Substitution   \n",
       "4  01_magenkarzinom_0192_18                           physiologischen Bedarf   \n",
       "5  01_magenkarzinom_0192_18                              Zufuhrmöglichkeiten   \n",
       "6  01_magenkarzinom_0192_18                         Resorptionsmöglichkeiten   \n",
       "\n",
       "                         type  start  end       cui                tuis  \\\n",
       "0      Diagnosis_or_Pathology      4   51  C3887610              [T033]   \n",
       "1      Diagnosis_or_Pathology     66  108  C0520966              [T033]   \n",
       "2  Nutrient_or_Body_Substance    119  130  C0042845  [T109, T121, T127]   \n",
       "3                 Therapeutic    141  153  C2936279              [T058]   \n",
       "4               Other_Finding    168  190  C0028719              [T032]   \n",
       "5               Other_Finding    199  218  C0028722              [T080]   \n",
       "6               Other_Finding    223  247  C2985494              [T040]   \n",
       "\n",
       "                         canonical            linker  confidence  \n",
       "0  Disease related state (finding)         [sapbert]    0.065285  \n",
       "1                  Dyskoordination  [ngram, sapbert]    0.063714  \n",
       "2                      Vitamin B12  [ngram, sapbert]    0.123882  \n",
       "3                Drug Substitution  [ngram, sapbert]    0.067688  \n",
       "4         Nutritional Requirements         [sapbert]    0.066736  \n",
       "5                  Nutritive Value         [sapbert]    0.066207  \n",
       "6                       Resorption  [ngram, sapbert]    0.068145  "
      ]
     },
     "metadata": {},
     "output_type": "display_data"
    },
    {
     "name": "stdout",
     "output_type": "stream",
     "text": [
      "Difference 5\n"
     ]
    },
    {
     "data": {
      "text/markdown": [
       "Zu uterinen Karzinomen (Endometrium- und Zervixkarzinom) existiert eine multizentrische, randomisierte Phase-3-Studie, die die Auswirkungen einer Supplementation von Natriumselenit auf die unerwünschten Wirkungen der Strahlentherapie untersuchte."
      ],
      "text/plain": [
       "<IPython.core.display.Markdown object>"
      ]
     },
     "metadata": {},
     "output_type": "display_data"
    },
    {
     "data": {
      "text/markdown": [
       "Zu uterinen Karzinomen (Endometriumkarzinom und Zervixkarzinom) existiert eine multizentrische, randomisierte Phase-3-Studie, die die Auswirkungen einer Supplementation von Natriumselenit auf die unerwünschten Wirkungen der Strahlentherapie untersuchte."
      ],
      "text/plain": [
       "<IPython.core.display.Markdown object>"
      ]
     },
     "metadata": {},
     "output_type": "display_data"
    },
    {
     "data": {
      "text/html": [
       "<html><body><div>Zu uterinen Karzinomen (Endometrium<span style=\"background-color: red; text-decoration: line-through;\">-</span><span style=\"background-color: lightgreen;\">karzinom</span> und Zervixkarzinom) existiert eine multizentrische, randomisierte Phase-3-Studie, die die Auswirkungen einer Supplementation von Natriumselenit auf die unerwünschten Wirkungen der Strahlentherapie untersuchte.</div></body></html>"
      ],
      "text/plain": [
       "<IPython.core.display.HTML object>"
      ]
     },
     "metadata": {},
     "output_type": "display_data"
    },
    {
     "data": {
      "application/vnd.jupyter.widget-view+json": {
       "model_id": "62f4613e3b43420a8284f8ade74d2df9",
       "version_major": 2,
       "version_minor": 0
      },
      "text/plain": [
       "  0%|          | 0/1 [00:00<?, ?it/s]"
      ]
     },
     "metadata": {},
     "output_type": "display_data"
    },
    {
     "data": {
      "text/html": [
       "<div>\n",
       "<style scoped>\n",
       "    .dataframe tbody tr th:only-of-type {\n",
       "        vertical-align: middle;\n",
       "    }\n",
       "\n",
       "    .dataframe tbody tr th {\n",
       "        vertical-align: top;\n",
       "    }\n",
       "\n",
       "    .dataframe thead th {\n",
       "        text-align: right;\n",
       "    }\n",
       "</style>\n",
       "<table border=\"1\" class=\"dataframe\">\n",
       "  <thead>\n",
       "    <tr style=\"text-align: right;\">\n",
       "      <th></th>\n",
       "      <th>document</th>\n",
       "      <th>text</th>\n",
       "      <th>type</th>\n",
       "      <th>start</th>\n",
       "      <th>end</th>\n",
       "      <th>cui</th>\n",
       "      <th>tuis</th>\n",
       "      <th>canonical</th>\n",
       "      <th>linker</th>\n",
       "      <th>confidence</th>\n",
       "    </tr>\n",
       "  </thead>\n",
       "  <tbody>\n",
       "    <tr>\n",
       "      <th>0</th>\n",
       "      <td>05_zervixkarzinom_0265_11</td>\n",
       "      <td>uterinen Karzinomen</td>\n",
       "      <td>Diagnosis_or_Pathology</td>\n",
       "      <td>3</td>\n",
       "      <td>22</td>\n",
       "      <td>C0153567</td>\n",
       "      <td>[T191]</td>\n",
       "      <td>Krebs des Uterus</td>\n",
       "      <td>[ngram, sapbert]</td>\n",
       "      <td>0.076731</td>\n",
       "    </tr>\n",
       "    <tr>\n",
       "      <th>1</th>\n",
       "      <td>05_zervixkarzinom_0265_11</td>\n",
       "      <td>Endometrium-</td>\n",
       "      <td>Diagnosis_or_Pathology</td>\n",
       "      <td>24</td>\n",
       "      <td>36</td>\n",
       "      <td>C0014180</td>\n",
       "      <td>[T023]</td>\n",
       "      <td>Endometrium</td>\n",
       "      <td>[ngram, sapbert]</td>\n",
       "      <td>0.115464</td>\n",
       "    </tr>\n",
       "    <tr>\n",
       "      <th>2</th>\n",
       "      <td>05_zervixkarzinom_0265_11</td>\n",
       "      <td>Zervixkarzinom</td>\n",
       "      <td>Diagnosis_or_Pathology</td>\n",
       "      <td>41</td>\n",
       "      <td>55</td>\n",
       "      <td>C0302592</td>\n",
       "      <td>[T191]</td>\n",
       "      <td>Zervixkarzinom</td>\n",
       "      <td>[ngram, sapbert]</td>\n",
       "      <td>0.123380</td>\n",
       "    </tr>\n",
       "    <tr>\n",
       "      <th>3</th>\n",
       "      <td>05_zervixkarzinom_0265_11</td>\n",
       "      <td>Supplementation von Natriumselenit</td>\n",
       "      <td>Therapeutic</td>\n",
       "      <td>146</td>\n",
       "      <td>180</td>\n",
       "      <td>C0521939</td>\n",
       "      <td>[T121, T197]</td>\n",
       "      <td>Selenium supplement</td>\n",
       "      <td>[ngram, sapbert]</td>\n",
       "      <td>0.070145</td>\n",
       "    </tr>\n",
       "    <tr>\n",
       "      <th>4</th>\n",
       "      <td>05_zervixkarzinom_0265_11</td>\n",
       "      <td>Natriumselenit</td>\n",
       "      <td>Clinical_Drug</td>\n",
       "      <td>166</td>\n",
       "      <td>180</td>\n",
       "      <td>C0142923</td>\n",
       "      <td>[T121, T197]</td>\n",
       "      <td>Natriumselenit</td>\n",
       "      <td>[ngram, sapbert]</td>\n",
       "      <td>0.148258</td>\n",
       "    </tr>\n",
       "    <tr>\n",
       "      <th>5</th>\n",
       "      <td>05_zervixkarzinom_0265_11</td>\n",
       "      <td>unerwünschten Wirkungen der Strahlentherapie</td>\n",
       "      <td>Diagnosis_or_Pathology</td>\n",
       "      <td>189</td>\n",
       "      <td>233</td>\n",
       "      <td>C0392615</td>\n",
       "      <td>[T037]</td>\n",
       "      <td>Effect of radiation therapy</td>\n",
       "      <td>[sapbert]</td>\n",
       "      <td>0.075728</td>\n",
       "    </tr>\n",
       "    <tr>\n",
       "      <th>6</th>\n",
       "      <td>05_zervixkarzinom_0265_11</td>\n",
       "      <td>Strahlentherapie</td>\n",
       "      <td>Therapeutic</td>\n",
       "      <td>217</td>\n",
       "      <td>233</td>\n",
       "      <td>C1522449</td>\n",
       "      <td>[T061]</td>\n",
       "      <td>Strahlentherapie</td>\n",
       "      <td>[ngram, sapbert]</td>\n",
       "      <td>0.140199</td>\n",
       "    </tr>\n",
       "  </tbody>\n",
       "</table>\n",
       "</div>"
      ],
      "text/plain": [
       "                    document                                          text  \\\n",
       "0  05_zervixkarzinom_0265_11                           uterinen Karzinomen   \n",
       "1  05_zervixkarzinom_0265_11                                  Endometrium-   \n",
       "2  05_zervixkarzinom_0265_11                                Zervixkarzinom   \n",
       "3  05_zervixkarzinom_0265_11            Supplementation von Natriumselenit   \n",
       "4  05_zervixkarzinom_0265_11                                Natriumselenit   \n",
       "5  05_zervixkarzinom_0265_11  unerwünschten Wirkungen der Strahlentherapie   \n",
       "6  05_zervixkarzinom_0265_11                              Strahlentherapie   \n",
       "\n",
       "                     type  start  end       cui          tuis  \\\n",
       "0  Diagnosis_or_Pathology      3   22  C0153567        [T191]   \n",
       "1  Diagnosis_or_Pathology     24   36  C0014180        [T023]   \n",
       "2  Diagnosis_or_Pathology     41   55  C0302592        [T191]   \n",
       "3             Therapeutic    146  180  C0521939  [T121, T197]   \n",
       "4           Clinical_Drug    166  180  C0142923  [T121, T197]   \n",
       "5  Diagnosis_or_Pathology    189  233  C0392615        [T037]   \n",
       "6             Therapeutic    217  233  C1522449        [T061]   \n",
       "\n",
       "                     canonical            linker  confidence  \n",
       "0             Krebs des Uterus  [ngram, sapbert]    0.076731  \n",
       "1                  Endometrium  [ngram, sapbert]    0.115464  \n",
       "2               Zervixkarzinom  [ngram, sapbert]    0.123380  \n",
       "3          Selenium supplement  [ngram, sapbert]    0.070145  \n",
       "4               Natriumselenit  [ngram, sapbert]    0.148258  \n",
       "5  Effect of radiation therapy         [sapbert]    0.075728  \n",
       "6             Strahlentherapie  [ngram, sapbert]    0.140199  "
      ]
     },
     "metadata": {},
     "output_type": "display_data"
    },
    {
     "data": {
      "application/vnd.jupyter.widget-view+json": {
       "model_id": "64b8fb96324f44188da93c5489b7fd03",
       "version_major": 2,
       "version_minor": 0
      },
      "text/plain": [
       "  0%|          | 0/1 [00:00<?, ?it/s]"
      ]
     },
     "metadata": {},
     "output_type": "display_data"
    },
    {
     "data": {
      "text/html": [
       "<div>\n",
       "<style scoped>\n",
       "    .dataframe tbody tr th:only-of-type {\n",
       "        vertical-align: middle;\n",
       "    }\n",
       "\n",
       "    .dataframe tbody tr th {\n",
       "        vertical-align: top;\n",
       "    }\n",
       "\n",
       "    .dataframe thead th {\n",
       "        text-align: right;\n",
       "    }\n",
       "</style>\n",
       "<table border=\"1\" class=\"dataframe\">\n",
       "  <thead>\n",
       "    <tr style=\"text-align: right;\">\n",
       "      <th></th>\n",
       "      <th>document</th>\n",
       "      <th>text</th>\n",
       "      <th>type</th>\n",
       "      <th>start</th>\n",
       "      <th>end</th>\n",
       "      <th>cui</th>\n",
       "      <th>tuis</th>\n",
       "      <th>canonical</th>\n",
       "      <th>linker</th>\n",
       "      <th>confidence</th>\n",
       "    </tr>\n",
       "  </thead>\n",
       "  <tbody>\n",
       "    <tr>\n",
       "      <th>0</th>\n",
       "      <td>05_zervixkarzinom_0265_11</td>\n",
       "      <td>uterinen Karzinomen</td>\n",
       "      <td>Diagnosis_or_Pathology</td>\n",
       "      <td>3</td>\n",
       "      <td>22</td>\n",
       "      <td>C0153567</td>\n",
       "      <td>[T191]</td>\n",
       "      <td>Krebs des Uterus</td>\n",
       "      <td>[ngram, sapbert]</td>\n",
       "      <td>0.076976</td>\n",
       "    </tr>\n",
       "    <tr>\n",
       "      <th>1</th>\n",
       "      <td>05_zervixkarzinom_0265_11</td>\n",
       "      <td>Endometriumkarzinom</td>\n",
       "      <td>Diagnosis_or_Pathology</td>\n",
       "      <td>24</td>\n",
       "      <td>43</td>\n",
       "      <td>C0476089</td>\n",
       "      <td>[T191]</td>\n",
       "      <td>Endometriumkarzinom</td>\n",
       "      <td>[ngram, sapbert]</td>\n",
       "      <td>0.117767</td>\n",
       "    </tr>\n",
       "    <tr>\n",
       "      <th>2</th>\n",
       "      <td>05_zervixkarzinom_0265_11</td>\n",
       "      <td>Zervixkarzinom</td>\n",
       "      <td>Diagnosis_or_Pathology</td>\n",
       "      <td>48</td>\n",
       "      <td>62</td>\n",
       "      <td>C0302592</td>\n",
       "      <td>[T191]</td>\n",
       "      <td>Zervixkarzinom</td>\n",
       "      <td>[ngram, sapbert]</td>\n",
       "      <td>0.121809</td>\n",
       "    </tr>\n",
       "    <tr>\n",
       "      <th>3</th>\n",
       "      <td>05_zervixkarzinom_0265_11</td>\n",
       "      <td>Supplementation von Natriumselenit</td>\n",
       "      <td>Therapeutic</td>\n",
       "      <td>153</td>\n",
       "      <td>187</td>\n",
       "      <td>C0521939</td>\n",
       "      <td>[T121, T197]</td>\n",
       "      <td>Selenium supplement</td>\n",
       "      <td>[ngram, sapbert]</td>\n",
       "      <td>0.070724</td>\n",
       "    </tr>\n",
       "    <tr>\n",
       "      <th>4</th>\n",
       "      <td>05_zervixkarzinom_0265_11</td>\n",
       "      <td>Natriumselenit</td>\n",
       "      <td>Clinical_Drug</td>\n",
       "      <td>173</td>\n",
       "      <td>187</td>\n",
       "      <td>C0142923</td>\n",
       "      <td>[T121, T197]</td>\n",
       "      <td>Natriumselenit</td>\n",
       "      <td>[ngram, sapbert]</td>\n",
       "      <td>0.148258</td>\n",
       "    </tr>\n",
       "    <tr>\n",
       "      <th>5</th>\n",
       "      <td>05_zervixkarzinom_0265_11</td>\n",
       "      <td>unerwünschten Wirkungen der Strahlentherapie</td>\n",
       "      <td>Diagnosis_or_Pathology</td>\n",
       "      <td>196</td>\n",
       "      <td>240</td>\n",
       "      <td>C0392615</td>\n",
       "      <td>[T037]</td>\n",
       "      <td>Effect of radiation therapy</td>\n",
       "      <td>[sapbert]</td>\n",
       "      <td>0.075728</td>\n",
       "    </tr>\n",
       "    <tr>\n",
       "      <th>6</th>\n",
       "      <td>05_zervixkarzinom_0265_11</td>\n",
       "      <td>Strahlentherapie</td>\n",
       "      <td>Therapeutic</td>\n",
       "      <td>224</td>\n",
       "      <td>240</td>\n",
       "      <td>C1522449</td>\n",
       "      <td>[T061]</td>\n",
       "      <td>Strahlentherapie</td>\n",
       "      <td>[ngram, sapbert]</td>\n",
       "      <td>0.140199</td>\n",
       "    </tr>\n",
       "  </tbody>\n",
       "</table>\n",
       "</div>"
      ],
      "text/plain": [
       "                    document                                          text  \\\n",
       "0  05_zervixkarzinom_0265_11                           uterinen Karzinomen   \n",
       "1  05_zervixkarzinom_0265_11                           Endometriumkarzinom   \n",
       "2  05_zervixkarzinom_0265_11                                Zervixkarzinom   \n",
       "3  05_zervixkarzinom_0265_11            Supplementation von Natriumselenit   \n",
       "4  05_zervixkarzinom_0265_11                                Natriumselenit   \n",
       "5  05_zervixkarzinom_0265_11  unerwünschten Wirkungen der Strahlentherapie   \n",
       "6  05_zervixkarzinom_0265_11                              Strahlentherapie   \n",
       "\n",
       "                     type  start  end       cui          tuis  \\\n",
       "0  Diagnosis_or_Pathology      3   22  C0153567        [T191]   \n",
       "1  Diagnosis_or_Pathology     24   43  C0476089        [T191]   \n",
       "2  Diagnosis_or_Pathology     48   62  C0302592        [T191]   \n",
       "3             Therapeutic    153  187  C0521939  [T121, T197]   \n",
       "4           Clinical_Drug    173  187  C0142923  [T121, T197]   \n",
       "5  Diagnosis_or_Pathology    196  240  C0392615        [T037]   \n",
       "6             Therapeutic    224  240  C1522449        [T061]   \n",
       "\n",
       "                     canonical            linker  confidence  \n",
       "0             Krebs des Uterus  [ngram, sapbert]    0.076976  \n",
       "1          Endometriumkarzinom  [ngram, sapbert]    0.117767  \n",
       "2               Zervixkarzinom  [ngram, sapbert]    0.121809  \n",
       "3          Selenium supplement  [ngram, sapbert]    0.070724  \n",
       "4               Natriumselenit  [ngram, sapbert]    0.148258  \n",
       "5  Effect of radiation therapy         [sapbert]    0.075728  \n",
       "6             Strahlentherapie  [ngram, sapbert]    0.140199  "
      ]
     },
     "metadata": {},
     "output_type": "display_data"
    },
    {
     "name": "stdout",
     "output_type": "stream",
     "text": [
      "Difference 6\n"
     ]
    },
    {
     "data": {
      "text/markdown": [
       "Hinweise für ein ungünstigeres rezidivfreies und Gesamtüberleben fanden sich nicht."
      ],
      "text/plain": [
       "<IPython.core.display.Markdown object>"
      ]
     },
     "metadata": {},
     "output_type": "display_data"
    },
    {
     "data": {
      "text/markdown": [
       "Hinweise für ein ungünstigeres rezidivfreies Überleben und Gesamtüberleben fanden sich nicht."
      ],
      "text/plain": [
       "<IPython.core.display.Markdown object>"
      ]
     },
     "metadata": {},
     "output_type": "display_data"
    },
    {
     "data": {
      "text/html": [
       "<html><body><div>Hinweise für ein ungünstigeres rezidivfreies <span style=\"background-color: lightgreen;\">Überleben </span>und Gesamtüberleben fanden sich nicht.</div></body></html>"
      ],
      "text/plain": [
       "<IPython.core.display.HTML object>"
      ]
     },
     "metadata": {},
     "output_type": "display_data"
    },
    {
     "data": {
      "application/vnd.jupyter.widget-view+json": {
       "model_id": "62e084e61b5440fcaa669b9410422d05",
       "version_major": 2,
       "version_minor": 0
      },
      "text/plain": [
       "  0%|          | 0/1 [00:00<?, ?it/s]"
      ]
     },
     "metadata": {},
     "output_type": "display_data"
    },
    {
     "data": {
      "text/html": [
       "<div>\n",
       "<style scoped>\n",
       "    .dataframe tbody tr th:only-of-type {\n",
       "        vertical-align: middle;\n",
       "    }\n",
       "\n",
       "    .dataframe tbody tr th {\n",
       "        vertical-align: top;\n",
       "    }\n",
       "\n",
       "    .dataframe thead th {\n",
       "        text-align: right;\n",
       "    }\n",
       "</style>\n",
       "<table border=\"1\" class=\"dataframe\">\n",
       "  <thead>\n",
       "    <tr style=\"text-align: right;\">\n",
       "      <th></th>\n",
       "      <th>document</th>\n",
       "      <th>text</th>\n",
       "      <th>type</th>\n",
       "      <th>start</th>\n",
       "      <th>end</th>\n",
       "      <th>cui</th>\n",
       "      <th>tuis</th>\n",
       "      <th>canonical</th>\n",
       "      <th>linker</th>\n",
       "      <th>confidence</th>\n",
       "    </tr>\n",
       "  </thead>\n",
       "  <tbody>\n",
       "    <tr>\n",
       "      <th>0</th>\n",
       "      <td>05_zervixkarzinom_0265_14</td>\n",
       "      <td>ungünstigeres rezidivfreies und Gesamtüberleben</td>\n",
       "      <td>Other_Finding</td>\n",
       "      <td>17</td>\n",
       "      <td>64</td>\n",
       "      <td>C1711356</td>\n",
       "      <td>[T081]</td>\n",
       "      <td>Relative Survival</td>\n",
       "      <td>[sapbert]</td>\n",
       "      <td>0.100695</td>\n",
       "    </tr>\n",
       "  </tbody>\n",
       "</table>\n",
       "</div>"
      ],
      "text/plain": [
       "                    document                                             text  \\\n",
       "0  05_zervixkarzinom_0265_14  ungünstigeres rezidivfreies und Gesamtüberleben   \n",
       "\n",
       "            type  start  end       cui    tuis          canonical     linker  \\\n",
       "0  Other_Finding     17   64  C1711356  [T081]  Relative Survival  [sapbert]   \n",
       "\n",
       "   confidence  \n",
       "0    0.100695  "
      ]
     },
     "metadata": {},
     "output_type": "display_data"
    },
    {
     "data": {
      "application/vnd.jupyter.widget-view+json": {
       "model_id": "48bb4a2a15514e5ea024e56b9112bc15",
       "version_major": 2,
       "version_minor": 0
      },
      "text/plain": [
       "  0%|          | 0/1 [00:00<?, ?it/s]"
      ]
     },
     "metadata": {},
     "output_type": "display_data"
    },
    {
     "data": {
      "text/html": [
       "<div>\n",
       "<style scoped>\n",
       "    .dataframe tbody tr th:only-of-type {\n",
       "        vertical-align: middle;\n",
       "    }\n",
       "\n",
       "    .dataframe tbody tr th {\n",
       "        vertical-align: top;\n",
       "    }\n",
       "\n",
       "    .dataframe thead th {\n",
       "        text-align: right;\n",
       "    }\n",
       "</style>\n",
       "<table border=\"1\" class=\"dataframe\">\n",
       "  <thead>\n",
       "    <tr style=\"text-align: right;\">\n",
       "      <th></th>\n",
       "      <th>document</th>\n",
       "      <th>text</th>\n",
       "      <th>type</th>\n",
       "      <th>start</th>\n",
       "      <th>end</th>\n",
       "      <th>cui</th>\n",
       "      <th>tuis</th>\n",
       "      <th>canonical</th>\n",
       "      <th>linker</th>\n",
       "      <th>confidence</th>\n",
       "    </tr>\n",
       "  </thead>\n",
       "  <tbody>\n",
       "    <tr>\n",
       "      <th>0</th>\n",
       "      <td>05_zervixkarzinom_0265_14</td>\n",
       "      <td>ungünstigeres rezidivfreies Überleben</td>\n",
       "      <td>Other_Finding</td>\n",
       "      <td>17</td>\n",
       "      <td>54</td>\n",
       "      <td>C2919733</td>\n",
       "      <td>[T033]</td>\n",
       "      <td>Surviving free of recurrence of neoplastic dis...</td>\n",
       "      <td>[sapbert]</td>\n",
       "      <td>0.071705</td>\n",
       "    </tr>\n",
       "    <tr>\n",
       "      <th>1</th>\n",
       "      <td>05_zervixkarzinom_0265_14</td>\n",
       "      <td>Gesamtüberleben</td>\n",
       "      <td>Other_Finding</td>\n",
       "      <td>59</td>\n",
       "      <td>74</td>\n",
       "      <td>C0038954</td>\n",
       "      <td>[T081]</td>\n",
       "      <td>Survival Rate</td>\n",
       "      <td>[ngram, sapbert]</td>\n",
       "      <td>0.076043</td>\n",
       "    </tr>\n",
       "  </tbody>\n",
       "</table>\n",
       "</div>"
      ],
      "text/plain": [
       "                    document                                   text  \\\n",
       "0  05_zervixkarzinom_0265_14  ungünstigeres rezidivfreies Überleben   \n",
       "1  05_zervixkarzinom_0265_14                        Gesamtüberleben   \n",
       "\n",
       "            type  start  end       cui    tuis  \\\n",
       "0  Other_Finding     17   54  C2919733  [T033]   \n",
       "1  Other_Finding     59   74  C0038954  [T081]   \n",
       "\n",
       "                                           canonical            linker  \\\n",
       "0  Surviving free of recurrence of neoplastic dis...         [sapbert]   \n",
       "1                                      Survival Rate  [ngram, sapbert]   \n",
       "\n",
       "   confidence  \n",
       "0    0.071705  \n",
       "1    0.076043  "
      ]
     },
     "metadata": {},
     "output_type": "display_data"
    },
    {
     "name": "stdout",
     "output_type": "stream",
     "text": [
      "Difference 7\n"
     ]
    },
    {
     "data": {
      "text/markdown": [
       "Auch hepatische Nebenwirkungen sind unter zielgerichteten und Immuntherapien häufig."
      ],
      "text/plain": [
       "<IPython.core.display.Markdown object>"
      ]
     },
     "metadata": {},
     "output_type": "display_data"
    },
    {
     "data": {
      "text/markdown": [
       "Auch hepatische Nebenwirkungen sind unter zielgerichteten Therapien und Immuntherapien häufig."
      ],
      "text/plain": [
       "<IPython.core.display.Markdown object>"
      ]
     },
     "metadata": {},
     "output_type": "display_data"
    },
    {
     "data": {
      "text/html": [
       "<html><body><div>Auch hepatische Nebenwirkungen sind unter zielgerichteten <span style=\"background-color: lightgreen;\">Therapien </span>und Immuntherapien häufig.</div></body></html>"
      ],
      "text/plain": [
       "<IPython.core.display.HTML object>"
      ]
     },
     "metadata": {},
     "output_type": "display_data"
    },
    {
     "data": {
      "application/vnd.jupyter.widget-view+json": {
       "model_id": "5ca664155b724aa3a9307c0f9d3bb45e",
       "version_major": 2,
       "version_minor": 0
      },
      "text/plain": [
       "  0%|          | 0/1 [00:00<?, ?it/s]"
      ]
     },
     "metadata": {},
     "output_type": "display_data"
    },
    {
     "data": {
      "text/html": [
       "<div>\n",
       "<style scoped>\n",
       "    .dataframe tbody tr th:only-of-type {\n",
       "        vertical-align: middle;\n",
       "    }\n",
       "\n",
       "    .dataframe tbody tr th {\n",
       "        vertical-align: top;\n",
       "    }\n",
       "\n",
       "    .dataframe thead th {\n",
       "        text-align: right;\n",
       "    }\n",
       "</style>\n",
       "<table border=\"1\" class=\"dataframe\">\n",
       "  <thead>\n",
       "    <tr style=\"text-align: right;\">\n",
       "      <th></th>\n",
       "      <th>document</th>\n",
       "      <th>text</th>\n",
       "      <th>type</th>\n",
       "      <th>start</th>\n",
       "      <th>end</th>\n",
       "      <th>cui</th>\n",
       "      <th>tuis</th>\n",
       "      <th>canonical</th>\n",
       "      <th>linker</th>\n",
       "      <th>confidence</th>\n",
       "    </tr>\n",
       "  </thead>\n",
       "  <tbody>\n",
       "    <tr>\n",
       "      <th>0</th>\n",
       "      <td>07_malignes-melanom_0197_2</td>\n",
       "      <td>hepatische Nebenwirkungen</td>\n",
       "      <td>Diagnosis_or_Pathology</td>\n",
       "      <td>5</td>\n",
       "      <td>30</td>\n",
       "      <td>C0235378</td>\n",
       "      <td>[T037]</td>\n",
       "      <td>Lebertoxizitaet</td>\n",
       "      <td>[sapbert]</td>\n",
       "      <td>0.070625</td>\n",
       "    </tr>\n",
       "    <tr>\n",
       "      <th>1</th>\n",
       "      <td>07_malignes-melanom_0197_2</td>\n",
       "      <td>zielgerichteten</td>\n",
       "      <td>Therapeutic</td>\n",
       "      <td>42</td>\n",
       "      <td>57</td>\n",
       "      <td>C2699893</td>\n",
       "      <td>[T061]</td>\n",
       "      <td>Molecular Targeted Therapy</td>\n",
       "      <td>[ngram]</td>\n",
       "      <td>0.067461</td>\n",
       "    </tr>\n",
       "    <tr>\n",
       "      <th>2</th>\n",
       "      <td>07_malignes-melanom_0197_2</td>\n",
       "      <td>Immuntherapien</td>\n",
       "      <td>Therapeutic</td>\n",
       "      <td>62</td>\n",
       "      <td>76</td>\n",
       "      <td>C0021083</td>\n",
       "      <td>[T061]</td>\n",
       "      <td>Immuntherapie</td>\n",
       "      <td>[ngram, sapbert]</td>\n",
       "      <td>0.137149</td>\n",
       "    </tr>\n",
       "  </tbody>\n",
       "</table>\n",
       "</div>"
      ],
      "text/plain": [
       "                     document                       text  \\\n",
       "0  07_malignes-melanom_0197_2  hepatische Nebenwirkungen   \n",
       "1  07_malignes-melanom_0197_2            zielgerichteten   \n",
       "2  07_malignes-melanom_0197_2             Immuntherapien   \n",
       "\n",
       "                     type  start  end       cui    tuis  \\\n",
       "0  Diagnosis_or_Pathology      5   30  C0235378  [T037]   \n",
       "1             Therapeutic     42   57  C2699893  [T061]   \n",
       "2             Therapeutic     62   76  C0021083  [T061]   \n",
       "\n",
       "                    canonical            linker  confidence  \n",
       "0             Lebertoxizitaet         [sapbert]    0.070625  \n",
       "1  Molecular Targeted Therapy           [ngram]    0.067461  \n",
       "2               Immuntherapie  [ngram, sapbert]    0.137149  "
      ]
     },
     "metadata": {},
     "output_type": "display_data"
    },
    {
     "data": {
      "application/vnd.jupyter.widget-view+json": {
       "model_id": "db046490e114492095db260c1c10e6af",
       "version_major": 2,
       "version_minor": 0
      },
      "text/plain": [
       "  0%|          | 0/1 [00:00<?, ?it/s]"
      ]
     },
     "metadata": {},
     "output_type": "display_data"
    },
    {
     "data": {
      "text/html": [
       "<div>\n",
       "<style scoped>\n",
       "    .dataframe tbody tr th:only-of-type {\n",
       "        vertical-align: middle;\n",
       "    }\n",
       "\n",
       "    .dataframe tbody tr th {\n",
       "        vertical-align: top;\n",
       "    }\n",
       "\n",
       "    .dataframe thead th {\n",
       "        text-align: right;\n",
       "    }\n",
       "</style>\n",
       "<table border=\"1\" class=\"dataframe\">\n",
       "  <thead>\n",
       "    <tr style=\"text-align: right;\">\n",
       "      <th></th>\n",
       "      <th>document</th>\n",
       "      <th>text</th>\n",
       "      <th>type</th>\n",
       "      <th>start</th>\n",
       "      <th>end</th>\n",
       "      <th>cui</th>\n",
       "      <th>tuis</th>\n",
       "      <th>canonical</th>\n",
       "      <th>linker</th>\n",
       "      <th>confidence</th>\n",
       "    </tr>\n",
       "  </thead>\n",
       "  <tbody>\n",
       "    <tr>\n",
       "      <th>0</th>\n",
       "      <td>07_malignes-melanom_0197_2</td>\n",
       "      <td>hepatische Nebenwirkungen</td>\n",
       "      <td>Diagnosis_or_Pathology</td>\n",
       "      <td>5</td>\n",
       "      <td>30</td>\n",
       "      <td>C0235378</td>\n",
       "      <td>[T037]</td>\n",
       "      <td>Lebertoxizitaet</td>\n",
       "      <td>[sapbert]</td>\n",
       "      <td>0.070590</td>\n",
       "    </tr>\n",
       "    <tr>\n",
       "      <th>1</th>\n",
       "      <td>07_malignes-melanom_0197_2</td>\n",
       "      <td>zielgerichteten Therapien</td>\n",
       "      <td>Therapeutic</td>\n",
       "      <td>42</td>\n",
       "      <td>67</td>\n",
       "      <td>C2699893</td>\n",
       "      <td>[T061]</td>\n",
       "      <td>Molecular Targeted Therapy</td>\n",
       "      <td>[ngram, sapbert]</td>\n",
       "      <td>0.072630</td>\n",
       "    </tr>\n",
       "    <tr>\n",
       "      <th>2</th>\n",
       "      <td>07_malignes-melanom_0197_2</td>\n",
       "      <td>Immuntherapien</td>\n",
       "      <td>Therapeutic</td>\n",
       "      <td>72</td>\n",
       "      <td>86</td>\n",
       "      <td>C0021083</td>\n",
       "      <td>[T061]</td>\n",
       "      <td>Immuntherapie</td>\n",
       "      <td>[ngram, sapbert]</td>\n",
       "      <td>0.139838</td>\n",
       "    </tr>\n",
       "  </tbody>\n",
       "</table>\n",
       "</div>"
      ],
      "text/plain": [
       "                     document                       text  \\\n",
       "0  07_malignes-melanom_0197_2  hepatische Nebenwirkungen   \n",
       "1  07_malignes-melanom_0197_2  zielgerichteten Therapien   \n",
       "2  07_malignes-melanom_0197_2             Immuntherapien   \n",
       "\n",
       "                     type  start  end       cui    tuis  \\\n",
       "0  Diagnosis_or_Pathology      5   30  C0235378  [T037]   \n",
       "1             Therapeutic     42   67  C2699893  [T061]   \n",
       "2             Therapeutic     72   86  C0021083  [T061]   \n",
       "\n",
       "                    canonical            linker  confidence  \n",
       "0             Lebertoxizitaet         [sapbert]    0.070590  \n",
       "1  Molecular Targeted Therapy  [ngram, sapbert]    0.072630  \n",
       "2               Immuntherapie  [ngram, sapbert]    0.139838  "
      ]
     },
     "metadata": {},
     "output_type": "display_data"
    },
    {
     "name": "stdout",
     "output_type": "stream",
     "text": [
      "Difference 8\n"
     ]
    },
    {
     "data": {
      "text/markdown": [
       "BRAF/MEK-Inhibitoren führen insbesondere zu asymptomatischen Transaminasenerhöhungen bei etwa 30% der Patienten, Grad 3/4 Erhöhungen treten bei etwa 10% auf [REF], [REF]."
      ],
      "text/plain": [
       "<IPython.core.display.Markdown object>"
      ]
     },
     "metadata": {},
     "output_type": "display_data"
    },
    {
     "data": {
      "text/markdown": [
       "BRAF-Inhibitoren/MEK-Inhibitoren führen insbesondere zu asymptomatischen Transaminasenerhöhungen bei etwa 30% der Patienten, Grad 3 Erhöhungen/Grad 4 Erhöhungen treten bei etwa 10% auf [REF], [REF]."
      ],
      "text/plain": [
       "<IPython.core.display.Markdown object>"
      ]
     },
     "metadata": {},
     "output_type": "display_data"
    },
    {
     "data": {
      "text/html": [
       "<html><body><div>BRAF<span style=\"background-color: lightgreen;\">-Inhibitoren</span>/MEK-Inhibitoren führen insbesondere zu asymptomatischen Transaminasenerhöhungen bei etwa 30% der Patienten, Grad 3<span style=\"background-color: lightgreen;\"> Erhöhungen</span>/<span style=\"background-color: lightgreen;\">Grad </span>4 Erhöhungen treten bei etwa 10% auf [REF], [REF].</div></body></html>"
      ],
      "text/plain": [
       "<IPython.core.display.HTML object>"
      ]
     },
     "metadata": {},
     "output_type": "display_data"
    },
    {
     "data": {
      "application/vnd.jupyter.widget-view+json": {
       "model_id": "2c6bd67416174d12babf9076b0b6d5f3",
       "version_major": 2,
       "version_minor": 0
      },
      "text/plain": [
       "  0%|          | 0/1 [00:00<?, ?it/s]"
      ]
     },
     "metadata": {},
     "output_type": "display_data"
    },
    {
     "data": {
      "text/html": [
       "<div>\n",
       "<style scoped>\n",
       "    .dataframe tbody tr th:only-of-type {\n",
       "        vertical-align: middle;\n",
       "    }\n",
       "\n",
       "    .dataframe tbody tr th {\n",
       "        vertical-align: top;\n",
       "    }\n",
       "\n",
       "    .dataframe thead th {\n",
       "        text-align: right;\n",
       "    }\n",
       "</style>\n",
       "<table border=\"1\" class=\"dataframe\">\n",
       "  <thead>\n",
       "    <tr style=\"text-align: right;\">\n",
       "      <th></th>\n",
       "      <th>document</th>\n",
       "      <th>text</th>\n",
       "      <th>type</th>\n",
       "      <th>start</th>\n",
       "      <th>end</th>\n",
       "      <th>cui</th>\n",
       "      <th>tuis</th>\n",
       "      <th>canonical</th>\n",
       "      <th>linker</th>\n",
       "      <th>confidence</th>\n",
       "    </tr>\n",
       "  </thead>\n",
       "  <tbody>\n",
       "    <tr>\n",
       "      <th>0</th>\n",
       "      <td>07_malignes-melanom_0197_3</td>\n",
       "      <td>BRAF</td>\n",
       "      <td>Clinical_Drug</td>\n",
       "      <td>0</td>\n",
       "      <td>4</td>\n",
       "      <td>C1259929</td>\n",
       "      <td>[T116, T123]</td>\n",
       "      <td>94 kDa B-raf Protein</td>\n",
       "      <td>[ngram, sapbert]</td>\n",
       "      <td>0.077802</td>\n",
       "    </tr>\n",
       "    <tr>\n",
       "      <th>1</th>\n",
       "      <td>07_malignes-melanom_0197_3</td>\n",
       "      <td>MEK-Inhibitoren</td>\n",
       "      <td>Clinical_Drug</td>\n",
       "      <td>5</td>\n",
       "      <td>20</td>\n",
       "      <td>C2347168</td>\n",
       "      <td>[T121]</td>\n",
       "      <td>MAPKK Inhibitor</td>\n",
       "      <td>[ngram, sapbert]</td>\n",
       "      <td>0.112728</td>\n",
       "    </tr>\n",
       "    <tr>\n",
       "      <th>2</th>\n",
       "      <td>07_malignes-melanom_0197_3</td>\n",
       "      <td>asymptomatischen Transaminasenerhöhungen</td>\n",
       "      <td>Diagnosis_or_Pathology</td>\n",
       "      <td>44</td>\n",
       "      <td>84</td>\n",
       "      <td>C0438717</td>\n",
       "      <td>[T033]</td>\n",
       "      <td>Transaminasen erhoeht</td>\n",
       "      <td>[ngram, sapbert]</td>\n",
       "      <td>0.067316</td>\n",
       "    </tr>\n",
       "    <tr>\n",
       "      <th>3</th>\n",
       "      <td>07_malignes-melanom_0197_3</td>\n",
       "      <td>Grad 3</td>\n",
       "      <td>Diagnosis_or_Pathology</td>\n",
       "      <td>113</td>\n",
       "      <td>119</td>\n",
       "      <td>C0450094</td>\n",
       "      <td>[T033]</td>\n",
       "      <td>Grade 3</td>\n",
       "      <td>[ngram, sapbert]</td>\n",
       "      <td>0.116514</td>\n",
       "    </tr>\n",
       "    <tr>\n",
       "      <th>4</th>\n",
       "      <td>07_malignes-melanom_0197_3</td>\n",
       "      <td>Grad 3/4 Erhöhungen</td>\n",
       "      <td>Diagnosis_or_Pathology</td>\n",
       "      <td>113</td>\n",
       "      <td>132</td>\n",
       "      <td>C5548512</td>\n",
       "      <td>[T185]</td>\n",
       "      <td>Grade 4 on a scale of 1 to 4</td>\n",
       "      <td>[sapbert]</td>\n",
       "      <td>0.065514</td>\n",
       "    </tr>\n",
       "  </tbody>\n",
       "</table>\n",
       "</div>"
      ],
      "text/plain": [
       "                     document                                      text  \\\n",
       "0  07_malignes-melanom_0197_3                                      BRAF   \n",
       "1  07_malignes-melanom_0197_3                           MEK-Inhibitoren   \n",
       "2  07_malignes-melanom_0197_3  asymptomatischen Transaminasenerhöhungen   \n",
       "3  07_malignes-melanom_0197_3                                    Grad 3   \n",
       "4  07_malignes-melanom_0197_3                       Grad 3/4 Erhöhungen   \n",
       "\n",
       "                     type  start  end       cui          tuis  \\\n",
       "0           Clinical_Drug      0    4  C1259929  [T116, T123]   \n",
       "1           Clinical_Drug      5   20  C2347168        [T121]   \n",
       "2  Diagnosis_or_Pathology     44   84  C0438717        [T033]   \n",
       "3  Diagnosis_or_Pathology    113  119  C0450094        [T033]   \n",
       "4  Diagnosis_or_Pathology    113  132  C5548512        [T185]   \n",
       "\n",
       "                      canonical            linker  confidence  \n",
       "0          94 kDa B-raf Protein  [ngram, sapbert]    0.077802  \n",
       "1               MAPKK Inhibitor  [ngram, sapbert]    0.112728  \n",
       "2         Transaminasen erhoeht  [ngram, sapbert]    0.067316  \n",
       "3                       Grade 3  [ngram, sapbert]    0.116514  \n",
       "4  Grade 4 on a scale of 1 to 4         [sapbert]    0.065514  "
      ]
     },
     "metadata": {},
     "output_type": "display_data"
    },
    {
     "data": {
      "application/vnd.jupyter.widget-view+json": {
       "model_id": "82f3efe0100e46f5b0265a09667d519d",
       "version_major": 2,
       "version_minor": 0
      },
      "text/plain": [
       "  0%|          | 0/1 [00:00<?, ?it/s]"
      ]
     },
     "metadata": {},
     "output_type": "display_data"
    },
    {
     "data": {
      "text/html": [
       "<div>\n",
       "<style scoped>\n",
       "    .dataframe tbody tr th:only-of-type {\n",
       "        vertical-align: middle;\n",
       "    }\n",
       "\n",
       "    .dataframe tbody tr th {\n",
       "        vertical-align: top;\n",
       "    }\n",
       "\n",
       "    .dataframe thead th {\n",
       "        text-align: right;\n",
       "    }\n",
       "</style>\n",
       "<table border=\"1\" class=\"dataframe\">\n",
       "  <thead>\n",
       "    <tr style=\"text-align: right;\">\n",
       "      <th></th>\n",
       "      <th>document</th>\n",
       "      <th>text</th>\n",
       "      <th>type</th>\n",
       "      <th>start</th>\n",
       "      <th>end</th>\n",
       "      <th>cui</th>\n",
       "      <th>tuis</th>\n",
       "      <th>canonical</th>\n",
       "      <th>linker</th>\n",
       "      <th>confidence</th>\n",
       "    </tr>\n",
       "  </thead>\n",
       "  <tbody>\n",
       "    <tr>\n",
       "      <th>0</th>\n",
       "      <td>07_malignes-melanom_0197_3</td>\n",
       "      <td>BRAF-Inhibitoren</td>\n",
       "      <td>Clinical_Drug</td>\n",
       "      <td>0</td>\n",
       "      <td>16</td>\n",
       "      <td>C3838813</td>\n",
       "      <td>[T116, T121]</td>\n",
       "      <td>B-Raf inhibitor</td>\n",
       "      <td>[ngram, sapbert]</td>\n",
       "      <td>0.099231</td>\n",
       "    </tr>\n",
       "    <tr>\n",
       "      <th>1</th>\n",
       "      <td>07_malignes-melanom_0197_3</td>\n",
       "      <td>MEK-Inhibitoren</td>\n",
       "      <td>Clinical_Drug</td>\n",
       "      <td>17</td>\n",
       "      <td>32</td>\n",
       "      <td>C2347168</td>\n",
       "      <td>[T121]</td>\n",
       "      <td>MAPKK Inhibitor</td>\n",
       "      <td>[ngram, sapbert]</td>\n",
       "      <td>0.091886</td>\n",
       "    </tr>\n",
       "    <tr>\n",
       "      <th>2</th>\n",
       "      <td>07_malignes-melanom_0197_3</td>\n",
       "      <td>asymptomatischen Transaminasenerhöhungen</td>\n",
       "      <td>Diagnosis_or_Pathology</td>\n",
       "      <td>56</td>\n",
       "      <td>96</td>\n",
       "      <td>C0438717</td>\n",
       "      <td>[T033]</td>\n",
       "      <td>Transaminasen erhoeht</td>\n",
       "      <td>[ngram, sapbert]</td>\n",
       "      <td>0.064062</td>\n",
       "    </tr>\n",
       "    <tr>\n",
       "      <th>3</th>\n",
       "      <td>07_malignes-melanom_0197_3</td>\n",
       "      <td>Grad 3 Erhöhungen</td>\n",
       "      <td>Diagnosis_or_Pathology</td>\n",
       "      <td>125</td>\n",
       "      <td>142</td>\n",
       "      <td>C1333844</td>\n",
       "      <td>[T033]</td>\n",
       "      <td>Grade 3 Lesion</td>\n",
       "      <td>[ngram, sapbert]</td>\n",
       "      <td>0.068164</td>\n",
       "    </tr>\n",
       "    <tr>\n",
       "      <th>4</th>\n",
       "      <td>07_malignes-melanom_0197_3</td>\n",
       "      <td>Grad 4 Erhöhungen</td>\n",
       "      <td>Diagnosis_or_Pathology</td>\n",
       "      <td>143</td>\n",
       "      <td>160</td>\n",
       "      <td>C0547054</td>\n",
       "      <td>[T185]</td>\n",
       "      <td>Grade IV</td>\n",
       "      <td>[ngram, sapbert]</td>\n",
       "      <td>0.067878</td>\n",
       "    </tr>\n",
       "  </tbody>\n",
       "</table>\n",
       "</div>"
      ],
      "text/plain": [
       "                     document                                      text  \\\n",
       "0  07_malignes-melanom_0197_3                          BRAF-Inhibitoren   \n",
       "1  07_malignes-melanom_0197_3                           MEK-Inhibitoren   \n",
       "2  07_malignes-melanom_0197_3  asymptomatischen Transaminasenerhöhungen   \n",
       "3  07_malignes-melanom_0197_3                         Grad 3 Erhöhungen   \n",
       "4  07_malignes-melanom_0197_3                         Grad 4 Erhöhungen   \n",
       "\n",
       "                     type  start  end       cui          tuis  \\\n",
       "0           Clinical_Drug      0   16  C3838813  [T116, T121]   \n",
       "1           Clinical_Drug     17   32  C2347168        [T121]   \n",
       "2  Diagnosis_or_Pathology     56   96  C0438717        [T033]   \n",
       "3  Diagnosis_or_Pathology    125  142  C1333844        [T033]   \n",
       "4  Diagnosis_or_Pathology    143  160  C0547054        [T185]   \n",
       "\n",
       "               canonical            linker  confidence  \n",
       "0        B-Raf inhibitor  [ngram, sapbert]    0.099231  \n",
       "1        MAPKK Inhibitor  [ngram, sapbert]    0.091886  \n",
       "2  Transaminasen erhoeht  [ngram, sapbert]    0.064062  \n",
       "3         Grade 3 Lesion  [ngram, sapbert]    0.068164  \n",
       "4               Grade IV  [ngram, sapbert]    0.067878  "
      ]
     },
     "metadata": {},
     "output_type": "display_data"
    },
    {
     "name": "stdout",
     "output_type": "stream",
     "text": [
      "Difference 9\n"
     ]
    },
    {
     "data": {
      "text/markdown": [
       "In der CheckMate 067 Studie zeigten bis zu 18% der Patienten meist asymptomatische Transaminasenerhöhungen, während es bei Ipilimumab und Nivolumab Monotherapie jeweils nur 4% sind [REF]."
      ],
      "text/plain": [
       "<IPython.core.display.Markdown object>"
      ]
     },
     "metadata": {},
     "output_type": "display_data"
    },
    {
     "data": {
      "text/markdown": [
       "In der CheckMate 067 Studie zeigten bis zu 18% der Patienten meist asymptomatische Transaminasenerhöhungen, während es bei Ipilimumab Monotherapie und Nivolumab Monotherapie jeweils nur 4% sind [REF]."
      ],
      "text/plain": [
       "<IPython.core.display.Markdown object>"
      ]
     },
     "metadata": {},
     "output_type": "display_data"
    },
    {
     "data": {
      "text/html": [
       "<html><body><div>In der CheckMate 067 Studie zeigten bis zu 18% der Patienten meist asymptomatische Transaminasenerhöhungen, während es bei Ipilimumab<span style=\"background-color: lightgreen;\"> Monotherapie</span> und Nivolumab Monotherapie jeweils nur 4% sind [REF].</div></body></html>"
      ],
      "text/plain": [
       "<IPython.core.display.HTML object>"
      ]
     },
     "metadata": {},
     "output_type": "display_data"
    },
    {
     "data": {
      "application/vnd.jupyter.widget-view+json": {
       "model_id": "7c366de815c2460d9e76fd8c764e4ad5",
       "version_major": 2,
       "version_minor": 0
      },
      "text/plain": [
       "  0%|          | 0/1 [00:00<?, ?it/s]"
      ]
     },
     "metadata": {},
     "output_type": "display_data"
    },
    {
     "data": {
      "text/html": [
       "<div>\n",
       "<style scoped>\n",
       "    .dataframe tbody tr th:only-of-type {\n",
       "        vertical-align: middle;\n",
       "    }\n",
       "\n",
       "    .dataframe tbody tr th {\n",
       "        vertical-align: top;\n",
       "    }\n",
       "\n",
       "    .dataframe thead th {\n",
       "        text-align: right;\n",
       "    }\n",
       "</style>\n",
       "<table border=\"1\" class=\"dataframe\">\n",
       "  <thead>\n",
       "    <tr style=\"text-align: right;\">\n",
       "      <th></th>\n",
       "      <th>document</th>\n",
       "      <th>text</th>\n",
       "      <th>type</th>\n",
       "      <th>start</th>\n",
       "      <th>end</th>\n",
       "      <th>cui</th>\n",
       "      <th>tuis</th>\n",
       "      <th>canonical</th>\n",
       "      <th>linker</th>\n",
       "      <th>confidence</th>\n",
       "    </tr>\n",
       "  </thead>\n",
       "  <tbody>\n",
       "    <tr>\n",
       "      <th>0</th>\n",
       "      <td>07_malignes-melanom_0197_6</td>\n",
       "      <td>asymptomatische Transaminasenerhöhungen</td>\n",
       "      <td>Diagnosis_or_Pathology</td>\n",
       "      <td>67</td>\n",
       "      <td>106</td>\n",
       "      <td>C0438717</td>\n",
       "      <td>[T033]</td>\n",
       "      <td>Transaminasen erhoeht</td>\n",
       "      <td>[sapbert]</td>\n",
       "      <td>0.064863</td>\n",
       "    </tr>\n",
       "    <tr>\n",
       "      <th>1</th>\n",
       "      <td>07_malignes-melanom_0197_6</td>\n",
       "      <td>Ipilimumab</td>\n",
       "      <td>Clinical_Drug</td>\n",
       "      <td>123</td>\n",
       "      <td>133</td>\n",
       "      <td>C1367202</td>\n",
       "      <td>[T116, T121, T129]</td>\n",
       "      <td>Ipilimumab</td>\n",
       "      <td>[ngram, sapbert]</td>\n",
       "      <td>0.144958</td>\n",
       "    </tr>\n",
       "    <tr>\n",
       "      <th>2</th>\n",
       "      <td>07_malignes-melanom_0197_6</td>\n",
       "      <td>Nivolumab Monotherapie</td>\n",
       "      <td>Therapeutic</td>\n",
       "      <td>138</td>\n",
       "      <td>160</td>\n",
       "      <td>C3657270</td>\n",
       "      <td>[T116, T121, T129]</td>\n",
       "      <td>Nivolumab</td>\n",
       "      <td>[ngram, sapbert]</td>\n",
       "      <td>0.072226</td>\n",
       "    </tr>\n",
       "  </tbody>\n",
       "</table>\n",
       "</div>"
      ],
      "text/plain": [
       "                     document                                     text  \\\n",
       "0  07_malignes-melanom_0197_6  asymptomatische Transaminasenerhöhungen   \n",
       "1  07_malignes-melanom_0197_6                               Ipilimumab   \n",
       "2  07_malignes-melanom_0197_6                   Nivolumab Monotherapie   \n",
       "\n",
       "                     type  start  end       cui                tuis  \\\n",
       "0  Diagnosis_or_Pathology     67  106  C0438717              [T033]   \n",
       "1           Clinical_Drug    123  133  C1367202  [T116, T121, T129]   \n",
       "2             Therapeutic    138  160  C3657270  [T116, T121, T129]   \n",
       "\n",
       "               canonical            linker  confidence  \n",
       "0  Transaminasen erhoeht         [sapbert]    0.064863  \n",
       "1             Ipilimumab  [ngram, sapbert]    0.144958  \n",
       "2              Nivolumab  [ngram, sapbert]    0.072226  "
      ]
     },
     "metadata": {},
     "output_type": "display_data"
    },
    {
     "data": {
      "application/vnd.jupyter.widget-view+json": {
       "model_id": "b9995719c0c046f5894ebd6d3b04447e",
       "version_major": 2,
       "version_minor": 0
      },
      "text/plain": [
       "  0%|          | 0/1 [00:00<?, ?it/s]"
      ]
     },
     "metadata": {},
     "output_type": "display_data"
    },
    {
     "data": {
      "text/html": [
       "<div>\n",
       "<style scoped>\n",
       "    .dataframe tbody tr th:only-of-type {\n",
       "        vertical-align: middle;\n",
       "    }\n",
       "\n",
       "    .dataframe tbody tr th {\n",
       "        vertical-align: top;\n",
       "    }\n",
       "\n",
       "    .dataframe thead th {\n",
       "        text-align: right;\n",
       "    }\n",
       "</style>\n",
       "<table border=\"1\" class=\"dataframe\">\n",
       "  <thead>\n",
       "    <tr style=\"text-align: right;\">\n",
       "      <th></th>\n",
       "      <th>document</th>\n",
       "      <th>text</th>\n",
       "      <th>type</th>\n",
       "      <th>start</th>\n",
       "      <th>end</th>\n",
       "      <th>cui</th>\n",
       "      <th>tuis</th>\n",
       "      <th>canonical</th>\n",
       "      <th>linker</th>\n",
       "      <th>confidence</th>\n",
       "    </tr>\n",
       "  </thead>\n",
       "  <tbody>\n",
       "    <tr>\n",
       "      <th>0</th>\n",
       "      <td>07_malignes-melanom_0197_6</td>\n",
       "      <td>asymptomatische Transaminasenerhöhungen</td>\n",
       "      <td>Diagnosis_or_Pathology</td>\n",
       "      <td>67</td>\n",
       "      <td>106</td>\n",
       "      <td>C0438717</td>\n",
       "      <td>[T033]</td>\n",
       "      <td>Transaminasen erhoeht</td>\n",
       "      <td>[sapbert]</td>\n",
       "      <td>0.064624</td>\n",
       "    </tr>\n",
       "    <tr>\n",
       "      <th>1</th>\n",
       "      <td>07_malignes-melanom_0197_6</td>\n",
       "      <td>Ipilimumab Monotherapie</td>\n",
       "      <td>Therapeutic</td>\n",
       "      <td>123</td>\n",
       "      <td>146</td>\n",
       "      <td>C1367202</td>\n",
       "      <td>[T116, T121, T129]</td>\n",
       "      <td>Ipilimumab</td>\n",
       "      <td>[ngram, sapbert]</td>\n",
       "      <td>0.076966</td>\n",
       "    </tr>\n",
       "    <tr>\n",
       "      <th>2</th>\n",
       "      <td>07_malignes-melanom_0197_6</td>\n",
       "      <td>Nivolumab Monotherapie</td>\n",
       "      <td>Therapeutic</td>\n",
       "      <td>151</td>\n",
       "      <td>173</td>\n",
       "      <td>C3657270</td>\n",
       "      <td>[T116, T121, T129]</td>\n",
       "      <td>Nivolumab</td>\n",
       "      <td>[ngram, sapbert]</td>\n",
       "      <td>0.075624</td>\n",
       "    </tr>\n",
       "  </tbody>\n",
       "</table>\n",
       "</div>"
      ],
      "text/plain": [
       "                     document                                     text  \\\n",
       "0  07_malignes-melanom_0197_6  asymptomatische Transaminasenerhöhungen   \n",
       "1  07_malignes-melanom_0197_6                  Ipilimumab Monotherapie   \n",
       "2  07_malignes-melanom_0197_6                   Nivolumab Monotherapie   \n",
       "\n",
       "                     type  start  end       cui                tuis  \\\n",
       "0  Diagnosis_or_Pathology     67  106  C0438717              [T033]   \n",
       "1             Therapeutic    123  146  C1367202  [T116, T121, T129]   \n",
       "2             Therapeutic    151  173  C3657270  [T116, T121, T129]   \n",
       "\n",
       "               canonical            linker  confidence  \n",
       "0  Transaminasen erhoeht         [sapbert]    0.064624  \n",
       "1             Ipilimumab  [ngram, sapbert]    0.076966  \n",
       "2              Nivolumab  [ngram, sapbert]    0.075624  "
      ]
     },
     "metadata": {},
     "output_type": "display_data"
    },
    {
     "name": "stdout",
     "output_type": "stream",
     "text": [
      "Difference 10\n"
     ]
    },
    {
     "data": {
      "text/markdown": [
       "Grad 3/4 Hepatitiden sieht man bei bis zu 8% unter Ipilimumab plus Nivolumab und maximal 2% unter den Monotherapien."
      ],
      "text/plain": [
       "<IPython.core.display.Markdown object>"
      ]
     },
     "metadata": {},
     "output_type": "display_data"
    },
    {
     "data": {
      "text/markdown": [
       "Grad 3 Hepatitiden/Grad 4 Hepatitiden sieht man bei bis zu 8% unter Ipilimumab plus Nivolumab und maximal 2% unter den Monotherapien."
      ],
      "text/plain": [
       "<IPython.core.display.Markdown object>"
      ]
     },
     "metadata": {},
     "output_type": "display_data"
    },
    {
     "data": {
      "text/html": [
       "<html><body><div>Grad 3<span style=\"background-color: lightgreen;\"> Hepatitiden</span>/<span style=\"background-color: lightgreen;\">Grad </span>4 Hepatitiden sieht man bei bis zu 8% unter Ipilimumab plus Nivolumab und maximal 2% unter den Monotherapien.</div></body></html>"
      ],
      "text/plain": [
       "<IPython.core.display.HTML object>"
      ]
     },
     "metadata": {},
     "output_type": "display_data"
    },
    {
     "data": {
      "application/vnd.jupyter.widget-view+json": {
       "model_id": "fc8228c2e0604d62a24b54115ec60033",
       "version_major": 2,
       "version_minor": 0
      },
      "text/plain": [
       "  0%|          | 0/1 [00:00<?, ?it/s]"
      ]
     },
     "metadata": {},
     "output_type": "display_data"
    },
    {
     "data": {
      "text/html": [
       "<div>\n",
       "<style scoped>\n",
       "    .dataframe tbody tr th:only-of-type {\n",
       "        vertical-align: middle;\n",
       "    }\n",
       "\n",
       "    .dataframe tbody tr th {\n",
       "        vertical-align: top;\n",
       "    }\n",
       "\n",
       "    .dataframe thead th {\n",
       "        text-align: right;\n",
       "    }\n",
       "</style>\n",
       "<table border=\"1\" class=\"dataframe\">\n",
       "  <thead>\n",
       "    <tr style=\"text-align: right;\">\n",
       "      <th></th>\n",
       "      <th>document</th>\n",
       "      <th>text</th>\n",
       "      <th>type</th>\n",
       "      <th>start</th>\n",
       "      <th>end</th>\n",
       "      <th>cui</th>\n",
       "      <th>tuis</th>\n",
       "      <th>canonical</th>\n",
       "      <th>linker</th>\n",
       "      <th>confidence</th>\n",
       "    </tr>\n",
       "  </thead>\n",
       "  <tbody>\n",
       "    <tr>\n",
       "      <th>0</th>\n",
       "      <td>07_malignes-melanom_0197_7</td>\n",
       "      <td>Grad 3/4 Hepatitiden</td>\n",
       "      <td>Diagnosis_or_Pathology</td>\n",
       "      <td>0</td>\n",
       "      <td>20</td>\n",
       "      <td>C1557117</td>\n",
       "      <td>[T033]</td>\n",
       "      <td>Grade 4 Viral Hepatitis, CTCAE</td>\n",
       "      <td>[sapbert]</td>\n",
       "      <td>0.063176</td>\n",
       "    </tr>\n",
       "    <tr>\n",
       "      <th>1</th>\n",
       "      <td>07_malignes-melanom_0197_7</td>\n",
       "      <td>Ipilimumab plus Nivolumab</td>\n",
       "      <td>Clinical_Drug</td>\n",
       "      <td>51</td>\n",
       "      <td>76</td>\n",
       "      <td>C4727545</td>\n",
       "      <td>[T061]</td>\n",
       "      <td>Ipilimumab/Nivolumab Regimen</td>\n",
       "      <td>[ngram, sapbert]</td>\n",
       "      <td>0.124392</td>\n",
       "    </tr>\n",
       "    <tr>\n",
       "      <th>2</th>\n",
       "      <td>07_malignes-melanom_0197_7</td>\n",
       "      <td>Monotherapien</td>\n",
       "      <td>Therapeutic</td>\n",
       "      <td>102</td>\n",
       "      <td>115</td>\n",
       "      <td>C4763675</td>\n",
       "      <td>[T061]</td>\n",
       "      <td>Single Agent Therapy</td>\n",
       "      <td>[ngram, sapbert]</td>\n",
       "      <td>0.075671</td>\n",
       "    </tr>\n",
       "  </tbody>\n",
       "</table>\n",
       "</div>"
      ],
      "text/plain": [
       "                     document                       text  \\\n",
       "0  07_malignes-melanom_0197_7       Grad 3/4 Hepatitiden   \n",
       "1  07_malignes-melanom_0197_7  Ipilimumab plus Nivolumab   \n",
       "2  07_malignes-melanom_0197_7              Monotherapien   \n",
       "\n",
       "                     type  start  end       cui    tuis  \\\n",
       "0  Diagnosis_or_Pathology      0   20  C1557117  [T033]   \n",
       "1           Clinical_Drug     51   76  C4727545  [T061]   \n",
       "2             Therapeutic    102  115  C4763675  [T061]   \n",
       "\n",
       "                        canonical            linker  confidence  \n",
       "0  Grade 4 Viral Hepatitis, CTCAE         [sapbert]    0.063176  \n",
       "1    Ipilimumab/Nivolumab Regimen  [ngram, sapbert]    0.124392  \n",
       "2            Single Agent Therapy  [ngram, sapbert]    0.075671  "
      ]
     },
     "metadata": {},
     "output_type": "display_data"
    },
    {
     "data": {
      "application/vnd.jupyter.widget-view+json": {
       "model_id": "bb760d6c4f114635be6a84cf346ff76f",
       "version_major": 2,
       "version_minor": 0
      },
      "text/plain": [
       "  0%|          | 0/1 [00:00<?, ?it/s]"
      ]
     },
     "metadata": {},
     "output_type": "display_data"
    },
    {
     "data": {
      "text/html": [
       "<div>\n",
       "<style scoped>\n",
       "    .dataframe tbody tr th:only-of-type {\n",
       "        vertical-align: middle;\n",
       "    }\n",
       "\n",
       "    .dataframe tbody tr th {\n",
       "        vertical-align: top;\n",
       "    }\n",
       "\n",
       "    .dataframe thead th {\n",
       "        text-align: right;\n",
       "    }\n",
       "</style>\n",
       "<table border=\"1\" class=\"dataframe\">\n",
       "  <thead>\n",
       "    <tr style=\"text-align: right;\">\n",
       "      <th></th>\n",
       "      <th>document</th>\n",
       "      <th>text</th>\n",
       "      <th>type</th>\n",
       "      <th>start</th>\n",
       "      <th>end</th>\n",
       "      <th>cui</th>\n",
       "      <th>tuis</th>\n",
       "      <th>canonical</th>\n",
       "      <th>linker</th>\n",
       "      <th>confidence</th>\n",
       "    </tr>\n",
       "  </thead>\n",
       "  <tbody>\n",
       "    <tr>\n",
       "      <th>0</th>\n",
       "      <td>07_malignes-melanom_0197_7</td>\n",
       "      <td>Grad 3 Hepatitiden/Grad 4 Hepatitiden</td>\n",
       "      <td>Diagnosis_or_Pathology</td>\n",
       "      <td>0</td>\n",
       "      <td>37</td>\n",
       "      <td>C4686259</td>\n",
       "      <td>[T033]</td>\n",
       "      <td>Grade 3 Hepatic Pain, CTCAE</td>\n",
       "      <td>[sapbert]</td>\n",
       "      <td>0.063633</td>\n",
       "    </tr>\n",
       "    <tr>\n",
       "      <th>1</th>\n",
       "      <td>07_malignes-melanom_0197_7</td>\n",
       "      <td>Ipilimumab plus Nivolumab</td>\n",
       "      <td>Clinical_Drug</td>\n",
       "      <td>68</td>\n",
       "      <td>93</td>\n",
       "      <td>C4727545</td>\n",
       "      <td>[T061]</td>\n",
       "      <td>Ipilimumab/Nivolumab Regimen</td>\n",
       "      <td>[ngram, sapbert]</td>\n",
       "      <td>0.110924</td>\n",
       "    </tr>\n",
       "    <tr>\n",
       "      <th>2</th>\n",
       "      <td>07_malignes-melanom_0197_7</td>\n",
       "      <td>Monotherapien</td>\n",
       "      <td>Therapeutic</td>\n",
       "      <td>119</td>\n",
       "      <td>132</td>\n",
       "      <td>C4763675</td>\n",
       "      <td>[T061]</td>\n",
       "      <td>Single Agent Therapy</td>\n",
       "      <td>[ngram, sapbert]</td>\n",
       "      <td>0.077125</td>\n",
       "    </tr>\n",
       "  </tbody>\n",
       "</table>\n",
       "</div>"
      ],
      "text/plain": [
       "                     document                                   text  \\\n",
       "0  07_malignes-melanom_0197_7  Grad 3 Hepatitiden/Grad 4 Hepatitiden   \n",
       "1  07_malignes-melanom_0197_7              Ipilimumab plus Nivolumab   \n",
       "2  07_malignes-melanom_0197_7                          Monotherapien   \n",
       "\n",
       "                     type  start  end       cui    tuis  \\\n",
       "0  Diagnosis_or_Pathology      0   37  C4686259  [T033]   \n",
       "1           Clinical_Drug     68   93  C4727545  [T061]   \n",
       "2             Therapeutic    119  132  C4763675  [T061]   \n",
       "\n",
       "                      canonical            linker  confidence  \n",
       "0   Grade 3 Hepatic Pain, CTCAE         [sapbert]    0.063633  \n",
       "1  Ipilimumab/Nivolumab Regimen  [ngram, sapbert]    0.110924  \n",
       "2          Single Agent Therapy  [ngram, sapbert]    0.077125  "
      ]
     },
     "metadata": {},
     "output_type": "display_data"
    },
    {
     "name": "stdout",
     "output_type": "stream",
     "text": [
      "Difference 11\n"
     ]
    },
    {
     "data": {
      "text/markdown": [
       "Bei Grad 3/4 Transaminasenanstiegen unter zielgerichteten Therapien führt in der Regel eine Pausierung der Therapie zu einem Rückgang der Leberwerte."
      ],
      "text/plain": [
       "<IPython.core.display.Markdown object>"
      ]
     },
     "metadata": {},
     "output_type": "display_data"
    },
    {
     "data": {
      "text/markdown": [
       "Bei Grad 3 Transaminasenanstiegen/Grad 4 Transaminasenanstiegen unter zielgerichteten Therapien führt in der Regel eine Pausierung der Therapie zu einem Rückgang der Leberwerte."
      ],
      "text/plain": [
       "<IPython.core.display.Markdown object>"
      ]
     },
     "metadata": {},
     "output_type": "display_data"
    },
    {
     "data": {
      "text/html": [
       "<html><body><div>Bei Grad 3<span style=\"background-color: lightgreen;\"> Transaminasenanstiegen</span>/<span style=\"background-color: lightgreen;\">Grad </span>4 Transaminasenanstiegen unter zielgerichteten Therapien führt in der Regel eine Pausierung der Therapie zu einem Rückgang der Leberwerte.</div></body></html>"
      ],
      "text/plain": [
       "<IPython.core.display.HTML object>"
      ]
     },
     "metadata": {},
     "output_type": "display_data"
    },
    {
     "data": {
      "application/vnd.jupyter.widget-view+json": {
       "model_id": "59582054c8fc45be93d87c4a90abd1e3",
       "version_major": 2,
       "version_minor": 0
      },
      "text/plain": [
       "  0%|          | 0/1 [00:00<?, ?it/s]"
      ]
     },
     "metadata": {},
     "output_type": "display_data"
    },
    {
     "data": {
      "text/html": [
       "<div>\n",
       "<style scoped>\n",
       "    .dataframe tbody tr th:only-of-type {\n",
       "        vertical-align: middle;\n",
       "    }\n",
       "\n",
       "    .dataframe tbody tr th {\n",
       "        vertical-align: top;\n",
       "    }\n",
       "\n",
       "    .dataframe thead th {\n",
       "        text-align: right;\n",
       "    }\n",
       "</style>\n",
       "<table border=\"1\" class=\"dataframe\">\n",
       "  <thead>\n",
       "    <tr style=\"text-align: right;\">\n",
       "      <th></th>\n",
       "      <th>document</th>\n",
       "      <th>text</th>\n",
       "      <th>type</th>\n",
       "      <th>start</th>\n",
       "      <th>end</th>\n",
       "      <th>cui</th>\n",
       "      <th>tuis</th>\n",
       "      <th>canonical</th>\n",
       "      <th>linker</th>\n",
       "      <th>confidence</th>\n",
       "    </tr>\n",
       "  </thead>\n",
       "  <tbody>\n",
       "    <tr>\n",
       "      <th>0</th>\n",
       "      <td>07_malignes-melanom_0197_22</td>\n",
       "      <td>Grad 3/4 Transaminasenanstiegen unter zielgeri...</td>\n",
       "      <td>Diagnosis_or_Pathology</td>\n",
       "      <td>4</td>\n",
       "      <td>67</td>\n",
       "      <td>C0438717</td>\n",
       "      <td>[T033]</td>\n",
       "      <td>Transaminasen erhoeht</td>\n",
       "      <td>[sapbert]</td>\n",
       "      <td>0.067148</td>\n",
       "    </tr>\n",
       "    <tr>\n",
       "      <th>1</th>\n",
       "      <td>07_malignes-melanom_0197_22</td>\n",
       "      <td>zielgerichteten Therapien</td>\n",
       "      <td>Therapeutic</td>\n",
       "      <td>42</td>\n",
       "      <td>67</td>\n",
       "      <td>C2699893</td>\n",
       "      <td>[T061]</td>\n",
       "      <td>Molecular Targeted Therapy</td>\n",
       "      <td>[ngram, sapbert]</td>\n",
       "      <td>0.073418</td>\n",
       "    </tr>\n",
       "    <tr>\n",
       "      <th>2</th>\n",
       "      <td>07_malignes-melanom_0197_22</td>\n",
       "      <td>Pausierung der Therapie</td>\n",
       "      <td>Therapeutic</td>\n",
       "      <td>92</td>\n",
       "      <td>115</td>\n",
       "      <td>C0444921</td>\n",
       "      <td>[T079]</td>\n",
       "      <td>Dauer der Therapie</td>\n",
       "      <td>[ngram, sapbert]</td>\n",
       "      <td>0.065861</td>\n",
       "    </tr>\n",
       "    <tr>\n",
       "      <th>3</th>\n",
       "      <td>07_malignes-melanom_0197_22</td>\n",
       "      <td>Rückgang der Leberwerte</td>\n",
       "      <td>Other_Finding</td>\n",
       "      <td>125</td>\n",
       "      <td>148</td>\n",
       "      <td>C0857338</td>\n",
       "      <td>[T033]</td>\n",
       "      <td>Entgleisung der Leberwerte</td>\n",
       "      <td>[ngram, sapbert]</td>\n",
       "      <td>0.075002</td>\n",
       "    </tr>\n",
       "  </tbody>\n",
       "</table>\n",
       "</div>"
      ],
      "text/plain": [
       "                      document  \\\n",
       "0  07_malignes-melanom_0197_22   \n",
       "1  07_malignes-melanom_0197_22   \n",
       "2  07_malignes-melanom_0197_22   \n",
       "3  07_malignes-melanom_0197_22   \n",
       "\n",
       "                                                text                    type  \\\n",
       "0  Grad 3/4 Transaminasenanstiegen unter zielgeri...  Diagnosis_or_Pathology   \n",
       "1                          zielgerichteten Therapien             Therapeutic   \n",
       "2                            Pausierung der Therapie             Therapeutic   \n",
       "3                            Rückgang der Leberwerte           Other_Finding   \n",
       "\n",
       "   start  end       cui    tuis                   canonical            linker  \\\n",
       "0      4   67  C0438717  [T033]       Transaminasen erhoeht         [sapbert]   \n",
       "1     42   67  C2699893  [T061]  Molecular Targeted Therapy  [ngram, sapbert]   \n",
       "2     92  115  C0444921  [T079]          Dauer der Therapie  [ngram, sapbert]   \n",
       "3    125  148  C0857338  [T033]  Entgleisung der Leberwerte  [ngram, sapbert]   \n",
       "\n",
       "   confidence  \n",
       "0    0.067148  \n",
       "1    0.073418  \n",
       "2    0.065861  \n",
       "3    0.075002  "
      ]
     },
     "metadata": {},
     "output_type": "display_data"
    },
    {
     "data": {
      "application/vnd.jupyter.widget-view+json": {
       "model_id": "0c85eec3e71c474791417790dda84ac7",
       "version_major": 2,
       "version_minor": 0
      },
      "text/plain": [
       "  0%|          | 0/1 [00:00<?, ?it/s]"
      ]
     },
     "metadata": {},
     "output_type": "display_data"
    },
    {
     "data": {
      "text/html": [
       "<div>\n",
       "<style scoped>\n",
       "    .dataframe tbody tr th:only-of-type {\n",
       "        vertical-align: middle;\n",
       "    }\n",
       "\n",
       "    .dataframe tbody tr th {\n",
       "        vertical-align: top;\n",
       "    }\n",
       "\n",
       "    .dataframe thead th {\n",
       "        text-align: right;\n",
       "    }\n",
       "</style>\n",
       "<table border=\"1\" class=\"dataframe\">\n",
       "  <thead>\n",
       "    <tr style=\"text-align: right;\">\n",
       "      <th></th>\n",
       "      <th>document</th>\n",
       "      <th>text</th>\n",
       "      <th>type</th>\n",
       "      <th>start</th>\n",
       "      <th>end</th>\n",
       "      <th>cui</th>\n",
       "      <th>tuis</th>\n",
       "      <th>canonical</th>\n",
       "      <th>linker</th>\n",
       "      <th>confidence</th>\n",
       "    </tr>\n",
       "  </thead>\n",
       "  <tbody>\n",
       "    <tr>\n",
       "      <th>0</th>\n",
       "      <td>07_malignes-melanom_0197_22</td>\n",
       "      <td>zielgerichteten Therapien</td>\n",
       "      <td>Therapeutic</td>\n",
       "      <td>70</td>\n",
       "      <td>95</td>\n",
       "      <td>C2699893</td>\n",
       "      <td>[T061]</td>\n",
       "      <td>Molecular Targeted Therapy</td>\n",
       "      <td>[ngram, sapbert]</td>\n",
       "      <td>0.073634</td>\n",
       "    </tr>\n",
       "    <tr>\n",
       "      <th>1</th>\n",
       "      <td>07_malignes-melanom_0197_22</td>\n",
       "      <td>Pausierung der Therapie</td>\n",
       "      <td>Therapeutic</td>\n",
       "      <td>120</td>\n",
       "      <td>143</td>\n",
       "      <td>C0444921</td>\n",
       "      <td>[T079]</td>\n",
       "      <td>Dauer der Therapie</td>\n",
       "      <td>[ngram, sapbert]</td>\n",
       "      <td>0.067113</td>\n",
       "    </tr>\n",
       "    <tr>\n",
       "      <th>2</th>\n",
       "      <td>07_malignes-melanom_0197_22</td>\n",
       "      <td>Rückgang der Leberwerte</td>\n",
       "      <td>Other_Finding</td>\n",
       "      <td>153</td>\n",
       "      <td>176</td>\n",
       "      <td>C0857338</td>\n",
       "      <td>[T033]</td>\n",
       "      <td>Entgleisung der Leberwerte</td>\n",
       "      <td>[ngram, sapbert]</td>\n",
       "      <td>0.080237</td>\n",
       "    </tr>\n",
       "  </tbody>\n",
       "</table>\n",
       "</div>"
      ],
      "text/plain": [
       "                      document                       text           type  \\\n",
       "0  07_malignes-melanom_0197_22  zielgerichteten Therapien    Therapeutic   \n",
       "1  07_malignes-melanom_0197_22    Pausierung der Therapie    Therapeutic   \n",
       "2  07_malignes-melanom_0197_22    Rückgang der Leberwerte  Other_Finding   \n",
       "\n",
       "   start  end       cui    tuis                   canonical            linker  \\\n",
       "0     70   95  C2699893  [T061]  Molecular Targeted Therapy  [ngram, sapbert]   \n",
       "1    120  143  C0444921  [T079]          Dauer der Therapie  [ngram, sapbert]   \n",
       "2    153  176  C0857338  [T033]  Entgleisung der Leberwerte  [ngram, sapbert]   \n",
       "\n",
       "   confidence  \n",
       "0    0.073634  \n",
       "1    0.067113  \n",
       "2    0.080237  "
      ]
     },
     "metadata": {},
     "output_type": "display_data"
    },
    {
     "name": "stdout",
     "output_type": "stream",
     "text": [
      "Difference 12\n"
     ]
    },
    {
     "data": {
      "text/markdown": [
       "Sie treten unter zielgerichteten und Immuntherapien auf und unterscheiden sich in Ihrem Spektrum und Ihrer Therapiebedürftigkeit."
      ],
      "text/plain": [
       "<IPython.core.display.Markdown object>"
      ]
     },
     "metadata": {},
     "output_type": "display_data"
    },
    {
     "data": {
      "text/markdown": [
       "Sie treten unter zielgerichteten Therapien und Immuntherapien auf und unterscheiden sich in Ihrem Spektrum und Ihrer Therapiebedürftigkeit."
      ],
      "text/plain": [
       "<IPython.core.display.Markdown object>"
      ]
     },
     "metadata": {},
     "output_type": "display_data"
    },
    {
     "data": {
      "text/html": [
       "<html><body><div>Sie treten unter zielgerichtet<span style=\"background-color: lightgreen;\">en Therapi</span>en und Immuntherapien auf und unterscheiden sich in Ihrem Spektrum und Ihrer Therapiebedürftigkeit.</div></body></html>"
      ],
      "text/plain": [
       "<IPython.core.display.HTML object>"
      ]
     },
     "metadata": {},
     "output_type": "display_data"
    },
    {
     "data": {
      "application/vnd.jupyter.widget-view+json": {
       "model_id": "f09c3037d01a44e6a1d6029aa76bd19b",
       "version_major": 2,
       "version_minor": 0
      },
      "text/plain": [
       "  0%|          | 0/1 [00:00<?, ?it/s]"
      ]
     },
     "metadata": {},
     "output_type": "display_data"
    },
    {
     "data": {
      "text/html": [
       "<div>\n",
       "<style scoped>\n",
       "    .dataframe tbody tr th:only-of-type {\n",
       "        vertical-align: middle;\n",
       "    }\n",
       "\n",
       "    .dataframe tbody tr th {\n",
       "        vertical-align: top;\n",
       "    }\n",
       "\n",
       "    .dataframe thead th {\n",
       "        text-align: right;\n",
       "    }\n",
       "</style>\n",
       "<table border=\"1\" class=\"dataframe\">\n",
       "  <thead>\n",
       "    <tr style=\"text-align: right;\">\n",
       "      <th></th>\n",
       "      <th>document</th>\n",
       "      <th>text</th>\n",
       "      <th>type</th>\n",
       "      <th>start</th>\n",
       "      <th>end</th>\n",
       "      <th>cui</th>\n",
       "      <th>tuis</th>\n",
       "      <th>canonical</th>\n",
       "      <th>linker</th>\n",
       "      <th>confidence</th>\n",
       "    </tr>\n",
       "  </thead>\n",
       "  <tbody>\n",
       "    <tr>\n",
       "      <th>0</th>\n",
       "      <td>07_malignes-melanom_0207_3</td>\n",
       "      <td>zielgerichteten</td>\n",
       "      <td>Therapeutic</td>\n",
       "      <td>17</td>\n",
       "      <td>32</td>\n",
       "      <td>C2699893</td>\n",
       "      <td>[T061]</td>\n",
       "      <td>Molecular Targeted Therapy</td>\n",
       "      <td>[ngram]</td>\n",
       "      <td>0.070853</td>\n",
       "    </tr>\n",
       "    <tr>\n",
       "      <th>1</th>\n",
       "      <td>07_malignes-melanom_0207_3</td>\n",
       "      <td>Immuntherapien</td>\n",
       "      <td>Therapeutic</td>\n",
       "      <td>37</td>\n",
       "      <td>51</td>\n",
       "      <td>C0021083</td>\n",
       "      <td>[T061]</td>\n",
       "      <td>Immuntherapie</td>\n",
       "      <td>[ngram, sapbert]</td>\n",
       "      <td>0.138564</td>\n",
       "    </tr>\n",
       "    <tr>\n",
       "      <th>2</th>\n",
       "      <td>07_malignes-melanom_0207_3</td>\n",
       "      <td>Therapiebedürftigkeit</td>\n",
       "      <td>Other_Finding</td>\n",
       "      <td>107</td>\n",
       "      <td>128</td>\n",
       "      <td>C0013893</td>\n",
       "      <td>[T058]</td>\n",
       "      <td>Behandlungsbedürftigkeit, Begutachtung</td>\n",
       "      <td>[ngram, sapbert]</td>\n",
       "      <td>0.071025</td>\n",
       "    </tr>\n",
       "  </tbody>\n",
       "</table>\n",
       "</div>"
      ],
      "text/plain": [
       "                     document                   text           type  start  \\\n",
       "0  07_malignes-melanom_0207_3        zielgerichteten    Therapeutic     17   \n",
       "1  07_malignes-melanom_0207_3         Immuntherapien    Therapeutic     37   \n",
       "2  07_malignes-melanom_0207_3  Therapiebedürftigkeit  Other_Finding    107   \n",
       "\n",
       "   end       cui    tuis                               canonical  \\\n",
       "0   32  C2699893  [T061]              Molecular Targeted Therapy   \n",
       "1   51  C0021083  [T061]                           Immuntherapie   \n",
       "2  128  C0013893  [T058]  Behandlungsbedürftigkeit, Begutachtung   \n",
       "\n",
       "             linker  confidence  \n",
       "0           [ngram]    0.070853  \n",
       "1  [ngram, sapbert]    0.138564  \n",
       "2  [ngram, sapbert]    0.071025  "
      ]
     },
     "metadata": {},
     "output_type": "display_data"
    },
    {
     "data": {
      "application/vnd.jupyter.widget-view+json": {
       "model_id": "e9a0f13f806743f5913fbc9bff2de39e",
       "version_major": 2,
       "version_minor": 0
      },
      "text/plain": [
       "  0%|          | 0/1 [00:00<?, ?it/s]"
      ]
     },
     "metadata": {},
     "output_type": "display_data"
    },
    {
     "data": {
      "text/html": [
       "<div>\n",
       "<style scoped>\n",
       "    .dataframe tbody tr th:only-of-type {\n",
       "        vertical-align: middle;\n",
       "    }\n",
       "\n",
       "    .dataframe tbody tr th {\n",
       "        vertical-align: top;\n",
       "    }\n",
       "\n",
       "    .dataframe thead th {\n",
       "        text-align: right;\n",
       "    }\n",
       "</style>\n",
       "<table border=\"1\" class=\"dataframe\">\n",
       "  <thead>\n",
       "    <tr style=\"text-align: right;\">\n",
       "      <th></th>\n",
       "      <th>document</th>\n",
       "      <th>text</th>\n",
       "      <th>type</th>\n",
       "      <th>start</th>\n",
       "      <th>end</th>\n",
       "      <th>cui</th>\n",
       "      <th>tuis</th>\n",
       "      <th>canonical</th>\n",
       "      <th>linker</th>\n",
       "      <th>confidence</th>\n",
       "    </tr>\n",
       "  </thead>\n",
       "  <tbody>\n",
       "    <tr>\n",
       "      <th>0</th>\n",
       "      <td>07_malignes-melanom_0207_3</td>\n",
       "      <td>zielgerichteten Therapien</td>\n",
       "      <td>Therapeutic</td>\n",
       "      <td>17</td>\n",
       "      <td>42</td>\n",
       "      <td>C2699893</td>\n",
       "      <td>[T061]</td>\n",
       "      <td>Molecular Targeted Therapy</td>\n",
       "      <td>[ngram, sapbert]</td>\n",
       "      <td>0.074096</td>\n",
       "    </tr>\n",
       "    <tr>\n",
       "      <th>1</th>\n",
       "      <td>07_malignes-melanom_0207_3</td>\n",
       "      <td>Immuntherapien</td>\n",
       "      <td>Therapeutic</td>\n",
       "      <td>47</td>\n",
       "      <td>61</td>\n",
       "      <td>C0021083</td>\n",
       "      <td>[T061]</td>\n",
       "      <td>Immuntherapie</td>\n",
       "      <td>[ngram, sapbert]</td>\n",
       "      <td>0.139869</td>\n",
       "    </tr>\n",
       "    <tr>\n",
       "      <th>2</th>\n",
       "      <td>07_malignes-melanom_0207_3</td>\n",
       "      <td>Therapiebedürftigkeit</td>\n",
       "      <td>Other_Finding</td>\n",
       "      <td>117</td>\n",
       "      <td>138</td>\n",
       "      <td>C0013893</td>\n",
       "      <td>[T058]</td>\n",
       "      <td>Behandlungsbedürftigkeit, Begutachtung</td>\n",
       "      <td>[ngram, sapbert]</td>\n",
       "      <td>0.068488</td>\n",
       "    </tr>\n",
       "  </tbody>\n",
       "</table>\n",
       "</div>"
      ],
      "text/plain": [
       "                     document                       text           type  \\\n",
       "0  07_malignes-melanom_0207_3  zielgerichteten Therapien    Therapeutic   \n",
       "1  07_malignes-melanom_0207_3             Immuntherapien    Therapeutic   \n",
       "2  07_malignes-melanom_0207_3      Therapiebedürftigkeit  Other_Finding   \n",
       "\n",
       "   start  end       cui    tuis                               canonical  \\\n",
       "0     17   42  C2699893  [T061]              Molecular Targeted Therapy   \n",
       "1     47   61  C0021083  [T061]                           Immuntherapie   \n",
       "2    117  138  C0013893  [T058]  Behandlungsbedürftigkeit, Begutachtung   \n",
       "\n",
       "             linker  confidence  \n",
       "0  [ngram, sapbert]    0.074096  \n",
       "1  [ngram, sapbert]    0.139869  \n",
       "2  [ngram, sapbert]    0.068488  "
      ]
     },
     "metadata": {},
     "output_type": "display_data"
    },
    {
     "name": "stdout",
     "output_type": "stream",
     "text": [
      "Difference 13\n"
     ]
    },
    {
     "data": {
      "text/markdown": [
       "Zielgerichtete Therapien wie die BRAF- und die MEK-Inhibitoren induzieren neben Reizüberleitungsstörungen eine Reduktion der Ejektionsfraktion [REF]."
      ],
      "text/plain": [
       "<IPython.core.display.Markdown object>"
      ]
     },
     "metadata": {},
     "output_type": "display_data"
    },
    {
     "data": {
      "text/markdown": [
       "Zielgerichtete Therapien wie die BRAF-Inhibitoren und die MEK-Inhibitoren induzieren neben Reizüberleitungsstörungen eine Reduktion der Ejektionsfraktion [REF]."
      ],
      "text/plain": [
       "<IPython.core.display.Markdown object>"
      ]
     },
     "metadata": {},
     "output_type": "display_data"
    },
    {
     "data": {
      "text/html": [
       "<html><body><div>Zielgerichtete Therapien wie die BRAF-<span style=\"background-color: lightgreen;\">Inhibitoren</span> und die MEK-Inhibitoren induzieren neben Reizüberleitungsstörungen eine Reduktion der Ejektionsfraktion [REF].</div></body></html>"
      ],
      "text/plain": [
       "<IPython.core.display.HTML object>"
      ]
     },
     "metadata": {},
     "output_type": "display_data"
    },
    {
     "data": {
      "application/vnd.jupyter.widget-view+json": {
       "model_id": "cb0e932055094f889dea070e32396bf2",
       "version_major": 2,
       "version_minor": 0
      },
      "text/plain": [
       "  0%|          | 0/1 [00:00<?, ?it/s]"
      ]
     },
     "metadata": {},
     "output_type": "display_data"
    },
    {
     "data": {
      "text/html": [
       "<div>\n",
       "<style scoped>\n",
       "    .dataframe tbody tr th:only-of-type {\n",
       "        vertical-align: middle;\n",
       "    }\n",
       "\n",
       "    .dataframe tbody tr th {\n",
       "        vertical-align: top;\n",
       "    }\n",
       "\n",
       "    .dataframe thead th {\n",
       "        text-align: right;\n",
       "    }\n",
       "</style>\n",
       "<table border=\"1\" class=\"dataframe\">\n",
       "  <thead>\n",
       "    <tr style=\"text-align: right;\">\n",
       "      <th></th>\n",
       "      <th>document</th>\n",
       "      <th>text</th>\n",
       "      <th>type</th>\n",
       "      <th>start</th>\n",
       "      <th>end</th>\n",
       "      <th>cui</th>\n",
       "      <th>tuis</th>\n",
       "      <th>canonical</th>\n",
       "      <th>linker</th>\n",
       "      <th>confidence</th>\n",
       "    </tr>\n",
       "  </thead>\n",
       "  <tbody>\n",
       "    <tr>\n",
       "      <th>0</th>\n",
       "      <td>07_malignes-melanom_0207_4</td>\n",
       "      <td>Zielgerichtete Therapien</td>\n",
       "      <td>Therapeutic</td>\n",
       "      <td>0</td>\n",
       "      <td>24</td>\n",
       "      <td>C2699893</td>\n",
       "      <td>[T061]</td>\n",
       "      <td>Molecular Targeted Therapy</td>\n",
       "      <td>[ngram, sapbert]</td>\n",
       "      <td>0.071887</td>\n",
       "    </tr>\n",
       "    <tr>\n",
       "      <th>1</th>\n",
       "      <td>07_malignes-melanom_0207_4</td>\n",
       "      <td>BRAF-</td>\n",
       "      <td>Clinical_Drug</td>\n",
       "      <td>33</td>\n",
       "      <td>38</td>\n",
       "      <td>C1259929</td>\n",
       "      <td>[T116, T123]</td>\n",
       "      <td>94 kDa B-raf Protein</td>\n",
       "      <td>[ngram, sapbert]</td>\n",
       "      <td>0.077549</td>\n",
       "    </tr>\n",
       "    <tr>\n",
       "      <th>2</th>\n",
       "      <td>07_malignes-melanom_0207_4</td>\n",
       "      <td>MEK-Inhibitoren</td>\n",
       "      <td>Clinical_Drug</td>\n",
       "      <td>47</td>\n",
       "      <td>62</td>\n",
       "      <td>C2347168</td>\n",
       "      <td>[T121]</td>\n",
       "      <td>MAPKK Inhibitor</td>\n",
       "      <td>[ngram, sapbert]</td>\n",
       "      <td>0.101331</td>\n",
       "    </tr>\n",
       "    <tr>\n",
       "      <th>3</th>\n",
       "      <td>07_malignes-melanom_0207_4</td>\n",
       "      <td>Reizüberleitungsstörungen</td>\n",
       "      <td>Diagnosis_or_Pathology</td>\n",
       "      <td>80</td>\n",
       "      <td>105</td>\n",
       "      <td>C0264886</td>\n",
       "      <td>[T047]</td>\n",
       "      <td>Kardiale Erregungsleitungssystem-Erkrankung</td>\n",
       "      <td>[ngram, sapbert]</td>\n",
       "      <td>0.149191</td>\n",
       "    </tr>\n",
       "    <tr>\n",
       "      <th>4</th>\n",
       "      <td>07_malignes-melanom_0207_4</td>\n",
       "      <td>Reduktion der Ejektionsfraktion</td>\n",
       "      <td>Diagnosis_or_Pathology</td>\n",
       "      <td>111</td>\n",
       "      <td>142</td>\n",
       "      <td>C0743400</td>\n",
       "      <td>[T033]</td>\n",
       "      <td>Auswurffraktion verkleinert</td>\n",
       "      <td>[ngram, sapbert]</td>\n",
       "      <td>0.072382</td>\n",
       "    </tr>\n",
       "  </tbody>\n",
       "</table>\n",
       "</div>"
      ],
      "text/plain": [
       "                     document                             text  \\\n",
       "0  07_malignes-melanom_0207_4         Zielgerichtete Therapien   \n",
       "1  07_malignes-melanom_0207_4                            BRAF-   \n",
       "2  07_malignes-melanom_0207_4                  MEK-Inhibitoren   \n",
       "3  07_malignes-melanom_0207_4        Reizüberleitungsstörungen   \n",
       "4  07_malignes-melanom_0207_4  Reduktion der Ejektionsfraktion   \n",
       "\n",
       "                     type  start  end       cui          tuis  \\\n",
       "0             Therapeutic      0   24  C2699893        [T061]   \n",
       "1           Clinical_Drug     33   38  C1259929  [T116, T123]   \n",
       "2           Clinical_Drug     47   62  C2347168        [T121]   \n",
       "3  Diagnosis_or_Pathology     80  105  C0264886        [T047]   \n",
       "4  Diagnosis_or_Pathology    111  142  C0743400        [T033]   \n",
       "\n",
       "                                     canonical            linker  confidence  \n",
       "0                   Molecular Targeted Therapy  [ngram, sapbert]    0.071887  \n",
       "1                         94 kDa B-raf Protein  [ngram, sapbert]    0.077549  \n",
       "2                              MAPKK Inhibitor  [ngram, sapbert]    0.101331  \n",
       "3  Kardiale Erregungsleitungssystem-Erkrankung  [ngram, sapbert]    0.149191  \n",
       "4                  Auswurffraktion verkleinert  [ngram, sapbert]    0.072382  "
      ]
     },
     "metadata": {},
     "output_type": "display_data"
    },
    {
     "data": {
      "application/vnd.jupyter.widget-view+json": {
       "model_id": "38b7048913df42a59fef27df133d16f2",
       "version_major": 2,
       "version_minor": 0
      },
      "text/plain": [
       "  0%|          | 0/1 [00:00<?, ?it/s]"
      ]
     },
     "metadata": {},
     "output_type": "display_data"
    },
    {
     "data": {
      "text/html": [
       "<div>\n",
       "<style scoped>\n",
       "    .dataframe tbody tr th:only-of-type {\n",
       "        vertical-align: middle;\n",
       "    }\n",
       "\n",
       "    .dataframe tbody tr th {\n",
       "        vertical-align: top;\n",
       "    }\n",
       "\n",
       "    .dataframe thead th {\n",
       "        text-align: right;\n",
       "    }\n",
       "</style>\n",
       "<table border=\"1\" class=\"dataframe\">\n",
       "  <thead>\n",
       "    <tr style=\"text-align: right;\">\n",
       "      <th></th>\n",
       "      <th>document</th>\n",
       "      <th>text</th>\n",
       "      <th>type</th>\n",
       "      <th>start</th>\n",
       "      <th>end</th>\n",
       "      <th>cui</th>\n",
       "      <th>tuis</th>\n",
       "      <th>canonical</th>\n",
       "      <th>linker</th>\n",
       "      <th>confidence</th>\n",
       "    </tr>\n",
       "  </thead>\n",
       "  <tbody>\n",
       "    <tr>\n",
       "      <th>0</th>\n",
       "      <td>07_malignes-melanom_0207_4</td>\n",
       "      <td>Zielgerichtete Therapien</td>\n",
       "      <td>Therapeutic</td>\n",
       "      <td>0</td>\n",
       "      <td>24</td>\n",
       "      <td>C2699893</td>\n",
       "      <td>[T061]</td>\n",
       "      <td>Molecular Targeted Therapy</td>\n",
       "      <td>[ngram, sapbert]</td>\n",
       "      <td>0.072258</td>\n",
       "    </tr>\n",
       "    <tr>\n",
       "      <th>1</th>\n",
       "      <td>07_malignes-melanom_0207_4</td>\n",
       "      <td>BRAF-Inhibitoren</td>\n",
       "      <td>Clinical_Drug</td>\n",
       "      <td>33</td>\n",
       "      <td>49</td>\n",
       "      <td>C3838813</td>\n",
       "      <td>[T116, T121]</td>\n",
       "      <td>B-Raf inhibitor</td>\n",
       "      <td>[ngram, sapbert]</td>\n",
       "      <td>0.102607</td>\n",
       "    </tr>\n",
       "    <tr>\n",
       "      <th>2</th>\n",
       "      <td>07_malignes-melanom_0207_4</td>\n",
       "      <td>MEK-Inhibitoren</td>\n",
       "      <td>Clinical_Drug</td>\n",
       "      <td>58</td>\n",
       "      <td>73</td>\n",
       "      <td>C2347168</td>\n",
       "      <td>[T121]</td>\n",
       "      <td>MAPKK Inhibitor</td>\n",
       "      <td>[ngram, sapbert]</td>\n",
       "      <td>0.100303</td>\n",
       "    </tr>\n",
       "    <tr>\n",
       "      <th>3</th>\n",
       "      <td>07_malignes-melanom_0207_4</td>\n",
       "      <td>Reizüberleitungsstörungen</td>\n",
       "      <td>Diagnosis_or_Pathology</td>\n",
       "      <td>91</td>\n",
       "      <td>116</td>\n",
       "      <td>C0264886</td>\n",
       "      <td>[T047]</td>\n",
       "      <td>Kardiale Erregungsleitungssystem-Erkrankung</td>\n",
       "      <td>[ngram, sapbert]</td>\n",
       "      <td>0.126522</td>\n",
       "    </tr>\n",
       "    <tr>\n",
       "      <th>4</th>\n",
       "      <td>07_malignes-melanom_0207_4</td>\n",
       "      <td>Reduktion der Ejektionsfraktion</td>\n",
       "      <td>Diagnosis_or_Pathology</td>\n",
       "      <td>122</td>\n",
       "      <td>153</td>\n",
       "      <td>C0743400</td>\n",
       "      <td>[T033]</td>\n",
       "      <td>Auswurffraktion verkleinert</td>\n",
       "      <td>[ngram, sapbert]</td>\n",
       "      <td>0.073114</td>\n",
       "    </tr>\n",
       "  </tbody>\n",
       "</table>\n",
       "</div>"
      ],
      "text/plain": [
       "                     document                             text  \\\n",
       "0  07_malignes-melanom_0207_4         Zielgerichtete Therapien   \n",
       "1  07_malignes-melanom_0207_4                 BRAF-Inhibitoren   \n",
       "2  07_malignes-melanom_0207_4                  MEK-Inhibitoren   \n",
       "3  07_malignes-melanom_0207_4        Reizüberleitungsstörungen   \n",
       "4  07_malignes-melanom_0207_4  Reduktion der Ejektionsfraktion   \n",
       "\n",
       "                     type  start  end       cui          tuis  \\\n",
       "0             Therapeutic      0   24  C2699893        [T061]   \n",
       "1           Clinical_Drug     33   49  C3838813  [T116, T121]   \n",
       "2           Clinical_Drug     58   73  C2347168        [T121]   \n",
       "3  Diagnosis_or_Pathology     91  116  C0264886        [T047]   \n",
       "4  Diagnosis_or_Pathology    122  153  C0743400        [T033]   \n",
       "\n",
       "                                     canonical            linker  confidence  \n",
       "0                   Molecular Targeted Therapy  [ngram, sapbert]    0.072258  \n",
       "1                              B-Raf inhibitor  [ngram, sapbert]    0.102607  \n",
       "2                              MAPKK Inhibitor  [ngram, sapbert]    0.100303  \n",
       "3  Kardiale Erregungsleitungssystem-Erkrankung  [ngram, sapbert]    0.126522  \n",
       "4                  Auswurffraktion verkleinert  [ngram, sapbert]    0.073114  "
      ]
     },
     "metadata": {},
     "output_type": "display_data"
    },
    {
     "name": "stdout",
     "output_type": "stream",
     "text": [
      "Difference 14\n"
     ]
    },
    {
     "data": {
      "text/markdown": [
       "Unter Immuntherapien mit anti-CTLA4 und anti-PD1 Antikörper zeigten sich Myokarditiden, Perikarditiden, Perikardtamponade, Kardiomyopathie, Herzversagen, Reizleitungsstörungen, Myokardinfarkt bzw. kardiale Ischämie und Myokardfibrose [REF]."
      ],
      "text/plain": [
       "<IPython.core.display.Markdown object>"
      ]
     },
     "metadata": {},
     "output_type": "display_data"
    },
    {
     "data": {
      "text/markdown": [
       "Unter Immuntherapien mit anti-CTLA4 Antikörper und anti-PD1 Antikörper zeigten sich Myokarditiden, Perikarditiden, Perikardtamponade, Kardiomyopathie, Herzversagen, Reizleitungsstörungen, Myokardinfarkt bzw. kardiale Ischämie und Myokardfibrose [REF]."
      ],
      "text/plain": [
       "<IPython.core.display.Markdown object>"
      ]
     },
     "metadata": {},
     "output_type": "display_data"
    },
    {
     "data": {
      "text/html": [
       "<html><body><div>Unter Immuntherapien mit anti-CTLA4 <span style=\"background-color: lightgreen;\">Antikörper </span>und anti-PD1 Antikörper zeigten sich Myokarditiden, Perikarditiden, Perikardtamponade, Kardiomyopathie, Herzversagen, Reizleitungsstörungen, Myokardinfarkt bzw. kardiale Ischämie und Myokardfibrose [REF].</div></body></html>"
      ],
      "text/plain": [
       "<IPython.core.display.HTML object>"
      ]
     },
     "metadata": {},
     "output_type": "display_data"
    },
    {
     "data": {
      "application/vnd.jupyter.widget-view+json": {
       "model_id": "f22a168488c746bbbc7fe64c5da2e904",
       "version_major": 2,
       "version_minor": 0
      },
      "text/plain": [
       "  0%|          | 0/1 [00:00<?, ?it/s]"
      ]
     },
     "metadata": {},
     "output_type": "display_data"
    },
    {
     "data": {
      "text/html": [
       "<div>\n",
       "<style scoped>\n",
       "    .dataframe tbody tr th:only-of-type {\n",
       "        vertical-align: middle;\n",
       "    }\n",
       "\n",
       "    .dataframe tbody tr th {\n",
       "        vertical-align: top;\n",
       "    }\n",
       "\n",
       "    .dataframe thead th {\n",
       "        text-align: right;\n",
       "    }\n",
       "</style>\n",
       "<table border=\"1\" class=\"dataframe\">\n",
       "  <thead>\n",
       "    <tr style=\"text-align: right;\">\n",
       "      <th></th>\n",
       "      <th>document</th>\n",
       "      <th>text</th>\n",
       "      <th>type</th>\n",
       "      <th>start</th>\n",
       "      <th>end</th>\n",
       "      <th>cui</th>\n",
       "      <th>tuis</th>\n",
       "      <th>canonical</th>\n",
       "      <th>linker</th>\n",
       "      <th>confidence</th>\n",
       "    </tr>\n",
       "  </thead>\n",
       "  <tbody>\n",
       "    <tr>\n",
       "      <th>0</th>\n",
       "      <td>07_malignes-melanom_0207_9</td>\n",
       "      <td>Immuntherapien mit anti-CTLA4 und anti-PD1 Ant...</td>\n",
       "      <td>Therapeutic</td>\n",
       "      <td>6</td>\n",
       "      <td>59</td>\n",
       "      <td>C1367202</td>\n",
       "      <td>[T116, T121, T129]</td>\n",
       "      <td>Ipilimumab</td>\n",
       "      <td>[sapbert]</td>\n",
       "      <td>0.064055</td>\n",
       "    </tr>\n",
       "    <tr>\n",
       "      <th>1</th>\n",
       "      <td>07_malignes-melanom_0207_9</td>\n",
       "      <td>anti-CTLA4</td>\n",
       "      <td>Clinical_Drug</td>\n",
       "      <td>25</td>\n",
       "      <td>35</td>\n",
       "      <td>C4289973</td>\n",
       "      <td>[T116]</td>\n",
       "      <td>Anti-CTLA-4 Monoclonal Antibody</td>\n",
       "      <td>[ngram, sapbert]</td>\n",
       "      <td>0.069021</td>\n",
       "    </tr>\n",
       "    <tr>\n",
       "      <th>2</th>\n",
       "      <td>07_malignes-melanom_0207_9</td>\n",
       "      <td>anti-CTLA4 und anti-PD1 Antikörper</td>\n",
       "      <td>Clinical_Drug</td>\n",
       "      <td>25</td>\n",
       "      <td>59</td>\n",
       "      <td>C4289973</td>\n",
       "      <td>[T116]</td>\n",
       "      <td>Anti-CTLA-4 Monoclonal Antibody</td>\n",
       "      <td>[ngram, sapbert]</td>\n",
       "      <td>0.065991</td>\n",
       "    </tr>\n",
       "    <tr>\n",
       "      <th>3</th>\n",
       "      <td>07_malignes-melanom_0207_9</td>\n",
       "      <td>anti-PD1 Antikörper</td>\n",
       "      <td>Clinical_Drug</td>\n",
       "      <td>40</td>\n",
       "      <td>59</td>\n",
       "      <td>C4289970</td>\n",
       "      <td>[T116, T121, T129]</td>\n",
       "      <td>Anti-PD1 Monoclonal Antibody</td>\n",
       "      <td>[ngram, sapbert]</td>\n",
       "      <td>0.066877</td>\n",
       "    </tr>\n",
       "    <tr>\n",
       "      <th>4</th>\n",
       "      <td>07_malignes-melanom_0207_9</td>\n",
       "      <td>Myokarditiden</td>\n",
       "      <td>Diagnosis_or_Pathology</td>\n",
       "      <td>73</td>\n",
       "      <td>86</td>\n",
       "      <td>C0027059</td>\n",
       "      <td>[T047]</td>\n",
       "      <td>Myokarditis</td>\n",
       "      <td>[ngram, sapbert]</td>\n",
       "      <td>0.099154</td>\n",
       "    </tr>\n",
       "    <tr>\n",
       "      <th>5</th>\n",
       "      <td>07_malignes-melanom_0207_9</td>\n",
       "      <td>Perikarditiden</td>\n",
       "      <td>Diagnosis_or_Pathology</td>\n",
       "      <td>88</td>\n",
       "      <td>102</td>\n",
       "      <td>C0031046</td>\n",
       "      <td>[T047]</td>\n",
       "      <td>Perikarditis</td>\n",
       "      <td>[ngram, sapbert]</td>\n",
       "      <td>0.122347</td>\n",
       "    </tr>\n",
       "    <tr>\n",
       "      <th>6</th>\n",
       "      <td>07_malignes-melanom_0207_9</td>\n",
       "      <td>Perikardtamponade</td>\n",
       "      <td>Diagnosis_or_Pathology</td>\n",
       "      <td>104</td>\n",
       "      <td>121</td>\n",
       "      <td>C0007177</td>\n",
       "      <td>[T047]</td>\n",
       "      <td>Herztamponade</td>\n",
       "      <td>[ngram, sapbert]</td>\n",
       "      <td>0.161796</td>\n",
       "    </tr>\n",
       "    <tr>\n",
       "      <th>7</th>\n",
       "      <td>07_malignes-melanom_0207_9</td>\n",
       "      <td>Kardiomyopathie</td>\n",
       "      <td>Diagnosis_or_Pathology</td>\n",
       "      <td>123</td>\n",
       "      <td>138</td>\n",
       "      <td>C0878544</td>\n",
       "      <td>[T047]</td>\n",
       "      <td>Myokardkrankheiten</td>\n",
       "      <td>[ngram, sapbert]</td>\n",
       "      <td>0.145210</td>\n",
       "    </tr>\n",
       "    <tr>\n",
       "      <th>8</th>\n",
       "      <td>07_malignes-melanom_0207_9</td>\n",
       "      <td>Herzversagen</td>\n",
       "      <td>Diagnosis_or_Pathology</td>\n",
       "      <td>140</td>\n",
       "      <td>152</td>\n",
       "      <td>C0018801</td>\n",
       "      <td>[T047]</td>\n",
       "      <td>Herzinsuffizienz</td>\n",
       "      <td>[ngram, sapbert]</td>\n",
       "      <td>0.132247</td>\n",
       "    </tr>\n",
       "    <tr>\n",
       "      <th>9</th>\n",
       "      <td>07_malignes-melanom_0207_9</td>\n",
       "      <td>Reizleitungsstörungen</td>\n",
       "      <td>Diagnosis_or_Pathology</td>\n",
       "      <td>154</td>\n",
       "      <td>175</td>\n",
       "      <td>C0264886</td>\n",
       "      <td>[T047]</td>\n",
       "      <td>Kardiale Erregungsleitungssystem-Erkrankung</td>\n",
       "      <td>[ngram, sapbert]</td>\n",
       "      <td>0.129754</td>\n",
       "    </tr>\n",
       "    <tr>\n",
       "      <th>10</th>\n",
       "      <td>07_malignes-melanom_0207_9</td>\n",
       "      <td>Myokardinfarkt</td>\n",
       "      <td>Diagnosis_or_Pathology</td>\n",
       "      <td>177</td>\n",
       "      <td>191</td>\n",
       "      <td>C0027051</td>\n",
       "      <td>[T047]</td>\n",
       "      <td>Myokardinfarkt</td>\n",
       "      <td>[ngram, sapbert]</td>\n",
       "      <td>0.131848</td>\n",
       "    </tr>\n",
       "    <tr>\n",
       "      <th>11</th>\n",
       "      <td>07_malignes-melanom_0207_9</td>\n",
       "      <td>kardiale Ischämie</td>\n",
       "      <td>Diagnosis_or_Pathology</td>\n",
       "      <td>197</td>\n",
       "      <td>214</td>\n",
       "      <td>C0151744</td>\n",
       "      <td>[T047]</td>\n",
       "      <td>Myokardischämie</td>\n",
       "      <td>[ngram, sapbert]</td>\n",
       "      <td>0.147225</td>\n",
       "    </tr>\n",
       "    <tr>\n",
       "      <th>12</th>\n",
       "      <td>07_malignes-melanom_0207_9</td>\n",
       "      <td>Myokardfibrose</td>\n",
       "      <td>Diagnosis_or_Pathology</td>\n",
       "      <td>219</td>\n",
       "      <td>233</td>\n",
       "      <td>C0151654</td>\n",
       "      <td>[T046]</td>\n",
       "      <td>Myokardfibrose</td>\n",
       "      <td>[ngram, sapbert]</td>\n",
       "      <td>0.149962</td>\n",
       "    </tr>\n",
       "  </tbody>\n",
       "</table>\n",
       "</div>"
      ],
      "text/plain": [
       "                      document  \\\n",
       "0   07_malignes-melanom_0207_9   \n",
       "1   07_malignes-melanom_0207_9   \n",
       "2   07_malignes-melanom_0207_9   \n",
       "3   07_malignes-melanom_0207_9   \n",
       "4   07_malignes-melanom_0207_9   \n",
       "5   07_malignes-melanom_0207_9   \n",
       "6   07_malignes-melanom_0207_9   \n",
       "7   07_malignes-melanom_0207_9   \n",
       "8   07_malignes-melanom_0207_9   \n",
       "9   07_malignes-melanom_0207_9   \n",
       "10  07_malignes-melanom_0207_9   \n",
       "11  07_malignes-melanom_0207_9   \n",
       "12  07_malignes-melanom_0207_9   \n",
       "\n",
       "                                                 text                    type  \\\n",
       "0   Immuntherapien mit anti-CTLA4 und anti-PD1 Ant...             Therapeutic   \n",
       "1                                          anti-CTLA4           Clinical_Drug   \n",
       "2                  anti-CTLA4 und anti-PD1 Antikörper           Clinical_Drug   \n",
       "3                                 anti-PD1 Antikörper           Clinical_Drug   \n",
       "4                                       Myokarditiden  Diagnosis_or_Pathology   \n",
       "5                                      Perikarditiden  Diagnosis_or_Pathology   \n",
       "6                                   Perikardtamponade  Diagnosis_or_Pathology   \n",
       "7                                     Kardiomyopathie  Diagnosis_or_Pathology   \n",
       "8                                        Herzversagen  Diagnosis_or_Pathology   \n",
       "9                               Reizleitungsstörungen  Diagnosis_or_Pathology   \n",
       "10                                     Myokardinfarkt  Diagnosis_or_Pathology   \n",
       "11                                  kardiale Ischämie  Diagnosis_or_Pathology   \n",
       "12                                     Myokardfibrose  Diagnosis_or_Pathology   \n",
       "\n",
       "    start  end       cui                tuis  \\\n",
       "0       6   59  C1367202  [T116, T121, T129]   \n",
       "1      25   35  C4289973              [T116]   \n",
       "2      25   59  C4289973              [T116]   \n",
       "3      40   59  C4289970  [T116, T121, T129]   \n",
       "4      73   86  C0027059              [T047]   \n",
       "5      88  102  C0031046              [T047]   \n",
       "6     104  121  C0007177              [T047]   \n",
       "7     123  138  C0878544              [T047]   \n",
       "8     140  152  C0018801              [T047]   \n",
       "9     154  175  C0264886              [T047]   \n",
       "10    177  191  C0027051              [T047]   \n",
       "11    197  214  C0151744              [T047]   \n",
       "12    219  233  C0151654              [T046]   \n",
       "\n",
       "                                      canonical            linker  confidence  \n",
       "0                                    Ipilimumab         [sapbert]    0.064055  \n",
       "1               Anti-CTLA-4 Monoclonal Antibody  [ngram, sapbert]    0.069021  \n",
       "2               Anti-CTLA-4 Monoclonal Antibody  [ngram, sapbert]    0.065991  \n",
       "3                  Anti-PD1 Monoclonal Antibody  [ngram, sapbert]    0.066877  \n",
       "4                                   Myokarditis  [ngram, sapbert]    0.099154  \n",
       "5                                  Perikarditis  [ngram, sapbert]    0.122347  \n",
       "6                                 Herztamponade  [ngram, sapbert]    0.161796  \n",
       "7                            Myokardkrankheiten  [ngram, sapbert]    0.145210  \n",
       "8                              Herzinsuffizienz  [ngram, sapbert]    0.132247  \n",
       "9   Kardiale Erregungsleitungssystem-Erkrankung  [ngram, sapbert]    0.129754  \n",
       "10                               Myokardinfarkt  [ngram, sapbert]    0.131848  \n",
       "11                              Myokardischämie  [ngram, sapbert]    0.147225  \n",
       "12                               Myokardfibrose  [ngram, sapbert]    0.149962  "
      ]
     },
     "metadata": {},
     "output_type": "display_data"
    },
    {
     "data": {
      "application/vnd.jupyter.widget-view+json": {
       "model_id": "09f2cc3e56d74d6d84a09896ec7eb1e2",
       "version_major": 2,
       "version_minor": 0
      },
      "text/plain": [
       "  0%|          | 0/1 [00:00<?, ?it/s]"
      ]
     },
     "metadata": {},
     "output_type": "display_data"
    },
    {
     "data": {
      "text/html": [
       "<div>\n",
       "<style scoped>\n",
       "    .dataframe tbody tr th:only-of-type {\n",
       "        vertical-align: middle;\n",
       "    }\n",
       "\n",
       "    .dataframe tbody tr th {\n",
       "        vertical-align: top;\n",
       "    }\n",
       "\n",
       "    .dataframe thead th {\n",
       "        text-align: right;\n",
       "    }\n",
       "</style>\n",
       "<table border=\"1\" class=\"dataframe\">\n",
       "  <thead>\n",
       "    <tr style=\"text-align: right;\">\n",
       "      <th></th>\n",
       "      <th>document</th>\n",
       "      <th>text</th>\n",
       "      <th>type</th>\n",
       "      <th>start</th>\n",
       "      <th>end</th>\n",
       "      <th>cui</th>\n",
       "      <th>tuis</th>\n",
       "      <th>canonical</th>\n",
       "      <th>linker</th>\n",
       "      <th>confidence</th>\n",
       "    </tr>\n",
       "  </thead>\n",
       "  <tbody>\n",
       "    <tr>\n",
       "      <th>0</th>\n",
       "      <td>07_malignes-melanom_0207_9</td>\n",
       "      <td>Immuntherapien mit anti-CTLA4 Antikörper und a...</td>\n",
       "      <td>Therapeutic</td>\n",
       "      <td>6</td>\n",
       "      <td>70</td>\n",
       "      <td>C1367202</td>\n",
       "      <td>[T116, T121, T129]</td>\n",
       "      <td>Ipilimumab</td>\n",
       "      <td>[sapbert]</td>\n",
       "      <td>0.063604</td>\n",
       "    </tr>\n",
       "    <tr>\n",
       "      <th>1</th>\n",
       "      <td>07_malignes-melanom_0207_9</td>\n",
       "      <td>anti-CTLA4 Antikörper</td>\n",
       "      <td>Clinical_Drug</td>\n",
       "      <td>25</td>\n",
       "      <td>46</td>\n",
       "      <td>C4289973</td>\n",
       "      <td>[T116]</td>\n",
       "      <td>Anti-CTLA-4 Monoclonal Antibody</td>\n",
       "      <td>[ngram, sapbert]</td>\n",
       "      <td>0.069302</td>\n",
       "    </tr>\n",
       "    <tr>\n",
       "      <th>2</th>\n",
       "      <td>07_malignes-melanom_0207_9</td>\n",
       "      <td>anti-CTLA4 Antikörper und anti-PD1 Antikörper</td>\n",
       "      <td>Clinical_Drug</td>\n",
       "      <td>25</td>\n",
       "      <td>70</td>\n",
       "      <td>C4289973</td>\n",
       "      <td>[T116]</td>\n",
       "      <td>Anti-CTLA-4 Monoclonal Antibody</td>\n",
       "      <td>[sapbert]</td>\n",
       "      <td>0.066033</td>\n",
       "    </tr>\n",
       "    <tr>\n",
       "      <th>3</th>\n",
       "      <td>07_malignes-melanom_0207_9</td>\n",
       "      <td>anti-PD1 Antikörper</td>\n",
       "      <td>Clinical_Drug</td>\n",
       "      <td>51</td>\n",
       "      <td>70</td>\n",
       "      <td>C4289970</td>\n",
       "      <td>[T116, T121, T129]</td>\n",
       "      <td>Anti-PD1 Monoclonal Antibody</td>\n",
       "      <td>[ngram, sapbert]</td>\n",
       "      <td>0.066552</td>\n",
       "    </tr>\n",
       "    <tr>\n",
       "      <th>4</th>\n",
       "      <td>07_malignes-melanom_0207_9</td>\n",
       "      <td>Myokarditiden</td>\n",
       "      <td>Diagnosis_or_Pathology</td>\n",
       "      <td>84</td>\n",
       "      <td>97</td>\n",
       "      <td>C0027059</td>\n",
       "      <td>[T047]</td>\n",
       "      <td>Myokarditis</td>\n",
       "      <td>[ngram, sapbert]</td>\n",
       "      <td>0.097623</td>\n",
       "    </tr>\n",
       "    <tr>\n",
       "      <th>5</th>\n",
       "      <td>07_malignes-melanom_0207_9</td>\n",
       "      <td>Perikarditiden</td>\n",
       "      <td>Diagnosis_or_Pathology</td>\n",
       "      <td>99</td>\n",
       "      <td>113</td>\n",
       "      <td>C0031046</td>\n",
       "      <td>[T047]</td>\n",
       "      <td>Perikarditis</td>\n",
       "      <td>[ngram, sapbert]</td>\n",
       "      <td>0.130398</td>\n",
       "    </tr>\n",
       "    <tr>\n",
       "      <th>6</th>\n",
       "      <td>07_malignes-melanom_0207_9</td>\n",
       "      <td>Perikardtamponade</td>\n",
       "      <td>Diagnosis_or_Pathology</td>\n",
       "      <td>115</td>\n",
       "      <td>132</td>\n",
       "      <td>C0007177</td>\n",
       "      <td>[T047]</td>\n",
       "      <td>Herztamponade</td>\n",
       "      <td>[ngram, sapbert]</td>\n",
       "      <td>0.160963</td>\n",
       "    </tr>\n",
       "    <tr>\n",
       "      <th>7</th>\n",
       "      <td>07_malignes-melanom_0207_9</td>\n",
       "      <td>Kardiomyopathie</td>\n",
       "      <td>Diagnosis_or_Pathology</td>\n",
       "      <td>134</td>\n",
       "      <td>149</td>\n",
       "      <td>C0878544</td>\n",
       "      <td>[T047]</td>\n",
       "      <td>Myokardkrankheiten</td>\n",
       "      <td>[ngram, sapbert]</td>\n",
       "      <td>0.144386</td>\n",
       "    </tr>\n",
       "    <tr>\n",
       "      <th>8</th>\n",
       "      <td>07_malignes-melanom_0207_9</td>\n",
       "      <td>Herzversagen</td>\n",
       "      <td>Diagnosis_or_Pathology</td>\n",
       "      <td>151</td>\n",
       "      <td>163</td>\n",
       "      <td>C0018801</td>\n",
       "      <td>[T047]</td>\n",
       "      <td>Herzinsuffizienz</td>\n",
       "      <td>[ngram, sapbert]</td>\n",
       "      <td>0.130472</td>\n",
       "    </tr>\n",
       "    <tr>\n",
       "      <th>9</th>\n",
       "      <td>07_malignes-melanom_0207_9</td>\n",
       "      <td>Reizleitungsstörungen</td>\n",
       "      <td>Diagnosis_or_Pathology</td>\n",
       "      <td>165</td>\n",
       "      <td>186</td>\n",
       "      <td>C0264886</td>\n",
       "      <td>[T047]</td>\n",
       "      <td>Kardiale Erregungsleitungssystem-Erkrankung</td>\n",
       "      <td>[ngram, sapbert]</td>\n",
       "      <td>0.132998</td>\n",
       "    </tr>\n",
       "    <tr>\n",
       "      <th>10</th>\n",
       "      <td>07_malignes-melanom_0207_9</td>\n",
       "      <td>Myokardinfarkt</td>\n",
       "      <td>Diagnosis_or_Pathology</td>\n",
       "      <td>188</td>\n",
       "      <td>202</td>\n",
       "      <td>C0027051</td>\n",
       "      <td>[T047]</td>\n",
       "      <td>Myokardinfarkt</td>\n",
       "      <td>[ngram, sapbert]</td>\n",
       "      <td>0.131848</td>\n",
       "    </tr>\n",
       "    <tr>\n",
       "      <th>11</th>\n",
       "      <td>07_malignes-melanom_0207_9</td>\n",
       "      <td>kardiale Ischämie</td>\n",
       "      <td>Diagnosis_or_Pathology</td>\n",
       "      <td>208</td>\n",
       "      <td>225</td>\n",
       "      <td>C0151744</td>\n",
       "      <td>[T047]</td>\n",
       "      <td>Myokardischämie</td>\n",
       "      <td>[ngram, sapbert]</td>\n",
       "      <td>0.147225</td>\n",
       "    </tr>\n",
       "    <tr>\n",
       "      <th>12</th>\n",
       "      <td>07_malignes-melanom_0207_9</td>\n",
       "      <td>Myokardfibrose</td>\n",
       "      <td>Diagnosis_or_Pathology</td>\n",
       "      <td>230</td>\n",
       "      <td>244</td>\n",
       "      <td>C0151654</td>\n",
       "      <td>[T046]</td>\n",
       "      <td>Myokardfibrose</td>\n",
       "      <td>[ngram, sapbert]</td>\n",
       "      <td>0.149962</td>\n",
       "    </tr>\n",
       "  </tbody>\n",
       "</table>\n",
       "</div>"
      ],
      "text/plain": [
       "                      document  \\\n",
       "0   07_malignes-melanom_0207_9   \n",
       "1   07_malignes-melanom_0207_9   \n",
       "2   07_malignes-melanom_0207_9   \n",
       "3   07_malignes-melanom_0207_9   \n",
       "4   07_malignes-melanom_0207_9   \n",
       "5   07_malignes-melanom_0207_9   \n",
       "6   07_malignes-melanom_0207_9   \n",
       "7   07_malignes-melanom_0207_9   \n",
       "8   07_malignes-melanom_0207_9   \n",
       "9   07_malignes-melanom_0207_9   \n",
       "10  07_malignes-melanom_0207_9   \n",
       "11  07_malignes-melanom_0207_9   \n",
       "12  07_malignes-melanom_0207_9   \n",
       "\n",
       "                                                 text                    type  \\\n",
       "0   Immuntherapien mit anti-CTLA4 Antikörper und a...             Therapeutic   \n",
       "1                               anti-CTLA4 Antikörper           Clinical_Drug   \n",
       "2       anti-CTLA4 Antikörper und anti-PD1 Antikörper           Clinical_Drug   \n",
       "3                                 anti-PD1 Antikörper           Clinical_Drug   \n",
       "4                                       Myokarditiden  Diagnosis_or_Pathology   \n",
       "5                                      Perikarditiden  Diagnosis_or_Pathology   \n",
       "6                                   Perikardtamponade  Diagnosis_or_Pathology   \n",
       "7                                     Kardiomyopathie  Diagnosis_or_Pathology   \n",
       "8                                        Herzversagen  Diagnosis_or_Pathology   \n",
       "9                               Reizleitungsstörungen  Diagnosis_or_Pathology   \n",
       "10                                     Myokardinfarkt  Diagnosis_or_Pathology   \n",
       "11                                  kardiale Ischämie  Diagnosis_or_Pathology   \n",
       "12                                     Myokardfibrose  Diagnosis_or_Pathology   \n",
       "\n",
       "    start  end       cui                tuis  \\\n",
       "0       6   70  C1367202  [T116, T121, T129]   \n",
       "1      25   46  C4289973              [T116]   \n",
       "2      25   70  C4289973              [T116]   \n",
       "3      51   70  C4289970  [T116, T121, T129]   \n",
       "4      84   97  C0027059              [T047]   \n",
       "5      99  113  C0031046              [T047]   \n",
       "6     115  132  C0007177              [T047]   \n",
       "7     134  149  C0878544              [T047]   \n",
       "8     151  163  C0018801              [T047]   \n",
       "9     165  186  C0264886              [T047]   \n",
       "10    188  202  C0027051              [T047]   \n",
       "11    208  225  C0151744              [T047]   \n",
       "12    230  244  C0151654              [T046]   \n",
       "\n",
       "                                      canonical            linker  confidence  \n",
       "0                                    Ipilimumab         [sapbert]    0.063604  \n",
       "1               Anti-CTLA-4 Monoclonal Antibody  [ngram, sapbert]    0.069302  \n",
       "2               Anti-CTLA-4 Monoclonal Antibody         [sapbert]    0.066033  \n",
       "3                  Anti-PD1 Monoclonal Antibody  [ngram, sapbert]    0.066552  \n",
       "4                                   Myokarditis  [ngram, sapbert]    0.097623  \n",
       "5                                  Perikarditis  [ngram, sapbert]    0.130398  \n",
       "6                                 Herztamponade  [ngram, sapbert]    0.160963  \n",
       "7                            Myokardkrankheiten  [ngram, sapbert]    0.144386  \n",
       "8                              Herzinsuffizienz  [ngram, sapbert]    0.130472  \n",
       "9   Kardiale Erregungsleitungssystem-Erkrankung  [ngram, sapbert]    0.132998  \n",
       "10                               Myokardinfarkt  [ngram, sapbert]    0.131848  \n",
       "11                              Myokardischämie  [ngram, sapbert]    0.147225  \n",
       "12                               Myokardfibrose  [ngram, sapbert]    0.149962  "
      ]
     },
     "metadata": {},
     "output_type": "display_data"
    },
    {
     "name": "stdout",
     "output_type": "stream",
     "text": [
      "Difference 15\n"
     ]
    },
    {
     "data": {
      "text/markdown": [
       "Bei Patienten unter BRAF/MEK-Inhibitortherapie müssen die Elektrolyte und das EKG vor und zunächst alle 4 Wochen nach Einleitung der Therapie bzw. nach Dosisänderungen untersucht werden."
      ],
      "text/plain": [
       "<IPython.core.display.Markdown object>"
      ]
     },
     "metadata": {},
     "output_type": "display_data"
    },
    {
     "data": {
      "text/markdown": [
       "Bei Patienten unter BRAF-Inhibitortherapie/MEK-Inhibitortherapie müssen die Elektrolyte und das EKG vor und zunächst alle 4 Wochen nach Einleitung der Therapie bzw. nach Dosisänderungen untersucht werden."
      ],
      "text/plain": [
       "<IPython.core.display.Markdown object>"
      ]
     },
     "metadata": {},
     "output_type": "display_data"
    },
    {
     "data": {
      "text/html": [
       "<html><body><div>Bei Patienten unter BRAF<span style=\"background-color: lightgreen;\">-Inhibitortherapie</span>/MEK-Inhibitortherapie müssen die Elektrolyte und das EKG vor und zunächst alle 4 Wochen nach Einleitung der Therapie bzw. nach Dosisänderungen untersucht werden.</div></body></html>"
      ],
      "text/plain": [
       "<IPython.core.display.HTML object>"
      ]
     },
     "metadata": {},
     "output_type": "display_data"
    },
    {
     "data": {
      "application/vnd.jupyter.widget-view+json": {
       "model_id": "3f132f71da4c4e84bdb2681cf61f32c6",
       "version_major": 2,
       "version_minor": 0
      },
      "text/plain": [
       "  0%|          | 0/1 [00:00<?, ?it/s]"
      ]
     },
     "metadata": {},
     "output_type": "display_data"
    },
    {
     "data": {
      "text/html": [
       "<div>\n",
       "<style scoped>\n",
       "    .dataframe tbody tr th:only-of-type {\n",
       "        vertical-align: middle;\n",
       "    }\n",
       "\n",
       "    .dataframe tbody tr th {\n",
       "        vertical-align: top;\n",
       "    }\n",
       "\n",
       "    .dataframe thead th {\n",
       "        text-align: right;\n",
       "    }\n",
       "</style>\n",
       "<table border=\"1\" class=\"dataframe\">\n",
       "  <thead>\n",
       "    <tr style=\"text-align: right;\">\n",
       "      <th></th>\n",
       "      <th>document</th>\n",
       "      <th>text</th>\n",
       "      <th>type</th>\n",
       "      <th>start</th>\n",
       "      <th>end</th>\n",
       "      <th>cui</th>\n",
       "      <th>tuis</th>\n",
       "      <th>canonical</th>\n",
       "      <th>linker</th>\n",
       "      <th>confidence</th>\n",
       "    </tr>\n",
       "  </thead>\n",
       "  <tbody>\n",
       "    <tr>\n",
       "      <th>0</th>\n",
       "      <td>07_malignes-melanom_0207_14</td>\n",
       "      <td>BRAF</td>\n",
       "      <td>Therapeutic</td>\n",
       "      <td>20</td>\n",
       "      <td>24</td>\n",
       "      <td>C1259929</td>\n",
       "      <td>[T116, T123]</td>\n",
       "      <td>94 kDa B-raf Protein</td>\n",
       "      <td>[ngram, sapbert]</td>\n",
       "      <td>0.079368</td>\n",
       "    </tr>\n",
       "    <tr>\n",
       "      <th>1</th>\n",
       "      <td>07_malignes-melanom_0207_14</td>\n",
       "      <td>BRAF/MEK-Inhibitortherapie</td>\n",
       "      <td>Therapeutic</td>\n",
       "      <td>20</td>\n",
       "      <td>46</td>\n",
       "      <td>C4521853</td>\n",
       "      <td>[T080]</td>\n",
       "      <td>B-Raf inhibitor</td>\n",
       "      <td>[ngram, sapbert]</td>\n",
       "      <td>0.064098</td>\n",
       "    </tr>\n",
       "    <tr>\n",
       "      <th>2</th>\n",
       "      <td>07_malignes-melanom_0207_14</td>\n",
       "      <td>MEK-Inhibitortherapie</td>\n",
       "      <td>Therapeutic</td>\n",
       "      <td>25</td>\n",
       "      <td>46</td>\n",
       "      <td>C2347168</td>\n",
       "      <td>[T121]</td>\n",
       "      <td>MAPKK Inhibitor</td>\n",
       "      <td>[ngram, sapbert]</td>\n",
       "      <td>0.064760</td>\n",
       "    </tr>\n",
       "    <tr>\n",
       "      <th>3</th>\n",
       "      <td>07_malignes-melanom_0207_14</td>\n",
       "      <td>Elektrolyte</td>\n",
       "      <td>Nutrient_or_Body_Substance</td>\n",
       "      <td>58</td>\n",
       "      <td>69</td>\n",
       "      <td>C0013832</td>\n",
       "      <td>[T121, T197]</td>\n",
       "      <td>Elektrolyte</td>\n",
       "      <td>[ngram, sapbert]</td>\n",
       "      <td>0.069613</td>\n",
       "    </tr>\n",
       "    <tr>\n",
       "      <th>4</th>\n",
       "      <td>07_malignes-melanom_0207_14</td>\n",
       "      <td>EKG</td>\n",
       "      <td>Diagnostic</td>\n",
       "      <td>78</td>\n",
       "      <td>81</td>\n",
       "      <td>C0013798</td>\n",
       "      <td>[T060]</td>\n",
       "      <td>Elektrokardiogramm</td>\n",
       "      <td>[ngram, sapbert]</td>\n",
       "      <td>0.088079</td>\n",
       "    </tr>\n",
       "    <tr>\n",
       "      <th>5</th>\n",
       "      <td>07_malignes-melanom_0207_14</td>\n",
       "      <td>Einleitung der Therapie</td>\n",
       "      <td>Therapeutic</td>\n",
       "      <td>118</td>\n",
       "      <td>141</td>\n",
       "      <td>C4288398</td>\n",
       "      <td>[T061]</td>\n",
       "      <td>Pharmacotherapy Initiation</td>\n",
       "      <td>[sapbert]</td>\n",
       "      <td>0.066256</td>\n",
       "    </tr>\n",
       "    <tr>\n",
       "      <th>6</th>\n",
       "      <td>07_malignes-melanom_0207_14</td>\n",
       "      <td>Dosisänderungen</td>\n",
       "      <td>Therapeutic</td>\n",
       "      <td>152</td>\n",
       "      <td>167</td>\n",
       "      <td>C1827449</td>\n",
       "      <td>[T061]</td>\n",
       "      <td>Drug Tapering</td>\n",
       "      <td>[ngram, sapbert]</td>\n",
       "      <td>0.068877</td>\n",
       "    </tr>\n",
       "  </tbody>\n",
       "</table>\n",
       "</div>"
      ],
      "text/plain": [
       "                      document                        text  \\\n",
       "0  07_malignes-melanom_0207_14                        BRAF   \n",
       "1  07_malignes-melanom_0207_14  BRAF/MEK-Inhibitortherapie   \n",
       "2  07_malignes-melanom_0207_14       MEK-Inhibitortherapie   \n",
       "3  07_malignes-melanom_0207_14                 Elektrolyte   \n",
       "4  07_malignes-melanom_0207_14                         EKG   \n",
       "5  07_malignes-melanom_0207_14     Einleitung der Therapie   \n",
       "6  07_malignes-melanom_0207_14             Dosisänderungen   \n",
       "\n",
       "                         type  start  end       cui          tuis  \\\n",
       "0                 Therapeutic     20   24  C1259929  [T116, T123]   \n",
       "1                 Therapeutic     20   46  C4521853        [T080]   \n",
       "2                 Therapeutic     25   46  C2347168        [T121]   \n",
       "3  Nutrient_or_Body_Substance     58   69  C0013832  [T121, T197]   \n",
       "4                  Diagnostic     78   81  C0013798        [T060]   \n",
       "5                 Therapeutic    118  141  C4288398        [T061]   \n",
       "6                 Therapeutic    152  167  C1827449        [T061]   \n",
       "\n",
       "                    canonical            linker  confidence  \n",
       "0        94 kDa B-raf Protein  [ngram, sapbert]    0.079368  \n",
       "1             B-Raf inhibitor  [ngram, sapbert]    0.064098  \n",
       "2             MAPKK Inhibitor  [ngram, sapbert]    0.064760  \n",
       "3                 Elektrolyte  [ngram, sapbert]    0.069613  \n",
       "4          Elektrokardiogramm  [ngram, sapbert]    0.088079  \n",
       "5  Pharmacotherapy Initiation         [sapbert]    0.066256  \n",
       "6               Drug Tapering  [ngram, sapbert]    0.068877  "
      ]
     },
     "metadata": {},
     "output_type": "display_data"
    },
    {
     "data": {
      "application/vnd.jupyter.widget-view+json": {
       "model_id": "27fb7922c5094741892b54453c2971c6",
       "version_major": 2,
       "version_minor": 0
      },
      "text/plain": [
       "  0%|          | 0/1 [00:00<?, ?it/s]"
      ]
     },
     "metadata": {},
     "output_type": "display_data"
    },
    {
     "data": {
      "text/html": [
       "<div>\n",
       "<style scoped>\n",
       "    .dataframe tbody tr th:only-of-type {\n",
       "        vertical-align: middle;\n",
       "    }\n",
       "\n",
       "    .dataframe tbody tr th {\n",
       "        vertical-align: top;\n",
       "    }\n",
       "\n",
       "    .dataframe thead th {\n",
       "        text-align: right;\n",
       "    }\n",
       "</style>\n",
       "<table border=\"1\" class=\"dataframe\">\n",
       "  <thead>\n",
       "    <tr style=\"text-align: right;\">\n",
       "      <th></th>\n",
       "      <th>document</th>\n",
       "      <th>text</th>\n",
       "      <th>type</th>\n",
       "      <th>start</th>\n",
       "      <th>end</th>\n",
       "      <th>cui</th>\n",
       "      <th>tuis</th>\n",
       "      <th>canonical</th>\n",
       "      <th>linker</th>\n",
       "      <th>confidence</th>\n",
       "    </tr>\n",
       "  </thead>\n",
       "  <tbody>\n",
       "    <tr>\n",
       "      <th>0</th>\n",
       "      <td>07_malignes-melanom_0207_14</td>\n",
       "      <td>BRAF-Inhibitortherapie</td>\n",
       "      <td>Therapeutic</td>\n",
       "      <td>20</td>\n",
       "      <td>42</td>\n",
       "      <td>C4521853</td>\n",
       "      <td>[T080]</td>\n",
       "      <td>B-Raf inhibitor</td>\n",
       "      <td>[ngram, sapbert]</td>\n",
       "      <td>0.069536</td>\n",
       "    </tr>\n",
       "    <tr>\n",
       "      <th>1</th>\n",
       "      <td>07_malignes-melanom_0207_14</td>\n",
       "      <td>MEK-Inhibitortherapie</td>\n",
       "      <td>Therapeutic</td>\n",
       "      <td>43</td>\n",
       "      <td>64</td>\n",
       "      <td>C2347168</td>\n",
       "      <td>[T121]</td>\n",
       "      <td>MAPKK Inhibitor</td>\n",
       "      <td>[ngram, sapbert]</td>\n",
       "      <td>0.065105</td>\n",
       "    </tr>\n",
       "    <tr>\n",
       "      <th>2</th>\n",
       "      <td>07_malignes-melanom_0207_14</td>\n",
       "      <td>Elektrolyte</td>\n",
       "      <td>Nutrient_or_Body_Substance</td>\n",
       "      <td>76</td>\n",
       "      <td>87</td>\n",
       "      <td>C0013832</td>\n",
       "      <td>[T121, T197]</td>\n",
       "      <td>Elektrolyte</td>\n",
       "      <td>[ngram, sapbert]</td>\n",
       "      <td>0.071724</td>\n",
       "    </tr>\n",
       "    <tr>\n",
       "      <th>3</th>\n",
       "      <td>07_malignes-melanom_0207_14</td>\n",
       "      <td>EKG</td>\n",
       "      <td>Diagnostic</td>\n",
       "      <td>96</td>\n",
       "      <td>99</td>\n",
       "      <td>C0013798</td>\n",
       "      <td>[T060]</td>\n",
       "      <td>Elektrokardiogramm</td>\n",
       "      <td>[ngram, sapbert]</td>\n",
       "      <td>0.088586</td>\n",
       "    </tr>\n",
       "    <tr>\n",
       "      <th>4</th>\n",
       "      <td>07_malignes-melanom_0207_14</td>\n",
       "      <td>Einleitung der Therapie</td>\n",
       "      <td>Therapeutic</td>\n",
       "      <td>136</td>\n",
       "      <td>159</td>\n",
       "      <td>C4288398</td>\n",
       "      <td>[T061]</td>\n",
       "      <td>Pharmacotherapy Initiation</td>\n",
       "      <td>[sapbert]</td>\n",
       "      <td>0.065908</td>\n",
       "    </tr>\n",
       "    <tr>\n",
       "      <th>5</th>\n",
       "      <td>07_malignes-melanom_0207_14</td>\n",
       "      <td>Dosisänderungen</td>\n",
       "      <td>Therapeutic</td>\n",
       "      <td>170</td>\n",
       "      <td>185</td>\n",
       "      <td>C1827449</td>\n",
       "      <td>[T061]</td>\n",
       "      <td>Drug Tapering</td>\n",
       "      <td>[ngram, sapbert]</td>\n",
       "      <td>0.068877</td>\n",
       "    </tr>\n",
       "  </tbody>\n",
       "</table>\n",
       "</div>"
      ],
      "text/plain": [
       "                      document                     text  \\\n",
       "0  07_malignes-melanom_0207_14   BRAF-Inhibitortherapie   \n",
       "1  07_malignes-melanom_0207_14    MEK-Inhibitortherapie   \n",
       "2  07_malignes-melanom_0207_14              Elektrolyte   \n",
       "3  07_malignes-melanom_0207_14                      EKG   \n",
       "4  07_malignes-melanom_0207_14  Einleitung der Therapie   \n",
       "5  07_malignes-melanom_0207_14          Dosisänderungen   \n",
       "\n",
       "                         type  start  end       cui          tuis  \\\n",
       "0                 Therapeutic     20   42  C4521853        [T080]   \n",
       "1                 Therapeutic     43   64  C2347168        [T121]   \n",
       "2  Nutrient_or_Body_Substance     76   87  C0013832  [T121, T197]   \n",
       "3                  Diagnostic     96   99  C0013798        [T060]   \n",
       "4                 Therapeutic    136  159  C4288398        [T061]   \n",
       "5                 Therapeutic    170  185  C1827449        [T061]   \n",
       "\n",
       "                    canonical            linker  confidence  \n",
       "0             B-Raf inhibitor  [ngram, sapbert]    0.069536  \n",
       "1             MAPKK Inhibitor  [ngram, sapbert]    0.065105  \n",
       "2                 Elektrolyte  [ngram, sapbert]    0.071724  \n",
       "3          Elektrokardiogramm  [ngram, sapbert]    0.088586  \n",
       "4  Pharmacotherapy Initiation         [sapbert]    0.065908  \n",
       "5               Drug Tapering  [ngram, sapbert]    0.068877  "
      ]
     },
     "metadata": {},
     "output_type": "display_data"
    },
    {
     "name": "stdout",
     "output_type": "stream",
     "text": [
      "Difference 16\n"
     ]
    },
    {
     "data": {
      "text/markdown": [
       "Vor und unter Immuntherapien mit anti-CTLA4 und anti-PD1 Antikörper sollte die CK regelmässig bestimmt werden, sowie immer bei Auftreten kardialer Symptome."
      ],
      "text/plain": [
       "<IPython.core.display.Markdown object>"
      ]
     },
     "metadata": {},
     "output_type": "display_data"
    },
    {
     "data": {
      "text/markdown": [
       "Vor und unter Immuntherapien mit anti-CTLA4 Antikörper und anti-PD1 Antikörper sollte die CK regelmässig bestimmt werden, sowie immer bei Auftreten kardialer Symptome."
      ],
      "text/plain": [
       "<IPython.core.display.Markdown object>"
      ]
     },
     "metadata": {},
     "output_type": "display_data"
    },
    {
     "data": {
      "text/html": [
       "<html><body><div>Vor und unter Immuntherapien mit anti-CTLA4<span style=\"background-color: lightgreen;\"> Antikörper</span> und anti-PD1 Antikörper sollte die CK regelmässig bestimmt werden, sowie immer bei Auftreten kardialer Symptome.</div></body></html>"
      ],
      "text/plain": [
       "<IPython.core.display.HTML object>"
      ]
     },
     "metadata": {},
     "output_type": "display_data"
    },
    {
     "data": {
      "application/vnd.jupyter.widget-view+json": {
       "model_id": "f49506049d2549a98ff0848cf4fb4678",
       "version_major": 2,
       "version_minor": 0
      },
      "text/plain": [
       "  0%|          | 0/1 [00:00<?, ?it/s]"
      ]
     },
     "metadata": {},
     "output_type": "display_data"
    },
    {
     "data": {
      "text/html": [
       "<div>\n",
       "<style scoped>\n",
       "    .dataframe tbody tr th:only-of-type {\n",
       "        vertical-align: middle;\n",
       "    }\n",
       "\n",
       "    .dataframe tbody tr th {\n",
       "        vertical-align: top;\n",
       "    }\n",
       "\n",
       "    .dataframe thead th {\n",
       "        text-align: right;\n",
       "    }\n",
       "</style>\n",
       "<table border=\"1\" class=\"dataframe\">\n",
       "  <thead>\n",
       "    <tr style=\"text-align: right;\">\n",
       "      <th></th>\n",
       "      <th>document</th>\n",
       "      <th>text</th>\n",
       "      <th>type</th>\n",
       "      <th>start</th>\n",
       "      <th>end</th>\n",
       "      <th>cui</th>\n",
       "      <th>tuis</th>\n",
       "      <th>canonical</th>\n",
       "      <th>linker</th>\n",
       "      <th>confidence</th>\n",
       "    </tr>\n",
       "  </thead>\n",
       "  <tbody>\n",
       "    <tr>\n",
       "      <th>0</th>\n",
       "      <td>07_malignes-melanom_0207_20</td>\n",
       "      <td>Immuntherapien mit anti-CTLA4 und anti-PD1 Ant...</td>\n",
       "      <td>Therapeutic</td>\n",
       "      <td>14</td>\n",
       "      <td>67</td>\n",
       "      <td>C1367202</td>\n",
       "      <td>[T116, T121, T129]</td>\n",
       "      <td>Ipilimumab</td>\n",
       "      <td>[sapbert]</td>\n",
       "      <td>0.064058</td>\n",
       "    </tr>\n",
       "    <tr>\n",
       "      <th>1</th>\n",
       "      <td>07_malignes-melanom_0207_20</td>\n",
       "      <td>anti-CTLA4</td>\n",
       "      <td>Clinical_Drug</td>\n",
       "      <td>33</td>\n",
       "      <td>43</td>\n",
       "      <td>C4289973</td>\n",
       "      <td>[T116]</td>\n",
       "      <td>Anti-CTLA-4 Monoclonal Antibody</td>\n",
       "      <td>[ngram, sapbert]</td>\n",
       "      <td>0.068610</td>\n",
       "    </tr>\n",
       "    <tr>\n",
       "      <th>2</th>\n",
       "      <td>07_malignes-melanom_0207_20</td>\n",
       "      <td>anti-CTLA4 und anti-PD1 Antikörper</td>\n",
       "      <td>Clinical_Drug</td>\n",
       "      <td>33</td>\n",
       "      <td>67</td>\n",
       "      <td>C4289973</td>\n",
       "      <td>[T116]</td>\n",
       "      <td>Anti-CTLA-4 Monoclonal Antibody</td>\n",
       "      <td>[ngram, sapbert]</td>\n",
       "      <td>0.065451</td>\n",
       "    </tr>\n",
       "    <tr>\n",
       "      <th>3</th>\n",
       "      <td>07_malignes-melanom_0207_20</td>\n",
       "      <td>anti-PD1 Antikörper</td>\n",
       "      <td>Clinical_Drug</td>\n",
       "      <td>48</td>\n",
       "      <td>67</td>\n",
       "      <td>C4289970</td>\n",
       "      <td>[T116, T121, T129]</td>\n",
       "      <td>Anti-PD1 Monoclonal Antibody</td>\n",
       "      <td>[ngram, sapbert]</td>\n",
       "      <td>0.069229</td>\n",
       "    </tr>\n",
       "    <tr>\n",
       "      <th>4</th>\n",
       "      <td>07_malignes-melanom_0207_20</td>\n",
       "      <td>CK</td>\n",
       "      <td>Nutrient_or_Body_Substance</td>\n",
       "      <td>79</td>\n",
       "      <td>81</td>\n",
       "      <td>C0010287</td>\n",
       "      <td>[T116, T126]</td>\n",
       "      <td>Creatinkinase</td>\n",
       "      <td>[ngram, sapbert]</td>\n",
       "      <td>0.082112</td>\n",
       "    </tr>\n",
       "    <tr>\n",
       "      <th>5</th>\n",
       "      <td>07_malignes-melanom_0207_20</td>\n",
       "      <td>Auftreten kardialer Symptome</td>\n",
       "      <td>Diagnosis_or_Pathology</td>\n",
       "      <td>127</td>\n",
       "      <td>155</td>\n",
       "      <td>C0476270</td>\n",
       "      <td>[T184]</td>\n",
       "      <td>Cardiovascular symptoms</td>\n",
       "      <td>[ngram, sapbert]</td>\n",
       "      <td>0.068689</td>\n",
       "    </tr>\n",
       "  </tbody>\n",
       "</table>\n",
       "</div>"
      ],
      "text/plain": [
       "                      document  \\\n",
       "0  07_malignes-melanom_0207_20   \n",
       "1  07_malignes-melanom_0207_20   \n",
       "2  07_malignes-melanom_0207_20   \n",
       "3  07_malignes-melanom_0207_20   \n",
       "4  07_malignes-melanom_0207_20   \n",
       "5  07_malignes-melanom_0207_20   \n",
       "\n",
       "                                                text  \\\n",
       "0  Immuntherapien mit anti-CTLA4 und anti-PD1 Ant...   \n",
       "1                                         anti-CTLA4   \n",
       "2                 anti-CTLA4 und anti-PD1 Antikörper   \n",
       "3                                anti-PD1 Antikörper   \n",
       "4                                                 CK   \n",
       "5                       Auftreten kardialer Symptome   \n",
       "\n",
       "                         type  start  end       cui                tuis  \\\n",
       "0                 Therapeutic     14   67  C1367202  [T116, T121, T129]   \n",
       "1               Clinical_Drug     33   43  C4289973              [T116]   \n",
       "2               Clinical_Drug     33   67  C4289973              [T116]   \n",
       "3               Clinical_Drug     48   67  C4289970  [T116, T121, T129]   \n",
       "4  Nutrient_or_Body_Substance     79   81  C0010287        [T116, T126]   \n",
       "5      Diagnosis_or_Pathology    127  155  C0476270              [T184]   \n",
       "\n",
       "                         canonical            linker  confidence  \n",
       "0                       Ipilimumab         [sapbert]    0.064058  \n",
       "1  Anti-CTLA-4 Monoclonal Antibody  [ngram, sapbert]    0.068610  \n",
       "2  Anti-CTLA-4 Monoclonal Antibody  [ngram, sapbert]    0.065451  \n",
       "3     Anti-PD1 Monoclonal Antibody  [ngram, sapbert]    0.069229  \n",
       "4                    Creatinkinase  [ngram, sapbert]    0.082112  \n",
       "5          Cardiovascular symptoms  [ngram, sapbert]    0.068689  "
      ]
     },
     "metadata": {},
     "output_type": "display_data"
    },
    {
     "data": {
      "application/vnd.jupyter.widget-view+json": {
       "model_id": "fa5551cf2900459a88ad9d0608f1eb1f",
       "version_major": 2,
       "version_minor": 0
      },
      "text/plain": [
       "  0%|          | 0/1 [00:00<?, ?it/s]"
      ]
     },
     "metadata": {},
     "output_type": "display_data"
    },
    {
     "data": {
      "text/html": [
       "<div>\n",
       "<style scoped>\n",
       "    .dataframe tbody tr th:only-of-type {\n",
       "        vertical-align: middle;\n",
       "    }\n",
       "\n",
       "    .dataframe tbody tr th {\n",
       "        vertical-align: top;\n",
       "    }\n",
       "\n",
       "    .dataframe thead th {\n",
       "        text-align: right;\n",
       "    }\n",
       "</style>\n",
       "<table border=\"1\" class=\"dataframe\">\n",
       "  <thead>\n",
       "    <tr style=\"text-align: right;\">\n",
       "      <th></th>\n",
       "      <th>document</th>\n",
       "      <th>text</th>\n",
       "      <th>type</th>\n",
       "      <th>start</th>\n",
       "      <th>end</th>\n",
       "      <th>cui</th>\n",
       "      <th>tuis</th>\n",
       "      <th>canonical</th>\n",
       "      <th>linker</th>\n",
       "      <th>confidence</th>\n",
       "    </tr>\n",
       "  </thead>\n",
       "  <tbody>\n",
       "    <tr>\n",
       "      <th>0</th>\n",
       "      <td>07_malignes-melanom_0207_20</td>\n",
       "      <td>Immuntherapien mit anti-CTLA4 Antikörper</td>\n",
       "      <td>Therapeutic</td>\n",
       "      <td>14</td>\n",
       "      <td>54</td>\n",
       "      <td>C1367202</td>\n",
       "      <td>[T116, T121, T129]</td>\n",
       "      <td>Ipilimumab</td>\n",
       "      <td>[sapbert]</td>\n",
       "      <td>0.065093</td>\n",
       "    </tr>\n",
       "    <tr>\n",
       "      <th>1</th>\n",
       "      <td>07_malignes-melanom_0207_20</td>\n",
       "      <td>Immuntherapien mit anti-CTLA4 Antikörper und a...</td>\n",
       "      <td>Therapeutic</td>\n",
       "      <td>14</td>\n",
       "      <td>78</td>\n",
       "      <td>C1367202</td>\n",
       "      <td>[T116, T121, T129]</td>\n",
       "      <td>Ipilimumab</td>\n",
       "      <td>[sapbert]</td>\n",
       "      <td>0.063891</td>\n",
       "    </tr>\n",
       "    <tr>\n",
       "      <th>2</th>\n",
       "      <td>07_malignes-melanom_0207_20</td>\n",
       "      <td>anti-CTLA4 Antikörper</td>\n",
       "      <td>Clinical_Drug</td>\n",
       "      <td>33</td>\n",
       "      <td>54</td>\n",
       "      <td>C4289973</td>\n",
       "      <td>[T116]</td>\n",
       "      <td>Anti-CTLA-4 Monoclonal Antibody</td>\n",
       "      <td>[ngram, sapbert]</td>\n",
       "      <td>0.069343</td>\n",
       "    </tr>\n",
       "    <tr>\n",
       "      <th>3</th>\n",
       "      <td>07_malignes-melanom_0207_20</td>\n",
       "      <td>anti-CTLA4 Antikörper und anti-PD1 Antikörper</td>\n",
       "      <td>Clinical_Drug</td>\n",
       "      <td>33</td>\n",
       "      <td>78</td>\n",
       "      <td>C4289973</td>\n",
       "      <td>[T116]</td>\n",
       "      <td>Anti-CTLA-4 Monoclonal Antibody</td>\n",
       "      <td>[sapbert]</td>\n",
       "      <td>0.065643</td>\n",
       "    </tr>\n",
       "    <tr>\n",
       "      <th>4</th>\n",
       "      <td>07_malignes-melanom_0207_20</td>\n",
       "      <td>anti-PD1 Antikörper</td>\n",
       "      <td>Clinical_Drug</td>\n",
       "      <td>59</td>\n",
       "      <td>78</td>\n",
       "      <td>C4289970</td>\n",
       "      <td>[T116, T121, T129]</td>\n",
       "      <td>Anti-PD1 Monoclonal Antibody</td>\n",
       "      <td>[ngram, sapbert]</td>\n",
       "      <td>0.068685</td>\n",
       "    </tr>\n",
       "    <tr>\n",
       "      <th>5</th>\n",
       "      <td>07_malignes-melanom_0207_20</td>\n",
       "      <td>CK</td>\n",
       "      <td>Nutrient_or_Body_Substance</td>\n",
       "      <td>90</td>\n",
       "      <td>92</td>\n",
       "      <td>C0010287</td>\n",
       "      <td>[T116, T126]</td>\n",
       "      <td>Creatinkinase</td>\n",
       "      <td>[ngram, sapbert]</td>\n",
       "      <td>0.083508</td>\n",
       "    </tr>\n",
       "    <tr>\n",
       "      <th>6</th>\n",
       "      <td>07_malignes-melanom_0207_20</td>\n",
       "      <td>Auftreten kardialer Symptome</td>\n",
       "      <td>Diagnosis_or_Pathology</td>\n",
       "      <td>138</td>\n",
       "      <td>166</td>\n",
       "      <td>C0476270</td>\n",
       "      <td>[T184]</td>\n",
       "      <td>Cardiovascular symptoms</td>\n",
       "      <td>[ngram, sapbert]</td>\n",
       "      <td>0.069976</td>\n",
       "    </tr>\n",
       "  </tbody>\n",
       "</table>\n",
       "</div>"
      ],
      "text/plain": [
       "                      document  \\\n",
       "0  07_malignes-melanom_0207_20   \n",
       "1  07_malignes-melanom_0207_20   \n",
       "2  07_malignes-melanom_0207_20   \n",
       "3  07_malignes-melanom_0207_20   \n",
       "4  07_malignes-melanom_0207_20   \n",
       "5  07_malignes-melanom_0207_20   \n",
       "6  07_malignes-melanom_0207_20   \n",
       "\n",
       "                                                text  \\\n",
       "0           Immuntherapien mit anti-CTLA4 Antikörper   \n",
       "1  Immuntherapien mit anti-CTLA4 Antikörper und a...   \n",
       "2                              anti-CTLA4 Antikörper   \n",
       "3      anti-CTLA4 Antikörper und anti-PD1 Antikörper   \n",
       "4                                anti-PD1 Antikörper   \n",
       "5                                                 CK   \n",
       "6                       Auftreten kardialer Symptome   \n",
       "\n",
       "                         type  start  end       cui                tuis  \\\n",
       "0                 Therapeutic     14   54  C1367202  [T116, T121, T129]   \n",
       "1                 Therapeutic     14   78  C1367202  [T116, T121, T129]   \n",
       "2               Clinical_Drug     33   54  C4289973              [T116]   \n",
       "3               Clinical_Drug     33   78  C4289973              [T116]   \n",
       "4               Clinical_Drug     59   78  C4289970  [T116, T121, T129]   \n",
       "5  Nutrient_or_Body_Substance     90   92  C0010287        [T116, T126]   \n",
       "6      Diagnosis_or_Pathology    138  166  C0476270              [T184]   \n",
       "\n",
       "                         canonical            linker  confidence  \n",
       "0                       Ipilimumab         [sapbert]    0.065093  \n",
       "1                       Ipilimumab         [sapbert]    0.063891  \n",
       "2  Anti-CTLA-4 Monoclonal Antibody  [ngram, sapbert]    0.069343  \n",
       "3  Anti-CTLA-4 Monoclonal Antibody         [sapbert]    0.065643  \n",
       "4     Anti-PD1 Monoclonal Antibody  [ngram, sapbert]    0.068685  \n",
       "5                    Creatinkinase  [ngram, sapbert]    0.083508  \n",
       "6          Cardiovascular symptoms  [ngram, sapbert]    0.069976  "
      ]
     },
     "metadata": {},
     "output_type": "display_data"
    },
    {
     "name": "stdout",
     "output_type": "stream",
     "text": [
      "Difference 17\n"
     ]
    },
    {
     "data": {
      "text/markdown": [
       "Kommt es unter der BRAF/MEK-Inhibitortherapie zu einer QTc-Verlängerung im EKG, muss die Dosis reduziert, die Medikamentengabe ausgesetzt oder ganz abgebrochen werden."
      ],
      "text/plain": [
       "<IPython.core.display.Markdown object>"
      ]
     },
     "metadata": {},
     "output_type": "display_data"
    },
    {
     "data": {
      "text/markdown": [
       "Kommt es unter der BRAF-Inhibitortherapie/MEK-Inhibitortherapie zu einer QTc-Verlängerung im EKG, muss die Dosis reduziert, die Medikamentengabe ausgesetzt oder ganz abgebrochen werden."
      ],
      "text/plain": [
       "<IPython.core.display.Markdown object>"
      ]
     },
     "metadata": {},
     "output_type": "display_data"
    },
    {
     "data": {
      "text/html": [
       "<html><body><div>Kommt es unter der BRAF<span style=\"background-color: lightgreen;\">-Inhibitortherapie</span>/MEK-Inhibitortherapie zu einer QTc-Verlängerung im EKG, muss die Dosis reduziert, die Medikamentengabe ausgesetzt oder ganz abgebrochen werden.</div></body></html>"
      ],
      "text/plain": [
       "<IPython.core.display.HTML object>"
      ]
     },
     "metadata": {},
     "output_type": "display_data"
    },
    {
     "data": {
      "application/vnd.jupyter.widget-view+json": {
       "model_id": "85c54d87c06d446f8ad18f649139ed04",
       "version_major": 2,
       "version_minor": 0
      },
      "text/plain": [
       "  0%|          | 0/1 [00:00<?, ?it/s]"
      ]
     },
     "metadata": {},
     "output_type": "display_data"
    },
    {
     "data": {
      "text/html": [
       "<div>\n",
       "<style scoped>\n",
       "    .dataframe tbody tr th:only-of-type {\n",
       "        vertical-align: middle;\n",
       "    }\n",
       "\n",
       "    .dataframe tbody tr th {\n",
       "        vertical-align: top;\n",
       "    }\n",
       "\n",
       "    .dataframe thead th {\n",
       "        text-align: right;\n",
       "    }\n",
       "</style>\n",
       "<table border=\"1\" class=\"dataframe\">\n",
       "  <thead>\n",
       "    <tr style=\"text-align: right;\">\n",
       "      <th></th>\n",
       "      <th>document</th>\n",
       "      <th>text</th>\n",
       "      <th>type</th>\n",
       "      <th>start</th>\n",
       "      <th>end</th>\n",
       "      <th>cui</th>\n",
       "      <th>tuis</th>\n",
       "      <th>canonical</th>\n",
       "      <th>linker</th>\n",
       "      <th>confidence</th>\n",
       "    </tr>\n",
       "  </thead>\n",
       "  <tbody>\n",
       "    <tr>\n",
       "      <th>0</th>\n",
       "      <td>07_malignes-melanom_0207_26</td>\n",
       "      <td>BRAF</td>\n",
       "      <td>Therapeutic</td>\n",
       "      <td>19</td>\n",
       "      <td>23</td>\n",
       "      <td>C1259929</td>\n",
       "      <td>[T116, T123]</td>\n",
       "      <td>94 kDa B-raf Protein</td>\n",
       "      <td>[ngram, sapbert]</td>\n",
       "      <td>0.081087</td>\n",
       "    </tr>\n",
       "    <tr>\n",
       "      <th>1</th>\n",
       "      <td>07_malignes-melanom_0207_26</td>\n",
       "      <td>BRAF/MEK-Inhibitortherapie</td>\n",
       "      <td>Therapeutic</td>\n",
       "      <td>19</td>\n",
       "      <td>45</td>\n",
       "      <td>C4521853</td>\n",
       "      <td>[T080]</td>\n",
       "      <td>B-Raf inhibitor</td>\n",
       "      <td>[ngram, sapbert]</td>\n",
       "      <td>0.064073</td>\n",
       "    </tr>\n",
       "    <tr>\n",
       "      <th>2</th>\n",
       "      <td>07_malignes-melanom_0207_26</td>\n",
       "      <td>MEK-Inhibitortherapie</td>\n",
       "      <td>Therapeutic</td>\n",
       "      <td>24</td>\n",
       "      <td>45</td>\n",
       "      <td>C2347168</td>\n",
       "      <td>[T121]</td>\n",
       "      <td>MAPKK Inhibitor</td>\n",
       "      <td>[ngram, sapbert]</td>\n",
       "      <td>0.064913</td>\n",
       "    </tr>\n",
       "    <tr>\n",
       "      <th>3</th>\n",
       "      <td>07_malignes-melanom_0207_26</td>\n",
       "      <td>QTc-Verlängerung im EKG</td>\n",
       "      <td>Diagnosis_or_Pathology</td>\n",
       "      <td>55</td>\n",
       "      <td>78</td>\n",
       "      <td>C0855333</td>\n",
       "      <td>[T033]</td>\n",
       "      <td>Elektrokardiogramm QT-korrigiertes Intervall v...</td>\n",
       "      <td>[ngram, sapbert]</td>\n",
       "      <td>0.067988</td>\n",
       "    </tr>\n",
       "    <tr>\n",
       "      <th>4</th>\n",
       "      <td>07_malignes-melanom_0207_26</td>\n",
       "      <td>Medikamentengabe</td>\n",
       "      <td>Therapeutic</td>\n",
       "      <td>110</td>\n",
       "      <td>126</td>\n",
       "      <td>C0001563</td>\n",
       "      <td>[T061]</td>\n",
       "      <td>Administration, Oral</td>\n",
       "      <td>[sapbert]</td>\n",
       "      <td>0.067705</td>\n",
       "    </tr>\n",
       "  </tbody>\n",
       "</table>\n",
       "</div>"
      ],
      "text/plain": [
       "                      document                        text  \\\n",
       "0  07_malignes-melanom_0207_26                        BRAF   \n",
       "1  07_malignes-melanom_0207_26  BRAF/MEK-Inhibitortherapie   \n",
       "2  07_malignes-melanom_0207_26       MEK-Inhibitortherapie   \n",
       "3  07_malignes-melanom_0207_26     QTc-Verlängerung im EKG   \n",
       "4  07_malignes-melanom_0207_26            Medikamentengabe   \n",
       "\n",
       "                     type  start  end       cui          tuis  \\\n",
       "0             Therapeutic     19   23  C1259929  [T116, T123]   \n",
       "1             Therapeutic     19   45  C4521853        [T080]   \n",
       "2             Therapeutic     24   45  C2347168        [T121]   \n",
       "3  Diagnosis_or_Pathology     55   78  C0855333        [T033]   \n",
       "4             Therapeutic    110  126  C0001563        [T061]   \n",
       "\n",
       "                                           canonical            linker  \\\n",
       "0                               94 kDa B-raf Protein  [ngram, sapbert]   \n",
       "1                                    B-Raf inhibitor  [ngram, sapbert]   \n",
       "2                                    MAPKK Inhibitor  [ngram, sapbert]   \n",
       "3  Elektrokardiogramm QT-korrigiertes Intervall v...  [ngram, sapbert]   \n",
       "4                               Administration, Oral         [sapbert]   \n",
       "\n",
       "   confidence  \n",
       "0    0.081087  \n",
       "1    0.064073  \n",
       "2    0.064913  \n",
       "3    0.067988  \n",
       "4    0.067705  "
      ]
     },
     "metadata": {},
     "output_type": "display_data"
    },
    {
     "data": {
      "application/vnd.jupyter.widget-view+json": {
       "model_id": "122ec39ec605431fb7389b84ede2640e",
       "version_major": 2,
       "version_minor": 0
      },
      "text/plain": [
       "  0%|          | 0/1 [00:00<?, ?it/s]"
      ]
     },
     "metadata": {},
     "output_type": "display_data"
    },
    {
     "data": {
      "text/html": [
       "<div>\n",
       "<style scoped>\n",
       "    .dataframe tbody tr th:only-of-type {\n",
       "        vertical-align: middle;\n",
       "    }\n",
       "\n",
       "    .dataframe tbody tr th {\n",
       "        vertical-align: top;\n",
       "    }\n",
       "\n",
       "    .dataframe thead th {\n",
       "        text-align: right;\n",
       "    }\n",
       "</style>\n",
       "<table border=\"1\" class=\"dataframe\">\n",
       "  <thead>\n",
       "    <tr style=\"text-align: right;\">\n",
       "      <th></th>\n",
       "      <th>document</th>\n",
       "      <th>text</th>\n",
       "      <th>type</th>\n",
       "      <th>start</th>\n",
       "      <th>end</th>\n",
       "      <th>cui</th>\n",
       "      <th>tuis</th>\n",
       "      <th>canonical</th>\n",
       "      <th>linker</th>\n",
       "      <th>confidence</th>\n",
       "    </tr>\n",
       "  </thead>\n",
       "  <tbody>\n",
       "    <tr>\n",
       "      <th>0</th>\n",
       "      <td>07_malignes-melanom_0207_26</td>\n",
       "      <td>BRAF-Inhibitortherapie</td>\n",
       "      <td>Therapeutic</td>\n",
       "      <td>19</td>\n",
       "      <td>41</td>\n",
       "      <td>C3838813</td>\n",
       "      <td>[T116, T121]</td>\n",
       "      <td>B-Raf inhibitor</td>\n",
       "      <td>[ngram, sapbert]</td>\n",
       "      <td>0.069738</td>\n",
       "    </tr>\n",
       "    <tr>\n",
       "      <th>1</th>\n",
       "      <td>07_malignes-melanom_0207_26</td>\n",
       "      <td>MEK-Inhibitortherapie</td>\n",
       "      <td>Therapeutic</td>\n",
       "      <td>42</td>\n",
       "      <td>63</td>\n",
       "      <td>C2347168</td>\n",
       "      <td>[T121]</td>\n",
       "      <td>MAPKK Inhibitor</td>\n",
       "      <td>[ngram, sapbert]</td>\n",
       "      <td>0.065341</td>\n",
       "    </tr>\n",
       "    <tr>\n",
       "      <th>2</th>\n",
       "      <td>07_malignes-melanom_0207_26</td>\n",
       "      <td>QTc-Verlängerung im EKG</td>\n",
       "      <td>Diagnosis_or_Pathology</td>\n",
       "      <td>73</td>\n",
       "      <td>96</td>\n",
       "      <td>C0855333</td>\n",
       "      <td>[T033]</td>\n",
       "      <td>Elektrokardiogramm QT-korrigiertes Intervall v...</td>\n",
       "      <td>[ngram, sapbert]</td>\n",
       "      <td>0.067433</td>\n",
       "    </tr>\n",
       "    <tr>\n",
       "      <th>3</th>\n",
       "      <td>07_malignes-melanom_0207_26</td>\n",
       "      <td>Medikamentengabe</td>\n",
       "      <td>Therapeutic</td>\n",
       "      <td>128</td>\n",
       "      <td>144</td>\n",
       "      <td>C0001563</td>\n",
       "      <td>[T061]</td>\n",
       "      <td>Administration, Oral</td>\n",
       "      <td>[sapbert]</td>\n",
       "      <td>0.067696</td>\n",
       "    </tr>\n",
       "  </tbody>\n",
       "</table>\n",
       "</div>"
      ],
      "text/plain": [
       "                      document                     text  \\\n",
       "0  07_malignes-melanom_0207_26   BRAF-Inhibitortherapie   \n",
       "1  07_malignes-melanom_0207_26    MEK-Inhibitortherapie   \n",
       "2  07_malignes-melanom_0207_26  QTc-Verlängerung im EKG   \n",
       "3  07_malignes-melanom_0207_26         Medikamentengabe   \n",
       "\n",
       "                     type  start  end       cui          tuis  \\\n",
       "0             Therapeutic     19   41  C3838813  [T116, T121]   \n",
       "1             Therapeutic     42   63  C2347168        [T121]   \n",
       "2  Diagnosis_or_Pathology     73   96  C0855333        [T033]   \n",
       "3             Therapeutic    128  144  C0001563        [T061]   \n",
       "\n",
       "                                           canonical            linker  \\\n",
       "0                                    B-Raf inhibitor  [ngram, sapbert]   \n",
       "1                                    MAPKK Inhibitor  [ngram, sapbert]   \n",
       "2  Elektrokardiogramm QT-korrigiertes Intervall v...  [ngram, sapbert]   \n",
       "3                               Administration, Oral         [sapbert]   \n",
       "\n",
       "   confidence  \n",
       "0    0.069738  \n",
       "1    0.065341  \n",
       "2    0.067433  \n",
       "3    0.067696  "
      ]
     },
     "metadata": {},
     "output_type": "display_data"
    },
    {
     "name": "stdout",
     "output_type": "stream",
     "text": [
      "Difference 18\n"
     ]
    },
    {
     "data": {
      "text/markdown": [
       "In die „RAPID“-Studie des britischen „National Cancer Research Institute“(NCRI) wurden Patienten im Stadium IA/IIA eines klassischen Hodgkin Lymphoms (bei Diagnosestellung lag bei ca. 70% der Patienten nach der GHSG-Risikostratifizierung ein frühes Stadium vor) bei Vorliegen eines negativen PET/CTs nach drei Zyklen ABVD entweder in einen Nachbeobachtungsarm oder in einen Therapiearm mit konsolidierender Strahlentherapie mit 30 Gy IF-RT randomisiert."
      ],
      "text/plain": [
       "<IPython.core.display.Markdown object>"
      ]
     },
     "metadata": {},
     "output_type": "display_data"
    },
    {
     "data": {
      "text/markdown": [
       "In die „RAPID“-Studie des britischen „National Cancer Research Institute“(NCRI) wurden Patienten im Stadium IA/Stadium IIA eines klassischen Hodgkin Lymphoms (bei Diagnosestellung lag bei ca. 70% der Patienten nach der GHSG-Risikostratifizierung ein frühes Stadium vor) bei Vorliegen eines negativen PET/CTs nach drei Zyklen ABVD entweder in einen Nachbeobachtungsarm oder in einen Therapiearm mit konsolidierender Strahlentherapie mit 30 Gy IF-RT randomisiert."
      ],
      "text/plain": [
       "<IPython.core.display.Markdown object>"
      ]
     },
     "metadata": {},
     "output_type": "display_data"
    },
    {
     "data": {
      "text/html": [
       "<html><body><div>In die „RAPID“-Studie des britischen „National Cancer Research Institute“(NCRI) wurden Patienten im Stadium IA/<span style=\"background-color: lightgreen;\">Stadium </span>IIA eines klassischen Hodgkin Lymphoms (bei Diagnosestellung lag bei ca. 70% der Patienten nach der GHSG-Risikostratifizierung ein frühes Stadium vor) bei Vorliegen eines negativen PET/CTs nach drei Zyklen ABVD entweder in einen Nachbeobachtungsarm oder in einen Therapiearm mit konsolidierender Strahlentherapie mit 30 Gy IF-RT randomisiert.</div></body></html>"
      ],
      "text/plain": [
       "<IPython.core.display.HTML object>"
      ]
     },
     "metadata": {},
     "output_type": "display_data"
    },
    {
     "data": {
      "application/vnd.jupyter.widget-view+json": {
       "model_id": "c88238ce22b64acba605d0e2ce345c50",
       "version_major": 2,
       "version_minor": 0
      },
      "text/plain": [
       "  0%|          | 0/1 [00:00<?, ?it/s]"
      ]
     },
     "metadata": {},
     "output_type": "display_data"
    },
    {
     "data": {
      "text/html": [
       "<div>\n",
       "<style scoped>\n",
       "    .dataframe tbody tr th:only-of-type {\n",
       "        vertical-align: middle;\n",
       "    }\n",
       "\n",
       "    .dataframe tbody tr th {\n",
       "        vertical-align: top;\n",
       "    }\n",
       "\n",
       "    .dataframe thead th {\n",
       "        text-align: right;\n",
       "    }\n",
       "</style>\n",
       "<table border=\"1\" class=\"dataframe\">\n",
       "  <thead>\n",
       "    <tr style=\"text-align: right;\">\n",
       "      <th></th>\n",
       "      <th>document</th>\n",
       "      <th>text</th>\n",
       "      <th>type</th>\n",
       "      <th>start</th>\n",
       "      <th>end</th>\n",
       "      <th>cui</th>\n",
       "      <th>tuis</th>\n",
       "      <th>canonical</th>\n",
       "      <th>linker</th>\n",
       "      <th>confidence</th>\n",
       "    </tr>\n",
       "  </thead>\n",
       "  <tbody>\n",
       "    <tr>\n",
       "      <th>0</th>\n",
       "      <td>18_hodgkin-lymphom_0051_5</td>\n",
       "      <td>Cancer</td>\n",
       "      <td>Diagnosis_or_Pathology</td>\n",
       "      <td>47</td>\n",
       "      <td>53</td>\n",
       "      <td>C0006826</td>\n",
       "      <td>[T191]</td>\n",
       "      <td>Krebserkrankung</td>\n",
       "      <td>[ngram, sapbert]</td>\n",
       "      <td>0.118521</td>\n",
       "    </tr>\n",
       "    <tr>\n",
       "      <th>1</th>\n",
       "      <td>18_hodgkin-lymphom_0051_5</td>\n",
       "      <td>Stadium IA/IIA eines klassischen Hodgkin Lymphoms</td>\n",
       "      <td>Diagnosis_or_Pathology</td>\n",
       "      <td>100</td>\n",
       "      <td>149</td>\n",
       "      <td>C0262516</td>\n",
       "      <td>[T191]</td>\n",
       "      <td>Ann Arbor Stage IIA Hodgkin Lymphoma</td>\n",
       "      <td>[ngram, sapbert]</td>\n",
       "      <td>0.068773</td>\n",
       "    </tr>\n",
       "    <tr>\n",
       "      <th>2</th>\n",
       "      <td>18_hodgkin-lymphom_0051_5</td>\n",
       "      <td>Diagnosestellung</td>\n",
       "      <td>Diagnostic</td>\n",
       "      <td>155</td>\n",
       "      <td>171</td>\n",
       "      <td>C0011900</td>\n",
       "      <td>[T060]</td>\n",
       "      <td>Diagnostik</td>\n",
       "      <td>[ngram, sapbert]</td>\n",
       "      <td>0.079946</td>\n",
       "    </tr>\n",
       "    <tr>\n",
       "      <th>3</th>\n",
       "      <td>18_hodgkin-lymphom_0051_5</td>\n",
       "      <td>GHSG-Risikostratifizierung</td>\n",
       "      <td>Diagnostic</td>\n",
       "      <td>211</td>\n",
       "      <td>237</td>\n",
       "      <td>C0391690</td>\n",
       "      <td>[T116, T192]</td>\n",
       "      <td>Rezeptoren, Ghrelin-</td>\n",
       "      <td>[sapbert]</td>\n",
       "      <td>0.063205</td>\n",
       "    </tr>\n",
       "    <tr>\n",
       "      <th>4</th>\n",
       "      <td>18_hodgkin-lymphom_0051_5</td>\n",
       "      <td>frühes Stadium</td>\n",
       "      <td>Diagnosis_or_Pathology</td>\n",
       "      <td>242</td>\n",
       "      <td>256</td>\n",
       "      <td>C2363430</td>\n",
       "      <td>[T079]</td>\n",
       "      <td>Early stage</td>\n",
       "      <td>[sapbert]</td>\n",
       "      <td>0.141263</td>\n",
       "    </tr>\n",
       "    <tr>\n",
       "      <th>5</th>\n",
       "      <td>18_hodgkin-lymphom_0051_5</td>\n",
       "      <td>drei Zyklen ABVD</td>\n",
       "      <td>Therapeutic</td>\n",
       "      <td>305</td>\n",
       "      <td>321</td>\n",
       "      <td>C0050380</td>\n",
       "      <td>[T061]</td>\n",
       "      <td>BLEO/DOX/DTIC/VBL</td>\n",
       "      <td>[ngram, sapbert]</td>\n",
       "      <td>0.067385</td>\n",
       "    </tr>\n",
       "    <tr>\n",
       "      <th>6</th>\n",
       "      <td>18_hodgkin-lymphom_0051_5</td>\n",
       "      <td>Nachbeobachtungsarm</td>\n",
       "      <td>Diagnostic</td>\n",
       "      <td>340</td>\n",
       "      <td>359</td>\n",
       "      <td>C4684721</td>\n",
       "      <td>[T058]</td>\n",
       "      <td>Observer Assessment</td>\n",
       "      <td>[sapbert]</td>\n",
       "      <td>0.082006</td>\n",
       "    </tr>\n",
       "    <tr>\n",
       "      <th>7</th>\n",
       "      <td>18_hodgkin-lymphom_0051_5</td>\n",
       "      <td>Therapiearm mit konsolidierender Strahlenthera...</td>\n",
       "      <td>Therapeutic</td>\n",
       "      <td>374</td>\n",
       "      <td>439</td>\n",
       "      <td>C5546632</td>\n",
       "      <td>[T061]</td>\n",
       "      <td>Radiation therapy following chemotherapy</td>\n",
       "      <td>[sapbert]</td>\n",
       "      <td>0.063963</td>\n",
       "    </tr>\n",
       "  </tbody>\n",
       "</table>\n",
       "</div>"
      ],
      "text/plain": [
       "                    document  \\\n",
       "0  18_hodgkin-lymphom_0051_5   \n",
       "1  18_hodgkin-lymphom_0051_5   \n",
       "2  18_hodgkin-lymphom_0051_5   \n",
       "3  18_hodgkin-lymphom_0051_5   \n",
       "4  18_hodgkin-lymphom_0051_5   \n",
       "5  18_hodgkin-lymphom_0051_5   \n",
       "6  18_hodgkin-lymphom_0051_5   \n",
       "7  18_hodgkin-lymphom_0051_5   \n",
       "\n",
       "                                                text                    type  \\\n",
       "0                                             Cancer  Diagnosis_or_Pathology   \n",
       "1  Stadium IA/IIA eines klassischen Hodgkin Lymphoms  Diagnosis_or_Pathology   \n",
       "2                                   Diagnosestellung              Diagnostic   \n",
       "3                         GHSG-Risikostratifizierung              Diagnostic   \n",
       "4                                     frühes Stadium  Diagnosis_or_Pathology   \n",
       "5                                   drei Zyklen ABVD             Therapeutic   \n",
       "6                                Nachbeobachtungsarm              Diagnostic   \n",
       "7  Therapiearm mit konsolidierender Strahlenthera...             Therapeutic   \n",
       "\n",
       "   start  end       cui          tuis  \\\n",
       "0     47   53  C0006826        [T191]   \n",
       "1    100  149  C0262516        [T191]   \n",
       "2    155  171  C0011900        [T060]   \n",
       "3    211  237  C0391690  [T116, T192]   \n",
       "4    242  256  C2363430        [T079]   \n",
       "5    305  321  C0050380        [T061]   \n",
       "6    340  359  C4684721        [T058]   \n",
       "7    374  439  C5546632        [T061]   \n",
       "\n",
       "                                  canonical            linker  confidence  \n",
       "0                           Krebserkrankung  [ngram, sapbert]    0.118521  \n",
       "1      Ann Arbor Stage IIA Hodgkin Lymphoma  [ngram, sapbert]    0.068773  \n",
       "2                                Diagnostik  [ngram, sapbert]    0.079946  \n",
       "3                      Rezeptoren, Ghrelin-         [sapbert]    0.063205  \n",
       "4                               Early stage         [sapbert]    0.141263  \n",
       "5                         BLEO/DOX/DTIC/VBL  [ngram, sapbert]    0.067385  \n",
       "6                       Observer Assessment         [sapbert]    0.082006  \n",
       "7  Radiation therapy following chemotherapy         [sapbert]    0.063963  "
      ]
     },
     "metadata": {},
     "output_type": "display_data"
    },
    {
     "data": {
      "application/vnd.jupyter.widget-view+json": {
       "model_id": "00ddfe625ddd4f029e0d98d302040926",
       "version_major": 2,
       "version_minor": 0
      },
      "text/plain": [
       "  0%|          | 0/1 [00:00<?, ?it/s]"
      ]
     },
     "metadata": {},
     "output_type": "display_data"
    },
    {
     "data": {
      "text/html": [
       "<div>\n",
       "<style scoped>\n",
       "    .dataframe tbody tr th:only-of-type {\n",
       "        vertical-align: middle;\n",
       "    }\n",
       "\n",
       "    .dataframe tbody tr th {\n",
       "        vertical-align: top;\n",
       "    }\n",
       "\n",
       "    .dataframe thead th {\n",
       "        text-align: right;\n",
       "    }\n",
       "</style>\n",
       "<table border=\"1\" class=\"dataframe\">\n",
       "  <thead>\n",
       "    <tr style=\"text-align: right;\">\n",
       "      <th></th>\n",
       "      <th>document</th>\n",
       "      <th>text</th>\n",
       "      <th>type</th>\n",
       "      <th>start</th>\n",
       "      <th>end</th>\n",
       "      <th>cui</th>\n",
       "      <th>tuis</th>\n",
       "      <th>canonical</th>\n",
       "      <th>linker</th>\n",
       "      <th>confidence</th>\n",
       "    </tr>\n",
       "  </thead>\n",
       "  <tbody>\n",
       "    <tr>\n",
       "      <th>0</th>\n",
       "      <td>18_hodgkin-lymphom_0051_5</td>\n",
       "      <td>Cancer</td>\n",
       "      <td>Diagnosis_or_Pathology</td>\n",
       "      <td>47</td>\n",
       "      <td>53</td>\n",
       "      <td>C0006826</td>\n",
       "      <td>[T191]</td>\n",
       "      <td>Krebserkrankung</td>\n",
       "      <td>[ngram, sapbert]</td>\n",
       "      <td>0.118089</td>\n",
       "    </tr>\n",
       "    <tr>\n",
       "      <th>1</th>\n",
       "      <td>18_hodgkin-lymphom_0051_5</td>\n",
       "      <td>Diagnosestellung</td>\n",
       "      <td>Diagnostic</td>\n",
       "      <td>163</td>\n",
       "      <td>179</td>\n",
       "      <td>C0011900</td>\n",
       "      <td>[T060]</td>\n",
       "      <td>Diagnostik</td>\n",
       "      <td>[ngram, sapbert]</td>\n",
       "      <td>0.079933</td>\n",
       "    </tr>\n",
       "    <tr>\n",
       "      <th>2</th>\n",
       "      <td>18_hodgkin-lymphom_0051_5</td>\n",
       "      <td>GHSG-Risikostratifizierung</td>\n",
       "      <td>Diagnostic</td>\n",
       "      <td>219</td>\n",
       "      <td>245</td>\n",
       "      <td>C0391690</td>\n",
       "      <td>[T116, T192]</td>\n",
       "      <td>Rezeptoren, Ghrelin-</td>\n",
       "      <td>[sapbert]</td>\n",
       "      <td>0.063113</td>\n",
       "    </tr>\n",
       "    <tr>\n",
       "      <th>3</th>\n",
       "      <td>18_hodgkin-lymphom_0051_5</td>\n",
       "      <td>frühes Stadium</td>\n",
       "      <td>Diagnosis_or_Pathology</td>\n",
       "      <td>250</td>\n",
       "      <td>264</td>\n",
       "      <td>C2363430</td>\n",
       "      <td>[T079]</td>\n",
       "      <td>Early stage</td>\n",
       "      <td>[sapbert]</td>\n",
       "      <td>0.141263</td>\n",
       "    </tr>\n",
       "    <tr>\n",
       "      <th>4</th>\n",
       "      <td>18_hodgkin-lymphom_0051_5</td>\n",
       "      <td>drei Zyklen ABVD</td>\n",
       "      <td>Therapeutic</td>\n",
       "      <td>313</td>\n",
       "      <td>329</td>\n",
       "      <td>C0050380</td>\n",
       "      <td>[T061]</td>\n",
       "      <td>BLEO/DOX/DTIC/VBL</td>\n",
       "      <td>[ngram, sapbert]</td>\n",
       "      <td>0.067385</td>\n",
       "    </tr>\n",
       "    <tr>\n",
       "      <th>5</th>\n",
       "      <td>18_hodgkin-lymphom_0051_5</td>\n",
       "      <td>Nachbeobachtungsarm</td>\n",
       "      <td>Diagnostic</td>\n",
       "      <td>348</td>\n",
       "      <td>367</td>\n",
       "      <td>C4684721</td>\n",
       "      <td>[T058]</td>\n",
       "      <td>Observer Assessment</td>\n",
       "      <td>[sapbert]</td>\n",
       "      <td>0.082006</td>\n",
       "    </tr>\n",
       "    <tr>\n",
       "      <th>6</th>\n",
       "      <td>18_hodgkin-lymphom_0051_5</td>\n",
       "      <td>Therapiearm mit konsolidierender Strahlenthera...</td>\n",
       "      <td>Therapeutic</td>\n",
       "      <td>382</td>\n",
       "      <td>447</td>\n",
       "      <td>C5546632</td>\n",
       "      <td>[T061]</td>\n",
       "      <td>Radiation therapy following chemotherapy</td>\n",
       "      <td>[sapbert]</td>\n",
       "      <td>0.063963</td>\n",
       "    </tr>\n",
       "  </tbody>\n",
       "</table>\n",
       "</div>"
      ],
      "text/plain": [
       "                    document  \\\n",
       "0  18_hodgkin-lymphom_0051_5   \n",
       "1  18_hodgkin-lymphom_0051_5   \n",
       "2  18_hodgkin-lymphom_0051_5   \n",
       "3  18_hodgkin-lymphom_0051_5   \n",
       "4  18_hodgkin-lymphom_0051_5   \n",
       "5  18_hodgkin-lymphom_0051_5   \n",
       "6  18_hodgkin-lymphom_0051_5   \n",
       "\n",
       "                                                text                    type  \\\n",
       "0                                             Cancer  Diagnosis_or_Pathology   \n",
       "1                                   Diagnosestellung              Diagnostic   \n",
       "2                         GHSG-Risikostratifizierung              Diagnostic   \n",
       "3                                     frühes Stadium  Diagnosis_or_Pathology   \n",
       "4                                   drei Zyklen ABVD             Therapeutic   \n",
       "5                                Nachbeobachtungsarm              Diagnostic   \n",
       "6  Therapiearm mit konsolidierender Strahlenthera...             Therapeutic   \n",
       "\n",
       "   start  end       cui          tuis  \\\n",
       "0     47   53  C0006826        [T191]   \n",
       "1    163  179  C0011900        [T060]   \n",
       "2    219  245  C0391690  [T116, T192]   \n",
       "3    250  264  C2363430        [T079]   \n",
       "4    313  329  C0050380        [T061]   \n",
       "5    348  367  C4684721        [T058]   \n",
       "6    382  447  C5546632        [T061]   \n",
       "\n",
       "                                  canonical            linker  confidence  \n",
       "0                           Krebserkrankung  [ngram, sapbert]    0.118089  \n",
       "1                                Diagnostik  [ngram, sapbert]    0.079933  \n",
       "2                      Rezeptoren, Ghrelin-         [sapbert]    0.063113  \n",
       "3                               Early stage         [sapbert]    0.141263  \n",
       "4                         BLEO/DOX/DTIC/VBL  [ngram, sapbert]    0.067385  \n",
       "5                       Observer Assessment         [sapbert]    0.082006  \n",
       "6  Radiation therapy following chemotherapy         [sapbert]    0.063963  "
      ]
     },
     "metadata": {},
     "output_type": "display_data"
    },
    {
     "name": "stdout",
     "output_type": "stream",
     "text": [
      "Difference 19\n"
     ]
    },
    {
     "data": {
      "text/markdown": [
       "Empfehlungen zur Nachsorge nach Abschluss der Chemo- und Strahlentherapie"
      ],
      "text/plain": [
       "<IPython.core.display.Markdown object>"
      ]
     },
     "metadata": {},
     "output_type": "display_data"
    },
    {
     "data": {
      "text/markdown": [
       "Empfehlungen zur Nachsorge nach Abschluss der Chemotherapie und Strahlentherapie"
      ],
      "text/plain": [
       "<IPython.core.display.Markdown object>"
      ]
     },
     "metadata": {},
     "output_type": "display_data"
    },
    {
     "data": {
      "text/html": [
       "<html><body><div>Empfehlungen zur Nachsorge nach Abschluss der Chemo<span style=\"background-color: red; text-decoration: line-through;\">-</span><span style=\"background-color: lightgreen;\">therapie</span> und Strahlentherapie</div></body></html>"
      ],
      "text/plain": [
       "<IPython.core.display.HTML object>"
      ]
     },
     "metadata": {},
     "output_type": "display_data"
    },
    {
     "data": {
      "application/vnd.jupyter.widget-view+json": {
       "model_id": "fb3edfbe88614b1789598ce7891e38ca",
       "version_major": 2,
       "version_minor": 0
      },
      "text/plain": [
       "  0%|          | 0/1 [00:00<?, ?it/s]"
      ]
     },
     "metadata": {},
     "output_type": "display_data"
    },
    {
     "data": {
      "text/html": [
       "<div>\n",
       "<style scoped>\n",
       "    .dataframe tbody tr th:only-of-type {\n",
       "        vertical-align: middle;\n",
       "    }\n",
       "\n",
       "    .dataframe tbody tr th {\n",
       "        vertical-align: top;\n",
       "    }\n",
       "\n",
       "    .dataframe thead th {\n",
       "        text-align: right;\n",
       "    }\n",
       "</style>\n",
       "<table border=\"1\" class=\"dataframe\">\n",
       "  <thead>\n",
       "    <tr style=\"text-align: right;\">\n",
       "      <th></th>\n",
       "      <th>document</th>\n",
       "      <th>text</th>\n",
       "      <th>type</th>\n",
       "      <th>start</th>\n",
       "      <th>end</th>\n",
       "      <th>cui</th>\n",
       "      <th>tuis</th>\n",
       "      <th>canonical</th>\n",
       "      <th>linker</th>\n",
       "      <th>confidence</th>\n",
       "    </tr>\n",
       "  </thead>\n",
       "  <tbody>\n",
       "    <tr>\n",
       "      <th>0</th>\n",
       "      <td>18_hodgkin-lymphom_0051_42</td>\n",
       "      <td>Nachsorge</td>\n",
       "      <td>Diagnostic</td>\n",
       "      <td>17</td>\n",
       "      <td>26</td>\n",
       "      <td>C0001758</td>\n",
       "      <td>[T058]</td>\n",
       "      <td>Nachsorge</td>\n",
       "      <td>[ngram, sapbert]</td>\n",
       "      <td>0.109718</td>\n",
       "    </tr>\n",
       "    <tr>\n",
       "      <th>1</th>\n",
       "      <td>18_hodgkin-lymphom_0051_42</td>\n",
       "      <td>Chemo-</td>\n",
       "      <td>Therapeutic</td>\n",
       "      <td>46</td>\n",
       "      <td>52</td>\n",
       "      <td>C3665472</td>\n",
       "      <td>[T061]</td>\n",
       "      <td>Chemotherapie</td>\n",
       "      <td>[ngram, sapbert]</td>\n",
       "      <td>0.096639</td>\n",
       "    </tr>\n",
       "    <tr>\n",
       "      <th>2</th>\n",
       "      <td>18_hodgkin-lymphom_0051_42</td>\n",
       "      <td>Strahlentherapie</td>\n",
       "      <td>Therapeutic</td>\n",
       "      <td>57</td>\n",
       "      <td>73</td>\n",
       "      <td>C1522449</td>\n",
       "      <td>[T061]</td>\n",
       "      <td>Strahlentherapie</td>\n",
       "      <td>[ngram, sapbert]</td>\n",
       "      <td>0.141732</td>\n",
       "    </tr>\n",
       "  </tbody>\n",
       "</table>\n",
       "</div>"
      ],
      "text/plain": [
       "                     document              text         type  start  end  \\\n",
       "0  18_hodgkin-lymphom_0051_42         Nachsorge   Diagnostic     17   26   \n",
       "1  18_hodgkin-lymphom_0051_42            Chemo-  Therapeutic     46   52   \n",
       "2  18_hodgkin-lymphom_0051_42  Strahlentherapie  Therapeutic     57   73   \n",
       "\n",
       "        cui    tuis         canonical            linker  confidence  \n",
       "0  C0001758  [T058]         Nachsorge  [ngram, sapbert]    0.109718  \n",
       "1  C3665472  [T061]     Chemotherapie  [ngram, sapbert]    0.096639  \n",
       "2  C1522449  [T061]  Strahlentherapie  [ngram, sapbert]    0.141732  "
      ]
     },
     "metadata": {},
     "output_type": "display_data"
    },
    {
     "data": {
      "application/vnd.jupyter.widget-view+json": {
       "model_id": "9c32a09f95bc4033a9a26a1d9131ed32",
       "version_major": 2,
       "version_minor": 0
      },
      "text/plain": [
       "  0%|          | 0/1 [00:00<?, ?it/s]"
      ]
     },
     "metadata": {},
     "output_type": "display_data"
    },
    {
     "data": {
      "text/html": [
       "<div>\n",
       "<style scoped>\n",
       "    .dataframe tbody tr th:only-of-type {\n",
       "        vertical-align: middle;\n",
       "    }\n",
       "\n",
       "    .dataframe tbody tr th {\n",
       "        vertical-align: top;\n",
       "    }\n",
       "\n",
       "    .dataframe thead th {\n",
       "        text-align: right;\n",
       "    }\n",
       "</style>\n",
       "<table border=\"1\" class=\"dataframe\">\n",
       "  <thead>\n",
       "    <tr style=\"text-align: right;\">\n",
       "      <th></th>\n",
       "      <th>document</th>\n",
       "      <th>text</th>\n",
       "      <th>type</th>\n",
       "      <th>start</th>\n",
       "      <th>end</th>\n",
       "      <th>cui</th>\n",
       "      <th>tuis</th>\n",
       "      <th>canonical</th>\n",
       "      <th>linker</th>\n",
       "      <th>confidence</th>\n",
       "    </tr>\n",
       "  </thead>\n",
       "  <tbody>\n",
       "    <tr>\n",
       "      <th>0</th>\n",
       "      <td>18_hodgkin-lymphom_0051_42</td>\n",
       "      <td>Nachsorge</td>\n",
       "      <td>Diagnostic</td>\n",
       "      <td>17</td>\n",
       "      <td>26</td>\n",
       "      <td>C0001758</td>\n",
       "      <td>[T058]</td>\n",
       "      <td>Nachsorge</td>\n",
       "      <td>[ngram, sapbert]</td>\n",
       "      <td>0.114159</td>\n",
       "    </tr>\n",
       "    <tr>\n",
       "      <th>1</th>\n",
       "      <td>18_hodgkin-lymphom_0051_42</td>\n",
       "      <td>Abschluss der Chemotherapie</td>\n",
       "      <td>Therapeutic</td>\n",
       "      <td>32</td>\n",
       "      <td>59</td>\n",
       "      <td>C3665472</td>\n",
       "      <td>[T061]</td>\n",
       "      <td>Chemotherapie</td>\n",
       "      <td>[ngram, sapbert]</td>\n",
       "      <td>0.066714</td>\n",
       "    </tr>\n",
       "    <tr>\n",
       "      <th>2</th>\n",
       "      <td>18_hodgkin-lymphom_0051_42</td>\n",
       "      <td>Chemotherapie</td>\n",
       "      <td>Therapeutic</td>\n",
       "      <td>46</td>\n",
       "      <td>59</td>\n",
       "      <td>C3665472</td>\n",
       "      <td>[T061]</td>\n",
       "      <td>Chemotherapie</td>\n",
       "      <td>[ngram, sapbert]</td>\n",
       "      <td>0.114949</td>\n",
       "    </tr>\n",
       "    <tr>\n",
       "      <th>3</th>\n",
       "      <td>18_hodgkin-lymphom_0051_42</td>\n",
       "      <td>Strahlentherapie</td>\n",
       "      <td>Therapeutic</td>\n",
       "      <td>64</td>\n",
       "      <td>80</td>\n",
       "      <td>C1522449</td>\n",
       "      <td>[T061]</td>\n",
       "      <td>Strahlentherapie</td>\n",
       "      <td>[ngram, sapbert]</td>\n",
       "      <td>0.140938</td>\n",
       "    </tr>\n",
       "  </tbody>\n",
       "</table>\n",
       "</div>"
      ],
      "text/plain": [
       "                     document                         text         type  \\\n",
       "0  18_hodgkin-lymphom_0051_42                    Nachsorge   Diagnostic   \n",
       "1  18_hodgkin-lymphom_0051_42  Abschluss der Chemotherapie  Therapeutic   \n",
       "2  18_hodgkin-lymphom_0051_42                Chemotherapie  Therapeutic   \n",
       "3  18_hodgkin-lymphom_0051_42             Strahlentherapie  Therapeutic   \n",
       "\n",
       "   start  end       cui    tuis         canonical            linker  \\\n",
       "0     17   26  C0001758  [T058]         Nachsorge  [ngram, sapbert]   \n",
       "1     32   59  C3665472  [T061]     Chemotherapie  [ngram, sapbert]   \n",
       "2     46   59  C3665472  [T061]     Chemotherapie  [ngram, sapbert]   \n",
       "3     64   80  C1522449  [T061]  Strahlentherapie  [ngram, sapbert]   \n",
       "\n",
       "   confidence  \n",
       "0    0.114159  \n",
       "1    0.066714  \n",
       "2    0.114949  \n",
       "3    0.140938  "
      ]
     },
     "metadata": {},
     "output_type": "display_data"
    },
    {
     "name": "stdout",
     "output_type": "stream",
     "text": [
      "Difference 20\n"
     ]
    },
    {
     "data": {
      "text/markdown": [
       "Dies kann durch sonographisch- oder CT-gesteuerte Feinnadelbiopsie oder mittels Medianoskopie/Laparoskopie erfolgen."
      ],
      "text/plain": [
       "<IPython.core.display.Markdown object>"
      ]
     },
     "metadata": {},
     "output_type": "display_data"
    },
    {
     "data": {
      "text/markdown": [
       "Dies kann durch sonographisch-gesteuerte oder CT-gesteuerte Feinnadelbiopsie oder mittels Medianoskopie/Laparoskopie erfolgen."
      ],
      "text/plain": [
       "<IPython.core.display.Markdown object>"
      ]
     },
     "metadata": {},
     "output_type": "display_data"
    },
    {
     "data": {
      "text/html": [
       "<html><body><div>Dies kann durch sonographisch-<span style=\"background-color: lightgreen;\">gesteuerte</span> oder CT-gesteuerte Feinnadelbiopsie oder mittels Medianoskopie/Laparoskopie erfolgen.</div></body></html>"
      ],
      "text/plain": [
       "<IPython.core.display.HTML object>"
      ]
     },
     "metadata": {},
     "output_type": "display_data"
    },
    {
     "data": {
      "application/vnd.jupyter.widget-view+json": {
       "model_id": "cd81b57fc2bb426ab6c1adee50d1722c",
       "version_major": 2,
       "version_minor": 0
      },
      "text/plain": [
       "  0%|          | 0/1 [00:00<?, ?it/s]"
      ]
     },
     "metadata": {},
     "output_type": "display_data"
    },
    {
     "data": {
      "text/html": [
       "<div>\n",
       "<style scoped>\n",
       "    .dataframe tbody tr th:only-of-type {\n",
       "        vertical-align: middle;\n",
       "    }\n",
       "\n",
       "    .dataframe tbody tr th {\n",
       "        vertical-align: top;\n",
       "    }\n",
       "\n",
       "    .dataframe thead th {\n",
       "        text-align: right;\n",
       "    }\n",
       "</style>\n",
       "<table border=\"1\" class=\"dataframe\">\n",
       "  <thead>\n",
       "    <tr style=\"text-align: right;\">\n",
       "      <th></th>\n",
       "      <th>document</th>\n",
       "      <th>text</th>\n",
       "      <th>type</th>\n",
       "      <th>start</th>\n",
       "      <th>end</th>\n",
       "      <th>cui</th>\n",
       "      <th>tuis</th>\n",
       "      <th>canonical</th>\n",
       "      <th>linker</th>\n",
       "      <th>confidence</th>\n",
       "    </tr>\n",
       "  </thead>\n",
       "  <tbody>\n",
       "    <tr>\n",
       "      <th>0</th>\n",
       "      <td>21_hodentumoren_0260_21</td>\n",
       "      <td>sonographisch- oder CT-gesteuerte Feinnadelbio...</td>\n",
       "      <td>Diagnostic</td>\n",
       "      <td>16</td>\n",
       "      <td>66</td>\n",
       "      <td>C0085846</td>\n",
       "      <td>[T060]</td>\n",
       "      <td>Biopsie, Feinnadel-</td>\n",
       "      <td>[ngram, sapbert]</td>\n",
       "      <td>0.076167</td>\n",
       "    </tr>\n",
       "    <tr>\n",
       "      <th>1</th>\n",
       "      <td>21_hodentumoren_0260_21</td>\n",
       "      <td>Medianoskopie</td>\n",
       "      <td>Diagnostic</td>\n",
       "      <td>80</td>\n",
       "      <td>93</td>\n",
       "      <td>C0031150</td>\n",
       "      <td>[T060]</td>\n",
       "      <td>Laparoskopie</td>\n",
       "      <td>[ngram, sapbert]</td>\n",
       "      <td>0.063796</td>\n",
       "    </tr>\n",
       "    <tr>\n",
       "      <th>2</th>\n",
       "      <td>21_hodentumoren_0260_21</td>\n",
       "      <td>Laparoskopie</td>\n",
       "      <td>Diagnostic</td>\n",
       "      <td>94</td>\n",
       "      <td>106</td>\n",
       "      <td>C0031150</td>\n",
       "      <td>[T060]</td>\n",
       "      <td>Laparoskopie</td>\n",
       "      <td>[ngram, sapbert]</td>\n",
       "      <td>0.121292</td>\n",
       "    </tr>\n",
       "  </tbody>\n",
       "</table>\n",
       "</div>"
      ],
      "text/plain": [
       "                  document                                               text  \\\n",
       "0  21_hodentumoren_0260_21  sonographisch- oder CT-gesteuerte Feinnadelbio...   \n",
       "1  21_hodentumoren_0260_21                                      Medianoskopie   \n",
       "2  21_hodentumoren_0260_21                                       Laparoskopie   \n",
       "\n",
       "         type  start  end       cui    tuis            canonical  \\\n",
       "0  Diagnostic     16   66  C0085846  [T060]  Biopsie, Feinnadel-   \n",
       "1  Diagnostic     80   93  C0031150  [T060]         Laparoskopie   \n",
       "2  Diagnostic     94  106  C0031150  [T060]         Laparoskopie   \n",
       "\n",
       "             linker  confidence  \n",
       "0  [ngram, sapbert]    0.076167  \n",
       "1  [ngram, sapbert]    0.063796  \n",
       "2  [ngram, sapbert]    0.121292  "
      ]
     },
     "metadata": {},
     "output_type": "display_data"
    },
    {
     "data": {
      "application/vnd.jupyter.widget-view+json": {
       "model_id": "76af47115e754dd29957ee2ad36ac899",
       "version_major": 2,
       "version_minor": 0
      },
      "text/plain": [
       "  0%|          | 0/1 [00:00<?, ?it/s]"
      ]
     },
     "metadata": {},
     "output_type": "display_data"
    },
    {
     "data": {
      "text/html": [
       "<div>\n",
       "<style scoped>\n",
       "    .dataframe tbody tr th:only-of-type {\n",
       "        vertical-align: middle;\n",
       "    }\n",
       "\n",
       "    .dataframe tbody tr th {\n",
       "        vertical-align: top;\n",
       "    }\n",
       "\n",
       "    .dataframe thead th {\n",
       "        text-align: right;\n",
       "    }\n",
       "</style>\n",
       "<table border=\"1\" class=\"dataframe\">\n",
       "  <thead>\n",
       "    <tr style=\"text-align: right;\">\n",
       "      <th></th>\n",
       "      <th>document</th>\n",
       "      <th>text</th>\n",
       "      <th>type</th>\n",
       "      <th>start</th>\n",
       "      <th>end</th>\n",
       "      <th>cui</th>\n",
       "      <th>tuis</th>\n",
       "      <th>canonical</th>\n",
       "      <th>linker</th>\n",
       "      <th>confidence</th>\n",
       "    </tr>\n",
       "  </thead>\n",
       "  <tbody>\n",
       "    <tr>\n",
       "      <th>0</th>\n",
       "      <td>21_hodentumoren_0260_21</td>\n",
       "      <td>sonographisch-gesteuerte oder CT-gesteuerte Fe...</td>\n",
       "      <td>Diagnostic</td>\n",
       "      <td>16</td>\n",
       "      <td>76</td>\n",
       "      <td>C0085846</td>\n",
       "      <td>[T060]</td>\n",
       "      <td>Biopsie, Feinnadel-</td>\n",
       "      <td>[ngram, sapbert]</td>\n",
       "      <td>0.076588</td>\n",
       "    </tr>\n",
       "    <tr>\n",
       "      <th>1</th>\n",
       "      <td>21_hodentumoren_0260_21</td>\n",
       "      <td>Medianoskopie</td>\n",
       "      <td>Diagnostic</td>\n",
       "      <td>90</td>\n",
       "      <td>103</td>\n",
       "      <td>C0029090</td>\n",
       "      <td>[T060]</td>\n",
       "      <td>Ophthalmoskopie</td>\n",
       "      <td>[ngram, sapbert]</td>\n",
       "      <td>0.063832</td>\n",
       "    </tr>\n",
       "    <tr>\n",
       "      <th>2</th>\n",
       "      <td>21_hodentumoren_0260_21</td>\n",
       "      <td>Laparoskopie</td>\n",
       "      <td>Diagnostic</td>\n",
       "      <td>104</td>\n",
       "      <td>116</td>\n",
       "      <td>C0031150</td>\n",
       "      <td>[T060]</td>\n",
       "      <td>Laparoskopie</td>\n",
       "      <td>[ngram, sapbert]</td>\n",
       "      <td>0.119639</td>\n",
       "    </tr>\n",
       "  </tbody>\n",
       "</table>\n",
       "</div>"
      ],
      "text/plain": [
       "                  document                                               text  \\\n",
       "0  21_hodentumoren_0260_21  sonographisch-gesteuerte oder CT-gesteuerte Fe...   \n",
       "1  21_hodentumoren_0260_21                                      Medianoskopie   \n",
       "2  21_hodentumoren_0260_21                                       Laparoskopie   \n",
       "\n",
       "         type  start  end       cui    tuis            canonical  \\\n",
       "0  Diagnostic     16   76  C0085846  [T060]  Biopsie, Feinnadel-   \n",
       "1  Diagnostic     90  103  C0029090  [T060]      Ophthalmoskopie   \n",
       "2  Diagnostic    104  116  C0031150  [T060]         Laparoskopie   \n",
       "\n",
       "             linker  confidence  \n",
       "0  [ngram, sapbert]    0.076588  \n",
       "1  [ngram, sapbert]    0.063832  \n",
       "2  [ngram, sapbert]    0.119639  "
      ]
     },
     "metadata": {},
     "output_type": "display_data"
    },
    {
     "name": "stdout",
     "output_type": "stream",
     "text": [
      "Difference 21\n"
     ]
    },
    {
     "data": {
      "text/markdown": [
       "Dysurie (26 % versus 2 %), Hämaturie (28 % versus 3 %), Drangsymptomatik (11 % versus <1 %), Harnverhaltung (17 % versus <1 %), Inkontinenz (10 % versus 4 %), Harnwegsinfekte (10,7 % versus 4,3 %) erektile Dysfunktion (38 % versus 11 %) sowie Prostata- oder Perinealschmerzen (18 % versus <1 %) [REF]."
      ],
      "text/plain": [
       "<IPython.core.display.Markdown object>"
      ]
     },
     "metadata": {},
     "output_type": "display_data"
    },
    {
     "data": {
      "text/markdown": [
       "Dysurie (26 % versus 2 %), Hämaturie (28 % versus 3 %), Drangsymptomatik (11 % versus <1 %), Harnverhaltung (17 % versus <1 %), Inkontinenz (10 % versus 4 %), Harnwegsinfekte (10,7 % versus 4,3 %) erektile Dysfunktion (38 % versus 11 %) sowie Prostataschmerzen oder Perinealschmerzen (18 % versus <1 %) [REF]."
      ],
      "text/plain": [
       "<IPython.core.display.Markdown object>"
      ]
     },
     "metadata": {},
     "output_type": "display_data"
    },
    {
     "data": {
      "text/html": [
       "<html><body><div>Dysurie (26 % versus 2 %), Hämaturie (28 % versus 3 %), Drangsymptomatik (11 % versus <1 %), Harnverhaltung (17 % versus <1 %), Inkontinenz (10 % versus 4 %), Harnwegsinfekte (10,7 % versus 4,3 %) erektile Dysfunktion (38 % versus 11 %) sowie Prostata<span style=\"background-color: red; text-decoration: line-through;\">-</span><span style=\"background-color: lightgreen;\">schmerzen</span> oder Perinealschmerzen (18 % versus <1 %) [REF].</div></body></html>"
      ],
      "text/plain": [
       "<IPython.core.display.HTML object>"
      ]
     },
     "metadata": {},
     "output_type": "display_data"
    },
    {
     "data": {
      "application/vnd.jupyter.widget-view+json": {
       "model_id": "ec7fc807f4f1462589260f381121a6c5",
       "version_major": 2,
       "version_minor": 0
      },
      "text/plain": [
       "  0%|          | 0/1 [00:00<?, ?it/s]"
      ]
     },
     "metadata": {},
     "output_type": "display_data"
    },
    {
     "data": {
      "text/html": [
       "<div>\n",
       "<style scoped>\n",
       "    .dataframe tbody tr th:only-of-type {\n",
       "        vertical-align: middle;\n",
       "    }\n",
       "\n",
       "    .dataframe tbody tr th {\n",
       "        vertical-align: top;\n",
       "    }\n",
       "\n",
       "    .dataframe thead th {\n",
       "        text-align: right;\n",
       "    }\n",
       "</style>\n",
       "<table border=\"1\" class=\"dataframe\">\n",
       "  <thead>\n",
       "    <tr style=\"text-align: right;\">\n",
       "      <th></th>\n",
       "      <th>document</th>\n",
       "      <th>text</th>\n",
       "      <th>type</th>\n",
       "      <th>start</th>\n",
       "      <th>end</th>\n",
       "      <th>cui</th>\n",
       "      <th>tuis</th>\n",
       "      <th>canonical</th>\n",
       "      <th>linker</th>\n",
       "      <th>confidence</th>\n",
       "    </tr>\n",
       "  </thead>\n",
       "  <tbody>\n",
       "    <tr>\n",
       "      <th>0</th>\n",
       "      <td>22_prostatakarzinom_0153_14</td>\n",
       "      <td>Dysurie</td>\n",
       "      <td>Diagnosis_or_Pathology</td>\n",
       "      <td>0</td>\n",
       "      <td>7</td>\n",
       "      <td>C0013428</td>\n",
       "      <td>[T184]</td>\n",
       "      <td>Dysurie</td>\n",
       "      <td>[ngram, sapbert]</td>\n",
       "      <td>0.153963</td>\n",
       "    </tr>\n",
       "    <tr>\n",
       "      <th>1</th>\n",
       "      <td>22_prostatakarzinom_0153_14</td>\n",
       "      <td>Hämaturie</td>\n",
       "      <td>Diagnosis_or_Pathology</td>\n",
       "      <td>27</td>\n",
       "      <td>36</td>\n",
       "      <td>C0018965</td>\n",
       "      <td>[T047]</td>\n",
       "      <td>Hämaturie</td>\n",
       "      <td>[ngram, sapbert]</td>\n",
       "      <td>0.142846</td>\n",
       "    </tr>\n",
       "    <tr>\n",
       "      <th>2</th>\n",
       "      <td>22_prostatakarzinom_0153_14</td>\n",
       "      <td>Drangsymptomatik</td>\n",
       "      <td>Diagnosis_or_Pathology</td>\n",
       "      <td>56</td>\n",
       "      <td>72</td>\n",
       "      <td>C0087169</td>\n",
       "      <td>[T184]</td>\n",
       "      <td>Withdrawal Symptoms</td>\n",
       "      <td>[sapbert]</td>\n",
       "      <td>0.064590</td>\n",
       "    </tr>\n",
       "    <tr>\n",
       "      <th>3</th>\n",
       "      <td>22_prostatakarzinom_0153_14</td>\n",
       "      <td>Harnverhaltung</td>\n",
       "      <td>Diagnosis_or_Pathology</td>\n",
       "      <td>93</td>\n",
       "      <td>107</td>\n",
       "      <td>C0080274</td>\n",
       "      <td>[T169]</td>\n",
       "      <td>Harnverhalt</td>\n",
       "      <td>[ngram, sapbert]</td>\n",
       "      <td>0.143468</td>\n",
       "    </tr>\n",
       "    <tr>\n",
       "      <th>4</th>\n",
       "      <td>22_prostatakarzinom_0153_14</td>\n",
       "      <td>Inkontinenz</td>\n",
       "      <td>Diagnosis_or_Pathology</td>\n",
       "      <td>128</td>\n",
       "      <td>139</td>\n",
       "      <td>C0021167</td>\n",
       "      <td>[T047]</td>\n",
       "      <td>Inkontinenz</td>\n",
       "      <td>[ngram, sapbert]</td>\n",
       "      <td>0.121398</td>\n",
       "    </tr>\n",
       "    <tr>\n",
       "      <th>5</th>\n",
       "      <td>22_prostatakarzinom_0153_14</td>\n",
       "      <td>Harnwegsinfekte</td>\n",
       "      <td>Diagnosis_or_Pathology</td>\n",
       "      <td>159</td>\n",
       "      <td>174</td>\n",
       "      <td>C0042029</td>\n",
       "      <td>[T047]</td>\n",
       "      <td>Harnwegsinfektionen</td>\n",
       "      <td>[ngram, sapbert]</td>\n",
       "      <td>0.094056</td>\n",
       "    </tr>\n",
       "    <tr>\n",
       "      <th>6</th>\n",
       "      <td>22_prostatakarzinom_0153_14</td>\n",
       "      <td>erektile Dysfunktion</td>\n",
       "      <td>Diagnosis_or_Pathology</td>\n",
       "      <td>197</td>\n",
       "      <td>217</td>\n",
       "      <td>C0242350</td>\n",
       "      <td>[T047]</td>\n",
       "      <td>Erektile Dysfunktion</td>\n",
       "      <td>[ngram, sapbert]</td>\n",
       "      <td>0.195050</td>\n",
       "    </tr>\n",
       "    <tr>\n",
       "      <th>7</th>\n",
       "      <td>22_prostatakarzinom_0153_14</td>\n",
       "      <td>Prostata-</td>\n",
       "      <td>Diagnosis_or_Pathology</td>\n",
       "      <td>243</td>\n",
       "      <td>252</td>\n",
       "      <td>C0033572</td>\n",
       "      <td>[T023]</td>\n",
       "      <td>Prostata</td>\n",
       "      <td>[ngram, sapbert]</td>\n",
       "      <td>0.080446</td>\n",
       "    </tr>\n",
       "    <tr>\n",
       "      <th>8</th>\n",
       "      <td>22_prostatakarzinom_0153_14</td>\n",
       "      <td>Perinealschmerzen</td>\n",
       "      <td>Diagnosis_or_Pathology</td>\n",
       "      <td>258</td>\n",
       "      <td>275</td>\n",
       "      <td>C0240717</td>\n",
       "      <td>[T184]</td>\n",
       "      <td>Dammschmerz</td>\n",
       "      <td>[sapbert]</td>\n",
       "      <td>0.150069</td>\n",
       "    </tr>\n",
       "  </tbody>\n",
       "</table>\n",
       "</div>"
      ],
      "text/plain": [
       "                      document                  text                    type  \\\n",
       "0  22_prostatakarzinom_0153_14               Dysurie  Diagnosis_or_Pathology   \n",
       "1  22_prostatakarzinom_0153_14             Hämaturie  Diagnosis_or_Pathology   \n",
       "2  22_prostatakarzinom_0153_14      Drangsymptomatik  Diagnosis_or_Pathology   \n",
       "3  22_prostatakarzinom_0153_14        Harnverhaltung  Diagnosis_or_Pathology   \n",
       "4  22_prostatakarzinom_0153_14           Inkontinenz  Diagnosis_or_Pathology   \n",
       "5  22_prostatakarzinom_0153_14       Harnwegsinfekte  Diagnosis_or_Pathology   \n",
       "6  22_prostatakarzinom_0153_14  erektile Dysfunktion  Diagnosis_or_Pathology   \n",
       "7  22_prostatakarzinom_0153_14             Prostata-  Diagnosis_or_Pathology   \n",
       "8  22_prostatakarzinom_0153_14     Perinealschmerzen  Diagnosis_or_Pathology   \n",
       "\n",
       "   start  end       cui    tuis             canonical            linker  \\\n",
       "0      0    7  C0013428  [T184]               Dysurie  [ngram, sapbert]   \n",
       "1     27   36  C0018965  [T047]             Hämaturie  [ngram, sapbert]   \n",
       "2     56   72  C0087169  [T184]   Withdrawal Symptoms         [sapbert]   \n",
       "3     93  107  C0080274  [T169]           Harnverhalt  [ngram, sapbert]   \n",
       "4    128  139  C0021167  [T047]           Inkontinenz  [ngram, sapbert]   \n",
       "5    159  174  C0042029  [T047]   Harnwegsinfektionen  [ngram, sapbert]   \n",
       "6    197  217  C0242350  [T047]  Erektile Dysfunktion  [ngram, sapbert]   \n",
       "7    243  252  C0033572  [T023]              Prostata  [ngram, sapbert]   \n",
       "8    258  275  C0240717  [T184]           Dammschmerz         [sapbert]   \n",
       "\n",
       "   confidence  \n",
       "0    0.153963  \n",
       "1    0.142846  \n",
       "2    0.064590  \n",
       "3    0.143468  \n",
       "4    0.121398  \n",
       "5    0.094056  \n",
       "6    0.195050  \n",
       "7    0.080446  \n",
       "8    0.150069  "
      ]
     },
     "metadata": {},
     "output_type": "display_data"
    },
    {
     "data": {
      "application/vnd.jupyter.widget-view+json": {
       "model_id": "c067965091714cb086515942e388633e",
       "version_major": 2,
       "version_minor": 0
      },
      "text/plain": [
       "  0%|          | 0/1 [00:00<?, ?it/s]"
      ]
     },
     "metadata": {},
     "output_type": "display_data"
    },
    {
     "data": {
      "text/html": [
       "<div>\n",
       "<style scoped>\n",
       "    .dataframe tbody tr th:only-of-type {\n",
       "        vertical-align: middle;\n",
       "    }\n",
       "\n",
       "    .dataframe tbody tr th {\n",
       "        vertical-align: top;\n",
       "    }\n",
       "\n",
       "    .dataframe thead th {\n",
       "        text-align: right;\n",
       "    }\n",
       "</style>\n",
       "<table border=\"1\" class=\"dataframe\">\n",
       "  <thead>\n",
       "    <tr style=\"text-align: right;\">\n",
       "      <th></th>\n",
       "      <th>document</th>\n",
       "      <th>text</th>\n",
       "      <th>type</th>\n",
       "      <th>start</th>\n",
       "      <th>end</th>\n",
       "      <th>cui</th>\n",
       "      <th>tuis</th>\n",
       "      <th>canonical</th>\n",
       "      <th>linker</th>\n",
       "      <th>confidence</th>\n",
       "    </tr>\n",
       "  </thead>\n",
       "  <tbody>\n",
       "    <tr>\n",
       "      <th>0</th>\n",
       "      <td>22_prostatakarzinom_0153_14</td>\n",
       "      <td>Dysurie</td>\n",
       "      <td>Diagnosis_or_Pathology</td>\n",
       "      <td>0</td>\n",
       "      <td>7</td>\n",
       "      <td>C0013428</td>\n",
       "      <td>[T184]</td>\n",
       "      <td>Dysurie</td>\n",
       "      <td>[ngram, sapbert]</td>\n",
       "      <td>0.153963</td>\n",
       "    </tr>\n",
       "    <tr>\n",
       "      <th>1</th>\n",
       "      <td>22_prostatakarzinom_0153_14</td>\n",
       "      <td>Hämaturie</td>\n",
       "      <td>Diagnosis_or_Pathology</td>\n",
       "      <td>27</td>\n",
       "      <td>36</td>\n",
       "      <td>C0018965</td>\n",
       "      <td>[T047]</td>\n",
       "      <td>Hämaturie</td>\n",
       "      <td>[ngram, sapbert]</td>\n",
       "      <td>0.142846</td>\n",
       "    </tr>\n",
       "    <tr>\n",
       "      <th>2</th>\n",
       "      <td>22_prostatakarzinom_0153_14</td>\n",
       "      <td>Drangsymptomatik</td>\n",
       "      <td>Diagnosis_or_Pathology</td>\n",
       "      <td>56</td>\n",
       "      <td>72</td>\n",
       "      <td>C0087169</td>\n",
       "      <td>[T184]</td>\n",
       "      <td>Withdrawal Symptoms</td>\n",
       "      <td>[sapbert]</td>\n",
       "      <td>0.064590</td>\n",
       "    </tr>\n",
       "    <tr>\n",
       "      <th>3</th>\n",
       "      <td>22_prostatakarzinom_0153_14</td>\n",
       "      <td>Harnverhaltung</td>\n",
       "      <td>Diagnosis_or_Pathology</td>\n",
       "      <td>93</td>\n",
       "      <td>107</td>\n",
       "      <td>C0080274</td>\n",
       "      <td>[T169]</td>\n",
       "      <td>Harnverhalt</td>\n",
       "      <td>[ngram, sapbert]</td>\n",
       "      <td>0.143468</td>\n",
       "    </tr>\n",
       "    <tr>\n",
       "      <th>4</th>\n",
       "      <td>22_prostatakarzinom_0153_14</td>\n",
       "      <td>Inkontinenz</td>\n",
       "      <td>Diagnosis_or_Pathology</td>\n",
       "      <td>128</td>\n",
       "      <td>139</td>\n",
       "      <td>C0021167</td>\n",
       "      <td>[T047]</td>\n",
       "      <td>Inkontinenz</td>\n",
       "      <td>[ngram, sapbert]</td>\n",
       "      <td>0.122175</td>\n",
       "    </tr>\n",
       "    <tr>\n",
       "      <th>5</th>\n",
       "      <td>22_prostatakarzinom_0153_14</td>\n",
       "      <td>Harnwegsinfekte</td>\n",
       "      <td>Diagnosis_or_Pathology</td>\n",
       "      <td>159</td>\n",
       "      <td>174</td>\n",
       "      <td>C0042029</td>\n",
       "      <td>[T047]</td>\n",
       "      <td>Harnwegsinfektionen</td>\n",
       "      <td>[ngram, sapbert]</td>\n",
       "      <td>0.080313</td>\n",
       "    </tr>\n",
       "    <tr>\n",
       "      <th>6</th>\n",
       "      <td>22_prostatakarzinom_0153_14</td>\n",
       "      <td>erektile Dysfunktion</td>\n",
       "      <td>Diagnosis_or_Pathology</td>\n",
       "      <td>197</td>\n",
       "      <td>217</td>\n",
       "      <td>C0242350</td>\n",
       "      <td>[T047]</td>\n",
       "      <td>Erektile Dysfunktion</td>\n",
       "      <td>[ngram, sapbert]</td>\n",
       "      <td>0.185237</td>\n",
       "    </tr>\n",
       "    <tr>\n",
       "      <th>7</th>\n",
       "      <td>22_prostatakarzinom_0153_14</td>\n",
       "      <td>Prostataschmerzen</td>\n",
       "      <td>Diagnosis_or_Pathology</td>\n",
       "      <td>243</td>\n",
       "      <td>260</td>\n",
       "      <td>C0240812</td>\n",
       "      <td>[T184]</td>\n",
       "      <td>Prostataschmerz</td>\n",
       "      <td>[ngram, sapbert]</td>\n",
       "      <td>0.145128</td>\n",
       "    </tr>\n",
       "    <tr>\n",
       "      <th>8</th>\n",
       "      <td>22_prostatakarzinom_0153_14</td>\n",
       "      <td>Perinealschmerzen</td>\n",
       "      <td>Diagnosis_or_Pathology</td>\n",
       "      <td>266</td>\n",
       "      <td>283</td>\n",
       "      <td>C0240717</td>\n",
       "      <td>[T184]</td>\n",
       "      <td>Dammschmerz</td>\n",
       "      <td>[sapbert]</td>\n",
       "      <td>0.150170</td>\n",
       "    </tr>\n",
       "  </tbody>\n",
       "</table>\n",
       "</div>"
      ],
      "text/plain": [
       "                      document                  text                    type  \\\n",
       "0  22_prostatakarzinom_0153_14               Dysurie  Diagnosis_or_Pathology   \n",
       "1  22_prostatakarzinom_0153_14             Hämaturie  Diagnosis_or_Pathology   \n",
       "2  22_prostatakarzinom_0153_14      Drangsymptomatik  Diagnosis_or_Pathology   \n",
       "3  22_prostatakarzinom_0153_14        Harnverhaltung  Diagnosis_or_Pathology   \n",
       "4  22_prostatakarzinom_0153_14           Inkontinenz  Diagnosis_or_Pathology   \n",
       "5  22_prostatakarzinom_0153_14       Harnwegsinfekte  Diagnosis_or_Pathology   \n",
       "6  22_prostatakarzinom_0153_14  erektile Dysfunktion  Diagnosis_or_Pathology   \n",
       "7  22_prostatakarzinom_0153_14     Prostataschmerzen  Diagnosis_or_Pathology   \n",
       "8  22_prostatakarzinom_0153_14     Perinealschmerzen  Diagnosis_or_Pathology   \n",
       "\n",
       "   start  end       cui    tuis             canonical            linker  \\\n",
       "0      0    7  C0013428  [T184]               Dysurie  [ngram, sapbert]   \n",
       "1     27   36  C0018965  [T047]             Hämaturie  [ngram, sapbert]   \n",
       "2     56   72  C0087169  [T184]   Withdrawal Symptoms         [sapbert]   \n",
       "3     93  107  C0080274  [T169]           Harnverhalt  [ngram, sapbert]   \n",
       "4    128  139  C0021167  [T047]           Inkontinenz  [ngram, sapbert]   \n",
       "5    159  174  C0042029  [T047]   Harnwegsinfektionen  [ngram, sapbert]   \n",
       "6    197  217  C0242350  [T047]  Erektile Dysfunktion  [ngram, sapbert]   \n",
       "7    243  260  C0240812  [T184]       Prostataschmerz  [ngram, sapbert]   \n",
       "8    266  283  C0240717  [T184]           Dammschmerz         [sapbert]   \n",
       "\n",
       "   confidence  \n",
       "0    0.153963  \n",
       "1    0.142846  \n",
       "2    0.064590  \n",
       "3    0.143468  \n",
       "4    0.122175  \n",
       "5    0.080313  \n",
       "6    0.185237  \n",
       "7    0.145128  \n",
       "8    0.150170  "
      ]
     },
     "metadata": {},
     "output_type": "display_data"
    },
    {
     "name": "stdout",
     "output_type": "stream",
     "text": [
      "Difference 22\n"
     ]
    },
    {
     "data": {
      "text/markdown": [
       "Im Sinne eines Recall-Phänomens kann eine Pneumonitis auch lange nach Bestrahlung nach Chemo- oder Immunotherapie z.B. mit Taxanen, Gemcitabin oder Tyrosinkinase- Inhibitoren (Erlotinib, Gefitinib, Sunitinib und Folgesubstanzen) auftreten [REF] [REF] [REF] [REF] [REF] [REF] [REF] [REF] [REF] [REF]."
      ],
      "text/plain": [
       "<IPython.core.display.Markdown object>"
      ]
     },
     "metadata": {},
     "output_type": "display_data"
    },
    {
     "data": {
      "text/markdown": [
       "Im Sinne eines Recall-Phänomens kann eine Pneumonitis auch lange nach Bestrahlung nach Chemotherapie oder Immunotherapie z.B. mit Taxanen, Gemcitabin oder Tyrosinkinase- Inhibitoren (Erlotinib, Gefitinib, Sunitinib und Folgesubstanzen) auftreten [REF] [REF] [REF] [REF] [REF] [REF] [REF] [REF] [REF] [REF]."
      ],
      "text/plain": [
       "<IPython.core.display.Markdown object>"
      ]
     },
     "metadata": {},
     "output_type": "display_data"
    },
    {
     "data": {
      "text/html": [
       "<html><body><div>Im Sinne eines Recall-Phänomens kann eine Pneumonitis auch lange nach Bestrahlung nach Chemo<span style=\"background-color: red; text-decoration: line-through;\">-</span><span style=\"background-color: lightgreen;\">therapie</span> oder Immunotherapie z.B. mit Taxanen, Gemcitabin oder Tyrosinkinase- Inhibitoren (Erlotinib, Gefitinib, Sunitinib und Folgesubstanzen) auftreten [REF] [REF] [REF] [REF] [REF] [REF] [REF] [REF] [REF] [REF].</div></body></html>"
      ],
      "text/plain": [
       "<IPython.core.display.HTML object>"
      ]
     },
     "metadata": {},
     "output_type": "display_data"
    },
    {
     "data": {
      "application/vnd.jupyter.widget-view+json": {
       "model_id": "c0c9855e8ecf4c89bd41231e3a361c89",
       "version_major": 2,
       "version_minor": 0
      },
      "text/plain": [
       "  0%|          | 0/1 [00:00<?, ?it/s]"
      ]
     },
     "metadata": {},
     "output_type": "display_data"
    },
    {
     "data": {
      "text/html": [
       "<div>\n",
       "<style scoped>\n",
       "    .dataframe tbody tr th:only-of-type {\n",
       "        vertical-align: middle;\n",
       "    }\n",
       "\n",
       "    .dataframe tbody tr th {\n",
       "        vertical-align: top;\n",
       "    }\n",
       "\n",
       "    .dataframe thead th {\n",
       "        text-align: right;\n",
       "    }\n",
       "</style>\n",
       "<table border=\"1\" class=\"dataframe\">\n",
       "  <thead>\n",
       "    <tr style=\"text-align: right;\">\n",
       "      <th></th>\n",
       "      <th>document</th>\n",
       "      <th>text</th>\n",
       "      <th>type</th>\n",
       "      <th>start</th>\n",
       "      <th>end</th>\n",
       "      <th>cui</th>\n",
       "      <th>tuis</th>\n",
       "      <th>canonical</th>\n",
       "      <th>linker</th>\n",
       "      <th>confidence</th>\n",
       "    </tr>\n",
       "  </thead>\n",
       "  <tbody>\n",
       "    <tr>\n",
       "      <th>0</th>\n",
       "      <td>27_supportive-therapie_0765_11</td>\n",
       "      <td>Recall-Phänomens</td>\n",
       "      <td>Diagnosis_or_Pathology</td>\n",
       "      <td>15</td>\n",
       "      <td>31</td>\n",
       "      <td>C1262013</td>\n",
       "      <td>[T046]</td>\n",
       "      <td>Recall phenomenon</td>\n",
       "      <td>[ngram, sapbert]</td>\n",
       "      <td>0.117091</td>\n",
       "    </tr>\n",
       "    <tr>\n",
       "      <th>1</th>\n",
       "      <td>27_supportive-therapie_0765_11</td>\n",
       "      <td>Pneumonitis</td>\n",
       "      <td>Diagnosis_or_Pathology</td>\n",
       "      <td>42</td>\n",
       "      <td>53</td>\n",
       "      <td>C3714636</td>\n",
       "      <td>[T047]</td>\n",
       "      <td>Pneumonitis</td>\n",
       "      <td>[ngram, sapbert]</td>\n",
       "      <td>0.129898</td>\n",
       "    </tr>\n",
       "    <tr>\n",
       "      <th>2</th>\n",
       "      <td>27_supportive-therapie_0765_11</td>\n",
       "      <td>Bestrahlung</td>\n",
       "      <td>Therapeutic</td>\n",
       "      <td>70</td>\n",
       "      <td>81</td>\n",
       "      <td>C1522449</td>\n",
       "      <td>[T061]</td>\n",
       "      <td>Strahlentherapie</td>\n",
       "      <td>[sapbert]</td>\n",
       "      <td>0.114749</td>\n",
       "    </tr>\n",
       "    <tr>\n",
       "      <th>3</th>\n",
       "      <td>27_supportive-therapie_0765_11</td>\n",
       "      <td>Chemo-</td>\n",
       "      <td>Therapeutic</td>\n",
       "      <td>87</td>\n",
       "      <td>93</td>\n",
       "      <td>C3665472</td>\n",
       "      <td>[T061]</td>\n",
       "      <td>Chemotherapie</td>\n",
       "      <td>[ngram, sapbert]</td>\n",
       "      <td>0.106600</td>\n",
       "    </tr>\n",
       "    <tr>\n",
       "      <th>4</th>\n",
       "      <td>27_supportive-therapie_0765_11</td>\n",
       "      <td>Immunotherapie</td>\n",
       "      <td>Therapeutic</td>\n",
       "      <td>99</td>\n",
       "      <td>113</td>\n",
       "      <td>C0021083</td>\n",
       "      <td>[T061]</td>\n",
       "      <td>Immuntherapie</td>\n",
       "      <td>[ngram, sapbert]</td>\n",
       "      <td>0.126997</td>\n",
       "    </tr>\n",
       "    <tr>\n",
       "      <th>5</th>\n",
       "      <td>27_supportive-therapie_0765_11</td>\n",
       "      <td>Taxanen</td>\n",
       "      <td>Clinical_Drug</td>\n",
       "      <td>123</td>\n",
       "      <td>130</td>\n",
       "      <td>C0796419</td>\n",
       "      <td>[T109]</td>\n",
       "      <td>Taxane</td>\n",
       "      <td>[ngram, sapbert]</td>\n",
       "      <td>0.079232</td>\n",
       "    </tr>\n",
       "    <tr>\n",
       "      <th>6</th>\n",
       "      <td>27_supportive-therapie_0765_11</td>\n",
       "      <td>Gemcitabin</td>\n",
       "      <td>Clinical_Drug</td>\n",
       "      <td>132</td>\n",
       "      <td>142</td>\n",
       "      <td>C0045093</td>\n",
       "      <td>[T114, T121]</td>\n",
       "      <td>2' Deoxy 2' Difluorocytidine</td>\n",
       "      <td>[ngram, sapbert]</td>\n",
       "      <td>0.132524</td>\n",
       "    </tr>\n",
       "    <tr>\n",
       "      <th>7</th>\n",
       "      <td>27_supportive-therapie_0765_11</td>\n",
       "      <td>Tyrosinkinase-</td>\n",
       "      <td>Clinical_Drug</td>\n",
       "      <td>148</td>\n",
       "      <td>162</td>\n",
       "      <td>C0033681</td>\n",
       "      <td>[T116, T126]</td>\n",
       "      <td>Protein-Tyrosin-Kinase</td>\n",
       "      <td>[ngram, sapbert]</td>\n",
       "      <td>0.141131</td>\n",
       "    </tr>\n",
       "    <tr>\n",
       "      <th>8</th>\n",
       "      <td>27_supportive-therapie_0765_11</td>\n",
       "      <td>Tyrosinkinase- Inhibitoren</td>\n",
       "      <td>Clinical_Drug</td>\n",
       "      <td>148</td>\n",
       "      <td>174</td>\n",
       "      <td>C4521478</td>\n",
       "      <td>[T080]</td>\n",
       "      <td>Tyrosine Protein Kinase Inhibitors</td>\n",
       "      <td>[ngram, sapbert]</td>\n",
       "      <td>0.139909</td>\n",
       "    </tr>\n",
       "    <tr>\n",
       "      <th>9</th>\n",
       "      <td>27_supportive-therapie_0765_11</td>\n",
       "      <td>Erlotinib</td>\n",
       "      <td>Clinical_Drug</td>\n",
       "      <td>176</td>\n",
       "      <td>185</td>\n",
       "      <td>C1135135</td>\n",
       "      <td>[T109, T121]</td>\n",
       "      <td>Erlotinib</td>\n",
       "      <td>[ngram, sapbert]</td>\n",
       "      <td>0.139762</td>\n",
       "    </tr>\n",
       "    <tr>\n",
       "      <th>10</th>\n",
       "      <td>27_supportive-therapie_0765_11</td>\n",
       "      <td>Gefitinib</td>\n",
       "      <td>Clinical_Drug</td>\n",
       "      <td>187</td>\n",
       "      <td>196</td>\n",
       "      <td>C1122962</td>\n",
       "      <td>[T109, T121]</td>\n",
       "      <td>Gefitinib</td>\n",
       "      <td>[ngram, sapbert]</td>\n",
       "      <td>0.147781</td>\n",
       "    </tr>\n",
       "    <tr>\n",
       "      <th>11</th>\n",
       "      <td>27_supportive-therapie_0765_11</td>\n",
       "      <td>Sunitinib</td>\n",
       "      <td>Clinical_Drug</td>\n",
       "      <td>198</td>\n",
       "      <td>207</td>\n",
       "      <td>C1176020</td>\n",
       "      <td>[T109, T121]</td>\n",
       "      <td>Sunitinib</td>\n",
       "      <td>[ngram, sapbert]</td>\n",
       "      <td>0.139536</td>\n",
       "    </tr>\n",
       "    <tr>\n",
       "      <th>12</th>\n",
       "      <td>27_supportive-therapie_0765_11</td>\n",
       "      <td>Folgesubstanzen</td>\n",
       "      <td>Clinical_Drug</td>\n",
       "      <td>212</td>\n",
       "      <td>227</td>\n",
       "      <td>C1564892</td>\n",
       "      <td>[T116, T121, T129]</td>\n",
       "      <td>Komplement-inaktivierende Substanzen</td>\n",
       "      <td>[ngram, sapbert]</td>\n",
       "      <td>0.068746</td>\n",
       "    </tr>\n",
       "  </tbody>\n",
       "</table>\n",
       "</div>"
      ],
      "text/plain": [
       "                          document                        text  \\\n",
       "0   27_supportive-therapie_0765_11            Recall-Phänomens   \n",
       "1   27_supportive-therapie_0765_11                 Pneumonitis   \n",
       "2   27_supportive-therapie_0765_11                 Bestrahlung   \n",
       "3   27_supportive-therapie_0765_11                      Chemo-   \n",
       "4   27_supportive-therapie_0765_11              Immunotherapie   \n",
       "5   27_supportive-therapie_0765_11                     Taxanen   \n",
       "6   27_supportive-therapie_0765_11                  Gemcitabin   \n",
       "7   27_supportive-therapie_0765_11              Tyrosinkinase-   \n",
       "8   27_supportive-therapie_0765_11  Tyrosinkinase- Inhibitoren   \n",
       "9   27_supportive-therapie_0765_11                   Erlotinib   \n",
       "10  27_supportive-therapie_0765_11                   Gefitinib   \n",
       "11  27_supportive-therapie_0765_11                   Sunitinib   \n",
       "12  27_supportive-therapie_0765_11             Folgesubstanzen   \n",
       "\n",
       "                      type  start  end       cui                tuis  \\\n",
       "0   Diagnosis_or_Pathology     15   31  C1262013              [T046]   \n",
       "1   Diagnosis_or_Pathology     42   53  C3714636              [T047]   \n",
       "2              Therapeutic     70   81  C1522449              [T061]   \n",
       "3              Therapeutic     87   93  C3665472              [T061]   \n",
       "4              Therapeutic     99  113  C0021083              [T061]   \n",
       "5            Clinical_Drug    123  130  C0796419              [T109]   \n",
       "6            Clinical_Drug    132  142  C0045093        [T114, T121]   \n",
       "7            Clinical_Drug    148  162  C0033681        [T116, T126]   \n",
       "8            Clinical_Drug    148  174  C4521478              [T080]   \n",
       "9            Clinical_Drug    176  185  C1135135        [T109, T121]   \n",
       "10           Clinical_Drug    187  196  C1122962        [T109, T121]   \n",
       "11           Clinical_Drug    198  207  C1176020        [T109, T121]   \n",
       "12           Clinical_Drug    212  227  C1564892  [T116, T121, T129]   \n",
       "\n",
       "                               canonical            linker  confidence  \n",
       "0                      Recall phenomenon  [ngram, sapbert]    0.117091  \n",
       "1                            Pneumonitis  [ngram, sapbert]    0.129898  \n",
       "2                       Strahlentherapie         [sapbert]    0.114749  \n",
       "3                          Chemotherapie  [ngram, sapbert]    0.106600  \n",
       "4                          Immuntherapie  [ngram, sapbert]    0.126997  \n",
       "5                                 Taxane  [ngram, sapbert]    0.079232  \n",
       "6           2' Deoxy 2' Difluorocytidine  [ngram, sapbert]    0.132524  \n",
       "7                 Protein-Tyrosin-Kinase  [ngram, sapbert]    0.141131  \n",
       "8     Tyrosine Protein Kinase Inhibitors  [ngram, sapbert]    0.139909  \n",
       "9                              Erlotinib  [ngram, sapbert]    0.139762  \n",
       "10                             Gefitinib  [ngram, sapbert]    0.147781  \n",
       "11                             Sunitinib  [ngram, sapbert]    0.139536  \n",
       "12  Komplement-inaktivierende Substanzen  [ngram, sapbert]    0.068746  "
      ]
     },
     "metadata": {},
     "output_type": "display_data"
    },
    {
     "data": {
      "application/vnd.jupyter.widget-view+json": {
       "model_id": "f2b0b329396c4db08348b476e23484c6",
       "version_major": 2,
       "version_minor": 0
      },
      "text/plain": [
       "  0%|          | 0/1 [00:00<?, ?it/s]"
      ]
     },
     "metadata": {},
     "output_type": "display_data"
    },
    {
     "data": {
      "text/html": [
       "<div>\n",
       "<style scoped>\n",
       "    .dataframe tbody tr th:only-of-type {\n",
       "        vertical-align: middle;\n",
       "    }\n",
       "\n",
       "    .dataframe tbody tr th {\n",
       "        vertical-align: top;\n",
       "    }\n",
       "\n",
       "    .dataframe thead th {\n",
       "        text-align: right;\n",
       "    }\n",
       "</style>\n",
       "<table border=\"1\" class=\"dataframe\">\n",
       "  <thead>\n",
       "    <tr style=\"text-align: right;\">\n",
       "      <th></th>\n",
       "      <th>document</th>\n",
       "      <th>text</th>\n",
       "      <th>type</th>\n",
       "      <th>start</th>\n",
       "      <th>end</th>\n",
       "      <th>cui</th>\n",
       "      <th>tuis</th>\n",
       "      <th>canonical</th>\n",
       "      <th>linker</th>\n",
       "      <th>confidence</th>\n",
       "    </tr>\n",
       "  </thead>\n",
       "  <tbody>\n",
       "    <tr>\n",
       "      <th>0</th>\n",
       "      <td>27_supportive-therapie_0765_11</td>\n",
       "      <td>Recall-Phänomens</td>\n",
       "      <td>Diagnosis_or_Pathology</td>\n",
       "      <td>15</td>\n",
       "      <td>31</td>\n",
       "      <td>C1262013</td>\n",
       "      <td>[T046]</td>\n",
       "      <td>Recall phenomenon</td>\n",
       "      <td>[ngram, sapbert]</td>\n",
       "      <td>0.121586</td>\n",
       "    </tr>\n",
       "    <tr>\n",
       "      <th>1</th>\n",
       "      <td>27_supportive-therapie_0765_11</td>\n",
       "      <td>Pneumonitis</td>\n",
       "      <td>Diagnosis_or_Pathology</td>\n",
       "      <td>42</td>\n",
       "      <td>53</td>\n",
       "      <td>C3714636</td>\n",
       "      <td>[T047]</td>\n",
       "      <td>Pneumonitis</td>\n",
       "      <td>[ngram, sapbert]</td>\n",
       "      <td>0.129718</td>\n",
       "    </tr>\n",
       "    <tr>\n",
       "      <th>2</th>\n",
       "      <td>27_supportive-therapie_0765_11</td>\n",
       "      <td>Bestrahlung</td>\n",
       "      <td>Therapeutic</td>\n",
       "      <td>70</td>\n",
       "      <td>81</td>\n",
       "      <td>C1522449</td>\n",
       "      <td>[T061]</td>\n",
       "      <td>Strahlentherapie</td>\n",
       "      <td>[sapbert]</td>\n",
       "      <td>0.116514</td>\n",
       "    </tr>\n",
       "    <tr>\n",
       "      <th>3</th>\n",
       "      <td>27_supportive-therapie_0765_11</td>\n",
       "      <td>Chemotherapie</td>\n",
       "      <td>Therapeutic</td>\n",
       "      <td>87</td>\n",
       "      <td>100</td>\n",
       "      <td>C3665472</td>\n",
       "      <td>[T061]</td>\n",
       "      <td>Chemotherapie</td>\n",
       "      <td>[ngram, sapbert]</td>\n",
       "      <td>0.107880</td>\n",
       "    </tr>\n",
       "    <tr>\n",
       "      <th>4</th>\n",
       "      <td>27_supportive-therapie_0765_11</td>\n",
       "      <td>Immunotherapie</td>\n",
       "      <td>Therapeutic</td>\n",
       "      <td>106</td>\n",
       "      <td>120</td>\n",
       "      <td>C0021083</td>\n",
       "      <td>[T061]</td>\n",
       "      <td>Immuntherapie</td>\n",
       "      <td>[ngram, sapbert]</td>\n",
       "      <td>0.125116</td>\n",
       "    </tr>\n",
       "    <tr>\n",
       "      <th>5</th>\n",
       "      <td>27_supportive-therapie_0765_11</td>\n",
       "      <td>Taxanen</td>\n",
       "      <td>Clinical_Drug</td>\n",
       "      <td>130</td>\n",
       "      <td>137</td>\n",
       "      <td>C0796419</td>\n",
       "      <td>[T109]</td>\n",
       "      <td>Taxane</td>\n",
       "      <td>[ngram, sapbert]</td>\n",
       "      <td>0.077322</td>\n",
       "    </tr>\n",
       "    <tr>\n",
       "      <th>6</th>\n",
       "      <td>27_supportive-therapie_0765_11</td>\n",
       "      <td>Gemcitabin</td>\n",
       "      <td>Clinical_Drug</td>\n",
       "      <td>139</td>\n",
       "      <td>149</td>\n",
       "      <td>C0045093</td>\n",
       "      <td>[T114, T121]</td>\n",
       "      <td>2' Deoxy 2' Difluorocytidine</td>\n",
       "      <td>[ngram, sapbert]</td>\n",
       "      <td>0.135344</td>\n",
       "    </tr>\n",
       "    <tr>\n",
       "      <th>7</th>\n",
       "      <td>27_supportive-therapie_0765_11</td>\n",
       "      <td>Tyrosinkinase-</td>\n",
       "      <td>Clinical_Drug</td>\n",
       "      <td>155</td>\n",
       "      <td>169</td>\n",
       "      <td>C0033681</td>\n",
       "      <td>[T116, T126]</td>\n",
       "      <td>Protein-Tyrosin-Kinase</td>\n",
       "      <td>[ngram, sapbert]</td>\n",
       "      <td>0.134931</td>\n",
       "    </tr>\n",
       "    <tr>\n",
       "      <th>8</th>\n",
       "      <td>27_supportive-therapie_0765_11</td>\n",
       "      <td>Tyrosinkinase- Inhibitoren</td>\n",
       "      <td>Clinical_Drug</td>\n",
       "      <td>155</td>\n",
       "      <td>181</td>\n",
       "      <td>C4521478</td>\n",
       "      <td>[T080]</td>\n",
       "      <td>Tyrosine Protein Kinase Inhibitors</td>\n",
       "      <td>[ngram, sapbert]</td>\n",
       "      <td>0.137750</td>\n",
       "    </tr>\n",
       "    <tr>\n",
       "      <th>9</th>\n",
       "      <td>27_supportive-therapie_0765_11</td>\n",
       "      <td>Erlotinib</td>\n",
       "      <td>Clinical_Drug</td>\n",
       "      <td>183</td>\n",
       "      <td>192</td>\n",
       "      <td>C1135135</td>\n",
       "      <td>[T109, T121]</td>\n",
       "      <td>Erlotinib</td>\n",
       "      <td>[ngram, sapbert]</td>\n",
       "      <td>0.140089</td>\n",
       "    </tr>\n",
       "    <tr>\n",
       "      <th>10</th>\n",
       "      <td>27_supportive-therapie_0765_11</td>\n",
       "      <td>Gefitinib</td>\n",
       "      <td>Clinical_Drug</td>\n",
       "      <td>194</td>\n",
       "      <td>203</td>\n",
       "      <td>C1122962</td>\n",
       "      <td>[T109, T121]</td>\n",
       "      <td>Gefitinib</td>\n",
       "      <td>[ngram, sapbert]</td>\n",
       "      <td>0.149699</td>\n",
       "    </tr>\n",
       "    <tr>\n",
       "      <th>11</th>\n",
       "      <td>27_supportive-therapie_0765_11</td>\n",
       "      <td>Sunitinib</td>\n",
       "      <td>Clinical_Drug</td>\n",
       "      <td>205</td>\n",
       "      <td>214</td>\n",
       "      <td>C1176020</td>\n",
       "      <td>[T109, T121]</td>\n",
       "      <td>Sunitinib</td>\n",
       "      <td>[ngram, sapbert]</td>\n",
       "      <td>0.141609</td>\n",
       "    </tr>\n",
       "    <tr>\n",
       "      <th>12</th>\n",
       "      <td>27_supportive-therapie_0765_11</td>\n",
       "      <td>Folgesubstanzen</td>\n",
       "      <td>Clinical_Drug</td>\n",
       "      <td>219</td>\n",
       "      <td>234</td>\n",
       "      <td>C1564892</td>\n",
       "      <td>[T116, T121, T129]</td>\n",
       "      <td>Komplement-inaktivierende Substanzen</td>\n",
       "      <td>[ngram, sapbert]</td>\n",
       "      <td>0.063600</td>\n",
       "    </tr>\n",
       "  </tbody>\n",
       "</table>\n",
       "</div>"
      ],
      "text/plain": [
       "                          document                        text  \\\n",
       "0   27_supportive-therapie_0765_11            Recall-Phänomens   \n",
       "1   27_supportive-therapie_0765_11                 Pneumonitis   \n",
       "2   27_supportive-therapie_0765_11                 Bestrahlung   \n",
       "3   27_supportive-therapie_0765_11               Chemotherapie   \n",
       "4   27_supportive-therapie_0765_11              Immunotherapie   \n",
       "5   27_supportive-therapie_0765_11                     Taxanen   \n",
       "6   27_supportive-therapie_0765_11                  Gemcitabin   \n",
       "7   27_supportive-therapie_0765_11              Tyrosinkinase-   \n",
       "8   27_supportive-therapie_0765_11  Tyrosinkinase- Inhibitoren   \n",
       "9   27_supportive-therapie_0765_11                   Erlotinib   \n",
       "10  27_supportive-therapie_0765_11                   Gefitinib   \n",
       "11  27_supportive-therapie_0765_11                   Sunitinib   \n",
       "12  27_supportive-therapie_0765_11             Folgesubstanzen   \n",
       "\n",
       "                      type  start  end       cui                tuis  \\\n",
       "0   Diagnosis_or_Pathology     15   31  C1262013              [T046]   \n",
       "1   Diagnosis_or_Pathology     42   53  C3714636              [T047]   \n",
       "2              Therapeutic     70   81  C1522449              [T061]   \n",
       "3              Therapeutic     87  100  C3665472              [T061]   \n",
       "4              Therapeutic    106  120  C0021083              [T061]   \n",
       "5            Clinical_Drug    130  137  C0796419              [T109]   \n",
       "6            Clinical_Drug    139  149  C0045093        [T114, T121]   \n",
       "7            Clinical_Drug    155  169  C0033681        [T116, T126]   \n",
       "8            Clinical_Drug    155  181  C4521478              [T080]   \n",
       "9            Clinical_Drug    183  192  C1135135        [T109, T121]   \n",
       "10           Clinical_Drug    194  203  C1122962        [T109, T121]   \n",
       "11           Clinical_Drug    205  214  C1176020        [T109, T121]   \n",
       "12           Clinical_Drug    219  234  C1564892  [T116, T121, T129]   \n",
       "\n",
       "                               canonical            linker  confidence  \n",
       "0                      Recall phenomenon  [ngram, sapbert]    0.121586  \n",
       "1                            Pneumonitis  [ngram, sapbert]    0.129718  \n",
       "2                       Strahlentherapie         [sapbert]    0.116514  \n",
       "3                          Chemotherapie  [ngram, sapbert]    0.107880  \n",
       "4                          Immuntherapie  [ngram, sapbert]    0.125116  \n",
       "5                                 Taxane  [ngram, sapbert]    0.077322  \n",
       "6           2' Deoxy 2' Difluorocytidine  [ngram, sapbert]    0.135344  \n",
       "7                 Protein-Tyrosin-Kinase  [ngram, sapbert]    0.134931  \n",
       "8     Tyrosine Protein Kinase Inhibitors  [ngram, sapbert]    0.137750  \n",
       "9                              Erlotinib  [ngram, sapbert]    0.140089  \n",
       "10                             Gefitinib  [ngram, sapbert]    0.149699  \n",
       "11                             Sunitinib  [ngram, sapbert]    0.141609  \n",
       "12  Komplement-inaktivierende Substanzen  [ngram, sapbert]    0.063600  "
      ]
     },
     "metadata": {},
     "output_type": "display_data"
    }
   ],
   "source": [
    "res_before = linking_results['before_eccnp']['reranked']\n",
    "res_after = linking_results['after_eccnp']['reranked']\n",
    "\n",
    "assert len(res_sem) == len(res_no_sem)\n",
    "\n",
    "diff_text = 0\n",
    "diff_ents = 0\n",
    "for d_b, d_a in zip(res_before, res_after):\n",
    "    if d_b['passages'] != d_a['passages']: \n",
    "        diff_text += 1\n",
    "        if get_ent_texts(d_b) != get_ent_texts(d_a):\n",
    "            diff_ents += 1\n",
    "            t_a = d_a['passages'][0]['text'][0]\n",
    "            t_b = d_b['passages'][0]['text'][0]\n",
    "            print('Difference', diff_ents)\n",
    "            show_diff_single(t_b, t_a)\n",
    "            display(get_annotation_dataframe([d_b], linker.kb, 1, 0.0))\n",
    "            display(get_annotation_dataframe([d_a], linker.kb, 1, 0.0))"
   ]
  },
  {
   "cell_type": "markdown",
   "id": "f1a01a1c-f99c-4fb5-82d6-1e567e3fc170",
   "metadata": {
    "tags": []
   },
   "source": [
    "# Examples"
   ]
  },
  {
   "cell_type": "code",
   "execution_count": 18,
   "id": "73fad2e8-6ea0-4138-b9ac-a4e84175012b",
   "metadata": {
    "tags": []
   },
   "outputs": [],
   "source": [
    "df_analysis = get_annotation_dataframe(res_after, linker.kb, 3, 0.0, show_progress=False)"
   ]
  },
  {
   "cell_type": "code",
   "execution_count": 28,
   "id": "c316bf57-9cb3-4e0d-a52a-09afd2a1047b",
   "metadata": {
    "tags": []
   },
   "outputs": [],
   "source": [
    "german_umls = load_kb(Path(conf.cache_dir) / 'german_umls' / 'german_umls.jsonl')"
   ]
  },
  {
   "cell_type": "code",
   "execution_count": 31,
   "id": "9e07b360-d635-4941-94ff-e72bedac2d43",
   "metadata": {
    "tags": []
   },
   "outputs": [],
   "source": [
    "def get_example(i):\n",
    "    doc = df_analysis.loc[i].document\n",
    "    d = res_after.filter(lambda d: d['document_id'] == doc)[0]\n",
    "    print(d['passages'])"
   ]
  },
  {
   "cell_type": "markdown",
   "id": "69b163ed-5bfc-473b-8e48-098df7ba4216",
   "metadata": {
    "tags": []
   },
   "source": [
    "### Language Mismatch"
   ]
  },
  {
   "cell_type": "code",
   "execution_count": 37,
   "id": "09da1acc-fe45-49eb-91c9-e398de41c810",
   "metadata": {},
   "outputs": [
    {
     "data": {
      "text/html": [
       "<div>\n",
       "<style scoped>\n",
       "    .dataframe tbody tr th:only-of-type {\n",
       "        vertical-align: middle;\n",
       "    }\n",
       "\n",
       "    .dataframe tbody tr th {\n",
       "        vertical-align: top;\n",
       "    }\n",
       "\n",
       "    .dataframe thead th {\n",
       "        text-align: right;\n",
       "    }\n",
       "</style>\n",
       "<table border=\"1\" class=\"dataframe\">\n",
       "  <thead>\n",
       "    <tr style=\"text-align: right;\">\n",
       "      <th></th>\n",
       "      <th>document</th>\n",
       "      <th>text</th>\n",
       "      <th>type</th>\n",
       "      <th>start</th>\n",
       "      <th>end</th>\n",
       "      <th>cui</th>\n",
       "      <th>tuis</th>\n",
       "      <th>canonical</th>\n",
       "      <th>linker</th>\n",
       "      <th>confidence</th>\n",
       "    </tr>\n",
       "  </thead>\n",
       "  <tbody>\n",
       "    <tr>\n",
       "      <th>2247</th>\n",
       "      <td>18_hodgkin-lymphom_0051_39</td>\n",
       "      <td>Therapie des Hodgkin-Lymphoms</td>\n",
       "      <td>Therapeutic</td>\n",
       "      <td>94</td>\n",
       "      <td>123</td>\n",
       "      <td>C5557287</td>\n",
       "      <td>[T170]</td>\n",
       "      <td>HL Project Terminology</td>\n",
       "      <td>[ngram, sapbert]</td>\n",
       "      <td>0.356148</td>\n",
       "    </tr>\n",
       "    <tr>\n",
       "      <th>2205</th>\n",
       "      <td>18_hodgkin-lymphom_0051_36</td>\n",
       "      <td>Therapie des Hodgkin Lymphoms</td>\n",
       "      <td>Therapeutic</td>\n",
       "      <td>146</td>\n",
       "      <td>175</td>\n",
       "      <td>C5557287</td>\n",
       "      <td>[T170]</td>\n",
       "      <td>HL Project Terminology</td>\n",
       "      <td>[ngram, sapbert]</td>\n",
       "      <td>0.349378</td>\n",
       "    </tr>\n",
       "    <tr>\n",
       "      <th>2248</th>\n",
       "      <td>18_hodgkin-lymphom_0051_39</td>\n",
       "      <td>Therapie des Hodgkin-Lymphoms</td>\n",
       "      <td>Therapeutic</td>\n",
       "      <td>94</td>\n",
       "      <td>123</td>\n",
       "      <td>C1880049</td>\n",
       "      <td>[T061]</td>\n",
       "      <td>Regimen Used to Treat Hodgkin Lymphoma</td>\n",
       "      <td>[sapbert]</td>\n",
       "      <td>0.325739</td>\n",
       "    </tr>\n",
       "    <tr>\n",
       "      <th>2206</th>\n",
       "      <td>18_hodgkin-lymphom_0051_36</td>\n",
       "      <td>Therapie des Hodgkin Lymphoms</td>\n",
       "      <td>Therapeutic</td>\n",
       "      <td>146</td>\n",
       "      <td>175</td>\n",
       "      <td>C1880049</td>\n",
       "      <td>[T061]</td>\n",
       "      <td>Regimen Used to Treat Hodgkin Lymphoma</td>\n",
       "      <td>[sapbert]</td>\n",
       "      <td>0.325507</td>\n",
       "    </tr>\n",
       "    <tr>\n",
       "      <th>2207</th>\n",
       "      <td>18_hodgkin-lymphom_0051_36</td>\n",
       "      <td>Therapie des Hodgkin Lymphoms</td>\n",
       "      <td>Therapeutic</td>\n",
       "      <td>146</td>\n",
       "      <td>175</td>\n",
       "      <td>C5670459</td>\n",
       "      <td>[T170]</td>\n",
       "      <td>HL Radiation Therapy Table</td>\n",
       "      <td>[ngram]</td>\n",
       "      <td>0.325115</td>\n",
       "    </tr>\n",
       "    <tr>\n",
       "      <th>2249</th>\n",
       "      <td>18_hodgkin-lymphom_0051_39</td>\n",
       "      <td>Therapie des Hodgkin-Lymphoms</td>\n",
       "      <td>Therapeutic</td>\n",
       "      <td>94</td>\n",
       "      <td>123</td>\n",
       "      <td>C5670459</td>\n",
       "      <td>[T170]</td>\n",
       "      <td>HL Radiation Therapy Table</td>\n",
       "      <td>[ngram]</td>\n",
       "      <td>0.318113</td>\n",
       "    </tr>\n",
       "    <tr>\n",
       "      <th>2499</th>\n",
       "      <td>21_hodentumoren_0260_12</td>\n",
       "      <td>schlechten Prognose</td>\n",
       "      <td>Other_Finding</td>\n",
       "      <td>91</td>\n",
       "      <td>110</td>\n",
       "      <td>C0278252</td>\n",
       "      <td>[T033]</td>\n",
       "      <td>Prognosis bad</td>\n",
       "      <td>[ngram, sapbert]</td>\n",
       "      <td>0.165607</td>\n",
       "    </tr>\n",
       "    <tr>\n",
       "      <th>2925</th>\n",
       "      <td>22_prostatakarzinom_0153_0</td>\n",
       "      <td>Padeliporfin</td>\n",
       "      <td>Clinical_Drug</td>\n",
       "      <td>57</td>\n",
       "      <td>69</td>\n",
       "      <td>C2698706</td>\n",
       "      <td>[T116, T121, T123]</td>\n",
       "      <td>padeliporfin</td>\n",
       "      <td>[ngram, sapbert]</td>\n",
       "      <td>0.158451</td>\n",
       "    </tr>\n",
       "    <tr>\n",
       "      <th>1155</th>\n",
       "      <td>07_malignes-melanom_0197_24</td>\n",
       "      <td>Mycophenolatmofetil</td>\n",
       "      <td>Clinical_Drug</td>\n",
       "      <td>241</td>\n",
       "      <td>260</td>\n",
       "      <td>C0209368</td>\n",
       "      <td>[T109, T121]</td>\n",
       "      <td>Mycophenolate mofetil (substance)</td>\n",
       "      <td>[ngram, sapbert]</td>\n",
       "      <td>0.158230</td>\n",
       "    </tr>\n",
       "    <tr>\n",
       "      <th>2976</th>\n",
       "      <td>22_prostatakarzinom_0153_2</td>\n",
       "      <td>Padeliporfin</td>\n",
       "      <td>Clinical_Drug</td>\n",
       "      <td>0</td>\n",
       "      <td>12</td>\n",
       "      <td>C2698706</td>\n",
       "      <td>[T116, T121, T123]</td>\n",
       "      <td>padeliporfin</td>\n",
       "      <td>[ngram, sapbert]</td>\n",
       "      <td>0.157192</td>\n",
       "    </tr>\n",
       "    <tr>\n",
       "      <th>2970</th>\n",
       "      <td>22_prostatakarzinom_0153_1</td>\n",
       "      <td>Padeliporfin</td>\n",
       "      <td>Clinical_Drug</td>\n",
       "      <td>128</td>\n",
       "      <td>140</td>\n",
       "      <td>C2698706</td>\n",
       "      <td>[T116, T121, T123]</td>\n",
       "      <td>padeliporfin</td>\n",
       "      <td>[ngram, sapbert]</td>\n",
       "      <td>0.156313</td>\n",
       "    </tr>\n",
       "    <tr>\n",
       "      <th>2460</th>\n",
       "      <td>21_hodentumoren_0260_8</td>\n",
       "      <td>histologischen Subtypen</td>\n",
       "      <td>Diagnosis_or_Pathology</td>\n",
       "      <td>46</td>\n",
       "      <td>69</td>\n",
       "      <td>C1519691</td>\n",
       "      <td>[T185]</td>\n",
       "      <td>Histologic Subtype</td>\n",
       "      <td>[ngram, sapbert]</td>\n",
       "      <td>0.155735</td>\n",
       "    </tr>\n",
       "    <tr>\n",
       "      <th>651</th>\n",
       "      <td>04_praevention-zervixkarzinom_0211_14</td>\n",
       "      <td>endozervikalen Biopsie</td>\n",
       "      <td>Diagnostic</td>\n",
       "      <td>43</td>\n",
       "      <td>65</td>\n",
       "      <td>C0195343</td>\n",
       "      <td>[T060]</td>\n",
       "      <td>Endocervical biopsy</td>\n",
       "      <td>[sapbert]</td>\n",
       "      <td>0.155314</td>\n",
       "    </tr>\n",
       "    <tr>\n",
       "      <th>312</th>\n",
       "      <td>03_lungenkarzinom_0010_0</td>\n",
       "      <td>Radon-222</td>\n",
       "      <td>External_Substance</td>\n",
       "      <td>0</td>\n",
       "      <td>9</td>\n",
       "      <td>C0303292</td>\n",
       "      <td>[T130, T196]</td>\n",
       "      <td>Radon-222</td>\n",
       "      <td>[ngram, sapbert]</td>\n",
       "      <td>0.152297</td>\n",
       "    </tr>\n",
       "    <tr>\n",
       "      <th>2709</th>\n",
       "      <td>21_hodentumoren_0260_31</td>\n",
       "      <td>Chemosensitivität</td>\n",
       "      <td>Other_Finding</td>\n",
       "      <td>4</td>\n",
       "      <td>21</td>\n",
       "      <td>C2347610</td>\n",
       "      <td>[T033]</td>\n",
       "      <td>Chemosensitivity</td>\n",
       "      <td>[ngram, sapbert]</td>\n",
       "      <td>0.150767</td>\n",
       "    </tr>\n",
       "    <tr>\n",
       "      <th>3453</th>\n",
       "      <td>27_supportive-therapie_0765_18</td>\n",
       "      <td>Tyrosinkinase- Inhibitoren</td>\n",
       "      <td>Clinical_Drug</td>\n",
       "      <td>39</td>\n",
       "      <td>65</td>\n",
       "      <td>C4521478</td>\n",
       "      <td>[T080]</td>\n",
       "      <td>Tyrosine Protein Kinase Inhibitors</td>\n",
       "      <td>[ngram, sapbert]</td>\n",
       "      <td>0.150446</td>\n",
       "    </tr>\n",
       "    <tr>\n",
       "      <th>1002</th>\n",
       "      <td>07_malignes-melanom_0197_10</td>\n",
       "      <td>Entecavir</td>\n",
       "      <td>Clinical_Drug</td>\n",
       "      <td>105</td>\n",
       "      <td>114</td>\n",
       "      <td>C0971023</td>\n",
       "      <td>[T114, T121]</td>\n",
       "      <td>entecavir</td>\n",
       "      <td>[ngram, sapbert]</td>\n",
       "      <td>0.146759</td>\n",
       "    </tr>\n",
       "    <tr>\n",
       "      <th>606</th>\n",
       "      <td>04_praevention-zervixkarzinom_0211_10</td>\n",
       "      <td>Ablation</td>\n",
       "      <td>Therapeutic</td>\n",
       "      <td>24</td>\n",
       "      <td>32</td>\n",
       "      <td>C0547070</td>\n",
       "      <td>[T061]</td>\n",
       "      <td>Local Ablative Therapy</td>\n",
       "      <td>[ngram, sapbert]</td>\n",
       "      <td>0.146128</td>\n",
       "    </tr>\n",
       "    <tr>\n",
       "      <th>1641</th>\n",
       "      <td>11_hepatozellulaeres-karzinom-und-biliaere-kar...</td>\n",
       "      <td>perihiläres Cholangiokarzinom</td>\n",
       "      <td>Diagnosis_or_Pathology</td>\n",
       "      <td>150</td>\n",
       "      <td>179</td>\n",
       "      <td>C4045991</td>\n",
       "      <td>[T191]</td>\n",
       "      <td>Perihilar cholangiocarcinoma</td>\n",
       "      <td>[ngram, sapbert]</td>\n",
       "      <td>0.144640</td>\n",
       "    </tr>\n",
       "    <tr>\n",
       "      <th>2919</th>\n",
       "      <td>22_prostatakarzinom_0153_0</td>\n",
       "      <td>vaskulär-gezielte photodynamische Therapie (VT...</td>\n",
       "      <td>Therapeutic</td>\n",
       "      <td>4</td>\n",
       "      <td>69</td>\n",
       "      <td>C2698706</td>\n",
       "      <td>[T116, T121, T123]</td>\n",
       "      <td>padeliporfin</td>\n",
       "      <td>[sapbert]</td>\n",
       "      <td>0.144217</td>\n",
       "    </tr>\n",
       "  </tbody>\n",
       "</table>\n",
       "</div>"
      ],
      "text/plain": [
       "                                               document  \\\n",
       "2247                         18_hodgkin-lymphom_0051_39   \n",
       "2205                         18_hodgkin-lymphom_0051_36   \n",
       "2248                         18_hodgkin-lymphom_0051_39   \n",
       "2206                         18_hodgkin-lymphom_0051_36   \n",
       "2207                         18_hodgkin-lymphom_0051_36   \n",
       "2249                         18_hodgkin-lymphom_0051_39   \n",
       "2499                            21_hodentumoren_0260_12   \n",
       "2925                         22_prostatakarzinom_0153_0   \n",
       "1155                        07_malignes-melanom_0197_24   \n",
       "2976                         22_prostatakarzinom_0153_2   \n",
       "2970                         22_prostatakarzinom_0153_1   \n",
       "2460                             21_hodentumoren_0260_8   \n",
       "651               04_praevention-zervixkarzinom_0211_14   \n",
       "312                            03_lungenkarzinom_0010_0   \n",
       "2709                            21_hodentumoren_0260_31   \n",
       "3453                     27_supportive-therapie_0765_18   \n",
       "1002                        07_malignes-melanom_0197_10   \n",
       "606               04_praevention-zervixkarzinom_0211_10   \n",
       "1641  11_hepatozellulaeres-karzinom-und-biliaere-kar...   \n",
       "2919                         22_prostatakarzinom_0153_0   \n",
       "\n",
       "                                                   text  \\\n",
       "2247                      Therapie des Hodgkin-Lymphoms   \n",
       "2205                      Therapie des Hodgkin Lymphoms   \n",
       "2248                      Therapie des Hodgkin-Lymphoms   \n",
       "2206                      Therapie des Hodgkin Lymphoms   \n",
       "2207                      Therapie des Hodgkin Lymphoms   \n",
       "2249                      Therapie des Hodgkin-Lymphoms   \n",
       "2499                                schlechten Prognose   \n",
       "2925                                       Padeliporfin   \n",
       "1155                                Mycophenolatmofetil   \n",
       "2976                                       Padeliporfin   \n",
       "2970                                       Padeliporfin   \n",
       "2460                            histologischen Subtypen   \n",
       "651                              endozervikalen Biopsie   \n",
       "312                                           Radon-222   \n",
       "2709                                  Chemosensitivität   \n",
       "3453                         Tyrosinkinase- Inhibitoren   \n",
       "1002                                          Entecavir   \n",
       "606                                            Ablation   \n",
       "1641                      perihiläres Cholangiokarzinom   \n",
       "2919  vaskulär-gezielte photodynamische Therapie (VT...   \n",
       "\n",
       "                        type  start  end       cui                tuis  \\\n",
       "2247             Therapeutic     94  123  C5557287              [T170]   \n",
       "2205             Therapeutic    146  175  C5557287              [T170]   \n",
       "2248             Therapeutic     94  123  C1880049              [T061]   \n",
       "2206             Therapeutic    146  175  C1880049              [T061]   \n",
       "2207             Therapeutic    146  175  C5670459              [T170]   \n",
       "2249             Therapeutic     94  123  C5670459              [T170]   \n",
       "2499           Other_Finding     91  110  C0278252              [T033]   \n",
       "2925           Clinical_Drug     57   69  C2698706  [T116, T121, T123]   \n",
       "1155           Clinical_Drug    241  260  C0209368        [T109, T121]   \n",
       "2976           Clinical_Drug      0   12  C2698706  [T116, T121, T123]   \n",
       "2970           Clinical_Drug    128  140  C2698706  [T116, T121, T123]   \n",
       "2460  Diagnosis_or_Pathology     46   69  C1519691              [T185]   \n",
       "651               Diagnostic     43   65  C0195343              [T060]   \n",
       "312       External_Substance      0    9  C0303292        [T130, T196]   \n",
       "2709           Other_Finding      4   21  C2347610              [T033]   \n",
       "3453           Clinical_Drug     39   65  C4521478              [T080]   \n",
       "1002           Clinical_Drug    105  114  C0971023        [T114, T121]   \n",
       "606              Therapeutic     24   32  C0547070              [T061]   \n",
       "1641  Diagnosis_or_Pathology    150  179  C4045991              [T191]   \n",
       "2919             Therapeutic      4   69  C2698706  [T116, T121, T123]   \n",
       "\n",
       "                                   canonical            linker  confidence  \n",
       "2247                  HL Project Terminology  [ngram, sapbert]    0.356148  \n",
       "2205                  HL Project Terminology  [ngram, sapbert]    0.349378  \n",
       "2248  Regimen Used to Treat Hodgkin Lymphoma         [sapbert]    0.325739  \n",
       "2206  Regimen Used to Treat Hodgkin Lymphoma         [sapbert]    0.325507  \n",
       "2207              HL Radiation Therapy Table           [ngram]    0.325115  \n",
       "2249              HL Radiation Therapy Table           [ngram]    0.318113  \n",
       "2499                           Prognosis bad  [ngram, sapbert]    0.165607  \n",
       "2925                            padeliporfin  [ngram, sapbert]    0.158451  \n",
       "1155       Mycophenolate mofetil (substance)  [ngram, sapbert]    0.158230  \n",
       "2976                            padeliporfin  [ngram, sapbert]    0.157192  \n",
       "2970                            padeliporfin  [ngram, sapbert]    0.156313  \n",
       "2460                      Histologic Subtype  [ngram, sapbert]    0.155735  \n",
       "651                      Endocervical biopsy         [sapbert]    0.155314  \n",
       "312                                Radon-222  [ngram, sapbert]    0.152297  \n",
       "2709                        Chemosensitivity  [ngram, sapbert]    0.150767  \n",
       "3453      Tyrosine Protein Kinase Inhibitors  [ngram, sapbert]    0.150446  \n",
       "1002                               entecavir  [ngram, sapbert]    0.146759  \n",
       "606                   Local Ablative Therapy  [ngram, sapbert]    0.146128  \n",
       "1641            Perihilar cholangiocarcinoma  [ngram, sapbert]    0.144640  \n",
       "2919                            padeliporfin         [sapbert]    0.144217  "
      ]
     },
     "execution_count": 37,
     "metadata": {},
     "output_type": "execute_result"
    }
   ],
   "source": [
    "df_analysis[df_analysis.cui.map(lambda c: not c in german_umls.cui_to_entity)].sort_values('confidence', ascending=False)[0:20]"
   ]
  },
  {
   "cell_type": "code",
   "execution_count": 38,
   "id": "38afc8b8-7084-477f-bef2-439f1b422a71",
   "metadata": {
    "tags": []
   },
   "outputs": [
    {
     "data": {
      "application/vnd.jupyter.widget-view+json": {
       "model_id": "1028b0438c3048c39276738ff5d0559b",
       "version_major": 2,
       "version_minor": 0
      },
      "text/plain": [
       "Filter:   0%|          | 0/374 [00:00<?, ? examples/s]"
      ]
     },
     "metadata": {},
     "output_type": "display_data"
    },
    {
     "name": "stdout",
     "output_type": "stream",
     "text": [
      "[{'id': '0', 'type': 'sentence', 'text': ['Bei V.a. autoimmuner Myokarditis kann eine Myokardbiopsie richtungsweisend sein.'], 'offsets': [[0, 80]]}]\n"
     ]
    }
   ],
   "source": [
    "get_example(1404)"
   ]
  },
  {
   "cell_type": "markdown",
   "id": "2223faa4-76f5-4b3c-a9b5-5b6102c9ee81",
   "metadata": {},
   "source": [
    "### Complex Entities"
   ]
  },
  {
   "cell_type": "code",
   "execution_count": 55,
   "id": "7c7ffc62-82ea-49f8-882e-8690560e7d65",
   "metadata": {
    "tags": []
   },
   "outputs": [
    {
     "data": {
      "text/html": [
       "<div>\n",
       "<style scoped>\n",
       "    .dataframe tbody tr th:only-of-type {\n",
       "        vertical-align: middle;\n",
       "    }\n",
       "\n",
       "    .dataframe tbody tr th {\n",
       "        vertical-align: top;\n",
       "    }\n",
       "\n",
       "    .dataframe thead th {\n",
       "        text-align: right;\n",
       "    }\n",
       "</style>\n",
       "<table border=\"1\" class=\"dataframe\">\n",
       "  <thead>\n",
       "    <tr style=\"text-align: right;\">\n",
       "      <th></th>\n",
       "      <th>document</th>\n",
       "      <th>text</th>\n",
       "      <th>type</th>\n",
       "      <th>start</th>\n",
       "      <th>end</th>\n",
       "      <th>cui</th>\n",
       "      <th>tuis</th>\n",
       "      <th>canonical</th>\n",
       "      <th>linker</th>\n",
       "      <th>confidence</th>\n",
       "    </tr>\n",
       "  </thead>\n",
       "  <tbody>\n",
       "    <tr>\n",
       "      <th>1560</th>\n",
       "      <td>08_aktinische-keratose-und-plattenepithelkarzi...</td>\n",
       "      <td>Diclofenac-Natrium 3% in Hyaluronsäure 2,5% Gel</td>\n",
       "      <td>Clinical_Drug</td>\n",
       "      <td>109</td>\n",
       "      <td>156</td>\n",
       "      <td>C2348252</td>\n",
       "      <td>[T200]</td>\n",
       "      <td>Diclofenac Sodium Gel</td>\n",
       "      <td>[ngram, sapbert]</td>\n",
       "      <td>0.095816</td>\n",
       "    </tr>\n",
       "    <tr>\n",
       "      <th>1590</th>\n",
       "      <td>08_aktinische-keratose-und-plattenepithelkarzi...</td>\n",
       "      <td>Diclofenac-Natrium 3% in Hyaluronsäure 2,5% Gel</td>\n",
       "      <td>Clinical_Drug</td>\n",
       "      <td>130</td>\n",
       "      <td>177</td>\n",
       "      <td>C2348252</td>\n",
       "      <td>[T200]</td>\n",
       "      <td>Diclofenac Sodium Gel</td>\n",
       "      <td>[ngram, sapbert]</td>\n",
       "      <td>0.084007</td>\n",
       "    </tr>\n",
       "    <tr>\n",
       "      <th>1611</th>\n",
       "      <td>08_aktinische-keratose-und-plattenepithelkarzi...</td>\n",
       "      <td>Diclofenac-Natrium 3% in Hyaluronsäure 2,5% Gel</td>\n",
       "      <td>Clinical_Drug</td>\n",
       "      <td>29</td>\n",
       "      <td>76</td>\n",
       "      <td>C2348252</td>\n",
       "      <td>[T200]</td>\n",
       "      <td>Diclofenac Sodium Gel</td>\n",
       "      <td>[ngram, sapbert]</td>\n",
       "      <td>0.083595</td>\n",
       "    </tr>\n",
       "    <tr>\n",
       "      <th>1548</th>\n",
       "      <td>08_aktinische-keratose-und-plattenepithelkarzi...</td>\n",
       "      <td>Diclofenac-Natrium 3% in Hyaluronsäure 2,5% Gel</td>\n",
       "      <td>Clinical_Drug</td>\n",
       "      <td>79</td>\n",
       "      <td>126</td>\n",
       "      <td>C2348252</td>\n",
       "      <td>[T200]</td>\n",
       "      <td>Diclofenac Sodium Gel</td>\n",
       "      <td>[ngram, sapbert]</td>\n",
       "      <td>0.075645</td>\n",
       "    </tr>\n",
       "    <tr>\n",
       "      <th>1549</th>\n",
       "      <td>08_aktinische-keratose-und-plattenepithelkarzi...</td>\n",
       "      <td>Diclofenac-Natrium 3% in Hyaluronsäure 2,5% Gel</td>\n",
       "      <td>Clinical_Drug</td>\n",
       "      <td>79</td>\n",
       "      <td>126</td>\n",
       "      <td>C1164912</td>\n",
       "      <td>[T200]</td>\n",
       "      <td>Product containing precisely diclofenac sodium...</td>\n",
       "      <td>[ngram, sapbert]</td>\n",
       "      <td>0.063009</td>\n",
       "    </tr>\n",
       "    <tr>\n",
       "      <th>1550</th>\n",
       "      <td>08_aktinische-keratose-und-plattenepithelkarzi...</td>\n",
       "      <td>Diclofenac-Natrium 3% in Hyaluronsäure 2,5% Gel</td>\n",
       "      <td>Clinical_Drug</td>\n",
       "      <td>79</td>\n",
       "      <td>126</td>\n",
       "      <td>C2348218</td>\n",
       "      <td>[T200]</td>\n",
       "      <td>Sodium Hyaluronate Topical Hydrogel</td>\n",
       "      <td>[ngram, sapbert]</td>\n",
       "      <td>0.062707</td>\n",
       "    </tr>\n",
       "    <tr>\n",
       "      <th>1591</th>\n",
       "      <td>08_aktinische-keratose-und-plattenepithelkarzi...</td>\n",
       "      <td>Diclofenac-Natrium 3% in Hyaluronsäure 2,5% Gel</td>\n",
       "      <td>Clinical_Drug</td>\n",
       "      <td>130</td>\n",
       "      <td>177</td>\n",
       "      <td>C1164912</td>\n",
       "      <td>[T200]</td>\n",
       "      <td>Product containing precisely diclofenac sodium...</td>\n",
       "      <td>[ngram, sapbert]</td>\n",
       "      <td>0.062639</td>\n",
       "    </tr>\n",
       "    <tr>\n",
       "      <th>1592</th>\n",
       "      <td>08_aktinische-keratose-und-plattenepithelkarzi...</td>\n",
       "      <td>Diclofenac-Natrium 3% in Hyaluronsäure 2,5% Gel</td>\n",
       "      <td>Clinical_Drug</td>\n",
       "      <td>130</td>\n",
       "      <td>177</td>\n",
       "      <td>C2348218</td>\n",
       "      <td>[T200]</td>\n",
       "      <td>Sodium Hyaluronate Topical Hydrogel</td>\n",
       "      <td>[ngram, sapbert]</td>\n",
       "      <td>0.062438</td>\n",
       "    </tr>\n",
       "    <tr>\n",
       "      <th>1612</th>\n",
       "      <td>08_aktinische-keratose-und-plattenepithelkarzi...</td>\n",
       "      <td>Diclofenac-Natrium 3% in Hyaluronsäure 2,5% Gel</td>\n",
       "      <td>Clinical_Drug</td>\n",
       "      <td>29</td>\n",
       "      <td>76</td>\n",
       "      <td>C2348218</td>\n",
       "      <td>[T200]</td>\n",
       "      <td>Sodium Hyaluronate Topical Hydrogel</td>\n",
       "      <td>[ngram, sapbert]</td>\n",
       "      <td>0.062311</td>\n",
       "    </tr>\n",
       "    <tr>\n",
       "      <th>1613</th>\n",
       "      <td>08_aktinische-keratose-und-plattenepithelkarzi...</td>\n",
       "      <td>Diclofenac-Natrium 3% in Hyaluronsäure 2,5% Gel</td>\n",
       "      <td>Clinical_Drug</td>\n",
       "      <td>29</td>\n",
       "      <td>76</td>\n",
       "      <td>C1164912</td>\n",
       "      <td>[T200]</td>\n",
       "      <td>Product containing precisely diclofenac sodium...</td>\n",
       "      <td>[ngram, sapbert]</td>\n",
       "      <td>0.062229</td>\n",
       "    </tr>\n",
       "    <tr>\n",
       "      <th>1561</th>\n",
       "      <td>08_aktinische-keratose-und-plattenepithelkarzi...</td>\n",
       "      <td>Diclofenac-Natrium 3% in Hyaluronsäure 2,5% Gel</td>\n",
       "      <td>Clinical_Drug</td>\n",
       "      <td>109</td>\n",
       "      <td>156</td>\n",
       "      <td>C4742879</td>\n",
       "      <td>[T109]</td>\n",
       "      <td>hyaluronate-alginate gel</td>\n",
       "      <td>[ngram, sapbert]</td>\n",
       "      <td>0.062080</td>\n",
       "    </tr>\n",
       "    <tr>\n",
       "      <th>1562</th>\n",
       "      <td>08_aktinische-keratose-und-plattenepithelkarzi...</td>\n",
       "      <td>Diclofenac-Natrium 3% in Hyaluronsäure 2,5% Gel</td>\n",
       "      <td>Clinical_Drug</td>\n",
       "      <td>109</td>\n",
       "      <td>156</td>\n",
       "      <td>C2348218</td>\n",
       "      <td>[T200]</td>\n",
       "      <td>Sodium Hyaluronate Topical Hydrogel</td>\n",
       "      <td>[ngram, sapbert]</td>\n",
       "      <td>0.061756</td>\n",
       "    </tr>\n",
       "  </tbody>\n",
       "</table>\n",
       "</div>"
      ],
      "text/plain": [
       "                                               document  \\\n",
       "1560  08_aktinische-keratose-und-plattenepithelkarzi...   \n",
       "1590  08_aktinische-keratose-und-plattenepithelkarzi...   \n",
       "1611  08_aktinische-keratose-und-plattenepithelkarzi...   \n",
       "1548  08_aktinische-keratose-und-plattenepithelkarzi...   \n",
       "1549  08_aktinische-keratose-und-plattenepithelkarzi...   \n",
       "1550  08_aktinische-keratose-und-plattenepithelkarzi...   \n",
       "1591  08_aktinische-keratose-und-plattenepithelkarzi...   \n",
       "1592  08_aktinische-keratose-und-plattenepithelkarzi...   \n",
       "1612  08_aktinische-keratose-und-plattenepithelkarzi...   \n",
       "1613  08_aktinische-keratose-und-plattenepithelkarzi...   \n",
       "1561  08_aktinische-keratose-und-plattenepithelkarzi...   \n",
       "1562  08_aktinische-keratose-und-plattenepithelkarzi...   \n",
       "\n",
       "                                                 text           type  start  \\\n",
       "1560  Diclofenac-Natrium 3% in Hyaluronsäure 2,5% Gel  Clinical_Drug    109   \n",
       "1590  Diclofenac-Natrium 3% in Hyaluronsäure 2,5% Gel  Clinical_Drug    130   \n",
       "1611  Diclofenac-Natrium 3% in Hyaluronsäure 2,5% Gel  Clinical_Drug     29   \n",
       "1548  Diclofenac-Natrium 3% in Hyaluronsäure 2,5% Gel  Clinical_Drug     79   \n",
       "1549  Diclofenac-Natrium 3% in Hyaluronsäure 2,5% Gel  Clinical_Drug     79   \n",
       "1550  Diclofenac-Natrium 3% in Hyaluronsäure 2,5% Gel  Clinical_Drug     79   \n",
       "1591  Diclofenac-Natrium 3% in Hyaluronsäure 2,5% Gel  Clinical_Drug    130   \n",
       "1592  Diclofenac-Natrium 3% in Hyaluronsäure 2,5% Gel  Clinical_Drug    130   \n",
       "1612  Diclofenac-Natrium 3% in Hyaluronsäure 2,5% Gel  Clinical_Drug     29   \n",
       "1613  Diclofenac-Natrium 3% in Hyaluronsäure 2,5% Gel  Clinical_Drug     29   \n",
       "1561  Diclofenac-Natrium 3% in Hyaluronsäure 2,5% Gel  Clinical_Drug    109   \n",
       "1562  Diclofenac-Natrium 3% in Hyaluronsäure 2,5% Gel  Clinical_Drug    109   \n",
       "\n",
       "      end       cui    tuis  \\\n",
       "1560  156  C2348252  [T200]   \n",
       "1590  177  C2348252  [T200]   \n",
       "1611   76  C2348252  [T200]   \n",
       "1548  126  C2348252  [T200]   \n",
       "1549  126  C1164912  [T200]   \n",
       "1550  126  C2348218  [T200]   \n",
       "1591  177  C1164912  [T200]   \n",
       "1592  177  C2348218  [T200]   \n",
       "1612   76  C2348218  [T200]   \n",
       "1613   76  C1164912  [T200]   \n",
       "1561  156  C4742879  [T109]   \n",
       "1562  156  C2348218  [T200]   \n",
       "\n",
       "                                              canonical            linker  \\\n",
       "1560                              Diclofenac Sodium Gel  [ngram, sapbert]   \n",
       "1590                              Diclofenac Sodium Gel  [ngram, sapbert]   \n",
       "1611                              Diclofenac Sodium Gel  [ngram, sapbert]   \n",
       "1548                              Diclofenac Sodium Gel  [ngram, sapbert]   \n",
       "1549  Product containing precisely diclofenac sodium...  [ngram, sapbert]   \n",
       "1550                Sodium Hyaluronate Topical Hydrogel  [ngram, sapbert]   \n",
       "1591  Product containing precisely diclofenac sodium...  [ngram, sapbert]   \n",
       "1592                Sodium Hyaluronate Topical Hydrogel  [ngram, sapbert]   \n",
       "1612                Sodium Hyaluronate Topical Hydrogel  [ngram, sapbert]   \n",
       "1613  Product containing precisely diclofenac sodium...  [ngram, sapbert]   \n",
       "1561                           hyaluronate-alginate gel  [ngram, sapbert]   \n",
       "1562                Sodium Hyaluronate Topical Hydrogel  [ngram, sapbert]   \n",
       "\n",
       "      confidence  \n",
       "1560    0.095816  \n",
       "1590    0.084007  \n",
       "1611    0.083595  \n",
       "1548    0.075645  \n",
       "1549    0.063009  \n",
       "1550    0.062707  \n",
       "1591    0.062639  \n",
       "1592    0.062438  \n",
       "1612    0.062311  \n",
       "1613    0.062229  \n",
       "1561    0.062080  \n",
       "1562    0.061756  "
      ]
     },
     "execution_count": 55,
     "metadata": {},
     "output_type": "execute_result"
    }
   ],
   "source": [
    "df_analysis[df_analysis.text.map(lambda s: len(s.split(' ')) > 5) & (df_analysis.type == 'Clinical_Drug')].sort_values('confidence', ascending=False)[0:20]"
   ]
  },
  {
   "cell_type": "code",
   "execution_count": 47,
   "id": "37077826-9fab-4d2e-bbff-5a8f0854ddbb",
   "metadata": {
    "tags": []
   },
   "outputs": [
    {
     "data": {
      "application/vnd.jupyter.widget-view+json": {
       "model_id": "8160ce1e04e04dfda5095dac31bca3d3",
       "version_major": 2,
       "version_minor": 0
      },
      "text/plain": [
       "Filter:   0%|          | 0/374 [00:00<?, ? examples/s]"
      ]
     },
     "metadata": {},
     "output_type": "display_data"
    },
    {
     "name": "stdout",
     "output_type": "stream",
     "text": [
      "[{'id': '0', 'type': 'sentence', 'text': ['Die systematische Übersichtsarbeit von Askew 2009 [REF] berichtete über eine komplette läsionsbezogene Abheilungsrate von 89% mit Diclofenac-Natrium 3% in Hyaluronsäure 2,5% Gel.'], 'offsets': [[0, 178]]}]\n"
     ]
    }
   ],
   "source": [
    "get_example(1590)"
   ]
  },
  {
   "cell_type": "markdown",
   "id": "a3061119-c850-4a1e-b37a-e9b4b6686573",
   "metadata": {},
   "source": [
    "### Amibiguity"
   ]
  },
  {
   "cell_type": "code",
   "execution_count": 60,
   "id": "dd35604c-a8c1-4123-b05b-ef3617870d90",
   "metadata": {
    "scrolled": true,
    "tags": []
   },
   "outputs": [
    {
     "data": {
      "application/vnd.jupyter.widget-view+json": {
       "model_id": "245d17389b6e41ac9e909267cc3700e5",
       "version_major": 2,
       "version_minor": 0
      },
      "text/plain": [
       "Map:   0%|          | 0/1 [00:00<?, ? examples/s]"
      ]
     },
     "metadata": {},
     "output_type": "display_data"
    },
    {
     "data": {
      "text/plain": [
       "[{'id': '0_0',\n",
       "  'offsets': [[0, 8]],\n",
       "  'text': ['M. Paget'],\n",
       "  'type': None,\n",
       "  'normalized': [{'db_id': 'C0029401',\n",
       "    'db_name': 'UMLS',\n",
       "    'score': 0.8867487907409668,\n",
       "    'predicted_by': ['ngram', 'sapbert']},\n",
       "   {'db_id': 'C1368019',\n",
       "    'db_name': 'UMLS',\n",
       "    'score': 0.8277766108512878,\n",
       "    'predicted_by': ['ngram', 'sapbert']},\n",
       "   {'db_id': 'C1956396',\n",
       "    'db_name': 'UMLS',\n",
       "    'score': 0.7899335026741028,\n",
       "    'predicted_by': ['ngram', 'sapbert']},\n",
       "   {'db_id': 'C0030186',\n",
       "    'db_name': 'UMLS',\n",
       "    'score': 0.7865041494369507,\n",
       "    'predicted_by': ['ngram', 'sapbert']},\n",
       "   {'db_id': 'C0238330',\n",
       "    'db_name': 'UMLS',\n",
       "    'score': 0.786299467086792,\n",
       "    'predicted_by': ['ngram', 'sapbert']},\n",
       "   {'db_id': 'C1235649',\n",
       "    'db_name': 'UMLS',\n",
       "    'score': 0.7839380502700806,\n",
       "    'predicted_by': ['ngram']},\n",
       "   {'db_id': 'C0410458',\n",
       "    'db_name': 'UMLS',\n",
       "    'score': 0.7737199664115906,\n",
       "    'predicted_by': ['ngram', 'sapbert']},\n",
       "   {'db_id': 'C0030185',\n",
       "    'db_name': 'UMLS',\n",
       "    'score': 0.7730860114097595,\n",
       "    'predicted_by': ['ngram', 'sapbert']},\n",
       "   {'db_id': 'C0410457',\n",
       "    'db_name': 'UMLS',\n",
       "    'score': 0.7665709853172302,\n",
       "    'predicted_by': ['ngram', 'sapbert']},\n",
       "   {'db_id': 'C1704323',\n",
       "    'db_name': 'UMLS',\n",
       "    'score': 0.7655255794525146,\n",
       "    'predicted_by': ['ngram', 'sapbert']},\n",
       "   {'db_id': 'C0410452',\n",
       "    'db_name': 'UMLS',\n",
       "    'score': 0.7615171074867249,\n",
       "    'predicted_by': ['ngram', 'sapbert']},\n",
       "   {'db_id': 'C0268414',\n",
       "    'db_name': 'UMLS',\n",
       "    'score': 0.7612892389297485,\n",
       "    'predicted_by': ['ngram', 'sapbert']},\n",
       "   {'db_id': 'C1336505',\n",
       "    'db_name': 'UMLS',\n",
       "    'score': 0.7527161836624146,\n",
       "    'predicted_by': ['ngram', 'sapbert']},\n",
       "   {'db_id': 'C0410467',\n",
       "    'db_name': 'UMLS',\n",
       "    'score': 0.7484384775161743,\n",
       "    'predicted_by': ['ngram', 'sapbert']},\n",
       "   {'db_id': 'C3509676',\n",
       "    'db_name': 'UMLS',\n",
       "    'score': 0.7433704733848572,\n",
       "    'predicted_by': ['sapbert']},\n",
       "   {'db_id': 'C0919631',\n",
       "    'db_name': 'UMLS',\n",
       "    'score': 0.7336253523826599,\n",
       "    'predicted_by': ['ngram', 'sapbert']},\n",
       "   {'db_id': 'C0410472',\n",
       "    'db_name': 'UMLS',\n",
       "    'score': 0.7288927435874939,\n",
       "    'predicted_by': ['sapbert']},\n",
       "   {'db_id': 'C0410470',\n",
       "    'db_name': 'UMLS',\n",
       "    'score': 0.7258428931236267,\n",
       "    'predicted_by': ['ngram', 'sapbert']},\n",
       "   {'db_id': 'C0410462',\n",
       "    'db_name': 'UMLS',\n",
       "    'score': 0.7250627279281616,\n",
       "    'predicted_by': ['sapbert']},\n",
       "   {'db_id': 'C0410466',\n",
       "    'db_name': 'UMLS',\n",
       "    'score': 0.7129206657409668,\n",
       "    'predicted_by': ['ngram', 'sapbert']},\n",
       "   {'db_id': 'C1518846',\n",
       "    'db_name': 'UMLS',\n",
       "    'score': 0.5697957873344421,\n",
       "    'predicted_by': ['ngram']},\n",
       "   {'db_id': 'C0324832',\n",
       "    'db_name': 'UMLS',\n",
       "    'score': 0.5688409209251404,\n",
       "    'predicted_by': ['ngram']},\n",
       "   {'db_id': 'C4111910',\n",
       "    'db_name': 'UMLS',\n",
       "    'score': 0.5349794030189514,\n",
       "    'predicted_by': ['ngram']},\n",
       "   {'db_id': 'C0324830',\n",
       "    'db_name': 'UMLS',\n",
       "    'score': 0.5219341516494751,\n",
       "    'predicted_by': ['ngram']},\n",
       "   {'db_id': 'C0324833',\n",
       "    'db_name': 'UMLS',\n",
       "    'score': 0.5194831490516663,\n",
       "    'predicted_by': ['ngram']},\n",
       "   {'db_id': 'C0026440',\n",
       "    'db_name': 'UMLS',\n",
       "    'score': 0.5159666538238525,\n",
       "    'predicted_by': ['ngram']},\n",
       "   {'db_id': 'C1040369',\n",
       "    'db_name': 'UMLS',\n",
       "    'score': 0.49846935272216797,\n",
       "    'predicted_by': ['ngram']},\n",
       "   {'db_id': 'C1018130',\n",
       "    'db_name': 'UMLS',\n",
       "    'score': 0.49794137477874756,\n",
       "    'predicted_by': ['ngram']},\n",
       "   {'db_id': 'C1332274',\n",
       "    'db_name': 'UMLS',\n",
       "    'score': 0.4832162857055664,\n",
       "    'predicted_by': ['ngram']},\n",
       "   {'db_id': 'C4760597',\n",
       "    'db_name': 'UMLS',\n",
       "    'score': 0.4776223301887512,\n",
       "    'predicted_by': ['ngram']},\n",
       "   {'db_id': 'C0006132',\n",
       "    'db_name': 'UMLS',\n",
       "    'score': 0.473829984664917,\n",
       "    'predicted_by': ['ngram']},\n",
       "   {'db_id': 'C1704732',\n",
       "    'db_name': 'UMLS',\n",
       "    'score': 0.47271788120269775,\n",
       "    'predicted_by': ['ngram']},\n",
       "   {'db_id': 'C0969686',\n",
       "    'db_name': 'UMLS',\n",
       "    'score': 0.46770215034484863,\n",
       "    'predicted_by': ['ngram']},\n",
       "   {'db_id': 'C1701060',\n",
       "    'db_name': 'UMLS',\n",
       "    'score': 0.4589536190032959,\n",
       "    'predicted_by': ['ngram']},\n",
       "   {'db_id': 'C0024399',\n",
       "    'db_name': 'UMLS',\n",
       "    'score': 0.4523822069168091,\n",
       "    'predicted_by': ['ngram']},\n",
       "   {'db_id': 'C5197835',\n",
       "    'db_name': 'UMLS',\n",
       "    'score': 0.4521404504776001,\n",
       "    'predicted_by': ['ngram']},\n",
       "   {'db_id': 'C1009120',\n",
       "    'db_name': 'UMLS',\n",
       "    'score': 0.442462682723999,\n",
       "    'predicted_by': ['ngram']},\n",
       "   {'db_id': 'C0299028',\n",
       "    'db_name': 'UMLS',\n",
       "    'score': 0.44220757484436035,\n",
       "    'predicted_by': ['ngram']},\n",
       "   {'db_id': 'C1853473',\n",
       "    'db_name': 'UMLS',\n",
       "    'score': 0.4413492679595947,\n",
       "    'predicted_by': ['ngram']},\n",
       "   {'db_id': 'C1550704',\n",
       "    'db_name': 'UMLS',\n",
       "    'score': 0.43868911266326904,\n",
       "    'predicted_by': ['ngram']},\n",
       "   {'db_id': 'C1275216',\n",
       "    'db_name': 'UMLS',\n",
       "    'score': 0.4345247149467468,\n",
       "    'predicted_by': ['ngram']},\n",
       "   {'db_id': 'C0221286',\n",
       "    'db_name': 'UMLS',\n",
       "    'score': 0.43438565731048584,\n",
       "    'predicted_by': ['ngram']},\n",
       "   {'db_id': 'C0648605',\n",
       "    'db_name': 'UMLS',\n",
       "    'score': 0.43064695596694946,\n",
       "    'predicted_by': ['ngram']},\n",
       "   {'db_id': 'C1518847',\n",
       "    'db_name': 'UMLS',\n",
       "    'score': 0.4149254560470581,\n",
       "    'predicted_by': ['ngram']},\n",
       "   {'db_id': 'C1332270',\n",
       "    'db_name': 'UMLS',\n",
       "    'score': 0.4105779528617859,\n",
       "    'predicted_by': ['ngram']},\n",
       "   {'db_id': 'C0399568',\n",
       "    'db_name': 'UMLS',\n",
       "    'score': 0.4102053642272949,\n",
       "    'predicted_by': ['ngram']},\n",
       "   {'db_id': 'C0410460',\n",
       "    'db_name': 'UMLS',\n",
       "    'score': 0.4096750020980835,\n",
       "    'predicted_by': ['ngram']},\n",
       "   {'db_id': 'C1335291',\n",
       "    'db_name': 'UMLS',\n",
       "    'score': 0.4076491594314575,\n",
       "    'predicted_by': ['ngram']},\n",
       "   {'db_id': 'C0334546',\n",
       "    'db_name': 'UMLS',\n",
       "    'score': 0.40469062328338623,\n",
       "    'predicted_by': ['ngram']},\n",
       "   {'db_id': 'C0410474',\n",
       "    'db_name': 'UMLS',\n",
       "    'score': 0.4032479524612427,\n",
       "    'predicted_by': ['ngram']},\n",
       "   {'db_id': 'C0410454',\n",
       "    'db_name': 'UMLS',\n",
       "    'score': 0.39640843868255615,\n",
       "    'predicted_by': ['ngram']},\n",
       "   {'db_id': 'C1332261',\n",
       "    'db_name': 'UMLS',\n",
       "    'score': 0.3961637616157532,\n",
       "    'predicted_by': ['ngram']},\n",
       "   {'db_id': 'C0963516',\n",
       "    'db_name': 'UMLS',\n",
       "    'score': 0.3919982314109802,\n",
       "    'predicted_by': ['ngram']},\n",
       "   {'db_id': 'C1275217',\n",
       "    'db_name': 'UMLS',\n",
       "    'score': 0.3914903402328491,\n",
       "    'predicted_by': ['ngram']},\n",
       "   {'db_id': 'C2931732',\n",
       "    'db_name': 'UMLS',\n",
       "    'score': 0.3860037326812744,\n",
       "    'predicted_by': ['ngram']},\n",
       "   {'db_id': 'C0388808',\n",
       "    'db_name': 'UMLS',\n",
       "    'score': 0.38587987422943115,\n",
       "    'predicted_by': ['ngram']},\n",
       "   {'db_id': 'C0410465',\n",
       "    'db_name': 'UMLS',\n",
       "    'score': 0.3851553797721863,\n",
       "    'predicted_by': ['ngram']},\n",
       "   {'db_id': 'C1137054',\n",
       "    'db_name': 'UMLS',\n",
       "    'score': 0.3785243034362793,\n",
       "    'predicted_by': ['ngram']},\n",
       "   {'db_id': 'C5770060',\n",
       "    'db_name': 'UMLS',\n",
       "    'score': 0.37596261501312256,\n",
       "    'predicted_by': ['ngram']},\n",
       "   {'db_id': 'C0601165',\n",
       "    'db_name': 'UMLS',\n",
       "    'score': 0.373135507106781,\n",
       "    'predicted_by': ['ngram']},\n",
       "   {'db_id': 'C0319552',\n",
       "    'db_name': 'UMLS',\n",
       "    'score': 0.37281811237335205,\n",
       "    'predicted_by': ['ngram']},\n",
       "   {'db_id': 'C0410456',\n",
       "    'db_name': 'UMLS',\n",
       "    'score': 0.3708111047744751,\n",
       "    'predicted_by': ['ngram']},\n",
       "   {'db_id': 'C0334438',\n",
       "    'db_name': 'UMLS',\n",
       "    'score': 0.37020307779312134,\n",
       "    'predicted_by': ['ngram']},\n",
       "   {'db_id': 'C5687426',\n",
       "    'db_name': 'UMLS',\n",
       "    'score': 0.3693159818649292,\n",
       "    'predicted_by': ['ngram']},\n",
       "   {'db_id': 'C0081879',\n",
       "    'db_name': 'UMLS',\n",
       "    'score': 0.36857151985168457,\n",
       "    'predicted_by': ['ngram']},\n",
       "   {'db_id': 'C0410455',\n",
       "    'db_name': 'UMLS',\n",
       "    'score': 0.3668016195297241,\n",
       "    'predicted_by': ['ngram']},\n",
       "   {'db_id': 'C5687611',\n",
       "    'db_name': 'UMLS',\n",
       "    'score': 0.36574339866638184,\n",
       "    'predicted_by': ['ngram']},\n",
       "   {'db_id': 'C1335292',\n",
       "    'db_name': 'UMLS',\n",
       "    'score': 0.36508870124816895,\n",
       "    'predicted_by': ['ngram']},\n",
       "   {'db_id': 'C0410463',\n",
       "    'db_name': 'UMLS',\n",
       "    'score': 0.364421010017395,\n",
       "    'predicted_by': ['ngram']},\n",
       "   {'db_id': 'C1744355',\n",
       "    'db_name': 'UMLS',\n",
       "    'score': 0.3632882237434387,\n",
       "    'predicted_by': ['ngram']}],\n",
       "  'long_form': None}]"
      ]
     },
     "execution_count": 60,
     "metadata": {},
     "output_type": "execute_result"
    }
   ],
   "source": [
    "linker.candidate_generator.predict_no_context(['M. Paget'])"
   ]
  },
  {
   "cell_type": "code",
   "execution_count": null,
   "id": "674548a8-c76a-412e-bfc0-239f0e717e4f",
   "metadata": {},
   "outputs": [],
   "source": []
  }
 ],
 "metadata": {
  "kernelspec": {
   "display_name": "Python [conda env:ggponc]",
   "language": "python",
   "name": "conda-env-ggponc-py"
  },
  "language_info": {
   "codemirror_mode": {
    "name": "ipython",
    "version": 3
   },
   "file_extension": ".py",
   "mimetype": "text/x-python",
   "name": "python",
   "nbconvert_exporter": "python",
   "pygments_lexer": "ipython3",
   "version": "3.9.0"
  }
 },
 "nbformat": 4,
 "nbformat_minor": 5
}
