{
 "cells": [
  {
   "cell_type": "markdown",
   "id": "1409bc98-c126-4bf7-8dea-08435d4abd97",
   "metadata": {},
   "source": [
    "# Analysis of ECCNP Resolution and Impact on NER and EL Performance"
   ]
  },
  {
   "cell_type": "code",
   "execution_count": 1,
   "id": "d38bfb4c-1586-4ae7-98cb-bf2ca7ffa15b",
   "metadata": {
    "tags": []
   },
   "outputs": [],
   "source": [
    "from xmen import load_config, load_kb\n",
    "from xmen.data import from_spacy\n",
    "\n",
    "conf = load_config('xmen_ggponc3.yaml')"
   ]
  },
  {
   "cell_type": "markdown",
   "id": "79e4bdce-acb9-4dc3-a6a4-28efd9ec37ad",
   "metadata": {
    "tags": []
   },
   "source": [
    "**Note:** For this notebook, we only use a small subset of GGPONC 2.0 for demonstration purposes\n",
    "Change the version if you want to use any other GGPONC release"
   ]
  },
  {
   "cell_type": "code",
   "execution_count": 2,
   "id": "b265c2a8-4288-43a4-a78b-9f10f73c9e6d",
   "metadata": {
    "tags": []
   },
   "outputs": [
    {
     "data": {
      "application/vnd.jupyter.widget-view+json": {
       "model_id": "ee2f8bd8a28a4158a8c100ba5411b415",
       "version_major": 2,
       "version_minor": 0
      },
      "text/plain": [
       "  0%|          | 0/14 [00:00<?, ?it/s]"
      ]
     },
     "metadata": {},
     "output_type": "display_data"
    }
   ],
   "source": [
    "from ggponc import *\n",
    "import os\n",
    "\n",
    "sent_df = read_sentences(os.path.join('data', conf.data_version), zipped=False)"
   ]
  },
  {
   "cell_type": "code",
   "execution_count": 3,
   "id": "1b1298e5-5963-4afa-8ff2-efdf27580bbb",
   "metadata": {
    "tags": []
   },
   "outputs": [
    {
     "name": "stderr",
     "output_type": "stream",
     "text": [
      "/home/Florian.Borchert/miniconda3/envs/ggponc/lib/python3.10/site-packages/huggingface_hub/file_download.py:1132: FutureWarning: `resume_download` is deprecated and will be removed in version 1.0.0. Downloads always resume when possible. If you want to force a new download, use `force_download=True`.\n",
      "  warnings.warn(\n",
      "/home/Florian.Borchert/miniconda3/envs/ggponc/lib/python3.10/site-packages/transformers/convert_slow_tokenizer.py:446: UserWarning: The sentencepiece tokenizer that you are converting to a fast tokenizer uses the byte fallback option which is not implemented in the fast tokenizers. In practice this means that the fast version of the tokenizer can produce unknown tokens whereas the sentencepiece version would have converted these unknown tokens into a sequence of byte tokens matching the original piece of text.\n",
      "  warnings.warn(\n"
     ]
    }
   ],
   "source": [
    "resolver = ECCNPResolver(**conf.eccnp)"
   ]
  },
  {
   "cell_type": "code",
   "execution_count": 4,
   "id": "ffefead0-a5a9-4eda-9902-1f32424ea979",
   "metadata": {
    "tags": []
   },
   "outputs": [
    {
     "data": {
      "application/vnd.jupyter.widget-view+json": {
       "model_id": "5efbf56a355f4a10b597229d259ec596",
       "version_major": 2,
       "version_minor": 0
      },
      "text/plain": [
       "  0%|          | 0/374 [00:00<?, ?it/s]"
      ]
     },
     "metadata": {},
     "output_type": "display_data"
    }
   ],
   "source": [
    "sent_df = resolver.set_df(sent_df)"
   ]
  },
  {
   "cell_type": "code",
   "execution_count": 5,
   "id": "f888ba14-e5f8-4f95-8eb4-abdd8e057bd5",
   "metadata": {
    "tags": []
   },
   "outputs": [],
   "source": [
    "ner = NERTagger()"
   ]
  },
  {
   "cell_type": "code",
   "execution_count": 6,
   "id": "d7dfbe74-f8ba-4509-949f-547563c15d36",
   "metadata": {
    "tags": []
   },
   "outputs": [
    {
     "data": {
      "application/vnd.jupyter.widget-view+json": {
       "model_id": "c52c3aa067744617ae5f0890a74aee0a",
       "version_major": 2,
       "version_minor": 0
      },
      "text/plain": [
       "  0%|          | 0/374 [00:00<?, ?it/s]"
      ]
     },
     "metadata": {},
     "output_type": "display_data"
    }
   ],
   "source": [
    "ner_df_before = ner.set_df(sent_df, sent_col='sentence')\n",
    "ds_ner_before = from_spacy(ner_df_before.spacy_ner, span_key='entities', doc_id_key='file_name')"
   ]
  },
  {
   "cell_type": "code",
   "execution_count": 7,
   "id": "3d35e3dc-3ccf-4dd8-ae7c-860eb862509e",
   "metadata": {
    "tags": []
   },
   "outputs": [
    {
     "data": {
      "application/vnd.jupyter.widget-view+json": {
       "model_id": "8a0e57fcf30246bd86563263a88f7d1a",
       "version_major": 2,
       "version_minor": 0
      },
      "text/plain": [
       "  0%|          | 0/374 [00:00<?, ?it/s]"
      ]
     },
     "metadata": {},
     "output_type": "display_data"
    }
   ],
   "source": [
    "ner_df_after = ner.set_df(sent_df)\n",
    "ds_ner_after = from_spacy(ner_df_after.spacy_ner, span_key='entities', doc_id_key='file_name')"
   ]
  },
  {
   "cell_type": "code",
   "execution_count": 8,
   "id": "a2c821d8-2545-4410-987e-668d47c151ba",
   "metadata": {
    "tags": []
   },
   "outputs": [
    {
     "name": "stderr",
     "output_type": "stream",
     "text": [
      "/home/Florian.Borchert/miniconda3/envs/ggponc/lib/python3.10/site-packages/sklearn/base.py:376: InconsistentVersionWarning: Trying to unpickle estimator TfidfTransformer from version 1.3.1 when using version 1.5.0. This might lead to breaking code or invalid results. Use at your own risk. For more info please refer to:\n",
      "https://scikit-learn.org/stable/model_persistence.html#security-maintainability-limitations\n",
      "  warnings.warn(\n",
      "/home/Florian.Borchert/miniconda3/envs/ggponc/lib/python3.10/site-packages/sklearn/base.py:376: InconsistentVersionWarning: Trying to unpickle estimator TfidfVectorizer from version 1.3.1 when using version 1.5.0. This might lead to breaking code or invalid results. Use at your own risk. For more info please refer to:\n",
      "https://scikit-learn.org/stable/model_persistence.html#security-maintainability-limitations\n",
      "  warnings.warn(\n",
      "/home/Florian.Borchert/miniconda3/envs/ggponc/lib/python3.10/site-packages/huggingface_hub/file_download.py:1132: FutureWarning: `resume_download` is deprecated and will be removed in version 1.0.0. Downloads always resume when possible. If you want to force a new download, use `force_download=True`.\n",
      "  warnings.warn(\n"
     ]
    },
    {
     "data": {
      "text/html": [
       "<pre style=\"white-space:pre;overflow-x:auto;line-height:normal;font-family:Menlo,'DejaVu Sans Mono',consolas,'Courier New',monospace\"><span style=\"color: #7fbfbf; text-decoration-color: #7fbfbf\">[06/19/24 13:43:53] </span><span style=\"color: #000080; text-decoration-color: #000080\">INFO    </span> Loading hierarchical faiss index                                <a href=\"file:///home/Florian.Borchert/miniconda3/envs/ggponc/lib/python3.10/site-packages/xmen/linkers/sap_bert_linker.py\" target=\"_blank\"><span style=\"color: #7f7f7f; text-decoration-color: #7f7f7f\">sap_bert_linker.py</span></a><span style=\"color: #7f7f7f; text-decoration-color: #7f7f7f\">:</span><a href=\"file:///home/Florian.Borchert/miniconda3/envs/ggponc/lib/python3.10/site-packages/xmen/linkers/sap_bert_linker.py#153\" target=\"_blank\"><span style=\"color: #7f7f7f; text-decoration-color: #7f7f7f\">153</span></a>\n",
       "</pre>\n"
      ],
      "text/plain": [
       "\u001b[2;36m[06/19/24 13:43:53]\u001b[0m\u001b[2;36m \u001b[0m\u001b[34mINFO    \u001b[0m Loading hierarchical faiss index                                \u001b]8;id=178041;file:///home/Florian.Borchert/miniconda3/envs/ggponc/lib/python3.10/site-packages/xmen/linkers/sap_bert_linker.py\u001b\\\u001b[2msap_bert_linker.py\u001b[0m\u001b]8;;\u001b\\\u001b[2m:\u001b[0m\u001b]8;id=869901;file:///home/Florian.Borchert/miniconda3/envs/ggponc/lib/python3.10/site-packages/xmen/linkers/sap_bert_linker.py#153\u001b\\\u001b[2m153\u001b[0m\u001b]8;;\u001b\\\n"
      ]
     },
     "metadata": {},
     "output_type": "display_data"
    },
    {
     "data": {
      "text/html": [
       "<pre style=\"white-space:pre;overflow-x:auto;line-height:normal;font-family:Menlo,'DejaVu Sans Mono',consolas,'Courier New',monospace\"><span style=\"color: #7fbfbf; text-decoration-color: #7fbfbf\">                    </span><span style=\"color: #000080; text-decoration-color: #000080\">INFO    </span> Loading index from                                                 <a href=\"file:///home/Florian.Borchert/miniconda3/envs/ggponc/lib/python3.10/site-packages/xmen/linkers/faiss_indexer.py\" target=\"_blank\"><span style=\"color: #7f7f7f; text-decoration-color: #7f7f7f\">faiss_indexer.py</span></a><span style=\"color: #7f7f7f; text-decoration-color: #7f7f7f\">:</span><a href=\"file:///home/Florian.Borchert/miniconda3/envs/ggponc/lib/python3.10/site-packages/xmen/linkers/faiss_indexer.py#64\" target=\"_blank\"><span style=\"color: #7f7f7f; text-decoration-color: #7f7f7f\">64</span></a>\n",
       "<span style=\"color: #7fbfbf; text-decoration-color: #7fbfbf\">                    </span>         <span style=\"color: #800080; text-decoration-color: #800080\">/home/Florian.Borchert/.cache/xmen/ggponc3/index/sapbert/</span><span style=\"color: #ff00ff; text-decoration-color: #ff00ff\">embed_fai</span> <span style=\"color: #7f7f7f; text-decoration-color: #7f7f7f\">                   </span>\n",
       "<span style=\"color: #7fbfbf; text-decoration-color: #7fbfbf\">                    </span>         <span style=\"color: #ff00ff; text-decoration-color: #ff00ff\">ss_hier.pickle</span>                                                     <span style=\"color: #7f7f7f; text-decoration-color: #7f7f7f\">                   </span>\n",
       "</pre>\n"
      ],
      "text/plain": [
       "\u001b[2;36m                   \u001b[0m\u001b[2;36m \u001b[0m\u001b[34mINFO    \u001b[0m Loading index from                                                 \u001b]8;id=194356;file:///home/Florian.Borchert/miniconda3/envs/ggponc/lib/python3.10/site-packages/xmen/linkers/faiss_indexer.py\u001b\\\u001b[2mfaiss_indexer.py\u001b[0m\u001b]8;;\u001b\\\u001b[2m:\u001b[0m\u001b]8;id=496281;file:///home/Florian.Borchert/miniconda3/envs/ggponc/lib/python3.10/site-packages/xmen/linkers/faiss_indexer.py#64\u001b\\\u001b[2m64\u001b[0m\u001b]8;;\u001b\\\n",
       "\u001b[2;36m                    \u001b[0m         \u001b[35m/home/Florian.Borchert/.cache/xmen/ggponc3/index/sapbert/\u001b[0m\u001b[95membed_fai\u001b[0m \u001b[2m                   \u001b[0m\n",
       "\u001b[2;36m                    \u001b[0m         \u001b[95mss_hier.pickle\u001b[0m                                                     \u001b[2m                   \u001b[0m\n"
      ]
     },
     "metadata": {},
     "output_type": "display_data"
    },
    {
     "data": {
      "text/html": [
       "<pre style=\"white-space:pre;overflow-x:auto;line-height:normal;font-family:Menlo,'DejaVu Sans Mono',consolas,'Courier New',monospace\"><span style=\"color: #7fbfbf; text-decoration-color: #7fbfbf\">[06/19/24 13:43:56] </span><span style=\"color: #000080; text-decoration-color: #000080\">INFO    </span> Loaded index of type <span style=\"font-weight: bold\">&lt;</span><span style=\"color: #ff00ff; text-decoration-color: #ff00ff; font-weight: bold\">class</span><span style=\"color: #000000; text-decoration-color: #000000\"> </span><span style=\"color: #008000; text-decoration-color: #008000\">'faiss.swigfaiss.IndexHNSWFlat'</span><span style=\"font-weight: bold\">&gt;</span> and   <a href=\"file:///home/Florian.Borchert/miniconda3/envs/ggponc/lib/python3.10/site-packages/xmen/linkers/faiss_indexer.py\" target=\"_blank\"><span style=\"color: #7f7f7f; text-decoration-color: #7f7f7f\">faiss_indexer.py</span></a><span style=\"color: #7f7f7f; text-decoration-color: #7f7f7f\">:</span><a href=\"file:///home/Florian.Borchert/miniconda3/envs/ggponc/lib/python3.10/site-packages/xmen/linkers/faiss_indexer.py#66\" target=\"_blank\"><span style=\"color: #7f7f7f; text-decoration-color: #7f7f7f\">66</span></a>\n",
       "<span style=\"color: #7fbfbf; text-decoration-color: #7fbfbf\">                    </span>         size <span style=\"color: #008080; text-decoration-color: #008080; font-weight: bold\">2465719</span>                                                       <span style=\"color: #7f7f7f; text-decoration-color: #7f7f7f\">                   </span>\n",
       "</pre>\n"
      ],
      "text/plain": [
       "\u001b[2;36m[06/19/24 13:43:56]\u001b[0m\u001b[2;36m \u001b[0m\u001b[34mINFO    \u001b[0m Loaded index of type \u001b[1m<\u001b[0m\u001b[1;95mclass\u001b[0m\u001b[39m \u001b[0m\u001b[32m'faiss.swigfaiss.IndexHNSWFlat'\u001b[0m\u001b[1m>\u001b[0m and   \u001b]8;id=828593;file:///home/Florian.Borchert/miniconda3/envs/ggponc/lib/python3.10/site-packages/xmen/linkers/faiss_indexer.py\u001b\\\u001b[2mfaiss_indexer.py\u001b[0m\u001b]8;;\u001b\\\u001b[2m:\u001b[0m\u001b]8;id=131882;file:///home/Florian.Borchert/miniconda3/envs/ggponc/lib/python3.10/site-packages/xmen/linkers/faiss_indexer.py#66\u001b\\\u001b[2m66\u001b[0m\u001b]8;;\u001b\\\n",
       "\u001b[2;36m                    \u001b[0m         size \u001b[1;36m2465719\u001b[0m                                                       \u001b[2m                   \u001b[0m\n"
      ]
     },
     "metadata": {},
     "output_type": "display_data"
    },
    {
     "name": "stderr",
     "output_type": "stream",
     "text": [
      "/home/Florian.Borchert/miniconda3/envs/ggponc/lib/python3.10/site-packages/huggingface_hub/file_download.py:1132: FutureWarning: `resume_download` is deprecated and will be removed in version 1.0.0. Downloads always resume when possible. If you want to force a new download, use `force_download=True`.\n",
      "  warnings.warn(\n"
     ]
    }
   ],
   "source": [
    "from ggponc import EntityLinker\n",
    "linker = EntityLinker(**conf.linker.ranking, candidate_generation_kwargs=conf.linker.candidate_generation)"
   ]
  },
  {
   "cell_type": "code",
   "execution_count": 9,
   "id": "a9bbfda6-a097-479e-b19d-cb511788ec2e",
   "metadata": {
    "scrolled": true,
    "tags": []
   },
   "outputs": [
    {
     "data": {
      "application/vnd.jupyter.widget-view+json": {
       "model_id": "d6a5bf85e70b4fecba24388a5a93a964",
       "version_major": 2,
       "version_minor": 0
      },
      "text/plain": [
       "Map:   0%|          | 0/374 [00:00<?, ? examples/s]"
      ]
     },
     "metadata": {},
     "output_type": "display_data"
    },
    {
     "name": "stderr",
     "output_type": "stream",
     "text": [
      "/home/Florian.Borchert/miniconda3/envs/ggponc/lib/python3.10/site-packages/scispacy/abbreviation.py:248: UserWarning: [W036] The component 'matcher' does not have any patterns defined.\n",
      "  global_matches = self.global_matcher(doc)\n"
     ]
    },
    {
     "data": {
      "application/vnd.jupyter.widget-view+json": {
       "model_id": "d9007b1ef7cb4036b478a02e03a96c1f",
       "version_major": 2,
       "version_minor": 0
      },
      "text/plain": [
       "Map:   0%|          | 0/374 [00:00<?, ? examples/s]"
      ]
     },
     "metadata": {},
     "output_type": "display_data"
    },
    {
     "data": {
      "application/vnd.jupyter.widget-view+json": {
       "model_id": "921b0640bce149468309bef51f9732d3",
       "version_major": 2,
       "version_minor": 0
      },
      "text/plain": [
       "Map:   0%|          | 0/374 [00:00<?, ? examples/s]"
      ]
     },
     "metadata": {},
     "output_type": "display_data"
    },
    {
     "data": {
      "application/vnd.jupyter.widget-view+json": {
       "model_id": "7e5114660b38420094cbbfecc55ed8da",
       "version_major": 2,
       "version_minor": 0
      },
      "text/plain": [
       "Map:   0%|          | 0/374 [00:00<?, ? examples/s]"
      ]
     },
     "metadata": {},
     "output_type": "display_data"
    },
    {
     "name": "stdout",
     "output_type": "stream",
     "text": [
      "Context length: 128\n",
      "Use NIL values: False\n"
     ]
    },
    {
     "data": {
      "application/vnd.jupyter.widget-view+json": {
       "model_id": "597215594f1a4583b4b83a88dcdb1faf",
       "version_major": 2,
       "version_minor": 0
      },
      "text/plain": [
       "  0%|          | 0/1179 [00:00<?, ?it/s]"
      ]
     },
     "metadata": {},
     "output_type": "display_data"
    },
    {
     "data": {
      "application/vnd.jupyter.widget-view+json": {
       "model_id": "5e01acdacfff40f4b225bed9180c2016",
       "version_major": 2,
       "version_minor": 0
      },
      "text/plain": [
       "  0%|          | 0/1179 [00:00<?, ?it/s]"
      ]
     },
     "metadata": {},
     "output_type": "display_data"
    },
    {
     "data": {
      "application/vnd.jupyter.widget-view+json": {
       "model_id": "bf562b83a58343139ed1fea215cfffa0",
       "version_major": 2,
       "version_minor": 0
      },
      "text/plain": [
       "  0%|          | 0/1179 [00:00<?, ?it/s]"
      ]
     },
     "metadata": {},
     "output_type": "display_data"
    },
    {
     "data": {
      "application/vnd.jupyter.widget-view+json": {
       "model_id": "0d3b0f4bdb224feebcf08385f659e212",
       "version_major": 2,
       "version_minor": 0
      },
      "text/plain": [
       "Batches:   0%|          | 0/1179 [00:00<?, ?it/s]"
      ]
     },
     "metadata": {},
     "output_type": "display_data"
    },
    {
     "data": {
      "application/vnd.jupyter.widget-view+json": {
       "model_id": "889b88dac0f5493eb3b63bb1c8808e3c",
       "version_major": 2,
       "version_minor": 0
      },
      "text/plain": [
       "Map:   0%|          | 0/374 [00:00<?, ? examples/s]"
      ]
     },
     "metadata": {},
     "output_type": "display_data"
    },
    {
     "data": {
      "application/vnd.jupyter.widget-view+json": {
       "model_id": "23d8b4c92d964b0090bed8eec58305d8",
       "version_major": 2,
       "version_minor": 0
      },
      "text/plain": [
       "Map:   0%|          | 0/374 [00:00<?, ? examples/s]"
      ]
     },
     "metadata": {},
     "output_type": "display_data"
    },
    {
     "data": {
      "application/vnd.jupyter.widget-view+json": {
       "model_id": "4342bc95d6c14559a0b8b4f1562b0c71",
       "version_major": 2,
       "version_minor": 0
      },
      "text/plain": [
       "Map:   0%|          | 0/374 [00:00<?, ? examples/s]"
      ]
     },
     "metadata": {},
     "output_type": "display_data"
    },
    {
     "name": "stderr",
     "output_type": "stream",
     "text": [
      "/home/Florian.Borchert/miniconda3/envs/ggponc/lib/python3.10/site-packages/scispacy/abbreviation.py:248: UserWarning: [W036] The component 'matcher' does not have any patterns defined.\n",
      "  global_matches = self.global_matcher(doc)\n"
     ]
    },
    {
     "data": {
      "application/vnd.jupyter.widget-view+json": {
       "model_id": "be5dd0ce90c9435f9058ad8f9ea02484",
       "version_major": 2,
       "version_minor": 0
      },
      "text/plain": [
       "Map:   0%|          | 0/374 [00:00<?, ? examples/s]"
      ]
     },
     "metadata": {},
     "output_type": "display_data"
    },
    {
     "data": {
      "application/vnd.jupyter.widget-view+json": {
       "model_id": "4f5a90c4cb114a0e88db4b9de8fdb227",
       "version_major": 2,
       "version_minor": 0
      },
      "text/plain": [
       "Map:   0%|          | 0/374 [00:00<?, ? examples/s]"
      ]
     },
     "metadata": {},
     "output_type": "display_data"
    },
    {
     "name": "stdout",
     "output_type": "stream",
     "text": [
      "Context length: 128\n",
      "Use NIL values: False\n"
     ]
    },
    {
     "data": {
      "application/vnd.jupyter.widget-view+json": {
       "model_id": "1fbd9d38b4ce4c0595968e6a5ae76686",
       "version_major": 2,
       "version_minor": 0
      },
      "text/plain": [
       "  0%|          | 0/1179 [00:00<?, ?it/s]"
      ]
     },
     "metadata": {},
     "output_type": "display_data"
    },
    {
     "data": {
      "application/vnd.jupyter.widget-view+json": {
       "model_id": "bf1623f6dffc4c42b470005d418ff61e",
       "version_major": 2,
       "version_minor": 0
      },
      "text/plain": [
       "  0%|          | 0/1179 [00:00<?, ?it/s]"
      ]
     },
     "metadata": {},
     "output_type": "display_data"
    },
    {
     "data": {
      "application/vnd.jupyter.widget-view+json": {
       "model_id": "301f7fe66b2d496590e375b42a2f8671",
       "version_major": 2,
       "version_minor": 0
      },
      "text/plain": [
       "  0%|          | 0/1179 [00:00<?, ?it/s]"
      ]
     },
     "metadata": {},
     "output_type": "display_data"
    },
    {
     "data": {
      "application/vnd.jupyter.widget-view+json": {
       "model_id": "d26ca501efd34a62a9f4c4d0b4137de7",
       "version_major": 2,
       "version_minor": 0
      },
      "text/plain": [
       "Batches:   0%|          | 0/1179 [00:00<?, ?it/s]"
      ]
     },
     "metadata": {},
     "output_type": "display_data"
    },
    {
     "data": {
      "application/vnd.jupyter.widget-view+json": {
       "model_id": "611a301e39a4431aa07d0fb2b40069a1",
       "version_major": 2,
       "version_minor": 0
      },
      "text/plain": [
       "Map:   0%|          | 0/374 [00:00<?, ? examples/s]"
      ]
     },
     "metadata": {},
     "output_type": "display_data"
    },
    {
     "data": {
      "application/vnd.jupyter.widget-view+json": {
       "model_id": "1df862783d3b4eaa869d9602226f7067",
       "version_major": 2,
       "version_minor": 0
      },
      "text/plain": [
       "Map:   0%|          | 0/374 [00:00<?, ? examples/s]"
      ]
     },
     "metadata": {},
     "output_type": "display_data"
    },
    {
     "data": {
      "application/vnd.jupyter.widget-view+json": {
       "model_id": "312ab44d372047018c7b5a0d5fdb2005",
       "version_major": 2,
       "version_minor": 0
      },
      "text/plain": [
       "Map:   0%|          | 0/374 [00:00<?, ? examples/s]"
      ]
     },
     "metadata": {},
     "output_type": "display_data"
    },
    {
     "name": "stderr",
     "output_type": "stream",
     "text": [
      "/home/Florian.Borchert/miniconda3/envs/ggponc/lib/python3.10/site-packages/scispacy/abbreviation.py:248: UserWarning: [W036] The component 'matcher' does not have any patterns defined.\n",
      "  global_matches = self.global_matcher(doc)\n"
     ]
    },
    {
     "data": {
      "application/vnd.jupyter.widget-view+json": {
       "model_id": "3e40a502464e442b91dbc97c2eb69057",
       "version_major": 2,
       "version_minor": 0
      },
      "text/plain": [
       "Map:   0%|          | 0/374 [00:00<?, ? examples/s]"
      ]
     },
     "metadata": {},
     "output_type": "display_data"
    },
    {
     "data": {
      "application/vnd.jupyter.widget-view+json": {
       "model_id": "38e14b669d6b47418ebae819285ce69c",
       "version_major": 2,
       "version_minor": 0
      },
      "text/plain": [
       "Map:   0%|          | 0/374 [00:00<?, ? examples/s]"
      ]
     },
     "metadata": {},
     "output_type": "display_data"
    },
    {
     "data": {
      "application/vnd.jupyter.widget-view+json": {
       "model_id": "b93df14dddd04c94950187d970ec8fb0",
       "version_major": 2,
       "version_minor": 0
      },
      "text/plain": [
       "Map:   0%|          | 0/374 [00:00<?, ? examples/s]"
      ]
     },
     "metadata": {},
     "output_type": "display_data"
    },
    {
     "name": "stdout",
     "output_type": "stream",
     "text": [
      "Context length: 128\n",
      "Use NIL values: False\n"
     ]
    },
    {
     "data": {
      "application/vnd.jupyter.widget-view+json": {
       "model_id": "8eba7fa5035e4a3aa9af314107242cc9",
       "version_major": 2,
       "version_minor": 0
      },
      "text/plain": [
       "  0%|          | 0/1177 [00:00<?, ?it/s]"
      ]
     },
     "metadata": {},
     "output_type": "display_data"
    },
    {
     "data": {
      "application/vnd.jupyter.widget-view+json": {
       "model_id": "34aa87137d7a49209c6d8fee8d45dc30",
       "version_major": 2,
       "version_minor": 0
      },
      "text/plain": [
       "  0%|          | 0/1177 [00:00<?, ?it/s]"
      ]
     },
     "metadata": {},
     "output_type": "display_data"
    },
    {
     "data": {
      "application/vnd.jupyter.widget-view+json": {
       "model_id": "b12bb9fec3bf47f4ba4ee19c0dead7e7",
       "version_major": 2,
       "version_minor": 0
      },
      "text/plain": [
       "  0%|          | 0/1177 [00:00<?, ?it/s]"
      ]
     },
     "metadata": {},
     "output_type": "display_data"
    },
    {
     "data": {
      "application/vnd.jupyter.widget-view+json": {
       "model_id": "e94b3fab227a48b18b7791855b726a24",
       "version_major": 2,
       "version_minor": 0
      },
      "text/plain": [
       "Batches:   0%|          | 0/1177 [00:00<?, ?it/s]"
      ]
     },
     "metadata": {},
     "output_type": "display_data"
    },
    {
     "data": {
      "application/vnd.jupyter.widget-view+json": {
       "model_id": "77e510ea9d2e406c81d45ec95e312408",
       "version_major": 2,
       "version_minor": 0
      },
      "text/plain": [
       "Map:   0%|          | 0/374 [00:00<?, ? examples/s]"
      ]
     },
     "metadata": {},
     "output_type": "display_data"
    },
    {
     "data": {
      "application/vnd.jupyter.widget-view+json": {
       "model_id": "45a62d8ea706495eb50da5932f55f523",
       "version_major": 2,
       "version_minor": 0
      },
      "text/plain": [
       "Map:   0%|          | 0/374 [00:00<?, ? examples/s]"
      ]
     },
     "metadata": {},
     "output_type": "display_data"
    },
    {
     "data": {
      "application/vnd.jupyter.widget-view+json": {
       "model_id": "2608a47fadd84143b8d3394bd27efe72",
       "version_major": 2,
       "version_minor": 0
      },
      "text/plain": [
       "Map:   0%|          | 0/374 [00:00<?, ? examples/s]"
      ]
     },
     "metadata": {},
     "output_type": "display_data"
    },
    {
     "name": "stderr",
     "output_type": "stream",
     "text": [
      "/home/Florian.Borchert/miniconda3/envs/ggponc/lib/python3.10/site-packages/scispacy/abbreviation.py:248: UserWarning: [W036] The component 'matcher' does not have any patterns defined.\n",
      "  global_matches = self.global_matcher(doc)\n"
     ]
    },
    {
     "data": {
      "application/vnd.jupyter.widget-view+json": {
       "model_id": "fc306bcd68a84a9aa49c2c60b3f29331",
       "version_major": 2,
       "version_minor": 0
      },
      "text/plain": [
       "Map:   0%|          | 0/374 [00:00<?, ? examples/s]"
      ]
     },
     "metadata": {},
     "output_type": "display_data"
    },
    {
     "data": {
      "application/vnd.jupyter.widget-view+json": {
       "model_id": "92c4ed8ae4cf4eef8be8edde866077a7",
       "version_major": 2,
       "version_minor": 0
      },
      "text/plain": [
       "Map:   0%|          | 0/374 [00:00<?, ? examples/s]"
      ]
     },
     "metadata": {},
     "output_type": "display_data"
    },
    {
     "name": "stdout",
     "output_type": "stream",
     "text": [
      "Context length: 128\n",
      "Use NIL values: False\n"
     ]
    },
    {
     "data": {
      "application/vnd.jupyter.widget-view+json": {
       "model_id": "0d36abf8b4164dedaf9d8c503f556981",
       "version_major": 2,
       "version_minor": 0
      },
      "text/plain": [
       "  0%|          | 0/1177 [00:00<?, ?it/s]"
      ]
     },
     "metadata": {},
     "output_type": "display_data"
    },
    {
     "data": {
      "application/vnd.jupyter.widget-view+json": {
       "model_id": "a95e68c4f8bf42919d78179d218742c0",
       "version_major": 2,
       "version_minor": 0
      },
      "text/plain": [
       "  0%|          | 0/1177 [00:00<?, ?it/s]"
      ]
     },
     "metadata": {},
     "output_type": "display_data"
    },
    {
     "data": {
      "application/vnd.jupyter.widget-view+json": {
       "model_id": "d79ca08eec1d460b8c0a3f1a7524b5e6",
       "version_major": 2,
       "version_minor": 0
      },
      "text/plain": [
       "  0%|          | 0/1177 [00:00<?, ?it/s]"
      ]
     },
     "metadata": {},
     "output_type": "display_data"
    },
    {
     "data": {
      "application/vnd.jupyter.widget-view+json": {
       "model_id": "2a5afe82294641569da601cda31c8626",
       "version_major": 2,
       "version_minor": 0
      },
      "text/plain": [
       "Batches:   0%|          | 0/1177 [00:00<?, ?it/s]"
      ]
     },
     "metadata": {},
     "output_type": "display_data"
    },
    {
     "data": {
      "application/vnd.jupyter.widget-view+json": {
       "model_id": "0d81c24ee22045ef8242eb5639744398",
       "version_major": 2,
       "version_minor": 0
      },
      "text/plain": [
       "Map:   0%|          | 0/374 [00:00<?, ? examples/s]"
      ]
     },
     "metadata": {},
     "output_type": "display_data"
    },
    {
     "data": {
      "application/vnd.jupyter.widget-view+json": {
       "model_id": "8b37d0e723614a28b83ad4e57afa4cb4",
       "version_major": 2,
       "version_minor": 0
      },
      "text/plain": [
       "Map:   0%|          | 0/374 [00:00<?, ? examples/s]"
      ]
     },
     "metadata": {},
     "output_type": "display_data"
    }
   ],
   "source": [
    "linking_results = {}\n",
    "linking_results['before_eccnp'] = linker.transform(ds_ner_before, silent=True)\n",
    "linking_results['before_eccnp_no_semtype'] = linker.transform(ds_ner_before, ['abbrv', 'candidates', 'reranking'], silent=True)\n",
    "linking_results['after_eccnp'] = linker.transform(ds_ner_after, silent=True)\n",
    "linking_results['after_eccnp_no_semtype'] = linker.transform(ds_ner_after, ['abbrv', 'candidates', 'reranking'], silent=True)"
   ]
  },
  {
   "cell_type": "code",
   "execution_count": 10,
   "id": "3340d144-944c-4d80-82df-8c62e4ac4960",
   "metadata": {
    "tags": []
   },
   "outputs": [],
   "source": [
    "from nb_util import show_diff_single\n",
    "from IPython.display import display\n",
    "from nen_util import get_annotation_dataframe\n",
    "from xmen.data import Sampler\n",
    "\n",
    "def get_ent_texts(d):\n",
    "    return [e['text'] for e in d['entities']]"
   ]
  },
  {
   "cell_type": "markdown",
   "id": "130de8aa-3632-4845-bd51-a7c3b7f5eb6f",
   "metadata": {},
   "source": [
    "# Impact of Semantic Type Filter"
   ]
  },
  {
   "cell_type": "code",
   "execution_count": 11,
   "id": "7e7ed804-26c1-4471-9cf3-616153f55a8e",
   "metadata": {
    "scrolled": true,
    "tags": []
   },
   "outputs": [
    {
     "data": {
      "application/vnd.jupyter.widget-view+json": {
       "model_id": "91f04844ecbb435081c5d17de71d05fd",
       "version_major": 2,
       "version_minor": 0
      },
      "text/plain": [
       "  0%|          | 0/1 [00:00<?, ?it/s]"
      ]
     },
     "metadata": {},
     "output_type": "display_data"
    },
    {
     "data": {
      "application/vnd.jupyter.widget-view+json": {
       "model_id": "aaa3b0ec0d924f8eb74516707072023f",
       "version_major": 2,
       "version_minor": 0
      },
      "text/plain": [
       "  0%|          | 0/1 [00:00<?, ?it/s]"
      ]
     },
     "metadata": {},
     "output_type": "display_data"
    },
    {
     "data": {
      "application/vnd.jupyter.widget-view+json": {
       "model_id": "6f986a70948b4c849449dba6cdf4f6dc",
       "version_major": 2,
       "version_minor": 0
      },
      "text/plain": [
       "  0%|          | 0/1 [00:00<?, ?it/s]"
      ]
     },
     "metadata": {},
     "output_type": "display_data"
    },
    {
     "data": {
      "application/vnd.jupyter.widget-view+json": {
       "model_id": "2f27d3eba1054611a6f3b0c89315adc5",
       "version_major": 2,
       "version_minor": 0
      },
      "text/plain": [
       "  0%|          | 0/1 [00:00<?, ?it/s]"
      ]
     },
     "metadata": {},
     "output_type": "display_data"
    },
    {
     "data": {
      "application/vnd.jupyter.widget-view+json": {
       "model_id": "b4f81739f69f42db882d3ac56ca4aba4",
       "version_major": 2,
       "version_minor": 0
      },
      "text/plain": [
       "  0%|          | 0/1 [00:00<?, ?it/s]"
      ]
     },
     "metadata": {},
     "output_type": "display_data"
    },
    {
     "data": {
      "application/vnd.jupyter.widget-view+json": {
       "model_id": "b979b5ab61314b7a93387c68c945a10b",
       "version_major": 2,
       "version_minor": 0
      },
      "text/plain": [
       "  0%|          | 0/1 [00:00<?, ?it/s]"
      ]
     },
     "metadata": {},
     "output_type": "display_data"
    },
    {
     "data": {
      "application/vnd.jupyter.widget-view+json": {
       "model_id": "6c61fe8e6b5e4066a20a501b2a47068d",
       "version_major": 2,
       "version_minor": 0
      },
      "text/plain": [
       "  0%|          | 0/1 [00:00<?, ?it/s]"
      ]
     },
     "metadata": {},
     "output_type": "display_data"
    },
    {
     "data": {
      "application/vnd.jupyter.widget-view+json": {
       "model_id": "57afb7464e1849eaab0d7f4dd04cad3c",
       "version_major": 2,
       "version_minor": 0
      },
      "text/plain": [
       "  0%|          | 0/1 [00:00<?, ?it/s]"
      ]
     },
     "metadata": {},
     "output_type": "display_data"
    },
    {
     "data": {
      "application/vnd.jupyter.widget-view+json": {
       "model_id": "d9f7ab5a2ef041898a57191e5c91e43d",
       "version_major": 2,
       "version_minor": 0
      },
      "text/plain": [
       "  0%|          | 0/1 [00:00<?, ?it/s]"
      ]
     },
     "metadata": {},
     "output_type": "display_data"
    },
    {
     "data": {
      "application/vnd.jupyter.widget-view+json": {
       "model_id": "6413797a3dbc446d87b63b3643e75c24",
       "version_major": 2,
       "version_minor": 0
      },
      "text/plain": [
       "  0%|          | 0/1 [00:00<?, ?it/s]"
      ]
     },
     "metadata": {},
     "output_type": "display_data"
    },
    {
     "data": {
      "application/vnd.jupyter.widget-view+json": {
       "model_id": "31f8b0071e2048a9834f45963f4bf3ec",
       "version_major": 2,
       "version_minor": 0
      },
      "text/plain": [
       "  0%|          | 0/1 [00:00<?, ?it/s]"
      ]
     },
     "metadata": {},
     "output_type": "display_data"
    },
    {
     "data": {
      "application/vnd.jupyter.widget-view+json": {
       "model_id": "9c99ed540139455ebbd169f6a6f16e38",
       "version_major": 2,
       "version_minor": 0
      },
      "text/plain": [
       "  0%|          | 0/1 [00:00<?, ?it/s]"
      ]
     },
     "metadata": {},
     "output_type": "display_data"
    },
    {
     "name": "stdout",
     "output_type": "stream",
     "text": [
      "Bei komplett parenteraler Ernährung kann die Supplementierung von Spurenelementen deren Abfall im Serum verhindern; dies trifft besonders auf Mangan und Kupfer zu [REF].\n",
      "\n",
      "No Filter:\n"
     ]
    },
    {
     "data": {
      "text/html": [
       "<div>\n",
       "<style scoped>\n",
       "    .dataframe tbody tr th:only-of-type {\n",
       "        vertical-align: middle;\n",
       "    }\n",
       "\n",
       "    .dataframe tbody tr th {\n",
       "        vertical-align: top;\n",
       "    }\n",
       "\n",
       "    .dataframe thead th {\n",
       "        text-align: right;\n",
       "    }\n",
       "</style>\n",
       "<table border=\"1\" class=\"dataframe\">\n",
       "  <thead>\n",
       "    <tr style=\"text-align: right;\">\n",
       "      <th></th>\n",
       "      <th>document</th>\n",
       "      <th>text</th>\n",
       "      <th>type</th>\n",
       "      <th>start</th>\n",
       "      <th>end</th>\n",
       "      <th>cui</th>\n",
       "      <th>tuis</th>\n",
       "      <th>canonical</th>\n",
       "      <th>linker</th>\n",
       "      <th>confidence</th>\n",
       "    </tr>\n",
       "  </thead>\n",
       "  <tbody>\n",
       "    <tr>\n",
       "      <th>6</th>\n",
       "      <td>01_magenkarzinom_0192_5</td>\n",
       "      <td>Kupfer</td>\n",
       "      <td>Clinical_Drug</td>\n",
       "      <td>153</td>\n",
       "      <td>159</td>\n",
       "      <td>C0373587</td>\n",
       "      <td>[T059]</td>\n",
       "      <td>Cu</td>\n",
       "      <td>[ngram, sapbert]</td>\n",
       "      <td>0.084888</td>\n",
       "    </tr>\n",
       "  </tbody>\n",
       "</table>\n",
       "</div>"
      ],
      "text/plain": [
       "                  document    text           type  start  end       cui  \\\n",
       "6  01_magenkarzinom_0192_5  Kupfer  Clinical_Drug    153  159  C0373587   \n",
       "\n",
       "     tuis canonical            linker  confidence  \n",
       "6  [T059]        Cu  [ngram, sapbert]    0.084888  "
      ]
     },
     "metadata": {},
     "output_type": "display_data"
    },
    {
     "name": "stdout",
     "output_type": "stream",
     "text": [
      "Filter:\n"
     ]
    },
    {
     "data": {
      "text/html": [
       "<div>\n",
       "<style scoped>\n",
       "    .dataframe tbody tr th:only-of-type {\n",
       "        vertical-align: middle;\n",
       "    }\n",
       "\n",
       "    .dataframe tbody tr th {\n",
       "        vertical-align: top;\n",
       "    }\n",
       "\n",
       "    .dataframe thead th {\n",
       "        text-align: right;\n",
       "    }\n",
       "</style>\n",
       "<table border=\"1\" class=\"dataframe\">\n",
       "  <thead>\n",
       "    <tr style=\"text-align: right;\">\n",
       "      <th></th>\n",
       "      <th>document</th>\n",
       "      <th>text</th>\n",
       "      <th>type</th>\n",
       "      <th>start</th>\n",
       "      <th>end</th>\n",
       "      <th>cui</th>\n",
       "      <th>tuis</th>\n",
       "      <th>canonical</th>\n",
       "      <th>linker</th>\n",
       "      <th>confidence</th>\n",
       "    </tr>\n",
       "  </thead>\n",
       "  <tbody>\n",
       "    <tr>\n",
       "      <th>6</th>\n",
       "      <td>01_magenkarzinom_0192_5</td>\n",
       "      <td>Kupfer</td>\n",
       "      <td>Clinical_Drug</td>\n",
       "      <td>153</td>\n",
       "      <td>159</td>\n",
       "      <td>C0009968</td>\n",
       "      <td>[T121, T123, T196]</td>\n",
       "      <td>Kupfer</td>\n",
       "      <td>[ngram, sapbert]</td>\n",
       "      <td>0.069398</td>\n",
       "    </tr>\n",
       "  </tbody>\n",
       "</table>\n",
       "</div>"
      ],
      "text/plain": [
       "                  document    text           type  start  end       cui  \\\n",
       "6  01_magenkarzinom_0192_5  Kupfer  Clinical_Drug    153  159  C0009968   \n",
       "\n",
       "                 tuis canonical            linker  confidence  \n",
       "6  [T121, T123, T196]    Kupfer  [ngram, sapbert]    0.069398  "
      ]
     },
     "metadata": {},
     "output_type": "display_data"
    },
    {
     "name": "stdout",
     "output_type": "stream",
     "text": [
      "####\n"
     ]
    },
    {
     "data": {
      "application/vnd.jupyter.widget-view+json": {
       "model_id": "c2ecc08e01aa4043bf5bde0a09352f8a",
       "version_major": 2,
       "version_minor": 0
      },
      "text/plain": [
       "  0%|          | 0/1 [00:00<?, ?it/s]"
      ]
     },
     "metadata": {},
     "output_type": "display_data"
    },
    {
     "data": {
      "application/vnd.jupyter.widget-view+json": {
       "model_id": "1ea6209c6b2d490298472588a51774bf",
       "version_major": 2,
       "version_minor": 0
      },
      "text/plain": [
       "  0%|          | 0/1 [00:00<?, ?it/s]"
      ]
     },
     "metadata": {},
     "output_type": "display_data"
    },
    {
     "data": {
      "application/vnd.jupyter.widget-view+json": {
       "model_id": "e526aafb41cb4e71a18d168776d79262",
       "version_major": 2,
       "version_minor": 0
      },
      "text/plain": [
       "  0%|          | 0/1 [00:00<?, ?it/s]"
      ]
     },
     "metadata": {},
     "output_type": "display_data"
    },
    {
     "data": {
      "application/vnd.jupyter.widget-view+json": {
       "model_id": "3fc9950c89bd4a5a95967735f1000835",
       "version_major": 2,
       "version_minor": 0
      },
      "text/plain": [
       "  0%|          | 0/1 [00:00<?, ?it/s]"
      ]
     },
     "metadata": {},
     "output_type": "display_data"
    },
    {
     "data": {
      "application/vnd.jupyter.widget-view+json": {
       "model_id": "51797635e85341429acadfeee38c899a",
       "version_major": 2,
       "version_minor": 0
      },
      "text/plain": [
       "  0%|          | 0/1 [00:00<?, ?it/s]"
      ]
     },
     "metadata": {},
     "output_type": "display_data"
    },
    {
     "data": {
      "application/vnd.jupyter.widget-view+json": {
       "model_id": "948e9ad6c97246b79b53abfe74f6f503",
       "version_major": 2,
       "version_minor": 0
      },
      "text/plain": [
       "  0%|          | 0/1 [00:00<?, ?it/s]"
      ]
     },
     "metadata": {},
     "output_type": "display_data"
    },
    {
     "data": {
      "application/vnd.jupyter.widget-view+json": {
       "model_id": "fd11fcfd46264c68bdb7667161a4b689",
       "version_major": 2,
       "version_minor": 0
      },
      "text/plain": [
       "  0%|          | 0/1 [00:00<?, ?it/s]"
      ]
     },
     "metadata": {},
     "output_type": "display_data"
    },
    {
     "data": {
      "application/vnd.jupyter.widget-view+json": {
       "model_id": "ffd4681ab959446abf21a6c3e20f0a7f",
       "version_major": 2,
       "version_minor": 0
      },
      "text/plain": [
       "  0%|          | 0/1 [00:00<?, ?it/s]"
      ]
     },
     "metadata": {},
     "output_type": "display_data"
    },
    {
     "data": {
      "application/vnd.jupyter.widget-view+json": {
       "model_id": "4ef59cca72a74d0ea1244dc6fd035633",
       "version_major": 2,
       "version_minor": 0
      },
      "text/plain": [
       "  0%|          | 0/1 [00:00<?, ?it/s]"
      ]
     },
     "metadata": {},
     "output_type": "display_data"
    },
    {
     "data": {
      "application/vnd.jupyter.widget-view+json": {
       "model_id": "603559c4a0714d268f2ea04466ca9857",
       "version_major": 2,
       "version_minor": 0
      },
      "text/plain": [
       "  0%|          | 0/1 [00:00<?, ?it/s]"
      ]
     },
     "metadata": {},
     "output_type": "display_data"
    },
    {
     "data": {
      "application/vnd.jupyter.widget-view+json": {
       "model_id": "7848bf89cc1d467fbf4341611d57d826",
       "version_major": 2,
       "version_minor": 0
      },
      "text/plain": [
       "  0%|          | 0/1 [00:00<?, ?it/s]"
      ]
     },
     "metadata": {},
     "output_type": "display_data"
    },
    {
     "data": {
      "application/vnd.jupyter.widget-view+json": {
       "model_id": "a1897e28498648a3912d530d280ced78",
       "version_major": 2,
       "version_minor": 0
      },
      "text/plain": [
       "  0%|          | 0/1 [00:00<?, ?it/s]"
      ]
     },
     "metadata": {},
     "output_type": "display_data"
    },
    {
     "data": {
      "application/vnd.jupyter.widget-view+json": {
       "model_id": "10cb06d5aaa544e3a46f670bcedd1270",
       "version_major": 2,
       "version_minor": 0
      },
      "text/plain": [
       "  0%|          | 0/1 [00:00<?, ?it/s]"
      ]
     },
     "metadata": {},
     "output_type": "display_data"
    },
    {
     "data": {
      "application/vnd.jupyter.widget-view+json": {
       "model_id": "9f5d0b8dd8484123a6cc5228e56a6518",
       "version_major": 2,
       "version_minor": 0
      },
      "text/plain": [
       "  0%|          | 0/1 [00:00<?, ?it/s]"
      ]
     },
     "metadata": {},
     "output_type": "display_data"
    },
    {
     "data": {
      "application/vnd.jupyter.widget-view+json": {
       "model_id": "2e1f4562c0b54198824064ec2fa8a1b7",
       "version_major": 2,
       "version_minor": 0
      },
      "text/plain": [
       "  0%|          | 0/1 [00:00<?, ?it/s]"
      ]
     },
     "metadata": {},
     "output_type": "display_data"
    },
    {
     "data": {
      "application/vnd.jupyter.widget-view+json": {
       "model_id": "cc0862f79f2343b080513417ffb7f61c",
       "version_major": 2,
       "version_minor": 0
      },
      "text/plain": [
       "  0%|          | 0/1 [00:00<?, ?it/s]"
      ]
     },
     "metadata": {},
     "output_type": "display_data"
    },
    {
     "data": {
      "application/vnd.jupyter.widget-view+json": {
       "model_id": "5c7fb68723034a1c807967a24a56c72c",
       "version_major": 2,
       "version_minor": 0
      },
      "text/plain": [
       "  0%|          | 0/1 [00:00<?, ?it/s]"
      ]
     },
     "metadata": {},
     "output_type": "display_data"
    },
    {
     "data": {
      "application/vnd.jupyter.widget-view+json": {
       "model_id": "eadaac7dbf7441c4b54743aa04c1660b",
       "version_major": 2,
       "version_minor": 0
      },
      "text/plain": [
       "  0%|          | 0/1 [00:00<?, ?it/s]"
      ]
     },
     "metadata": {},
     "output_type": "display_data"
    },
    {
     "data": {
      "application/vnd.jupyter.widget-view+json": {
       "model_id": "f1e3aa4eda664aaca742231a34273384",
       "version_major": 2,
       "version_minor": 0
      },
      "text/plain": [
       "  0%|          | 0/1 [00:00<?, ?it/s]"
      ]
     },
     "metadata": {},
     "output_type": "display_data"
    },
    {
     "data": {
      "application/vnd.jupyter.widget-view+json": {
       "model_id": "42dcc9acdcb8447d8da6b94db33a1489",
       "version_major": 2,
       "version_minor": 0
      },
      "text/plain": [
       "  0%|          | 0/1 [00:00<?, ?it/s]"
      ]
     },
     "metadata": {},
     "output_type": "display_data"
    },
    {
     "data": {
      "application/vnd.jupyter.widget-view+json": {
       "model_id": "4340c2e563c24efcacc270a3ccb23fa4",
       "version_major": 2,
       "version_minor": 0
      },
      "text/plain": [
       "  0%|          | 0/1 [00:00<?, ?it/s]"
      ]
     },
     "metadata": {},
     "output_type": "display_data"
    },
    {
     "data": {
      "application/vnd.jupyter.widget-view+json": {
       "model_id": "f9ef8e4223874b7fa9be73d422abf9fe",
       "version_major": 2,
       "version_minor": 0
      },
      "text/plain": [
       "  0%|          | 0/1 [00:00<?, ?it/s]"
      ]
     },
     "metadata": {},
     "output_type": "display_data"
    },
    {
     "data": {
      "application/vnd.jupyter.widget-view+json": {
       "model_id": "4dd7693afbce47b0a19aee5991068359",
       "version_major": 2,
       "version_minor": 0
      },
      "text/plain": [
       "  0%|          | 0/1 [00:00<?, ?it/s]"
      ]
     },
     "metadata": {},
     "output_type": "display_data"
    },
    {
     "data": {
      "application/vnd.jupyter.widget-view+json": {
       "model_id": "f66e1e31627c4ad4b2723eeaaaf3f450",
       "version_major": 2,
       "version_minor": 0
      },
      "text/plain": [
       "  0%|          | 0/1 [00:00<?, ?it/s]"
      ]
     },
     "metadata": {},
     "output_type": "display_data"
    },
    {
     "data": {
      "application/vnd.jupyter.widget-view+json": {
       "model_id": "2f9a38a2a5ce46c8b13ace493fa2c4f9",
       "version_major": 2,
       "version_minor": 0
      },
      "text/plain": [
       "  0%|          | 0/1 [00:00<?, ?it/s]"
      ]
     },
     "metadata": {},
     "output_type": "display_data"
    },
    {
     "data": {
      "application/vnd.jupyter.widget-view+json": {
       "model_id": "3f79cea63b304935b1b9e67c962d4626",
       "version_major": 2,
       "version_minor": 0
      },
      "text/plain": [
       "  0%|          | 0/1 [00:00<?, ?it/s]"
      ]
     },
     "metadata": {},
     "output_type": "display_data"
    },
    {
     "data": {
      "application/vnd.jupyter.widget-view+json": {
       "model_id": "f5545c3967ab4415b3940bbdd2fc73a6",
       "version_major": 2,
       "version_minor": 0
      },
      "text/plain": [
       "  0%|          | 0/1 [00:00<?, ?it/s]"
      ]
     },
     "metadata": {},
     "output_type": "display_data"
    },
    {
     "data": {
      "application/vnd.jupyter.widget-view+json": {
       "model_id": "db6545c97d464e648126bacc975ade19",
       "version_major": 2,
       "version_minor": 0
      },
      "text/plain": [
       "  0%|          | 0/1 [00:00<?, ?it/s]"
      ]
     },
     "metadata": {},
     "output_type": "display_data"
    },
    {
     "name": "stdout",
     "output_type": "stream",
     "text": [
      "Es gibt keinen Beweis, dass Selen Nebenwirkungen vermindert, die im Zusammenhang mit Therapien des Magenkarzinoms relevant sind.\n",
      "\n",
      "No Filter:\n"
     ]
    },
    {
     "data": {
      "text/html": [
       "<div>\n",
       "<style scoped>\n",
       "    .dataframe tbody tr th:only-of-type {\n",
       "        vertical-align: middle;\n",
       "    }\n",
       "\n",
       "    .dataframe tbody tr th {\n",
       "        vertical-align: top;\n",
       "    }\n",
       "\n",
       "    .dataframe thead th {\n",
       "        text-align: right;\n",
       "    }\n",
       "</style>\n",
       "<table border=\"1\" class=\"dataframe\">\n",
       "  <thead>\n",
       "    <tr style=\"text-align: right;\">\n",
       "      <th></th>\n",
       "      <th>document</th>\n",
       "      <th>text</th>\n",
       "      <th>type</th>\n",
       "      <th>start</th>\n",
       "      <th>end</th>\n",
       "      <th>cui</th>\n",
       "      <th>tuis</th>\n",
       "      <th>canonical</th>\n",
       "      <th>linker</th>\n",
       "      <th>confidence</th>\n",
       "    </tr>\n",
       "  </thead>\n",
       "  <tbody>\n",
       "    <tr>\n",
       "      <th>2</th>\n",
       "      <td>01_magenkarzinom_0192_19</td>\n",
       "      <td>Therapien des Magenkarzinoms</td>\n",
       "      <td>Therapeutic</td>\n",
       "      <td>85</td>\n",
       "      <td>113</td>\n",
       "      <td>C0024623</td>\n",
       "      <td>[T191]</td>\n",
       "      <td>Krebs des Magens</td>\n",
       "      <td>[ngram]</td>\n",
       "      <td>0.072412</td>\n",
       "    </tr>\n",
       "  </tbody>\n",
       "</table>\n",
       "</div>"
      ],
      "text/plain": [
       "                   document                          text         type  start  \\\n",
       "2  01_magenkarzinom_0192_19  Therapien des Magenkarzinoms  Therapeutic     85   \n",
       "\n",
       "   end       cui    tuis         canonical   linker  confidence  \n",
       "2  113  C0024623  [T191]  Krebs des Magens  [ngram]    0.072412  "
      ]
     },
     "metadata": {},
     "output_type": "display_data"
    },
    {
     "name": "stdout",
     "output_type": "stream",
     "text": [
      "Filter:\n"
     ]
    },
    {
     "data": {
      "text/html": [
       "<div>\n",
       "<style scoped>\n",
       "    .dataframe tbody tr th:only-of-type {\n",
       "        vertical-align: middle;\n",
       "    }\n",
       "\n",
       "    .dataframe tbody tr th {\n",
       "        vertical-align: top;\n",
       "    }\n",
       "\n",
       "    .dataframe thead th {\n",
       "        text-align: right;\n",
       "    }\n",
       "</style>\n",
       "<table border=\"1\" class=\"dataframe\">\n",
       "  <thead>\n",
       "    <tr style=\"text-align: right;\">\n",
       "      <th></th>\n",
       "      <th>document</th>\n",
       "      <th>text</th>\n",
       "      <th>type</th>\n",
       "      <th>start</th>\n",
       "      <th>end</th>\n",
       "      <th>cui</th>\n",
       "      <th>tuis</th>\n",
       "      <th>canonical</th>\n",
       "      <th>linker</th>\n",
       "      <th>confidence</th>\n",
       "    </tr>\n",
       "  </thead>\n",
       "  <tbody>\n",
       "    <tr>\n",
       "      <th>2</th>\n",
       "      <td>01_magenkarzinom_0192_19</td>\n",
       "      <td>Therapien des Magenkarzinoms</td>\n",
       "      <td>Therapeutic</td>\n",
       "      <td>85</td>\n",
       "      <td>113</td>\n",
       "      <td>C0947833</td>\n",
       "      <td>[T061]</td>\n",
       "      <td>Gastric therapeutic procedures</td>\n",
       "      <td>[sapbert]</td>\n",
       "      <td>0.06769</td>\n",
       "    </tr>\n",
       "  </tbody>\n",
       "</table>\n",
       "</div>"
      ],
      "text/plain": [
       "                   document                          text         type  start  \\\n",
       "2  01_magenkarzinom_0192_19  Therapien des Magenkarzinoms  Therapeutic     85   \n",
       "\n",
       "   end       cui    tuis                       canonical     linker  \\\n",
       "2  113  C0947833  [T061]  Gastric therapeutic procedures  [sapbert]   \n",
       "\n",
       "   confidence  \n",
       "2     0.06769  "
      ]
     },
     "metadata": {},
     "output_type": "display_data"
    },
    {
     "name": "stdout",
     "output_type": "stream",
     "text": [
      "####\n"
     ]
    },
    {
     "data": {
      "application/vnd.jupyter.widget-view+json": {
       "model_id": "d54344d1dbe7490a8e386cd60b8a1a75",
       "version_major": 2,
       "version_minor": 0
      },
      "text/plain": [
       "  0%|          | 0/1 [00:00<?, ?it/s]"
      ]
     },
     "metadata": {},
     "output_type": "display_data"
    },
    {
     "data": {
      "application/vnd.jupyter.widget-view+json": {
       "model_id": "bcf715775dac48c99070bcb19588e676",
       "version_major": 2,
       "version_minor": 0
      },
      "text/plain": [
       "  0%|          | 0/1 [00:00<?, ?it/s]"
      ]
     },
     "metadata": {},
     "output_type": "display_data"
    },
    {
     "data": {
      "application/vnd.jupyter.widget-view+json": {
       "model_id": "367cb8eef7eb46cc8808a170f24def4e",
       "version_major": 2,
       "version_minor": 0
      },
      "text/plain": [
       "  0%|          | 0/1 [00:00<?, ?it/s]"
      ]
     },
     "metadata": {},
     "output_type": "display_data"
    },
    {
     "data": {
      "application/vnd.jupyter.widget-view+json": {
       "model_id": "d47436d3596c4630929cbcb3a4dc9bca",
       "version_major": 2,
       "version_minor": 0
      },
      "text/plain": [
       "  0%|          | 0/1 [00:00<?, ?it/s]"
      ]
     },
     "metadata": {},
     "output_type": "display_data"
    },
    {
     "data": {
      "application/vnd.jupyter.widget-view+json": {
       "model_id": "7764a1be2202441d8f33f1fc7a8149a4",
       "version_major": 2,
       "version_minor": 0
      },
      "text/plain": [
       "  0%|          | 0/1 [00:00<?, ?it/s]"
      ]
     },
     "metadata": {},
     "output_type": "display_data"
    },
    {
     "data": {
      "application/vnd.jupyter.widget-view+json": {
       "model_id": "f3a9adafcfc748278a5ff5e440029606",
       "version_major": 2,
       "version_minor": 0
      },
      "text/plain": [
       "  0%|          | 0/1 [00:00<?, ?it/s]"
      ]
     },
     "metadata": {},
     "output_type": "display_data"
    },
    {
     "name": "stdout",
     "output_type": "stream",
     "text": [
      "Präklinische Daten sprechen dafür, dass Zink das Wachstum von Tumoren fördert, eine Supplementierung ist deshalb bei normaler Ernährung nicht zu empfehlen.\n",
      "\n",
      "No Filter:\n"
     ]
    },
    {
     "data": {
      "text/html": [
       "<div>\n",
       "<style scoped>\n",
       "    .dataframe tbody tr th:only-of-type {\n",
       "        vertical-align: middle;\n",
       "    }\n",
       "\n",
       "    .dataframe tbody tr th {\n",
       "        vertical-align: top;\n",
       "    }\n",
       "\n",
       "    .dataframe thead th {\n",
       "        text-align: right;\n",
       "    }\n",
       "</style>\n",
       "<table border=\"1\" class=\"dataframe\">\n",
       "  <thead>\n",
       "    <tr style=\"text-align: right;\">\n",
       "      <th></th>\n",
       "      <th>document</th>\n",
       "      <th>text</th>\n",
       "      <th>type</th>\n",
       "      <th>start</th>\n",
       "      <th>end</th>\n",
       "      <th>cui</th>\n",
       "      <th>tuis</th>\n",
       "      <th>canonical</th>\n",
       "      <th>linker</th>\n",
       "      <th>confidence</th>\n",
       "    </tr>\n",
       "  </thead>\n",
       "  <tbody>\n",
       "    <tr>\n",
       "      <th>0</th>\n",
       "      <td>01_magenkarzinom_0192_22</td>\n",
       "      <td>Zink</td>\n",
       "      <td>Nutrient_or_Body_Substance</td>\n",
       "      <td>40</td>\n",
       "      <td>44</td>\n",
       "      <td>C0373748</td>\n",
       "      <td>[T059]</td>\n",
       "      <td>Zn</td>\n",
       "      <td>[ngram, sapbert]</td>\n",
       "      <td>0.076587</td>\n",
       "    </tr>\n",
       "  </tbody>\n",
       "</table>\n",
       "</div>"
      ],
      "text/plain": [
       "                   document  text                        type  start  end  \\\n",
       "0  01_magenkarzinom_0192_22  Zink  Nutrient_or_Body_Substance     40   44   \n",
       "\n",
       "        cui    tuis canonical            linker  confidence  \n",
       "0  C0373748  [T059]        Zn  [ngram, sapbert]    0.076587  "
      ]
     },
     "metadata": {},
     "output_type": "display_data"
    },
    {
     "name": "stdout",
     "output_type": "stream",
     "text": [
      "Filter:\n"
     ]
    },
    {
     "data": {
      "text/html": [
       "<div>\n",
       "<style scoped>\n",
       "    .dataframe tbody tr th:only-of-type {\n",
       "        vertical-align: middle;\n",
       "    }\n",
       "\n",
       "    .dataframe tbody tr th {\n",
       "        vertical-align: top;\n",
       "    }\n",
       "\n",
       "    .dataframe thead th {\n",
       "        text-align: right;\n",
       "    }\n",
       "</style>\n",
       "<table border=\"1\" class=\"dataframe\">\n",
       "  <thead>\n",
       "    <tr style=\"text-align: right;\">\n",
       "      <th></th>\n",
       "      <th>document</th>\n",
       "      <th>text</th>\n",
       "      <th>type</th>\n",
       "      <th>start</th>\n",
       "      <th>end</th>\n",
       "      <th>cui</th>\n",
       "      <th>tuis</th>\n",
       "      <th>canonical</th>\n",
       "      <th>linker</th>\n",
       "      <th>confidence</th>\n",
       "    </tr>\n",
       "  </thead>\n",
       "  <tbody>\n",
       "    <tr>\n",
       "      <th>0</th>\n",
       "      <td>01_magenkarzinom_0192_22</td>\n",
       "      <td>Zink</td>\n",
       "      <td>Nutrient_or_Body_Substance</td>\n",
       "      <td>40</td>\n",
       "      <td>44</td>\n",
       "      <td>C0043481</td>\n",
       "      <td>[T121, T123, T196]</td>\n",
       "      <td>Zink</td>\n",
       "      <td>[ngram, sapbert]</td>\n",
       "      <td>0.074914</td>\n",
       "    </tr>\n",
       "  </tbody>\n",
       "</table>\n",
       "</div>"
      ],
      "text/plain": [
       "                   document  text                        type  start  end  \\\n",
       "0  01_magenkarzinom_0192_22  Zink  Nutrient_or_Body_Substance     40   44   \n",
       "\n",
       "        cui                tuis canonical            linker  confidence  \n",
       "0  C0043481  [T121, T123, T196]      Zink  [ngram, sapbert]    0.074914  "
      ]
     },
     "metadata": {},
     "output_type": "display_data"
    },
    {
     "name": "stdout",
     "output_type": "stream",
     "text": [
      "####\n"
     ]
    },
    {
     "data": {
      "application/vnd.jupyter.widget-view+json": {
       "model_id": "3d77a883a1ee405b80916e58c8f76379",
       "version_major": 2,
       "version_minor": 0
      },
      "text/plain": [
       "  0%|          | 0/1 [00:00<?, ?it/s]"
      ]
     },
     "metadata": {},
     "output_type": "display_data"
    },
    {
     "data": {
      "application/vnd.jupyter.widget-view+json": {
       "model_id": "f574c59fbddd43d78f64f2bfa25c7abf",
       "version_major": 2,
       "version_minor": 0
      },
      "text/plain": [
       "  0%|          | 0/1 [00:00<?, ?it/s]"
      ]
     },
     "metadata": {},
     "output_type": "display_data"
    },
    {
     "data": {
      "application/vnd.jupyter.widget-view+json": {
       "model_id": "400b03472ce5454aa3cb6822e3a96fe2",
       "version_major": 2,
       "version_minor": 0
      },
      "text/plain": [
       "  0%|          | 0/1 [00:00<?, ?it/s]"
      ]
     },
     "metadata": {},
     "output_type": "display_data"
    },
    {
     "data": {
      "application/vnd.jupyter.widget-view+json": {
       "model_id": "9f699e063fc3471484e4a910778ba471",
       "version_major": 2,
       "version_minor": 0
      },
      "text/plain": [
       "  0%|          | 0/1 [00:00<?, ?it/s]"
      ]
     },
     "metadata": {},
     "output_type": "display_data"
    },
    {
     "data": {
      "application/vnd.jupyter.widget-view+json": {
       "model_id": "3b337618855a4fb496d25ab4781cb293",
       "version_major": 2,
       "version_minor": 0
      },
      "text/plain": [
       "  0%|          | 0/1 [00:00<?, ?it/s]"
      ]
     },
     "metadata": {},
     "output_type": "display_data"
    },
    {
     "data": {
      "application/vnd.jupyter.widget-view+json": {
       "model_id": "36e7572d03d54fc495ac7aa8382b0d41",
       "version_major": 2,
       "version_minor": 0
      },
      "text/plain": [
       "  0%|          | 0/1 [00:00<?, ?it/s]"
      ]
     },
     "metadata": {},
     "output_type": "display_data"
    },
    {
     "name": "stdout",
     "output_type": "stream",
     "text": [
      "Die Cochrane-Übersichtsarbeit aus dem Jahr 2007 sah eine ungenügende Datenlage im Hinblick auf eine Evidenz für die Wirksamkeit von Omega-3-Fettsäuren zur Behandlung der Tumorkachexie [REF].\n",
      "\n",
      "No Filter:\n"
     ]
    },
    {
     "data": {
      "text/html": [
       "<div>\n",
       "<style scoped>\n",
       "    .dataframe tbody tr th:only-of-type {\n",
       "        vertical-align: middle;\n",
       "    }\n",
       "\n",
       "    .dataframe tbody tr th {\n",
       "        vertical-align: top;\n",
       "    }\n",
       "\n",
       "    .dataframe thead th {\n",
       "        text-align: right;\n",
       "    }\n",
       "</style>\n",
       "<table border=\"1\" class=\"dataframe\">\n",
       "  <thead>\n",
       "    <tr style=\"text-align: right;\">\n",
       "      <th></th>\n",
       "      <th>document</th>\n",
       "      <th>text</th>\n",
       "      <th>type</th>\n",
       "      <th>start</th>\n",
       "      <th>end</th>\n",
       "      <th>cui</th>\n",
       "      <th>tuis</th>\n",
       "      <th>canonical</th>\n",
       "      <th>linker</th>\n",
       "      <th>confidence</th>\n",
       "    </tr>\n",
       "  </thead>\n",
       "  <tbody>\n",
       "    <tr>\n",
       "      <th>1</th>\n",
       "      <td>01_magenkarzinom_0192_25</td>\n",
       "      <td>Behandlung der Tumorkachexie</td>\n",
       "      <td>Therapeutic</td>\n",
       "      <td>155</td>\n",
       "      <td>183</td>\n",
       "      <td>C1391732</td>\n",
       "      <td>[T184]</td>\n",
       "      <td>Malignant cachexia</td>\n",
       "      <td>[sapbert]</td>\n",
       "      <td>0.078873</td>\n",
       "    </tr>\n",
       "  </tbody>\n",
       "</table>\n",
       "</div>"
      ],
      "text/plain": [
       "                   document                          text         type  start  \\\n",
       "1  01_magenkarzinom_0192_25  Behandlung der Tumorkachexie  Therapeutic    155   \n",
       "\n",
       "   end       cui    tuis           canonical     linker  confidence  \n",
       "1  183  C1391732  [T184]  Malignant cachexia  [sapbert]    0.078873  "
      ]
     },
     "metadata": {},
     "output_type": "display_data"
    },
    {
     "name": "stdout",
     "output_type": "stream",
     "text": [
      "Filter:\n"
     ]
    },
    {
     "data": {
      "text/html": [
       "<div>\n",
       "<style scoped>\n",
       "    .dataframe tbody tr th:only-of-type {\n",
       "        vertical-align: middle;\n",
       "    }\n",
       "\n",
       "    .dataframe tbody tr th {\n",
       "        vertical-align: top;\n",
       "    }\n",
       "\n",
       "    .dataframe thead th {\n",
       "        text-align: right;\n",
       "    }\n",
       "</style>\n",
       "<table border=\"1\" class=\"dataframe\">\n",
       "  <thead>\n",
       "    <tr style=\"text-align: right;\">\n",
       "      <th></th>\n",
       "      <th>document</th>\n",
       "      <th>text</th>\n",
       "      <th>type</th>\n",
       "      <th>start</th>\n",
       "      <th>end</th>\n",
       "      <th>cui</th>\n",
       "      <th>tuis</th>\n",
       "      <th>canonical</th>\n",
       "      <th>linker</th>\n",
       "      <th>confidence</th>\n",
       "    </tr>\n",
       "  </thead>\n",
       "  <tbody>\n",
       "    <tr>\n",
       "      <th>1</th>\n",
       "      <td>01_magenkarzinom_0192_25</td>\n",
       "      <td>Behandlung der Tumorkachexie</td>\n",
       "      <td>Therapeutic</td>\n",
       "      <td>155</td>\n",
       "      <td>183</td>\n",
       "      <td>C4763991</td>\n",
       "      <td>[T061]</td>\n",
       "      <td>Tumor Ablation Therapy</td>\n",
       "      <td>[sapbert]</td>\n",
       "      <td>0.064244</td>\n",
       "    </tr>\n",
       "  </tbody>\n",
       "</table>\n",
       "</div>"
      ],
      "text/plain": [
       "                   document                          text         type  start  \\\n",
       "1  01_magenkarzinom_0192_25  Behandlung der Tumorkachexie  Therapeutic    155   \n",
       "\n",
       "   end       cui    tuis               canonical     linker  confidence  \n",
       "1  183  C4763991  [T061]  Tumor Ablation Therapy  [sapbert]    0.064244  "
      ]
     },
     "metadata": {},
     "output_type": "display_data"
    },
    {
     "name": "stdout",
     "output_type": "stream",
     "text": [
      "####\n"
     ]
    },
    {
     "data": {
      "application/vnd.jupyter.widget-view+json": {
       "model_id": "2248b9faa49f452793b29ffec5a18d19",
       "version_major": 2,
       "version_minor": 0
      },
      "text/plain": [
       "  0%|          | 0/1 [00:00<?, ?it/s]"
      ]
     },
     "metadata": {},
     "output_type": "display_data"
    },
    {
     "data": {
      "application/vnd.jupyter.widget-view+json": {
       "model_id": "bcd49f45c37a42b29e4ddc3fd633a25a",
       "version_major": 2,
       "version_minor": 0
      },
      "text/plain": [
       "  0%|          | 0/1 [00:00<?, ?it/s]"
      ]
     },
     "metadata": {},
     "output_type": "display_data"
    },
    {
     "data": {
      "application/vnd.jupyter.widget-view+json": {
       "model_id": "b9238251813546339fc68a37821c398d",
       "version_major": 2,
       "version_minor": 0
      },
      "text/plain": [
       "  0%|          | 0/1 [00:00<?, ?it/s]"
      ]
     },
     "metadata": {},
     "output_type": "display_data"
    },
    {
     "data": {
      "application/vnd.jupyter.widget-view+json": {
       "model_id": "ce5dace315474ab68288437428292f8d",
       "version_major": 2,
       "version_minor": 0
      },
      "text/plain": [
       "  0%|          | 0/1 [00:00<?, ?it/s]"
      ]
     },
     "metadata": {},
     "output_type": "display_data"
    },
    {
     "data": {
      "application/vnd.jupyter.widget-view+json": {
       "model_id": "9afabefaa361464a97b604fd9d3f3446",
       "version_major": 2,
       "version_minor": 0
      },
      "text/plain": [
       "  0%|          | 0/1 [00:00<?, ?it/s]"
      ]
     },
     "metadata": {},
     "output_type": "display_data"
    },
    {
     "data": {
      "application/vnd.jupyter.widget-view+json": {
       "model_id": "5d823236182146839540c280370e9e2d",
       "version_major": 2,
       "version_minor": 0
      },
      "text/plain": [
       "  0%|          | 0/1 [00:00<?, ?it/s]"
      ]
     },
     "metadata": {},
     "output_type": "display_data"
    },
    {
     "data": {
      "application/vnd.jupyter.widget-view+json": {
       "model_id": "6e8cfbb95fed418f90251ab2a9a39c0a",
       "version_major": 2,
       "version_minor": 0
      },
      "text/plain": [
       "  0%|          | 0/1 [00:00<?, ?it/s]"
      ]
     },
     "metadata": {},
     "output_type": "display_data"
    },
    {
     "data": {
      "application/vnd.jupyter.widget-view+json": {
       "model_id": "e1bc1c07e2a847f4b4f92edab7c818d6",
       "version_major": 2,
       "version_minor": 0
      },
      "text/plain": [
       "  0%|          | 0/1 [00:00<?, ?it/s]"
      ]
     },
     "metadata": {},
     "output_type": "display_data"
    },
    {
     "data": {
      "application/vnd.jupyter.widget-view+json": {
       "model_id": "1072e320c98f436b9f7bfd65d8ede744",
       "version_major": 2,
       "version_minor": 0
      },
      "text/plain": [
       "  0%|          | 0/1 [00:00<?, ?it/s]"
      ]
     },
     "metadata": {},
     "output_type": "display_data"
    },
    {
     "data": {
      "application/vnd.jupyter.widget-view+json": {
       "model_id": "721a46a0f48b44fdb1ff8a1ecc0b8b78",
       "version_major": 2,
       "version_minor": 0
      },
      "text/plain": [
       "  0%|          | 0/1 [00:00<?, ?it/s]"
      ]
     },
     "metadata": {},
     "output_type": "display_data"
    },
    {
     "data": {
      "application/vnd.jupyter.widget-view+json": {
       "model_id": "508738de01f042398333175534aef7c1",
       "version_major": 2,
       "version_minor": 0
      },
      "text/plain": [
       "  0%|          | 0/1 [00:00<?, ?it/s]"
      ]
     },
     "metadata": {},
     "output_type": "display_data"
    },
    {
     "data": {
      "application/vnd.jupyter.widget-view+json": {
       "model_id": "2431d4e169f74b78a84998986e6bc7c0",
       "version_major": 2,
       "version_minor": 0
      },
      "text/plain": [
       "  0%|          | 0/1 [00:00<?, ?it/s]"
      ]
     },
     "metadata": {},
     "output_type": "display_data"
    },
    {
     "data": {
      "application/vnd.jupyter.widget-view+json": {
       "model_id": "ca2e0c0d004c49d1ae7733e7a1ec887a",
       "version_major": 2,
       "version_minor": 0
      },
      "text/plain": [
       "  0%|          | 0/1 [00:00<?, ?it/s]"
      ]
     },
     "metadata": {},
     "output_type": "display_data"
    },
    {
     "data": {
      "application/vnd.jupyter.widget-view+json": {
       "model_id": "d0f2a0fe4b264057842a2e1cd73c17e9",
       "version_major": 2,
       "version_minor": 0
      },
      "text/plain": [
       "  0%|          | 0/1 [00:00<?, ?it/s]"
      ]
     },
     "metadata": {},
     "output_type": "display_data"
    },
    {
     "data": {
      "application/vnd.jupyter.widget-view+json": {
       "model_id": "d0d11529de9b45a5ae6a6849019d648f",
       "version_major": 2,
       "version_minor": 0
      },
      "text/plain": [
       "  0%|          | 0/1 [00:00<?, ?it/s]"
      ]
     },
     "metadata": {},
     "output_type": "display_data"
    },
    {
     "data": {
      "application/vnd.jupyter.widget-view+json": {
       "model_id": "666919ff52b447859409d9a846478fea",
       "version_major": 2,
       "version_minor": 0
      },
      "text/plain": [
       "  0%|          | 0/1 [00:00<?, ?it/s]"
      ]
     },
     "metadata": {},
     "output_type": "display_data"
    },
    {
     "data": {
      "application/vnd.jupyter.widget-view+json": {
       "model_id": "53ca6583ffa9468a9a20b1efb5870372",
       "version_major": 2,
       "version_minor": 0
      },
      "text/plain": [
       "  0%|          | 0/1 [00:00<?, ?it/s]"
      ]
     },
     "metadata": {},
     "output_type": "display_data"
    },
    {
     "data": {
      "application/vnd.jupyter.widget-view+json": {
       "model_id": "520ef02495414658bb1c51a295e68b2e",
       "version_major": 2,
       "version_minor": 0
      },
      "text/plain": [
       "  0%|          | 0/1 [00:00<?, ?it/s]"
      ]
     },
     "metadata": {},
     "output_type": "display_data"
    },
    {
     "data": {
      "application/vnd.jupyter.widget-view+json": {
       "model_id": "7df00eceffb64dfe958ff75e375916d6",
       "version_major": 2,
       "version_minor": 0
      },
      "text/plain": [
       "  0%|          | 0/1 [00:00<?, ?it/s]"
      ]
     },
     "metadata": {},
     "output_type": "display_data"
    },
    {
     "data": {
      "application/vnd.jupyter.widget-view+json": {
       "model_id": "0ae4cd93bf7b4b849117e9922c5c0983",
       "version_major": 2,
       "version_minor": 0
      },
      "text/plain": [
       "  0%|          | 0/1 [00:00<?, ?it/s]"
      ]
     },
     "metadata": {},
     "output_type": "display_data"
    },
    {
     "data": {
      "application/vnd.jupyter.widget-view+json": {
       "model_id": "66a7bcc708bf4a8a8fcc68259c2a00bd",
       "version_major": 2,
       "version_minor": 0
      },
      "text/plain": [
       "  0%|          | 0/1 [00:00<?, ?it/s]"
      ]
     },
     "metadata": {},
     "output_type": "display_data"
    },
    {
     "data": {
      "application/vnd.jupyter.widget-view+json": {
       "model_id": "f1e86af206064996bb96bae3032604ec",
       "version_major": 2,
       "version_minor": 0
      },
      "text/plain": [
       "  0%|          | 0/1 [00:00<?, ?it/s]"
      ]
     },
     "metadata": {},
     "output_type": "display_data"
    },
    {
     "data": {
      "application/vnd.jupyter.widget-view+json": {
       "model_id": "a01c73f18e194656b6b2b697380d4086",
       "version_major": 2,
       "version_minor": 0
      },
      "text/plain": [
       "  0%|          | 0/1 [00:00<?, ?it/s]"
      ]
     },
     "metadata": {},
     "output_type": "display_data"
    },
    {
     "data": {
      "application/vnd.jupyter.widget-view+json": {
       "model_id": "836a7d404acc4e29b999d196cae99380",
       "version_major": 2,
       "version_minor": 0
      },
      "text/plain": [
       "  0%|          | 0/1 [00:00<?, ?it/s]"
      ]
     },
     "metadata": {},
     "output_type": "display_data"
    },
    {
     "data": {
      "application/vnd.jupyter.widget-view+json": {
       "model_id": "cdcfb53e5ce846629ec76e2cec067501",
       "version_major": 2,
       "version_minor": 0
      },
      "text/plain": [
       "  0%|          | 0/1 [00:00<?, ?it/s]"
      ]
     },
     "metadata": {},
     "output_type": "display_data"
    },
    {
     "data": {
      "application/vnd.jupyter.widget-view+json": {
       "model_id": "c51d5f3e8c524d36b815f366d82047d9",
       "version_major": 2,
       "version_minor": 0
      },
      "text/plain": [
       "  0%|          | 0/1 [00:00<?, ?it/s]"
      ]
     },
     "metadata": {},
     "output_type": "display_data"
    },
    {
     "data": {
      "application/vnd.jupyter.widget-view+json": {
       "model_id": "0627e9391817418a861672c420aeff1b",
       "version_major": 2,
       "version_minor": 0
      },
      "text/plain": [
       "  0%|          | 0/1 [00:00<?, ?it/s]"
      ]
     },
     "metadata": {},
     "output_type": "display_data"
    },
    {
     "data": {
      "application/vnd.jupyter.widget-view+json": {
       "model_id": "63d12dfc05e846a5b8a13437a8641a65",
       "version_major": 2,
       "version_minor": 0
      },
      "text/plain": [
       "  0%|          | 0/1 [00:00<?, ?it/s]"
      ]
     },
     "metadata": {},
     "output_type": "display_data"
    },
    {
     "data": {
      "application/vnd.jupyter.widget-view+json": {
       "model_id": "49e5c4aa6af5423d9cca49cc39dc52a0",
       "version_major": 2,
       "version_minor": 0
      },
      "text/plain": [
       "  0%|          | 0/1 [00:00<?, ?it/s]"
      ]
     },
     "metadata": {},
     "output_type": "display_data"
    },
    {
     "data": {
      "application/vnd.jupyter.widget-view+json": {
       "model_id": "5cf8f8754a0844a8852d3df24df4746d",
       "version_major": 2,
       "version_minor": 0
      },
      "text/plain": [
       "  0%|          | 0/1 [00:00<?, ?it/s]"
      ]
     },
     "metadata": {},
     "output_type": "display_data"
    },
    {
     "data": {
      "application/vnd.jupyter.widget-view+json": {
       "model_id": "c377182efe02442e9ec24c3327cbae8d",
       "version_major": 2,
       "version_minor": 0
      },
      "text/plain": [
       "  0%|          | 0/1 [00:00<?, ?it/s]"
      ]
     },
     "metadata": {},
     "output_type": "display_data"
    },
    {
     "data": {
      "application/vnd.jupyter.widget-view+json": {
       "model_id": "920d191b2177474797a258db52e5f33b",
       "version_major": 2,
       "version_minor": 0
      },
      "text/plain": [
       "  0%|          | 0/1 [00:00<?, ?it/s]"
      ]
     },
     "metadata": {},
     "output_type": "display_data"
    },
    {
     "data": {
      "application/vnd.jupyter.widget-view+json": {
       "model_id": "7df22316afa544f592c44921182c0812",
       "version_major": 2,
       "version_minor": 0
      },
      "text/plain": [
       "  0%|          | 0/1 [00:00<?, ?it/s]"
      ]
     },
     "metadata": {},
     "output_type": "display_data"
    },
    {
     "data": {
      "application/vnd.jupyter.widget-view+json": {
       "model_id": "462ae38e39894d82b76d701e9708a5a2",
       "version_major": 2,
       "version_minor": 0
      },
      "text/plain": [
       "  0%|          | 0/1 [00:00<?, ?it/s]"
      ]
     },
     "metadata": {},
     "output_type": "display_data"
    },
    {
     "data": {
      "application/vnd.jupyter.widget-view+json": {
       "model_id": "f882712a2d094a339c2c1a4a52127b37",
       "version_major": 2,
       "version_minor": 0
      },
      "text/plain": [
       "  0%|          | 0/1 [00:00<?, ?it/s]"
      ]
     },
     "metadata": {},
     "output_type": "display_data"
    },
    {
     "data": {
      "application/vnd.jupyter.widget-view+json": {
       "model_id": "a33bf322da894a69b3d6ef0bb0fc2175",
       "version_major": 2,
       "version_minor": 0
      },
      "text/plain": [
       "  0%|          | 0/1 [00:00<?, ?it/s]"
      ]
     },
     "metadata": {},
     "output_type": "display_data"
    },
    {
     "data": {
      "application/vnd.jupyter.widget-view+json": {
       "model_id": "f3f4ba077bbd464aa081a664a947d8ab",
       "version_major": 2,
       "version_minor": 0
      },
      "text/plain": [
       "  0%|          | 0/1 [00:00<?, ?it/s]"
      ]
     },
     "metadata": {},
     "output_type": "display_data"
    },
    {
     "data": {
      "application/vnd.jupyter.widget-view+json": {
       "model_id": "5d1f293700cb4f1e9fe116d83ef92d61",
       "version_major": 2,
       "version_minor": 0
      },
      "text/plain": [
       "  0%|          | 0/1 [00:00<?, ?it/s]"
      ]
     },
     "metadata": {},
     "output_type": "display_data"
    },
    {
     "data": {
      "application/vnd.jupyter.widget-view+json": {
       "model_id": "64f15e514f20471486cbbf21511eaec9",
       "version_major": 2,
       "version_minor": 0
      },
      "text/plain": [
       "  0%|          | 0/1 [00:00<?, ?it/s]"
      ]
     },
     "metadata": {},
     "output_type": "display_data"
    },
    {
     "data": {
      "application/vnd.jupyter.widget-view+json": {
       "model_id": "afd20977e3f2468c8eb5fd608c3d072d",
       "version_major": 2,
       "version_minor": 0
      },
      "text/plain": [
       "  0%|          | 0/1 [00:00<?, ?it/s]"
      ]
     },
     "metadata": {},
     "output_type": "display_data"
    },
    {
     "data": {
      "application/vnd.jupyter.widget-view+json": {
       "model_id": "f51151643b4141f69602cb38ff74dc73",
       "version_major": 2,
       "version_minor": 0
      },
      "text/plain": [
       "  0%|          | 0/1 [00:00<?, ?it/s]"
      ]
     },
     "metadata": {},
     "output_type": "display_data"
    },
    {
     "data": {
      "application/vnd.jupyter.widget-view+json": {
       "model_id": "f31aab769f2b49f7ad9d4bbe6e617c0c",
       "version_major": 2,
       "version_minor": 0
      },
      "text/plain": [
       "  0%|          | 0/1 [00:00<?, ?it/s]"
      ]
     },
     "metadata": {},
     "output_type": "display_data"
    },
    {
     "data": {
      "application/vnd.jupyter.widget-view+json": {
       "model_id": "81779c98924f4c36a67e250bfbfbfcfb",
       "version_major": 2,
       "version_minor": 0
      },
      "text/plain": [
       "  0%|          | 0/1 [00:00<?, ?it/s]"
      ]
     },
     "metadata": {},
     "output_type": "display_data"
    },
    {
     "data": {
      "application/vnd.jupyter.widget-view+json": {
       "model_id": "a2b00a3a219544729d6a1c09eaf42e19",
       "version_major": 2,
       "version_minor": 0
      },
      "text/plain": [
       "  0%|          | 0/1 [00:00<?, ?it/s]"
      ]
     },
     "metadata": {},
     "output_type": "display_data"
    },
    {
     "data": {
      "application/vnd.jupyter.widget-view+json": {
       "model_id": "f1a7c5b2337845a884f2848b8e4d39d7",
       "version_major": 2,
       "version_minor": 0
      },
      "text/plain": [
       "  0%|          | 0/1 [00:00<?, ?it/s]"
      ]
     },
     "metadata": {},
     "output_type": "display_data"
    },
    {
     "data": {
      "application/vnd.jupyter.widget-view+json": {
       "model_id": "69b7e3ea3456431a8e39fbf6e8130b9e",
       "version_major": 2,
       "version_minor": 0
      },
      "text/plain": [
       "  0%|          | 0/1 [00:00<?, ?it/s]"
      ]
     },
     "metadata": {},
     "output_type": "display_data"
    },
    {
     "name": "stdout",
     "output_type": "stream",
     "text": [
      "Deutlich niedriger ist die Exposition für Berufstätige in Wasserwerken, Heilstollen und Radonbädern.\n",
      "\n",
      "No Filter:\n"
     ]
    },
    {
     "data": {
      "text/html": [
       "<div>\n",
       "<style scoped>\n",
       "    .dataframe tbody tr th:only-of-type {\n",
       "        vertical-align: middle;\n",
       "    }\n",
       "\n",
       "    .dataframe tbody tr th {\n",
       "        vertical-align: top;\n",
       "    }\n",
       "\n",
       "    .dataframe thead th {\n",
       "        text-align: right;\n",
       "    }\n",
       "</style>\n",
       "<table border=\"1\" class=\"dataframe\">\n",
       "  <thead>\n",
       "    <tr style=\"text-align: right;\">\n",
       "      <th></th>\n",
       "      <th>document</th>\n",
       "      <th>text</th>\n",
       "      <th>type</th>\n",
       "      <th>start</th>\n",
       "      <th>end</th>\n",
       "      <th>cui</th>\n",
       "      <th>tuis</th>\n",
       "      <th>canonical</th>\n",
       "      <th>linker</th>\n",
       "      <th>confidence</th>\n",
       "    </tr>\n",
       "  </thead>\n",
       "  <tbody>\n",
       "    <tr>\n",
       "      <th>1</th>\n",
       "      <td>03_lungenkarzinom_0010_14</td>\n",
       "      <td>Radonbädern</td>\n",
       "      <td>External_Substance</td>\n",
       "      <td>88</td>\n",
       "      <td>99</td>\n",
       "      <td>C0034547</td>\n",
       "      <td>[T070]</td>\n",
       "      <td>Radio Waves</td>\n",
       "      <td>[sapbert]</td>\n",
       "      <td>0.066053</td>\n",
       "    </tr>\n",
       "  </tbody>\n",
       "</table>\n",
       "</div>"
      ],
      "text/plain": [
       "                    document         text                type  start  end  \\\n",
       "1  03_lungenkarzinom_0010_14  Radonbädern  External_Substance     88   99   \n",
       "\n",
       "        cui    tuis    canonical     linker  confidence  \n",
       "1  C0034547  [T070]  Radio Waves  [sapbert]    0.066053  "
      ]
     },
     "metadata": {},
     "output_type": "display_data"
    },
    {
     "name": "stdout",
     "output_type": "stream",
     "text": [
      "Filter:\n"
     ]
    },
    {
     "data": {
      "text/html": [
       "<div>\n",
       "<style scoped>\n",
       "    .dataframe tbody tr th:only-of-type {\n",
       "        vertical-align: middle;\n",
       "    }\n",
       "\n",
       "    .dataframe tbody tr th {\n",
       "        vertical-align: top;\n",
       "    }\n",
       "\n",
       "    .dataframe thead th {\n",
       "        text-align: right;\n",
       "    }\n",
       "</style>\n",
       "<table border=\"1\" class=\"dataframe\">\n",
       "  <thead>\n",
       "    <tr style=\"text-align: right;\">\n",
       "      <th></th>\n",
       "      <th>document</th>\n",
       "      <th>text</th>\n",
       "      <th>type</th>\n",
       "      <th>start</th>\n",
       "      <th>end</th>\n",
       "      <th>cui</th>\n",
       "      <th>tuis</th>\n",
       "      <th>canonical</th>\n",
       "      <th>linker</th>\n",
       "      <th>confidence</th>\n",
       "    </tr>\n",
       "  </thead>\n",
       "  <tbody>\n",
       "    <tr>\n",
       "      <th>1</th>\n",
       "      <td>03_lungenkarzinom_0010_14</td>\n",
       "      <td>Radonbädern</td>\n",
       "      <td>External_Substance</td>\n",
       "      <td>88</td>\n",
       "      <td>99</td>\n",
       "      <td>C0034629</td>\n",
       "      <td>[T131, T196]</td>\n",
       "      <td>Radon</td>\n",
       "      <td>[ngram, sapbert]</td>\n",
       "      <td>0.0655</td>\n",
       "    </tr>\n",
       "  </tbody>\n",
       "</table>\n",
       "</div>"
      ],
      "text/plain": [
       "                    document         text                type  start  end  \\\n",
       "1  03_lungenkarzinom_0010_14  Radonbädern  External_Substance     88   99   \n",
       "\n",
       "        cui          tuis canonical            linker  confidence  \n",
       "1  C0034629  [T131, T196]     Radon  [ngram, sapbert]      0.0655  "
      ]
     },
     "metadata": {},
     "output_type": "display_data"
    },
    {
     "name": "stdout",
     "output_type": "stream",
     "text": [
      "####\n"
     ]
    },
    {
     "data": {
      "application/vnd.jupyter.widget-view+json": {
       "model_id": "251466b1d0d843c39c2a9d2826f132b0",
       "version_major": 2,
       "version_minor": 0
      },
      "text/plain": [
       "  0%|          | 0/1 [00:00<?, ?it/s]"
      ]
     },
     "metadata": {},
     "output_type": "display_data"
    },
    {
     "data": {
      "application/vnd.jupyter.widget-view+json": {
       "model_id": "0e74c734f5e04f34acff6c2034dc7a49",
       "version_major": 2,
       "version_minor": 0
      },
      "text/plain": [
       "  0%|          | 0/1 [00:00<?, ?it/s]"
      ]
     },
     "metadata": {},
     "output_type": "display_data"
    },
    {
     "name": "stdout",
     "output_type": "stream",
     "text": [
      "Aktuelle Daten zur Radonexposition finden sich in der Radonkarte des Bundesamts für Strahlenschutz, welche online verfügbar ist ([URL]).\n",
      "\n",
      "No Filter:\n"
     ]
    },
    {
     "data": {
      "text/html": [
       "<div>\n",
       "<style scoped>\n",
       "    .dataframe tbody tr th:only-of-type {\n",
       "        vertical-align: middle;\n",
       "    }\n",
       "\n",
       "    .dataframe tbody tr th {\n",
       "        vertical-align: top;\n",
       "    }\n",
       "\n",
       "    .dataframe thead th {\n",
       "        text-align: right;\n",
       "    }\n",
       "</style>\n",
       "<table border=\"1\" class=\"dataframe\">\n",
       "  <thead>\n",
       "    <tr style=\"text-align: right;\">\n",
       "      <th></th>\n",
       "      <th>document</th>\n",
       "      <th>text</th>\n",
       "      <th>type</th>\n",
       "      <th>start</th>\n",
       "      <th>end</th>\n",
       "      <th>cui</th>\n",
       "      <th>tuis</th>\n",
       "      <th>canonical</th>\n",
       "      <th>linker</th>\n",
       "      <th>confidence</th>\n",
       "    </tr>\n",
       "  </thead>\n",
       "  <tbody>\n",
       "    <tr>\n",
       "      <th>1</th>\n",
       "      <td>03_lungenkarzinom_0010_15</td>\n",
       "      <td>Radonkarte</td>\n",
       "      <td>External_Substance</td>\n",
       "      <td>54</td>\n",
       "      <td>64</td>\n",
       "      <td>C1306645</td>\n",
       "      <td>[T060]</td>\n",
       "      <td>Roentgen</td>\n",
       "      <td>[sapbert]</td>\n",
       "      <td>0.064765</td>\n",
       "    </tr>\n",
       "  </tbody>\n",
       "</table>\n",
       "</div>"
      ],
      "text/plain": [
       "                    document        text                type  start  end  \\\n",
       "1  03_lungenkarzinom_0010_15  Radonkarte  External_Substance     54   64   \n",
       "\n",
       "        cui    tuis canonical     linker  confidence  \n",
       "1  C1306645  [T060]  Roentgen  [sapbert]    0.064765  "
      ]
     },
     "metadata": {},
     "output_type": "display_data"
    },
    {
     "name": "stdout",
     "output_type": "stream",
     "text": [
      "Filter:\n"
     ]
    },
    {
     "data": {
      "text/html": [
       "<div>\n",
       "<style scoped>\n",
       "    .dataframe tbody tr th:only-of-type {\n",
       "        vertical-align: middle;\n",
       "    }\n",
       "\n",
       "    .dataframe tbody tr th {\n",
       "        vertical-align: top;\n",
       "    }\n",
       "\n",
       "    .dataframe thead th {\n",
       "        text-align: right;\n",
       "    }\n",
       "</style>\n",
       "<table border=\"1\" class=\"dataframe\">\n",
       "  <thead>\n",
       "    <tr style=\"text-align: right;\">\n",
       "      <th></th>\n",
       "      <th>document</th>\n",
       "      <th>text</th>\n",
       "      <th>type</th>\n",
       "      <th>start</th>\n",
       "      <th>end</th>\n",
       "      <th>cui</th>\n",
       "      <th>tuis</th>\n",
       "      <th>canonical</th>\n",
       "      <th>linker</th>\n",
       "      <th>confidence</th>\n",
       "    </tr>\n",
       "  </thead>\n",
       "  <tbody>\n",
       "    <tr>\n",
       "      <th>1</th>\n",
       "      <td>03_lungenkarzinom_0010_15</td>\n",
       "      <td>Radonkarte</td>\n",
       "      <td>External_Substance</td>\n",
       "      <td>54</td>\n",
       "      <td>64</td>\n",
       "      <td>C0034629</td>\n",
       "      <td>[T131, T196]</td>\n",
       "      <td>Radon</td>\n",
       "      <td>[ngram, sapbert]</td>\n",
       "      <td>0.064484</td>\n",
       "    </tr>\n",
       "  </tbody>\n",
       "</table>\n",
       "</div>"
      ],
      "text/plain": [
       "                    document        text                type  start  end  \\\n",
       "1  03_lungenkarzinom_0010_15  Radonkarte  External_Substance     54   64   \n",
       "\n",
       "        cui          tuis canonical            linker  confidence  \n",
       "1  C0034629  [T131, T196]     Radon  [ngram, sapbert]    0.064484  "
      ]
     },
     "metadata": {},
     "output_type": "display_data"
    },
    {
     "name": "stdout",
     "output_type": "stream",
     "text": [
      "####\n"
     ]
    },
    {
     "data": {
      "application/vnd.jupyter.widget-view+json": {
       "model_id": "da5ff52907034f8abd1d655367d8340a",
       "version_major": 2,
       "version_minor": 0
      },
      "text/plain": [
       "  0%|          | 0/1 [00:00<?, ?it/s]"
      ]
     },
     "metadata": {},
     "output_type": "display_data"
    },
    {
     "data": {
      "application/vnd.jupyter.widget-view+json": {
       "model_id": "22e98595f61f46f5a7d8df466e072956",
       "version_major": 2,
       "version_minor": 0
      },
      "text/plain": [
       "  0%|          | 0/1 [00:00<?, ?it/s]"
      ]
     },
     "metadata": {},
     "output_type": "display_data"
    },
    {
     "data": {
      "application/vnd.jupyter.widget-view+json": {
       "model_id": "ddaa1085d7cd408f9474e754333917a8",
       "version_major": 2,
       "version_minor": 0
      },
      "text/plain": [
       "  0%|          | 0/1 [00:00<?, ?it/s]"
      ]
     },
     "metadata": {},
     "output_type": "display_data"
    },
    {
     "data": {
      "application/vnd.jupyter.widget-view+json": {
       "model_id": "292efcd95b444d7880dab513c4b6c93c",
       "version_major": 2,
       "version_minor": 0
      },
      "text/plain": [
       "  0%|          | 0/1 [00:00<?, ?it/s]"
      ]
     },
     "metadata": {},
     "output_type": "display_data"
    },
    {
     "data": {
      "application/vnd.jupyter.widget-view+json": {
       "model_id": "5b7da6205c0140fc867ea80eb9a7cde3",
       "version_major": 2,
       "version_minor": 0
      },
      "text/plain": [
       "  0%|          | 0/1 [00:00<?, ?it/s]"
      ]
     },
     "metadata": {},
     "output_type": "display_data"
    },
    {
     "data": {
      "application/vnd.jupyter.widget-view+json": {
       "model_id": "773d116793ff43a388965dce3db6a4d9",
       "version_major": 2,
       "version_minor": 0
      },
      "text/plain": [
       "  0%|          | 0/1 [00:00<?, ?it/s]"
      ]
     },
     "metadata": {},
     "output_type": "display_data"
    },
    {
     "data": {
      "application/vnd.jupyter.widget-view+json": {
       "model_id": "6849b18c1766437982cc86cc079e8ba3",
       "version_major": 2,
       "version_minor": 0
      },
      "text/plain": [
       "  0%|          | 0/1 [00:00<?, ?it/s]"
      ]
     },
     "metadata": {},
     "output_type": "display_data"
    },
    {
     "data": {
      "application/vnd.jupyter.widget-view+json": {
       "model_id": "e9df52cedecf41569a6704302e332d86",
       "version_major": 2,
       "version_minor": 0
      },
      "text/plain": [
       "  0%|          | 0/1 [00:00<?, ?it/s]"
      ]
     },
     "metadata": {},
     "output_type": "display_data"
    },
    {
     "data": {
      "application/vnd.jupyter.widget-view+json": {
       "model_id": "8624a75e941e4b199f9b8bd281f6f5df",
       "version_major": 2,
       "version_minor": 0
      },
      "text/plain": [
       "  0%|          | 0/1 [00:00<?, ?it/s]"
      ]
     },
     "metadata": {},
     "output_type": "display_data"
    },
    {
     "data": {
      "application/vnd.jupyter.widget-view+json": {
       "model_id": "39238c060f1c4d379ddbdd1f20fb3b69",
       "version_major": 2,
       "version_minor": 0
      },
      "text/plain": [
       "  0%|          | 0/1 [00:00<?, ?it/s]"
      ]
     },
     "metadata": {},
     "output_type": "display_data"
    },
    {
     "data": {
      "application/vnd.jupyter.widget-view+json": {
       "model_id": "c0dbab27b3ce4daebb63ed891a0e6748",
       "version_major": 2,
       "version_minor": 0
      },
      "text/plain": [
       "  0%|          | 0/1 [00:00<?, ?it/s]"
      ]
     },
     "metadata": {},
     "output_type": "display_data"
    },
    {
     "data": {
      "application/vnd.jupyter.widget-view+json": {
       "model_id": "17fd9c158b0e43e792b0451f5841d263",
       "version_major": 2,
       "version_minor": 0
      },
      "text/plain": [
       "  0%|          | 0/1 [00:00<?, ?it/s]"
      ]
     },
     "metadata": {},
     "output_type": "display_data"
    },
    {
     "data": {
      "application/vnd.jupyter.widget-view+json": {
       "model_id": "a6dddd7b57de460897a8e1a6102a6600",
       "version_major": 2,
       "version_minor": 0
      },
      "text/plain": [
       "  0%|          | 0/1 [00:00<?, ?it/s]"
      ]
     },
     "metadata": {},
     "output_type": "display_data"
    },
    {
     "data": {
      "application/vnd.jupyter.widget-view+json": {
       "model_id": "4e793dc83a3d46e381c4168928dc915f",
       "version_major": 2,
       "version_minor": 0
      },
      "text/plain": [
       "  0%|          | 0/1 [00:00<?, ?it/s]"
      ]
     },
     "metadata": {},
     "output_type": "display_data"
    },
    {
     "data": {
      "application/vnd.jupyter.widget-view+json": {
       "model_id": "bcb59b05f4cd4728a2c9e8734abcc972",
       "version_major": 2,
       "version_minor": 0
      },
      "text/plain": [
       "  0%|          | 0/1 [00:00<?, ?it/s]"
      ]
     },
     "metadata": {},
     "output_type": "display_data"
    },
    {
     "data": {
      "application/vnd.jupyter.widget-view+json": {
       "model_id": "379318a905c24ce2a95eadebf31feb00",
       "version_major": 2,
       "version_minor": 0
      },
      "text/plain": [
       "  0%|          | 0/1 [00:00<?, ?it/s]"
      ]
     },
     "metadata": {},
     "output_type": "display_data"
    },
    {
     "data": {
      "application/vnd.jupyter.widget-view+json": {
       "model_id": "3135c55306cc4a1eb1b5451fb91b4d16",
       "version_major": 2,
       "version_minor": 0
      },
      "text/plain": [
       "  0%|          | 0/1 [00:00<?, ?it/s]"
      ]
     },
     "metadata": {},
     "output_type": "display_data"
    },
    {
     "data": {
      "application/vnd.jupyter.widget-view+json": {
       "model_id": "32a9acab80e743b78b2fa5522d7264da",
       "version_major": 2,
       "version_minor": 0
      },
      "text/plain": [
       "  0%|          | 0/1 [00:00<?, ?it/s]"
      ]
     },
     "metadata": {},
     "output_type": "display_data"
    },
    {
     "data": {
      "application/vnd.jupyter.widget-view+json": {
       "model_id": "e57655ac9b2e4abf9673c73d47c74992",
       "version_major": 2,
       "version_minor": 0
      },
      "text/plain": [
       "  0%|          | 0/1 [00:00<?, ?it/s]"
      ]
     },
     "metadata": {},
     "output_type": "display_data"
    },
    {
     "data": {
      "application/vnd.jupyter.widget-view+json": {
       "model_id": "19ed424195234382a190b87707957d44",
       "version_major": 2,
       "version_minor": 0
      },
      "text/plain": [
       "  0%|          | 0/1 [00:00<?, ?it/s]"
      ]
     },
     "metadata": {},
     "output_type": "display_data"
    },
    {
     "data": {
      "application/vnd.jupyter.widget-view+json": {
       "model_id": "387ebc434a9146439bb458fa89f7fbca",
       "version_major": 2,
       "version_minor": 0
      },
      "text/plain": [
       "  0%|          | 0/1 [00:00<?, ?it/s]"
      ]
     },
     "metadata": {},
     "output_type": "display_data"
    },
    {
     "data": {
      "application/vnd.jupyter.widget-view+json": {
       "model_id": "5ef0bdd554564fe08a27079d8fa95a7a",
       "version_major": 2,
       "version_minor": 0
      },
      "text/plain": [
       "  0%|          | 0/1 [00:00<?, ?it/s]"
      ]
     },
     "metadata": {},
     "output_type": "display_data"
    },
    {
     "data": {
      "application/vnd.jupyter.widget-view+json": {
       "model_id": "2548fe5f2dc240129477c7e6bcb5bca1",
       "version_major": 2,
       "version_minor": 0
      },
      "text/plain": [
       "  0%|          | 0/1 [00:00<?, ?it/s]"
      ]
     },
     "metadata": {},
     "output_type": "display_data"
    },
    {
     "data": {
      "application/vnd.jupyter.widget-view+json": {
       "model_id": "fc4daca7a4d44436b83fac432e2f1f14",
       "version_major": 2,
       "version_minor": 0
      },
      "text/plain": [
       "  0%|          | 0/1 [00:00<?, ?it/s]"
      ]
     },
     "metadata": {},
     "output_type": "display_data"
    },
    {
     "data": {
      "application/vnd.jupyter.widget-view+json": {
       "model_id": "0dff2672aca34d019602bd965635e257",
       "version_major": 2,
       "version_minor": 0
      },
      "text/plain": [
       "  0%|          | 0/1 [00:00<?, ?it/s]"
      ]
     },
     "metadata": {},
     "output_type": "display_data"
    },
    {
     "data": {
      "application/vnd.jupyter.widget-view+json": {
       "model_id": "dcf5e5de58964ee5bcb25cc691b38988",
       "version_major": 2,
       "version_minor": 0
      },
      "text/plain": [
       "  0%|          | 0/1 [00:00<?, ?it/s]"
      ]
     },
     "metadata": {},
     "output_type": "display_data"
    },
    {
     "data": {
      "application/vnd.jupyter.widget-view+json": {
       "model_id": "8ccaf8ea888645b9a4dc73081c41a7cf",
       "version_major": 2,
       "version_minor": 0
      },
      "text/plain": [
       "  0%|          | 0/1 [00:00<?, ?it/s]"
      ]
     },
     "metadata": {},
     "output_type": "display_data"
    },
    {
     "data": {
      "application/vnd.jupyter.widget-view+json": {
       "model_id": "1a07e683608648f0956984c36b25d3ae",
       "version_major": 2,
       "version_minor": 0
      },
      "text/plain": [
       "  0%|          | 0/1 [00:00<?, ?it/s]"
      ]
     },
     "metadata": {},
     "output_type": "display_data"
    },
    {
     "data": {
      "application/vnd.jupyter.widget-view+json": {
       "model_id": "c1e247a4509845f08993d2eceaa4238b",
       "version_major": 2,
       "version_minor": 0
      },
      "text/plain": [
       "  0%|          | 0/1 [00:00<?, ?it/s]"
      ]
     },
     "metadata": {},
     "output_type": "display_data"
    },
    {
     "data": {
      "application/vnd.jupyter.widget-view+json": {
       "model_id": "49f161b94d0d4ac28c4232ea94d207cc",
       "version_major": 2,
       "version_minor": 0
      },
      "text/plain": [
       "  0%|          | 0/1 [00:00<?, ?it/s]"
      ]
     },
     "metadata": {},
     "output_type": "display_data"
    },
    {
     "data": {
      "application/vnd.jupyter.widget-view+json": {
       "model_id": "2bff0eeab52a4355989804683a6161fd",
       "version_major": 2,
       "version_minor": 0
      },
      "text/plain": [
       "  0%|          | 0/1 [00:00<?, ?it/s]"
      ]
     },
     "metadata": {},
     "output_type": "display_data"
    },
    {
     "data": {
      "application/vnd.jupyter.widget-view+json": {
       "model_id": "cc9eaa74651e410b8f6ce8879853a95d",
       "version_major": 2,
       "version_minor": 0
      },
      "text/plain": [
       "  0%|          | 0/1 [00:00<?, ?it/s]"
      ]
     },
     "metadata": {},
     "output_type": "display_data"
    },
    {
     "data": {
      "application/vnd.jupyter.widget-view+json": {
       "model_id": "0e8f6e78b8284dbd8796db43f8b3f862",
       "version_major": 2,
       "version_minor": 0
      },
      "text/plain": [
       "  0%|          | 0/1 [00:00<?, ?it/s]"
      ]
     },
     "metadata": {},
     "output_type": "display_data"
    },
    {
     "data": {
      "application/vnd.jupyter.widget-view+json": {
       "model_id": "1dc640d65d514db4945b3dbdd4573c8c",
       "version_major": 2,
       "version_minor": 0
      },
      "text/plain": [
       "  0%|          | 0/1 [00:00<?, ?it/s]"
      ]
     },
     "metadata": {},
     "output_type": "display_data"
    },
    {
     "data": {
      "application/vnd.jupyter.widget-view+json": {
       "model_id": "d306cdc4d3894aee81f0bd4722362a14",
       "version_major": 2,
       "version_minor": 0
      },
      "text/plain": [
       "  0%|          | 0/1 [00:00<?, ?it/s]"
      ]
     },
     "metadata": {},
     "output_type": "display_data"
    },
    {
     "data": {
      "application/vnd.jupyter.widget-view+json": {
       "model_id": "3a6ee2e944614ae3b3f7294aa6b7e857",
       "version_major": 2,
       "version_minor": 0
      },
      "text/plain": [
       "  0%|          | 0/1 [00:00<?, ?it/s]"
      ]
     },
     "metadata": {},
     "output_type": "display_data"
    },
    {
     "data": {
      "application/vnd.jupyter.widget-view+json": {
       "model_id": "70cbdd61bc44464dad3d8008312ca2d7",
       "version_major": 2,
       "version_minor": 0
      },
      "text/plain": [
       "  0%|          | 0/1 [00:00<?, ?it/s]"
      ]
     },
     "metadata": {},
     "output_type": "display_data"
    },
    {
     "data": {
      "application/vnd.jupyter.widget-view+json": {
       "model_id": "e57c366008194ef0820b432ead7652a6",
       "version_major": 2,
       "version_minor": 0
      },
      "text/plain": [
       "  0%|          | 0/1 [00:00<?, ?it/s]"
      ]
     },
     "metadata": {},
     "output_type": "display_data"
    },
    {
     "data": {
      "application/vnd.jupyter.widget-view+json": {
       "model_id": "b8478f495d5f4f2bafc126efe20986b0",
       "version_major": 2,
       "version_minor": 0
      },
      "text/plain": [
       "  0%|          | 0/1 [00:00<?, ?it/s]"
      ]
     },
     "metadata": {},
     "output_type": "display_data"
    },
    {
     "data": {
      "application/vnd.jupyter.widget-view+json": {
       "model_id": "ba72d85eee7340d79becdcfea99a3fbe",
       "version_major": 2,
       "version_minor": 0
      },
      "text/plain": [
       "  0%|          | 0/1 [00:00<?, ?it/s]"
      ]
     },
     "metadata": {},
     "output_type": "display_data"
    },
    {
     "data": {
      "application/vnd.jupyter.widget-view+json": {
       "model_id": "d87f99ccebc74490b983777d95b88b95",
       "version_major": 2,
       "version_minor": 0
      },
      "text/plain": [
       "  0%|          | 0/1 [00:00<?, ?it/s]"
      ]
     },
     "metadata": {},
     "output_type": "display_data"
    },
    {
     "data": {
      "application/vnd.jupyter.widget-view+json": {
       "model_id": "e62ddcfd9aba45c4bb1b73529b7891b0",
       "version_major": 2,
       "version_minor": 0
      },
      "text/plain": [
       "  0%|          | 0/1 [00:00<?, ?it/s]"
      ]
     },
     "metadata": {},
     "output_type": "display_data"
    },
    {
     "data": {
      "application/vnd.jupyter.widget-view+json": {
       "model_id": "90c1e6626e35499ca19f120ba2e44f36",
       "version_major": 2,
       "version_minor": 0
      },
      "text/plain": [
       "  0%|          | 0/1 [00:00<?, ?it/s]"
      ]
     },
     "metadata": {},
     "output_type": "display_data"
    },
    {
     "data": {
      "application/vnd.jupyter.widget-view+json": {
       "model_id": "be1a845158c943e28115e036ac4c611f",
       "version_major": 2,
       "version_minor": 0
      },
      "text/plain": [
       "  0%|          | 0/1 [00:00<?, ?it/s]"
      ]
     },
     "metadata": {},
     "output_type": "display_data"
    },
    {
     "data": {
      "application/vnd.jupyter.widget-view+json": {
       "model_id": "0e59cc1e42aa47cea5b244f3db6e6566",
       "version_major": 2,
       "version_minor": 0
      },
      "text/plain": [
       "  0%|          | 0/1 [00:00<?, ?it/s]"
      ]
     },
     "metadata": {},
     "output_type": "display_data"
    },
    {
     "data": {
      "application/vnd.jupyter.widget-view+json": {
       "model_id": "0d6e747aa9c34cfa8914ffd3187a85cc",
       "version_major": 2,
       "version_minor": 0
      },
      "text/plain": [
       "  0%|          | 0/1 [00:00<?, ?it/s]"
      ]
     },
     "metadata": {},
     "output_type": "display_data"
    },
    {
     "data": {
      "application/vnd.jupyter.widget-view+json": {
       "model_id": "d43d8bff70df49aa88fa4041321db807",
       "version_major": 2,
       "version_minor": 0
      },
      "text/plain": [
       "  0%|          | 0/1 [00:00<?, ?it/s]"
      ]
     },
     "metadata": {},
     "output_type": "display_data"
    },
    {
     "data": {
      "application/vnd.jupyter.widget-view+json": {
       "model_id": "f8b88dca52c4485098464408054ddad0",
       "version_major": 2,
       "version_minor": 0
      },
      "text/plain": [
       "  0%|          | 0/1 [00:00<?, ?it/s]"
      ]
     },
     "metadata": {},
     "output_type": "display_data"
    },
    {
     "name": "stdout",
     "output_type": "stream",
     "text": [
      "Ergibt die kolposkopische Abklärung bei zytologischem Verdacht auf CIN 1 (s. Kapitel VI „Differentialdiagnostik und Abklärungsalgorithmus“) den histopathologischen Nachweis von CIN 1, so wird die Patientin bzgl. einer Kontrolluntersuchung oder Behandlung beraten.\n",
      "\n",
      "No Filter:\n"
     ]
    },
    {
     "data": {
      "text/html": [
       "<div>\n",
       "<style scoped>\n",
       "    .dataframe tbody tr th:only-of-type {\n",
       "        vertical-align: middle;\n",
       "    }\n",
       "\n",
       "    .dataframe tbody tr th {\n",
       "        vertical-align: top;\n",
       "    }\n",
       "\n",
       "    .dataframe thead th {\n",
       "        text-align: right;\n",
       "    }\n",
       "</style>\n",
       "<table border=\"1\" class=\"dataframe\">\n",
       "  <thead>\n",
       "    <tr style=\"text-align: right;\">\n",
       "      <th></th>\n",
       "      <th>document</th>\n",
       "      <th>text</th>\n",
       "      <th>type</th>\n",
       "      <th>start</th>\n",
       "      <th>end</th>\n",
       "      <th>cui</th>\n",
       "      <th>tuis</th>\n",
       "      <th>canonical</th>\n",
       "      <th>linker</th>\n",
       "      <th>confidence</th>\n",
       "    </tr>\n",
       "  </thead>\n",
       "  <tbody>\n",
       "    <tr>\n",
       "      <th>5</th>\n",
       "      <td>04_praevention-zervixkarzinom_0211_5</td>\n",
       "      <td>histopathologischen Nachweis von CIN 1</td>\n",
       "      <td>Diagnosis_or_Pathology</td>\n",
       "      <td>144</td>\n",
       "      <td>182</td>\n",
       "      <td>C0586855</td>\n",
       "      <td>[T097]</td>\n",
       "      <td>Histopathologist</td>\n",
       "      <td>[ngram]</td>\n",
       "      <td>0.063246</td>\n",
       "    </tr>\n",
       "    <tr>\n",
       "      <th>6</th>\n",
       "      <td>04_praevention-zervixkarzinom_0211_5</td>\n",
       "      <td>Kontrolluntersuchung</td>\n",
       "      <td>Diagnostic</td>\n",
       "      <td>218</td>\n",
       "      <td>238</td>\n",
       "      <td>C0024680</td>\n",
       "      <td>[T058]</td>\n",
       "      <td>Management Audit</td>\n",
       "      <td>[sapbert]</td>\n",
       "      <td>0.064058</td>\n",
       "    </tr>\n",
       "  </tbody>\n",
       "</table>\n",
       "</div>"
      ],
      "text/plain": [
       "                               document  \\\n",
       "5  04_praevention-zervixkarzinom_0211_5   \n",
       "6  04_praevention-zervixkarzinom_0211_5   \n",
       "\n",
       "                                     text                    type  start  end  \\\n",
       "5  histopathologischen Nachweis von CIN 1  Diagnosis_or_Pathology    144  182   \n",
       "6                    Kontrolluntersuchung              Diagnostic    218  238   \n",
       "\n",
       "        cui    tuis         canonical     linker  confidence  \n",
       "5  C0586855  [T097]  Histopathologist    [ngram]    0.063246  \n",
       "6  C0024680  [T058]  Management Audit  [sapbert]    0.064058  "
      ]
     },
     "metadata": {},
     "output_type": "display_data"
    },
    {
     "name": "stdout",
     "output_type": "stream",
     "text": [
      "Filter:\n"
     ]
    },
    {
     "data": {
      "text/html": [
       "<div>\n",
       "<style scoped>\n",
       "    .dataframe tbody tr th:only-of-type {\n",
       "        vertical-align: middle;\n",
       "    }\n",
       "\n",
       "    .dataframe tbody tr th {\n",
       "        vertical-align: top;\n",
       "    }\n",
       "\n",
       "    .dataframe thead th {\n",
       "        text-align: right;\n",
       "    }\n",
       "</style>\n",
       "<table border=\"1\" class=\"dataframe\">\n",
       "  <thead>\n",
       "    <tr style=\"text-align: right;\">\n",
       "      <th></th>\n",
       "      <th>document</th>\n",
       "      <th>text</th>\n",
       "      <th>type</th>\n",
       "      <th>start</th>\n",
       "      <th>end</th>\n",
       "      <th>cui</th>\n",
       "      <th>tuis</th>\n",
       "      <th>canonical</th>\n",
       "      <th>linker</th>\n",
       "      <th>confidence</th>\n",
       "    </tr>\n",
       "  </thead>\n",
       "  <tbody>\n",
       "    <tr>\n",
       "      <th>5</th>\n",
       "      <td>04_praevention-zervixkarzinom_0211_5</td>\n",
       "      <td>histopathologischen Nachweis von CIN 1</td>\n",
       "      <td>Diagnosis_or_Pathology</td>\n",
       "      <td>144</td>\n",
       "      <td>182</td>\n",
       "      <td>C0852601</td>\n",
       "      <td>[T060]</td>\n",
       "      <td>Central nervous system histopathology procedures</td>\n",
       "      <td>[ngram, sapbert]</td>\n",
       "      <td>0.063237</td>\n",
       "    </tr>\n",
       "    <tr>\n",
       "      <th>6</th>\n",
       "      <td>04_praevention-zervixkarzinom_0211_5</td>\n",
       "      <td>Kontrolluntersuchung</td>\n",
       "      <td>Diagnostic</td>\n",
       "      <td>218</td>\n",
       "      <td>238</td>\n",
       "      <td>C0009933</td>\n",
       "      <td>[T062]</td>\n",
       "      <td>Controlled Clinical Trials as Topic</td>\n",
       "      <td>[sapbert]</td>\n",
       "      <td>0.065167</td>\n",
       "    </tr>\n",
       "  </tbody>\n",
       "</table>\n",
       "</div>"
      ],
      "text/plain": [
       "                               document  \\\n",
       "5  04_praevention-zervixkarzinom_0211_5   \n",
       "6  04_praevention-zervixkarzinom_0211_5   \n",
       "\n",
       "                                     text                    type  start  end  \\\n",
       "5  histopathologischen Nachweis von CIN 1  Diagnosis_or_Pathology    144  182   \n",
       "6                    Kontrolluntersuchung              Diagnostic    218  238   \n",
       "\n",
       "        cui    tuis                                         canonical  \\\n",
       "5  C0852601  [T060]  Central nervous system histopathology procedures   \n",
       "6  C0009933  [T062]               Controlled Clinical Trials as Topic   \n",
       "\n",
       "             linker  confidence  \n",
       "5  [ngram, sapbert]    0.063237  \n",
       "6         [sapbert]    0.065167  "
      ]
     },
     "metadata": {},
     "output_type": "display_data"
    },
    {
     "name": "stdout",
     "output_type": "stream",
     "text": [
      "####\n"
     ]
    },
    {
     "data": {
      "application/vnd.jupyter.widget-view+json": {
       "model_id": "530669420bc44f69bcea584416775d43",
       "version_major": 2,
       "version_minor": 0
      },
      "text/plain": [
       "  0%|          | 0/1 [00:00<?, ?it/s]"
      ]
     },
     "metadata": {},
     "output_type": "display_data"
    },
    {
     "data": {
      "application/vnd.jupyter.widget-view+json": {
       "model_id": "5391281c8ee64ddfa11f9275b1f55914",
       "version_major": 2,
       "version_minor": 0
      },
      "text/plain": [
       "  0%|          | 0/1 [00:00<?, ?it/s]"
      ]
     },
     "metadata": {},
     "output_type": "display_data"
    },
    {
     "data": {
      "application/vnd.jupyter.widget-view+json": {
       "model_id": "b6888e7d4b9d4e0caf58cfe327e8ff02",
       "version_major": 2,
       "version_minor": 0
      },
      "text/plain": [
       "  0%|          | 0/1 [00:00<?, ?it/s]"
      ]
     },
     "metadata": {},
     "output_type": "display_data"
    },
    {
     "data": {
      "application/vnd.jupyter.widget-view+json": {
       "model_id": "424ae7827b73498f80c8366c2366a8d3",
       "version_major": 2,
       "version_minor": 0
      },
      "text/plain": [
       "  0%|          | 0/1 [00:00<?, ?it/s]"
      ]
     },
     "metadata": {},
     "output_type": "display_data"
    },
    {
     "data": {
      "application/vnd.jupyter.widget-view+json": {
       "model_id": "6d5ed85bcbe341eaa40a19bb10ad5f5d",
       "version_major": 2,
       "version_minor": 0
      },
      "text/plain": [
       "  0%|          | 0/1 [00:00<?, ?it/s]"
      ]
     },
     "metadata": {},
     "output_type": "display_data"
    },
    {
     "data": {
      "application/vnd.jupyter.widget-view+json": {
       "model_id": "79e605c41d0142cdb4b183e04a394751",
       "version_major": 2,
       "version_minor": 0
      },
      "text/plain": [
       "  0%|          | 0/1 [00:00<?, ?it/s]"
      ]
     },
     "metadata": {},
     "output_type": "display_data"
    },
    {
     "data": {
      "application/vnd.jupyter.widget-view+json": {
       "model_id": "a255df45ff464643a81de7176b345ea5",
       "version_major": 2,
       "version_minor": 0
      },
      "text/plain": [
       "  0%|          | 0/1 [00:00<?, ?it/s]"
      ]
     },
     "metadata": {},
     "output_type": "display_data"
    },
    {
     "data": {
      "application/vnd.jupyter.widget-view+json": {
       "model_id": "89d2785203484fcfa0c5d338f1d7a603",
       "version_major": 2,
       "version_minor": 0
      },
      "text/plain": [
       "  0%|          | 0/1 [00:00<?, ?it/s]"
      ]
     },
     "metadata": {},
     "output_type": "display_data"
    },
    {
     "data": {
      "application/vnd.jupyter.widget-view+json": {
       "model_id": "a85ebc3a64494c6fb1aa58777a214ead",
       "version_major": 2,
       "version_minor": 0
      },
      "text/plain": [
       "  0%|          | 0/1 [00:00<?, ?it/s]"
      ]
     },
     "metadata": {},
     "output_type": "display_data"
    },
    {
     "data": {
      "application/vnd.jupyter.widget-view+json": {
       "model_id": "c943e0531ef24fe1a557f07a672052e4",
       "version_major": 2,
       "version_minor": 0
      },
      "text/plain": [
       "  0%|          | 0/1 [00:00<?, ?it/s]"
      ]
     },
     "metadata": {},
     "output_type": "display_data"
    },
    {
     "data": {
      "application/vnd.jupyter.widget-view+json": {
       "model_id": "f003c46d98f148279d2e04b81c321b2b",
       "version_major": 2,
       "version_minor": 0
      },
      "text/plain": [
       "  0%|          | 0/1 [00:00<?, ?it/s]"
      ]
     },
     "metadata": {},
     "output_type": "display_data"
    },
    {
     "data": {
      "application/vnd.jupyter.widget-view+json": {
       "model_id": "50e85e0f395b4fec8c3bb13ad7d1ed2d",
       "version_major": 2,
       "version_minor": 0
      },
      "text/plain": [
       "  0%|          | 0/1 [00:00<?, ?it/s]"
      ]
     },
     "metadata": {},
     "output_type": "display_data"
    },
    {
     "data": {
      "application/vnd.jupyter.widget-view+json": {
       "model_id": "2d167094b4cb455385f74bc7dff2b8cb",
       "version_major": 2,
       "version_minor": 0
      },
      "text/plain": [
       "  0%|          | 0/1 [00:00<?, ?it/s]"
      ]
     },
     "metadata": {},
     "output_type": "display_data"
    },
    {
     "data": {
      "application/vnd.jupyter.widget-view+json": {
       "model_id": "8dbd62b73f5746578dfe86cd88ba8583",
       "version_major": 2,
       "version_minor": 0
      },
      "text/plain": [
       "  0%|          | 0/1 [00:00<?, ?it/s]"
      ]
     },
     "metadata": {},
     "output_type": "display_data"
    },
    {
     "name": "stdout",
     "output_type": "stream",
     "text": [
      "Bei inadäquater kolposkopischer Aussage, Verdacht auf endocervikale CIN 2 oder CIN 3 oder Zustand nach früherer Behandlung einer CIN wird die Exzision mit kompletter histopathologischer Evaluierung empfohlen ( [REF], S17).\n",
      "\n",
      "No Filter:\n"
     ]
    },
    {
     "data": {
      "text/html": [
       "<div>\n",
       "<style scoped>\n",
       "    .dataframe tbody tr th:only-of-type {\n",
       "        vertical-align: middle;\n",
       "    }\n",
       "\n",
       "    .dataframe tbody tr th {\n",
       "        vertical-align: top;\n",
       "    }\n",
       "\n",
       "    .dataframe thead th {\n",
       "        text-align: right;\n",
       "    }\n",
       "</style>\n",
       "<table border=\"1\" class=\"dataframe\">\n",
       "  <thead>\n",
       "    <tr style=\"text-align: right;\">\n",
       "      <th></th>\n",
       "      <th>document</th>\n",
       "      <th>text</th>\n",
       "      <th>type</th>\n",
       "      <th>start</th>\n",
       "      <th>end</th>\n",
       "      <th>cui</th>\n",
       "      <th>tuis</th>\n",
       "      <th>canonical</th>\n",
       "      <th>linker</th>\n",
       "      <th>confidence</th>\n",
       "    </tr>\n",
       "  </thead>\n",
       "  <tbody>\n",
       "    <tr>\n",
       "      <th>2</th>\n",
       "      <td>04_praevention-zervixkarzinom_0211_12</td>\n",
       "      <td>früherer Behandlung einer CIN</td>\n",
       "      <td>Therapeutic</td>\n",
       "      <td>103</td>\n",
       "      <td>132</td>\n",
       "      <td>C4505227</td>\n",
       "      <td>[T058]</td>\n",
       "      <td>Early Goal-Directed Therapy</td>\n",
       "      <td>[sapbert]</td>\n",
       "      <td>0.064404</td>\n",
       "    </tr>\n",
       "  </tbody>\n",
       "</table>\n",
       "</div>"
      ],
      "text/plain": [
       "                                document                           text  \\\n",
       "2  04_praevention-zervixkarzinom_0211_12  früherer Behandlung einer CIN   \n",
       "\n",
       "          type  start  end       cui    tuis                    canonical  \\\n",
       "2  Therapeutic    103  132  C4505227  [T058]  Early Goal-Directed Therapy   \n",
       "\n",
       "      linker  confidence  \n",
       "2  [sapbert]    0.064404  "
      ]
     },
     "metadata": {},
     "output_type": "display_data"
    },
    {
     "name": "stdout",
     "output_type": "stream",
     "text": [
      "Filter:\n"
     ]
    },
    {
     "data": {
      "text/html": [
       "<div>\n",
       "<style scoped>\n",
       "    .dataframe tbody tr th:only-of-type {\n",
       "        vertical-align: middle;\n",
       "    }\n",
       "\n",
       "    .dataframe tbody tr th {\n",
       "        vertical-align: top;\n",
       "    }\n",
       "\n",
       "    .dataframe thead th {\n",
       "        text-align: right;\n",
       "    }\n",
       "</style>\n",
       "<table border=\"1\" class=\"dataframe\">\n",
       "  <thead>\n",
       "    <tr style=\"text-align: right;\">\n",
       "      <th></th>\n",
       "      <th>document</th>\n",
       "      <th>text</th>\n",
       "      <th>type</th>\n",
       "      <th>start</th>\n",
       "      <th>end</th>\n",
       "      <th>cui</th>\n",
       "      <th>tuis</th>\n",
       "      <th>canonical</th>\n",
       "      <th>linker</th>\n",
       "      <th>confidence</th>\n",
       "    </tr>\n",
       "  </thead>\n",
       "  <tbody>\n",
       "    <tr>\n",
       "      <th>2</th>\n",
       "      <td>04_praevention-zervixkarzinom_0211_12</td>\n",
       "      <td>früherer Behandlung einer CIN</td>\n",
       "      <td>Therapeutic</td>\n",
       "      <td>103</td>\n",
       "      <td>132</td>\n",
       "      <td>C3177188</td>\n",
       "      <td>[T061]</td>\n",
       "      <td>Early Therapy</td>\n",
       "      <td>[sapbert]</td>\n",
       "      <td>0.064474</td>\n",
       "    </tr>\n",
       "  </tbody>\n",
       "</table>\n",
       "</div>"
      ],
      "text/plain": [
       "                                document                           text  \\\n",
       "2  04_praevention-zervixkarzinom_0211_12  früherer Behandlung einer CIN   \n",
       "\n",
       "          type  start  end       cui    tuis      canonical     linker  \\\n",
       "2  Therapeutic    103  132  C3177188  [T061]  Early Therapy  [sapbert]   \n",
       "\n",
       "   confidence  \n",
       "2    0.064474  "
      ]
     },
     "metadata": {},
     "output_type": "display_data"
    },
    {
     "name": "stdout",
     "output_type": "stream",
     "text": [
      "####\n"
     ]
    },
    {
     "data": {
      "application/vnd.jupyter.widget-view+json": {
       "model_id": "91e6c6e9be3d4b089a61cb74e0e3764b",
       "version_major": 2,
       "version_minor": 0
      },
      "text/plain": [
       "  0%|          | 0/1 [00:00<?, ?it/s]"
      ]
     },
     "metadata": {},
     "output_type": "display_data"
    },
    {
     "data": {
      "application/vnd.jupyter.widget-view+json": {
       "model_id": "df35a10684da4b79b13f8d7d5c0b71ed",
       "version_major": 2,
       "version_minor": 0
      },
      "text/plain": [
       "  0%|          | 0/1 [00:00<?, ?it/s]"
      ]
     },
     "metadata": {},
     "output_type": "display_data"
    },
    {
     "data": {
      "application/vnd.jupyter.widget-view+json": {
       "model_id": "d76c6e94d06346d5af39106924c642e7",
       "version_major": 2,
       "version_minor": 0
      },
      "text/plain": [
       "  0%|          | 0/1 [00:00<?, ?it/s]"
      ]
     },
     "metadata": {},
     "output_type": "display_data"
    },
    {
     "data": {
      "application/vnd.jupyter.widget-view+json": {
       "model_id": "2f4c7f1746a5401da075b9974ea7ddd0",
       "version_major": 2,
       "version_minor": 0
      },
      "text/plain": [
       "  0%|          | 0/1 [00:00<?, ?it/s]"
      ]
     },
     "metadata": {},
     "output_type": "display_data"
    },
    {
     "data": {
      "application/vnd.jupyter.widget-view+json": {
       "model_id": "03ebebb2c168433eb45fb86eb38b8b86",
       "version_major": 2,
       "version_minor": 0
      },
      "text/plain": [
       "  0%|          | 0/1 [00:00<?, ?it/s]"
      ]
     },
     "metadata": {},
     "output_type": "display_data"
    },
    {
     "data": {
      "application/vnd.jupyter.widget-view+json": {
       "model_id": "bcdeb438055446e0a774cb650319ac33",
       "version_major": 2,
       "version_minor": 0
      },
      "text/plain": [
       "  0%|          | 0/1 [00:00<?, ?it/s]"
      ]
     },
     "metadata": {},
     "output_type": "display_data"
    },
    {
     "data": {
      "application/vnd.jupyter.widget-view+json": {
       "model_id": "bdb66e5e308b4b389eb65f90d0fc5e80",
       "version_major": 2,
       "version_minor": 0
      },
      "text/plain": [
       "  0%|          | 0/1 [00:00<?, ?it/s]"
      ]
     },
     "metadata": {},
     "output_type": "display_data"
    },
    {
     "data": {
      "application/vnd.jupyter.widget-view+json": {
       "model_id": "ea77f5b46a604b8aa1d64310ef33b20d",
       "version_major": 2,
       "version_minor": 0
      },
      "text/plain": [
       "  0%|          | 0/1 [00:00<?, ?it/s]"
      ]
     },
     "metadata": {},
     "output_type": "display_data"
    },
    {
     "data": {
      "application/vnd.jupyter.widget-view+json": {
       "model_id": "b5a58b66ade948c0bf9e6bfc5070b37c",
       "version_major": 2,
       "version_minor": 0
      },
      "text/plain": [
       "  0%|          | 0/1 [00:00<?, ?it/s]"
      ]
     },
     "metadata": {},
     "output_type": "display_data"
    },
    {
     "data": {
      "application/vnd.jupyter.widget-view+json": {
       "model_id": "492a1d2512ee496a87b4e4ff5679c632",
       "version_major": 2,
       "version_minor": 0
      },
      "text/plain": [
       "  0%|          | 0/1 [00:00<?, ?it/s]"
      ]
     },
     "metadata": {},
     "output_type": "display_data"
    },
    {
     "data": {
      "application/vnd.jupyter.widget-view+json": {
       "model_id": "16a14c26bbe647dcbf8204d511f40bf0",
       "version_major": 2,
       "version_minor": 0
      },
      "text/plain": [
       "  0%|          | 0/1 [00:00<?, ?it/s]"
      ]
     },
     "metadata": {},
     "output_type": "display_data"
    },
    {
     "data": {
      "application/vnd.jupyter.widget-view+json": {
       "model_id": "0983e4ca2cea4c22bfd7567076086ea1",
       "version_major": 2,
       "version_minor": 0
      },
      "text/plain": [
       "  0%|          | 0/1 [00:00<?, ?it/s]"
      ]
     },
     "metadata": {},
     "output_type": "display_data"
    },
    {
     "data": {
      "application/vnd.jupyter.widget-view+json": {
       "model_id": "2dd6ad88d3bb428fac18a1deba5d81fc",
       "version_major": 2,
       "version_minor": 0
      },
      "text/plain": [
       "  0%|          | 0/1 [00:00<?, ?it/s]"
      ]
     },
     "metadata": {},
     "output_type": "display_data"
    },
    {
     "data": {
      "application/vnd.jupyter.widget-view+json": {
       "model_id": "f1f2ad4ce8aa4030b1b9f49fbbbd0b5d",
       "version_major": 2,
       "version_minor": 0
      },
      "text/plain": [
       "  0%|          | 0/1 [00:00<?, ?it/s]"
      ]
     },
     "metadata": {},
     "output_type": "display_data"
    },
    {
     "data": {
      "application/vnd.jupyter.widget-view+json": {
       "model_id": "a6bde3ca7e19447f8ade09d77858a640",
       "version_major": 2,
       "version_minor": 0
      },
      "text/plain": [
       "  0%|          | 0/1 [00:00<?, ?it/s]"
      ]
     },
     "metadata": {},
     "output_type": "display_data"
    },
    {
     "data": {
      "application/vnd.jupyter.widget-view+json": {
       "model_id": "dd05d9a9d5934600a0b7bb0d75ba2a26",
       "version_major": 2,
       "version_minor": 0
      },
      "text/plain": [
       "  0%|          | 0/1 [00:00<?, ?it/s]"
      ]
     },
     "metadata": {},
     "output_type": "display_data"
    },
    {
     "name": "stdout",
     "output_type": "stream",
     "text": [
      "Eine Hysterektomie als primäre Therapie sollte bei histologisch nachgewiesener CIN 1 ohne Zusatzindikation nicht durchgeführt werden.\n",
      "\n",
      "No Filter:\n"
     ]
    },
    {
     "data": {
      "text/html": [
       "<div>\n",
       "<style scoped>\n",
       "    .dataframe tbody tr th:only-of-type {\n",
       "        vertical-align: middle;\n",
       "    }\n",
       "\n",
       "    .dataframe tbody tr th {\n",
       "        vertical-align: top;\n",
       "    }\n",
       "\n",
       "    .dataframe thead th {\n",
       "        text-align: right;\n",
       "    }\n",
       "</style>\n",
       "<table border=\"1\" class=\"dataframe\">\n",
       "  <thead>\n",
       "    <tr style=\"text-align: right;\">\n",
       "      <th></th>\n",
       "      <th>document</th>\n",
       "      <th>text</th>\n",
       "      <th>type</th>\n",
       "      <th>start</th>\n",
       "      <th>end</th>\n",
       "      <th>cui</th>\n",
       "      <th>tuis</th>\n",
       "      <th>canonical</th>\n",
       "      <th>linker</th>\n",
       "      <th>confidence</th>\n",
       "    </tr>\n",
       "  </thead>\n",
       "  <tbody>\n",
       "    <tr>\n",
       "      <th>1</th>\n",
       "      <td>04_praevention-zervixkarzinom_0211_20</td>\n",
       "      <td>primäre Therapie</td>\n",
       "      <td>Therapeutic</td>\n",
       "      <td>23</td>\n",
       "      <td>39</td>\n",
       "      <td>C1335497</td>\n",
       "      <td>[T033]</td>\n",
       "      <td>Prior Primary</td>\n",
       "      <td>[sapbert]</td>\n",
       "      <td>0.070375</td>\n",
       "    </tr>\n",
       "  </tbody>\n",
       "</table>\n",
       "</div>"
      ],
      "text/plain": [
       "                                document              text         type  \\\n",
       "1  04_praevention-zervixkarzinom_0211_20  primäre Therapie  Therapeutic   \n",
       "\n",
       "   start  end       cui    tuis      canonical     linker  confidence  \n",
       "1     23   39  C1335497  [T033]  Prior Primary  [sapbert]    0.070375  "
      ]
     },
     "metadata": {},
     "output_type": "display_data"
    },
    {
     "name": "stdout",
     "output_type": "stream",
     "text": [
      "Filter:\n"
     ]
    },
    {
     "data": {
      "text/html": [
       "<div>\n",
       "<style scoped>\n",
       "    .dataframe tbody tr th:only-of-type {\n",
       "        vertical-align: middle;\n",
       "    }\n",
       "\n",
       "    .dataframe tbody tr th {\n",
       "        vertical-align: top;\n",
       "    }\n",
       "\n",
       "    .dataframe thead th {\n",
       "        text-align: right;\n",
       "    }\n",
       "</style>\n",
       "<table border=\"1\" class=\"dataframe\">\n",
       "  <thead>\n",
       "    <tr style=\"text-align: right;\">\n",
       "      <th></th>\n",
       "      <th>document</th>\n",
       "      <th>text</th>\n",
       "      <th>type</th>\n",
       "      <th>start</th>\n",
       "      <th>end</th>\n",
       "      <th>cui</th>\n",
       "      <th>tuis</th>\n",
       "      <th>canonical</th>\n",
       "      <th>linker</th>\n",
       "      <th>confidence</th>\n",
       "    </tr>\n",
       "  </thead>\n",
       "  <tbody>\n",
       "    <tr>\n",
       "      <th>1</th>\n",
       "      <td>04_praevention-zervixkarzinom_0211_20</td>\n",
       "      <td>primäre Therapie</td>\n",
       "      <td>Therapeutic</td>\n",
       "      <td>23</td>\n",
       "      <td>39</td>\n",
       "      <td>C0221296</td>\n",
       "      <td>[T061]</td>\n",
       "      <td>Primal therapy</td>\n",
       "      <td>[sapbert]</td>\n",
       "      <td>0.068785</td>\n",
       "    </tr>\n",
       "  </tbody>\n",
       "</table>\n",
       "</div>"
      ],
      "text/plain": [
       "                                document              text         type  \\\n",
       "1  04_praevention-zervixkarzinom_0211_20  primäre Therapie  Therapeutic   \n",
       "\n",
       "   start  end       cui    tuis       canonical     linker  confidence  \n",
       "1     23   39  C0221296  [T061]  Primal therapy  [sapbert]    0.068785  "
      ]
     },
     "metadata": {},
     "output_type": "display_data"
    },
    {
     "name": "stdout",
     "output_type": "stream",
     "text": [
      "####\n"
     ]
    },
    {
     "data": {
      "application/vnd.jupyter.widget-view+json": {
       "model_id": "a4021a19b49747b9883baecfd0c0976b",
       "version_major": 2,
       "version_minor": 0
      },
      "text/plain": [
       "  0%|          | 0/1 [00:00<?, ?it/s]"
      ]
     },
     "metadata": {},
     "output_type": "display_data"
    },
    {
     "data": {
      "application/vnd.jupyter.widget-view+json": {
       "model_id": "d3ea2c2569a94536bda23e0e47c27ee8",
       "version_major": 2,
       "version_minor": 0
      },
      "text/plain": [
       "  0%|          | 0/1 [00:00<?, ?it/s]"
      ]
     },
     "metadata": {},
     "output_type": "display_data"
    },
    {
     "data": {
      "application/vnd.jupyter.widget-view+json": {
       "model_id": "852b12d562d14087bf92484b551dcd41",
       "version_major": 2,
       "version_minor": 0
      },
      "text/plain": [
       "  0%|          | 0/1 [00:00<?, ?it/s]"
      ]
     },
     "metadata": {},
     "output_type": "display_data"
    },
    {
     "data": {
      "application/vnd.jupyter.widget-view+json": {
       "model_id": "1e12db66482541abbeb21b679d361560",
       "version_major": 2,
       "version_minor": 0
      },
      "text/plain": [
       "  0%|          | 0/1 [00:00<?, ?it/s]"
      ]
     },
     "metadata": {},
     "output_type": "display_data"
    },
    {
     "data": {
      "application/vnd.jupyter.widget-view+json": {
       "model_id": "adafd200bf8a4510be70e1a9ad0ef1e7",
       "version_major": 2,
       "version_minor": 0
      },
      "text/plain": [
       "  0%|          | 0/1 [00:00<?, ?it/s]"
      ]
     },
     "metadata": {},
     "output_type": "display_data"
    },
    {
     "data": {
      "application/vnd.jupyter.widget-view+json": {
       "model_id": "93f419636da345229183df7df4905d95",
       "version_major": 2,
       "version_minor": 0
      },
      "text/plain": [
       "  0%|          | 0/1 [00:00<?, ?it/s]"
      ]
     },
     "metadata": {},
     "output_type": "display_data"
    },
    {
     "data": {
      "application/vnd.jupyter.widget-view+json": {
       "model_id": "f70509d172cb4da1a48c061ecff8f02f",
       "version_major": 2,
       "version_minor": 0
      },
      "text/plain": [
       "  0%|          | 0/1 [00:00<?, ?it/s]"
      ]
     },
     "metadata": {},
     "output_type": "display_data"
    },
    {
     "data": {
      "application/vnd.jupyter.widget-view+json": {
       "model_id": "32620df4ca014b86a49934ed6645cacf",
       "version_major": 2,
       "version_minor": 0
      },
      "text/plain": [
       "  0%|          | 0/1 [00:00<?, ?it/s]"
      ]
     },
     "metadata": {},
     "output_type": "display_data"
    },
    {
     "data": {
      "application/vnd.jupyter.widget-view+json": {
       "model_id": "7eb76acb293943fdbea4b85e8ff260c5",
       "version_major": 2,
       "version_minor": 0
      },
      "text/plain": [
       "  0%|          | 0/1 [00:00<?, ?it/s]"
      ]
     },
     "metadata": {},
     "output_type": "display_data"
    },
    {
     "data": {
      "application/vnd.jupyter.widget-view+json": {
       "model_id": "0f531e325387409f8e5bb8dddcea792a",
       "version_major": 2,
       "version_minor": 0
      },
      "text/plain": [
       "  0%|          | 0/1 [00:00<?, ?it/s]"
      ]
     },
     "metadata": {},
     "output_type": "display_data"
    },
    {
     "data": {
      "application/vnd.jupyter.widget-view+json": {
       "model_id": "416d65f4d539477ca847692837d01a48",
       "version_major": 2,
       "version_minor": 0
      },
      "text/plain": [
       "  0%|          | 0/1 [00:00<?, ?it/s]"
      ]
     },
     "metadata": {},
     "output_type": "display_data"
    },
    {
     "data": {
      "application/vnd.jupyter.widget-view+json": {
       "model_id": "359877f22b9f436799825cea4adbb432",
       "version_major": 2,
       "version_minor": 0
      },
      "text/plain": [
       "  0%|          | 0/1 [00:00<?, ?it/s]"
      ]
     },
     "metadata": {},
     "output_type": "display_data"
    },
    {
     "data": {
      "application/vnd.jupyter.widget-view+json": {
       "model_id": "30712e3d1ae0497f8e1206254875c479",
       "version_major": 2,
       "version_minor": 0
      },
      "text/plain": [
       "  0%|          | 0/1 [00:00<?, ?it/s]"
      ]
     },
     "metadata": {},
     "output_type": "display_data"
    },
    {
     "data": {
      "application/vnd.jupyter.widget-view+json": {
       "model_id": "14106313ed86480e9dfb3941d97d99d1",
       "version_major": 2,
       "version_minor": 0
      },
      "text/plain": [
       "  0%|          | 0/1 [00:00<?, ?it/s]"
      ]
     },
     "metadata": {},
     "output_type": "display_data"
    },
    {
     "data": {
      "application/vnd.jupyter.widget-view+json": {
       "model_id": "22d6ce0529c944c2b042f8e66a6153d9",
       "version_major": 2,
       "version_minor": 0
      },
      "text/plain": [
       "  0%|          | 0/1 [00:00<?, ?it/s]"
      ]
     },
     "metadata": {},
     "output_type": "display_data"
    },
    {
     "data": {
      "application/vnd.jupyter.widget-view+json": {
       "model_id": "21d5b3ed54754516a70ea842f71a4702",
       "version_major": 2,
       "version_minor": 0
      },
      "text/plain": [
       "  0%|          | 0/1 [00:00<?, ?it/s]"
      ]
     },
     "metadata": {},
     "output_type": "display_data"
    },
    {
     "name": "stdout",
     "output_type": "stream",
     "text": [
      "Zum Thema der Antioxidantien und Vitamine während der aktiven konventionellen Behandlung des Zervixkarzinoms existieren nur wenige Daten.\n",
      "\n",
      "No Filter:\n"
     ]
    },
    {
     "data": {
      "text/html": [
       "<div>\n",
       "<style scoped>\n",
       "    .dataframe tbody tr th:only-of-type {\n",
       "        vertical-align: middle;\n",
       "    }\n",
       "\n",
       "    .dataframe tbody tr th {\n",
       "        vertical-align: top;\n",
       "    }\n",
       "\n",
       "    .dataframe thead th {\n",
       "        text-align: right;\n",
       "    }\n",
       "</style>\n",
       "<table border=\"1\" class=\"dataframe\">\n",
       "  <thead>\n",
       "    <tr style=\"text-align: right;\">\n",
       "      <th></th>\n",
       "      <th>document</th>\n",
       "      <th>text</th>\n",
       "      <th>type</th>\n",
       "      <th>start</th>\n",
       "      <th>end</th>\n",
       "      <th>cui</th>\n",
       "      <th>tuis</th>\n",
       "      <th>canonical</th>\n",
       "      <th>linker</th>\n",
       "      <th>confidence</th>\n",
       "    </tr>\n",
       "  </thead>\n",
       "  <tbody>\n",
       "    <tr>\n",
       "      <th>2</th>\n",
       "      <td>05_zervixkarzinom_0265_0</td>\n",
       "      <td>aktiven konventionellen Behandlung des Zervixk...</td>\n",
       "      <td>Therapeutic</td>\n",
       "      <td>54</td>\n",
       "      <td>108</td>\n",
       "      <td>C5420818</td>\n",
       "      <td>[T191]</td>\n",
       "      <td>Locally Advanced Cervical Squamous Cell Carcinoma</td>\n",
       "      <td>[sapbert]</td>\n",
       "      <td>0.063582</td>\n",
       "    </tr>\n",
       "  </tbody>\n",
       "</table>\n",
       "</div>"
      ],
      "text/plain": [
       "                   document  \\\n",
       "2  05_zervixkarzinom_0265_0   \n",
       "\n",
       "                                                text         type  start  end  \\\n",
       "2  aktiven konventionellen Behandlung des Zervixk...  Therapeutic     54  108   \n",
       "\n",
       "        cui    tuis                                          canonical  \\\n",
       "2  C5420818  [T191]  Locally Advanced Cervical Squamous Cell Carcinoma   \n",
       "\n",
       "      linker  confidence  \n",
       "2  [sapbert]    0.063582  "
      ]
     },
     "metadata": {},
     "output_type": "display_data"
    },
    {
     "name": "stdout",
     "output_type": "stream",
     "text": [
      "Filter:\n"
     ]
    },
    {
     "data": {
      "text/html": [
       "<div>\n",
       "<style scoped>\n",
       "    .dataframe tbody tr th:only-of-type {\n",
       "        vertical-align: middle;\n",
       "    }\n",
       "\n",
       "    .dataframe tbody tr th {\n",
       "        vertical-align: top;\n",
       "    }\n",
       "\n",
       "    .dataframe thead th {\n",
       "        text-align: right;\n",
       "    }\n",
       "</style>\n",
       "<table border=\"1\" class=\"dataframe\">\n",
       "  <thead>\n",
       "    <tr style=\"text-align: right;\">\n",
       "      <th></th>\n",
       "      <th>document</th>\n",
       "      <th>text</th>\n",
       "      <th>type</th>\n",
       "      <th>start</th>\n",
       "      <th>end</th>\n",
       "      <th>cui</th>\n",
       "      <th>tuis</th>\n",
       "      <th>canonical</th>\n",
       "      <th>linker</th>\n",
       "      <th>confidence</th>\n",
       "    </tr>\n",
       "  </thead>\n",
       "  <tbody>\n",
       "    <tr>\n",
       "      <th>2</th>\n",
       "      <td>05_zervixkarzinom_0265_0</td>\n",
       "      <td>aktiven konventionellen Behandlung des Zervixk...</td>\n",
       "      <td>Therapeutic</td>\n",
       "      <td>54</td>\n",
       "      <td>108</td>\n",
       "      <td>C1880037</td>\n",
       "      <td>[T061]</td>\n",
       "      <td>Regimen Used to Treat Cervical Carcinoma</td>\n",
       "      <td>[sapbert]</td>\n",
       "      <td>0.063736</td>\n",
       "    </tr>\n",
       "  </tbody>\n",
       "</table>\n",
       "</div>"
      ],
      "text/plain": [
       "                   document  \\\n",
       "2  05_zervixkarzinom_0265_0   \n",
       "\n",
       "                                                text         type  start  end  \\\n",
       "2  aktiven konventionellen Behandlung des Zervixk...  Therapeutic     54  108   \n",
       "\n",
       "        cui    tuis                                 canonical     linker  \\\n",
       "2  C1880037  [T061]  Regimen Used to Treat Cervical Carcinoma  [sapbert]   \n",
       "\n",
       "   confidence  \n",
       "2    0.063736  "
      ]
     },
     "metadata": {},
     "output_type": "display_data"
    },
    {
     "name": "stdout",
     "output_type": "stream",
     "text": [
      "####\n"
     ]
    },
    {
     "data": {
      "application/vnd.jupyter.widget-view+json": {
       "model_id": "4a555e00cbc34f948550fd1bbbe3796c",
       "version_major": 2,
       "version_minor": 0
      },
      "text/plain": [
       "  0%|          | 0/1 [00:00<?, ?it/s]"
      ]
     },
     "metadata": {},
     "output_type": "display_data"
    },
    {
     "data": {
      "application/vnd.jupyter.widget-view+json": {
       "model_id": "c914d95875ef40dcb513d74537ba862c",
       "version_major": 2,
       "version_minor": 0
      },
      "text/plain": [
       "  0%|          | 0/1 [00:00<?, ?it/s]"
      ]
     },
     "metadata": {},
     "output_type": "display_data"
    },
    {
     "data": {
      "application/vnd.jupyter.widget-view+json": {
       "model_id": "020f0f1bb359435ca3ad497115cbe995",
       "version_major": 2,
       "version_minor": 0
      },
      "text/plain": [
       "  0%|          | 0/1 [00:00<?, ?it/s]"
      ]
     },
     "metadata": {},
     "output_type": "display_data"
    },
    {
     "data": {
      "application/vnd.jupyter.widget-view+json": {
       "model_id": "7aa5fcdc756f47b290fe71ed27022780",
       "version_major": 2,
       "version_minor": 0
      },
      "text/plain": [
       "  0%|          | 0/1 [00:00<?, ?it/s]"
      ]
     },
     "metadata": {},
     "output_type": "display_data"
    },
    {
     "data": {
      "application/vnd.jupyter.widget-view+json": {
       "model_id": "88edace8717f4e33aa0d5c2a07c8cc2a",
       "version_major": 2,
       "version_minor": 0
      },
      "text/plain": [
       "  0%|          | 0/1 [00:00<?, ?it/s]"
      ]
     },
     "metadata": {},
     "output_type": "display_data"
    },
    {
     "data": {
      "application/vnd.jupyter.widget-view+json": {
       "model_id": "a813b60c7baf492483b16055730b1726",
       "version_major": 2,
       "version_minor": 0
      },
      "text/plain": [
       "  0%|          | 0/1 [00:00<?, ?it/s]"
      ]
     },
     "metadata": {},
     "output_type": "display_data"
    },
    {
     "data": {
      "application/vnd.jupyter.widget-view+json": {
       "model_id": "fe529e38c0c54066b60458ce9eccc43e",
       "version_major": 2,
       "version_minor": 0
      },
      "text/plain": [
       "  0%|          | 0/1 [00:00<?, ?it/s]"
      ]
     },
     "metadata": {},
     "output_type": "display_data"
    },
    {
     "data": {
      "application/vnd.jupyter.widget-view+json": {
       "model_id": "6d36635cf70a4d1f8a9fd71931f385fe",
       "version_major": 2,
       "version_minor": 0
      },
      "text/plain": [
       "  0%|          | 0/1 [00:00<?, ?it/s]"
      ]
     },
     "metadata": {},
     "output_type": "display_data"
    },
    {
     "data": {
      "application/vnd.jupyter.widget-view+json": {
       "model_id": "fb309ee9f6cc44c494e1c56b51c37af8",
       "version_major": 2,
       "version_minor": 0
      },
      "text/plain": [
       "  0%|          | 0/1 [00:00<?, ?it/s]"
      ]
     },
     "metadata": {},
     "output_type": "display_data"
    },
    {
     "data": {
      "application/vnd.jupyter.widget-view+json": {
       "model_id": "d7819ee9e0e7464bb9a014121f3b7997",
       "version_major": 2,
       "version_minor": 0
      },
      "text/plain": [
       "  0%|          | 0/1 [00:00<?, ?it/s]"
      ]
     },
     "metadata": {},
     "output_type": "display_data"
    },
    {
     "data": {
      "application/vnd.jupyter.widget-view+json": {
       "model_id": "3479a5fa438c46b586c5c7aef755830a",
       "version_major": 2,
       "version_minor": 0
      },
      "text/plain": [
       "  0%|          | 0/1 [00:00<?, ?it/s]"
      ]
     },
     "metadata": {},
     "output_type": "display_data"
    },
    {
     "data": {
      "application/vnd.jupyter.widget-view+json": {
       "model_id": "3a12669741c646e091b2fe2fdd6b5c77",
       "version_major": 2,
       "version_minor": 0
      },
      "text/plain": [
       "  0%|          | 0/1 [00:00<?, ?it/s]"
      ]
     },
     "metadata": {},
     "output_type": "display_data"
    },
    {
     "data": {
      "application/vnd.jupyter.widget-view+json": {
       "model_id": "ffeeace4f45f453fa8786d4e4cd025e6",
       "version_major": 2,
       "version_minor": 0
      },
      "text/plain": [
       "  0%|          | 0/1 [00:00<?, ?it/s]"
      ]
     },
     "metadata": {},
     "output_type": "display_data"
    },
    {
     "data": {
      "application/vnd.jupyter.widget-view+json": {
       "model_id": "a8c4837815334211b681cad387d24c57",
       "version_major": 2,
       "version_minor": 0
      },
      "text/plain": [
       "  0%|          | 0/1 [00:00<?, ?it/s]"
      ]
     },
     "metadata": {},
     "output_type": "display_data"
    },
    {
     "data": {
      "application/vnd.jupyter.widget-view+json": {
       "model_id": "bde9a7c8ec6c4c2cbfbad5f775da3244",
       "version_major": 2,
       "version_minor": 0
      },
      "text/plain": [
       "  0%|          | 0/1 [00:00<?, ?it/s]"
      ]
     },
     "metadata": {},
     "output_type": "display_data"
    },
    {
     "data": {
      "application/vnd.jupyter.widget-view+json": {
       "model_id": "88c299a33e204bd3aa4fda145818684d",
       "version_major": 2,
       "version_minor": 0
      },
      "text/plain": [
       "  0%|          | 0/1 [00:00<?, ?it/s]"
      ]
     },
     "metadata": {},
     "output_type": "display_data"
    },
    {
     "data": {
      "application/vnd.jupyter.widget-view+json": {
       "model_id": "b64fcd94d8114d73bd4d7148ca367af5",
       "version_major": 2,
       "version_minor": 0
      },
      "text/plain": [
       "  0%|          | 0/1 [00:00<?, ?it/s]"
      ]
     },
     "metadata": {},
     "output_type": "display_data"
    },
    {
     "data": {
      "application/vnd.jupyter.widget-view+json": {
       "model_id": "7fd155370ca343e4a0d493926da56c84",
       "version_major": 2,
       "version_minor": 0
      },
      "text/plain": [
       "  0%|          | 0/1 [00:00<?, ?it/s]"
      ]
     },
     "metadata": {},
     "output_type": "display_data"
    },
    {
     "data": {
      "application/vnd.jupyter.widget-view+json": {
       "model_id": "291f173eb86a4483b5759a126a05a845",
       "version_major": 2,
       "version_minor": 0
      },
      "text/plain": [
       "  0%|          | 0/1 [00:00<?, ?it/s]"
      ]
     },
     "metadata": {},
     "output_type": "display_data"
    },
    {
     "data": {
      "application/vnd.jupyter.widget-view+json": {
       "model_id": "73b8b08eef2545b7b422e29eada3e769",
       "version_major": 2,
       "version_minor": 0
      },
      "text/plain": [
       "  0%|          | 0/1 [00:00<?, ?it/s]"
      ]
     },
     "metadata": {},
     "output_type": "display_data"
    },
    {
     "data": {
      "application/vnd.jupyter.widget-view+json": {
       "model_id": "af7e85baadcc4d738b2832b9c6916490",
       "version_major": 2,
       "version_minor": 0
      },
      "text/plain": [
       "  0%|          | 0/1 [00:00<?, ?it/s]"
      ]
     },
     "metadata": {},
     "output_type": "display_data"
    },
    {
     "data": {
      "application/vnd.jupyter.widget-view+json": {
       "model_id": "b9996143849b4ca3b675a404127bf5e8",
       "version_major": 2,
       "version_minor": 0
      },
      "text/plain": [
       "  0%|          | 0/1 [00:00<?, ?it/s]"
      ]
     },
     "metadata": {},
     "output_type": "display_data"
    },
    {
     "data": {
      "application/vnd.jupyter.widget-view+json": {
       "model_id": "93ef122f00c14880a24ef6fa388ca9ed",
       "version_major": 2,
       "version_minor": 0
      },
      "text/plain": [
       "  0%|          | 0/1 [00:00<?, ?it/s]"
      ]
     },
     "metadata": {},
     "output_type": "display_data"
    },
    {
     "data": {
      "application/vnd.jupyter.widget-view+json": {
       "model_id": "72eab103bcbe449a80a8f8ab6ddea562",
       "version_major": 2,
       "version_minor": 0
      },
      "text/plain": [
       "  0%|          | 0/1 [00:00<?, ?it/s]"
      ]
     },
     "metadata": {},
     "output_type": "display_data"
    },
    {
     "data": {
      "application/vnd.jupyter.widget-view+json": {
       "model_id": "c0f16c795f3c4480811ce10910ac5c5b",
       "version_major": 2,
       "version_minor": 0
      },
      "text/plain": [
       "  0%|          | 0/1 [00:00<?, ?it/s]"
      ]
     },
     "metadata": {},
     "output_type": "display_data"
    },
    {
     "data": {
      "application/vnd.jupyter.widget-view+json": {
       "model_id": "a6755839d83e4c4da974965ca97f156e",
       "version_major": 2,
       "version_minor": 0
      },
      "text/plain": [
       "  0%|          | 0/1 [00:00<?, ?it/s]"
      ]
     },
     "metadata": {},
     "output_type": "display_data"
    },
    {
     "data": {
      "application/vnd.jupyter.widget-view+json": {
       "model_id": "ceeb96ff12684659a4a373f0ca8984e6",
       "version_major": 2,
       "version_minor": 0
      },
      "text/plain": [
       "  0%|          | 0/1 [00:00<?, ?it/s]"
      ]
     },
     "metadata": {},
     "output_type": "display_data"
    },
    {
     "data": {
      "application/vnd.jupyter.widget-view+json": {
       "model_id": "1423e4e973da468ab6ee1a5c846a33e1",
       "version_major": 2,
       "version_minor": 0
      },
      "text/plain": [
       "  0%|          | 0/1 [00:00<?, ?it/s]"
      ]
     },
     "metadata": {},
     "output_type": "display_data"
    },
    {
     "data": {
      "application/vnd.jupyter.widget-view+json": {
       "model_id": "59c495553b9349168f425fb860bd8917",
       "version_major": 2,
       "version_minor": 0
      },
      "text/plain": [
       "  0%|          | 0/1 [00:00<?, ?it/s]"
      ]
     },
     "metadata": {},
     "output_type": "display_data"
    },
    {
     "data": {
      "application/vnd.jupyter.widget-view+json": {
       "model_id": "f39ebf3fd3954260b48caf7af0e01f15",
       "version_major": 2,
       "version_minor": 0
      },
      "text/plain": [
       "  0%|          | 0/1 [00:00<?, ?it/s]"
      ]
     },
     "metadata": {},
     "output_type": "display_data"
    },
    {
     "data": {
      "application/vnd.jupyter.widget-view+json": {
       "model_id": "a6521f34ac3d4164b3ebaac090e86a25",
       "version_major": 2,
       "version_minor": 0
      },
      "text/plain": [
       "  0%|          | 0/1 [00:00<?, ?it/s]"
      ]
     },
     "metadata": {},
     "output_type": "display_data"
    },
    {
     "data": {
      "application/vnd.jupyter.widget-view+json": {
       "model_id": "afec23a1f3224eac8df92524bf4d2ab8",
       "version_major": 2,
       "version_minor": 0
      },
      "text/plain": [
       "  0%|          | 0/1 [00:00<?, ?it/s]"
      ]
     },
     "metadata": {},
     "output_type": "display_data"
    },
    {
     "data": {
      "application/vnd.jupyter.widget-view+json": {
       "model_id": "3761392967224ceeb76b120addcbe4e7",
       "version_major": 2,
       "version_minor": 0
      },
      "text/plain": [
       "  0%|          | 0/1 [00:00<?, ?it/s]"
      ]
     },
     "metadata": {},
     "output_type": "display_data"
    },
    {
     "data": {
      "application/vnd.jupyter.widget-view+json": {
       "model_id": "e7f3ff9a5bf44272b40b189b58c5f382",
       "version_major": 2,
       "version_minor": 0
      },
      "text/plain": [
       "  0%|          | 0/1 [00:00<?, ?it/s]"
      ]
     },
     "metadata": {},
     "output_type": "display_data"
    },
    {
     "name": "stdout",
     "output_type": "stream",
     "text": [
      "In einer kleinen randomisierten Studie (n=42) wurde eine verbesserte Immunreaktion und ein tendenziell geringere Rezidivrate bei Vitamin-A-Gabe festgestellt [REF] [REF].\n",
      "\n",
      "No Filter:\n"
     ]
    },
    {
     "data": {
      "text/html": [
       "<div>\n",
       "<style scoped>\n",
       "    .dataframe tbody tr th:only-of-type {\n",
       "        vertical-align: middle;\n",
       "    }\n",
       "\n",
       "    .dataframe tbody tr th {\n",
       "        vertical-align: top;\n",
       "    }\n",
       "\n",
       "    .dataframe thead th {\n",
       "        text-align: right;\n",
       "    }\n",
       "</style>\n",
       "<table border=\"1\" class=\"dataframe\">\n",
       "  <thead>\n",
       "    <tr style=\"text-align: right;\">\n",
       "      <th></th>\n",
       "      <th>document</th>\n",
       "      <th>text</th>\n",
       "      <th>type</th>\n",
       "      <th>start</th>\n",
       "      <th>end</th>\n",
       "      <th>cui</th>\n",
       "      <th>tuis</th>\n",
       "      <th>canonical</th>\n",
       "      <th>linker</th>\n",
       "      <th>confidence</th>\n",
       "    </tr>\n",
       "  </thead>\n",
       "  <tbody>\n",
       "    <tr>\n",
       "      <th>2</th>\n",
       "      <td>05_zervixkarzinom_0265_17</td>\n",
       "      <td>Vitamin-A-Gabe</td>\n",
       "      <td>Therapeutic</td>\n",
       "      <td>129</td>\n",
       "      <td>143</td>\n",
       "      <td>C0042842</td>\n",
       "      <td>[T047]</td>\n",
       "      <td>Vitamin A Deficiency</td>\n",
       "      <td>[ngram, sapbert]</td>\n",
       "      <td>0.069976</td>\n",
       "    </tr>\n",
       "  </tbody>\n",
       "</table>\n",
       "</div>"
      ],
      "text/plain": [
       "                    document            text         type  start  end  \\\n",
       "2  05_zervixkarzinom_0265_17  Vitamin-A-Gabe  Therapeutic    129  143   \n",
       "\n",
       "        cui    tuis             canonical            linker  confidence  \n",
       "2  C0042842  [T047]  Vitamin A Deficiency  [ngram, sapbert]    0.069976  "
      ]
     },
     "metadata": {},
     "output_type": "display_data"
    },
    {
     "name": "stdout",
     "output_type": "stream",
     "text": [
      "Filter:\n"
     ]
    },
    {
     "data": {
      "text/html": [
       "<div>\n",
       "<style scoped>\n",
       "    .dataframe tbody tr th:only-of-type {\n",
       "        vertical-align: middle;\n",
       "    }\n",
       "\n",
       "    .dataframe tbody tr th {\n",
       "        vertical-align: top;\n",
       "    }\n",
       "\n",
       "    .dataframe thead th {\n",
       "        text-align: right;\n",
       "    }\n",
       "</style>\n",
       "<table border=\"1\" class=\"dataframe\">\n",
       "  <thead>\n",
       "    <tr style=\"text-align: right;\">\n",
       "      <th></th>\n",
       "      <th>document</th>\n",
       "      <th>text</th>\n",
       "      <th>type</th>\n",
       "      <th>start</th>\n",
       "      <th>end</th>\n",
       "      <th>cui</th>\n",
       "      <th>tuis</th>\n",
       "      <th>canonical</th>\n",
       "      <th>linker</th>\n",
       "      <th>confidence</th>\n",
       "    </tr>\n",
       "  </thead>\n",
       "  <tbody>\n",
       "    <tr>\n",
       "      <th>2</th>\n",
       "      <td>05_zervixkarzinom_0265_17</td>\n",
       "      <td>Vitamin-A-Gabe</td>\n",
       "      <td>Therapeutic</td>\n",
       "      <td>129</td>\n",
       "      <td>143</td>\n",
       "      <td>C1528406</td>\n",
       "      <td>[T109, T121, T127]</td>\n",
       "      <td>Vitamin-A-Saar</td>\n",
       "      <td>[ngram, sapbert]</td>\n",
       "      <td>0.070096</td>\n",
       "    </tr>\n",
       "  </tbody>\n",
       "</table>\n",
       "</div>"
      ],
      "text/plain": [
       "                    document            text         type  start  end  \\\n",
       "2  05_zervixkarzinom_0265_17  Vitamin-A-Gabe  Therapeutic    129  143   \n",
       "\n",
       "        cui                tuis       canonical            linker  confidence  \n",
       "2  C1528406  [T109, T121, T127]  Vitamin-A-Saar  [ngram, sapbert]    0.070096  "
      ]
     },
     "metadata": {},
     "output_type": "display_data"
    },
    {
     "name": "stdout",
     "output_type": "stream",
     "text": [
      "####\n"
     ]
    },
    {
     "data": {
      "application/vnd.jupyter.widget-view+json": {
       "model_id": "fb0917c84f8d4be38ae31000271ea51e",
       "version_major": 2,
       "version_minor": 0
      },
      "text/plain": [
       "  0%|          | 0/1 [00:00<?, ?it/s]"
      ]
     },
     "metadata": {},
     "output_type": "display_data"
    },
    {
     "data": {
      "application/vnd.jupyter.widget-view+json": {
       "model_id": "b10f2c3a8f524158817809e086bff8d1",
       "version_major": 2,
       "version_minor": 0
      },
      "text/plain": [
       "  0%|          | 0/1 [00:00<?, ?it/s]"
      ]
     },
     "metadata": {},
     "output_type": "display_data"
    },
    {
     "data": {
      "application/vnd.jupyter.widget-view+json": {
       "model_id": "00892dfe119e4ccf852f6146ed87a9af",
       "version_major": 2,
       "version_minor": 0
      },
      "text/plain": [
       "  0%|          | 0/1 [00:00<?, ?it/s]"
      ]
     },
     "metadata": {},
     "output_type": "display_data"
    },
    {
     "data": {
      "application/vnd.jupyter.widget-view+json": {
       "model_id": "1d0a9b57029b4133a680e130b5caca30",
       "version_major": 2,
       "version_minor": 0
      },
      "text/plain": [
       "  0%|          | 0/1 [00:00<?, ?it/s]"
      ]
     },
     "metadata": {},
     "output_type": "display_data"
    },
    {
     "data": {
      "application/vnd.jupyter.widget-view+json": {
       "model_id": "9606740d729942828c7098a6a141a089",
       "version_major": 2,
       "version_minor": 0
      },
      "text/plain": [
       "  0%|          | 0/1 [00:00<?, ?it/s]"
      ]
     },
     "metadata": {},
     "output_type": "display_data"
    },
    {
     "data": {
      "application/vnd.jupyter.widget-view+json": {
       "model_id": "2bd487a6a61542239326673b0e0f870d",
       "version_major": 2,
       "version_minor": 0
      },
      "text/plain": [
       "  0%|          | 0/1 [00:00<?, ?it/s]"
      ]
     },
     "metadata": {},
     "output_type": "display_data"
    },
    {
     "name": "stdout",
     "output_type": "stream",
     "text": [
      "Diese Hinweise aus Studien sind nicht ausreichend, um eine Empfehlung für einen vorbeugenden Einsatz von Vitaminpräparaten, Antioxidantien und/oder Selen zur Vermeidung unerwünschter Nebenwirkungen in der Therapie von Zervixkarzinompatientinnen abzuleiten.\n",
      "\n",
      "No Filter:\n"
     ]
    },
    {
     "data": {
      "text/html": [
       "<div>\n",
       "<style scoped>\n",
       "    .dataframe tbody tr th:only-of-type {\n",
       "        vertical-align: middle;\n",
       "    }\n",
       "\n",
       "    .dataframe tbody tr th {\n",
       "        vertical-align: top;\n",
       "    }\n",
       "\n",
       "    .dataframe thead th {\n",
       "        text-align: right;\n",
       "    }\n",
       "</style>\n",
       "<table border=\"1\" class=\"dataframe\">\n",
       "  <thead>\n",
       "    <tr style=\"text-align: right;\">\n",
       "      <th></th>\n",
       "      <th>document</th>\n",
       "      <th>text</th>\n",
       "      <th>type</th>\n",
       "      <th>start</th>\n",
       "      <th>end</th>\n",
       "      <th>cui</th>\n",
       "      <th>tuis</th>\n",
       "      <th>canonical</th>\n",
       "      <th>linker</th>\n",
       "      <th>confidence</th>\n",
       "    </tr>\n",
       "  </thead>\n",
       "  <tbody>\n",
       "    <tr>\n",
       "      <th>3</th>\n",
       "      <td>05_zervixkarzinom_0265_20</td>\n",
       "      <td>Vermeidung unerwünschter Nebenwirkungen in der...</td>\n",
       "      <td>Therapeutic</td>\n",
       "      <td>158</td>\n",
       "      <td>244</td>\n",
       "      <td>C4763862</td>\n",
       "      <td>[T061]</td>\n",
       "      <td>Cervical Cancer Surgery</td>\n",
       "      <td>[sapbert]</td>\n",
       "      <td>0.063171</td>\n",
       "    </tr>\n",
       "  </tbody>\n",
       "</table>\n",
       "</div>"
      ],
      "text/plain": [
       "                    document  \\\n",
       "3  05_zervixkarzinom_0265_20   \n",
       "\n",
       "                                                text         type  start  end  \\\n",
       "3  Vermeidung unerwünschter Nebenwirkungen in der...  Therapeutic    158  244   \n",
       "\n",
       "        cui    tuis                canonical     linker  confidence  \n",
       "3  C4763862  [T061]  Cervical Cancer Surgery  [sapbert]    0.063171  "
      ]
     },
     "metadata": {},
     "output_type": "display_data"
    },
    {
     "name": "stdout",
     "output_type": "stream",
     "text": [
      "Filter:\n"
     ]
    },
    {
     "data": {
      "text/html": [
       "<div>\n",
       "<style scoped>\n",
       "    .dataframe tbody tr th:only-of-type {\n",
       "        vertical-align: middle;\n",
       "    }\n",
       "\n",
       "    .dataframe tbody tr th {\n",
       "        vertical-align: top;\n",
       "    }\n",
       "\n",
       "    .dataframe thead th {\n",
       "        text-align: right;\n",
       "    }\n",
       "</style>\n",
       "<table border=\"1\" class=\"dataframe\">\n",
       "  <thead>\n",
       "    <tr style=\"text-align: right;\">\n",
       "      <th></th>\n",
       "      <th>document</th>\n",
       "      <th>text</th>\n",
       "      <th>type</th>\n",
       "      <th>start</th>\n",
       "      <th>end</th>\n",
       "      <th>cui</th>\n",
       "      <th>tuis</th>\n",
       "      <th>canonical</th>\n",
       "      <th>linker</th>\n",
       "      <th>confidence</th>\n",
       "    </tr>\n",
       "  </thead>\n",
       "  <tbody>\n",
       "    <tr>\n",
       "      <th>3</th>\n",
       "      <td>05_zervixkarzinom_0265_20</td>\n",
       "      <td>Vermeidung unerwünschter Nebenwirkungen in der...</td>\n",
       "      <td>Therapeutic</td>\n",
       "      <td>158</td>\n",
       "      <td>244</td>\n",
       "      <td>C1880037</td>\n",
       "      <td>[T061]</td>\n",
       "      <td>Regimen Used to Treat Cervical Carcinoma</td>\n",
       "      <td>[sapbert]</td>\n",
       "      <td>0.063227</td>\n",
       "    </tr>\n",
       "  </tbody>\n",
       "</table>\n",
       "</div>"
      ],
      "text/plain": [
       "                    document  \\\n",
       "3  05_zervixkarzinom_0265_20   \n",
       "\n",
       "                                                text         type  start  end  \\\n",
       "3  Vermeidung unerwünschter Nebenwirkungen in der...  Therapeutic    158  244   \n",
       "\n",
       "        cui    tuis                                 canonical     linker  \\\n",
       "3  C1880037  [T061]  Regimen Used to Treat Cervical Carcinoma  [sapbert]   \n",
       "\n",
       "   confidence  \n",
       "3    0.063227  "
      ]
     },
     "metadata": {},
     "output_type": "display_data"
    },
    {
     "name": "stdout",
     "output_type": "stream",
     "text": [
      "####\n"
     ]
    },
    {
     "data": {
      "application/vnd.jupyter.widget-view+json": {
       "model_id": "5ff17f2e9ab24e45a9cc3a145eb345cb",
       "version_major": 2,
       "version_minor": 0
      },
      "text/plain": [
       "  0%|          | 0/1 [00:00<?, ?it/s]"
      ]
     },
     "metadata": {},
     "output_type": "display_data"
    },
    {
     "data": {
      "application/vnd.jupyter.widget-view+json": {
       "model_id": "61629d91ae6f4b41a0d7ad7b62e6ef3e",
       "version_major": 2,
       "version_minor": 0
      },
      "text/plain": [
       "  0%|          | 0/1 [00:00<?, ?it/s]"
      ]
     },
     "metadata": {},
     "output_type": "display_data"
    },
    {
     "data": {
      "application/vnd.jupyter.widget-view+json": {
       "model_id": "133caffb08d542c19dec6f18622c48ec",
       "version_major": 2,
       "version_minor": 0
      },
      "text/plain": [
       "  0%|          | 0/1 [00:00<?, ?it/s]"
      ]
     },
     "metadata": {},
     "output_type": "display_data"
    },
    {
     "data": {
      "application/vnd.jupyter.widget-view+json": {
       "model_id": "4224eeb1e2094a16ab2de7c0fd18939d",
       "version_major": 2,
       "version_minor": 0
      },
      "text/plain": [
       "  0%|          | 0/1 [00:00<?, ?it/s]"
      ]
     },
     "metadata": {},
     "output_type": "display_data"
    },
    {
     "data": {
      "application/vnd.jupyter.widget-view+json": {
       "model_id": "1db3f8abe59e4fb5b1e2d774d866a890",
       "version_major": 2,
       "version_minor": 0
      },
      "text/plain": [
       "  0%|          | 0/1 [00:00<?, ?it/s]"
      ]
     },
     "metadata": {},
     "output_type": "display_data"
    },
    {
     "data": {
      "application/vnd.jupyter.widget-view+json": {
       "model_id": "48c4a27566b2453cb67af40b396b5860",
       "version_major": 2,
       "version_minor": 0
      },
      "text/plain": [
       "  0%|          | 0/1 [00:00<?, ?it/s]"
      ]
     },
     "metadata": {},
     "output_type": "display_data"
    },
    {
     "name": "stdout",
     "output_type": "stream",
     "text": [
      "Auch hepatische Nebenwirkungen sind unter zielgerichteten und Immuntherapien häufig.\n",
      "\n",
      "No Filter:\n"
     ]
    },
    {
     "data": {
      "text/html": [
       "<div>\n",
       "<style scoped>\n",
       "    .dataframe tbody tr th:only-of-type {\n",
       "        vertical-align: middle;\n",
       "    }\n",
       "\n",
       "    .dataframe tbody tr th {\n",
       "        vertical-align: top;\n",
       "    }\n",
       "\n",
       "    .dataframe thead th {\n",
       "        text-align: right;\n",
       "    }\n",
       "</style>\n",
       "<table border=\"1\" class=\"dataframe\">\n",
       "  <thead>\n",
       "    <tr style=\"text-align: right;\">\n",
       "      <th></th>\n",
       "      <th>document</th>\n",
       "      <th>text</th>\n",
       "      <th>type</th>\n",
       "      <th>start</th>\n",
       "      <th>end</th>\n",
       "      <th>cui</th>\n",
       "      <th>tuis</th>\n",
       "      <th>canonical</th>\n",
       "      <th>linker</th>\n",
       "      <th>confidence</th>\n",
       "    </tr>\n",
       "  </thead>\n",
       "  <tbody>\n",
       "    <tr>\n",
       "      <th>1</th>\n",
       "      <td>07_malignes-melanom_0197_2</td>\n",
       "      <td>zielgerichteten</td>\n",
       "      <td>Therapeutic</td>\n",
       "      <td>42</td>\n",
       "      <td>57</td>\n",
       "      <td>C1720855</td>\n",
       "      <td>[T061]</td>\n",
       "      <td>Targeted Gene Repair</td>\n",
       "      <td>[ngram]</td>\n",
       "      <td>0.065704</td>\n",
       "    </tr>\n",
       "  </tbody>\n",
       "</table>\n",
       "</div>"
      ],
      "text/plain": [
       "                     document             text         type  start  end  \\\n",
       "1  07_malignes-melanom_0197_2  zielgerichteten  Therapeutic     42   57   \n",
       "\n",
       "        cui    tuis             canonical   linker  confidence  \n",
       "1  C1720855  [T061]  Targeted Gene Repair  [ngram]    0.065704  "
      ]
     },
     "metadata": {},
     "output_type": "display_data"
    },
    {
     "name": "stdout",
     "output_type": "stream",
     "text": [
      "Filter:\n"
     ]
    },
    {
     "data": {
      "text/html": [
       "<div>\n",
       "<style scoped>\n",
       "    .dataframe tbody tr th:only-of-type {\n",
       "        vertical-align: middle;\n",
       "    }\n",
       "\n",
       "    .dataframe tbody tr th {\n",
       "        vertical-align: top;\n",
       "    }\n",
       "\n",
       "    .dataframe thead th {\n",
       "        text-align: right;\n",
       "    }\n",
       "</style>\n",
       "<table border=\"1\" class=\"dataframe\">\n",
       "  <thead>\n",
       "    <tr style=\"text-align: right;\">\n",
       "      <th></th>\n",
       "      <th>document</th>\n",
       "      <th>text</th>\n",
       "      <th>type</th>\n",
       "      <th>start</th>\n",
       "      <th>end</th>\n",
       "      <th>cui</th>\n",
       "      <th>tuis</th>\n",
       "      <th>canonical</th>\n",
       "      <th>linker</th>\n",
       "      <th>confidence</th>\n",
       "    </tr>\n",
       "  </thead>\n",
       "  <tbody>\n",
       "    <tr>\n",
       "      <th>1</th>\n",
       "      <td>07_malignes-melanom_0197_2</td>\n",
       "      <td>zielgerichteten</td>\n",
       "      <td>Therapeutic</td>\n",
       "      <td>42</td>\n",
       "      <td>57</td>\n",
       "      <td>C2699893</td>\n",
       "      <td>[T061]</td>\n",
       "      <td>Molecular Targeted Therapy</td>\n",
       "      <td>[ngram]</td>\n",
       "      <td>0.067461</td>\n",
       "    </tr>\n",
       "  </tbody>\n",
       "</table>\n",
       "</div>"
      ],
      "text/plain": [
       "                     document             text         type  start  end  \\\n",
       "1  07_malignes-melanom_0197_2  zielgerichteten  Therapeutic     42   57   \n",
       "\n",
       "        cui    tuis                   canonical   linker  confidence  \n",
       "1  C2699893  [T061]  Molecular Targeted Therapy  [ngram]    0.067461  "
      ]
     },
     "metadata": {},
     "output_type": "display_data"
    },
    {
     "name": "stdout",
     "output_type": "stream",
     "text": [
      "####\n"
     ]
    },
    {
     "data": {
      "application/vnd.jupyter.widget-view+json": {
       "model_id": "d1cc89a7c3714be09164a3667c2bea1b",
       "version_major": 2,
       "version_minor": 0
      },
      "text/plain": [
       "  0%|          | 0/1 [00:00<?, ?it/s]"
      ]
     },
     "metadata": {},
     "output_type": "display_data"
    },
    {
     "data": {
      "application/vnd.jupyter.widget-view+json": {
       "model_id": "cb9354b541664b2e999969d81749e832",
       "version_major": 2,
       "version_minor": 0
      },
      "text/plain": [
       "  0%|          | 0/1 [00:00<?, ?it/s]"
      ]
     },
     "metadata": {},
     "output_type": "display_data"
    },
    {
     "data": {
      "application/vnd.jupyter.widget-view+json": {
       "model_id": "0b3cc5a623a945be9a2e8848a762af74",
       "version_major": 2,
       "version_minor": 0
      },
      "text/plain": [
       "  0%|          | 0/1 [00:00<?, ?it/s]"
      ]
     },
     "metadata": {},
     "output_type": "display_data"
    },
    {
     "data": {
      "application/vnd.jupyter.widget-view+json": {
       "model_id": "a3a1f00b7e894efb8228c729c372b773",
       "version_major": 2,
       "version_minor": 0
      },
      "text/plain": [
       "  0%|          | 0/1 [00:00<?, ?it/s]"
      ]
     },
     "metadata": {},
     "output_type": "display_data"
    },
    {
     "data": {
      "application/vnd.jupyter.widget-view+json": {
       "model_id": "eec66ab566bf4508afdedc1d1a87fb86",
       "version_major": 2,
       "version_minor": 0
      },
      "text/plain": [
       "  0%|          | 0/1 [00:00<?, ?it/s]"
      ]
     },
     "metadata": {},
     "output_type": "display_data"
    },
    {
     "data": {
      "application/vnd.jupyter.widget-view+json": {
       "model_id": "5c13c703fe824d45b9fe788ca8d8cbfa",
       "version_major": 2,
       "version_minor": 0
      },
      "text/plain": [
       "  0%|          | 0/1 [00:00<?, ?it/s]"
      ]
     },
     "metadata": {},
     "output_type": "display_data"
    },
    {
     "data": {
      "application/vnd.jupyter.widget-view+json": {
       "model_id": "0c874858733f4db9959053eb7656d90b",
       "version_major": 2,
       "version_minor": 0
      },
      "text/plain": [
       "  0%|          | 0/1 [00:00<?, ?it/s]"
      ]
     },
     "metadata": {},
     "output_type": "display_data"
    },
    {
     "data": {
      "application/vnd.jupyter.widget-view+json": {
       "model_id": "8c50fb582fea42b5a786836912b15db1",
       "version_major": 2,
       "version_minor": 0
      },
      "text/plain": [
       "  0%|          | 0/1 [00:00<?, ?it/s]"
      ]
     },
     "metadata": {},
     "output_type": "display_data"
    },
    {
     "data": {
      "application/vnd.jupyter.widget-view+json": {
       "model_id": "6e7d22ebaa084ef7b8731720c138eed9",
       "version_major": 2,
       "version_minor": 0
      },
      "text/plain": [
       "  0%|          | 0/1 [00:00<?, ?it/s]"
      ]
     },
     "metadata": {},
     "output_type": "display_data"
    },
    {
     "data": {
      "application/vnd.jupyter.widget-view+json": {
       "model_id": "6dcd1cd8d40f41f1a89cade5399e6bf2",
       "version_major": 2,
       "version_minor": 0
      },
      "text/plain": [
       "  0%|          | 0/1 [00:00<?, ?it/s]"
      ]
     },
     "metadata": {},
     "output_type": "display_data"
    },
    {
     "data": {
      "application/vnd.jupyter.widget-view+json": {
       "model_id": "699afb9d149c48659c3b2d2711c9a27b",
       "version_major": 2,
       "version_minor": 0
      },
      "text/plain": [
       "  0%|          | 0/1 [00:00<?, ?it/s]"
      ]
     },
     "metadata": {},
     "output_type": "display_data"
    },
    {
     "data": {
      "application/vnd.jupyter.widget-view+json": {
       "model_id": "39a8fd5517a54fbd8ac5458d26a7a1ac",
       "version_major": 2,
       "version_minor": 0
      },
      "text/plain": [
       "  0%|          | 0/1 [00:00<?, ?it/s]"
      ]
     },
     "metadata": {},
     "output_type": "display_data"
    },
    {
     "data": {
      "application/vnd.jupyter.widget-view+json": {
       "model_id": "43eafef8311346b0aac23ef9ed8bd39d",
       "version_major": 2,
       "version_minor": 0
      },
      "text/plain": [
       "  0%|          | 0/1 [00:00<?, ?it/s]"
      ]
     },
     "metadata": {},
     "output_type": "display_data"
    },
    {
     "data": {
      "application/vnd.jupyter.widget-view+json": {
       "model_id": "f5e61ac5f98c4282a31cf9eca2176182",
       "version_major": 2,
       "version_minor": 0
      },
      "text/plain": [
       "  0%|          | 0/1 [00:00<?, ?it/s]"
      ]
     },
     "metadata": {},
     "output_type": "display_data"
    },
    {
     "data": {
      "application/vnd.jupyter.widget-view+json": {
       "model_id": "49f07a8ac1074a92a9d2ef8574493b65",
       "version_major": 2,
       "version_minor": 0
      },
      "text/plain": [
       "  0%|          | 0/1 [00:00<?, ?it/s]"
      ]
     },
     "metadata": {},
     "output_type": "display_data"
    },
    {
     "data": {
      "application/vnd.jupyter.widget-view+json": {
       "model_id": "352ebd49a1c44cee910384f5fb475c6e",
       "version_major": 2,
       "version_minor": 0
      },
      "text/plain": [
       "  0%|          | 0/1 [00:00<?, ?it/s]"
      ]
     },
     "metadata": {},
     "output_type": "display_data"
    },
    {
     "data": {
      "application/vnd.jupyter.widget-view+json": {
       "model_id": "add289e5f5c04a7da19572e8ef2f020a",
       "version_major": 2,
       "version_minor": 0
      },
      "text/plain": [
       "  0%|          | 0/1 [00:00<?, ?it/s]"
      ]
     },
     "metadata": {},
     "output_type": "display_data"
    },
    {
     "data": {
      "application/vnd.jupyter.widget-view+json": {
       "model_id": "c61d817353384bb986dd51f4e2784ab2",
       "version_major": 2,
       "version_minor": 0
      },
      "text/plain": [
       "  0%|          | 0/1 [00:00<?, ?it/s]"
      ]
     },
     "metadata": {},
     "output_type": "display_data"
    },
    {
     "data": {
      "application/vnd.jupyter.widget-view+json": {
       "model_id": "5bee17ac32814bcdbd27ea205e89f889",
       "version_major": 2,
       "version_minor": 0
      },
      "text/plain": [
       "  0%|          | 0/1 [00:00<?, ?it/s]"
      ]
     },
     "metadata": {},
     "output_type": "display_data"
    },
    {
     "data": {
      "application/vnd.jupyter.widget-view+json": {
       "model_id": "a861ef4dddb54deda4e989017a98526c",
       "version_major": 2,
       "version_minor": 0
      },
      "text/plain": [
       "  0%|          | 0/1 [00:00<?, ?it/s]"
      ]
     },
     "metadata": {},
     "output_type": "display_data"
    },
    {
     "data": {
      "application/vnd.jupyter.widget-view+json": {
       "model_id": "75ab9ff66e7d4887a9aa6ad7a79b511c",
       "version_major": 2,
       "version_minor": 0
      },
      "text/plain": [
       "  0%|          | 0/1 [00:00<?, ?it/s]"
      ]
     },
     "metadata": {},
     "output_type": "display_data"
    },
    {
     "data": {
      "application/vnd.jupyter.widget-view+json": {
       "model_id": "1cc2d54ed8a9481293df0143f3aef561",
       "version_major": 2,
       "version_minor": 0
      },
      "text/plain": [
       "  0%|          | 0/1 [00:00<?, ?it/s]"
      ]
     },
     "metadata": {},
     "output_type": "display_data"
    },
    {
     "data": {
      "application/vnd.jupyter.widget-view+json": {
       "model_id": "aa50e755e87e4e53ab93a9f7a08c39e2",
       "version_major": 2,
       "version_minor": 0
      },
      "text/plain": [
       "  0%|          | 0/1 [00:00<?, ?it/s]"
      ]
     },
     "metadata": {},
     "output_type": "display_data"
    },
    {
     "data": {
      "application/vnd.jupyter.widget-view+json": {
       "model_id": "9812b95f16794e59917d3c6ce3a7f013",
       "version_major": 2,
       "version_minor": 0
      },
      "text/plain": [
       "  0%|          | 0/1 [00:00<?, ?it/s]"
      ]
     },
     "metadata": {},
     "output_type": "display_data"
    },
    {
     "data": {
      "application/vnd.jupyter.widget-view+json": {
       "model_id": "803a9e9560864f3e968759a0085cad53",
       "version_major": 2,
       "version_minor": 0
      },
      "text/plain": [
       "  0%|          | 0/1 [00:00<?, ?it/s]"
      ]
     },
     "metadata": {},
     "output_type": "display_data"
    },
    {
     "data": {
      "application/vnd.jupyter.widget-view+json": {
       "model_id": "14aefd1886ac4c45bcb80378d086b5ab",
       "version_major": 2,
       "version_minor": 0
      },
      "text/plain": [
       "  0%|          | 0/1 [00:00<?, ?it/s]"
      ]
     },
     "metadata": {},
     "output_type": "display_data"
    },
    {
     "name": "stdout",
     "output_type": "stream",
     "text": [
      "Dieser tritt bei der Kombinationstherapie mit Ipilimumab plus Nivolumab typischerweise früher auf als unter den Monotherapien – zwischen 6 und 14 Wochen nach Therapiestart [REF].\n",
      "\n",
      "No Filter:\n"
     ]
    },
    {
     "data": {
      "text/html": [
       "<div>\n",
       "<style scoped>\n",
       "    .dataframe tbody tr th:only-of-type {\n",
       "        vertical-align: middle;\n",
       "    }\n",
       "\n",
       "    .dataframe tbody tr th {\n",
       "        vertical-align: top;\n",
       "    }\n",
       "\n",
       "    .dataframe thead th {\n",
       "        text-align: right;\n",
       "    }\n",
       "</style>\n",
       "<table border=\"1\" class=\"dataframe\">\n",
       "  <thead>\n",
       "    <tr style=\"text-align: right;\">\n",
       "      <th></th>\n",
       "      <th>document</th>\n",
       "      <th>text</th>\n",
       "      <th>type</th>\n",
       "      <th>start</th>\n",
       "      <th>end</th>\n",
       "      <th>cui</th>\n",
       "      <th>tuis</th>\n",
       "      <th>canonical</th>\n",
       "      <th>linker</th>\n",
       "      <th>confidence</th>\n",
       "    </tr>\n",
       "  </thead>\n",
       "  <tbody>\n",
       "    <tr>\n",
       "      <th>4</th>\n",
       "      <td>07_malignes-melanom_0197_15</td>\n",
       "      <td>Therapiestart</td>\n",
       "      <td>Therapeutic</td>\n",
       "      <td>158</td>\n",
       "      <td>171</td>\n",
       "      <td>C1699848</td>\n",
       "      <td>[T033]</td>\n",
       "      <td>Therapy cessation</td>\n",
       "      <td>[sapbert]</td>\n",
       "      <td>0.066351</td>\n",
       "    </tr>\n",
       "  </tbody>\n",
       "</table>\n",
       "</div>"
      ],
      "text/plain": [
       "                      document           text         type  start  end  \\\n",
       "4  07_malignes-melanom_0197_15  Therapiestart  Therapeutic    158  171   \n",
       "\n",
       "        cui    tuis          canonical     linker  confidence  \n",
       "4  C1699848  [T033]  Therapy cessation  [sapbert]    0.066351  "
      ]
     },
     "metadata": {},
     "output_type": "display_data"
    },
    {
     "name": "stdout",
     "output_type": "stream",
     "text": [
      "Filter:\n"
     ]
    },
    {
     "data": {
      "text/html": [
       "<div>\n",
       "<style scoped>\n",
       "    .dataframe tbody tr th:only-of-type {\n",
       "        vertical-align: middle;\n",
       "    }\n",
       "\n",
       "    .dataframe tbody tr th {\n",
       "        vertical-align: top;\n",
       "    }\n",
       "\n",
       "    .dataframe thead th {\n",
       "        text-align: right;\n",
       "    }\n",
       "</style>\n",
       "<table border=\"1\" class=\"dataframe\">\n",
       "  <thead>\n",
       "    <tr style=\"text-align: right;\">\n",
       "      <th></th>\n",
       "      <th>document</th>\n",
       "      <th>text</th>\n",
       "      <th>type</th>\n",
       "      <th>start</th>\n",
       "      <th>end</th>\n",
       "      <th>cui</th>\n",
       "      <th>tuis</th>\n",
       "      <th>canonical</th>\n",
       "      <th>linker</th>\n",
       "      <th>confidence</th>\n",
       "    </tr>\n",
       "  </thead>\n",
       "  <tbody>\n",
       "    <tr>\n",
       "      <th>4</th>\n",
       "      <td>07_malignes-melanom_0197_15</td>\n",
       "      <td>Therapiestart</td>\n",
       "      <td>Therapeutic</td>\n",
       "      <td>158</td>\n",
       "      <td>171</td>\n",
       "      <td>C0087111</td>\n",
       "      <td>[T061]</td>\n",
       "      <td>Therapie</td>\n",
       "      <td>[ngram]</td>\n",
       "      <td>0.066392</td>\n",
       "    </tr>\n",
       "  </tbody>\n",
       "</table>\n",
       "</div>"
      ],
      "text/plain": [
       "                      document           text         type  start  end  \\\n",
       "4  07_malignes-melanom_0197_15  Therapiestart  Therapeutic    158  171   \n",
       "\n",
       "        cui    tuis canonical   linker  confidence  \n",
       "4  C0087111  [T061]  Therapie  [ngram]    0.066392  "
      ]
     },
     "metadata": {},
     "output_type": "display_data"
    },
    {
     "name": "stdout",
     "output_type": "stream",
     "text": [
      "####\n"
     ]
    },
    {
     "data": {
      "application/vnd.jupyter.widget-view+json": {
       "model_id": "a70899132d20423d83256a1bf9a361a0",
       "version_major": 2,
       "version_minor": 0
      },
      "text/plain": [
       "  0%|          | 0/1 [00:00<?, ?it/s]"
      ]
     },
     "metadata": {},
     "output_type": "display_data"
    },
    {
     "data": {
      "application/vnd.jupyter.widget-view+json": {
       "model_id": "3c080c24b2d44bf3bf2090ae96d9f52e",
       "version_major": 2,
       "version_minor": 0
      },
      "text/plain": [
       "  0%|          | 0/1 [00:00<?, ?it/s]"
      ]
     },
     "metadata": {},
     "output_type": "display_data"
    },
    {
     "data": {
      "application/vnd.jupyter.widget-view+json": {
       "model_id": "e562622df73e43d5aae3ff9771d8035e",
       "version_major": 2,
       "version_minor": 0
      },
      "text/plain": [
       "  0%|          | 0/1 [00:00<?, ?it/s]"
      ]
     },
     "metadata": {},
     "output_type": "display_data"
    },
    {
     "data": {
      "application/vnd.jupyter.widget-view+json": {
       "model_id": "ee322fcfc89047c2bc1a06e6764c0ba4",
       "version_major": 2,
       "version_minor": 0
      },
      "text/plain": [
       "  0%|          | 0/1 [00:00<?, ?it/s]"
      ]
     },
     "metadata": {},
     "output_type": "display_data"
    },
    {
     "data": {
      "application/vnd.jupyter.widget-view+json": {
       "model_id": "c24edc787e8945589932ea7ee23b7c84",
       "version_major": 2,
       "version_minor": 0
      },
      "text/plain": [
       "  0%|          | 0/1 [00:00<?, ?it/s]"
      ]
     },
     "metadata": {},
     "output_type": "display_data"
    },
    {
     "data": {
      "application/vnd.jupyter.widget-view+json": {
       "model_id": "8234f036f9344cb08411a8c745229380",
       "version_major": 2,
       "version_minor": 0
      },
      "text/plain": [
       "  0%|          | 0/1 [00:00<?, ?it/s]"
      ]
     },
     "metadata": {},
     "output_type": "display_data"
    },
    {
     "data": {
      "application/vnd.jupyter.widget-view+json": {
       "model_id": "0250b604e8604fcd8aef7f4f41c2b232",
       "version_major": 2,
       "version_minor": 0
      },
      "text/plain": [
       "  0%|          | 0/1 [00:00<?, ?it/s]"
      ]
     },
     "metadata": {},
     "output_type": "display_data"
    },
    {
     "data": {
      "application/vnd.jupyter.widget-view+json": {
       "model_id": "ed4f6210ea40428586c41014abcbc39d",
       "version_major": 2,
       "version_minor": 0
      },
      "text/plain": [
       "  0%|          | 0/1 [00:00<?, ?it/s]"
      ]
     },
     "metadata": {},
     "output_type": "display_data"
    },
    {
     "data": {
      "application/vnd.jupyter.widget-view+json": {
       "model_id": "48021f100ea84c2daa06d8a3798cfb42",
       "version_major": 2,
       "version_minor": 0
      },
      "text/plain": [
       "  0%|          | 0/1 [00:00<?, ?it/s]"
      ]
     },
     "metadata": {},
     "output_type": "display_data"
    },
    {
     "data": {
      "application/vnd.jupyter.widget-view+json": {
       "model_id": "1b1b9745ba9d4302bc66062e68e14701",
       "version_major": 2,
       "version_minor": 0
      },
      "text/plain": [
       "  0%|          | 0/1 [00:00<?, ?it/s]"
      ]
     },
     "metadata": {},
     "output_type": "display_data"
    },
    {
     "data": {
      "application/vnd.jupyter.widget-view+json": {
       "model_id": "99f4605d82434c5987fa9b179b3cef10",
       "version_major": 2,
       "version_minor": 0
      },
      "text/plain": [
       "  0%|          | 0/1 [00:00<?, ?it/s]"
      ]
     },
     "metadata": {},
     "output_type": "display_data"
    },
    {
     "data": {
      "application/vnd.jupyter.widget-view+json": {
       "model_id": "bb535f5e8d8c45f8b605376a4e7ed41a",
       "version_major": 2,
       "version_minor": 0
      },
      "text/plain": [
       "  0%|          | 0/1 [00:00<?, ?it/s]"
      ]
     },
     "metadata": {},
     "output_type": "display_data"
    },
    {
     "data": {
      "application/vnd.jupyter.widget-view+json": {
       "model_id": "2a8f207ab7b84a17b0aefeb6918dba76",
       "version_major": 2,
       "version_minor": 0
      },
      "text/plain": [
       "  0%|          | 0/1 [00:00<?, ?it/s]"
      ]
     },
     "metadata": {},
     "output_type": "display_data"
    },
    {
     "data": {
      "application/vnd.jupyter.widget-view+json": {
       "model_id": "66d03c26bec54ba8abcb6cb0e830cd91",
       "version_major": 2,
       "version_minor": 0
      },
      "text/plain": [
       "  0%|          | 0/1 [00:00<?, ?it/s]"
      ]
     },
     "metadata": {},
     "output_type": "display_data"
    },
    {
     "data": {
      "application/vnd.jupyter.widget-view+json": {
       "model_id": "0eee2f7655754b4e8f739edb1d6fd9f1",
       "version_major": 2,
       "version_minor": 0
      },
      "text/plain": [
       "  0%|          | 0/1 [00:00<?, ?it/s]"
      ]
     },
     "metadata": {},
     "output_type": "display_data"
    },
    {
     "data": {
      "application/vnd.jupyter.widget-view+json": {
       "model_id": "dcd0b5012ac64c0d88dce137d92f6b82",
       "version_major": 2,
       "version_minor": 0
      },
      "text/plain": [
       "  0%|          | 0/1 [00:00<?, ?it/s]"
      ]
     },
     "metadata": {},
     "output_type": "display_data"
    },
    {
     "data": {
      "application/vnd.jupyter.widget-view+json": {
       "model_id": "c350dac584ab4d1483e88f9108d6fc56",
       "version_major": 2,
       "version_minor": 0
      },
      "text/plain": [
       "  0%|          | 0/1 [00:00<?, ?it/s]"
      ]
     },
     "metadata": {},
     "output_type": "display_data"
    },
    {
     "data": {
      "application/vnd.jupyter.widget-view+json": {
       "model_id": "f7fa278b6cb04d80aaf96cf7faa381d4",
       "version_major": 2,
       "version_minor": 0
      },
      "text/plain": [
       "  0%|          | 0/1 [00:00<?, ?it/s]"
      ]
     },
     "metadata": {},
     "output_type": "display_data"
    },
    {
     "name": "stdout",
     "output_type": "stream",
     "text": [
      "Immun-Checkpoint-Blocker induzierte Hepatitiden erfordern ein Abbrechen der Immuntherapie ab Schweregrad 3 nach CTCAE und eine Behandlung mit Kortikosteroiden und bei fehlendem Ansprechen ggf. weiteren immunsuppressiven Medikamenten wie dem Mycophenolatmofetil [REF].\n",
      "\n",
      "No Filter:\n"
     ]
    },
    {
     "data": {
      "text/html": [
       "<div>\n",
       "<style scoped>\n",
       "    .dataframe tbody tr th:only-of-type {\n",
       "        vertical-align: middle;\n",
       "    }\n",
       "\n",
       "    .dataframe tbody tr th {\n",
       "        vertical-align: top;\n",
       "    }\n",
       "\n",
       "    .dataframe thead th {\n",
       "        text-align: right;\n",
       "    }\n",
       "</style>\n",
       "<table border=\"1\" class=\"dataframe\">\n",
       "  <thead>\n",
       "    <tr style=\"text-align: right;\">\n",
       "      <th></th>\n",
       "      <th>document</th>\n",
       "      <th>text</th>\n",
       "      <th>type</th>\n",
       "      <th>start</th>\n",
       "      <th>end</th>\n",
       "      <th>cui</th>\n",
       "      <th>tuis</th>\n",
       "      <th>canonical</th>\n",
       "      <th>linker</th>\n",
       "      <th>confidence</th>\n",
       "    </tr>\n",
       "  </thead>\n",
       "  <tbody>\n",
       "    <tr>\n",
       "      <th>3</th>\n",
       "      <td>07_malignes-melanom_0197_24</td>\n",
       "      <td>CTCAE</td>\n",
       "      <td>Diagnostic</td>\n",
       "      <td>112</td>\n",
       "      <td>117</td>\n",
       "      <td>C5670031</td>\n",
       "      <td>[T170]</td>\n",
       "      <td>CTCAE Version</td>\n",
       "      <td>[ngram, sapbert]</td>\n",
       "      <td>0.066386</td>\n",
       "    </tr>\n",
       "  </tbody>\n",
       "</table>\n",
       "</div>"
      ],
      "text/plain": [
       "                      document   text        type  start  end       cui  \\\n",
       "3  07_malignes-melanom_0197_24  CTCAE  Diagnostic    112  117  C5670031   \n",
       "\n",
       "     tuis      canonical            linker  confidence  \n",
       "3  [T170]  CTCAE Version  [ngram, sapbert]    0.066386  "
      ]
     },
     "metadata": {},
     "output_type": "display_data"
    },
    {
     "name": "stdout",
     "output_type": "stream",
     "text": [
      "Filter:\n"
     ]
    },
    {
     "data": {
      "text/html": [
       "<div>\n",
       "<style scoped>\n",
       "    .dataframe tbody tr th:only-of-type {\n",
       "        vertical-align: middle;\n",
       "    }\n",
       "\n",
       "    .dataframe tbody tr th {\n",
       "        vertical-align: top;\n",
       "    }\n",
       "\n",
       "    .dataframe thead th {\n",
       "        text-align: right;\n",
       "    }\n",
       "</style>\n",
       "<table border=\"1\" class=\"dataframe\">\n",
       "  <thead>\n",
       "    <tr style=\"text-align: right;\">\n",
       "      <th></th>\n",
       "      <th>document</th>\n",
       "      <th>text</th>\n",
       "      <th>type</th>\n",
       "      <th>start</th>\n",
       "      <th>end</th>\n",
       "      <th>cui</th>\n",
       "      <th>tuis</th>\n",
       "      <th>canonical</th>\n",
       "      <th>linker</th>\n",
       "      <th>confidence</th>\n",
       "    </tr>\n",
       "  </thead>\n",
       "  <tbody>\n",
       "    <tr>\n",
       "      <th>3</th>\n",
       "      <td>07_malignes-melanom_0197_24</td>\n",
       "      <td>CTCAE</td>\n",
       "      <td>Diagnostic</td>\n",
       "      <td>112</td>\n",
       "      <td>117</td>\n",
       "      <td>C1516728</td>\n",
       "      <td>[T170]</td>\n",
       "      <td>National Cancer Institute common terminology c...</td>\n",
       "      <td>[ngram, sapbert]</td>\n",
       "      <td>0.068705</td>\n",
       "    </tr>\n",
       "  </tbody>\n",
       "</table>\n",
       "</div>"
      ],
      "text/plain": [
       "                      document   text        type  start  end       cui  \\\n",
       "3  07_malignes-melanom_0197_24  CTCAE  Diagnostic    112  117  C1516728   \n",
       "\n",
       "     tuis                                          canonical  \\\n",
       "3  [T170]  National Cancer Institute common terminology c...   \n",
       "\n",
       "             linker  confidence  \n",
       "3  [ngram, sapbert]    0.068705  "
      ]
     },
     "metadata": {},
     "output_type": "display_data"
    },
    {
     "name": "stdout",
     "output_type": "stream",
     "text": [
      "####\n"
     ]
    },
    {
     "data": {
      "application/vnd.jupyter.widget-view+json": {
       "model_id": "577303f0fe3c4271a55e741c991ed2f6",
       "version_major": 2,
       "version_minor": 0
      },
      "text/plain": [
       "  0%|          | 0/1 [00:00<?, ?it/s]"
      ]
     },
     "metadata": {},
     "output_type": "display_data"
    },
    {
     "data": {
      "application/vnd.jupyter.widget-view+json": {
       "model_id": "40973dbda9c54bdbaed9c1326d4820f2",
       "version_major": 2,
       "version_minor": 0
      },
      "text/plain": [
       "  0%|          | 0/1 [00:00<?, ?it/s]"
      ]
     },
     "metadata": {},
     "output_type": "display_data"
    },
    {
     "data": {
      "application/vnd.jupyter.widget-view+json": {
       "model_id": "d11ee56179e044a4a30355d800a606a9",
       "version_major": 2,
       "version_minor": 0
      },
      "text/plain": [
       "  0%|          | 0/1 [00:00<?, ?it/s]"
      ]
     },
     "metadata": {},
     "output_type": "display_data"
    },
    {
     "data": {
      "application/vnd.jupyter.widget-view+json": {
       "model_id": "6e4c64d644064335a0658b26b616a5b3",
       "version_major": 2,
       "version_minor": 0
      },
      "text/plain": [
       "  0%|          | 0/1 [00:00<?, ?it/s]"
      ]
     },
     "metadata": {},
     "output_type": "display_data"
    },
    {
     "data": {
      "application/vnd.jupyter.widget-view+json": {
       "model_id": "e5c16f70280c4ef58499d594ef334dcf",
       "version_major": 2,
       "version_minor": 0
      },
      "text/plain": [
       "  0%|          | 0/1 [00:00<?, ?it/s]"
      ]
     },
     "metadata": {},
     "output_type": "display_data"
    },
    {
     "data": {
      "application/vnd.jupyter.widget-view+json": {
       "model_id": "8727105419f74b7b81da8cb270e88cf6",
       "version_major": 2,
       "version_minor": 0
      },
      "text/plain": [
       "  0%|          | 0/1 [00:00<?, ?it/s]"
      ]
     },
     "metadata": {},
     "output_type": "display_data"
    },
    {
     "data": {
      "application/vnd.jupyter.widget-view+json": {
       "model_id": "89d97f340e9f4e2a960277b372bbd759",
       "version_major": 2,
       "version_minor": 0
      },
      "text/plain": [
       "  0%|          | 0/1 [00:00<?, ?it/s]"
      ]
     },
     "metadata": {},
     "output_type": "display_data"
    },
    {
     "data": {
      "application/vnd.jupyter.widget-view+json": {
       "model_id": "52396128e3664457aa2dd1c87dc82a73",
       "version_major": 2,
       "version_minor": 0
      },
      "text/plain": [
       "  0%|          | 0/1 [00:00<?, ?it/s]"
      ]
     },
     "metadata": {},
     "output_type": "display_data"
    },
    {
     "name": "stdout",
     "output_type": "stream",
     "text": [
      "Kardiale Nebenwirkungen sind ein seltenes, aber gravierendes Problem unter medikamentösen Tumortherapien.\n",
      "\n",
      "No Filter:\n"
     ]
    },
    {
     "data": {
      "text/html": [
       "<div>\n",
       "<style scoped>\n",
       "    .dataframe tbody tr th:only-of-type {\n",
       "        vertical-align: middle;\n",
       "    }\n",
       "\n",
       "    .dataframe tbody tr th {\n",
       "        vertical-align: top;\n",
       "    }\n",
       "\n",
       "    .dataframe thead th {\n",
       "        text-align: right;\n",
       "    }\n",
       "</style>\n",
       "<table border=\"1\" class=\"dataframe\">\n",
       "  <thead>\n",
       "    <tr style=\"text-align: right;\">\n",
       "      <th></th>\n",
       "      <th>document</th>\n",
       "      <th>text</th>\n",
       "      <th>type</th>\n",
       "      <th>start</th>\n",
       "      <th>end</th>\n",
       "      <th>cui</th>\n",
       "      <th>tuis</th>\n",
       "      <th>canonical</th>\n",
       "      <th>linker</th>\n",
       "      <th>confidence</th>\n",
       "    </tr>\n",
       "  </thead>\n",
       "  <tbody>\n",
       "    <tr>\n",
       "      <th>3</th>\n",
       "      <td>07_malignes-melanom_0207_2</td>\n",
       "      <td>medikamentösen Tumortherapien</td>\n",
       "      <td>Therapeutic</td>\n",
       "      <td>75</td>\n",
       "      <td>104</td>\n",
       "      <td>C0854654</td>\n",
       "      <td>[T061]</td>\n",
       "      <td>Tumour vaccine therapy</td>\n",
       "      <td>[ngram, sapbert]</td>\n",
       "      <td>0.068054</td>\n",
       "    </tr>\n",
       "  </tbody>\n",
       "</table>\n",
       "</div>"
      ],
      "text/plain": [
       "                     document                           text         type  \\\n",
       "3  07_malignes-melanom_0207_2  medikamentösen Tumortherapien  Therapeutic   \n",
       "\n",
       "   start  end       cui    tuis               canonical            linker  \\\n",
       "3     75  104  C0854654  [T061]  Tumour vaccine therapy  [ngram, sapbert]   \n",
       "\n",
       "   confidence  \n",
       "3    0.068054  "
      ]
     },
     "metadata": {},
     "output_type": "display_data"
    },
    {
     "name": "stdout",
     "output_type": "stream",
     "text": [
      "Filter:\n"
     ]
    },
    {
     "data": {
      "text/html": [
       "<div>\n",
       "<style scoped>\n",
       "    .dataframe tbody tr th:only-of-type {\n",
       "        vertical-align: middle;\n",
       "    }\n",
       "\n",
       "    .dataframe tbody tr th {\n",
       "        vertical-align: top;\n",
       "    }\n",
       "\n",
       "    .dataframe thead th {\n",
       "        text-align: right;\n",
       "    }\n",
       "</style>\n",
       "<table border=\"1\" class=\"dataframe\">\n",
       "  <thead>\n",
       "    <tr style=\"text-align: right;\">\n",
       "      <th></th>\n",
       "      <th>document</th>\n",
       "      <th>text</th>\n",
       "      <th>type</th>\n",
       "      <th>start</th>\n",
       "      <th>end</th>\n",
       "      <th>cui</th>\n",
       "      <th>tuis</th>\n",
       "      <th>canonical</th>\n",
       "      <th>linker</th>\n",
       "      <th>confidence</th>\n",
       "    </tr>\n",
       "  </thead>\n",
       "  <tbody>\n",
       "    <tr>\n",
       "      <th>3</th>\n",
       "      <td>07_malignes-melanom_0207_2</td>\n",
       "      <td>medikamentösen Tumortherapien</td>\n",
       "      <td>Therapeutic</td>\n",
       "      <td>75</td>\n",
       "      <td>104</td>\n",
       "      <td>C0013216</td>\n",
       "      <td>[T061]</td>\n",
       "      <td>Arzneimitteltherapie</td>\n",
       "      <td>[ngram, sapbert]</td>\n",
       "      <td>0.07054</td>\n",
       "    </tr>\n",
       "  </tbody>\n",
       "</table>\n",
       "</div>"
      ],
      "text/plain": [
       "                     document                           text         type  \\\n",
       "3  07_malignes-melanom_0207_2  medikamentösen Tumortherapien  Therapeutic   \n",
       "\n",
       "   start  end       cui    tuis             canonical            linker  \\\n",
       "3     75  104  C0013216  [T061]  Arzneimitteltherapie  [ngram, sapbert]   \n",
       "\n",
       "   confidence  \n",
       "3     0.07054  "
      ]
     },
     "metadata": {},
     "output_type": "display_data"
    },
    {
     "name": "stdout",
     "output_type": "stream",
     "text": [
      "####\n"
     ]
    },
    {
     "data": {
      "application/vnd.jupyter.widget-view+json": {
       "model_id": "84045f44bde0499399fc4ef74b322c56",
       "version_major": 2,
       "version_minor": 0
      },
      "text/plain": [
       "  0%|          | 0/1 [00:00<?, ?it/s]"
      ]
     },
     "metadata": {},
     "output_type": "display_data"
    },
    {
     "data": {
      "application/vnd.jupyter.widget-view+json": {
       "model_id": "8543ce8bef5b40a2aba354f095f16efa",
       "version_major": 2,
       "version_minor": 0
      },
      "text/plain": [
       "  0%|          | 0/1 [00:00<?, ?it/s]"
      ]
     },
     "metadata": {},
     "output_type": "display_data"
    },
    {
     "name": "stdout",
     "output_type": "stream",
     "text": [
      "Sie treten unter zielgerichteten und Immuntherapien auf und unterscheiden sich in Ihrem Spektrum und Ihrer Therapiebedürftigkeit.\n",
      "\n",
      "No Filter:\n"
     ]
    },
    {
     "data": {
      "text/html": [
       "<div>\n",
       "<style scoped>\n",
       "    .dataframe tbody tr th:only-of-type {\n",
       "        vertical-align: middle;\n",
       "    }\n",
       "\n",
       "    .dataframe tbody tr th {\n",
       "        vertical-align: top;\n",
       "    }\n",
       "\n",
       "    .dataframe thead th {\n",
       "        text-align: right;\n",
       "    }\n",
       "</style>\n",
       "<table border=\"1\" class=\"dataframe\">\n",
       "  <thead>\n",
       "    <tr style=\"text-align: right;\">\n",
       "      <th></th>\n",
       "      <th>document</th>\n",
       "      <th>text</th>\n",
       "      <th>type</th>\n",
       "      <th>start</th>\n",
       "      <th>end</th>\n",
       "      <th>cui</th>\n",
       "      <th>tuis</th>\n",
       "      <th>canonical</th>\n",
       "      <th>linker</th>\n",
       "      <th>confidence</th>\n",
       "    </tr>\n",
       "  </thead>\n",
       "  <tbody>\n",
       "    <tr>\n",
       "      <th>0</th>\n",
       "      <td>07_malignes-melanom_0207_3</td>\n",
       "      <td>zielgerichteten</td>\n",
       "      <td>Therapeutic</td>\n",
       "      <td>17</td>\n",
       "      <td>32</td>\n",
       "      <td>C0599894</td>\n",
       "      <td>[T043]</td>\n",
       "      <td>Targeted</td>\n",
       "      <td>[sapbert]</td>\n",
       "      <td>0.065313</td>\n",
       "    </tr>\n",
       "  </tbody>\n",
       "</table>\n",
       "</div>"
      ],
      "text/plain": [
       "                     document             text         type  start  end  \\\n",
       "0  07_malignes-melanom_0207_3  zielgerichteten  Therapeutic     17   32   \n",
       "\n",
       "        cui    tuis canonical     linker  confidence  \n",
       "0  C0599894  [T043]  Targeted  [sapbert]    0.065313  "
      ]
     },
     "metadata": {},
     "output_type": "display_data"
    },
    {
     "name": "stdout",
     "output_type": "stream",
     "text": [
      "Filter:\n"
     ]
    },
    {
     "data": {
      "text/html": [
       "<div>\n",
       "<style scoped>\n",
       "    .dataframe tbody tr th:only-of-type {\n",
       "        vertical-align: middle;\n",
       "    }\n",
       "\n",
       "    .dataframe tbody tr th {\n",
       "        vertical-align: top;\n",
       "    }\n",
       "\n",
       "    .dataframe thead th {\n",
       "        text-align: right;\n",
       "    }\n",
       "</style>\n",
       "<table border=\"1\" class=\"dataframe\">\n",
       "  <thead>\n",
       "    <tr style=\"text-align: right;\">\n",
       "      <th></th>\n",
       "      <th>document</th>\n",
       "      <th>text</th>\n",
       "      <th>type</th>\n",
       "      <th>start</th>\n",
       "      <th>end</th>\n",
       "      <th>cui</th>\n",
       "      <th>tuis</th>\n",
       "      <th>canonical</th>\n",
       "      <th>linker</th>\n",
       "      <th>confidence</th>\n",
       "    </tr>\n",
       "  </thead>\n",
       "  <tbody>\n",
       "    <tr>\n",
       "      <th>0</th>\n",
       "      <td>07_malignes-melanom_0207_3</td>\n",
       "      <td>zielgerichteten</td>\n",
       "      <td>Therapeutic</td>\n",
       "      <td>17</td>\n",
       "      <td>32</td>\n",
       "      <td>C2699893</td>\n",
       "      <td>[T061]</td>\n",
       "      <td>Molecular Targeted Therapy</td>\n",
       "      <td>[ngram]</td>\n",
       "      <td>0.070853</td>\n",
       "    </tr>\n",
       "  </tbody>\n",
       "</table>\n",
       "</div>"
      ],
      "text/plain": [
       "                     document             text         type  start  end  \\\n",
       "0  07_malignes-melanom_0207_3  zielgerichteten  Therapeutic     17   32   \n",
       "\n",
       "        cui    tuis                   canonical   linker  confidence  \n",
       "0  C2699893  [T061]  Molecular Targeted Therapy  [ngram]    0.070853  "
      ]
     },
     "metadata": {},
     "output_type": "display_data"
    },
    {
     "name": "stdout",
     "output_type": "stream",
     "text": [
      "####\n"
     ]
    },
    {
     "data": {
      "application/vnd.jupyter.widget-view+json": {
       "model_id": "d0c3ebc51991494b8be5d5572ab3cb2c",
       "version_major": 2,
       "version_minor": 0
      },
      "text/plain": [
       "  0%|          | 0/1 [00:00<?, ?it/s]"
      ]
     },
     "metadata": {},
     "output_type": "display_data"
    },
    {
     "data": {
      "application/vnd.jupyter.widget-view+json": {
       "model_id": "08d1f777ccb94157b5e8c9f7fb73f5ac",
       "version_major": 2,
       "version_minor": 0
      },
      "text/plain": [
       "  0%|          | 0/1 [00:00<?, ?it/s]"
      ]
     },
     "metadata": {},
     "output_type": "display_data"
    },
    {
     "data": {
      "application/vnd.jupyter.widget-view+json": {
       "model_id": "c3336301229f4dcfbc003f800fd03558",
       "version_major": 2,
       "version_minor": 0
      },
      "text/plain": [
       "  0%|          | 0/1 [00:00<?, ?it/s]"
      ]
     },
     "metadata": {},
     "output_type": "display_data"
    },
    {
     "data": {
      "application/vnd.jupyter.widget-view+json": {
       "model_id": "32e513f072d84dd88f561a9ad5ea0f4e",
       "version_major": 2,
       "version_minor": 0
      },
      "text/plain": [
       "  0%|          | 0/1 [00:00<?, ?it/s]"
      ]
     },
     "metadata": {},
     "output_type": "display_data"
    },
    {
     "data": {
      "application/vnd.jupyter.widget-view+json": {
       "model_id": "c21672fed65649d485812e44977d981f",
       "version_major": 2,
       "version_minor": 0
      },
      "text/plain": [
       "  0%|          | 0/1 [00:00<?, ?it/s]"
      ]
     },
     "metadata": {},
     "output_type": "display_data"
    },
    {
     "data": {
      "application/vnd.jupyter.widget-view+json": {
       "model_id": "b8188b5531ba4a79a0fd65fbe5e88015",
       "version_major": 2,
       "version_minor": 0
      },
      "text/plain": [
       "  0%|          | 0/1 [00:00<?, ?it/s]"
      ]
     },
     "metadata": {},
     "output_type": "display_data"
    },
    {
     "data": {
      "application/vnd.jupyter.widget-view+json": {
       "model_id": "f1bb05b7964d41a287f9a883c03372f4",
       "version_major": 2,
       "version_minor": 0
      },
      "text/plain": [
       "  0%|          | 0/1 [00:00<?, ?it/s]"
      ]
     },
     "metadata": {},
     "output_type": "display_data"
    },
    {
     "data": {
      "application/vnd.jupyter.widget-view+json": {
       "model_id": "55294d6412b64586b091850d5b750b65",
       "version_major": 2,
       "version_minor": 0
      },
      "text/plain": [
       "  0%|          | 0/1 [00:00<?, ?it/s]"
      ]
     },
     "metadata": {},
     "output_type": "display_data"
    },
    {
     "data": {
      "application/vnd.jupyter.widget-view+json": {
       "model_id": "b4ab64ff71724f7893526e75640f05c0",
       "version_major": 2,
       "version_minor": 0
      },
      "text/plain": [
       "  0%|          | 0/1 [00:00<?, ?it/s]"
      ]
     },
     "metadata": {},
     "output_type": "display_data"
    },
    {
     "data": {
      "application/vnd.jupyter.widget-view+json": {
       "model_id": "ecaf3bb94f1b4e66bed739608e0fc632",
       "version_major": 2,
       "version_minor": 0
      },
      "text/plain": [
       "  0%|          | 0/1 [00:00<?, ?it/s]"
      ]
     },
     "metadata": {},
     "output_type": "display_data"
    },
    {
     "data": {
      "application/vnd.jupyter.widget-view+json": {
       "model_id": "6da93809c40b4c1d85344ca9d15b3cbe",
       "version_major": 2,
       "version_minor": 0
      },
      "text/plain": [
       "  0%|          | 0/1 [00:00<?, ?it/s]"
      ]
     },
     "metadata": {},
     "output_type": "display_data"
    },
    {
     "data": {
      "application/vnd.jupyter.widget-view+json": {
       "model_id": "cd3b9017da914f148011c2735d812684",
       "version_major": 2,
       "version_minor": 0
      },
      "text/plain": [
       "  0%|          | 0/1 [00:00<?, ?it/s]"
      ]
     },
     "metadata": {},
     "output_type": "display_data"
    },
    {
     "data": {
      "application/vnd.jupyter.widget-view+json": {
       "model_id": "34fa267d416841088f35255a23e1af21",
       "version_major": 2,
       "version_minor": 0
      },
      "text/plain": [
       "  0%|          | 0/1 [00:00<?, ?it/s]"
      ]
     },
     "metadata": {},
     "output_type": "display_data"
    },
    {
     "data": {
      "application/vnd.jupyter.widget-view+json": {
       "model_id": "ba2773d5d7f9490aace7eff8811db8b8",
       "version_major": 2,
       "version_minor": 0
      },
      "text/plain": [
       "  0%|          | 0/1 [00:00<?, ?it/s]"
      ]
     },
     "metadata": {},
     "output_type": "display_data"
    },
    {
     "data": {
      "application/vnd.jupyter.widget-view+json": {
       "model_id": "88e3510a80904b48b92d65310bc4b90f",
       "version_major": 2,
       "version_minor": 0
      },
      "text/plain": [
       "  0%|          | 0/1 [00:00<?, ?it/s]"
      ]
     },
     "metadata": {},
     "output_type": "display_data"
    },
    {
     "data": {
      "application/vnd.jupyter.widget-view+json": {
       "model_id": "9ccdef4bea3b43e6af4856c2f5782127",
       "version_major": 2,
       "version_minor": 0
      },
      "text/plain": [
       "  0%|          | 0/1 [00:00<?, ?it/s]"
      ]
     },
     "metadata": {},
     "output_type": "display_data"
    },
    {
     "data": {
      "application/vnd.jupyter.widget-view+json": {
       "model_id": "9ee2d346139742c9986413dce8f0db13",
       "version_major": 2,
       "version_minor": 0
      },
      "text/plain": [
       "  0%|          | 0/1 [00:00<?, ?it/s]"
      ]
     },
     "metadata": {},
     "output_type": "display_data"
    },
    {
     "data": {
      "application/vnd.jupyter.widget-view+json": {
       "model_id": "d05afbe7f2ed4067b0b1880e57460896",
       "version_major": 2,
       "version_minor": 0
      },
      "text/plain": [
       "  0%|          | 0/1 [00:00<?, ?it/s]"
      ]
     },
     "metadata": {},
     "output_type": "display_data"
    },
    {
     "data": {
      "application/vnd.jupyter.widget-view+json": {
       "model_id": "18a18681aa7d4f2bad1561532c1ac8b7",
       "version_major": 2,
       "version_minor": 0
      },
      "text/plain": [
       "  0%|          | 0/1 [00:00<?, ?it/s]"
      ]
     },
     "metadata": {},
     "output_type": "display_data"
    },
    {
     "data": {
      "application/vnd.jupyter.widget-view+json": {
       "model_id": "14243f33b0e743cab511ca4165e5341b",
       "version_major": 2,
       "version_minor": 0
      },
      "text/plain": [
       "  0%|          | 0/1 [00:00<?, ?it/s]"
      ]
     },
     "metadata": {},
     "output_type": "display_data"
    },
    {
     "data": {
      "application/vnd.jupyter.widget-view+json": {
       "model_id": "83cfcc0c29e24e529d806f3533de5a30",
       "version_major": 2,
       "version_minor": 0
      },
      "text/plain": [
       "  0%|          | 0/1 [00:00<?, ?it/s]"
      ]
     },
     "metadata": {},
     "output_type": "display_data"
    },
    {
     "data": {
      "application/vnd.jupyter.widget-view+json": {
       "model_id": "0e19470fe8fb4d60a6752525c18df44b",
       "version_major": 2,
       "version_minor": 0
      },
      "text/plain": [
       "  0%|          | 0/1 [00:00<?, ?it/s]"
      ]
     },
     "metadata": {},
     "output_type": "display_data"
    },
    {
     "data": {
      "application/vnd.jupyter.widget-view+json": {
       "model_id": "9ca5536e07184043a3a58678daeeadb6",
       "version_major": 2,
       "version_minor": 0
      },
      "text/plain": [
       "  0%|          | 0/1 [00:00<?, ?it/s]"
      ]
     },
     "metadata": {},
     "output_type": "display_data"
    },
    {
     "data": {
      "application/vnd.jupyter.widget-view+json": {
       "model_id": "548e9376fa4a4c628a2b33f040021030",
       "version_major": 2,
       "version_minor": 0
      },
      "text/plain": [
       "  0%|          | 0/1 [00:00<?, ?it/s]"
      ]
     },
     "metadata": {},
     "output_type": "display_data"
    },
    {
     "data": {
      "application/vnd.jupyter.widget-view+json": {
       "model_id": "04cf94b85b18445e9c4591344b9d339a",
       "version_major": 2,
       "version_minor": 0
      },
      "text/plain": [
       "  0%|          | 0/1 [00:00<?, ?it/s]"
      ]
     },
     "metadata": {},
     "output_type": "display_data"
    },
    {
     "data": {
      "application/vnd.jupyter.widget-view+json": {
       "model_id": "6afe08f8c0564bb690d7bffc6185359e",
       "version_major": 2,
       "version_minor": 0
      },
      "text/plain": [
       "  0%|          | 0/1 [00:00<?, ?it/s]"
      ]
     },
     "metadata": {},
     "output_type": "display_data"
    },
    {
     "data": {
      "application/vnd.jupyter.widget-view+json": {
       "model_id": "fd0f5a07163743e1b75237c8b53c1427",
       "version_major": 2,
       "version_minor": 0
      },
      "text/plain": [
       "  0%|          | 0/1 [00:00<?, ?it/s]"
      ]
     },
     "metadata": {},
     "output_type": "display_data"
    },
    {
     "data": {
      "application/vnd.jupyter.widget-view+json": {
       "model_id": "06a05a469c7a46eeaf936db9045184ef",
       "version_major": 2,
       "version_minor": 0
      },
      "text/plain": [
       "  0%|          | 0/1 [00:00<?, ?it/s]"
      ]
     },
     "metadata": {},
     "output_type": "display_data"
    },
    {
     "data": {
      "application/vnd.jupyter.widget-view+json": {
       "model_id": "51441c237c2244e2bc13a99e7e3e4574",
       "version_major": 2,
       "version_minor": 0
      },
      "text/plain": [
       "  0%|          | 0/1 [00:00<?, ?it/s]"
      ]
     },
     "metadata": {},
     "output_type": "display_data"
    },
    {
     "data": {
      "application/vnd.jupyter.widget-view+json": {
       "model_id": "af87c53577814f60b2f7af3551c23823",
       "version_major": 2,
       "version_minor": 0
      },
      "text/plain": [
       "  0%|          | 0/1 [00:00<?, ?it/s]"
      ]
     },
     "metadata": {},
     "output_type": "display_data"
    },
    {
     "data": {
      "application/vnd.jupyter.widget-view+json": {
       "model_id": "4a8c56cc692047ea956399995335bef3",
       "version_major": 2,
       "version_minor": 0
      },
      "text/plain": [
       "  0%|          | 0/1 [00:00<?, ?it/s]"
      ]
     },
     "metadata": {},
     "output_type": "display_data"
    },
    {
     "data": {
      "application/vnd.jupyter.widget-view+json": {
       "model_id": "09b0998deb0541c3a572c3b99e31795d",
       "version_major": 2,
       "version_minor": 0
      },
      "text/plain": [
       "  0%|          | 0/1 [00:00<?, ?it/s]"
      ]
     },
     "metadata": {},
     "output_type": "display_data"
    },
    {
     "data": {
      "application/vnd.jupyter.widget-view+json": {
       "model_id": "948c39a398544077bd5c26049553c362",
       "version_major": 2,
       "version_minor": 0
      },
      "text/plain": [
       "  0%|          | 0/1 [00:00<?, ?it/s]"
      ]
     },
     "metadata": {},
     "output_type": "display_data"
    },
    {
     "data": {
      "application/vnd.jupyter.widget-view+json": {
       "model_id": "4502e282511042dda1b12ecefed69cef",
       "version_major": 2,
       "version_minor": 0
      },
      "text/plain": [
       "  0%|          | 0/1 [00:00<?, ?it/s]"
      ]
     },
     "metadata": {},
     "output_type": "display_data"
    },
    {
     "data": {
      "application/vnd.jupyter.widget-view+json": {
       "model_id": "8c1701951b5a476a86d353fcdd32ce2e",
       "version_major": 2,
       "version_minor": 0
      },
      "text/plain": [
       "  0%|          | 0/1 [00:00<?, ?it/s]"
      ]
     },
     "metadata": {},
     "output_type": "display_data"
    },
    {
     "data": {
      "application/vnd.jupyter.widget-view+json": {
       "model_id": "1506325a46b44f6095548ad72309244e",
       "version_major": 2,
       "version_minor": 0
      },
      "text/plain": [
       "  0%|          | 0/1 [00:00<?, ?it/s]"
      ]
     },
     "metadata": {},
     "output_type": "display_data"
    },
    {
     "data": {
      "application/vnd.jupyter.widget-view+json": {
       "model_id": "9507340f17924099bdbf8a3057f0de27",
       "version_major": 2,
       "version_minor": 0
      },
      "text/plain": [
       "  0%|          | 0/1 [00:00<?, ?it/s]"
      ]
     },
     "metadata": {},
     "output_type": "display_data"
    },
    {
     "data": {
      "application/vnd.jupyter.widget-view+json": {
       "model_id": "d85b99a570524b1abd40e9d63c9dfaa9",
       "version_major": 2,
       "version_minor": 0
      },
      "text/plain": [
       "  0%|          | 0/1 [00:00<?, ?it/s]"
      ]
     },
     "metadata": {},
     "output_type": "display_data"
    },
    {
     "data": {
      "application/vnd.jupyter.widget-view+json": {
       "model_id": "c3abbce7332544e5920e1c7e1811419f",
       "version_major": 2,
       "version_minor": 0
      },
      "text/plain": [
       "  0%|          | 0/1 [00:00<?, ?it/s]"
      ]
     },
     "metadata": {},
     "output_type": "display_data"
    },
    {
     "data": {
      "application/vnd.jupyter.widget-view+json": {
       "model_id": "1805cc80102b47faa862d090829ca2d4",
       "version_major": 2,
       "version_minor": 0
      },
      "text/plain": [
       "  0%|          | 0/1 [00:00<?, ?it/s]"
      ]
     },
     "metadata": {},
     "output_type": "display_data"
    },
    {
     "data": {
      "application/vnd.jupyter.widget-view+json": {
       "model_id": "c6515562dc494bbc8bec7c7bb6f9e89b",
       "version_major": 2,
       "version_minor": 0
      },
      "text/plain": [
       "  0%|          | 0/1 [00:00<?, ?it/s]"
      ]
     },
     "metadata": {},
     "output_type": "display_data"
    },
    {
     "data": {
      "application/vnd.jupyter.widget-view+json": {
       "model_id": "2563fe503b8b4ff7bfd7a3443a5128ac",
       "version_major": 2,
       "version_minor": 0
      },
      "text/plain": [
       "  0%|          | 0/1 [00:00<?, ?it/s]"
      ]
     },
     "metadata": {},
     "output_type": "display_data"
    },
    {
     "data": {
      "application/vnd.jupyter.widget-view+json": {
       "model_id": "5423b397003a469597f40d380af93c58",
       "version_major": 2,
       "version_minor": 0
      },
      "text/plain": [
       "  0%|          | 0/1 [00:00<?, ?it/s]"
      ]
     },
     "metadata": {},
     "output_type": "display_data"
    },
    {
     "data": {
      "application/vnd.jupyter.widget-view+json": {
       "model_id": "6657f238edde49719fad63b8fd32f3e1",
       "version_major": 2,
       "version_minor": 0
      },
      "text/plain": [
       "  0%|          | 0/1 [00:00<?, ?it/s]"
      ]
     },
     "metadata": {},
     "output_type": "display_data"
    },
    {
     "data": {
      "application/vnd.jupyter.widget-view+json": {
       "model_id": "f05425fdbbcc43c188e41ed404a958ca",
       "version_major": 2,
       "version_minor": 0
      },
      "text/plain": [
       "  0%|          | 0/1 [00:00<?, ?it/s]"
      ]
     },
     "metadata": {},
     "output_type": "display_data"
    },
    {
     "data": {
      "application/vnd.jupyter.widget-view+json": {
       "model_id": "437b7e433a57481c86f9d7a76efa00c2",
       "version_major": 2,
       "version_minor": 0
      },
      "text/plain": [
       "  0%|          | 0/1 [00:00<?, ?it/s]"
      ]
     },
     "metadata": {},
     "output_type": "display_data"
    },
    {
     "data": {
      "application/vnd.jupyter.widget-view+json": {
       "model_id": "fe6ec3c18ea04a7192376ca9850ddfcd",
       "version_major": 2,
       "version_minor": 0
      },
      "text/plain": [
       "  0%|          | 0/1 [00:00<?, ?it/s]"
      ]
     },
     "metadata": {},
     "output_type": "display_data"
    },
    {
     "data": {
      "application/vnd.jupyter.widget-view+json": {
       "model_id": "cd4f1f4306e046119a67523a3f13e778",
       "version_major": 2,
       "version_minor": 0
      },
      "text/plain": [
       "  0%|          | 0/1 [00:00<?, ?it/s]"
      ]
     },
     "metadata": {},
     "output_type": "display_data"
    },
    {
     "data": {
      "application/vnd.jupyter.widget-view+json": {
       "model_id": "a7d03dc75c384118a5c561c268df4466",
       "version_major": 2,
       "version_minor": 0
      },
      "text/plain": [
       "  0%|          | 0/1 [00:00<?, ?it/s]"
      ]
     },
     "metadata": {},
     "output_type": "display_data"
    },
    {
     "data": {
      "application/vnd.jupyter.widget-view+json": {
       "model_id": "b0af9d1fb8d84b3d853a8b5dc7331946",
       "version_major": 2,
       "version_minor": 0
      },
      "text/plain": [
       "  0%|          | 0/1 [00:00<?, ?it/s]"
      ]
     },
     "metadata": {},
     "output_type": "display_data"
    },
    {
     "data": {
      "application/vnd.jupyter.widget-view+json": {
       "model_id": "bbb2ae97670b4c7cbd84225c547d7511",
       "version_major": 2,
       "version_minor": 0
      },
      "text/plain": [
       "  0%|          | 0/1 [00:00<?, ?it/s]"
      ]
     },
     "metadata": {},
     "output_type": "display_data"
    },
    {
     "data": {
      "application/vnd.jupyter.widget-view+json": {
       "model_id": "645bbd2ce497473e9d6902b0a4b6fa92",
       "version_major": 2,
       "version_minor": 0
      },
      "text/plain": [
       "  0%|          | 0/1 [00:00<?, ?it/s]"
      ]
     },
     "metadata": {},
     "output_type": "display_data"
    },
    {
     "name": "stdout",
     "output_type": "stream",
     "text": [
      "Unter der Immuntherapie können lebensgefährliche kardiale Nebenwirkungen auftreten, die ein schnelles konsequentes Vorgehen inklusive symptomatischer medizinischer Intervention ggf. auf der Intensivstation erfordern können [REF].\n",
      "\n",
      "No Filter:\n"
     ]
    },
    {
     "data": {
      "text/html": [
       "<div>\n",
       "<style scoped>\n",
       "    .dataframe tbody tr th:only-of-type {\n",
       "        vertical-align: middle;\n",
       "    }\n",
       "\n",
       "    .dataframe tbody tr th {\n",
       "        vertical-align: top;\n",
       "    }\n",
       "\n",
       "    .dataframe thead th {\n",
       "        text-align: right;\n",
       "    }\n",
       "</style>\n",
       "<table border=\"1\" class=\"dataframe\">\n",
       "  <thead>\n",
       "    <tr style=\"text-align: right;\">\n",
       "      <th></th>\n",
       "      <th>document</th>\n",
       "      <th>text</th>\n",
       "      <th>type</th>\n",
       "      <th>start</th>\n",
       "      <th>end</th>\n",
       "      <th>cui</th>\n",
       "      <th>tuis</th>\n",
       "      <th>canonical</th>\n",
       "      <th>linker</th>\n",
       "      <th>confidence</th>\n",
       "    </tr>\n",
       "  </thead>\n",
       "  <tbody>\n",
       "    <tr>\n",
       "      <th>2</th>\n",
       "      <td>07_malignes-melanom_0207_29</td>\n",
       "      <td>schnelles konsequentes Vorgehen</td>\n",
       "      <td>Therapeutic</td>\n",
       "      <td>92</td>\n",
       "      <td>123</td>\n",
       "      <td>C0220813</td>\n",
       "      <td>[T089]</td>\n",
       "      <td>court decisions</td>\n",
       "      <td>[sapbert]</td>\n",
       "      <td>0.111342</td>\n",
       "    </tr>\n",
       "  </tbody>\n",
       "</table>\n",
       "</div>"
      ],
      "text/plain": [
       "                      document                             text         type  \\\n",
       "2  07_malignes-melanom_0207_29  schnelles konsequentes Vorgehen  Therapeutic   \n",
       "\n",
       "   start  end       cui    tuis        canonical     linker  confidence  \n",
       "2     92  123  C0220813  [T089]  court decisions  [sapbert]    0.111342  "
      ]
     },
     "metadata": {},
     "output_type": "display_data"
    },
    {
     "name": "stdout",
     "output_type": "stream",
     "text": [
      "Filter:\n"
     ]
    },
    {
     "data": {
      "text/html": [
       "<div>\n",
       "<style scoped>\n",
       "    .dataframe tbody tr th:only-of-type {\n",
       "        vertical-align: middle;\n",
       "    }\n",
       "\n",
       "    .dataframe tbody tr th {\n",
       "        vertical-align: top;\n",
       "    }\n",
       "\n",
       "    .dataframe thead th {\n",
       "        text-align: right;\n",
       "    }\n",
       "</style>\n",
       "<table border=\"1\" class=\"dataframe\">\n",
       "  <thead>\n",
       "    <tr style=\"text-align: right;\">\n",
       "      <th></th>\n",
       "      <th>document</th>\n",
       "      <th>text</th>\n",
       "      <th>type</th>\n",
       "      <th>start</th>\n",
       "      <th>end</th>\n",
       "      <th>cui</th>\n",
       "      <th>tuis</th>\n",
       "      <th>canonical</th>\n",
       "      <th>linker</th>\n",
       "      <th>confidence</th>\n",
       "    </tr>\n",
       "  </thead>\n",
       "  <tbody>\n",
       "    <tr>\n",
       "      <th>2</th>\n",
       "      <td>07_malignes-melanom_0207_29</td>\n",
       "      <td>schnelles konsequentes Vorgehen</td>\n",
       "      <td>Therapeutic</td>\n",
       "      <td>92</td>\n",
       "      <td>123</td>\n",
       "      <td>C4038769</td>\n",
       "      <td>[T061]</td>\n",
       "      <td>Rapid extrication</td>\n",
       "      <td>[sapbert]</td>\n",
       "      <td>0.064276</td>\n",
       "    </tr>\n",
       "  </tbody>\n",
       "</table>\n",
       "</div>"
      ],
      "text/plain": [
       "                      document                             text         type  \\\n",
       "2  07_malignes-melanom_0207_29  schnelles konsequentes Vorgehen  Therapeutic   \n",
       "\n",
       "   start  end       cui    tuis          canonical     linker  confidence  \n",
       "2     92  123  C4038769  [T061]  Rapid extrication  [sapbert]    0.064276  "
      ]
     },
     "metadata": {},
     "output_type": "display_data"
    },
    {
     "name": "stdout",
     "output_type": "stream",
     "text": [
      "####\n"
     ]
    },
    {
     "data": {
      "application/vnd.jupyter.widget-view+json": {
       "model_id": "3996f92ff0e847df910c415662c6a7be",
       "version_major": 2,
       "version_minor": 0
      },
      "text/plain": [
       "  0%|          | 0/1 [00:00<?, ?it/s]"
      ]
     },
     "metadata": {},
     "output_type": "display_data"
    },
    {
     "data": {
      "application/vnd.jupyter.widget-view+json": {
       "model_id": "72efce18de414b5fb938e3529f9c8395",
       "version_major": 2,
       "version_minor": 0
      },
      "text/plain": [
       "  0%|          | 0/1 [00:00<?, ?it/s]"
      ]
     },
     "metadata": {},
     "output_type": "display_data"
    },
    {
     "data": {
      "application/vnd.jupyter.widget-view+json": {
       "model_id": "c993e1e71baa423ca8f54841f57271da",
       "version_major": 2,
       "version_minor": 0
      },
      "text/plain": [
       "  0%|          | 0/1 [00:00<?, ?it/s]"
      ]
     },
     "metadata": {},
     "output_type": "display_data"
    },
    {
     "data": {
      "application/vnd.jupyter.widget-view+json": {
       "model_id": "7f1e6e52ffdf406fa8de943955ffd6b4",
       "version_major": 2,
       "version_minor": 0
      },
      "text/plain": [
       "  0%|          | 0/1 [00:00<?, ?it/s]"
      ]
     },
     "metadata": {},
     "output_type": "display_data"
    },
    {
     "data": {
      "application/vnd.jupyter.widget-view+json": {
       "model_id": "dbafb62649a040eeb87ac1918aa03316",
       "version_major": 2,
       "version_minor": 0
      },
      "text/plain": [
       "  0%|          | 0/1 [00:00<?, ?it/s]"
      ]
     },
     "metadata": {},
     "output_type": "display_data"
    },
    {
     "data": {
      "application/vnd.jupyter.widget-view+json": {
       "model_id": "15444ad9c016409ca11f9372d5ab746c",
       "version_major": 2,
       "version_minor": 0
      },
      "text/plain": [
       "  0%|          | 0/1 [00:00<?, ?it/s]"
      ]
     },
     "metadata": {},
     "output_type": "display_data"
    },
    {
     "data": {
      "application/vnd.jupyter.widget-view+json": {
       "model_id": "2bab6a995d19471da3546cff275695b6",
       "version_major": 2,
       "version_minor": 0
      },
      "text/plain": [
       "  0%|          | 0/1 [00:00<?, ?it/s]"
      ]
     },
     "metadata": {},
     "output_type": "display_data"
    },
    {
     "data": {
      "application/vnd.jupyter.widget-view+json": {
       "model_id": "afd523fe4fac4ca398251c507239db23",
       "version_major": 2,
       "version_minor": 0
      },
      "text/plain": [
       "  0%|          | 0/1 [00:00<?, ?it/s]"
      ]
     },
     "metadata": {},
     "output_type": "display_data"
    },
    {
     "data": {
      "application/vnd.jupyter.widget-view+json": {
       "model_id": "4b2dc51a4f3f4c509e01ae64973aba50",
       "version_major": 2,
       "version_minor": 0
      },
      "text/plain": [
       "  0%|          | 0/1 [00:00<?, ?it/s]"
      ]
     },
     "metadata": {},
     "output_type": "display_data"
    },
    {
     "data": {
      "application/vnd.jupyter.widget-view+json": {
       "model_id": "f2f544d016914091a63bbd12ea9d49ed",
       "version_major": 2,
       "version_minor": 0
      },
      "text/plain": [
       "  0%|          | 0/1 [00:00<?, ?it/s]"
      ]
     },
     "metadata": {},
     "output_type": "display_data"
    },
    {
     "data": {
      "application/vnd.jupyter.widget-view+json": {
       "model_id": "fa4479f6be5a4d6682b3a3218a4f2773",
       "version_major": 2,
       "version_minor": 0
      },
      "text/plain": [
       "  0%|          | 0/1 [00:00<?, ?it/s]"
      ]
     },
     "metadata": {},
     "output_type": "display_data"
    },
    {
     "data": {
      "application/vnd.jupyter.widget-view+json": {
       "model_id": "37ffb471e246491ea8839eee23471fe4",
       "version_major": 2,
       "version_minor": 0
      },
      "text/plain": [
       "  0%|          | 0/1 [00:00<?, ?it/s]"
      ]
     },
     "metadata": {},
     "output_type": "display_data"
    },
    {
     "data": {
      "application/vnd.jupyter.widget-view+json": {
       "model_id": "d5d0b515736b42c485943f31124406b9",
       "version_major": 2,
       "version_minor": 0
      },
      "text/plain": [
       "  0%|          | 0/1 [00:00<?, ?it/s]"
      ]
     },
     "metadata": {},
     "output_type": "display_data"
    },
    {
     "data": {
      "application/vnd.jupyter.widget-view+json": {
       "model_id": "c1f0fcb208504836aa7e1cb093af21d1",
       "version_major": 2,
       "version_minor": 0
      },
      "text/plain": [
       "  0%|          | 0/1 [00:00<?, ?it/s]"
      ]
     },
     "metadata": {},
     "output_type": "display_data"
    },
    {
     "data": {
      "application/vnd.jupyter.widget-view+json": {
       "model_id": "0f82580b9a0742c59b9c650f21112162",
       "version_major": 2,
       "version_minor": 0
      },
      "text/plain": [
       "  0%|          | 0/1 [00:00<?, ?it/s]"
      ]
     },
     "metadata": {},
     "output_type": "display_data"
    },
    {
     "data": {
      "application/vnd.jupyter.widget-view+json": {
       "model_id": "1d3692eaa9474c39b90ce592121a3eac",
       "version_major": 2,
       "version_minor": 0
      },
      "text/plain": [
       "  0%|          | 0/1 [00:00<?, ?it/s]"
      ]
     },
     "metadata": {},
     "output_type": "display_data"
    },
    {
     "data": {
      "application/vnd.jupyter.widget-view+json": {
       "model_id": "53c20570d17e4f53852dc0c7486a2349",
       "version_major": 2,
       "version_minor": 0
      },
      "text/plain": [
       "  0%|          | 0/1 [00:00<?, ?it/s]"
      ]
     },
     "metadata": {},
     "output_type": "display_data"
    },
    {
     "data": {
      "application/vnd.jupyter.widget-view+json": {
       "model_id": "1267e70168f44100921950dbd94bffd2",
       "version_major": 2,
       "version_minor": 0
      },
      "text/plain": [
       "  0%|          | 0/1 [00:00<?, ?it/s]"
      ]
     },
     "metadata": {},
     "output_type": "display_data"
    },
    {
     "data": {
      "application/vnd.jupyter.widget-view+json": {
       "model_id": "45804fb6e9f4427ea1e8f3dc18dd1c30",
       "version_major": 2,
       "version_minor": 0
      },
      "text/plain": [
       "  0%|          | 0/1 [00:00<?, ?it/s]"
      ]
     },
     "metadata": {},
     "output_type": "display_data"
    },
    {
     "data": {
      "application/vnd.jupyter.widget-view+json": {
       "model_id": "22dde781a3734ac594b75a24c4e76da2",
       "version_major": 2,
       "version_minor": 0
      },
      "text/plain": [
       "  0%|          | 0/1 [00:00<?, ?it/s]"
      ]
     },
     "metadata": {},
     "output_type": "display_data"
    },
    {
     "data": {
      "application/vnd.jupyter.widget-view+json": {
       "model_id": "5f25664c029e455a9286a1d37c8cc410",
       "version_major": 2,
       "version_minor": 0
      },
      "text/plain": [
       "  0%|          | 0/1 [00:00<?, ?it/s]"
      ]
     },
     "metadata": {},
     "output_type": "display_data"
    },
    {
     "data": {
      "application/vnd.jupyter.widget-view+json": {
       "model_id": "58aecc3c2018493486aa2a82b9c9725f",
       "version_major": 2,
       "version_minor": 0
      },
      "text/plain": [
       "  0%|          | 0/1 [00:00<?, ?it/s]"
      ]
     },
     "metadata": {},
     "output_type": "display_data"
    },
    {
     "data": {
      "application/vnd.jupyter.widget-view+json": {
       "model_id": "9f9df334af954159a927f16124094ce9",
       "version_major": 2,
       "version_minor": 0
      },
      "text/plain": [
       "  0%|          | 0/1 [00:00<?, ?it/s]"
      ]
     },
     "metadata": {},
     "output_type": "display_data"
    },
    {
     "data": {
      "application/vnd.jupyter.widget-view+json": {
       "model_id": "2195d16874f040eaa2309cc55f139687",
       "version_major": 2,
       "version_minor": 0
      },
      "text/plain": [
       "  0%|          | 0/1 [00:00<?, ?it/s]"
      ]
     },
     "metadata": {},
     "output_type": "display_data"
    },
    {
     "data": {
      "application/vnd.jupyter.widget-view+json": {
       "model_id": "3583261c187c4f998e3a491ad56bb7e9",
       "version_major": 2,
       "version_minor": 0
      },
      "text/plain": [
       "  0%|          | 0/1 [00:00<?, ?it/s]"
      ]
     },
     "metadata": {},
     "output_type": "display_data"
    },
    {
     "data": {
      "application/vnd.jupyter.widget-view+json": {
       "model_id": "abe94e3dac8d47ecac6606d61238039b",
       "version_major": 2,
       "version_minor": 0
      },
      "text/plain": [
       "  0%|          | 0/1 [00:00<?, ?it/s]"
      ]
     },
     "metadata": {},
     "output_type": "display_data"
    },
    {
     "data": {
      "application/vnd.jupyter.widget-view+json": {
       "model_id": "46630ce86e064e4786c478b868046987",
       "version_major": 2,
       "version_minor": 0
      },
      "text/plain": [
       "  0%|          | 0/1 [00:00<?, ?it/s]"
      ]
     },
     "metadata": {},
     "output_type": "display_data"
    },
    {
     "data": {
      "application/vnd.jupyter.widget-view+json": {
       "model_id": "e23de14558f14701a81e465b56d901a2",
       "version_major": 2,
       "version_minor": 0
      },
      "text/plain": [
       "  0%|          | 0/1 [00:00<?, ?it/s]"
      ]
     },
     "metadata": {},
     "output_type": "display_data"
    },
    {
     "data": {
      "application/vnd.jupyter.widget-view+json": {
       "model_id": "a456b811dd214c76a9d4f9575235b2e3",
       "version_major": 2,
       "version_minor": 0
      },
      "text/plain": [
       "  0%|          | 0/1 [00:00<?, ?it/s]"
      ]
     },
     "metadata": {},
     "output_type": "display_data"
    },
    {
     "data": {
      "application/vnd.jupyter.widget-view+json": {
       "model_id": "0860dc210f644e15bb4af95e0df8e930",
       "version_major": 2,
       "version_minor": 0
      },
      "text/plain": [
       "  0%|          | 0/1 [00:00<?, ?it/s]"
      ]
     },
     "metadata": {},
     "output_type": "display_data"
    },
    {
     "data": {
      "application/vnd.jupyter.widget-view+json": {
       "model_id": "72e6b450d66147a38fab6e7783ac479e",
       "version_major": 2,
       "version_minor": 0
      },
      "text/plain": [
       "  0%|          | 0/1 [00:00<?, ?it/s]"
      ]
     },
     "metadata": {},
     "output_type": "display_data"
    },
    {
     "data": {
      "application/vnd.jupyter.widget-view+json": {
       "model_id": "4612c427762e4a7c9eccaa5018c19760",
       "version_major": 2,
       "version_minor": 0
      },
      "text/plain": [
       "  0%|          | 0/1 [00:00<?, ?it/s]"
      ]
     },
     "metadata": {},
     "output_type": "display_data"
    },
    {
     "data": {
      "application/vnd.jupyter.widget-view+json": {
       "model_id": "025286b9a6644fbf9167726b6ecbf5b6",
       "version_major": 2,
       "version_minor": 0
      },
      "text/plain": [
       "  0%|          | 0/1 [00:00<?, ?it/s]"
      ]
     },
     "metadata": {},
     "output_type": "display_data"
    },
    {
     "data": {
      "application/vnd.jupyter.widget-view+json": {
       "model_id": "c7679d925231448db15b26484007fe5c",
       "version_major": 2,
       "version_minor": 0
      },
      "text/plain": [
       "  0%|          | 0/1 [00:00<?, ?it/s]"
      ]
     },
     "metadata": {},
     "output_type": "display_data"
    },
    {
     "data": {
      "application/vnd.jupyter.widget-view+json": {
       "model_id": "15733a82cb9748e0bb5bd1f7214ab207",
       "version_major": 2,
       "version_minor": 0
      },
      "text/plain": [
       "  0%|          | 0/1 [00:00<?, ?it/s]"
      ]
     },
     "metadata": {},
     "output_type": "display_data"
    },
    {
     "data": {
      "application/vnd.jupyter.widget-view+json": {
       "model_id": "2f0c8716a364470faa940393df0b94db",
       "version_major": 2,
       "version_minor": 0
      },
      "text/plain": [
       "  0%|          | 0/1 [00:00<?, ?it/s]"
      ]
     },
     "metadata": {},
     "output_type": "display_data"
    },
    {
     "data": {
      "application/vnd.jupyter.widget-view+json": {
       "model_id": "3fe0743ba5874b889d5b7fae9699d8cc",
       "version_major": 2,
       "version_minor": 0
      },
      "text/plain": [
       "  0%|          | 0/1 [00:00<?, ?it/s]"
      ]
     },
     "metadata": {},
     "output_type": "display_data"
    },
    {
     "data": {
      "application/vnd.jupyter.widget-view+json": {
       "model_id": "a1e7cd481ef54247bd7153b48f224787",
       "version_major": 2,
       "version_minor": 0
      },
      "text/plain": [
       "  0%|          | 0/1 [00:00<?, ?it/s]"
      ]
     },
     "metadata": {},
     "output_type": "display_data"
    },
    {
     "data": {
      "application/vnd.jupyter.widget-view+json": {
       "model_id": "7e33dde2b870457f80281ea357fbb741",
       "version_major": 2,
       "version_minor": 0
      },
      "text/plain": [
       "  0%|          | 0/1 [00:00<?, ?it/s]"
      ]
     },
     "metadata": {},
     "output_type": "display_data"
    },
    {
     "data": {
      "application/vnd.jupyter.widget-view+json": {
       "model_id": "ef4a5f9ca91049ada4c036691cc90a86",
       "version_major": 2,
       "version_minor": 0
      },
      "text/plain": [
       "  0%|          | 0/1 [00:00<?, ?it/s]"
      ]
     },
     "metadata": {},
     "output_type": "display_data"
    },
    {
     "data": {
      "application/vnd.jupyter.widget-view+json": {
       "model_id": "ea70f47a082b459fa58ef2e7aacab225",
       "version_major": 2,
       "version_minor": 0
      },
      "text/plain": [
       "  0%|          | 0/1 [00:00<?, ?it/s]"
      ]
     },
     "metadata": {},
     "output_type": "display_data"
    },
    {
     "data": {
      "application/vnd.jupyter.widget-view+json": {
       "model_id": "74f8df61e9dd4721bf0fd598891912f3",
       "version_major": 2,
       "version_minor": 0
      },
      "text/plain": [
       "  0%|          | 0/1 [00:00<?, ?it/s]"
      ]
     },
     "metadata": {},
     "output_type": "display_data"
    },
    {
     "data": {
      "application/vnd.jupyter.widget-view+json": {
       "model_id": "ae9f0bd965f645e0bcd21de11a513897",
       "version_major": 2,
       "version_minor": 0
      },
      "text/plain": [
       "  0%|          | 0/1 [00:00<?, ?it/s]"
      ]
     },
     "metadata": {},
     "output_type": "display_data"
    },
    {
     "data": {
      "application/vnd.jupyter.widget-view+json": {
       "model_id": "1621bf93605f48d784b264d98c9e8ecc",
       "version_major": 2,
       "version_minor": 0
      },
      "text/plain": [
       "  0%|          | 0/1 [00:00<?, ?it/s]"
      ]
     },
     "metadata": {},
     "output_type": "display_data"
    },
    {
     "data": {
      "application/vnd.jupyter.widget-view+json": {
       "model_id": "b1c6e5e80dc14f6588359000a9bdc7b4",
       "version_major": 2,
       "version_minor": 0
      },
      "text/plain": [
       "  0%|          | 0/1 [00:00<?, ?it/s]"
      ]
     },
     "metadata": {},
     "output_type": "display_data"
    },
    {
     "data": {
      "application/vnd.jupyter.widget-view+json": {
       "model_id": "786441cc69574b0cb0f2d8df12160af0",
       "version_major": 2,
       "version_minor": 0
      },
      "text/plain": [
       "  0%|          | 0/1 [00:00<?, ?it/s]"
      ]
     },
     "metadata": {},
     "output_type": "display_data"
    },
    {
     "data": {
      "application/vnd.jupyter.widget-view+json": {
       "model_id": "b982c80c1f08461a9c80b8b514fbd53e",
       "version_major": 2,
       "version_minor": 0
      },
      "text/plain": [
       "  0%|          | 0/1 [00:00<?, ?it/s]"
      ]
     },
     "metadata": {},
     "output_type": "display_data"
    },
    {
     "data": {
      "application/vnd.jupyter.widget-view+json": {
       "model_id": "5f30111a73154a28a10a7254709ea92b",
       "version_major": 2,
       "version_minor": 0
      },
      "text/plain": [
       "  0%|          | 0/1 [00:00<?, ?it/s]"
      ]
     },
     "metadata": {},
     "output_type": "display_data"
    },
    {
     "data": {
      "application/vnd.jupyter.widget-view+json": {
       "model_id": "569c87ee62054d3ab287e02c8f112415",
       "version_major": 2,
       "version_minor": 0
      },
      "text/plain": [
       "  0%|          | 0/1 [00:00<?, ?it/s]"
      ]
     },
     "metadata": {},
     "output_type": "display_data"
    },
    {
     "data": {
      "application/vnd.jupyter.widget-view+json": {
       "model_id": "4e7c58dff68a4102a63cdb1491d0524c",
       "version_major": 2,
       "version_minor": 0
      },
      "text/plain": [
       "  0%|          | 0/1 [00:00<?, ?it/s]"
      ]
     },
     "metadata": {},
     "output_type": "display_data"
    },
    {
     "data": {
      "application/vnd.jupyter.widget-view+json": {
       "model_id": "e42a607f4fb54f19adca76a752350769",
       "version_major": 2,
       "version_minor": 0
      },
      "text/plain": [
       "  0%|          | 0/1 [00:00<?, ?it/s]"
      ]
     },
     "metadata": {},
     "output_type": "display_data"
    },
    {
     "data": {
      "application/vnd.jupyter.widget-view+json": {
       "model_id": "d018c90e22214cd88e934a197fac2e3d",
       "version_major": 2,
       "version_minor": 0
      },
      "text/plain": [
       "  0%|          | 0/1 [00:00<?, ?it/s]"
      ]
     },
     "metadata": {},
     "output_type": "display_data"
    },
    {
     "name": "stdout",
     "output_type": "stream",
     "text": [
      "Aufgrund des subendothelialen Wachstums entlang der Perineuralscheiden beträgt das Rezidivrisiko nach radikaler chirurgischer Tumorentfernung für ein perihiläres Cholangiokarzinom (CCA) 40-80% (Auflistung der Studienergebnisse siehe [REF] ).\n",
      "\n",
      "No Filter:\n"
     ]
    },
    {
     "data": {
      "text/html": [
       "<div>\n",
       "<style scoped>\n",
       "    .dataframe tbody tr th:only-of-type {\n",
       "        vertical-align: middle;\n",
       "    }\n",
       "\n",
       "    .dataframe tbody tr th {\n",
       "        vertical-align: top;\n",
       "    }\n",
       "\n",
       "    .dataframe thead th {\n",
       "        text-align: right;\n",
       "    }\n",
       "</style>\n",
       "<table border=\"1\" class=\"dataframe\">\n",
       "  <thead>\n",
       "    <tr style=\"text-align: right;\">\n",
       "      <th></th>\n",
       "      <th>document</th>\n",
       "      <th>text</th>\n",
       "      <th>type</th>\n",
       "      <th>start</th>\n",
       "      <th>end</th>\n",
       "      <th>cui</th>\n",
       "      <th>tuis</th>\n",
       "      <th>canonical</th>\n",
       "      <th>linker</th>\n",
       "      <th>confidence</th>\n",
       "    </tr>\n",
       "  </thead>\n",
       "  <tbody>\n",
       "    <tr>\n",
       "      <th>2</th>\n",
       "      <td>11_hepatozellulaeres-karzinom-und-biliaere-kar...</td>\n",
       "      <td>radikaler chirurgischer Tumorentfernung</td>\n",
       "      <td>Therapeutic</td>\n",
       "      <td>102</td>\n",
       "      <td>141</td>\n",
       "      <td>C0024884</td>\n",
       "      <td>[T061]</td>\n",
       "      <td>Mastektomie, radikale</td>\n",
       "      <td>[sapbert]</td>\n",
       "      <td>0.066802</td>\n",
       "    </tr>\n",
       "  </tbody>\n",
       "</table>\n",
       "</div>"
      ],
      "text/plain": [
       "                                            document  \\\n",
       "2  11_hepatozellulaeres-karzinom-und-biliaere-kar...   \n",
       "\n",
       "                                      text         type  start  end       cui  \\\n",
       "2  radikaler chirurgischer Tumorentfernung  Therapeutic    102  141  C0024884   \n",
       "\n",
       "     tuis              canonical     linker  confidence  \n",
       "2  [T061]  Mastektomie, radikale  [sapbert]    0.066802  "
      ]
     },
     "metadata": {},
     "output_type": "display_data"
    },
    {
     "name": "stdout",
     "output_type": "stream",
     "text": [
      "Filter:\n"
     ]
    },
    {
     "data": {
      "text/html": [
       "<div>\n",
       "<style scoped>\n",
       "    .dataframe tbody tr th:only-of-type {\n",
       "        vertical-align: middle;\n",
       "    }\n",
       "\n",
       "    .dataframe tbody tr th {\n",
       "        vertical-align: top;\n",
       "    }\n",
       "\n",
       "    .dataframe thead th {\n",
       "        text-align: right;\n",
       "    }\n",
       "</style>\n",
       "<table border=\"1\" class=\"dataframe\">\n",
       "  <thead>\n",
       "    <tr style=\"text-align: right;\">\n",
       "      <th></th>\n",
       "      <th>document</th>\n",
       "      <th>text</th>\n",
       "      <th>type</th>\n",
       "      <th>start</th>\n",
       "      <th>end</th>\n",
       "      <th>cui</th>\n",
       "      <th>tuis</th>\n",
       "      <th>canonical</th>\n",
       "      <th>linker</th>\n",
       "      <th>confidence</th>\n",
       "    </tr>\n",
       "  </thead>\n",
       "  <tbody>\n",
       "    <tr>\n",
       "      <th>2</th>\n",
       "      <td>11_hepatozellulaeres-karzinom-und-biliaere-kar...</td>\n",
       "      <td>radikaler chirurgischer Tumorentfernung</td>\n",
       "      <td>Therapeutic</td>\n",
       "      <td>102</td>\n",
       "      <td>141</td>\n",
       "      <td>C4761063</td>\n",
       "      <td>[T061]</td>\n",
       "      <td>Tumor resection</td>\n",
       "      <td>[sapbert]</td>\n",
       "      <td>0.070224</td>\n",
       "    </tr>\n",
       "  </tbody>\n",
       "</table>\n",
       "</div>"
      ],
      "text/plain": [
       "                                            document  \\\n",
       "2  11_hepatozellulaeres-karzinom-und-biliaere-kar...   \n",
       "\n",
       "                                      text         type  start  end       cui  \\\n",
       "2  radikaler chirurgischer Tumorentfernung  Therapeutic    102  141  C4761063   \n",
       "\n",
       "     tuis        canonical     linker  confidence  \n",
       "2  [T061]  Tumor resection  [sapbert]    0.070224  "
      ]
     },
     "metadata": {},
     "output_type": "display_data"
    },
    {
     "name": "stdout",
     "output_type": "stream",
     "text": [
      "####\n"
     ]
    },
    {
     "data": {
      "application/vnd.jupyter.widget-view+json": {
       "model_id": "f06aa969b423446099df360c61c1e50a",
       "version_major": 2,
       "version_minor": 0
      },
      "text/plain": [
       "  0%|          | 0/1 [00:00<?, ?it/s]"
      ]
     },
     "metadata": {},
     "output_type": "display_data"
    },
    {
     "data": {
      "application/vnd.jupyter.widget-view+json": {
       "model_id": "3aa2ba9f8e914481a0b1d81b45ad90eb",
       "version_major": 2,
       "version_minor": 0
      },
      "text/plain": [
       "  0%|          | 0/1 [00:00<?, ?it/s]"
      ]
     },
     "metadata": {},
     "output_type": "display_data"
    },
    {
     "data": {
      "application/vnd.jupyter.widget-view+json": {
       "model_id": "742982cbcc8f4e1fbc7935e565deaed9",
       "version_major": 2,
       "version_minor": 0
      },
      "text/plain": [
       "  0%|          | 0/1 [00:00<?, ?it/s]"
      ]
     },
     "metadata": {},
     "output_type": "display_data"
    },
    {
     "data": {
      "application/vnd.jupyter.widget-view+json": {
       "model_id": "60ef117387024c0987841b296cd8312e",
       "version_major": 2,
       "version_minor": 0
      },
      "text/plain": [
       "  0%|          | 0/1 [00:00<?, ?it/s]"
      ]
     },
     "metadata": {},
     "output_type": "display_data"
    },
    {
     "data": {
      "application/vnd.jupyter.widget-view+json": {
       "model_id": "3fc6cd2461d34c088a561289a87f356c",
       "version_major": 2,
       "version_minor": 0
      },
      "text/plain": [
       "  0%|          | 0/1 [00:00<?, ?it/s]"
      ]
     },
     "metadata": {},
     "output_type": "display_data"
    },
    {
     "data": {
      "application/vnd.jupyter.widget-view+json": {
       "model_id": "1fb3c57b16984179a8102b3e5603e5a5",
       "version_major": 2,
       "version_minor": 0
      },
      "text/plain": [
       "  0%|          | 0/1 [00:00<?, ?it/s]"
      ]
     },
     "metadata": {},
     "output_type": "display_data"
    },
    {
     "data": {
      "application/vnd.jupyter.widget-view+json": {
       "model_id": "955d2fb60701494eadde4e610f0c46cf",
       "version_major": 2,
       "version_minor": 0
      },
      "text/plain": [
       "  0%|          | 0/1 [00:00<?, ?it/s]"
      ]
     },
     "metadata": {},
     "output_type": "display_data"
    },
    {
     "data": {
      "application/vnd.jupyter.widget-view+json": {
       "model_id": "cb28ffa561a1417fb43835b5660d1cc8",
       "version_major": 2,
       "version_minor": 0
      },
      "text/plain": [
       "  0%|          | 0/1 [00:00<?, ?it/s]"
      ]
     },
     "metadata": {},
     "output_type": "display_data"
    },
    {
     "data": {
      "application/vnd.jupyter.widget-view+json": {
       "model_id": "3d3e801e426a4325bb82ec36d5c2825b",
       "version_major": 2,
       "version_minor": 0
      },
      "text/plain": [
       "  0%|          | 0/1 [00:00<?, ?it/s]"
      ]
     },
     "metadata": {},
     "output_type": "display_data"
    },
    {
     "data": {
      "application/vnd.jupyter.widget-view+json": {
       "model_id": "a8e7bab257544e2fb87421499f91d43c",
       "version_major": 2,
       "version_minor": 0
      },
      "text/plain": [
       "  0%|          | 0/1 [00:00<?, ?it/s]"
      ]
     },
     "metadata": {},
     "output_type": "display_data"
    },
    {
     "name": "stdout",
     "output_type": "stream",
     "text": [
      "In dieser Studie wurde bei 447 Patienten mit CCA oder muskelinvasivem GB-CA sowie vollständiger makroskopischer Tumorentfernung (R0 oder R1) die Gabe von Capecitabin (1250 mg/m2 zweimal täglich an Tag 1 bis 14 bei einer Zyklusdauer von 21 Tagen, insgesamt 8 Zyklen) mit der alleinigen Nachsorge verglichen.\n",
      "\n",
      "No Filter:\n"
     ]
    },
    {
     "data": {
      "text/html": [
       "<div>\n",
       "<style scoped>\n",
       "    .dataframe tbody tr th:only-of-type {\n",
       "        vertical-align: middle;\n",
       "    }\n",
       "\n",
       "    .dataframe tbody tr th {\n",
       "        vertical-align: top;\n",
       "    }\n",
       "\n",
       "    .dataframe thead th {\n",
       "        text-align: right;\n",
       "    }\n",
       "</style>\n",
       "<table border=\"1\" class=\"dataframe\">\n",
       "  <thead>\n",
       "    <tr style=\"text-align: right;\">\n",
       "      <th></th>\n",
       "      <th>document</th>\n",
       "      <th>text</th>\n",
       "      <th>type</th>\n",
       "      <th>start</th>\n",
       "      <th>end</th>\n",
       "      <th>cui</th>\n",
       "      <th>tuis</th>\n",
       "      <th>canonical</th>\n",
       "      <th>linker</th>\n",
       "      <th>confidence</th>\n",
       "    </tr>\n",
       "  </thead>\n",
       "  <tbody>\n",
       "    <tr>\n",
       "      <th>1</th>\n",
       "      <td>11_hepatozellulaeres-karzinom-und-biliaere-kar...</td>\n",
       "      <td>muskelinvasivem GB-CA</td>\n",
       "      <td>Diagnosis_or_Pathology</td>\n",
       "      <td>54</td>\n",
       "      <td>75</td>\n",
       "      <td>C0674272</td>\n",
       "      <td>[T116]</td>\n",
       "      <td>Boc-Gly-Arg-Arg-MCA</td>\n",
       "      <td>[sapbert]</td>\n",
       "      <td>0.063696</td>\n",
       "    </tr>\n",
       "  </tbody>\n",
       "</table>\n",
       "</div>"
      ],
      "text/plain": [
       "                                            document                   text  \\\n",
       "1  11_hepatozellulaeres-karzinom-und-biliaere-kar...  muskelinvasivem GB-CA   \n",
       "\n",
       "                     type  start  end       cui    tuis            canonical  \\\n",
       "1  Diagnosis_or_Pathology     54   75  C0674272  [T116]  Boc-Gly-Arg-Arg-MCA   \n",
       "\n",
       "      linker  confidence  \n",
       "1  [sapbert]    0.063696  "
      ]
     },
     "metadata": {},
     "output_type": "display_data"
    },
    {
     "name": "stdout",
     "output_type": "stream",
     "text": [
      "Filter:\n"
     ]
    },
    {
     "data": {
      "text/html": [
       "<div>\n",
       "<style scoped>\n",
       "    .dataframe tbody tr th:only-of-type {\n",
       "        vertical-align: middle;\n",
       "    }\n",
       "\n",
       "    .dataframe tbody tr th {\n",
       "        vertical-align: top;\n",
       "    }\n",
       "\n",
       "    .dataframe thead th {\n",
       "        text-align: right;\n",
       "    }\n",
       "</style>\n",
       "<table border=\"1\" class=\"dataframe\">\n",
       "  <thead>\n",
       "    <tr style=\"text-align: right;\">\n",
       "      <th></th>\n",
       "      <th>document</th>\n",
       "      <th>text</th>\n",
       "      <th>type</th>\n",
       "      <th>start</th>\n",
       "      <th>end</th>\n",
       "      <th>cui</th>\n",
       "      <th>tuis</th>\n",
       "      <th>canonical</th>\n",
       "      <th>linker</th>\n",
       "      <th>confidence</th>\n",
       "    </tr>\n",
       "  </thead>\n",
       "  <tbody>\n",
       "    <tr>\n",
       "      <th>1</th>\n",
       "      <td>11_hepatozellulaeres-karzinom-und-biliaere-kar...</td>\n",
       "      <td>muskelinvasivem GB-CA</td>\n",
       "      <td>Diagnosis_or_Pathology</td>\n",
       "      <td>54</td>\n",
       "      <td>75</td>\n",
       "      <td>C0250995</td>\n",
       "      <td>[T116, T121]</td>\n",
       "      <td>gamma-glutaminyl-S-(4-methylbenzyl)cysteinyl-b...</td>\n",
       "      <td>[sapbert]</td>\n",
       "      <td>0.063638</td>\n",
       "    </tr>\n",
       "  </tbody>\n",
       "</table>\n",
       "</div>"
      ],
      "text/plain": [
       "                                            document                   text  \\\n",
       "1  11_hepatozellulaeres-karzinom-und-biliaere-kar...  muskelinvasivem GB-CA   \n",
       "\n",
       "                     type  start  end       cui          tuis  \\\n",
       "1  Diagnosis_or_Pathology     54   75  C0250995  [T116, T121]   \n",
       "\n",
       "                                           canonical     linker  confidence  \n",
       "1  gamma-glutaminyl-S-(4-methylbenzyl)cysteinyl-b...  [sapbert]    0.063638  "
      ]
     },
     "metadata": {},
     "output_type": "display_data"
    },
    {
     "name": "stdout",
     "output_type": "stream",
     "text": [
      "####\n"
     ]
    },
    {
     "data": {
      "application/vnd.jupyter.widget-view+json": {
       "model_id": "cce96406f0814a35824f83b482059226",
       "version_major": 2,
       "version_minor": 0
      },
      "text/plain": [
       "  0%|          | 0/1 [00:00<?, ?it/s]"
      ]
     },
     "metadata": {},
     "output_type": "display_data"
    },
    {
     "data": {
      "application/vnd.jupyter.widget-view+json": {
       "model_id": "197edf1ecd634b1aba12159809089037",
       "version_major": 2,
       "version_minor": 0
      },
      "text/plain": [
       "  0%|          | 0/1 [00:00<?, ?it/s]"
      ]
     },
     "metadata": {},
     "output_type": "display_data"
    },
    {
     "name": "stdout",
     "output_type": "stream",
     "text": [
      "Der Therapiebeginn sollte innerhalb von 12 Wochen postoperativ bei Patienten mit ECOG 0 – 1 erfolgen, erlaubt war eine Ausdehnung des Zeitraumes bis auf 16 Wochen.\n",
      "\n",
      "No Filter:\n"
     ]
    },
    {
     "data": {
      "text/html": [
       "<div>\n",
       "<style scoped>\n",
       "    .dataframe tbody tr th:only-of-type {\n",
       "        vertical-align: middle;\n",
       "    }\n",
       "\n",
       "    .dataframe tbody tr th {\n",
       "        vertical-align: top;\n",
       "    }\n",
       "\n",
       "    .dataframe thead th {\n",
       "        text-align: right;\n",
       "    }\n",
       "</style>\n",
       "<table border=\"1\" class=\"dataframe\">\n",
       "  <thead>\n",
       "    <tr style=\"text-align: right;\">\n",
       "      <th></th>\n",
       "      <th>document</th>\n",
       "      <th>text</th>\n",
       "      <th>type</th>\n",
       "      <th>start</th>\n",
       "      <th>end</th>\n",
       "      <th>cui</th>\n",
       "      <th>tuis</th>\n",
       "      <th>canonical</th>\n",
       "      <th>linker</th>\n",
       "      <th>confidence</th>\n",
       "    </tr>\n",
       "  </thead>\n",
       "  <tbody>\n",
       "    <tr>\n",
       "      <th>0</th>\n",
       "      <td>11_hepatozellulaeres-karzinom-und-biliaere-kar...</td>\n",
       "      <td>Therapiebeginn</td>\n",
       "      <td>Therapeutic</td>\n",
       "      <td>4</td>\n",
       "      <td>18</td>\n",
       "      <td>C1273560</td>\n",
       "      <td>[T033]</td>\n",
       "      <td>Procedure started</td>\n",
       "      <td>[sapbert]</td>\n",
       "      <td>0.066248</td>\n",
       "    </tr>\n",
       "  </tbody>\n",
       "</table>\n",
       "</div>"
      ],
      "text/plain": [
       "                                            document            text  \\\n",
       "0  11_hepatozellulaeres-karzinom-und-biliaere-kar...  Therapiebeginn   \n",
       "\n",
       "          type  start  end       cui    tuis          canonical     linker  \\\n",
       "0  Therapeutic      4   18  C1273560  [T033]  Procedure started  [sapbert]   \n",
       "\n",
       "   confidence  \n",
       "0    0.066248  "
      ]
     },
     "metadata": {},
     "output_type": "display_data"
    },
    {
     "name": "stdout",
     "output_type": "stream",
     "text": [
      "Filter:\n"
     ]
    },
    {
     "data": {
      "text/html": [
       "<div>\n",
       "<style scoped>\n",
       "    .dataframe tbody tr th:only-of-type {\n",
       "        vertical-align: middle;\n",
       "    }\n",
       "\n",
       "    .dataframe tbody tr th {\n",
       "        vertical-align: top;\n",
       "    }\n",
       "\n",
       "    .dataframe thead th {\n",
       "        text-align: right;\n",
       "    }\n",
       "</style>\n",
       "<table border=\"1\" class=\"dataframe\">\n",
       "  <thead>\n",
       "    <tr style=\"text-align: right;\">\n",
       "      <th></th>\n",
       "      <th>document</th>\n",
       "      <th>text</th>\n",
       "      <th>type</th>\n",
       "      <th>start</th>\n",
       "      <th>end</th>\n",
       "      <th>cui</th>\n",
       "      <th>tuis</th>\n",
       "      <th>canonical</th>\n",
       "      <th>linker</th>\n",
       "      <th>confidence</th>\n",
       "    </tr>\n",
       "  </thead>\n",
       "  <tbody>\n",
       "    <tr>\n",
       "      <th>0</th>\n",
       "      <td>11_hepatozellulaeres-karzinom-und-biliaere-kar...</td>\n",
       "      <td>Therapiebeginn</td>\n",
       "      <td>Therapeutic</td>\n",
       "      <td>4</td>\n",
       "      <td>18</td>\n",
       "      <td>C5419193</td>\n",
       "      <td>[T079]</td>\n",
       "      <td>Since Starting Treatment</td>\n",
       "      <td>[sapbert]</td>\n",
       "      <td>0.066774</td>\n",
       "    </tr>\n",
       "  </tbody>\n",
       "</table>\n",
       "</div>"
      ],
      "text/plain": [
       "                                            document            text  \\\n",
       "0  11_hepatozellulaeres-karzinom-und-biliaere-kar...  Therapiebeginn   \n",
       "\n",
       "          type  start  end       cui    tuis                 canonical  \\\n",
       "0  Therapeutic      4   18  C5419193  [T079]  Since Starting Treatment   \n",
       "\n",
       "      linker  confidence  \n",
       "0  [sapbert]    0.066774  "
      ]
     },
     "metadata": {},
     "output_type": "display_data"
    },
    {
     "name": "stdout",
     "output_type": "stream",
     "text": [
      "####\n"
     ]
    },
    {
     "data": {
      "application/vnd.jupyter.widget-view+json": {
       "model_id": "3def28a4c80c4070b30cd5f7ac9e00ec",
       "version_major": 2,
       "version_minor": 0
      },
      "text/plain": [
       "  0%|          | 0/1 [00:00<?, ?it/s]"
      ]
     },
     "metadata": {},
     "output_type": "display_data"
    },
    {
     "data": {
      "application/vnd.jupyter.widget-view+json": {
       "model_id": "1567e0443eb94de8ba182666bf38e7d2",
       "version_major": 2,
       "version_minor": 0
      },
      "text/plain": [
       "  0%|          | 0/1 [00:00<?, ?it/s]"
      ]
     },
     "metadata": {},
     "output_type": "display_data"
    },
    {
     "data": {
      "application/vnd.jupyter.widget-view+json": {
       "model_id": "888ea37fc0fd4b7aa755b0d4d2a075d6",
       "version_major": 2,
       "version_minor": 0
      },
      "text/plain": [
       "  0%|          | 0/1 [00:00<?, ?it/s]"
      ]
     },
     "metadata": {},
     "output_type": "display_data"
    },
    {
     "data": {
      "application/vnd.jupyter.widget-view+json": {
       "model_id": "2cf2f1a2dcba4938be1065e05e31af55",
       "version_major": 2,
       "version_minor": 0
      },
      "text/plain": [
       "  0%|          | 0/1 [00:00<?, ?it/s]"
      ]
     },
     "metadata": {},
     "output_type": "display_data"
    },
    {
     "data": {
      "application/vnd.jupyter.widget-view+json": {
       "model_id": "bcdded1d0cab46dcbb6ff7ba7f5d9a9a",
       "version_major": 2,
       "version_minor": 0
      },
      "text/plain": [
       "  0%|          | 0/1 [00:00<?, ?it/s]"
      ]
     },
     "metadata": {},
     "output_type": "display_data"
    },
    {
     "data": {
      "application/vnd.jupyter.widget-view+json": {
       "model_id": "6347f554e8e84150993bb13e91632ec4",
       "version_major": 2,
       "version_minor": 0
      },
      "text/plain": [
       "  0%|          | 0/1 [00:00<?, ?it/s]"
      ]
     },
     "metadata": {},
     "output_type": "display_data"
    },
    {
     "data": {
      "application/vnd.jupyter.widget-view+json": {
       "model_id": "3aadd09a9d7c46238f34116083e4203c",
       "version_major": 2,
       "version_minor": 0
      },
      "text/plain": [
       "  0%|          | 0/1 [00:00<?, ?it/s]"
      ]
     },
     "metadata": {},
     "output_type": "display_data"
    },
    {
     "data": {
      "application/vnd.jupyter.widget-view+json": {
       "model_id": "cc52031f4a454892a3b5c69ded07b4ef",
       "version_major": 2,
       "version_minor": 0
      },
      "text/plain": [
       "  0%|          | 0/1 [00:00<?, ?it/s]"
      ]
     },
     "metadata": {},
     "output_type": "display_data"
    },
    {
     "name": "stdout",
     "output_type": "stream",
     "text": [
      "Die mediane Zeit von der OP bis zum Therapiebeginn lag bei 10,3 Wochen.\n",
      "\n",
      "No Filter:\n"
     ]
    },
    {
     "data": {
      "text/html": [
       "<div>\n",
       "<style scoped>\n",
       "    .dataframe tbody tr th:only-of-type {\n",
       "        vertical-align: middle;\n",
       "    }\n",
       "\n",
       "    .dataframe tbody tr th {\n",
       "        vertical-align: top;\n",
       "    }\n",
       "\n",
       "    .dataframe thead th {\n",
       "        text-align: right;\n",
       "    }\n",
       "</style>\n",
       "<table border=\"1\" class=\"dataframe\">\n",
       "  <thead>\n",
       "    <tr style=\"text-align: right;\">\n",
       "      <th></th>\n",
       "      <th>document</th>\n",
       "      <th>text</th>\n",
       "      <th>type</th>\n",
       "      <th>start</th>\n",
       "      <th>end</th>\n",
       "      <th>cui</th>\n",
       "      <th>tuis</th>\n",
       "      <th>canonical</th>\n",
       "      <th>linker</th>\n",
       "      <th>confidence</th>\n",
       "    </tr>\n",
       "  </thead>\n",
       "  <tbody>\n",
       "    <tr>\n",
       "      <th>1</th>\n",
       "      <td>11_hepatozellulaeres-karzinom-und-biliaere-kar...</td>\n",
       "      <td>Therapiebeginn</td>\n",
       "      <td>Therapeutic</td>\n",
       "      <td>36</td>\n",
       "      <td>50</td>\n",
       "      <td>C1273560</td>\n",
       "      <td>[T033]</td>\n",
       "      <td>Procedure started</td>\n",
       "      <td>[sapbert]</td>\n",
       "      <td>0.074768</td>\n",
       "    </tr>\n",
       "  </tbody>\n",
       "</table>\n",
       "</div>"
      ],
      "text/plain": [
       "                                            document            text  \\\n",
       "1  11_hepatozellulaeres-karzinom-und-biliaere-kar...  Therapiebeginn   \n",
       "\n",
       "          type  start  end       cui    tuis          canonical     linker  \\\n",
       "1  Therapeutic     36   50  C1273560  [T033]  Procedure started  [sapbert]   \n",
       "\n",
       "   confidence  \n",
       "1    0.074768  "
      ]
     },
     "metadata": {},
     "output_type": "display_data"
    },
    {
     "name": "stdout",
     "output_type": "stream",
     "text": [
      "Filter:\n"
     ]
    },
    {
     "data": {
      "text/html": [
       "<div>\n",
       "<style scoped>\n",
       "    .dataframe tbody tr th:only-of-type {\n",
       "        vertical-align: middle;\n",
       "    }\n",
       "\n",
       "    .dataframe tbody tr th {\n",
       "        vertical-align: top;\n",
       "    }\n",
       "\n",
       "    .dataframe thead th {\n",
       "        text-align: right;\n",
       "    }\n",
       "</style>\n",
       "<table border=\"1\" class=\"dataframe\">\n",
       "  <thead>\n",
       "    <tr style=\"text-align: right;\">\n",
       "      <th></th>\n",
       "      <th>document</th>\n",
       "      <th>text</th>\n",
       "      <th>type</th>\n",
       "      <th>start</th>\n",
       "      <th>end</th>\n",
       "      <th>cui</th>\n",
       "      <th>tuis</th>\n",
       "      <th>canonical</th>\n",
       "      <th>linker</th>\n",
       "      <th>confidence</th>\n",
       "    </tr>\n",
       "  </thead>\n",
       "  <tbody>\n",
       "    <tr>\n",
       "      <th>1</th>\n",
       "      <td>11_hepatozellulaeres-karzinom-und-biliaere-kar...</td>\n",
       "      <td>Therapiebeginn</td>\n",
       "      <td>Therapeutic</td>\n",
       "      <td>36</td>\n",
       "      <td>50</td>\n",
       "      <td>C2712338</td>\n",
       "      <td>[T079]</td>\n",
       "      <td>Start time of procedure</td>\n",
       "      <td>[sapbert]</td>\n",
       "      <td>0.077498</td>\n",
       "    </tr>\n",
       "  </tbody>\n",
       "</table>\n",
       "</div>"
      ],
      "text/plain": [
       "                                            document            text  \\\n",
       "1  11_hepatozellulaeres-karzinom-und-biliaere-kar...  Therapiebeginn   \n",
       "\n",
       "          type  start  end       cui    tuis                canonical  \\\n",
       "1  Therapeutic     36   50  C2712338  [T079]  Start time of procedure   \n",
       "\n",
       "      linker  confidence  \n",
       "1  [sapbert]    0.077498  "
      ]
     },
     "metadata": {},
     "output_type": "display_data"
    },
    {
     "name": "stdout",
     "output_type": "stream",
     "text": [
      "####\n"
     ]
    },
    {
     "data": {
      "application/vnd.jupyter.widget-view+json": {
       "model_id": "e5917df3f1bf45e182d07518ba8bc555",
       "version_major": 2,
       "version_minor": 0
      },
      "text/plain": [
       "  0%|          | 0/1 [00:00<?, ?it/s]"
      ]
     },
     "metadata": {},
     "output_type": "display_data"
    },
    {
     "data": {
      "application/vnd.jupyter.widget-view+json": {
       "model_id": "73d871c86ab14017bc3b09afeb021028",
       "version_major": 2,
       "version_minor": 0
      },
      "text/plain": [
       "  0%|          | 0/1 [00:00<?, ?it/s]"
      ]
     },
     "metadata": {},
     "output_type": "display_data"
    },
    {
     "data": {
      "application/vnd.jupyter.widget-view+json": {
       "model_id": "6ef6eac64b77496fa6c6a7fb5949d393",
       "version_major": 2,
       "version_minor": 0
      },
      "text/plain": [
       "  0%|          | 0/1 [00:00<?, ?it/s]"
      ]
     },
     "metadata": {},
     "output_type": "display_data"
    },
    {
     "data": {
      "application/vnd.jupyter.widget-view+json": {
       "model_id": "918776400cf9491a9b8f41b794a6fd43",
       "version_major": 2,
       "version_minor": 0
      },
      "text/plain": [
       "  0%|          | 0/1 [00:00<?, ?it/s]"
      ]
     },
     "metadata": {},
     "output_type": "display_data"
    },
    {
     "data": {
      "application/vnd.jupyter.widget-view+json": {
       "model_id": "37ea2ce46f034a308583e7da2dd04e1a",
       "version_major": 2,
       "version_minor": 0
      },
      "text/plain": [
       "  0%|          | 0/1 [00:00<?, ?it/s]"
      ]
     },
     "metadata": {},
     "output_type": "display_data"
    },
    {
     "data": {
      "application/vnd.jupyter.widget-view+json": {
       "model_id": "ba97f325da004a5a9be42221d729f8e3",
       "version_major": 2,
       "version_minor": 0
      },
      "text/plain": [
       "  0%|          | 0/1 [00:00<?, ?it/s]"
      ]
     },
     "metadata": {},
     "output_type": "display_data"
    },
    {
     "data": {
      "application/vnd.jupyter.widget-view+json": {
       "model_id": "0b4488baa97049da8797a81ac19b0ca3",
       "version_major": 2,
       "version_minor": 0
      },
      "text/plain": [
       "  0%|          | 0/1 [00:00<?, ?it/s]"
      ]
     },
     "metadata": {},
     "output_type": "display_data"
    },
    {
     "data": {
      "application/vnd.jupyter.widget-view+json": {
       "model_id": "c2dd0bdbdca64f24b3ea9ba05f5c34e8",
       "version_major": 2,
       "version_minor": 0
      },
      "text/plain": [
       "  0%|          | 0/1 [00:00<?, ?it/s]"
      ]
     },
     "metadata": {},
     "output_type": "display_data"
    },
    {
     "data": {
      "application/vnd.jupyter.widget-view+json": {
       "model_id": "3de4cbba0ec8469a86dbdae2e72e664b",
       "version_major": 2,
       "version_minor": 0
      },
      "text/plain": [
       "  0%|          | 0/1 [00:00<?, ?it/s]"
      ]
     },
     "metadata": {},
     "output_type": "display_data"
    },
    {
     "data": {
      "application/vnd.jupyter.widget-view+json": {
       "model_id": "026cae8ea70d47c2b9440955f56da22e",
       "version_major": 2,
       "version_minor": 0
      },
      "text/plain": [
       "  0%|          | 0/1 [00:00<?, ?it/s]"
      ]
     },
     "metadata": {},
     "output_type": "display_data"
    },
    {
     "data": {
      "application/vnd.jupyter.widget-view+json": {
       "model_id": "a5121f93b25044ccba23b4a97c470026",
       "version_major": 2,
       "version_minor": 0
      },
      "text/plain": [
       "  0%|          | 0/1 [00:00<?, ?it/s]"
      ]
     },
     "metadata": {},
     "output_type": "display_data"
    },
    {
     "data": {
      "application/vnd.jupyter.widget-view+json": {
       "model_id": "1521e862fcbc459e81752c67f2ae0c0d",
       "version_major": 2,
       "version_minor": 0
      },
      "text/plain": [
       "  0%|          | 0/1 [00:00<?, ?it/s]"
      ]
     },
     "metadata": {},
     "output_type": "display_data"
    },
    {
     "name": "stdout",
     "output_type": "stream",
     "text": [
      "Datenlage zum prädiktiven Wert einer negativen Interim-PET nach zwei/drei Zyklen ABVD\n",
      "\n",
      "No Filter:\n"
     ]
    },
    {
     "data": {
      "text/html": [
       "<div>\n",
       "<style scoped>\n",
       "    .dataframe tbody tr th:only-of-type {\n",
       "        vertical-align: middle;\n",
       "    }\n",
       "\n",
       "    .dataframe tbody tr th {\n",
       "        vertical-align: top;\n",
       "    }\n",
       "\n",
       "    .dataframe thead th {\n",
       "        text-align: right;\n",
       "    }\n",
       "</style>\n",
       "<table border=\"1\" class=\"dataframe\">\n",
       "  <thead>\n",
       "    <tr style=\"text-align: right;\">\n",
       "      <th></th>\n",
       "      <th>document</th>\n",
       "      <th>text</th>\n",
       "      <th>type</th>\n",
       "      <th>start</th>\n",
       "      <th>end</th>\n",
       "      <th>cui</th>\n",
       "      <th>tuis</th>\n",
       "      <th>canonical</th>\n",
       "      <th>linker</th>\n",
       "      <th>confidence</th>\n",
       "    </tr>\n",
       "  </thead>\n",
       "  <tbody>\n",
       "    <tr>\n",
       "      <th>1</th>\n",
       "      <td>18_hodgkin-lymphom_0051_1</td>\n",
       "      <td>zwei/drei Zyklen ABVD</td>\n",
       "      <td>Therapeutic</td>\n",
       "      <td>64</td>\n",
       "      <td>85</td>\n",
       "      <td>C0050380</td>\n",
       "      <td>[T061]</td>\n",
       "      <td>BLEO/DOX/DTIC/VBL</td>\n",
       "      <td>[sapbert]</td>\n",
       "      <td>0.065968</td>\n",
       "    </tr>\n",
       "  </tbody>\n",
       "</table>\n",
       "</div>"
      ],
      "text/plain": [
       "                    document                   text         type  start  end  \\\n",
       "1  18_hodgkin-lymphom_0051_1  zwei/drei Zyklen ABVD  Therapeutic     64   85   \n",
       "\n",
       "        cui    tuis          canonical     linker  confidence  \n",
       "1  C0050380  [T061]  BLEO/DOX/DTIC/VBL  [sapbert]    0.065968  "
      ]
     },
     "metadata": {},
     "output_type": "display_data"
    },
    {
     "name": "stdout",
     "output_type": "stream",
     "text": [
      "Filter:\n"
     ]
    },
    {
     "data": {
      "text/html": [
       "<div>\n",
       "<style scoped>\n",
       "    .dataframe tbody tr th:only-of-type {\n",
       "        vertical-align: middle;\n",
       "    }\n",
       "\n",
       "    .dataframe tbody tr th {\n",
       "        vertical-align: top;\n",
       "    }\n",
       "\n",
       "    .dataframe thead th {\n",
       "        text-align: right;\n",
       "    }\n",
       "</style>\n",
       "<table border=\"1\" class=\"dataframe\">\n",
       "  <thead>\n",
       "    <tr style=\"text-align: right;\">\n",
       "      <th></th>\n",
       "      <th>document</th>\n",
       "      <th>text</th>\n",
       "      <th>type</th>\n",
       "      <th>start</th>\n",
       "      <th>end</th>\n",
       "      <th>cui</th>\n",
       "      <th>tuis</th>\n",
       "      <th>canonical</th>\n",
       "      <th>linker</th>\n",
       "      <th>confidence</th>\n",
       "    </tr>\n",
       "  </thead>\n",
       "  <tbody>\n",
       "    <tr>\n",
       "      <th>1</th>\n",
       "      <td>18_hodgkin-lymphom_0051_1</td>\n",
       "      <td>zwei/drei Zyklen ABVD</td>\n",
       "      <td>Therapeutic</td>\n",
       "      <td>64</td>\n",
       "      <td>85</td>\n",
       "      <td>C1741578</td>\n",
       "      <td>[T116, T123]</td>\n",
       "      <td>dual altered peptide ligand</td>\n",
       "      <td>[sapbert]</td>\n",
       "      <td>0.066694</td>\n",
       "    </tr>\n",
       "  </tbody>\n",
       "</table>\n",
       "</div>"
      ],
      "text/plain": [
       "                    document                   text         type  start  end  \\\n",
       "1  18_hodgkin-lymphom_0051_1  zwei/drei Zyklen ABVD  Therapeutic     64   85   \n",
       "\n",
       "        cui          tuis                    canonical     linker  confidence  \n",
       "1  C1741578  [T116, T123]  dual altered peptide ligand  [sapbert]    0.066694  "
      ]
     },
     "metadata": {},
     "output_type": "display_data"
    },
    {
     "name": "stdout",
     "output_type": "stream",
     "text": [
      "####\n"
     ]
    },
    {
     "data": {
      "application/vnd.jupyter.widget-view+json": {
       "model_id": "132c2fa03dfc476e9aba92c9725e09cb",
       "version_major": 2,
       "version_minor": 0
      },
      "text/plain": [
       "  0%|          | 0/1 [00:00<?, ?it/s]"
      ]
     },
     "metadata": {},
     "output_type": "display_data"
    },
    {
     "data": {
      "application/vnd.jupyter.widget-view+json": {
       "model_id": "010f95d6d316400cb71fa22492143810",
       "version_major": 2,
       "version_minor": 0
      },
      "text/plain": [
       "  0%|          | 0/1 [00:00<?, ?it/s]"
      ]
     },
     "metadata": {},
     "output_type": "display_data"
    },
    {
     "name": "stdout",
     "output_type": "stream",
     "text": [
      "In kleinen (77 bzw. 85 Patienten), nicht-randomisierten Studien aus Dänemark (Hutchings 2006b) und aus England [REF] wurde das Ergebnis des PET/CTs nach 2 Zyklen Chemotherapie beim Hodgkin Lymphom als unabhängiger Prognosefaktor identifiziert.\n",
      "\n",
      "No Filter:\n"
     ]
    },
    {
     "data": {
      "text/html": [
       "<div>\n",
       "<style scoped>\n",
       "    .dataframe tbody tr th:only-of-type {\n",
       "        vertical-align: middle;\n",
       "    }\n",
       "\n",
       "    .dataframe tbody tr th {\n",
       "        vertical-align: top;\n",
       "    }\n",
       "\n",
       "    .dataframe thead th {\n",
       "        text-align: right;\n",
       "    }\n",
       "</style>\n",
       "<table border=\"1\" class=\"dataframe\">\n",
       "  <thead>\n",
       "    <tr style=\"text-align: right;\">\n",
       "      <th></th>\n",
       "      <th>document</th>\n",
       "      <th>text</th>\n",
       "      <th>type</th>\n",
       "      <th>start</th>\n",
       "      <th>end</th>\n",
       "      <th>cui</th>\n",
       "      <th>tuis</th>\n",
       "      <th>canonical</th>\n",
       "      <th>linker</th>\n",
       "      <th>confidence</th>\n",
       "    </tr>\n",
       "  </thead>\n",
       "  <tbody>\n",
       "    <tr>\n",
       "      <th>0</th>\n",
       "      <td>18_hodgkin-lymphom_0051_2</td>\n",
       "      <td>PET/CTs nach 2 Zyklen Chemotherapie</td>\n",
       "      <td>Diagnostic</td>\n",
       "      <td>140</td>\n",
       "      <td>175</td>\n",
       "      <td>C1559156</td>\n",
       "      <td>[T033]</td>\n",
       "      <td>Grade 2 Chemoradiation, CTCAE</td>\n",
       "      <td>[sapbert]</td>\n",
       "      <td>0.063704</td>\n",
       "    </tr>\n",
       "  </tbody>\n",
       "</table>\n",
       "</div>"
      ],
      "text/plain": [
       "                    document                                 text        type  \\\n",
       "0  18_hodgkin-lymphom_0051_2  PET/CTs nach 2 Zyklen Chemotherapie  Diagnostic   \n",
       "\n",
       "   start  end       cui    tuis                      canonical     linker  \\\n",
       "0    140  175  C1559156  [T033]  Grade 2 Chemoradiation, CTCAE  [sapbert]   \n",
       "\n",
       "   confidence  \n",
       "0    0.063704  "
      ]
     },
     "metadata": {},
     "output_type": "display_data"
    },
    {
     "name": "stdout",
     "output_type": "stream",
     "text": [
      "Filter:\n"
     ]
    },
    {
     "data": {
      "text/html": [
       "<div>\n",
       "<style scoped>\n",
       "    .dataframe tbody tr th:only-of-type {\n",
       "        vertical-align: middle;\n",
       "    }\n",
       "\n",
       "    .dataframe tbody tr th {\n",
       "        vertical-align: top;\n",
       "    }\n",
       "\n",
       "    .dataframe thead th {\n",
       "        text-align: right;\n",
       "    }\n",
       "</style>\n",
       "<table border=\"1\" class=\"dataframe\">\n",
       "  <thead>\n",
       "    <tr style=\"text-align: right;\">\n",
       "      <th></th>\n",
       "      <th>document</th>\n",
       "      <th>text</th>\n",
       "      <th>type</th>\n",
       "      <th>start</th>\n",
       "      <th>end</th>\n",
       "      <th>cui</th>\n",
       "      <th>tuis</th>\n",
       "      <th>canonical</th>\n",
       "      <th>linker</th>\n",
       "      <th>confidence</th>\n",
       "    </tr>\n",
       "  </thead>\n",
       "  <tbody>\n",
       "    <tr>\n",
       "      <th>0</th>\n",
       "      <td>18_hodgkin-lymphom_0051_2</td>\n",
       "      <td>PET/CTs nach 2 Zyklen Chemotherapie</td>\n",
       "      <td>Diagnostic</td>\n",
       "      <td>140</td>\n",
       "      <td>175</td>\n",
       "      <td>C0260835</td>\n",
       "      <td>[T061]</td>\n",
       "      <td>Chemotherapy follow-up</td>\n",
       "      <td>[sapbert]</td>\n",
       "      <td>0.06356</td>\n",
       "    </tr>\n",
       "  </tbody>\n",
       "</table>\n",
       "</div>"
      ],
      "text/plain": [
       "                    document                                 text        type  \\\n",
       "0  18_hodgkin-lymphom_0051_2  PET/CTs nach 2 Zyklen Chemotherapie  Diagnostic   \n",
       "\n",
       "   start  end       cui    tuis               canonical     linker  confidence  \n",
       "0    140  175  C0260835  [T061]  Chemotherapy follow-up  [sapbert]     0.06356  "
      ]
     },
     "metadata": {},
     "output_type": "display_data"
    },
    {
     "name": "stdout",
     "output_type": "stream",
     "text": [
      "####\n"
     ]
    },
    {
     "data": {
      "application/vnd.jupyter.widget-view+json": {
       "model_id": "7fdf4c136676459cbf494c153ba0b8a0",
       "version_major": 2,
       "version_minor": 0
      },
      "text/plain": [
       "  0%|          | 0/1 [00:00<?, ?it/s]"
      ]
     },
     "metadata": {},
     "output_type": "display_data"
    },
    {
     "data": {
      "application/vnd.jupyter.widget-view+json": {
       "model_id": "4711b1a6e4a04129a6530876f60da0c1",
       "version_major": 2,
       "version_minor": 0
      },
      "text/plain": [
       "  0%|          | 0/1 [00:00<?, ?it/s]"
      ]
     },
     "metadata": {},
     "output_type": "display_data"
    },
    {
     "data": {
      "application/vnd.jupyter.widget-view+json": {
       "model_id": "edc8c6240ac5441dbe691a4f6910d3cc",
       "version_major": 2,
       "version_minor": 0
      },
      "text/plain": [
       "  0%|          | 0/1 [00:00<?, ?it/s]"
      ]
     },
     "metadata": {},
     "output_type": "display_data"
    },
    {
     "data": {
      "application/vnd.jupyter.widget-view+json": {
       "model_id": "75f008da119541848817dcde63473f2f",
       "version_major": 2,
       "version_minor": 0
      },
      "text/plain": [
       "  0%|          | 0/1 [00:00<?, ?it/s]"
      ]
     },
     "metadata": {},
     "output_type": "display_data"
    },
    {
     "data": {
      "application/vnd.jupyter.widget-view+json": {
       "model_id": "a2ddb32f04b549aaab25aa721be000da",
       "version_major": 2,
       "version_minor": 0
      },
      "text/plain": [
       "  0%|          | 0/1 [00:00<?, ?it/s]"
      ]
     },
     "metadata": {},
     "output_type": "display_data"
    },
    {
     "data": {
      "application/vnd.jupyter.widget-view+json": {
       "model_id": "e6c4c99d316c47a8ba4954d452dc43b4",
       "version_major": 2,
       "version_minor": 0
      },
      "text/plain": [
       "  0%|          | 0/1 [00:00<?, ?it/s]"
      ]
     },
     "metadata": {},
     "output_type": "display_data"
    },
    {
     "name": "stdout",
     "output_type": "stream",
     "text": [
      "In die „RAPID“-Studie des britischen „National Cancer Research Institute“(NCRI) wurden Patienten im Stadium IA/IIA eines klassischen Hodgkin Lymphoms (bei Diagnosestellung lag bei ca. 70% der Patienten nach der GHSG-Risikostratifizierung ein frühes Stadium vor) bei Vorliegen eines negativen PET/CTs nach drei Zyklen ABVD entweder in einen Nachbeobachtungsarm oder in einen Therapiearm mit konsolidierender Strahlentherapie mit 30 Gy IF-RT randomisiert.\n",
      "\n",
      "No Filter:\n"
     ]
    },
    {
     "data": {
      "text/html": [
       "<div>\n",
       "<style scoped>\n",
       "    .dataframe tbody tr th:only-of-type {\n",
       "        vertical-align: middle;\n",
       "    }\n",
       "\n",
       "    .dataframe tbody tr th {\n",
       "        vertical-align: top;\n",
       "    }\n",
       "\n",
       "    .dataframe thead th {\n",
       "        text-align: right;\n",
       "    }\n",
       "</style>\n",
       "<table border=\"1\" class=\"dataframe\">\n",
       "  <thead>\n",
       "    <tr style=\"text-align: right;\">\n",
       "      <th></th>\n",
       "      <th>document</th>\n",
       "      <th>text</th>\n",
       "      <th>type</th>\n",
       "      <th>start</th>\n",
       "      <th>end</th>\n",
       "      <th>cui</th>\n",
       "      <th>tuis</th>\n",
       "      <th>canonical</th>\n",
       "      <th>linker</th>\n",
       "      <th>confidence</th>\n",
       "    </tr>\n",
       "  </thead>\n",
       "  <tbody>\n",
       "    <tr>\n",
       "      <th>3</th>\n",
       "      <td>18_hodgkin-lymphom_0051_5</td>\n",
       "      <td>GHSG-Risikostratifizierung</td>\n",
       "      <td>Diagnostic</td>\n",
       "      <td>211</td>\n",
       "      <td>237</td>\n",
       "      <td>C0018133</td>\n",
       "      <td>[T047]</td>\n",
       "      <td>Graft-versus-host-Krankheit</td>\n",
       "      <td>[sapbert]</td>\n",
       "      <td>0.063292</td>\n",
       "    </tr>\n",
       "  </tbody>\n",
       "</table>\n",
       "</div>"
      ],
      "text/plain": [
       "                    document                        text        type  start  \\\n",
       "3  18_hodgkin-lymphom_0051_5  GHSG-Risikostratifizierung  Diagnostic    211   \n",
       "\n",
       "   end       cui    tuis                    canonical     linker  confidence  \n",
       "3  237  C0018133  [T047]  Graft-versus-host-Krankheit  [sapbert]    0.063292  "
      ]
     },
     "metadata": {},
     "output_type": "display_data"
    },
    {
     "name": "stdout",
     "output_type": "stream",
     "text": [
      "Filter:\n"
     ]
    },
    {
     "data": {
      "text/html": [
       "<div>\n",
       "<style scoped>\n",
       "    .dataframe tbody tr th:only-of-type {\n",
       "        vertical-align: middle;\n",
       "    }\n",
       "\n",
       "    .dataframe tbody tr th {\n",
       "        vertical-align: top;\n",
       "    }\n",
       "\n",
       "    .dataframe thead th {\n",
       "        text-align: right;\n",
       "    }\n",
       "</style>\n",
       "<table border=\"1\" class=\"dataframe\">\n",
       "  <thead>\n",
       "    <tr style=\"text-align: right;\">\n",
       "      <th></th>\n",
       "      <th>document</th>\n",
       "      <th>text</th>\n",
       "      <th>type</th>\n",
       "      <th>start</th>\n",
       "      <th>end</th>\n",
       "      <th>cui</th>\n",
       "      <th>tuis</th>\n",
       "      <th>canonical</th>\n",
       "      <th>linker</th>\n",
       "      <th>confidence</th>\n",
       "    </tr>\n",
       "  </thead>\n",
       "  <tbody>\n",
       "    <tr>\n",
       "      <th>3</th>\n",
       "      <td>18_hodgkin-lymphom_0051_5</td>\n",
       "      <td>GHSG-Risikostratifizierung</td>\n",
       "      <td>Diagnostic</td>\n",
       "      <td>211</td>\n",
       "      <td>237</td>\n",
       "      <td>C0391690</td>\n",
       "      <td>[T116, T192]</td>\n",
       "      <td>Rezeptoren, Ghrelin-</td>\n",
       "      <td>[sapbert]</td>\n",
       "      <td>0.063205</td>\n",
       "    </tr>\n",
       "  </tbody>\n",
       "</table>\n",
       "</div>"
      ],
      "text/plain": [
       "                    document                        text        type  start  \\\n",
       "3  18_hodgkin-lymphom_0051_5  GHSG-Risikostratifizierung  Diagnostic    211   \n",
       "\n",
       "   end       cui          tuis             canonical     linker  confidence  \n",
       "3  237  C0391690  [T116, T192]  Rezeptoren, Ghrelin-  [sapbert]    0.063205  "
      ]
     },
     "metadata": {},
     "output_type": "display_data"
    },
    {
     "name": "stdout",
     "output_type": "stream",
     "text": [
      "####\n"
     ]
    },
    {
     "data": {
      "application/vnd.jupyter.widget-view+json": {
       "model_id": "a54b28dc6c204ba6afdcec91c9ccd2c3",
       "version_major": 2,
       "version_minor": 0
      },
      "text/plain": [
       "  0%|          | 0/1 [00:00<?, ?it/s]"
      ]
     },
     "metadata": {},
     "output_type": "display_data"
    },
    {
     "data": {
      "application/vnd.jupyter.widget-view+json": {
       "model_id": "7eb7c0ab943e47f6ab4d857998f5240e",
       "version_major": 2,
       "version_minor": 0
      },
      "text/plain": [
       "  0%|          | 0/1 [00:00<?, ?it/s]"
      ]
     },
     "metadata": {},
     "output_type": "display_data"
    },
    {
     "name": "stdout",
     "output_type": "stream",
     "text": [
      "Bei einem medianen Follow-up von 60 Monaten wurden im Beobachtungsarm 9.5% und im Strahlentherapiearm 3.5% Progresse dokumentiert.\n",
      "\n",
      "No Filter:\n"
     ]
    },
    {
     "data": {
      "text/html": [
       "<div>\n",
       "<style scoped>\n",
       "    .dataframe tbody tr th:only-of-type {\n",
       "        vertical-align: middle;\n",
       "    }\n",
       "\n",
       "    .dataframe tbody tr th {\n",
       "        vertical-align: top;\n",
       "    }\n",
       "\n",
       "    .dataframe thead th {\n",
       "        text-align: right;\n",
       "    }\n",
       "</style>\n",
       "<table border=\"1\" class=\"dataframe\">\n",
       "  <thead>\n",
       "    <tr style=\"text-align: right;\">\n",
       "      <th></th>\n",
       "      <th>document</th>\n",
       "      <th>text</th>\n",
       "      <th>type</th>\n",
       "      <th>start</th>\n",
       "      <th>end</th>\n",
       "      <th>cui</th>\n",
       "      <th>tuis</th>\n",
       "      <th>canonical</th>\n",
       "      <th>linker</th>\n",
       "      <th>confidence</th>\n",
       "    </tr>\n",
       "  </thead>\n",
       "  <tbody>\n",
       "    <tr>\n",
       "      <th>0</th>\n",
       "      <td>18_hodgkin-lymphom_0051_6</td>\n",
       "      <td>Beobachtungsarm</td>\n",
       "      <td>Diagnostic</td>\n",
       "      <td>54</td>\n",
       "      <td>69</td>\n",
       "      <td>C0302523</td>\n",
       "      <td>[T062]</td>\n",
       "      <td>Beobachtung</td>\n",
       "      <td>[ngram, sapbert]</td>\n",
       "      <td>0.088545</td>\n",
       "    </tr>\n",
       "  </tbody>\n",
       "</table>\n",
       "</div>"
      ],
      "text/plain": [
       "                    document             text        type  start  end  \\\n",
       "0  18_hodgkin-lymphom_0051_6  Beobachtungsarm  Diagnostic     54   69   \n",
       "\n",
       "        cui    tuis    canonical            linker  confidence  \n",
       "0  C0302523  [T062]  Beobachtung  [ngram, sapbert]    0.088545  "
      ]
     },
     "metadata": {},
     "output_type": "display_data"
    },
    {
     "name": "stdout",
     "output_type": "stream",
     "text": [
      "Filter:\n"
     ]
    },
    {
     "data": {
      "text/html": [
       "<div>\n",
       "<style scoped>\n",
       "    .dataframe tbody tr th:only-of-type {\n",
       "        vertical-align: middle;\n",
       "    }\n",
       "\n",
       "    .dataframe tbody tr th {\n",
       "        vertical-align: top;\n",
       "    }\n",
       "\n",
       "    .dataframe thead th {\n",
       "        text-align: right;\n",
       "    }\n",
       "</style>\n",
       "<table border=\"1\" class=\"dataframe\">\n",
       "  <thead>\n",
       "    <tr style=\"text-align: right;\">\n",
       "      <th></th>\n",
       "      <th>document</th>\n",
       "      <th>text</th>\n",
       "      <th>type</th>\n",
       "      <th>start</th>\n",
       "      <th>end</th>\n",
       "      <th>cui</th>\n",
       "      <th>tuis</th>\n",
       "      <th>canonical</th>\n",
       "      <th>linker</th>\n",
       "      <th>confidence</th>\n",
       "    </tr>\n",
       "  </thead>\n",
       "  <tbody>\n",
       "    <tr>\n",
       "      <th>0</th>\n",
       "      <td>18_hodgkin-lymphom_0051_6</td>\n",
       "      <td>Beobachtungsarm</td>\n",
       "      <td>Diagnostic</td>\n",
       "      <td>54</td>\n",
       "      <td>69</td>\n",
       "      <td>C0558046</td>\n",
       "      <td>[T061]</td>\n",
       "      <td>Levels of observation</td>\n",
       "      <td>[sapbert]</td>\n",
       "      <td>0.085869</td>\n",
       "    </tr>\n",
       "  </tbody>\n",
       "</table>\n",
       "</div>"
      ],
      "text/plain": [
       "                    document             text        type  start  end  \\\n",
       "0  18_hodgkin-lymphom_0051_6  Beobachtungsarm  Diagnostic     54   69   \n",
       "\n",
       "        cui    tuis              canonical     linker  confidence  \n",
       "0  C0558046  [T061]  Levels of observation  [sapbert]    0.085869  "
      ]
     },
     "metadata": {},
     "output_type": "display_data"
    },
    {
     "name": "stdout",
     "output_type": "stream",
     "text": [
      "####\n"
     ]
    },
    {
     "data": {
      "application/vnd.jupyter.widget-view+json": {
       "model_id": "fc8a10dbc6fb474b8e963f3479d87e20",
       "version_major": 2,
       "version_minor": 0
      },
      "text/plain": [
       "  0%|          | 0/1 [00:00<?, ?it/s]"
      ]
     },
     "metadata": {},
     "output_type": "display_data"
    },
    {
     "data": {
      "application/vnd.jupyter.widget-view+json": {
       "model_id": "4f014024ab4d45888d904d09f38ddb5b",
       "version_major": 2,
       "version_minor": 0
      },
      "text/plain": [
       "  0%|          | 0/1 [00:00<?, ?it/s]"
      ]
     },
     "metadata": {},
     "output_type": "display_data"
    },
    {
     "name": "stdout",
     "output_type": "stream",
     "text": [
      "In der „Intent-to-Treat“-Analyse betrug das 3-Jahres progressionsfreie Überleben (PFS) 94.6% (95% Konfidenzintervall [CI], 91.5% bis 97.7%) im Bestrahlungsarm und 90.8% (95% CI, 86.9% bis 94.8%) im Beobachtungsarm; noch deutlicher war der PFS-Unterschied in der „Per-Protocol“-Analyse mit einem 3-Jahres PFS von 97.1% (95% CI, 94.7% bis 99.6%) im Bestrahlungsarm und von 90.8% (95% CI, 86.8% bis 94.7%) im Beobachtungsarm.\n",
      "\n",
      "No Filter:\n"
     ]
    },
    {
     "data": {
      "text/html": [
       "<div>\n",
       "<style scoped>\n",
       "    .dataframe tbody tr th:only-of-type {\n",
       "        vertical-align: middle;\n",
       "    }\n",
       "\n",
       "    .dataframe tbody tr th {\n",
       "        vertical-align: top;\n",
       "    }\n",
       "\n",
       "    .dataframe thead th {\n",
       "        text-align: right;\n",
       "    }\n",
       "</style>\n",
       "<table border=\"1\" class=\"dataframe\">\n",
       "  <thead>\n",
       "    <tr style=\"text-align: right;\">\n",
       "      <th></th>\n",
       "      <th>document</th>\n",
       "      <th>text</th>\n",
       "      <th>type</th>\n",
       "      <th>start</th>\n",
       "      <th>end</th>\n",
       "      <th>cui</th>\n",
       "      <th>tuis</th>\n",
       "      <th>canonical</th>\n",
       "      <th>linker</th>\n",
       "      <th>confidence</th>\n",
       "    </tr>\n",
       "  </thead>\n",
       "  <tbody>\n",
       "    <tr>\n",
       "      <th>3</th>\n",
       "      <td>18_hodgkin-lymphom_0051_7</td>\n",
       "      <td>Beobachtungsarm</td>\n",
       "      <td>Diagnostic</td>\n",
       "      <td>198</td>\n",
       "      <td>213</td>\n",
       "      <td>C0302523</td>\n",
       "      <td>[T062]</td>\n",
       "      <td>Beobachtung</td>\n",
       "      <td>[ngram, sapbert]</td>\n",
       "      <td>0.089368</td>\n",
       "    </tr>\n",
       "  </tbody>\n",
       "</table>\n",
       "</div>"
      ],
      "text/plain": [
       "                    document             text        type  start  end  \\\n",
       "3  18_hodgkin-lymphom_0051_7  Beobachtungsarm  Diagnostic    198  213   \n",
       "\n",
       "        cui    tuis    canonical            linker  confidence  \n",
       "3  C0302523  [T062]  Beobachtung  [ngram, sapbert]    0.089368  "
      ]
     },
     "metadata": {},
     "output_type": "display_data"
    },
    {
     "name": "stdout",
     "output_type": "stream",
     "text": [
      "Filter:\n"
     ]
    },
    {
     "data": {
      "text/html": [
       "<div>\n",
       "<style scoped>\n",
       "    .dataframe tbody tr th:only-of-type {\n",
       "        vertical-align: middle;\n",
       "    }\n",
       "\n",
       "    .dataframe tbody tr th {\n",
       "        vertical-align: top;\n",
       "    }\n",
       "\n",
       "    .dataframe thead th {\n",
       "        text-align: right;\n",
       "    }\n",
       "</style>\n",
       "<table border=\"1\" class=\"dataframe\">\n",
       "  <thead>\n",
       "    <tr style=\"text-align: right;\">\n",
       "      <th></th>\n",
       "      <th>document</th>\n",
       "      <th>text</th>\n",
       "      <th>type</th>\n",
       "      <th>start</th>\n",
       "      <th>end</th>\n",
       "      <th>cui</th>\n",
       "      <th>tuis</th>\n",
       "      <th>canonical</th>\n",
       "      <th>linker</th>\n",
       "      <th>confidence</th>\n",
       "    </tr>\n",
       "  </thead>\n",
       "  <tbody>\n",
       "    <tr>\n",
       "      <th>3</th>\n",
       "      <td>18_hodgkin-lymphom_0051_7</td>\n",
       "      <td>Beobachtungsarm</td>\n",
       "      <td>Diagnostic</td>\n",
       "      <td>198</td>\n",
       "      <td>213</td>\n",
       "      <td>C1964257</td>\n",
       "      <td>[T060]</td>\n",
       "      <td>Observation</td>\n",
       "      <td>[sapbert]</td>\n",
       "      <td>0.08438</td>\n",
       "    </tr>\n",
       "  </tbody>\n",
       "</table>\n",
       "</div>"
      ],
      "text/plain": [
       "                    document             text        type  start  end  \\\n",
       "3  18_hodgkin-lymphom_0051_7  Beobachtungsarm  Diagnostic    198  213   \n",
       "\n",
       "        cui    tuis    canonical     linker  confidence  \n",
       "3  C1964257  [T060]  Observation  [sapbert]     0.08438  "
      ]
     },
     "metadata": {},
     "output_type": "display_data"
    },
    {
     "name": "stdout",
     "output_type": "stream",
     "text": [
      "####\n"
     ]
    },
    {
     "data": {
      "application/vnd.jupyter.widget-view+json": {
       "model_id": "c217772e127c49fcbb0fb6e143978f38",
       "version_major": 2,
       "version_minor": 0
      },
      "text/plain": [
       "  0%|          | 0/1 [00:00<?, ?it/s]"
      ]
     },
     "metadata": {},
     "output_type": "display_data"
    },
    {
     "data": {
      "application/vnd.jupyter.widget-view+json": {
       "model_id": "d03579a2bce64719844a406ecea036f1",
       "version_major": 2,
       "version_minor": 0
      },
      "text/plain": [
       "  0%|          | 0/1 [00:00<?, ?it/s]"
      ]
     },
     "metadata": {},
     "output_type": "display_data"
    },
    {
     "data": {
      "application/vnd.jupyter.widget-view+json": {
       "model_id": "e669a46b9cb34a5ca90958d4d636e451",
       "version_major": 2,
       "version_minor": 0
      },
      "text/plain": [
       "  0%|          | 0/1 [00:00<?, ?it/s]"
      ]
     },
     "metadata": {},
     "output_type": "display_data"
    },
    {
     "data": {
      "application/vnd.jupyter.widget-view+json": {
       "model_id": "8335dd96a7c547a9b111135e83de5080",
       "version_major": 2,
       "version_minor": 0
      },
      "text/plain": [
       "  0%|          | 0/1 [00:00<?, ?it/s]"
      ]
     },
     "metadata": {},
     "output_type": "display_data"
    },
    {
     "name": "stdout",
     "output_type": "stream",
     "text": [
      "In der H10F Studie der EORTC/The Lymphoma Study Association (LYSA)/Italian Foundation for Lymphoma Study (FIL) wurden Patienten im Stadium I/II eines klassischen Hodgkin Lymphoms ohne Vorliegen eines definierten Risikofaktors bei Dokumentation eines negativen PET/CTs nach zwei Zyklen ABVD im Standardarm mit einem weiteren Zyklus ABVD gefolgt von 30 Gy „involved-node“ (IN)-RT und im experimentellen Arm mit zwei weiteren Zyklen ABVD ohne konsolidierende Strahlentherapie behandelt.\n",
      "\n",
      "No Filter:\n"
     ]
    },
    {
     "data": {
      "text/html": [
       "<div>\n",
       "<style scoped>\n",
       "    .dataframe tbody tr th:only-of-type {\n",
       "        vertical-align: middle;\n",
       "    }\n",
       "\n",
       "    .dataframe tbody tr th {\n",
       "        vertical-align: top;\n",
       "    }\n",
       "\n",
       "    .dataframe thead th {\n",
       "        text-align: right;\n",
       "    }\n",
       "</style>\n",
       "<table border=\"1\" class=\"dataframe\">\n",
       "  <thead>\n",
       "    <tr style=\"text-align: right;\">\n",
       "      <th></th>\n",
       "      <th>document</th>\n",
       "      <th>text</th>\n",
       "      <th>type</th>\n",
       "      <th>start</th>\n",
       "      <th>end</th>\n",
       "      <th>cui</th>\n",
       "      <th>tuis</th>\n",
       "      <th>canonical</th>\n",
       "      <th>linker</th>\n",
       "      <th>confidence</th>\n",
       "    </tr>\n",
       "  </thead>\n",
       "  <tbody>\n",
       "    <tr>\n",
       "      <th>4</th>\n",
       "      <td>18_hodgkin-lymphom_0051_9</td>\n",
       "      <td>zwei weiteren Zyklen ABVD ohne konsolidierende...</td>\n",
       "      <td>Therapeutic</td>\n",
       "      <td>409</td>\n",
       "      <td>472</td>\n",
       "      <td>C1168319</td>\n",
       "      <td>[T033]</td>\n",
       "      <td>AV dual-paced rhythm</td>\n",
       "      <td>[sapbert]</td>\n",
       "      <td>0.062895</td>\n",
       "    </tr>\n",
       "  </tbody>\n",
       "</table>\n",
       "</div>"
      ],
      "text/plain": [
       "                    document  \\\n",
       "4  18_hodgkin-lymphom_0051_9   \n",
       "\n",
       "                                                text         type  start  end  \\\n",
       "4  zwei weiteren Zyklen ABVD ohne konsolidierende...  Therapeutic    409  472   \n",
       "\n",
       "        cui    tuis             canonical     linker  confidence  \n",
       "4  C1168319  [T033]  AV dual-paced rhythm  [sapbert]    0.062895  "
      ]
     },
     "metadata": {},
     "output_type": "display_data"
    },
    {
     "name": "stdout",
     "output_type": "stream",
     "text": [
      "Filter:\n"
     ]
    },
    {
     "data": {
      "text/html": [
       "<div>\n",
       "<style scoped>\n",
       "    .dataframe tbody tr th:only-of-type {\n",
       "        vertical-align: middle;\n",
       "    }\n",
       "\n",
       "    .dataframe tbody tr th {\n",
       "        vertical-align: top;\n",
       "    }\n",
       "\n",
       "    .dataframe thead th {\n",
       "        text-align: right;\n",
       "    }\n",
       "</style>\n",
       "<table border=\"1\" class=\"dataframe\">\n",
       "  <thead>\n",
       "    <tr style=\"text-align: right;\">\n",
       "      <th></th>\n",
       "      <th>document</th>\n",
       "      <th>text</th>\n",
       "      <th>type</th>\n",
       "      <th>start</th>\n",
       "      <th>end</th>\n",
       "      <th>cui</th>\n",
       "      <th>tuis</th>\n",
       "      <th>canonical</th>\n",
       "      <th>linker</th>\n",
       "      <th>confidence</th>\n",
       "    </tr>\n",
       "  </thead>\n",
       "  <tbody>\n",
       "    <tr>\n",
       "      <th>4</th>\n",
       "      <td>18_hodgkin-lymphom_0051_9</td>\n",
       "      <td>zwei weiteren Zyklen ABVD ohne konsolidierende...</td>\n",
       "      <td>Therapeutic</td>\n",
       "      <td>409</td>\n",
       "      <td>472</td>\n",
       "      <td>C0396772</td>\n",
       "      <td>[T061]</td>\n",
       "      <td>Revision of bypass for two coronary arteries</td>\n",
       "      <td>[sapbert]</td>\n",
       "      <td>0.064947</td>\n",
       "    </tr>\n",
       "  </tbody>\n",
       "</table>\n",
       "</div>"
      ],
      "text/plain": [
       "                    document  \\\n",
       "4  18_hodgkin-lymphom_0051_9   \n",
       "\n",
       "                                                text         type  start  end  \\\n",
       "4  zwei weiteren Zyklen ABVD ohne konsolidierende...  Therapeutic    409  472   \n",
       "\n",
       "        cui    tuis                                     canonical     linker  \\\n",
       "4  C0396772  [T061]  Revision of bypass for two coronary arteries  [sapbert]   \n",
       "\n",
       "   confidence  \n",
       "4    0.064947  "
      ]
     },
     "metadata": {},
     "output_type": "display_data"
    },
    {
     "name": "stdout",
     "output_type": "stream",
     "text": [
      "####\n"
     ]
    },
    {
     "data": {
      "application/vnd.jupyter.widget-view+json": {
       "model_id": "b3bfb96abbe94ba798ca30dae1dc7ef5",
       "version_major": 2,
       "version_minor": 0
      },
      "text/plain": [
       "  0%|          | 0/1 [00:00<?, ?it/s]"
      ]
     },
     "metadata": {},
     "output_type": "display_data"
    },
    {
     "data": {
      "application/vnd.jupyter.widget-view+json": {
       "model_id": "60c9b0880c8c4c88a868029b0fa43d79",
       "version_major": 2,
       "version_minor": 0
      },
      "text/plain": [
       "  0%|          | 0/1 [00:00<?, ?it/s]"
      ]
     },
     "metadata": {},
     "output_type": "display_data"
    },
    {
     "name": "stdout",
     "output_type": "stream",
     "text": [
      "Der experimentelle Arm wurde nach Vorliegen der Ergebnisse der 12-Monats-Interimsanalyse geschlossen, da im experimentellen Arm 9 Rezidive und im Standardarm nur 1 Rezidiv zu dokumentieren waren (1-Jahres PFS 94.9% (95% CI 91.9% bis 96.9%) bzw. 100%) [REF].\n",
      "\n",
      "No Filter:\n"
     ]
    },
    {
     "data": {
      "text/html": [
       "<div>\n",
       "<style scoped>\n",
       "    .dataframe tbody tr th:only-of-type {\n",
       "        vertical-align: middle;\n",
       "    }\n",
       "\n",
       "    .dataframe tbody tr th {\n",
       "        vertical-align: top;\n",
       "    }\n",
       "\n",
       "    .dataframe thead th {\n",
       "        text-align: right;\n",
       "    }\n",
       "</style>\n",
       "<table border=\"1\" class=\"dataframe\">\n",
       "  <thead>\n",
       "    <tr style=\"text-align: right;\">\n",
       "      <th></th>\n",
       "      <th>document</th>\n",
       "      <th>text</th>\n",
       "      <th>type</th>\n",
       "      <th>start</th>\n",
       "      <th>end</th>\n",
       "      <th>cui</th>\n",
       "      <th>tuis</th>\n",
       "      <th>canonical</th>\n",
       "      <th>linker</th>\n",
       "      <th>confidence</th>\n",
       "    </tr>\n",
       "  </thead>\n",
       "  <tbody>\n",
       "    <tr>\n",
       "      <th>2</th>\n",
       "      <td>18_hodgkin-lymphom_0051_10</td>\n",
       "      <td>1-Jahres PFS</td>\n",
       "      <td>Other_Finding</td>\n",
       "      <td>196</td>\n",
       "      <td>208</td>\n",
       "      <td>C0969299</td>\n",
       "      <td>[T116]</td>\n",
       "      <td>small heat shock protein, Pyrococcus furiosus</td>\n",
       "      <td>[sapbert]</td>\n",
       "      <td>0.092062</td>\n",
       "    </tr>\n",
       "  </tbody>\n",
       "</table>\n",
       "</div>"
      ],
      "text/plain": [
       "                     document          text           type  start  end  \\\n",
       "2  18_hodgkin-lymphom_0051_10  1-Jahres PFS  Other_Finding    196  208   \n",
       "\n",
       "        cui    tuis                                      canonical     linker  \\\n",
       "2  C0969299  [T116]  small heat shock protein, Pyrococcus furiosus  [sapbert]   \n",
       "\n",
       "   confidence  \n",
       "2    0.092062  "
      ]
     },
     "metadata": {},
     "output_type": "display_data"
    },
    {
     "name": "stdout",
     "output_type": "stream",
     "text": [
      "Filter:\n"
     ]
    },
    {
     "data": {
      "text/html": [
       "<div>\n",
       "<style scoped>\n",
       "    .dataframe tbody tr th:only-of-type {\n",
       "        vertical-align: middle;\n",
       "    }\n",
       "\n",
       "    .dataframe tbody tr th {\n",
       "        vertical-align: top;\n",
       "    }\n",
       "\n",
       "    .dataframe thead th {\n",
       "        text-align: right;\n",
       "    }\n",
       "</style>\n",
       "<table border=\"1\" class=\"dataframe\">\n",
       "  <thead>\n",
       "    <tr style=\"text-align: right;\">\n",
       "      <th></th>\n",
       "      <th>document</th>\n",
       "      <th>text</th>\n",
       "      <th>type</th>\n",
       "      <th>start</th>\n",
       "      <th>end</th>\n",
       "      <th>cui</th>\n",
       "      <th>tuis</th>\n",
       "      <th>canonical</th>\n",
       "      <th>linker</th>\n",
       "      <th>confidence</th>\n",
       "    </tr>\n",
       "  </thead>\n",
       "  <tbody>\n",
       "    <tr>\n",
       "      <th>2</th>\n",
       "      <td>18_hodgkin-lymphom_0051_10</td>\n",
       "      <td>1-Jahres PFS</td>\n",
       "      <td>Other_Finding</td>\n",
       "      <td>196</td>\n",
       "      <td>208</td>\n",
       "      <td>C1453067</td>\n",
       "      <td>[T116, T126]</td>\n",
       "      <td>aldo-keto reductase family 1 member C3 protein...</td>\n",
       "      <td>[sapbert]</td>\n",
       "      <td>0.063981</td>\n",
       "    </tr>\n",
       "  </tbody>\n",
       "</table>\n",
       "</div>"
      ],
      "text/plain": [
       "                     document          text           type  start  end  \\\n",
       "2  18_hodgkin-lymphom_0051_10  1-Jahres PFS  Other_Finding    196  208   \n",
       "\n",
       "        cui          tuis                                          canonical  \\\n",
       "2  C1453067  [T116, T126]  aldo-keto reductase family 1 member C3 protein...   \n",
       "\n",
       "      linker  confidence  \n",
       "2  [sapbert]    0.063981  "
      ]
     },
     "metadata": {},
     "output_type": "display_data"
    },
    {
     "name": "stdout",
     "output_type": "stream",
     "text": [
      "####\n"
     ]
    },
    {
     "data": {
      "application/vnd.jupyter.widget-view+json": {
       "model_id": "054aacc6a3014ef3963f8b00d0439390",
       "version_major": 2,
       "version_minor": 0
      },
      "text/plain": [
       "  0%|          | 0/1 [00:00<?, ?it/s]"
      ]
     },
     "metadata": {},
     "output_type": "display_data"
    },
    {
     "data": {
      "application/vnd.jupyter.widget-view+json": {
       "model_id": "d2878c1b703e4549bcbbf0cdecf6635c",
       "version_major": 2,
       "version_minor": 0
      },
      "text/plain": [
       "  0%|          | 0/1 [00:00<?, ?it/s]"
      ]
     },
     "metadata": {},
     "output_type": "display_data"
    },
    {
     "data": {
      "application/vnd.jupyter.widget-view+json": {
       "model_id": "3c19995b38164561bab4d623fbb80d87",
       "version_major": 2,
       "version_minor": 0
      },
      "text/plain": [
       "  0%|          | 0/1 [00:00<?, ?it/s]"
      ]
     },
     "metadata": {},
     "output_type": "display_data"
    },
    {
     "data": {
      "application/vnd.jupyter.widget-view+json": {
       "model_id": "e8c4c341068741c49fa965494519a56c",
       "version_major": 2,
       "version_minor": 0
      },
      "text/plain": [
       "  0%|          | 0/1 [00:00<?, ?it/s]"
      ]
     },
     "metadata": {},
     "output_type": "display_data"
    },
    {
     "data": {
      "application/vnd.jupyter.widget-view+json": {
       "model_id": "77a835d8c9874bbb8840edf3ad34ae04",
       "version_major": 2,
       "version_minor": 0
      },
      "text/plain": [
       "  0%|          | 0/1 [00:00<?, ?it/s]"
      ]
     },
     "metadata": {},
     "output_type": "display_data"
    },
    {
     "data": {
      "application/vnd.jupyter.widget-view+json": {
       "model_id": "77d7b2c676464ecfa7e0e0d1f0602511",
       "version_major": 2,
       "version_minor": 0
      },
      "text/plain": [
       "  0%|          | 0/1 [00:00<?, ?it/s]"
      ]
     },
     "metadata": {},
     "output_type": "display_data"
    },
    {
     "data": {
      "application/vnd.jupyter.widget-view+json": {
       "model_id": "0518a9ebb7a94e959ecb8c789ffa4e23",
       "version_major": 2,
       "version_minor": 0
      },
      "text/plain": [
       "  0%|          | 0/1 [00:00<?, ?it/s]"
      ]
     },
     "metadata": {},
     "output_type": "display_data"
    },
    {
     "data": {
      "application/vnd.jupyter.widget-view+json": {
       "model_id": "54585d6618564c4593b0831458470d44",
       "version_major": 2,
       "version_minor": 0
      },
      "text/plain": [
       "  0%|          | 0/1 [00:00<?, ?it/s]"
      ]
     },
     "metadata": {},
     "output_type": "display_data"
    },
    {
     "data": {
      "application/vnd.jupyter.widget-view+json": {
       "model_id": "a8bb59f84250430eb9ab9574cbdc8154",
       "version_major": 2,
       "version_minor": 0
      },
      "text/plain": [
       "  0%|          | 0/1 [00:00<?, ?it/s]"
      ]
     },
     "metadata": {},
     "output_type": "display_data"
    },
    {
     "data": {
      "application/vnd.jupyter.widget-view+json": {
       "model_id": "547e15cc57e44bd4908830f7210e5074",
       "version_major": 2,
       "version_minor": 0
      },
      "text/plain": [
       "  0%|          | 0/1 [00:00<?, ?it/s]"
      ]
     },
     "metadata": {},
     "output_type": "display_data"
    },
    {
     "name": "stdout",
     "output_type": "stream",
     "text": [
      "Der PFS-Unterschied war v.a. durch eine vermehrte Inzidenz an Rezidiven im Bereich der initialen Lymphomlokalisation und damit im Bestrahlungsfeld bedingt.\n",
      "\n",
      "No Filter:\n"
     ]
    },
    {
     "data": {
      "text/html": [
       "<div>\n",
       "<style scoped>\n",
       "    .dataframe tbody tr th:only-of-type {\n",
       "        vertical-align: middle;\n",
       "    }\n",
       "\n",
       "    .dataframe tbody tr th {\n",
       "        vertical-align: top;\n",
       "    }\n",
       "\n",
       "    .dataframe thead th {\n",
       "        text-align: right;\n",
       "    }\n",
       "</style>\n",
       "<table border=\"1\" class=\"dataframe\">\n",
       "  <thead>\n",
       "    <tr style=\"text-align: right;\">\n",
       "      <th></th>\n",
       "      <th>document</th>\n",
       "      <th>text</th>\n",
       "      <th>type</th>\n",
       "      <th>start</th>\n",
       "      <th>end</th>\n",
       "      <th>cui</th>\n",
       "      <th>tuis</th>\n",
       "      <th>canonical</th>\n",
       "      <th>linker</th>\n",
       "      <th>confidence</th>\n",
       "    </tr>\n",
       "  </thead>\n",
       "  <tbody>\n",
       "    <tr>\n",
       "      <th>0</th>\n",
       "      <td>18_hodgkin-lymphom_0051_15</td>\n",
       "      <td>PFS-Unterschied</td>\n",
       "      <td>Other_Finding</td>\n",
       "      <td>4</td>\n",
       "      <td>19</td>\n",
       "      <td>C0231981</td>\n",
       "      <td>[T034]</td>\n",
       "      <td>Partial expiratory flow-static recoil curve</td>\n",
       "      <td>[sapbert]</td>\n",
       "      <td>0.064313</td>\n",
       "    </tr>\n",
       "    <tr>\n",
       "      <th>2</th>\n",
       "      <td>18_hodgkin-lymphom_0051_15</td>\n",
       "      <td>Bestrahlungsfeld</td>\n",
       "      <td>Therapeutic</td>\n",
       "      <td>130</td>\n",
       "      <td>146</td>\n",
       "      <td>C1882536</td>\n",
       "      <td>[T029]</td>\n",
       "      <td>Radiation Field</td>\n",
       "      <td>[sapbert]</td>\n",
       "      <td>0.094267</td>\n",
       "    </tr>\n",
       "  </tbody>\n",
       "</table>\n",
       "</div>"
      ],
      "text/plain": [
       "                     document              text           type  start  end  \\\n",
       "0  18_hodgkin-lymphom_0051_15   PFS-Unterschied  Other_Finding      4   19   \n",
       "2  18_hodgkin-lymphom_0051_15  Bestrahlungsfeld    Therapeutic    130  146   \n",
       "\n",
       "        cui    tuis                                    canonical     linker  \\\n",
       "0  C0231981  [T034]  Partial expiratory flow-static recoil curve  [sapbert]   \n",
       "2  C1882536  [T029]                              Radiation Field  [sapbert]   \n",
       "\n",
       "   confidence  \n",
       "0    0.064313  \n",
       "2    0.094267  "
      ]
     },
     "metadata": {},
     "output_type": "display_data"
    },
    {
     "name": "stdout",
     "output_type": "stream",
     "text": [
      "Filter:\n"
     ]
    },
    {
     "data": {
      "text/html": [
       "<div>\n",
       "<style scoped>\n",
       "    .dataframe tbody tr th:only-of-type {\n",
       "        vertical-align: middle;\n",
       "    }\n",
       "\n",
       "    .dataframe tbody tr th {\n",
       "        vertical-align: top;\n",
       "    }\n",
       "\n",
       "    .dataframe thead th {\n",
       "        text-align: right;\n",
       "    }\n",
       "</style>\n",
       "<table border=\"1\" class=\"dataframe\">\n",
       "  <thead>\n",
       "    <tr style=\"text-align: right;\">\n",
       "      <th></th>\n",
       "      <th>document</th>\n",
       "      <th>text</th>\n",
       "      <th>type</th>\n",
       "      <th>start</th>\n",
       "      <th>end</th>\n",
       "      <th>cui</th>\n",
       "      <th>tuis</th>\n",
       "      <th>canonical</th>\n",
       "      <th>linker</th>\n",
       "      <th>confidence</th>\n",
       "    </tr>\n",
       "  </thead>\n",
       "  <tbody>\n",
       "    <tr>\n",
       "      <th>0</th>\n",
       "      <td>18_hodgkin-lymphom_0051_15</td>\n",
       "      <td>PFS-Unterschied</td>\n",
       "      <td>Other_Finding</td>\n",
       "      <td>4</td>\n",
       "      <td>19</td>\n",
       "      <td>C1453067</td>\n",
       "      <td>[T116, T126]</td>\n",
       "      <td>aldo-keto reductase family 1 member C3 protein...</td>\n",
       "      <td>[sapbert]</td>\n",
       "      <td>0.064342</td>\n",
       "    </tr>\n",
       "    <tr>\n",
       "      <th>2</th>\n",
       "      <td>18_hodgkin-lymphom_0051_15</td>\n",
       "      <td>Bestrahlungsfeld</td>\n",
       "      <td>Therapeutic</td>\n",
       "      <td>130</td>\n",
       "      <td>146</td>\n",
       "      <td>C0851346</td>\n",
       "      <td>[T070]</td>\n",
       "      <td>Strahlung</td>\n",
       "      <td>[ngram, sapbert]</td>\n",
       "      <td>0.069980</td>\n",
       "    </tr>\n",
       "  </tbody>\n",
       "</table>\n",
       "</div>"
      ],
      "text/plain": [
       "                     document              text           type  start  end  \\\n",
       "0  18_hodgkin-lymphom_0051_15   PFS-Unterschied  Other_Finding      4   19   \n",
       "2  18_hodgkin-lymphom_0051_15  Bestrahlungsfeld    Therapeutic    130  146   \n",
       "\n",
       "        cui          tuis                                          canonical  \\\n",
       "0  C1453067  [T116, T126]  aldo-keto reductase family 1 member C3 protein...   \n",
       "2  C0851346        [T070]                                          Strahlung   \n",
       "\n",
       "             linker  confidence  \n",
       "0         [sapbert]    0.064342  \n",
       "2  [ngram, sapbert]    0.069980  "
      ]
     },
     "metadata": {},
     "output_type": "display_data"
    },
    {
     "name": "stdout",
     "output_type": "stream",
     "text": [
      "####\n"
     ]
    },
    {
     "data": {
      "application/vnd.jupyter.widget-view+json": {
       "model_id": "1251b1f6c88949549b730c71089dc004",
       "version_major": 2,
       "version_minor": 0
      },
      "text/plain": [
       "  0%|          | 0/1 [00:00<?, ?it/s]"
      ]
     },
     "metadata": {},
     "output_type": "display_data"
    },
    {
     "data": {
      "application/vnd.jupyter.widget-view+json": {
       "model_id": "d8669f754027496aa59654670a60de45",
       "version_major": 2,
       "version_minor": 0
      },
      "text/plain": [
       "  0%|          | 0/1 [00:00<?, ?it/s]"
      ]
     },
     "metadata": {},
     "output_type": "display_data"
    },
    {
     "data": {
      "application/vnd.jupyter.widget-view+json": {
       "model_id": "7f7123631ce941e790b5bd89de572dde",
       "version_major": 2,
       "version_minor": 0
      },
      "text/plain": [
       "  0%|          | 0/1 [00:00<?, ?it/s]"
      ]
     },
     "metadata": {},
     "output_type": "display_data"
    },
    {
     "data": {
      "application/vnd.jupyter.widget-view+json": {
       "model_id": "283cdbe0ad5347e9b2381149ce80bc6b",
       "version_major": 2,
       "version_minor": 0
      },
      "text/plain": [
       "  0%|          | 0/1 [00:00<?, ?it/s]"
      ]
     },
     "metadata": {},
     "output_type": "display_data"
    },
    {
     "data": {
      "application/vnd.jupyter.widget-view+json": {
       "model_id": "4c370012735d4fb6874933350d464783",
       "version_major": 2,
       "version_minor": 0
      },
      "text/plain": [
       "  0%|          | 0/1 [00:00<?, ?it/s]"
      ]
     },
     "metadata": {},
     "output_type": "display_data"
    },
    {
     "data": {
      "application/vnd.jupyter.widget-view+json": {
       "model_id": "2a33dfc7be204a629500ab469ae4472f",
       "version_major": 2,
       "version_minor": 0
      },
      "text/plain": [
       "  0%|          | 0/1 [00:00<?, ?it/s]"
      ]
     },
     "metadata": {},
     "output_type": "display_data"
    },
    {
     "data": {
      "application/vnd.jupyter.widget-view+json": {
       "model_id": "9c6a594f97fd4f2aad7c6242a2500e70",
       "version_major": 2,
       "version_minor": 0
      },
      "text/plain": [
       "  0%|          | 0/1 [00:00<?, ?it/s]"
      ]
     },
     "metadata": {},
     "output_type": "display_data"
    },
    {
     "data": {
      "application/vnd.jupyter.widget-view+json": {
       "model_id": "5c5776902d924770a795b2c3818a0f46",
       "version_major": 2,
       "version_minor": 0
      },
      "text/plain": [
       "  0%|          | 0/1 [00:00<?, ?it/s]"
      ]
     },
     "metadata": {},
     "output_type": "display_data"
    },
    {
     "name": "stdout",
     "output_type": "stream",
     "text": [
      "Zusammenfassend ergab die Meta-Analyse der RAPID-, H10F- und HD16-Studie der GHSG, dass der Verzicht auf eine konsolidierende Strahlentherapie trotz Dokumentation einer PET-Negativität nach zwei bis drei Zyklen ABVD mit einer niedrigeren Tumorkontrolle und damit einem niedrigeren PFS/EFS einhergeht ( [REF] [REF] und Metaanalyse im Leitlinienreport).\n",
      "\n",
      "No Filter:\n"
     ]
    },
    {
     "data": {
      "text/html": [
       "<div>\n",
       "<style scoped>\n",
       "    .dataframe tbody tr th:only-of-type {\n",
       "        vertical-align: middle;\n",
       "    }\n",
       "\n",
       "    .dataframe tbody tr th {\n",
       "        vertical-align: top;\n",
       "    }\n",
       "\n",
       "    .dataframe thead th {\n",
       "        text-align: right;\n",
       "    }\n",
       "</style>\n",
       "<table border=\"1\" class=\"dataframe\">\n",
       "  <thead>\n",
       "    <tr style=\"text-align: right;\">\n",
       "      <th></th>\n",
       "      <th>document</th>\n",
       "      <th>text</th>\n",
       "      <th>type</th>\n",
       "      <th>start</th>\n",
       "      <th>end</th>\n",
       "      <th>cui</th>\n",
       "      <th>tuis</th>\n",
       "      <th>canonical</th>\n",
       "      <th>linker</th>\n",
       "      <th>confidence</th>\n",
       "    </tr>\n",
       "  </thead>\n",
       "  <tbody>\n",
       "    <tr>\n",
       "      <th>1</th>\n",
       "      <td>18_hodgkin-lymphom_0051_19</td>\n",
       "      <td>Dokumentation einer PET-Negativität nach zwei ...</td>\n",
       "      <td>Diagnostic</td>\n",
       "      <td>149</td>\n",
       "      <td>215</td>\n",
       "      <td>C0439619</td>\n",
       "      <td>[T079]</td>\n",
       "      <td>Two stage revision</td>\n",
       "      <td>[sapbert]</td>\n",
       "      <td>0.062827</td>\n",
       "    </tr>\n",
       "    <tr>\n",
       "      <th>2</th>\n",
       "      <td>18_hodgkin-lymphom_0051_19</td>\n",
       "      <td>Dokumentation einer PET-Negativität</td>\n",
       "      <td>Diagnostic</td>\n",
       "      <td>149</td>\n",
       "      <td>184</td>\n",
       "      <td>C0853546</td>\n",
       "      <td>[T033]</td>\n",
       "      <td>Positron emission tomogram abnormal</td>\n",
       "      <td>[sapbert]</td>\n",
       "      <td>0.064737</td>\n",
       "    </tr>\n",
       "    <tr>\n",
       "      <th>4</th>\n",
       "      <td>18_hodgkin-lymphom_0051_19</td>\n",
       "      <td>zwei bis drei Zyklen ABVD</td>\n",
       "      <td>Therapeutic</td>\n",
       "      <td>190</td>\n",
       "      <td>215</td>\n",
       "      <td>C0050380</td>\n",
       "      <td>[T061]</td>\n",
       "      <td>BLEO/DOX/DTIC/VBL</td>\n",
       "      <td>[sapbert]</td>\n",
       "      <td>0.066833</td>\n",
       "    </tr>\n",
       "  </tbody>\n",
       "</table>\n",
       "</div>"
      ],
      "text/plain": [
       "                     document  \\\n",
       "1  18_hodgkin-lymphom_0051_19   \n",
       "2  18_hodgkin-lymphom_0051_19   \n",
       "4  18_hodgkin-lymphom_0051_19   \n",
       "\n",
       "                                                text         type  start  end  \\\n",
       "1  Dokumentation einer PET-Negativität nach zwei ...   Diagnostic    149  215   \n",
       "2                Dokumentation einer PET-Negativität   Diagnostic    149  184   \n",
       "4                          zwei bis drei Zyklen ABVD  Therapeutic    190  215   \n",
       "\n",
       "        cui    tuis                            canonical     linker  \\\n",
       "1  C0439619  [T079]                   Two stage revision  [sapbert]   \n",
       "2  C0853546  [T033]  Positron emission tomogram abnormal  [sapbert]   \n",
       "4  C0050380  [T061]                    BLEO/DOX/DTIC/VBL  [sapbert]   \n",
       "\n",
       "   confidence  \n",
       "1    0.062827  \n",
       "2    0.064737  \n",
       "4    0.066833  "
      ]
     },
     "metadata": {},
     "output_type": "display_data"
    },
    {
     "name": "stdout",
     "output_type": "stream",
     "text": [
      "Filter:\n"
     ]
    },
    {
     "data": {
      "text/html": [
       "<div>\n",
       "<style scoped>\n",
       "    .dataframe tbody tr th:only-of-type {\n",
       "        vertical-align: middle;\n",
       "    }\n",
       "\n",
       "    .dataframe tbody tr th {\n",
       "        vertical-align: top;\n",
       "    }\n",
       "\n",
       "    .dataframe thead th {\n",
       "        text-align: right;\n",
       "    }\n",
       "</style>\n",
       "<table border=\"1\" class=\"dataframe\">\n",
       "  <thead>\n",
       "    <tr style=\"text-align: right;\">\n",
       "      <th></th>\n",
       "      <th>document</th>\n",
       "      <th>text</th>\n",
       "      <th>type</th>\n",
       "      <th>start</th>\n",
       "      <th>end</th>\n",
       "      <th>cui</th>\n",
       "      <th>tuis</th>\n",
       "      <th>canonical</th>\n",
       "      <th>linker</th>\n",
       "      <th>confidence</th>\n",
       "    </tr>\n",
       "  </thead>\n",
       "  <tbody>\n",
       "    <tr>\n",
       "      <th>1</th>\n",
       "      <td>18_hodgkin-lymphom_0051_19</td>\n",
       "      <td>Dokumentation einer PET-Negativität nach zwei ...</td>\n",
       "      <td>Diagnostic</td>\n",
       "      <td>149</td>\n",
       "      <td>215</td>\n",
       "      <td>C4085919</td>\n",
       "      <td>[T060]</td>\n",
       "      <td>4D PET Scan</td>\n",
       "      <td>[sapbert]</td>\n",
       "      <td>0.063313</td>\n",
       "    </tr>\n",
       "    <tr>\n",
       "      <th>2</th>\n",
       "      <td>18_hodgkin-lymphom_0051_19</td>\n",
       "      <td>Dokumentation einer PET-Negativität</td>\n",
       "      <td>Diagnostic</td>\n",
       "      <td>149</td>\n",
       "      <td>184</td>\n",
       "      <td>C0182349</td>\n",
       "      <td>[T074]</td>\n",
       "      <td>Positron emission tomography unit</td>\n",
       "      <td>[sapbert]</td>\n",
       "      <td>0.064357</td>\n",
       "    </tr>\n",
       "    <tr>\n",
       "      <th>4</th>\n",
       "      <td>18_hodgkin-lymphom_0051_19</td>\n",
       "      <td>zwei bis drei Zyklen ABVD</td>\n",
       "      <td>Therapeutic</td>\n",
       "      <td>190</td>\n",
       "      <td>215</td>\n",
       "      <td>C1741578</td>\n",
       "      <td>[T116, T123]</td>\n",
       "      <td>dual altered peptide ligand</td>\n",
       "      <td>[sapbert]</td>\n",
       "      <td>0.078018</td>\n",
       "    </tr>\n",
       "  </tbody>\n",
       "</table>\n",
       "</div>"
      ],
      "text/plain": [
       "                     document  \\\n",
       "1  18_hodgkin-lymphom_0051_19   \n",
       "2  18_hodgkin-lymphom_0051_19   \n",
       "4  18_hodgkin-lymphom_0051_19   \n",
       "\n",
       "                                                text         type  start  end  \\\n",
       "1  Dokumentation einer PET-Negativität nach zwei ...   Diagnostic    149  215   \n",
       "2                Dokumentation einer PET-Negativität   Diagnostic    149  184   \n",
       "4                          zwei bis drei Zyklen ABVD  Therapeutic    190  215   \n",
       "\n",
       "        cui          tuis                          canonical     linker  \\\n",
       "1  C4085919        [T060]                        4D PET Scan  [sapbert]   \n",
       "2  C0182349        [T074]  Positron emission tomography unit  [sapbert]   \n",
       "4  C1741578  [T116, T123]        dual altered peptide ligand  [sapbert]   \n",
       "\n",
       "   confidence  \n",
       "1    0.063313  \n",
       "2    0.064357  \n",
       "4    0.078018  "
      ]
     },
     "metadata": {},
     "output_type": "display_data"
    },
    {
     "name": "stdout",
     "output_type": "stream",
     "text": [
      "####\n"
     ]
    },
    {
     "data": {
      "application/vnd.jupyter.widget-view+json": {
       "model_id": "5aa302c73574493ea1976af069e77cb7",
       "version_major": 2,
       "version_minor": 0
      },
      "text/plain": [
       "  0%|          | 0/1 [00:00<?, ?it/s]"
      ]
     },
     "metadata": {},
     "output_type": "display_data"
    },
    {
     "data": {
      "application/vnd.jupyter.widget-view+json": {
       "model_id": "30930a8229604e2584dc168f19117718",
       "version_major": 2,
       "version_minor": 0
      },
      "text/plain": [
       "  0%|          | 0/1 [00:00<?, ?it/s]"
      ]
     },
     "metadata": {},
     "output_type": "display_data"
    },
    {
     "name": "stdout",
     "output_type": "stream",
     "text": [
      "Datenlage zum prädiktiven Wert einer positiven Interim-PET nach zwei/drei Zyklen ABVD\n",
      "\n",
      "No Filter:\n"
     ]
    },
    {
     "data": {
      "text/html": [
       "<div>\n",
       "<style scoped>\n",
       "    .dataframe tbody tr th:only-of-type {\n",
       "        vertical-align: middle;\n",
       "    }\n",
       "\n",
       "    .dataframe tbody tr th {\n",
       "        vertical-align: top;\n",
       "    }\n",
       "\n",
       "    .dataframe thead th {\n",
       "        text-align: right;\n",
       "    }\n",
       "</style>\n",
       "<table border=\"1\" class=\"dataframe\">\n",
       "  <thead>\n",
       "    <tr style=\"text-align: right;\">\n",
       "      <th></th>\n",
       "      <th>document</th>\n",
       "      <th>text</th>\n",
       "      <th>type</th>\n",
       "      <th>start</th>\n",
       "      <th>end</th>\n",
       "      <th>cui</th>\n",
       "      <th>tuis</th>\n",
       "      <th>canonical</th>\n",
       "      <th>linker</th>\n",
       "      <th>confidence</th>\n",
       "    </tr>\n",
       "  </thead>\n",
       "  <tbody>\n",
       "    <tr>\n",
       "      <th>1</th>\n",
       "      <td>18_hodgkin-lymphom_0051_20</td>\n",
       "      <td>zwei/drei Zyklen ABVD</td>\n",
       "      <td>Therapeutic</td>\n",
       "      <td>64</td>\n",
       "      <td>85</td>\n",
       "      <td>C0050380</td>\n",
       "      <td>[T061]</td>\n",
       "      <td>BLEO/DOX/DTIC/VBL</td>\n",
       "      <td>[sapbert]</td>\n",
       "      <td>0.065966</td>\n",
       "    </tr>\n",
       "  </tbody>\n",
       "</table>\n",
       "</div>"
      ],
      "text/plain": [
       "                     document                   text         type  start  end  \\\n",
       "1  18_hodgkin-lymphom_0051_20  zwei/drei Zyklen ABVD  Therapeutic     64   85   \n",
       "\n",
       "        cui    tuis          canonical     linker  confidence  \n",
       "1  C0050380  [T061]  BLEO/DOX/DTIC/VBL  [sapbert]    0.065966  "
      ]
     },
     "metadata": {},
     "output_type": "display_data"
    },
    {
     "name": "stdout",
     "output_type": "stream",
     "text": [
      "Filter:\n"
     ]
    },
    {
     "data": {
      "text/html": [
       "<div>\n",
       "<style scoped>\n",
       "    .dataframe tbody tr th:only-of-type {\n",
       "        vertical-align: middle;\n",
       "    }\n",
       "\n",
       "    .dataframe tbody tr th {\n",
       "        vertical-align: top;\n",
       "    }\n",
       "\n",
       "    .dataframe thead th {\n",
       "        text-align: right;\n",
       "    }\n",
       "</style>\n",
       "<table border=\"1\" class=\"dataframe\">\n",
       "  <thead>\n",
       "    <tr style=\"text-align: right;\">\n",
       "      <th></th>\n",
       "      <th>document</th>\n",
       "      <th>text</th>\n",
       "      <th>type</th>\n",
       "      <th>start</th>\n",
       "      <th>end</th>\n",
       "      <th>cui</th>\n",
       "      <th>tuis</th>\n",
       "      <th>canonical</th>\n",
       "      <th>linker</th>\n",
       "      <th>confidence</th>\n",
       "    </tr>\n",
       "  </thead>\n",
       "  <tbody>\n",
       "    <tr>\n",
       "      <th>1</th>\n",
       "      <td>18_hodgkin-lymphom_0051_20</td>\n",
       "      <td>zwei/drei Zyklen ABVD</td>\n",
       "      <td>Therapeutic</td>\n",
       "      <td>64</td>\n",
       "      <td>85</td>\n",
       "      <td>C1741578</td>\n",
       "      <td>[T116, T123]</td>\n",
       "      <td>dual altered peptide ligand</td>\n",
       "      <td>[sapbert]</td>\n",
       "      <td>0.066139</td>\n",
       "    </tr>\n",
       "  </tbody>\n",
       "</table>\n",
       "</div>"
      ],
      "text/plain": [
       "                     document                   text         type  start  end  \\\n",
       "1  18_hodgkin-lymphom_0051_20  zwei/drei Zyklen ABVD  Therapeutic     64   85   \n",
       "\n",
       "        cui          tuis                    canonical     linker  confidence  \n",
       "1  C1741578  [T116, T123]  dual altered peptide ligand  [sapbert]    0.066139  "
      ]
     },
     "metadata": {},
     "output_type": "display_data"
    },
    {
     "name": "stdout",
     "output_type": "stream",
     "text": [
      "####\n"
     ]
    },
    {
     "data": {
      "application/vnd.jupyter.widget-view+json": {
       "model_id": "9230b772a826480c90d59b62232c74d4",
       "version_major": 2,
       "version_minor": 0
      },
      "text/plain": [
       "  0%|          | 0/1 [00:00<?, ?it/s]"
      ]
     },
     "metadata": {},
     "output_type": "display_data"
    },
    {
     "data": {
      "application/vnd.jupyter.widget-view+json": {
       "model_id": "297a9140b77f4784a8b31945df3ac0c0",
       "version_major": 2,
       "version_minor": 0
      },
      "text/plain": [
       "  0%|          | 0/1 [00:00<?, ?it/s]"
      ]
     },
     "metadata": {},
     "output_type": "display_data"
    },
    {
     "data": {
      "application/vnd.jupyter.widget-view+json": {
       "model_id": "5198cc8866104a8f960d9e456174c5fd",
       "version_major": 2,
       "version_minor": 0
      },
      "text/plain": [
       "  0%|          | 0/1 [00:00<?, ?it/s]"
      ]
     },
     "metadata": {},
     "output_type": "display_data"
    },
    {
     "data": {
      "application/vnd.jupyter.widget-view+json": {
       "model_id": "b245ac89702543268bd8ec69a2fd5223",
       "version_major": 2,
       "version_minor": 0
      },
      "text/plain": [
       "  0%|          | 0/1 [00:00<?, ?it/s]"
      ]
     },
     "metadata": {},
     "output_type": "display_data"
    },
    {
     "data": {
      "application/vnd.jupyter.widget-view+json": {
       "model_id": "878ed9980631415cb82b27d4cc44fc30",
       "version_major": 2,
       "version_minor": 0
      },
      "text/plain": [
       "  0%|          | 0/1 [00:00<?, ?it/s]"
      ]
     },
     "metadata": {},
     "output_type": "display_data"
    },
    {
     "data": {
      "application/vnd.jupyter.widget-view+json": {
       "model_id": "954a12df559c45949242f844557030c8",
       "version_major": 2,
       "version_minor": 0
      },
      "text/plain": [
       "  0%|          | 0/1 [00:00<?, ?it/s]"
      ]
     },
     "metadata": {},
     "output_type": "display_data"
    },
    {
     "data": {
      "application/vnd.jupyter.widget-view+json": {
       "model_id": "96cb99dc8477423da9f21846c852ad2a",
       "version_major": 2,
       "version_minor": 0
      },
      "text/plain": [
       "  0%|          | 0/1 [00:00<?, ?it/s]"
      ]
     },
     "metadata": {},
     "output_type": "display_data"
    },
    {
     "data": {
      "application/vnd.jupyter.widget-view+json": {
       "model_id": "02cba1491b744421ba8a03db62cfda71",
       "version_major": 2,
       "version_minor": 0
      },
      "text/plain": [
       "  0%|          | 0/1 [00:00<?, ?it/s]"
      ]
     },
     "metadata": {},
     "output_type": "display_data"
    },
    {
     "name": "stdout",
     "output_type": "stream",
     "text": [
      "Für die im experimentellen Arm behandelten PET-positiven Patienten wurde eine signifikant höhere 5-Jahres-PFS-Rate (90.6%, 95% CI 84.7% bis 94.3%) im Vergleich zu der im Standardarm behandelten PET-positiven Patienten (5-Jahres PFS 77.4%; 95%CI 70.4% bis 82.9%) dokumentiert [REF].\n",
      "\n",
      "No Filter:\n"
     ]
    },
    {
     "data": {
      "text/html": [
       "<div>\n",
       "<style scoped>\n",
       "    .dataframe tbody tr th:only-of-type {\n",
       "        vertical-align: middle;\n",
       "    }\n",
       "\n",
       "    .dataframe tbody tr th {\n",
       "        vertical-align: top;\n",
       "    }\n",
       "\n",
       "    .dataframe thead th {\n",
       "        text-align: right;\n",
       "    }\n",
       "</style>\n",
       "<table border=\"1\" class=\"dataframe\">\n",
       "  <thead>\n",
       "    <tr style=\"text-align: right;\">\n",
       "      <th></th>\n",
       "      <th>document</th>\n",
       "      <th>text</th>\n",
       "      <th>type</th>\n",
       "      <th>start</th>\n",
       "      <th>end</th>\n",
       "      <th>cui</th>\n",
       "      <th>tuis</th>\n",
       "      <th>canonical</th>\n",
       "      <th>linker</th>\n",
       "      <th>confidence</th>\n",
       "    </tr>\n",
       "  </thead>\n",
       "  <tbody>\n",
       "    <tr>\n",
       "      <th>1</th>\n",
       "      <td>18_hodgkin-lymphom_0051_24</td>\n",
       "      <td>5-Jahres-PFS-Rate</td>\n",
       "      <td>Other_Finding</td>\n",
       "      <td>97</td>\n",
       "      <td>114</td>\n",
       "      <td>C2936093</td>\n",
       "      <td>[T116]</td>\n",
       "      <td>l-phenylalanyl sarcosine</td>\n",
       "      <td>[sapbert]</td>\n",
       "      <td>0.093998</td>\n",
       "    </tr>\n",
       "  </tbody>\n",
       "</table>\n",
       "</div>"
      ],
      "text/plain": [
       "                     document               text           type  start  end  \\\n",
       "1  18_hodgkin-lymphom_0051_24  5-Jahres-PFS-Rate  Other_Finding     97  114   \n",
       "\n",
       "        cui    tuis                 canonical     linker  confidence  \n",
       "1  C2936093  [T116]  l-phenylalanyl sarcosine  [sapbert]    0.093998  "
      ]
     },
     "metadata": {},
     "output_type": "display_data"
    },
    {
     "name": "stdout",
     "output_type": "stream",
     "text": [
      "Filter:\n"
     ]
    },
    {
     "data": {
      "text/html": [
       "<div>\n",
       "<style scoped>\n",
       "    .dataframe tbody tr th:only-of-type {\n",
       "        vertical-align: middle;\n",
       "    }\n",
       "\n",
       "    .dataframe tbody tr th {\n",
       "        vertical-align: top;\n",
       "    }\n",
       "\n",
       "    .dataframe thead th {\n",
       "        text-align: right;\n",
       "    }\n",
       "</style>\n",
       "<table border=\"1\" class=\"dataframe\">\n",
       "  <thead>\n",
       "    <tr style=\"text-align: right;\">\n",
       "      <th></th>\n",
       "      <th>document</th>\n",
       "      <th>text</th>\n",
       "      <th>type</th>\n",
       "      <th>start</th>\n",
       "      <th>end</th>\n",
       "      <th>cui</th>\n",
       "      <th>tuis</th>\n",
       "      <th>canonical</th>\n",
       "      <th>linker</th>\n",
       "      <th>confidence</th>\n",
       "    </tr>\n",
       "  </thead>\n",
       "  <tbody>\n",
       "    <tr>\n",
       "      <th>1</th>\n",
       "      <td>18_hodgkin-lymphom_0051_24</td>\n",
       "      <td>5-Jahres-PFS-Rate</td>\n",
       "      <td>Other_Finding</td>\n",
       "      <td>97</td>\n",
       "      <td>114</td>\n",
       "      <td>C2933387</td>\n",
       "      <td>[T109]</td>\n",
       "      <td>poly(poly(ethylene glycol)methyl ether methacr...</td>\n",
       "      <td>[sapbert]</td>\n",
       "      <td>0.098485</td>\n",
       "    </tr>\n",
       "  </tbody>\n",
       "</table>\n",
       "</div>"
      ],
      "text/plain": [
       "                     document               text           type  start  end  \\\n",
       "1  18_hodgkin-lymphom_0051_24  5-Jahres-PFS-Rate  Other_Finding     97  114   \n",
       "\n",
       "        cui    tuis                                          canonical  \\\n",
       "1  C2933387  [T109]  poly(poly(ethylene glycol)methyl ether methacr...   \n",
       "\n",
       "      linker  confidence  \n",
       "1  [sapbert]    0.098485  "
      ]
     },
     "metadata": {},
     "output_type": "display_data"
    },
    {
     "name": "stdout",
     "output_type": "stream",
     "text": [
      "####\n"
     ]
    },
    {
     "data": {
      "application/vnd.jupyter.widget-view+json": {
       "model_id": "dfb2e7e9853a4d359078ff7085e58b3e",
       "version_major": 2,
       "version_minor": 0
      },
      "text/plain": [
       "  0%|          | 0/1 [00:00<?, ?it/s]"
      ]
     },
     "metadata": {},
     "output_type": "display_data"
    },
    {
     "data": {
      "application/vnd.jupyter.widget-view+json": {
       "model_id": "afe7021fc5744d599ead25c769e2c8d9",
       "version_major": 2,
       "version_minor": 0
      },
      "text/plain": [
       "  0%|          | 0/1 [00:00<?, ?it/s]"
      ]
     },
     "metadata": {},
     "output_type": "display_data"
    },
    {
     "data": {
      "application/vnd.jupyter.widget-view+json": {
       "model_id": "dd0403de9f6f43da9f204e5b54c655e2",
       "version_major": 2,
       "version_minor": 0
      },
      "text/plain": [
       "  0%|          | 0/1 [00:00<?, ?it/s]"
      ]
     },
     "metadata": {},
     "output_type": "display_data"
    },
    {
     "data": {
      "application/vnd.jupyter.widget-view+json": {
       "model_id": "02e42bace1e0449f84da398ea797aeee",
       "version_major": 2,
       "version_minor": 0
      },
      "text/plain": [
       "  0%|          | 0/1 [00:00<?, ?it/s]"
      ]
     },
     "metadata": {},
     "output_type": "display_data"
    },
    {
     "data": {
      "application/vnd.jupyter.widget-view+json": {
       "model_id": "7d5b17c480284e449a1ef97b55473e3c",
       "version_major": 2,
       "version_minor": 0
      },
      "text/plain": [
       "  0%|          | 0/1 [00:00<?, ?it/s]"
      ]
     },
     "metadata": {},
     "output_type": "display_data"
    },
    {
     "data": {
      "application/vnd.jupyter.widget-view+json": {
       "model_id": "9d5286dc44b740f3906895a4af306efc",
       "version_major": 2,
       "version_minor": 0
      },
      "text/plain": [
       "  0%|          | 0/1 [00:00<?, ?it/s]"
      ]
     },
     "metadata": {},
     "output_type": "display_data"
    },
    {
     "name": "stdout",
     "output_type": "stream",
     "text": [
      "Mit der angewandten Definition der PET-Positivität scheint daher keine ausreichende Differenzierung der Prognose der PET-negativen und PET-positiven Patienten möglich zu sein; die weiterführende Analyse der PET-positiven Patienten ergab, dass insbesondere für die Patienten mit einem Deauville-Score von 5 im Vergleich zu den Patienten mit einem Deauville-Score von 1-4 ein signifikant niedrigeres PFS und ES (5-Jahres PFS und -EFS jeweils 61.9%) und ein niedrigeres Gesamtüberleben (5-Jahres OS 85,2%; 95% CI, 69.7% bis 100% versus 97.8%, 95%CI, 96.4 bis 99.2%) zu dokumentieren war [REF].\n",
      "\n",
      "No Filter:\n"
     ]
    },
    {
     "data": {
      "text/html": [
       "<div>\n",
       "<style scoped>\n",
       "    .dataframe tbody tr th:only-of-type {\n",
       "        vertical-align: middle;\n",
       "    }\n",
       "\n",
       "    .dataframe tbody tr th {\n",
       "        vertical-align: top;\n",
       "    }\n",
       "\n",
       "    .dataframe thead th {\n",
       "        text-align: right;\n",
       "    }\n",
       "</style>\n",
       "<table border=\"1\" class=\"dataframe\">\n",
       "  <thead>\n",
       "    <tr style=\"text-align: right;\">\n",
       "      <th></th>\n",
       "      <th>document</th>\n",
       "      <th>text</th>\n",
       "      <th>type</th>\n",
       "      <th>start</th>\n",
       "      <th>end</th>\n",
       "      <th>cui</th>\n",
       "      <th>tuis</th>\n",
       "      <th>canonical</th>\n",
       "      <th>linker</th>\n",
       "      <th>confidence</th>\n",
       "    </tr>\n",
       "  </thead>\n",
       "  <tbody>\n",
       "    <tr>\n",
       "      <th>7</th>\n",
       "      <td>18_hodgkin-lymphom_0051_27</td>\n",
       "      <td>-EFS</td>\n",
       "      <td>Other_Finding</td>\n",
       "      <td>427</td>\n",
       "      <td>431</td>\n",
       "      <td>C4724032</td>\n",
       "      <td>[T170]</td>\n",
       "      <td>EFS</td>\n",
       "      <td>[ngram, sapbert]</td>\n",
       "      <td>0.074262</td>\n",
       "    </tr>\n",
       "  </tbody>\n",
       "</table>\n",
       "</div>"
      ],
      "text/plain": [
       "                     document  text           type  start  end       cui  \\\n",
       "7  18_hodgkin-lymphom_0051_27  -EFS  Other_Finding    427  431  C4724032   \n",
       "\n",
       "     tuis canonical            linker  confidence  \n",
       "7  [T170]       EFS  [ngram, sapbert]    0.074262  "
      ]
     },
     "metadata": {},
     "output_type": "display_data"
    },
    {
     "name": "stdout",
     "output_type": "stream",
     "text": [
      "Filter:\n"
     ]
    },
    {
     "data": {
      "text/html": [
       "<div>\n",
       "<style scoped>\n",
       "    .dataframe tbody tr th:only-of-type {\n",
       "        vertical-align: middle;\n",
       "    }\n",
       "\n",
       "    .dataframe tbody tr th {\n",
       "        vertical-align: top;\n",
       "    }\n",
       "\n",
       "    .dataframe thead th {\n",
       "        text-align: right;\n",
       "    }\n",
       "</style>\n",
       "<table border=\"1\" class=\"dataframe\">\n",
       "  <thead>\n",
       "    <tr style=\"text-align: right;\">\n",
       "      <th></th>\n",
       "      <th>document</th>\n",
       "      <th>text</th>\n",
       "      <th>type</th>\n",
       "      <th>start</th>\n",
       "      <th>end</th>\n",
       "      <th>cui</th>\n",
       "      <th>tuis</th>\n",
       "      <th>canonical</th>\n",
       "      <th>linker</th>\n",
       "      <th>confidence</th>\n",
       "    </tr>\n",
       "  </thead>\n",
       "  <tbody>\n",
       "    <tr>\n",
       "      <th>7</th>\n",
       "      <td>18_hodgkin-lymphom_0051_27</td>\n",
       "      <td>-EFS</td>\n",
       "      <td>Other_Finding</td>\n",
       "      <td>427</td>\n",
       "      <td>431</td>\n",
       "      <td>C4045375</td>\n",
       "      <td>[T109]</td>\n",
       "      <td>1-fluoro-1-(phenylsulfonyl)ethylene</td>\n",
       "      <td>[sapbert]</td>\n",
       "      <td>0.076742</td>\n",
       "    </tr>\n",
       "  </tbody>\n",
       "</table>\n",
       "</div>"
      ],
      "text/plain": [
       "                     document  text           type  start  end       cui  \\\n",
       "7  18_hodgkin-lymphom_0051_27  -EFS  Other_Finding    427  431  C4045375   \n",
       "\n",
       "     tuis                            canonical     linker  confidence  \n",
       "7  [T109]  1-fluoro-1-(phenylsulfonyl)ethylene  [sapbert]    0.076742  "
      ]
     },
     "metadata": {},
     "output_type": "display_data"
    },
    {
     "name": "stdout",
     "output_type": "stream",
     "text": [
      "####\n"
     ]
    },
    {
     "data": {
      "application/vnd.jupyter.widget-view+json": {
       "model_id": "308b9928376b4776b3111c03f185c7a4",
       "version_major": 2,
       "version_minor": 0
      },
      "text/plain": [
       "  0%|          | 0/1 [00:00<?, ?it/s]"
      ]
     },
     "metadata": {},
     "output_type": "display_data"
    },
    {
     "data": {
      "application/vnd.jupyter.widget-view+json": {
       "model_id": "d9e4f411fa4f462ba55d667a058cce90",
       "version_major": 2,
       "version_minor": 0
      },
      "text/plain": [
       "  0%|          | 0/1 [00:00<?, ?it/s]"
      ]
     },
     "metadata": {},
     "output_type": "display_data"
    },
    {
     "data": {
      "application/vnd.jupyter.widget-view+json": {
       "model_id": "1f8722dac60049ab9b5668b2df04f13d",
       "version_major": 2,
       "version_minor": 0
      },
      "text/plain": [
       "  0%|          | 0/1 [00:00<?, ?it/s]"
      ]
     },
     "metadata": {},
     "output_type": "display_data"
    },
    {
     "data": {
      "application/vnd.jupyter.widget-view+json": {
       "model_id": "c4e280ff34c24ba2ad4fd109afb09f3e",
       "version_major": 2,
       "version_minor": 0
      },
      "text/plain": [
       "  0%|          | 0/1 [00:00<?, ?it/s]"
      ]
     },
     "metadata": {},
     "output_type": "display_data"
    },
    {
     "data": {
      "application/vnd.jupyter.widget-view+json": {
       "model_id": "0bf79485c9bc48a8a5176a59d4acd9a9",
       "version_major": 2,
       "version_minor": 0
      },
      "text/plain": [
       "  0%|          | 0/1 [00:00<?, ?it/s]"
      ]
     },
     "metadata": {},
     "output_type": "display_data"
    },
    {
     "data": {
      "application/vnd.jupyter.widget-view+json": {
       "model_id": "1bbdceceef954cb7ab021e60592707a2",
       "version_major": 2,
       "version_minor": 0
      },
      "text/plain": [
       "  0%|          | 0/1 [00:00<?, ?it/s]"
      ]
     },
     "metadata": {},
     "output_type": "display_data"
    },
    {
     "name": "stdout",
     "output_type": "stream",
     "text": [
      "Die Ergebnisse der H10F-, RAPID- und der HD16- Studie unterstützen daher die Hypothese des prognostischen Werts einer positiven PET-CT nach zwei bis drei Zyklen ABVD, d.h. einer signifikant schlechteren Prognose der Patienten mit einer positiven Interim-PET, insbesondere bei Vorliegen eines Deauville-Scores von 4-5.\n",
      "\n",
      "No Filter:\n"
     ]
    },
    {
     "data": {
      "text/html": [
       "<div>\n",
       "<style scoped>\n",
       "    .dataframe tbody tr th:only-of-type {\n",
       "        vertical-align: middle;\n",
       "    }\n",
       "\n",
       "    .dataframe tbody tr th {\n",
       "        vertical-align: top;\n",
       "    }\n",
       "\n",
       "    .dataframe thead th {\n",
       "        text-align: right;\n",
       "    }\n",
       "</style>\n",
       "<table border=\"1\" class=\"dataframe\">\n",
       "  <thead>\n",
       "    <tr style=\"text-align: right;\">\n",
       "      <th></th>\n",
       "      <th>document</th>\n",
       "      <th>text</th>\n",
       "      <th>type</th>\n",
       "      <th>start</th>\n",
       "      <th>end</th>\n",
       "      <th>cui</th>\n",
       "      <th>tuis</th>\n",
       "      <th>canonical</th>\n",
       "      <th>linker</th>\n",
       "      <th>confidence</th>\n",
       "    </tr>\n",
       "  </thead>\n",
       "  <tbody>\n",
       "    <tr>\n",
       "      <th>1</th>\n",
       "      <td>18_hodgkin-lymphom_0051_30</td>\n",
       "      <td>zwei bis drei Zyklen ABVD</td>\n",
       "      <td>Therapeutic</td>\n",
       "      <td>140</td>\n",
       "      <td>165</td>\n",
       "      <td>C0050380</td>\n",
       "      <td>[T061]</td>\n",
       "      <td>BLEO/DOX/DTIC/VBL</td>\n",
       "      <td>[sapbert]</td>\n",
       "      <td>0.065995</td>\n",
       "    </tr>\n",
       "  </tbody>\n",
       "</table>\n",
       "</div>"
      ],
      "text/plain": [
       "                     document                       text         type  start  \\\n",
       "1  18_hodgkin-lymphom_0051_30  zwei bis drei Zyklen ABVD  Therapeutic    140   \n",
       "\n",
       "   end       cui    tuis          canonical     linker  confidence  \n",
       "1  165  C0050380  [T061]  BLEO/DOX/DTIC/VBL  [sapbert]    0.065995  "
      ]
     },
     "metadata": {},
     "output_type": "display_data"
    },
    {
     "name": "stdout",
     "output_type": "stream",
     "text": [
      "Filter:\n"
     ]
    },
    {
     "data": {
      "text/html": [
       "<div>\n",
       "<style scoped>\n",
       "    .dataframe tbody tr th:only-of-type {\n",
       "        vertical-align: middle;\n",
       "    }\n",
       "\n",
       "    .dataframe tbody tr th {\n",
       "        vertical-align: top;\n",
       "    }\n",
       "\n",
       "    .dataframe thead th {\n",
       "        text-align: right;\n",
       "    }\n",
       "</style>\n",
       "<table border=\"1\" class=\"dataframe\">\n",
       "  <thead>\n",
       "    <tr style=\"text-align: right;\">\n",
       "      <th></th>\n",
       "      <th>document</th>\n",
       "      <th>text</th>\n",
       "      <th>type</th>\n",
       "      <th>start</th>\n",
       "      <th>end</th>\n",
       "      <th>cui</th>\n",
       "      <th>tuis</th>\n",
       "      <th>canonical</th>\n",
       "      <th>linker</th>\n",
       "      <th>confidence</th>\n",
       "    </tr>\n",
       "  </thead>\n",
       "  <tbody>\n",
       "    <tr>\n",
       "      <th>1</th>\n",
       "      <td>18_hodgkin-lymphom_0051_30</td>\n",
       "      <td>zwei bis drei Zyklen ABVD</td>\n",
       "      <td>Therapeutic</td>\n",
       "      <td>140</td>\n",
       "      <td>165</td>\n",
       "      <td>C1741578</td>\n",
       "      <td>[T116, T123]</td>\n",
       "      <td>dual altered peptide ligand</td>\n",
       "      <td>[sapbert]</td>\n",
       "      <td>0.0733</td>\n",
       "    </tr>\n",
       "  </tbody>\n",
       "</table>\n",
       "</div>"
      ],
      "text/plain": [
       "                     document                       text         type  start  \\\n",
       "1  18_hodgkin-lymphom_0051_30  zwei bis drei Zyklen ABVD  Therapeutic    140   \n",
       "\n",
       "   end       cui          tuis                    canonical     linker  \\\n",
       "1  165  C1741578  [T116, T123]  dual altered peptide ligand  [sapbert]   \n",
       "\n",
       "   confidence  \n",
       "1      0.0733  "
      ]
     },
     "metadata": {},
     "output_type": "display_data"
    },
    {
     "name": "stdout",
     "output_type": "stream",
     "text": [
      "####\n"
     ]
    },
    {
     "data": {
      "application/vnd.jupyter.widget-view+json": {
       "model_id": "e1233051cb1a4ec18072fea56715087d",
       "version_major": 2,
       "version_minor": 0
      },
      "text/plain": [
       "  0%|          | 0/1 [00:00<?, ?it/s]"
      ]
     },
     "metadata": {},
     "output_type": "display_data"
    },
    {
     "data": {
      "application/vnd.jupyter.widget-view+json": {
       "model_id": "9d12a999626f4f2a96c6a5129963c949",
       "version_major": 2,
       "version_minor": 0
      },
      "text/plain": [
       "  0%|          | 0/1 [00:00<?, ?it/s]"
      ]
     },
     "metadata": {},
     "output_type": "display_data"
    },
    {
     "data": {
      "application/vnd.jupyter.widget-view+json": {
       "model_id": "8dd65c0165814b068904217c5319c59b",
       "version_major": 2,
       "version_minor": 0
      },
      "text/plain": [
       "  0%|          | 0/1 [00:00<?, ?it/s]"
      ]
     },
     "metadata": {},
     "output_type": "display_data"
    },
    {
     "data": {
      "application/vnd.jupyter.widget-view+json": {
       "model_id": "c7dbb226e8894e4180a5729f344a7d5f",
       "version_major": 2,
       "version_minor": 0
      },
      "text/plain": [
       "  0%|          | 0/1 [00:00<?, ?it/s]"
      ]
     },
     "metadata": {},
     "output_type": "display_data"
    },
    {
     "data": {
      "application/vnd.jupyter.widget-view+json": {
       "model_id": "35ecc13e36ea46879457d200c6718a2e",
       "version_major": 2,
       "version_minor": 0
      },
      "text/plain": [
       "  0%|          | 0/1 [00:00<?, ?it/s]"
      ]
     },
     "metadata": {},
     "output_type": "display_data"
    },
    {
     "data": {
      "application/vnd.jupyter.widget-view+json": {
       "model_id": "6a871ffc51634f458bb9df7e2ac05d97",
       "version_major": 2,
       "version_minor": 0
      },
      "text/plain": [
       "  0%|          | 0/1 [00:00<?, ?it/s]"
      ]
     },
     "metadata": {},
     "output_type": "display_data"
    },
    {
     "name": "stdout",
     "output_type": "stream",
     "text": [
      "Im Hinblick darauf, dass in der HD16-Studie für die Patienten mit einer positiven Interim-PET ein signifikant niedrigeres PFS dokumentiert wurde und das der PFS-Unterschied besonders deutlich bei Vorliegen eines Deauville-Score von 4-5 war, sollte die Option einer Therapieeskalation in Form von zwei Zyklen BEACOPPeskaliert analog der H10F-Studie vor der konsolidierenden Strahlentherapie bei den Patienten mit einem positiven PET Ergebnis mit einem Deauville-Score von 4-5 nach zwei Zyklen ABVD individuell erwogen werden.\n",
      "\n",
      "No Filter:\n"
     ]
    },
    {
     "data": {
      "text/html": [
       "<div>\n",
       "<style scoped>\n",
       "    .dataframe tbody tr th:only-of-type {\n",
       "        vertical-align: middle;\n",
       "    }\n",
       "\n",
       "    .dataframe tbody tr th {\n",
       "        vertical-align: top;\n",
       "    }\n",
       "\n",
       "    .dataframe thead th {\n",
       "        text-align: right;\n",
       "    }\n",
       "</style>\n",
       "<table border=\"1\" class=\"dataframe\">\n",
       "  <thead>\n",
       "    <tr style=\"text-align: right;\">\n",
       "      <th></th>\n",
       "      <th>document</th>\n",
       "      <th>text</th>\n",
       "      <th>type</th>\n",
       "      <th>start</th>\n",
       "      <th>end</th>\n",
       "      <th>cui</th>\n",
       "      <th>tuis</th>\n",
       "      <th>canonical</th>\n",
       "      <th>linker</th>\n",
       "      <th>confidence</th>\n",
       "    </tr>\n",
       "  </thead>\n",
       "  <tbody>\n",
       "    <tr>\n",
       "      <th>4</th>\n",
       "      <td>18_hodgkin-lymphom_0051_33</td>\n",
       "      <td>Therapieeskalation in Form von zwei Zyklen BEA...</td>\n",
       "      <td>Therapeutic</td>\n",
       "      <td>265</td>\n",
       "      <td>324</td>\n",
       "      <td>C1276295</td>\n",
       "      <td>[T033]</td>\n",
       "      <td>Two field external beam radiation therapy</td>\n",
       "      <td>[sapbert]</td>\n",
       "      <td>0.062934</td>\n",
       "    </tr>\n",
       "    <tr>\n",
       "      <th>6</th>\n",
       "      <td>18_hodgkin-lymphom_0051_33</td>\n",
       "      <td>positiven PET Ergebnis</td>\n",
       "      <td>Diagnosis_or_Pathology</td>\n",
       "      <td>418</td>\n",
       "      <td>440</td>\n",
       "      <td>C5555404</td>\n",
       "      <td>[T096]</td>\n",
       "      <td>Positive Biospecimen</td>\n",
       "      <td>[sapbert]</td>\n",
       "      <td>0.063872</td>\n",
       "    </tr>\n",
       "  </tbody>\n",
       "</table>\n",
       "</div>"
      ],
      "text/plain": [
       "                     document  \\\n",
       "4  18_hodgkin-lymphom_0051_33   \n",
       "6  18_hodgkin-lymphom_0051_33   \n",
       "\n",
       "                                                text                    type  \\\n",
       "4  Therapieeskalation in Form von zwei Zyklen BEA...             Therapeutic   \n",
       "6                             positiven PET Ergebnis  Diagnosis_or_Pathology   \n",
       "\n",
       "   start  end       cui    tuis                                  canonical  \\\n",
       "4    265  324  C1276295  [T033]  Two field external beam radiation therapy   \n",
       "6    418  440  C5555404  [T096]                       Positive Biospecimen   \n",
       "\n",
       "      linker  confidence  \n",
       "4  [sapbert]    0.062934  \n",
       "6  [sapbert]    0.063872  "
      ]
     },
     "metadata": {},
     "output_type": "display_data"
    },
    {
     "name": "stdout",
     "output_type": "stream",
     "text": [
      "Filter:\n"
     ]
    },
    {
     "data": {
      "text/html": [
       "<div>\n",
       "<style scoped>\n",
       "    .dataframe tbody tr th:only-of-type {\n",
       "        vertical-align: middle;\n",
       "    }\n",
       "\n",
       "    .dataframe tbody tr th {\n",
       "        vertical-align: top;\n",
       "    }\n",
       "\n",
       "    .dataframe thead th {\n",
       "        text-align: right;\n",
       "    }\n",
       "</style>\n",
       "<table border=\"1\" class=\"dataframe\">\n",
       "  <thead>\n",
       "    <tr style=\"text-align: right;\">\n",
       "      <th></th>\n",
       "      <th>document</th>\n",
       "      <th>text</th>\n",
       "      <th>type</th>\n",
       "      <th>start</th>\n",
       "      <th>end</th>\n",
       "      <th>cui</th>\n",
       "      <th>tuis</th>\n",
       "      <th>canonical</th>\n",
       "      <th>linker</th>\n",
       "      <th>confidence</th>\n",
       "    </tr>\n",
       "  </thead>\n",
       "  <tbody>\n",
       "    <tr>\n",
       "      <th>4</th>\n",
       "      <td>18_hodgkin-lymphom_0051_33</td>\n",
       "      <td>Therapieeskalation in Form von zwei Zyklen BEA...</td>\n",
       "      <td>Therapeutic</td>\n",
       "      <td>265</td>\n",
       "      <td>324</td>\n",
       "      <td>C0397344</td>\n",
       "      <td>[T061]</td>\n",
       "      <td>Arterial Switch Operation</td>\n",
       "      <td>[sapbert]</td>\n",
       "      <td>0.062876</td>\n",
       "    </tr>\n",
       "    <tr>\n",
       "      <th>6</th>\n",
       "      <td>18_hodgkin-lymphom_0051_33</td>\n",
       "      <td>positiven PET Ergebnis</td>\n",
       "      <td>Diagnosis_or_Pathology</td>\n",
       "      <td>418</td>\n",
       "      <td>440</td>\n",
       "      <td>C2939040</td>\n",
       "      <td>[T034]</td>\n",
       "      <td>False positive investigation result</td>\n",
       "      <td>[sapbert]</td>\n",
       "      <td>0.063510</td>\n",
       "    </tr>\n",
       "  </tbody>\n",
       "</table>\n",
       "</div>"
      ],
      "text/plain": [
       "                     document  \\\n",
       "4  18_hodgkin-lymphom_0051_33   \n",
       "6  18_hodgkin-lymphom_0051_33   \n",
       "\n",
       "                                                text                    type  \\\n",
       "4  Therapieeskalation in Form von zwei Zyklen BEA...             Therapeutic   \n",
       "6                             positiven PET Ergebnis  Diagnosis_or_Pathology   \n",
       "\n",
       "   start  end       cui    tuis                            canonical  \\\n",
       "4    265  324  C0397344  [T061]            Arterial Switch Operation   \n",
       "6    418  440  C2939040  [T034]  False positive investigation result   \n",
       "\n",
       "      linker  confidence  \n",
       "4  [sapbert]    0.062876  \n",
       "6  [sapbert]    0.063510  "
      ]
     },
     "metadata": {},
     "output_type": "display_data"
    },
    {
     "name": "stdout",
     "output_type": "stream",
     "text": [
      "####\n"
     ]
    },
    {
     "data": {
      "application/vnd.jupyter.widget-view+json": {
       "model_id": "bb5b6ced17e24a8e8fc6105686731045",
       "version_major": 2,
       "version_minor": 0
      },
      "text/plain": [
       "  0%|          | 0/1 [00:00<?, ?it/s]"
      ]
     },
     "metadata": {},
     "output_type": "display_data"
    },
    {
     "data": {
      "application/vnd.jupyter.widget-view+json": {
       "model_id": "ffff5178d7b947109810e9ecdd83a202",
       "version_major": 2,
       "version_minor": 0
      },
      "text/plain": [
       "  0%|          | 0/1 [00:00<?, ?it/s]"
      ]
     },
     "metadata": {},
     "output_type": "display_data"
    },
    {
     "data": {
      "application/vnd.jupyter.widget-view+json": {
       "model_id": "bee96f6dd98044cc9c2fa16c0651153c",
       "version_major": 2,
       "version_minor": 0
      },
      "text/plain": [
       "  0%|          | 0/1 [00:00<?, ?it/s]"
      ]
     },
     "metadata": {},
     "output_type": "display_data"
    },
    {
     "data": {
      "application/vnd.jupyter.widget-view+json": {
       "model_id": "d40255711a8748fa8bf2a6ee0b51f924",
       "version_major": 2,
       "version_minor": 0
      },
      "text/plain": [
       "  0%|          | 0/1 [00:00<?, ?it/s]"
      ]
     },
     "metadata": {},
     "output_type": "display_data"
    },
    {
     "data": {
      "application/vnd.jupyter.widget-view+json": {
       "model_id": "47b3b337ea444d9d94e134eba64d476f",
       "version_major": 2,
       "version_minor": 0
      },
      "text/plain": [
       "  0%|          | 0/1 [00:00<?, ?it/s]"
      ]
     },
     "metadata": {},
     "output_type": "display_data"
    },
    {
     "data": {
      "application/vnd.jupyter.widget-view+json": {
       "model_id": "56e93d6458dd4c76ab342874ba3eea8e",
       "version_major": 2,
       "version_minor": 0
      },
      "text/plain": [
       "  0%|          | 0/1 [00:00<?, ?it/s]"
      ]
     },
     "metadata": {},
     "output_type": "display_data"
    },
    {
     "name": "stdout",
     "output_type": "stream",
     "text": [
      "In retrospektiven bzw. in Kohortenanalysen konnte gezeigt werden, dass insbesondere bei Frauen bis zu einem Alter von 29 Jahren zum Zeitpunkt der Therapie des Hodgkin Lymphoms ein gegenüber der Normalbevölkerung deutlich erhöhtes Risiko der Entwicklung eines sekundären Mamma-Karzinoms vorliegt und, dass das Risiko mit zunehmendem Alter zum Zeitpunkt der Hodgkin-Lymphom-Diagnose abnimmt [REF].\n",
      "\n",
      "No Filter:\n"
     ]
    },
    {
     "data": {
      "text/html": [
       "<div>\n",
       "<style scoped>\n",
       "    .dataframe tbody tr th:only-of-type {\n",
       "        vertical-align: middle;\n",
       "    }\n",
       "\n",
       "    .dataframe tbody tr th {\n",
       "        vertical-align: top;\n",
       "    }\n",
       "\n",
       "    .dataframe thead th {\n",
       "        text-align: right;\n",
       "    }\n",
       "</style>\n",
       "<table border=\"1\" class=\"dataframe\">\n",
       "  <thead>\n",
       "    <tr style=\"text-align: right;\">\n",
       "      <th></th>\n",
       "      <th>document</th>\n",
       "      <th>text</th>\n",
       "      <th>type</th>\n",
       "      <th>start</th>\n",
       "      <th>end</th>\n",
       "      <th>cui</th>\n",
       "      <th>tuis</th>\n",
       "      <th>canonical</th>\n",
       "      <th>linker</th>\n",
       "      <th>confidence</th>\n",
       "    </tr>\n",
       "  </thead>\n",
       "  <tbody>\n",
       "    <tr>\n",
       "      <th>1</th>\n",
       "      <td>18_hodgkin-lymphom_0051_36</td>\n",
       "      <td>Therapie des Hodgkin Lymphoms</td>\n",
       "      <td>Therapeutic</td>\n",
       "      <td>146</td>\n",
       "      <td>175</td>\n",
       "      <td>C0019829</td>\n",
       "      <td>[T191]</td>\n",
       "      <td>Hodgkin-Krankheit</td>\n",
       "      <td>[ngram, sapbert]</td>\n",
       "      <td>0.071369</td>\n",
       "    </tr>\n",
       "  </tbody>\n",
       "</table>\n",
       "</div>"
      ],
      "text/plain": [
       "                     document                           text         type  \\\n",
       "1  18_hodgkin-lymphom_0051_36  Therapie des Hodgkin Lymphoms  Therapeutic   \n",
       "\n",
       "   start  end       cui    tuis          canonical            linker  \\\n",
       "1    146  175  C0019829  [T191]  Hodgkin-Krankheit  [ngram, sapbert]   \n",
       "\n",
       "   confidence  \n",
       "1    0.071369  "
      ]
     },
     "metadata": {},
     "output_type": "display_data"
    },
    {
     "name": "stdout",
     "output_type": "stream",
     "text": [
      "Filter:\n"
     ]
    },
    {
     "data": {
      "text/html": [
       "<div>\n",
       "<style scoped>\n",
       "    .dataframe tbody tr th:only-of-type {\n",
       "        vertical-align: middle;\n",
       "    }\n",
       "\n",
       "    .dataframe tbody tr th {\n",
       "        vertical-align: top;\n",
       "    }\n",
       "\n",
       "    .dataframe thead th {\n",
       "        text-align: right;\n",
       "    }\n",
       "</style>\n",
       "<table border=\"1\" class=\"dataframe\">\n",
       "  <thead>\n",
       "    <tr style=\"text-align: right;\">\n",
       "      <th></th>\n",
       "      <th>document</th>\n",
       "      <th>text</th>\n",
       "      <th>type</th>\n",
       "      <th>start</th>\n",
       "      <th>end</th>\n",
       "      <th>cui</th>\n",
       "      <th>tuis</th>\n",
       "      <th>canonical</th>\n",
       "      <th>linker</th>\n",
       "      <th>confidence</th>\n",
       "    </tr>\n",
       "  </thead>\n",
       "  <tbody>\n",
       "    <tr>\n",
       "      <th>1</th>\n",
       "      <td>18_hodgkin-lymphom_0051_36</td>\n",
       "      <td>Therapie des Hodgkin Lymphoms</td>\n",
       "      <td>Therapeutic</td>\n",
       "      <td>146</td>\n",
       "      <td>175</td>\n",
       "      <td>C5557287</td>\n",
       "      <td>[T170]</td>\n",
       "      <td>HL Project Terminology</td>\n",
       "      <td>[ngram, sapbert]</td>\n",
       "      <td>0.264336</td>\n",
       "    </tr>\n",
       "  </tbody>\n",
       "</table>\n",
       "</div>"
      ],
      "text/plain": [
       "                     document                           text         type  \\\n",
       "1  18_hodgkin-lymphom_0051_36  Therapie des Hodgkin Lymphoms  Therapeutic   \n",
       "\n",
       "   start  end       cui    tuis               canonical            linker  \\\n",
       "1    146  175  C5557287  [T170]  HL Project Terminology  [ngram, sapbert]   \n",
       "\n",
       "   confidence  \n",
       "1    0.264336  "
      ]
     },
     "metadata": {},
     "output_type": "display_data"
    },
    {
     "name": "stdout",
     "output_type": "stream",
     "text": [
      "####\n"
     ]
    },
    {
     "data": {
      "application/vnd.jupyter.widget-view+json": {
       "model_id": "e95bd6dd5ce94d00b713a418347a21a8",
       "version_major": 2,
       "version_minor": 0
      },
      "text/plain": [
       "  0%|          | 0/1 [00:00<?, ?it/s]"
      ]
     },
     "metadata": {},
     "output_type": "display_data"
    },
    {
     "data": {
      "application/vnd.jupyter.widget-view+json": {
       "model_id": "fa5f4ae44b0b498b8d55d0d84cc82e25",
       "version_major": 2,
       "version_minor": 0
      },
      "text/plain": [
       "  0%|          | 0/1 [00:00<?, ?it/s]"
      ]
     },
     "metadata": {},
     "output_type": "display_data"
    },
    {
     "data": {
      "application/vnd.jupyter.widget-view+json": {
       "model_id": "d7cde891d52b4675a666070e05a644b0",
       "version_major": 2,
       "version_minor": 0
      },
      "text/plain": [
       "  0%|          | 0/1 [00:00<?, ?it/s]"
      ]
     },
     "metadata": {},
     "output_type": "display_data"
    },
    {
     "data": {
      "application/vnd.jupyter.widget-view+json": {
       "model_id": "3f2d25b9f5cf49a4a3bbdc840b732e3a",
       "version_major": 2,
       "version_minor": 0
      },
      "text/plain": [
       "  0%|          | 0/1 [00:00<?, ?it/s]"
      ]
     },
     "metadata": {},
     "output_type": "display_data"
    },
    {
     "name": "stdout",
     "output_type": "stream",
     "text": [
      "Sollte aufgrund des Vorliegens einer positiven PET/CT oder unabhängig vom PET/CT-Befund die Entscheidung zur konsolidierenden Strahlentherapie gefällt werden, sollten- wie in Abschnitt 11.2 beschrieben- frühzeitig intensivierte Vorsorgeuntersuchungen erfolgen.\n",
      "\n",
      "No Filter:\n"
     ]
    },
    {
     "data": {
      "text/html": [
       "<div>\n",
       "<style scoped>\n",
       "    .dataframe tbody tr th:only-of-type {\n",
       "        vertical-align: middle;\n",
       "    }\n",
       "\n",
       "    .dataframe tbody tr th {\n",
       "        vertical-align: top;\n",
       "    }\n",
       "\n",
       "    .dataframe thead th {\n",
       "        text-align: right;\n",
       "    }\n",
       "</style>\n",
       "<table border=\"1\" class=\"dataframe\">\n",
       "  <thead>\n",
       "    <tr style=\"text-align: right;\">\n",
       "      <th></th>\n",
       "      <th>document</th>\n",
       "      <th>text</th>\n",
       "      <th>type</th>\n",
       "      <th>start</th>\n",
       "      <th>end</th>\n",
       "      <th>cui</th>\n",
       "      <th>tuis</th>\n",
       "      <th>canonical</th>\n",
       "      <th>linker</th>\n",
       "      <th>confidence</th>\n",
       "    </tr>\n",
       "  </thead>\n",
       "  <tbody>\n",
       "    <tr>\n",
       "      <th>3</th>\n",
       "      <td>18_hodgkin-lymphom_0051_38</td>\n",
       "      <td>frühzeitig intensivierte Vorsorgeuntersuchungen</td>\n",
       "      <td>Diagnostic</td>\n",
       "      <td>203</td>\n",
       "      <td>250</td>\n",
       "      <td>C5197888</td>\n",
       "      <td>[T058]</td>\n",
       "      <td>Early Warning Score</td>\n",
       "      <td>[sapbert]</td>\n",
       "      <td>0.063525</td>\n",
       "    </tr>\n",
       "  </tbody>\n",
       "</table>\n",
       "</div>"
      ],
      "text/plain": [
       "                     document  \\\n",
       "3  18_hodgkin-lymphom_0051_38   \n",
       "\n",
       "                                              text        type  start  end  \\\n",
       "3  frühzeitig intensivierte Vorsorgeuntersuchungen  Diagnostic    203  250   \n",
       "\n",
       "        cui    tuis            canonical     linker  confidence  \n",
       "3  C5197888  [T058]  Early Warning Score  [sapbert]    0.063525  "
      ]
     },
     "metadata": {},
     "output_type": "display_data"
    },
    {
     "name": "stdout",
     "output_type": "stream",
     "text": [
      "Filter:\n"
     ]
    },
    {
     "data": {
      "text/html": [
       "<div>\n",
       "<style scoped>\n",
       "    .dataframe tbody tr th:only-of-type {\n",
       "        vertical-align: middle;\n",
       "    }\n",
       "\n",
       "    .dataframe tbody tr th {\n",
       "        vertical-align: top;\n",
       "    }\n",
       "\n",
       "    .dataframe thead th {\n",
       "        text-align: right;\n",
       "    }\n",
       "</style>\n",
       "<table border=\"1\" class=\"dataframe\">\n",
       "  <thead>\n",
       "    <tr style=\"text-align: right;\">\n",
       "      <th></th>\n",
       "      <th>document</th>\n",
       "      <th>text</th>\n",
       "      <th>type</th>\n",
       "      <th>start</th>\n",
       "      <th>end</th>\n",
       "      <th>cui</th>\n",
       "      <th>tuis</th>\n",
       "      <th>canonical</th>\n",
       "      <th>linker</th>\n",
       "      <th>confidence</th>\n",
       "    </tr>\n",
       "  </thead>\n",
       "  <tbody>\n",
       "    <tr>\n",
       "      <th>3</th>\n",
       "      <td>18_hodgkin-lymphom_0051_38</td>\n",
       "      <td>frühzeitig intensivierte Vorsorgeuntersuchungen</td>\n",
       "      <td>Diagnostic</td>\n",
       "      <td>203</td>\n",
       "      <td>250</td>\n",
       "      <td>C1514407</td>\n",
       "      <td>[T060]</td>\n",
       "      <td>Prevention, Early Detection of Premalignant Le...</td>\n",
       "      <td>[sapbert]</td>\n",
       "      <td>0.066824</td>\n",
       "    </tr>\n",
       "  </tbody>\n",
       "</table>\n",
       "</div>"
      ],
      "text/plain": [
       "                     document  \\\n",
       "3  18_hodgkin-lymphom_0051_38   \n",
       "\n",
       "                                              text        type  start  end  \\\n",
       "3  frühzeitig intensivierte Vorsorgeuntersuchungen  Diagnostic    203  250   \n",
       "\n",
       "        cui    tuis                                          canonical  \\\n",
       "3  C1514407  [T060]  Prevention, Early Detection of Premalignant Le...   \n",
       "\n",
       "      linker  confidence  \n",
       "3  [sapbert]    0.066824  "
      ]
     },
     "metadata": {},
     "output_type": "display_data"
    },
    {
     "name": "stdout",
     "output_type": "stream",
     "text": [
      "####\n"
     ]
    },
    {
     "data": {
      "application/vnd.jupyter.widget-view+json": {
       "model_id": "388812935efa400794348d988b3632ba",
       "version_major": 2,
       "version_minor": 0
      },
      "text/plain": [
       "  0%|          | 0/1 [00:00<?, ?it/s]"
      ]
     },
     "metadata": {},
     "output_type": "display_data"
    },
    {
     "data": {
      "application/vnd.jupyter.widget-view+json": {
       "model_id": "ca008aeb0e6a438e9aac088743e13a17",
       "version_major": 2,
       "version_minor": 0
      },
      "text/plain": [
       "  0%|          | 0/1 [00:00<?, ?it/s]"
      ]
     },
     "metadata": {},
     "output_type": "display_data"
    },
    {
     "name": "stdout",
     "output_type": "stream",
     "text": [
      "In der großen Kohortenanalyse von Veit-Rubin wurde nämlich gezeigt, dass bis zu 30 Jahre nach Therapie des Hodgkin-Lymphoms von einer steigenden Inzidenz des sekundären Mamma-Karzinoms auszugehen ist.\n",
      "\n",
      "No Filter:\n"
     ]
    },
    {
     "data": {
      "text/html": [
       "<div>\n",
       "<style scoped>\n",
       "    .dataframe tbody tr th:only-of-type {\n",
       "        vertical-align: middle;\n",
       "    }\n",
       "\n",
       "    .dataframe tbody tr th {\n",
       "        vertical-align: top;\n",
       "    }\n",
       "\n",
       "    .dataframe thead th {\n",
       "        text-align: right;\n",
       "    }\n",
       "</style>\n",
       "<table border=\"1\" class=\"dataframe\">\n",
       "  <thead>\n",
       "    <tr style=\"text-align: right;\">\n",
       "      <th></th>\n",
       "      <th>document</th>\n",
       "      <th>text</th>\n",
       "      <th>type</th>\n",
       "      <th>start</th>\n",
       "      <th>end</th>\n",
       "      <th>cui</th>\n",
       "      <th>tuis</th>\n",
       "      <th>canonical</th>\n",
       "      <th>linker</th>\n",
       "      <th>confidence</th>\n",
       "    </tr>\n",
       "  </thead>\n",
       "  <tbody>\n",
       "    <tr>\n",
       "      <th>0</th>\n",
       "      <td>18_hodgkin-lymphom_0051_39</td>\n",
       "      <td>Therapie des Hodgkin-Lymphoms</td>\n",
       "      <td>Therapeutic</td>\n",
       "      <td>94</td>\n",
       "      <td>123</td>\n",
       "      <td>C0019829</td>\n",
       "      <td>[T191]</td>\n",
       "      <td>Hodgkin-Krankheit</td>\n",
       "      <td>[ngram, sapbert]</td>\n",
       "      <td>0.070408</td>\n",
       "    </tr>\n",
       "  </tbody>\n",
       "</table>\n",
       "</div>"
      ],
      "text/plain": [
       "                     document                           text         type  \\\n",
       "0  18_hodgkin-lymphom_0051_39  Therapie des Hodgkin-Lymphoms  Therapeutic   \n",
       "\n",
       "   start  end       cui    tuis          canonical            linker  \\\n",
       "0     94  123  C0019829  [T191]  Hodgkin-Krankheit  [ngram, sapbert]   \n",
       "\n",
       "   confidence  \n",
       "0    0.070408  "
      ]
     },
     "metadata": {},
     "output_type": "display_data"
    },
    {
     "name": "stdout",
     "output_type": "stream",
     "text": [
      "Filter:\n"
     ]
    },
    {
     "data": {
      "text/html": [
       "<div>\n",
       "<style scoped>\n",
       "    .dataframe tbody tr th:only-of-type {\n",
       "        vertical-align: middle;\n",
       "    }\n",
       "\n",
       "    .dataframe tbody tr th {\n",
       "        vertical-align: top;\n",
       "    }\n",
       "\n",
       "    .dataframe thead th {\n",
       "        text-align: right;\n",
       "    }\n",
       "</style>\n",
       "<table border=\"1\" class=\"dataframe\">\n",
       "  <thead>\n",
       "    <tr style=\"text-align: right;\">\n",
       "      <th></th>\n",
       "      <th>document</th>\n",
       "      <th>text</th>\n",
       "      <th>type</th>\n",
       "      <th>start</th>\n",
       "      <th>end</th>\n",
       "      <th>cui</th>\n",
       "      <th>tuis</th>\n",
       "      <th>canonical</th>\n",
       "      <th>linker</th>\n",
       "      <th>confidence</th>\n",
       "    </tr>\n",
       "  </thead>\n",
       "  <tbody>\n",
       "    <tr>\n",
       "      <th>0</th>\n",
       "      <td>18_hodgkin-lymphom_0051_39</td>\n",
       "      <td>Therapie des Hodgkin-Lymphoms</td>\n",
       "      <td>Therapeutic</td>\n",
       "      <td>94</td>\n",
       "      <td>123</td>\n",
       "      <td>C5557287</td>\n",
       "      <td>[T170]</td>\n",
       "      <td>HL Project Terminology</td>\n",
       "      <td>[ngram, sapbert]</td>\n",
       "      <td>0.269659</td>\n",
       "    </tr>\n",
       "  </tbody>\n",
       "</table>\n",
       "</div>"
      ],
      "text/plain": [
       "                     document                           text         type  \\\n",
       "0  18_hodgkin-lymphom_0051_39  Therapie des Hodgkin-Lymphoms  Therapeutic   \n",
       "\n",
       "   start  end       cui    tuis               canonical            linker  \\\n",
       "0     94  123  C5557287  [T170]  HL Project Terminology  [ngram, sapbert]   \n",
       "\n",
       "   confidence  \n",
       "0    0.269659  "
      ]
     },
     "metadata": {},
     "output_type": "display_data"
    },
    {
     "name": "stdout",
     "output_type": "stream",
     "text": [
      "####\n"
     ]
    },
    {
     "data": {
      "application/vnd.jupyter.widget-view+json": {
       "model_id": "716e5a3588654ccdb57f871212e30a19",
       "version_major": 2,
       "version_minor": 0
      },
      "text/plain": [
       "  0%|          | 0/1 [00:00<?, ?it/s]"
      ]
     },
     "metadata": {},
     "output_type": "display_data"
    },
    {
     "data": {
      "application/vnd.jupyter.widget-view+json": {
       "model_id": "8d008958abdb497ba4243b1d747ccd4f",
       "version_major": 2,
       "version_minor": 0
      },
      "text/plain": [
       "  0%|          | 0/1 [00:00<?, ?it/s]"
      ]
     },
     "metadata": {},
     "output_type": "display_data"
    },
    {
     "data": {
      "application/vnd.jupyter.widget-view+json": {
       "model_id": "0fb173065a7b4794a1eadc65589eaeec",
       "version_major": 2,
       "version_minor": 0
      },
      "text/plain": [
       "  0%|          | 0/1 [00:00<?, ?it/s]"
      ]
     },
     "metadata": {},
     "output_type": "display_data"
    },
    {
     "data": {
      "application/vnd.jupyter.widget-view+json": {
       "model_id": "a9a0bdcce644418789236606074862e3",
       "version_major": 2,
       "version_minor": 0
      },
      "text/plain": [
       "  0%|          | 0/1 [00:00<?, ?it/s]"
      ]
     },
     "metadata": {},
     "output_type": "display_data"
    },
    {
     "data": {
      "application/vnd.jupyter.widget-view+json": {
       "model_id": "845ea0118cd64d68a6de438f083cf087",
       "version_major": 2,
       "version_minor": 0
      },
      "text/plain": [
       "  0%|          | 0/1 [00:00<?, ?it/s]"
      ]
     },
     "metadata": {},
     "output_type": "display_data"
    },
    {
     "data": {
      "application/vnd.jupyter.widget-view+json": {
       "model_id": "6d0e82b42c6c4c9a98989b607e6f2d20",
       "version_major": 2,
       "version_minor": 0
      },
      "text/plain": [
       "  0%|          | 0/1 [00:00<?, ?it/s]"
      ]
     },
     "metadata": {},
     "output_type": "display_data"
    },
    {
     "data": {
      "application/vnd.jupyter.widget-view+json": {
       "model_id": "9c522c8222ba46d1b4193b1677f88993",
       "version_major": 2,
       "version_minor": 0
      },
      "text/plain": [
       "  0%|          | 0/1 [00:00<?, ?it/s]"
      ]
     },
     "metadata": {},
     "output_type": "display_data"
    },
    {
     "data": {
      "application/vnd.jupyter.widget-view+json": {
       "model_id": "62080ac8117744549fe4cf26e5e70b0c",
       "version_major": 2,
       "version_minor": 0
      },
      "text/plain": [
       "  0%|          | 0/1 [00:00<?, ?it/s]"
      ]
     },
     "metadata": {},
     "output_type": "display_data"
    },
    {
     "data": {
      "application/vnd.jupyter.widget-view+json": {
       "model_id": "68f32a8f33a447a59d21515db2be6dd6",
       "version_major": 2,
       "version_minor": 0
      },
      "text/plain": [
       "  0%|          | 0/1 [00:00<?, ?it/s]"
      ]
     },
     "metadata": {},
     "output_type": "display_data"
    },
    {
     "data": {
      "application/vnd.jupyter.widget-view+json": {
       "model_id": "d1cb567ca1ab4f1b96c8c88167968a39",
       "version_major": 2,
       "version_minor": 0
      },
      "text/plain": [
       "  0%|          | 0/1 [00:00<?, ?it/s]"
      ]
     },
     "metadata": {},
     "output_type": "display_data"
    },
    {
     "name": "stdout",
     "output_type": "stream",
     "text": [
      "Obligatorische Untersuchungen des Restagings nach Bestrahlung enthalten:\n",
      "\n",
      "No Filter:\n"
     ]
    },
    {
     "data": {
      "text/html": [
       "<div>\n",
       "<style scoped>\n",
       "    .dataframe tbody tr th:only-of-type {\n",
       "        vertical-align: middle;\n",
       "    }\n",
       "\n",
       "    .dataframe tbody tr th {\n",
       "        vertical-align: top;\n",
       "    }\n",
       "\n",
       "    .dataframe thead th {\n",
       "        text-align: right;\n",
       "    }\n",
       "</style>\n",
       "<table border=\"1\" class=\"dataframe\">\n",
       "  <thead>\n",
       "    <tr style=\"text-align: right;\">\n",
       "      <th></th>\n",
       "      <th>document</th>\n",
       "      <th>text</th>\n",
       "      <th>type</th>\n",
       "      <th>start</th>\n",
       "      <th>end</th>\n",
       "      <th>cui</th>\n",
       "      <th>tuis</th>\n",
       "      <th>canonical</th>\n",
       "      <th>linker</th>\n",
       "      <th>confidence</th>\n",
       "    </tr>\n",
       "  </thead>\n",
       "  <tbody>\n",
       "    <tr>\n",
       "      <th>0</th>\n",
       "      <td>18_hodgkin-lymphom_0051_44</td>\n",
       "      <td>Obligatorische Untersuchungen des Restagings n...</td>\n",
       "      <td>Diagnostic</td>\n",
       "      <td>0</td>\n",
       "      <td>61</td>\n",
       "      <td>C1700931</td>\n",
       "      <td>[T046]</td>\n",
       "      <td>Post vaccination satellite lesions</td>\n",
       "      <td>[sapbert]</td>\n",
       "      <td>0.068599</td>\n",
       "    </tr>\n",
       "  </tbody>\n",
       "</table>\n",
       "</div>"
      ],
      "text/plain": [
       "                     document  \\\n",
       "0  18_hodgkin-lymphom_0051_44   \n",
       "\n",
       "                                                text        type  start  end  \\\n",
       "0  Obligatorische Untersuchungen des Restagings n...  Diagnostic      0   61   \n",
       "\n",
       "        cui    tuis                           canonical     linker  confidence  \n",
       "0  C1700931  [T046]  Post vaccination satellite lesions  [sapbert]    0.068599  "
      ]
     },
     "metadata": {},
     "output_type": "display_data"
    },
    {
     "name": "stdout",
     "output_type": "stream",
     "text": [
      "Filter:\n"
     ]
    },
    {
     "data": {
      "text/html": [
       "<div>\n",
       "<style scoped>\n",
       "    .dataframe tbody tr th:only-of-type {\n",
       "        vertical-align: middle;\n",
       "    }\n",
       "\n",
       "    .dataframe tbody tr th {\n",
       "        vertical-align: top;\n",
       "    }\n",
       "\n",
       "    .dataframe thead th {\n",
       "        text-align: right;\n",
       "    }\n",
       "</style>\n",
       "<table border=\"1\" class=\"dataframe\">\n",
       "  <thead>\n",
       "    <tr style=\"text-align: right;\">\n",
       "      <th></th>\n",
       "      <th>document</th>\n",
       "      <th>text</th>\n",
       "      <th>type</th>\n",
       "      <th>start</th>\n",
       "      <th>end</th>\n",
       "      <th>cui</th>\n",
       "      <th>tuis</th>\n",
       "      <th>canonical</th>\n",
       "      <th>linker</th>\n",
       "      <th>confidence</th>\n",
       "    </tr>\n",
       "  </thead>\n",
       "  <tbody>\n",
       "    <tr>\n",
       "      <th>0</th>\n",
       "      <td>18_hodgkin-lymphom_0051_44</td>\n",
       "      <td>Obligatorische Untersuchungen des Restagings n...</td>\n",
       "      <td>Diagnostic</td>\n",
       "      <td>0</td>\n",
       "      <td>61</td>\n",
       "      <td>C5208122</td>\n",
       "      <td>[T060]</td>\n",
       "      <td>Radiation contamination survey</td>\n",
       "      <td>[sapbert]</td>\n",
       "      <td>0.064638</td>\n",
       "    </tr>\n",
       "  </tbody>\n",
       "</table>\n",
       "</div>"
      ],
      "text/plain": [
       "                     document  \\\n",
       "0  18_hodgkin-lymphom_0051_44   \n",
       "\n",
       "                                                text        type  start  end  \\\n",
       "0  Obligatorische Untersuchungen des Restagings n...  Diagnostic      0   61   \n",
       "\n",
       "        cui    tuis                       canonical     linker  confidence  \n",
       "0  C5208122  [T060]  Radiation contamination survey  [sapbert]    0.064638  "
      ]
     },
     "metadata": {},
     "output_type": "display_data"
    },
    {
     "name": "stdout",
     "output_type": "stream",
     "text": [
      "####\n"
     ]
    },
    {
     "data": {
      "application/vnd.jupyter.widget-view+json": {
       "model_id": "73b8f4a209c345d6a3a907fb9b6c7ad0",
       "version_major": 2,
       "version_minor": 0
      },
      "text/plain": [
       "  0%|          | 0/1 [00:00<?, ?it/s]"
      ]
     },
     "metadata": {},
     "output_type": "display_data"
    },
    {
     "data": {
      "application/vnd.jupyter.widget-view+json": {
       "model_id": "ff46406b88224bc1a8ef592ec5e465a3",
       "version_major": 2,
       "version_minor": 0
      },
      "text/plain": [
       "  0%|          | 0/1 [00:00<?, ?it/s]"
      ]
     },
     "metadata": {},
     "output_type": "display_data"
    },
    {
     "name": "stdout",
     "output_type": "stream",
     "text": [
      "- Anamnese\n",
      "\n",
      "No Filter:\n"
     ]
    },
    {
     "data": {
      "text/html": [
       "<div>\n",
       "<style scoped>\n",
       "    .dataframe tbody tr th:only-of-type {\n",
       "        vertical-align: middle;\n",
       "    }\n",
       "\n",
       "    .dataframe tbody tr th {\n",
       "        vertical-align: top;\n",
       "    }\n",
       "\n",
       "    .dataframe thead th {\n",
       "        text-align: right;\n",
       "    }\n",
       "</style>\n",
       "<table border=\"1\" class=\"dataframe\">\n",
       "  <thead>\n",
       "    <tr style=\"text-align: right;\">\n",
       "      <th></th>\n",
       "      <th>document</th>\n",
       "      <th>text</th>\n",
       "      <th>type</th>\n",
       "      <th>start</th>\n",
       "      <th>end</th>\n",
       "      <th>cui</th>\n",
       "      <th>tuis</th>\n",
       "      <th>canonical</th>\n",
       "      <th>linker</th>\n",
       "      <th>confidence</th>\n",
       "    </tr>\n",
       "  </thead>\n",
       "  <tbody>\n",
       "    <tr>\n",
       "      <th>0</th>\n",
       "      <td>18_hodgkin-lymphom_0051_45</td>\n",
       "      <td>Anamnese</td>\n",
       "      <td>Diagnostic</td>\n",
       "      <td>2</td>\n",
       "      <td>10</td>\n",
       "      <td>C0021055</td>\n",
       "      <td>[T042]</td>\n",
       "      <td>Immunologisches Gedächtnis</td>\n",
       "      <td>[ngram, sapbert]</td>\n",
       "      <td>0.08095</td>\n",
       "    </tr>\n",
       "  </tbody>\n",
       "</table>\n",
       "</div>"
      ],
      "text/plain": [
       "                     document      text        type  start  end       cui  \\\n",
       "0  18_hodgkin-lymphom_0051_45  Anamnese  Diagnostic      2   10  C0021055   \n",
       "\n",
       "     tuis                   canonical            linker  confidence  \n",
       "0  [T042]  Immunologisches Gedächtnis  [ngram, sapbert]     0.08095  "
      ]
     },
     "metadata": {},
     "output_type": "display_data"
    },
    {
     "name": "stdout",
     "output_type": "stream",
     "text": [
      "Filter:\n"
     ]
    },
    {
     "data": {
      "text/html": [
       "<div>\n",
       "<style scoped>\n",
       "    .dataframe tbody tr th:only-of-type {\n",
       "        vertical-align: middle;\n",
       "    }\n",
       "\n",
       "    .dataframe tbody tr th {\n",
       "        vertical-align: top;\n",
       "    }\n",
       "\n",
       "    .dataframe thead th {\n",
       "        text-align: right;\n",
       "    }\n",
       "</style>\n",
       "<table border=\"1\" class=\"dataframe\">\n",
       "  <thead>\n",
       "    <tr style=\"text-align: right;\">\n",
       "      <th></th>\n",
       "      <th>document</th>\n",
       "      <th>text</th>\n",
       "      <th>type</th>\n",
       "      <th>start</th>\n",
       "      <th>end</th>\n",
       "      <th>cui</th>\n",
       "      <th>tuis</th>\n",
       "      <th>canonical</th>\n",
       "      <th>linker</th>\n",
       "      <th>confidence</th>\n",
       "    </tr>\n",
       "  </thead>\n",
       "  <tbody>\n",
       "    <tr>\n",
       "      <th>0</th>\n",
       "      <td>18_hodgkin-lymphom_0051_45</td>\n",
       "      <td>Anamnese</td>\n",
       "      <td>Diagnostic</td>\n",
       "      <td>2</td>\n",
       "      <td>10</td>\n",
       "      <td>C0085970</td>\n",
       "      <td>[T170]</td>\n",
       "      <td>Case Histories</td>\n",
       "      <td>[sapbert]</td>\n",
       "      <td>0.078161</td>\n",
       "    </tr>\n",
       "  </tbody>\n",
       "</table>\n",
       "</div>"
      ],
      "text/plain": [
       "                     document      text        type  start  end       cui  \\\n",
       "0  18_hodgkin-lymphom_0051_45  Anamnese  Diagnostic      2   10  C0085970   \n",
       "\n",
       "     tuis       canonical     linker  confidence  \n",
       "0  [T170]  Case Histories  [sapbert]    0.078161  "
      ]
     },
     "metadata": {},
     "output_type": "display_data"
    },
    {
     "name": "stdout",
     "output_type": "stream",
     "text": [
      "####\n"
     ]
    },
    {
     "data": {
      "application/vnd.jupyter.widget-view+json": {
       "model_id": "f2bdabedc5d24a4b9d55af92811a4811",
       "version_major": 2,
       "version_minor": 0
      },
      "text/plain": [
       "  0%|          | 0/1 [00:00<?, ?it/s]"
      ]
     },
     "metadata": {},
     "output_type": "display_data"
    },
    {
     "data": {
      "application/vnd.jupyter.widget-view+json": {
       "model_id": "a0e1cbf091c6497f99666d786237886c",
       "version_major": 2,
       "version_minor": 0
      },
      "text/plain": [
       "  0%|          | 0/1 [00:00<?, ?it/s]"
      ]
     },
     "metadata": {},
     "output_type": "display_data"
    },
    {
     "data": {
      "application/vnd.jupyter.widget-view+json": {
       "model_id": "24866b7798924115b9e9efbb51b2eeda",
       "version_major": 2,
       "version_minor": 0
      },
      "text/plain": [
       "  0%|          | 0/1 [00:00<?, ?it/s]"
      ]
     },
     "metadata": {},
     "output_type": "display_data"
    },
    {
     "data": {
      "application/vnd.jupyter.widget-view+json": {
       "model_id": "78dbc74a013343c4847d67d786567276",
       "version_major": 2,
       "version_minor": 0
      },
      "text/plain": [
       "  0%|          | 0/1 [00:00<?, ?it/s]"
      ]
     },
     "metadata": {},
     "output_type": "display_data"
    },
    {
     "name": "stdout",
     "output_type": "stream",
     "text": [
      "- Labordiagnostik, wie Blutsenkungsgeschwindigkeit (BSG), Differentialblutbild, Klinische Chemie (Gamma-GT, GOT, GPT, Bilirubin, Kreatinin, Harnsäure), Alkalische Phosphatase (AP), Laktatdehydrogenase (LDH)\n",
      "\n",
      "No Filter:\n"
     ]
    },
    {
     "data": {
      "text/html": [
       "<div>\n",
       "<style scoped>\n",
       "    .dataframe tbody tr th:only-of-type {\n",
       "        vertical-align: middle;\n",
       "    }\n",
       "\n",
       "    .dataframe tbody tr th {\n",
       "        vertical-align: top;\n",
       "    }\n",
       "\n",
       "    .dataframe thead th {\n",
       "        text-align: right;\n",
       "    }\n",
       "</style>\n",
       "<table border=\"1\" class=\"dataframe\">\n",
       "  <thead>\n",
       "    <tr style=\"text-align: right;\">\n",
       "      <th></th>\n",
       "      <th>document</th>\n",
       "      <th>text</th>\n",
       "      <th>type</th>\n",
       "      <th>start</th>\n",
       "      <th>end</th>\n",
       "      <th>cui</th>\n",
       "      <th>tuis</th>\n",
       "      <th>canonical</th>\n",
       "      <th>linker</th>\n",
       "      <th>confidence</th>\n",
       "    </tr>\n",
       "  </thead>\n",
       "  <tbody>\n",
       "    <tr>\n",
       "      <th>0</th>\n",
       "      <td>18_hodgkin-lymphom_0051_47</td>\n",
       "      <td>Labordiagnostik</td>\n",
       "      <td>Diagnostic</td>\n",
       "      <td>2</td>\n",
       "      <td>17</td>\n",
       "      <td>C0011911</td>\n",
       "      <td>[T033]</td>\n",
       "      <td>Labordiagnostik</td>\n",
       "      <td>[ngram, sapbert]</td>\n",
       "      <td>0.159278</td>\n",
       "    </tr>\n",
       "    <tr>\n",
       "      <th>3</th>\n",
       "      <td>18_hodgkin-lymphom_0051_47</td>\n",
       "      <td>Differentialblutbild</td>\n",
       "      <td>Diagnostic</td>\n",
       "      <td>58</td>\n",
       "      <td>78</td>\n",
       "      <td>C0009555</td>\n",
       "      <td>[T059]</td>\n",
       "      <td>Blutzellzählung, vollständige</td>\n",
       "      <td>[sapbert]</td>\n",
       "      <td>0.067997</td>\n",
       "    </tr>\n",
       "  </tbody>\n",
       "</table>\n",
       "</div>"
      ],
      "text/plain": [
       "                     document                  text        type  start  end  \\\n",
       "0  18_hodgkin-lymphom_0051_47       Labordiagnostik  Diagnostic      2   17   \n",
       "3  18_hodgkin-lymphom_0051_47  Differentialblutbild  Diagnostic     58   78   \n",
       "\n",
       "        cui    tuis                      canonical            linker  \\\n",
       "0  C0011911  [T033]                Labordiagnostik  [ngram, sapbert]   \n",
       "3  C0009555  [T059]  Blutzellzählung, vollständige         [sapbert]   \n",
       "\n",
       "   confidence  \n",
       "0    0.159278  \n",
       "3    0.067997  "
      ]
     },
     "metadata": {},
     "output_type": "display_data"
    },
    {
     "name": "stdout",
     "output_type": "stream",
     "text": [
      "Filter:\n"
     ]
    },
    {
     "data": {
      "text/html": [
       "<div>\n",
       "<style scoped>\n",
       "    .dataframe tbody tr th:only-of-type {\n",
       "        vertical-align: middle;\n",
       "    }\n",
       "\n",
       "    .dataframe tbody tr th {\n",
       "        vertical-align: top;\n",
       "    }\n",
       "\n",
       "    .dataframe thead th {\n",
       "        text-align: right;\n",
       "    }\n",
       "</style>\n",
       "<table border=\"1\" class=\"dataframe\">\n",
       "  <thead>\n",
       "    <tr style=\"text-align: right;\">\n",
       "      <th></th>\n",
       "      <th>document</th>\n",
       "      <th>text</th>\n",
       "      <th>type</th>\n",
       "      <th>start</th>\n",
       "      <th>end</th>\n",
       "      <th>cui</th>\n",
       "      <th>tuis</th>\n",
       "      <th>canonical</th>\n",
       "      <th>linker</th>\n",
       "      <th>confidence</th>\n",
       "    </tr>\n",
       "  </thead>\n",
       "  <tbody>\n",
       "    <tr>\n",
       "      <th>0</th>\n",
       "      <td>18_hodgkin-lymphom_0051_47</td>\n",
       "      <td>Labordiagnostik</td>\n",
       "      <td>Diagnostic</td>\n",
       "      <td>2</td>\n",
       "      <td>17</td>\n",
       "      <td>C1319069</td>\n",
       "      <td>[T060]</td>\n",
       "      <td>Point-of-Care Testing</td>\n",
       "      <td>[ngram, sapbert]</td>\n",
       "      <td>0.069894</td>\n",
       "    </tr>\n",
       "    <tr>\n",
       "      <th>3</th>\n",
       "      <td>18_hodgkin-lymphom_0051_47</td>\n",
       "      <td>Differentialblutbild</td>\n",
       "      <td>Diagnostic</td>\n",
       "      <td>58</td>\n",
       "      <td>78</td>\n",
       "      <td>C0005771</td>\n",
       "      <td>[T059]</td>\n",
       "      <td>Blutkörperchenbestimmung</td>\n",
       "      <td>[ngram, sapbert]</td>\n",
       "      <td>0.070344</td>\n",
       "    </tr>\n",
       "  </tbody>\n",
       "</table>\n",
       "</div>"
      ],
      "text/plain": [
       "                     document                  text        type  start  end  \\\n",
       "0  18_hodgkin-lymphom_0051_47       Labordiagnostik  Diagnostic      2   17   \n",
       "3  18_hodgkin-lymphom_0051_47  Differentialblutbild  Diagnostic     58   78   \n",
       "\n",
       "        cui    tuis                 canonical            linker  confidence  \n",
       "0  C1319069  [T060]     Point-of-Care Testing  [ngram, sapbert]    0.069894  \n",
       "3  C0005771  [T059]  Blutkörperchenbestimmung  [ngram, sapbert]    0.070344  "
      ]
     },
     "metadata": {},
     "output_type": "display_data"
    },
    {
     "name": "stdout",
     "output_type": "stream",
     "text": [
      "####\n"
     ]
    },
    {
     "data": {
      "application/vnd.jupyter.widget-view+json": {
       "model_id": "d9a55865bf654b71a2320b774507e2d1",
       "version_major": 2,
       "version_minor": 0
      },
      "text/plain": [
       "  0%|          | 0/1 [00:00<?, ?it/s]"
      ]
     },
     "metadata": {},
     "output_type": "display_data"
    },
    {
     "data": {
      "application/vnd.jupyter.widget-view+json": {
       "model_id": "3f8e96b676e84a4aab5c93be328584d9",
       "version_major": 2,
       "version_minor": 0
      },
      "text/plain": [
       "  0%|          | 0/1 [00:00<?, ?it/s]"
      ]
     },
     "metadata": {},
     "output_type": "display_data"
    },
    {
     "data": {
      "application/vnd.jupyter.widget-view+json": {
       "model_id": "855a5b40ced64b6a817ccf1b253e9cd4",
       "version_major": 2,
       "version_minor": 0
      },
      "text/plain": [
       "  0%|          | 0/1 [00:00<?, ?it/s]"
      ]
     },
     "metadata": {},
     "output_type": "display_data"
    },
    {
     "data": {
      "application/vnd.jupyter.widget-view+json": {
       "model_id": "06aca3af006840cfb0d658a54b2fa351",
       "version_major": 2,
       "version_minor": 0
      },
      "text/plain": [
       "  0%|          | 0/1 [00:00<?, ?it/s]"
      ]
     },
     "metadata": {},
     "output_type": "display_data"
    },
    {
     "data": {
      "application/vnd.jupyter.widget-view+json": {
       "model_id": "41eab3d66e13491d837e683bb0faa639",
       "version_major": 2,
       "version_minor": 0
      },
      "text/plain": [
       "  0%|          | 0/1 [00:00<?, ?it/s]"
      ]
     },
     "metadata": {},
     "output_type": "display_data"
    },
    {
     "data": {
      "application/vnd.jupyter.widget-view+json": {
       "model_id": "ffa225033fa240cda50178285add8139",
       "version_major": 2,
       "version_minor": 0
      },
      "text/plain": [
       "  0%|          | 0/1 [00:00<?, ?it/s]"
      ]
     },
     "metadata": {},
     "output_type": "display_data"
    },
    {
     "data": {
      "application/vnd.jupyter.widget-view+json": {
       "model_id": "49bc6c5190b144c2bdb5e4de9c463151",
       "version_major": 2,
       "version_minor": 0
      },
      "text/plain": [
       "  0%|          | 0/1 [00:00<?, ?it/s]"
      ]
     },
     "metadata": {},
     "output_type": "display_data"
    },
    {
     "data": {
      "application/vnd.jupyter.widget-view+json": {
       "model_id": "47c21815738b4a2d822994397519c045",
       "version_major": 2,
       "version_minor": 0
      },
      "text/plain": [
       "  0%|          | 0/1 [00:00<?, ?it/s]"
      ]
     },
     "metadata": {},
     "output_type": "display_data"
    },
    {
     "data": {
      "application/vnd.jupyter.widget-view+json": {
       "model_id": "c7ea351f39e54629b5de6029835f589a",
       "version_major": 2,
       "version_minor": 0
      },
      "text/plain": [
       "  0%|          | 0/1 [00:00<?, ?it/s]"
      ]
     },
     "metadata": {},
     "output_type": "display_data"
    },
    {
     "data": {
      "application/vnd.jupyter.widget-view+json": {
       "model_id": "6e564490e4cb450ca761b57459b6750b",
       "version_major": 2,
       "version_minor": 0
      },
      "text/plain": [
       "  0%|          | 0/1 [00:00<?, ?it/s]"
      ]
     },
     "metadata": {},
     "output_type": "display_data"
    },
    {
     "data": {
      "application/vnd.jupyter.widget-view+json": {
       "model_id": "19c51f45e9714dc5b486c068308285c8",
       "version_major": 2,
       "version_minor": 0
      },
      "text/plain": [
       "  0%|          | 0/1 [00:00<?, ?it/s]"
      ]
     },
     "metadata": {},
     "output_type": "display_data"
    },
    {
     "data": {
      "application/vnd.jupyter.widget-view+json": {
       "model_id": "e0950a582d0b4a67844209dc84b98aba",
       "version_major": 2,
       "version_minor": 0
      },
      "text/plain": [
       "  0%|          | 0/1 [00:00<?, ?it/s]"
      ]
     },
     "metadata": {},
     "output_type": "display_data"
    },
    {
     "data": {
      "application/vnd.jupyter.widget-view+json": {
       "model_id": "d4a975b8c4784a09a4ec864d80888288",
       "version_major": 2,
       "version_minor": 0
      },
      "text/plain": [
       "  0%|          | 0/1 [00:00<?, ?it/s]"
      ]
     },
     "metadata": {},
     "output_type": "display_data"
    },
    {
     "data": {
      "application/vnd.jupyter.widget-view+json": {
       "model_id": "ad9a8f92455b4265abd9a5e9f764b196",
       "version_major": 2,
       "version_minor": 0
      },
      "text/plain": [
       "  0%|          | 0/1 [00:00<?, ?it/s]"
      ]
     },
     "metadata": {},
     "output_type": "display_data"
    },
    {
     "data": {
      "application/vnd.jupyter.widget-view+json": {
       "model_id": "3a886dfec4c747199024457f132adb36",
       "version_major": 2,
       "version_minor": 0
      },
      "text/plain": [
       "  0%|          | 0/1 [00:00<?, ?it/s]"
      ]
     },
     "metadata": {},
     "output_type": "display_data"
    },
    {
     "data": {
      "application/vnd.jupyter.widget-view+json": {
       "model_id": "fe5bb029988d4c29ad4736f4e4e5b321",
       "version_major": 2,
       "version_minor": 0
      },
      "text/plain": [
       "  0%|          | 0/1 [00:00<?, ?it/s]"
      ]
     },
     "metadata": {},
     "output_type": "display_data"
    },
    {
     "data": {
      "application/vnd.jupyter.widget-view+json": {
       "model_id": "1174f99706a444bfa17f519d9fc04d31",
       "version_major": 2,
       "version_minor": 0
      },
      "text/plain": [
       "  0%|          | 0/1 [00:00<?, ?it/s]"
      ]
     },
     "metadata": {},
     "output_type": "display_data"
    },
    {
     "data": {
      "application/vnd.jupyter.widget-view+json": {
       "model_id": "dc8532045935494885bc165f531c3995",
       "version_major": 2,
       "version_minor": 0
      },
      "text/plain": [
       "  0%|          | 0/1 [00:00<?, ?it/s]"
      ]
     },
     "metadata": {},
     "output_type": "display_data"
    },
    {
     "data": {
      "application/vnd.jupyter.widget-view+json": {
       "model_id": "aa60669523754cec9f74e1e6153e5bc6",
       "version_major": 2,
       "version_minor": 0
      },
      "text/plain": [
       "  0%|          | 0/1 [00:00<?, ?it/s]"
      ]
     },
     "metadata": {},
     "output_type": "display_data"
    },
    {
     "data": {
      "application/vnd.jupyter.widget-view+json": {
       "model_id": "2eb8462b19164644a1f6fd259e88c673",
       "version_major": 2,
       "version_minor": 0
      },
      "text/plain": [
       "  0%|          | 0/1 [00:00<?, ?it/s]"
      ]
     },
     "metadata": {},
     "output_type": "display_data"
    },
    {
     "data": {
      "application/vnd.jupyter.widget-view+json": {
       "model_id": "6d10bdfc4abc4f64b8a76313053098bc",
       "version_major": 2,
       "version_minor": 0
      },
      "text/plain": [
       "  0%|          | 0/1 [00:00<?, ?it/s]"
      ]
     },
     "metadata": {},
     "output_type": "display_data"
    },
    {
     "data": {
      "application/vnd.jupyter.widget-view+json": {
       "model_id": "41504f4aeac7463f9c4c757fe33e945c",
       "version_major": 2,
       "version_minor": 0
      },
      "text/plain": [
       "  0%|          | 0/1 [00:00<?, ?it/s]"
      ]
     },
     "metadata": {},
     "output_type": "display_data"
    },
    {
     "data": {
      "application/vnd.jupyter.widget-view+json": {
       "model_id": "68eab93dbd184397b2f1606b899fd7df",
       "version_major": 2,
       "version_minor": 0
      },
      "text/plain": [
       "  0%|          | 0/1 [00:00<?, ?it/s]"
      ]
     },
     "metadata": {},
     "output_type": "display_data"
    },
    {
     "data": {
      "application/vnd.jupyter.widget-view+json": {
       "model_id": "9c934f3cd4f04445a9886ee415e7b03f",
       "version_major": 2,
       "version_minor": 0
      },
      "text/plain": [
       "  0%|          | 0/1 [00:00<?, ?it/s]"
      ]
     },
     "metadata": {},
     "output_type": "display_data"
    },
    {
     "data": {
      "application/vnd.jupyter.widget-view+json": {
       "model_id": "d4852ac6d54f4e8aa6574150dc2d6272",
       "version_major": 2,
       "version_minor": 0
      },
      "text/plain": [
       "  0%|          | 0/1 [00:00<?, ?it/s]"
      ]
     },
     "metadata": {},
     "output_type": "display_data"
    },
    {
     "data": {
      "application/vnd.jupyter.widget-view+json": {
       "model_id": "10526bcd948c4259aebbe4fa8dbdd4b6",
       "version_major": 2,
       "version_minor": 0
      },
      "text/plain": [
       "  0%|          | 0/1 [00:00<?, ?it/s]"
      ]
     },
     "metadata": {},
     "output_type": "display_data"
    },
    {
     "data": {
      "application/vnd.jupyter.widget-view+json": {
       "model_id": "1f9fc0b0ff004fcca53152d0c5368efd",
       "version_major": 2,
       "version_minor": 0
      },
      "text/plain": [
       "  0%|          | 0/1 [00:00<?, ?it/s]"
      ]
     },
     "metadata": {},
     "output_type": "display_data"
    },
    {
     "data": {
      "application/vnd.jupyter.widget-view+json": {
       "model_id": "97b8c8a1c5c848f6991c60f36b6be5c5",
       "version_major": 2,
       "version_minor": 0
      },
      "text/plain": [
       "  0%|          | 0/1 [00:00<?, ?it/s]"
      ]
     },
     "metadata": {},
     "output_type": "display_data"
    },
    {
     "data": {
      "application/vnd.jupyter.widget-view+json": {
       "model_id": "173104a4fbb54ee9bcc4d76217371d91",
       "version_major": 2,
       "version_minor": 0
      },
      "text/plain": [
       "  0%|          | 0/1 [00:00<?, ?it/s]"
      ]
     },
     "metadata": {},
     "output_type": "display_data"
    },
    {
     "data": {
      "application/vnd.jupyter.widget-view+json": {
       "model_id": "0ed80b35b78747678c4eb058a2346ff5",
       "version_major": 2,
       "version_minor": 0
      },
      "text/plain": [
       "  0%|          | 0/1 [00:00<?, ?it/s]"
      ]
     },
     "metadata": {},
     "output_type": "display_data"
    },
    {
     "data": {
      "application/vnd.jupyter.widget-view+json": {
       "model_id": "ec664f38bcdb496787bc14aeaac19edc",
       "version_major": 2,
       "version_minor": 0
      },
      "text/plain": [
       "  0%|          | 0/1 [00:00<?, ?it/s]"
      ]
     },
     "metadata": {},
     "output_type": "display_data"
    },
    {
     "data": {
      "application/vnd.jupyter.widget-view+json": {
       "model_id": "8a4c669a8b77486b813bf5b51a980269",
       "version_major": 2,
       "version_minor": 0
      },
      "text/plain": [
       "  0%|          | 0/1 [00:00<?, ?it/s]"
      ]
     },
     "metadata": {},
     "output_type": "display_data"
    },
    {
     "data": {
      "application/vnd.jupyter.widget-view+json": {
       "model_id": "c58743bc5ee043bba59a3be374a9750e",
       "version_major": 2,
       "version_minor": 0
      },
      "text/plain": [
       "  0%|          | 0/1 [00:00<?, ?it/s]"
      ]
     },
     "metadata": {},
     "output_type": "display_data"
    },
    {
     "data": {
      "application/vnd.jupyter.widget-view+json": {
       "model_id": "946c51d3fcc2450c9d052acd745021ea",
       "version_major": 2,
       "version_minor": 0
      },
      "text/plain": [
       "  0%|          | 0/1 [00:00<?, ?it/s]"
      ]
     },
     "metadata": {},
     "output_type": "display_data"
    },
    {
     "data": {
      "application/vnd.jupyter.widget-view+json": {
       "model_id": "dc03480117ad4c4fbc7ecd58ba969793",
       "version_major": 2,
       "version_minor": 0
      },
      "text/plain": [
       "  0%|          | 0/1 [00:00<?, ?it/s]"
      ]
     },
     "metadata": {},
     "output_type": "display_data"
    },
    {
     "data": {
      "application/vnd.jupyter.widget-view+json": {
       "model_id": "3c91402116c241e489069da4853e2613",
       "version_major": 2,
       "version_minor": 0
      },
      "text/plain": [
       "  0%|          | 0/1 [00:00<?, ?it/s]"
      ]
     },
     "metadata": {},
     "output_type": "display_data"
    },
    {
     "data": {
      "application/vnd.jupyter.widget-view+json": {
       "model_id": "b690210a5f1e4420aa33003b12f9ec8d",
       "version_major": 2,
       "version_minor": 0
      },
      "text/plain": [
       "  0%|          | 0/1 [00:00<?, ?it/s]"
      ]
     },
     "metadata": {},
     "output_type": "display_data"
    },
    {
     "data": {
      "application/vnd.jupyter.widget-view+json": {
       "model_id": "2e9595747c624ac3866d151dce521dda",
       "version_major": 2,
       "version_minor": 0
      },
      "text/plain": [
       "  0%|          | 0/1 [00:00<?, ?it/s]"
      ]
     },
     "metadata": {},
     "output_type": "display_data"
    },
    {
     "data": {
      "application/vnd.jupyter.widget-view+json": {
       "model_id": "a7dc166af0154d78b720b3604ae6c7b1",
       "version_major": 2,
       "version_minor": 0
      },
      "text/plain": [
       "  0%|          | 0/1 [00:00<?, ?it/s]"
      ]
     },
     "metadata": {},
     "output_type": "display_data"
    },
    {
     "data": {
      "application/vnd.jupyter.widget-view+json": {
       "model_id": "166f5aed340b4220a075ba20a16d0a9a",
       "version_major": 2,
       "version_minor": 0
      },
      "text/plain": [
       "  0%|          | 0/1 [00:00<?, ?it/s]"
      ]
     },
     "metadata": {},
     "output_type": "display_data"
    },
    {
     "data": {
      "application/vnd.jupyter.widget-view+json": {
       "model_id": "ca512697c6f641ca8a4d69418586d214",
       "version_major": 2,
       "version_minor": 0
      },
      "text/plain": [
       "  0%|          | 0/1 [00:00<?, ?it/s]"
      ]
     },
     "metadata": {},
     "output_type": "display_data"
    },
    {
     "data": {
      "application/vnd.jupyter.widget-view+json": {
       "model_id": "c272af512af44016ac9e8350eb548f7a",
       "version_major": 2,
       "version_minor": 0
      },
      "text/plain": [
       "  0%|          | 0/1 [00:00<?, ?it/s]"
      ]
     },
     "metadata": {},
     "output_type": "display_data"
    },
    {
     "data": {
      "application/vnd.jupyter.widget-view+json": {
       "model_id": "9ec4dd7be9a74a21addfd18444d9ea88",
       "version_major": 2,
       "version_minor": 0
      },
      "text/plain": [
       "  0%|          | 0/1 [00:00<?, ?it/s]"
      ]
     },
     "metadata": {},
     "output_type": "display_data"
    },
    {
     "data": {
      "application/vnd.jupyter.widget-view+json": {
       "model_id": "31f10a2aeb324948afac5ee78ee716ca",
       "version_major": 2,
       "version_minor": 0
      },
      "text/plain": [
       "  0%|          | 0/1 [00:00<?, ?it/s]"
      ]
     },
     "metadata": {},
     "output_type": "display_data"
    },
    {
     "data": {
      "application/vnd.jupyter.widget-view+json": {
       "model_id": "59d27637aea243afa0cb4ce8074c23e4",
       "version_major": 2,
       "version_minor": 0
      },
      "text/plain": [
       "  0%|          | 0/1 [00:00<?, ?it/s]"
      ]
     },
     "metadata": {},
     "output_type": "display_data"
    },
    {
     "data": {
      "application/vnd.jupyter.widget-view+json": {
       "model_id": "40d1e112ac514ba59a7c82e5b61fed14",
       "version_major": 2,
       "version_minor": 0
      },
      "text/plain": [
       "  0%|          | 0/1 [00:00<?, ?it/s]"
      ]
     },
     "metadata": {},
     "output_type": "display_data"
    },
    {
     "data": {
      "application/vnd.jupyter.widget-view+json": {
       "model_id": "50b61da4b48346b8afb98775cb8fed55",
       "version_major": 2,
       "version_minor": 0
      },
      "text/plain": [
       "  0%|          | 0/1 [00:00<?, ?it/s]"
      ]
     },
     "metadata": {},
     "output_type": "display_data"
    },
    {
     "data": {
      "application/vnd.jupyter.widget-view+json": {
       "model_id": "94a67aab89cc4d58b324306783a8b73c",
       "version_major": 2,
       "version_minor": 0
      },
      "text/plain": [
       "  0%|          | 0/1 [00:00<?, ?it/s]"
      ]
     },
     "metadata": {},
     "output_type": "display_data"
    },
    {
     "data": {
      "application/vnd.jupyter.widget-view+json": {
       "model_id": "6f34c43a665b4dcda7882b4195eeed8c",
       "version_major": 2,
       "version_minor": 0
      },
      "text/plain": [
       "  0%|          | 0/1 [00:00<?, ?it/s]"
      ]
     },
     "metadata": {},
     "output_type": "display_data"
    },
    {
     "data": {
      "application/vnd.jupyter.widget-view+json": {
       "model_id": "94f1139f72a14081b5e5071e057e5046",
       "version_major": 2,
       "version_minor": 0
      },
      "text/plain": [
       "  0%|          | 0/1 [00:00<?, ?it/s]"
      ]
     },
     "metadata": {},
     "output_type": "display_data"
    },
    {
     "data": {
      "application/vnd.jupyter.widget-view+json": {
       "model_id": "2f7ac348eca6411ebb63423be719572d",
       "version_major": 2,
       "version_minor": 0
      },
      "text/plain": [
       "  0%|          | 0/1 [00:00<?, ?it/s]"
      ]
     },
     "metadata": {},
     "output_type": "display_data"
    },
    {
     "data": {
      "application/vnd.jupyter.widget-view+json": {
       "model_id": "62b05edc4b4448aeafaea655ae843ad9",
       "version_major": 2,
       "version_minor": 0
      },
      "text/plain": [
       "  0%|          | 0/1 [00:00<?, ?it/s]"
      ]
     },
     "metadata": {},
     "output_type": "display_data"
    },
    {
     "data": {
      "application/vnd.jupyter.widget-view+json": {
       "model_id": "1a36b0561efd44fea23e9dd771da427b",
       "version_major": 2,
       "version_minor": 0
      },
      "text/plain": [
       "  0%|          | 0/1 [00:00<?, ?it/s]"
      ]
     },
     "metadata": {},
     "output_type": "display_data"
    },
    {
     "data": {
      "application/vnd.jupyter.widget-view+json": {
       "model_id": "308410066ed143eca17738b8fe173357",
       "version_major": 2,
       "version_minor": 0
      },
      "text/plain": [
       "  0%|          | 0/1 [00:00<?, ?it/s]"
      ]
     },
     "metadata": {},
     "output_type": "display_data"
    },
    {
     "data": {
      "application/vnd.jupyter.widget-view+json": {
       "model_id": "675c127cd07d473699f8c1bf81ea52e8",
       "version_major": 2,
       "version_minor": 0
      },
      "text/plain": [
       "  0%|          | 0/1 [00:00<?, ?it/s]"
      ]
     },
     "metadata": {},
     "output_type": "display_data"
    },
    {
     "data": {
      "application/vnd.jupyter.widget-view+json": {
       "model_id": "6eb685caa72e41bfae818af7853137ce",
       "version_major": 2,
       "version_minor": 0
      },
      "text/plain": [
       "  0%|          | 0/1 [00:00<?, ?it/s]"
      ]
     },
     "metadata": {},
     "output_type": "display_data"
    },
    {
     "name": "stdout",
     "output_type": "stream",
     "text": [
      "Zudem ist die Bestimmung der Serumtumormarker (AFP, Beta-hCG, LDH) zur korrekten Klassifikation des EGKZT nach IGCCCG erforderlich.\n",
      "\n",
      "No Filter:\n"
     ]
    },
    {
     "data": {
      "text/html": [
       "<div>\n",
       "<style scoped>\n",
       "    .dataframe tbody tr th:only-of-type {\n",
       "        vertical-align: middle;\n",
       "    }\n",
       "\n",
       "    .dataframe tbody tr th {\n",
       "        vertical-align: top;\n",
       "    }\n",
       "\n",
       "    .dataframe thead th {\n",
       "        text-align: right;\n",
       "    }\n",
       "</style>\n",
       "<table border=\"1\" class=\"dataframe\">\n",
       "  <thead>\n",
       "    <tr style=\"text-align: right;\">\n",
       "      <th></th>\n",
       "      <th>document</th>\n",
       "      <th>text</th>\n",
       "      <th>type</th>\n",
       "      <th>start</th>\n",
       "      <th>end</th>\n",
       "      <th>cui</th>\n",
       "      <th>tuis</th>\n",
       "      <th>canonical</th>\n",
       "      <th>linker</th>\n",
       "      <th>confidence</th>\n",
       "    </tr>\n",
       "  </thead>\n",
       "  <tbody>\n",
       "    <tr>\n",
       "      <th>4</th>\n",
       "      <td>21_hodentumoren_0260_22</td>\n",
       "      <td>LDH</td>\n",
       "      <td>Nutrient_or_Body_Substance</td>\n",
       "      <td>62</td>\n",
       "      <td>65</td>\n",
       "      <td>C0202113</td>\n",
       "      <td>[T059]</td>\n",
       "      <td>Laktatdehydrogenase</td>\n",
       "      <td>[ngram, sapbert]</td>\n",
       "      <td>0.073044</td>\n",
       "    </tr>\n",
       "  </tbody>\n",
       "</table>\n",
       "</div>"
      ],
      "text/plain": [
       "                  document text                        type  start  end  \\\n",
       "4  21_hodentumoren_0260_22  LDH  Nutrient_or_Body_Substance     62   65   \n",
       "\n",
       "        cui    tuis            canonical            linker  confidence  \n",
       "4  C0202113  [T059]  Laktatdehydrogenase  [ngram, sapbert]    0.073044  "
      ]
     },
     "metadata": {},
     "output_type": "display_data"
    },
    {
     "name": "stdout",
     "output_type": "stream",
     "text": [
      "Filter:\n"
     ]
    },
    {
     "data": {
      "text/html": [
       "<div>\n",
       "<style scoped>\n",
       "    .dataframe tbody tr th:only-of-type {\n",
       "        vertical-align: middle;\n",
       "    }\n",
       "\n",
       "    .dataframe tbody tr th {\n",
       "        vertical-align: top;\n",
       "    }\n",
       "\n",
       "    .dataframe thead th {\n",
       "        text-align: right;\n",
       "    }\n",
       "</style>\n",
       "<table border=\"1\" class=\"dataframe\">\n",
       "  <thead>\n",
       "    <tr style=\"text-align: right;\">\n",
       "      <th></th>\n",
       "      <th>document</th>\n",
       "      <th>text</th>\n",
       "      <th>type</th>\n",
       "      <th>start</th>\n",
       "      <th>end</th>\n",
       "      <th>cui</th>\n",
       "      <th>tuis</th>\n",
       "      <th>canonical</th>\n",
       "      <th>linker</th>\n",
       "      <th>confidence</th>\n",
       "    </tr>\n",
       "  </thead>\n",
       "  <tbody>\n",
       "    <tr>\n",
       "      <th>4</th>\n",
       "      <td>21_hodentumoren_0260_22</td>\n",
       "      <td>LDH</td>\n",
       "      <td>Nutrient_or_Body_Substance</td>\n",
       "      <td>62</td>\n",
       "      <td>65</td>\n",
       "      <td>C0024395</td>\n",
       "      <td>[T116, T126]</td>\n",
       "      <td>Lactatdehydrogenase 5</td>\n",
       "      <td>[ngram, sapbert]</td>\n",
       "      <td>0.069396</td>\n",
       "    </tr>\n",
       "  </tbody>\n",
       "</table>\n",
       "</div>"
      ],
      "text/plain": [
       "                  document text                        type  start  end  \\\n",
       "4  21_hodentumoren_0260_22  LDH  Nutrient_or_Body_Substance     62   65   \n",
       "\n",
       "        cui          tuis              canonical            linker  confidence  \n",
       "4  C0024395  [T116, T126]  Lactatdehydrogenase 5  [ngram, sapbert]    0.069396  "
      ]
     },
     "metadata": {},
     "output_type": "display_data"
    },
    {
     "name": "stdout",
     "output_type": "stream",
     "text": [
      "####\n"
     ]
    },
    {
     "data": {
      "application/vnd.jupyter.widget-view+json": {
       "model_id": "a109a6eca4a84d24b555b0835b532567",
       "version_major": 2,
       "version_minor": 0
      },
      "text/plain": [
       "  0%|          | 0/1 [00:00<?, ?it/s]"
      ]
     },
     "metadata": {},
     "output_type": "display_data"
    },
    {
     "data": {
      "application/vnd.jupyter.widget-view+json": {
       "model_id": "f9ffb1052131416fbd579ff884b791d7",
       "version_major": 2,
       "version_minor": 0
      },
      "text/plain": [
       "  0%|          | 0/1 [00:00<?, ?it/s]"
      ]
     },
     "metadata": {},
     "output_type": "display_data"
    },
    {
     "data": {
      "application/vnd.jupyter.widget-view+json": {
       "model_id": "7677eeac278c48859476a7f267bfeb4a",
       "version_major": 2,
       "version_minor": 0
      },
      "text/plain": [
       "  0%|          | 0/1 [00:00<?, ?it/s]"
      ]
     },
     "metadata": {},
     "output_type": "display_data"
    },
    {
     "data": {
      "application/vnd.jupyter.widget-view+json": {
       "model_id": "36fa9d73a8a846798ec85ed42ea650d8",
       "version_major": 2,
       "version_minor": 0
      },
      "text/plain": [
       "  0%|          | 0/1 [00:00<?, ?it/s]"
      ]
     },
     "metadata": {},
     "output_type": "display_data"
    },
    {
     "data": {
      "application/vnd.jupyter.widget-view+json": {
       "model_id": "620dd1f8cca7477c9666395701231287",
       "version_major": 2,
       "version_minor": 0
      },
      "text/plain": [
       "  0%|          | 0/1 [00:00<?, ?it/s]"
      ]
     },
     "metadata": {},
     "output_type": "display_data"
    },
    {
     "data": {
      "application/vnd.jupyter.widget-view+json": {
       "model_id": "27ace72046c749e9baa1136b3842fb57",
       "version_major": 2,
       "version_minor": 0
      },
      "text/plain": [
       "  0%|          | 0/1 [00:00<?, ?it/s]"
      ]
     },
     "metadata": {},
     "output_type": "display_data"
    },
    {
     "data": {
      "application/vnd.jupyter.widget-view+json": {
       "model_id": "91470819fd254f27a05ffa1df5e1ed0d",
       "version_major": 2,
       "version_minor": 0
      },
      "text/plain": [
       "  0%|          | 0/1 [00:00<?, ?it/s]"
      ]
     },
     "metadata": {},
     "output_type": "display_data"
    },
    {
     "data": {
      "application/vnd.jupyter.widget-view+json": {
       "model_id": "5a2f89ea132749b09623bd51eead87d5",
       "version_major": 2,
       "version_minor": 0
      },
      "text/plain": [
       "  0%|          | 0/1 [00:00<?, ?it/s]"
      ]
     },
     "metadata": {},
     "output_type": "display_data"
    },
    {
     "name": "stdout",
     "output_type": "stream",
     "text": [
      "Die Notwendigkeit einer primären Biopsie eines solchen Befundes wird kontrovers diskutiert.\n",
      "\n",
      "No Filter:\n"
     ]
    },
    {
     "data": {
      "text/html": [
       "<div>\n",
       "<style scoped>\n",
       "    .dataframe tbody tr th:only-of-type {\n",
       "        vertical-align: middle;\n",
       "    }\n",
       "\n",
       "    .dataframe tbody tr th {\n",
       "        vertical-align: top;\n",
       "    }\n",
       "\n",
       "    .dataframe thead th {\n",
       "        text-align: right;\n",
       "    }\n",
       "</style>\n",
       "<table border=\"1\" class=\"dataframe\">\n",
       "  <thead>\n",
       "    <tr style=\"text-align: right;\">\n",
       "      <th></th>\n",
       "      <th>document</th>\n",
       "      <th>text</th>\n",
       "      <th>type</th>\n",
       "      <th>start</th>\n",
       "      <th>end</th>\n",
       "      <th>cui</th>\n",
       "      <th>tuis</th>\n",
       "      <th>canonical</th>\n",
       "      <th>linker</th>\n",
       "      <th>confidence</th>\n",
       "    </tr>\n",
       "  </thead>\n",
       "  <tbody>\n",
       "    <tr>\n",
       "      <th>0</th>\n",
       "      <td>21_hodentumoren_0260_26</td>\n",
       "      <td>primären Biopsie eines solchen Befundes</td>\n",
       "      <td>Diagnostic</td>\n",
       "      <td>24</td>\n",
       "      <td>63</td>\n",
       "      <td>C0220797</td>\n",
       "      <td>[T033]</td>\n",
       "      <td>biopsy</td>\n",
       "      <td>[sapbert]</td>\n",
       "      <td>0.064055</td>\n",
       "    </tr>\n",
       "  </tbody>\n",
       "</table>\n",
       "</div>"
      ],
      "text/plain": [
       "                  document                                     text  \\\n",
       "0  21_hodentumoren_0260_26  primären Biopsie eines solchen Befundes   \n",
       "\n",
       "         type  start  end       cui    tuis canonical     linker  confidence  \n",
       "0  Diagnostic     24   63  C0220797  [T033]    biopsy  [sapbert]    0.064055  "
      ]
     },
     "metadata": {},
     "output_type": "display_data"
    },
    {
     "name": "stdout",
     "output_type": "stream",
     "text": [
      "Filter:\n"
     ]
    },
    {
     "data": {
      "text/html": [
       "<div>\n",
       "<style scoped>\n",
       "    .dataframe tbody tr th:only-of-type {\n",
       "        vertical-align: middle;\n",
       "    }\n",
       "\n",
       "    .dataframe tbody tr th {\n",
       "        vertical-align: top;\n",
       "    }\n",
       "\n",
       "    .dataframe thead th {\n",
       "        text-align: right;\n",
       "    }\n",
       "</style>\n",
       "<table border=\"1\" class=\"dataframe\">\n",
       "  <thead>\n",
       "    <tr style=\"text-align: right;\">\n",
       "      <th></th>\n",
       "      <th>document</th>\n",
       "      <th>text</th>\n",
       "      <th>type</th>\n",
       "      <th>start</th>\n",
       "      <th>end</th>\n",
       "      <th>cui</th>\n",
       "      <th>tuis</th>\n",
       "      <th>canonical</th>\n",
       "      <th>linker</th>\n",
       "      <th>confidence</th>\n",
       "    </tr>\n",
       "  </thead>\n",
       "  <tbody>\n",
       "    <tr>\n",
       "      <th>0</th>\n",
       "      <td>21_hodentumoren_0260_26</td>\n",
       "      <td>primären Biopsie eines solchen Befundes</td>\n",
       "      <td>Diagnostic</td>\n",
       "      <td>24</td>\n",
       "      <td>63</td>\n",
       "      <td>C0005558</td>\n",
       "      <td>[T060]</td>\n",
       "      <td>Biopsie</td>\n",
       "      <td>[ngram, sapbert]</td>\n",
       "      <td>0.063768</td>\n",
       "    </tr>\n",
       "  </tbody>\n",
       "</table>\n",
       "</div>"
      ],
      "text/plain": [
       "                  document                                     text  \\\n",
       "0  21_hodentumoren_0260_26  primären Biopsie eines solchen Befundes   \n",
       "\n",
       "         type  start  end       cui    tuis canonical            linker  \\\n",
       "0  Diagnostic     24   63  C0005558  [T060]   Biopsie  [ngram, sapbert]   \n",
       "\n",
       "   confidence  \n",
       "0    0.063768  "
      ]
     },
     "metadata": {},
     "output_type": "display_data"
    },
    {
     "name": "stdout",
     "output_type": "stream",
     "text": [
      "####\n"
     ]
    },
    {
     "data": {
      "application/vnd.jupyter.widget-view+json": {
       "model_id": "0f1b18c556d6488ba22b21068f7aa65f",
       "version_major": 2,
       "version_minor": 0
      },
      "text/plain": [
       "  0%|          | 0/1 [00:00<?, ?it/s]"
      ]
     },
     "metadata": {},
     "output_type": "display_data"
    },
    {
     "data": {
      "application/vnd.jupyter.widget-view+json": {
       "model_id": "e3e99e4ac9734be987e48a0ec72c9ef6",
       "version_major": 2,
       "version_minor": 0
      },
      "text/plain": [
       "  0%|          | 0/1 [00:00<?, ?it/s]"
      ]
     },
     "metadata": {},
     "output_type": "display_data"
    },
    {
     "data": {
      "application/vnd.jupyter.widget-view+json": {
       "model_id": "3744bf2367e44817ba5e0231de2ad68b",
       "version_major": 2,
       "version_minor": 0
      },
      "text/plain": [
       "  0%|          | 0/1 [00:00<?, ?it/s]"
      ]
     },
     "metadata": {},
     "output_type": "display_data"
    },
    {
     "data": {
      "application/vnd.jupyter.widget-view+json": {
       "model_id": "4e298cad7fa04a2186375d595f4b0dfb",
       "version_major": 2,
       "version_minor": 0
      },
      "text/plain": [
       "  0%|          | 0/1 [00:00<?, ?it/s]"
      ]
     },
     "metadata": {},
     "output_type": "display_data"
    },
    {
     "data": {
      "application/vnd.jupyter.widget-view+json": {
       "model_id": "271653b028704d5e95588839b1db6801",
       "version_major": 2,
       "version_minor": 0
      },
      "text/plain": [
       "  0%|          | 0/1 [00:00<?, ?it/s]"
      ]
     },
     "metadata": {},
     "output_type": "display_data"
    },
    {
     "data": {
      "application/vnd.jupyter.widget-view+json": {
       "model_id": "eda865bfdbf541faa5d3650a58273ffc",
       "version_major": 2,
       "version_minor": 0
      },
      "text/plain": [
       "  0%|          | 0/1 [00:00<?, ?it/s]"
      ]
     },
     "metadata": {},
     "output_type": "display_data"
    },
    {
     "data": {
      "application/vnd.jupyter.widget-view+json": {
       "model_id": "c827a000cdc343f395343646787d9711",
       "version_major": 2,
       "version_minor": 0
      },
      "text/plain": [
       "  0%|          | 0/1 [00:00<?, ?it/s]"
      ]
     },
     "metadata": {},
     "output_type": "display_data"
    },
    {
     "data": {
      "application/vnd.jupyter.widget-view+json": {
       "model_id": "bafac3b18e234469bf8c99c17dbe2472",
       "version_major": 2,
       "version_minor": 0
      },
      "text/plain": [
       "  0%|          | 0/1 [00:00<?, ?it/s]"
      ]
     },
     "metadata": {},
     "output_type": "display_data"
    },
    {
     "data": {
      "application/vnd.jupyter.widget-view+json": {
       "model_id": "ae55b48d6b7f4e86b5940df7d880164d",
       "version_major": 2,
       "version_minor": 0
      },
      "text/plain": [
       "  0%|          | 0/1 [00:00<?, ?it/s]"
      ]
     },
     "metadata": {},
     "output_type": "display_data"
    },
    {
     "data": {
      "application/vnd.jupyter.widget-view+json": {
       "model_id": "728bc556f8084251a99ee0dff840de96",
       "version_major": 2,
       "version_minor": 0
      },
      "text/plain": [
       "  0%|          | 0/1 [00:00<?, ?it/s]"
      ]
     },
     "metadata": {},
     "output_type": "display_data"
    },
    {
     "data": {
      "application/vnd.jupyter.widget-view+json": {
       "model_id": "b37835e4401a49588ac95229528c61ea",
       "version_major": 2,
       "version_minor": 0
      },
      "text/plain": [
       "  0%|          | 0/1 [00:00<?, ?it/s]"
      ]
     },
     "metadata": {},
     "output_type": "display_data"
    },
    {
     "data": {
      "application/vnd.jupyter.widget-view+json": {
       "model_id": "725a3bdd205a4c3596d4ebd8eed16a6e",
       "version_major": 2,
       "version_minor": 0
      },
      "text/plain": [
       "  0%|          | 0/1 [00:00<?, ?it/s]"
      ]
     },
     "metadata": {},
     "output_type": "display_data"
    },
    {
     "data": {
      "application/vnd.jupyter.widget-view+json": {
       "model_id": "cdd29475de334c03972dd61c90af1f22",
       "version_major": 2,
       "version_minor": 0
      },
      "text/plain": [
       "  0%|          | 0/1 [00:00<?, ?it/s]"
      ]
     },
     "metadata": {},
     "output_type": "display_data"
    },
    {
     "data": {
      "application/vnd.jupyter.widget-view+json": {
       "model_id": "2558d7f77dfe4c7b88de7b63a67132b9",
       "version_major": 2,
       "version_minor": 0
      },
      "text/plain": [
       "  0%|          | 0/1 [00:00<?, ?it/s]"
      ]
     },
     "metadata": {},
     "output_type": "display_data"
    },
    {
     "data": {
      "application/vnd.jupyter.widget-view+json": {
       "model_id": "f8c8bfadceea4a90bca59c0f2d9cee95",
       "version_major": 2,
       "version_minor": 0
      },
      "text/plain": [
       "  0%|          | 0/1 [00:00<?, ?it/s]"
      ]
     },
     "metadata": {},
     "output_type": "display_data"
    },
    {
     "data": {
      "application/vnd.jupyter.widget-view+json": {
       "model_id": "cb3bced89fec403e8c427be74232278f",
       "version_major": 2,
       "version_minor": 0
      },
      "text/plain": [
       "  0%|          | 0/1 [00:00<?, ?it/s]"
      ]
     },
     "metadata": {},
     "output_type": "display_data"
    },
    {
     "data": {
      "application/vnd.jupyter.widget-view+json": {
       "model_id": "95f1b46405374affb62453e0020daf10",
       "version_major": 2,
       "version_minor": 0
      },
      "text/plain": [
       "  0%|          | 0/1 [00:00<?, ?it/s]"
      ]
     },
     "metadata": {},
     "output_type": "display_data"
    },
    {
     "data": {
      "application/vnd.jupyter.widget-view+json": {
       "model_id": "a81f195171da4896983126db729b6ed0",
       "version_major": 2,
       "version_minor": 0
      },
      "text/plain": [
       "  0%|          | 0/1 [00:00<?, ?it/s]"
      ]
     },
     "metadata": {},
     "output_type": "display_data"
    },
    {
     "data": {
      "application/vnd.jupyter.widget-view+json": {
       "model_id": "5520bdcbe7ec401db243dfa189b2a989",
       "version_major": 2,
       "version_minor": 0
      },
      "text/plain": [
       "  0%|          | 0/1 [00:00<?, ?it/s]"
      ]
     },
     "metadata": {},
     "output_type": "display_data"
    },
    {
     "data": {
      "application/vnd.jupyter.widget-view+json": {
       "model_id": "77ccbfc6831a4d17a2ff49c272c7bcc4",
       "version_major": 2,
       "version_minor": 0
      },
      "text/plain": [
       "  0%|          | 0/1 [00:00<?, ?it/s]"
      ]
     },
     "metadata": {},
     "output_type": "display_data"
    },
    {
     "data": {
      "application/vnd.jupyter.widget-view+json": {
       "model_id": "5e747cbef830424e96067c2daef5e93a",
       "version_major": 2,
       "version_minor": 0
      },
      "text/plain": [
       "  0%|          | 0/1 [00:00<?, ?it/s]"
      ]
     },
     "metadata": {},
     "output_type": "display_data"
    },
    {
     "data": {
      "application/vnd.jupyter.widget-view+json": {
       "model_id": "55ef65edade94a708fac36b63361036c",
       "version_major": 2,
       "version_minor": 0
      },
      "text/plain": [
       "  0%|          | 0/1 [00:00<?, ?it/s]"
      ]
     },
     "metadata": {},
     "output_type": "display_data"
    },
    {
     "data": {
      "application/vnd.jupyter.widget-view+json": {
       "model_id": "d96e004eea2142639b33c4c54f3ed1db",
       "version_major": 2,
       "version_minor": 0
      },
      "text/plain": [
       "  0%|          | 0/1 [00:00<?, ?it/s]"
      ]
     },
     "metadata": {},
     "output_type": "display_data"
    },
    {
     "data": {
      "application/vnd.jupyter.widget-view+json": {
       "model_id": "f2b1c067d1654111a40cd40a2ed13d9b",
       "version_major": 2,
       "version_minor": 0
      },
      "text/plain": [
       "  0%|          | 0/1 [00:00<?, ?it/s]"
      ]
     },
     "metadata": {},
     "output_type": "display_data"
    },
    {
     "data": {
      "application/vnd.jupyter.widget-view+json": {
       "model_id": "ac6e2e5ae13645eb99b928292dc41e2f",
       "version_major": 2,
       "version_minor": 0
      },
      "text/plain": [
       "  0%|          | 0/1 [00:00<?, ?it/s]"
      ]
     },
     "metadata": {},
     "output_type": "display_data"
    },
    {
     "data": {
      "application/vnd.jupyter.widget-view+json": {
       "model_id": "6c62461b1da849beab273b96f040ed06",
       "version_major": 2,
       "version_minor": 0
      },
      "text/plain": [
       "  0%|          | 0/1 [00:00<?, ?it/s]"
      ]
     },
     "metadata": {},
     "output_type": "display_data"
    },
    {
     "data": {
      "application/vnd.jupyter.widget-view+json": {
       "model_id": "cf5340345b764f0383a58381221be563",
       "version_major": 2,
       "version_minor": 0
      },
      "text/plain": [
       "  0%|          | 0/1 [00:00<?, ?it/s]"
      ]
     },
     "metadata": {},
     "output_type": "display_data"
    },
    {
     "data": {
      "application/vnd.jupyter.widget-view+json": {
       "model_id": "a29621dbced2407cb0deaaf7c76c3752",
       "version_major": 2,
       "version_minor": 0
      },
      "text/plain": [
       "  0%|          | 0/1 [00:00<?, ?it/s]"
      ]
     },
     "metadata": {},
     "output_type": "display_data"
    },
    {
     "data": {
      "application/vnd.jupyter.widget-view+json": {
       "model_id": "bca71b7e8af34d48b74a85fa26b32cfc",
       "version_major": 2,
       "version_minor": 0
      },
      "text/plain": [
       "  0%|          | 0/1 [00:00<?, ?it/s]"
      ]
     },
     "metadata": {},
     "output_type": "display_data"
    },
    {
     "data": {
      "application/vnd.jupyter.widget-view+json": {
       "model_id": "35737e867bc04ae2b3a0a707e5782f41",
       "version_major": 2,
       "version_minor": 0
      },
      "text/plain": [
       "  0%|          | 0/1 [00:00<?, ?it/s]"
      ]
     },
     "metadata": {},
     "output_type": "display_data"
    },
    {
     "data": {
      "application/vnd.jupyter.widget-view+json": {
       "model_id": "dc27972a5e37462d82e22525f01f48b9",
       "version_major": 2,
       "version_minor": 0
      },
      "text/plain": [
       "  0%|          | 0/1 [00:00<?, ?it/s]"
      ]
     },
     "metadata": {},
     "output_type": "display_data"
    },
    {
     "data": {
      "application/vnd.jupyter.widget-view+json": {
       "model_id": "3795f1f9050342d7b32aeed5afb750ec",
       "version_major": 2,
       "version_minor": 0
      },
      "text/plain": [
       "  0%|          | 0/1 [00:00<?, ?it/s]"
      ]
     },
     "metadata": {},
     "output_type": "display_data"
    },
    {
     "data": {
      "application/vnd.jupyter.widget-view+json": {
       "model_id": "e0b69dd36f1a4bbf963504e25f7404b4",
       "version_major": 2,
       "version_minor": 0
      },
      "text/plain": [
       "  0%|          | 0/1 [00:00<?, ?it/s]"
      ]
     },
     "metadata": {},
     "output_type": "display_data"
    },
    {
     "data": {
      "application/vnd.jupyter.widget-view+json": {
       "model_id": "777fc37441be416cbc61a8b762e0153e",
       "version_major": 2,
       "version_minor": 0
      },
      "text/plain": [
       "  0%|          | 0/1 [00:00<?, ?it/s]"
      ]
     },
     "metadata": {},
     "output_type": "display_data"
    },
    {
     "data": {
      "application/vnd.jupyter.widget-view+json": {
       "model_id": "03b2a646d5764598af1048eed9cfd57a",
       "version_major": 2,
       "version_minor": 0
      },
      "text/plain": [
       "  0%|          | 0/1 [00:00<?, ?it/s]"
      ]
     },
     "metadata": {},
     "output_type": "display_data"
    },
    {
     "data": {
      "application/vnd.jupyter.widget-view+json": {
       "model_id": "add43dd433bd4acfbbbf0537612b8688",
       "version_major": 2,
       "version_minor": 0
      },
      "text/plain": [
       "  0%|          | 0/1 [00:00<?, ?it/s]"
      ]
     },
     "metadata": {},
     "output_type": "display_data"
    },
    {
     "data": {
      "application/vnd.jupyter.widget-view+json": {
       "model_id": "ac885b182e8447e6b64971de8d5ec882",
       "version_major": 2,
       "version_minor": 0
      },
      "text/plain": [
       "  0%|          | 0/1 [00:00<?, ?it/s]"
      ]
     },
     "metadata": {},
     "output_type": "display_data"
    },
    {
     "data": {
      "application/vnd.jupyter.widget-view+json": {
       "model_id": "f7b6a697aa9f4a2db843192ce531f8f0",
       "version_major": 2,
       "version_minor": 0
      },
      "text/plain": [
       "  0%|          | 0/1 [00:00<?, ?it/s]"
      ]
     },
     "metadata": {},
     "output_type": "display_data"
    },
    {
     "data": {
      "application/vnd.jupyter.widget-view+json": {
       "model_id": "83fb905ca1a141ee86aef30df51f84fa",
       "version_major": 2,
       "version_minor": 0
      },
      "text/plain": [
       "  0%|          | 0/1 [00:00<?, ?it/s]"
      ]
     },
     "metadata": {},
     "output_type": "display_data"
    },
    {
     "data": {
      "application/vnd.jupyter.widget-view+json": {
       "model_id": "112d9c48fc6d4b49a4b0821e8adc2383",
       "version_major": 2,
       "version_minor": 0
      },
      "text/plain": [
       "  0%|          | 0/1 [00:00<?, ?it/s]"
      ]
     },
     "metadata": {},
     "output_type": "display_data"
    },
    {
     "name": "stdout",
     "output_type": "stream",
     "text": [
      "Bei klarem histologischen Nachweis eines reifen Teratoms und normwertigen Serumtumormarkern ist eine operative Resektion des EGKZT indiziert.\n",
      "\n",
      "No Filter:\n"
     ]
    },
    {
     "data": {
      "text/html": [
       "<div>\n",
       "<style scoped>\n",
       "    .dataframe tbody tr th:only-of-type {\n",
       "        vertical-align: middle;\n",
       "    }\n",
       "\n",
       "    .dataframe tbody tr th {\n",
       "        vertical-align: top;\n",
       "    }\n",
       "\n",
       "    .dataframe thead th {\n",
       "        text-align: right;\n",
       "    }\n",
       "</style>\n",
       "<table border=\"1\" class=\"dataframe\">\n",
       "  <thead>\n",
       "    <tr style=\"text-align: right;\">\n",
       "      <th></th>\n",
       "      <th>document</th>\n",
       "      <th>text</th>\n",
       "      <th>type</th>\n",
       "      <th>start</th>\n",
       "      <th>end</th>\n",
       "      <th>cui</th>\n",
       "      <th>tuis</th>\n",
       "      <th>canonical</th>\n",
       "      <th>linker</th>\n",
       "      <th>confidence</th>\n",
       "    </tr>\n",
       "  </thead>\n",
       "  <tbody>\n",
       "    <tr>\n",
       "      <th>2</th>\n",
       "      <td>21_hodentumoren_0260_46</td>\n",
       "      <td>operative Resektion des EGKZT</td>\n",
       "      <td>Therapeutic</td>\n",
       "      <td>101</td>\n",
       "      <td>130</td>\n",
       "      <td>C2939032</td>\n",
       "      <td>[T061]</td>\n",
       "      <td>Electrocorticography electrodes removal</td>\n",
       "      <td>[sapbert]</td>\n",
       "      <td>0.06314</td>\n",
       "    </tr>\n",
       "  </tbody>\n",
       "</table>\n",
       "</div>"
      ],
      "text/plain": [
       "                  document                           text         type  start  \\\n",
       "2  21_hodentumoren_0260_46  operative Resektion des EGKZT  Therapeutic    101   \n",
       "\n",
       "   end       cui    tuis                                canonical     linker  \\\n",
       "2  130  C2939032  [T061]  Electrocorticography electrodes removal  [sapbert]   \n",
       "\n",
       "   confidence  \n",
       "2     0.06314  "
      ]
     },
     "metadata": {},
     "output_type": "display_data"
    },
    {
     "name": "stdout",
     "output_type": "stream",
     "text": [
      "Filter:\n"
     ]
    },
    {
     "data": {
      "text/html": [
       "<div>\n",
       "<style scoped>\n",
       "    .dataframe tbody tr th:only-of-type {\n",
       "        vertical-align: middle;\n",
       "    }\n",
       "\n",
       "    .dataframe tbody tr th {\n",
       "        vertical-align: top;\n",
       "    }\n",
       "\n",
       "    .dataframe thead th {\n",
       "        text-align: right;\n",
       "    }\n",
       "</style>\n",
       "<table border=\"1\" class=\"dataframe\">\n",
       "  <thead>\n",
       "    <tr style=\"text-align: right;\">\n",
       "      <th></th>\n",
       "      <th>document</th>\n",
       "      <th>text</th>\n",
       "      <th>type</th>\n",
       "      <th>start</th>\n",
       "      <th>end</th>\n",
       "      <th>cui</th>\n",
       "      <th>tuis</th>\n",
       "      <th>canonical</th>\n",
       "      <th>linker</th>\n",
       "      <th>confidence</th>\n",
       "    </tr>\n",
       "  </thead>\n",
       "  <tbody>\n",
       "    <tr>\n",
       "      <th>2</th>\n",
       "      <td>21_hodentumoren_0260_46</td>\n",
       "      <td>operative Resektion des EGKZT</td>\n",
       "      <td>Therapeutic</td>\n",
       "      <td>101</td>\n",
       "      <td>130</td>\n",
       "      <td>C0543467</td>\n",
       "      <td>[T061]</td>\n",
       "      <td>Chirurgische Verfahren, operative</td>\n",
       "      <td>[ngram]</td>\n",
       "      <td>0.063292</td>\n",
       "    </tr>\n",
       "  </tbody>\n",
       "</table>\n",
       "</div>"
      ],
      "text/plain": [
       "                  document                           text         type  start  \\\n",
       "2  21_hodentumoren_0260_46  operative Resektion des EGKZT  Therapeutic    101   \n",
       "\n",
       "   end       cui    tuis                          canonical   linker  \\\n",
       "2  130  C0543467  [T061]  Chirurgische Verfahren, operative  [ngram]   \n",
       "\n",
       "   confidence  \n",
       "2    0.063292  "
      ]
     },
     "metadata": {},
     "output_type": "display_data"
    },
    {
     "name": "stdout",
     "output_type": "stream",
     "text": [
      "####\n"
     ]
    },
    {
     "data": {
      "application/vnd.jupyter.widget-view+json": {
       "model_id": "adefaf5877c240ad8cb7a6651a9b87b5",
       "version_major": 2,
       "version_minor": 0
      },
      "text/plain": [
       "  0%|          | 0/1 [00:00<?, ?it/s]"
      ]
     },
     "metadata": {},
     "output_type": "display_data"
    },
    {
     "data": {
      "application/vnd.jupyter.widget-view+json": {
       "model_id": "7bfb42d442ff475d8b1d6040a649ff02",
       "version_major": 2,
       "version_minor": 0
      },
      "text/plain": [
       "  0%|          | 0/1 [00:00<?, ?it/s]"
      ]
     },
     "metadata": {},
     "output_type": "display_data"
    },
    {
     "data": {
      "application/vnd.jupyter.widget-view+json": {
       "model_id": "3793e6c1401c4e9baed5574fe380e419",
       "version_major": 2,
       "version_minor": 0
      },
      "text/plain": [
       "  0%|          | 0/1 [00:00<?, ?it/s]"
      ]
     },
     "metadata": {},
     "output_type": "display_data"
    },
    {
     "data": {
      "application/vnd.jupyter.widget-view+json": {
       "model_id": "9c5a4eff856f41a1b7c09e741f761a4e",
       "version_major": 2,
       "version_minor": 0
      },
      "text/plain": [
       "  0%|          | 0/1 [00:00<?, ?it/s]"
      ]
     },
     "metadata": {},
     "output_type": "display_data"
    },
    {
     "data": {
      "application/vnd.jupyter.widget-view+json": {
       "model_id": "85158ed204a24556ade074733ffd89e5",
       "version_major": 2,
       "version_minor": 0
      },
      "text/plain": [
       "  0%|          | 0/1 [00:00<?, ?it/s]"
      ]
     },
     "metadata": {},
     "output_type": "display_data"
    },
    {
     "data": {
      "application/vnd.jupyter.widget-view+json": {
       "model_id": "359c14480d3b4800a7f094f0f71b27c8",
       "version_major": 2,
       "version_minor": 0
      },
      "text/plain": [
       "  0%|          | 0/1 [00:00<?, ?it/s]"
      ]
     },
     "metadata": {},
     "output_type": "display_data"
    },
    {
     "data": {
      "application/vnd.jupyter.widget-view+json": {
       "model_id": "70b3ebfdd77e4ab5b8b7a519c0a80aa1",
       "version_major": 2,
       "version_minor": 0
      },
      "text/plain": [
       "  0%|          | 0/1 [00:00<?, ?it/s]"
      ]
     },
     "metadata": {},
     "output_type": "display_data"
    },
    {
     "data": {
      "application/vnd.jupyter.widget-view+json": {
       "model_id": "907ffa98dfc542e0b08de903812f8ba7",
       "version_major": 2,
       "version_minor": 0
      },
      "text/plain": [
       "  0%|          | 0/1 [00:00<?, ?it/s]"
      ]
     },
     "metadata": {},
     "output_type": "display_data"
    },
    {
     "name": "stdout",
     "output_type": "stream",
     "text": [
      "Die vaskulär-gezielte photodynamische Therapie (VTP) mit Padeliporfin (TOOKAD©) ist durch die EMA zugelassen für die Behandlung des unbehandelten, lokalisierten Niedrig-Risiko Prostatakarzinoms (T1c oder T2a, Gleason Score 6, PSA < 10 ng/ml) mit lokaler Begrenzung (maximal drei positive Proben mit einer maximalen Tumorinfiltrationslänge von 5 mm bei jeder der drei Proben oder 1-2 positiven Proben mit > 50 % Befall oder einer PSA-Dichte ≥ 0.15 ng/ml/mm3).\n",
      "\n",
      "No Filter:\n"
     ]
    },
    {
     "data": {
      "text/html": [
       "<div>\n",
       "<style scoped>\n",
       "    .dataframe tbody tr th:only-of-type {\n",
       "        vertical-align: middle;\n",
       "    }\n",
       "\n",
       "    .dataframe tbody tr th {\n",
       "        vertical-align: top;\n",
       "    }\n",
       "\n",
       "    .dataframe thead th {\n",
       "        text-align: right;\n",
       "    }\n",
       "</style>\n",
       "<table border=\"1\" class=\"dataframe\">\n",
       "  <thead>\n",
       "    <tr style=\"text-align: right;\">\n",
       "      <th></th>\n",
       "      <th>document</th>\n",
       "      <th>text</th>\n",
       "      <th>type</th>\n",
       "      <th>start</th>\n",
       "      <th>end</th>\n",
       "      <th>cui</th>\n",
       "      <th>tuis</th>\n",
       "      <th>canonical</th>\n",
       "      <th>linker</th>\n",
       "      <th>confidence</th>\n",
       "    </tr>\n",
       "  </thead>\n",
       "  <tbody>\n",
       "    <tr>\n",
       "      <th>4</th>\n",
       "      <td>22_prostatakarzinom_0153_0</td>\n",
       "      <td>Behandlung des unbehandelten, lokalisierten Ni...</td>\n",
       "      <td>Therapeutic</td>\n",
       "      <td>117</td>\n",
       "      <td>193</td>\n",
       "      <td>C5553996</td>\n",
       "      <td>[T191]</td>\n",
       "      <td>Locally advanced prostate cancer</td>\n",
       "      <td>[ngram, sapbert]</td>\n",
       "      <td>0.063802</td>\n",
       "    </tr>\n",
       "  </tbody>\n",
       "</table>\n",
       "</div>"
      ],
      "text/plain": [
       "                     document  \\\n",
       "4  22_prostatakarzinom_0153_0   \n",
       "\n",
       "                                                text         type  start  end  \\\n",
       "4  Behandlung des unbehandelten, lokalisierten Ni...  Therapeutic    117  193   \n",
       "\n",
       "        cui    tuis                         canonical            linker  \\\n",
       "4  C5553996  [T191]  Locally advanced prostate cancer  [ngram, sapbert]   \n",
       "\n",
       "   confidence  \n",
       "4    0.063802  "
      ]
     },
     "metadata": {},
     "output_type": "display_data"
    },
    {
     "name": "stdout",
     "output_type": "stream",
     "text": [
      "Filter:\n"
     ]
    },
    {
     "data": {
      "text/html": [
       "<div>\n",
       "<style scoped>\n",
       "    .dataframe tbody tr th:only-of-type {\n",
       "        vertical-align: middle;\n",
       "    }\n",
       "\n",
       "    .dataframe tbody tr th {\n",
       "        vertical-align: top;\n",
       "    }\n",
       "\n",
       "    .dataframe thead th {\n",
       "        text-align: right;\n",
       "    }\n",
       "</style>\n",
       "<table border=\"1\" class=\"dataframe\">\n",
       "  <thead>\n",
       "    <tr style=\"text-align: right;\">\n",
       "      <th></th>\n",
       "      <th>document</th>\n",
       "      <th>text</th>\n",
       "      <th>type</th>\n",
       "      <th>start</th>\n",
       "      <th>end</th>\n",
       "      <th>cui</th>\n",
       "      <th>tuis</th>\n",
       "      <th>canonical</th>\n",
       "      <th>linker</th>\n",
       "      <th>confidence</th>\n",
       "    </tr>\n",
       "  </thead>\n",
       "  <tbody>\n",
       "    <tr>\n",
       "      <th>4</th>\n",
       "      <td>22_prostatakarzinom_0153_0</td>\n",
       "      <td>Behandlung des unbehandelten, lokalisierten Ni...</td>\n",
       "      <td>Therapeutic</td>\n",
       "      <td>117</td>\n",
       "      <td>193</td>\n",
       "      <td>C1880062</td>\n",
       "      <td>[T061]</td>\n",
       "      <td>Regimen Used to Treat Prostate Carcinoma</td>\n",
       "      <td>[sapbert]</td>\n",
       "      <td>0.063829</td>\n",
       "    </tr>\n",
       "  </tbody>\n",
       "</table>\n",
       "</div>"
      ],
      "text/plain": [
       "                     document  \\\n",
       "4  22_prostatakarzinom_0153_0   \n",
       "\n",
       "                                                text         type  start  end  \\\n",
       "4  Behandlung des unbehandelten, lokalisierten Ni...  Therapeutic    117  193   \n",
       "\n",
       "        cui    tuis                                 canonical     linker  \\\n",
       "4  C1880062  [T061]  Regimen Used to Treat Prostate Carcinoma  [sapbert]   \n",
       "\n",
       "   confidence  \n",
       "4    0.063829  "
      ]
     },
     "metadata": {},
     "output_type": "display_data"
    },
    {
     "name": "stdout",
     "output_type": "stream",
     "text": [
      "####\n"
     ]
    },
    {
     "data": {
      "application/vnd.jupyter.widget-view+json": {
       "model_id": "977081925bb14fae9644ec39fb717de4",
       "version_major": 2,
       "version_minor": 0
      },
      "text/plain": [
       "  0%|          | 0/1 [00:00<?, ?it/s]"
      ]
     },
     "metadata": {},
     "output_type": "display_data"
    },
    {
     "data": {
      "application/vnd.jupyter.widget-view+json": {
       "model_id": "52b5ee3b74464a73b6d9c2421f1936ee",
       "version_major": 2,
       "version_minor": 0
      },
      "text/plain": [
       "  0%|          | 0/1 [00:00<?, ?it/s]"
      ]
     },
     "metadata": {},
     "output_type": "display_data"
    },
    {
     "data": {
      "application/vnd.jupyter.widget-view+json": {
       "model_id": "bb6f63d311594113ae823fc212cd3338",
       "version_major": 2,
       "version_minor": 0
      },
      "text/plain": [
       "  0%|          | 0/1 [00:00<?, ?it/s]"
      ]
     },
     "metadata": {},
     "output_type": "display_data"
    },
    {
     "data": {
      "application/vnd.jupyter.widget-view+json": {
       "model_id": "e5a637410bbe4f1ea840d6c5855288cd",
       "version_major": 2,
       "version_minor": 0
      },
      "text/plain": [
       "  0%|          | 0/1 [00:00<?, ?it/s]"
      ]
     },
     "metadata": {},
     "output_type": "display_data"
    },
    {
     "data": {
      "application/vnd.jupyter.widget-view+json": {
       "model_id": "7946d8a55bbf4797a6fa629dae39dc62",
       "version_major": 2,
       "version_minor": 0
      },
      "text/plain": [
       "  0%|          | 0/1 [00:00<?, ?it/s]"
      ]
     },
     "metadata": {},
     "output_type": "display_data"
    },
    {
     "data": {
      "application/vnd.jupyter.widget-view+json": {
       "model_id": "4022b1cb351843b0bb2cc148de591192",
       "version_major": 2,
       "version_minor": 0
      },
      "text/plain": [
       "  0%|          | 0/1 [00:00<?, ?it/s]"
      ]
     },
     "metadata": {},
     "output_type": "display_data"
    },
    {
     "data": {
      "application/vnd.jupyter.widget-view+json": {
       "model_id": "6cf5108a3cc84a268e682d3f617fb0b5",
       "version_major": 2,
       "version_minor": 0
      },
      "text/plain": [
       "  0%|          | 0/1 [00:00<?, ?it/s]"
      ]
     },
     "metadata": {},
     "output_type": "display_data"
    },
    {
     "data": {
      "application/vnd.jupyter.widget-view+json": {
       "model_id": "977d33045be0414596ed7027f0a1eaad",
       "version_major": 2,
       "version_minor": 0
      },
      "text/plain": [
       "  0%|          | 0/1 [00:00<?, ?it/s]"
      ]
     },
     "metadata": {},
     "output_type": "display_data"
    },
    {
     "data": {
      "application/vnd.jupyter.widget-view+json": {
       "model_id": "5acdb1bb599c4e419cf11f65379185ce",
       "version_major": 2,
       "version_minor": 0
      },
      "text/plain": [
       "  0%|          | 0/1 [00:00<?, ?it/s]"
      ]
     },
     "metadata": {},
     "output_type": "display_data"
    },
    {
     "data": {
      "application/vnd.jupyter.widget-view+json": {
       "model_id": "0b4c662194c0450d96c49fa304b8efe1",
       "version_major": 2,
       "version_minor": 0
      },
      "text/plain": [
       "  0%|          | 0/1 [00:00<?, ?it/s]"
      ]
     },
     "metadata": {},
     "output_type": "display_data"
    },
    {
     "data": {
      "application/vnd.jupyter.widget-view+json": {
       "model_id": "f1ae103595fc40eca531d26c46e91314",
       "version_major": 2,
       "version_minor": 0
      },
      "text/plain": [
       "  0%|          | 0/1 [00:00<?, ?it/s]"
      ]
     },
     "metadata": {},
     "output_type": "display_data"
    },
    {
     "data": {
      "application/vnd.jupyter.widget-view+json": {
       "model_id": "a1a0c142f51c44819bcf1765d63d60b9",
       "version_major": 2,
       "version_minor": 0
      },
      "text/plain": [
       "  0%|          | 0/1 [00:00<?, ?it/s]"
      ]
     },
     "metadata": {},
     "output_type": "display_data"
    },
    {
     "data": {
      "application/vnd.jupyter.widget-view+json": {
       "model_id": "749155ccb3644649adb8bb0b4f4c5a73",
       "version_major": 2,
       "version_minor": 0
      },
      "text/plain": [
       "  0%|          | 0/1 [00:00<?, ?it/s]"
      ]
     },
     "metadata": {},
     "output_type": "display_data"
    },
    {
     "data": {
      "application/vnd.jupyter.widget-view+json": {
       "model_id": "dfe2055c5b4c497faea57a1cbd47b459",
       "version_major": 2,
       "version_minor": 0
      },
      "text/plain": [
       "  0%|          | 0/1 [00:00<?, ?it/s]"
      ]
     },
     "metadata": {},
     "output_type": "display_data"
    },
    {
     "data": {
      "application/vnd.jupyter.widget-view+json": {
       "model_id": "a939dad631964e2ca97d676e2bb3764f",
       "version_major": 2,
       "version_minor": 0
      },
      "text/plain": [
       "  0%|          | 0/1 [00:00<?, ?it/s]"
      ]
     },
     "metadata": {},
     "output_type": "display_data"
    },
    {
     "data": {
      "application/vnd.jupyter.widget-view+json": {
       "model_id": "aaecda821ce84d3894e597553e009f33",
       "version_major": 2,
       "version_minor": 0
      },
      "text/plain": [
       "  0%|          | 0/1 [00:00<?, ?it/s]"
      ]
     },
     "metadata": {},
     "output_type": "display_data"
    },
    {
     "data": {
      "application/vnd.jupyter.widget-view+json": {
       "model_id": "07dfdf98d3d94bd49e762cfde74112cb",
       "version_major": 2,
       "version_minor": 0
      },
      "text/plain": [
       "  0%|          | 0/1 [00:00<?, ?it/s]"
      ]
     },
     "metadata": {},
     "output_type": "display_data"
    },
    {
     "data": {
      "application/vnd.jupyter.widget-view+json": {
       "model_id": "d9138193add34d7ea897602490a1dec8",
       "version_major": 2,
       "version_minor": 0
      },
      "text/plain": [
       "  0%|          | 0/1 [00:00<?, ?it/s]"
      ]
     },
     "metadata": {},
     "output_type": "display_data"
    },
    {
     "data": {
      "application/vnd.jupyter.widget-view+json": {
       "model_id": "a488b7c3a9574a479b8edbc4c751fe25",
       "version_major": 2,
       "version_minor": 0
      },
      "text/plain": [
       "  0%|          | 0/1 [00:00<?, ?it/s]"
      ]
     },
     "metadata": {},
     "output_type": "display_data"
    },
    {
     "data": {
      "application/vnd.jupyter.widget-view+json": {
       "model_id": "ea5e6eaabe86470fa5682198ab3fb107",
       "version_major": 2,
       "version_minor": 0
      },
      "text/plain": [
       "  0%|          | 0/1 [00:00<?, ?it/s]"
      ]
     },
     "metadata": {},
     "output_type": "display_data"
    },
    {
     "data": {
      "application/vnd.jupyter.widget-view+json": {
       "model_id": "74724eb743a3491d9ae45d112e434216",
       "version_major": 2,
       "version_minor": 0
      },
      "text/plain": [
       "  0%|          | 0/1 [00:00<?, ?it/s]"
      ]
     },
     "metadata": {},
     "output_type": "display_data"
    },
    {
     "data": {
      "application/vnd.jupyter.widget-view+json": {
       "model_id": "fcff3d7c622c4a4a8818a4ba8300335e",
       "version_major": 2,
       "version_minor": 0
      },
      "text/plain": [
       "  0%|          | 0/1 [00:00<?, ?it/s]"
      ]
     },
     "metadata": {},
     "output_type": "display_data"
    },
    {
     "data": {
      "application/vnd.jupyter.widget-view+json": {
       "model_id": "5a6f4abc1f5b4c14b8e01b0e123836fd",
       "version_major": 2,
       "version_minor": 0
      },
      "text/plain": [
       "  0%|          | 0/1 [00:00<?, ?it/s]"
      ]
     },
     "metadata": {},
     "output_type": "display_data"
    },
    {
     "data": {
      "application/vnd.jupyter.widget-view+json": {
       "model_id": "178623f5b4cd49eea69031c2cb51ce08",
       "version_major": 2,
       "version_minor": 0
      },
      "text/plain": [
       "  0%|          | 0/1 [00:00<?, ?it/s]"
      ]
     },
     "metadata": {},
     "output_type": "display_data"
    },
    {
     "data": {
      "application/vnd.jupyter.widget-view+json": {
       "model_id": "5f98df90506544f593aea984f63b7e22",
       "version_major": 2,
       "version_minor": 0
      },
      "text/plain": [
       "  0%|          | 0/1 [00:00<?, ?it/s]"
      ]
     },
     "metadata": {},
     "output_type": "display_data"
    },
    {
     "data": {
      "application/vnd.jupyter.widget-view+json": {
       "model_id": "b6e10f13318f48fa9ac199b4d5403372",
       "version_major": 2,
       "version_minor": 0
      },
      "text/plain": [
       "  0%|          | 0/1 [00:00<?, ?it/s]"
      ]
     },
     "metadata": {},
     "output_type": "display_data"
    },
    {
     "data": {
      "application/vnd.jupyter.widget-view+json": {
       "model_id": "39842b4813c64a7cb21806553ac69051",
       "version_major": 2,
       "version_minor": 0
      },
      "text/plain": [
       "  0%|          | 0/1 [00:00<?, ?it/s]"
      ]
     },
     "metadata": {},
     "output_type": "display_data"
    },
    {
     "data": {
      "application/vnd.jupyter.widget-view+json": {
       "model_id": "f5d3011c61404d6fa7846eaaa53f891c",
       "version_major": 2,
       "version_minor": 0
      },
      "text/plain": [
       "  0%|          | 0/1 [00:00<?, ?it/s]"
      ]
     },
     "metadata": {},
     "output_type": "display_data"
    },
    {
     "data": {
      "application/vnd.jupyter.widget-view+json": {
       "model_id": "06b67f931914426baae44ed4709d1267",
       "version_major": 2,
       "version_minor": 0
      },
      "text/plain": [
       "  0%|          | 0/1 [00:00<?, ?it/s]"
      ]
     },
     "metadata": {},
     "output_type": "display_data"
    },
    {
     "data": {
      "application/vnd.jupyter.widget-view+json": {
       "model_id": "3bf1d0a9c5d24ee193e901ac303ef249",
       "version_major": 2,
       "version_minor": 0
      },
      "text/plain": [
       "  0%|          | 0/1 [00:00<?, ?it/s]"
      ]
     },
     "metadata": {},
     "output_type": "display_data"
    },
    {
     "data": {
      "application/vnd.jupyter.widget-view+json": {
       "model_id": "28ba7445bb2a42c183f72566899e7d9f",
       "version_major": 2,
       "version_minor": 0
      },
      "text/plain": [
       "  0%|          | 0/1 [00:00<?, ?it/s]"
      ]
     },
     "metadata": {},
     "output_type": "display_data"
    },
    {
     "data": {
      "application/vnd.jupyter.widget-view+json": {
       "model_id": "c03f05a0951f46ae8b1a6670370edc66",
       "version_major": 2,
       "version_minor": 0
      },
      "text/plain": [
       "  0%|          | 0/1 [00:00<?, ?it/s]"
      ]
     },
     "metadata": {},
     "output_type": "display_data"
    },
    {
     "data": {
      "application/vnd.jupyter.widget-view+json": {
       "model_id": "6c73ae8385e04755beaec446a440d5f5",
       "version_major": 2,
       "version_minor": 0
      },
      "text/plain": [
       "  0%|          | 0/1 [00:00<?, ?it/s]"
      ]
     },
     "metadata": {},
     "output_type": "display_data"
    },
    {
     "data": {
      "application/vnd.jupyter.widget-view+json": {
       "model_id": "7edfd7ef96a44924a71e3c9a10fc042a",
       "version_major": 2,
       "version_minor": 0
      },
      "text/plain": [
       "  0%|          | 0/1 [00:00<?, ?it/s]"
      ]
     },
     "metadata": {},
     "output_type": "display_data"
    },
    {
     "data": {
      "application/vnd.jupyter.widget-view+json": {
       "model_id": "bed986c3158f41528bb590b83cc30386",
       "version_major": 2,
       "version_minor": 0
      },
      "text/plain": [
       "  0%|          | 0/1 [00:00<?, ?it/s]"
      ]
     },
     "metadata": {},
     "output_type": "display_data"
    },
    {
     "data": {
      "application/vnd.jupyter.widget-view+json": {
       "model_id": "650443857bf341b787b13e95054cf521",
       "version_major": 2,
       "version_minor": 0
      },
      "text/plain": [
       "  0%|          | 0/1 [00:00<?, ?it/s]"
      ]
     },
     "metadata": {},
     "output_type": "display_data"
    },
    {
     "data": {
      "application/vnd.jupyter.widget-view+json": {
       "model_id": "d799ac572a86489e8916b5e78a4234fc",
       "version_major": 2,
       "version_minor": 0
      },
      "text/plain": [
       "  0%|          | 0/1 [00:00<?, ?it/s]"
      ]
     },
     "metadata": {},
     "output_type": "display_data"
    },
    {
     "data": {
      "application/vnd.jupyter.widget-view+json": {
       "model_id": "5c376c96cf2e489f84c1db4488c74a45",
       "version_major": 2,
       "version_minor": 0
      },
      "text/plain": [
       "  0%|          | 0/1 [00:00<?, ?it/s]"
      ]
     },
     "metadata": {},
     "output_type": "display_data"
    },
    {
     "data": {
      "application/vnd.jupyter.widget-view+json": {
       "model_id": "10ed079ed1204459a44fb14e6edcdc32",
       "version_major": 2,
       "version_minor": 0
      },
      "text/plain": [
       "  0%|          | 0/1 [00:00<?, ?it/s]"
      ]
     },
     "metadata": {},
     "output_type": "display_data"
    },
    {
     "data": {
      "application/vnd.jupyter.widget-view+json": {
       "model_id": "3aad45d366424add8c25f37100f15d4e",
       "version_major": 2,
       "version_minor": 0
      },
      "text/plain": [
       "  0%|          | 0/1 [00:00<?, ?it/s]"
      ]
     },
     "metadata": {},
     "output_type": "display_data"
    },
    {
     "data": {
      "application/vnd.jupyter.widget-view+json": {
       "model_id": "2d41bddb34b54c03bb37c3ff8019f0a8",
       "version_major": 2,
       "version_minor": 0
      },
      "text/plain": [
       "  0%|          | 0/1 [00:00<?, ?it/s]"
      ]
     },
     "metadata": {},
     "output_type": "display_data"
    },
    {
     "data": {
      "application/vnd.jupyter.widget-view+json": {
       "model_id": "688573a7e2bc4041a964c324aeebd36d",
       "version_major": 2,
       "version_minor": 0
      },
      "text/plain": [
       "  0%|          | 0/1 [00:00<?, ?it/s]"
      ]
     },
     "metadata": {},
     "output_type": "display_data"
    },
    {
     "data": {
      "application/vnd.jupyter.widget-view+json": {
       "model_id": "f7ffb660218446678adfb4f376e2eb9a",
       "version_major": 2,
       "version_minor": 0
      },
      "text/plain": [
       "  0%|          | 0/1 [00:00<?, ?it/s]"
      ]
     },
     "metadata": {},
     "output_type": "display_data"
    },
    {
     "data": {
      "application/vnd.jupyter.widget-view+json": {
       "model_id": "796742e5e3e145dba862c8870e0892a2",
       "version_major": 2,
       "version_minor": 0
      },
      "text/plain": [
       "  0%|          | 0/1 [00:00<?, ?it/s]"
      ]
     },
     "metadata": {},
     "output_type": "display_data"
    },
    {
     "data": {
      "application/vnd.jupyter.widget-view+json": {
       "model_id": "3e01cf7172eb4983a64b5f639b0ee2b6",
       "version_major": 2,
       "version_minor": 0
      },
      "text/plain": [
       "  0%|          | 0/1 [00:00<?, ?it/s]"
      ]
     },
     "metadata": {},
     "output_type": "display_data"
    },
    {
     "data": {
      "application/vnd.jupyter.widget-view+json": {
       "model_id": "2ee854ce23ec49779909c5e50ae8eb6f",
       "version_major": 2,
       "version_minor": 0
      },
      "text/plain": [
       "  0%|          | 0/1 [00:00<?, ?it/s]"
      ]
     },
     "metadata": {},
     "output_type": "display_data"
    },
    {
     "data": {
      "application/vnd.jupyter.widget-view+json": {
       "model_id": "bb1dc2ef5bd34fb2b8339a5debb15de4",
       "version_major": 2,
       "version_minor": 0
      },
      "text/plain": [
       "  0%|          | 0/1 [00:00<?, ?it/s]"
      ]
     },
     "metadata": {},
     "output_type": "display_data"
    },
    {
     "data": {
      "application/vnd.jupyter.widget-view+json": {
       "model_id": "27a5edc95cb44a199165b440f137e32a",
       "version_major": 2,
       "version_minor": 0
      },
      "text/plain": [
       "  0%|          | 0/1 [00:00<?, ?it/s]"
      ]
     },
     "metadata": {},
     "output_type": "display_data"
    },
    {
     "data": {
      "application/vnd.jupyter.widget-view+json": {
       "model_id": "5f6641b4aee742c3b19008aa6f786d69",
       "version_major": 2,
       "version_minor": 0
      },
      "text/plain": [
       "  0%|          | 0/1 [00:00<?, ?it/s]"
      ]
     },
     "metadata": {},
     "output_type": "display_data"
    },
    {
     "data": {
      "application/vnd.jupyter.widget-view+json": {
       "model_id": "21a9a035d79c490c87e5c03b87a676e6",
       "version_major": 2,
       "version_minor": 0
      },
      "text/plain": [
       "  0%|          | 0/1 [00:00<?, ?it/s]"
      ]
     },
     "metadata": {},
     "output_type": "display_data"
    },
    {
     "data": {
      "application/vnd.jupyter.widget-view+json": {
       "model_id": "b1af258a97b041eab4bd104e4eff3acf",
       "version_major": 2,
       "version_minor": 0
      },
      "text/plain": [
       "  0%|          | 0/1 [00:00<?, ?it/s]"
      ]
     },
     "metadata": {},
     "output_type": "display_data"
    },
    {
     "data": {
      "application/vnd.jupyter.widget-view+json": {
       "model_id": "be2ae5bfffd4443da5e69e44a28341b9",
       "version_major": 2,
       "version_minor": 0
      },
      "text/plain": [
       "  0%|          | 0/1 [00:00<?, ?it/s]"
      ]
     },
     "metadata": {},
     "output_type": "display_data"
    },
    {
     "data": {
      "application/vnd.jupyter.widget-view+json": {
       "model_id": "c064f66358a34c9cbd8c4de0e665a5f1",
       "version_major": 2,
       "version_minor": 0
      },
      "text/plain": [
       "  0%|          | 0/1 [00:00<?, ?it/s]"
      ]
     },
     "metadata": {},
     "output_type": "display_data"
    },
    {
     "data": {
      "application/vnd.jupyter.widget-view+json": {
       "model_id": "03c21220d35b4b97a15287e9eb77f5c6",
       "version_major": 2,
       "version_minor": 0
      },
      "text/plain": [
       "  0%|          | 0/1 [00:00<?, ?it/s]"
      ]
     },
     "metadata": {},
     "output_type": "display_data"
    },
    {
     "data": {
      "application/vnd.jupyter.widget-view+json": {
       "model_id": "a5e2da15ca414f58963f17808d7d2853",
       "version_major": 2,
       "version_minor": 0
      },
      "text/plain": [
       "  0%|          | 0/1 [00:00<?, ?it/s]"
      ]
     },
     "metadata": {},
     "output_type": "display_data"
    },
    {
     "data": {
      "application/vnd.jupyter.widget-view+json": {
       "model_id": "2689c94238a94659b4b10d364abeb82c",
       "version_major": 2,
       "version_minor": 0
      },
      "text/plain": [
       "  0%|          | 0/1 [00:00<?, ?it/s]"
      ]
     },
     "metadata": {},
     "output_type": "display_data"
    },
    {
     "data": {
      "application/vnd.jupyter.widget-view+json": {
       "model_id": "7c464d5adea94fb1871d2abae8f14617",
       "version_major": 2,
       "version_minor": 0
      },
      "text/plain": [
       "  0%|          | 0/1 [00:00<?, ?it/s]"
      ]
     },
     "metadata": {},
     "output_type": "display_data"
    },
    {
     "data": {
      "application/vnd.jupyter.widget-view+json": {
       "model_id": "de41367a8bcc4ce7b155633cceccc69a",
       "version_major": 2,
       "version_minor": 0
      },
      "text/plain": [
       "  0%|          | 0/1 [00:00<?, ?it/s]"
      ]
     },
     "metadata": {},
     "output_type": "display_data"
    },
    {
     "name": "stdout",
     "output_type": "stream",
     "text": [
      "Die beschriebenen Fallserien können jedoch sowohl wegen ihrer Fallzahl als auch aufgrund des Fehlens einer Kontrollgruppe nicht die Evidenz liefern, dass eine Testosteronsubstitution nach kurativer Therapie unschädlich sei.\n",
      "\n",
      "No Filter:\n"
     ]
    },
    {
     "data": {
      "text/html": [
       "<div>\n",
       "<style scoped>\n",
       "    .dataframe tbody tr th:only-of-type {\n",
       "        vertical-align: middle;\n",
       "    }\n",
       "\n",
       "    .dataframe tbody tr th {\n",
       "        vertical-align: top;\n",
       "    }\n",
       "\n",
       "    .dataframe thead th {\n",
       "        text-align: right;\n",
       "    }\n",
       "</style>\n",
       "<table border=\"1\" class=\"dataframe\">\n",
       "  <thead>\n",
       "    <tr style=\"text-align: right;\">\n",
       "      <th></th>\n",
       "      <th>document</th>\n",
       "      <th>text</th>\n",
       "      <th>type</th>\n",
       "      <th>start</th>\n",
       "      <th>end</th>\n",
       "      <th>cui</th>\n",
       "      <th>tuis</th>\n",
       "      <th>canonical</th>\n",
       "      <th>linker</th>\n",
       "      <th>confidence</th>\n",
       "    </tr>\n",
       "  </thead>\n",
       "  <tbody>\n",
       "    <tr>\n",
       "      <th>0</th>\n",
       "      <td>22_prostatakarzinom_0334_13</td>\n",
       "      <td>Testosteronsubstitution</td>\n",
       "      <td>Therapeutic</td>\n",
       "      <td>159</td>\n",
       "      <td>182</td>\n",
       "      <td>C3827232</td>\n",
       "      <td>[T033]</td>\n",
       "      <td>Testosterone excess</td>\n",
       "      <td>[sapbert]</td>\n",
       "      <td>0.065929</td>\n",
       "    </tr>\n",
       "  </tbody>\n",
       "</table>\n",
       "</div>"
      ],
      "text/plain": [
       "                      document                     text         type  start  \\\n",
       "0  22_prostatakarzinom_0334_13  Testosteronsubstitution  Therapeutic    159   \n",
       "\n",
       "   end       cui    tuis            canonical     linker  confidence  \n",
       "0  182  C3827232  [T033]  Testosterone excess  [sapbert]    0.065929  "
      ]
     },
     "metadata": {},
     "output_type": "display_data"
    },
    {
     "name": "stdout",
     "output_type": "stream",
     "text": [
      "Filter:\n"
     ]
    },
    {
     "data": {
      "text/html": [
       "<div>\n",
       "<style scoped>\n",
       "    .dataframe tbody tr th:only-of-type {\n",
       "        vertical-align: middle;\n",
       "    }\n",
       "\n",
       "    .dataframe tbody tr th {\n",
       "        vertical-align: top;\n",
       "    }\n",
       "\n",
       "    .dataframe thead th {\n",
       "        text-align: right;\n",
       "    }\n",
       "</style>\n",
       "<table border=\"1\" class=\"dataframe\">\n",
       "  <thead>\n",
       "    <tr style=\"text-align: right;\">\n",
       "      <th></th>\n",
       "      <th>document</th>\n",
       "      <th>text</th>\n",
       "      <th>type</th>\n",
       "      <th>start</th>\n",
       "      <th>end</th>\n",
       "      <th>cui</th>\n",
       "      <th>tuis</th>\n",
       "      <th>canonical</th>\n",
       "      <th>linker</th>\n",
       "      <th>confidence</th>\n",
       "    </tr>\n",
       "  </thead>\n",
       "  <tbody>\n",
       "    <tr>\n",
       "      <th>0</th>\n",
       "      <td>22_prostatakarzinom_0334_13</td>\n",
       "      <td>Testosteronsubstitution</td>\n",
       "      <td>Therapeutic</td>\n",
       "      <td>159</td>\n",
       "      <td>182</td>\n",
       "      <td>C0039607</td>\n",
       "      <td>[T109, T121, T125]</td>\n",
       "      <td>Testosteronproprionat</td>\n",
       "      <td>[sapbert]</td>\n",
       "      <td>0.065842</td>\n",
       "    </tr>\n",
       "  </tbody>\n",
       "</table>\n",
       "</div>"
      ],
      "text/plain": [
       "                      document                     text         type  start  \\\n",
       "0  22_prostatakarzinom_0334_13  Testosteronsubstitution  Therapeutic    159   \n",
       "\n",
       "   end       cui                tuis              canonical     linker  \\\n",
       "0  182  C0039607  [T109, T121, T125]  Testosteronproprionat  [sapbert]   \n",
       "\n",
       "   confidence  \n",
       "0    0.065842  "
      ]
     },
     "metadata": {},
     "output_type": "display_data"
    },
    {
     "name": "stdout",
     "output_type": "stream",
     "text": [
      "####\n"
     ]
    },
    {
     "data": {
      "application/vnd.jupyter.widget-view+json": {
       "model_id": "18e221c291124bc49ab757afb4d6e5b4",
       "version_major": 2,
       "version_minor": 0
      },
      "text/plain": [
       "  0%|          | 0/1 [00:00<?, ?it/s]"
      ]
     },
     "metadata": {},
     "output_type": "display_data"
    },
    {
     "data": {
      "application/vnd.jupyter.widget-view+json": {
       "model_id": "8bb4be55cbea49edae397083684755c5",
       "version_major": 2,
       "version_minor": 0
      },
      "text/plain": [
       "  0%|          | 0/1 [00:00<?, ?it/s]"
      ]
     },
     "metadata": {},
     "output_type": "display_data"
    },
    {
     "name": "stdout",
     "output_type": "stream",
     "text": [
      "Die Autoren dieser Leitlinie sehen die Notwendigkeit für eine Stellungnahme zur Testosteronsubstition bei klinisch schwer symptomatischen Patienten mit nachgewiesenem Testosteronmangel nach kurativer Therapie eines Prostatakarzinoms.\n",
      "\n",
      "No Filter:\n"
     ]
    },
    {
     "data": {
      "text/html": [
       "<div>\n",
       "<style scoped>\n",
       "    .dataframe tbody tr th:only-of-type {\n",
       "        vertical-align: middle;\n",
       "    }\n",
       "\n",
       "    .dataframe tbody tr th {\n",
       "        vertical-align: top;\n",
       "    }\n",
       "\n",
       "    .dataframe thead th {\n",
       "        text-align: right;\n",
       "    }\n",
       "</style>\n",
       "<table border=\"1\" class=\"dataframe\">\n",
       "  <thead>\n",
       "    <tr style=\"text-align: right;\">\n",
       "      <th></th>\n",
       "      <th>document</th>\n",
       "      <th>text</th>\n",
       "      <th>type</th>\n",
       "      <th>start</th>\n",
       "      <th>end</th>\n",
       "      <th>cui</th>\n",
       "      <th>tuis</th>\n",
       "      <th>canonical</th>\n",
       "      <th>linker</th>\n",
       "      <th>confidence</th>\n",
       "    </tr>\n",
       "  </thead>\n",
       "  <tbody>\n",
       "    <tr>\n",
       "      <th>3</th>\n",
       "      <td>22_prostatakarzinom_0334_14</td>\n",
       "      <td>kurativer Therapie eines Prostatakarzinoms</td>\n",
       "      <td>Therapeutic</td>\n",
       "      <td>190</td>\n",
       "      <td>232</td>\n",
       "      <td>C1328504</td>\n",
       "      <td>[T191]</td>\n",
       "      <td>Hormone refractory prostate cancer</td>\n",
       "      <td>[ngram, sapbert]</td>\n",
       "      <td>0.065897</td>\n",
       "    </tr>\n",
       "  </tbody>\n",
       "</table>\n",
       "</div>"
      ],
      "text/plain": [
       "                      document                                        text  \\\n",
       "3  22_prostatakarzinom_0334_14  kurativer Therapie eines Prostatakarzinoms   \n",
       "\n",
       "          type  start  end       cui    tuis  \\\n",
       "3  Therapeutic    190  232  C1328504  [T191]   \n",
       "\n",
       "                            canonical            linker  confidence  \n",
       "3  Hormone refractory prostate cancer  [ngram, sapbert]    0.065897  "
      ]
     },
     "metadata": {},
     "output_type": "display_data"
    },
    {
     "name": "stdout",
     "output_type": "stream",
     "text": [
      "Filter:\n"
     ]
    },
    {
     "data": {
      "text/html": [
       "<div>\n",
       "<style scoped>\n",
       "    .dataframe tbody tr th:only-of-type {\n",
       "        vertical-align: middle;\n",
       "    }\n",
       "\n",
       "    .dataframe tbody tr th {\n",
       "        vertical-align: top;\n",
       "    }\n",
       "\n",
       "    .dataframe thead th {\n",
       "        text-align: right;\n",
       "    }\n",
       "</style>\n",
       "<table border=\"1\" class=\"dataframe\">\n",
       "  <thead>\n",
       "    <tr style=\"text-align: right;\">\n",
       "      <th></th>\n",
       "      <th>document</th>\n",
       "      <th>text</th>\n",
       "      <th>type</th>\n",
       "      <th>start</th>\n",
       "      <th>end</th>\n",
       "      <th>cui</th>\n",
       "      <th>tuis</th>\n",
       "      <th>canonical</th>\n",
       "      <th>linker</th>\n",
       "      <th>confidence</th>\n",
       "    </tr>\n",
       "  </thead>\n",
       "  <tbody>\n",
       "    <tr>\n",
       "      <th>3</th>\n",
       "      <td>22_prostatakarzinom_0334_14</td>\n",
       "      <td>kurativer Therapie eines Prostatakarzinoms</td>\n",
       "      <td>Therapeutic</td>\n",
       "      <td>190</td>\n",
       "      <td>232</td>\n",
       "      <td>C4763954</td>\n",
       "      <td>[T061]</td>\n",
       "      <td>Prostate Cancer Surgery</td>\n",
       "      <td>[sapbert]</td>\n",
       "      <td>0.063945</td>\n",
       "    </tr>\n",
       "  </tbody>\n",
       "</table>\n",
       "</div>"
      ],
      "text/plain": [
       "                      document                                        text  \\\n",
       "3  22_prostatakarzinom_0334_14  kurativer Therapie eines Prostatakarzinoms   \n",
       "\n",
       "          type  start  end       cui    tuis                canonical  \\\n",
       "3  Therapeutic    190  232  C4763954  [T061]  Prostate Cancer Surgery   \n",
       "\n",
       "      linker  confidence  \n",
       "3  [sapbert]    0.063945  "
      ]
     },
     "metadata": {},
     "output_type": "display_data"
    },
    {
     "name": "stdout",
     "output_type": "stream",
     "text": [
      "####\n"
     ]
    },
    {
     "data": {
      "application/vnd.jupyter.widget-view+json": {
       "model_id": "f76b5846b44144519b0e7138c4bf0e74",
       "version_major": 2,
       "version_minor": 0
      },
      "text/plain": [
       "  0%|          | 0/1 [00:00<?, ?it/s]"
      ]
     },
     "metadata": {},
     "output_type": "display_data"
    },
    {
     "data": {
      "application/vnd.jupyter.widget-view+json": {
       "model_id": "b6ed0081f20645d4982c84d3f8a78a18",
       "version_major": 2,
       "version_minor": 0
      },
      "text/plain": [
       "  0%|          | 0/1 [00:00<?, ?it/s]"
      ]
     },
     "metadata": {},
     "output_type": "display_data"
    },
    {
     "data": {
      "application/vnd.jupyter.widget-view+json": {
       "model_id": "92f273063a5f44edabe5605c301a4d79",
       "version_major": 2,
       "version_minor": 0
      },
      "text/plain": [
       "  0%|          | 0/1 [00:00<?, ?it/s]"
      ]
     },
     "metadata": {},
     "output_type": "display_data"
    },
    {
     "data": {
      "application/vnd.jupyter.widget-view+json": {
       "model_id": "572c4be625e54d1fa1918929e44ff543",
       "version_major": 2,
       "version_minor": 0
      },
      "text/plain": [
       "  0%|          | 0/1 [00:00<?, ?it/s]"
      ]
     },
     "metadata": {},
     "output_type": "display_data"
    },
    {
     "data": {
      "application/vnd.jupyter.widget-view+json": {
       "model_id": "a202bd7bcd5e443cae926e36e1b29953",
       "version_major": 2,
       "version_minor": 0
      },
      "text/plain": [
       "  0%|          | 0/1 [00:00<?, ?it/s]"
      ]
     },
     "metadata": {},
     "output_type": "display_data"
    },
    {
     "data": {
      "application/vnd.jupyter.widget-view+json": {
       "model_id": "ec17af39ba0e40628fd5c1606c3a882e",
       "version_major": 2,
       "version_minor": 0
      },
      "text/plain": [
       "  0%|          | 0/1 [00:00<?, ?it/s]"
      ]
     },
     "metadata": {},
     "output_type": "display_data"
    },
    {
     "data": {
      "application/vnd.jupyter.widget-view+json": {
       "model_id": "5a9b56e76c8941f386f2c36c0195a585",
       "version_major": 2,
       "version_minor": 0
      },
      "text/plain": [
       "  0%|          | 0/1 [00:00<?, ?it/s]"
      ]
     },
     "metadata": {},
     "output_type": "display_data"
    },
    {
     "data": {
      "application/vnd.jupyter.widget-view+json": {
       "model_id": "2d0eac81f9a6442b9c04d6f2c599a73a",
       "version_major": 2,
       "version_minor": 0
      },
      "text/plain": [
       "  0%|          | 0/1 [00:00<?, ?it/s]"
      ]
     },
     "metadata": {},
     "output_type": "display_data"
    },
    {
     "data": {
      "application/vnd.jupyter.widget-view+json": {
       "model_id": "72ef6d03811845a3a3a201a4dce9929d",
       "version_major": 2,
       "version_minor": 0
      },
      "text/plain": [
       "  0%|          | 0/1 [00:00<?, ?it/s]"
      ]
     },
     "metadata": {},
     "output_type": "display_data"
    },
    {
     "data": {
      "application/vnd.jupyter.widget-view+json": {
       "model_id": "34b1693d0dde4efe8bed84f4c532390a",
       "version_major": 2,
       "version_minor": 0
      },
      "text/plain": [
       "  0%|          | 0/1 [00:00<?, ?it/s]"
      ]
     },
     "metadata": {},
     "output_type": "display_data"
    },
    {
     "data": {
      "application/vnd.jupyter.widget-view+json": {
       "model_id": "e5ba1c4ce0b0457396ee403956b99718",
       "version_major": 2,
       "version_minor": 0
      },
      "text/plain": [
       "  0%|          | 0/1 [00:00<?, ?it/s]"
      ]
     },
     "metadata": {},
     "output_type": "display_data"
    },
    {
     "data": {
      "application/vnd.jupyter.widget-view+json": {
       "model_id": "7e9509ef13dc4302bb9ba65ad9224470",
       "version_major": 2,
       "version_minor": 0
      },
      "text/plain": [
       "  0%|          | 0/1 [00:00<?, ?it/s]"
      ]
     },
     "metadata": {},
     "output_type": "display_data"
    },
    {
     "data": {
      "application/vnd.jupyter.widget-view+json": {
       "model_id": "fcf314aded784ffd9bb69435b389a7b2",
       "version_major": 2,
       "version_minor": 0
      },
      "text/plain": [
       "  0%|          | 0/1 [00:00<?, ?it/s]"
      ]
     },
     "metadata": {},
     "output_type": "display_data"
    },
    {
     "data": {
      "application/vnd.jupyter.widget-view+json": {
       "model_id": "ddf38694722d46ebac5ca6a7abacd399",
       "version_major": 2,
       "version_minor": 0
      },
      "text/plain": [
       "  0%|          | 0/1 [00:00<?, ?it/s]"
      ]
     },
     "metadata": {},
     "output_type": "display_data"
    },
    {
     "data": {
      "application/vnd.jupyter.widget-view+json": {
       "model_id": "d2599b29e6354c5c860d8d4afb59f4ae",
       "version_major": 2,
       "version_minor": 0
      },
      "text/plain": [
       "  0%|          | 0/1 [00:00<?, ?it/s]"
      ]
     },
     "metadata": {},
     "output_type": "display_data"
    },
    {
     "data": {
      "application/vnd.jupyter.widget-view+json": {
       "model_id": "4f1fb0e0665d4f1abfb00d0b7a956a6d",
       "version_major": 2,
       "version_minor": 0
      },
      "text/plain": [
       "  0%|          | 0/1 [00:00<?, ?it/s]"
      ]
     },
     "metadata": {},
     "output_type": "display_data"
    },
    {
     "data": {
      "application/vnd.jupyter.widget-view+json": {
       "model_id": "f24a83a195f84f7b9b556f473da33530",
       "version_major": 2,
       "version_minor": 0
      },
      "text/plain": [
       "  0%|          | 0/1 [00:00<?, ?it/s]"
      ]
     },
     "metadata": {},
     "output_type": "display_data"
    },
    {
     "data": {
      "application/vnd.jupyter.widget-view+json": {
       "model_id": "0b167ee97fe2476695355ba309881088",
       "version_major": 2,
       "version_minor": 0
      },
      "text/plain": [
       "  0%|          | 0/1 [00:00<?, ?it/s]"
      ]
     },
     "metadata": {},
     "output_type": "display_data"
    },
    {
     "data": {
      "application/vnd.jupyter.widget-view+json": {
       "model_id": "2aaf7342449a4f0b965b2933d641e63f",
       "version_major": 2,
       "version_minor": 0
      },
      "text/plain": [
       "  0%|          | 0/1 [00:00<?, ?it/s]"
      ]
     },
     "metadata": {},
     "output_type": "display_data"
    },
    {
     "data": {
      "application/vnd.jupyter.widget-view+json": {
       "model_id": "5edcdb8f1c4c4c0287e71fa64e0dfd6d",
       "version_major": 2,
       "version_minor": 0
      },
      "text/plain": [
       "  0%|          | 0/1 [00:00<?, ?it/s]"
      ]
     },
     "metadata": {},
     "output_type": "display_data"
    },
    {
     "data": {
      "application/vnd.jupyter.widget-view+json": {
       "model_id": "82c5bbe61a9b4a27a1afbf5bd0ce09b3",
       "version_major": 2,
       "version_minor": 0
      },
      "text/plain": [
       "  0%|          | 0/1 [00:00<?, ?it/s]"
      ]
     },
     "metadata": {},
     "output_type": "display_data"
    },
    {
     "data": {
      "application/vnd.jupyter.widget-view+json": {
       "model_id": "f1a83142f9524b70a7e6e00a71fc8f47",
       "version_major": 2,
       "version_minor": 0
      },
      "text/plain": [
       "  0%|          | 0/1 [00:00<?, ?it/s]"
      ]
     },
     "metadata": {},
     "output_type": "display_data"
    },
    {
     "data": {
      "application/vnd.jupyter.widget-view+json": {
       "model_id": "48ba95ec70ac4ec582abe3af49bd9e0a",
       "version_major": 2,
       "version_minor": 0
      },
      "text/plain": [
       "  0%|          | 0/1 [00:00<?, ?it/s]"
      ]
     },
     "metadata": {},
     "output_type": "display_data"
    },
    {
     "data": {
      "application/vnd.jupyter.widget-view+json": {
       "model_id": "f5a5fd6f424e4207aaeb7fafb281acd8",
       "version_major": 2,
       "version_minor": 0
      },
      "text/plain": [
       "  0%|          | 0/1 [00:00<?, ?it/s]"
      ]
     },
     "metadata": {},
     "output_type": "display_data"
    },
    {
     "data": {
      "application/vnd.jupyter.widget-view+json": {
       "model_id": "670fd361da2346a88c732565b33d5e61",
       "version_major": 2,
       "version_minor": 0
      },
      "text/plain": [
       "  0%|          | 0/1 [00:00<?, ?it/s]"
      ]
     },
     "metadata": {},
     "output_type": "display_data"
    },
    {
     "data": {
      "application/vnd.jupyter.widget-view+json": {
       "model_id": "471e0e039e874023b3e2f205eb389fb8",
       "version_major": 2,
       "version_minor": 0
      },
      "text/plain": [
       "  0%|          | 0/1 [00:00<?, ?it/s]"
      ]
     },
     "metadata": {},
     "output_type": "display_data"
    },
    {
     "data": {
      "application/vnd.jupyter.widget-view+json": {
       "model_id": "71db13c5dda947b9a5e42aa94bacbb89",
       "version_major": 2,
       "version_minor": 0
      },
      "text/plain": [
       "  0%|          | 0/1 [00:00<?, ?it/s]"
      ]
     },
     "metadata": {},
     "output_type": "display_data"
    },
    {
     "data": {
      "application/vnd.jupyter.widget-view+json": {
       "model_id": "ff198a033be549f6aaa012753700921d",
       "version_major": 2,
       "version_minor": 0
      },
      "text/plain": [
       "  0%|          | 0/1 [00:00<?, ?it/s]"
      ]
     },
     "metadata": {},
     "output_type": "display_data"
    },
    {
     "data": {
      "application/vnd.jupyter.widget-view+json": {
       "model_id": "a57f5e78401d4e57b19e86027000a7c4",
       "version_major": 2,
       "version_minor": 0
      },
      "text/plain": [
       "  0%|          | 0/1 [00:00<?, ?it/s]"
      ]
     },
     "metadata": {},
     "output_type": "display_data"
    },
    {
     "data": {
      "application/vnd.jupyter.widget-view+json": {
       "model_id": "72f4b8f27bd84655b7f0a7455f2281d7",
       "version_major": 2,
       "version_minor": 0
      },
      "text/plain": [
       "  0%|          | 0/1 [00:00<?, ?it/s]"
      ]
     },
     "metadata": {},
     "output_type": "display_data"
    },
    {
     "data": {
      "application/vnd.jupyter.widget-view+json": {
       "model_id": "333448085b8d418b93e7c98c89618cf6",
       "version_major": 2,
       "version_minor": 0
      },
      "text/plain": [
       "  0%|          | 0/1 [00:00<?, ?it/s]"
      ]
     },
     "metadata": {},
     "output_type": "display_data"
    },
    {
     "data": {
      "application/vnd.jupyter.widget-view+json": {
       "model_id": "f2aa2082451e4840a8064943c4250fc3",
       "version_major": 2,
       "version_minor": 0
      },
      "text/plain": [
       "  0%|          | 0/1 [00:00<?, ?it/s]"
      ]
     },
     "metadata": {},
     "output_type": "display_data"
    },
    {
     "data": {
      "application/vnd.jupyter.widget-view+json": {
       "model_id": "5f22eebd77354805aa42f3e19b70da82",
       "version_major": 2,
       "version_minor": 0
      },
      "text/plain": [
       "  0%|          | 0/1 [00:00<?, ?it/s]"
      ]
     },
     "metadata": {},
     "output_type": "display_data"
    },
    {
     "data": {
      "application/vnd.jupyter.widget-view+json": {
       "model_id": "8e06bc4899eb4a86a602fd61620a39b5",
       "version_major": 2,
       "version_minor": 0
      },
      "text/plain": [
       "  0%|          | 0/1 [00:00<?, ?it/s]"
      ]
     },
     "metadata": {},
     "output_type": "display_data"
    },
    {
     "data": {
      "application/vnd.jupyter.widget-view+json": {
       "model_id": "b9206613f961475d83ddfc0ff7503616",
       "version_major": 2,
       "version_minor": 0
      },
      "text/plain": [
       "  0%|          | 0/1 [00:00<?, ?it/s]"
      ]
     },
     "metadata": {},
     "output_type": "display_data"
    },
    {
     "data": {
      "application/vnd.jupyter.widget-view+json": {
       "model_id": "78ae873108c14f7ebbffc74d56d808a2",
       "version_major": 2,
       "version_minor": 0
      },
      "text/plain": [
       "  0%|          | 0/1 [00:00<?, ?it/s]"
      ]
     },
     "metadata": {},
     "output_type": "display_data"
    },
    {
     "name": "stdout",
     "output_type": "stream",
     "text": [
      "Obwohl Nikotin einen protektiven Effekt für die entzündliche Komponente der Pneumonitis hat und die Pneumonitisrate zu senken scheint [REF] [REF] [REF] [REF] [REF] [REF], wird Nikotinkarenz empfohlen, um eine Verbesserung der Lungenfunktion zu erreichen und das Risiko von Zweittumoren zu reduzieren [REF].\n",
      "\n",
      "No Filter:\n"
     ]
    },
    {
     "data": {
      "text/html": [
       "<div>\n",
       "<style scoped>\n",
       "    .dataframe tbody tr th:only-of-type {\n",
       "        vertical-align: middle;\n",
       "    }\n",
       "\n",
       "    .dataframe tbody tr th {\n",
       "        vertical-align: top;\n",
       "    }\n",
       "\n",
       "    .dataframe thead th {\n",
       "        text-align: right;\n",
       "    }\n",
       "</style>\n",
       "<table border=\"1\" class=\"dataframe\">\n",
       "  <thead>\n",
       "    <tr style=\"text-align: right;\">\n",
       "      <th></th>\n",
       "      <th>document</th>\n",
       "      <th>text</th>\n",
       "      <th>type</th>\n",
       "      <th>start</th>\n",
       "      <th>end</th>\n",
       "      <th>cui</th>\n",
       "      <th>tuis</th>\n",
       "      <th>canonical</th>\n",
       "      <th>linker</th>\n",
       "      <th>confidence</th>\n",
       "    </tr>\n",
       "  </thead>\n",
       "  <tbody>\n",
       "    <tr>\n",
       "      <th>3</th>\n",
       "      <td>27_supportive-therapie_0765_15</td>\n",
       "      <td>Nikotinkarenz</td>\n",
       "      <td>Therapeutic</td>\n",
       "      <td>176</td>\n",
       "      <td>189</td>\n",
       "      <td>C3179141</td>\n",
       "      <td>[T200]</td>\n",
       "      <td>Nikotininhalator</td>\n",
       "      <td>[ngram, sapbert]</td>\n",
       "      <td>0.064533</td>\n",
       "    </tr>\n",
       "  </tbody>\n",
       "</table>\n",
       "</div>"
      ],
      "text/plain": [
       "                         document           text         type  start  end  \\\n",
       "3  27_supportive-therapie_0765_15  Nikotinkarenz  Therapeutic    176  189   \n",
       "\n",
       "        cui    tuis         canonical            linker  confidence  \n",
       "3  C3179141  [T200]  Nikotininhalator  [ngram, sapbert]    0.064533  "
      ]
     },
     "metadata": {},
     "output_type": "display_data"
    },
    {
     "name": "stdout",
     "output_type": "stream",
     "text": [
      "Filter:\n"
     ]
    },
    {
     "data": {
      "text/html": [
       "<div>\n",
       "<style scoped>\n",
       "    .dataframe tbody tr th:only-of-type {\n",
       "        vertical-align: middle;\n",
       "    }\n",
       "\n",
       "    .dataframe tbody tr th {\n",
       "        vertical-align: top;\n",
       "    }\n",
       "\n",
       "    .dataframe thead th {\n",
       "        text-align: right;\n",
       "    }\n",
       "</style>\n",
       "<table border=\"1\" class=\"dataframe\">\n",
       "  <thead>\n",
       "    <tr style=\"text-align: right;\">\n",
       "      <th></th>\n",
       "      <th>document</th>\n",
       "      <th>text</th>\n",
       "      <th>type</th>\n",
       "      <th>start</th>\n",
       "      <th>end</th>\n",
       "      <th>cui</th>\n",
       "      <th>tuis</th>\n",
       "      <th>canonical</th>\n",
       "      <th>linker</th>\n",
       "      <th>confidence</th>\n",
       "    </tr>\n",
       "  </thead>\n",
       "  <tbody>\n",
       "    <tr>\n",
       "      <th>3</th>\n",
       "      <td>27_supportive-therapie_0765_15</td>\n",
       "      <td>Nikotinkarenz</td>\n",
       "      <td>Therapeutic</td>\n",
       "      <td>176</td>\n",
       "      <td>189</td>\n",
       "      <td>C0027996</td>\n",
       "      <td>[T109, T121, T127]</td>\n",
       "      <td>Niacin</td>\n",
       "      <td>[ngram, sapbert]</td>\n",
       "      <td>0.067396</td>\n",
       "    </tr>\n",
       "  </tbody>\n",
       "</table>\n",
       "</div>"
      ],
      "text/plain": [
       "                         document           text         type  start  end  \\\n",
       "3  27_supportive-therapie_0765_15  Nikotinkarenz  Therapeutic    176  189   \n",
       "\n",
       "        cui                tuis canonical            linker  confidence  \n",
       "3  C0027996  [T109, T121, T127]    Niacin  [ngram, sapbert]    0.067396  "
      ]
     },
     "metadata": {},
     "output_type": "display_data"
    },
    {
     "name": "stdout",
     "output_type": "stream",
     "text": [
      "####\n"
     ]
    },
    {
     "data": {
      "application/vnd.jupyter.widget-view+json": {
       "model_id": "8b257c0220914a35bdf37e00da6f716a",
       "version_major": 2,
       "version_minor": 0
      },
      "text/plain": [
       "  0%|          | 0/1 [00:00<?, ?it/s]"
      ]
     },
     "metadata": {},
     "output_type": "display_data"
    },
    {
     "data": {
      "application/vnd.jupyter.widget-view+json": {
       "model_id": "3be89c22583e45ecadc498f53cfa8cd6",
       "version_major": 2,
       "version_minor": 0
      },
      "text/plain": [
       "  0%|          | 0/1 [00:00<?, ?it/s]"
      ]
     },
     "metadata": {},
     "output_type": "display_data"
    },
    {
     "data": {
      "application/vnd.jupyter.widget-view+json": {
       "model_id": "fd48ab1782fa4c66ae686647ffc1a625",
       "version_major": 2,
       "version_minor": 0
      },
      "text/plain": [
       "  0%|          | 0/1 [00:00<?, ?it/s]"
      ]
     },
     "metadata": {},
     "output_type": "display_data"
    },
    {
     "data": {
      "application/vnd.jupyter.widget-view+json": {
       "model_id": "604fd07c6ced4e13ac07ad6fbdce66d7",
       "version_major": 2,
       "version_minor": 0
      },
      "text/plain": [
       "  0%|          | 0/1 [00:00<?, ?it/s]"
      ]
     },
     "metadata": {},
     "output_type": "display_data"
    },
    {
     "data": {
      "application/vnd.jupyter.widget-view+json": {
       "model_id": "a6b266e1df5d49a3bed17941a1c25a6e",
       "version_major": 2,
       "version_minor": 0
      },
      "text/plain": [
       "  0%|          | 0/1 [00:00<?, ?it/s]"
      ]
     },
     "metadata": {},
     "output_type": "display_data"
    },
    {
     "data": {
      "application/vnd.jupyter.widget-view+json": {
       "model_id": "39da3c6bfb6546129610f1d704c42451",
       "version_major": 2,
       "version_minor": 0
      },
      "text/plain": [
       "  0%|          | 0/1 [00:00<?, ?it/s]"
      ]
     },
     "metadata": {},
     "output_type": "display_data"
    },
    {
     "data": {
      "application/vnd.jupyter.widget-view+json": {
       "model_id": "d682bb042b78404992ce82a9cfefe6b1",
       "version_major": 2,
       "version_minor": 0
      },
      "text/plain": [
       "  0%|          | 0/1 [00:00<?, ?it/s]"
      ]
     },
     "metadata": {},
     "output_type": "display_data"
    },
    {
     "data": {
      "application/vnd.jupyter.widget-view+json": {
       "model_id": "61297282aaf0431088d25f773d15e996",
       "version_major": 2,
       "version_minor": 0
      },
      "text/plain": [
       "  0%|          | 0/1 [00:00<?, ?it/s]"
      ]
     },
     "metadata": {},
     "output_type": "display_data"
    },
    {
     "data": {
      "application/vnd.jupyter.widget-view+json": {
       "model_id": "c9141eda6a454d51bc5ca6ab47c7e79a",
       "version_major": 2,
       "version_minor": 0
      },
      "text/plain": [
       "  0%|          | 0/1 [00:00<?, ?it/s]"
      ]
     },
     "metadata": {},
     "output_type": "display_data"
    },
    {
     "data": {
      "application/vnd.jupyter.widget-view+json": {
       "model_id": "ab84a43fece94ce4846403b070784c4a",
       "version_major": 2,
       "version_minor": 0
      },
      "text/plain": [
       "  0%|          | 0/1 [00:00<?, ?it/s]"
      ]
     },
     "metadata": {},
     "output_type": "display_data"
    },
    {
     "data": {
      "application/vnd.jupyter.widget-view+json": {
       "model_id": "af8341d7e516494ca1e96ae6bc5fc0c0",
       "version_major": 2,
       "version_minor": 0
      },
      "text/plain": [
       "  0%|          | 0/1 [00:00<?, ?it/s]"
      ]
     },
     "metadata": {},
     "output_type": "display_data"
    },
    {
     "data": {
      "application/vnd.jupyter.widget-view+json": {
       "model_id": "94d16e63a8054fdaa7add0f9a7fc8648",
       "version_major": 2,
       "version_minor": 0
      },
      "text/plain": [
       "  0%|          | 0/1 [00:00<?, ?it/s]"
      ]
     },
     "metadata": {},
     "output_type": "display_data"
    },
    {
     "name": "stdout",
     "output_type": "stream",
     "text": [
      "In einer Metaanalyse individueller Patientendaten von 836 PatientInnen mit NSCLC und simultaner Strahlentherapie wurden Therapie mit Carboplatin/Paclitaxel (versus Cisplatin/Etoposid) (OR 3,33, p < 0,001), das Volumen der Lunge, das ≥ 20 Gy erhält (V20), (OR 1,03; pro 1% Zunahme, p = 0,008) und als Trend das Alter (OR 1,24; pro Dekade, p = 0,09) als Risikofaktoren identifiziert.\n",
      "\n",
      "No Filter:\n"
     ]
    },
    {
     "data": {
      "text/html": [
       "<div>\n",
       "<style scoped>\n",
       "    .dataframe tbody tr th:only-of-type {\n",
       "        vertical-align: middle;\n",
       "    }\n",
       "\n",
       "    .dataframe tbody tr th {\n",
       "        vertical-align: top;\n",
       "    }\n",
       "\n",
       "    .dataframe thead th {\n",
       "        text-align: right;\n",
       "    }\n",
       "</style>\n",
       "<table border=\"1\" class=\"dataframe\">\n",
       "  <thead>\n",
       "    <tr style=\"text-align: right;\">\n",
       "      <th></th>\n",
       "      <th>document</th>\n",
       "      <th>text</th>\n",
       "      <th>type</th>\n",
       "      <th>start</th>\n",
       "      <th>end</th>\n",
       "      <th>cui</th>\n",
       "      <th>tuis</th>\n",
       "      <th>canonical</th>\n",
       "      <th>linker</th>\n",
       "      <th>confidence</th>\n",
       "    </tr>\n",
       "  </thead>\n",
       "  <tbody>\n",
       "    <tr>\n",
       "      <th>0</th>\n",
       "      <td>27_supportive-therapie_0765_21</td>\n",
       "      <td>NSCLC</td>\n",
       "      <td>Diagnosis_or_Pathology</td>\n",
       "      <td>75</td>\n",
       "      <td>80</td>\n",
       "      <td>C0067671</td>\n",
       "      <td>[T116]</td>\n",
       "      <td>N-acetyl-S-lactoylcysteine</td>\n",
       "      <td>[sapbert]</td>\n",
       "      <td>0.065826</td>\n",
       "    </tr>\n",
       "  </tbody>\n",
       "</table>\n",
       "</div>"
      ],
      "text/plain": [
       "                         document   text                    type  start  end  \\\n",
       "0  27_supportive-therapie_0765_21  NSCLC  Diagnosis_or_Pathology     75   80   \n",
       "\n",
       "        cui    tuis                   canonical     linker  confidence  \n",
       "0  C0067671  [T116]  N-acetyl-S-lactoylcysteine  [sapbert]    0.065826  "
      ]
     },
     "metadata": {},
     "output_type": "display_data"
    },
    {
     "name": "stdout",
     "output_type": "stream",
     "text": [
      "Filter:\n"
     ]
    },
    {
     "data": {
      "text/html": [
       "<div>\n",
       "<style scoped>\n",
       "    .dataframe tbody tr th:only-of-type {\n",
       "        vertical-align: middle;\n",
       "    }\n",
       "\n",
       "    .dataframe tbody tr th {\n",
       "        vertical-align: top;\n",
       "    }\n",
       "\n",
       "    .dataframe thead th {\n",
       "        text-align: right;\n",
       "    }\n",
       "</style>\n",
       "<table border=\"1\" class=\"dataframe\">\n",
       "  <thead>\n",
       "    <tr style=\"text-align: right;\">\n",
       "      <th></th>\n",
       "      <th>document</th>\n",
       "      <th>text</th>\n",
       "      <th>type</th>\n",
       "      <th>start</th>\n",
       "      <th>end</th>\n",
       "      <th>cui</th>\n",
       "      <th>tuis</th>\n",
       "      <th>canonical</th>\n",
       "      <th>linker</th>\n",
       "      <th>confidence</th>\n",
       "    </tr>\n",
       "  </thead>\n",
       "  <tbody>\n",
       "    <tr>\n",
       "      <th>0</th>\n",
       "      <td>27_supportive-therapie_0765_21</td>\n",
       "      <td>NSCLC</td>\n",
       "      <td>Diagnosis_or_Pathology</td>\n",
       "      <td>75</td>\n",
       "      <td>80</td>\n",
       "      <td>C2984258</td>\n",
       "      <td>[T077]</td>\n",
       "      <td>Non-Small Cell Lung Cancer Pathway</td>\n",
       "      <td>[ngram, sapbert]</td>\n",
       "      <td>0.065139</td>\n",
       "    </tr>\n",
       "  </tbody>\n",
       "</table>\n",
       "</div>"
      ],
      "text/plain": [
       "                         document   text                    type  start  end  \\\n",
       "0  27_supportive-therapie_0765_21  NSCLC  Diagnosis_or_Pathology     75   80   \n",
       "\n",
       "        cui    tuis                           canonical            linker  \\\n",
       "0  C2984258  [T077]  Non-Small Cell Lung Cancer Pathway  [ngram, sapbert]   \n",
       "\n",
       "   confidence  \n",
       "0    0.065139  "
      ]
     },
     "metadata": {},
     "output_type": "display_data"
    },
    {
     "name": "stdout",
     "output_type": "stream",
     "text": [
      "####\n"
     ]
    },
    {
     "data": {
      "application/vnd.jupyter.widget-view+json": {
       "model_id": "ebf40adf212f4e91ba8cede0f793aed0",
       "version_major": 2,
       "version_minor": 0
      },
      "text/plain": [
       "  0%|          | 0/1 [00:00<?, ?it/s]"
      ]
     },
     "metadata": {},
     "output_type": "display_data"
    },
    {
     "data": {
      "application/vnd.jupyter.widget-view+json": {
       "model_id": "4c631ae67f3d4a65a9daaa644019cf8d",
       "version_major": 2,
       "version_minor": 0
      },
      "text/plain": [
       "  0%|          | 0/1 [00:00<?, ?it/s]"
      ]
     },
     "metadata": {},
     "output_type": "display_data"
    },
    {
     "data": {
      "application/vnd.jupyter.widget-view+json": {
       "model_id": "240790146d1e462b9a6578bd0429c85e",
       "version_major": 2,
       "version_minor": 0
      },
      "text/plain": [
       "  0%|          | 0/1 [00:00<?, ?it/s]"
      ]
     },
     "metadata": {},
     "output_type": "display_data"
    },
    {
     "data": {
      "application/vnd.jupyter.widget-view+json": {
       "model_id": "0d403d603c3f4aa98e1c20aa31622f6f",
       "version_major": 2,
       "version_minor": 0
      },
      "text/plain": [
       "  0%|          | 0/1 [00:00<?, ?it/s]"
      ]
     },
     "metadata": {},
     "output_type": "display_data"
    },
    {
     "data": {
      "application/vnd.jupyter.widget-view+json": {
       "model_id": "c5751d0b2f094dc782bf9089c23142bf",
       "version_major": 2,
       "version_minor": 0
      },
      "text/plain": [
       "  0%|          | 0/1 [00:00<?, ?it/s]"
      ]
     },
     "metadata": {},
     "output_type": "display_data"
    },
    {
     "data": {
      "application/vnd.jupyter.widget-view+json": {
       "model_id": "3ede2d45ad284ab9b86796f94325b9f9",
       "version_major": 2,
       "version_minor": 0
      },
      "text/plain": [
       "  0%|          | 0/1 [00:00<?, ?it/s]"
      ]
     },
     "metadata": {},
     "output_type": "display_data"
    }
   ],
   "source": [
    "res_sem = linking_results['before_eccnp']['reranked']\n",
    "res_no_sem = linking_results['before_eccnp_no_semtype']['reranked']\n",
    "\n",
    "assert len(res_sem) == len(res_no_sem)\n",
    "\n",
    "diff_sem = 0\n",
    "\n",
    "for d_b, d_a in zip(res_no_sem, res_sem):\n",
    "    t_a = d_a['passages'][0]['text'][0]\n",
    "    df1 = get_annotation_dataframe([d_b], linker.kb, 1, 0.0)\n",
    "    df2 = get_annotation_dataframe([d_a], linker.kb, 1, 0.0)\n",
    "    if len(df1) == 0:\n",
    "        continue\n",
    "    mask = df1.canonical != df2.canonical\n",
    "    if mask.any():\n",
    "        print(t_a + '\\n')\n",
    "        #show_diff_single(t_b, t_a)\n",
    "        print('No Filter:')\n",
    "        display(df1[mask])\n",
    "        print('Filter:')\n",
    "        display(df2[mask])\n",
    "        diff_sem += 1\n",
    "        print('####')"
   ]
  },
  {
   "cell_type": "code",
   "execution_count": 12,
   "id": "81a10ff2-065d-4472-b1b5-2c99f25147af",
   "metadata": {
    "tags": []
   },
   "outputs": [
    {
     "data": {
      "text/plain": [
       "0.13368983957219252"
      ]
     },
     "execution_count": 12,
     "metadata": {},
     "output_type": "execute_result"
    }
   ],
   "source": [
    "diff_sem / len(res_no_sem)"
   ]
  },
  {
   "cell_type": "markdown",
   "id": "c1eca9dc-1154-4f25-8c44-97916db355dc",
   "metadata": {},
   "source": [
    "# Impact of ECCNPs"
   ]
  },
  {
   "cell_type": "code",
   "execution_count": 13,
   "id": "e02979b7-f39d-461e-8f7f-fea5177d5777",
   "metadata": {
    "tags": []
   },
   "outputs": [
    {
     "name": "stdout",
     "output_type": "stream",
     "text": [
      "Difference 1\n"
     ]
    },
    {
     "data": {
      "text/markdown": [
       "Am ehesten werden bei Patienten mit Malignomen Mangelzustände von Vitamin D beobachtet [REF] und von einigen Autoren mit der Erkrankungsinzidenz und -prognose in Verbindung gebracht [REF] [REF] [REF] [REF]."
      ],
      "text/plain": [
       "<IPython.core.display.Markdown object>"
      ]
     },
     "metadata": {},
     "output_type": "display_data"
    },
    {
     "data": {
      "text/markdown": [
       "Am ehesten werden bei Patienten mit Malignomen Mangelzustände von Vitamin D beobachtet [REF] und von einigen Autoren mit der Erkrankungsinzidenz und Erkrankungsprognose in Verbindung gebracht [REF] [REF] [REF] [REF]."
      ],
      "text/plain": [
       "<IPython.core.display.Markdown object>"
      ]
     },
     "metadata": {},
     "output_type": "display_data"
    },
    {
     "data": {
      "text/html": [
       "<html><body><div>Am ehesten werden bei Patienten mit Malignomen Mangelzustände von Vitamin D beobachtet [REF] und von einigen Autoren mit der Erkrankungsinzidenz und <span style=\"background-color: red; text-decoration: line-through;\">-</span><span style=\"background-color: lightgreen;\">Erkrankungs</span>prognose in Verbindung gebracht [REF] [REF] [REF] [REF].</div></body></html>"
      ],
      "text/plain": [
       "<IPython.core.display.HTML object>"
      ]
     },
     "metadata": {},
     "output_type": "display_data"
    },
    {
     "data": {
      "application/vnd.jupyter.widget-view+json": {
       "model_id": "4321a4b668bd405ea70a91732efa7c4c",
       "version_major": 2,
       "version_minor": 0
      },
      "text/plain": [
       "  0%|          | 0/1 [00:00<?, ?it/s]"
      ]
     },
     "metadata": {},
     "output_type": "display_data"
    },
    {
     "data": {
      "text/html": [
       "<div>\n",
       "<style scoped>\n",
       "    .dataframe tbody tr th:only-of-type {\n",
       "        vertical-align: middle;\n",
       "    }\n",
       "\n",
       "    .dataframe tbody tr th {\n",
       "        vertical-align: top;\n",
       "    }\n",
       "\n",
       "    .dataframe thead th {\n",
       "        text-align: right;\n",
       "    }\n",
       "</style>\n",
       "<table border=\"1\" class=\"dataframe\">\n",
       "  <thead>\n",
       "    <tr style=\"text-align: right;\">\n",
       "      <th></th>\n",
       "      <th>document</th>\n",
       "      <th>text</th>\n",
       "      <th>type</th>\n",
       "      <th>start</th>\n",
       "      <th>end</th>\n",
       "      <th>cui</th>\n",
       "      <th>tuis</th>\n",
       "      <th>canonical</th>\n",
       "      <th>linker</th>\n",
       "      <th>confidence</th>\n",
       "    </tr>\n",
       "  </thead>\n",
       "  <tbody>\n",
       "    <tr>\n",
       "      <th>0</th>\n",
       "      <td>01_magenkarzinom_0192_2</td>\n",
       "      <td>Malignomen</td>\n",
       "      <td>Diagnosis_or_Pathology</td>\n",
       "      <td>36</td>\n",
       "      <td>46</td>\n",
       "      <td>C0006826</td>\n",
       "      <td>[T191]</td>\n",
       "      <td>Krebserkrankung</td>\n",
       "      <td>[ngram, sapbert]</td>\n",
       "      <td>0.078375</td>\n",
       "    </tr>\n",
       "    <tr>\n",
       "      <th>1</th>\n",
       "      <td>01_magenkarzinom_0192_2</td>\n",
       "      <td>Mangelzustände von Vitamin D</td>\n",
       "      <td>Diagnosis_or_Pathology</td>\n",
       "      <td>47</td>\n",
       "      <td>75</td>\n",
       "      <td>C0042870</td>\n",
       "      <td>[T047]</td>\n",
       "      <td>Vitamin-D-Mangel</td>\n",
       "      <td>[ngram, sapbert]</td>\n",
       "      <td>0.071928</td>\n",
       "    </tr>\n",
       "    <tr>\n",
       "      <th>2</th>\n",
       "      <td>01_magenkarzinom_0192_2</td>\n",
       "      <td>Vitamin D</td>\n",
       "      <td>Nutrient_or_Body_Substance</td>\n",
       "      <td>66</td>\n",
       "      <td>75</td>\n",
       "      <td>C0042866</td>\n",
       "      <td>[T121, T125, T127]</td>\n",
       "      <td>Vitamin D</td>\n",
       "      <td>[ngram, sapbert]</td>\n",
       "      <td>0.077961</td>\n",
       "    </tr>\n",
       "    <tr>\n",
       "      <th>3</th>\n",
       "      <td>01_magenkarzinom_0192_2</td>\n",
       "      <td>Erkrankungsinzidenz</td>\n",
       "      <td>Diagnosis_or_Pathology</td>\n",
       "      <td>125</td>\n",
       "      <td>144</td>\n",
       "      <td>C0012655</td>\n",
       "      <td>[T201]</td>\n",
       "      <td>Krankheitsanfälligkeit</td>\n",
       "      <td>[sapbert]</td>\n",
       "      <td>0.065133</td>\n",
       "    </tr>\n",
       "    <tr>\n",
       "      <th>4</th>\n",
       "      <td>01_magenkarzinom_0192_2</td>\n",
       "      <td>-prognose</td>\n",
       "      <td>Other_Finding</td>\n",
       "      <td>149</td>\n",
       "      <td>158</td>\n",
       "      <td>C0033325</td>\n",
       "      <td>[T058]</td>\n",
       "      <td>Prognose</td>\n",
       "      <td>[ngram, sapbert]</td>\n",
       "      <td>0.092011</td>\n",
       "    </tr>\n",
       "  </tbody>\n",
       "</table>\n",
       "</div>"
      ],
      "text/plain": [
       "                  document                          text  \\\n",
       "0  01_magenkarzinom_0192_2                    Malignomen   \n",
       "1  01_magenkarzinom_0192_2  Mangelzustände von Vitamin D   \n",
       "2  01_magenkarzinom_0192_2                     Vitamin D   \n",
       "3  01_magenkarzinom_0192_2           Erkrankungsinzidenz   \n",
       "4  01_magenkarzinom_0192_2                     -prognose   \n",
       "\n",
       "                         type  start  end       cui                tuis  \\\n",
       "0      Diagnosis_or_Pathology     36   46  C0006826              [T191]   \n",
       "1      Diagnosis_or_Pathology     47   75  C0042870              [T047]   \n",
       "2  Nutrient_or_Body_Substance     66   75  C0042866  [T121, T125, T127]   \n",
       "3      Diagnosis_or_Pathology    125  144  C0012655              [T201]   \n",
       "4               Other_Finding    149  158  C0033325              [T058]   \n",
       "\n",
       "                canonical            linker  confidence  \n",
       "0         Krebserkrankung  [ngram, sapbert]    0.078375  \n",
       "1        Vitamin-D-Mangel  [ngram, sapbert]    0.071928  \n",
       "2               Vitamin D  [ngram, sapbert]    0.077961  \n",
       "3  Krankheitsanfälligkeit         [sapbert]    0.065133  \n",
       "4                Prognose  [ngram, sapbert]    0.092011  "
      ]
     },
     "metadata": {},
     "output_type": "display_data"
    },
    {
     "data": {
      "application/vnd.jupyter.widget-view+json": {
       "model_id": "634bb8ed6e13469a8b92f1335244c90a",
       "version_major": 2,
       "version_minor": 0
      },
      "text/plain": [
       "  0%|          | 0/1 [00:00<?, ?it/s]"
      ]
     },
     "metadata": {},
     "output_type": "display_data"
    },
    {
     "data": {
      "text/html": [
       "<div>\n",
       "<style scoped>\n",
       "    .dataframe tbody tr th:only-of-type {\n",
       "        vertical-align: middle;\n",
       "    }\n",
       "\n",
       "    .dataframe tbody tr th {\n",
       "        vertical-align: top;\n",
       "    }\n",
       "\n",
       "    .dataframe thead th {\n",
       "        text-align: right;\n",
       "    }\n",
       "</style>\n",
       "<table border=\"1\" class=\"dataframe\">\n",
       "  <thead>\n",
       "    <tr style=\"text-align: right;\">\n",
       "      <th></th>\n",
       "      <th>document</th>\n",
       "      <th>text</th>\n",
       "      <th>type</th>\n",
       "      <th>start</th>\n",
       "      <th>end</th>\n",
       "      <th>cui</th>\n",
       "      <th>tuis</th>\n",
       "      <th>canonical</th>\n",
       "      <th>linker</th>\n",
       "      <th>confidence</th>\n",
       "    </tr>\n",
       "  </thead>\n",
       "  <tbody>\n",
       "    <tr>\n",
       "      <th>0</th>\n",
       "      <td>01_magenkarzinom_0192_2</td>\n",
       "      <td>Malignomen</td>\n",
       "      <td>Diagnosis_or_Pathology</td>\n",
       "      <td>36</td>\n",
       "      <td>46</td>\n",
       "      <td>C0205282</td>\n",
       "      <td>[T080]</td>\n",
       "      <td>Malignant</td>\n",
       "      <td>[ngram, sapbert]</td>\n",
       "      <td>0.078865</td>\n",
       "    </tr>\n",
       "    <tr>\n",
       "      <th>1</th>\n",
       "      <td>01_magenkarzinom_0192_2</td>\n",
       "      <td>Mangelzustände von Vitamin D</td>\n",
       "      <td>Diagnosis_or_Pathology</td>\n",
       "      <td>47</td>\n",
       "      <td>75</td>\n",
       "      <td>C0042870</td>\n",
       "      <td>[T047]</td>\n",
       "      <td>Vitamin-D-Mangel</td>\n",
       "      <td>[ngram, sapbert]</td>\n",
       "      <td>0.072261</td>\n",
       "    </tr>\n",
       "    <tr>\n",
       "      <th>2</th>\n",
       "      <td>01_magenkarzinom_0192_2</td>\n",
       "      <td>Vitamin D</td>\n",
       "      <td>Nutrient_or_Body_Substance</td>\n",
       "      <td>66</td>\n",
       "      <td>75</td>\n",
       "      <td>C0042866</td>\n",
       "      <td>[T121, T125, T127]</td>\n",
       "      <td>Vitamin D</td>\n",
       "      <td>[ngram, sapbert]</td>\n",
       "      <td>0.077968</td>\n",
       "    </tr>\n",
       "    <tr>\n",
       "      <th>3</th>\n",
       "      <td>01_magenkarzinom_0192_2</td>\n",
       "      <td>Erkrankungsinzidenz</td>\n",
       "      <td>Diagnosis_or_Pathology</td>\n",
       "      <td>125</td>\n",
       "      <td>144</td>\n",
       "      <td>C0012655</td>\n",
       "      <td>[T201]</td>\n",
       "      <td>Krankheitsanfälligkeit</td>\n",
       "      <td>[sapbert]</td>\n",
       "      <td>0.065035</td>\n",
       "    </tr>\n",
       "    <tr>\n",
       "      <th>4</th>\n",
       "      <td>01_magenkarzinom_0192_2</td>\n",
       "      <td>Erkrankungsprognose</td>\n",
       "      <td>Other_Finding</td>\n",
       "      <td>149</td>\n",
       "      <td>168</td>\n",
       "      <td>C0242656</td>\n",
       "      <td>[T046]</td>\n",
       "      <td>Krankheitsprogression</td>\n",
       "      <td>[ngram, sapbert]</td>\n",
       "      <td>0.071588</td>\n",
       "    </tr>\n",
       "  </tbody>\n",
       "</table>\n",
       "</div>"
      ],
      "text/plain": [
       "                  document                          text  \\\n",
       "0  01_magenkarzinom_0192_2                    Malignomen   \n",
       "1  01_magenkarzinom_0192_2  Mangelzustände von Vitamin D   \n",
       "2  01_magenkarzinom_0192_2                     Vitamin D   \n",
       "3  01_magenkarzinom_0192_2           Erkrankungsinzidenz   \n",
       "4  01_magenkarzinom_0192_2           Erkrankungsprognose   \n",
       "\n",
       "                         type  start  end       cui                tuis  \\\n",
       "0      Diagnosis_or_Pathology     36   46  C0205282              [T080]   \n",
       "1      Diagnosis_or_Pathology     47   75  C0042870              [T047]   \n",
       "2  Nutrient_or_Body_Substance     66   75  C0042866  [T121, T125, T127]   \n",
       "3      Diagnosis_or_Pathology    125  144  C0012655              [T201]   \n",
       "4               Other_Finding    149  168  C0242656              [T046]   \n",
       "\n",
       "                canonical            linker  confidence  \n",
       "0               Malignant  [ngram, sapbert]    0.078865  \n",
       "1        Vitamin-D-Mangel  [ngram, sapbert]    0.072261  \n",
       "2               Vitamin D  [ngram, sapbert]    0.077968  \n",
       "3  Krankheitsanfälligkeit         [sapbert]    0.065035  \n",
       "4   Krankheitsprogression  [ngram, sapbert]    0.071588  "
      ]
     },
     "metadata": {},
     "output_type": "display_data"
    },
    {
     "name": "stdout",
     "output_type": "stream",
     "text": [
      "Difference 2\n"
     ]
    },
    {
     "data": {
      "text/markdown": [
       "Insbesondere Antioxidantien können die Wirkung von Chemo- und Strahlentherapie abschwächen."
      ],
      "text/plain": [
       "<IPython.core.display.Markdown object>"
      ]
     },
     "metadata": {},
     "output_type": "display_data"
    },
    {
     "data": {
      "text/markdown": [
       "Insbesondere Antioxidantien können die Wirkung von Chemotherapie und Strahlentherapie abschwächen."
      ],
      "text/plain": [
       "<IPython.core.display.Markdown object>"
      ]
     },
     "metadata": {},
     "output_type": "display_data"
    },
    {
     "data": {
      "text/html": [
       "<html><body><div>Insbesondere Antioxidantien können die Wirkung von Chemo<span style=\"background-color: red; text-decoration: line-through;\">-</span><span style=\"background-color: lightgreen;\">therapie</span> und Strahlentherapie abschwächen.</div></body></html>"
      ],
      "text/plain": [
       "<IPython.core.display.HTML object>"
      ]
     },
     "metadata": {},
     "output_type": "display_data"
    },
    {
     "data": {
      "application/vnd.jupyter.widget-view+json": {
       "model_id": "a95eea7b6c9b4e5584bbe6dde326ef09",
       "version_major": 2,
       "version_minor": 0
      },
      "text/plain": [
       "  0%|          | 0/1 [00:00<?, ?it/s]"
      ]
     },
     "metadata": {},
     "output_type": "display_data"
    },
    {
     "data": {
      "text/html": [
       "<div>\n",
       "<style scoped>\n",
       "    .dataframe tbody tr th:only-of-type {\n",
       "        vertical-align: middle;\n",
       "    }\n",
       "\n",
       "    .dataframe tbody tr th {\n",
       "        vertical-align: top;\n",
       "    }\n",
       "\n",
       "    .dataframe thead th {\n",
       "        text-align: right;\n",
       "    }\n",
       "</style>\n",
       "<table border=\"1\" class=\"dataframe\">\n",
       "  <thead>\n",
       "    <tr style=\"text-align: right;\">\n",
       "      <th></th>\n",
       "      <th>document</th>\n",
       "      <th>text</th>\n",
       "      <th>type</th>\n",
       "      <th>start</th>\n",
       "      <th>end</th>\n",
       "      <th>cui</th>\n",
       "      <th>tuis</th>\n",
       "      <th>canonical</th>\n",
       "      <th>linker</th>\n",
       "      <th>confidence</th>\n",
       "    </tr>\n",
       "  </thead>\n",
       "  <tbody>\n",
       "    <tr>\n",
       "      <th>0</th>\n",
       "      <td>01_magenkarzinom_0192_12</td>\n",
       "      <td>Antioxidantien</td>\n",
       "      <td>Nutrient_or_Body_Substance</td>\n",
       "      <td>13</td>\n",
       "      <td>27</td>\n",
       "      <td>C0003402</td>\n",
       "      <td>[T121]</td>\n",
       "      <td>Antioxydanzien</td>\n",
       "      <td>[ngram, sapbert]</td>\n",
       "      <td>0.139340</td>\n",
       "    </tr>\n",
       "    <tr>\n",
       "      <th>1</th>\n",
       "      <td>01_magenkarzinom_0192_12</td>\n",
       "      <td>Chemo-</td>\n",
       "      <td>Therapeutic</td>\n",
       "      <td>51</td>\n",
       "      <td>57</td>\n",
       "      <td>C3665472</td>\n",
       "      <td>[T061]</td>\n",
       "      <td>Chemotherapie</td>\n",
       "      <td>[ngram, sapbert]</td>\n",
       "      <td>0.090850</td>\n",
       "    </tr>\n",
       "    <tr>\n",
       "      <th>2</th>\n",
       "      <td>01_magenkarzinom_0192_12</td>\n",
       "      <td>Strahlentherapie</td>\n",
       "      <td>Therapeutic</td>\n",
       "      <td>62</td>\n",
       "      <td>78</td>\n",
       "      <td>C1522449</td>\n",
       "      <td>[T061]</td>\n",
       "      <td>Strahlentherapie</td>\n",
       "      <td>[ngram, sapbert]</td>\n",
       "      <td>0.140554</td>\n",
       "    </tr>\n",
       "  </tbody>\n",
       "</table>\n",
       "</div>"
      ],
      "text/plain": [
       "                   document              text                        type  \\\n",
       "0  01_magenkarzinom_0192_12    Antioxidantien  Nutrient_or_Body_Substance   \n",
       "1  01_magenkarzinom_0192_12            Chemo-                 Therapeutic   \n",
       "2  01_magenkarzinom_0192_12  Strahlentherapie                 Therapeutic   \n",
       "\n",
       "   start  end       cui    tuis         canonical            linker  \\\n",
       "0     13   27  C0003402  [T121]    Antioxydanzien  [ngram, sapbert]   \n",
       "1     51   57  C3665472  [T061]     Chemotherapie  [ngram, sapbert]   \n",
       "2     62   78  C1522449  [T061]  Strahlentherapie  [ngram, sapbert]   \n",
       "\n",
       "   confidence  \n",
       "0    0.139340  \n",
       "1    0.090850  \n",
       "2    0.140554  "
      ]
     },
     "metadata": {},
     "output_type": "display_data"
    },
    {
     "data": {
      "application/vnd.jupyter.widget-view+json": {
       "model_id": "cb1e937b083944979fcd4816f027f1ec",
       "version_major": 2,
       "version_minor": 0
      },
      "text/plain": [
       "  0%|          | 0/1 [00:00<?, ?it/s]"
      ]
     },
     "metadata": {},
     "output_type": "display_data"
    },
    {
     "data": {
      "text/html": [
       "<div>\n",
       "<style scoped>\n",
       "    .dataframe tbody tr th:only-of-type {\n",
       "        vertical-align: middle;\n",
       "    }\n",
       "\n",
       "    .dataframe tbody tr th {\n",
       "        vertical-align: top;\n",
       "    }\n",
       "\n",
       "    .dataframe thead th {\n",
       "        text-align: right;\n",
       "    }\n",
       "</style>\n",
       "<table border=\"1\" class=\"dataframe\">\n",
       "  <thead>\n",
       "    <tr style=\"text-align: right;\">\n",
       "      <th></th>\n",
       "      <th>document</th>\n",
       "      <th>text</th>\n",
       "      <th>type</th>\n",
       "      <th>start</th>\n",
       "      <th>end</th>\n",
       "      <th>cui</th>\n",
       "      <th>tuis</th>\n",
       "      <th>canonical</th>\n",
       "      <th>linker</th>\n",
       "      <th>confidence</th>\n",
       "    </tr>\n",
       "  </thead>\n",
       "  <tbody>\n",
       "    <tr>\n",
       "      <th>0</th>\n",
       "      <td>01_magenkarzinom_0192_12</td>\n",
       "      <td>Antioxidantien</td>\n",
       "      <td>Nutrient_or_Body_Substance</td>\n",
       "      <td>13</td>\n",
       "      <td>27</td>\n",
       "      <td>C0003402</td>\n",
       "      <td>[T121]</td>\n",
       "      <td>Antioxydanzien</td>\n",
       "      <td>[ngram, sapbert]</td>\n",
       "      <td>0.137946</td>\n",
       "    </tr>\n",
       "    <tr>\n",
       "      <th>1</th>\n",
       "      <td>01_magenkarzinom_0192_12</td>\n",
       "      <td>Chemotherapie</td>\n",
       "      <td>Therapeutic</td>\n",
       "      <td>51</td>\n",
       "      <td>64</td>\n",
       "      <td>C3665472</td>\n",
       "      <td>[T061]</td>\n",
       "      <td>Chemotherapie</td>\n",
       "      <td>[ngram, sapbert]</td>\n",
       "      <td>0.108496</td>\n",
       "    </tr>\n",
       "    <tr>\n",
       "      <th>2</th>\n",
       "      <td>01_magenkarzinom_0192_12</td>\n",
       "      <td>Strahlentherapie</td>\n",
       "      <td>Therapeutic</td>\n",
       "      <td>69</td>\n",
       "      <td>85</td>\n",
       "      <td>C1522449</td>\n",
       "      <td>[T061]</td>\n",
       "      <td>Strahlentherapie</td>\n",
       "      <td>[ngram, sapbert]</td>\n",
       "      <td>0.138481</td>\n",
       "    </tr>\n",
       "  </tbody>\n",
       "</table>\n",
       "</div>"
      ],
      "text/plain": [
       "                   document              text                        type  \\\n",
       "0  01_magenkarzinom_0192_12    Antioxidantien  Nutrient_or_Body_Substance   \n",
       "1  01_magenkarzinom_0192_12     Chemotherapie                 Therapeutic   \n",
       "2  01_magenkarzinom_0192_12  Strahlentherapie                 Therapeutic   \n",
       "\n",
       "   start  end       cui    tuis         canonical            linker  \\\n",
       "0     13   27  C0003402  [T121]    Antioxydanzien  [ngram, sapbert]   \n",
       "1     51   64  C3665472  [T061]     Chemotherapie  [ngram, sapbert]   \n",
       "2     69   85  C1522449  [T061]  Strahlentherapie  [ngram, sapbert]   \n",
       "\n",
       "   confidence  \n",
       "0    0.137946  \n",
       "1    0.108496  \n",
       "2    0.138481  "
      ]
     },
     "metadata": {},
     "output_type": "display_data"
    },
    {
     "name": "stdout",
     "output_type": "stream",
     "text": [
      "Difference 3\n"
     ]
    },
    {
     "data": {
      "text/markdown": [
       "Hierzu gehören die Vitamine C und E sowie Betacarotin."
      ],
      "text/plain": [
       "<IPython.core.display.Markdown object>"
      ]
     },
     "metadata": {},
     "output_type": "display_data"
    },
    {
     "data": {
      "text/markdown": [
       "Hierzu gehören die Vitamine C und Vitamine E sowie Betacarotin."
      ],
      "text/plain": [
       "<IPython.core.display.Markdown object>"
      ]
     },
     "metadata": {},
     "output_type": "display_data"
    },
    {
     "data": {
      "text/html": [
       "<html><body><div>Hierzu gehören die Vitamine C und <span style=\"background-color: lightgreen;\">Vitamine </span>E sowie Betacarotin.</div></body></html>"
      ],
      "text/plain": [
       "<IPython.core.display.HTML object>"
      ]
     },
     "metadata": {},
     "output_type": "display_data"
    },
    {
     "data": {
      "application/vnd.jupyter.widget-view+json": {
       "model_id": "82aa4f3b682444759c0789f30d7120a3",
       "version_major": 2,
       "version_minor": 0
      },
      "text/plain": [
       "  0%|          | 0/1 [00:00<?, ?it/s]"
      ]
     },
     "metadata": {},
     "output_type": "display_data"
    },
    {
     "data": {
      "text/html": [
       "<div>\n",
       "<style scoped>\n",
       "    .dataframe tbody tr th:only-of-type {\n",
       "        vertical-align: middle;\n",
       "    }\n",
       "\n",
       "    .dataframe tbody tr th {\n",
       "        vertical-align: top;\n",
       "    }\n",
       "\n",
       "    .dataframe thead th {\n",
       "        text-align: right;\n",
       "    }\n",
       "</style>\n",
       "<table border=\"1\" class=\"dataframe\">\n",
       "  <thead>\n",
       "    <tr style=\"text-align: right;\">\n",
       "      <th></th>\n",
       "      <th>document</th>\n",
       "      <th>text</th>\n",
       "      <th>type</th>\n",
       "      <th>start</th>\n",
       "      <th>end</th>\n",
       "      <th>cui</th>\n",
       "      <th>tuis</th>\n",
       "      <th>canonical</th>\n",
       "      <th>linker</th>\n",
       "      <th>confidence</th>\n",
       "    </tr>\n",
       "  </thead>\n",
       "  <tbody>\n",
       "    <tr>\n",
       "      <th>0</th>\n",
       "      <td>01_magenkarzinom_0192_13</td>\n",
       "      <td>Vitamine C</td>\n",
       "      <td>Nutrient_or_Body_Substance</td>\n",
       "      <td>19</td>\n",
       "      <td>29</td>\n",
       "      <td>C0003968</td>\n",
       "      <td>[T109, T121, T127]</td>\n",
       "      <td>Ascorbinsäure</td>\n",
       "      <td>[ngram, sapbert]</td>\n",
       "      <td>0.134796</td>\n",
       "    </tr>\n",
       "    <tr>\n",
       "      <th>1</th>\n",
       "      <td>01_magenkarzinom_0192_13</td>\n",
       "      <td>Vitamine C und E</td>\n",
       "      <td>Nutrient_or_Body_Substance</td>\n",
       "      <td>19</td>\n",
       "      <td>35</td>\n",
       "      <td>C0042874</td>\n",
       "      <td>[T109, T121, T127]</td>\n",
       "      <td>Vitamin E</td>\n",
       "      <td>[ngram, sapbert]</td>\n",
       "      <td>0.069408</td>\n",
       "    </tr>\n",
       "    <tr>\n",
       "      <th>2</th>\n",
       "      <td>01_magenkarzinom_0192_13</td>\n",
       "      <td>E</td>\n",
       "      <td>Nutrient_or_Body_Substance</td>\n",
       "      <td>34</td>\n",
       "      <td>35</td>\n",
       "      <td>C0439131</td>\n",
       "      <td>[T170]</td>\n",
       "      <td>Lower case Roman letter e (qualifier value)</td>\n",
       "      <td>[ngram, sapbert]</td>\n",
       "      <td>0.079268</td>\n",
       "    </tr>\n",
       "    <tr>\n",
       "      <th>3</th>\n",
       "      <td>01_magenkarzinom_0192_13</td>\n",
       "      <td>Betacarotin</td>\n",
       "      <td>Nutrient_or_Body_Substance</td>\n",
       "      <td>42</td>\n",
       "      <td>53</td>\n",
       "      <td>C0053396</td>\n",
       "      <td>[T109, T121, T127]</td>\n",
       "      <td>Beta-Carotin</td>\n",
       "      <td>[ngram, sapbert]</td>\n",
       "      <td>0.203045</td>\n",
       "    </tr>\n",
       "  </tbody>\n",
       "</table>\n",
       "</div>"
      ],
      "text/plain": [
       "                   document              text                        type  \\\n",
       "0  01_magenkarzinom_0192_13        Vitamine C  Nutrient_or_Body_Substance   \n",
       "1  01_magenkarzinom_0192_13  Vitamine C und E  Nutrient_or_Body_Substance   \n",
       "2  01_magenkarzinom_0192_13                 E  Nutrient_or_Body_Substance   \n",
       "3  01_magenkarzinom_0192_13       Betacarotin  Nutrient_or_Body_Substance   \n",
       "\n",
       "   start  end       cui                tuis  \\\n",
       "0     19   29  C0003968  [T109, T121, T127]   \n",
       "1     19   35  C0042874  [T109, T121, T127]   \n",
       "2     34   35  C0439131              [T170]   \n",
       "3     42   53  C0053396  [T109, T121, T127]   \n",
       "\n",
       "                                     canonical            linker  confidence  \n",
       "0                                Ascorbinsäure  [ngram, sapbert]    0.134796  \n",
       "1                                    Vitamin E  [ngram, sapbert]    0.069408  \n",
       "2  Lower case Roman letter e (qualifier value)  [ngram, sapbert]    0.079268  \n",
       "3                                 Beta-Carotin  [ngram, sapbert]    0.203045  "
      ]
     },
     "metadata": {},
     "output_type": "display_data"
    },
    {
     "data": {
      "application/vnd.jupyter.widget-view+json": {
       "model_id": "6e8123ccafca4f17b1f5e0460ae65fdd",
       "version_major": 2,
       "version_minor": 0
      },
      "text/plain": [
       "  0%|          | 0/1 [00:00<?, ?it/s]"
      ]
     },
     "metadata": {},
     "output_type": "display_data"
    },
    {
     "data": {
      "text/html": [
       "<div>\n",
       "<style scoped>\n",
       "    .dataframe tbody tr th:only-of-type {\n",
       "        vertical-align: middle;\n",
       "    }\n",
       "\n",
       "    .dataframe tbody tr th {\n",
       "        vertical-align: top;\n",
       "    }\n",
       "\n",
       "    .dataframe thead th {\n",
       "        text-align: right;\n",
       "    }\n",
       "</style>\n",
       "<table border=\"1\" class=\"dataframe\">\n",
       "  <thead>\n",
       "    <tr style=\"text-align: right;\">\n",
       "      <th></th>\n",
       "      <th>document</th>\n",
       "      <th>text</th>\n",
       "      <th>type</th>\n",
       "      <th>start</th>\n",
       "      <th>end</th>\n",
       "      <th>cui</th>\n",
       "      <th>tuis</th>\n",
       "      <th>canonical</th>\n",
       "      <th>linker</th>\n",
       "      <th>confidence</th>\n",
       "    </tr>\n",
       "  </thead>\n",
       "  <tbody>\n",
       "    <tr>\n",
       "      <th>0</th>\n",
       "      <td>01_magenkarzinom_0192_13</td>\n",
       "      <td>Vitamine C</td>\n",
       "      <td>Nutrient_or_Body_Substance</td>\n",
       "      <td>19</td>\n",
       "      <td>29</td>\n",
       "      <td>C0003968</td>\n",
       "      <td>[T109, T121, T127]</td>\n",
       "      <td>Ascorbinsäure</td>\n",
       "      <td>[ngram, sapbert]</td>\n",
       "      <td>0.126339</td>\n",
       "    </tr>\n",
       "    <tr>\n",
       "      <th>1</th>\n",
       "      <td>01_magenkarzinom_0192_13</td>\n",
       "      <td>Vitamine E</td>\n",
       "      <td>Nutrient_or_Body_Substance</td>\n",
       "      <td>34</td>\n",
       "      <td>44</td>\n",
       "      <td>C0042874</td>\n",
       "      <td>[T109, T121, T127]</td>\n",
       "      <td>Vitamin E</td>\n",
       "      <td>[ngram, sapbert]</td>\n",
       "      <td>0.074293</td>\n",
       "    </tr>\n",
       "    <tr>\n",
       "      <th>2</th>\n",
       "      <td>01_magenkarzinom_0192_13</td>\n",
       "      <td>Betacarotin</td>\n",
       "      <td>Nutrient_or_Body_Substance</td>\n",
       "      <td>51</td>\n",
       "      <td>62</td>\n",
       "      <td>C0053396</td>\n",
       "      <td>[T109, T121, T127]</td>\n",
       "      <td>Beta-Carotin</td>\n",
       "      <td>[ngram, sapbert]</td>\n",
       "      <td>0.194001</td>\n",
       "    </tr>\n",
       "  </tbody>\n",
       "</table>\n",
       "</div>"
      ],
      "text/plain": [
       "                   document         text                        type  start  \\\n",
       "0  01_magenkarzinom_0192_13   Vitamine C  Nutrient_or_Body_Substance     19   \n",
       "1  01_magenkarzinom_0192_13   Vitamine E  Nutrient_or_Body_Substance     34   \n",
       "2  01_magenkarzinom_0192_13  Betacarotin  Nutrient_or_Body_Substance     51   \n",
       "\n",
       "   end       cui                tuis      canonical            linker  \\\n",
       "0   29  C0003968  [T109, T121, T127]  Ascorbinsäure  [ngram, sapbert]   \n",
       "1   44  C0042874  [T109, T121, T127]      Vitamin E  [ngram, sapbert]   \n",
       "2   62  C0053396  [T109, T121, T127]   Beta-Carotin  [ngram, sapbert]   \n",
       "\n",
       "   confidence  \n",
       "0    0.126339  \n",
       "1    0.074293  \n",
       "2    0.194001  "
      ]
     },
     "metadata": {},
     "output_type": "display_data"
    },
    {
     "name": "stdout",
     "output_type": "stream",
     "text": [
      "Difference 4\n"
     ]
    },
    {
     "data": {
      "text/markdown": [
       "Bei nachgewiesenem oder mit der Krankheitssituation des Patienten regelhaft einhergehenden Mangelsituationen (Beispiel Vitamin B12) ist eine Substitution orientiert am physiologischen Bedarf und den Zufuhr- und Resorptionsmöglichkeiten des Patienten erforderlich."
      ],
      "text/plain": [
       "<IPython.core.display.Markdown object>"
      ]
     },
     "metadata": {},
     "output_type": "display_data"
    },
    {
     "data": {
      "text/markdown": [
       "Bei nachgewiesenem oder mit der Krankheitssituation des Patienten regelhaft einhergehenden Mangelsituationen (Beispiel Vitamin B12) ist eine Substitution orientiert am physiologischen Bedarf und den Zufuhrmöglichkeiten und Resorptionsmöglichkeiten des Patienten erforderlich."
      ],
      "text/plain": [
       "<IPython.core.display.Markdown object>"
      ]
     },
     "metadata": {},
     "output_type": "display_data"
    },
    {
     "data": {
      "text/html": [
       "<html><body><div>Bei nachgewiesenem oder mit der Krankheitssituation des Patienten regelhaft einhergehenden Mangelsituationen (Beispiel Vitamin B12) ist eine Substitution orientiert am physiologischen Bedarf und den Zufuhr<span style=\"background-color: red; text-decoration: line-through;\">-</span><span style=\"background-color: lightgreen;\">möglichkeiten</span> und Resorptionsmöglichkeiten des Patienten erforderlich.</div></body></html>"
      ],
      "text/plain": [
       "<IPython.core.display.HTML object>"
      ]
     },
     "metadata": {},
     "output_type": "display_data"
    },
    {
     "data": {
      "application/vnd.jupyter.widget-view+json": {
       "model_id": "4c4dc5eae19f49f1a080e6e60a88a6c3",
       "version_major": 2,
       "version_minor": 0
      },
      "text/plain": [
       "  0%|          | 0/1 [00:00<?, ?it/s]"
      ]
     },
     "metadata": {},
     "output_type": "display_data"
    },
    {
     "data": {
      "text/html": [
       "<div>\n",
       "<style scoped>\n",
       "    .dataframe tbody tr th:only-of-type {\n",
       "        vertical-align: middle;\n",
       "    }\n",
       "\n",
       "    .dataframe tbody tr th {\n",
       "        vertical-align: top;\n",
       "    }\n",
       "\n",
       "    .dataframe thead th {\n",
       "        text-align: right;\n",
       "    }\n",
       "</style>\n",
       "<table border=\"1\" class=\"dataframe\">\n",
       "  <thead>\n",
       "    <tr style=\"text-align: right;\">\n",
       "      <th></th>\n",
       "      <th>document</th>\n",
       "      <th>text</th>\n",
       "      <th>type</th>\n",
       "      <th>start</th>\n",
       "      <th>end</th>\n",
       "      <th>cui</th>\n",
       "      <th>tuis</th>\n",
       "      <th>canonical</th>\n",
       "      <th>linker</th>\n",
       "      <th>confidence</th>\n",
       "    </tr>\n",
       "  </thead>\n",
       "  <tbody>\n",
       "    <tr>\n",
       "      <th>0</th>\n",
       "      <td>01_magenkarzinom_0192_18</td>\n",
       "      <td>nachgewiesenem oder mit der Krankheitssituation</td>\n",
       "      <td>Diagnosis_or_Pathology</td>\n",
       "      <td>4</td>\n",
       "      <td>51</td>\n",
       "      <td>C3887610</td>\n",
       "      <td>[T033]</td>\n",
       "      <td>Disease related state (finding)</td>\n",
       "      <td>[sapbert]</td>\n",
       "      <td>0.065285</td>\n",
       "    </tr>\n",
       "    <tr>\n",
       "      <th>1</th>\n",
       "      <td>01_magenkarzinom_0192_18</td>\n",
       "      <td>regelhaft einhergehenden Mangelsituationen</td>\n",
       "      <td>Diagnosis_or_Pathology</td>\n",
       "      <td>66</td>\n",
       "      <td>108</td>\n",
       "      <td>C0520966</td>\n",
       "      <td>[T033]</td>\n",
       "      <td>Dyskoordination</td>\n",
       "      <td>[ngram, sapbert]</td>\n",
       "      <td>0.063747</td>\n",
       "    </tr>\n",
       "    <tr>\n",
       "      <th>2</th>\n",
       "      <td>01_magenkarzinom_0192_18</td>\n",
       "      <td>Vitamin B12</td>\n",
       "      <td>Nutrient_or_Body_Substance</td>\n",
       "      <td>119</td>\n",
       "      <td>130</td>\n",
       "      <td>C0042845</td>\n",
       "      <td>[T109, T121, T127]</td>\n",
       "      <td>Vitamin B12</td>\n",
       "      <td>[ngram, sapbert]</td>\n",
       "      <td>0.124395</td>\n",
       "    </tr>\n",
       "    <tr>\n",
       "      <th>3</th>\n",
       "      <td>01_magenkarzinom_0192_18</td>\n",
       "      <td>Substitution</td>\n",
       "      <td>Therapeutic</td>\n",
       "      <td>141</td>\n",
       "      <td>153</td>\n",
       "      <td>C2936279</td>\n",
       "      <td>[T058]</td>\n",
       "      <td>Drug Substitution</td>\n",
       "      <td>[ngram, sapbert]</td>\n",
       "      <td>0.072037</td>\n",
       "    </tr>\n",
       "    <tr>\n",
       "      <th>4</th>\n",
       "      <td>01_magenkarzinom_0192_18</td>\n",
       "      <td>physiologischen Bedarf</td>\n",
       "      <td>Other_Finding</td>\n",
       "      <td>168</td>\n",
       "      <td>190</td>\n",
       "      <td>C0028719</td>\n",
       "      <td>[T032]</td>\n",
       "      <td>Nutritional Requirements</td>\n",
       "      <td>[sapbert]</td>\n",
       "      <td>0.066891</td>\n",
       "    </tr>\n",
       "    <tr>\n",
       "      <th>5</th>\n",
       "      <td>01_magenkarzinom_0192_18</td>\n",
       "      <td>Zufuhr-</td>\n",
       "      <td>Other_Finding</td>\n",
       "      <td>199</td>\n",
       "      <td>206</td>\n",
       "      <td>C0013470</td>\n",
       "      <td>[T040]</td>\n",
       "      <td>Essen</td>\n",
       "      <td>[sapbert]</td>\n",
       "      <td>0.070076</td>\n",
       "    </tr>\n",
       "    <tr>\n",
       "      <th>6</th>\n",
       "      <td>01_magenkarzinom_0192_18</td>\n",
       "      <td>Resorptionsmöglichkeiten</td>\n",
       "      <td>Other_Finding</td>\n",
       "      <td>211</td>\n",
       "      <td>235</td>\n",
       "      <td>C2985494</td>\n",
       "      <td>[T040]</td>\n",
       "      <td>Resorption</td>\n",
       "      <td>[ngram, sapbert]</td>\n",
       "      <td>0.066815</td>\n",
       "    </tr>\n",
       "  </tbody>\n",
       "</table>\n",
       "</div>"
      ],
      "text/plain": [
       "                   document                                             text  \\\n",
       "0  01_magenkarzinom_0192_18  nachgewiesenem oder mit der Krankheitssituation   \n",
       "1  01_magenkarzinom_0192_18       regelhaft einhergehenden Mangelsituationen   \n",
       "2  01_magenkarzinom_0192_18                                      Vitamin B12   \n",
       "3  01_magenkarzinom_0192_18                                     Substitution   \n",
       "4  01_magenkarzinom_0192_18                           physiologischen Bedarf   \n",
       "5  01_magenkarzinom_0192_18                                          Zufuhr-   \n",
       "6  01_magenkarzinom_0192_18                         Resorptionsmöglichkeiten   \n",
       "\n",
       "                         type  start  end       cui                tuis  \\\n",
       "0      Diagnosis_or_Pathology      4   51  C3887610              [T033]   \n",
       "1      Diagnosis_or_Pathology     66  108  C0520966              [T033]   \n",
       "2  Nutrient_or_Body_Substance    119  130  C0042845  [T109, T121, T127]   \n",
       "3                 Therapeutic    141  153  C2936279              [T058]   \n",
       "4               Other_Finding    168  190  C0028719              [T032]   \n",
       "5               Other_Finding    199  206  C0013470              [T040]   \n",
       "6               Other_Finding    211  235  C2985494              [T040]   \n",
       "\n",
       "                         canonical            linker  confidence  \n",
       "0  Disease related state (finding)         [sapbert]    0.065285  \n",
       "1                  Dyskoordination  [ngram, sapbert]    0.063747  \n",
       "2                      Vitamin B12  [ngram, sapbert]    0.124395  \n",
       "3                Drug Substitution  [ngram, sapbert]    0.072037  \n",
       "4         Nutritional Requirements         [sapbert]    0.066891  \n",
       "5                            Essen         [sapbert]    0.070076  \n",
       "6                       Resorption  [ngram, sapbert]    0.066815  "
      ]
     },
     "metadata": {},
     "output_type": "display_data"
    },
    {
     "data": {
      "application/vnd.jupyter.widget-view+json": {
       "model_id": "7102f93aeac04a0680fe870401e0911f",
       "version_major": 2,
       "version_minor": 0
      },
      "text/plain": [
       "  0%|          | 0/1 [00:00<?, ?it/s]"
      ]
     },
     "metadata": {},
     "output_type": "display_data"
    },
    {
     "data": {
      "text/html": [
       "<div>\n",
       "<style scoped>\n",
       "    .dataframe tbody tr th:only-of-type {\n",
       "        vertical-align: middle;\n",
       "    }\n",
       "\n",
       "    .dataframe tbody tr th {\n",
       "        vertical-align: top;\n",
       "    }\n",
       "\n",
       "    .dataframe thead th {\n",
       "        text-align: right;\n",
       "    }\n",
       "</style>\n",
       "<table border=\"1\" class=\"dataframe\">\n",
       "  <thead>\n",
       "    <tr style=\"text-align: right;\">\n",
       "      <th></th>\n",
       "      <th>document</th>\n",
       "      <th>text</th>\n",
       "      <th>type</th>\n",
       "      <th>start</th>\n",
       "      <th>end</th>\n",
       "      <th>cui</th>\n",
       "      <th>tuis</th>\n",
       "      <th>canonical</th>\n",
       "      <th>linker</th>\n",
       "      <th>confidence</th>\n",
       "    </tr>\n",
       "  </thead>\n",
       "  <tbody>\n",
       "    <tr>\n",
       "      <th>0</th>\n",
       "      <td>01_magenkarzinom_0192_18</td>\n",
       "      <td>nachgewiesenem oder mit der Krankheitssituation</td>\n",
       "      <td>Diagnosis_or_Pathology</td>\n",
       "      <td>4</td>\n",
       "      <td>51</td>\n",
       "      <td>C3887610</td>\n",
       "      <td>[T033]</td>\n",
       "      <td>Disease related state (finding)</td>\n",
       "      <td>[sapbert]</td>\n",
       "      <td>0.065285</td>\n",
       "    </tr>\n",
       "    <tr>\n",
       "      <th>1</th>\n",
       "      <td>01_magenkarzinom_0192_18</td>\n",
       "      <td>regelhaft einhergehenden Mangelsituationen</td>\n",
       "      <td>Diagnosis_or_Pathology</td>\n",
       "      <td>66</td>\n",
       "      <td>108</td>\n",
       "      <td>C0520966</td>\n",
       "      <td>[T033]</td>\n",
       "      <td>Dyskoordination</td>\n",
       "      <td>[ngram, sapbert]</td>\n",
       "      <td>0.063714</td>\n",
       "    </tr>\n",
       "    <tr>\n",
       "      <th>2</th>\n",
       "      <td>01_magenkarzinom_0192_18</td>\n",
       "      <td>Vitamin B12</td>\n",
       "      <td>Nutrient_or_Body_Substance</td>\n",
       "      <td>119</td>\n",
       "      <td>130</td>\n",
       "      <td>C0042845</td>\n",
       "      <td>[T109, T121, T127]</td>\n",
       "      <td>Vitamin B12</td>\n",
       "      <td>[ngram, sapbert]</td>\n",
       "      <td>0.123965</td>\n",
       "    </tr>\n",
       "    <tr>\n",
       "      <th>3</th>\n",
       "      <td>01_magenkarzinom_0192_18</td>\n",
       "      <td>Substitution</td>\n",
       "      <td>Therapeutic</td>\n",
       "      <td>141</td>\n",
       "      <td>153</td>\n",
       "      <td>C2936279</td>\n",
       "      <td>[T058]</td>\n",
       "      <td>Drug Substitution</td>\n",
       "      <td>[ngram, sapbert]</td>\n",
       "      <td>0.072232</td>\n",
       "    </tr>\n",
       "    <tr>\n",
       "      <th>4</th>\n",
       "      <td>01_magenkarzinom_0192_18</td>\n",
       "      <td>physiologischen Bedarf</td>\n",
       "      <td>Other_Finding</td>\n",
       "      <td>168</td>\n",
       "      <td>190</td>\n",
       "      <td>C0028719</td>\n",
       "      <td>[T032]</td>\n",
       "      <td>Nutritional Requirements</td>\n",
       "      <td>[sapbert]</td>\n",
       "      <td>0.066736</td>\n",
       "    </tr>\n",
       "    <tr>\n",
       "      <th>5</th>\n",
       "      <td>01_magenkarzinom_0192_18</td>\n",
       "      <td>Zufuhrmöglichkeiten</td>\n",
       "      <td>Other_Finding</td>\n",
       "      <td>199</td>\n",
       "      <td>218</td>\n",
       "      <td>C0028722</td>\n",
       "      <td>[T080]</td>\n",
       "      <td>Nutritive Value</td>\n",
       "      <td>[sapbert]</td>\n",
       "      <td>0.066207</td>\n",
       "    </tr>\n",
       "    <tr>\n",
       "      <th>6</th>\n",
       "      <td>01_magenkarzinom_0192_18</td>\n",
       "      <td>Resorptionsmöglichkeiten</td>\n",
       "      <td>Other_Finding</td>\n",
       "      <td>223</td>\n",
       "      <td>247</td>\n",
       "      <td>C2985494</td>\n",
       "      <td>[T040]</td>\n",
       "      <td>Resorption</td>\n",
       "      <td>[ngram, sapbert]</td>\n",
       "      <td>0.068145</td>\n",
       "    </tr>\n",
       "  </tbody>\n",
       "</table>\n",
       "</div>"
      ],
      "text/plain": [
       "                   document                                             text  \\\n",
       "0  01_magenkarzinom_0192_18  nachgewiesenem oder mit der Krankheitssituation   \n",
       "1  01_magenkarzinom_0192_18       regelhaft einhergehenden Mangelsituationen   \n",
       "2  01_magenkarzinom_0192_18                                      Vitamin B12   \n",
       "3  01_magenkarzinom_0192_18                                     Substitution   \n",
       "4  01_magenkarzinom_0192_18                           physiologischen Bedarf   \n",
       "5  01_magenkarzinom_0192_18                              Zufuhrmöglichkeiten   \n",
       "6  01_magenkarzinom_0192_18                         Resorptionsmöglichkeiten   \n",
       "\n",
       "                         type  start  end       cui                tuis  \\\n",
       "0      Diagnosis_or_Pathology      4   51  C3887610              [T033]   \n",
       "1      Diagnosis_or_Pathology     66  108  C0520966              [T033]   \n",
       "2  Nutrient_or_Body_Substance    119  130  C0042845  [T109, T121, T127]   \n",
       "3                 Therapeutic    141  153  C2936279              [T058]   \n",
       "4               Other_Finding    168  190  C0028719              [T032]   \n",
       "5               Other_Finding    199  218  C0028722              [T080]   \n",
       "6               Other_Finding    223  247  C2985494              [T040]   \n",
       "\n",
       "                         canonical            linker  confidence  \n",
       "0  Disease related state (finding)         [sapbert]    0.065285  \n",
       "1                  Dyskoordination  [ngram, sapbert]    0.063714  \n",
       "2                      Vitamin B12  [ngram, sapbert]    0.123965  \n",
       "3                Drug Substitution  [ngram, sapbert]    0.072232  \n",
       "4         Nutritional Requirements         [sapbert]    0.066736  \n",
       "5                  Nutritive Value         [sapbert]    0.066207  \n",
       "6                       Resorption  [ngram, sapbert]    0.068145  "
      ]
     },
     "metadata": {},
     "output_type": "display_data"
    },
    {
     "name": "stdout",
     "output_type": "stream",
     "text": [
      "Difference 5\n"
     ]
    },
    {
     "data": {
      "text/markdown": [
       "Zu uterinen Karzinomen (Endometrium- und Zervixkarzinom) existiert eine multizentrische, randomisierte Phase-3-Studie, die die Auswirkungen einer Supplementation von Natriumselenit auf die unerwünschten Wirkungen der Strahlentherapie untersuchte."
      ],
      "text/plain": [
       "<IPython.core.display.Markdown object>"
      ]
     },
     "metadata": {},
     "output_type": "display_data"
    },
    {
     "data": {
      "text/markdown": [
       "Zu uterinen Karzinomen (Endometriumkarzinom und Zervixkarzinom) existiert eine multizentrische, randomisierte Phase-3-Studie, die die Auswirkungen einer Supplementation von Natriumselenit auf die unerwünschten Wirkungen der Strahlentherapie untersuchte."
      ],
      "text/plain": [
       "<IPython.core.display.Markdown object>"
      ]
     },
     "metadata": {},
     "output_type": "display_data"
    },
    {
     "data": {
      "text/html": [
       "<html><body><div>Zu uterinen Karzinomen (Endometrium<span style=\"background-color: red; text-decoration: line-through;\">-</span><span style=\"background-color: lightgreen;\">karzinom</span> und Zervixkarzinom) existiert eine multizentrische, randomisierte Phase-3-Studie, die die Auswirkungen einer Supplementation von Natriumselenit auf die unerwünschten Wirkungen der Strahlentherapie untersuchte.</div></body></html>"
      ],
      "text/plain": [
       "<IPython.core.display.HTML object>"
      ]
     },
     "metadata": {},
     "output_type": "display_data"
    },
    {
     "data": {
      "application/vnd.jupyter.widget-view+json": {
       "model_id": "2292f48cc9d54189a5c8d7d1b385e0c0",
       "version_major": 2,
       "version_minor": 0
      },
      "text/plain": [
       "  0%|          | 0/1 [00:00<?, ?it/s]"
      ]
     },
     "metadata": {},
     "output_type": "display_data"
    },
    {
     "data": {
      "text/html": [
       "<div>\n",
       "<style scoped>\n",
       "    .dataframe tbody tr th:only-of-type {\n",
       "        vertical-align: middle;\n",
       "    }\n",
       "\n",
       "    .dataframe tbody tr th {\n",
       "        vertical-align: top;\n",
       "    }\n",
       "\n",
       "    .dataframe thead th {\n",
       "        text-align: right;\n",
       "    }\n",
       "</style>\n",
       "<table border=\"1\" class=\"dataframe\">\n",
       "  <thead>\n",
       "    <tr style=\"text-align: right;\">\n",
       "      <th></th>\n",
       "      <th>document</th>\n",
       "      <th>text</th>\n",
       "      <th>type</th>\n",
       "      <th>start</th>\n",
       "      <th>end</th>\n",
       "      <th>cui</th>\n",
       "      <th>tuis</th>\n",
       "      <th>canonical</th>\n",
       "      <th>linker</th>\n",
       "      <th>confidence</th>\n",
       "    </tr>\n",
       "  </thead>\n",
       "  <tbody>\n",
       "    <tr>\n",
       "      <th>0</th>\n",
       "      <td>05_zervixkarzinom_0265_11</td>\n",
       "      <td>uterinen Karzinomen</td>\n",
       "      <td>Diagnosis_or_Pathology</td>\n",
       "      <td>3</td>\n",
       "      <td>22</td>\n",
       "      <td>C0153567</td>\n",
       "      <td>[T191]</td>\n",
       "      <td>Krebs des Uterus</td>\n",
       "      <td>[ngram, sapbert]</td>\n",
       "      <td>0.076731</td>\n",
       "    </tr>\n",
       "    <tr>\n",
       "      <th>1</th>\n",
       "      <td>05_zervixkarzinom_0265_11</td>\n",
       "      <td>Endometrium-</td>\n",
       "      <td>Diagnosis_or_Pathology</td>\n",
       "      <td>24</td>\n",
       "      <td>36</td>\n",
       "      <td>C0014180</td>\n",
       "      <td>[T023]</td>\n",
       "      <td>Endometrium</td>\n",
       "      <td>[ngram, sapbert]</td>\n",
       "      <td>0.115464</td>\n",
       "    </tr>\n",
       "    <tr>\n",
       "      <th>2</th>\n",
       "      <td>05_zervixkarzinom_0265_11</td>\n",
       "      <td>Zervixkarzinom</td>\n",
       "      <td>Diagnosis_or_Pathology</td>\n",
       "      <td>41</td>\n",
       "      <td>55</td>\n",
       "      <td>C0302592</td>\n",
       "      <td>[T191]</td>\n",
       "      <td>Zervixkarzinom</td>\n",
       "      <td>[ngram, sapbert]</td>\n",
       "      <td>0.123141</td>\n",
       "    </tr>\n",
       "    <tr>\n",
       "      <th>3</th>\n",
       "      <td>05_zervixkarzinom_0265_11</td>\n",
       "      <td>Supplementation von Natriumselenit</td>\n",
       "      <td>Therapeutic</td>\n",
       "      <td>146</td>\n",
       "      <td>180</td>\n",
       "      <td>C0521939</td>\n",
       "      <td>[T121, T197]</td>\n",
       "      <td>Selenium supplement</td>\n",
       "      <td>[ngram, sapbert]</td>\n",
       "      <td>0.070027</td>\n",
       "    </tr>\n",
       "    <tr>\n",
       "      <th>4</th>\n",
       "      <td>05_zervixkarzinom_0265_11</td>\n",
       "      <td>Natriumselenit</td>\n",
       "      <td>Clinical_Drug</td>\n",
       "      <td>166</td>\n",
       "      <td>180</td>\n",
       "      <td>C0142923</td>\n",
       "      <td>[T121, T197]</td>\n",
       "      <td>Natriumselenit</td>\n",
       "      <td>[ngram, sapbert]</td>\n",
       "      <td>0.148524</td>\n",
       "    </tr>\n",
       "    <tr>\n",
       "      <th>5</th>\n",
       "      <td>05_zervixkarzinom_0265_11</td>\n",
       "      <td>unerwünschten Wirkungen der Strahlentherapie</td>\n",
       "      <td>Diagnosis_or_Pathology</td>\n",
       "      <td>189</td>\n",
       "      <td>233</td>\n",
       "      <td>C0392615</td>\n",
       "      <td>[T037]</td>\n",
       "      <td>Effect of radiation therapy</td>\n",
       "      <td>[sapbert]</td>\n",
       "      <td>0.075655</td>\n",
       "    </tr>\n",
       "    <tr>\n",
       "      <th>6</th>\n",
       "      <td>05_zervixkarzinom_0265_11</td>\n",
       "      <td>Strahlentherapie</td>\n",
       "      <td>Therapeutic</td>\n",
       "      <td>217</td>\n",
       "      <td>233</td>\n",
       "      <td>C1522449</td>\n",
       "      <td>[T061]</td>\n",
       "      <td>Strahlentherapie</td>\n",
       "      <td>[ngram, sapbert]</td>\n",
       "      <td>0.139603</td>\n",
       "    </tr>\n",
       "  </tbody>\n",
       "</table>\n",
       "</div>"
      ],
      "text/plain": [
       "                    document                                          text  \\\n",
       "0  05_zervixkarzinom_0265_11                           uterinen Karzinomen   \n",
       "1  05_zervixkarzinom_0265_11                                  Endometrium-   \n",
       "2  05_zervixkarzinom_0265_11                                Zervixkarzinom   \n",
       "3  05_zervixkarzinom_0265_11            Supplementation von Natriumselenit   \n",
       "4  05_zervixkarzinom_0265_11                                Natriumselenit   \n",
       "5  05_zervixkarzinom_0265_11  unerwünschten Wirkungen der Strahlentherapie   \n",
       "6  05_zervixkarzinom_0265_11                              Strahlentherapie   \n",
       "\n",
       "                     type  start  end       cui          tuis  \\\n",
       "0  Diagnosis_or_Pathology      3   22  C0153567        [T191]   \n",
       "1  Diagnosis_or_Pathology     24   36  C0014180        [T023]   \n",
       "2  Diagnosis_or_Pathology     41   55  C0302592        [T191]   \n",
       "3             Therapeutic    146  180  C0521939  [T121, T197]   \n",
       "4           Clinical_Drug    166  180  C0142923  [T121, T197]   \n",
       "5  Diagnosis_or_Pathology    189  233  C0392615        [T037]   \n",
       "6             Therapeutic    217  233  C1522449        [T061]   \n",
       "\n",
       "                     canonical            linker  confidence  \n",
       "0             Krebs des Uterus  [ngram, sapbert]    0.076731  \n",
       "1                  Endometrium  [ngram, sapbert]    0.115464  \n",
       "2               Zervixkarzinom  [ngram, sapbert]    0.123141  \n",
       "3          Selenium supplement  [ngram, sapbert]    0.070027  \n",
       "4               Natriumselenit  [ngram, sapbert]    0.148524  \n",
       "5  Effect of radiation therapy         [sapbert]    0.075655  \n",
       "6             Strahlentherapie  [ngram, sapbert]    0.139603  "
      ]
     },
     "metadata": {},
     "output_type": "display_data"
    },
    {
     "data": {
      "application/vnd.jupyter.widget-view+json": {
       "model_id": "c727905731984a8bb53c72e87cb70a81",
       "version_major": 2,
       "version_minor": 0
      },
      "text/plain": [
       "  0%|          | 0/1 [00:00<?, ?it/s]"
      ]
     },
     "metadata": {},
     "output_type": "display_data"
    },
    {
     "data": {
      "text/html": [
       "<div>\n",
       "<style scoped>\n",
       "    .dataframe tbody tr th:only-of-type {\n",
       "        vertical-align: middle;\n",
       "    }\n",
       "\n",
       "    .dataframe tbody tr th {\n",
       "        vertical-align: top;\n",
       "    }\n",
       "\n",
       "    .dataframe thead th {\n",
       "        text-align: right;\n",
       "    }\n",
       "</style>\n",
       "<table border=\"1\" class=\"dataframe\">\n",
       "  <thead>\n",
       "    <tr style=\"text-align: right;\">\n",
       "      <th></th>\n",
       "      <th>document</th>\n",
       "      <th>text</th>\n",
       "      <th>type</th>\n",
       "      <th>start</th>\n",
       "      <th>end</th>\n",
       "      <th>cui</th>\n",
       "      <th>tuis</th>\n",
       "      <th>canonical</th>\n",
       "      <th>linker</th>\n",
       "      <th>confidence</th>\n",
       "    </tr>\n",
       "  </thead>\n",
       "  <tbody>\n",
       "    <tr>\n",
       "      <th>0</th>\n",
       "      <td>05_zervixkarzinom_0265_11</td>\n",
       "      <td>uterinen Karzinomen</td>\n",
       "      <td>Diagnosis_or_Pathology</td>\n",
       "      <td>3</td>\n",
       "      <td>22</td>\n",
       "      <td>C0153567</td>\n",
       "      <td>[T191]</td>\n",
       "      <td>Krebs des Uterus</td>\n",
       "      <td>[ngram, sapbert]</td>\n",
       "      <td>0.076976</td>\n",
       "    </tr>\n",
       "    <tr>\n",
       "      <th>1</th>\n",
       "      <td>05_zervixkarzinom_0265_11</td>\n",
       "      <td>Endometriumkarzinom</td>\n",
       "      <td>Diagnosis_or_Pathology</td>\n",
       "      <td>24</td>\n",
       "      <td>43</td>\n",
       "      <td>C0476089</td>\n",
       "      <td>[T191]</td>\n",
       "      <td>Endometriumkarzinom</td>\n",
       "      <td>[ngram, sapbert]</td>\n",
       "      <td>0.118525</td>\n",
       "    </tr>\n",
       "    <tr>\n",
       "      <th>2</th>\n",
       "      <td>05_zervixkarzinom_0265_11</td>\n",
       "      <td>Zervixkarzinom</td>\n",
       "      <td>Diagnosis_or_Pathology</td>\n",
       "      <td>48</td>\n",
       "      <td>62</td>\n",
       "      <td>C0302592</td>\n",
       "      <td>[T191]</td>\n",
       "      <td>Zervixkarzinom</td>\n",
       "      <td>[ngram, sapbert]</td>\n",
       "      <td>0.121492</td>\n",
       "    </tr>\n",
       "    <tr>\n",
       "      <th>3</th>\n",
       "      <td>05_zervixkarzinom_0265_11</td>\n",
       "      <td>Supplementation von Natriumselenit</td>\n",
       "      <td>Therapeutic</td>\n",
       "      <td>153</td>\n",
       "      <td>187</td>\n",
       "      <td>C0521939</td>\n",
       "      <td>[T121, T197]</td>\n",
       "      <td>Selenium supplement</td>\n",
       "      <td>[ngram, sapbert]</td>\n",
       "      <td>0.070570</td>\n",
       "    </tr>\n",
       "    <tr>\n",
       "      <th>4</th>\n",
       "      <td>05_zervixkarzinom_0265_11</td>\n",
       "      <td>Natriumselenit</td>\n",
       "      <td>Clinical_Drug</td>\n",
       "      <td>173</td>\n",
       "      <td>187</td>\n",
       "      <td>C0142923</td>\n",
       "      <td>[T121, T197]</td>\n",
       "      <td>Natriumselenit</td>\n",
       "      <td>[ngram, sapbert]</td>\n",
       "      <td>0.148524</td>\n",
       "    </tr>\n",
       "    <tr>\n",
       "      <th>5</th>\n",
       "      <td>05_zervixkarzinom_0265_11</td>\n",
       "      <td>unerwünschten Wirkungen der Strahlentherapie</td>\n",
       "      <td>Diagnosis_or_Pathology</td>\n",
       "      <td>196</td>\n",
       "      <td>240</td>\n",
       "      <td>C0392615</td>\n",
       "      <td>[T037]</td>\n",
       "      <td>Effect of radiation therapy</td>\n",
       "      <td>[sapbert]</td>\n",
       "      <td>0.075655</td>\n",
       "    </tr>\n",
       "    <tr>\n",
       "      <th>6</th>\n",
       "      <td>05_zervixkarzinom_0265_11</td>\n",
       "      <td>Strahlentherapie</td>\n",
       "      <td>Therapeutic</td>\n",
       "      <td>224</td>\n",
       "      <td>240</td>\n",
       "      <td>C1522449</td>\n",
       "      <td>[T061]</td>\n",
       "      <td>Strahlentherapie</td>\n",
       "      <td>[ngram, sapbert]</td>\n",
       "      <td>0.139603</td>\n",
       "    </tr>\n",
       "  </tbody>\n",
       "</table>\n",
       "</div>"
      ],
      "text/plain": [
       "                    document                                          text  \\\n",
       "0  05_zervixkarzinom_0265_11                           uterinen Karzinomen   \n",
       "1  05_zervixkarzinom_0265_11                           Endometriumkarzinom   \n",
       "2  05_zervixkarzinom_0265_11                                Zervixkarzinom   \n",
       "3  05_zervixkarzinom_0265_11            Supplementation von Natriumselenit   \n",
       "4  05_zervixkarzinom_0265_11                                Natriumselenit   \n",
       "5  05_zervixkarzinom_0265_11  unerwünschten Wirkungen der Strahlentherapie   \n",
       "6  05_zervixkarzinom_0265_11                              Strahlentherapie   \n",
       "\n",
       "                     type  start  end       cui          tuis  \\\n",
       "0  Diagnosis_or_Pathology      3   22  C0153567        [T191]   \n",
       "1  Diagnosis_or_Pathology     24   43  C0476089        [T191]   \n",
       "2  Diagnosis_or_Pathology     48   62  C0302592        [T191]   \n",
       "3             Therapeutic    153  187  C0521939  [T121, T197]   \n",
       "4           Clinical_Drug    173  187  C0142923  [T121, T197]   \n",
       "5  Diagnosis_or_Pathology    196  240  C0392615        [T037]   \n",
       "6             Therapeutic    224  240  C1522449        [T061]   \n",
       "\n",
       "                     canonical            linker  confidence  \n",
       "0             Krebs des Uterus  [ngram, sapbert]    0.076976  \n",
       "1          Endometriumkarzinom  [ngram, sapbert]    0.118525  \n",
       "2               Zervixkarzinom  [ngram, sapbert]    0.121492  \n",
       "3          Selenium supplement  [ngram, sapbert]    0.070570  \n",
       "4               Natriumselenit  [ngram, sapbert]    0.148524  \n",
       "5  Effect of radiation therapy         [sapbert]    0.075655  \n",
       "6             Strahlentherapie  [ngram, sapbert]    0.139603  "
      ]
     },
     "metadata": {},
     "output_type": "display_data"
    },
    {
     "name": "stdout",
     "output_type": "stream",
     "text": [
      "Difference 6\n"
     ]
    },
    {
     "data": {
      "text/markdown": [
       "Hinweise für ein ungünstigeres rezidivfreies und Gesamtüberleben fanden sich nicht."
      ],
      "text/plain": [
       "<IPython.core.display.Markdown object>"
      ]
     },
     "metadata": {},
     "output_type": "display_data"
    },
    {
     "data": {
      "text/markdown": [
       "Hinweise für ein ungünstigeres rezidivfreies Überleben und Gesamtüberleben fanden sich nicht."
      ],
      "text/plain": [
       "<IPython.core.display.Markdown object>"
      ]
     },
     "metadata": {},
     "output_type": "display_data"
    },
    {
     "data": {
      "text/html": [
       "<html><body><div>Hinweise für ein ungünstigeres rezidivfreies <span style=\"background-color: lightgreen;\">Überleben </span>und Gesamtüberleben fanden sich nicht.</div></body></html>"
      ],
      "text/plain": [
       "<IPython.core.display.HTML object>"
      ]
     },
     "metadata": {},
     "output_type": "display_data"
    },
    {
     "data": {
      "application/vnd.jupyter.widget-view+json": {
       "model_id": "87cc967efaa7492896f3e01388d74ff1",
       "version_major": 2,
       "version_minor": 0
      },
      "text/plain": [
       "  0%|          | 0/1 [00:00<?, ?it/s]"
      ]
     },
     "metadata": {},
     "output_type": "display_data"
    },
    {
     "data": {
      "text/html": [
       "<div>\n",
       "<style scoped>\n",
       "    .dataframe tbody tr th:only-of-type {\n",
       "        vertical-align: middle;\n",
       "    }\n",
       "\n",
       "    .dataframe tbody tr th {\n",
       "        vertical-align: top;\n",
       "    }\n",
       "\n",
       "    .dataframe thead th {\n",
       "        text-align: right;\n",
       "    }\n",
       "</style>\n",
       "<table border=\"1\" class=\"dataframe\">\n",
       "  <thead>\n",
       "    <tr style=\"text-align: right;\">\n",
       "      <th></th>\n",
       "      <th>document</th>\n",
       "      <th>text</th>\n",
       "      <th>type</th>\n",
       "      <th>start</th>\n",
       "      <th>end</th>\n",
       "      <th>cui</th>\n",
       "      <th>tuis</th>\n",
       "      <th>canonical</th>\n",
       "      <th>linker</th>\n",
       "      <th>confidence</th>\n",
       "    </tr>\n",
       "  </thead>\n",
       "  <tbody>\n",
       "    <tr>\n",
       "      <th>0</th>\n",
       "      <td>05_zervixkarzinom_0265_14</td>\n",
       "      <td>ungünstigeres rezidivfreies und Gesamtüberleben</td>\n",
       "      <td>Other_Finding</td>\n",
       "      <td>17</td>\n",
       "      <td>64</td>\n",
       "      <td>C1711356</td>\n",
       "      <td>[T081]</td>\n",
       "      <td>Relative Survival</td>\n",
       "      <td>[sapbert]</td>\n",
       "      <td>0.100695</td>\n",
       "    </tr>\n",
       "  </tbody>\n",
       "</table>\n",
       "</div>"
      ],
      "text/plain": [
       "                    document                                             text  \\\n",
       "0  05_zervixkarzinom_0265_14  ungünstigeres rezidivfreies und Gesamtüberleben   \n",
       "\n",
       "            type  start  end       cui    tuis          canonical     linker  \\\n",
       "0  Other_Finding     17   64  C1711356  [T081]  Relative Survival  [sapbert]   \n",
       "\n",
       "   confidence  \n",
       "0    0.100695  "
      ]
     },
     "metadata": {},
     "output_type": "display_data"
    },
    {
     "data": {
      "application/vnd.jupyter.widget-view+json": {
       "model_id": "d3736c1744df4afd89ba6a58971665d3",
       "version_major": 2,
       "version_minor": 0
      },
      "text/plain": [
       "  0%|          | 0/1 [00:00<?, ?it/s]"
      ]
     },
     "metadata": {},
     "output_type": "display_data"
    },
    {
     "data": {
      "text/html": [
       "<div>\n",
       "<style scoped>\n",
       "    .dataframe tbody tr th:only-of-type {\n",
       "        vertical-align: middle;\n",
       "    }\n",
       "\n",
       "    .dataframe tbody tr th {\n",
       "        vertical-align: top;\n",
       "    }\n",
       "\n",
       "    .dataframe thead th {\n",
       "        text-align: right;\n",
       "    }\n",
       "</style>\n",
       "<table border=\"1\" class=\"dataframe\">\n",
       "  <thead>\n",
       "    <tr style=\"text-align: right;\">\n",
       "      <th></th>\n",
       "      <th>document</th>\n",
       "      <th>text</th>\n",
       "      <th>type</th>\n",
       "      <th>start</th>\n",
       "      <th>end</th>\n",
       "      <th>cui</th>\n",
       "      <th>tuis</th>\n",
       "      <th>canonical</th>\n",
       "      <th>linker</th>\n",
       "      <th>confidence</th>\n",
       "    </tr>\n",
       "  </thead>\n",
       "  <tbody>\n",
       "    <tr>\n",
       "      <th>0</th>\n",
       "      <td>05_zervixkarzinom_0265_14</td>\n",
       "      <td>ungünstigeres rezidivfreies Überleben</td>\n",
       "      <td>Other_Finding</td>\n",
       "      <td>17</td>\n",
       "      <td>54</td>\n",
       "      <td>C2919733</td>\n",
       "      <td>[T033]</td>\n",
       "      <td>Surviving free of recurrence of neoplastic dis...</td>\n",
       "      <td>[sapbert]</td>\n",
       "      <td>0.071705</td>\n",
       "    </tr>\n",
       "    <tr>\n",
       "      <th>1</th>\n",
       "      <td>05_zervixkarzinom_0265_14</td>\n",
       "      <td>Gesamtüberleben</td>\n",
       "      <td>Other_Finding</td>\n",
       "      <td>59</td>\n",
       "      <td>74</td>\n",
       "      <td>C0038954</td>\n",
       "      <td>[T081]</td>\n",
       "      <td>Survival Rate</td>\n",
       "      <td>[ngram, sapbert]</td>\n",
       "      <td>0.076043</td>\n",
       "    </tr>\n",
       "  </tbody>\n",
       "</table>\n",
       "</div>"
      ],
      "text/plain": [
       "                    document                                   text  \\\n",
       "0  05_zervixkarzinom_0265_14  ungünstigeres rezidivfreies Überleben   \n",
       "1  05_zervixkarzinom_0265_14                        Gesamtüberleben   \n",
       "\n",
       "            type  start  end       cui    tuis  \\\n",
       "0  Other_Finding     17   54  C2919733  [T033]   \n",
       "1  Other_Finding     59   74  C0038954  [T081]   \n",
       "\n",
       "                                           canonical            linker  \\\n",
       "0  Surviving free of recurrence of neoplastic dis...         [sapbert]   \n",
       "1                                      Survival Rate  [ngram, sapbert]   \n",
       "\n",
       "   confidence  \n",
       "0    0.071705  \n",
       "1    0.076043  "
      ]
     },
     "metadata": {},
     "output_type": "display_data"
    },
    {
     "name": "stdout",
     "output_type": "stream",
     "text": [
      "Difference 7\n"
     ]
    },
    {
     "data": {
      "text/markdown": [
       "Auch hepatische Nebenwirkungen sind unter zielgerichteten und Immuntherapien häufig."
      ],
      "text/plain": [
       "<IPython.core.display.Markdown object>"
      ]
     },
     "metadata": {},
     "output_type": "display_data"
    },
    {
     "data": {
      "text/markdown": [
       "Auch hepatische Nebenwirkungen sind unter zielgerichteten Therapien und Immuntherapien häufig."
      ],
      "text/plain": [
       "<IPython.core.display.Markdown object>"
      ]
     },
     "metadata": {},
     "output_type": "display_data"
    },
    {
     "data": {
      "text/html": [
       "<html><body><div>Auch hepatische Nebenwirkungen sind unter zielgerichteten <span style=\"background-color: lightgreen;\">Therapien </span>und Immuntherapien häufig.</div></body></html>"
      ],
      "text/plain": [
       "<IPython.core.display.HTML object>"
      ]
     },
     "metadata": {},
     "output_type": "display_data"
    },
    {
     "data": {
      "application/vnd.jupyter.widget-view+json": {
       "model_id": "93aa524a9b2849bb96c71f99b77aa1c9",
       "version_major": 2,
       "version_minor": 0
      },
      "text/plain": [
       "  0%|          | 0/1 [00:00<?, ?it/s]"
      ]
     },
     "metadata": {},
     "output_type": "display_data"
    },
    {
     "data": {
      "text/html": [
       "<div>\n",
       "<style scoped>\n",
       "    .dataframe tbody tr th:only-of-type {\n",
       "        vertical-align: middle;\n",
       "    }\n",
       "\n",
       "    .dataframe tbody tr th {\n",
       "        vertical-align: top;\n",
       "    }\n",
       "\n",
       "    .dataframe thead th {\n",
       "        text-align: right;\n",
       "    }\n",
       "</style>\n",
       "<table border=\"1\" class=\"dataframe\">\n",
       "  <thead>\n",
       "    <tr style=\"text-align: right;\">\n",
       "      <th></th>\n",
       "      <th>document</th>\n",
       "      <th>text</th>\n",
       "      <th>type</th>\n",
       "      <th>start</th>\n",
       "      <th>end</th>\n",
       "      <th>cui</th>\n",
       "      <th>tuis</th>\n",
       "      <th>canonical</th>\n",
       "      <th>linker</th>\n",
       "      <th>confidence</th>\n",
       "    </tr>\n",
       "  </thead>\n",
       "  <tbody>\n",
       "    <tr>\n",
       "      <th>0</th>\n",
       "      <td>07_malignes-melanom_0197_2</td>\n",
       "      <td>hepatische Nebenwirkungen</td>\n",
       "      <td>Diagnosis_or_Pathology</td>\n",
       "      <td>5</td>\n",
       "      <td>30</td>\n",
       "      <td>C0235378</td>\n",
       "      <td>[T037]</td>\n",
       "      <td>Lebertoxizitaet</td>\n",
       "      <td>[sapbert]</td>\n",
       "      <td>0.066954</td>\n",
       "    </tr>\n",
       "    <tr>\n",
       "      <th>1</th>\n",
       "      <td>07_malignes-melanom_0197_2</td>\n",
       "      <td>zielgerichteten</td>\n",
       "      <td>Therapeutic</td>\n",
       "      <td>42</td>\n",
       "      <td>57</td>\n",
       "      <td>C2699893</td>\n",
       "      <td>[T061]</td>\n",
       "      <td>Molecular Targeted Therapy</td>\n",
       "      <td>[ngram]</td>\n",
       "      <td>0.067461</td>\n",
       "    </tr>\n",
       "    <tr>\n",
       "      <th>2</th>\n",
       "      <td>07_malignes-melanom_0197_2</td>\n",
       "      <td>Immuntherapien</td>\n",
       "      <td>Therapeutic</td>\n",
       "      <td>62</td>\n",
       "      <td>76</td>\n",
       "      <td>C0021083</td>\n",
       "      <td>[T061]</td>\n",
       "      <td>Immuntherapie</td>\n",
       "      <td>[ngram, sapbert]</td>\n",
       "      <td>0.137149</td>\n",
       "    </tr>\n",
       "  </tbody>\n",
       "</table>\n",
       "</div>"
      ],
      "text/plain": [
       "                     document                       text  \\\n",
       "0  07_malignes-melanom_0197_2  hepatische Nebenwirkungen   \n",
       "1  07_malignes-melanom_0197_2            zielgerichteten   \n",
       "2  07_malignes-melanom_0197_2             Immuntherapien   \n",
       "\n",
       "                     type  start  end       cui    tuis  \\\n",
       "0  Diagnosis_or_Pathology      5   30  C0235378  [T037]   \n",
       "1             Therapeutic     42   57  C2699893  [T061]   \n",
       "2             Therapeutic     62   76  C0021083  [T061]   \n",
       "\n",
       "                    canonical            linker  confidence  \n",
       "0             Lebertoxizitaet         [sapbert]    0.066954  \n",
       "1  Molecular Targeted Therapy           [ngram]    0.067461  \n",
       "2               Immuntherapie  [ngram, sapbert]    0.137149  "
      ]
     },
     "metadata": {},
     "output_type": "display_data"
    },
    {
     "data": {
      "application/vnd.jupyter.widget-view+json": {
       "model_id": "bff2ef6daa914fdaa279ef6d2a74b095",
       "version_major": 2,
       "version_minor": 0
      },
      "text/plain": [
       "  0%|          | 0/1 [00:00<?, ?it/s]"
      ]
     },
     "metadata": {},
     "output_type": "display_data"
    },
    {
     "data": {
      "text/html": [
       "<div>\n",
       "<style scoped>\n",
       "    .dataframe tbody tr th:only-of-type {\n",
       "        vertical-align: middle;\n",
       "    }\n",
       "\n",
       "    .dataframe tbody tr th {\n",
       "        vertical-align: top;\n",
       "    }\n",
       "\n",
       "    .dataframe thead th {\n",
       "        text-align: right;\n",
       "    }\n",
       "</style>\n",
       "<table border=\"1\" class=\"dataframe\">\n",
       "  <thead>\n",
       "    <tr style=\"text-align: right;\">\n",
       "      <th></th>\n",
       "      <th>document</th>\n",
       "      <th>text</th>\n",
       "      <th>type</th>\n",
       "      <th>start</th>\n",
       "      <th>end</th>\n",
       "      <th>cui</th>\n",
       "      <th>tuis</th>\n",
       "      <th>canonical</th>\n",
       "      <th>linker</th>\n",
       "      <th>confidence</th>\n",
       "    </tr>\n",
       "  </thead>\n",
       "  <tbody>\n",
       "    <tr>\n",
       "      <th>0</th>\n",
       "      <td>07_malignes-melanom_0197_2</td>\n",
       "      <td>hepatische Nebenwirkungen</td>\n",
       "      <td>Diagnosis_or_Pathology</td>\n",
       "      <td>5</td>\n",
       "      <td>30</td>\n",
       "      <td>C0235378</td>\n",
       "      <td>[T037]</td>\n",
       "      <td>Lebertoxizitaet</td>\n",
       "      <td>[sapbert]</td>\n",
       "      <td>0.066987</td>\n",
       "    </tr>\n",
       "    <tr>\n",
       "      <th>1</th>\n",
       "      <td>07_malignes-melanom_0197_2</td>\n",
       "      <td>zielgerichteten Therapien</td>\n",
       "      <td>Therapeutic</td>\n",
       "      <td>42</td>\n",
       "      <td>67</td>\n",
       "      <td>C2699893</td>\n",
       "      <td>[T061]</td>\n",
       "      <td>Molecular Targeted Therapy</td>\n",
       "      <td>[ngram, sapbert]</td>\n",
       "      <td>0.072630</td>\n",
       "    </tr>\n",
       "    <tr>\n",
       "      <th>2</th>\n",
       "      <td>07_malignes-melanom_0197_2</td>\n",
       "      <td>Immuntherapien</td>\n",
       "      <td>Therapeutic</td>\n",
       "      <td>72</td>\n",
       "      <td>86</td>\n",
       "      <td>C0021083</td>\n",
       "      <td>[T061]</td>\n",
       "      <td>Immuntherapie</td>\n",
       "      <td>[ngram, sapbert]</td>\n",
       "      <td>0.139838</td>\n",
       "    </tr>\n",
       "  </tbody>\n",
       "</table>\n",
       "</div>"
      ],
      "text/plain": [
       "                     document                       text  \\\n",
       "0  07_malignes-melanom_0197_2  hepatische Nebenwirkungen   \n",
       "1  07_malignes-melanom_0197_2  zielgerichteten Therapien   \n",
       "2  07_malignes-melanom_0197_2             Immuntherapien   \n",
       "\n",
       "                     type  start  end       cui    tuis  \\\n",
       "0  Diagnosis_or_Pathology      5   30  C0235378  [T037]   \n",
       "1             Therapeutic     42   67  C2699893  [T061]   \n",
       "2             Therapeutic     72   86  C0021083  [T061]   \n",
       "\n",
       "                    canonical            linker  confidence  \n",
       "0             Lebertoxizitaet         [sapbert]    0.066987  \n",
       "1  Molecular Targeted Therapy  [ngram, sapbert]    0.072630  \n",
       "2               Immuntherapie  [ngram, sapbert]    0.139838  "
      ]
     },
     "metadata": {},
     "output_type": "display_data"
    },
    {
     "name": "stdout",
     "output_type": "stream",
     "text": [
      "Difference 8\n"
     ]
    },
    {
     "data": {
      "text/markdown": [
       "BRAF/MEK-Inhibitoren führen insbesondere zu asymptomatischen Transaminasenerhöhungen bei etwa 30% der Patienten, Grad 3/4 Erhöhungen treten bei etwa 10% auf [REF], [REF]."
      ],
      "text/plain": [
       "<IPython.core.display.Markdown object>"
      ]
     },
     "metadata": {},
     "output_type": "display_data"
    },
    {
     "data": {
      "text/markdown": [
       "BRAF-Inhibitoren/MEK-Inhibitoren führen insbesondere zu asymptomatischen Transaminasenerhöhungen bei etwa 30% der Patienten, Grad 3 Erhöhungen/Grad 4 Erhöhungen treten bei etwa 10% auf [REF], [REF]."
      ],
      "text/plain": [
       "<IPython.core.display.Markdown object>"
      ]
     },
     "metadata": {},
     "output_type": "display_data"
    },
    {
     "data": {
      "text/html": [
       "<html><body><div>BRAF<span style=\"background-color: lightgreen;\">-Inhibitoren</span>/MEK-Inhibitoren führen insbesondere zu asymptomatischen Transaminasenerhöhungen bei etwa 30% der Patienten, Grad 3<span style=\"background-color: lightgreen;\"> Erhöhungen</span>/<span style=\"background-color: lightgreen;\">Grad </span>4 Erhöhungen treten bei etwa 10% auf [REF], [REF].</div></body></html>"
      ],
      "text/plain": [
       "<IPython.core.display.HTML object>"
      ]
     },
     "metadata": {},
     "output_type": "display_data"
    },
    {
     "data": {
      "application/vnd.jupyter.widget-view+json": {
       "model_id": "083f9cdd69d7439f98db6667819fea1d",
       "version_major": 2,
       "version_minor": 0
      },
      "text/plain": [
       "  0%|          | 0/1 [00:00<?, ?it/s]"
      ]
     },
     "metadata": {},
     "output_type": "display_data"
    },
    {
     "data": {
      "text/html": [
       "<div>\n",
       "<style scoped>\n",
       "    .dataframe tbody tr th:only-of-type {\n",
       "        vertical-align: middle;\n",
       "    }\n",
       "\n",
       "    .dataframe tbody tr th {\n",
       "        vertical-align: top;\n",
       "    }\n",
       "\n",
       "    .dataframe thead th {\n",
       "        text-align: right;\n",
       "    }\n",
       "</style>\n",
       "<table border=\"1\" class=\"dataframe\">\n",
       "  <thead>\n",
       "    <tr style=\"text-align: right;\">\n",
       "      <th></th>\n",
       "      <th>document</th>\n",
       "      <th>text</th>\n",
       "      <th>type</th>\n",
       "      <th>start</th>\n",
       "      <th>end</th>\n",
       "      <th>cui</th>\n",
       "      <th>tuis</th>\n",
       "      <th>canonical</th>\n",
       "      <th>linker</th>\n",
       "      <th>confidence</th>\n",
       "    </tr>\n",
       "  </thead>\n",
       "  <tbody>\n",
       "    <tr>\n",
       "      <th>0</th>\n",
       "      <td>07_malignes-melanom_0197_3</td>\n",
       "      <td>BRAF</td>\n",
       "      <td>Clinical_Drug</td>\n",
       "      <td>0</td>\n",
       "      <td>4</td>\n",
       "      <td>C1259929</td>\n",
       "      <td>[T116, T123]</td>\n",
       "      <td>94 kDa B-raf Protein</td>\n",
       "      <td>[ngram, sapbert]</td>\n",
       "      <td>0.077802</td>\n",
       "    </tr>\n",
       "    <tr>\n",
       "      <th>1</th>\n",
       "      <td>07_malignes-melanom_0197_3</td>\n",
       "      <td>MEK-Inhibitoren</td>\n",
       "      <td>Clinical_Drug</td>\n",
       "      <td>5</td>\n",
       "      <td>20</td>\n",
       "      <td>C2347168</td>\n",
       "      <td>[T121]</td>\n",
       "      <td>MAPKK Inhibitor</td>\n",
       "      <td>[ngram, sapbert]</td>\n",
       "      <td>0.112728</td>\n",
       "    </tr>\n",
       "    <tr>\n",
       "      <th>2</th>\n",
       "      <td>07_malignes-melanom_0197_3</td>\n",
       "      <td>asymptomatischen Transaminasenerhöhungen</td>\n",
       "      <td>Diagnosis_or_Pathology</td>\n",
       "      <td>44</td>\n",
       "      <td>84</td>\n",
       "      <td>C0438717</td>\n",
       "      <td>[T033]</td>\n",
       "      <td>Transaminasen erhoeht</td>\n",
       "      <td>[ngram, sapbert]</td>\n",
       "      <td>0.067316</td>\n",
       "    </tr>\n",
       "    <tr>\n",
       "      <th>3</th>\n",
       "      <td>07_malignes-melanom_0197_3</td>\n",
       "      <td>Grad 3</td>\n",
       "      <td>Diagnosis_or_Pathology</td>\n",
       "      <td>113</td>\n",
       "      <td>119</td>\n",
       "      <td>C0450094</td>\n",
       "      <td>[T033]</td>\n",
       "      <td>Grade 3</td>\n",
       "      <td>[ngram, sapbert]</td>\n",
       "      <td>0.116514</td>\n",
       "    </tr>\n",
       "    <tr>\n",
       "      <th>4</th>\n",
       "      <td>07_malignes-melanom_0197_3</td>\n",
       "      <td>Grad 3/4 Erhöhungen</td>\n",
       "      <td>Diagnosis_or_Pathology</td>\n",
       "      <td>113</td>\n",
       "      <td>132</td>\n",
       "      <td>C5548512</td>\n",
       "      <td>[T185]</td>\n",
       "      <td>Grade 4 on a scale of 1 to 4</td>\n",
       "      <td>[sapbert]</td>\n",
       "      <td>0.065514</td>\n",
       "    </tr>\n",
       "  </tbody>\n",
       "</table>\n",
       "</div>"
      ],
      "text/plain": [
       "                     document                                      text  \\\n",
       "0  07_malignes-melanom_0197_3                                      BRAF   \n",
       "1  07_malignes-melanom_0197_3                           MEK-Inhibitoren   \n",
       "2  07_malignes-melanom_0197_3  asymptomatischen Transaminasenerhöhungen   \n",
       "3  07_malignes-melanom_0197_3                                    Grad 3   \n",
       "4  07_malignes-melanom_0197_3                       Grad 3/4 Erhöhungen   \n",
       "\n",
       "                     type  start  end       cui          tuis  \\\n",
       "0           Clinical_Drug      0    4  C1259929  [T116, T123]   \n",
       "1           Clinical_Drug      5   20  C2347168        [T121]   \n",
       "2  Diagnosis_or_Pathology     44   84  C0438717        [T033]   \n",
       "3  Diagnosis_or_Pathology    113  119  C0450094        [T033]   \n",
       "4  Diagnosis_or_Pathology    113  132  C5548512        [T185]   \n",
       "\n",
       "                      canonical            linker  confidence  \n",
       "0          94 kDa B-raf Protein  [ngram, sapbert]    0.077802  \n",
       "1               MAPKK Inhibitor  [ngram, sapbert]    0.112728  \n",
       "2         Transaminasen erhoeht  [ngram, sapbert]    0.067316  \n",
       "3                       Grade 3  [ngram, sapbert]    0.116514  \n",
       "4  Grade 4 on a scale of 1 to 4         [sapbert]    0.065514  "
      ]
     },
     "metadata": {},
     "output_type": "display_data"
    },
    {
     "data": {
      "application/vnd.jupyter.widget-view+json": {
       "model_id": "fa131c49be2540b885515863777f6c86",
       "version_major": 2,
       "version_minor": 0
      },
      "text/plain": [
       "  0%|          | 0/1 [00:00<?, ?it/s]"
      ]
     },
     "metadata": {},
     "output_type": "display_data"
    },
    {
     "data": {
      "text/html": [
       "<div>\n",
       "<style scoped>\n",
       "    .dataframe tbody tr th:only-of-type {\n",
       "        vertical-align: middle;\n",
       "    }\n",
       "\n",
       "    .dataframe tbody tr th {\n",
       "        vertical-align: top;\n",
       "    }\n",
       "\n",
       "    .dataframe thead th {\n",
       "        text-align: right;\n",
       "    }\n",
       "</style>\n",
       "<table border=\"1\" class=\"dataframe\">\n",
       "  <thead>\n",
       "    <tr style=\"text-align: right;\">\n",
       "      <th></th>\n",
       "      <th>document</th>\n",
       "      <th>text</th>\n",
       "      <th>type</th>\n",
       "      <th>start</th>\n",
       "      <th>end</th>\n",
       "      <th>cui</th>\n",
       "      <th>tuis</th>\n",
       "      <th>canonical</th>\n",
       "      <th>linker</th>\n",
       "      <th>confidence</th>\n",
       "    </tr>\n",
       "  </thead>\n",
       "  <tbody>\n",
       "    <tr>\n",
       "      <th>0</th>\n",
       "      <td>07_malignes-melanom_0197_3</td>\n",
       "      <td>BRAF-Inhibitoren</td>\n",
       "      <td>Clinical_Drug</td>\n",
       "      <td>0</td>\n",
       "      <td>16</td>\n",
       "      <td>C3838813</td>\n",
       "      <td>[T116, T121]</td>\n",
       "      <td>B-Raf inhibitor</td>\n",
       "      <td>[ngram, sapbert]</td>\n",
       "      <td>0.099231</td>\n",
       "    </tr>\n",
       "    <tr>\n",
       "      <th>1</th>\n",
       "      <td>07_malignes-melanom_0197_3</td>\n",
       "      <td>MEK-Inhibitoren</td>\n",
       "      <td>Clinical_Drug</td>\n",
       "      <td>17</td>\n",
       "      <td>32</td>\n",
       "      <td>C2347168</td>\n",
       "      <td>[T121]</td>\n",
       "      <td>MAPKK Inhibitor</td>\n",
       "      <td>[ngram, sapbert]</td>\n",
       "      <td>0.091886</td>\n",
       "    </tr>\n",
       "    <tr>\n",
       "      <th>2</th>\n",
       "      <td>07_malignes-melanom_0197_3</td>\n",
       "      <td>asymptomatischen Transaminasenerhöhungen</td>\n",
       "      <td>Diagnosis_or_Pathology</td>\n",
       "      <td>56</td>\n",
       "      <td>96</td>\n",
       "      <td>C0438717</td>\n",
       "      <td>[T033]</td>\n",
       "      <td>Transaminasen erhoeht</td>\n",
       "      <td>[ngram, sapbert]</td>\n",
       "      <td>0.064062</td>\n",
       "    </tr>\n",
       "    <tr>\n",
       "      <th>3</th>\n",
       "      <td>07_malignes-melanom_0197_3</td>\n",
       "      <td>Grad 3 Erhöhungen</td>\n",
       "      <td>Diagnosis_or_Pathology</td>\n",
       "      <td>125</td>\n",
       "      <td>142</td>\n",
       "      <td>C1333844</td>\n",
       "      <td>[T033]</td>\n",
       "      <td>Grade 3 Lesion</td>\n",
       "      <td>[ngram, sapbert]</td>\n",
       "      <td>0.068164</td>\n",
       "    </tr>\n",
       "    <tr>\n",
       "      <th>4</th>\n",
       "      <td>07_malignes-melanom_0197_3</td>\n",
       "      <td>Grad 4 Erhöhungen</td>\n",
       "      <td>Diagnosis_or_Pathology</td>\n",
       "      <td>143</td>\n",
       "      <td>160</td>\n",
       "      <td>C0547054</td>\n",
       "      <td>[T185]</td>\n",
       "      <td>Grade IV</td>\n",
       "      <td>[ngram, sapbert]</td>\n",
       "      <td>0.067878</td>\n",
       "    </tr>\n",
       "  </tbody>\n",
       "</table>\n",
       "</div>"
      ],
      "text/plain": [
       "                     document                                      text  \\\n",
       "0  07_malignes-melanom_0197_3                          BRAF-Inhibitoren   \n",
       "1  07_malignes-melanom_0197_3                           MEK-Inhibitoren   \n",
       "2  07_malignes-melanom_0197_3  asymptomatischen Transaminasenerhöhungen   \n",
       "3  07_malignes-melanom_0197_3                         Grad 3 Erhöhungen   \n",
       "4  07_malignes-melanom_0197_3                         Grad 4 Erhöhungen   \n",
       "\n",
       "                     type  start  end       cui          tuis  \\\n",
       "0           Clinical_Drug      0   16  C3838813  [T116, T121]   \n",
       "1           Clinical_Drug     17   32  C2347168        [T121]   \n",
       "2  Diagnosis_or_Pathology     56   96  C0438717        [T033]   \n",
       "3  Diagnosis_or_Pathology    125  142  C1333844        [T033]   \n",
       "4  Diagnosis_or_Pathology    143  160  C0547054        [T185]   \n",
       "\n",
       "               canonical            linker  confidence  \n",
       "0        B-Raf inhibitor  [ngram, sapbert]    0.099231  \n",
       "1        MAPKK Inhibitor  [ngram, sapbert]    0.091886  \n",
       "2  Transaminasen erhoeht  [ngram, sapbert]    0.064062  \n",
       "3         Grade 3 Lesion  [ngram, sapbert]    0.068164  \n",
       "4               Grade IV  [ngram, sapbert]    0.067878  "
      ]
     },
     "metadata": {},
     "output_type": "display_data"
    },
    {
     "name": "stdout",
     "output_type": "stream",
     "text": [
      "Difference 9\n"
     ]
    },
    {
     "data": {
      "text/markdown": [
       "In der CheckMate 067 Studie zeigten bis zu 18% der Patienten meist asymptomatische Transaminasenerhöhungen, während es bei Ipilimumab und Nivolumab Monotherapie jeweils nur 4% sind [REF]."
      ],
      "text/plain": [
       "<IPython.core.display.Markdown object>"
      ]
     },
     "metadata": {},
     "output_type": "display_data"
    },
    {
     "data": {
      "text/markdown": [
       "In der CheckMate 067 Studie zeigten bis zu 18% der Patienten meist asymptomatische Transaminasenerhöhungen, während es bei Ipilimumab Monotherapie und Nivolumab Monotherapie jeweils nur 4% sind [REF]."
      ],
      "text/plain": [
       "<IPython.core.display.Markdown object>"
      ]
     },
     "metadata": {},
     "output_type": "display_data"
    },
    {
     "data": {
      "text/html": [
       "<html><body><div>In der CheckMate 067 Studie zeigten bis zu 18% der Patienten meist asymptomatische Transaminasenerhöhungen, während es bei Ipilimumab<span style=\"background-color: lightgreen;\"> Monotherapie</span> und Nivolumab Monotherapie jeweils nur 4% sind [REF].</div></body></html>"
      ],
      "text/plain": [
       "<IPython.core.display.HTML object>"
      ]
     },
     "metadata": {},
     "output_type": "display_data"
    },
    {
     "data": {
      "application/vnd.jupyter.widget-view+json": {
       "model_id": "c3b94e4a178c475e8aeb6cf04917032c",
       "version_major": 2,
       "version_minor": 0
      },
      "text/plain": [
       "  0%|          | 0/1 [00:00<?, ?it/s]"
      ]
     },
     "metadata": {},
     "output_type": "display_data"
    },
    {
     "data": {
      "text/html": [
       "<div>\n",
       "<style scoped>\n",
       "    .dataframe tbody tr th:only-of-type {\n",
       "        vertical-align: middle;\n",
       "    }\n",
       "\n",
       "    .dataframe tbody tr th {\n",
       "        vertical-align: top;\n",
       "    }\n",
       "\n",
       "    .dataframe thead th {\n",
       "        text-align: right;\n",
       "    }\n",
       "</style>\n",
       "<table border=\"1\" class=\"dataframe\">\n",
       "  <thead>\n",
       "    <tr style=\"text-align: right;\">\n",
       "      <th></th>\n",
       "      <th>document</th>\n",
       "      <th>text</th>\n",
       "      <th>type</th>\n",
       "      <th>start</th>\n",
       "      <th>end</th>\n",
       "      <th>cui</th>\n",
       "      <th>tuis</th>\n",
       "      <th>canonical</th>\n",
       "      <th>linker</th>\n",
       "      <th>confidence</th>\n",
       "    </tr>\n",
       "  </thead>\n",
       "  <tbody>\n",
       "    <tr>\n",
       "      <th>0</th>\n",
       "      <td>07_malignes-melanom_0197_6</td>\n",
       "      <td>asymptomatische Transaminasenerhöhungen</td>\n",
       "      <td>Diagnosis_or_Pathology</td>\n",
       "      <td>67</td>\n",
       "      <td>106</td>\n",
       "      <td>C0438717</td>\n",
       "      <td>[T033]</td>\n",
       "      <td>Transaminasen erhoeht</td>\n",
       "      <td>[ngram, sapbert]</td>\n",
       "      <td>0.064863</td>\n",
       "    </tr>\n",
       "    <tr>\n",
       "      <th>1</th>\n",
       "      <td>07_malignes-melanom_0197_6</td>\n",
       "      <td>Ipilimumab</td>\n",
       "      <td>Clinical_Drug</td>\n",
       "      <td>123</td>\n",
       "      <td>133</td>\n",
       "      <td>C1367202</td>\n",
       "      <td>[T116, T121, T129]</td>\n",
       "      <td>Ipilimumab</td>\n",
       "      <td>[ngram, sapbert]</td>\n",
       "      <td>0.144958</td>\n",
       "    </tr>\n",
       "    <tr>\n",
       "      <th>2</th>\n",
       "      <td>07_malignes-melanom_0197_6</td>\n",
       "      <td>Nivolumab Monotherapie</td>\n",
       "      <td>Therapeutic</td>\n",
       "      <td>138</td>\n",
       "      <td>160</td>\n",
       "      <td>C3657270</td>\n",
       "      <td>[T116, T121, T129]</td>\n",
       "      <td>Nivolumab</td>\n",
       "      <td>[sapbert]</td>\n",
       "      <td>0.072226</td>\n",
       "    </tr>\n",
       "  </tbody>\n",
       "</table>\n",
       "</div>"
      ],
      "text/plain": [
       "                     document                                     text  \\\n",
       "0  07_malignes-melanom_0197_6  asymptomatische Transaminasenerhöhungen   \n",
       "1  07_malignes-melanom_0197_6                               Ipilimumab   \n",
       "2  07_malignes-melanom_0197_6                   Nivolumab Monotherapie   \n",
       "\n",
       "                     type  start  end       cui                tuis  \\\n",
       "0  Diagnosis_or_Pathology     67  106  C0438717              [T033]   \n",
       "1           Clinical_Drug    123  133  C1367202  [T116, T121, T129]   \n",
       "2             Therapeutic    138  160  C3657270  [T116, T121, T129]   \n",
       "\n",
       "               canonical            linker  confidence  \n",
       "0  Transaminasen erhoeht  [ngram, sapbert]    0.064863  \n",
       "1             Ipilimumab  [ngram, sapbert]    0.144958  \n",
       "2              Nivolumab         [sapbert]    0.072226  "
      ]
     },
     "metadata": {},
     "output_type": "display_data"
    },
    {
     "data": {
      "application/vnd.jupyter.widget-view+json": {
       "model_id": "6c6cb4481fd34ab8be1e3ba4722498f9",
       "version_major": 2,
       "version_minor": 0
      },
      "text/plain": [
       "  0%|          | 0/1 [00:00<?, ?it/s]"
      ]
     },
     "metadata": {},
     "output_type": "display_data"
    },
    {
     "data": {
      "text/html": [
       "<div>\n",
       "<style scoped>\n",
       "    .dataframe tbody tr th:only-of-type {\n",
       "        vertical-align: middle;\n",
       "    }\n",
       "\n",
       "    .dataframe tbody tr th {\n",
       "        vertical-align: top;\n",
       "    }\n",
       "\n",
       "    .dataframe thead th {\n",
       "        text-align: right;\n",
       "    }\n",
       "</style>\n",
       "<table border=\"1\" class=\"dataframe\">\n",
       "  <thead>\n",
       "    <tr style=\"text-align: right;\">\n",
       "      <th></th>\n",
       "      <th>document</th>\n",
       "      <th>text</th>\n",
       "      <th>type</th>\n",
       "      <th>start</th>\n",
       "      <th>end</th>\n",
       "      <th>cui</th>\n",
       "      <th>tuis</th>\n",
       "      <th>canonical</th>\n",
       "      <th>linker</th>\n",
       "      <th>confidence</th>\n",
       "    </tr>\n",
       "  </thead>\n",
       "  <tbody>\n",
       "    <tr>\n",
       "      <th>0</th>\n",
       "      <td>07_malignes-melanom_0197_6</td>\n",
       "      <td>asymptomatische Transaminasenerhöhungen</td>\n",
       "      <td>Diagnosis_or_Pathology</td>\n",
       "      <td>67</td>\n",
       "      <td>106</td>\n",
       "      <td>C0438717</td>\n",
       "      <td>[T033]</td>\n",
       "      <td>Transaminasen erhoeht</td>\n",
       "      <td>[ngram, sapbert]</td>\n",
       "      <td>0.064624</td>\n",
       "    </tr>\n",
       "    <tr>\n",
       "      <th>1</th>\n",
       "      <td>07_malignes-melanom_0197_6</td>\n",
       "      <td>Ipilimumab Monotherapie</td>\n",
       "      <td>Therapeutic</td>\n",
       "      <td>123</td>\n",
       "      <td>146</td>\n",
       "      <td>C1367202</td>\n",
       "      <td>[T116, T121, T129]</td>\n",
       "      <td>Ipilimumab</td>\n",
       "      <td>[sapbert]</td>\n",
       "      <td>0.076966</td>\n",
       "    </tr>\n",
       "    <tr>\n",
       "      <th>2</th>\n",
       "      <td>07_malignes-melanom_0197_6</td>\n",
       "      <td>Nivolumab Monotherapie</td>\n",
       "      <td>Therapeutic</td>\n",
       "      <td>151</td>\n",
       "      <td>173</td>\n",
       "      <td>C3657270</td>\n",
       "      <td>[T116, T121, T129]</td>\n",
       "      <td>Nivolumab</td>\n",
       "      <td>[sapbert]</td>\n",
       "      <td>0.075624</td>\n",
       "    </tr>\n",
       "  </tbody>\n",
       "</table>\n",
       "</div>"
      ],
      "text/plain": [
       "                     document                                     text  \\\n",
       "0  07_malignes-melanom_0197_6  asymptomatische Transaminasenerhöhungen   \n",
       "1  07_malignes-melanom_0197_6                  Ipilimumab Monotherapie   \n",
       "2  07_malignes-melanom_0197_6                   Nivolumab Monotherapie   \n",
       "\n",
       "                     type  start  end       cui                tuis  \\\n",
       "0  Diagnosis_or_Pathology     67  106  C0438717              [T033]   \n",
       "1             Therapeutic    123  146  C1367202  [T116, T121, T129]   \n",
       "2             Therapeutic    151  173  C3657270  [T116, T121, T129]   \n",
       "\n",
       "               canonical            linker  confidence  \n",
       "0  Transaminasen erhoeht  [ngram, sapbert]    0.064624  \n",
       "1             Ipilimumab         [sapbert]    0.076966  \n",
       "2              Nivolumab         [sapbert]    0.075624  "
      ]
     },
     "metadata": {},
     "output_type": "display_data"
    },
    {
     "name": "stdout",
     "output_type": "stream",
     "text": [
      "Difference 10\n"
     ]
    },
    {
     "data": {
      "text/markdown": [
       "Grad 3/4 Hepatitiden sieht man bei bis zu 8% unter Ipilimumab plus Nivolumab und maximal 2% unter den Monotherapien."
      ],
      "text/plain": [
       "<IPython.core.display.Markdown object>"
      ]
     },
     "metadata": {},
     "output_type": "display_data"
    },
    {
     "data": {
      "text/markdown": [
       "Grad 3 Hepatitiden/Grad 4 Hepatitiden sieht man bei bis zu 8% unter Ipilimumab plus Nivolumab und maximal 2% unter den Monotherapien."
      ],
      "text/plain": [
       "<IPython.core.display.Markdown object>"
      ]
     },
     "metadata": {},
     "output_type": "display_data"
    },
    {
     "data": {
      "text/html": [
       "<html><body><div>Grad 3<span style=\"background-color: lightgreen;\"> Hepatitiden</span>/<span style=\"background-color: lightgreen;\">Grad </span>4 Hepatitiden sieht man bei bis zu 8% unter Ipilimumab plus Nivolumab und maximal 2% unter den Monotherapien.</div></body></html>"
      ],
      "text/plain": [
       "<IPython.core.display.HTML object>"
      ]
     },
     "metadata": {},
     "output_type": "display_data"
    },
    {
     "data": {
      "application/vnd.jupyter.widget-view+json": {
       "model_id": "7a62a38234174dc4897b95d46c4efebf",
       "version_major": 2,
       "version_minor": 0
      },
      "text/plain": [
       "  0%|          | 0/1 [00:00<?, ?it/s]"
      ]
     },
     "metadata": {},
     "output_type": "display_data"
    },
    {
     "data": {
      "text/html": [
       "<div>\n",
       "<style scoped>\n",
       "    .dataframe tbody tr th:only-of-type {\n",
       "        vertical-align: middle;\n",
       "    }\n",
       "\n",
       "    .dataframe tbody tr th {\n",
       "        vertical-align: top;\n",
       "    }\n",
       "\n",
       "    .dataframe thead th {\n",
       "        text-align: right;\n",
       "    }\n",
       "</style>\n",
       "<table border=\"1\" class=\"dataframe\">\n",
       "  <thead>\n",
       "    <tr style=\"text-align: right;\">\n",
       "      <th></th>\n",
       "      <th>document</th>\n",
       "      <th>text</th>\n",
       "      <th>type</th>\n",
       "      <th>start</th>\n",
       "      <th>end</th>\n",
       "      <th>cui</th>\n",
       "      <th>tuis</th>\n",
       "      <th>canonical</th>\n",
       "      <th>linker</th>\n",
       "      <th>confidence</th>\n",
       "    </tr>\n",
       "  </thead>\n",
       "  <tbody>\n",
       "    <tr>\n",
       "      <th>0</th>\n",
       "      <td>07_malignes-melanom_0197_7</td>\n",
       "      <td>Grad 3/4 Hepatitiden</td>\n",
       "      <td>Diagnosis_or_Pathology</td>\n",
       "      <td>0</td>\n",
       "      <td>20</td>\n",
       "      <td>C1557117</td>\n",
       "      <td>[T033]</td>\n",
       "      <td>Grade 4 Viral Hepatitis, CTCAE</td>\n",
       "      <td>[ngram, sapbert]</td>\n",
       "      <td>0.063176</td>\n",
       "    </tr>\n",
       "    <tr>\n",
       "      <th>1</th>\n",
       "      <td>07_malignes-melanom_0197_7</td>\n",
       "      <td>Ipilimumab plus Nivolumab</td>\n",
       "      <td>Clinical_Drug</td>\n",
       "      <td>51</td>\n",
       "      <td>76</td>\n",
       "      <td>C4727545</td>\n",
       "      <td>[T061]</td>\n",
       "      <td>Ipilimumab/Nivolumab Regimen</td>\n",
       "      <td>[ngram, sapbert]</td>\n",
       "      <td>0.124392</td>\n",
       "    </tr>\n",
       "    <tr>\n",
       "      <th>2</th>\n",
       "      <td>07_malignes-melanom_0197_7</td>\n",
       "      <td>Monotherapien</td>\n",
       "      <td>Therapeutic</td>\n",
       "      <td>102</td>\n",
       "      <td>115</td>\n",
       "      <td>C4763675</td>\n",
       "      <td>[T061]</td>\n",
       "      <td>Single Agent Therapy</td>\n",
       "      <td>[ngram, sapbert]</td>\n",
       "      <td>0.076002</td>\n",
       "    </tr>\n",
       "  </tbody>\n",
       "</table>\n",
       "</div>"
      ],
      "text/plain": [
       "                     document                       text  \\\n",
       "0  07_malignes-melanom_0197_7       Grad 3/4 Hepatitiden   \n",
       "1  07_malignes-melanom_0197_7  Ipilimumab plus Nivolumab   \n",
       "2  07_malignes-melanom_0197_7              Monotherapien   \n",
       "\n",
       "                     type  start  end       cui    tuis  \\\n",
       "0  Diagnosis_or_Pathology      0   20  C1557117  [T033]   \n",
       "1           Clinical_Drug     51   76  C4727545  [T061]   \n",
       "2             Therapeutic    102  115  C4763675  [T061]   \n",
       "\n",
       "                        canonical            linker  confidence  \n",
       "0  Grade 4 Viral Hepatitis, CTCAE  [ngram, sapbert]    0.063176  \n",
       "1    Ipilimumab/Nivolumab Regimen  [ngram, sapbert]    0.124392  \n",
       "2            Single Agent Therapy  [ngram, sapbert]    0.076002  "
      ]
     },
     "metadata": {},
     "output_type": "display_data"
    },
    {
     "data": {
      "application/vnd.jupyter.widget-view+json": {
       "model_id": "c53eba5fe952455c9ed418a1c5141d4f",
       "version_major": 2,
       "version_minor": 0
      },
      "text/plain": [
       "  0%|          | 0/1 [00:00<?, ?it/s]"
      ]
     },
     "metadata": {},
     "output_type": "display_data"
    },
    {
     "data": {
      "text/html": [
       "<div>\n",
       "<style scoped>\n",
       "    .dataframe tbody tr th:only-of-type {\n",
       "        vertical-align: middle;\n",
       "    }\n",
       "\n",
       "    .dataframe tbody tr th {\n",
       "        vertical-align: top;\n",
       "    }\n",
       "\n",
       "    .dataframe thead th {\n",
       "        text-align: right;\n",
       "    }\n",
       "</style>\n",
       "<table border=\"1\" class=\"dataframe\">\n",
       "  <thead>\n",
       "    <tr style=\"text-align: right;\">\n",
       "      <th></th>\n",
       "      <th>document</th>\n",
       "      <th>text</th>\n",
       "      <th>type</th>\n",
       "      <th>start</th>\n",
       "      <th>end</th>\n",
       "      <th>cui</th>\n",
       "      <th>tuis</th>\n",
       "      <th>canonical</th>\n",
       "      <th>linker</th>\n",
       "      <th>confidence</th>\n",
       "    </tr>\n",
       "  </thead>\n",
       "  <tbody>\n",
       "    <tr>\n",
       "      <th>0</th>\n",
       "      <td>07_malignes-melanom_0197_7</td>\n",
       "      <td>Grad 3 Hepatitiden/Grad 4 Hepatitiden</td>\n",
       "      <td>Diagnosis_or_Pathology</td>\n",
       "      <td>0</td>\n",
       "      <td>37</td>\n",
       "      <td>C4686259</td>\n",
       "      <td>[T033]</td>\n",
       "      <td>Grade 3 Hepatic Pain, CTCAE</td>\n",
       "      <td>[sapbert]</td>\n",
       "      <td>0.063627</td>\n",
       "    </tr>\n",
       "    <tr>\n",
       "      <th>1</th>\n",
       "      <td>07_malignes-melanom_0197_7</td>\n",
       "      <td>Ipilimumab plus Nivolumab</td>\n",
       "      <td>Clinical_Drug</td>\n",
       "      <td>68</td>\n",
       "      <td>93</td>\n",
       "      <td>C4727545</td>\n",
       "      <td>[T061]</td>\n",
       "      <td>Ipilimumab/Nivolumab Regimen</td>\n",
       "      <td>[ngram, sapbert]</td>\n",
       "      <td>0.110924</td>\n",
       "    </tr>\n",
       "    <tr>\n",
       "      <th>2</th>\n",
       "      <td>07_malignes-melanom_0197_7</td>\n",
       "      <td>Monotherapien</td>\n",
       "      <td>Therapeutic</td>\n",
       "      <td>119</td>\n",
       "      <td>132</td>\n",
       "      <td>C4763675</td>\n",
       "      <td>[T061]</td>\n",
       "      <td>Single Agent Therapy</td>\n",
       "      <td>[ngram, sapbert]</td>\n",
       "      <td>0.077485</td>\n",
       "    </tr>\n",
       "  </tbody>\n",
       "</table>\n",
       "</div>"
      ],
      "text/plain": [
       "                     document                                   text  \\\n",
       "0  07_malignes-melanom_0197_7  Grad 3 Hepatitiden/Grad 4 Hepatitiden   \n",
       "1  07_malignes-melanom_0197_7              Ipilimumab plus Nivolumab   \n",
       "2  07_malignes-melanom_0197_7                          Monotherapien   \n",
       "\n",
       "                     type  start  end       cui    tuis  \\\n",
       "0  Diagnosis_or_Pathology      0   37  C4686259  [T033]   \n",
       "1           Clinical_Drug     68   93  C4727545  [T061]   \n",
       "2             Therapeutic    119  132  C4763675  [T061]   \n",
       "\n",
       "                      canonical            linker  confidence  \n",
       "0   Grade 3 Hepatic Pain, CTCAE         [sapbert]    0.063627  \n",
       "1  Ipilimumab/Nivolumab Regimen  [ngram, sapbert]    0.110924  \n",
       "2          Single Agent Therapy  [ngram, sapbert]    0.077485  "
      ]
     },
     "metadata": {},
     "output_type": "display_data"
    },
    {
     "name": "stdout",
     "output_type": "stream",
     "text": [
      "Difference 11\n"
     ]
    },
    {
     "data": {
      "text/markdown": [
       "Bei Grad 3/4 Transaminasenanstiegen unter zielgerichteten Therapien führt in der Regel eine Pausierung der Therapie zu einem Rückgang der Leberwerte."
      ],
      "text/plain": [
       "<IPython.core.display.Markdown object>"
      ]
     },
     "metadata": {},
     "output_type": "display_data"
    },
    {
     "data": {
      "text/markdown": [
       "Bei Grad 3 Transaminasenanstiegen/Grad 4 Transaminasenanstiegen unter zielgerichteten Therapien führt in der Regel eine Pausierung der Therapie zu einem Rückgang der Leberwerte."
      ],
      "text/plain": [
       "<IPython.core.display.Markdown object>"
      ]
     },
     "metadata": {},
     "output_type": "display_data"
    },
    {
     "data": {
      "text/html": [
       "<html><body><div>Bei Grad 3<span style=\"background-color: lightgreen;\"> Transaminasenanstiegen</span>/<span style=\"background-color: lightgreen;\">Grad </span>4 Transaminasenanstiegen unter zielgerichteten Therapien führt in der Regel eine Pausierung der Therapie zu einem Rückgang der Leberwerte.</div></body></html>"
      ],
      "text/plain": [
       "<IPython.core.display.HTML object>"
      ]
     },
     "metadata": {},
     "output_type": "display_data"
    },
    {
     "data": {
      "application/vnd.jupyter.widget-view+json": {
       "model_id": "3ef3d17b2ccb4ca79b2084128df3afe0",
       "version_major": 2,
       "version_minor": 0
      },
      "text/plain": [
       "  0%|          | 0/1 [00:00<?, ?it/s]"
      ]
     },
     "metadata": {},
     "output_type": "display_data"
    },
    {
     "data": {
      "text/html": [
       "<div>\n",
       "<style scoped>\n",
       "    .dataframe tbody tr th:only-of-type {\n",
       "        vertical-align: middle;\n",
       "    }\n",
       "\n",
       "    .dataframe tbody tr th {\n",
       "        vertical-align: top;\n",
       "    }\n",
       "\n",
       "    .dataframe thead th {\n",
       "        text-align: right;\n",
       "    }\n",
       "</style>\n",
       "<table border=\"1\" class=\"dataframe\">\n",
       "  <thead>\n",
       "    <tr style=\"text-align: right;\">\n",
       "      <th></th>\n",
       "      <th>document</th>\n",
       "      <th>text</th>\n",
       "      <th>type</th>\n",
       "      <th>start</th>\n",
       "      <th>end</th>\n",
       "      <th>cui</th>\n",
       "      <th>tuis</th>\n",
       "      <th>canonical</th>\n",
       "      <th>linker</th>\n",
       "      <th>confidence</th>\n",
       "    </tr>\n",
       "  </thead>\n",
       "  <tbody>\n",
       "    <tr>\n",
       "      <th>0</th>\n",
       "      <td>07_malignes-melanom_0197_22</td>\n",
       "      <td>Grad 3/4 Transaminasenanstiegen unter zielgeri...</td>\n",
       "      <td>Diagnosis_or_Pathology</td>\n",
       "      <td>4</td>\n",
       "      <td>67</td>\n",
       "      <td>C0438717</td>\n",
       "      <td>[T033]</td>\n",
       "      <td>Transaminasen erhoeht</td>\n",
       "      <td>[ngram, sapbert]</td>\n",
       "      <td>0.067148</td>\n",
       "    </tr>\n",
       "    <tr>\n",
       "      <th>1</th>\n",
       "      <td>07_malignes-melanom_0197_22</td>\n",
       "      <td>zielgerichteten Therapien</td>\n",
       "      <td>Therapeutic</td>\n",
       "      <td>42</td>\n",
       "      <td>67</td>\n",
       "      <td>C2699893</td>\n",
       "      <td>[T061]</td>\n",
       "      <td>Molecular Targeted Therapy</td>\n",
       "      <td>[ngram, sapbert]</td>\n",
       "      <td>0.073418</td>\n",
       "    </tr>\n",
       "    <tr>\n",
       "      <th>2</th>\n",
       "      <td>07_malignes-melanom_0197_22</td>\n",
       "      <td>Pausierung der Therapie</td>\n",
       "      <td>Therapeutic</td>\n",
       "      <td>92</td>\n",
       "      <td>115</td>\n",
       "      <td>C0444921</td>\n",
       "      <td>[T079]</td>\n",
       "      <td>Dauer der Therapie</td>\n",
       "      <td>[ngram, sapbert]</td>\n",
       "      <td>0.065861</td>\n",
       "    </tr>\n",
       "    <tr>\n",
       "      <th>3</th>\n",
       "      <td>07_malignes-melanom_0197_22</td>\n",
       "      <td>Rückgang der Leberwerte</td>\n",
       "      <td>Other_Finding</td>\n",
       "      <td>125</td>\n",
       "      <td>148</td>\n",
       "      <td>C0857338</td>\n",
       "      <td>[T033]</td>\n",
       "      <td>Entgleisung der Leberwerte</td>\n",
       "      <td>[ngram, sapbert]</td>\n",
       "      <td>0.075002</td>\n",
       "    </tr>\n",
       "  </tbody>\n",
       "</table>\n",
       "</div>"
      ],
      "text/plain": [
       "                      document  \\\n",
       "0  07_malignes-melanom_0197_22   \n",
       "1  07_malignes-melanom_0197_22   \n",
       "2  07_malignes-melanom_0197_22   \n",
       "3  07_malignes-melanom_0197_22   \n",
       "\n",
       "                                                text                    type  \\\n",
       "0  Grad 3/4 Transaminasenanstiegen unter zielgeri...  Diagnosis_or_Pathology   \n",
       "1                          zielgerichteten Therapien             Therapeutic   \n",
       "2                            Pausierung der Therapie             Therapeutic   \n",
       "3                            Rückgang der Leberwerte           Other_Finding   \n",
       "\n",
       "   start  end       cui    tuis                   canonical            linker  \\\n",
       "0      4   67  C0438717  [T033]       Transaminasen erhoeht  [ngram, sapbert]   \n",
       "1     42   67  C2699893  [T061]  Molecular Targeted Therapy  [ngram, sapbert]   \n",
       "2     92  115  C0444921  [T079]          Dauer der Therapie  [ngram, sapbert]   \n",
       "3    125  148  C0857338  [T033]  Entgleisung der Leberwerte  [ngram, sapbert]   \n",
       "\n",
       "   confidence  \n",
       "0    0.067148  \n",
       "1    0.073418  \n",
       "2    0.065861  \n",
       "3    0.075002  "
      ]
     },
     "metadata": {},
     "output_type": "display_data"
    },
    {
     "data": {
      "application/vnd.jupyter.widget-view+json": {
       "model_id": "985979ec68274fc787ec0b057280fd82",
       "version_major": 2,
       "version_minor": 0
      },
      "text/plain": [
       "  0%|          | 0/1 [00:00<?, ?it/s]"
      ]
     },
     "metadata": {},
     "output_type": "display_data"
    },
    {
     "data": {
      "text/html": [
       "<div>\n",
       "<style scoped>\n",
       "    .dataframe tbody tr th:only-of-type {\n",
       "        vertical-align: middle;\n",
       "    }\n",
       "\n",
       "    .dataframe tbody tr th {\n",
       "        vertical-align: top;\n",
       "    }\n",
       "\n",
       "    .dataframe thead th {\n",
       "        text-align: right;\n",
       "    }\n",
       "</style>\n",
       "<table border=\"1\" class=\"dataframe\">\n",
       "  <thead>\n",
       "    <tr style=\"text-align: right;\">\n",
       "      <th></th>\n",
       "      <th>document</th>\n",
       "      <th>text</th>\n",
       "      <th>type</th>\n",
       "      <th>start</th>\n",
       "      <th>end</th>\n",
       "      <th>cui</th>\n",
       "      <th>tuis</th>\n",
       "      <th>canonical</th>\n",
       "      <th>linker</th>\n",
       "      <th>confidence</th>\n",
       "    </tr>\n",
       "  </thead>\n",
       "  <tbody>\n",
       "    <tr>\n",
       "      <th>0</th>\n",
       "      <td>07_malignes-melanom_0197_22</td>\n",
       "      <td>zielgerichteten Therapien</td>\n",
       "      <td>Therapeutic</td>\n",
       "      <td>70</td>\n",
       "      <td>95</td>\n",
       "      <td>C2699893</td>\n",
       "      <td>[T061]</td>\n",
       "      <td>Molecular Targeted Therapy</td>\n",
       "      <td>[ngram, sapbert]</td>\n",
       "      <td>0.073634</td>\n",
       "    </tr>\n",
       "    <tr>\n",
       "      <th>1</th>\n",
       "      <td>07_malignes-melanom_0197_22</td>\n",
       "      <td>Pausierung der Therapie</td>\n",
       "      <td>Therapeutic</td>\n",
       "      <td>120</td>\n",
       "      <td>143</td>\n",
       "      <td>C0444921</td>\n",
       "      <td>[T079]</td>\n",
       "      <td>Dauer der Therapie</td>\n",
       "      <td>[ngram, sapbert]</td>\n",
       "      <td>0.067113</td>\n",
       "    </tr>\n",
       "    <tr>\n",
       "      <th>2</th>\n",
       "      <td>07_malignes-melanom_0197_22</td>\n",
       "      <td>Rückgang der Leberwerte</td>\n",
       "      <td>Other_Finding</td>\n",
       "      <td>153</td>\n",
       "      <td>176</td>\n",
       "      <td>C0857338</td>\n",
       "      <td>[T033]</td>\n",
       "      <td>Entgleisung der Leberwerte</td>\n",
       "      <td>[ngram, sapbert]</td>\n",
       "      <td>0.080237</td>\n",
       "    </tr>\n",
       "  </tbody>\n",
       "</table>\n",
       "</div>"
      ],
      "text/plain": [
       "                      document                       text           type  \\\n",
       "0  07_malignes-melanom_0197_22  zielgerichteten Therapien    Therapeutic   \n",
       "1  07_malignes-melanom_0197_22    Pausierung der Therapie    Therapeutic   \n",
       "2  07_malignes-melanom_0197_22    Rückgang der Leberwerte  Other_Finding   \n",
       "\n",
       "   start  end       cui    tuis                   canonical            linker  \\\n",
       "0     70   95  C2699893  [T061]  Molecular Targeted Therapy  [ngram, sapbert]   \n",
       "1    120  143  C0444921  [T079]          Dauer der Therapie  [ngram, sapbert]   \n",
       "2    153  176  C0857338  [T033]  Entgleisung der Leberwerte  [ngram, sapbert]   \n",
       "\n",
       "   confidence  \n",
       "0    0.073634  \n",
       "1    0.067113  \n",
       "2    0.080237  "
      ]
     },
     "metadata": {},
     "output_type": "display_data"
    },
    {
     "name": "stdout",
     "output_type": "stream",
     "text": [
      "Difference 12\n"
     ]
    },
    {
     "data": {
      "text/markdown": [
       "Sie treten unter zielgerichteten und Immuntherapien auf und unterscheiden sich in Ihrem Spektrum und Ihrer Therapiebedürftigkeit."
      ],
      "text/plain": [
       "<IPython.core.display.Markdown object>"
      ]
     },
     "metadata": {},
     "output_type": "display_data"
    },
    {
     "data": {
      "text/markdown": [
       "Sie treten unter zielgerichteten Therapien und Immuntherapien auf und unterscheiden sich in Ihrem Spektrum und Ihrer Therapiebedürftigkeit."
      ],
      "text/plain": [
       "<IPython.core.display.Markdown object>"
      ]
     },
     "metadata": {},
     "output_type": "display_data"
    },
    {
     "data": {
      "text/html": [
       "<html><body><div>Sie treten unter zielgerichtet<span style=\"background-color: lightgreen;\">en Therapi</span>en und Immuntherapien auf und unterscheiden sich in Ihrem Spektrum und Ihrer Therapiebedürftigkeit.</div></body></html>"
      ],
      "text/plain": [
       "<IPython.core.display.HTML object>"
      ]
     },
     "metadata": {},
     "output_type": "display_data"
    },
    {
     "data": {
      "application/vnd.jupyter.widget-view+json": {
       "model_id": "c79d3b3e36ae45ed8cf170510e1334db",
       "version_major": 2,
       "version_minor": 0
      },
      "text/plain": [
       "  0%|          | 0/1 [00:00<?, ?it/s]"
      ]
     },
     "metadata": {},
     "output_type": "display_data"
    },
    {
     "data": {
      "text/html": [
       "<div>\n",
       "<style scoped>\n",
       "    .dataframe tbody tr th:only-of-type {\n",
       "        vertical-align: middle;\n",
       "    }\n",
       "\n",
       "    .dataframe tbody tr th {\n",
       "        vertical-align: top;\n",
       "    }\n",
       "\n",
       "    .dataframe thead th {\n",
       "        text-align: right;\n",
       "    }\n",
       "</style>\n",
       "<table border=\"1\" class=\"dataframe\">\n",
       "  <thead>\n",
       "    <tr style=\"text-align: right;\">\n",
       "      <th></th>\n",
       "      <th>document</th>\n",
       "      <th>text</th>\n",
       "      <th>type</th>\n",
       "      <th>start</th>\n",
       "      <th>end</th>\n",
       "      <th>cui</th>\n",
       "      <th>tuis</th>\n",
       "      <th>canonical</th>\n",
       "      <th>linker</th>\n",
       "      <th>confidence</th>\n",
       "    </tr>\n",
       "  </thead>\n",
       "  <tbody>\n",
       "    <tr>\n",
       "      <th>0</th>\n",
       "      <td>07_malignes-melanom_0207_3</td>\n",
       "      <td>zielgerichteten</td>\n",
       "      <td>Therapeutic</td>\n",
       "      <td>17</td>\n",
       "      <td>32</td>\n",
       "      <td>C2699893</td>\n",
       "      <td>[T061]</td>\n",
       "      <td>Molecular Targeted Therapy</td>\n",
       "      <td>[ngram]</td>\n",
       "      <td>0.070853</td>\n",
       "    </tr>\n",
       "    <tr>\n",
       "      <th>1</th>\n",
       "      <td>07_malignes-melanom_0207_3</td>\n",
       "      <td>Immuntherapien</td>\n",
       "      <td>Therapeutic</td>\n",
       "      <td>37</td>\n",
       "      <td>51</td>\n",
       "      <td>C0021083</td>\n",
       "      <td>[T061]</td>\n",
       "      <td>Immuntherapie</td>\n",
       "      <td>[ngram, sapbert]</td>\n",
       "      <td>0.138564</td>\n",
       "    </tr>\n",
       "    <tr>\n",
       "      <th>2</th>\n",
       "      <td>07_malignes-melanom_0207_3</td>\n",
       "      <td>Therapiebedürftigkeit</td>\n",
       "      <td>Other_Finding</td>\n",
       "      <td>107</td>\n",
       "      <td>128</td>\n",
       "      <td>C0013893</td>\n",
       "      <td>[T058]</td>\n",
       "      <td>Behandlungsbedürftigkeit, Begutachtung</td>\n",
       "      <td>[ngram, sapbert]</td>\n",
       "      <td>0.071025</td>\n",
       "    </tr>\n",
       "  </tbody>\n",
       "</table>\n",
       "</div>"
      ],
      "text/plain": [
       "                     document                   text           type  start  \\\n",
       "0  07_malignes-melanom_0207_3        zielgerichteten    Therapeutic     17   \n",
       "1  07_malignes-melanom_0207_3         Immuntherapien    Therapeutic     37   \n",
       "2  07_malignes-melanom_0207_3  Therapiebedürftigkeit  Other_Finding    107   \n",
       "\n",
       "   end       cui    tuis                               canonical  \\\n",
       "0   32  C2699893  [T061]              Molecular Targeted Therapy   \n",
       "1   51  C0021083  [T061]                           Immuntherapie   \n",
       "2  128  C0013893  [T058]  Behandlungsbedürftigkeit, Begutachtung   \n",
       "\n",
       "             linker  confidence  \n",
       "0           [ngram]    0.070853  \n",
       "1  [ngram, sapbert]    0.138564  \n",
       "2  [ngram, sapbert]    0.071025  "
      ]
     },
     "metadata": {},
     "output_type": "display_data"
    },
    {
     "data": {
      "application/vnd.jupyter.widget-view+json": {
       "model_id": "c3fcee8089824b81a8ab74bead788b96",
       "version_major": 2,
       "version_minor": 0
      },
      "text/plain": [
       "  0%|          | 0/1 [00:00<?, ?it/s]"
      ]
     },
     "metadata": {},
     "output_type": "display_data"
    },
    {
     "data": {
      "text/html": [
       "<div>\n",
       "<style scoped>\n",
       "    .dataframe tbody tr th:only-of-type {\n",
       "        vertical-align: middle;\n",
       "    }\n",
       "\n",
       "    .dataframe tbody tr th {\n",
       "        vertical-align: top;\n",
       "    }\n",
       "\n",
       "    .dataframe thead th {\n",
       "        text-align: right;\n",
       "    }\n",
       "</style>\n",
       "<table border=\"1\" class=\"dataframe\">\n",
       "  <thead>\n",
       "    <tr style=\"text-align: right;\">\n",
       "      <th></th>\n",
       "      <th>document</th>\n",
       "      <th>text</th>\n",
       "      <th>type</th>\n",
       "      <th>start</th>\n",
       "      <th>end</th>\n",
       "      <th>cui</th>\n",
       "      <th>tuis</th>\n",
       "      <th>canonical</th>\n",
       "      <th>linker</th>\n",
       "      <th>confidence</th>\n",
       "    </tr>\n",
       "  </thead>\n",
       "  <tbody>\n",
       "    <tr>\n",
       "      <th>0</th>\n",
       "      <td>07_malignes-melanom_0207_3</td>\n",
       "      <td>zielgerichteten Therapien</td>\n",
       "      <td>Therapeutic</td>\n",
       "      <td>17</td>\n",
       "      <td>42</td>\n",
       "      <td>C2699893</td>\n",
       "      <td>[T061]</td>\n",
       "      <td>Molecular Targeted Therapy</td>\n",
       "      <td>[ngram, sapbert]</td>\n",
       "      <td>0.074096</td>\n",
       "    </tr>\n",
       "    <tr>\n",
       "      <th>1</th>\n",
       "      <td>07_malignes-melanom_0207_3</td>\n",
       "      <td>Immuntherapien</td>\n",
       "      <td>Therapeutic</td>\n",
       "      <td>47</td>\n",
       "      <td>61</td>\n",
       "      <td>C0021083</td>\n",
       "      <td>[T061]</td>\n",
       "      <td>Immuntherapie</td>\n",
       "      <td>[ngram, sapbert]</td>\n",
       "      <td>0.139869</td>\n",
       "    </tr>\n",
       "    <tr>\n",
       "      <th>2</th>\n",
       "      <td>07_malignes-melanom_0207_3</td>\n",
       "      <td>Therapiebedürftigkeit</td>\n",
       "      <td>Other_Finding</td>\n",
       "      <td>117</td>\n",
       "      <td>138</td>\n",
       "      <td>C0013893</td>\n",
       "      <td>[T058]</td>\n",
       "      <td>Behandlungsbedürftigkeit, Begutachtung</td>\n",
       "      <td>[ngram, sapbert]</td>\n",
       "      <td>0.068488</td>\n",
       "    </tr>\n",
       "  </tbody>\n",
       "</table>\n",
       "</div>"
      ],
      "text/plain": [
       "                     document                       text           type  \\\n",
       "0  07_malignes-melanom_0207_3  zielgerichteten Therapien    Therapeutic   \n",
       "1  07_malignes-melanom_0207_3             Immuntherapien    Therapeutic   \n",
       "2  07_malignes-melanom_0207_3      Therapiebedürftigkeit  Other_Finding   \n",
       "\n",
       "   start  end       cui    tuis                               canonical  \\\n",
       "0     17   42  C2699893  [T061]              Molecular Targeted Therapy   \n",
       "1     47   61  C0021083  [T061]                           Immuntherapie   \n",
       "2    117  138  C0013893  [T058]  Behandlungsbedürftigkeit, Begutachtung   \n",
       "\n",
       "             linker  confidence  \n",
       "0  [ngram, sapbert]    0.074096  \n",
       "1  [ngram, sapbert]    0.139869  \n",
       "2  [ngram, sapbert]    0.068488  "
      ]
     },
     "metadata": {},
     "output_type": "display_data"
    },
    {
     "name": "stdout",
     "output_type": "stream",
     "text": [
      "Difference 13\n"
     ]
    },
    {
     "data": {
      "text/markdown": [
       "Zielgerichtete Therapien wie die BRAF- und die MEK-Inhibitoren induzieren neben Reizüberleitungsstörungen eine Reduktion der Ejektionsfraktion [REF]."
      ],
      "text/plain": [
       "<IPython.core.display.Markdown object>"
      ]
     },
     "metadata": {},
     "output_type": "display_data"
    },
    {
     "data": {
      "text/markdown": [
       "Zielgerichtete Therapien wie die BRAF-Inhibitoren und die MEK-Inhibitoren induzieren neben Reizüberleitungsstörungen eine Reduktion der Ejektionsfraktion [REF]."
      ],
      "text/plain": [
       "<IPython.core.display.Markdown object>"
      ]
     },
     "metadata": {},
     "output_type": "display_data"
    },
    {
     "data": {
      "text/html": [
       "<html><body><div>Zielgerichtete Therapien wie die BRAF-<span style=\"background-color: lightgreen;\">Inhibitoren</span> und die MEK-Inhibitoren induzieren neben Reizüberleitungsstörungen eine Reduktion der Ejektionsfraktion [REF].</div></body></html>"
      ],
      "text/plain": [
       "<IPython.core.display.HTML object>"
      ]
     },
     "metadata": {},
     "output_type": "display_data"
    },
    {
     "data": {
      "application/vnd.jupyter.widget-view+json": {
       "model_id": "5121a4a4f0494f529f143f9d1b6074eb",
       "version_major": 2,
       "version_minor": 0
      },
      "text/plain": [
       "  0%|          | 0/1 [00:00<?, ?it/s]"
      ]
     },
     "metadata": {},
     "output_type": "display_data"
    },
    {
     "data": {
      "text/html": [
       "<div>\n",
       "<style scoped>\n",
       "    .dataframe tbody tr th:only-of-type {\n",
       "        vertical-align: middle;\n",
       "    }\n",
       "\n",
       "    .dataframe tbody tr th {\n",
       "        vertical-align: top;\n",
       "    }\n",
       "\n",
       "    .dataframe thead th {\n",
       "        text-align: right;\n",
       "    }\n",
       "</style>\n",
       "<table border=\"1\" class=\"dataframe\">\n",
       "  <thead>\n",
       "    <tr style=\"text-align: right;\">\n",
       "      <th></th>\n",
       "      <th>document</th>\n",
       "      <th>text</th>\n",
       "      <th>type</th>\n",
       "      <th>start</th>\n",
       "      <th>end</th>\n",
       "      <th>cui</th>\n",
       "      <th>tuis</th>\n",
       "      <th>canonical</th>\n",
       "      <th>linker</th>\n",
       "      <th>confidence</th>\n",
       "    </tr>\n",
       "  </thead>\n",
       "  <tbody>\n",
       "    <tr>\n",
       "      <th>0</th>\n",
       "      <td>07_malignes-melanom_0207_4</td>\n",
       "      <td>Zielgerichtete Therapien</td>\n",
       "      <td>Therapeutic</td>\n",
       "      <td>0</td>\n",
       "      <td>24</td>\n",
       "      <td>C2699893</td>\n",
       "      <td>[T061]</td>\n",
       "      <td>Molecular Targeted Therapy</td>\n",
       "      <td>[ngram, sapbert]</td>\n",
       "      <td>0.071887</td>\n",
       "    </tr>\n",
       "    <tr>\n",
       "      <th>1</th>\n",
       "      <td>07_malignes-melanom_0207_4</td>\n",
       "      <td>BRAF-</td>\n",
       "      <td>Clinical_Drug</td>\n",
       "      <td>33</td>\n",
       "      <td>38</td>\n",
       "      <td>C1259929</td>\n",
       "      <td>[T116, T123]</td>\n",
       "      <td>94 kDa B-raf Protein</td>\n",
       "      <td>[ngram, sapbert]</td>\n",
       "      <td>0.077549</td>\n",
       "    </tr>\n",
       "    <tr>\n",
       "      <th>2</th>\n",
       "      <td>07_malignes-melanom_0207_4</td>\n",
       "      <td>MEK-Inhibitoren</td>\n",
       "      <td>Clinical_Drug</td>\n",
       "      <td>47</td>\n",
       "      <td>62</td>\n",
       "      <td>C2347168</td>\n",
       "      <td>[T121]</td>\n",
       "      <td>MAPKK Inhibitor</td>\n",
       "      <td>[ngram, sapbert]</td>\n",
       "      <td>0.101331</td>\n",
       "    </tr>\n",
       "    <tr>\n",
       "      <th>3</th>\n",
       "      <td>07_malignes-melanom_0207_4</td>\n",
       "      <td>Reizüberleitungsstörungen</td>\n",
       "      <td>Diagnosis_or_Pathology</td>\n",
       "      <td>80</td>\n",
       "      <td>105</td>\n",
       "      <td>C0264886</td>\n",
       "      <td>[T047]</td>\n",
       "      <td>Kardiale Erregungsleitungssystem-Erkrankung</td>\n",
       "      <td>[ngram, sapbert]</td>\n",
       "      <td>0.149191</td>\n",
       "    </tr>\n",
       "    <tr>\n",
       "      <th>4</th>\n",
       "      <td>07_malignes-melanom_0207_4</td>\n",
       "      <td>Reduktion der Ejektionsfraktion</td>\n",
       "      <td>Diagnosis_or_Pathology</td>\n",
       "      <td>111</td>\n",
       "      <td>142</td>\n",
       "      <td>C0743400</td>\n",
       "      <td>[T033]</td>\n",
       "      <td>Auswurffraktion verkleinert</td>\n",
       "      <td>[ngram, sapbert]</td>\n",
       "      <td>0.072382</td>\n",
       "    </tr>\n",
       "  </tbody>\n",
       "</table>\n",
       "</div>"
      ],
      "text/plain": [
       "                     document                             text  \\\n",
       "0  07_malignes-melanom_0207_4         Zielgerichtete Therapien   \n",
       "1  07_malignes-melanom_0207_4                            BRAF-   \n",
       "2  07_malignes-melanom_0207_4                  MEK-Inhibitoren   \n",
       "3  07_malignes-melanom_0207_4        Reizüberleitungsstörungen   \n",
       "4  07_malignes-melanom_0207_4  Reduktion der Ejektionsfraktion   \n",
       "\n",
       "                     type  start  end       cui          tuis  \\\n",
       "0             Therapeutic      0   24  C2699893        [T061]   \n",
       "1           Clinical_Drug     33   38  C1259929  [T116, T123]   \n",
       "2           Clinical_Drug     47   62  C2347168        [T121]   \n",
       "3  Diagnosis_or_Pathology     80  105  C0264886        [T047]   \n",
       "4  Diagnosis_or_Pathology    111  142  C0743400        [T033]   \n",
       "\n",
       "                                     canonical            linker  confidence  \n",
       "0                   Molecular Targeted Therapy  [ngram, sapbert]    0.071887  \n",
       "1                         94 kDa B-raf Protein  [ngram, sapbert]    0.077549  \n",
       "2                              MAPKK Inhibitor  [ngram, sapbert]    0.101331  \n",
       "3  Kardiale Erregungsleitungssystem-Erkrankung  [ngram, sapbert]    0.149191  \n",
       "4                  Auswurffraktion verkleinert  [ngram, sapbert]    0.072382  "
      ]
     },
     "metadata": {},
     "output_type": "display_data"
    },
    {
     "data": {
      "application/vnd.jupyter.widget-view+json": {
       "model_id": "b56521eda58b4ba1aa722a25509dea9f",
       "version_major": 2,
       "version_minor": 0
      },
      "text/plain": [
       "  0%|          | 0/1 [00:00<?, ?it/s]"
      ]
     },
     "metadata": {},
     "output_type": "display_data"
    },
    {
     "data": {
      "text/html": [
       "<div>\n",
       "<style scoped>\n",
       "    .dataframe tbody tr th:only-of-type {\n",
       "        vertical-align: middle;\n",
       "    }\n",
       "\n",
       "    .dataframe tbody tr th {\n",
       "        vertical-align: top;\n",
       "    }\n",
       "\n",
       "    .dataframe thead th {\n",
       "        text-align: right;\n",
       "    }\n",
       "</style>\n",
       "<table border=\"1\" class=\"dataframe\">\n",
       "  <thead>\n",
       "    <tr style=\"text-align: right;\">\n",
       "      <th></th>\n",
       "      <th>document</th>\n",
       "      <th>text</th>\n",
       "      <th>type</th>\n",
       "      <th>start</th>\n",
       "      <th>end</th>\n",
       "      <th>cui</th>\n",
       "      <th>tuis</th>\n",
       "      <th>canonical</th>\n",
       "      <th>linker</th>\n",
       "      <th>confidence</th>\n",
       "    </tr>\n",
       "  </thead>\n",
       "  <tbody>\n",
       "    <tr>\n",
       "      <th>0</th>\n",
       "      <td>07_malignes-melanom_0207_4</td>\n",
       "      <td>Zielgerichtete Therapien</td>\n",
       "      <td>Therapeutic</td>\n",
       "      <td>0</td>\n",
       "      <td>24</td>\n",
       "      <td>C2699893</td>\n",
       "      <td>[T061]</td>\n",
       "      <td>Molecular Targeted Therapy</td>\n",
       "      <td>[ngram, sapbert]</td>\n",
       "      <td>0.072258</td>\n",
       "    </tr>\n",
       "    <tr>\n",
       "      <th>1</th>\n",
       "      <td>07_malignes-melanom_0207_4</td>\n",
       "      <td>BRAF-Inhibitoren</td>\n",
       "      <td>Clinical_Drug</td>\n",
       "      <td>33</td>\n",
       "      <td>49</td>\n",
       "      <td>C3838813</td>\n",
       "      <td>[T116, T121]</td>\n",
       "      <td>B-Raf inhibitor</td>\n",
       "      <td>[ngram, sapbert]</td>\n",
       "      <td>0.102607</td>\n",
       "    </tr>\n",
       "    <tr>\n",
       "      <th>2</th>\n",
       "      <td>07_malignes-melanom_0207_4</td>\n",
       "      <td>MEK-Inhibitoren</td>\n",
       "      <td>Clinical_Drug</td>\n",
       "      <td>58</td>\n",
       "      <td>73</td>\n",
       "      <td>C2347168</td>\n",
       "      <td>[T121]</td>\n",
       "      <td>MAPKK Inhibitor</td>\n",
       "      <td>[ngram, sapbert]</td>\n",
       "      <td>0.100303</td>\n",
       "    </tr>\n",
       "    <tr>\n",
       "      <th>3</th>\n",
       "      <td>07_malignes-melanom_0207_4</td>\n",
       "      <td>Reizüberleitungsstörungen</td>\n",
       "      <td>Diagnosis_or_Pathology</td>\n",
       "      <td>91</td>\n",
       "      <td>116</td>\n",
       "      <td>C0264886</td>\n",
       "      <td>[T047]</td>\n",
       "      <td>Kardiale Erregungsleitungssystem-Erkrankung</td>\n",
       "      <td>[ngram, sapbert]</td>\n",
       "      <td>0.126522</td>\n",
       "    </tr>\n",
       "    <tr>\n",
       "      <th>4</th>\n",
       "      <td>07_malignes-melanom_0207_4</td>\n",
       "      <td>Reduktion der Ejektionsfraktion</td>\n",
       "      <td>Diagnosis_or_Pathology</td>\n",
       "      <td>122</td>\n",
       "      <td>153</td>\n",
       "      <td>C0743400</td>\n",
       "      <td>[T033]</td>\n",
       "      <td>Auswurffraktion verkleinert</td>\n",
       "      <td>[ngram, sapbert]</td>\n",
       "      <td>0.073114</td>\n",
       "    </tr>\n",
       "  </tbody>\n",
       "</table>\n",
       "</div>"
      ],
      "text/plain": [
       "                     document                             text  \\\n",
       "0  07_malignes-melanom_0207_4         Zielgerichtete Therapien   \n",
       "1  07_malignes-melanom_0207_4                 BRAF-Inhibitoren   \n",
       "2  07_malignes-melanom_0207_4                  MEK-Inhibitoren   \n",
       "3  07_malignes-melanom_0207_4        Reizüberleitungsstörungen   \n",
       "4  07_malignes-melanom_0207_4  Reduktion der Ejektionsfraktion   \n",
       "\n",
       "                     type  start  end       cui          tuis  \\\n",
       "0             Therapeutic      0   24  C2699893        [T061]   \n",
       "1           Clinical_Drug     33   49  C3838813  [T116, T121]   \n",
       "2           Clinical_Drug     58   73  C2347168        [T121]   \n",
       "3  Diagnosis_or_Pathology     91  116  C0264886        [T047]   \n",
       "4  Diagnosis_or_Pathology    122  153  C0743400        [T033]   \n",
       "\n",
       "                                     canonical            linker  confidence  \n",
       "0                   Molecular Targeted Therapy  [ngram, sapbert]    0.072258  \n",
       "1                              B-Raf inhibitor  [ngram, sapbert]    0.102607  \n",
       "2                              MAPKK Inhibitor  [ngram, sapbert]    0.100303  \n",
       "3  Kardiale Erregungsleitungssystem-Erkrankung  [ngram, sapbert]    0.126522  \n",
       "4                  Auswurffraktion verkleinert  [ngram, sapbert]    0.073114  "
      ]
     },
     "metadata": {},
     "output_type": "display_data"
    },
    {
     "name": "stdout",
     "output_type": "stream",
     "text": [
      "Difference 14\n"
     ]
    },
    {
     "data": {
      "text/markdown": [
       "Unter Immuntherapien mit anti-CTLA4 und anti-PD1 Antikörper zeigten sich Myokarditiden, Perikarditiden, Perikardtamponade, Kardiomyopathie, Herzversagen, Reizleitungsstörungen, Myokardinfarkt bzw. kardiale Ischämie und Myokardfibrose [REF]."
      ],
      "text/plain": [
       "<IPython.core.display.Markdown object>"
      ]
     },
     "metadata": {},
     "output_type": "display_data"
    },
    {
     "data": {
      "text/markdown": [
       "Unter Immuntherapien mit anti-CTLA4 Antikörper und anti-PD1 Antikörper zeigten sich Myokarditiden, Perikarditiden, Perikardtamponade, Kardiomyopathie, Herzversagen, Reizleitungsstörungen, Myokardinfarkt bzw. kardiale Ischämie und Myokardfibrose [REF]."
      ],
      "text/plain": [
       "<IPython.core.display.Markdown object>"
      ]
     },
     "metadata": {},
     "output_type": "display_data"
    },
    {
     "data": {
      "text/html": [
       "<html><body><div>Unter Immuntherapien mit anti-CTLA4 <span style=\"background-color: lightgreen;\">Antikörper </span>und anti-PD1 Antikörper zeigten sich Myokarditiden, Perikarditiden, Perikardtamponade, Kardiomyopathie, Herzversagen, Reizleitungsstörungen, Myokardinfarkt bzw. kardiale Ischämie und Myokardfibrose [REF].</div></body></html>"
      ],
      "text/plain": [
       "<IPython.core.display.HTML object>"
      ]
     },
     "metadata": {},
     "output_type": "display_data"
    },
    {
     "data": {
      "application/vnd.jupyter.widget-view+json": {
       "model_id": "3d3a45ade770443db88af70a9076fb97",
       "version_major": 2,
       "version_minor": 0
      },
      "text/plain": [
       "  0%|          | 0/1 [00:00<?, ?it/s]"
      ]
     },
     "metadata": {},
     "output_type": "display_data"
    },
    {
     "data": {
      "text/html": [
       "<div>\n",
       "<style scoped>\n",
       "    .dataframe tbody tr th:only-of-type {\n",
       "        vertical-align: middle;\n",
       "    }\n",
       "\n",
       "    .dataframe tbody tr th {\n",
       "        vertical-align: top;\n",
       "    }\n",
       "\n",
       "    .dataframe thead th {\n",
       "        text-align: right;\n",
       "    }\n",
       "</style>\n",
       "<table border=\"1\" class=\"dataframe\">\n",
       "  <thead>\n",
       "    <tr style=\"text-align: right;\">\n",
       "      <th></th>\n",
       "      <th>document</th>\n",
       "      <th>text</th>\n",
       "      <th>type</th>\n",
       "      <th>start</th>\n",
       "      <th>end</th>\n",
       "      <th>cui</th>\n",
       "      <th>tuis</th>\n",
       "      <th>canonical</th>\n",
       "      <th>linker</th>\n",
       "      <th>confidence</th>\n",
       "    </tr>\n",
       "  </thead>\n",
       "  <tbody>\n",
       "    <tr>\n",
       "      <th>0</th>\n",
       "      <td>07_malignes-melanom_0207_9</td>\n",
       "      <td>Immuntherapien mit anti-CTLA4 und anti-PD1 Ant...</td>\n",
       "      <td>Therapeutic</td>\n",
       "      <td>6</td>\n",
       "      <td>59</td>\n",
       "      <td>C1367202</td>\n",
       "      <td>[T116, T121, T129]</td>\n",
       "      <td>Ipilimumab</td>\n",
       "      <td>[sapbert]</td>\n",
       "      <td>0.064055</td>\n",
       "    </tr>\n",
       "    <tr>\n",
       "      <th>1</th>\n",
       "      <td>07_malignes-melanom_0207_9</td>\n",
       "      <td>anti-CTLA4</td>\n",
       "      <td>Clinical_Drug</td>\n",
       "      <td>25</td>\n",
       "      <td>35</td>\n",
       "      <td>C4289973</td>\n",
       "      <td>[T116]</td>\n",
       "      <td>Anti-CTLA-4 Monoclonal Antibody</td>\n",
       "      <td>[ngram, sapbert]</td>\n",
       "      <td>0.069021</td>\n",
       "    </tr>\n",
       "    <tr>\n",
       "      <th>2</th>\n",
       "      <td>07_malignes-melanom_0207_9</td>\n",
       "      <td>anti-CTLA4 und anti-PD1 Antikörper</td>\n",
       "      <td>Clinical_Drug</td>\n",
       "      <td>25</td>\n",
       "      <td>59</td>\n",
       "      <td>C4289973</td>\n",
       "      <td>[T116]</td>\n",
       "      <td>Anti-CTLA-4 Monoclonal Antibody</td>\n",
       "      <td>[ngram, sapbert]</td>\n",
       "      <td>0.065991</td>\n",
       "    </tr>\n",
       "    <tr>\n",
       "      <th>3</th>\n",
       "      <td>07_malignes-melanom_0207_9</td>\n",
       "      <td>anti-PD1 Antikörper</td>\n",
       "      <td>Clinical_Drug</td>\n",
       "      <td>40</td>\n",
       "      <td>59</td>\n",
       "      <td>C4289970</td>\n",
       "      <td>[T116, T121, T129]</td>\n",
       "      <td>Anti-PD1 Monoclonal Antibody</td>\n",
       "      <td>[ngram, sapbert]</td>\n",
       "      <td>0.066907</td>\n",
       "    </tr>\n",
       "    <tr>\n",
       "      <th>4</th>\n",
       "      <td>07_malignes-melanom_0207_9</td>\n",
       "      <td>Myokarditiden</td>\n",
       "      <td>Diagnosis_or_Pathology</td>\n",
       "      <td>73</td>\n",
       "      <td>86</td>\n",
       "      <td>C0027059</td>\n",
       "      <td>[T047]</td>\n",
       "      <td>Myokarditis</td>\n",
       "      <td>[ngram, sapbert]</td>\n",
       "      <td>0.099101</td>\n",
       "    </tr>\n",
       "    <tr>\n",
       "      <th>5</th>\n",
       "      <td>07_malignes-melanom_0207_9</td>\n",
       "      <td>Perikarditiden</td>\n",
       "      <td>Diagnosis_or_Pathology</td>\n",
       "      <td>88</td>\n",
       "      <td>102</td>\n",
       "      <td>C0031046</td>\n",
       "      <td>[T047]</td>\n",
       "      <td>Perikarditis</td>\n",
       "      <td>[ngram, sapbert]</td>\n",
       "      <td>0.122347</td>\n",
       "    </tr>\n",
       "    <tr>\n",
       "      <th>6</th>\n",
       "      <td>07_malignes-melanom_0207_9</td>\n",
       "      <td>Perikardtamponade</td>\n",
       "      <td>Diagnosis_or_Pathology</td>\n",
       "      <td>104</td>\n",
       "      <td>121</td>\n",
       "      <td>C0007177</td>\n",
       "      <td>[T047]</td>\n",
       "      <td>Herztamponade</td>\n",
       "      <td>[ngram, sapbert]</td>\n",
       "      <td>0.161796</td>\n",
       "    </tr>\n",
       "    <tr>\n",
       "      <th>7</th>\n",
       "      <td>07_malignes-melanom_0207_9</td>\n",
       "      <td>Kardiomyopathie</td>\n",
       "      <td>Diagnosis_or_Pathology</td>\n",
       "      <td>123</td>\n",
       "      <td>138</td>\n",
       "      <td>C0878544</td>\n",
       "      <td>[T047]</td>\n",
       "      <td>Myokardkrankheiten</td>\n",
       "      <td>[ngram, sapbert]</td>\n",
       "      <td>0.145596</td>\n",
       "    </tr>\n",
       "    <tr>\n",
       "      <th>8</th>\n",
       "      <td>07_malignes-melanom_0207_9</td>\n",
       "      <td>Herzversagen</td>\n",
       "      <td>Diagnosis_or_Pathology</td>\n",
       "      <td>140</td>\n",
       "      <td>152</td>\n",
       "      <td>C0018801</td>\n",
       "      <td>[T047]</td>\n",
       "      <td>Herzinsuffizienz</td>\n",
       "      <td>[ngram, sapbert]</td>\n",
       "      <td>0.132407</td>\n",
       "    </tr>\n",
       "    <tr>\n",
       "      <th>9</th>\n",
       "      <td>07_malignes-melanom_0207_9</td>\n",
       "      <td>Reizleitungsstörungen</td>\n",
       "      <td>Diagnosis_or_Pathology</td>\n",
       "      <td>154</td>\n",
       "      <td>175</td>\n",
       "      <td>C0264886</td>\n",
       "      <td>[T047]</td>\n",
       "      <td>Kardiale Erregungsleitungssystem-Erkrankung</td>\n",
       "      <td>[ngram, sapbert]</td>\n",
       "      <td>0.129754</td>\n",
       "    </tr>\n",
       "    <tr>\n",
       "      <th>10</th>\n",
       "      <td>07_malignes-melanom_0207_9</td>\n",
       "      <td>Myokardinfarkt</td>\n",
       "      <td>Diagnosis_or_Pathology</td>\n",
       "      <td>177</td>\n",
       "      <td>191</td>\n",
       "      <td>C0027051</td>\n",
       "      <td>[T047]</td>\n",
       "      <td>Myokardinfarkt</td>\n",
       "      <td>[ngram, sapbert]</td>\n",
       "      <td>0.132754</td>\n",
       "    </tr>\n",
       "    <tr>\n",
       "      <th>11</th>\n",
       "      <td>07_malignes-melanom_0207_9</td>\n",
       "      <td>kardiale Ischämie</td>\n",
       "      <td>Diagnosis_or_Pathology</td>\n",
       "      <td>197</td>\n",
       "      <td>214</td>\n",
       "      <td>C0151744</td>\n",
       "      <td>[T047]</td>\n",
       "      <td>Myokardischämie</td>\n",
       "      <td>[ngram, sapbert]</td>\n",
       "      <td>0.147217</td>\n",
       "    </tr>\n",
       "    <tr>\n",
       "      <th>12</th>\n",
       "      <td>07_malignes-melanom_0207_9</td>\n",
       "      <td>Myokardfibrose</td>\n",
       "      <td>Diagnosis_or_Pathology</td>\n",
       "      <td>219</td>\n",
       "      <td>233</td>\n",
       "      <td>C0151654</td>\n",
       "      <td>[T046]</td>\n",
       "      <td>Myokardfibrose</td>\n",
       "      <td>[ngram, sapbert]</td>\n",
       "      <td>0.149962</td>\n",
       "    </tr>\n",
       "  </tbody>\n",
       "</table>\n",
       "</div>"
      ],
      "text/plain": [
       "                      document  \\\n",
       "0   07_malignes-melanom_0207_9   \n",
       "1   07_malignes-melanom_0207_9   \n",
       "2   07_malignes-melanom_0207_9   \n",
       "3   07_malignes-melanom_0207_9   \n",
       "4   07_malignes-melanom_0207_9   \n",
       "5   07_malignes-melanom_0207_9   \n",
       "6   07_malignes-melanom_0207_9   \n",
       "7   07_malignes-melanom_0207_9   \n",
       "8   07_malignes-melanom_0207_9   \n",
       "9   07_malignes-melanom_0207_9   \n",
       "10  07_malignes-melanom_0207_9   \n",
       "11  07_malignes-melanom_0207_9   \n",
       "12  07_malignes-melanom_0207_9   \n",
       "\n",
       "                                                 text                    type  \\\n",
       "0   Immuntherapien mit anti-CTLA4 und anti-PD1 Ant...             Therapeutic   \n",
       "1                                          anti-CTLA4           Clinical_Drug   \n",
       "2                  anti-CTLA4 und anti-PD1 Antikörper           Clinical_Drug   \n",
       "3                                 anti-PD1 Antikörper           Clinical_Drug   \n",
       "4                                       Myokarditiden  Diagnosis_or_Pathology   \n",
       "5                                      Perikarditiden  Diagnosis_or_Pathology   \n",
       "6                                   Perikardtamponade  Diagnosis_or_Pathology   \n",
       "7                                     Kardiomyopathie  Diagnosis_or_Pathology   \n",
       "8                                        Herzversagen  Diagnosis_or_Pathology   \n",
       "9                               Reizleitungsstörungen  Diagnosis_or_Pathology   \n",
       "10                                     Myokardinfarkt  Diagnosis_or_Pathology   \n",
       "11                                  kardiale Ischämie  Diagnosis_or_Pathology   \n",
       "12                                     Myokardfibrose  Diagnosis_or_Pathology   \n",
       "\n",
       "    start  end       cui                tuis  \\\n",
       "0       6   59  C1367202  [T116, T121, T129]   \n",
       "1      25   35  C4289973              [T116]   \n",
       "2      25   59  C4289973              [T116]   \n",
       "3      40   59  C4289970  [T116, T121, T129]   \n",
       "4      73   86  C0027059              [T047]   \n",
       "5      88  102  C0031046              [T047]   \n",
       "6     104  121  C0007177              [T047]   \n",
       "7     123  138  C0878544              [T047]   \n",
       "8     140  152  C0018801              [T047]   \n",
       "9     154  175  C0264886              [T047]   \n",
       "10    177  191  C0027051              [T047]   \n",
       "11    197  214  C0151744              [T047]   \n",
       "12    219  233  C0151654              [T046]   \n",
       "\n",
       "                                      canonical            linker  confidence  \n",
       "0                                    Ipilimumab         [sapbert]    0.064055  \n",
       "1               Anti-CTLA-4 Monoclonal Antibody  [ngram, sapbert]    0.069021  \n",
       "2               Anti-CTLA-4 Monoclonal Antibody  [ngram, sapbert]    0.065991  \n",
       "3                  Anti-PD1 Monoclonal Antibody  [ngram, sapbert]    0.066907  \n",
       "4                                   Myokarditis  [ngram, sapbert]    0.099101  \n",
       "5                                  Perikarditis  [ngram, sapbert]    0.122347  \n",
       "6                                 Herztamponade  [ngram, sapbert]    0.161796  \n",
       "7                            Myokardkrankheiten  [ngram, sapbert]    0.145596  \n",
       "8                              Herzinsuffizienz  [ngram, sapbert]    0.132407  \n",
       "9   Kardiale Erregungsleitungssystem-Erkrankung  [ngram, sapbert]    0.129754  \n",
       "10                               Myokardinfarkt  [ngram, sapbert]    0.132754  \n",
       "11                              Myokardischämie  [ngram, sapbert]    0.147217  \n",
       "12                               Myokardfibrose  [ngram, sapbert]    0.149962  "
      ]
     },
     "metadata": {},
     "output_type": "display_data"
    },
    {
     "data": {
      "application/vnd.jupyter.widget-view+json": {
       "model_id": "72d18884e6914483820d4405bf1de89f",
       "version_major": 2,
       "version_minor": 0
      },
      "text/plain": [
       "  0%|          | 0/1 [00:00<?, ?it/s]"
      ]
     },
     "metadata": {},
     "output_type": "display_data"
    },
    {
     "data": {
      "text/html": [
       "<div>\n",
       "<style scoped>\n",
       "    .dataframe tbody tr th:only-of-type {\n",
       "        vertical-align: middle;\n",
       "    }\n",
       "\n",
       "    .dataframe tbody tr th {\n",
       "        vertical-align: top;\n",
       "    }\n",
       "\n",
       "    .dataframe thead th {\n",
       "        text-align: right;\n",
       "    }\n",
       "</style>\n",
       "<table border=\"1\" class=\"dataframe\">\n",
       "  <thead>\n",
       "    <tr style=\"text-align: right;\">\n",
       "      <th></th>\n",
       "      <th>document</th>\n",
       "      <th>text</th>\n",
       "      <th>type</th>\n",
       "      <th>start</th>\n",
       "      <th>end</th>\n",
       "      <th>cui</th>\n",
       "      <th>tuis</th>\n",
       "      <th>canonical</th>\n",
       "      <th>linker</th>\n",
       "      <th>confidence</th>\n",
       "    </tr>\n",
       "  </thead>\n",
       "  <tbody>\n",
       "    <tr>\n",
       "      <th>0</th>\n",
       "      <td>07_malignes-melanom_0207_9</td>\n",
       "      <td>Immuntherapien mit anti-CTLA4 Antikörper und a...</td>\n",
       "      <td>Therapeutic</td>\n",
       "      <td>6</td>\n",
       "      <td>70</td>\n",
       "      <td>C1367202</td>\n",
       "      <td>[T116, T121, T129]</td>\n",
       "      <td>Ipilimumab</td>\n",
       "      <td>[sapbert]</td>\n",
       "      <td>0.063651</td>\n",
       "    </tr>\n",
       "    <tr>\n",
       "      <th>1</th>\n",
       "      <td>07_malignes-melanom_0207_9</td>\n",
       "      <td>anti-CTLA4 Antikörper</td>\n",
       "      <td>Clinical_Drug</td>\n",
       "      <td>25</td>\n",
       "      <td>46</td>\n",
       "      <td>C4289973</td>\n",
       "      <td>[T116]</td>\n",
       "      <td>Anti-CTLA-4 Monoclonal Antibody</td>\n",
       "      <td>[ngram, sapbert]</td>\n",
       "      <td>0.069302</td>\n",
       "    </tr>\n",
       "    <tr>\n",
       "      <th>2</th>\n",
       "      <td>07_malignes-melanom_0207_9</td>\n",
       "      <td>anti-CTLA4 Antikörper und anti-PD1 Antikörper</td>\n",
       "      <td>Clinical_Drug</td>\n",
       "      <td>25</td>\n",
       "      <td>70</td>\n",
       "      <td>C4289973</td>\n",
       "      <td>[T116]</td>\n",
       "      <td>Anti-CTLA-4 Monoclonal Antibody</td>\n",
       "      <td>[ngram, sapbert]</td>\n",
       "      <td>0.066033</td>\n",
       "    </tr>\n",
       "    <tr>\n",
       "      <th>3</th>\n",
       "      <td>07_malignes-melanom_0207_9</td>\n",
       "      <td>anti-PD1 Antikörper</td>\n",
       "      <td>Clinical_Drug</td>\n",
       "      <td>51</td>\n",
       "      <td>70</td>\n",
       "      <td>C4289970</td>\n",
       "      <td>[T116, T121, T129]</td>\n",
       "      <td>Anti-PD1 Monoclonal Antibody</td>\n",
       "      <td>[ngram, sapbert]</td>\n",
       "      <td>0.066620</td>\n",
       "    </tr>\n",
       "    <tr>\n",
       "      <th>4</th>\n",
       "      <td>07_malignes-melanom_0207_9</td>\n",
       "      <td>Myokarditiden</td>\n",
       "      <td>Diagnosis_or_Pathology</td>\n",
       "      <td>84</td>\n",
       "      <td>97</td>\n",
       "      <td>C0027059</td>\n",
       "      <td>[T047]</td>\n",
       "      <td>Myokarditis</td>\n",
       "      <td>[ngram, sapbert]</td>\n",
       "      <td>0.097542</td>\n",
       "    </tr>\n",
       "    <tr>\n",
       "      <th>5</th>\n",
       "      <td>07_malignes-melanom_0207_9</td>\n",
       "      <td>Perikarditiden</td>\n",
       "      <td>Diagnosis_or_Pathology</td>\n",
       "      <td>99</td>\n",
       "      <td>113</td>\n",
       "      <td>C0031046</td>\n",
       "      <td>[T047]</td>\n",
       "      <td>Perikarditis</td>\n",
       "      <td>[ngram, sapbert]</td>\n",
       "      <td>0.130398</td>\n",
       "    </tr>\n",
       "    <tr>\n",
       "      <th>6</th>\n",
       "      <td>07_malignes-melanom_0207_9</td>\n",
       "      <td>Perikardtamponade</td>\n",
       "      <td>Diagnosis_or_Pathology</td>\n",
       "      <td>115</td>\n",
       "      <td>132</td>\n",
       "      <td>C0007177</td>\n",
       "      <td>[T047]</td>\n",
       "      <td>Herztamponade</td>\n",
       "      <td>[ngram, sapbert]</td>\n",
       "      <td>0.160963</td>\n",
       "    </tr>\n",
       "    <tr>\n",
       "      <th>7</th>\n",
       "      <td>07_malignes-melanom_0207_9</td>\n",
       "      <td>Kardiomyopathie</td>\n",
       "      <td>Diagnosis_or_Pathology</td>\n",
       "      <td>134</td>\n",
       "      <td>149</td>\n",
       "      <td>C0878544</td>\n",
       "      <td>[T047]</td>\n",
       "      <td>Myokardkrankheiten</td>\n",
       "      <td>[ngram, sapbert]</td>\n",
       "      <td>0.144874</td>\n",
       "    </tr>\n",
       "    <tr>\n",
       "      <th>8</th>\n",
       "      <td>07_malignes-melanom_0207_9</td>\n",
       "      <td>Herzversagen</td>\n",
       "      <td>Diagnosis_or_Pathology</td>\n",
       "      <td>151</td>\n",
       "      <td>163</td>\n",
       "      <td>C0018801</td>\n",
       "      <td>[T047]</td>\n",
       "      <td>Herzinsuffizienz</td>\n",
       "      <td>[ngram, sapbert]</td>\n",
       "      <td>0.130615</td>\n",
       "    </tr>\n",
       "    <tr>\n",
       "      <th>9</th>\n",
       "      <td>07_malignes-melanom_0207_9</td>\n",
       "      <td>Reizleitungsstörungen</td>\n",
       "      <td>Diagnosis_or_Pathology</td>\n",
       "      <td>165</td>\n",
       "      <td>186</td>\n",
       "      <td>C0264886</td>\n",
       "      <td>[T047]</td>\n",
       "      <td>Kardiale Erregungsleitungssystem-Erkrankung</td>\n",
       "      <td>[ngram, sapbert]</td>\n",
       "      <td>0.132998</td>\n",
       "    </tr>\n",
       "    <tr>\n",
       "      <th>10</th>\n",
       "      <td>07_malignes-melanom_0207_9</td>\n",
       "      <td>Myokardinfarkt</td>\n",
       "      <td>Diagnosis_or_Pathology</td>\n",
       "      <td>188</td>\n",
       "      <td>202</td>\n",
       "      <td>C0027051</td>\n",
       "      <td>[T047]</td>\n",
       "      <td>Myokardinfarkt</td>\n",
       "      <td>[ngram, sapbert]</td>\n",
       "      <td>0.132754</td>\n",
       "    </tr>\n",
       "    <tr>\n",
       "      <th>11</th>\n",
       "      <td>07_malignes-melanom_0207_9</td>\n",
       "      <td>kardiale Ischämie</td>\n",
       "      <td>Diagnosis_or_Pathology</td>\n",
       "      <td>208</td>\n",
       "      <td>225</td>\n",
       "      <td>C0151744</td>\n",
       "      <td>[T047]</td>\n",
       "      <td>Myokardischämie</td>\n",
       "      <td>[ngram, sapbert]</td>\n",
       "      <td>0.147217</td>\n",
       "    </tr>\n",
       "    <tr>\n",
       "      <th>12</th>\n",
       "      <td>07_malignes-melanom_0207_9</td>\n",
       "      <td>Myokardfibrose</td>\n",
       "      <td>Diagnosis_or_Pathology</td>\n",
       "      <td>230</td>\n",
       "      <td>244</td>\n",
       "      <td>C0151654</td>\n",
       "      <td>[T046]</td>\n",
       "      <td>Myokardfibrose</td>\n",
       "      <td>[ngram, sapbert]</td>\n",
       "      <td>0.149962</td>\n",
       "    </tr>\n",
       "  </tbody>\n",
       "</table>\n",
       "</div>"
      ],
      "text/plain": [
       "                      document  \\\n",
       "0   07_malignes-melanom_0207_9   \n",
       "1   07_malignes-melanom_0207_9   \n",
       "2   07_malignes-melanom_0207_9   \n",
       "3   07_malignes-melanom_0207_9   \n",
       "4   07_malignes-melanom_0207_9   \n",
       "5   07_malignes-melanom_0207_9   \n",
       "6   07_malignes-melanom_0207_9   \n",
       "7   07_malignes-melanom_0207_9   \n",
       "8   07_malignes-melanom_0207_9   \n",
       "9   07_malignes-melanom_0207_9   \n",
       "10  07_malignes-melanom_0207_9   \n",
       "11  07_malignes-melanom_0207_9   \n",
       "12  07_malignes-melanom_0207_9   \n",
       "\n",
       "                                                 text                    type  \\\n",
       "0   Immuntherapien mit anti-CTLA4 Antikörper und a...             Therapeutic   \n",
       "1                               anti-CTLA4 Antikörper           Clinical_Drug   \n",
       "2       anti-CTLA4 Antikörper und anti-PD1 Antikörper           Clinical_Drug   \n",
       "3                                 anti-PD1 Antikörper           Clinical_Drug   \n",
       "4                                       Myokarditiden  Diagnosis_or_Pathology   \n",
       "5                                      Perikarditiden  Diagnosis_or_Pathology   \n",
       "6                                   Perikardtamponade  Diagnosis_or_Pathology   \n",
       "7                                     Kardiomyopathie  Diagnosis_or_Pathology   \n",
       "8                                        Herzversagen  Diagnosis_or_Pathology   \n",
       "9                               Reizleitungsstörungen  Diagnosis_or_Pathology   \n",
       "10                                     Myokardinfarkt  Diagnosis_or_Pathology   \n",
       "11                                  kardiale Ischämie  Diagnosis_or_Pathology   \n",
       "12                                     Myokardfibrose  Diagnosis_or_Pathology   \n",
       "\n",
       "    start  end       cui                tuis  \\\n",
       "0       6   70  C1367202  [T116, T121, T129]   \n",
       "1      25   46  C4289973              [T116]   \n",
       "2      25   70  C4289973              [T116]   \n",
       "3      51   70  C4289970  [T116, T121, T129]   \n",
       "4      84   97  C0027059              [T047]   \n",
       "5      99  113  C0031046              [T047]   \n",
       "6     115  132  C0007177              [T047]   \n",
       "7     134  149  C0878544              [T047]   \n",
       "8     151  163  C0018801              [T047]   \n",
       "9     165  186  C0264886              [T047]   \n",
       "10    188  202  C0027051              [T047]   \n",
       "11    208  225  C0151744              [T047]   \n",
       "12    230  244  C0151654              [T046]   \n",
       "\n",
       "                                      canonical            linker  confidence  \n",
       "0                                    Ipilimumab         [sapbert]    0.063651  \n",
       "1               Anti-CTLA-4 Monoclonal Antibody  [ngram, sapbert]    0.069302  \n",
       "2               Anti-CTLA-4 Monoclonal Antibody  [ngram, sapbert]    0.066033  \n",
       "3                  Anti-PD1 Monoclonal Antibody  [ngram, sapbert]    0.066620  \n",
       "4                                   Myokarditis  [ngram, sapbert]    0.097542  \n",
       "5                                  Perikarditis  [ngram, sapbert]    0.130398  \n",
       "6                                 Herztamponade  [ngram, sapbert]    0.160963  \n",
       "7                            Myokardkrankheiten  [ngram, sapbert]    0.144874  \n",
       "8                              Herzinsuffizienz  [ngram, sapbert]    0.130615  \n",
       "9   Kardiale Erregungsleitungssystem-Erkrankung  [ngram, sapbert]    0.132998  \n",
       "10                               Myokardinfarkt  [ngram, sapbert]    0.132754  \n",
       "11                              Myokardischämie  [ngram, sapbert]    0.147217  \n",
       "12                               Myokardfibrose  [ngram, sapbert]    0.149962  "
      ]
     },
     "metadata": {},
     "output_type": "display_data"
    },
    {
     "name": "stdout",
     "output_type": "stream",
     "text": [
      "Difference 15\n"
     ]
    },
    {
     "data": {
      "text/markdown": [
       "Bei Patienten unter BRAF/MEK-Inhibitortherapie müssen die Elektrolyte und das EKG vor und zunächst alle 4 Wochen nach Einleitung der Therapie bzw. nach Dosisänderungen untersucht werden."
      ],
      "text/plain": [
       "<IPython.core.display.Markdown object>"
      ]
     },
     "metadata": {},
     "output_type": "display_data"
    },
    {
     "data": {
      "text/markdown": [
       "Bei Patienten unter BRAF-Inhibitortherapie/MEK-Inhibitortherapie müssen die Elektrolyte und das EKG vor und zunächst alle 4 Wochen nach Einleitung der Therapie bzw. nach Dosisänderungen untersucht werden."
      ],
      "text/plain": [
       "<IPython.core.display.Markdown object>"
      ]
     },
     "metadata": {},
     "output_type": "display_data"
    },
    {
     "data": {
      "text/html": [
       "<html><body><div>Bei Patienten unter BRAF<span style=\"background-color: lightgreen;\">-Inhibitortherapie</span>/MEK-Inhibitortherapie müssen die Elektrolyte und das EKG vor und zunächst alle 4 Wochen nach Einleitung der Therapie bzw. nach Dosisänderungen untersucht werden.</div></body></html>"
      ],
      "text/plain": [
       "<IPython.core.display.HTML object>"
      ]
     },
     "metadata": {},
     "output_type": "display_data"
    },
    {
     "data": {
      "application/vnd.jupyter.widget-view+json": {
       "model_id": "aeb7215c716e46959a8f7acefe18259b",
       "version_major": 2,
       "version_minor": 0
      },
      "text/plain": [
       "  0%|          | 0/1 [00:00<?, ?it/s]"
      ]
     },
     "metadata": {},
     "output_type": "display_data"
    },
    {
     "data": {
      "text/html": [
       "<div>\n",
       "<style scoped>\n",
       "    .dataframe tbody tr th:only-of-type {\n",
       "        vertical-align: middle;\n",
       "    }\n",
       "\n",
       "    .dataframe tbody tr th {\n",
       "        vertical-align: top;\n",
       "    }\n",
       "\n",
       "    .dataframe thead th {\n",
       "        text-align: right;\n",
       "    }\n",
       "</style>\n",
       "<table border=\"1\" class=\"dataframe\">\n",
       "  <thead>\n",
       "    <tr style=\"text-align: right;\">\n",
       "      <th></th>\n",
       "      <th>document</th>\n",
       "      <th>text</th>\n",
       "      <th>type</th>\n",
       "      <th>start</th>\n",
       "      <th>end</th>\n",
       "      <th>cui</th>\n",
       "      <th>tuis</th>\n",
       "      <th>canonical</th>\n",
       "      <th>linker</th>\n",
       "      <th>confidence</th>\n",
       "    </tr>\n",
       "  </thead>\n",
       "  <tbody>\n",
       "    <tr>\n",
       "      <th>0</th>\n",
       "      <td>07_malignes-melanom_0207_14</td>\n",
       "      <td>BRAF</td>\n",
       "      <td>Therapeutic</td>\n",
       "      <td>20</td>\n",
       "      <td>24</td>\n",
       "      <td>C1259929</td>\n",
       "      <td>[T116, T123]</td>\n",
       "      <td>94 kDa B-raf Protein</td>\n",
       "      <td>[ngram, sapbert]</td>\n",
       "      <td>0.079368</td>\n",
       "    </tr>\n",
       "    <tr>\n",
       "      <th>1</th>\n",
       "      <td>07_malignes-melanom_0207_14</td>\n",
       "      <td>BRAF/MEK-Inhibitortherapie</td>\n",
       "      <td>Therapeutic</td>\n",
       "      <td>20</td>\n",
       "      <td>46</td>\n",
       "      <td>C4521853</td>\n",
       "      <td>[T080]</td>\n",
       "      <td>B-Raf inhibitor</td>\n",
       "      <td>[ngram, sapbert]</td>\n",
       "      <td>0.064098</td>\n",
       "    </tr>\n",
       "    <tr>\n",
       "      <th>2</th>\n",
       "      <td>07_malignes-melanom_0207_14</td>\n",
       "      <td>MEK-Inhibitortherapie</td>\n",
       "      <td>Therapeutic</td>\n",
       "      <td>25</td>\n",
       "      <td>46</td>\n",
       "      <td>C2347168</td>\n",
       "      <td>[T121]</td>\n",
       "      <td>MAPKK Inhibitor</td>\n",
       "      <td>[ngram, sapbert]</td>\n",
       "      <td>0.064760</td>\n",
       "    </tr>\n",
       "    <tr>\n",
       "      <th>3</th>\n",
       "      <td>07_malignes-melanom_0207_14</td>\n",
       "      <td>Elektrolyte</td>\n",
       "      <td>Nutrient_or_Body_Substance</td>\n",
       "      <td>58</td>\n",
       "      <td>69</td>\n",
       "      <td>C0013832</td>\n",
       "      <td>[T121, T197]</td>\n",
       "      <td>Elektrolyte</td>\n",
       "      <td>[ngram, sapbert]</td>\n",
       "      <td>0.069613</td>\n",
       "    </tr>\n",
       "    <tr>\n",
       "      <th>4</th>\n",
       "      <td>07_malignes-melanom_0207_14</td>\n",
       "      <td>EKG</td>\n",
       "      <td>Diagnostic</td>\n",
       "      <td>78</td>\n",
       "      <td>81</td>\n",
       "      <td>C0013798</td>\n",
       "      <td>[T060]</td>\n",
       "      <td>Elektrokardiogramm</td>\n",
       "      <td>[ngram, sapbert]</td>\n",
       "      <td>0.088079</td>\n",
       "    </tr>\n",
       "    <tr>\n",
       "      <th>5</th>\n",
       "      <td>07_malignes-melanom_0207_14</td>\n",
       "      <td>Einleitung der Therapie</td>\n",
       "      <td>Therapeutic</td>\n",
       "      <td>118</td>\n",
       "      <td>141</td>\n",
       "      <td>C4288398</td>\n",
       "      <td>[T061]</td>\n",
       "      <td>Pharmacotherapy Initiation</td>\n",
       "      <td>[sapbert]</td>\n",
       "      <td>0.066210</td>\n",
       "    </tr>\n",
       "    <tr>\n",
       "      <th>6</th>\n",
       "      <td>07_malignes-melanom_0207_14</td>\n",
       "      <td>Dosisänderungen</td>\n",
       "      <td>Therapeutic</td>\n",
       "      <td>152</td>\n",
       "      <td>167</td>\n",
       "      <td>C1827449</td>\n",
       "      <td>[T061]</td>\n",
       "      <td>Drug Tapering</td>\n",
       "      <td>[ngram, sapbert]</td>\n",
       "      <td>0.068877</td>\n",
       "    </tr>\n",
       "  </tbody>\n",
       "</table>\n",
       "</div>"
      ],
      "text/plain": [
       "                      document                        text  \\\n",
       "0  07_malignes-melanom_0207_14                        BRAF   \n",
       "1  07_malignes-melanom_0207_14  BRAF/MEK-Inhibitortherapie   \n",
       "2  07_malignes-melanom_0207_14       MEK-Inhibitortherapie   \n",
       "3  07_malignes-melanom_0207_14                 Elektrolyte   \n",
       "4  07_malignes-melanom_0207_14                         EKG   \n",
       "5  07_malignes-melanom_0207_14     Einleitung der Therapie   \n",
       "6  07_malignes-melanom_0207_14             Dosisänderungen   \n",
       "\n",
       "                         type  start  end       cui          tuis  \\\n",
       "0                 Therapeutic     20   24  C1259929  [T116, T123]   \n",
       "1                 Therapeutic     20   46  C4521853        [T080]   \n",
       "2                 Therapeutic     25   46  C2347168        [T121]   \n",
       "3  Nutrient_or_Body_Substance     58   69  C0013832  [T121, T197]   \n",
       "4                  Diagnostic     78   81  C0013798        [T060]   \n",
       "5                 Therapeutic    118  141  C4288398        [T061]   \n",
       "6                 Therapeutic    152  167  C1827449        [T061]   \n",
       "\n",
       "                    canonical            linker  confidence  \n",
       "0        94 kDa B-raf Protein  [ngram, sapbert]    0.079368  \n",
       "1             B-Raf inhibitor  [ngram, sapbert]    0.064098  \n",
       "2             MAPKK Inhibitor  [ngram, sapbert]    0.064760  \n",
       "3                 Elektrolyte  [ngram, sapbert]    0.069613  \n",
       "4          Elektrokardiogramm  [ngram, sapbert]    0.088079  \n",
       "5  Pharmacotherapy Initiation         [sapbert]    0.066210  \n",
       "6               Drug Tapering  [ngram, sapbert]    0.068877  "
      ]
     },
     "metadata": {},
     "output_type": "display_data"
    },
    {
     "data": {
      "application/vnd.jupyter.widget-view+json": {
       "model_id": "838c9246e31445efafb137b1027550e3",
       "version_major": 2,
       "version_minor": 0
      },
      "text/plain": [
       "  0%|          | 0/1 [00:00<?, ?it/s]"
      ]
     },
     "metadata": {},
     "output_type": "display_data"
    },
    {
     "data": {
      "text/html": [
       "<div>\n",
       "<style scoped>\n",
       "    .dataframe tbody tr th:only-of-type {\n",
       "        vertical-align: middle;\n",
       "    }\n",
       "\n",
       "    .dataframe tbody tr th {\n",
       "        vertical-align: top;\n",
       "    }\n",
       "\n",
       "    .dataframe thead th {\n",
       "        text-align: right;\n",
       "    }\n",
       "</style>\n",
       "<table border=\"1\" class=\"dataframe\">\n",
       "  <thead>\n",
       "    <tr style=\"text-align: right;\">\n",
       "      <th></th>\n",
       "      <th>document</th>\n",
       "      <th>text</th>\n",
       "      <th>type</th>\n",
       "      <th>start</th>\n",
       "      <th>end</th>\n",
       "      <th>cui</th>\n",
       "      <th>tuis</th>\n",
       "      <th>canonical</th>\n",
       "      <th>linker</th>\n",
       "      <th>confidence</th>\n",
       "    </tr>\n",
       "  </thead>\n",
       "  <tbody>\n",
       "    <tr>\n",
       "      <th>0</th>\n",
       "      <td>07_malignes-melanom_0207_14</td>\n",
       "      <td>BRAF-Inhibitortherapie</td>\n",
       "      <td>Therapeutic</td>\n",
       "      <td>20</td>\n",
       "      <td>42</td>\n",
       "      <td>C4521853</td>\n",
       "      <td>[T080]</td>\n",
       "      <td>B-Raf inhibitor</td>\n",
       "      <td>[ngram, sapbert]</td>\n",
       "      <td>0.069536</td>\n",
       "    </tr>\n",
       "    <tr>\n",
       "      <th>1</th>\n",
       "      <td>07_malignes-melanom_0207_14</td>\n",
       "      <td>MEK-Inhibitortherapie</td>\n",
       "      <td>Therapeutic</td>\n",
       "      <td>43</td>\n",
       "      <td>64</td>\n",
       "      <td>C2347168</td>\n",
       "      <td>[T121]</td>\n",
       "      <td>MAPKK Inhibitor</td>\n",
       "      <td>[ngram, sapbert]</td>\n",
       "      <td>0.065105</td>\n",
       "    </tr>\n",
       "    <tr>\n",
       "      <th>2</th>\n",
       "      <td>07_malignes-melanom_0207_14</td>\n",
       "      <td>Elektrolyte</td>\n",
       "      <td>Nutrient_or_Body_Substance</td>\n",
       "      <td>76</td>\n",
       "      <td>87</td>\n",
       "      <td>C0013832</td>\n",
       "      <td>[T121, T197]</td>\n",
       "      <td>Elektrolyte</td>\n",
       "      <td>[ngram, sapbert]</td>\n",
       "      <td>0.071724</td>\n",
       "    </tr>\n",
       "    <tr>\n",
       "      <th>3</th>\n",
       "      <td>07_malignes-melanom_0207_14</td>\n",
       "      <td>EKG</td>\n",
       "      <td>Diagnostic</td>\n",
       "      <td>96</td>\n",
       "      <td>99</td>\n",
       "      <td>C0013798</td>\n",
       "      <td>[T060]</td>\n",
       "      <td>Elektrokardiogramm</td>\n",
       "      <td>[ngram, sapbert]</td>\n",
       "      <td>0.088586</td>\n",
       "    </tr>\n",
       "    <tr>\n",
       "      <th>4</th>\n",
       "      <td>07_malignes-melanom_0207_14</td>\n",
       "      <td>Einleitung der Therapie</td>\n",
       "      <td>Therapeutic</td>\n",
       "      <td>136</td>\n",
       "      <td>159</td>\n",
       "      <td>C4288398</td>\n",
       "      <td>[T061]</td>\n",
       "      <td>Pharmacotherapy Initiation</td>\n",
       "      <td>[sapbert]</td>\n",
       "      <td>0.065879</td>\n",
       "    </tr>\n",
       "    <tr>\n",
       "      <th>5</th>\n",
       "      <td>07_malignes-melanom_0207_14</td>\n",
       "      <td>Dosisänderungen</td>\n",
       "      <td>Therapeutic</td>\n",
       "      <td>170</td>\n",
       "      <td>185</td>\n",
       "      <td>C1827449</td>\n",
       "      <td>[T061]</td>\n",
       "      <td>Drug Tapering</td>\n",
       "      <td>[ngram, sapbert]</td>\n",
       "      <td>0.068877</td>\n",
       "    </tr>\n",
       "  </tbody>\n",
       "</table>\n",
       "</div>"
      ],
      "text/plain": [
       "                      document                     text  \\\n",
       "0  07_malignes-melanom_0207_14   BRAF-Inhibitortherapie   \n",
       "1  07_malignes-melanom_0207_14    MEK-Inhibitortherapie   \n",
       "2  07_malignes-melanom_0207_14              Elektrolyte   \n",
       "3  07_malignes-melanom_0207_14                      EKG   \n",
       "4  07_malignes-melanom_0207_14  Einleitung der Therapie   \n",
       "5  07_malignes-melanom_0207_14          Dosisänderungen   \n",
       "\n",
       "                         type  start  end       cui          tuis  \\\n",
       "0                 Therapeutic     20   42  C4521853        [T080]   \n",
       "1                 Therapeutic     43   64  C2347168        [T121]   \n",
       "2  Nutrient_or_Body_Substance     76   87  C0013832  [T121, T197]   \n",
       "3                  Diagnostic     96   99  C0013798        [T060]   \n",
       "4                 Therapeutic    136  159  C4288398        [T061]   \n",
       "5                 Therapeutic    170  185  C1827449        [T061]   \n",
       "\n",
       "                    canonical            linker  confidence  \n",
       "0             B-Raf inhibitor  [ngram, sapbert]    0.069536  \n",
       "1             MAPKK Inhibitor  [ngram, sapbert]    0.065105  \n",
       "2                 Elektrolyte  [ngram, sapbert]    0.071724  \n",
       "3          Elektrokardiogramm  [ngram, sapbert]    0.088586  \n",
       "4  Pharmacotherapy Initiation         [sapbert]    0.065879  \n",
       "5               Drug Tapering  [ngram, sapbert]    0.068877  "
      ]
     },
     "metadata": {},
     "output_type": "display_data"
    },
    {
     "name": "stdout",
     "output_type": "stream",
     "text": [
      "Difference 16\n"
     ]
    },
    {
     "data": {
      "text/markdown": [
       "Vor und unter Immuntherapien mit anti-CTLA4 und anti-PD1 Antikörper sollte die CK regelmässig bestimmt werden, sowie immer bei Auftreten kardialer Symptome."
      ],
      "text/plain": [
       "<IPython.core.display.Markdown object>"
      ]
     },
     "metadata": {},
     "output_type": "display_data"
    },
    {
     "data": {
      "text/markdown": [
       "Vor und unter Immuntherapien mit anti-CTLA4 Antikörper und anti-PD1 Antikörper sollte die CK regelmässig bestimmt werden, sowie immer bei Auftreten kardialer Symptome."
      ],
      "text/plain": [
       "<IPython.core.display.Markdown object>"
      ]
     },
     "metadata": {},
     "output_type": "display_data"
    },
    {
     "data": {
      "text/html": [
       "<html><body><div>Vor und unter Immuntherapien mit anti-CTLA4<span style=\"background-color: lightgreen;\"> Antikörper</span> und anti-PD1 Antikörper sollte die CK regelmässig bestimmt werden, sowie immer bei Auftreten kardialer Symptome.</div></body></html>"
      ],
      "text/plain": [
       "<IPython.core.display.HTML object>"
      ]
     },
     "metadata": {},
     "output_type": "display_data"
    },
    {
     "data": {
      "application/vnd.jupyter.widget-view+json": {
       "model_id": "c93b75e96daa4665aac910167123ff40",
       "version_major": 2,
       "version_minor": 0
      },
      "text/plain": [
       "  0%|          | 0/1 [00:00<?, ?it/s]"
      ]
     },
     "metadata": {},
     "output_type": "display_data"
    },
    {
     "data": {
      "text/html": [
       "<div>\n",
       "<style scoped>\n",
       "    .dataframe tbody tr th:only-of-type {\n",
       "        vertical-align: middle;\n",
       "    }\n",
       "\n",
       "    .dataframe tbody tr th {\n",
       "        vertical-align: top;\n",
       "    }\n",
       "\n",
       "    .dataframe thead th {\n",
       "        text-align: right;\n",
       "    }\n",
       "</style>\n",
       "<table border=\"1\" class=\"dataframe\">\n",
       "  <thead>\n",
       "    <tr style=\"text-align: right;\">\n",
       "      <th></th>\n",
       "      <th>document</th>\n",
       "      <th>text</th>\n",
       "      <th>type</th>\n",
       "      <th>start</th>\n",
       "      <th>end</th>\n",
       "      <th>cui</th>\n",
       "      <th>tuis</th>\n",
       "      <th>canonical</th>\n",
       "      <th>linker</th>\n",
       "      <th>confidence</th>\n",
       "    </tr>\n",
       "  </thead>\n",
       "  <tbody>\n",
       "    <tr>\n",
       "      <th>0</th>\n",
       "      <td>07_malignes-melanom_0207_20</td>\n",
       "      <td>Immuntherapien mit anti-CTLA4 und anti-PD1 Ant...</td>\n",
       "      <td>Therapeutic</td>\n",
       "      <td>14</td>\n",
       "      <td>67</td>\n",
       "      <td>C1367202</td>\n",
       "      <td>[T116, T121, T129]</td>\n",
       "      <td>Ipilimumab</td>\n",
       "      <td>[sapbert]</td>\n",
       "      <td>0.064058</td>\n",
       "    </tr>\n",
       "    <tr>\n",
       "      <th>1</th>\n",
       "      <td>07_malignes-melanom_0207_20</td>\n",
       "      <td>anti-CTLA4</td>\n",
       "      <td>Clinical_Drug</td>\n",
       "      <td>33</td>\n",
       "      <td>43</td>\n",
       "      <td>C4289973</td>\n",
       "      <td>[T116]</td>\n",
       "      <td>Anti-CTLA-4 Monoclonal Antibody</td>\n",
       "      <td>[ngram, sapbert]</td>\n",
       "      <td>0.068610</td>\n",
       "    </tr>\n",
       "    <tr>\n",
       "      <th>2</th>\n",
       "      <td>07_malignes-melanom_0207_20</td>\n",
       "      <td>anti-CTLA4 und anti-PD1 Antikörper</td>\n",
       "      <td>Clinical_Drug</td>\n",
       "      <td>33</td>\n",
       "      <td>67</td>\n",
       "      <td>C4289973</td>\n",
       "      <td>[T116]</td>\n",
       "      <td>Anti-CTLA-4 Monoclonal Antibody</td>\n",
       "      <td>[ngram, sapbert]</td>\n",
       "      <td>0.065451</td>\n",
       "    </tr>\n",
       "    <tr>\n",
       "      <th>3</th>\n",
       "      <td>07_malignes-melanom_0207_20</td>\n",
       "      <td>anti-PD1 Antikörper</td>\n",
       "      <td>Clinical_Drug</td>\n",
       "      <td>48</td>\n",
       "      <td>67</td>\n",
       "      <td>C4289970</td>\n",
       "      <td>[T116, T121, T129]</td>\n",
       "      <td>Anti-PD1 Monoclonal Antibody</td>\n",
       "      <td>[ngram, sapbert]</td>\n",
       "      <td>0.069309</td>\n",
       "    </tr>\n",
       "    <tr>\n",
       "      <th>4</th>\n",
       "      <td>07_malignes-melanom_0207_20</td>\n",
       "      <td>CK</td>\n",
       "      <td>Nutrient_or_Body_Substance</td>\n",
       "      <td>79</td>\n",
       "      <td>81</td>\n",
       "      <td>C0010287</td>\n",
       "      <td>[T116, T126]</td>\n",
       "      <td>Creatinkinase</td>\n",
       "      <td>[ngram, sapbert]</td>\n",
       "      <td>0.082112</td>\n",
       "    </tr>\n",
       "    <tr>\n",
       "      <th>5</th>\n",
       "      <td>07_malignes-melanom_0207_20</td>\n",
       "      <td>Auftreten kardialer Symptome</td>\n",
       "      <td>Diagnosis_or_Pathology</td>\n",
       "      <td>127</td>\n",
       "      <td>155</td>\n",
       "      <td>C0476270</td>\n",
       "      <td>[T184]</td>\n",
       "      <td>Cardiovascular symptoms</td>\n",
       "      <td>[ngram, sapbert]</td>\n",
       "      <td>0.068689</td>\n",
       "    </tr>\n",
       "  </tbody>\n",
       "</table>\n",
       "</div>"
      ],
      "text/plain": [
       "                      document  \\\n",
       "0  07_malignes-melanom_0207_20   \n",
       "1  07_malignes-melanom_0207_20   \n",
       "2  07_malignes-melanom_0207_20   \n",
       "3  07_malignes-melanom_0207_20   \n",
       "4  07_malignes-melanom_0207_20   \n",
       "5  07_malignes-melanom_0207_20   \n",
       "\n",
       "                                                text  \\\n",
       "0  Immuntherapien mit anti-CTLA4 und anti-PD1 Ant...   \n",
       "1                                         anti-CTLA4   \n",
       "2                 anti-CTLA4 und anti-PD1 Antikörper   \n",
       "3                                anti-PD1 Antikörper   \n",
       "4                                                 CK   \n",
       "5                       Auftreten kardialer Symptome   \n",
       "\n",
       "                         type  start  end       cui                tuis  \\\n",
       "0                 Therapeutic     14   67  C1367202  [T116, T121, T129]   \n",
       "1               Clinical_Drug     33   43  C4289973              [T116]   \n",
       "2               Clinical_Drug     33   67  C4289973              [T116]   \n",
       "3               Clinical_Drug     48   67  C4289970  [T116, T121, T129]   \n",
       "4  Nutrient_or_Body_Substance     79   81  C0010287        [T116, T126]   \n",
       "5      Diagnosis_or_Pathology    127  155  C0476270              [T184]   \n",
       "\n",
       "                         canonical            linker  confidence  \n",
       "0                       Ipilimumab         [sapbert]    0.064058  \n",
       "1  Anti-CTLA-4 Monoclonal Antibody  [ngram, sapbert]    0.068610  \n",
       "2  Anti-CTLA-4 Monoclonal Antibody  [ngram, sapbert]    0.065451  \n",
       "3     Anti-PD1 Monoclonal Antibody  [ngram, sapbert]    0.069309  \n",
       "4                    Creatinkinase  [ngram, sapbert]    0.082112  \n",
       "5          Cardiovascular symptoms  [ngram, sapbert]    0.068689  "
      ]
     },
     "metadata": {},
     "output_type": "display_data"
    },
    {
     "data": {
      "application/vnd.jupyter.widget-view+json": {
       "model_id": "b468d492bd184800a6e5fcf68ec11bf2",
       "version_major": 2,
       "version_minor": 0
      },
      "text/plain": [
       "  0%|          | 0/1 [00:00<?, ?it/s]"
      ]
     },
     "metadata": {},
     "output_type": "display_data"
    },
    {
     "data": {
      "text/html": [
       "<div>\n",
       "<style scoped>\n",
       "    .dataframe tbody tr th:only-of-type {\n",
       "        vertical-align: middle;\n",
       "    }\n",
       "\n",
       "    .dataframe tbody tr th {\n",
       "        vertical-align: top;\n",
       "    }\n",
       "\n",
       "    .dataframe thead th {\n",
       "        text-align: right;\n",
       "    }\n",
       "</style>\n",
       "<table border=\"1\" class=\"dataframe\">\n",
       "  <thead>\n",
       "    <tr style=\"text-align: right;\">\n",
       "      <th></th>\n",
       "      <th>document</th>\n",
       "      <th>text</th>\n",
       "      <th>type</th>\n",
       "      <th>start</th>\n",
       "      <th>end</th>\n",
       "      <th>cui</th>\n",
       "      <th>tuis</th>\n",
       "      <th>canonical</th>\n",
       "      <th>linker</th>\n",
       "      <th>confidence</th>\n",
       "    </tr>\n",
       "  </thead>\n",
       "  <tbody>\n",
       "    <tr>\n",
       "      <th>0</th>\n",
       "      <td>07_malignes-melanom_0207_20</td>\n",
       "      <td>Immuntherapien mit anti-CTLA4 Antikörper</td>\n",
       "      <td>Therapeutic</td>\n",
       "      <td>14</td>\n",
       "      <td>54</td>\n",
       "      <td>C1367202</td>\n",
       "      <td>[T116, T121, T129]</td>\n",
       "      <td>Ipilimumab</td>\n",
       "      <td>[sapbert]</td>\n",
       "      <td>0.065093</td>\n",
       "    </tr>\n",
       "    <tr>\n",
       "      <th>1</th>\n",
       "      <td>07_malignes-melanom_0207_20</td>\n",
       "      <td>Immuntherapien mit anti-CTLA4 Antikörper und a...</td>\n",
       "      <td>Therapeutic</td>\n",
       "      <td>14</td>\n",
       "      <td>78</td>\n",
       "      <td>C1367202</td>\n",
       "      <td>[T116, T121, T129]</td>\n",
       "      <td>Ipilimumab</td>\n",
       "      <td>[sapbert]</td>\n",
       "      <td>0.063941</td>\n",
       "    </tr>\n",
       "    <tr>\n",
       "      <th>2</th>\n",
       "      <td>07_malignes-melanom_0207_20</td>\n",
       "      <td>anti-CTLA4 Antikörper</td>\n",
       "      <td>Clinical_Drug</td>\n",
       "      <td>33</td>\n",
       "      <td>54</td>\n",
       "      <td>C4289973</td>\n",
       "      <td>[T116]</td>\n",
       "      <td>Anti-CTLA-4 Monoclonal Antibody</td>\n",
       "      <td>[ngram, sapbert]</td>\n",
       "      <td>0.069343</td>\n",
       "    </tr>\n",
       "    <tr>\n",
       "      <th>3</th>\n",
       "      <td>07_malignes-melanom_0207_20</td>\n",
       "      <td>anti-CTLA4 Antikörper und anti-PD1 Antikörper</td>\n",
       "      <td>Clinical_Drug</td>\n",
       "      <td>33</td>\n",
       "      <td>78</td>\n",
       "      <td>C4289973</td>\n",
       "      <td>[T116]</td>\n",
       "      <td>Anti-CTLA-4 Monoclonal Antibody</td>\n",
       "      <td>[ngram, sapbert]</td>\n",
       "      <td>0.065643</td>\n",
       "    </tr>\n",
       "    <tr>\n",
       "      <th>4</th>\n",
       "      <td>07_malignes-melanom_0207_20</td>\n",
       "      <td>anti-PD1 Antikörper</td>\n",
       "      <td>Clinical_Drug</td>\n",
       "      <td>59</td>\n",
       "      <td>78</td>\n",
       "      <td>C4289970</td>\n",
       "      <td>[T116, T121, T129]</td>\n",
       "      <td>Anti-PD1 Monoclonal Antibody</td>\n",
       "      <td>[ngram, sapbert]</td>\n",
       "      <td>0.068731</td>\n",
       "    </tr>\n",
       "    <tr>\n",
       "      <th>5</th>\n",
       "      <td>07_malignes-melanom_0207_20</td>\n",
       "      <td>CK</td>\n",
       "      <td>Nutrient_or_Body_Substance</td>\n",
       "      <td>90</td>\n",
       "      <td>92</td>\n",
       "      <td>C0010287</td>\n",
       "      <td>[T116, T126]</td>\n",
       "      <td>Creatinkinase</td>\n",
       "      <td>[ngram, sapbert]</td>\n",
       "      <td>0.083508</td>\n",
       "    </tr>\n",
       "    <tr>\n",
       "      <th>6</th>\n",
       "      <td>07_malignes-melanom_0207_20</td>\n",
       "      <td>Auftreten kardialer Symptome</td>\n",
       "      <td>Diagnosis_or_Pathology</td>\n",
       "      <td>138</td>\n",
       "      <td>166</td>\n",
       "      <td>C0476270</td>\n",
       "      <td>[T184]</td>\n",
       "      <td>Cardiovascular symptoms</td>\n",
       "      <td>[ngram, sapbert]</td>\n",
       "      <td>0.069976</td>\n",
       "    </tr>\n",
       "  </tbody>\n",
       "</table>\n",
       "</div>"
      ],
      "text/plain": [
       "                      document  \\\n",
       "0  07_malignes-melanom_0207_20   \n",
       "1  07_malignes-melanom_0207_20   \n",
       "2  07_malignes-melanom_0207_20   \n",
       "3  07_malignes-melanom_0207_20   \n",
       "4  07_malignes-melanom_0207_20   \n",
       "5  07_malignes-melanom_0207_20   \n",
       "6  07_malignes-melanom_0207_20   \n",
       "\n",
       "                                                text  \\\n",
       "0           Immuntherapien mit anti-CTLA4 Antikörper   \n",
       "1  Immuntherapien mit anti-CTLA4 Antikörper und a...   \n",
       "2                              anti-CTLA4 Antikörper   \n",
       "3      anti-CTLA4 Antikörper und anti-PD1 Antikörper   \n",
       "4                                anti-PD1 Antikörper   \n",
       "5                                                 CK   \n",
       "6                       Auftreten kardialer Symptome   \n",
       "\n",
       "                         type  start  end       cui                tuis  \\\n",
       "0                 Therapeutic     14   54  C1367202  [T116, T121, T129]   \n",
       "1                 Therapeutic     14   78  C1367202  [T116, T121, T129]   \n",
       "2               Clinical_Drug     33   54  C4289973              [T116]   \n",
       "3               Clinical_Drug     33   78  C4289973              [T116]   \n",
       "4               Clinical_Drug     59   78  C4289970  [T116, T121, T129]   \n",
       "5  Nutrient_or_Body_Substance     90   92  C0010287        [T116, T126]   \n",
       "6      Diagnosis_or_Pathology    138  166  C0476270              [T184]   \n",
       "\n",
       "                         canonical            linker  confidence  \n",
       "0                       Ipilimumab         [sapbert]    0.065093  \n",
       "1                       Ipilimumab         [sapbert]    0.063941  \n",
       "2  Anti-CTLA-4 Monoclonal Antibody  [ngram, sapbert]    0.069343  \n",
       "3  Anti-CTLA-4 Monoclonal Antibody  [ngram, sapbert]    0.065643  \n",
       "4     Anti-PD1 Monoclonal Antibody  [ngram, sapbert]    0.068731  \n",
       "5                    Creatinkinase  [ngram, sapbert]    0.083508  \n",
       "6          Cardiovascular symptoms  [ngram, sapbert]    0.069976  "
      ]
     },
     "metadata": {},
     "output_type": "display_data"
    },
    {
     "name": "stdout",
     "output_type": "stream",
     "text": [
      "Difference 17\n"
     ]
    },
    {
     "data": {
      "text/markdown": [
       "Kommt es unter der BRAF/MEK-Inhibitortherapie zu einer QTc-Verlängerung im EKG, muss die Dosis reduziert, die Medikamentengabe ausgesetzt oder ganz abgebrochen werden."
      ],
      "text/plain": [
       "<IPython.core.display.Markdown object>"
      ]
     },
     "metadata": {},
     "output_type": "display_data"
    },
    {
     "data": {
      "text/markdown": [
       "Kommt es unter der BRAF-Inhibitortherapie/MEK-Inhibitortherapie zu einer QTc-Verlängerung im EKG, muss die Dosis reduziert, die Medikamentengabe ausgesetzt oder ganz abgebrochen werden."
      ],
      "text/plain": [
       "<IPython.core.display.Markdown object>"
      ]
     },
     "metadata": {},
     "output_type": "display_data"
    },
    {
     "data": {
      "text/html": [
       "<html><body><div>Kommt es unter der BRAF<span style=\"background-color: lightgreen;\">-Inhibitortherapie</span>/MEK-Inhibitortherapie zu einer QTc-Verlängerung im EKG, muss die Dosis reduziert, die Medikamentengabe ausgesetzt oder ganz abgebrochen werden.</div></body></html>"
      ],
      "text/plain": [
       "<IPython.core.display.HTML object>"
      ]
     },
     "metadata": {},
     "output_type": "display_data"
    },
    {
     "data": {
      "application/vnd.jupyter.widget-view+json": {
       "model_id": "74ffa6d32d4f44b98ac32433e7758301",
       "version_major": 2,
       "version_minor": 0
      },
      "text/plain": [
       "  0%|          | 0/1 [00:00<?, ?it/s]"
      ]
     },
     "metadata": {},
     "output_type": "display_data"
    },
    {
     "data": {
      "text/html": [
       "<div>\n",
       "<style scoped>\n",
       "    .dataframe tbody tr th:only-of-type {\n",
       "        vertical-align: middle;\n",
       "    }\n",
       "\n",
       "    .dataframe tbody tr th {\n",
       "        vertical-align: top;\n",
       "    }\n",
       "\n",
       "    .dataframe thead th {\n",
       "        text-align: right;\n",
       "    }\n",
       "</style>\n",
       "<table border=\"1\" class=\"dataframe\">\n",
       "  <thead>\n",
       "    <tr style=\"text-align: right;\">\n",
       "      <th></th>\n",
       "      <th>document</th>\n",
       "      <th>text</th>\n",
       "      <th>type</th>\n",
       "      <th>start</th>\n",
       "      <th>end</th>\n",
       "      <th>cui</th>\n",
       "      <th>tuis</th>\n",
       "      <th>canonical</th>\n",
       "      <th>linker</th>\n",
       "      <th>confidence</th>\n",
       "    </tr>\n",
       "  </thead>\n",
       "  <tbody>\n",
       "    <tr>\n",
       "      <th>0</th>\n",
       "      <td>07_malignes-melanom_0207_26</td>\n",
       "      <td>BRAF</td>\n",
       "      <td>Therapeutic</td>\n",
       "      <td>19</td>\n",
       "      <td>23</td>\n",
       "      <td>C1259929</td>\n",
       "      <td>[T116, T123]</td>\n",
       "      <td>94 kDa B-raf Protein</td>\n",
       "      <td>[ngram, sapbert]</td>\n",
       "      <td>0.081087</td>\n",
       "    </tr>\n",
       "    <tr>\n",
       "      <th>1</th>\n",
       "      <td>07_malignes-melanom_0207_26</td>\n",
       "      <td>BRAF/MEK-Inhibitortherapie</td>\n",
       "      <td>Therapeutic</td>\n",
       "      <td>19</td>\n",
       "      <td>45</td>\n",
       "      <td>C4521853</td>\n",
       "      <td>[T080]</td>\n",
       "      <td>B-Raf inhibitor</td>\n",
       "      <td>[ngram, sapbert]</td>\n",
       "      <td>0.064073</td>\n",
       "    </tr>\n",
       "    <tr>\n",
       "      <th>2</th>\n",
       "      <td>07_malignes-melanom_0207_26</td>\n",
       "      <td>MEK-Inhibitortherapie</td>\n",
       "      <td>Therapeutic</td>\n",
       "      <td>24</td>\n",
       "      <td>45</td>\n",
       "      <td>C2347168</td>\n",
       "      <td>[T121]</td>\n",
       "      <td>MAPKK Inhibitor</td>\n",
       "      <td>[ngram, sapbert]</td>\n",
       "      <td>0.064913</td>\n",
       "    </tr>\n",
       "    <tr>\n",
       "      <th>3</th>\n",
       "      <td>07_malignes-melanom_0207_26</td>\n",
       "      <td>QTc-Verlängerung im EKG</td>\n",
       "      <td>Diagnosis_or_Pathology</td>\n",
       "      <td>55</td>\n",
       "      <td>78</td>\n",
       "      <td>C0855333</td>\n",
       "      <td>[T033]</td>\n",
       "      <td>Elektrokardiogramm QT-korrigiertes Intervall v...</td>\n",
       "      <td>[ngram, sapbert]</td>\n",
       "      <td>0.067988</td>\n",
       "    </tr>\n",
       "    <tr>\n",
       "      <th>4</th>\n",
       "      <td>07_malignes-melanom_0207_26</td>\n",
       "      <td>Medikamentengabe</td>\n",
       "      <td>Therapeutic</td>\n",
       "      <td>110</td>\n",
       "      <td>126</td>\n",
       "      <td>C0001563</td>\n",
       "      <td>[T061]</td>\n",
       "      <td>Administration, Oral</td>\n",
       "      <td>[sapbert]</td>\n",
       "      <td>0.067705</td>\n",
       "    </tr>\n",
       "  </tbody>\n",
       "</table>\n",
       "</div>"
      ],
      "text/plain": [
       "                      document                        text  \\\n",
       "0  07_malignes-melanom_0207_26                        BRAF   \n",
       "1  07_malignes-melanom_0207_26  BRAF/MEK-Inhibitortherapie   \n",
       "2  07_malignes-melanom_0207_26       MEK-Inhibitortherapie   \n",
       "3  07_malignes-melanom_0207_26     QTc-Verlängerung im EKG   \n",
       "4  07_malignes-melanom_0207_26            Medikamentengabe   \n",
       "\n",
       "                     type  start  end       cui          tuis  \\\n",
       "0             Therapeutic     19   23  C1259929  [T116, T123]   \n",
       "1             Therapeutic     19   45  C4521853        [T080]   \n",
       "2             Therapeutic     24   45  C2347168        [T121]   \n",
       "3  Diagnosis_or_Pathology     55   78  C0855333        [T033]   \n",
       "4             Therapeutic    110  126  C0001563        [T061]   \n",
       "\n",
       "                                           canonical            linker  \\\n",
       "0                               94 kDa B-raf Protein  [ngram, sapbert]   \n",
       "1                                    B-Raf inhibitor  [ngram, sapbert]   \n",
       "2                                    MAPKK Inhibitor  [ngram, sapbert]   \n",
       "3  Elektrokardiogramm QT-korrigiertes Intervall v...  [ngram, sapbert]   \n",
       "4                               Administration, Oral         [sapbert]   \n",
       "\n",
       "   confidence  \n",
       "0    0.081087  \n",
       "1    0.064073  \n",
       "2    0.064913  \n",
       "3    0.067988  \n",
       "4    0.067705  "
      ]
     },
     "metadata": {},
     "output_type": "display_data"
    },
    {
     "data": {
      "application/vnd.jupyter.widget-view+json": {
       "model_id": "130457602dc044eb8bd84f3b4c0b9565",
       "version_major": 2,
       "version_minor": 0
      },
      "text/plain": [
       "  0%|          | 0/1 [00:00<?, ?it/s]"
      ]
     },
     "metadata": {},
     "output_type": "display_data"
    },
    {
     "data": {
      "text/html": [
       "<div>\n",
       "<style scoped>\n",
       "    .dataframe tbody tr th:only-of-type {\n",
       "        vertical-align: middle;\n",
       "    }\n",
       "\n",
       "    .dataframe tbody tr th {\n",
       "        vertical-align: top;\n",
       "    }\n",
       "\n",
       "    .dataframe thead th {\n",
       "        text-align: right;\n",
       "    }\n",
       "</style>\n",
       "<table border=\"1\" class=\"dataframe\">\n",
       "  <thead>\n",
       "    <tr style=\"text-align: right;\">\n",
       "      <th></th>\n",
       "      <th>document</th>\n",
       "      <th>text</th>\n",
       "      <th>type</th>\n",
       "      <th>start</th>\n",
       "      <th>end</th>\n",
       "      <th>cui</th>\n",
       "      <th>tuis</th>\n",
       "      <th>canonical</th>\n",
       "      <th>linker</th>\n",
       "      <th>confidence</th>\n",
       "    </tr>\n",
       "  </thead>\n",
       "  <tbody>\n",
       "    <tr>\n",
       "      <th>0</th>\n",
       "      <td>07_malignes-melanom_0207_26</td>\n",
       "      <td>BRAF-Inhibitortherapie</td>\n",
       "      <td>Therapeutic</td>\n",
       "      <td>19</td>\n",
       "      <td>41</td>\n",
       "      <td>C3838813</td>\n",
       "      <td>[T116, T121]</td>\n",
       "      <td>B-Raf inhibitor</td>\n",
       "      <td>[ngram, sapbert]</td>\n",
       "      <td>0.069738</td>\n",
       "    </tr>\n",
       "    <tr>\n",
       "      <th>1</th>\n",
       "      <td>07_malignes-melanom_0207_26</td>\n",
       "      <td>MEK-Inhibitortherapie</td>\n",
       "      <td>Therapeutic</td>\n",
       "      <td>42</td>\n",
       "      <td>63</td>\n",
       "      <td>C2347168</td>\n",
       "      <td>[T121]</td>\n",
       "      <td>MAPKK Inhibitor</td>\n",
       "      <td>[ngram, sapbert]</td>\n",
       "      <td>0.065341</td>\n",
       "    </tr>\n",
       "    <tr>\n",
       "      <th>2</th>\n",
       "      <td>07_malignes-melanom_0207_26</td>\n",
       "      <td>QTc-Verlängerung im EKG</td>\n",
       "      <td>Diagnosis_or_Pathology</td>\n",
       "      <td>73</td>\n",
       "      <td>96</td>\n",
       "      <td>C0855333</td>\n",
       "      <td>[T033]</td>\n",
       "      <td>Elektrokardiogramm QT-korrigiertes Intervall v...</td>\n",
       "      <td>[ngram, sapbert]</td>\n",
       "      <td>0.067433</td>\n",
       "    </tr>\n",
       "    <tr>\n",
       "      <th>3</th>\n",
       "      <td>07_malignes-melanom_0207_26</td>\n",
       "      <td>Medikamentengabe</td>\n",
       "      <td>Therapeutic</td>\n",
       "      <td>128</td>\n",
       "      <td>144</td>\n",
       "      <td>C0001563</td>\n",
       "      <td>[T061]</td>\n",
       "      <td>Administration, Oral</td>\n",
       "      <td>[sapbert]</td>\n",
       "      <td>0.067696</td>\n",
       "    </tr>\n",
       "  </tbody>\n",
       "</table>\n",
       "</div>"
      ],
      "text/plain": [
       "                      document                     text  \\\n",
       "0  07_malignes-melanom_0207_26   BRAF-Inhibitortherapie   \n",
       "1  07_malignes-melanom_0207_26    MEK-Inhibitortherapie   \n",
       "2  07_malignes-melanom_0207_26  QTc-Verlängerung im EKG   \n",
       "3  07_malignes-melanom_0207_26         Medikamentengabe   \n",
       "\n",
       "                     type  start  end       cui          tuis  \\\n",
       "0             Therapeutic     19   41  C3838813  [T116, T121]   \n",
       "1             Therapeutic     42   63  C2347168        [T121]   \n",
       "2  Diagnosis_or_Pathology     73   96  C0855333        [T033]   \n",
       "3             Therapeutic    128  144  C0001563        [T061]   \n",
       "\n",
       "                                           canonical            linker  \\\n",
       "0                                    B-Raf inhibitor  [ngram, sapbert]   \n",
       "1                                    MAPKK Inhibitor  [ngram, sapbert]   \n",
       "2  Elektrokardiogramm QT-korrigiertes Intervall v...  [ngram, sapbert]   \n",
       "3                               Administration, Oral         [sapbert]   \n",
       "\n",
       "   confidence  \n",
       "0    0.069738  \n",
       "1    0.065341  \n",
       "2    0.067433  \n",
       "3    0.067696  "
      ]
     },
     "metadata": {},
     "output_type": "display_data"
    },
    {
     "name": "stdout",
     "output_type": "stream",
     "text": [
      "Difference 18\n"
     ]
    },
    {
     "data": {
      "text/markdown": [
       "In die „RAPID“-Studie des britischen „National Cancer Research Institute“(NCRI) wurden Patienten im Stadium IA/IIA eines klassischen Hodgkin Lymphoms (bei Diagnosestellung lag bei ca. 70% der Patienten nach der GHSG-Risikostratifizierung ein frühes Stadium vor) bei Vorliegen eines negativen PET/CTs nach drei Zyklen ABVD entweder in einen Nachbeobachtungsarm oder in einen Therapiearm mit konsolidierender Strahlentherapie mit 30 Gy IF-RT randomisiert."
      ],
      "text/plain": [
       "<IPython.core.display.Markdown object>"
      ]
     },
     "metadata": {},
     "output_type": "display_data"
    },
    {
     "data": {
      "text/markdown": [
       "In die „RAPID“-Studie des britischen „National Cancer Research Institute“(NCRI) wurden Patienten im Stadium IA/Stadium IIA eines klassischen Hodgkin Lymphoms (bei Diagnosestellung lag bei ca. 70% der Patienten nach der GHSG-Risikostratifizierung ein frühes Stadium vor) bei Vorliegen eines negativen PET/CTs nach drei Zyklen ABVD entweder in einen Nachbeobachtungsarm oder in einen Therapiearm mit konsolidierender Strahlentherapie mit 30 Gy IF-RT randomisiert."
      ],
      "text/plain": [
       "<IPython.core.display.Markdown object>"
      ]
     },
     "metadata": {},
     "output_type": "display_data"
    },
    {
     "data": {
      "text/html": [
       "<html><body><div>In die „RAPID“-Studie des britischen „National Cancer Research Institute“(NCRI) wurden Patienten im Stadium IA/<span style=\"background-color: lightgreen;\">Stadium </span>IIA eines klassischen Hodgkin Lymphoms (bei Diagnosestellung lag bei ca. 70% der Patienten nach der GHSG-Risikostratifizierung ein frühes Stadium vor) bei Vorliegen eines negativen PET/CTs nach drei Zyklen ABVD entweder in einen Nachbeobachtungsarm oder in einen Therapiearm mit konsolidierender Strahlentherapie mit 30 Gy IF-RT randomisiert.</div></body></html>"
      ],
      "text/plain": [
       "<IPython.core.display.HTML object>"
      ]
     },
     "metadata": {},
     "output_type": "display_data"
    },
    {
     "data": {
      "application/vnd.jupyter.widget-view+json": {
       "model_id": "6fec0e3ab3374febaf7086506592ded0",
       "version_major": 2,
       "version_minor": 0
      },
      "text/plain": [
       "  0%|          | 0/1 [00:00<?, ?it/s]"
      ]
     },
     "metadata": {},
     "output_type": "display_data"
    },
    {
     "data": {
      "text/html": [
       "<div>\n",
       "<style scoped>\n",
       "    .dataframe tbody tr th:only-of-type {\n",
       "        vertical-align: middle;\n",
       "    }\n",
       "\n",
       "    .dataframe tbody tr th {\n",
       "        vertical-align: top;\n",
       "    }\n",
       "\n",
       "    .dataframe thead th {\n",
       "        text-align: right;\n",
       "    }\n",
       "</style>\n",
       "<table border=\"1\" class=\"dataframe\">\n",
       "  <thead>\n",
       "    <tr style=\"text-align: right;\">\n",
       "      <th></th>\n",
       "      <th>document</th>\n",
       "      <th>text</th>\n",
       "      <th>type</th>\n",
       "      <th>start</th>\n",
       "      <th>end</th>\n",
       "      <th>cui</th>\n",
       "      <th>tuis</th>\n",
       "      <th>canonical</th>\n",
       "      <th>linker</th>\n",
       "      <th>confidence</th>\n",
       "    </tr>\n",
       "  </thead>\n",
       "  <tbody>\n",
       "    <tr>\n",
       "      <th>0</th>\n",
       "      <td>18_hodgkin-lymphom_0051_5</td>\n",
       "      <td>Cancer</td>\n",
       "      <td>Diagnosis_or_Pathology</td>\n",
       "      <td>47</td>\n",
       "      <td>53</td>\n",
       "      <td>C0006826</td>\n",
       "      <td>[T191]</td>\n",
       "      <td>Krebserkrankung</td>\n",
       "      <td>[ngram, sapbert]</td>\n",
       "      <td>0.118521</td>\n",
       "    </tr>\n",
       "    <tr>\n",
       "      <th>1</th>\n",
       "      <td>18_hodgkin-lymphom_0051_5</td>\n",
       "      <td>Stadium IA/IIA eines klassischen Hodgkin Lymphoms</td>\n",
       "      <td>Diagnosis_or_Pathology</td>\n",
       "      <td>100</td>\n",
       "      <td>149</td>\n",
       "      <td>C0262516</td>\n",
       "      <td>[T191]</td>\n",
       "      <td>Ann Arbor Stage IIA Hodgkin Lymphoma</td>\n",
       "      <td>[ngram, sapbert]</td>\n",
       "      <td>0.068773</td>\n",
       "    </tr>\n",
       "    <tr>\n",
       "      <th>2</th>\n",
       "      <td>18_hodgkin-lymphom_0051_5</td>\n",
       "      <td>Diagnosestellung</td>\n",
       "      <td>Diagnostic</td>\n",
       "      <td>155</td>\n",
       "      <td>171</td>\n",
       "      <td>C0011900</td>\n",
       "      <td>[T060]</td>\n",
       "      <td>Diagnostik</td>\n",
       "      <td>[ngram, sapbert]</td>\n",
       "      <td>0.079946</td>\n",
       "    </tr>\n",
       "    <tr>\n",
       "      <th>3</th>\n",
       "      <td>18_hodgkin-lymphom_0051_5</td>\n",
       "      <td>GHSG-Risikostratifizierung</td>\n",
       "      <td>Diagnostic</td>\n",
       "      <td>211</td>\n",
       "      <td>237</td>\n",
       "      <td>C0391690</td>\n",
       "      <td>[T116, T192]</td>\n",
       "      <td>Rezeptoren, Ghrelin-</td>\n",
       "      <td>[sapbert]</td>\n",
       "      <td>0.063205</td>\n",
       "    </tr>\n",
       "    <tr>\n",
       "      <th>4</th>\n",
       "      <td>18_hodgkin-lymphom_0051_5</td>\n",
       "      <td>frühes Stadium</td>\n",
       "      <td>Diagnosis_or_Pathology</td>\n",
       "      <td>242</td>\n",
       "      <td>256</td>\n",
       "      <td>C2363430</td>\n",
       "      <td>[T079]</td>\n",
       "      <td>Early stage</td>\n",
       "      <td>[sapbert]</td>\n",
       "      <td>0.141263</td>\n",
       "    </tr>\n",
       "    <tr>\n",
       "      <th>5</th>\n",
       "      <td>18_hodgkin-lymphom_0051_5</td>\n",
       "      <td>drei Zyklen ABVD</td>\n",
       "      <td>Therapeutic</td>\n",
       "      <td>305</td>\n",
       "      <td>321</td>\n",
       "      <td>C0050380</td>\n",
       "      <td>[T061]</td>\n",
       "      <td>BLEO/DOX/DTIC/VBL</td>\n",
       "      <td>[sapbert]</td>\n",
       "      <td>0.067385</td>\n",
       "    </tr>\n",
       "    <tr>\n",
       "      <th>6</th>\n",
       "      <td>18_hodgkin-lymphom_0051_5</td>\n",
       "      <td>Nachbeobachtungsarm</td>\n",
       "      <td>Diagnostic</td>\n",
       "      <td>340</td>\n",
       "      <td>359</td>\n",
       "      <td>C4684721</td>\n",
       "      <td>[T058]</td>\n",
       "      <td>Observer Assessment</td>\n",
       "      <td>[sapbert]</td>\n",
       "      <td>0.082006</td>\n",
       "    </tr>\n",
       "    <tr>\n",
       "      <th>7</th>\n",
       "      <td>18_hodgkin-lymphom_0051_5</td>\n",
       "      <td>Therapiearm mit konsolidierender Strahlenthera...</td>\n",
       "      <td>Therapeutic</td>\n",
       "      <td>374</td>\n",
       "      <td>439</td>\n",
       "      <td>C1522449</td>\n",
       "      <td>[T061]</td>\n",
       "      <td>Strahlentherapie</td>\n",
       "      <td>[ngram]</td>\n",
       "      <td>0.067481</td>\n",
       "    </tr>\n",
       "  </tbody>\n",
       "</table>\n",
       "</div>"
      ],
      "text/plain": [
       "                    document  \\\n",
       "0  18_hodgkin-lymphom_0051_5   \n",
       "1  18_hodgkin-lymphom_0051_5   \n",
       "2  18_hodgkin-lymphom_0051_5   \n",
       "3  18_hodgkin-lymphom_0051_5   \n",
       "4  18_hodgkin-lymphom_0051_5   \n",
       "5  18_hodgkin-lymphom_0051_5   \n",
       "6  18_hodgkin-lymphom_0051_5   \n",
       "7  18_hodgkin-lymphom_0051_5   \n",
       "\n",
       "                                                text                    type  \\\n",
       "0                                             Cancer  Diagnosis_or_Pathology   \n",
       "1  Stadium IA/IIA eines klassischen Hodgkin Lymphoms  Diagnosis_or_Pathology   \n",
       "2                                   Diagnosestellung              Diagnostic   \n",
       "3                         GHSG-Risikostratifizierung              Diagnostic   \n",
       "4                                     frühes Stadium  Diagnosis_or_Pathology   \n",
       "5                                   drei Zyklen ABVD             Therapeutic   \n",
       "6                                Nachbeobachtungsarm              Diagnostic   \n",
       "7  Therapiearm mit konsolidierender Strahlenthera...             Therapeutic   \n",
       "\n",
       "   start  end       cui          tuis                             canonical  \\\n",
       "0     47   53  C0006826        [T191]                       Krebserkrankung   \n",
       "1    100  149  C0262516        [T191]  Ann Arbor Stage IIA Hodgkin Lymphoma   \n",
       "2    155  171  C0011900        [T060]                            Diagnostik   \n",
       "3    211  237  C0391690  [T116, T192]                  Rezeptoren, Ghrelin-   \n",
       "4    242  256  C2363430        [T079]                           Early stage   \n",
       "5    305  321  C0050380        [T061]                     BLEO/DOX/DTIC/VBL   \n",
       "6    340  359  C4684721        [T058]                   Observer Assessment   \n",
       "7    374  439  C1522449        [T061]                      Strahlentherapie   \n",
       "\n",
       "             linker  confidence  \n",
       "0  [ngram, sapbert]    0.118521  \n",
       "1  [ngram, sapbert]    0.068773  \n",
       "2  [ngram, sapbert]    0.079946  \n",
       "3         [sapbert]    0.063205  \n",
       "4         [sapbert]    0.141263  \n",
       "5         [sapbert]    0.067385  \n",
       "6         [sapbert]    0.082006  \n",
       "7           [ngram]    0.067481  "
      ]
     },
     "metadata": {},
     "output_type": "display_data"
    },
    {
     "data": {
      "application/vnd.jupyter.widget-view+json": {
       "model_id": "4c970418f1dd4552976686029f863877",
       "version_major": 2,
       "version_minor": 0
      },
      "text/plain": [
       "  0%|          | 0/1 [00:00<?, ?it/s]"
      ]
     },
     "metadata": {},
     "output_type": "display_data"
    },
    {
     "data": {
      "text/html": [
       "<div>\n",
       "<style scoped>\n",
       "    .dataframe tbody tr th:only-of-type {\n",
       "        vertical-align: middle;\n",
       "    }\n",
       "\n",
       "    .dataframe tbody tr th {\n",
       "        vertical-align: top;\n",
       "    }\n",
       "\n",
       "    .dataframe thead th {\n",
       "        text-align: right;\n",
       "    }\n",
       "</style>\n",
       "<table border=\"1\" class=\"dataframe\">\n",
       "  <thead>\n",
       "    <tr style=\"text-align: right;\">\n",
       "      <th></th>\n",
       "      <th>document</th>\n",
       "      <th>text</th>\n",
       "      <th>type</th>\n",
       "      <th>start</th>\n",
       "      <th>end</th>\n",
       "      <th>cui</th>\n",
       "      <th>tuis</th>\n",
       "      <th>canonical</th>\n",
       "      <th>linker</th>\n",
       "      <th>confidence</th>\n",
       "    </tr>\n",
       "  </thead>\n",
       "  <tbody>\n",
       "    <tr>\n",
       "      <th>0</th>\n",
       "      <td>18_hodgkin-lymphom_0051_5</td>\n",
       "      <td>Cancer</td>\n",
       "      <td>Diagnosis_or_Pathology</td>\n",
       "      <td>47</td>\n",
       "      <td>53</td>\n",
       "      <td>C0006826</td>\n",
       "      <td>[T191]</td>\n",
       "      <td>Krebserkrankung</td>\n",
       "      <td>[ngram, sapbert]</td>\n",
       "      <td>0.118089</td>\n",
       "    </tr>\n",
       "    <tr>\n",
       "      <th>1</th>\n",
       "      <td>18_hodgkin-lymphom_0051_5</td>\n",
       "      <td>Diagnosestellung</td>\n",
       "      <td>Diagnostic</td>\n",
       "      <td>163</td>\n",
       "      <td>179</td>\n",
       "      <td>C0011900</td>\n",
       "      <td>[T060]</td>\n",
       "      <td>Diagnostik</td>\n",
       "      <td>[ngram, sapbert]</td>\n",
       "      <td>0.079933</td>\n",
       "    </tr>\n",
       "    <tr>\n",
       "      <th>2</th>\n",
       "      <td>18_hodgkin-lymphom_0051_5</td>\n",
       "      <td>GHSG-Risikostratifizierung</td>\n",
       "      <td>Diagnostic</td>\n",
       "      <td>219</td>\n",
       "      <td>245</td>\n",
       "      <td>C0391690</td>\n",
       "      <td>[T116, T192]</td>\n",
       "      <td>Rezeptoren, Ghrelin-</td>\n",
       "      <td>[sapbert]</td>\n",
       "      <td>0.063113</td>\n",
       "    </tr>\n",
       "    <tr>\n",
       "      <th>3</th>\n",
       "      <td>18_hodgkin-lymphom_0051_5</td>\n",
       "      <td>frühes Stadium</td>\n",
       "      <td>Diagnosis_or_Pathology</td>\n",
       "      <td>250</td>\n",
       "      <td>264</td>\n",
       "      <td>C2363430</td>\n",
       "      <td>[T079]</td>\n",
       "      <td>Early stage</td>\n",
       "      <td>[sapbert]</td>\n",
       "      <td>0.141263</td>\n",
       "    </tr>\n",
       "    <tr>\n",
       "      <th>4</th>\n",
       "      <td>18_hodgkin-lymphom_0051_5</td>\n",
       "      <td>drei Zyklen ABVD</td>\n",
       "      <td>Therapeutic</td>\n",
       "      <td>313</td>\n",
       "      <td>329</td>\n",
       "      <td>C0050380</td>\n",
       "      <td>[T061]</td>\n",
       "      <td>BLEO/DOX/DTIC/VBL</td>\n",
       "      <td>[sapbert]</td>\n",
       "      <td>0.067385</td>\n",
       "    </tr>\n",
       "    <tr>\n",
       "      <th>5</th>\n",
       "      <td>18_hodgkin-lymphom_0051_5</td>\n",
       "      <td>Nachbeobachtungsarm</td>\n",
       "      <td>Diagnostic</td>\n",
       "      <td>348</td>\n",
       "      <td>367</td>\n",
       "      <td>C4684721</td>\n",
       "      <td>[T058]</td>\n",
       "      <td>Observer Assessment</td>\n",
       "      <td>[sapbert]</td>\n",
       "      <td>0.082006</td>\n",
       "    </tr>\n",
       "    <tr>\n",
       "      <th>6</th>\n",
       "      <td>18_hodgkin-lymphom_0051_5</td>\n",
       "      <td>Therapiearm mit konsolidierender Strahlenthera...</td>\n",
       "      <td>Therapeutic</td>\n",
       "      <td>382</td>\n",
       "      <td>447</td>\n",
       "      <td>C1522449</td>\n",
       "      <td>[T061]</td>\n",
       "      <td>Strahlentherapie</td>\n",
       "      <td>[ngram]</td>\n",
       "      <td>0.067481</td>\n",
       "    </tr>\n",
       "  </tbody>\n",
       "</table>\n",
       "</div>"
      ],
      "text/plain": [
       "                    document  \\\n",
       "0  18_hodgkin-lymphom_0051_5   \n",
       "1  18_hodgkin-lymphom_0051_5   \n",
       "2  18_hodgkin-lymphom_0051_5   \n",
       "3  18_hodgkin-lymphom_0051_5   \n",
       "4  18_hodgkin-lymphom_0051_5   \n",
       "5  18_hodgkin-lymphom_0051_5   \n",
       "6  18_hodgkin-lymphom_0051_5   \n",
       "\n",
       "                                                text                    type  \\\n",
       "0                                             Cancer  Diagnosis_or_Pathology   \n",
       "1                                   Diagnosestellung              Diagnostic   \n",
       "2                         GHSG-Risikostratifizierung              Diagnostic   \n",
       "3                                     frühes Stadium  Diagnosis_or_Pathology   \n",
       "4                                   drei Zyklen ABVD             Therapeutic   \n",
       "5                                Nachbeobachtungsarm              Diagnostic   \n",
       "6  Therapiearm mit konsolidierender Strahlenthera...             Therapeutic   \n",
       "\n",
       "   start  end       cui          tuis             canonical            linker  \\\n",
       "0     47   53  C0006826        [T191]       Krebserkrankung  [ngram, sapbert]   \n",
       "1    163  179  C0011900        [T060]            Diagnostik  [ngram, sapbert]   \n",
       "2    219  245  C0391690  [T116, T192]  Rezeptoren, Ghrelin-         [sapbert]   \n",
       "3    250  264  C2363430        [T079]           Early stage         [sapbert]   \n",
       "4    313  329  C0050380        [T061]     BLEO/DOX/DTIC/VBL         [sapbert]   \n",
       "5    348  367  C4684721        [T058]   Observer Assessment         [sapbert]   \n",
       "6    382  447  C1522449        [T061]      Strahlentherapie           [ngram]   \n",
       "\n",
       "   confidence  \n",
       "0    0.118089  \n",
       "1    0.079933  \n",
       "2    0.063113  \n",
       "3    0.141263  \n",
       "4    0.067385  \n",
       "5    0.082006  \n",
       "6    0.067481  "
      ]
     },
     "metadata": {},
     "output_type": "display_data"
    },
    {
     "name": "stdout",
     "output_type": "stream",
     "text": [
      "Difference 19\n"
     ]
    },
    {
     "data": {
      "text/markdown": [
       "Empfehlungen zur Nachsorge nach Abschluss der Chemo- und Strahlentherapie"
      ],
      "text/plain": [
       "<IPython.core.display.Markdown object>"
      ]
     },
     "metadata": {},
     "output_type": "display_data"
    },
    {
     "data": {
      "text/markdown": [
       "Empfehlungen zur Nachsorge nach Abschluss der Chemotherapie und Strahlentherapie"
      ],
      "text/plain": [
       "<IPython.core.display.Markdown object>"
      ]
     },
     "metadata": {},
     "output_type": "display_data"
    },
    {
     "data": {
      "text/html": [
       "<html><body><div>Empfehlungen zur Nachsorge nach Abschluss der Chemo<span style=\"background-color: red; text-decoration: line-through;\">-</span><span style=\"background-color: lightgreen;\">therapie</span> und Strahlentherapie</div></body></html>"
      ],
      "text/plain": [
       "<IPython.core.display.HTML object>"
      ]
     },
     "metadata": {},
     "output_type": "display_data"
    },
    {
     "data": {
      "application/vnd.jupyter.widget-view+json": {
       "model_id": "445040f0e84e436e9d4765be593d9d3a",
       "version_major": 2,
       "version_minor": 0
      },
      "text/plain": [
       "  0%|          | 0/1 [00:00<?, ?it/s]"
      ]
     },
     "metadata": {},
     "output_type": "display_data"
    },
    {
     "data": {
      "text/html": [
       "<div>\n",
       "<style scoped>\n",
       "    .dataframe tbody tr th:only-of-type {\n",
       "        vertical-align: middle;\n",
       "    }\n",
       "\n",
       "    .dataframe tbody tr th {\n",
       "        vertical-align: top;\n",
       "    }\n",
       "\n",
       "    .dataframe thead th {\n",
       "        text-align: right;\n",
       "    }\n",
       "</style>\n",
       "<table border=\"1\" class=\"dataframe\">\n",
       "  <thead>\n",
       "    <tr style=\"text-align: right;\">\n",
       "      <th></th>\n",
       "      <th>document</th>\n",
       "      <th>text</th>\n",
       "      <th>type</th>\n",
       "      <th>start</th>\n",
       "      <th>end</th>\n",
       "      <th>cui</th>\n",
       "      <th>tuis</th>\n",
       "      <th>canonical</th>\n",
       "      <th>linker</th>\n",
       "      <th>confidence</th>\n",
       "    </tr>\n",
       "  </thead>\n",
       "  <tbody>\n",
       "    <tr>\n",
       "      <th>0</th>\n",
       "      <td>18_hodgkin-lymphom_0051_42</td>\n",
       "      <td>Nachsorge</td>\n",
       "      <td>Diagnostic</td>\n",
       "      <td>17</td>\n",
       "      <td>26</td>\n",
       "      <td>C0001758</td>\n",
       "      <td>[T058]</td>\n",
       "      <td>Nachsorge</td>\n",
       "      <td>[ngram, sapbert]</td>\n",
       "      <td>0.109718</td>\n",
       "    </tr>\n",
       "    <tr>\n",
       "      <th>1</th>\n",
       "      <td>18_hodgkin-lymphom_0051_42</td>\n",
       "      <td>Chemo-</td>\n",
       "      <td>Therapeutic</td>\n",
       "      <td>46</td>\n",
       "      <td>52</td>\n",
       "      <td>C3665472</td>\n",
       "      <td>[T061]</td>\n",
       "      <td>Chemotherapie</td>\n",
       "      <td>[ngram, sapbert]</td>\n",
       "      <td>0.096639</td>\n",
       "    </tr>\n",
       "    <tr>\n",
       "      <th>2</th>\n",
       "      <td>18_hodgkin-lymphom_0051_42</td>\n",
       "      <td>Strahlentherapie</td>\n",
       "      <td>Therapeutic</td>\n",
       "      <td>57</td>\n",
       "      <td>73</td>\n",
       "      <td>C1522449</td>\n",
       "      <td>[T061]</td>\n",
       "      <td>Strahlentherapie</td>\n",
       "      <td>[ngram, sapbert]</td>\n",
       "      <td>0.141216</td>\n",
       "    </tr>\n",
       "  </tbody>\n",
       "</table>\n",
       "</div>"
      ],
      "text/plain": [
       "                     document              text         type  start  end  \\\n",
       "0  18_hodgkin-lymphom_0051_42         Nachsorge   Diagnostic     17   26   \n",
       "1  18_hodgkin-lymphom_0051_42            Chemo-  Therapeutic     46   52   \n",
       "2  18_hodgkin-lymphom_0051_42  Strahlentherapie  Therapeutic     57   73   \n",
       "\n",
       "        cui    tuis         canonical            linker  confidence  \n",
       "0  C0001758  [T058]         Nachsorge  [ngram, sapbert]    0.109718  \n",
       "1  C3665472  [T061]     Chemotherapie  [ngram, sapbert]    0.096639  \n",
       "2  C1522449  [T061]  Strahlentherapie  [ngram, sapbert]    0.141216  "
      ]
     },
     "metadata": {},
     "output_type": "display_data"
    },
    {
     "data": {
      "application/vnd.jupyter.widget-view+json": {
       "model_id": "fc94398e29654517acd5dd4ffc5ba99b",
       "version_major": 2,
       "version_minor": 0
      },
      "text/plain": [
       "  0%|          | 0/1 [00:00<?, ?it/s]"
      ]
     },
     "metadata": {},
     "output_type": "display_data"
    },
    {
     "data": {
      "text/html": [
       "<div>\n",
       "<style scoped>\n",
       "    .dataframe tbody tr th:only-of-type {\n",
       "        vertical-align: middle;\n",
       "    }\n",
       "\n",
       "    .dataframe tbody tr th {\n",
       "        vertical-align: top;\n",
       "    }\n",
       "\n",
       "    .dataframe thead th {\n",
       "        text-align: right;\n",
       "    }\n",
       "</style>\n",
       "<table border=\"1\" class=\"dataframe\">\n",
       "  <thead>\n",
       "    <tr style=\"text-align: right;\">\n",
       "      <th></th>\n",
       "      <th>document</th>\n",
       "      <th>text</th>\n",
       "      <th>type</th>\n",
       "      <th>start</th>\n",
       "      <th>end</th>\n",
       "      <th>cui</th>\n",
       "      <th>tuis</th>\n",
       "      <th>canonical</th>\n",
       "      <th>linker</th>\n",
       "      <th>confidence</th>\n",
       "    </tr>\n",
       "  </thead>\n",
       "  <tbody>\n",
       "    <tr>\n",
       "      <th>0</th>\n",
       "      <td>18_hodgkin-lymphom_0051_42</td>\n",
       "      <td>Nachsorge</td>\n",
       "      <td>Diagnostic</td>\n",
       "      <td>17</td>\n",
       "      <td>26</td>\n",
       "      <td>C0001758</td>\n",
       "      <td>[T058]</td>\n",
       "      <td>Nachsorge</td>\n",
       "      <td>[ngram, sapbert]</td>\n",
       "      <td>0.114159</td>\n",
       "    </tr>\n",
       "    <tr>\n",
       "      <th>1</th>\n",
       "      <td>18_hodgkin-lymphom_0051_42</td>\n",
       "      <td>Abschluss der Chemotherapie</td>\n",
       "      <td>Therapeutic</td>\n",
       "      <td>32</td>\n",
       "      <td>59</td>\n",
       "      <td>C3665472</td>\n",
       "      <td>[T061]</td>\n",
       "      <td>Chemotherapie</td>\n",
       "      <td>[ngram, sapbert]</td>\n",
       "      <td>0.066714</td>\n",
       "    </tr>\n",
       "    <tr>\n",
       "      <th>2</th>\n",
       "      <td>18_hodgkin-lymphom_0051_42</td>\n",
       "      <td>Chemotherapie</td>\n",
       "      <td>Therapeutic</td>\n",
       "      <td>46</td>\n",
       "      <td>59</td>\n",
       "      <td>C3665472</td>\n",
       "      <td>[T061]</td>\n",
       "      <td>Chemotherapie</td>\n",
       "      <td>[ngram, sapbert]</td>\n",
       "      <td>0.115146</td>\n",
       "    </tr>\n",
       "    <tr>\n",
       "      <th>3</th>\n",
       "      <td>18_hodgkin-lymphom_0051_42</td>\n",
       "      <td>Strahlentherapie</td>\n",
       "      <td>Therapeutic</td>\n",
       "      <td>64</td>\n",
       "      <td>80</td>\n",
       "      <td>C1522449</td>\n",
       "      <td>[T061]</td>\n",
       "      <td>Strahlentherapie</td>\n",
       "      <td>[ngram, sapbert]</td>\n",
       "      <td>0.140303</td>\n",
       "    </tr>\n",
       "  </tbody>\n",
       "</table>\n",
       "</div>"
      ],
      "text/plain": [
       "                     document                         text         type  \\\n",
       "0  18_hodgkin-lymphom_0051_42                    Nachsorge   Diagnostic   \n",
       "1  18_hodgkin-lymphom_0051_42  Abschluss der Chemotherapie  Therapeutic   \n",
       "2  18_hodgkin-lymphom_0051_42                Chemotherapie  Therapeutic   \n",
       "3  18_hodgkin-lymphom_0051_42             Strahlentherapie  Therapeutic   \n",
       "\n",
       "   start  end       cui    tuis         canonical            linker  \\\n",
       "0     17   26  C0001758  [T058]         Nachsorge  [ngram, sapbert]   \n",
       "1     32   59  C3665472  [T061]     Chemotherapie  [ngram, sapbert]   \n",
       "2     46   59  C3665472  [T061]     Chemotherapie  [ngram, sapbert]   \n",
       "3     64   80  C1522449  [T061]  Strahlentherapie  [ngram, sapbert]   \n",
       "\n",
       "   confidence  \n",
       "0    0.114159  \n",
       "1    0.066714  \n",
       "2    0.115146  \n",
       "3    0.140303  "
      ]
     },
     "metadata": {},
     "output_type": "display_data"
    },
    {
     "name": "stdout",
     "output_type": "stream",
     "text": [
      "Difference 20\n"
     ]
    },
    {
     "data": {
      "text/markdown": [
       "Dies kann durch sonographisch- oder CT-gesteuerte Feinnadelbiopsie oder mittels Medianoskopie/Laparoskopie erfolgen."
      ],
      "text/plain": [
       "<IPython.core.display.Markdown object>"
      ]
     },
     "metadata": {},
     "output_type": "display_data"
    },
    {
     "data": {
      "text/markdown": [
       "Dies kann durch sonographisch-gesteuerte oder CT-gesteuerte Feinnadelbiopsie oder mittels Medianoskopie/Laparoskopie erfolgen."
      ],
      "text/plain": [
       "<IPython.core.display.Markdown object>"
      ]
     },
     "metadata": {},
     "output_type": "display_data"
    },
    {
     "data": {
      "text/html": [
       "<html><body><div>Dies kann durch sonographisch-<span style=\"background-color: lightgreen;\">gesteuerte</span> oder CT-gesteuerte Feinnadelbiopsie oder mittels Medianoskopie/Laparoskopie erfolgen.</div></body></html>"
      ],
      "text/plain": [
       "<IPython.core.display.HTML object>"
      ]
     },
     "metadata": {},
     "output_type": "display_data"
    },
    {
     "data": {
      "application/vnd.jupyter.widget-view+json": {
       "model_id": "fc3e9633e6074b8da25af427b947c97b",
       "version_major": 2,
       "version_minor": 0
      },
      "text/plain": [
       "  0%|          | 0/1 [00:00<?, ?it/s]"
      ]
     },
     "metadata": {},
     "output_type": "display_data"
    },
    {
     "data": {
      "text/html": [
       "<div>\n",
       "<style scoped>\n",
       "    .dataframe tbody tr th:only-of-type {\n",
       "        vertical-align: middle;\n",
       "    }\n",
       "\n",
       "    .dataframe tbody tr th {\n",
       "        vertical-align: top;\n",
       "    }\n",
       "\n",
       "    .dataframe thead th {\n",
       "        text-align: right;\n",
       "    }\n",
       "</style>\n",
       "<table border=\"1\" class=\"dataframe\">\n",
       "  <thead>\n",
       "    <tr style=\"text-align: right;\">\n",
       "      <th></th>\n",
       "      <th>document</th>\n",
       "      <th>text</th>\n",
       "      <th>type</th>\n",
       "      <th>start</th>\n",
       "      <th>end</th>\n",
       "      <th>cui</th>\n",
       "      <th>tuis</th>\n",
       "      <th>canonical</th>\n",
       "      <th>linker</th>\n",
       "      <th>confidence</th>\n",
       "    </tr>\n",
       "  </thead>\n",
       "  <tbody>\n",
       "    <tr>\n",
       "      <th>0</th>\n",
       "      <td>21_hodentumoren_0260_21</td>\n",
       "      <td>sonographisch- oder CT-gesteuerte Feinnadelbio...</td>\n",
       "      <td>Diagnostic</td>\n",
       "      <td>16</td>\n",
       "      <td>66</td>\n",
       "      <td>C0085846</td>\n",
       "      <td>[T060]</td>\n",
       "      <td>Biopsie, Feinnadel-</td>\n",
       "      <td>[ngram, sapbert]</td>\n",
       "      <td>0.076167</td>\n",
       "    </tr>\n",
       "    <tr>\n",
       "      <th>1</th>\n",
       "      <td>21_hodentumoren_0260_21</td>\n",
       "      <td>Medianoskopie</td>\n",
       "      <td>Diagnostic</td>\n",
       "      <td>80</td>\n",
       "      <td>93</td>\n",
       "      <td>C0029090</td>\n",
       "      <td>[T060]</td>\n",
       "      <td>Ophthalmoskopie</td>\n",
       "      <td>[ngram, sapbert]</td>\n",
       "      <td>0.064008</td>\n",
       "    </tr>\n",
       "    <tr>\n",
       "      <th>2</th>\n",
       "      <td>21_hodentumoren_0260_21</td>\n",
       "      <td>Laparoskopie</td>\n",
       "      <td>Diagnostic</td>\n",
       "      <td>94</td>\n",
       "      <td>106</td>\n",
       "      <td>C0031150</td>\n",
       "      <td>[T060]</td>\n",
       "      <td>Laparoskopie</td>\n",
       "      <td>[ngram, sapbert]</td>\n",
       "      <td>0.121292</td>\n",
       "    </tr>\n",
       "  </tbody>\n",
       "</table>\n",
       "</div>"
      ],
      "text/plain": [
       "                  document                                               text  \\\n",
       "0  21_hodentumoren_0260_21  sonographisch- oder CT-gesteuerte Feinnadelbio...   \n",
       "1  21_hodentumoren_0260_21                                      Medianoskopie   \n",
       "2  21_hodentumoren_0260_21                                       Laparoskopie   \n",
       "\n",
       "         type  start  end       cui    tuis            canonical  \\\n",
       "0  Diagnostic     16   66  C0085846  [T060]  Biopsie, Feinnadel-   \n",
       "1  Diagnostic     80   93  C0029090  [T060]      Ophthalmoskopie   \n",
       "2  Diagnostic     94  106  C0031150  [T060]         Laparoskopie   \n",
       "\n",
       "             linker  confidence  \n",
       "0  [ngram, sapbert]    0.076167  \n",
       "1  [ngram, sapbert]    0.064008  \n",
       "2  [ngram, sapbert]    0.121292  "
      ]
     },
     "metadata": {},
     "output_type": "display_data"
    },
    {
     "data": {
      "application/vnd.jupyter.widget-view+json": {
       "model_id": "e8df2c235a7a4977b45531e390ab71e2",
       "version_major": 2,
       "version_minor": 0
      },
      "text/plain": [
       "  0%|          | 0/1 [00:00<?, ?it/s]"
      ]
     },
     "metadata": {},
     "output_type": "display_data"
    },
    {
     "data": {
      "text/html": [
       "<div>\n",
       "<style scoped>\n",
       "    .dataframe tbody tr th:only-of-type {\n",
       "        vertical-align: middle;\n",
       "    }\n",
       "\n",
       "    .dataframe tbody tr th {\n",
       "        vertical-align: top;\n",
       "    }\n",
       "\n",
       "    .dataframe thead th {\n",
       "        text-align: right;\n",
       "    }\n",
       "</style>\n",
       "<table border=\"1\" class=\"dataframe\">\n",
       "  <thead>\n",
       "    <tr style=\"text-align: right;\">\n",
       "      <th></th>\n",
       "      <th>document</th>\n",
       "      <th>text</th>\n",
       "      <th>type</th>\n",
       "      <th>start</th>\n",
       "      <th>end</th>\n",
       "      <th>cui</th>\n",
       "      <th>tuis</th>\n",
       "      <th>canonical</th>\n",
       "      <th>linker</th>\n",
       "      <th>confidence</th>\n",
       "    </tr>\n",
       "  </thead>\n",
       "  <tbody>\n",
       "    <tr>\n",
       "      <th>0</th>\n",
       "      <td>21_hodentumoren_0260_21</td>\n",
       "      <td>sonographisch-gesteuerte oder CT-gesteuerte Fe...</td>\n",
       "      <td>Diagnostic</td>\n",
       "      <td>16</td>\n",
       "      <td>76</td>\n",
       "      <td>C0085846</td>\n",
       "      <td>[T060]</td>\n",
       "      <td>Biopsie, Feinnadel-</td>\n",
       "      <td>[ngram, sapbert]</td>\n",
       "      <td>0.076588</td>\n",
       "    </tr>\n",
       "    <tr>\n",
       "      <th>1</th>\n",
       "      <td>21_hodentumoren_0260_21</td>\n",
       "      <td>Medianoskopie</td>\n",
       "      <td>Diagnostic</td>\n",
       "      <td>90</td>\n",
       "      <td>103</td>\n",
       "      <td>C0029090</td>\n",
       "      <td>[T060]</td>\n",
       "      <td>Ophthalmoskopie</td>\n",
       "      <td>[ngram, sapbert]</td>\n",
       "      <td>0.064063</td>\n",
       "    </tr>\n",
       "    <tr>\n",
       "      <th>2</th>\n",
       "      <td>21_hodentumoren_0260_21</td>\n",
       "      <td>Laparoskopie</td>\n",
       "      <td>Diagnostic</td>\n",
       "      <td>104</td>\n",
       "      <td>116</td>\n",
       "      <td>C0031150</td>\n",
       "      <td>[T060]</td>\n",
       "      <td>Laparoskopie</td>\n",
       "      <td>[ngram, sapbert]</td>\n",
       "      <td>0.119639</td>\n",
       "    </tr>\n",
       "  </tbody>\n",
       "</table>\n",
       "</div>"
      ],
      "text/plain": [
       "                  document                                               text  \\\n",
       "0  21_hodentumoren_0260_21  sonographisch-gesteuerte oder CT-gesteuerte Fe...   \n",
       "1  21_hodentumoren_0260_21                                      Medianoskopie   \n",
       "2  21_hodentumoren_0260_21                                       Laparoskopie   \n",
       "\n",
       "         type  start  end       cui    tuis            canonical  \\\n",
       "0  Diagnostic     16   76  C0085846  [T060]  Biopsie, Feinnadel-   \n",
       "1  Diagnostic     90  103  C0029090  [T060]      Ophthalmoskopie   \n",
       "2  Diagnostic    104  116  C0031150  [T060]         Laparoskopie   \n",
       "\n",
       "             linker  confidence  \n",
       "0  [ngram, sapbert]    0.076588  \n",
       "1  [ngram, sapbert]    0.064063  \n",
       "2  [ngram, sapbert]    0.119639  "
      ]
     },
     "metadata": {},
     "output_type": "display_data"
    },
    {
     "name": "stdout",
     "output_type": "stream",
     "text": [
      "Difference 21\n"
     ]
    },
    {
     "data": {
      "text/markdown": [
       "Dysurie (26 % versus 2 %), Hämaturie (28 % versus 3 %), Drangsymptomatik (11 % versus <1 %), Harnverhaltung (17 % versus <1 %), Inkontinenz (10 % versus 4 %), Harnwegsinfekte (10,7 % versus 4,3 %) erektile Dysfunktion (38 % versus 11 %) sowie Prostata- oder Perinealschmerzen (18 % versus <1 %) [REF]."
      ],
      "text/plain": [
       "<IPython.core.display.Markdown object>"
      ]
     },
     "metadata": {},
     "output_type": "display_data"
    },
    {
     "data": {
      "text/markdown": [
       "Dysurie (26 % versus 2 %), Hämaturie (28 % versus 3 %), Drangsymptomatik (11 % versus <1 %), Harnverhaltung (17 % versus <1 %), Inkontinenz (10 % versus 4 %), Harnwegsinfekte (10,7 % versus 4,3 %) erektile Dysfunktion (38 % versus 11 %) sowie Prostataschmerzen oder Perinealschmerzen (18 % versus <1 %) [REF]."
      ],
      "text/plain": [
       "<IPython.core.display.Markdown object>"
      ]
     },
     "metadata": {},
     "output_type": "display_data"
    },
    {
     "data": {
      "text/html": [
       "<html><body><div>Dysurie (26 % versus 2 %), Hämaturie (28 % versus 3 %), Drangsymptomatik (11 % versus <1 %), Harnverhaltung (17 % versus <1 %), Inkontinenz (10 % versus 4 %), Harnwegsinfekte (10,7 % versus 4,3 %) erektile Dysfunktion (38 % versus 11 %) sowie Prostata<span style=\"background-color: red; text-decoration: line-through;\">-</span><span style=\"background-color: lightgreen;\">schmerzen</span> oder Perinealschmerzen (18 % versus <1 %) [REF].</div></body></html>"
      ],
      "text/plain": [
       "<IPython.core.display.HTML object>"
      ]
     },
     "metadata": {},
     "output_type": "display_data"
    },
    {
     "data": {
      "application/vnd.jupyter.widget-view+json": {
       "model_id": "c09eba2d331d41d79858720478fb24b3",
       "version_major": 2,
       "version_minor": 0
      },
      "text/plain": [
       "  0%|          | 0/1 [00:00<?, ?it/s]"
      ]
     },
     "metadata": {},
     "output_type": "display_data"
    },
    {
     "data": {
      "text/html": [
       "<div>\n",
       "<style scoped>\n",
       "    .dataframe tbody tr th:only-of-type {\n",
       "        vertical-align: middle;\n",
       "    }\n",
       "\n",
       "    .dataframe tbody tr th {\n",
       "        vertical-align: top;\n",
       "    }\n",
       "\n",
       "    .dataframe thead th {\n",
       "        text-align: right;\n",
       "    }\n",
       "</style>\n",
       "<table border=\"1\" class=\"dataframe\">\n",
       "  <thead>\n",
       "    <tr style=\"text-align: right;\">\n",
       "      <th></th>\n",
       "      <th>document</th>\n",
       "      <th>text</th>\n",
       "      <th>type</th>\n",
       "      <th>start</th>\n",
       "      <th>end</th>\n",
       "      <th>cui</th>\n",
       "      <th>tuis</th>\n",
       "      <th>canonical</th>\n",
       "      <th>linker</th>\n",
       "      <th>confidence</th>\n",
       "    </tr>\n",
       "  </thead>\n",
       "  <tbody>\n",
       "    <tr>\n",
       "      <th>0</th>\n",
       "      <td>22_prostatakarzinom_0153_14</td>\n",
       "      <td>Dysurie</td>\n",
       "      <td>Diagnosis_or_Pathology</td>\n",
       "      <td>0</td>\n",
       "      <td>7</td>\n",
       "      <td>C0013428</td>\n",
       "      <td>[T184]</td>\n",
       "      <td>Dysurie</td>\n",
       "      <td>[ngram, sapbert]</td>\n",
       "      <td>0.153963</td>\n",
       "    </tr>\n",
       "    <tr>\n",
       "      <th>1</th>\n",
       "      <td>22_prostatakarzinom_0153_14</td>\n",
       "      <td>Hämaturie</td>\n",
       "      <td>Diagnosis_or_Pathology</td>\n",
       "      <td>27</td>\n",
       "      <td>36</td>\n",
       "      <td>C0018965</td>\n",
       "      <td>[T047]</td>\n",
       "      <td>Hämaturie</td>\n",
       "      <td>[ngram, sapbert]</td>\n",
       "      <td>0.142960</td>\n",
       "    </tr>\n",
       "    <tr>\n",
       "      <th>2</th>\n",
       "      <td>22_prostatakarzinom_0153_14</td>\n",
       "      <td>Drangsymptomatik</td>\n",
       "      <td>Diagnosis_or_Pathology</td>\n",
       "      <td>56</td>\n",
       "      <td>72</td>\n",
       "      <td>C0087169</td>\n",
       "      <td>[T184]</td>\n",
       "      <td>Withdrawal Symptoms</td>\n",
       "      <td>[sapbert]</td>\n",
       "      <td>0.064590</td>\n",
       "    </tr>\n",
       "    <tr>\n",
       "      <th>3</th>\n",
       "      <td>22_prostatakarzinom_0153_14</td>\n",
       "      <td>Harnverhaltung</td>\n",
       "      <td>Diagnosis_or_Pathology</td>\n",
       "      <td>93</td>\n",
       "      <td>107</td>\n",
       "      <td>C0080274</td>\n",
       "      <td>[T169]</td>\n",
       "      <td>Harnverhalt</td>\n",
       "      <td>[ngram, sapbert]</td>\n",
       "      <td>0.143468</td>\n",
       "    </tr>\n",
       "    <tr>\n",
       "      <th>4</th>\n",
       "      <td>22_prostatakarzinom_0153_14</td>\n",
       "      <td>Inkontinenz</td>\n",
       "      <td>Diagnosis_or_Pathology</td>\n",
       "      <td>128</td>\n",
       "      <td>139</td>\n",
       "      <td>C0021167</td>\n",
       "      <td>[T047]</td>\n",
       "      <td>Inkontinenz</td>\n",
       "      <td>[ngram, sapbert]</td>\n",
       "      <td>0.121398</td>\n",
       "    </tr>\n",
       "    <tr>\n",
       "      <th>5</th>\n",
       "      <td>22_prostatakarzinom_0153_14</td>\n",
       "      <td>Harnwegsinfekte</td>\n",
       "      <td>Diagnosis_or_Pathology</td>\n",
       "      <td>159</td>\n",
       "      <td>174</td>\n",
       "      <td>C0042029</td>\n",
       "      <td>[T047]</td>\n",
       "      <td>Harnwegsinfektionen</td>\n",
       "      <td>[ngram, sapbert]</td>\n",
       "      <td>0.094017</td>\n",
       "    </tr>\n",
       "    <tr>\n",
       "      <th>6</th>\n",
       "      <td>22_prostatakarzinom_0153_14</td>\n",
       "      <td>erektile Dysfunktion</td>\n",
       "      <td>Diagnosis_or_Pathology</td>\n",
       "      <td>197</td>\n",
       "      <td>217</td>\n",
       "      <td>C0242350</td>\n",
       "      <td>[T047]</td>\n",
       "      <td>Erektile Dysfunktion</td>\n",
       "      <td>[ngram, sapbert]</td>\n",
       "      <td>0.195050</td>\n",
       "    </tr>\n",
       "    <tr>\n",
       "      <th>7</th>\n",
       "      <td>22_prostatakarzinom_0153_14</td>\n",
       "      <td>Prostata-</td>\n",
       "      <td>Diagnosis_or_Pathology</td>\n",
       "      <td>243</td>\n",
       "      <td>252</td>\n",
       "      <td>C0033572</td>\n",
       "      <td>[T023]</td>\n",
       "      <td>Prostata</td>\n",
       "      <td>[ngram, sapbert]</td>\n",
       "      <td>0.080446</td>\n",
       "    </tr>\n",
       "    <tr>\n",
       "      <th>8</th>\n",
       "      <td>22_prostatakarzinom_0153_14</td>\n",
       "      <td>Perinealschmerzen</td>\n",
       "      <td>Diagnosis_or_Pathology</td>\n",
       "      <td>258</td>\n",
       "      <td>275</td>\n",
       "      <td>C0240717</td>\n",
       "      <td>[T184]</td>\n",
       "      <td>Dammschmerz</td>\n",
       "      <td>[ngram, sapbert]</td>\n",
       "      <td>0.150069</td>\n",
       "    </tr>\n",
       "  </tbody>\n",
       "</table>\n",
       "</div>"
      ],
      "text/plain": [
       "                      document                  text                    type  \\\n",
       "0  22_prostatakarzinom_0153_14               Dysurie  Diagnosis_or_Pathology   \n",
       "1  22_prostatakarzinom_0153_14             Hämaturie  Diagnosis_or_Pathology   \n",
       "2  22_prostatakarzinom_0153_14      Drangsymptomatik  Diagnosis_or_Pathology   \n",
       "3  22_prostatakarzinom_0153_14        Harnverhaltung  Diagnosis_or_Pathology   \n",
       "4  22_prostatakarzinom_0153_14           Inkontinenz  Diagnosis_or_Pathology   \n",
       "5  22_prostatakarzinom_0153_14       Harnwegsinfekte  Diagnosis_or_Pathology   \n",
       "6  22_prostatakarzinom_0153_14  erektile Dysfunktion  Diagnosis_or_Pathology   \n",
       "7  22_prostatakarzinom_0153_14             Prostata-  Diagnosis_or_Pathology   \n",
       "8  22_prostatakarzinom_0153_14     Perinealschmerzen  Diagnosis_or_Pathology   \n",
       "\n",
       "   start  end       cui    tuis             canonical            linker  \\\n",
       "0      0    7  C0013428  [T184]               Dysurie  [ngram, sapbert]   \n",
       "1     27   36  C0018965  [T047]             Hämaturie  [ngram, sapbert]   \n",
       "2     56   72  C0087169  [T184]   Withdrawal Symptoms         [sapbert]   \n",
       "3     93  107  C0080274  [T169]           Harnverhalt  [ngram, sapbert]   \n",
       "4    128  139  C0021167  [T047]           Inkontinenz  [ngram, sapbert]   \n",
       "5    159  174  C0042029  [T047]   Harnwegsinfektionen  [ngram, sapbert]   \n",
       "6    197  217  C0242350  [T047]  Erektile Dysfunktion  [ngram, sapbert]   \n",
       "7    243  252  C0033572  [T023]              Prostata  [ngram, sapbert]   \n",
       "8    258  275  C0240717  [T184]           Dammschmerz  [ngram, sapbert]   \n",
       "\n",
       "   confidence  \n",
       "0    0.153963  \n",
       "1    0.142960  \n",
       "2    0.064590  \n",
       "3    0.143468  \n",
       "4    0.121398  \n",
       "5    0.094017  \n",
       "6    0.195050  \n",
       "7    0.080446  \n",
       "8    0.150069  "
      ]
     },
     "metadata": {},
     "output_type": "display_data"
    },
    {
     "data": {
      "application/vnd.jupyter.widget-view+json": {
       "model_id": "ff4429dedc274bb2ae28f743c569e5b2",
       "version_major": 2,
       "version_minor": 0
      },
      "text/plain": [
       "  0%|          | 0/1 [00:00<?, ?it/s]"
      ]
     },
     "metadata": {},
     "output_type": "display_data"
    },
    {
     "data": {
      "text/html": [
       "<div>\n",
       "<style scoped>\n",
       "    .dataframe tbody tr th:only-of-type {\n",
       "        vertical-align: middle;\n",
       "    }\n",
       "\n",
       "    .dataframe tbody tr th {\n",
       "        vertical-align: top;\n",
       "    }\n",
       "\n",
       "    .dataframe thead th {\n",
       "        text-align: right;\n",
       "    }\n",
       "</style>\n",
       "<table border=\"1\" class=\"dataframe\">\n",
       "  <thead>\n",
       "    <tr style=\"text-align: right;\">\n",
       "      <th></th>\n",
       "      <th>document</th>\n",
       "      <th>text</th>\n",
       "      <th>type</th>\n",
       "      <th>start</th>\n",
       "      <th>end</th>\n",
       "      <th>cui</th>\n",
       "      <th>tuis</th>\n",
       "      <th>canonical</th>\n",
       "      <th>linker</th>\n",
       "      <th>confidence</th>\n",
       "    </tr>\n",
       "  </thead>\n",
       "  <tbody>\n",
       "    <tr>\n",
       "      <th>0</th>\n",
       "      <td>22_prostatakarzinom_0153_14</td>\n",
       "      <td>Dysurie</td>\n",
       "      <td>Diagnosis_or_Pathology</td>\n",
       "      <td>0</td>\n",
       "      <td>7</td>\n",
       "      <td>C0013428</td>\n",
       "      <td>[T184]</td>\n",
       "      <td>Dysurie</td>\n",
       "      <td>[ngram, sapbert]</td>\n",
       "      <td>0.153963</td>\n",
       "    </tr>\n",
       "    <tr>\n",
       "      <th>1</th>\n",
       "      <td>22_prostatakarzinom_0153_14</td>\n",
       "      <td>Hämaturie</td>\n",
       "      <td>Diagnosis_or_Pathology</td>\n",
       "      <td>27</td>\n",
       "      <td>36</td>\n",
       "      <td>C0018965</td>\n",
       "      <td>[T047]</td>\n",
       "      <td>Hämaturie</td>\n",
       "      <td>[ngram, sapbert]</td>\n",
       "      <td>0.142960</td>\n",
       "    </tr>\n",
       "    <tr>\n",
       "      <th>2</th>\n",
       "      <td>22_prostatakarzinom_0153_14</td>\n",
       "      <td>Drangsymptomatik</td>\n",
       "      <td>Diagnosis_or_Pathology</td>\n",
       "      <td>56</td>\n",
       "      <td>72</td>\n",
       "      <td>C0087169</td>\n",
       "      <td>[T184]</td>\n",
       "      <td>Withdrawal Symptoms</td>\n",
       "      <td>[sapbert]</td>\n",
       "      <td>0.064590</td>\n",
       "    </tr>\n",
       "    <tr>\n",
       "      <th>3</th>\n",
       "      <td>22_prostatakarzinom_0153_14</td>\n",
       "      <td>Harnverhaltung</td>\n",
       "      <td>Diagnosis_or_Pathology</td>\n",
       "      <td>93</td>\n",
       "      <td>107</td>\n",
       "      <td>C0080274</td>\n",
       "      <td>[T169]</td>\n",
       "      <td>Harnverhalt</td>\n",
       "      <td>[ngram, sapbert]</td>\n",
       "      <td>0.143468</td>\n",
       "    </tr>\n",
       "    <tr>\n",
       "      <th>4</th>\n",
       "      <td>22_prostatakarzinom_0153_14</td>\n",
       "      <td>Inkontinenz</td>\n",
       "      <td>Diagnosis_or_Pathology</td>\n",
       "      <td>128</td>\n",
       "      <td>139</td>\n",
       "      <td>C0021167</td>\n",
       "      <td>[T047]</td>\n",
       "      <td>Inkontinenz</td>\n",
       "      <td>[ngram, sapbert]</td>\n",
       "      <td>0.122175</td>\n",
       "    </tr>\n",
       "    <tr>\n",
       "      <th>5</th>\n",
       "      <td>22_prostatakarzinom_0153_14</td>\n",
       "      <td>Harnwegsinfekte</td>\n",
       "      <td>Diagnosis_or_Pathology</td>\n",
       "      <td>159</td>\n",
       "      <td>174</td>\n",
       "      <td>C0042029</td>\n",
       "      <td>[T047]</td>\n",
       "      <td>Harnwegsinfektionen</td>\n",
       "      <td>[ngram, sapbert]</td>\n",
       "      <td>0.080301</td>\n",
       "    </tr>\n",
       "    <tr>\n",
       "      <th>6</th>\n",
       "      <td>22_prostatakarzinom_0153_14</td>\n",
       "      <td>erektile Dysfunktion</td>\n",
       "      <td>Diagnosis_or_Pathology</td>\n",
       "      <td>197</td>\n",
       "      <td>217</td>\n",
       "      <td>C0242350</td>\n",
       "      <td>[T047]</td>\n",
       "      <td>Erektile Dysfunktion</td>\n",
       "      <td>[ngram, sapbert]</td>\n",
       "      <td>0.185237</td>\n",
       "    </tr>\n",
       "    <tr>\n",
       "      <th>7</th>\n",
       "      <td>22_prostatakarzinom_0153_14</td>\n",
       "      <td>Prostataschmerzen</td>\n",
       "      <td>Diagnosis_or_Pathology</td>\n",
       "      <td>243</td>\n",
       "      <td>260</td>\n",
       "      <td>C0240812</td>\n",
       "      <td>[T184]</td>\n",
       "      <td>Prostataschmerz</td>\n",
       "      <td>[ngram, sapbert]</td>\n",
       "      <td>0.145128</td>\n",
       "    </tr>\n",
       "    <tr>\n",
       "      <th>8</th>\n",
       "      <td>22_prostatakarzinom_0153_14</td>\n",
       "      <td>Perinealschmerzen</td>\n",
       "      <td>Diagnosis_or_Pathology</td>\n",
       "      <td>266</td>\n",
       "      <td>283</td>\n",
       "      <td>C0240717</td>\n",
       "      <td>[T184]</td>\n",
       "      <td>Dammschmerz</td>\n",
       "      <td>[ngram, sapbert]</td>\n",
       "      <td>0.150170</td>\n",
       "    </tr>\n",
       "  </tbody>\n",
       "</table>\n",
       "</div>"
      ],
      "text/plain": [
       "                      document                  text                    type  \\\n",
       "0  22_prostatakarzinom_0153_14               Dysurie  Diagnosis_or_Pathology   \n",
       "1  22_prostatakarzinom_0153_14             Hämaturie  Diagnosis_or_Pathology   \n",
       "2  22_prostatakarzinom_0153_14      Drangsymptomatik  Diagnosis_or_Pathology   \n",
       "3  22_prostatakarzinom_0153_14        Harnverhaltung  Diagnosis_or_Pathology   \n",
       "4  22_prostatakarzinom_0153_14           Inkontinenz  Diagnosis_or_Pathology   \n",
       "5  22_prostatakarzinom_0153_14       Harnwegsinfekte  Diagnosis_or_Pathology   \n",
       "6  22_prostatakarzinom_0153_14  erektile Dysfunktion  Diagnosis_or_Pathology   \n",
       "7  22_prostatakarzinom_0153_14     Prostataschmerzen  Diagnosis_or_Pathology   \n",
       "8  22_prostatakarzinom_0153_14     Perinealschmerzen  Diagnosis_or_Pathology   \n",
       "\n",
       "   start  end       cui    tuis             canonical            linker  \\\n",
       "0      0    7  C0013428  [T184]               Dysurie  [ngram, sapbert]   \n",
       "1     27   36  C0018965  [T047]             Hämaturie  [ngram, sapbert]   \n",
       "2     56   72  C0087169  [T184]   Withdrawal Symptoms         [sapbert]   \n",
       "3     93  107  C0080274  [T169]           Harnverhalt  [ngram, sapbert]   \n",
       "4    128  139  C0021167  [T047]           Inkontinenz  [ngram, sapbert]   \n",
       "5    159  174  C0042029  [T047]   Harnwegsinfektionen  [ngram, sapbert]   \n",
       "6    197  217  C0242350  [T047]  Erektile Dysfunktion  [ngram, sapbert]   \n",
       "7    243  260  C0240812  [T184]       Prostataschmerz  [ngram, sapbert]   \n",
       "8    266  283  C0240717  [T184]           Dammschmerz  [ngram, sapbert]   \n",
       "\n",
       "   confidence  \n",
       "0    0.153963  \n",
       "1    0.142960  \n",
       "2    0.064590  \n",
       "3    0.143468  \n",
       "4    0.122175  \n",
       "5    0.080301  \n",
       "6    0.185237  \n",
       "7    0.145128  \n",
       "8    0.150170  "
      ]
     },
     "metadata": {},
     "output_type": "display_data"
    },
    {
     "name": "stdout",
     "output_type": "stream",
     "text": [
      "Difference 22\n"
     ]
    },
    {
     "data": {
      "text/markdown": [
       "Im Sinne eines Recall-Phänomens kann eine Pneumonitis auch lange nach Bestrahlung nach Chemo- oder Immunotherapie z.B. mit Taxanen, Gemcitabin oder Tyrosinkinase- Inhibitoren (Erlotinib, Gefitinib, Sunitinib und Folgesubstanzen) auftreten [REF] [REF] [REF] [REF] [REF] [REF] [REF] [REF] [REF] [REF]."
      ],
      "text/plain": [
       "<IPython.core.display.Markdown object>"
      ]
     },
     "metadata": {},
     "output_type": "display_data"
    },
    {
     "data": {
      "text/markdown": [
       "Im Sinne eines Recall-Phänomens kann eine Pneumonitis auch lange nach Bestrahlung nach Chemotherapie oder Immunotherapie z.B. mit Taxanen, Gemcitabin oder Tyrosinkinase- Inhibitoren (Erlotinib, Gefitinib, Sunitinib und Folgesubstanzen) auftreten [REF] [REF] [REF] [REF] [REF] [REF] [REF] [REF] [REF] [REF]."
      ],
      "text/plain": [
       "<IPython.core.display.Markdown object>"
      ]
     },
     "metadata": {},
     "output_type": "display_data"
    },
    {
     "data": {
      "text/html": [
       "<html><body><div>Im Sinne eines Recall-Phänomens kann eine Pneumonitis auch lange nach Bestrahlung nach Chemo<span style=\"background-color: red; text-decoration: line-through;\">-</span><span style=\"background-color: lightgreen;\">therapie</span> oder Immunotherapie z.B. mit Taxanen, Gemcitabin oder Tyrosinkinase- Inhibitoren (Erlotinib, Gefitinib, Sunitinib und Folgesubstanzen) auftreten [REF] [REF] [REF] [REF] [REF] [REF] [REF] [REF] [REF] [REF].</div></body></html>"
      ],
      "text/plain": [
       "<IPython.core.display.HTML object>"
      ]
     },
     "metadata": {},
     "output_type": "display_data"
    },
    {
     "data": {
      "application/vnd.jupyter.widget-view+json": {
       "model_id": "74a3725499c241969974d5b1a47d2eb7",
       "version_major": 2,
       "version_minor": 0
      },
      "text/plain": [
       "  0%|          | 0/1 [00:00<?, ?it/s]"
      ]
     },
     "metadata": {},
     "output_type": "display_data"
    },
    {
     "data": {
      "text/html": [
       "<div>\n",
       "<style scoped>\n",
       "    .dataframe tbody tr th:only-of-type {\n",
       "        vertical-align: middle;\n",
       "    }\n",
       "\n",
       "    .dataframe tbody tr th {\n",
       "        vertical-align: top;\n",
       "    }\n",
       "\n",
       "    .dataframe thead th {\n",
       "        text-align: right;\n",
       "    }\n",
       "</style>\n",
       "<table border=\"1\" class=\"dataframe\">\n",
       "  <thead>\n",
       "    <tr style=\"text-align: right;\">\n",
       "      <th></th>\n",
       "      <th>document</th>\n",
       "      <th>text</th>\n",
       "      <th>type</th>\n",
       "      <th>start</th>\n",
       "      <th>end</th>\n",
       "      <th>cui</th>\n",
       "      <th>tuis</th>\n",
       "      <th>canonical</th>\n",
       "      <th>linker</th>\n",
       "      <th>confidence</th>\n",
       "    </tr>\n",
       "  </thead>\n",
       "  <tbody>\n",
       "    <tr>\n",
       "      <th>0</th>\n",
       "      <td>27_supportive-therapie_0765_11</td>\n",
       "      <td>Recall-Phänomens</td>\n",
       "      <td>Diagnosis_or_Pathology</td>\n",
       "      <td>15</td>\n",
       "      <td>31</td>\n",
       "      <td>C1262013</td>\n",
       "      <td>[T046]</td>\n",
       "      <td>Recall phenomenon</td>\n",
       "      <td>[ngram, sapbert]</td>\n",
       "      <td>0.117091</td>\n",
       "    </tr>\n",
       "    <tr>\n",
       "      <th>1</th>\n",
       "      <td>27_supportive-therapie_0765_11</td>\n",
       "      <td>Pneumonitis</td>\n",
       "      <td>Diagnosis_or_Pathology</td>\n",
       "      <td>42</td>\n",
       "      <td>53</td>\n",
       "      <td>C3714636</td>\n",
       "      <td>[T047]</td>\n",
       "      <td>Pneumonitis</td>\n",
       "      <td>[ngram, sapbert]</td>\n",
       "      <td>0.129935</td>\n",
       "    </tr>\n",
       "    <tr>\n",
       "      <th>2</th>\n",
       "      <td>27_supportive-therapie_0765_11</td>\n",
       "      <td>Bestrahlung</td>\n",
       "      <td>Therapeutic</td>\n",
       "      <td>70</td>\n",
       "      <td>81</td>\n",
       "      <td>C1522449</td>\n",
       "      <td>[T061]</td>\n",
       "      <td>Strahlentherapie</td>\n",
       "      <td>[sapbert]</td>\n",
       "      <td>0.114749</td>\n",
       "    </tr>\n",
       "    <tr>\n",
       "      <th>3</th>\n",
       "      <td>27_supportive-therapie_0765_11</td>\n",
       "      <td>Chemo-</td>\n",
       "      <td>Therapeutic</td>\n",
       "      <td>87</td>\n",
       "      <td>93</td>\n",
       "      <td>C3665472</td>\n",
       "      <td>[T061]</td>\n",
       "      <td>Chemotherapie</td>\n",
       "      <td>[ngram, sapbert]</td>\n",
       "      <td>0.106600</td>\n",
       "    </tr>\n",
       "    <tr>\n",
       "      <th>4</th>\n",
       "      <td>27_supportive-therapie_0765_11</td>\n",
       "      <td>Immunotherapie</td>\n",
       "      <td>Therapeutic</td>\n",
       "      <td>99</td>\n",
       "      <td>113</td>\n",
       "      <td>C0021083</td>\n",
       "      <td>[T061]</td>\n",
       "      <td>Immuntherapie</td>\n",
       "      <td>[ngram, sapbert]</td>\n",
       "      <td>0.126997</td>\n",
       "    </tr>\n",
       "    <tr>\n",
       "      <th>5</th>\n",
       "      <td>27_supportive-therapie_0765_11</td>\n",
       "      <td>Taxanen</td>\n",
       "      <td>Clinical_Drug</td>\n",
       "      <td>123</td>\n",
       "      <td>130</td>\n",
       "      <td>C0796419</td>\n",
       "      <td>[T109]</td>\n",
       "      <td>Taxane</td>\n",
       "      <td>[ngram, sapbert]</td>\n",
       "      <td>0.079232</td>\n",
       "    </tr>\n",
       "    <tr>\n",
       "      <th>6</th>\n",
       "      <td>27_supportive-therapie_0765_11</td>\n",
       "      <td>Gemcitabin</td>\n",
       "      <td>Clinical_Drug</td>\n",
       "      <td>132</td>\n",
       "      <td>142</td>\n",
       "      <td>C0045093</td>\n",
       "      <td>[T114, T121]</td>\n",
       "      <td>2' Deoxy 2' Difluorocytidine</td>\n",
       "      <td>[ngram, sapbert]</td>\n",
       "      <td>0.132524</td>\n",
       "    </tr>\n",
       "    <tr>\n",
       "      <th>7</th>\n",
       "      <td>27_supportive-therapie_0765_11</td>\n",
       "      <td>Tyrosinkinase-</td>\n",
       "      <td>Clinical_Drug</td>\n",
       "      <td>148</td>\n",
       "      <td>162</td>\n",
       "      <td>C0033681</td>\n",
       "      <td>[T116, T126]</td>\n",
       "      <td>Protein-Tyrosin-Kinase</td>\n",
       "      <td>[ngram, sapbert]</td>\n",
       "      <td>0.141131</td>\n",
       "    </tr>\n",
       "    <tr>\n",
       "      <th>8</th>\n",
       "      <td>27_supportive-therapie_0765_11</td>\n",
       "      <td>Tyrosinkinase- Inhibitoren</td>\n",
       "      <td>Clinical_Drug</td>\n",
       "      <td>148</td>\n",
       "      <td>174</td>\n",
       "      <td>C4521478</td>\n",
       "      <td>[T080]</td>\n",
       "      <td>Tyrosine Protein Kinase Inhibitors</td>\n",
       "      <td>[ngram, sapbert]</td>\n",
       "      <td>0.139909</td>\n",
       "    </tr>\n",
       "    <tr>\n",
       "      <th>9</th>\n",
       "      <td>27_supportive-therapie_0765_11</td>\n",
       "      <td>Erlotinib</td>\n",
       "      <td>Clinical_Drug</td>\n",
       "      <td>176</td>\n",
       "      <td>185</td>\n",
       "      <td>C1135135</td>\n",
       "      <td>[T109, T121]</td>\n",
       "      <td>Erlotinib</td>\n",
       "      <td>[ngram, sapbert]</td>\n",
       "      <td>0.139762</td>\n",
       "    </tr>\n",
       "    <tr>\n",
       "      <th>10</th>\n",
       "      <td>27_supportive-therapie_0765_11</td>\n",
       "      <td>Gefitinib</td>\n",
       "      <td>Clinical_Drug</td>\n",
       "      <td>187</td>\n",
       "      <td>196</td>\n",
       "      <td>C1122962</td>\n",
       "      <td>[T109, T121]</td>\n",
       "      <td>Gefitinib</td>\n",
       "      <td>[ngram, sapbert]</td>\n",
       "      <td>0.148072</td>\n",
       "    </tr>\n",
       "    <tr>\n",
       "      <th>11</th>\n",
       "      <td>27_supportive-therapie_0765_11</td>\n",
       "      <td>Sunitinib</td>\n",
       "      <td>Clinical_Drug</td>\n",
       "      <td>198</td>\n",
       "      <td>207</td>\n",
       "      <td>C1176020</td>\n",
       "      <td>[T109, T121]</td>\n",
       "      <td>Sunitinib</td>\n",
       "      <td>[ngram, sapbert]</td>\n",
       "      <td>0.139536</td>\n",
       "    </tr>\n",
       "    <tr>\n",
       "      <th>12</th>\n",
       "      <td>27_supportive-therapie_0765_11</td>\n",
       "      <td>Folgesubstanzen</td>\n",
       "      <td>Clinical_Drug</td>\n",
       "      <td>212</td>\n",
       "      <td>227</td>\n",
       "      <td>C1564892</td>\n",
       "      <td>[T116, T121, T129]</td>\n",
       "      <td>Komplement-inaktivierende Substanzen</td>\n",
       "      <td>[ngram, sapbert]</td>\n",
       "      <td>0.068746</td>\n",
       "    </tr>\n",
       "  </tbody>\n",
       "</table>\n",
       "</div>"
      ],
      "text/plain": [
       "                          document                        text  \\\n",
       "0   27_supportive-therapie_0765_11            Recall-Phänomens   \n",
       "1   27_supportive-therapie_0765_11                 Pneumonitis   \n",
       "2   27_supportive-therapie_0765_11                 Bestrahlung   \n",
       "3   27_supportive-therapie_0765_11                      Chemo-   \n",
       "4   27_supportive-therapie_0765_11              Immunotherapie   \n",
       "5   27_supportive-therapie_0765_11                     Taxanen   \n",
       "6   27_supportive-therapie_0765_11                  Gemcitabin   \n",
       "7   27_supportive-therapie_0765_11              Tyrosinkinase-   \n",
       "8   27_supportive-therapie_0765_11  Tyrosinkinase- Inhibitoren   \n",
       "9   27_supportive-therapie_0765_11                   Erlotinib   \n",
       "10  27_supportive-therapie_0765_11                   Gefitinib   \n",
       "11  27_supportive-therapie_0765_11                   Sunitinib   \n",
       "12  27_supportive-therapie_0765_11             Folgesubstanzen   \n",
       "\n",
       "                      type  start  end       cui                tuis  \\\n",
       "0   Diagnosis_or_Pathology     15   31  C1262013              [T046]   \n",
       "1   Diagnosis_or_Pathology     42   53  C3714636              [T047]   \n",
       "2              Therapeutic     70   81  C1522449              [T061]   \n",
       "3              Therapeutic     87   93  C3665472              [T061]   \n",
       "4              Therapeutic     99  113  C0021083              [T061]   \n",
       "5            Clinical_Drug    123  130  C0796419              [T109]   \n",
       "6            Clinical_Drug    132  142  C0045093        [T114, T121]   \n",
       "7            Clinical_Drug    148  162  C0033681        [T116, T126]   \n",
       "8            Clinical_Drug    148  174  C4521478              [T080]   \n",
       "9            Clinical_Drug    176  185  C1135135        [T109, T121]   \n",
       "10           Clinical_Drug    187  196  C1122962        [T109, T121]   \n",
       "11           Clinical_Drug    198  207  C1176020        [T109, T121]   \n",
       "12           Clinical_Drug    212  227  C1564892  [T116, T121, T129]   \n",
       "\n",
       "                               canonical            linker  confidence  \n",
       "0                      Recall phenomenon  [ngram, sapbert]    0.117091  \n",
       "1                            Pneumonitis  [ngram, sapbert]    0.129935  \n",
       "2                       Strahlentherapie         [sapbert]    0.114749  \n",
       "3                          Chemotherapie  [ngram, sapbert]    0.106600  \n",
       "4                          Immuntherapie  [ngram, sapbert]    0.126997  \n",
       "5                                 Taxane  [ngram, sapbert]    0.079232  \n",
       "6           2' Deoxy 2' Difluorocytidine  [ngram, sapbert]    0.132524  \n",
       "7                 Protein-Tyrosin-Kinase  [ngram, sapbert]    0.141131  \n",
       "8     Tyrosine Protein Kinase Inhibitors  [ngram, sapbert]    0.139909  \n",
       "9                              Erlotinib  [ngram, sapbert]    0.139762  \n",
       "10                             Gefitinib  [ngram, sapbert]    0.148072  \n",
       "11                             Sunitinib  [ngram, sapbert]    0.139536  \n",
       "12  Komplement-inaktivierende Substanzen  [ngram, sapbert]    0.068746  "
      ]
     },
     "metadata": {},
     "output_type": "display_data"
    },
    {
     "data": {
      "application/vnd.jupyter.widget-view+json": {
       "model_id": "fe9a94634ab94df2967fd14efaf27c3d",
       "version_major": 2,
       "version_minor": 0
      },
      "text/plain": [
       "  0%|          | 0/1 [00:00<?, ?it/s]"
      ]
     },
     "metadata": {},
     "output_type": "display_data"
    },
    {
     "data": {
      "text/html": [
       "<div>\n",
       "<style scoped>\n",
       "    .dataframe tbody tr th:only-of-type {\n",
       "        vertical-align: middle;\n",
       "    }\n",
       "\n",
       "    .dataframe tbody tr th {\n",
       "        vertical-align: top;\n",
       "    }\n",
       "\n",
       "    .dataframe thead th {\n",
       "        text-align: right;\n",
       "    }\n",
       "</style>\n",
       "<table border=\"1\" class=\"dataframe\">\n",
       "  <thead>\n",
       "    <tr style=\"text-align: right;\">\n",
       "      <th></th>\n",
       "      <th>document</th>\n",
       "      <th>text</th>\n",
       "      <th>type</th>\n",
       "      <th>start</th>\n",
       "      <th>end</th>\n",
       "      <th>cui</th>\n",
       "      <th>tuis</th>\n",
       "      <th>canonical</th>\n",
       "      <th>linker</th>\n",
       "      <th>confidence</th>\n",
       "    </tr>\n",
       "  </thead>\n",
       "  <tbody>\n",
       "    <tr>\n",
       "      <th>0</th>\n",
       "      <td>27_supportive-therapie_0765_11</td>\n",
       "      <td>Recall-Phänomens</td>\n",
       "      <td>Diagnosis_or_Pathology</td>\n",
       "      <td>15</td>\n",
       "      <td>31</td>\n",
       "      <td>C1262013</td>\n",
       "      <td>[T046]</td>\n",
       "      <td>Recall phenomenon</td>\n",
       "      <td>[ngram, sapbert]</td>\n",
       "      <td>0.121586</td>\n",
       "    </tr>\n",
       "    <tr>\n",
       "      <th>1</th>\n",
       "      <td>27_supportive-therapie_0765_11</td>\n",
       "      <td>Pneumonitis</td>\n",
       "      <td>Diagnosis_or_Pathology</td>\n",
       "      <td>42</td>\n",
       "      <td>53</td>\n",
       "      <td>C3714636</td>\n",
       "      <td>[T047]</td>\n",
       "      <td>Pneumonitis</td>\n",
       "      <td>[ngram, sapbert]</td>\n",
       "      <td>0.129758</td>\n",
       "    </tr>\n",
       "    <tr>\n",
       "      <th>2</th>\n",
       "      <td>27_supportive-therapie_0765_11</td>\n",
       "      <td>Bestrahlung</td>\n",
       "      <td>Therapeutic</td>\n",
       "      <td>70</td>\n",
       "      <td>81</td>\n",
       "      <td>C1522449</td>\n",
       "      <td>[T061]</td>\n",
       "      <td>Strahlentherapie</td>\n",
       "      <td>[sapbert]</td>\n",
       "      <td>0.116514</td>\n",
       "    </tr>\n",
       "    <tr>\n",
       "      <th>3</th>\n",
       "      <td>27_supportive-therapie_0765_11</td>\n",
       "      <td>Chemotherapie</td>\n",
       "      <td>Therapeutic</td>\n",
       "      <td>87</td>\n",
       "      <td>100</td>\n",
       "      <td>C3665472</td>\n",
       "      <td>[T061]</td>\n",
       "      <td>Chemotherapie</td>\n",
       "      <td>[ngram, sapbert]</td>\n",
       "      <td>0.108146</td>\n",
       "    </tr>\n",
       "    <tr>\n",
       "      <th>4</th>\n",
       "      <td>27_supportive-therapie_0765_11</td>\n",
       "      <td>Immunotherapie</td>\n",
       "      <td>Therapeutic</td>\n",
       "      <td>106</td>\n",
       "      <td>120</td>\n",
       "      <td>C0021083</td>\n",
       "      <td>[T061]</td>\n",
       "      <td>Immuntherapie</td>\n",
       "      <td>[ngram, sapbert]</td>\n",
       "      <td>0.125116</td>\n",
       "    </tr>\n",
       "    <tr>\n",
       "      <th>5</th>\n",
       "      <td>27_supportive-therapie_0765_11</td>\n",
       "      <td>Taxanen</td>\n",
       "      <td>Clinical_Drug</td>\n",
       "      <td>130</td>\n",
       "      <td>137</td>\n",
       "      <td>C0796419</td>\n",
       "      <td>[T109]</td>\n",
       "      <td>Taxane</td>\n",
       "      <td>[ngram, sapbert]</td>\n",
       "      <td>0.077322</td>\n",
       "    </tr>\n",
       "    <tr>\n",
       "      <th>6</th>\n",
       "      <td>27_supportive-therapie_0765_11</td>\n",
       "      <td>Gemcitabin</td>\n",
       "      <td>Clinical_Drug</td>\n",
       "      <td>139</td>\n",
       "      <td>149</td>\n",
       "      <td>C0045093</td>\n",
       "      <td>[T114, T121]</td>\n",
       "      <td>2' Deoxy 2' Difluorocytidine</td>\n",
       "      <td>[ngram, sapbert]</td>\n",
       "      <td>0.135344</td>\n",
       "    </tr>\n",
       "    <tr>\n",
       "      <th>7</th>\n",
       "      <td>27_supportive-therapie_0765_11</td>\n",
       "      <td>Tyrosinkinase-</td>\n",
       "      <td>Clinical_Drug</td>\n",
       "      <td>155</td>\n",
       "      <td>169</td>\n",
       "      <td>C0033681</td>\n",
       "      <td>[T116, T126]</td>\n",
       "      <td>Protein-Tyrosin-Kinase</td>\n",
       "      <td>[ngram, sapbert]</td>\n",
       "      <td>0.134931</td>\n",
       "    </tr>\n",
       "    <tr>\n",
       "      <th>8</th>\n",
       "      <td>27_supportive-therapie_0765_11</td>\n",
       "      <td>Tyrosinkinase- Inhibitoren</td>\n",
       "      <td>Clinical_Drug</td>\n",
       "      <td>155</td>\n",
       "      <td>181</td>\n",
       "      <td>C4521478</td>\n",
       "      <td>[T080]</td>\n",
       "      <td>Tyrosine Protein Kinase Inhibitors</td>\n",
       "      <td>[ngram, sapbert]</td>\n",
       "      <td>0.137750</td>\n",
       "    </tr>\n",
       "    <tr>\n",
       "      <th>9</th>\n",
       "      <td>27_supportive-therapie_0765_11</td>\n",
       "      <td>Erlotinib</td>\n",
       "      <td>Clinical_Drug</td>\n",
       "      <td>183</td>\n",
       "      <td>192</td>\n",
       "      <td>C1135135</td>\n",
       "      <td>[T109, T121]</td>\n",
       "      <td>Erlotinib</td>\n",
       "      <td>[ngram, sapbert]</td>\n",
       "      <td>0.140089</td>\n",
       "    </tr>\n",
       "    <tr>\n",
       "      <th>10</th>\n",
       "      <td>27_supportive-therapie_0765_11</td>\n",
       "      <td>Gefitinib</td>\n",
       "      <td>Clinical_Drug</td>\n",
       "      <td>194</td>\n",
       "      <td>203</td>\n",
       "      <td>C1122962</td>\n",
       "      <td>[T109, T121]</td>\n",
       "      <td>Gefitinib</td>\n",
       "      <td>[ngram, sapbert]</td>\n",
       "      <td>0.149970</td>\n",
       "    </tr>\n",
       "    <tr>\n",
       "      <th>11</th>\n",
       "      <td>27_supportive-therapie_0765_11</td>\n",
       "      <td>Sunitinib</td>\n",
       "      <td>Clinical_Drug</td>\n",
       "      <td>205</td>\n",
       "      <td>214</td>\n",
       "      <td>C1176020</td>\n",
       "      <td>[T109, T121]</td>\n",
       "      <td>Sunitinib</td>\n",
       "      <td>[ngram, sapbert]</td>\n",
       "      <td>0.141609</td>\n",
       "    </tr>\n",
       "    <tr>\n",
       "      <th>12</th>\n",
       "      <td>27_supportive-therapie_0765_11</td>\n",
       "      <td>Folgesubstanzen</td>\n",
       "      <td>Clinical_Drug</td>\n",
       "      <td>219</td>\n",
       "      <td>234</td>\n",
       "      <td>C1564892</td>\n",
       "      <td>[T116, T121, T129]</td>\n",
       "      <td>Komplement-inaktivierende Substanzen</td>\n",
       "      <td>[ngram, sapbert]</td>\n",
       "      <td>0.063600</td>\n",
       "    </tr>\n",
       "  </tbody>\n",
       "</table>\n",
       "</div>"
      ],
      "text/plain": [
       "                          document                        text  \\\n",
       "0   27_supportive-therapie_0765_11            Recall-Phänomens   \n",
       "1   27_supportive-therapie_0765_11                 Pneumonitis   \n",
       "2   27_supportive-therapie_0765_11                 Bestrahlung   \n",
       "3   27_supportive-therapie_0765_11               Chemotherapie   \n",
       "4   27_supportive-therapie_0765_11              Immunotherapie   \n",
       "5   27_supportive-therapie_0765_11                     Taxanen   \n",
       "6   27_supportive-therapie_0765_11                  Gemcitabin   \n",
       "7   27_supportive-therapie_0765_11              Tyrosinkinase-   \n",
       "8   27_supportive-therapie_0765_11  Tyrosinkinase- Inhibitoren   \n",
       "9   27_supportive-therapie_0765_11                   Erlotinib   \n",
       "10  27_supportive-therapie_0765_11                   Gefitinib   \n",
       "11  27_supportive-therapie_0765_11                   Sunitinib   \n",
       "12  27_supportive-therapie_0765_11             Folgesubstanzen   \n",
       "\n",
       "                      type  start  end       cui                tuis  \\\n",
       "0   Diagnosis_or_Pathology     15   31  C1262013              [T046]   \n",
       "1   Diagnosis_or_Pathology     42   53  C3714636              [T047]   \n",
       "2              Therapeutic     70   81  C1522449              [T061]   \n",
       "3              Therapeutic     87  100  C3665472              [T061]   \n",
       "4              Therapeutic    106  120  C0021083              [T061]   \n",
       "5            Clinical_Drug    130  137  C0796419              [T109]   \n",
       "6            Clinical_Drug    139  149  C0045093        [T114, T121]   \n",
       "7            Clinical_Drug    155  169  C0033681        [T116, T126]   \n",
       "8            Clinical_Drug    155  181  C4521478              [T080]   \n",
       "9            Clinical_Drug    183  192  C1135135        [T109, T121]   \n",
       "10           Clinical_Drug    194  203  C1122962        [T109, T121]   \n",
       "11           Clinical_Drug    205  214  C1176020        [T109, T121]   \n",
       "12           Clinical_Drug    219  234  C1564892  [T116, T121, T129]   \n",
       "\n",
       "                               canonical            linker  confidence  \n",
       "0                      Recall phenomenon  [ngram, sapbert]    0.121586  \n",
       "1                            Pneumonitis  [ngram, sapbert]    0.129758  \n",
       "2                       Strahlentherapie         [sapbert]    0.116514  \n",
       "3                          Chemotherapie  [ngram, sapbert]    0.108146  \n",
       "4                          Immuntherapie  [ngram, sapbert]    0.125116  \n",
       "5                                 Taxane  [ngram, sapbert]    0.077322  \n",
       "6           2' Deoxy 2' Difluorocytidine  [ngram, sapbert]    0.135344  \n",
       "7                 Protein-Tyrosin-Kinase  [ngram, sapbert]    0.134931  \n",
       "8     Tyrosine Protein Kinase Inhibitors  [ngram, sapbert]    0.137750  \n",
       "9                              Erlotinib  [ngram, sapbert]    0.140089  \n",
       "10                             Gefitinib  [ngram, sapbert]    0.149970  \n",
       "11                             Sunitinib  [ngram, sapbert]    0.141609  \n",
       "12  Komplement-inaktivierende Substanzen  [ngram, sapbert]    0.063600  "
      ]
     },
     "metadata": {},
     "output_type": "display_data"
    }
   ],
   "source": [
    "res_before = linking_results['before_eccnp']['reranked']\n",
    "res_after = linking_results['after_eccnp']['reranked']\n",
    "\n",
    "assert len(res_sem) == len(res_no_sem)\n",
    "\n",
    "diff_text = 0\n",
    "diff_ents = 0\n",
    "for d_b, d_a in zip(res_before, res_after):\n",
    "    if d_b['passages'] != d_a['passages']: \n",
    "        diff_text += 1\n",
    "        if get_ent_texts(d_b) != get_ent_texts(d_a):\n",
    "            diff_ents += 1\n",
    "            t_a = d_a['passages'][0]['text'][0]\n",
    "            t_b = d_b['passages'][0]['text'][0]\n",
    "            print('Difference', diff_ents)\n",
    "            show_diff_single(t_b, t_a)\n",
    "            display(get_annotation_dataframe([d_b], linker.kb, 1, 0.0))\n",
    "            display(get_annotation_dataframe([d_a], linker.kb, 1, 0.0))"
   ]
  },
  {
   "cell_type": "code",
   "execution_count": null,
   "id": "a131d836-961d-4c5c-8da9-dd34393f095e",
   "metadata": {},
   "outputs": [],
   "source": []
  }
 ],
 "metadata": {
  "kernelspec": {
   "display_name": "Python [conda env:ggponc]",
   "language": "python",
   "name": "conda-env-ggponc-py"
  },
  "language_info": {
   "codemirror_mode": {
    "name": "ipython",
    "version": 3
   },
   "file_extension": ".py",
   "mimetype": "text/x-python",
   "name": "python",
   "nbconvert_exporter": "python",
   "pygments_lexer": "ipython3",
   "version": "3.10.14"
  }
 },
 "nbformat": 4,
 "nbformat_minor": 5
}
