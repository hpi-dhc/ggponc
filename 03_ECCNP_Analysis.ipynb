{
 "cells": [
  {
   "cell_type": "markdown",
   "id": "1409bc98-c126-4bf7-8dea-08435d4abd97",
   "metadata": {},
   "source": [
    "# Analysis of ECCNP Resolution and Impact on NER and EL Performance"
   ]
  },
  {
   "cell_type": "code",
   "execution_count": 3,
   "id": "d38bfb4c-1586-4ae7-98cb-bf2ca7ffa15b",
   "metadata": {
    "tags": []
   },
   "outputs": [],
   "source": [
    "from xmen import load_config, load_kb\n",
    "from xmen.data import from_spacy\n",
    "\n",
    "conf = load_config('xmen_ggponc3.yaml')"
   ]
  },
  {
   "cell_type": "markdown",
   "id": "79e4bdce-acb9-4dc3-a6a4-28efd9ec37ad",
   "metadata": {
    "tags": []
   },
   "source": [
    "**Note:** For this notebook, we only use a small subset of GGPONC 2.0 for demonstration purposes\n",
    "Change the version if you want to use any other GGPONC release"
   ]
  },
  {
   "cell_type": "code",
   "execution_count": 4,
   "id": "b265c2a8-4288-43a4-a78b-9f10f73c9e6d",
   "metadata": {
    "tags": []
   },
   "outputs": [
    {
     "data": {
      "application/vnd.jupyter.widget-view+json": {
       "model_id": "488a3082ea43431bbc89a303bbc414fa",
       "version_major": 2,
       "version_minor": 0
      },
      "text/plain": [
       "  0%|          | 0/14 [00:00<?, ?it/s]"
      ]
     },
     "metadata": {},
     "output_type": "display_data"
    }
   ],
   "source": [
    "from ggponc import *\n",
    "\n",
    "sent_df = read_sentences(conf.data_version, 'data')"
   ]
  },
  {
   "cell_type": "code",
   "execution_count": 5,
   "id": "1b1298e5-5963-4afa-8ff2-efdf27580bbb",
   "metadata": {
    "tags": []
   },
   "outputs": [
    {
     "name": "stderr",
     "output_type": "stream",
     "text": [
      "/home/Florian.Borchert/miniconda3/envs/ggponc/lib/python3.10/site-packages/huggingface_hub/file_download.py:1132: FutureWarning: `resume_download` is deprecated and will be removed in version 1.0.0. Downloads always resume when possible. If you want to force a new download, use `force_download=True`.\n",
      "  warnings.warn(\n",
      "/home/Florian.Borchert/miniconda3/envs/ggponc/lib/python3.10/site-packages/transformers/convert_slow_tokenizer.py:446: UserWarning: The sentencepiece tokenizer that you are converting to a fast tokenizer uses the byte fallback option which is not implemented in the fast tokenizers. In practice this means that the fast version of the tokenizer can produce unknown tokens whereas the sentencepiece version would have converted these unknown tokens into a sequence of byte tokens matching the original piece of text.\n",
      "  warnings.warn(\n"
     ]
    }
   ],
   "source": [
    "resolver = ECCNPResolver(**conf.eccnp)"
   ]
  },
  {
   "cell_type": "code",
   "execution_count": 6,
   "id": "ffefead0-a5a9-4eda-9902-1f32424ea979",
   "metadata": {
    "tags": []
   },
   "outputs": [
    {
     "data": {
      "application/vnd.jupyter.widget-view+json": {
       "model_id": "8be76c510c364de3a5116fc198711860",
       "version_major": 2,
       "version_minor": 0
      },
      "text/plain": [
       "  0%|          | 0/374 [00:00<?, ?it/s]"
      ]
     },
     "metadata": {},
     "output_type": "display_data"
    }
   ],
   "source": [
    "sent_df = resolver.set_df(sent_df)"
   ]
  },
  {
   "cell_type": "code",
   "execution_count": 7,
   "id": "f888ba14-e5f8-4f95-8eb4-abdd8e057bd5",
   "metadata": {
    "tags": []
   },
   "outputs": [],
   "source": [
    "ner = NERTagger()"
   ]
  },
  {
   "cell_type": "code",
   "execution_count": 8,
   "id": "d7dfbe74-f8ba-4509-949f-547563c15d36",
   "metadata": {
    "tags": []
   },
   "outputs": [
    {
     "data": {
      "application/vnd.jupyter.widget-view+json": {
       "model_id": "4186b1c3cb884ea28bb58e2807f698d3",
       "version_major": 2,
       "version_minor": 0
      },
      "text/plain": [
       "  0%|          | 0/374 [00:00<?, ?it/s]"
      ]
     },
     "metadata": {},
     "output_type": "display_data"
    }
   ],
   "source": [
    "ner_df_before = ner.set_df(sent_df, sent_col='sentence')\n",
    "ds_ner_before = from_spacy(ner_df_before.spacy_ner, span_key='entities', doc_id_key='file_name')"
   ]
  },
  {
   "cell_type": "code",
   "execution_count": 9,
   "id": "3d35e3dc-3ccf-4dd8-ae7c-860eb862509e",
   "metadata": {
    "tags": []
   },
   "outputs": [
    {
     "data": {
      "application/vnd.jupyter.widget-view+json": {
       "model_id": "a94645f1253f4462aa821b5fc1e231d3",
       "version_major": 2,
       "version_minor": 0
      },
      "text/plain": [
       "  0%|          | 0/374 [00:00<?, ?it/s]"
      ]
     },
     "metadata": {},
     "output_type": "display_data"
    }
   ],
   "source": [
    "ner_df_after = ner.set_df(sent_df)\n",
    "ds_ner_after = from_spacy(ner_df_after.spacy_ner, span_key='entities', doc_id_key='file_name')"
   ]
  },
  {
   "cell_type": "code",
   "execution_count": 10,
   "id": "a2c821d8-2545-4410-987e-668d47c151ba",
   "metadata": {
    "tags": []
   },
   "outputs": [
    {
     "name": "stderr",
     "output_type": "stream",
     "text": [
      "/home/Florian.Borchert/miniconda3/envs/ggponc/lib/python3.10/site-packages/sklearn/base.py:376: InconsistentVersionWarning: Trying to unpickle estimator TfidfTransformer from version 1.3.1 when using version 1.5.0. This might lead to breaking code or invalid results. Use at your own risk. For more info please refer to:\n",
      "https://scikit-learn.org/stable/model_persistence.html#security-maintainability-limitations\n",
      "  warnings.warn(\n",
      "/home/Florian.Borchert/miniconda3/envs/ggponc/lib/python3.10/site-packages/sklearn/base.py:376: InconsistentVersionWarning: Trying to unpickle estimator TfidfVectorizer from version 1.3.1 when using version 1.5.0. This might lead to breaking code or invalid results. Use at your own risk. For more info please refer to:\n",
      "https://scikit-learn.org/stable/model_persistence.html#security-maintainability-limitations\n",
      "  warnings.warn(\n",
      "/home/Florian.Borchert/miniconda3/envs/ggponc/lib/python3.10/site-packages/huggingface_hub/file_download.py:1132: FutureWarning: `resume_download` is deprecated and will be removed in version 1.0.0. Downloads always resume when possible. If you want to force a new download, use `force_download=True`.\n",
      "  warnings.warn(\n"
     ]
    },
    {
     "data": {
      "text/html": [
       "<pre style=\"white-space:pre;overflow-x:auto;line-height:normal;font-family:Menlo,'DejaVu Sans Mono',consolas,'Courier New',monospace\"><span style=\"color: #7fbfbf; text-decoration-color: #7fbfbf\">[05/23/24 14:38:15] </span><span style=\"color: #000080; text-decoration-color: #000080\">INFO    </span> Loading hierarchical faiss index                                <a href=\"file:///home/Florian.Borchert/miniconda3/envs/ggponc/lib/python3.10/site-packages/xmen/linkers/sap_bert_linker.py\" target=\"_blank\"><span style=\"color: #7f7f7f; text-decoration-color: #7f7f7f\">sap_bert_linker.py</span></a><span style=\"color: #7f7f7f; text-decoration-color: #7f7f7f\">:</span><a href=\"file:///home/Florian.Borchert/miniconda3/envs/ggponc/lib/python3.10/site-packages/xmen/linkers/sap_bert_linker.py#153\" target=\"_blank\"><span style=\"color: #7f7f7f; text-decoration-color: #7f7f7f\">153</span></a>\n",
       "</pre>\n"
      ],
      "text/plain": [
       "\u001b[2;36m[05/23/24 14:38:15]\u001b[0m\u001b[2;36m \u001b[0m\u001b[34mINFO    \u001b[0m Loading hierarchical faiss index                                \u001b]8;id=573462;file:///home/Florian.Borchert/miniconda3/envs/ggponc/lib/python3.10/site-packages/xmen/linkers/sap_bert_linker.py\u001b\\\u001b[2msap_bert_linker.py\u001b[0m\u001b]8;;\u001b\\\u001b[2m:\u001b[0m\u001b]8;id=670160;file:///home/Florian.Borchert/miniconda3/envs/ggponc/lib/python3.10/site-packages/xmen/linkers/sap_bert_linker.py#153\u001b\\\u001b[2m153\u001b[0m\u001b]8;;\u001b\\\n"
      ]
     },
     "metadata": {},
     "output_type": "display_data"
    },
    {
     "data": {
      "text/html": [
       "<pre style=\"white-space:pre;overflow-x:auto;line-height:normal;font-family:Menlo,'DejaVu Sans Mono',consolas,'Courier New',monospace\"><span style=\"color: #7fbfbf; text-decoration-color: #7fbfbf\">                    </span><span style=\"color: #000080; text-decoration-color: #000080\">INFO    </span> Loading index from                                                 <a href=\"file:///home/Florian.Borchert/miniconda3/envs/ggponc/lib/python3.10/site-packages/xmen/linkers/faiss_indexer.py\" target=\"_blank\"><span style=\"color: #7f7f7f; text-decoration-color: #7f7f7f\">faiss_indexer.py</span></a><span style=\"color: #7f7f7f; text-decoration-color: #7f7f7f\">:</span><a href=\"file:///home/Florian.Borchert/miniconda3/envs/ggponc/lib/python3.10/site-packages/xmen/linkers/faiss_indexer.py#64\" target=\"_blank\"><span style=\"color: #7f7f7f; text-decoration-color: #7f7f7f\">64</span></a>\n",
       "<span style=\"color: #7fbfbf; text-decoration-color: #7fbfbf\">                    </span>         <span style=\"color: #800080; text-decoration-color: #800080\">/home/Florian.Borchert/.cache/xmen/ggponc3/index/sapbert/</span><span style=\"color: #ff00ff; text-decoration-color: #ff00ff\">embed_fai</span> <span style=\"color: #7f7f7f; text-decoration-color: #7f7f7f\">                   </span>\n",
       "<span style=\"color: #7fbfbf; text-decoration-color: #7fbfbf\">                    </span>         <span style=\"color: #ff00ff; text-decoration-color: #ff00ff\">ss_hier.pickle</span>                                                     <span style=\"color: #7f7f7f; text-decoration-color: #7f7f7f\">                   </span>\n",
       "</pre>\n"
      ],
      "text/plain": [
       "\u001b[2;36m                   \u001b[0m\u001b[2;36m \u001b[0m\u001b[34mINFO    \u001b[0m Loading index from                                                 \u001b]8;id=249352;file:///home/Florian.Borchert/miniconda3/envs/ggponc/lib/python3.10/site-packages/xmen/linkers/faiss_indexer.py\u001b\\\u001b[2mfaiss_indexer.py\u001b[0m\u001b]8;;\u001b\\\u001b[2m:\u001b[0m\u001b]8;id=526101;file:///home/Florian.Borchert/miniconda3/envs/ggponc/lib/python3.10/site-packages/xmen/linkers/faiss_indexer.py#64\u001b\\\u001b[2m64\u001b[0m\u001b]8;;\u001b\\\n",
       "\u001b[2;36m                    \u001b[0m         \u001b[35m/home/Florian.Borchert/.cache/xmen/ggponc3/index/sapbert/\u001b[0m\u001b[95membed_fai\u001b[0m \u001b[2m                   \u001b[0m\n",
       "\u001b[2;36m                    \u001b[0m         \u001b[95mss_hier.pickle\u001b[0m                                                     \u001b[2m                   \u001b[0m\n"
      ]
     },
     "metadata": {},
     "output_type": "display_data"
    },
    {
     "data": {
      "text/html": [
       "<pre style=\"white-space:pre;overflow-x:auto;line-height:normal;font-family:Menlo,'DejaVu Sans Mono',consolas,'Courier New',monospace\"><span style=\"color: #7fbfbf; text-decoration-color: #7fbfbf\">[05/23/24 14:38:19] </span><span style=\"color: #000080; text-decoration-color: #000080\">INFO    </span> Loaded index of type <span style=\"font-weight: bold\">&lt;</span><span style=\"color: #ff00ff; text-decoration-color: #ff00ff; font-weight: bold\">class</span><span style=\"color: #000000; text-decoration-color: #000000\"> </span><span style=\"color: #008000; text-decoration-color: #008000\">'faiss.swigfaiss.IndexHNSWFlat'</span><span style=\"font-weight: bold\">&gt;</span> and   <a href=\"file:///home/Florian.Borchert/miniconda3/envs/ggponc/lib/python3.10/site-packages/xmen/linkers/faiss_indexer.py\" target=\"_blank\"><span style=\"color: #7f7f7f; text-decoration-color: #7f7f7f\">faiss_indexer.py</span></a><span style=\"color: #7f7f7f; text-decoration-color: #7f7f7f\">:</span><a href=\"file:///home/Florian.Borchert/miniconda3/envs/ggponc/lib/python3.10/site-packages/xmen/linkers/faiss_indexer.py#66\" target=\"_blank\"><span style=\"color: #7f7f7f; text-decoration-color: #7f7f7f\">66</span></a>\n",
       "<span style=\"color: #7fbfbf; text-decoration-color: #7fbfbf\">                    </span>         size <span style=\"color: #008080; text-decoration-color: #008080; font-weight: bold\">2465719</span>                                                       <span style=\"color: #7f7f7f; text-decoration-color: #7f7f7f\">                   </span>\n",
       "</pre>\n"
      ],
      "text/plain": [
       "\u001b[2;36m[05/23/24 14:38:19]\u001b[0m\u001b[2;36m \u001b[0m\u001b[34mINFO    \u001b[0m Loaded index of type \u001b[1m<\u001b[0m\u001b[1;95mclass\u001b[0m\u001b[39m \u001b[0m\u001b[32m'faiss.swigfaiss.IndexHNSWFlat'\u001b[0m\u001b[1m>\u001b[0m and   \u001b]8;id=131471;file:///home/Florian.Borchert/miniconda3/envs/ggponc/lib/python3.10/site-packages/xmen/linkers/faiss_indexer.py\u001b\\\u001b[2mfaiss_indexer.py\u001b[0m\u001b]8;;\u001b\\\u001b[2m:\u001b[0m\u001b]8;id=651185;file:///home/Florian.Borchert/miniconda3/envs/ggponc/lib/python3.10/site-packages/xmen/linkers/faiss_indexer.py#66\u001b\\\u001b[2m66\u001b[0m\u001b]8;;\u001b\\\n",
       "\u001b[2;36m                    \u001b[0m         size \u001b[1;36m2465719\u001b[0m                                                       \u001b[2m                   \u001b[0m\n"
      ]
     },
     "metadata": {},
     "output_type": "display_data"
    },
    {
     "name": "stderr",
     "output_type": "stream",
     "text": [
      "/home/Florian.Borchert/miniconda3/envs/ggponc/lib/python3.10/site-packages/huggingface_hub/file_download.py:1132: FutureWarning: `resume_download` is deprecated and will be removed in version 1.0.0. Downloads always resume when possible. If you want to force a new download, use `force_download=True`.\n",
      "  warnings.warn(\n"
     ]
    }
   ],
   "source": [
    "from ggponc import EntityLinker\n",
    "linker = EntityLinker(**conf.linker.ranking, candidate_generation_kwargs=conf.linker.candidate_generation)"
   ]
  },
  {
   "cell_type": "code",
   "execution_count": 11,
   "id": "a9bbfda6-a097-479e-b19d-cb511788ec2e",
   "metadata": {
    "scrolled": true,
    "tags": []
   },
   "outputs": [
    {
     "data": {
      "application/vnd.jupyter.widget-view+json": {
       "model_id": "8129cfba1265420e82f8d9da7eafa651",
       "version_major": 2,
       "version_minor": 0
      },
      "text/plain": [
       "Map:   0%|          | 0/374 [00:00<?, ? examples/s]"
      ]
     },
     "metadata": {},
     "output_type": "display_data"
    },
    {
     "name": "stderr",
     "output_type": "stream",
     "text": [
      "/home/Florian.Borchert/miniconda3/envs/ggponc/lib/python3.10/site-packages/scispacy/abbreviation.py:248: UserWarning: [W036] The component 'matcher' does not have any patterns defined.\n",
      "  global_matches = self.global_matcher(doc)\n"
     ]
    },
    {
     "data": {
      "application/vnd.jupyter.widget-view+json": {
       "model_id": "55e16df3d2e94d8db15c557ee4e3d69a",
       "version_major": 2,
       "version_minor": 0
      },
      "text/plain": [
       "Map:   0%|          | 0/374 [00:00<?, ? examples/s]"
      ]
     },
     "metadata": {},
     "output_type": "display_data"
    },
    {
     "data": {
      "application/vnd.jupyter.widget-view+json": {
       "model_id": "4797c6f2f73641fdbb284586bd4e5975",
       "version_major": 2,
       "version_minor": 0
      },
      "text/plain": [
       "Map:   0%|          | 0/374 [00:00<?, ? examples/s]"
      ]
     },
     "metadata": {},
     "output_type": "display_data"
    },
    {
     "data": {
      "application/vnd.jupyter.widget-view+json": {
       "model_id": "7bbc37e6282847db8fcdee1f1f30dc9a",
       "version_major": 2,
       "version_minor": 0
      },
      "text/plain": [
       "Map:   0%|          | 0/374 [00:00<?, ? examples/s]"
      ]
     },
     "metadata": {},
     "output_type": "display_data"
    },
    {
     "name": "stdout",
     "output_type": "stream",
     "text": [
      "Context length: 128\n",
      "Use NIL values: False\n"
     ]
    },
    {
     "data": {
      "application/vnd.jupyter.widget-view+json": {
       "model_id": "0d1c77a08b7a46ab87a2f527aa2c20cf",
       "version_major": 2,
       "version_minor": 0
      },
      "text/plain": [
       "  0%|          | 0/1179 [00:00<?, ?it/s]"
      ]
     },
     "metadata": {},
     "output_type": "display_data"
    },
    {
     "data": {
      "application/vnd.jupyter.widget-view+json": {
       "model_id": "0e0e6d2a265c4a0d932e2468f938813a",
       "version_major": 2,
       "version_minor": 0
      },
      "text/plain": [
       "  0%|          | 0/1179 [00:00<?, ?it/s]"
      ]
     },
     "metadata": {},
     "output_type": "display_data"
    },
    {
     "data": {
      "application/vnd.jupyter.widget-view+json": {
       "model_id": "fe0d981721294561992e88f6a9893c29",
       "version_major": 2,
       "version_minor": 0
      },
      "text/plain": [
       "  0%|          | 0/1179 [00:00<?, ?it/s]"
      ]
     },
     "metadata": {},
     "output_type": "display_data"
    },
    {
     "data": {
      "application/vnd.jupyter.widget-view+json": {
       "model_id": "8fe1e62badb44b0d8aae356fff513a58",
       "version_major": 2,
       "version_minor": 0
      },
      "text/plain": [
       "Batches:   0%|          | 0/1179 [00:00<?, ?it/s]"
      ]
     },
     "metadata": {},
     "output_type": "display_data"
    },
    {
     "data": {
      "application/vnd.jupyter.widget-view+json": {
       "model_id": "6f7aee798fac4af3b289c1c2c1fabe65",
       "version_major": 2,
       "version_minor": 0
      },
      "text/plain": [
       "Map:   0%|          | 0/374 [00:00<?, ? examples/s]"
      ]
     },
     "metadata": {},
     "output_type": "display_data"
    },
    {
     "data": {
      "application/vnd.jupyter.widget-view+json": {
       "model_id": "f393873dc6f64626b7fc9cc000f66b7f",
       "version_major": 2,
       "version_minor": 0
      },
      "text/plain": [
       "Map:   0%|          | 0/374 [00:00<?, ? examples/s]"
      ]
     },
     "metadata": {},
     "output_type": "display_data"
    },
    {
     "data": {
      "application/vnd.jupyter.widget-view+json": {
       "model_id": "fc61fb13826a4f2495e015f5a19af1fc",
       "version_major": 2,
       "version_minor": 0
      },
      "text/plain": [
       "Map:   0%|          | 0/374 [00:00<?, ? examples/s]"
      ]
     },
     "metadata": {},
     "output_type": "display_data"
    },
    {
     "name": "stderr",
     "output_type": "stream",
     "text": [
      "/home/Florian.Borchert/miniconda3/envs/ggponc/lib/python3.10/site-packages/scispacy/abbreviation.py:248: UserWarning: [W036] The component 'matcher' does not have any patterns defined.\n",
      "  global_matches = self.global_matcher(doc)\n"
     ]
    },
    {
     "data": {
      "application/vnd.jupyter.widget-view+json": {
       "model_id": "16fba343a99e4bf1beaf4d17245e29a6",
       "version_major": 2,
       "version_minor": 0
      },
      "text/plain": [
       "Map:   0%|          | 0/374 [00:00<?, ? examples/s]"
      ]
     },
     "metadata": {},
     "output_type": "display_data"
    },
    {
     "data": {
      "application/vnd.jupyter.widget-view+json": {
       "model_id": "ceab70681ac144eb9579ba8dc30978b3",
       "version_major": 2,
       "version_minor": 0
      },
      "text/plain": [
       "Map:   0%|          | 0/374 [00:00<?, ? examples/s]"
      ]
     },
     "metadata": {},
     "output_type": "display_data"
    },
    {
     "name": "stdout",
     "output_type": "stream",
     "text": [
      "Context length: 128\n",
      "Use NIL values: False\n"
     ]
    },
    {
     "data": {
      "application/vnd.jupyter.widget-view+json": {
       "model_id": "8bb8ebc59276406f86074809bd3c3191",
       "version_major": 2,
       "version_minor": 0
      },
      "text/plain": [
       "  0%|          | 0/1179 [00:00<?, ?it/s]"
      ]
     },
     "metadata": {},
     "output_type": "display_data"
    },
    {
     "data": {
      "application/vnd.jupyter.widget-view+json": {
       "model_id": "5e437efed3fa44afb3165fc2681d332c",
       "version_major": 2,
       "version_minor": 0
      },
      "text/plain": [
       "  0%|          | 0/1179 [00:00<?, ?it/s]"
      ]
     },
     "metadata": {},
     "output_type": "display_data"
    },
    {
     "data": {
      "application/vnd.jupyter.widget-view+json": {
       "model_id": "67a5c3403dcf44dbba02d2dec0fee60e",
       "version_major": 2,
       "version_minor": 0
      },
      "text/plain": [
       "  0%|          | 0/1179 [00:00<?, ?it/s]"
      ]
     },
     "metadata": {},
     "output_type": "display_data"
    },
    {
     "data": {
      "application/vnd.jupyter.widget-view+json": {
       "model_id": "50cf80739e4545a3bf0af7b9dd5c5774",
       "version_major": 2,
       "version_minor": 0
      },
      "text/plain": [
       "Batches:   0%|          | 0/1179 [00:00<?, ?it/s]"
      ]
     },
     "metadata": {},
     "output_type": "display_data"
    },
    {
     "data": {
      "application/vnd.jupyter.widget-view+json": {
       "model_id": "c6b29e14b654482ea4ee7f43d2c5ff4a",
       "version_major": 2,
       "version_minor": 0
      },
      "text/plain": [
       "Map:   0%|          | 0/374 [00:00<?, ? examples/s]"
      ]
     },
     "metadata": {},
     "output_type": "display_data"
    },
    {
     "data": {
      "application/vnd.jupyter.widget-view+json": {
       "model_id": "2e088ad0d540409e9798e9195be9e54d",
       "version_major": 2,
       "version_minor": 0
      },
      "text/plain": [
       "Map:   0%|          | 0/374 [00:00<?, ? examples/s]"
      ]
     },
     "metadata": {},
     "output_type": "display_data"
    },
    {
     "data": {
      "application/vnd.jupyter.widget-view+json": {
       "model_id": "9763fa8780854011b592a5c9647fd00a",
       "version_major": 2,
       "version_minor": 0
      },
      "text/plain": [
       "Map:   0%|          | 0/374 [00:00<?, ? examples/s]"
      ]
     },
     "metadata": {},
     "output_type": "display_data"
    },
    {
     "name": "stderr",
     "output_type": "stream",
     "text": [
      "/home/Florian.Borchert/miniconda3/envs/ggponc/lib/python3.10/site-packages/scispacy/abbreviation.py:248: UserWarning: [W036] The component 'matcher' does not have any patterns defined.\n",
      "  global_matches = self.global_matcher(doc)\n"
     ]
    },
    {
     "data": {
      "application/vnd.jupyter.widget-view+json": {
       "model_id": "614cc14924324ead8477286e630369c5",
       "version_major": 2,
       "version_minor": 0
      },
      "text/plain": [
       "Map:   0%|          | 0/374 [00:00<?, ? examples/s]"
      ]
     },
     "metadata": {},
     "output_type": "display_data"
    },
    {
     "data": {
      "application/vnd.jupyter.widget-view+json": {
       "model_id": "d362eb788d33451c98947fa5c525c2b5",
       "version_major": 2,
       "version_minor": 0
      },
      "text/plain": [
       "Map:   0%|          | 0/374 [00:00<?, ? examples/s]"
      ]
     },
     "metadata": {},
     "output_type": "display_data"
    },
    {
     "data": {
      "application/vnd.jupyter.widget-view+json": {
       "model_id": "07b9d002dcef4ee88051e91a51609a29",
       "version_major": 2,
       "version_minor": 0
      },
      "text/plain": [
       "Map:   0%|          | 0/374 [00:00<?, ? examples/s]"
      ]
     },
     "metadata": {},
     "output_type": "display_data"
    },
    {
     "name": "stdout",
     "output_type": "stream",
     "text": [
      "Context length: 128\n",
      "Use NIL values: False\n"
     ]
    },
    {
     "data": {
      "application/vnd.jupyter.widget-view+json": {
       "model_id": "80d671a701274522937e1431fcd8e91b",
       "version_major": 2,
       "version_minor": 0
      },
      "text/plain": [
       "  0%|          | 0/1177 [00:00<?, ?it/s]"
      ]
     },
     "metadata": {},
     "output_type": "display_data"
    },
    {
     "data": {
      "application/vnd.jupyter.widget-view+json": {
       "model_id": "b199eb3cfcdf491b8792b6afaa98690a",
       "version_major": 2,
       "version_minor": 0
      },
      "text/plain": [
       "  0%|          | 0/1177 [00:00<?, ?it/s]"
      ]
     },
     "metadata": {},
     "output_type": "display_data"
    },
    {
     "data": {
      "application/vnd.jupyter.widget-view+json": {
       "model_id": "ee230eac974447b4be77e7f6ff5a4fff",
       "version_major": 2,
       "version_minor": 0
      },
      "text/plain": [
       "  0%|          | 0/1177 [00:00<?, ?it/s]"
      ]
     },
     "metadata": {},
     "output_type": "display_data"
    },
    {
     "data": {
      "application/vnd.jupyter.widget-view+json": {
       "model_id": "cf83ab2738774a5c98f6b4ae998410fe",
       "version_major": 2,
       "version_minor": 0
      },
      "text/plain": [
       "Batches:   0%|          | 0/1177 [00:00<?, ?it/s]"
      ]
     },
     "metadata": {},
     "output_type": "display_data"
    },
    {
     "data": {
      "application/vnd.jupyter.widget-view+json": {
       "model_id": "87dd425999dd402991a4402c8b8edb4a",
       "version_major": 2,
       "version_minor": 0
      },
      "text/plain": [
       "Map:   0%|          | 0/374 [00:00<?, ? examples/s]"
      ]
     },
     "metadata": {},
     "output_type": "display_data"
    },
    {
     "data": {
      "application/vnd.jupyter.widget-view+json": {
       "model_id": "70850cf4055449eca3caf3caf00ffcfd",
       "version_major": 2,
       "version_minor": 0
      },
      "text/plain": [
       "Map:   0%|          | 0/374 [00:00<?, ? examples/s]"
      ]
     },
     "metadata": {},
     "output_type": "display_data"
    },
    {
     "data": {
      "application/vnd.jupyter.widget-view+json": {
       "model_id": "06fd028c8de045ec8cb16e206f7548e3",
       "version_major": 2,
       "version_minor": 0
      },
      "text/plain": [
       "Map:   0%|          | 0/374 [00:00<?, ? examples/s]"
      ]
     },
     "metadata": {},
     "output_type": "display_data"
    },
    {
     "name": "stderr",
     "output_type": "stream",
     "text": [
      "/home/Florian.Borchert/miniconda3/envs/ggponc/lib/python3.10/site-packages/scispacy/abbreviation.py:248: UserWarning: [W036] The component 'matcher' does not have any patterns defined.\n",
      "  global_matches = self.global_matcher(doc)\n"
     ]
    },
    {
     "data": {
      "application/vnd.jupyter.widget-view+json": {
       "model_id": "7f5b05b1687e49abaf2b0e7d6130606d",
       "version_major": 2,
       "version_minor": 0
      },
      "text/plain": [
       "Map:   0%|          | 0/374 [00:00<?, ? examples/s]"
      ]
     },
     "metadata": {},
     "output_type": "display_data"
    },
    {
     "data": {
      "application/vnd.jupyter.widget-view+json": {
       "model_id": "20ce5c23e94d4f668645085cb4ddfa6c",
       "version_major": 2,
       "version_minor": 0
      },
      "text/plain": [
       "Map:   0%|          | 0/374 [00:00<?, ? examples/s]"
      ]
     },
     "metadata": {},
     "output_type": "display_data"
    },
    {
     "name": "stdout",
     "output_type": "stream",
     "text": [
      "Context length: 128\n",
      "Use NIL values: False\n"
     ]
    },
    {
     "data": {
      "application/vnd.jupyter.widget-view+json": {
       "model_id": "8b33e2a972d4494ab892d4e38184751e",
       "version_major": 2,
       "version_minor": 0
      },
      "text/plain": [
       "  0%|          | 0/1177 [00:00<?, ?it/s]"
      ]
     },
     "metadata": {},
     "output_type": "display_data"
    },
    {
     "data": {
      "application/vnd.jupyter.widget-view+json": {
       "model_id": "3ef118208f8e441b935f6b26f4628678",
       "version_major": 2,
       "version_minor": 0
      },
      "text/plain": [
       "  0%|          | 0/1177 [00:00<?, ?it/s]"
      ]
     },
     "metadata": {},
     "output_type": "display_data"
    },
    {
     "data": {
      "application/vnd.jupyter.widget-view+json": {
       "model_id": "2bb34820dc5e4605b131fb17ac62d932",
       "version_major": 2,
       "version_minor": 0
      },
      "text/plain": [
       "  0%|          | 0/1177 [00:00<?, ?it/s]"
      ]
     },
     "metadata": {},
     "output_type": "display_data"
    },
    {
     "data": {
      "application/vnd.jupyter.widget-view+json": {
       "model_id": "7de1608a165e474da24e0681946eab2e",
       "version_major": 2,
       "version_minor": 0
      },
      "text/plain": [
       "Batches:   0%|          | 0/1177 [00:00<?, ?it/s]"
      ]
     },
     "metadata": {},
     "output_type": "display_data"
    },
    {
     "data": {
      "application/vnd.jupyter.widget-view+json": {
       "model_id": "1ad5ab66eb85421585a3419d262b88b1",
       "version_major": 2,
       "version_minor": 0
      },
      "text/plain": [
       "Map:   0%|          | 0/374 [00:00<?, ? examples/s]"
      ]
     },
     "metadata": {},
     "output_type": "display_data"
    },
    {
     "data": {
      "application/vnd.jupyter.widget-view+json": {
       "model_id": "30f49c8aba094b3e83a89906054abe35",
       "version_major": 2,
       "version_minor": 0
      },
      "text/plain": [
       "Map:   0%|          | 0/374 [00:00<?, ? examples/s]"
      ]
     },
     "metadata": {},
     "output_type": "display_data"
    }
   ],
   "source": [
    "linking_results = {}\n",
    "linking_results['before_eccnp'] = linker.transform(ds_ner_before, silent=True)\n",
    "linking_results['before_eccnp_no_semtype'] = linker.transform(ds_ner_before, ['abbrv', 'candidates', 'reranking'], silent=True)\n",
    "linking_results['after_eccnp'] = linker.transform(ds_ner_after, silent=True)\n",
    "linking_results['after_eccnp_no_semtype'] = linker.transform(ds_ner_after, ['abbrv', 'candidates', 'reranking'], silent=True)"
   ]
  },
  {
   "cell_type": "code",
   "execution_count": 12,
   "id": "3340d144-944c-4d80-82df-8c62e4ac4960",
   "metadata": {
    "tags": []
   },
   "outputs": [],
   "source": [
    "from nb_util import show_diff_single\n",
    "from IPython.display import display\n",
    "from nen_util import get_annotation_dataframe\n",
    "from xmen.data import Sampler\n",
    "\n",
    "def get_ent_texts(d):\n",
    "    return [e['text'] for e in d['entities']]"
   ]
  },
  {
   "cell_type": "markdown",
   "id": "130de8aa-3632-4845-bd51-a7c3b7f5eb6f",
   "metadata": {},
   "source": [
    "# Impact of Semantic Type Filter"
   ]
  },
  {
   "cell_type": "code",
   "execution_count": 13,
   "id": "7e7ed804-26c1-4471-9cf3-616153f55a8e",
   "metadata": {
    "scrolled": true,
    "tags": []
   },
   "outputs": [
    {
     "data": {
      "application/vnd.jupyter.widget-view+json": {
       "model_id": "ad1ebcc5f5bd4ce1abf93b6185f9ce0b",
       "version_major": 2,
       "version_minor": 0
      },
      "text/plain": [
       "  0%|          | 0/1 [00:00<?, ?it/s]"
      ]
     },
     "metadata": {},
     "output_type": "display_data"
    },
    {
     "data": {
      "application/vnd.jupyter.widget-view+json": {
       "model_id": "6b03f9dbb69b48e0924fdecbb5655841",
       "version_major": 2,
       "version_minor": 0
      },
      "text/plain": [
       "  0%|          | 0/1 [00:00<?, ?it/s]"
      ]
     },
     "metadata": {},
     "output_type": "display_data"
    },
    {
     "data": {
      "application/vnd.jupyter.widget-view+json": {
       "model_id": "d8b92aa253a74f2eaa6eb07dba358591",
       "version_major": 2,
       "version_minor": 0
      },
      "text/plain": [
       "  0%|          | 0/1 [00:00<?, ?it/s]"
      ]
     },
     "metadata": {},
     "output_type": "display_data"
    },
    {
     "data": {
      "application/vnd.jupyter.widget-view+json": {
       "model_id": "b9463647ac404e078f19514d3a15b1ba",
       "version_major": 2,
       "version_minor": 0
      },
      "text/plain": [
       "  0%|          | 0/1 [00:00<?, ?it/s]"
      ]
     },
     "metadata": {},
     "output_type": "display_data"
    },
    {
     "data": {
      "application/vnd.jupyter.widget-view+json": {
       "model_id": "38ef84d47c7f46bfb62cd70469fe0ff1",
       "version_major": 2,
       "version_minor": 0
      },
      "text/plain": [
       "  0%|          | 0/1 [00:00<?, ?it/s]"
      ]
     },
     "metadata": {},
     "output_type": "display_data"
    },
    {
     "data": {
      "application/vnd.jupyter.widget-view+json": {
       "model_id": "40f1890543c74b81bd883aa27a04b50f",
       "version_major": 2,
       "version_minor": 0
      },
      "text/plain": [
       "  0%|          | 0/1 [00:00<?, ?it/s]"
      ]
     },
     "metadata": {},
     "output_type": "display_data"
    },
    {
     "data": {
      "application/vnd.jupyter.widget-view+json": {
       "model_id": "436619000f1f4a76916aba2a775d9b92",
       "version_major": 2,
       "version_minor": 0
      },
      "text/plain": [
       "  0%|          | 0/1 [00:00<?, ?it/s]"
      ]
     },
     "metadata": {},
     "output_type": "display_data"
    },
    {
     "data": {
      "application/vnd.jupyter.widget-view+json": {
       "model_id": "4a174c4d463e4bc4a1bbe6518fcfe75c",
       "version_major": 2,
       "version_minor": 0
      },
      "text/plain": [
       "  0%|          | 0/1 [00:00<?, ?it/s]"
      ]
     },
     "metadata": {},
     "output_type": "display_data"
    },
    {
     "data": {
      "application/vnd.jupyter.widget-view+json": {
       "model_id": "6143d24268ff4c039580f1c7b89c8b04",
       "version_major": 2,
       "version_minor": 0
      },
      "text/plain": [
       "  0%|          | 0/1 [00:00<?, ?it/s]"
      ]
     },
     "metadata": {},
     "output_type": "display_data"
    },
    {
     "data": {
      "application/vnd.jupyter.widget-view+json": {
       "model_id": "5ad1cb5d0e1b4244884d80f4f04583b6",
       "version_major": 2,
       "version_minor": 0
      },
      "text/plain": [
       "  0%|          | 0/1 [00:00<?, ?it/s]"
      ]
     },
     "metadata": {},
     "output_type": "display_data"
    },
    {
     "data": {
      "application/vnd.jupyter.widget-view+json": {
       "model_id": "22f34b03a98549b2859f9dc736501fad",
       "version_major": 2,
       "version_minor": 0
      },
      "text/plain": [
       "  0%|          | 0/1 [00:00<?, ?it/s]"
      ]
     },
     "metadata": {},
     "output_type": "display_data"
    },
    {
     "data": {
      "application/vnd.jupyter.widget-view+json": {
       "model_id": "d2cf2a1ad40c452bb1eeeb4f146c9ac3",
       "version_major": 2,
       "version_minor": 0
      },
      "text/plain": [
       "  0%|          | 0/1 [00:00<?, ?it/s]"
      ]
     },
     "metadata": {},
     "output_type": "display_data"
    },
    {
     "name": "stdout",
     "output_type": "stream",
     "text": [
      "Bei komplett parenteraler Ernährung kann die Supplementierung von Spurenelementen deren Abfall im Serum verhindern; dies trifft besonders auf Mangan und Kupfer zu [REF].\n",
      "\n",
      "No Filter:\n"
     ]
    },
    {
     "data": {
      "text/html": [
       "<div>\n",
       "<style scoped>\n",
       "    .dataframe tbody tr th:only-of-type {\n",
       "        vertical-align: middle;\n",
       "    }\n",
       "\n",
       "    .dataframe tbody tr th {\n",
       "        vertical-align: top;\n",
       "    }\n",
       "\n",
       "    .dataframe thead th {\n",
       "        text-align: right;\n",
       "    }\n",
       "</style>\n",
       "<table border=\"1\" class=\"dataframe\">\n",
       "  <thead>\n",
       "    <tr style=\"text-align: right;\">\n",
       "      <th></th>\n",
       "      <th>document</th>\n",
       "      <th>text</th>\n",
       "      <th>type</th>\n",
       "      <th>start</th>\n",
       "      <th>end</th>\n",
       "      <th>cui</th>\n",
       "      <th>tuis</th>\n",
       "      <th>canonical</th>\n",
       "      <th>linker</th>\n",
       "      <th>confidence</th>\n",
       "    </tr>\n",
       "  </thead>\n",
       "  <tbody>\n",
       "    <tr>\n",
       "      <th>6</th>\n",
       "      <td>01_magenkarzinom_0192_5</td>\n",
       "      <td>Kupfer</td>\n",
       "      <td>Clinical_Drug</td>\n",
       "      <td>153</td>\n",
       "      <td>159</td>\n",
       "      <td>C0373587</td>\n",
       "      <td>[T059]</td>\n",
       "      <td>Cu</td>\n",
       "      <td>[ngram, sapbert]</td>\n",
       "      <td>0.084888</td>\n",
       "    </tr>\n",
       "  </tbody>\n",
       "</table>\n",
       "</div>"
      ],
      "text/plain": [
       "                  document    text           type  start  end       cui  \\\n",
       "6  01_magenkarzinom_0192_5  Kupfer  Clinical_Drug    153  159  C0373587   \n",
       "\n",
       "     tuis canonical            linker  confidence  \n",
       "6  [T059]        Cu  [ngram, sapbert]    0.084888  "
      ]
     },
     "metadata": {},
     "output_type": "display_data"
    },
    {
     "name": "stdout",
     "output_type": "stream",
     "text": [
      "Filter:\n"
     ]
    },
    {
     "data": {
      "text/html": [
       "<div>\n",
       "<style scoped>\n",
       "    .dataframe tbody tr th:only-of-type {\n",
       "        vertical-align: middle;\n",
       "    }\n",
       "\n",
       "    .dataframe tbody tr th {\n",
       "        vertical-align: top;\n",
       "    }\n",
       "\n",
       "    .dataframe thead th {\n",
       "        text-align: right;\n",
       "    }\n",
       "</style>\n",
       "<table border=\"1\" class=\"dataframe\">\n",
       "  <thead>\n",
       "    <tr style=\"text-align: right;\">\n",
       "      <th></th>\n",
       "      <th>document</th>\n",
       "      <th>text</th>\n",
       "      <th>type</th>\n",
       "      <th>start</th>\n",
       "      <th>end</th>\n",
       "      <th>cui</th>\n",
       "      <th>tuis</th>\n",
       "      <th>canonical</th>\n",
       "      <th>linker</th>\n",
       "      <th>confidence</th>\n",
       "    </tr>\n",
       "  </thead>\n",
       "  <tbody>\n",
       "    <tr>\n",
       "      <th>6</th>\n",
       "      <td>01_magenkarzinom_0192_5</td>\n",
       "      <td>Kupfer</td>\n",
       "      <td>Clinical_Drug</td>\n",
       "      <td>153</td>\n",
       "      <td>159</td>\n",
       "      <td>C0009968</td>\n",
       "      <td>[T121, T123, T196]</td>\n",
       "      <td>Kupfer</td>\n",
       "      <td>[ngram, sapbert]</td>\n",
       "      <td>0.069398</td>\n",
       "    </tr>\n",
       "  </tbody>\n",
       "</table>\n",
       "</div>"
      ],
      "text/plain": [
       "                  document    text           type  start  end       cui  \\\n",
       "6  01_magenkarzinom_0192_5  Kupfer  Clinical_Drug    153  159  C0009968   \n",
       "\n",
       "                 tuis canonical            linker  confidence  \n",
       "6  [T121, T123, T196]    Kupfer  [ngram, sapbert]    0.069398  "
      ]
     },
     "metadata": {},
     "output_type": "display_data"
    },
    {
     "name": "stdout",
     "output_type": "stream",
     "text": [
      "####\n"
     ]
    },
    {
     "data": {
      "application/vnd.jupyter.widget-view+json": {
       "model_id": "10ae7dfaf5bb43768949c585d2d09722",
       "version_major": 2,
       "version_minor": 0
      },
      "text/plain": [
       "  0%|          | 0/1 [00:00<?, ?it/s]"
      ]
     },
     "metadata": {},
     "output_type": "display_data"
    },
    {
     "data": {
      "application/vnd.jupyter.widget-view+json": {
       "model_id": "ebcd1bd7b8414350871eecc45276b805",
       "version_major": 2,
       "version_minor": 0
      },
      "text/plain": [
       "  0%|          | 0/1 [00:00<?, ?it/s]"
      ]
     },
     "metadata": {},
     "output_type": "display_data"
    },
    {
     "data": {
      "application/vnd.jupyter.widget-view+json": {
       "model_id": "15c4724be99d4b6c98cfc363e0700f8f",
       "version_major": 2,
       "version_minor": 0
      },
      "text/plain": [
       "  0%|          | 0/1 [00:00<?, ?it/s]"
      ]
     },
     "metadata": {},
     "output_type": "display_data"
    },
    {
     "data": {
      "application/vnd.jupyter.widget-view+json": {
       "model_id": "b019c8e6bfc94f819848cd8461e77a6d",
       "version_major": 2,
       "version_minor": 0
      },
      "text/plain": [
       "  0%|          | 0/1 [00:00<?, ?it/s]"
      ]
     },
     "metadata": {},
     "output_type": "display_data"
    },
    {
     "data": {
      "application/vnd.jupyter.widget-view+json": {
       "model_id": "841bbe1592b24eeb8f31571ebb2d5133",
       "version_major": 2,
       "version_minor": 0
      },
      "text/plain": [
       "  0%|          | 0/1 [00:00<?, ?it/s]"
      ]
     },
     "metadata": {},
     "output_type": "display_data"
    },
    {
     "data": {
      "application/vnd.jupyter.widget-view+json": {
       "model_id": "b19d8338082e4339b735edaf5a235a26",
       "version_major": 2,
       "version_minor": 0
      },
      "text/plain": [
       "  0%|          | 0/1 [00:00<?, ?it/s]"
      ]
     },
     "metadata": {},
     "output_type": "display_data"
    },
    {
     "data": {
      "application/vnd.jupyter.widget-view+json": {
       "model_id": "09d9d7e09e66443c9c88dd2f758eb07d",
       "version_major": 2,
       "version_minor": 0
      },
      "text/plain": [
       "  0%|          | 0/1 [00:00<?, ?it/s]"
      ]
     },
     "metadata": {},
     "output_type": "display_data"
    },
    {
     "data": {
      "application/vnd.jupyter.widget-view+json": {
       "model_id": "3d0b7d3ae595402a9789f8ad0f8930c5",
       "version_major": 2,
       "version_minor": 0
      },
      "text/plain": [
       "  0%|          | 0/1 [00:00<?, ?it/s]"
      ]
     },
     "metadata": {},
     "output_type": "display_data"
    },
    {
     "data": {
      "application/vnd.jupyter.widget-view+json": {
       "model_id": "aa4d1756c5334f0abce26d30114114cc",
       "version_major": 2,
       "version_minor": 0
      },
      "text/plain": [
       "  0%|          | 0/1 [00:00<?, ?it/s]"
      ]
     },
     "metadata": {},
     "output_type": "display_data"
    },
    {
     "data": {
      "application/vnd.jupyter.widget-view+json": {
       "model_id": "fd066aa0695f4178a27762c218cbbf82",
       "version_major": 2,
       "version_minor": 0
      },
      "text/plain": [
       "  0%|          | 0/1 [00:00<?, ?it/s]"
      ]
     },
     "metadata": {},
     "output_type": "display_data"
    },
    {
     "data": {
      "application/vnd.jupyter.widget-view+json": {
       "model_id": "71421143be944368bcf25701cc6f34da",
       "version_major": 2,
       "version_minor": 0
      },
      "text/plain": [
       "  0%|          | 0/1 [00:00<?, ?it/s]"
      ]
     },
     "metadata": {},
     "output_type": "display_data"
    },
    {
     "data": {
      "application/vnd.jupyter.widget-view+json": {
       "model_id": "e78f3dd2b26d4d33ad557c6b342ca08f",
       "version_major": 2,
       "version_minor": 0
      },
      "text/plain": [
       "  0%|          | 0/1 [00:00<?, ?it/s]"
      ]
     },
     "metadata": {},
     "output_type": "display_data"
    },
    {
     "data": {
      "application/vnd.jupyter.widget-view+json": {
       "model_id": "aa309f772c724bc8b127add020f6ce9b",
       "version_major": 2,
       "version_minor": 0
      },
      "text/plain": [
       "  0%|          | 0/1 [00:00<?, ?it/s]"
      ]
     },
     "metadata": {},
     "output_type": "display_data"
    },
    {
     "data": {
      "application/vnd.jupyter.widget-view+json": {
       "model_id": "4d2a60d699494c7e8da2b4657c376d0d",
       "version_major": 2,
       "version_minor": 0
      },
      "text/plain": [
       "  0%|          | 0/1 [00:00<?, ?it/s]"
      ]
     },
     "metadata": {},
     "output_type": "display_data"
    },
    {
     "data": {
      "application/vnd.jupyter.widget-view+json": {
       "model_id": "e4f62404c25a4f5ab67822de0b913f59",
       "version_major": 2,
       "version_minor": 0
      },
      "text/plain": [
       "  0%|          | 0/1 [00:00<?, ?it/s]"
      ]
     },
     "metadata": {},
     "output_type": "display_data"
    },
    {
     "data": {
      "application/vnd.jupyter.widget-view+json": {
       "model_id": "828751a9ea494a648db2690ccfe17887",
       "version_major": 2,
       "version_minor": 0
      },
      "text/plain": [
       "  0%|          | 0/1 [00:00<?, ?it/s]"
      ]
     },
     "metadata": {},
     "output_type": "display_data"
    },
    {
     "data": {
      "application/vnd.jupyter.widget-view+json": {
       "model_id": "10765befb78a488f84fa8d43f1c9437a",
       "version_major": 2,
       "version_minor": 0
      },
      "text/plain": [
       "  0%|          | 0/1 [00:00<?, ?it/s]"
      ]
     },
     "metadata": {},
     "output_type": "display_data"
    },
    {
     "data": {
      "application/vnd.jupyter.widget-view+json": {
       "model_id": "d06844c966144d96893365f5ee9b4dd1",
       "version_major": 2,
       "version_minor": 0
      },
      "text/plain": [
       "  0%|          | 0/1 [00:00<?, ?it/s]"
      ]
     },
     "metadata": {},
     "output_type": "display_data"
    },
    {
     "data": {
      "application/vnd.jupyter.widget-view+json": {
       "model_id": "2afb2e41aff94c458ca7f253f52e28d4",
       "version_major": 2,
       "version_minor": 0
      },
      "text/plain": [
       "  0%|          | 0/1 [00:00<?, ?it/s]"
      ]
     },
     "metadata": {},
     "output_type": "display_data"
    },
    {
     "data": {
      "application/vnd.jupyter.widget-view+json": {
       "model_id": "cf31fd17886444e5b7dd7ae1a0b7e52c",
       "version_major": 2,
       "version_minor": 0
      },
      "text/plain": [
       "  0%|          | 0/1 [00:00<?, ?it/s]"
      ]
     },
     "metadata": {},
     "output_type": "display_data"
    },
    {
     "data": {
      "application/vnd.jupyter.widget-view+json": {
       "model_id": "acd6eb695d5b4da880332b7a1083888d",
       "version_major": 2,
       "version_minor": 0
      },
      "text/plain": [
       "  0%|          | 0/1 [00:00<?, ?it/s]"
      ]
     },
     "metadata": {},
     "output_type": "display_data"
    },
    {
     "data": {
      "application/vnd.jupyter.widget-view+json": {
       "model_id": "d5eab012385545e0bf1c741b0d393e6c",
       "version_major": 2,
       "version_minor": 0
      },
      "text/plain": [
       "  0%|          | 0/1 [00:00<?, ?it/s]"
      ]
     },
     "metadata": {},
     "output_type": "display_data"
    },
    {
     "data": {
      "application/vnd.jupyter.widget-view+json": {
       "model_id": "6f5f4ce26f77488ba8dd5cf30f8623ad",
       "version_major": 2,
       "version_minor": 0
      },
      "text/plain": [
       "  0%|          | 0/1 [00:00<?, ?it/s]"
      ]
     },
     "metadata": {},
     "output_type": "display_data"
    },
    {
     "data": {
      "application/vnd.jupyter.widget-view+json": {
       "model_id": "8b31de92e2a54291870f3681accd104c",
       "version_major": 2,
       "version_minor": 0
      },
      "text/plain": [
       "  0%|          | 0/1 [00:00<?, ?it/s]"
      ]
     },
     "metadata": {},
     "output_type": "display_data"
    },
    {
     "data": {
      "application/vnd.jupyter.widget-view+json": {
       "model_id": "f416f36ac0d547e58a3e11c0d23ccd22",
       "version_major": 2,
       "version_minor": 0
      },
      "text/plain": [
       "  0%|          | 0/1 [00:00<?, ?it/s]"
      ]
     },
     "metadata": {},
     "output_type": "display_data"
    },
    {
     "data": {
      "application/vnd.jupyter.widget-view+json": {
       "model_id": "b813d0c1c52f4a02b141d1a49b03129c",
       "version_major": 2,
       "version_minor": 0
      },
      "text/plain": [
       "  0%|          | 0/1 [00:00<?, ?it/s]"
      ]
     },
     "metadata": {},
     "output_type": "display_data"
    },
    {
     "data": {
      "application/vnd.jupyter.widget-view+json": {
       "model_id": "463178e93d8c4210a0fb6cf5f45a4936",
       "version_major": 2,
       "version_minor": 0
      },
      "text/plain": [
       "  0%|          | 0/1 [00:00<?, ?it/s]"
      ]
     },
     "metadata": {},
     "output_type": "display_data"
    },
    {
     "data": {
      "application/vnd.jupyter.widget-view+json": {
       "model_id": "ac06f15e76b04255bea6fb08e7e46fe3",
       "version_major": 2,
       "version_minor": 0
      },
      "text/plain": [
       "  0%|          | 0/1 [00:00<?, ?it/s]"
      ]
     },
     "metadata": {},
     "output_type": "display_data"
    },
    {
     "name": "stdout",
     "output_type": "stream",
     "text": [
      "Es gibt keinen Beweis, dass Selen Nebenwirkungen vermindert, die im Zusammenhang mit Therapien des Magenkarzinoms relevant sind.\n",
      "\n",
      "No Filter:\n"
     ]
    },
    {
     "data": {
      "text/html": [
       "<div>\n",
       "<style scoped>\n",
       "    .dataframe tbody tr th:only-of-type {\n",
       "        vertical-align: middle;\n",
       "    }\n",
       "\n",
       "    .dataframe tbody tr th {\n",
       "        vertical-align: top;\n",
       "    }\n",
       "\n",
       "    .dataframe thead th {\n",
       "        text-align: right;\n",
       "    }\n",
       "</style>\n",
       "<table border=\"1\" class=\"dataframe\">\n",
       "  <thead>\n",
       "    <tr style=\"text-align: right;\">\n",
       "      <th></th>\n",
       "      <th>document</th>\n",
       "      <th>text</th>\n",
       "      <th>type</th>\n",
       "      <th>start</th>\n",
       "      <th>end</th>\n",
       "      <th>cui</th>\n",
       "      <th>tuis</th>\n",
       "      <th>canonical</th>\n",
       "      <th>linker</th>\n",
       "      <th>confidence</th>\n",
       "    </tr>\n",
       "  </thead>\n",
       "  <tbody>\n",
       "    <tr>\n",
       "      <th>2</th>\n",
       "      <td>01_magenkarzinom_0192_19</td>\n",
       "      <td>Therapien des Magenkarzinoms</td>\n",
       "      <td>Therapeutic</td>\n",
       "      <td>85</td>\n",
       "      <td>113</td>\n",
       "      <td>C0024623</td>\n",
       "      <td>[T191]</td>\n",
       "      <td>Krebs des Magens</td>\n",
       "      <td>[ngram]</td>\n",
       "      <td>0.072412</td>\n",
       "    </tr>\n",
       "  </tbody>\n",
       "</table>\n",
       "</div>"
      ],
      "text/plain": [
       "                   document                          text         type  start  \\\n",
       "2  01_magenkarzinom_0192_19  Therapien des Magenkarzinoms  Therapeutic     85   \n",
       "\n",
       "   end       cui    tuis         canonical   linker  confidence  \n",
       "2  113  C0024623  [T191]  Krebs des Magens  [ngram]    0.072412  "
      ]
     },
     "metadata": {},
     "output_type": "display_data"
    },
    {
     "name": "stdout",
     "output_type": "stream",
     "text": [
      "Filter:\n"
     ]
    },
    {
     "data": {
      "text/html": [
       "<div>\n",
       "<style scoped>\n",
       "    .dataframe tbody tr th:only-of-type {\n",
       "        vertical-align: middle;\n",
       "    }\n",
       "\n",
       "    .dataframe tbody tr th {\n",
       "        vertical-align: top;\n",
       "    }\n",
       "\n",
       "    .dataframe thead th {\n",
       "        text-align: right;\n",
       "    }\n",
       "</style>\n",
       "<table border=\"1\" class=\"dataframe\">\n",
       "  <thead>\n",
       "    <tr style=\"text-align: right;\">\n",
       "      <th></th>\n",
       "      <th>document</th>\n",
       "      <th>text</th>\n",
       "      <th>type</th>\n",
       "      <th>start</th>\n",
       "      <th>end</th>\n",
       "      <th>cui</th>\n",
       "      <th>tuis</th>\n",
       "      <th>canonical</th>\n",
       "      <th>linker</th>\n",
       "      <th>confidence</th>\n",
       "    </tr>\n",
       "  </thead>\n",
       "  <tbody>\n",
       "    <tr>\n",
       "      <th>2</th>\n",
       "      <td>01_magenkarzinom_0192_19</td>\n",
       "      <td>Therapien des Magenkarzinoms</td>\n",
       "      <td>Therapeutic</td>\n",
       "      <td>85</td>\n",
       "      <td>113</td>\n",
       "      <td>C0947833</td>\n",
       "      <td>[T061]</td>\n",
       "      <td>Gastric therapeutic procedures</td>\n",
       "      <td>[sapbert]</td>\n",
       "      <td>0.06769</td>\n",
       "    </tr>\n",
       "  </tbody>\n",
       "</table>\n",
       "</div>"
      ],
      "text/plain": [
       "                   document                          text         type  start  \\\n",
       "2  01_magenkarzinom_0192_19  Therapien des Magenkarzinoms  Therapeutic     85   \n",
       "\n",
       "   end       cui    tuis                       canonical     linker  \\\n",
       "2  113  C0947833  [T061]  Gastric therapeutic procedures  [sapbert]   \n",
       "\n",
       "   confidence  \n",
       "2     0.06769  "
      ]
     },
     "metadata": {},
     "output_type": "display_data"
    },
    {
     "name": "stdout",
     "output_type": "stream",
     "text": [
      "####\n"
     ]
    },
    {
     "data": {
      "application/vnd.jupyter.widget-view+json": {
       "model_id": "473dc42d0d0b477eaa98f38080f2d07b",
       "version_major": 2,
       "version_minor": 0
      },
      "text/plain": [
       "  0%|          | 0/1 [00:00<?, ?it/s]"
      ]
     },
     "metadata": {},
     "output_type": "display_data"
    },
    {
     "data": {
      "application/vnd.jupyter.widget-view+json": {
       "model_id": "a394c1b36b1a41119a43041e733955b3",
       "version_major": 2,
       "version_minor": 0
      },
      "text/plain": [
       "  0%|          | 0/1 [00:00<?, ?it/s]"
      ]
     },
     "metadata": {},
     "output_type": "display_data"
    },
    {
     "data": {
      "application/vnd.jupyter.widget-view+json": {
       "model_id": "4043bea0fdea4bcebefad3a7335381a3",
       "version_major": 2,
       "version_minor": 0
      },
      "text/plain": [
       "  0%|          | 0/1 [00:00<?, ?it/s]"
      ]
     },
     "metadata": {},
     "output_type": "display_data"
    },
    {
     "data": {
      "application/vnd.jupyter.widget-view+json": {
       "model_id": "3d3eff4078ad4470a2de7c5c939a93f0",
       "version_major": 2,
       "version_minor": 0
      },
      "text/plain": [
       "  0%|          | 0/1 [00:00<?, ?it/s]"
      ]
     },
     "metadata": {},
     "output_type": "display_data"
    },
    {
     "data": {
      "application/vnd.jupyter.widget-view+json": {
       "model_id": "0acddbdc08df4e1d9359605036a1349a",
       "version_major": 2,
       "version_minor": 0
      },
      "text/plain": [
       "  0%|          | 0/1 [00:00<?, ?it/s]"
      ]
     },
     "metadata": {},
     "output_type": "display_data"
    },
    {
     "data": {
      "application/vnd.jupyter.widget-view+json": {
       "model_id": "3fc69e6b3d7c4b9a98ab735135cd1c9b",
       "version_major": 2,
       "version_minor": 0
      },
      "text/plain": [
       "  0%|          | 0/1 [00:00<?, ?it/s]"
      ]
     },
     "metadata": {},
     "output_type": "display_data"
    },
    {
     "name": "stdout",
     "output_type": "stream",
     "text": [
      "Präklinische Daten sprechen dafür, dass Zink das Wachstum von Tumoren fördert, eine Supplementierung ist deshalb bei normaler Ernährung nicht zu empfehlen.\n",
      "\n",
      "No Filter:\n"
     ]
    },
    {
     "data": {
      "text/html": [
       "<div>\n",
       "<style scoped>\n",
       "    .dataframe tbody tr th:only-of-type {\n",
       "        vertical-align: middle;\n",
       "    }\n",
       "\n",
       "    .dataframe tbody tr th {\n",
       "        vertical-align: top;\n",
       "    }\n",
       "\n",
       "    .dataframe thead th {\n",
       "        text-align: right;\n",
       "    }\n",
       "</style>\n",
       "<table border=\"1\" class=\"dataframe\">\n",
       "  <thead>\n",
       "    <tr style=\"text-align: right;\">\n",
       "      <th></th>\n",
       "      <th>document</th>\n",
       "      <th>text</th>\n",
       "      <th>type</th>\n",
       "      <th>start</th>\n",
       "      <th>end</th>\n",
       "      <th>cui</th>\n",
       "      <th>tuis</th>\n",
       "      <th>canonical</th>\n",
       "      <th>linker</th>\n",
       "      <th>confidence</th>\n",
       "    </tr>\n",
       "  </thead>\n",
       "  <tbody>\n",
       "    <tr>\n",
       "      <th>0</th>\n",
       "      <td>01_magenkarzinom_0192_22</td>\n",
       "      <td>Zink</td>\n",
       "      <td>Nutrient_or_Body_Substance</td>\n",
       "      <td>40</td>\n",
       "      <td>44</td>\n",
       "      <td>C0373748</td>\n",
       "      <td>[T059]</td>\n",
       "      <td>Zn</td>\n",
       "      <td>[ngram, sapbert]</td>\n",
       "      <td>0.076587</td>\n",
       "    </tr>\n",
       "  </tbody>\n",
       "</table>\n",
       "</div>"
      ],
      "text/plain": [
       "                   document  text                        type  start  end  \\\n",
       "0  01_magenkarzinom_0192_22  Zink  Nutrient_or_Body_Substance     40   44   \n",
       "\n",
       "        cui    tuis canonical            linker  confidence  \n",
       "0  C0373748  [T059]        Zn  [ngram, sapbert]    0.076587  "
      ]
     },
     "metadata": {},
     "output_type": "display_data"
    },
    {
     "name": "stdout",
     "output_type": "stream",
     "text": [
      "Filter:\n"
     ]
    },
    {
     "data": {
      "text/html": [
       "<div>\n",
       "<style scoped>\n",
       "    .dataframe tbody tr th:only-of-type {\n",
       "        vertical-align: middle;\n",
       "    }\n",
       "\n",
       "    .dataframe tbody tr th {\n",
       "        vertical-align: top;\n",
       "    }\n",
       "\n",
       "    .dataframe thead th {\n",
       "        text-align: right;\n",
       "    }\n",
       "</style>\n",
       "<table border=\"1\" class=\"dataframe\">\n",
       "  <thead>\n",
       "    <tr style=\"text-align: right;\">\n",
       "      <th></th>\n",
       "      <th>document</th>\n",
       "      <th>text</th>\n",
       "      <th>type</th>\n",
       "      <th>start</th>\n",
       "      <th>end</th>\n",
       "      <th>cui</th>\n",
       "      <th>tuis</th>\n",
       "      <th>canonical</th>\n",
       "      <th>linker</th>\n",
       "      <th>confidence</th>\n",
       "    </tr>\n",
       "  </thead>\n",
       "  <tbody>\n",
       "    <tr>\n",
       "      <th>0</th>\n",
       "      <td>01_magenkarzinom_0192_22</td>\n",
       "      <td>Zink</td>\n",
       "      <td>Nutrient_or_Body_Substance</td>\n",
       "      <td>40</td>\n",
       "      <td>44</td>\n",
       "      <td>C0043481</td>\n",
       "      <td>[T121, T123, T196]</td>\n",
       "      <td>Zink</td>\n",
       "      <td>[ngram, sapbert]</td>\n",
       "      <td>0.074914</td>\n",
       "    </tr>\n",
       "  </tbody>\n",
       "</table>\n",
       "</div>"
      ],
      "text/plain": [
       "                   document  text                        type  start  end  \\\n",
       "0  01_magenkarzinom_0192_22  Zink  Nutrient_or_Body_Substance     40   44   \n",
       "\n",
       "        cui                tuis canonical            linker  confidence  \n",
       "0  C0043481  [T121, T123, T196]      Zink  [ngram, sapbert]    0.074914  "
      ]
     },
     "metadata": {},
     "output_type": "display_data"
    },
    {
     "name": "stdout",
     "output_type": "stream",
     "text": [
      "####\n"
     ]
    },
    {
     "data": {
      "application/vnd.jupyter.widget-view+json": {
       "model_id": "e02d6482729c41eba7a8d2c5e0d0df90",
       "version_major": 2,
       "version_minor": 0
      },
      "text/plain": [
       "  0%|          | 0/1 [00:00<?, ?it/s]"
      ]
     },
     "metadata": {},
     "output_type": "display_data"
    },
    {
     "data": {
      "application/vnd.jupyter.widget-view+json": {
       "model_id": "a568417887e34124a622f8578be06b4b",
       "version_major": 2,
       "version_minor": 0
      },
      "text/plain": [
       "  0%|          | 0/1 [00:00<?, ?it/s]"
      ]
     },
     "metadata": {},
     "output_type": "display_data"
    },
    {
     "data": {
      "application/vnd.jupyter.widget-view+json": {
       "model_id": "ed839eac127b4511bb70e71b5e824f0c",
       "version_major": 2,
       "version_minor": 0
      },
      "text/plain": [
       "  0%|          | 0/1 [00:00<?, ?it/s]"
      ]
     },
     "metadata": {},
     "output_type": "display_data"
    },
    {
     "data": {
      "application/vnd.jupyter.widget-view+json": {
       "model_id": "7fb5728d21054aa4a4bf4483329f1f80",
       "version_major": 2,
       "version_minor": 0
      },
      "text/plain": [
       "  0%|          | 0/1 [00:00<?, ?it/s]"
      ]
     },
     "metadata": {},
     "output_type": "display_data"
    },
    {
     "data": {
      "application/vnd.jupyter.widget-view+json": {
       "model_id": "ae807db16d2346b2a0fd86b6a7119605",
       "version_major": 2,
       "version_minor": 0
      },
      "text/plain": [
       "  0%|          | 0/1 [00:00<?, ?it/s]"
      ]
     },
     "metadata": {},
     "output_type": "display_data"
    },
    {
     "data": {
      "application/vnd.jupyter.widget-view+json": {
       "model_id": "af546bdacbe24b0fb370f853f1a846ad",
       "version_major": 2,
       "version_minor": 0
      },
      "text/plain": [
       "  0%|          | 0/1 [00:00<?, ?it/s]"
      ]
     },
     "metadata": {},
     "output_type": "display_data"
    },
    {
     "name": "stdout",
     "output_type": "stream",
     "text": [
      "Die Cochrane-Übersichtsarbeit aus dem Jahr 2007 sah eine ungenügende Datenlage im Hinblick auf eine Evidenz für die Wirksamkeit von Omega-3-Fettsäuren zur Behandlung der Tumorkachexie [REF].\n",
      "\n",
      "No Filter:\n"
     ]
    },
    {
     "data": {
      "text/html": [
       "<div>\n",
       "<style scoped>\n",
       "    .dataframe tbody tr th:only-of-type {\n",
       "        vertical-align: middle;\n",
       "    }\n",
       "\n",
       "    .dataframe tbody tr th {\n",
       "        vertical-align: top;\n",
       "    }\n",
       "\n",
       "    .dataframe thead th {\n",
       "        text-align: right;\n",
       "    }\n",
       "</style>\n",
       "<table border=\"1\" class=\"dataframe\">\n",
       "  <thead>\n",
       "    <tr style=\"text-align: right;\">\n",
       "      <th></th>\n",
       "      <th>document</th>\n",
       "      <th>text</th>\n",
       "      <th>type</th>\n",
       "      <th>start</th>\n",
       "      <th>end</th>\n",
       "      <th>cui</th>\n",
       "      <th>tuis</th>\n",
       "      <th>canonical</th>\n",
       "      <th>linker</th>\n",
       "      <th>confidence</th>\n",
       "    </tr>\n",
       "  </thead>\n",
       "  <tbody>\n",
       "    <tr>\n",
       "      <th>1</th>\n",
       "      <td>01_magenkarzinom_0192_25</td>\n",
       "      <td>Behandlung der Tumorkachexie</td>\n",
       "      <td>Therapeutic</td>\n",
       "      <td>155</td>\n",
       "      <td>183</td>\n",
       "      <td>C1391732</td>\n",
       "      <td>[T184]</td>\n",
       "      <td>Malignant cachexia</td>\n",
       "      <td>[sapbert]</td>\n",
       "      <td>0.078873</td>\n",
       "    </tr>\n",
       "  </tbody>\n",
       "</table>\n",
       "</div>"
      ],
      "text/plain": [
       "                   document                          text         type  start  \\\n",
       "1  01_magenkarzinom_0192_25  Behandlung der Tumorkachexie  Therapeutic    155   \n",
       "\n",
       "   end       cui    tuis           canonical     linker  confidence  \n",
       "1  183  C1391732  [T184]  Malignant cachexia  [sapbert]    0.078873  "
      ]
     },
     "metadata": {},
     "output_type": "display_data"
    },
    {
     "name": "stdout",
     "output_type": "stream",
     "text": [
      "Filter:\n"
     ]
    },
    {
     "data": {
      "text/html": [
       "<div>\n",
       "<style scoped>\n",
       "    .dataframe tbody tr th:only-of-type {\n",
       "        vertical-align: middle;\n",
       "    }\n",
       "\n",
       "    .dataframe tbody tr th {\n",
       "        vertical-align: top;\n",
       "    }\n",
       "\n",
       "    .dataframe thead th {\n",
       "        text-align: right;\n",
       "    }\n",
       "</style>\n",
       "<table border=\"1\" class=\"dataframe\">\n",
       "  <thead>\n",
       "    <tr style=\"text-align: right;\">\n",
       "      <th></th>\n",
       "      <th>document</th>\n",
       "      <th>text</th>\n",
       "      <th>type</th>\n",
       "      <th>start</th>\n",
       "      <th>end</th>\n",
       "      <th>cui</th>\n",
       "      <th>tuis</th>\n",
       "      <th>canonical</th>\n",
       "      <th>linker</th>\n",
       "      <th>confidence</th>\n",
       "    </tr>\n",
       "  </thead>\n",
       "  <tbody>\n",
       "    <tr>\n",
       "      <th>1</th>\n",
       "      <td>01_magenkarzinom_0192_25</td>\n",
       "      <td>Behandlung der Tumorkachexie</td>\n",
       "      <td>Therapeutic</td>\n",
       "      <td>155</td>\n",
       "      <td>183</td>\n",
       "      <td>C4763991</td>\n",
       "      <td>[T061]</td>\n",
       "      <td>Tumor Ablation Therapy</td>\n",
       "      <td>[sapbert]</td>\n",
       "      <td>0.064244</td>\n",
       "    </tr>\n",
       "  </tbody>\n",
       "</table>\n",
       "</div>"
      ],
      "text/plain": [
       "                   document                          text         type  start  \\\n",
       "1  01_magenkarzinom_0192_25  Behandlung der Tumorkachexie  Therapeutic    155   \n",
       "\n",
       "   end       cui    tuis               canonical     linker  confidence  \n",
       "1  183  C4763991  [T061]  Tumor Ablation Therapy  [sapbert]    0.064244  "
      ]
     },
     "metadata": {},
     "output_type": "display_data"
    },
    {
     "name": "stdout",
     "output_type": "stream",
     "text": [
      "####\n"
     ]
    },
    {
     "data": {
      "application/vnd.jupyter.widget-view+json": {
       "model_id": "c51c491fc59c4deb963c54bad2b927bb",
       "version_major": 2,
       "version_minor": 0
      },
      "text/plain": [
       "  0%|          | 0/1 [00:00<?, ?it/s]"
      ]
     },
     "metadata": {},
     "output_type": "display_data"
    },
    {
     "data": {
      "application/vnd.jupyter.widget-view+json": {
       "model_id": "8d1ea6510be3450eb3ebc1924281f0cd",
       "version_major": 2,
       "version_minor": 0
      },
      "text/plain": [
       "  0%|          | 0/1 [00:00<?, ?it/s]"
      ]
     },
     "metadata": {},
     "output_type": "display_data"
    },
    {
     "data": {
      "application/vnd.jupyter.widget-view+json": {
       "model_id": "aaa6b0bd662948ed8565b94b1ba4e3ec",
       "version_major": 2,
       "version_minor": 0
      },
      "text/plain": [
       "  0%|          | 0/1 [00:00<?, ?it/s]"
      ]
     },
     "metadata": {},
     "output_type": "display_data"
    },
    {
     "data": {
      "application/vnd.jupyter.widget-view+json": {
       "model_id": "8cf8ad0be11443cc89efd3fdd8f16ac6",
       "version_major": 2,
       "version_minor": 0
      },
      "text/plain": [
       "  0%|          | 0/1 [00:00<?, ?it/s]"
      ]
     },
     "metadata": {},
     "output_type": "display_data"
    },
    {
     "data": {
      "application/vnd.jupyter.widget-view+json": {
       "model_id": "3087ea03b8b3430eb0afa2b1cff24164",
       "version_major": 2,
       "version_minor": 0
      },
      "text/plain": [
       "  0%|          | 0/1 [00:00<?, ?it/s]"
      ]
     },
     "metadata": {},
     "output_type": "display_data"
    },
    {
     "data": {
      "application/vnd.jupyter.widget-view+json": {
       "model_id": "5e3fd5d5a9f24485808e522cebd6fdd6",
       "version_major": 2,
       "version_minor": 0
      },
      "text/plain": [
       "  0%|          | 0/1 [00:00<?, ?it/s]"
      ]
     },
     "metadata": {},
     "output_type": "display_data"
    },
    {
     "data": {
      "application/vnd.jupyter.widget-view+json": {
       "model_id": "3924bc67664b4fb090529ad593e23cd0",
       "version_major": 2,
       "version_minor": 0
      },
      "text/plain": [
       "  0%|          | 0/1 [00:00<?, ?it/s]"
      ]
     },
     "metadata": {},
     "output_type": "display_data"
    },
    {
     "data": {
      "application/vnd.jupyter.widget-view+json": {
       "model_id": "801297a6cf78484f8aef987b77b32acc",
       "version_major": 2,
       "version_minor": 0
      },
      "text/plain": [
       "  0%|          | 0/1 [00:00<?, ?it/s]"
      ]
     },
     "metadata": {},
     "output_type": "display_data"
    },
    {
     "data": {
      "application/vnd.jupyter.widget-view+json": {
       "model_id": "2e0dba6a99294aeb97cb8e7050278bab",
       "version_major": 2,
       "version_minor": 0
      },
      "text/plain": [
       "  0%|          | 0/1 [00:00<?, ?it/s]"
      ]
     },
     "metadata": {},
     "output_type": "display_data"
    },
    {
     "data": {
      "application/vnd.jupyter.widget-view+json": {
       "model_id": "55b43ecd9ae24bef876a39647dcf707e",
       "version_major": 2,
       "version_minor": 0
      },
      "text/plain": [
       "  0%|          | 0/1 [00:00<?, ?it/s]"
      ]
     },
     "metadata": {},
     "output_type": "display_data"
    },
    {
     "data": {
      "application/vnd.jupyter.widget-view+json": {
       "model_id": "a727aa1efe5541bd871d5a814914d9fd",
       "version_major": 2,
       "version_minor": 0
      },
      "text/plain": [
       "  0%|          | 0/1 [00:00<?, ?it/s]"
      ]
     },
     "metadata": {},
     "output_type": "display_data"
    },
    {
     "data": {
      "application/vnd.jupyter.widget-view+json": {
       "model_id": "e1bbc6e006b644358b5cfd160399ff26",
       "version_major": 2,
       "version_minor": 0
      },
      "text/plain": [
       "  0%|          | 0/1 [00:00<?, ?it/s]"
      ]
     },
     "metadata": {},
     "output_type": "display_data"
    },
    {
     "data": {
      "application/vnd.jupyter.widget-view+json": {
       "model_id": "71539c2ebf5e49b0b78e6cb0c377669c",
       "version_major": 2,
       "version_minor": 0
      },
      "text/plain": [
       "  0%|          | 0/1 [00:00<?, ?it/s]"
      ]
     },
     "metadata": {},
     "output_type": "display_data"
    },
    {
     "data": {
      "application/vnd.jupyter.widget-view+json": {
       "model_id": "df5392a7ea404d0bbb7454e3fbed43ce",
       "version_major": 2,
       "version_minor": 0
      },
      "text/plain": [
       "  0%|          | 0/1 [00:00<?, ?it/s]"
      ]
     },
     "metadata": {},
     "output_type": "display_data"
    },
    {
     "data": {
      "application/vnd.jupyter.widget-view+json": {
       "model_id": "bba25367082b4672a174e4de0965c84f",
       "version_major": 2,
       "version_minor": 0
      },
      "text/plain": [
       "  0%|          | 0/1 [00:00<?, ?it/s]"
      ]
     },
     "metadata": {},
     "output_type": "display_data"
    },
    {
     "data": {
      "application/vnd.jupyter.widget-view+json": {
       "model_id": "122eb1d4063147129550d3b8e6f58b4a",
       "version_major": 2,
       "version_minor": 0
      },
      "text/plain": [
       "  0%|          | 0/1 [00:00<?, ?it/s]"
      ]
     },
     "metadata": {},
     "output_type": "display_data"
    },
    {
     "data": {
      "application/vnd.jupyter.widget-view+json": {
       "model_id": "35d26fe59cd3436aba34dfa42e7ef4cc",
       "version_major": 2,
       "version_minor": 0
      },
      "text/plain": [
       "  0%|          | 0/1 [00:00<?, ?it/s]"
      ]
     },
     "metadata": {},
     "output_type": "display_data"
    },
    {
     "data": {
      "application/vnd.jupyter.widget-view+json": {
       "model_id": "14343512647d4df0a75f92160d1e4a23",
       "version_major": 2,
       "version_minor": 0
      },
      "text/plain": [
       "  0%|          | 0/1 [00:00<?, ?it/s]"
      ]
     },
     "metadata": {},
     "output_type": "display_data"
    },
    {
     "data": {
      "application/vnd.jupyter.widget-view+json": {
       "model_id": "af097f2171584262acacae786f1ce31b",
       "version_major": 2,
       "version_minor": 0
      },
      "text/plain": [
       "  0%|          | 0/1 [00:00<?, ?it/s]"
      ]
     },
     "metadata": {},
     "output_type": "display_data"
    },
    {
     "data": {
      "application/vnd.jupyter.widget-view+json": {
       "model_id": "376479d7314244089e2a533508c96969",
       "version_major": 2,
       "version_minor": 0
      },
      "text/plain": [
       "  0%|          | 0/1 [00:00<?, ?it/s]"
      ]
     },
     "metadata": {},
     "output_type": "display_data"
    },
    {
     "data": {
      "application/vnd.jupyter.widget-view+json": {
       "model_id": "1103a575d6184aad8df61f28964a8eba",
       "version_major": 2,
       "version_minor": 0
      },
      "text/plain": [
       "  0%|          | 0/1 [00:00<?, ?it/s]"
      ]
     },
     "metadata": {},
     "output_type": "display_data"
    },
    {
     "data": {
      "application/vnd.jupyter.widget-view+json": {
       "model_id": "f314527e66994bb6816d981a468328e0",
       "version_major": 2,
       "version_minor": 0
      },
      "text/plain": [
       "  0%|          | 0/1 [00:00<?, ?it/s]"
      ]
     },
     "metadata": {},
     "output_type": "display_data"
    },
    {
     "data": {
      "application/vnd.jupyter.widget-view+json": {
       "model_id": "2dc3f44085484248877f79cd6f921f23",
       "version_major": 2,
       "version_minor": 0
      },
      "text/plain": [
       "  0%|          | 0/1 [00:00<?, ?it/s]"
      ]
     },
     "metadata": {},
     "output_type": "display_data"
    },
    {
     "data": {
      "application/vnd.jupyter.widget-view+json": {
       "model_id": "b2b392b49a004559a661eead4a56bab5",
       "version_major": 2,
       "version_minor": 0
      },
      "text/plain": [
       "  0%|          | 0/1 [00:00<?, ?it/s]"
      ]
     },
     "metadata": {},
     "output_type": "display_data"
    },
    {
     "data": {
      "application/vnd.jupyter.widget-view+json": {
       "model_id": "37592e52e9b643b388485ec381821819",
       "version_major": 2,
       "version_minor": 0
      },
      "text/plain": [
       "  0%|          | 0/1 [00:00<?, ?it/s]"
      ]
     },
     "metadata": {},
     "output_type": "display_data"
    },
    {
     "data": {
      "application/vnd.jupyter.widget-view+json": {
       "model_id": "29aa01a63fb44257a89b09a61468461a",
       "version_major": 2,
       "version_minor": 0
      },
      "text/plain": [
       "  0%|          | 0/1 [00:00<?, ?it/s]"
      ]
     },
     "metadata": {},
     "output_type": "display_data"
    },
    {
     "data": {
      "application/vnd.jupyter.widget-view+json": {
       "model_id": "1fba99a35fe2478cadc5f8ab6f6df7be",
       "version_major": 2,
       "version_minor": 0
      },
      "text/plain": [
       "  0%|          | 0/1 [00:00<?, ?it/s]"
      ]
     },
     "metadata": {},
     "output_type": "display_data"
    },
    {
     "data": {
      "application/vnd.jupyter.widget-view+json": {
       "model_id": "5faa66f0dac24dac8b8086480da9891b",
       "version_major": 2,
       "version_minor": 0
      },
      "text/plain": [
       "  0%|          | 0/1 [00:00<?, ?it/s]"
      ]
     },
     "metadata": {},
     "output_type": "display_data"
    },
    {
     "data": {
      "application/vnd.jupyter.widget-view+json": {
       "model_id": "e7292aae33a5449bab08942619a7ceae",
       "version_major": 2,
       "version_minor": 0
      },
      "text/plain": [
       "  0%|          | 0/1 [00:00<?, ?it/s]"
      ]
     },
     "metadata": {},
     "output_type": "display_data"
    },
    {
     "data": {
      "application/vnd.jupyter.widget-view+json": {
       "model_id": "a73b8019ea5b404cafc7ca412ab056c4",
       "version_major": 2,
       "version_minor": 0
      },
      "text/plain": [
       "  0%|          | 0/1 [00:00<?, ?it/s]"
      ]
     },
     "metadata": {},
     "output_type": "display_data"
    },
    {
     "data": {
      "application/vnd.jupyter.widget-view+json": {
       "model_id": "a7425ede64544bdc95136ad34ea39be8",
       "version_major": 2,
       "version_minor": 0
      },
      "text/plain": [
       "  0%|          | 0/1 [00:00<?, ?it/s]"
      ]
     },
     "metadata": {},
     "output_type": "display_data"
    },
    {
     "data": {
      "application/vnd.jupyter.widget-view+json": {
       "model_id": "129793dadea642b0af0b4881f42d43e8",
       "version_major": 2,
       "version_minor": 0
      },
      "text/plain": [
       "  0%|          | 0/1 [00:00<?, ?it/s]"
      ]
     },
     "metadata": {},
     "output_type": "display_data"
    },
    {
     "data": {
      "application/vnd.jupyter.widget-view+json": {
       "model_id": "57ab0fc30bd44e9cb1675cd88aaf33ca",
       "version_major": 2,
       "version_minor": 0
      },
      "text/plain": [
       "  0%|          | 0/1 [00:00<?, ?it/s]"
      ]
     },
     "metadata": {},
     "output_type": "display_data"
    },
    {
     "data": {
      "application/vnd.jupyter.widget-view+json": {
       "model_id": "79c745059dfb45a6bc4354a5a5710f32",
       "version_major": 2,
       "version_minor": 0
      },
      "text/plain": [
       "  0%|          | 0/1 [00:00<?, ?it/s]"
      ]
     },
     "metadata": {},
     "output_type": "display_data"
    },
    {
     "data": {
      "application/vnd.jupyter.widget-view+json": {
       "model_id": "7ed4ea52442b46829199a665dbbf3142",
       "version_major": 2,
       "version_minor": 0
      },
      "text/plain": [
       "  0%|          | 0/1 [00:00<?, ?it/s]"
      ]
     },
     "metadata": {},
     "output_type": "display_data"
    },
    {
     "data": {
      "application/vnd.jupyter.widget-view+json": {
       "model_id": "ba0e1b2dd33f4a859047e7f395a7b85b",
       "version_major": 2,
       "version_minor": 0
      },
      "text/plain": [
       "  0%|          | 0/1 [00:00<?, ?it/s]"
      ]
     },
     "metadata": {},
     "output_type": "display_data"
    },
    {
     "data": {
      "application/vnd.jupyter.widget-view+json": {
       "model_id": "9b96123746e04968a9f24afbc1c27764",
       "version_major": 2,
       "version_minor": 0
      },
      "text/plain": [
       "  0%|          | 0/1 [00:00<?, ?it/s]"
      ]
     },
     "metadata": {},
     "output_type": "display_data"
    },
    {
     "data": {
      "application/vnd.jupyter.widget-view+json": {
       "model_id": "b38c4c80afb34147b140a9ab19266076",
       "version_major": 2,
       "version_minor": 0
      },
      "text/plain": [
       "  0%|          | 0/1 [00:00<?, ?it/s]"
      ]
     },
     "metadata": {},
     "output_type": "display_data"
    },
    {
     "data": {
      "application/vnd.jupyter.widget-view+json": {
       "model_id": "7128ff1991674435a019747a8101864d",
       "version_major": 2,
       "version_minor": 0
      },
      "text/plain": [
       "  0%|          | 0/1 [00:00<?, ?it/s]"
      ]
     },
     "metadata": {},
     "output_type": "display_data"
    },
    {
     "data": {
      "application/vnd.jupyter.widget-view+json": {
       "model_id": "45824d691b5043f3b4ee6cdeefed3c1f",
       "version_major": 2,
       "version_minor": 0
      },
      "text/plain": [
       "  0%|          | 0/1 [00:00<?, ?it/s]"
      ]
     },
     "metadata": {},
     "output_type": "display_data"
    },
    {
     "data": {
      "application/vnd.jupyter.widget-view+json": {
       "model_id": "9f3c52015e364ddc93eca514af675bf1",
       "version_major": 2,
       "version_minor": 0
      },
      "text/plain": [
       "  0%|          | 0/1 [00:00<?, ?it/s]"
      ]
     },
     "metadata": {},
     "output_type": "display_data"
    },
    {
     "data": {
      "application/vnd.jupyter.widget-view+json": {
       "model_id": "2e257d497aaf4c97af7f5c86416b5a45",
       "version_major": 2,
       "version_minor": 0
      },
      "text/plain": [
       "  0%|          | 0/1 [00:00<?, ?it/s]"
      ]
     },
     "metadata": {},
     "output_type": "display_data"
    },
    {
     "data": {
      "application/vnd.jupyter.widget-view+json": {
       "model_id": "d623f272ca404e9693a02003a612f96e",
       "version_major": 2,
       "version_minor": 0
      },
      "text/plain": [
       "  0%|          | 0/1 [00:00<?, ?it/s]"
      ]
     },
     "metadata": {},
     "output_type": "display_data"
    },
    {
     "data": {
      "application/vnd.jupyter.widget-view+json": {
       "model_id": "e0c56eaa4f354116b4152f57fb7143af",
       "version_major": 2,
       "version_minor": 0
      },
      "text/plain": [
       "  0%|          | 0/1 [00:00<?, ?it/s]"
      ]
     },
     "metadata": {},
     "output_type": "display_data"
    },
    {
     "data": {
      "application/vnd.jupyter.widget-view+json": {
       "model_id": "72d80e4f2fdb43f9a9ede17c34364d8b",
       "version_major": 2,
       "version_minor": 0
      },
      "text/plain": [
       "  0%|          | 0/1 [00:00<?, ?it/s]"
      ]
     },
     "metadata": {},
     "output_type": "display_data"
    },
    {
     "data": {
      "application/vnd.jupyter.widget-view+json": {
       "model_id": "568dc94746b74abb9e948f49ecc66fb6",
       "version_major": 2,
       "version_minor": 0
      },
      "text/plain": [
       "  0%|          | 0/1 [00:00<?, ?it/s]"
      ]
     },
     "metadata": {},
     "output_type": "display_data"
    },
    {
     "name": "stdout",
     "output_type": "stream",
     "text": [
      "Deutlich niedriger ist die Exposition für Berufstätige in Wasserwerken, Heilstollen und Radonbädern.\n",
      "\n",
      "No Filter:\n"
     ]
    },
    {
     "data": {
      "text/html": [
       "<div>\n",
       "<style scoped>\n",
       "    .dataframe tbody tr th:only-of-type {\n",
       "        vertical-align: middle;\n",
       "    }\n",
       "\n",
       "    .dataframe tbody tr th {\n",
       "        vertical-align: top;\n",
       "    }\n",
       "\n",
       "    .dataframe thead th {\n",
       "        text-align: right;\n",
       "    }\n",
       "</style>\n",
       "<table border=\"1\" class=\"dataframe\">\n",
       "  <thead>\n",
       "    <tr style=\"text-align: right;\">\n",
       "      <th></th>\n",
       "      <th>document</th>\n",
       "      <th>text</th>\n",
       "      <th>type</th>\n",
       "      <th>start</th>\n",
       "      <th>end</th>\n",
       "      <th>cui</th>\n",
       "      <th>tuis</th>\n",
       "      <th>canonical</th>\n",
       "      <th>linker</th>\n",
       "      <th>confidence</th>\n",
       "    </tr>\n",
       "  </thead>\n",
       "  <tbody>\n",
       "    <tr>\n",
       "      <th>1</th>\n",
       "      <td>03_lungenkarzinom_0010_14</td>\n",
       "      <td>Radonbädern</td>\n",
       "      <td>External_Substance</td>\n",
       "      <td>88</td>\n",
       "      <td>99</td>\n",
       "      <td>C0034547</td>\n",
       "      <td>[T070]</td>\n",
       "      <td>Radio Waves</td>\n",
       "      <td>[sapbert]</td>\n",
       "      <td>0.066053</td>\n",
       "    </tr>\n",
       "  </tbody>\n",
       "</table>\n",
       "</div>"
      ],
      "text/plain": [
       "                    document         text                type  start  end  \\\n",
       "1  03_lungenkarzinom_0010_14  Radonbädern  External_Substance     88   99   \n",
       "\n",
       "        cui    tuis    canonical     linker  confidence  \n",
       "1  C0034547  [T070]  Radio Waves  [sapbert]    0.066053  "
      ]
     },
     "metadata": {},
     "output_type": "display_data"
    },
    {
     "name": "stdout",
     "output_type": "stream",
     "text": [
      "Filter:\n"
     ]
    },
    {
     "data": {
      "text/html": [
       "<div>\n",
       "<style scoped>\n",
       "    .dataframe tbody tr th:only-of-type {\n",
       "        vertical-align: middle;\n",
       "    }\n",
       "\n",
       "    .dataframe tbody tr th {\n",
       "        vertical-align: top;\n",
       "    }\n",
       "\n",
       "    .dataframe thead th {\n",
       "        text-align: right;\n",
       "    }\n",
       "</style>\n",
       "<table border=\"1\" class=\"dataframe\">\n",
       "  <thead>\n",
       "    <tr style=\"text-align: right;\">\n",
       "      <th></th>\n",
       "      <th>document</th>\n",
       "      <th>text</th>\n",
       "      <th>type</th>\n",
       "      <th>start</th>\n",
       "      <th>end</th>\n",
       "      <th>cui</th>\n",
       "      <th>tuis</th>\n",
       "      <th>canonical</th>\n",
       "      <th>linker</th>\n",
       "      <th>confidence</th>\n",
       "    </tr>\n",
       "  </thead>\n",
       "  <tbody>\n",
       "    <tr>\n",
       "      <th>1</th>\n",
       "      <td>03_lungenkarzinom_0010_14</td>\n",
       "      <td>Radonbädern</td>\n",
       "      <td>External_Substance</td>\n",
       "      <td>88</td>\n",
       "      <td>99</td>\n",
       "      <td>C0034629</td>\n",
       "      <td>[T131, T196]</td>\n",
       "      <td>Radon</td>\n",
       "      <td>[ngram, sapbert]</td>\n",
       "      <td>0.0655</td>\n",
       "    </tr>\n",
       "  </tbody>\n",
       "</table>\n",
       "</div>"
      ],
      "text/plain": [
       "                    document         text                type  start  end  \\\n",
       "1  03_lungenkarzinom_0010_14  Radonbädern  External_Substance     88   99   \n",
       "\n",
       "        cui          tuis canonical            linker  confidence  \n",
       "1  C0034629  [T131, T196]     Radon  [ngram, sapbert]      0.0655  "
      ]
     },
     "metadata": {},
     "output_type": "display_data"
    },
    {
     "name": "stdout",
     "output_type": "stream",
     "text": [
      "####\n"
     ]
    },
    {
     "data": {
      "application/vnd.jupyter.widget-view+json": {
       "model_id": "f26f9331ed714f94a90870bb6060bede",
       "version_major": 2,
       "version_minor": 0
      },
      "text/plain": [
       "  0%|          | 0/1 [00:00<?, ?it/s]"
      ]
     },
     "metadata": {},
     "output_type": "display_data"
    },
    {
     "data": {
      "application/vnd.jupyter.widget-view+json": {
       "model_id": "fff2f3387f9b4e5d88fc4085fdbcc2d5",
       "version_major": 2,
       "version_minor": 0
      },
      "text/plain": [
       "  0%|          | 0/1 [00:00<?, ?it/s]"
      ]
     },
     "metadata": {},
     "output_type": "display_data"
    },
    {
     "name": "stdout",
     "output_type": "stream",
     "text": [
      "Aktuelle Daten zur Radonexposition finden sich in der Radonkarte des Bundesamts für Strahlenschutz, welche online verfügbar ist ([URL]).\n",
      "\n",
      "No Filter:\n"
     ]
    },
    {
     "data": {
      "text/html": [
       "<div>\n",
       "<style scoped>\n",
       "    .dataframe tbody tr th:only-of-type {\n",
       "        vertical-align: middle;\n",
       "    }\n",
       "\n",
       "    .dataframe tbody tr th {\n",
       "        vertical-align: top;\n",
       "    }\n",
       "\n",
       "    .dataframe thead th {\n",
       "        text-align: right;\n",
       "    }\n",
       "</style>\n",
       "<table border=\"1\" class=\"dataframe\">\n",
       "  <thead>\n",
       "    <tr style=\"text-align: right;\">\n",
       "      <th></th>\n",
       "      <th>document</th>\n",
       "      <th>text</th>\n",
       "      <th>type</th>\n",
       "      <th>start</th>\n",
       "      <th>end</th>\n",
       "      <th>cui</th>\n",
       "      <th>tuis</th>\n",
       "      <th>canonical</th>\n",
       "      <th>linker</th>\n",
       "      <th>confidence</th>\n",
       "    </tr>\n",
       "  </thead>\n",
       "  <tbody>\n",
       "    <tr>\n",
       "      <th>1</th>\n",
       "      <td>03_lungenkarzinom_0010_15</td>\n",
       "      <td>Radonkarte</td>\n",
       "      <td>External_Substance</td>\n",
       "      <td>54</td>\n",
       "      <td>64</td>\n",
       "      <td>C1306645</td>\n",
       "      <td>[T060]</td>\n",
       "      <td>Roentgen</td>\n",
       "      <td>[sapbert]</td>\n",
       "      <td>0.064765</td>\n",
       "    </tr>\n",
       "  </tbody>\n",
       "</table>\n",
       "</div>"
      ],
      "text/plain": [
       "                    document        text                type  start  end  \\\n",
       "1  03_lungenkarzinom_0010_15  Radonkarte  External_Substance     54   64   \n",
       "\n",
       "        cui    tuis canonical     linker  confidence  \n",
       "1  C1306645  [T060]  Roentgen  [sapbert]    0.064765  "
      ]
     },
     "metadata": {},
     "output_type": "display_data"
    },
    {
     "name": "stdout",
     "output_type": "stream",
     "text": [
      "Filter:\n"
     ]
    },
    {
     "data": {
      "text/html": [
       "<div>\n",
       "<style scoped>\n",
       "    .dataframe tbody tr th:only-of-type {\n",
       "        vertical-align: middle;\n",
       "    }\n",
       "\n",
       "    .dataframe tbody tr th {\n",
       "        vertical-align: top;\n",
       "    }\n",
       "\n",
       "    .dataframe thead th {\n",
       "        text-align: right;\n",
       "    }\n",
       "</style>\n",
       "<table border=\"1\" class=\"dataframe\">\n",
       "  <thead>\n",
       "    <tr style=\"text-align: right;\">\n",
       "      <th></th>\n",
       "      <th>document</th>\n",
       "      <th>text</th>\n",
       "      <th>type</th>\n",
       "      <th>start</th>\n",
       "      <th>end</th>\n",
       "      <th>cui</th>\n",
       "      <th>tuis</th>\n",
       "      <th>canonical</th>\n",
       "      <th>linker</th>\n",
       "      <th>confidence</th>\n",
       "    </tr>\n",
       "  </thead>\n",
       "  <tbody>\n",
       "    <tr>\n",
       "      <th>1</th>\n",
       "      <td>03_lungenkarzinom_0010_15</td>\n",
       "      <td>Radonkarte</td>\n",
       "      <td>External_Substance</td>\n",
       "      <td>54</td>\n",
       "      <td>64</td>\n",
       "      <td>C0034629</td>\n",
       "      <td>[T131, T196]</td>\n",
       "      <td>Radon</td>\n",
       "      <td>[ngram, sapbert]</td>\n",
       "      <td>0.064484</td>\n",
       "    </tr>\n",
       "  </tbody>\n",
       "</table>\n",
       "</div>"
      ],
      "text/plain": [
       "                    document        text                type  start  end  \\\n",
       "1  03_lungenkarzinom_0010_15  Radonkarte  External_Substance     54   64   \n",
       "\n",
       "        cui          tuis canonical            linker  confidence  \n",
       "1  C0034629  [T131, T196]     Radon  [ngram, sapbert]    0.064484  "
      ]
     },
     "metadata": {},
     "output_type": "display_data"
    },
    {
     "name": "stdout",
     "output_type": "stream",
     "text": [
      "####\n"
     ]
    },
    {
     "data": {
      "application/vnd.jupyter.widget-view+json": {
       "model_id": "2970e584218543f0af93e9795d7f06c8",
       "version_major": 2,
       "version_minor": 0
      },
      "text/plain": [
       "  0%|          | 0/1 [00:00<?, ?it/s]"
      ]
     },
     "metadata": {},
     "output_type": "display_data"
    },
    {
     "data": {
      "application/vnd.jupyter.widget-view+json": {
       "model_id": "dd7954afd60f4356a43c9fca9717132b",
       "version_major": 2,
       "version_minor": 0
      },
      "text/plain": [
       "  0%|          | 0/1 [00:00<?, ?it/s]"
      ]
     },
     "metadata": {},
     "output_type": "display_data"
    },
    {
     "data": {
      "application/vnd.jupyter.widget-view+json": {
       "model_id": "f7483b463fc24db6a25241eb35451e25",
       "version_major": 2,
       "version_minor": 0
      },
      "text/plain": [
       "  0%|          | 0/1 [00:00<?, ?it/s]"
      ]
     },
     "metadata": {},
     "output_type": "display_data"
    },
    {
     "data": {
      "application/vnd.jupyter.widget-view+json": {
       "model_id": "13672ebf581842d28f3146dc4a9467de",
       "version_major": 2,
       "version_minor": 0
      },
      "text/plain": [
       "  0%|          | 0/1 [00:00<?, ?it/s]"
      ]
     },
     "metadata": {},
     "output_type": "display_data"
    },
    {
     "data": {
      "application/vnd.jupyter.widget-view+json": {
       "model_id": "94cd7d931511495d94d6489551b2a996",
       "version_major": 2,
       "version_minor": 0
      },
      "text/plain": [
       "  0%|          | 0/1 [00:00<?, ?it/s]"
      ]
     },
     "metadata": {},
     "output_type": "display_data"
    },
    {
     "data": {
      "application/vnd.jupyter.widget-view+json": {
       "model_id": "a51c2bc6b2944a77aae75baf0822b97b",
       "version_major": 2,
       "version_minor": 0
      },
      "text/plain": [
       "  0%|          | 0/1 [00:00<?, ?it/s]"
      ]
     },
     "metadata": {},
     "output_type": "display_data"
    },
    {
     "data": {
      "application/vnd.jupyter.widget-view+json": {
       "model_id": "7fa9a861f5804ec59a60b9adc506643f",
       "version_major": 2,
       "version_minor": 0
      },
      "text/plain": [
       "  0%|          | 0/1 [00:00<?, ?it/s]"
      ]
     },
     "metadata": {},
     "output_type": "display_data"
    },
    {
     "data": {
      "application/vnd.jupyter.widget-view+json": {
       "model_id": "5d2c873faaf0467c93f12eed10357fb2",
       "version_major": 2,
       "version_minor": 0
      },
      "text/plain": [
       "  0%|          | 0/1 [00:00<?, ?it/s]"
      ]
     },
     "metadata": {},
     "output_type": "display_data"
    },
    {
     "data": {
      "application/vnd.jupyter.widget-view+json": {
       "model_id": "e0aab7ebb98644a390b894649a3a9092",
       "version_major": 2,
       "version_minor": 0
      },
      "text/plain": [
       "  0%|          | 0/1 [00:00<?, ?it/s]"
      ]
     },
     "metadata": {},
     "output_type": "display_data"
    },
    {
     "data": {
      "application/vnd.jupyter.widget-view+json": {
       "model_id": "5c8180ee7dd646e7956d11e79455db72",
       "version_major": 2,
       "version_minor": 0
      },
      "text/plain": [
       "  0%|          | 0/1 [00:00<?, ?it/s]"
      ]
     },
     "metadata": {},
     "output_type": "display_data"
    },
    {
     "data": {
      "application/vnd.jupyter.widget-view+json": {
       "model_id": "bd17b2173b114546bce82fdcf81261c0",
       "version_major": 2,
       "version_minor": 0
      },
      "text/plain": [
       "  0%|          | 0/1 [00:00<?, ?it/s]"
      ]
     },
     "metadata": {},
     "output_type": "display_data"
    },
    {
     "data": {
      "application/vnd.jupyter.widget-view+json": {
       "model_id": "3b6322ed668843beb893c0e5529de0f9",
       "version_major": 2,
       "version_minor": 0
      },
      "text/plain": [
       "  0%|          | 0/1 [00:00<?, ?it/s]"
      ]
     },
     "metadata": {},
     "output_type": "display_data"
    },
    {
     "data": {
      "application/vnd.jupyter.widget-view+json": {
       "model_id": "288fb9afa8244470a2e0138913e26917",
       "version_major": 2,
       "version_minor": 0
      },
      "text/plain": [
       "  0%|          | 0/1 [00:00<?, ?it/s]"
      ]
     },
     "metadata": {},
     "output_type": "display_data"
    },
    {
     "data": {
      "application/vnd.jupyter.widget-view+json": {
       "model_id": "c1ff5e5bf4ed4877b3ac07aba04b4e0d",
       "version_major": 2,
       "version_minor": 0
      },
      "text/plain": [
       "  0%|          | 0/1 [00:00<?, ?it/s]"
      ]
     },
     "metadata": {},
     "output_type": "display_data"
    },
    {
     "data": {
      "application/vnd.jupyter.widget-view+json": {
       "model_id": "e58fa5ca287b41b28b4e6a1714d47edd",
       "version_major": 2,
       "version_minor": 0
      },
      "text/plain": [
       "  0%|          | 0/1 [00:00<?, ?it/s]"
      ]
     },
     "metadata": {},
     "output_type": "display_data"
    },
    {
     "data": {
      "application/vnd.jupyter.widget-view+json": {
       "model_id": "044c29357c974efdb9c9b8569ad21ab3",
       "version_major": 2,
       "version_minor": 0
      },
      "text/plain": [
       "  0%|          | 0/1 [00:00<?, ?it/s]"
      ]
     },
     "metadata": {},
     "output_type": "display_data"
    },
    {
     "data": {
      "application/vnd.jupyter.widget-view+json": {
       "model_id": "59e0299102ee4f25870e26f88ce29939",
       "version_major": 2,
       "version_minor": 0
      },
      "text/plain": [
       "  0%|          | 0/1 [00:00<?, ?it/s]"
      ]
     },
     "metadata": {},
     "output_type": "display_data"
    },
    {
     "data": {
      "application/vnd.jupyter.widget-view+json": {
       "model_id": "11cdf6e2b5374c1c9801a2b20e8f80b6",
       "version_major": 2,
       "version_minor": 0
      },
      "text/plain": [
       "  0%|          | 0/1 [00:00<?, ?it/s]"
      ]
     },
     "metadata": {},
     "output_type": "display_data"
    },
    {
     "data": {
      "application/vnd.jupyter.widget-view+json": {
       "model_id": "1a501e6599ff46378ba35d413f99fd10",
       "version_major": 2,
       "version_minor": 0
      },
      "text/plain": [
       "  0%|          | 0/1 [00:00<?, ?it/s]"
      ]
     },
     "metadata": {},
     "output_type": "display_data"
    },
    {
     "data": {
      "application/vnd.jupyter.widget-view+json": {
       "model_id": "4ce6d0c8f775454291179c7cb476c6e7",
       "version_major": 2,
       "version_minor": 0
      },
      "text/plain": [
       "  0%|          | 0/1 [00:00<?, ?it/s]"
      ]
     },
     "metadata": {},
     "output_type": "display_data"
    },
    {
     "data": {
      "application/vnd.jupyter.widget-view+json": {
       "model_id": "20898c2ead274a498030ae753dd874d9",
       "version_major": 2,
       "version_minor": 0
      },
      "text/plain": [
       "  0%|          | 0/1 [00:00<?, ?it/s]"
      ]
     },
     "metadata": {},
     "output_type": "display_data"
    },
    {
     "data": {
      "application/vnd.jupyter.widget-view+json": {
       "model_id": "45bef8b8f3c840bea77ac7f4c1c0f576",
       "version_major": 2,
       "version_minor": 0
      },
      "text/plain": [
       "  0%|          | 0/1 [00:00<?, ?it/s]"
      ]
     },
     "metadata": {},
     "output_type": "display_data"
    },
    {
     "data": {
      "application/vnd.jupyter.widget-view+json": {
       "model_id": "b6229e7682424b6c85cf00de42564f0d",
       "version_major": 2,
       "version_minor": 0
      },
      "text/plain": [
       "  0%|          | 0/1 [00:00<?, ?it/s]"
      ]
     },
     "metadata": {},
     "output_type": "display_data"
    },
    {
     "data": {
      "application/vnd.jupyter.widget-view+json": {
       "model_id": "5fbf6c3fe1f14523aef95f7a639822a4",
       "version_major": 2,
       "version_minor": 0
      },
      "text/plain": [
       "  0%|          | 0/1 [00:00<?, ?it/s]"
      ]
     },
     "metadata": {},
     "output_type": "display_data"
    },
    {
     "data": {
      "application/vnd.jupyter.widget-view+json": {
       "model_id": "36334921dddd4a6c8834e866d5481797",
       "version_major": 2,
       "version_minor": 0
      },
      "text/plain": [
       "  0%|          | 0/1 [00:00<?, ?it/s]"
      ]
     },
     "metadata": {},
     "output_type": "display_data"
    },
    {
     "data": {
      "application/vnd.jupyter.widget-view+json": {
       "model_id": "b49ec82234ce4cb2a2462420bd58cd89",
       "version_major": 2,
       "version_minor": 0
      },
      "text/plain": [
       "  0%|          | 0/1 [00:00<?, ?it/s]"
      ]
     },
     "metadata": {},
     "output_type": "display_data"
    },
    {
     "data": {
      "application/vnd.jupyter.widget-view+json": {
       "model_id": "4572f47f7d814f3ba3da3ca262624118",
       "version_major": 2,
       "version_minor": 0
      },
      "text/plain": [
       "  0%|          | 0/1 [00:00<?, ?it/s]"
      ]
     },
     "metadata": {},
     "output_type": "display_data"
    },
    {
     "data": {
      "application/vnd.jupyter.widget-view+json": {
       "model_id": "6a631b8cfb594e2e9124ab82ab364888",
       "version_major": 2,
       "version_minor": 0
      },
      "text/plain": [
       "  0%|          | 0/1 [00:00<?, ?it/s]"
      ]
     },
     "metadata": {},
     "output_type": "display_data"
    },
    {
     "data": {
      "application/vnd.jupyter.widget-view+json": {
       "model_id": "b15c56b5e5814059973657042ee390f3",
       "version_major": 2,
       "version_minor": 0
      },
      "text/plain": [
       "  0%|          | 0/1 [00:00<?, ?it/s]"
      ]
     },
     "metadata": {},
     "output_type": "display_data"
    },
    {
     "data": {
      "application/vnd.jupyter.widget-view+json": {
       "model_id": "2a398584e11d40c69f3d349cd371e0b5",
       "version_major": 2,
       "version_minor": 0
      },
      "text/plain": [
       "  0%|          | 0/1 [00:00<?, ?it/s]"
      ]
     },
     "metadata": {},
     "output_type": "display_data"
    },
    {
     "data": {
      "application/vnd.jupyter.widget-view+json": {
       "model_id": "b4c8688e5a0a45d7bba5ceb15072b976",
       "version_major": 2,
       "version_minor": 0
      },
      "text/plain": [
       "  0%|          | 0/1 [00:00<?, ?it/s]"
      ]
     },
     "metadata": {},
     "output_type": "display_data"
    },
    {
     "data": {
      "application/vnd.jupyter.widget-view+json": {
       "model_id": "931e4ce8e7244470afb96659bae9163b",
       "version_major": 2,
       "version_minor": 0
      },
      "text/plain": [
       "  0%|          | 0/1 [00:00<?, ?it/s]"
      ]
     },
     "metadata": {},
     "output_type": "display_data"
    },
    {
     "data": {
      "application/vnd.jupyter.widget-view+json": {
       "model_id": "4560b3fd7c17497eb124017340c5912e",
       "version_major": 2,
       "version_minor": 0
      },
      "text/plain": [
       "  0%|          | 0/1 [00:00<?, ?it/s]"
      ]
     },
     "metadata": {},
     "output_type": "display_data"
    },
    {
     "data": {
      "application/vnd.jupyter.widget-view+json": {
       "model_id": "9822181831204702a9105f3d8fa12b58",
       "version_major": 2,
       "version_minor": 0
      },
      "text/plain": [
       "  0%|          | 0/1 [00:00<?, ?it/s]"
      ]
     },
     "metadata": {},
     "output_type": "display_data"
    },
    {
     "data": {
      "application/vnd.jupyter.widget-view+json": {
       "model_id": "392aaeeff9004db7a142e00355b6baea",
       "version_major": 2,
       "version_minor": 0
      },
      "text/plain": [
       "  0%|          | 0/1 [00:00<?, ?it/s]"
      ]
     },
     "metadata": {},
     "output_type": "display_data"
    },
    {
     "data": {
      "application/vnd.jupyter.widget-view+json": {
       "model_id": "2be6f1b80d36467cb134416fb8ade89c",
       "version_major": 2,
       "version_minor": 0
      },
      "text/plain": [
       "  0%|          | 0/1 [00:00<?, ?it/s]"
      ]
     },
     "metadata": {},
     "output_type": "display_data"
    },
    {
     "data": {
      "application/vnd.jupyter.widget-view+json": {
       "model_id": "8f0f7bcacaf442cebf8d2c806e40d940",
       "version_major": 2,
       "version_minor": 0
      },
      "text/plain": [
       "  0%|          | 0/1 [00:00<?, ?it/s]"
      ]
     },
     "metadata": {},
     "output_type": "display_data"
    },
    {
     "data": {
      "application/vnd.jupyter.widget-view+json": {
       "model_id": "b8b9e63d3dd34381b3f51beb88b6b166",
       "version_major": 2,
       "version_minor": 0
      },
      "text/plain": [
       "  0%|          | 0/1 [00:00<?, ?it/s]"
      ]
     },
     "metadata": {},
     "output_type": "display_data"
    },
    {
     "data": {
      "application/vnd.jupyter.widget-view+json": {
       "model_id": "1cf05b127d034198bc23ee443666d78e",
       "version_major": 2,
       "version_minor": 0
      },
      "text/plain": [
       "  0%|          | 0/1 [00:00<?, ?it/s]"
      ]
     },
     "metadata": {},
     "output_type": "display_data"
    },
    {
     "data": {
      "application/vnd.jupyter.widget-view+json": {
       "model_id": "700f42c6be1e4ddf927090fd19230ffc",
       "version_major": 2,
       "version_minor": 0
      },
      "text/plain": [
       "  0%|          | 0/1 [00:00<?, ?it/s]"
      ]
     },
     "metadata": {},
     "output_type": "display_data"
    },
    {
     "data": {
      "application/vnd.jupyter.widget-view+json": {
       "model_id": "95765077808c49adb0289101e8fe9e34",
       "version_major": 2,
       "version_minor": 0
      },
      "text/plain": [
       "  0%|          | 0/1 [00:00<?, ?it/s]"
      ]
     },
     "metadata": {},
     "output_type": "display_data"
    },
    {
     "data": {
      "application/vnd.jupyter.widget-view+json": {
       "model_id": "0c1ef1fa472040bd851a969952c4d798",
       "version_major": 2,
       "version_minor": 0
      },
      "text/plain": [
       "  0%|          | 0/1 [00:00<?, ?it/s]"
      ]
     },
     "metadata": {},
     "output_type": "display_data"
    },
    {
     "data": {
      "application/vnd.jupyter.widget-view+json": {
       "model_id": "d4d8e7ba8d054f16adb983d2d96b1c7c",
       "version_major": 2,
       "version_minor": 0
      },
      "text/plain": [
       "  0%|          | 0/1 [00:00<?, ?it/s]"
      ]
     },
     "metadata": {},
     "output_type": "display_data"
    },
    {
     "data": {
      "application/vnd.jupyter.widget-view+json": {
       "model_id": "80e70640305b4c0cab0b64703dbb20b3",
       "version_major": 2,
       "version_minor": 0
      },
      "text/plain": [
       "  0%|          | 0/1 [00:00<?, ?it/s]"
      ]
     },
     "metadata": {},
     "output_type": "display_data"
    },
    {
     "data": {
      "application/vnd.jupyter.widget-view+json": {
       "model_id": "a51510feb3ac436284e70c86c9da7b45",
       "version_major": 2,
       "version_minor": 0
      },
      "text/plain": [
       "  0%|          | 0/1 [00:00<?, ?it/s]"
      ]
     },
     "metadata": {},
     "output_type": "display_data"
    },
    {
     "data": {
      "application/vnd.jupyter.widget-view+json": {
       "model_id": "c5ea7a14ace04e7a95b108c56214f0b7",
       "version_major": 2,
       "version_minor": 0
      },
      "text/plain": [
       "  0%|          | 0/1 [00:00<?, ?it/s]"
      ]
     },
     "metadata": {},
     "output_type": "display_data"
    },
    {
     "data": {
      "application/vnd.jupyter.widget-view+json": {
       "model_id": "e89f9b1e47354a0eb46f735ba50b89e7",
       "version_major": 2,
       "version_minor": 0
      },
      "text/plain": [
       "  0%|          | 0/1 [00:00<?, ?it/s]"
      ]
     },
     "metadata": {},
     "output_type": "display_data"
    },
    {
     "data": {
      "application/vnd.jupyter.widget-view+json": {
       "model_id": "de122bac9f9b4dc8b5bbbc3224b5fbc3",
       "version_major": 2,
       "version_minor": 0
      },
      "text/plain": [
       "  0%|          | 0/1 [00:00<?, ?it/s]"
      ]
     },
     "metadata": {},
     "output_type": "display_data"
    },
    {
     "name": "stdout",
     "output_type": "stream",
     "text": [
      "Ergibt die kolposkopische Abklärung bei zytologischem Verdacht auf CIN 1 (s. Kapitel VI „Differentialdiagnostik und Abklärungsalgorithmus“) den histopathologischen Nachweis von CIN 1, so wird die Patientin bzgl. einer Kontrolluntersuchung oder Behandlung beraten.\n",
      "\n",
      "No Filter:\n"
     ]
    },
    {
     "data": {
      "text/html": [
       "<div>\n",
       "<style scoped>\n",
       "    .dataframe tbody tr th:only-of-type {\n",
       "        vertical-align: middle;\n",
       "    }\n",
       "\n",
       "    .dataframe tbody tr th {\n",
       "        vertical-align: top;\n",
       "    }\n",
       "\n",
       "    .dataframe thead th {\n",
       "        text-align: right;\n",
       "    }\n",
       "</style>\n",
       "<table border=\"1\" class=\"dataframe\">\n",
       "  <thead>\n",
       "    <tr style=\"text-align: right;\">\n",
       "      <th></th>\n",
       "      <th>document</th>\n",
       "      <th>text</th>\n",
       "      <th>type</th>\n",
       "      <th>start</th>\n",
       "      <th>end</th>\n",
       "      <th>cui</th>\n",
       "      <th>tuis</th>\n",
       "      <th>canonical</th>\n",
       "      <th>linker</th>\n",
       "      <th>confidence</th>\n",
       "    </tr>\n",
       "  </thead>\n",
       "  <tbody>\n",
       "    <tr>\n",
       "      <th>5</th>\n",
       "      <td>04_praevention-zervixkarzinom_0211_5</td>\n",
       "      <td>histopathologischen Nachweis von CIN 1</td>\n",
       "      <td>Diagnosis_or_Pathology</td>\n",
       "      <td>144</td>\n",
       "      <td>182</td>\n",
       "      <td>C0586855</td>\n",
       "      <td>[T097]</td>\n",
       "      <td>Histopathologist</td>\n",
       "      <td>[ngram]</td>\n",
       "      <td>0.063246</td>\n",
       "    </tr>\n",
       "    <tr>\n",
       "      <th>6</th>\n",
       "      <td>04_praevention-zervixkarzinom_0211_5</td>\n",
       "      <td>Kontrolluntersuchung</td>\n",
       "      <td>Diagnostic</td>\n",
       "      <td>218</td>\n",
       "      <td>238</td>\n",
       "      <td>C0024680</td>\n",
       "      <td>[T058]</td>\n",
       "      <td>Management Audit</td>\n",
       "      <td>[sapbert]</td>\n",
       "      <td>0.064058</td>\n",
       "    </tr>\n",
       "  </tbody>\n",
       "</table>\n",
       "</div>"
      ],
      "text/plain": [
       "                               document  \\\n",
       "5  04_praevention-zervixkarzinom_0211_5   \n",
       "6  04_praevention-zervixkarzinom_0211_5   \n",
       "\n",
       "                                     text                    type  start  end  \\\n",
       "5  histopathologischen Nachweis von CIN 1  Diagnosis_or_Pathology    144  182   \n",
       "6                    Kontrolluntersuchung              Diagnostic    218  238   \n",
       "\n",
       "        cui    tuis         canonical     linker  confidence  \n",
       "5  C0586855  [T097]  Histopathologist    [ngram]    0.063246  \n",
       "6  C0024680  [T058]  Management Audit  [sapbert]    0.064058  "
      ]
     },
     "metadata": {},
     "output_type": "display_data"
    },
    {
     "name": "stdout",
     "output_type": "stream",
     "text": [
      "Filter:\n"
     ]
    },
    {
     "data": {
      "text/html": [
       "<div>\n",
       "<style scoped>\n",
       "    .dataframe tbody tr th:only-of-type {\n",
       "        vertical-align: middle;\n",
       "    }\n",
       "\n",
       "    .dataframe tbody tr th {\n",
       "        vertical-align: top;\n",
       "    }\n",
       "\n",
       "    .dataframe thead th {\n",
       "        text-align: right;\n",
       "    }\n",
       "</style>\n",
       "<table border=\"1\" class=\"dataframe\">\n",
       "  <thead>\n",
       "    <tr style=\"text-align: right;\">\n",
       "      <th></th>\n",
       "      <th>document</th>\n",
       "      <th>text</th>\n",
       "      <th>type</th>\n",
       "      <th>start</th>\n",
       "      <th>end</th>\n",
       "      <th>cui</th>\n",
       "      <th>tuis</th>\n",
       "      <th>canonical</th>\n",
       "      <th>linker</th>\n",
       "      <th>confidence</th>\n",
       "    </tr>\n",
       "  </thead>\n",
       "  <tbody>\n",
       "    <tr>\n",
       "      <th>5</th>\n",
       "      <td>04_praevention-zervixkarzinom_0211_5</td>\n",
       "      <td>histopathologischen Nachweis von CIN 1</td>\n",
       "      <td>Diagnosis_or_Pathology</td>\n",
       "      <td>144</td>\n",
       "      <td>182</td>\n",
       "      <td>C0852601</td>\n",
       "      <td>[T060]</td>\n",
       "      <td>Central nervous system histopathology procedures</td>\n",
       "      <td>[ngram, sapbert]</td>\n",
       "      <td>0.063237</td>\n",
       "    </tr>\n",
       "    <tr>\n",
       "      <th>6</th>\n",
       "      <td>04_praevention-zervixkarzinom_0211_5</td>\n",
       "      <td>Kontrolluntersuchung</td>\n",
       "      <td>Diagnostic</td>\n",
       "      <td>218</td>\n",
       "      <td>238</td>\n",
       "      <td>C0009933</td>\n",
       "      <td>[T062]</td>\n",
       "      <td>Controlled Clinical Trials as Topic</td>\n",
       "      <td>[sapbert]</td>\n",
       "      <td>0.065167</td>\n",
       "    </tr>\n",
       "  </tbody>\n",
       "</table>\n",
       "</div>"
      ],
      "text/plain": [
       "                               document  \\\n",
       "5  04_praevention-zervixkarzinom_0211_5   \n",
       "6  04_praevention-zervixkarzinom_0211_5   \n",
       "\n",
       "                                     text                    type  start  end  \\\n",
       "5  histopathologischen Nachweis von CIN 1  Diagnosis_or_Pathology    144  182   \n",
       "6                    Kontrolluntersuchung              Diagnostic    218  238   \n",
       "\n",
       "        cui    tuis                                         canonical  \\\n",
       "5  C0852601  [T060]  Central nervous system histopathology procedures   \n",
       "6  C0009933  [T062]               Controlled Clinical Trials as Topic   \n",
       "\n",
       "             linker  confidence  \n",
       "5  [ngram, sapbert]    0.063237  \n",
       "6         [sapbert]    0.065167  "
      ]
     },
     "metadata": {},
     "output_type": "display_data"
    },
    {
     "name": "stdout",
     "output_type": "stream",
     "text": [
      "####\n"
     ]
    },
    {
     "data": {
      "application/vnd.jupyter.widget-view+json": {
       "model_id": "d603a59f2c964db0bb9576ecd4b19afc",
       "version_major": 2,
       "version_minor": 0
      },
      "text/plain": [
       "  0%|          | 0/1 [00:00<?, ?it/s]"
      ]
     },
     "metadata": {},
     "output_type": "display_data"
    },
    {
     "data": {
      "application/vnd.jupyter.widget-view+json": {
       "model_id": "0e50210f19034590abe7673892696e03",
       "version_major": 2,
       "version_minor": 0
      },
      "text/plain": [
       "  0%|          | 0/1 [00:00<?, ?it/s]"
      ]
     },
     "metadata": {},
     "output_type": "display_data"
    },
    {
     "data": {
      "application/vnd.jupyter.widget-view+json": {
       "model_id": "3dca65a8a1cd42a99e6307fa7e79d12f",
       "version_major": 2,
       "version_minor": 0
      },
      "text/plain": [
       "  0%|          | 0/1 [00:00<?, ?it/s]"
      ]
     },
     "metadata": {},
     "output_type": "display_data"
    },
    {
     "data": {
      "application/vnd.jupyter.widget-view+json": {
       "model_id": "508f6f8d094242dbb3b3036880bff3f7",
       "version_major": 2,
       "version_minor": 0
      },
      "text/plain": [
       "  0%|          | 0/1 [00:00<?, ?it/s]"
      ]
     },
     "metadata": {},
     "output_type": "display_data"
    },
    {
     "data": {
      "application/vnd.jupyter.widget-view+json": {
       "model_id": "9d03b96b030948fc99229766659078f0",
       "version_major": 2,
       "version_minor": 0
      },
      "text/plain": [
       "  0%|          | 0/1 [00:00<?, ?it/s]"
      ]
     },
     "metadata": {},
     "output_type": "display_data"
    },
    {
     "data": {
      "application/vnd.jupyter.widget-view+json": {
       "model_id": "01d24e758cfa4e64ac2c70716c374841",
       "version_major": 2,
       "version_minor": 0
      },
      "text/plain": [
       "  0%|          | 0/1 [00:00<?, ?it/s]"
      ]
     },
     "metadata": {},
     "output_type": "display_data"
    },
    {
     "data": {
      "application/vnd.jupyter.widget-view+json": {
       "model_id": "7bc0f1701446498282975aba35c20500",
       "version_major": 2,
       "version_minor": 0
      },
      "text/plain": [
       "  0%|          | 0/1 [00:00<?, ?it/s]"
      ]
     },
     "metadata": {},
     "output_type": "display_data"
    },
    {
     "data": {
      "application/vnd.jupyter.widget-view+json": {
       "model_id": "f9efa8a080fe43c9aafe1cef5fef969f",
       "version_major": 2,
       "version_minor": 0
      },
      "text/plain": [
       "  0%|          | 0/1 [00:00<?, ?it/s]"
      ]
     },
     "metadata": {},
     "output_type": "display_data"
    },
    {
     "data": {
      "application/vnd.jupyter.widget-view+json": {
       "model_id": "a279432f3ac64a44812347c73e36cdd3",
       "version_major": 2,
       "version_minor": 0
      },
      "text/plain": [
       "  0%|          | 0/1 [00:00<?, ?it/s]"
      ]
     },
     "metadata": {},
     "output_type": "display_data"
    },
    {
     "data": {
      "application/vnd.jupyter.widget-view+json": {
       "model_id": "5febf061ca0640cd89c783bc5d0a0db5",
       "version_major": 2,
       "version_minor": 0
      },
      "text/plain": [
       "  0%|          | 0/1 [00:00<?, ?it/s]"
      ]
     },
     "metadata": {},
     "output_type": "display_data"
    },
    {
     "data": {
      "application/vnd.jupyter.widget-view+json": {
       "model_id": "e546f19a66df41eca823e52bec568b22",
       "version_major": 2,
       "version_minor": 0
      },
      "text/plain": [
       "  0%|          | 0/1 [00:00<?, ?it/s]"
      ]
     },
     "metadata": {},
     "output_type": "display_data"
    },
    {
     "data": {
      "application/vnd.jupyter.widget-view+json": {
       "model_id": "8340de07d8b0414b8dad0048ac449e83",
       "version_major": 2,
       "version_minor": 0
      },
      "text/plain": [
       "  0%|          | 0/1 [00:00<?, ?it/s]"
      ]
     },
     "metadata": {},
     "output_type": "display_data"
    },
    {
     "data": {
      "application/vnd.jupyter.widget-view+json": {
       "model_id": "ec9489b61f0d43dd9da12226c8eb5e7a",
       "version_major": 2,
       "version_minor": 0
      },
      "text/plain": [
       "  0%|          | 0/1 [00:00<?, ?it/s]"
      ]
     },
     "metadata": {},
     "output_type": "display_data"
    },
    {
     "data": {
      "application/vnd.jupyter.widget-view+json": {
       "model_id": "d1644fdc42eb4378a31651255b75a6d5",
       "version_major": 2,
       "version_minor": 0
      },
      "text/plain": [
       "  0%|          | 0/1 [00:00<?, ?it/s]"
      ]
     },
     "metadata": {},
     "output_type": "display_data"
    },
    {
     "name": "stdout",
     "output_type": "stream",
     "text": [
      "Bei inadäquater kolposkopischer Aussage, Verdacht auf endocervikale CIN 2 oder CIN 3 oder Zustand nach früherer Behandlung einer CIN wird die Exzision mit kompletter histopathologischer Evaluierung empfohlen ( [REF], S17).\n",
      "\n",
      "No Filter:\n"
     ]
    },
    {
     "data": {
      "text/html": [
       "<div>\n",
       "<style scoped>\n",
       "    .dataframe tbody tr th:only-of-type {\n",
       "        vertical-align: middle;\n",
       "    }\n",
       "\n",
       "    .dataframe tbody tr th {\n",
       "        vertical-align: top;\n",
       "    }\n",
       "\n",
       "    .dataframe thead th {\n",
       "        text-align: right;\n",
       "    }\n",
       "</style>\n",
       "<table border=\"1\" class=\"dataframe\">\n",
       "  <thead>\n",
       "    <tr style=\"text-align: right;\">\n",
       "      <th></th>\n",
       "      <th>document</th>\n",
       "      <th>text</th>\n",
       "      <th>type</th>\n",
       "      <th>start</th>\n",
       "      <th>end</th>\n",
       "      <th>cui</th>\n",
       "      <th>tuis</th>\n",
       "      <th>canonical</th>\n",
       "      <th>linker</th>\n",
       "      <th>confidence</th>\n",
       "    </tr>\n",
       "  </thead>\n",
       "  <tbody>\n",
       "    <tr>\n",
       "      <th>2</th>\n",
       "      <td>04_praevention-zervixkarzinom_0211_12</td>\n",
       "      <td>früherer Behandlung einer CIN</td>\n",
       "      <td>Therapeutic</td>\n",
       "      <td>103</td>\n",
       "      <td>132</td>\n",
       "      <td>C4505227</td>\n",
       "      <td>[T058]</td>\n",
       "      <td>Early Goal-Directed Therapy</td>\n",
       "      <td>[sapbert]</td>\n",
       "      <td>0.064404</td>\n",
       "    </tr>\n",
       "  </tbody>\n",
       "</table>\n",
       "</div>"
      ],
      "text/plain": [
       "                                document                           text  \\\n",
       "2  04_praevention-zervixkarzinom_0211_12  früherer Behandlung einer CIN   \n",
       "\n",
       "          type  start  end       cui    tuis                    canonical  \\\n",
       "2  Therapeutic    103  132  C4505227  [T058]  Early Goal-Directed Therapy   \n",
       "\n",
       "      linker  confidence  \n",
       "2  [sapbert]    0.064404  "
      ]
     },
     "metadata": {},
     "output_type": "display_data"
    },
    {
     "name": "stdout",
     "output_type": "stream",
     "text": [
      "Filter:\n"
     ]
    },
    {
     "data": {
      "text/html": [
       "<div>\n",
       "<style scoped>\n",
       "    .dataframe tbody tr th:only-of-type {\n",
       "        vertical-align: middle;\n",
       "    }\n",
       "\n",
       "    .dataframe tbody tr th {\n",
       "        vertical-align: top;\n",
       "    }\n",
       "\n",
       "    .dataframe thead th {\n",
       "        text-align: right;\n",
       "    }\n",
       "</style>\n",
       "<table border=\"1\" class=\"dataframe\">\n",
       "  <thead>\n",
       "    <tr style=\"text-align: right;\">\n",
       "      <th></th>\n",
       "      <th>document</th>\n",
       "      <th>text</th>\n",
       "      <th>type</th>\n",
       "      <th>start</th>\n",
       "      <th>end</th>\n",
       "      <th>cui</th>\n",
       "      <th>tuis</th>\n",
       "      <th>canonical</th>\n",
       "      <th>linker</th>\n",
       "      <th>confidence</th>\n",
       "    </tr>\n",
       "  </thead>\n",
       "  <tbody>\n",
       "    <tr>\n",
       "      <th>2</th>\n",
       "      <td>04_praevention-zervixkarzinom_0211_12</td>\n",
       "      <td>früherer Behandlung einer CIN</td>\n",
       "      <td>Therapeutic</td>\n",
       "      <td>103</td>\n",
       "      <td>132</td>\n",
       "      <td>C3177188</td>\n",
       "      <td>[T061]</td>\n",
       "      <td>Early Therapy</td>\n",
       "      <td>[sapbert]</td>\n",
       "      <td>0.064474</td>\n",
       "    </tr>\n",
       "  </tbody>\n",
       "</table>\n",
       "</div>"
      ],
      "text/plain": [
       "                                document                           text  \\\n",
       "2  04_praevention-zervixkarzinom_0211_12  früherer Behandlung einer CIN   \n",
       "\n",
       "          type  start  end       cui    tuis      canonical     linker  \\\n",
       "2  Therapeutic    103  132  C3177188  [T061]  Early Therapy  [sapbert]   \n",
       "\n",
       "   confidence  \n",
       "2    0.064474  "
      ]
     },
     "metadata": {},
     "output_type": "display_data"
    },
    {
     "name": "stdout",
     "output_type": "stream",
     "text": [
      "####\n"
     ]
    },
    {
     "data": {
      "application/vnd.jupyter.widget-view+json": {
       "model_id": "de7102f7970a4b5e89b7d7d479acc73f",
       "version_major": 2,
       "version_minor": 0
      },
      "text/plain": [
       "  0%|          | 0/1 [00:00<?, ?it/s]"
      ]
     },
     "metadata": {},
     "output_type": "display_data"
    },
    {
     "data": {
      "application/vnd.jupyter.widget-view+json": {
       "model_id": "c890b5bf51724294867274b424496670",
       "version_major": 2,
       "version_minor": 0
      },
      "text/plain": [
       "  0%|          | 0/1 [00:00<?, ?it/s]"
      ]
     },
     "metadata": {},
     "output_type": "display_data"
    },
    {
     "data": {
      "application/vnd.jupyter.widget-view+json": {
       "model_id": "7d1fae6c897043209d210b00e9d1c206",
       "version_major": 2,
       "version_minor": 0
      },
      "text/plain": [
       "  0%|          | 0/1 [00:00<?, ?it/s]"
      ]
     },
     "metadata": {},
     "output_type": "display_data"
    },
    {
     "data": {
      "application/vnd.jupyter.widget-view+json": {
       "model_id": "419eb2aa5be44881a24bc06ab1b8f880",
       "version_major": 2,
       "version_minor": 0
      },
      "text/plain": [
       "  0%|          | 0/1 [00:00<?, ?it/s]"
      ]
     },
     "metadata": {},
     "output_type": "display_data"
    },
    {
     "data": {
      "application/vnd.jupyter.widget-view+json": {
       "model_id": "03be8a39c882497d9eb476ab39289db0",
       "version_major": 2,
       "version_minor": 0
      },
      "text/plain": [
       "  0%|          | 0/1 [00:00<?, ?it/s]"
      ]
     },
     "metadata": {},
     "output_type": "display_data"
    },
    {
     "data": {
      "application/vnd.jupyter.widget-view+json": {
       "model_id": "7897d2e19590454987f6f79f9f80161c",
       "version_major": 2,
       "version_minor": 0
      },
      "text/plain": [
       "  0%|          | 0/1 [00:00<?, ?it/s]"
      ]
     },
     "metadata": {},
     "output_type": "display_data"
    },
    {
     "data": {
      "application/vnd.jupyter.widget-view+json": {
       "model_id": "218bf33260d249b590b67c0aae83f761",
       "version_major": 2,
       "version_minor": 0
      },
      "text/plain": [
       "  0%|          | 0/1 [00:00<?, ?it/s]"
      ]
     },
     "metadata": {},
     "output_type": "display_data"
    },
    {
     "data": {
      "application/vnd.jupyter.widget-view+json": {
       "model_id": "f46c8bcb1c7e49d080d1005a2897eeac",
       "version_major": 2,
       "version_minor": 0
      },
      "text/plain": [
       "  0%|          | 0/1 [00:00<?, ?it/s]"
      ]
     },
     "metadata": {},
     "output_type": "display_data"
    },
    {
     "data": {
      "application/vnd.jupyter.widget-view+json": {
       "model_id": "6577be19913e4ba8b4e457d6c2402c2f",
       "version_major": 2,
       "version_minor": 0
      },
      "text/plain": [
       "  0%|          | 0/1 [00:00<?, ?it/s]"
      ]
     },
     "metadata": {},
     "output_type": "display_data"
    },
    {
     "data": {
      "application/vnd.jupyter.widget-view+json": {
       "model_id": "8d25f8c36b9441d9b068d75621f3c789",
       "version_major": 2,
       "version_minor": 0
      },
      "text/plain": [
       "  0%|          | 0/1 [00:00<?, ?it/s]"
      ]
     },
     "metadata": {},
     "output_type": "display_data"
    },
    {
     "data": {
      "application/vnd.jupyter.widget-view+json": {
       "model_id": "0c4b4c0d2719490ebbce38f069d8ce0a",
       "version_major": 2,
       "version_minor": 0
      },
      "text/plain": [
       "  0%|          | 0/1 [00:00<?, ?it/s]"
      ]
     },
     "metadata": {},
     "output_type": "display_data"
    },
    {
     "data": {
      "application/vnd.jupyter.widget-view+json": {
       "model_id": "fbe2f71d17fc4563a0abf6b3a0c586e6",
       "version_major": 2,
       "version_minor": 0
      },
      "text/plain": [
       "  0%|          | 0/1 [00:00<?, ?it/s]"
      ]
     },
     "metadata": {},
     "output_type": "display_data"
    },
    {
     "data": {
      "application/vnd.jupyter.widget-view+json": {
       "model_id": "a94cf4d6d1e243509de7a92433f1775d",
       "version_major": 2,
       "version_minor": 0
      },
      "text/plain": [
       "  0%|          | 0/1 [00:00<?, ?it/s]"
      ]
     },
     "metadata": {},
     "output_type": "display_data"
    },
    {
     "data": {
      "application/vnd.jupyter.widget-view+json": {
       "model_id": "a050081745fb4e228d8687c48ec3c67f",
       "version_major": 2,
       "version_minor": 0
      },
      "text/plain": [
       "  0%|          | 0/1 [00:00<?, ?it/s]"
      ]
     },
     "metadata": {},
     "output_type": "display_data"
    },
    {
     "data": {
      "application/vnd.jupyter.widget-view+json": {
       "model_id": "4bc7d24fe2644cc9a61e8e0241a99414",
       "version_major": 2,
       "version_minor": 0
      },
      "text/plain": [
       "  0%|          | 0/1 [00:00<?, ?it/s]"
      ]
     },
     "metadata": {},
     "output_type": "display_data"
    },
    {
     "data": {
      "application/vnd.jupyter.widget-view+json": {
       "model_id": "28dbaa82a68f4c70a69e478946c92f18",
       "version_major": 2,
       "version_minor": 0
      },
      "text/plain": [
       "  0%|          | 0/1 [00:00<?, ?it/s]"
      ]
     },
     "metadata": {},
     "output_type": "display_data"
    },
    {
     "name": "stdout",
     "output_type": "stream",
     "text": [
      "Eine Hysterektomie als primäre Therapie sollte bei histologisch nachgewiesener CIN 1 ohne Zusatzindikation nicht durchgeführt werden.\n",
      "\n",
      "No Filter:\n"
     ]
    },
    {
     "data": {
      "text/html": [
       "<div>\n",
       "<style scoped>\n",
       "    .dataframe tbody tr th:only-of-type {\n",
       "        vertical-align: middle;\n",
       "    }\n",
       "\n",
       "    .dataframe tbody tr th {\n",
       "        vertical-align: top;\n",
       "    }\n",
       "\n",
       "    .dataframe thead th {\n",
       "        text-align: right;\n",
       "    }\n",
       "</style>\n",
       "<table border=\"1\" class=\"dataframe\">\n",
       "  <thead>\n",
       "    <tr style=\"text-align: right;\">\n",
       "      <th></th>\n",
       "      <th>document</th>\n",
       "      <th>text</th>\n",
       "      <th>type</th>\n",
       "      <th>start</th>\n",
       "      <th>end</th>\n",
       "      <th>cui</th>\n",
       "      <th>tuis</th>\n",
       "      <th>canonical</th>\n",
       "      <th>linker</th>\n",
       "      <th>confidence</th>\n",
       "    </tr>\n",
       "  </thead>\n",
       "  <tbody>\n",
       "    <tr>\n",
       "      <th>1</th>\n",
       "      <td>04_praevention-zervixkarzinom_0211_20</td>\n",
       "      <td>primäre Therapie</td>\n",
       "      <td>Therapeutic</td>\n",
       "      <td>23</td>\n",
       "      <td>39</td>\n",
       "      <td>C1335497</td>\n",
       "      <td>[T033]</td>\n",
       "      <td>Prior Primary</td>\n",
       "      <td>[sapbert]</td>\n",
       "      <td>0.070375</td>\n",
       "    </tr>\n",
       "  </tbody>\n",
       "</table>\n",
       "</div>"
      ],
      "text/plain": [
       "                                document              text         type  \\\n",
       "1  04_praevention-zervixkarzinom_0211_20  primäre Therapie  Therapeutic   \n",
       "\n",
       "   start  end       cui    tuis      canonical     linker  confidence  \n",
       "1     23   39  C1335497  [T033]  Prior Primary  [sapbert]    0.070375  "
      ]
     },
     "metadata": {},
     "output_type": "display_data"
    },
    {
     "name": "stdout",
     "output_type": "stream",
     "text": [
      "Filter:\n"
     ]
    },
    {
     "data": {
      "text/html": [
       "<div>\n",
       "<style scoped>\n",
       "    .dataframe tbody tr th:only-of-type {\n",
       "        vertical-align: middle;\n",
       "    }\n",
       "\n",
       "    .dataframe tbody tr th {\n",
       "        vertical-align: top;\n",
       "    }\n",
       "\n",
       "    .dataframe thead th {\n",
       "        text-align: right;\n",
       "    }\n",
       "</style>\n",
       "<table border=\"1\" class=\"dataframe\">\n",
       "  <thead>\n",
       "    <tr style=\"text-align: right;\">\n",
       "      <th></th>\n",
       "      <th>document</th>\n",
       "      <th>text</th>\n",
       "      <th>type</th>\n",
       "      <th>start</th>\n",
       "      <th>end</th>\n",
       "      <th>cui</th>\n",
       "      <th>tuis</th>\n",
       "      <th>canonical</th>\n",
       "      <th>linker</th>\n",
       "      <th>confidence</th>\n",
       "    </tr>\n",
       "  </thead>\n",
       "  <tbody>\n",
       "    <tr>\n",
       "      <th>1</th>\n",
       "      <td>04_praevention-zervixkarzinom_0211_20</td>\n",
       "      <td>primäre Therapie</td>\n",
       "      <td>Therapeutic</td>\n",
       "      <td>23</td>\n",
       "      <td>39</td>\n",
       "      <td>C0221296</td>\n",
       "      <td>[T061]</td>\n",
       "      <td>Primal therapy</td>\n",
       "      <td>[sapbert]</td>\n",
       "      <td>0.068785</td>\n",
       "    </tr>\n",
       "  </tbody>\n",
       "</table>\n",
       "</div>"
      ],
      "text/plain": [
       "                                document              text         type  \\\n",
       "1  04_praevention-zervixkarzinom_0211_20  primäre Therapie  Therapeutic   \n",
       "\n",
       "   start  end       cui    tuis       canonical     linker  confidence  \n",
       "1     23   39  C0221296  [T061]  Primal therapy  [sapbert]    0.068785  "
      ]
     },
     "metadata": {},
     "output_type": "display_data"
    },
    {
     "name": "stdout",
     "output_type": "stream",
     "text": [
      "####\n"
     ]
    },
    {
     "data": {
      "application/vnd.jupyter.widget-view+json": {
       "model_id": "765e05f77967421ba7a5b022ef4275c8",
       "version_major": 2,
       "version_minor": 0
      },
      "text/plain": [
       "  0%|          | 0/1 [00:00<?, ?it/s]"
      ]
     },
     "metadata": {},
     "output_type": "display_data"
    },
    {
     "data": {
      "application/vnd.jupyter.widget-view+json": {
       "model_id": "861c7832fbeb4f0389199f192ea369a3",
       "version_major": 2,
       "version_minor": 0
      },
      "text/plain": [
       "  0%|          | 0/1 [00:00<?, ?it/s]"
      ]
     },
     "metadata": {},
     "output_type": "display_data"
    },
    {
     "data": {
      "application/vnd.jupyter.widget-view+json": {
       "model_id": "5d29381adf154a779443351ed8984629",
       "version_major": 2,
       "version_minor": 0
      },
      "text/plain": [
       "  0%|          | 0/1 [00:00<?, ?it/s]"
      ]
     },
     "metadata": {},
     "output_type": "display_data"
    },
    {
     "data": {
      "application/vnd.jupyter.widget-view+json": {
       "model_id": "4850e162a8c84cc3b85143945d65b5e6",
       "version_major": 2,
       "version_minor": 0
      },
      "text/plain": [
       "  0%|          | 0/1 [00:00<?, ?it/s]"
      ]
     },
     "metadata": {},
     "output_type": "display_data"
    },
    {
     "data": {
      "application/vnd.jupyter.widget-view+json": {
       "model_id": "b9fc0d6ee046498d93ce5109993e8673",
       "version_major": 2,
       "version_minor": 0
      },
      "text/plain": [
       "  0%|          | 0/1 [00:00<?, ?it/s]"
      ]
     },
     "metadata": {},
     "output_type": "display_data"
    },
    {
     "data": {
      "application/vnd.jupyter.widget-view+json": {
       "model_id": "2c5b13fc8612467a9d25b1101e924552",
       "version_major": 2,
       "version_minor": 0
      },
      "text/plain": [
       "  0%|          | 0/1 [00:00<?, ?it/s]"
      ]
     },
     "metadata": {},
     "output_type": "display_data"
    },
    {
     "data": {
      "application/vnd.jupyter.widget-view+json": {
       "model_id": "bb79e16cdf2642a29dcec87e89c49390",
       "version_major": 2,
       "version_minor": 0
      },
      "text/plain": [
       "  0%|          | 0/1 [00:00<?, ?it/s]"
      ]
     },
     "metadata": {},
     "output_type": "display_data"
    },
    {
     "data": {
      "application/vnd.jupyter.widget-view+json": {
       "model_id": "b759a43c92ed42ac85eaaa1e517c7220",
       "version_major": 2,
       "version_minor": 0
      },
      "text/plain": [
       "  0%|          | 0/1 [00:00<?, ?it/s]"
      ]
     },
     "metadata": {},
     "output_type": "display_data"
    },
    {
     "data": {
      "application/vnd.jupyter.widget-view+json": {
       "model_id": "4fae4b667bf340e7b1df261d572091df",
       "version_major": 2,
       "version_minor": 0
      },
      "text/plain": [
       "  0%|          | 0/1 [00:00<?, ?it/s]"
      ]
     },
     "metadata": {},
     "output_type": "display_data"
    },
    {
     "data": {
      "application/vnd.jupyter.widget-view+json": {
       "model_id": "d09a7ec68447403fa1cede336d19b5d7",
       "version_major": 2,
       "version_minor": 0
      },
      "text/plain": [
       "  0%|          | 0/1 [00:00<?, ?it/s]"
      ]
     },
     "metadata": {},
     "output_type": "display_data"
    },
    {
     "data": {
      "application/vnd.jupyter.widget-view+json": {
       "model_id": "da914a64dde9415a9d8aade52d0866a6",
       "version_major": 2,
       "version_minor": 0
      },
      "text/plain": [
       "  0%|          | 0/1 [00:00<?, ?it/s]"
      ]
     },
     "metadata": {},
     "output_type": "display_data"
    },
    {
     "data": {
      "application/vnd.jupyter.widget-view+json": {
       "model_id": "bc3b4ddff9be4af6bf712e4063bf422e",
       "version_major": 2,
       "version_minor": 0
      },
      "text/plain": [
       "  0%|          | 0/1 [00:00<?, ?it/s]"
      ]
     },
     "metadata": {},
     "output_type": "display_data"
    },
    {
     "data": {
      "application/vnd.jupyter.widget-view+json": {
       "model_id": "280620355a314fa39c63e8de8821a05c",
       "version_major": 2,
       "version_minor": 0
      },
      "text/plain": [
       "  0%|          | 0/1 [00:00<?, ?it/s]"
      ]
     },
     "metadata": {},
     "output_type": "display_data"
    },
    {
     "data": {
      "application/vnd.jupyter.widget-view+json": {
       "model_id": "a7e803494c0a402e8044d086677e6a65",
       "version_major": 2,
       "version_minor": 0
      },
      "text/plain": [
       "  0%|          | 0/1 [00:00<?, ?it/s]"
      ]
     },
     "metadata": {},
     "output_type": "display_data"
    },
    {
     "data": {
      "application/vnd.jupyter.widget-view+json": {
       "model_id": "73acd90a1eea40768ac6f9d424a4ad8a",
       "version_major": 2,
       "version_minor": 0
      },
      "text/plain": [
       "  0%|          | 0/1 [00:00<?, ?it/s]"
      ]
     },
     "metadata": {},
     "output_type": "display_data"
    },
    {
     "data": {
      "application/vnd.jupyter.widget-view+json": {
       "model_id": "29bf069b07834b90bbe73f53b4c46b74",
       "version_major": 2,
       "version_minor": 0
      },
      "text/plain": [
       "  0%|          | 0/1 [00:00<?, ?it/s]"
      ]
     },
     "metadata": {},
     "output_type": "display_data"
    },
    {
     "name": "stdout",
     "output_type": "stream",
     "text": [
      "Zum Thema der Antioxidantien und Vitamine während der aktiven konventionellen Behandlung des Zervixkarzinoms existieren nur wenige Daten.\n",
      "\n",
      "No Filter:\n"
     ]
    },
    {
     "data": {
      "text/html": [
       "<div>\n",
       "<style scoped>\n",
       "    .dataframe tbody tr th:only-of-type {\n",
       "        vertical-align: middle;\n",
       "    }\n",
       "\n",
       "    .dataframe tbody tr th {\n",
       "        vertical-align: top;\n",
       "    }\n",
       "\n",
       "    .dataframe thead th {\n",
       "        text-align: right;\n",
       "    }\n",
       "</style>\n",
       "<table border=\"1\" class=\"dataframe\">\n",
       "  <thead>\n",
       "    <tr style=\"text-align: right;\">\n",
       "      <th></th>\n",
       "      <th>document</th>\n",
       "      <th>text</th>\n",
       "      <th>type</th>\n",
       "      <th>start</th>\n",
       "      <th>end</th>\n",
       "      <th>cui</th>\n",
       "      <th>tuis</th>\n",
       "      <th>canonical</th>\n",
       "      <th>linker</th>\n",
       "      <th>confidence</th>\n",
       "    </tr>\n",
       "  </thead>\n",
       "  <tbody>\n",
       "    <tr>\n",
       "      <th>2</th>\n",
       "      <td>05_zervixkarzinom_0265_0</td>\n",
       "      <td>aktiven konventionellen Behandlung des Zervixk...</td>\n",
       "      <td>Therapeutic</td>\n",
       "      <td>54</td>\n",
       "      <td>108</td>\n",
       "      <td>C5420818</td>\n",
       "      <td>[T191]</td>\n",
       "      <td>Locally Advanced Cervical Squamous Cell Carcinoma</td>\n",
       "      <td>[sapbert]</td>\n",
       "      <td>0.063582</td>\n",
       "    </tr>\n",
       "  </tbody>\n",
       "</table>\n",
       "</div>"
      ],
      "text/plain": [
       "                   document  \\\n",
       "2  05_zervixkarzinom_0265_0   \n",
       "\n",
       "                                                text         type  start  end  \\\n",
       "2  aktiven konventionellen Behandlung des Zervixk...  Therapeutic     54  108   \n",
       "\n",
       "        cui    tuis                                          canonical  \\\n",
       "2  C5420818  [T191]  Locally Advanced Cervical Squamous Cell Carcinoma   \n",
       "\n",
       "      linker  confidence  \n",
       "2  [sapbert]    0.063582  "
      ]
     },
     "metadata": {},
     "output_type": "display_data"
    },
    {
     "name": "stdout",
     "output_type": "stream",
     "text": [
      "Filter:\n"
     ]
    },
    {
     "data": {
      "text/html": [
       "<div>\n",
       "<style scoped>\n",
       "    .dataframe tbody tr th:only-of-type {\n",
       "        vertical-align: middle;\n",
       "    }\n",
       "\n",
       "    .dataframe tbody tr th {\n",
       "        vertical-align: top;\n",
       "    }\n",
       "\n",
       "    .dataframe thead th {\n",
       "        text-align: right;\n",
       "    }\n",
       "</style>\n",
       "<table border=\"1\" class=\"dataframe\">\n",
       "  <thead>\n",
       "    <tr style=\"text-align: right;\">\n",
       "      <th></th>\n",
       "      <th>document</th>\n",
       "      <th>text</th>\n",
       "      <th>type</th>\n",
       "      <th>start</th>\n",
       "      <th>end</th>\n",
       "      <th>cui</th>\n",
       "      <th>tuis</th>\n",
       "      <th>canonical</th>\n",
       "      <th>linker</th>\n",
       "      <th>confidence</th>\n",
       "    </tr>\n",
       "  </thead>\n",
       "  <tbody>\n",
       "    <tr>\n",
       "      <th>2</th>\n",
       "      <td>05_zervixkarzinom_0265_0</td>\n",
       "      <td>aktiven konventionellen Behandlung des Zervixk...</td>\n",
       "      <td>Therapeutic</td>\n",
       "      <td>54</td>\n",
       "      <td>108</td>\n",
       "      <td>C1880037</td>\n",
       "      <td>[T061]</td>\n",
       "      <td>Regimen Used to Treat Cervical Carcinoma</td>\n",
       "      <td>[sapbert]</td>\n",
       "      <td>0.063736</td>\n",
       "    </tr>\n",
       "  </tbody>\n",
       "</table>\n",
       "</div>"
      ],
      "text/plain": [
       "                   document  \\\n",
       "2  05_zervixkarzinom_0265_0   \n",
       "\n",
       "                                                text         type  start  end  \\\n",
       "2  aktiven konventionellen Behandlung des Zervixk...  Therapeutic     54  108   \n",
       "\n",
       "        cui    tuis                                 canonical     linker  \\\n",
       "2  C1880037  [T061]  Regimen Used to Treat Cervical Carcinoma  [sapbert]   \n",
       "\n",
       "   confidence  \n",
       "2    0.063736  "
      ]
     },
     "metadata": {},
     "output_type": "display_data"
    },
    {
     "name": "stdout",
     "output_type": "stream",
     "text": [
      "####\n"
     ]
    },
    {
     "data": {
      "application/vnd.jupyter.widget-view+json": {
       "model_id": "ecabb109953e4f0fa2ff220dfc6ffa51",
       "version_major": 2,
       "version_minor": 0
      },
      "text/plain": [
       "  0%|          | 0/1 [00:00<?, ?it/s]"
      ]
     },
     "metadata": {},
     "output_type": "display_data"
    },
    {
     "data": {
      "application/vnd.jupyter.widget-view+json": {
       "model_id": "6dd09d469034430285e2bb73c9f57c78",
       "version_major": 2,
       "version_minor": 0
      },
      "text/plain": [
       "  0%|          | 0/1 [00:00<?, ?it/s]"
      ]
     },
     "metadata": {},
     "output_type": "display_data"
    },
    {
     "data": {
      "application/vnd.jupyter.widget-view+json": {
       "model_id": "91c98c4d2ede46448010a8aabf950434",
       "version_major": 2,
       "version_minor": 0
      },
      "text/plain": [
       "  0%|          | 0/1 [00:00<?, ?it/s]"
      ]
     },
     "metadata": {},
     "output_type": "display_data"
    },
    {
     "data": {
      "application/vnd.jupyter.widget-view+json": {
       "model_id": "3f4047597c684891aeb8f4f6928a593d",
       "version_major": 2,
       "version_minor": 0
      },
      "text/plain": [
       "  0%|          | 0/1 [00:00<?, ?it/s]"
      ]
     },
     "metadata": {},
     "output_type": "display_data"
    },
    {
     "data": {
      "application/vnd.jupyter.widget-view+json": {
       "model_id": "373cd87e8e6343f9bd06ddb519ce0f41",
       "version_major": 2,
       "version_minor": 0
      },
      "text/plain": [
       "  0%|          | 0/1 [00:00<?, ?it/s]"
      ]
     },
     "metadata": {},
     "output_type": "display_data"
    },
    {
     "data": {
      "application/vnd.jupyter.widget-view+json": {
       "model_id": "74b9d4d973ee46369d4743bdbcb4a597",
       "version_major": 2,
       "version_minor": 0
      },
      "text/plain": [
       "  0%|          | 0/1 [00:00<?, ?it/s]"
      ]
     },
     "metadata": {},
     "output_type": "display_data"
    },
    {
     "data": {
      "application/vnd.jupyter.widget-view+json": {
       "model_id": "985183a4702b49f8bd1edaa9bb8806fc",
       "version_major": 2,
       "version_minor": 0
      },
      "text/plain": [
       "  0%|          | 0/1 [00:00<?, ?it/s]"
      ]
     },
     "metadata": {},
     "output_type": "display_data"
    },
    {
     "data": {
      "application/vnd.jupyter.widget-view+json": {
       "model_id": "c9358c9758da44a788776de4261a3997",
       "version_major": 2,
       "version_minor": 0
      },
      "text/plain": [
       "  0%|          | 0/1 [00:00<?, ?it/s]"
      ]
     },
     "metadata": {},
     "output_type": "display_data"
    },
    {
     "data": {
      "application/vnd.jupyter.widget-view+json": {
       "model_id": "d6bf3491c3b14164a193f11a579e11ba",
       "version_major": 2,
       "version_minor": 0
      },
      "text/plain": [
       "  0%|          | 0/1 [00:00<?, ?it/s]"
      ]
     },
     "metadata": {},
     "output_type": "display_data"
    },
    {
     "data": {
      "application/vnd.jupyter.widget-view+json": {
       "model_id": "05571e26e71d4a57872b27ee00d4c748",
       "version_major": 2,
       "version_minor": 0
      },
      "text/plain": [
       "  0%|          | 0/1 [00:00<?, ?it/s]"
      ]
     },
     "metadata": {},
     "output_type": "display_data"
    },
    {
     "data": {
      "application/vnd.jupyter.widget-view+json": {
       "model_id": "279d711b2696492fb6279efeeb563aa4",
       "version_major": 2,
       "version_minor": 0
      },
      "text/plain": [
       "  0%|          | 0/1 [00:00<?, ?it/s]"
      ]
     },
     "metadata": {},
     "output_type": "display_data"
    },
    {
     "data": {
      "application/vnd.jupyter.widget-view+json": {
       "model_id": "d428b0af77984c9ba29a77155174ebbe",
       "version_major": 2,
       "version_minor": 0
      },
      "text/plain": [
       "  0%|          | 0/1 [00:00<?, ?it/s]"
      ]
     },
     "metadata": {},
     "output_type": "display_data"
    },
    {
     "data": {
      "application/vnd.jupyter.widget-view+json": {
       "model_id": "adef178cb6184da7bb2f22c5270197a3",
       "version_major": 2,
       "version_minor": 0
      },
      "text/plain": [
       "  0%|          | 0/1 [00:00<?, ?it/s]"
      ]
     },
     "metadata": {},
     "output_type": "display_data"
    },
    {
     "data": {
      "application/vnd.jupyter.widget-view+json": {
       "model_id": "81561f2d48c04b01bc173ec6739c5121",
       "version_major": 2,
       "version_minor": 0
      },
      "text/plain": [
       "  0%|          | 0/1 [00:00<?, ?it/s]"
      ]
     },
     "metadata": {},
     "output_type": "display_data"
    },
    {
     "data": {
      "application/vnd.jupyter.widget-view+json": {
       "model_id": "4de4e3b3421647deb4a0eeeb8b41ca24",
       "version_major": 2,
       "version_minor": 0
      },
      "text/plain": [
       "  0%|          | 0/1 [00:00<?, ?it/s]"
      ]
     },
     "metadata": {},
     "output_type": "display_data"
    },
    {
     "data": {
      "application/vnd.jupyter.widget-view+json": {
       "model_id": "25992aedc400429fb24156354492adad",
       "version_major": 2,
       "version_minor": 0
      },
      "text/plain": [
       "  0%|          | 0/1 [00:00<?, ?it/s]"
      ]
     },
     "metadata": {},
     "output_type": "display_data"
    },
    {
     "data": {
      "application/vnd.jupyter.widget-view+json": {
       "model_id": "1b26e3b301f14f2bb135fe5f58524cbb",
       "version_major": 2,
       "version_minor": 0
      },
      "text/plain": [
       "  0%|          | 0/1 [00:00<?, ?it/s]"
      ]
     },
     "metadata": {},
     "output_type": "display_data"
    },
    {
     "data": {
      "application/vnd.jupyter.widget-view+json": {
       "model_id": "705b199fcb554822a41fbfa535e4508c",
       "version_major": 2,
       "version_minor": 0
      },
      "text/plain": [
       "  0%|          | 0/1 [00:00<?, ?it/s]"
      ]
     },
     "metadata": {},
     "output_type": "display_data"
    },
    {
     "data": {
      "application/vnd.jupyter.widget-view+json": {
       "model_id": "a8c6bbc645a04982b69f01fd631a4684",
       "version_major": 2,
       "version_minor": 0
      },
      "text/plain": [
       "  0%|          | 0/1 [00:00<?, ?it/s]"
      ]
     },
     "metadata": {},
     "output_type": "display_data"
    },
    {
     "data": {
      "application/vnd.jupyter.widget-view+json": {
       "model_id": "14b3fb5e843845b583ae6aab37979148",
       "version_major": 2,
       "version_minor": 0
      },
      "text/plain": [
       "  0%|          | 0/1 [00:00<?, ?it/s]"
      ]
     },
     "metadata": {},
     "output_type": "display_data"
    },
    {
     "data": {
      "application/vnd.jupyter.widget-view+json": {
       "model_id": "d02d4c0b88244e47a10a11c770d9dbc6",
       "version_major": 2,
       "version_minor": 0
      },
      "text/plain": [
       "  0%|          | 0/1 [00:00<?, ?it/s]"
      ]
     },
     "metadata": {},
     "output_type": "display_data"
    },
    {
     "data": {
      "application/vnd.jupyter.widget-view+json": {
       "model_id": "494ae627231845bdba8430746796e983",
       "version_major": 2,
       "version_minor": 0
      },
      "text/plain": [
       "  0%|          | 0/1 [00:00<?, ?it/s]"
      ]
     },
     "metadata": {},
     "output_type": "display_data"
    },
    {
     "data": {
      "application/vnd.jupyter.widget-view+json": {
       "model_id": "13eed285397f405d84971abaf96f0b33",
       "version_major": 2,
       "version_minor": 0
      },
      "text/plain": [
       "  0%|          | 0/1 [00:00<?, ?it/s]"
      ]
     },
     "metadata": {},
     "output_type": "display_data"
    },
    {
     "data": {
      "application/vnd.jupyter.widget-view+json": {
       "model_id": "20cf9fe2691741fa9a2436f2c1cc8665",
       "version_major": 2,
       "version_minor": 0
      },
      "text/plain": [
       "  0%|          | 0/1 [00:00<?, ?it/s]"
      ]
     },
     "metadata": {},
     "output_type": "display_data"
    },
    {
     "data": {
      "application/vnd.jupyter.widget-view+json": {
       "model_id": "d2dac9a0698e4ce2afe987b41b781e35",
       "version_major": 2,
       "version_minor": 0
      },
      "text/plain": [
       "  0%|          | 0/1 [00:00<?, ?it/s]"
      ]
     },
     "metadata": {},
     "output_type": "display_data"
    },
    {
     "data": {
      "application/vnd.jupyter.widget-view+json": {
       "model_id": "4ffbe08aa2b349468f31f3e22c8e857c",
       "version_major": 2,
       "version_minor": 0
      },
      "text/plain": [
       "  0%|          | 0/1 [00:00<?, ?it/s]"
      ]
     },
     "metadata": {},
     "output_type": "display_data"
    },
    {
     "data": {
      "application/vnd.jupyter.widget-view+json": {
       "model_id": "97053c2f3afc4327a694b667fd6edeb9",
       "version_major": 2,
       "version_minor": 0
      },
      "text/plain": [
       "  0%|          | 0/1 [00:00<?, ?it/s]"
      ]
     },
     "metadata": {},
     "output_type": "display_data"
    },
    {
     "data": {
      "application/vnd.jupyter.widget-view+json": {
       "model_id": "65ea7d5d28dd4204bd17db0049d11c20",
       "version_major": 2,
       "version_minor": 0
      },
      "text/plain": [
       "  0%|          | 0/1 [00:00<?, ?it/s]"
      ]
     },
     "metadata": {},
     "output_type": "display_data"
    },
    {
     "data": {
      "application/vnd.jupyter.widget-view+json": {
       "model_id": "37d87351cc614664ba1db3578a6ca01e",
       "version_major": 2,
       "version_minor": 0
      },
      "text/plain": [
       "  0%|          | 0/1 [00:00<?, ?it/s]"
      ]
     },
     "metadata": {},
     "output_type": "display_data"
    },
    {
     "data": {
      "application/vnd.jupyter.widget-view+json": {
       "model_id": "d661d95893d241dcb5de3e23976ba817",
       "version_major": 2,
       "version_minor": 0
      },
      "text/plain": [
       "  0%|          | 0/1 [00:00<?, ?it/s]"
      ]
     },
     "metadata": {},
     "output_type": "display_data"
    },
    {
     "data": {
      "application/vnd.jupyter.widget-view+json": {
       "model_id": "bb5b8284815d42b9b8f7360964ae49ad",
       "version_major": 2,
       "version_minor": 0
      },
      "text/plain": [
       "  0%|          | 0/1 [00:00<?, ?it/s]"
      ]
     },
     "metadata": {},
     "output_type": "display_data"
    },
    {
     "data": {
      "application/vnd.jupyter.widget-view+json": {
       "model_id": "bd68b670e9de441ca0231fb8c9d6e639",
       "version_major": 2,
       "version_minor": 0
      },
      "text/plain": [
       "  0%|          | 0/1 [00:00<?, ?it/s]"
      ]
     },
     "metadata": {},
     "output_type": "display_data"
    },
    {
     "data": {
      "application/vnd.jupyter.widget-view+json": {
       "model_id": "3347cbb71e8c4e8aad898128e3633cb3",
       "version_major": 2,
       "version_minor": 0
      },
      "text/plain": [
       "  0%|          | 0/1 [00:00<?, ?it/s]"
      ]
     },
     "metadata": {},
     "output_type": "display_data"
    },
    {
     "data": {
      "application/vnd.jupyter.widget-view+json": {
       "model_id": "aa0e4ea2478043be8d800ef2c71a3cd0",
       "version_major": 2,
       "version_minor": 0
      },
      "text/plain": [
       "  0%|          | 0/1 [00:00<?, ?it/s]"
      ]
     },
     "metadata": {},
     "output_type": "display_data"
    },
    {
     "name": "stdout",
     "output_type": "stream",
     "text": [
      "In einer kleinen randomisierten Studie (n=42) wurde eine verbesserte Immunreaktion und ein tendenziell geringere Rezidivrate bei Vitamin-A-Gabe festgestellt [REF] [REF].\n",
      "\n",
      "No Filter:\n"
     ]
    },
    {
     "data": {
      "text/html": [
       "<div>\n",
       "<style scoped>\n",
       "    .dataframe tbody tr th:only-of-type {\n",
       "        vertical-align: middle;\n",
       "    }\n",
       "\n",
       "    .dataframe tbody tr th {\n",
       "        vertical-align: top;\n",
       "    }\n",
       "\n",
       "    .dataframe thead th {\n",
       "        text-align: right;\n",
       "    }\n",
       "</style>\n",
       "<table border=\"1\" class=\"dataframe\">\n",
       "  <thead>\n",
       "    <tr style=\"text-align: right;\">\n",
       "      <th></th>\n",
       "      <th>document</th>\n",
       "      <th>text</th>\n",
       "      <th>type</th>\n",
       "      <th>start</th>\n",
       "      <th>end</th>\n",
       "      <th>cui</th>\n",
       "      <th>tuis</th>\n",
       "      <th>canonical</th>\n",
       "      <th>linker</th>\n",
       "      <th>confidence</th>\n",
       "    </tr>\n",
       "  </thead>\n",
       "  <tbody>\n",
       "    <tr>\n",
       "      <th>2</th>\n",
       "      <td>05_zervixkarzinom_0265_17</td>\n",
       "      <td>Vitamin-A-Gabe</td>\n",
       "      <td>Therapeutic</td>\n",
       "      <td>129</td>\n",
       "      <td>143</td>\n",
       "      <td>C0042842</td>\n",
       "      <td>[T047]</td>\n",
       "      <td>Vitamin A Deficiency</td>\n",
       "      <td>[ngram, sapbert]</td>\n",
       "      <td>0.069976</td>\n",
       "    </tr>\n",
       "  </tbody>\n",
       "</table>\n",
       "</div>"
      ],
      "text/plain": [
       "                    document            text         type  start  end  \\\n",
       "2  05_zervixkarzinom_0265_17  Vitamin-A-Gabe  Therapeutic    129  143   \n",
       "\n",
       "        cui    tuis             canonical            linker  confidence  \n",
       "2  C0042842  [T047]  Vitamin A Deficiency  [ngram, sapbert]    0.069976  "
      ]
     },
     "metadata": {},
     "output_type": "display_data"
    },
    {
     "name": "stdout",
     "output_type": "stream",
     "text": [
      "Filter:\n"
     ]
    },
    {
     "data": {
      "text/html": [
       "<div>\n",
       "<style scoped>\n",
       "    .dataframe tbody tr th:only-of-type {\n",
       "        vertical-align: middle;\n",
       "    }\n",
       "\n",
       "    .dataframe tbody tr th {\n",
       "        vertical-align: top;\n",
       "    }\n",
       "\n",
       "    .dataframe thead th {\n",
       "        text-align: right;\n",
       "    }\n",
       "</style>\n",
       "<table border=\"1\" class=\"dataframe\">\n",
       "  <thead>\n",
       "    <tr style=\"text-align: right;\">\n",
       "      <th></th>\n",
       "      <th>document</th>\n",
       "      <th>text</th>\n",
       "      <th>type</th>\n",
       "      <th>start</th>\n",
       "      <th>end</th>\n",
       "      <th>cui</th>\n",
       "      <th>tuis</th>\n",
       "      <th>canonical</th>\n",
       "      <th>linker</th>\n",
       "      <th>confidence</th>\n",
       "    </tr>\n",
       "  </thead>\n",
       "  <tbody>\n",
       "    <tr>\n",
       "      <th>2</th>\n",
       "      <td>05_zervixkarzinom_0265_17</td>\n",
       "      <td>Vitamin-A-Gabe</td>\n",
       "      <td>Therapeutic</td>\n",
       "      <td>129</td>\n",
       "      <td>143</td>\n",
       "      <td>C1528406</td>\n",
       "      <td>[T109, T121, T127]</td>\n",
       "      <td>Vitamin-A-Saar</td>\n",
       "      <td>[ngram, sapbert]</td>\n",
       "      <td>0.070096</td>\n",
       "    </tr>\n",
       "  </tbody>\n",
       "</table>\n",
       "</div>"
      ],
      "text/plain": [
       "                    document            text         type  start  end  \\\n",
       "2  05_zervixkarzinom_0265_17  Vitamin-A-Gabe  Therapeutic    129  143   \n",
       "\n",
       "        cui                tuis       canonical            linker  confidence  \n",
       "2  C1528406  [T109, T121, T127]  Vitamin-A-Saar  [ngram, sapbert]    0.070096  "
      ]
     },
     "metadata": {},
     "output_type": "display_data"
    },
    {
     "name": "stdout",
     "output_type": "stream",
     "text": [
      "####\n"
     ]
    },
    {
     "data": {
      "application/vnd.jupyter.widget-view+json": {
       "model_id": "8152aff035b241babaa41b8ac3a3b51c",
       "version_major": 2,
       "version_minor": 0
      },
      "text/plain": [
       "  0%|          | 0/1 [00:00<?, ?it/s]"
      ]
     },
     "metadata": {},
     "output_type": "display_data"
    },
    {
     "data": {
      "application/vnd.jupyter.widget-view+json": {
       "model_id": "ad28470ad0914a47a551eb224457e423",
       "version_major": 2,
       "version_minor": 0
      },
      "text/plain": [
       "  0%|          | 0/1 [00:00<?, ?it/s]"
      ]
     },
     "metadata": {},
     "output_type": "display_data"
    },
    {
     "data": {
      "application/vnd.jupyter.widget-view+json": {
       "model_id": "1cbeead29c5f4cde86c81420df3f4cac",
       "version_major": 2,
       "version_minor": 0
      },
      "text/plain": [
       "  0%|          | 0/1 [00:00<?, ?it/s]"
      ]
     },
     "metadata": {},
     "output_type": "display_data"
    },
    {
     "data": {
      "application/vnd.jupyter.widget-view+json": {
       "model_id": "ff2ef1d97e71415595c62086edc9b54d",
       "version_major": 2,
       "version_minor": 0
      },
      "text/plain": [
       "  0%|          | 0/1 [00:00<?, ?it/s]"
      ]
     },
     "metadata": {},
     "output_type": "display_data"
    },
    {
     "data": {
      "application/vnd.jupyter.widget-view+json": {
       "model_id": "db5ff5b77d4841a8b5a6319c28919d44",
       "version_major": 2,
       "version_minor": 0
      },
      "text/plain": [
       "  0%|          | 0/1 [00:00<?, ?it/s]"
      ]
     },
     "metadata": {},
     "output_type": "display_data"
    },
    {
     "data": {
      "application/vnd.jupyter.widget-view+json": {
       "model_id": "fe2c3223e06e42fcbb55dc21af189e8f",
       "version_major": 2,
       "version_minor": 0
      },
      "text/plain": [
       "  0%|          | 0/1 [00:00<?, ?it/s]"
      ]
     },
     "metadata": {},
     "output_type": "display_data"
    },
    {
     "name": "stdout",
     "output_type": "stream",
     "text": [
      "Diese Hinweise aus Studien sind nicht ausreichend, um eine Empfehlung für einen vorbeugenden Einsatz von Vitaminpräparaten, Antioxidantien und/oder Selen zur Vermeidung unerwünschter Nebenwirkungen in der Therapie von Zervixkarzinompatientinnen abzuleiten.\n",
      "\n",
      "No Filter:\n"
     ]
    },
    {
     "data": {
      "text/html": [
       "<div>\n",
       "<style scoped>\n",
       "    .dataframe tbody tr th:only-of-type {\n",
       "        vertical-align: middle;\n",
       "    }\n",
       "\n",
       "    .dataframe tbody tr th {\n",
       "        vertical-align: top;\n",
       "    }\n",
       "\n",
       "    .dataframe thead th {\n",
       "        text-align: right;\n",
       "    }\n",
       "</style>\n",
       "<table border=\"1\" class=\"dataframe\">\n",
       "  <thead>\n",
       "    <tr style=\"text-align: right;\">\n",
       "      <th></th>\n",
       "      <th>document</th>\n",
       "      <th>text</th>\n",
       "      <th>type</th>\n",
       "      <th>start</th>\n",
       "      <th>end</th>\n",
       "      <th>cui</th>\n",
       "      <th>tuis</th>\n",
       "      <th>canonical</th>\n",
       "      <th>linker</th>\n",
       "      <th>confidence</th>\n",
       "    </tr>\n",
       "  </thead>\n",
       "  <tbody>\n",
       "    <tr>\n",
       "      <th>3</th>\n",
       "      <td>05_zervixkarzinom_0265_20</td>\n",
       "      <td>Vermeidung unerwünschter Nebenwirkungen in der...</td>\n",
       "      <td>Therapeutic</td>\n",
       "      <td>158</td>\n",
       "      <td>244</td>\n",
       "      <td>C4763862</td>\n",
       "      <td>[T061]</td>\n",
       "      <td>Cervical Cancer Surgery</td>\n",
       "      <td>[sapbert]</td>\n",
       "      <td>0.063171</td>\n",
       "    </tr>\n",
       "  </tbody>\n",
       "</table>\n",
       "</div>"
      ],
      "text/plain": [
       "                    document  \\\n",
       "3  05_zervixkarzinom_0265_20   \n",
       "\n",
       "                                                text         type  start  end  \\\n",
       "3  Vermeidung unerwünschter Nebenwirkungen in der...  Therapeutic    158  244   \n",
       "\n",
       "        cui    tuis                canonical     linker  confidence  \n",
       "3  C4763862  [T061]  Cervical Cancer Surgery  [sapbert]    0.063171  "
      ]
     },
     "metadata": {},
     "output_type": "display_data"
    },
    {
     "name": "stdout",
     "output_type": "stream",
     "text": [
      "Filter:\n"
     ]
    },
    {
     "data": {
      "text/html": [
       "<div>\n",
       "<style scoped>\n",
       "    .dataframe tbody tr th:only-of-type {\n",
       "        vertical-align: middle;\n",
       "    }\n",
       "\n",
       "    .dataframe tbody tr th {\n",
       "        vertical-align: top;\n",
       "    }\n",
       "\n",
       "    .dataframe thead th {\n",
       "        text-align: right;\n",
       "    }\n",
       "</style>\n",
       "<table border=\"1\" class=\"dataframe\">\n",
       "  <thead>\n",
       "    <tr style=\"text-align: right;\">\n",
       "      <th></th>\n",
       "      <th>document</th>\n",
       "      <th>text</th>\n",
       "      <th>type</th>\n",
       "      <th>start</th>\n",
       "      <th>end</th>\n",
       "      <th>cui</th>\n",
       "      <th>tuis</th>\n",
       "      <th>canonical</th>\n",
       "      <th>linker</th>\n",
       "      <th>confidence</th>\n",
       "    </tr>\n",
       "  </thead>\n",
       "  <tbody>\n",
       "    <tr>\n",
       "      <th>3</th>\n",
       "      <td>05_zervixkarzinom_0265_20</td>\n",
       "      <td>Vermeidung unerwünschter Nebenwirkungen in der...</td>\n",
       "      <td>Therapeutic</td>\n",
       "      <td>158</td>\n",
       "      <td>244</td>\n",
       "      <td>C1880037</td>\n",
       "      <td>[T061]</td>\n",
       "      <td>Regimen Used to Treat Cervical Carcinoma</td>\n",
       "      <td>[sapbert]</td>\n",
       "      <td>0.063227</td>\n",
       "    </tr>\n",
       "  </tbody>\n",
       "</table>\n",
       "</div>"
      ],
      "text/plain": [
       "                    document  \\\n",
       "3  05_zervixkarzinom_0265_20   \n",
       "\n",
       "                                                text         type  start  end  \\\n",
       "3  Vermeidung unerwünschter Nebenwirkungen in der...  Therapeutic    158  244   \n",
       "\n",
       "        cui    tuis                                 canonical     linker  \\\n",
       "3  C1880037  [T061]  Regimen Used to Treat Cervical Carcinoma  [sapbert]   \n",
       "\n",
       "   confidence  \n",
       "3    0.063227  "
      ]
     },
     "metadata": {},
     "output_type": "display_data"
    },
    {
     "name": "stdout",
     "output_type": "stream",
     "text": [
      "####\n"
     ]
    },
    {
     "data": {
      "application/vnd.jupyter.widget-view+json": {
       "model_id": "f6c46e8482f74098893b0f07dbbdafc5",
       "version_major": 2,
       "version_minor": 0
      },
      "text/plain": [
       "  0%|          | 0/1 [00:00<?, ?it/s]"
      ]
     },
     "metadata": {},
     "output_type": "display_data"
    },
    {
     "data": {
      "application/vnd.jupyter.widget-view+json": {
       "model_id": "0b168b00615c4a7a8a13d5de1359e61b",
       "version_major": 2,
       "version_minor": 0
      },
      "text/plain": [
       "  0%|          | 0/1 [00:00<?, ?it/s]"
      ]
     },
     "metadata": {},
     "output_type": "display_data"
    },
    {
     "data": {
      "application/vnd.jupyter.widget-view+json": {
       "model_id": "bb6ed06cecef4d3084f961f86bc095d3",
       "version_major": 2,
       "version_minor": 0
      },
      "text/plain": [
       "  0%|          | 0/1 [00:00<?, ?it/s]"
      ]
     },
     "metadata": {},
     "output_type": "display_data"
    },
    {
     "data": {
      "application/vnd.jupyter.widget-view+json": {
       "model_id": "ac30e4691ad046d498757dffdc04ab1b",
       "version_major": 2,
       "version_minor": 0
      },
      "text/plain": [
       "  0%|          | 0/1 [00:00<?, ?it/s]"
      ]
     },
     "metadata": {},
     "output_type": "display_data"
    },
    {
     "data": {
      "application/vnd.jupyter.widget-view+json": {
       "model_id": "f4844ac17c9a4437a7d56cef091785f4",
       "version_major": 2,
       "version_minor": 0
      },
      "text/plain": [
       "  0%|          | 0/1 [00:00<?, ?it/s]"
      ]
     },
     "metadata": {},
     "output_type": "display_data"
    },
    {
     "data": {
      "application/vnd.jupyter.widget-view+json": {
       "model_id": "fa56f6f1ac5c4fbfa5f3a999f2774ea7",
       "version_major": 2,
       "version_minor": 0
      },
      "text/plain": [
       "  0%|          | 0/1 [00:00<?, ?it/s]"
      ]
     },
     "metadata": {},
     "output_type": "display_data"
    },
    {
     "name": "stdout",
     "output_type": "stream",
     "text": [
      "Auch hepatische Nebenwirkungen sind unter zielgerichteten und Immuntherapien häufig.\n",
      "\n",
      "No Filter:\n"
     ]
    },
    {
     "data": {
      "text/html": [
       "<div>\n",
       "<style scoped>\n",
       "    .dataframe tbody tr th:only-of-type {\n",
       "        vertical-align: middle;\n",
       "    }\n",
       "\n",
       "    .dataframe tbody tr th {\n",
       "        vertical-align: top;\n",
       "    }\n",
       "\n",
       "    .dataframe thead th {\n",
       "        text-align: right;\n",
       "    }\n",
       "</style>\n",
       "<table border=\"1\" class=\"dataframe\">\n",
       "  <thead>\n",
       "    <tr style=\"text-align: right;\">\n",
       "      <th></th>\n",
       "      <th>document</th>\n",
       "      <th>text</th>\n",
       "      <th>type</th>\n",
       "      <th>start</th>\n",
       "      <th>end</th>\n",
       "      <th>cui</th>\n",
       "      <th>tuis</th>\n",
       "      <th>canonical</th>\n",
       "      <th>linker</th>\n",
       "      <th>confidence</th>\n",
       "    </tr>\n",
       "  </thead>\n",
       "  <tbody>\n",
       "    <tr>\n",
       "      <th>1</th>\n",
       "      <td>07_malignes-melanom_0197_2</td>\n",
       "      <td>zielgerichteten</td>\n",
       "      <td>Therapeutic</td>\n",
       "      <td>42</td>\n",
       "      <td>57</td>\n",
       "      <td>C1720855</td>\n",
       "      <td>[T061]</td>\n",
       "      <td>Targeted Gene Repair</td>\n",
       "      <td>[ngram]</td>\n",
       "      <td>0.065704</td>\n",
       "    </tr>\n",
       "  </tbody>\n",
       "</table>\n",
       "</div>"
      ],
      "text/plain": [
       "                     document             text         type  start  end  \\\n",
       "1  07_malignes-melanom_0197_2  zielgerichteten  Therapeutic     42   57   \n",
       "\n",
       "        cui    tuis             canonical   linker  confidence  \n",
       "1  C1720855  [T061]  Targeted Gene Repair  [ngram]    0.065704  "
      ]
     },
     "metadata": {},
     "output_type": "display_data"
    },
    {
     "name": "stdout",
     "output_type": "stream",
     "text": [
      "Filter:\n"
     ]
    },
    {
     "data": {
      "text/html": [
       "<div>\n",
       "<style scoped>\n",
       "    .dataframe tbody tr th:only-of-type {\n",
       "        vertical-align: middle;\n",
       "    }\n",
       "\n",
       "    .dataframe tbody tr th {\n",
       "        vertical-align: top;\n",
       "    }\n",
       "\n",
       "    .dataframe thead th {\n",
       "        text-align: right;\n",
       "    }\n",
       "</style>\n",
       "<table border=\"1\" class=\"dataframe\">\n",
       "  <thead>\n",
       "    <tr style=\"text-align: right;\">\n",
       "      <th></th>\n",
       "      <th>document</th>\n",
       "      <th>text</th>\n",
       "      <th>type</th>\n",
       "      <th>start</th>\n",
       "      <th>end</th>\n",
       "      <th>cui</th>\n",
       "      <th>tuis</th>\n",
       "      <th>canonical</th>\n",
       "      <th>linker</th>\n",
       "      <th>confidence</th>\n",
       "    </tr>\n",
       "  </thead>\n",
       "  <tbody>\n",
       "    <tr>\n",
       "      <th>1</th>\n",
       "      <td>07_malignes-melanom_0197_2</td>\n",
       "      <td>zielgerichteten</td>\n",
       "      <td>Therapeutic</td>\n",
       "      <td>42</td>\n",
       "      <td>57</td>\n",
       "      <td>C2699893</td>\n",
       "      <td>[T061]</td>\n",
       "      <td>Molecular Targeted Therapy</td>\n",
       "      <td>[ngram]</td>\n",
       "      <td>0.067461</td>\n",
       "    </tr>\n",
       "  </tbody>\n",
       "</table>\n",
       "</div>"
      ],
      "text/plain": [
       "                     document             text         type  start  end  \\\n",
       "1  07_malignes-melanom_0197_2  zielgerichteten  Therapeutic     42   57   \n",
       "\n",
       "        cui    tuis                   canonical   linker  confidence  \n",
       "1  C2699893  [T061]  Molecular Targeted Therapy  [ngram]    0.067461  "
      ]
     },
     "metadata": {},
     "output_type": "display_data"
    },
    {
     "name": "stdout",
     "output_type": "stream",
     "text": [
      "####\n"
     ]
    },
    {
     "data": {
      "application/vnd.jupyter.widget-view+json": {
       "model_id": "8bbb11a427844197a86893766f768e4c",
       "version_major": 2,
       "version_minor": 0
      },
      "text/plain": [
       "  0%|          | 0/1 [00:00<?, ?it/s]"
      ]
     },
     "metadata": {},
     "output_type": "display_data"
    },
    {
     "data": {
      "application/vnd.jupyter.widget-view+json": {
       "model_id": "46a437f804144d47959c713b0c37faf2",
       "version_major": 2,
       "version_minor": 0
      },
      "text/plain": [
       "  0%|          | 0/1 [00:00<?, ?it/s]"
      ]
     },
     "metadata": {},
     "output_type": "display_data"
    },
    {
     "data": {
      "application/vnd.jupyter.widget-view+json": {
       "model_id": "121e877189c74372aef7a1f5332dbca5",
       "version_major": 2,
       "version_minor": 0
      },
      "text/plain": [
       "  0%|          | 0/1 [00:00<?, ?it/s]"
      ]
     },
     "metadata": {},
     "output_type": "display_data"
    },
    {
     "data": {
      "application/vnd.jupyter.widget-view+json": {
       "model_id": "6de3c108858146e2bd07001b6d0faa5e",
       "version_major": 2,
       "version_minor": 0
      },
      "text/plain": [
       "  0%|          | 0/1 [00:00<?, ?it/s]"
      ]
     },
     "metadata": {},
     "output_type": "display_data"
    },
    {
     "data": {
      "application/vnd.jupyter.widget-view+json": {
       "model_id": "b58141e67cb7461b8a9a2e7230e79ba5",
       "version_major": 2,
       "version_minor": 0
      },
      "text/plain": [
       "  0%|          | 0/1 [00:00<?, ?it/s]"
      ]
     },
     "metadata": {},
     "output_type": "display_data"
    },
    {
     "data": {
      "application/vnd.jupyter.widget-view+json": {
       "model_id": "31c89ec6cb89453587a13f8bf717c9ea",
       "version_major": 2,
       "version_minor": 0
      },
      "text/plain": [
       "  0%|          | 0/1 [00:00<?, ?it/s]"
      ]
     },
     "metadata": {},
     "output_type": "display_data"
    },
    {
     "data": {
      "application/vnd.jupyter.widget-view+json": {
       "model_id": "ccf7022d2ac64ed28a809feca9c8e258",
       "version_major": 2,
       "version_minor": 0
      },
      "text/plain": [
       "  0%|          | 0/1 [00:00<?, ?it/s]"
      ]
     },
     "metadata": {},
     "output_type": "display_data"
    },
    {
     "data": {
      "application/vnd.jupyter.widget-view+json": {
       "model_id": "4d1804931fdf4dd484210ac6fc6f732c",
       "version_major": 2,
       "version_minor": 0
      },
      "text/plain": [
       "  0%|          | 0/1 [00:00<?, ?it/s]"
      ]
     },
     "metadata": {},
     "output_type": "display_data"
    },
    {
     "data": {
      "application/vnd.jupyter.widget-view+json": {
       "model_id": "32c9e795428a4bbfa11a96c35a13f058",
       "version_major": 2,
       "version_minor": 0
      },
      "text/plain": [
       "  0%|          | 0/1 [00:00<?, ?it/s]"
      ]
     },
     "metadata": {},
     "output_type": "display_data"
    },
    {
     "data": {
      "application/vnd.jupyter.widget-view+json": {
       "model_id": "d30d9ba7ff69498b80d2cc12f00151b7",
       "version_major": 2,
       "version_minor": 0
      },
      "text/plain": [
       "  0%|          | 0/1 [00:00<?, ?it/s]"
      ]
     },
     "metadata": {},
     "output_type": "display_data"
    },
    {
     "data": {
      "application/vnd.jupyter.widget-view+json": {
       "model_id": "34f0143914d84de582e23cd124f124ff",
       "version_major": 2,
       "version_minor": 0
      },
      "text/plain": [
       "  0%|          | 0/1 [00:00<?, ?it/s]"
      ]
     },
     "metadata": {},
     "output_type": "display_data"
    },
    {
     "data": {
      "application/vnd.jupyter.widget-view+json": {
       "model_id": "d4355710513348e18954f5653f49b5b1",
       "version_major": 2,
       "version_minor": 0
      },
      "text/plain": [
       "  0%|          | 0/1 [00:00<?, ?it/s]"
      ]
     },
     "metadata": {},
     "output_type": "display_data"
    },
    {
     "data": {
      "application/vnd.jupyter.widget-view+json": {
       "model_id": "9b4cd30c9e8e4eb0a6718587e7d6f3ea",
       "version_major": 2,
       "version_minor": 0
      },
      "text/plain": [
       "  0%|          | 0/1 [00:00<?, ?it/s]"
      ]
     },
     "metadata": {},
     "output_type": "display_data"
    },
    {
     "data": {
      "application/vnd.jupyter.widget-view+json": {
       "model_id": "95eda75ae6c44052be4e95ea96ee5001",
       "version_major": 2,
       "version_minor": 0
      },
      "text/plain": [
       "  0%|          | 0/1 [00:00<?, ?it/s]"
      ]
     },
     "metadata": {},
     "output_type": "display_data"
    },
    {
     "data": {
      "application/vnd.jupyter.widget-view+json": {
       "model_id": "db8853b84e354276af7d39a5be9ef0cf",
       "version_major": 2,
       "version_minor": 0
      },
      "text/plain": [
       "  0%|          | 0/1 [00:00<?, ?it/s]"
      ]
     },
     "metadata": {},
     "output_type": "display_data"
    },
    {
     "data": {
      "application/vnd.jupyter.widget-view+json": {
       "model_id": "0b85da1ea78745058de6718d3d52347a",
       "version_major": 2,
       "version_minor": 0
      },
      "text/plain": [
       "  0%|          | 0/1 [00:00<?, ?it/s]"
      ]
     },
     "metadata": {},
     "output_type": "display_data"
    },
    {
     "data": {
      "application/vnd.jupyter.widget-view+json": {
       "model_id": "58400ef7782d460889eb1a8843a7c891",
       "version_major": 2,
       "version_minor": 0
      },
      "text/plain": [
       "  0%|          | 0/1 [00:00<?, ?it/s]"
      ]
     },
     "metadata": {},
     "output_type": "display_data"
    },
    {
     "data": {
      "application/vnd.jupyter.widget-view+json": {
       "model_id": "371137b789b64272abadecc7c6a60976",
       "version_major": 2,
       "version_minor": 0
      },
      "text/plain": [
       "  0%|          | 0/1 [00:00<?, ?it/s]"
      ]
     },
     "metadata": {},
     "output_type": "display_data"
    },
    {
     "data": {
      "application/vnd.jupyter.widget-view+json": {
       "model_id": "610034b61062472ab9d115044294a90b",
       "version_major": 2,
       "version_minor": 0
      },
      "text/plain": [
       "  0%|          | 0/1 [00:00<?, ?it/s]"
      ]
     },
     "metadata": {},
     "output_type": "display_data"
    },
    {
     "data": {
      "application/vnd.jupyter.widget-view+json": {
       "model_id": "82c15bebc43e4e2cb7f1a81acadf6d4c",
       "version_major": 2,
       "version_minor": 0
      },
      "text/plain": [
       "  0%|          | 0/1 [00:00<?, ?it/s]"
      ]
     },
     "metadata": {},
     "output_type": "display_data"
    },
    {
     "data": {
      "application/vnd.jupyter.widget-view+json": {
       "model_id": "86516bdb34584a4fb29d42fd08e5f5c2",
       "version_major": 2,
       "version_minor": 0
      },
      "text/plain": [
       "  0%|          | 0/1 [00:00<?, ?it/s]"
      ]
     },
     "metadata": {},
     "output_type": "display_data"
    },
    {
     "data": {
      "application/vnd.jupyter.widget-view+json": {
       "model_id": "ae7903b3d62f47d6bc63f85d06cda4b4",
       "version_major": 2,
       "version_minor": 0
      },
      "text/plain": [
       "  0%|          | 0/1 [00:00<?, ?it/s]"
      ]
     },
     "metadata": {},
     "output_type": "display_data"
    },
    {
     "data": {
      "application/vnd.jupyter.widget-view+json": {
       "model_id": "f25d090ece3a4ef9ad4e8537ffa56391",
       "version_major": 2,
       "version_minor": 0
      },
      "text/plain": [
       "  0%|          | 0/1 [00:00<?, ?it/s]"
      ]
     },
     "metadata": {},
     "output_type": "display_data"
    },
    {
     "data": {
      "application/vnd.jupyter.widget-view+json": {
       "model_id": "0bdf7bdbadb24007a5366a33bfca2128",
       "version_major": 2,
       "version_minor": 0
      },
      "text/plain": [
       "  0%|          | 0/1 [00:00<?, ?it/s]"
      ]
     },
     "metadata": {},
     "output_type": "display_data"
    },
    {
     "data": {
      "application/vnd.jupyter.widget-view+json": {
       "model_id": "fce5db56d5964aa892f95925d0e2faca",
       "version_major": 2,
       "version_minor": 0
      },
      "text/plain": [
       "  0%|          | 0/1 [00:00<?, ?it/s]"
      ]
     },
     "metadata": {},
     "output_type": "display_data"
    },
    {
     "data": {
      "application/vnd.jupyter.widget-view+json": {
       "model_id": "16ebef9588704eb5a3f9ccff2881aebe",
       "version_major": 2,
       "version_minor": 0
      },
      "text/plain": [
       "  0%|          | 0/1 [00:00<?, ?it/s]"
      ]
     },
     "metadata": {},
     "output_type": "display_data"
    },
    {
     "name": "stdout",
     "output_type": "stream",
     "text": [
      "Dieser tritt bei der Kombinationstherapie mit Ipilimumab plus Nivolumab typischerweise früher auf als unter den Monotherapien – zwischen 6 und 14 Wochen nach Therapiestart [REF].\n",
      "\n",
      "No Filter:\n"
     ]
    },
    {
     "data": {
      "text/html": [
       "<div>\n",
       "<style scoped>\n",
       "    .dataframe tbody tr th:only-of-type {\n",
       "        vertical-align: middle;\n",
       "    }\n",
       "\n",
       "    .dataframe tbody tr th {\n",
       "        vertical-align: top;\n",
       "    }\n",
       "\n",
       "    .dataframe thead th {\n",
       "        text-align: right;\n",
       "    }\n",
       "</style>\n",
       "<table border=\"1\" class=\"dataframe\">\n",
       "  <thead>\n",
       "    <tr style=\"text-align: right;\">\n",
       "      <th></th>\n",
       "      <th>document</th>\n",
       "      <th>text</th>\n",
       "      <th>type</th>\n",
       "      <th>start</th>\n",
       "      <th>end</th>\n",
       "      <th>cui</th>\n",
       "      <th>tuis</th>\n",
       "      <th>canonical</th>\n",
       "      <th>linker</th>\n",
       "      <th>confidence</th>\n",
       "    </tr>\n",
       "  </thead>\n",
       "  <tbody>\n",
       "    <tr>\n",
       "      <th>4</th>\n",
       "      <td>07_malignes-melanom_0197_15</td>\n",
       "      <td>Therapiestart</td>\n",
       "      <td>Therapeutic</td>\n",
       "      <td>158</td>\n",
       "      <td>171</td>\n",
       "      <td>C1699848</td>\n",
       "      <td>[T033]</td>\n",
       "      <td>Therapy cessation</td>\n",
       "      <td>[sapbert]</td>\n",
       "      <td>0.066351</td>\n",
       "    </tr>\n",
       "  </tbody>\n",
       "</table>\n",
       "</div>"
      ],
      "text/plain": [
       "                      document           text         type  start  end  \\\n",
       "4  07_malignes-melanom_0197_15  Therapiestart  Therapeutic    158  171   \n",
       "\n",
       "        cui    tuis          canonical     linker  confidence  \n",
       "4  C1699848  [T033]  Therapy cessation  [sapbert]    0.066351  "
      ]
     },
     "metadata": {},
     "output_type": "display_data"
    },
    {
     "name": "stdout",
     "output_type": "stream",
     "text": [
      "Filter:\n"
     ]
    },
    {
     "data": {
      "text/html": [
       "<div>\n",
       "<style scoped>\n",
       "    .dataframe tbody tr th:only-of-type {\n",
       "        vertical-align: middle;\n",
       "    }\n",
       "\n",
       "    .dataframe tbody tr th {\n",
       "        vertical-align: top;\n",
       "    }\n",
       "\n",
       "    .dataframe thead th {\n",
       "        text-align: right;\n",
       "    }\n",
       "</style>\n",
       "<table border=\"1\" class=\"dataframe\">\n",
       "  <thead>\n",
       "    <tr style=\"text-align: right;\">\n",
       "      <th></th>\n",
       "      <th>document</th>\n",
       "      <th>text</th>\n",
       "      <th>type</th>\n",
       "      <th>start</th>\n",
       "      <th>end</th>\n",
       "      <th>cui</th>\n",
       "      <th>tuis</th>\n",
       "      <th>canonical</th>\n",
       "      <th>linker</th>\n",
       "      <th>confidence</th>\n",
       "    </tr>\n",
       "  </thead>\n",
       "  <tbody>\n",
       "    <tr>\n",
       "      <th>4</th>\n",
       "      <td>07_malignes-melanom_0197_15</td>\n",
       "      <td>Therapiestart</td>\n",
       "      <td>Therapeutic</td>\n",
       "      <td>158</td>\n",
       "      <td>171</td>\n",
       "      <td>C0087111</td>\n",
       "      <td>[T061]</td>\n",
       "      <td>Therapie</td>\n",
       "      <td>[ngram]</td>\n",
       "      <td>0.066392</td>\n",
       "    </tr>\n",
       "  </tbody>\n",
       "</table>\n",
       "</div>"
      ],
      "text/plain": [
       "                      document           text         type  start  end  \\\n",
       "4  07_malignes-melanom_0197_15  Therapiestart  Therapeutic    158  171   \n",
       "\n",
       "        cui    tuis canonical   linker  confidence  \n",
       "4  C0087111  [T061]  Therapie  [ngram]    0.066392  "
      ]
     },
     "metadata": {},
     "output_type": "display_data"
    },
    {
     "name": "stdout",
     "output_type": "stream",
     "text": [
      "####\n"
     ]
    },
    {
     "data": {
      "application/vnd.jupyter.widget-view+json": {
       "model_id": "47b69742d90643fdaa2d12bee9d7f392",
       "version_major": 2,
       "version_minor": 0
      },
      "text/plain": [
       "  0%|          | 0/1 [00:00<?, ?it/s]"
      ]
     },
     "metadata": {},
     "output_type": "display_data"
    },
    {
     "data": {
      "application/vnd.jupyter.widget-view+json": {
       "model_id": "fa2318bf4b7e4f368ea466c364c3a75e",
       "version_major": 2,
       "version_minor": 0
      },
      "text/plain": [
       "  0%|          | 0/1 [00:00<?, ?it/s]"
      ]
     },
     "metadata": {},
     "output_type": "display_data"
    },
    {
     "data": {
      "application/vnd.jupyter.widget-view+json": {
       "model_id": "311b6f401eda4a64b420e45365356f72",
       "version_major": 2,
       "version_minor": 0
      },
      "text/plain": [
       "  0%|          | 0/1 [00:00<?, ?it/s]"
      ]
     },
     "metadata": {},
     "output_type": "display_data"
    },
    {
     "data": {
      "application/vnd.jupyter.widget-view+json": {
       "model_id": "f738370c72a442fa901c1c5d23945285",
       "version_major": 2,
       "version_minor": 0
      },
      "text/plain": [
       "  0%|          | 0/1 [00:00<?, ?it/s]"
      ]
     },
     "metadata": {},
     "output_type": "display_data"
    },
    {
     "data": {
      "application/vnd.jupyter.widget-view+json": {
       "model_id": "06ce63d1afb04e3582322a09b60001f6",
       "version_major": 2,
       "version_minor": 0
      },
      "text/plain": [
       "  0%|          | 0/1 [00:00<?, ?it/s]"
      ]
     },
     "metadata": {},
     "output_type": "display_data"
    },
    {
     "data": {
      "application/vnd.jupyter.widget-view+json": {
       "model_id": "1db695eac4bd44b5a7084fa475983ed8",
       "version_major": 2,
       "version_minor": 0
      },
      "text/plain": [
       "  0%|          | 0/1 [00:00<?, ?it/s]"
      ]
     },
     "metadata": {},
     "output_type": "display_data"
    },
    {
     "data": {
      "application/vnd.jupyter.widget-view+json": {
       "model_id": "50259af15b0546a981ed7a519d8b0efc",
       "version_major": 2,
       "version_minor": 0
      },
      "text/plain": [
       "  0%|          | 0/1 [00:00<?, ?it/s]"
      ]
     },
     "metadata": {},
     "output_type": "display_data"
    },
    {
     "data": {
      "application/vnd.jupyter.widget-view+json": {
       "model_id": "395b45d18df8466cbd6730fd88412021",
       "version_major": 2,
       "version_minor": 0
      },
      "text/plain": [
       "  0%|          | 0/1 [00:00<?, ?it/s]"
      ]
     },
     "metadata": {},
     "output_type": "display_data"
    },
    {
     "data": {
      "application/vnd.jupyter.widget-view+json": {
       "model_id": "af1948f56295408c9cc976d93bd9c09d",
       "version_major": 2,
       "version_minor": 0
      },
      "text/plain": [
       "  0%|          | 0/1 [00:00<?, ?it/s]"
      ]
     },
     "metadata": {},
     "output_type": "display_data"
    },
    {
     "data": {
      "application/vnd.jupyter.widget-view+json": {
       "model_id": "52157dafc4b4406899dcdd6d8477836b",
       "version_major": 2,
       "version_minor": 0
      },
      "text/plain": [
       "  0%|          | 0/1 [00:00<?, ?it/s]"
      ]
     },
     "metadata": {},
     "output_type": "display_data"
    },
    {
     "data": {
      "application/vnd.jupyter.widget-view+json": {
       "model_id": "84cc8a8fd23f40da825410530157d138",
       "version_major": 2,
       "version_minor": 0
      },
      "text/plain": [
       "  0%|          | 0/1 [00:00<?, ?it/s]"
      ]
     },
     "metadata": {},
     "output_type": "display_data"
    },
    {
     "data": {
      "application/vnd.jupyter.widget-view+json": {
       "model_id": "e1d0503b57174b6cba1265ed37fdaf8d",
       "version_major": 2,
       "version_minor": 0
      },
      "text/plain": [
       "  0%|          | 0/1 [00:00<?, ?it/s]"
      ]
     },
     "metadata": {},
     "output_type": "display_data"
    },
    {
     "data": {
      "application/vnd.jupyter.widget-view+json": {
       "model_id": "475a338c832943ada17c486af85caa58",
       "version_major": 2,
       "version_minor": 0
      },
      "text/plain": [
       "  0%|          | 0/1 [00:00<?, ?it/s]"
      ]
     },
     "metadata": {},
     "output_type": "display_data"
    },
    {
     "data": {
      "application/vnd.jupyter.widget-view+json": {
       "model_id": "f169024b2c5947729e32ec00002a464a",
       "version_major": 2,
       "version_minor": 0
      },
      "text/plain": [
       "  0%|          | 0/1 [00:00<?, ?it/s]"
      ]
     },
     "metadata": {},
     "output_type": "display_data"
    },
    {
     "data": {
      "application/vnd.jupyter.widget-view+json": {
       "model_id": "e62ce83eab0049858f3a2fa5cd9caa17",
       "version_major": 2,
       "version_minor": 0
      },
      "text/plain": [
       "  0%|          | 0/1 [00:00<?, ?it/s]"
      ]
     },
     "metadata": {},
     "output_type": "display_data"
    },
    {
     "data": {
      "application/vnd.jupyter.widget-view+json": {
       "model_id": "f386f7efb4a04d5792f10d3acc5f32da",
       "version_major": 2,
       "version_minor": 0
      },
      "text/plain": [
       "  0%|          | 0/1 [00:00<?, ?it/s]"
      ]
     },
     "metadata": {},
     "output_type": "display_data"
    },
    {
     "data": {
      "application/vnd.jupyter.widget-view+json": {
       "model_id": "0766fbb354064651bff4172e24835c98",
       "version_major": 2,
       "version_minor": 0
      },
      "text/plain": [
       "  0%|          | 0/1 [00:00<?, ?it/s]"
      ]
     },
     "metadata": {},
     "output_type": "display_data"
    },
    {
     "data": {
      "application/vnd.jupyter.widget-view+json": {
       "model_id": "922bd8fee5184ba3923a86b2681a725d",
       "version_major": 2,
       "version_minor": 0
      },
      "text/plain": [
       "  0%|          | 0/1 [00:00<?, ?it/s]"
      ]
     },
     "metadata": {},
     "output_type": "display_data"
    },
    {
     "name": "stdout",
     "output_type": "stream",
     "text": [
      "Immun-Checkpoint-Blocker induzierte Hepatitiden erfordern ein Abbrechen der Immuntherapie ab Schweregrad 3 nach CTCAE und eine Behandlung mit Kortikosteroiden und bei fehlendem Ansprechen ggf. weiteren immunsuppressiven Medikamenten wie dem Mycophenolatmofetil [REF].\n",
      "\n",
      "No Filter:\n"
     ]
    },
    {
     "data": {
      "text/html": [
       "<div>\n",
       "<style scoped>\n",
       "    .dataframe tbody tr th:only-of-type {\n",
       "        vertical-align: middle;\n",
       "    }\n",
       "\n",
       "    .dataframe tbody tr th {\n",
       "        vertical-align: top;\n",
       "    }\n",
       "\n",
       "    .dataframe thead th {\n",
       "        text-align: right;\n",
       "    }\n",
       "</style>\n",
       "<table border=\"1\" class=\"dataframe\">\n",
       "  <thead>\n",
       "    <tr style=\"text-align: right;\">\n",
       "      <th></th>\n",
       "      <th>document</th>\n",
       "      <th>text</th>\n",
       "      <th>type</th>\n",
       "      <th>start</th>\n",
       "      <th>end</th>\n",
       "      <th>cui</th>\n",
       "      <th>tuis</th>\n",
       "      <th>canonical</th>\n",
       "      <th>linker</th>\n",
       "      <th>confidence</th>\n",
       "    </tr>\n",
       "  </thead>\n",
       "  <tbody>\n",
       "    <tr>\n",
       "      <th>3</th>\n",
       "      <td>07_malignes-melanom_0197_24</td>\n",
       "      <td>CTCAE</td>\n",
       "      <td>Diagnostic</td>\n",
       "      <td>112</td>\n",
       "      <td>117</td>\n",
       "      <td>C5670031</td>\n",
       "      <td>[T170]</td>\n",
       "      <td>CTCAE Version</td>\n",
       "      <td>[ngram, sapbert]</td>\n",
       "      <td>0.066386</td>\n",
       "    </tr>\n",
       "  </tbody>\n",
       "</table>\n",
       "</div>"
      ],
      "text/plain": [
       "                      document   text        type  start  end       cui  \\\n",
       "3  07_malignes-melanom_0197_24  CTCAE  Diagnostic    112  117  C5670031   \n",
       "\n",
       "     tuis      canonical            linker  confidence  \n",
       "3  [T170]  CTCAE Version  [ngram, sapbert]    0.066386  "
      ]
     },
     "metadata": {},
     "output_type": "display_data"
    },
    {
     "name": "stdout",
     "output_type": "stream",
     "text": [
      "Filter:\n"
     ]
    },
    {
     "data": {
      "text/html": [
       "<div>\n",
       "<style scoped>\n",
       "    .dataframe tbody tr th:only-of-type {\n",
       "        vertical-align: middle;\n",
       "    }\n",
       "\n",
       "    .dataframe tbody tr th {\n",
       "        vertical-align: top;\n",
       "    }\n",
       "\n",
       "    .dataframe thead th {\n",
       "        text-align: right;\n",
       "    }\n",
       "</style>\n",
       "<table border=\"1\" class=\"dataframe\">\n",
       "  <thead>\n",
       "    <tr style=\"text-align: right;\">\n",
       "      <th></th>\n",
       "      <th>document</th>\n",
       "      <th>text</th>\n",
       "      <th>type</th>\n",
       "      <th>start</th>\n",
       "      <th>end</th>\n",
       "      <th>cui</th>\n",
       "      <th>tuis</th>\n",
       "      <th>canonical</th>\n",
       "      <th>linker</th>\n",
       "      <th>confidence</th>\n",
       "    </tr>\n",
       "  </thead>\n",
       "  <tbody>\n",
       "    <tr>\n",
       "      <th>3</th>\n",
       "      <td>07_malignes-melanom_0197_24</td>\n",
       "      <td>CTCAE</td>\n",
       "      <td>Diagnostic</td>\n",
       "      <td>112</td>\n",
       "      <td>117</td>\n",
       "      <td>C1516728</td>\n",
       "      <td>[T170]</td>\n",
       "      <td>National Cancer Institute common terminology c...</td>\n",
       "      <td>[ngram, sapbert]</td>\n",
       "      <td>0.068705</td>\n",
       "    </tr>\n",
       "  </tbody>\n",
       "</table>\n",
       "</div>"
      ],
      "text/plain": [
       "                      document   text        type  start  end       cui  \\\n",
       "3  07_malignes-melanom_0197_24  CTCAE  Diagnostic    112  117  C1516728   \n",
       "\n",
       "     tuis                                          canonical  \\\n",
       "3  [T170]  National Cancer Institute common terminology c...   \n",
       "\n",
       "             linker  confidence  \n",
       "3  [ngram, sapbert]    0.068705  "
      ]
     },
     "metadata": {},
     "output_type": "display_data"
    },
    {
     "name": "stdout",
     "output_type": "stream",
     "text": [
      "####\n"
     ]
    },
    {
     "data": {
      "application/vnd.jupyter.widget-view+json": {
       "model_id": "8b8e36e4fce048c9b29378a749fbed62",
       "version_major": 2,
       "version_minor": 0
      },
      "text/plain": [
       "  0%|          | 0/1 [00:00<?, ?it/s]"
      ]
     },
     "metadata": {},
     "output_type": "display_data"
    },
    {
     "data": {
      "application/vnd.jupyter.widget-view+json": {
       "model_id": "485d046054194c0cb69775425c4e61ed",
       "version_major": 2,
       "version_minor": 0
      },
      "text/plain": [
       "  0%|          | 0/1 [00:00<?, ?it/s]"
      ]
     },
     "metadata": {},
     "output_type": "display_data"
    },
    {
     "data": {
      "application/vnd.jupyter.widget-view+json": {
       "model_id": "5ae097e81f0d4cd88c93bbcc1c8c5b21",
       "version_major": 2,
       "version_minor": 0
      },
      "text/plain": [
       "  0%|          | 0/1 [00:00<?, ?it/s]"
      ]
     },
     "metadata": {},
     "output_type": "display_data"
    },
    {
     "data": {
      "application/vnd.jupyter.widget-view+json": {
       "model_id": "71951ed7b7d048a699287dffed460be8",
       "version_major": 2,
       "version_minor": 0
      },
      "text/plain": [
       "  0%|          | 0/1 [00:00<?, ?it/s]"
      ]
     },
     "metadata": {},
     "output_type": "display_data"
    },
    {
     "data": {
      "application/vnd.jupyter.widget-view+json": {
       "model_id": "419791b7292546c6ad9a5c8c98c62704",
       "version_major": 2,
       "version_minor": 0
      },
      "text/plain": [
       "  0%|          | 0/1 [00:00<?, ?it/s]"
      ]
     },
     "metadata": {},
     "output_type": "display_data"
    },
    {
     "data": {
      "application/vnd.jupyter.widget-view+json": {
       "model_id": "e8633593e09142b8a170b7ddc5d635df",
       "version_major": 2,
       "version_minor": 0
      },
      "text/plain": [
       "  0%|          | 0/1 [00:00<?, ?it/s]"
      ]
     },
     "metadata": {},
     "output_type": "display_data"
    },
    {
     "data": {
      "application/vnd.jupyter.widget-view+json": {
       "model_id": "f6144caa9f0e4c648565d9ca7369b0a2",
       "version_major": 2,
       "version_minor": 0
      },
      "text/plain": [
       "  0%|          | 0/1 [00:00<?, ?it/s]"
      ]
     },
     "metadata": {},
     "output_type": "display_data"
    },
    {
     "data": {
      "application/vnd.jupyter.widget-view+json": {
       "model_id": "f7566ef8aff24f46801e500ea4612c40",
       "version_major": 2,
       "version_minor": 0
      },
      "text/plain": [
       "  0%|          | 0/1 [00:00<?, ?it/s]"
      ]
     },
     "metadata": {},
     "output_type": "display_data"
    },
    {
     "name": "stdout",
     "output_type": "stream",
     "text": [
      "Kardiale Nebenwirkungen sind ein seltenes, aber gravierendes Problem unter medikamentösen Tumortherapien.\n",
      "\n",
      "No Filter:\n"
     ]
    },
    {
     "data": {
      "text/html": [
       "<div>\n",
       "<style scoped>\n",
       "    .dataframe tbody tr th:only-of-type {\n",
       "        vertical-align: middle;\n",
       "    }\n",
       "\n",
       "    .dataframe tbody tr th {\n",
       "        vertical-align: top;\n",
       "    }\n",
       "\n",
       "    .dataframe thead th {\n",
       "        text-align: right;\n",
       "    }\n",
       "</style>\n",
       "<table border=\"1\" class=\"dataframe\">\n",
       "  <thead>\n",
       "    <tr style=\"text-align: right;\">\n",
       "      <th></th>\n",
       "      <th>document</th>\n",
       "      <th>text</th>\n",
       "      <th>type</th>\n",
       "      <th>start</th>\n",
       "      <th>end</th>\n",
       "      <th>cui</th>\n",
       "      <th>tuis</th>\n",
       "      <th>canonical</th>\n",
       "      <th>linker</th>\n",
       "      <th>confidence</th>\n",
       "    </tr>\n",
       "  </thead>\n",
       "  <tbody>\n",
       "    <tr>\n",
       "      <th>3</th>\n",
       "      <td>07_malignes-melanom_0207_2</td>\n",
       "      <td>medikamentösen Tumortherapien</td>\n",
       "      <td>Therapeutic</td>\n",
       "      <td>75</td>\n",
       "      <td>104</td>\n",
       "      <td>C0854654</td>\n",
       "      <td>[T061]</td>\n",
       "      <td>Tumour vaccine therapy</td>\n",
       "      <td>[ngram, sapbert]</td>\n",
       "      <td>0.068054</td>\n",
       "    </tr>\n",
       "  </tbody>\n",
       "</table>\n",
       "</div>"
      ],
      "text/plain": [
       "                     document                           text         type  \\\n",
       "3  07_malignes-melanom_0207_2  medikamentösen Tumortherapien  Therapeutic   \n",
       "\n",
       "   start  end       cui    tuis               canonical            linker  \\\n",
       "3     75  104  C0854654  [T061]  Tumour vaccine therapy  [ngram, sapbert]   \n",
       "\n",
       "   confidence  \n",
       "3    0.068054  "
      ]
     },
     "metadata": {},
     "output_type": "display_data"
    },
    {
     "name": "stdout",
     "output_type": "stream",
     "text": [
      "Filter:\n"
     ]
    },
    {
     "data": {
      "text/html": [
       "<div>\n",
       "<style scoped>\n",
       "    .dataframe tbody tr th:only-of-type {\n",
       "        vertical-align: middle;\n",
       "    }\n",
       "\n",
       "    .dataframe tbody tr th {\n",
       "        vertical-align: top;\n",
       "    }\n",
       "\n",
       "    .dataframe thead th {\n",
       "        text-align: right;\n",
       "    }\n",
       "</style>\n",
       "<table border=\"1\" class=\"dataframe\">\n",
       "  <thead>\n",
       "    <tr style=\"text-align: right;\">\n",
       "      <th></th>\n",
       "      <th>document</th>\n",
       "      <th>text</th>\n",
       "      <th>type</th>\n",
       "      <th>start</th>\n",
       "      <th>end</th>\n",
       "      <th>cui</th>\n",
       "      <th>tuis</th>\n",
       "      <th>canonical</th>\n",
       "      <th>linker</th>\n",
       "      <th>confidence</th>\n",
       "    </tr>\n",
       "  </thead>\n",
       "  <tbody>\n",
       "    <tr>\n",
       "      <th>3</th>\n",
       "      <td>07_malignes-melanom_0207_2</td>\n",
       "      <td>medikamentösen Tumortherapien</td>\n",
       "      <td>Therapeutic</td>\n",
       "      <td>75</td>\n",
       "      <td>104</td>\n",
       "      <td>C0013216</td>\n",
       "      <td>[T061]</td>\n",
       "      <td>Arzneimitteltherapie</td>\n",
       "      <td>[ngram, sapbert]</td>\n",
       "      <td>0.07054</td>\n",
       "    </tr>\n",
       "  </tbody>\n",
       "</table>\n",
       "</div>"
      ],
      "text/plain": [
       "                     document                           text         type  \\\n",
       "3  07_malignes-melanom_0207_2  medikamentösen Tumortherapien  Therapeutic   \n",
       "\n",
       "   start  end       cui    tuis             canonical            linker  \\\n",
       "3     75  104  C0013216  [T061]  Arzneimitteltherapie  [ngram, sapbert]   \n",
       "\n",
       "   confidence  \n",
       "3     0.07054  "
      ]
     },
     "metadata": {},
     "output_type": "display_data"
    },
    {
     "name": "stdout",
     "output_type": "stream",
     "text": [
      "####\n"
     ]
    },
    {
     "data": {
      "application/vnd.jupyter.widget-view+json": {
       "model_id": "a5458f57121f4bc1a9ee53d95b99b751",
       "version_major": 2,
       "version_minor": 0
      },
      "text/plain": [
       "  0%|          | 0/1 [00:00<?, ?it/s]"
      ]
     },
     "metadata": {},
     "output_type": "display_data"
    },
    {
     "data": {
      "application/vnd.jupyter.widget-view+json": {
       "model_id": "067b510ce5ac4372bce45c232e981c23",
       "version_major": 2,
       "version_minor": 0
      },
      "text/plain": [
       "  0%|          | 0/1 [00:00<?, ?it/s]"
      ]
     },
     "metadata": {},
     "output_type": "display_data"
    },
    {
     "name": "stdout",
     "output_type": "stream",
     "text": [
      "Sie treten unter zielgerichteten und Immuntherapien auf und unterscheiden sich in Ihrem Spektrum und Ihrer Therapiebedürftigkeit.\n",
      "\n",
      "No Filter:\n"
     ]
    },
    {
     "data": {
      "text/html": [
       "<div>\n",
       "<style scoped>\n",
       "    .dataframe tbody tr th:only-of-type {\n",
       "        vertical-align: middle;\n",
       "    }\n",
       "\n",
       "    .dataframe tbody tr th {\n",
       "        vertical-align: top;\n",
       "    }\n",
       "\n",
       "    .dataframe thead th {\n",
       "        text-align: right;\n",
       "    }\n",
       "</style>\n",
       "<table border=\"1\" class=\"dataframe\">\n",
       "  <thead>\n",
       "    <tr style=\"text-align: right;\">\n",
       "      <th></th>\n",
       "      <th>document</th>\n",
       "      <th>text</th>\n",
       "      <th>type</th>\n",
       "      <th>start</th>\n",
       "      <th>end</th>\n",
       "      <th>cui</th>\n",
       "      <th>tuis</th>\n",
       "      <th>canonical</th>\n",
       "      <th>linker</th>\n",
       "      <th>confidence</th>\n",
       "    </tr>\n",
       "  </thead>\n",
       "  <tbody>\n",
       "    <tr>\n",
       "      <th>0</th>\n",
       "      <td>07_malignes-melanom_0207_3</td>\n",
       "      <td>zielgerichteten</td>\n",
       "      <td>Therapeutic</td>\n",
       "      <td>17</td>\n",
       "      <td>32</td>\n",
       "      <td>C0599894</td>\n",
       "      <td>[T043]</td>\n",
       "      <td>Targeted</td>\n",
       "      <td>[sapbert]</td>\n",
       "      <td>0.065313</td>\n",
       "    </tr>\n",
       "  </tbody>\n",
       "</table>\n",
       "</div>"
      ],
      "text/plain": [
       "                     document             text         type  start  end  \\\n",
       "0  07_malignes-melanom_0207_3  zielgerichteten  Therapeutic     17   32   \n",
       "\n",
       "        cui    tuis canonical     linker  confidence  \n",
       "0  C0599894  [T043]  Targeted  [sapbert]    0.065313  "
      ]
     },
     "metadata": {},
     "output_type": "display_data"
    },
    {
     "name": "stdout",
     "output_type": "stream",
     "text": [
      "Filter:\n"
     ]
    },
    {
     "data": {
      "text/html": [
       "<div>\n",
       "<style scoped>\n",
       "    .dataframe tbody tr th:only-of-type {\n",
       "        vertical-align: middle;\n",
       "    }\n",
       "\n",
       "    .dataframe tbody tr th {\n",
       "        vertical-align: top;\n",
       "    }\n",
       "\n",
       "    .dataframe thead th {\n",
       "        text-align: right;\n",
       "    }\n",
       "</style>\n",
       "<table border=\"1\" class=\"dataframe\">\n",
       "  <thead>\n",
       "    <tr style=\"text-align: right;\">\n",
       "      <th></th>\n",
       "      <th>document</th>\n",
       "      <th>text</th>\n",
       "      <th>type</th>\n",
       "      <th>start</th>\n",
       "      <th>end</th>\n",
       "      <th>cui</th>\n",
       "      <th>tuis</th>\n",
       "      <th>canonical</th>\n",
       "      <th>linker</th>\n",
       "      <th>confidence</th>\n",
       "    </tr>\n",
       "  </thead>\n",
       "  <tbody>\n",
       "    <tr>\n",
       "      <th>0</th>\n",
       "      <td>07_malignes-melanom_0207_3</td>\n",
       "      <td>zielgerichteten</td>\n",
       "      <td>Therapeutic</td>\n",
       "      <td>17</td>\n",
       "      <td>32</td>\n",
       "      <td>C2699893</td>\n",
       "      <td>[T061]</td>\n",
       "      <td>Molecular Targeted Therapy</td>\n",
       "      <td>[ngram]</td>\n",
       "      <td>0.070853</td>\n",
       "    </tr>\n",
       "  </tbody>\n",
       "</table>\n",
       "</div>"
      ],
      "text/plain": [
       "                     document             text         type  start  end  \\\n",
       "0  07_malignes-melanom_0207_3  zielgerichteten  Therapeutic     17   32   \n",
       "\n",
       "        cui    tuis                   canonical   linker  confidence  \n",
       "0  C2699893  [T061]  Molecular Targeted Therapy  [ngram]    0.070853  "
      ]
     },
     "metadata": {},
     "output_type": "display_data"
    },
    {
     "name": "stdout",
     "output_type": "stream",
     "text": [
      "####\n"
     ]
    },
    {
     "data": {
      "application/vnd.jupyter.widget-view+json": {
       "model_id": "06e2e80ff4604009bda15d0eebc92dd1",
       "version_major": 2,
       "version_minor": 0
      },
      "text/plain": [
       "  0%|          | 0/1 [00:00<?, ?it/s]"
      ]
     },
     "metadata": {},
     "output_type": "display_data"
    },
    {
     "data": {
      "application/vnd.jupyter.widget-view+json": {
       "model_id": "1cee83a18e56447eb1a1946383db569c",
       "version_major": 2,
       "version_minor": 0
      },
      "text/plain": [
       "  0%|          | 0/1 [00:00<?, ?it/s]"
      ]
     },
     "metadata": {},
     "output_type": "display_data"
    },
    {
     "data": {
      "application/vnd.jupyter.widget-view+json": {
       "model_id": "2c8241bfe1724c5289fb1e12f181a866",
       "version_major": 2,
       "version_minor": 0
      },
      "text/plain": [
       "  0%|          | 0/1 [00:00<?, ?it/s]"
      ]
     },
     "metadata": {},
     "output_type": "display_data"
    },
    {
     "data": {
      "application/vnd.jupyter.widget-view+json": {
       "model_id": "9c49ed30e882495a96c402f14c6b04f5",
       "version_major": 2,
       "version_minor": 0
      },
      "text/plain": [
       "  0%|          | 0/1 [00:00<?, ?it/s]"
      ]
     },
     "metadata": {},
     "output_type": "display_data"
    },
    {
     "data": {
      "application/vnd.jupyter.widget-view+json": {
       "model_id": "928b9032d21e45e29ea7670f08c08408",
       "version_major": 2,
       "version_minor": 0
      },
      "text/plain": [
       "  0%|          | 0/1 [00:00<?, ?it/s]"
      ]
     },
     "metadata": {},
     "output_type": "display_data"
    },
    {
     "data": {
      "application/vnd.jupyter.widget-view+json": {
       "model_id": "7d9ccede207d495fa97b5c300b189e0f",
       "version_major": 2,
       "version_minor": 0
      },
      "text/plain": [
       "  0%|          | 0/1 [00:00<?, ?it/s]"
      ]
     },
     "metadata": {},
     "output_type": "display_data"
    },
    {
     "data": {
      "application/vnd.jupyter.widget-view+json": {
       "model_id": "4f3a0329fa994dca928526309f94684f",
       "version_major": 2,
       "version_minor": 0
      },
      "text/plain": [
       "  0%|          | 0/1 [00:00<?, ?it/s]"
      ]
     },
     "metadata": {},
     "output_type": "display_data"
    },
    {
     "data": {
      "application/vnd.jupyter.widget-view+json": {
       "model_id": "e094f2c40cd34b5bbfccd9fbd9e19cf6",
       "version_major": 2,
       "version_minor": 0
      },
      "text/plain": [
       "  0%|          | 0/1 [00:00<?, ?it/s]"
      ]
     },
     "metadata": {},
     "output_type": "display_data"
    },
    {
     "data": {
      "application/vnd.jupyter.widget-view+json": {
       "model_id": "3add143841ca4c1089aea71d1969d4bd",
       "version_major": 2,
       "version_minor": 0
      },
      "text/plain": [
       "  0%|          | 0/1 [00:00<?, ?it/s]"
      ]
     },
     "metadata": {},
     "output_type": "display_data"
    },
    {
     "data": {
      "application/vnd.jupyter.widget-view+json": {
       "model_id": "a1282d2a846e43daa5823a0f79921ded",
       "version_major": 2,
       "version_minor": 0
      },
      "text/plain": [
       "  0%|          | 0/1 [00:00<?, ?it/s]"
      ]
     },
     "metadata": {},
     "output_type": "display_data"
    },
    {
     "data": {
      "application/vnd.jupyter.widget-view+json": {
       "model_id": "b5c5ed9f1eb74fd3a3d9246dc78b0b3a",
       "version_major": 2,
       "version_minor": 0
      },
      "text/plain": [
       "  0%|          | 0/1 [00:00<?, ?it/s]"
      ]
     },
     "metadata": {},
     "output_type": "display_data"
    },
    {
     "data": {
      "application/vnd.jupyter.widget-view+json": {
       "model_id": "87a7e442f80e42869d6ca7e76886ec46",
       "version_major": 2,
       "version_minor": 0
      },
      "text/plain": [
       "  0%|          | 0/1 [00:00<?, ?it/s]"
      ]
     },
     "metadata": {},
     "output_type": "display_data"
    },
    {
     "data": {
      "application/vnd.jupyter.widget-view+json": {
       "model_id": "e5137454065c4fec95e9ca20a6122827",
       "version_major": 2,
       "version_minor": 0
      },
      "text/plain": [
       "  0%|          | 0/1 [00:00<?, ?it/s]"
      ]
     },
     "metadata": {},
     "output_type": "display_data"
    },
    {
     "data": {
      "application/vnd.jupyter.widget-view+json": {
       "model_id": "8467825224bd4ff8aedcc800f48f11d0",
       "version_major": 2,
       "version_minor": 0
      },
      "text/plain": [
       "  0%|          | 0/1 [00:00<?, ?it/s]"
      ]
     },
     "metadata": {},
     "output_type": "display_data"
    },
    {
     "data": {
      "application/vnd.jupyter.widget-view+json": {
       "model_id": "8d26f993dbb14bdc822ebb381dc18185",
       "version_major": 2,
       "version_minor": 0
      },
      "text/plain": [
       "  0%|          | 0/1 [00:00<?, ?it/s]"
      ]
     },
     "metadata": {},
     "output_type": "display_data"
    },
    {
     "data": {
      "application/vnd.jupyter.widget-view+json": {
       "model_id": "e9cd677905834aa7801f892f0c10ad56",
       "version_major": 2,
       "version_minor": 0
      },
      "text/plain": [
       "  0%|          | 0/1 [00:00<?, ?it/s]"
      ]
     },
     "metadata": {},
     "output_type": "display_data"
    },
    {
     "data": {
      "application/vnd.jupyter.widget-view+json": {
       "model_id": "fe0a3971073f48bdaa30b08161eef81d",
       "version_major": 2,
       "version_minor": 0
      },
      "text/plain": [
       "  0%|          | 0/1 [00:00<?, ?it/s]"
      ]
     },
     "metadata": {},
     "output_type": "display_data"
    },
    {
     "data": {
      "application/vnd.jupyter.widget-view+json": {
       "model_id": "1433e4a420b84ac9bdef5d36fd813f1a",
       "version_major": 2,
       "version_minor": 0
      },
      "text/plain": [
       "  0%|          | 0/1 [00:00<?, ?it/s]"
      ]
     },
     "metadata": {},
     "output_type": "display_data"
    },
    {
     "data": {
      "application/vnd.jupyter.widget-view+json": {
       "model_id": "ffd3ffad44764aa2ad40811a2369b4cb",
       "version_major": 2,
       "version_minor": 0
      },
      "text/plain": [
       "  0%|          | 0/1 [00:00<?, ?it/s]"
      ]
     },
     "metadata": {},
     "output_type": "display_data"
    },
    {
     "data": {
      "application/vnd.jupyter.widget-view+json": {
       "model_id": "a8cb20dc6d7e41548069cde1d10ae2e6",
       "version_major": 2,
       "version_minor": 0
      },
      "text/plain": [
       "  0%|          | 0/1 [00:00<?, ?it/s]"
      ]
     },
     "metadata": {},
     "output_type": "display_data"
    },
    {
     "data": {
      "application/vnd.jupyter.widget-view+json": {
       "model_id": "eb1742832af940809c9f56d09c5bdf03",
       "version_major": 2,
       "version_minor": 0
      },
      "text/plain": [
       "  0%|          | 0/1 [00:00<?, ?it/s]"
      ]
     },
     "metadata": {},
     "output_type": "display_data"
    },
    {
     "data": {
      "application/vnd.jupyter.widget-view+json": {
       "model_id": "13e3f948eec04cefbb6d29bcbf2557c9",
       "version_major": 2,
       "version_minor": 0
      },
      "text/plain": [
       "  0%|          | 0/1 [00:00<?, ?it/s]"
      ]
     },
     "metadata": {},
     "output_type": "display_data"
    },
    {
     "data": {
      "application/vnd.jupyter.widget-view+json": {
       "model_id": "df377ff9a931444796440f335a3eed18",
       "version_major": 2,
       "version_minor": 0
      },
      "text/plain": [
       "  0%|          | 0/1 [00:00<?, ?it/s]"
      ]
     },
     "metadata": {},
     "output_type": "display_data"
    },
    {
     "data": {
      "application/vnd.jupyter.widget-view+json": {
       "model_id": "d2897ff76c414c0a8e0304485b56ca03",
       "version_major": 2,
       "version_minor": 0
      },
      "text/plain": [
       "  0%|          | 0/1 [00:00<?, ?it/s]"
      ]
     },
     "metadata": {},
     "output_type": "display_data"
    },
    {
     "data": {
      "application/vnd.jupyter.widget-view+json": {
       "model_id": "7dcb35552d3c470a8883f376c723ebe0",
       "version_major": 2,
       "version_minor": 0
      },
      "text/plain": [
       "  0%|          | 0/1 [00:00<?, ?it/s]"
      ]
     },
     "metadata": {},
     "output_type": "display_data"
    },
    {
     "data": {
      "application/vnd.jupyter.widget-view+json": {
       "model_id": "fb1cd59285264fb094b9613db0c9d49e",
       "version_major": 2,
       "version_minor": 0
      },
      "text/plain": [
       "  0%|          | 0/1 [00:00<?, ?it/s]"
      ]
     },
     "metadata": {},
     "output_type": "display_data"
    },
    {
     "data": {
      "application/vnd.jupyter.widget-view+json": {
       "model_id": "f05c2c4894634a66b9330c9764cff1dc",
       "version_major": 2,
       "version_minor": 0
      },
      "text/plain": [
       "  0%|          | 0/1 [00:00<?, ?it/s]"
      ]
     },
     "metadata": {},
     "output_type": "display_data"
    },
    {
     "data": {
      "application/vnd.jupyter.widget-view+json": {
       "model_id": "f0c04c3fd58e43b5a02098d4a8223651",
       "version_major": 2,
       "version_minor": 0
      },
      "text/plain": [
       "  0%|          | 0/1 [00:00<?, ?it/s]"
      ]
     },
     "metadata": {},
     "output_type": "display_data"
    },
    {
     "data": {
      "application/vnd.jupyter.widget-view+json": {
       "model_id": "6bc2fbace0e24e5a92092b21c5e63de7",
       "version_major": 2,
       "version_minor": 0
      },
      "text/plain": [
       "  0%|          | 0/1 [00:00<?, ?it/s]"
      ]
     },
     "metadata": {},
     "output_type": "display_data"
    },
    {
     "data": {
      "application/vnd.jupyter.widget-view+json": {
       "model_id": "40b97e21247f43eaa4ab8d77a5d0fc41",
       "version_major": 2,
       "version_minor": 0
      },
      "text/plain": [
       "  0%|          | 0/1 [00:00<?, ?it/s]"
      ]
     },
     "metadata": {},
     "output_type": "display_data"
    },
    {
     "data": {
      "application/vnd.jupyter.widget-view+json": {
       "model_id": "54fbe4738a174b8daec46801dd73ef8b",
       "version_major": 2,
       "version_minor": 0
      },
      "text/plain": [
       "  0%|          | 0/1 [00:00<?, ?it/s]"
      ]
     },
     "metadata": {},
     "output_type": "display_data"
    },
    {
     "data": {
      "application/vnd.jupyter.widget-view+json": {
       "model_id": "7303f0f2081c4dc7846b60d256a0b9da",
       "version_major": 2,
       "version_minor": 0
      },
      "text/plain": [
       "  0%|          | 0/1 [00:00<?, ?it/s]"
      ]
     },
     "metadata": {},
     "output_type": "display_data"
    },
    {
     "data": {
      "application/vnd.jupyter.widget-view+json": {
       "model_id": "847f161721d540fe9cbfe167031e7f4a",
       "version_major": 2,
       "version_minor": 0
      },
      "text/plain": [
       "  0%|          | 0/1 [00:00<?, ?it/s]"
      ]
     },
     "metadata": {},
     "output_type": "display_data"
    },
    {
     "data": {
      "application/vnd.jupyter.widget-view+json": {
       "model_id": "7bed9f1ee9334c4995b8ed0714aa390b",
       "version_major": 2,
       "version_minor": 0
      },
      "text/plain": [
       "  0%|          | 0/1 [00:00<?, ?it/s]"
      ]
     },
     "metadata": {},
     "output_type": "display_data"
    },
    {
     "data": {
      "application/vnd.jupyter.widget-view+json": {
       "model_id": "7528fcb481934cd3956b9ef3f6918532",
       "version_major": 2,
       "version_minor": 0
      },
      "text/plain": [
       "  0%|          | 0/1 [00:00<?, ?it/s]"
      ]
     },
     "metadata": {},
     "output_type": "display_data"
    },
    {
     "data": {
      "application/vnd.jupyter.widget-view+json": {
       "model_id": "eeda881331674679a28ab8e48adb8272",
       "version_major": 2,
       "version_minor": 0
      },
      "text/plain": [
       "  0%|          | 0/1 [00:00<?, ?it/s]"
      ]
     },
     "metadata": {},
     "output_type": "display_data"
    },
    {
     "data": {
      "application/vnd.jupyter.widget-view+json": {
       "model_id": "cfa792468f6c44479bdf481600a95ea1",
       "version_major": 2,
       "version_minor": 0
      },
      "text/plain": [
       "  0%|          | 0/1 [00:00<?, ?it/s]"
      ]
     },
     "metadata": {},
     "output_type": "display_data"
    },
    {
     "data": {
      "application/vnd.jupyter.widget-view+json": {
       "model_id": "31b7ee7122294bdd825c8eb23a4adabd",
       "version_major": 2,
       "version_minor": 0
      },
      "text/plain": [
       "  0%|          | 0/1 [00:00<?, ?it/s]"
      ]
     },
     "metadata": {},
     "output_type": "display_data"
    },
    {
     "data": {
      "application/vnd.jupyter.widget-view+json": {
       "model_id": "21ffec658a5249f5ac926b1d26130b3d",
       "version_major": 2,
       "version_minor": 0
      },
      "text/plain": [
       "  0%|          | 0/1 [00:00<?, ?it/s]"
      ]
     },
     "metadata": {},
     "output_type": "display_data"
    },
    {
     "data": {
      "application/vnd.jupyter.widget-view+json": {
       "model_id": "de669c23556d45319a150d6fb73b5d7f",
       "version_major": 2,
       "version_minor": 0
      },
      "text/plain": [
       "  0%|          | 0/1 [00:00<?, ?it/s]"
      ]
     },
     "metadata": {},
     "output_type": "display_data"
    },
    {
     "data": {
      "application/vnd.jupyter.widget-view+json": {
       "model_id": "da41b27b441c4219a80db8393e3282f3",
       "version_major": 2,
       "version_minor": 0
      },
      "text/plain": [
       "  0%|          | 0/1 [00:00<?, ?it/s]"
      ]
     },
     "metadata": {},
     "output_type": "display_data"
    },
    {
     "data": {
      "application/vnd.jupyter.widget-view+json": {
       "model_id": "0c18979c1a7241beaa1a48e3e3b27e7d",
       "version_major": 2,
       "version_minor": 0
      },
      "text/plain": [
       "  0%|          | 0/1 [00:00<?, ?it/s]"
      ]
     },
     "metadata": {},
     "output_type": "display_data"
    },
    {
     "data": {
      "application/vnd.jupyter.widget-view+json": {
       "model_id": "1d1398f354e04c8dbeaee824df4bc73c",
       "version_major": 2,
       "version_minor": 0
      },
      "text/plain": [
       "  0%|          | 0/1 [00:00<?, ?it/s]"
      ]
     },
     "metadata": {},
     "output_type": "display_data"
    },
    {
     "data": {
      "application/vnd.jupyter.widget-view+json": {
       "model_id": "5a769a0c058a45a385b6fd23cc69730f",
       "version_major": 2,
       "version_minor": 0
      },
      "text/plain": [
       "  0%|          | 0/1 [00:00<?, ?it/s]"
      ]
     },
     "metadata": {},
     "output_type": "display_data"
    },
    {
     "data": {
      "application/vnd.jupyter.widget-view+json": {
       "model_id": "fcae0ba54b3246b1a4cf2bd8c31f7f6d",
       "version_major": 2,
       "version_minor": 0
      },
      "text/plain": [
       "  0%|          | 0/1 [00:00<?, ?it/s]"
      ]
     },
     "metadata": {},
     "output_type": "display_data"
    },
    {
     "data": {
      "application/vnd.jupyter.widget-view+json": {
       "model_id": "f2f7cca95d944b57bd860b8f79f8fcf0",
       "version_major": 2,
       "version_minor": 0
      },
      "text/plain": [
       "  0%|          | 0/1 [00:00<?, ?it/s]"
      ]
     },
     "metadata": {},
     "output_type": "display_data"
    },
    {
     "data": {
      "application/vnd.jupyter.widget-view+json": {
       "model_id": "ed2b32e4a4694467a249fc1a612c9d87",
       "version_major": 2,
       "version_minor": 0
      },
      "text/plain": [
       "  0%|          | 0/1 [00:00<?, ?it/s]"
      ]
     },
     "metadata": {},
     "output_type": "display_data"
    },
    {
     "data": {
      "application/vnd.jupyter.widget-view+json": {
       "model_id": "8ddd9428f7754b7a83930a537a9228be",
       "version_major": 2,
       "version_minor": 0
      },
      "text/plain": [
       "  0%|          | 0/1 [00:00<?, ?it/s]"
      ]
     },
     "metadata": {},
     "output_type": "display_data"
    },
    {
     "data": {
      "application/vnd.jupyter.widget-view+json": {
       "model_id": "de180ab65ed44b609bfc3a5b8d63280c",
       "version_major": 2,
       "version_minor": 0
      },
      "text/plain": [
       "  0%|          | 0/1 [00:00<?, ?it/s]"
      ]
     },
     "metadata": {},
     "output_type": "display_data"
    },
    {
     "data": {
      "application/vnd.jupyter.widget-view+json": {
       "model_id": "184f1bb7dd3b426a840c3255ddd9bdb7",
       "version_major": 2,
       "version_minor": 0
      },
      "text/plain": [
       "  0%|          | 0/1 [00:00<?, ?it/s]"
      ]
     },
     "metadata": {},
     "output_type": "display_data"
    },
    {
     "data": {
      "application/vnd.jupyter.widget-view+json": {
       "model_id": "fc19b8fc3f9a4b0e9829b525c143cfa9",
       "version_major": 2,
       "version_minor": 0
      },
      "text/plain": [
       "  0%|          | 0/1 [00:00<?, ?it/s]"
      ]
     },
     "metadata": {},
     "output_type": "display_data"
    },
    {
     "data": {
      "application/vnd.jupyter.widget-view+json": {
       "model_id": "7a40a625619a47d19b346eb6a430e2f8",
       "version_major": 2,
       "version_minor": 0
      },
      "text/plain": [
       "  0%|          | 0/1 [00:00<?, ?it/s]"
      ]
     },
     "metadata": {},
     "output_type": "display_data"
    },
    {
     "name": "stdout",
     "output_type": "stream",
     "text": [
      "Unter der Immuntherapie können lebensgefährliche kardiale Nebenwirkungen auftreten, die ein schnelles konsequentes Vorgehen inklusive symptomatischer medizinischer Intervention ggf. auf der Intensivstation erfordern können [REF].\n",
      "\n",
      "No Filter:\n"
     ]
    },
    {
     "data": {
      "text/html": [
       "<div>\n",
       "<style scoped>\n",
       "    .dataframe tbody tr th:only-of-type {\n",
       "        vertical-align: middle;\n",
       "    }\n",
       "\n",
       "    .dataframe tbody tr th {\n",
       "        vertical-align: top;\n",
       "    }\n",
       "\n",
       "    .dataframe thead th {\n",
       "        text-align: right;\n",
       "    }\n",
       "</style>\n",
       "<table border=\"1\" class=\"dataframe\">\n",
       "  <thead>\n",
       "    <tr style=\"text-align: right;\">\n",
       "      <th></th>\n",
       "      <th>document</th>\n",
       "      <th>text</th>\n",
       "      <th>type</th>\n",
       "      <th>start</th>\n",
       "      <th>end</th>\n",
       "      <th>cui</th>\n",
       "      <th>tuis</th>\n",
       "      <th>canonical</th>\n",
       "      <th>linker</th>\n",
       "      <th>confidence</th>\n",
       "    </tr>\n",
       "  </thead>\n",
       "  <tbody>\n",
       "    <tr>\n",
       "      <th>2</th>\n",
       "      <td>07_malignes-melanom_0207_29</td>\n",
       "      <td>schnelles konsequentes Vorgehen</td>\n",
       "      <td>Therapeutic</td>\n",
       "      <td>92</td>\n",
       "      <td>123</td>\n",
       "      <td>C0220813</td>\n",
       "      <td>[T089]</td>\n",
       "      <td>court decisions</td>\n",
       "      <td>[sapbert]</td>\n",
       "      <td>0.111342</td>\n",
       "    </tr>\n",
       "  </tbody>\n",
       "</table>\n",
       "</div>"
      ],
      "text/plain": [
       "                      document                             text         type  \\\n",
       "2  07_malignes-melanom_0207_29  schnelles konsequentes Vorgehen  Therapeutic   \n",
       "\n",
       "   start  end       cui    tuis        canonical     linker  confidence  \n",
       "2     92  123  C0220813  [T089]  court decisions  [sapbert]    0.111342  "
      ]
     },
     "metadata": {},
     "output_type": "display_data"
    },
    {
     "name": "stdout",
     "output_type": "stream",
     "text": [
      "Filter:\n"
     ]
    },
    {
     "data": {
      "text/html": [
       "<div>\n",
       "<style scoped>\n",
       "    .dataframe tbody tr th:only-of-type {\n",
       "        vertical-align: middle;\n",
       "    }\n",
       "\n",
       "    .dataframe tbody tr th {\n",
       "        vertical-align: top;\n",
       "    }\n",
       "\n",
       "    .dataframe thead th {\n",
       "        text-align: right;\n",
       "    }\n",
       "</style>\n",
       "<table border=\"1\" class=\"dataframe\">\n",
       "  <thead>\n",
       "    <tr style=\"text-align: right;\">\n",
       "      <th></th>\n",
       "      <th>document</th>\n",
       "      <th>text</th>\n",
       "      <th>type</th>\n",
       "      <th>start</th>\n",
       "      <th>end</th>\n",
       "      <th>cui</th>\n",
       "      <th>tuis</th>\n",
       "      <th>canonical</th>\n",
       "      <th>linker</th>\n",
       "      <th>confidence</th>\n",
       "    </tr>\n",
       "  </thead>\n",
       "  <tbody>\n",
       "    <tr>\n",
       "      <th>2</th>\n",
       "      <td>07_malignes-melanom_0207_29</td>\n",
       "      <td>schnelles konsequentes Vorgehen</td>\n",
       "      <td>Therapeutic</td>\n",
       "      <td>92</td>\n",
       "      <td>123</td>\n",
       "      <td>C4038769</td>\n",
       "      <td>[T061]</td>\n",
       "      <td>Rapid extrication</td>\n",
       "      <td>[sapbert]</td>\n",
       "      <td>0.064276</td>\n",
       "    </tr>\n",
       "  </tbody>\n",
       "</table>\n",
       "</div>"
      ],
      "text/plain": [
       "                      document                             text         type  \\\n",
       "2  07_malignes-melanom_0207_29  schnelles konsequentes Vorgehen  Therapeutic   \n",
       "\n",
       "   start  end       cui    tuis          canonical     linker  confidence  \n",
       "2     92  123  C4038769  [T061]  Rapid extrication  [sapbert]    0.064276  "
      ]
     },
     "metadata": {},
     "output_type": "display_data"
    },
    {
     "name": "stdout",
     "output_type": "stream",
     "text": [
      "####\n"
     ]
    },
    {
     "data": {
      "application/vnd.jupyter.widget-view+json": {
       "model_id": "a817a82409fa465e8923ad352d535f12",
       "version_major": 2,
       "version_minor": 0
      },
      "text/plain": [
       "  0%|          | 0/1 [00:00<?, ?it/s]"
      ]
     },
     "metadata": {},
     "output_type": "display_data"
    },
    {
     "data": {
      "application/vnd.jupyter.widget-view+json": {
       "model_id": "b476d6c7cab246bfa735ed4136a8398a",
       "version_major": 2,
       "version_minor": 0
      },
      "text/plain": [
       "  0%|          | 0/1 [00:00<?, ?it/s]"
      ]
     },
     "metadata": {},
     "output_type": "display_data"
    },
    {
     "data": {
      "application/vnd.jupyter.widget-view+json": {
       "model_id": "d7dcd68f36e9428e901442918ee41160",
       "version_major": 2,
       "version_minor": 0
      },
      "text/plain": [
       "  0%|          | 0/1 [00:00<?, ?it/s]"
      ]
     },
     "metadata": {},
     "output_type": "display_data"
    },
    {
     "data": {
      "application/vnd.jupyter.widget-view+json": {
       "model_id": "9698bdffe2144e5fa449255d99ca65c3",
       "version_major": 2,
       "version_minor": 0
      },
      "text/plain": [
       "  0%|          | 0/1 [00:00<?, ?it/s]"
      ]
     },
     "metadata": {},
     "output_type": "display_data"
    },
    {
     "data": {
      "application/vnd.jupyter.widget-view+json": {
       "model_id": "236b518ed93c4a57b346aa60b3062b1c",
       "version_major": 2,
       "version_minor": 0
      },
      "text/plain": [
       "  0%|          | 0/1 [00:00<?, ?it/s]"
      ]
     },
     "metadata": {},
     "output_type": "display_data"
    },
    {
     "data": {
      "application/vnd.jupyter.widget-view+json": {
       "model_id": "7b76bbf607db4ec9a3fbe82b8c9502a2",
       "version_major": 2,
       "version_minor": 0
      },
      "text/plain": [
       "  0%|          | 0/1 [00:00<?, ?it/s]"
      ]
     },
     "metadata": {},
     "output_type": "display_data"
    },
    {
     "data": {
      "application/vnd.jupyter.widget-view+json": {
       "model_id": "f90e6373ea3946e5ba8d43561da5cf3a",
       "version_major": 2,
       "version_minor": 0
      },
      "text/plain": [
       "  0%|          | 0/1 [00:00<?, ?it/s]"
      ]
     },
     "metadata": {},
     "output_type": "display_data"
    },
    {
     "data": {
      "application/vnd.jupyter.widget-view+json": {
       "model_id": "2bb1d785abf846fab54f6239e1e71442",
       "version_major": 2,
       "version_minor": 0
      },
      "text/plain": [
       "  0%|          | 0/1 [00:00<?, ?it/s]"
      ]
     },
     "metadata": {},
     "output_type": "display_data"
    },
    {
     "data": {
      "application/vnd.jupyter.widget-view+json": {
       "model_id": "e5494ebc643243f58d0d635ebe0855f4",
       "version_major": 2,
       "version_minor": 0
      },
      "text/plain": [
       "  0%|          | 0/1 [00:00<?, ?it/s]"
      ]
     },
     "metadata": {},
     "output_type": "display_data"
    },
    {
     "data": {
      "application/vnd.jupyter.widget-view+json": {
       "model_id": "77513ddef75f4571b89216b934ca7dc7",
       "version_major": 2,
       "version_minor": 0
      },
      "text/plain": [
       "  0%|          | 0/1 [00:00<?, ?it/s]"
      ]
     },
     "metadata": {},
     "output_type": "display_data"
    },
    {
     "data": {
      "application/vnd.jupyter.widget-view+json": {
       "model_id": "97c17b94440d4382aea83a7068759775",
       "version_major": 2,
       "version_minor": 0
      },
      "text/plain": [
       "  0%|          | 0/1 [00:00<?, ?it/s]"
      ]
     },
     "metadata": {},
     "output_type": "display_data"
    },
    {
     "data": {
      "application/vnd.jupyter.widget-view+json": {
       "model_id": "3584768c9f9543feac5b43ff2678e30c",
       "version_major": 2,
       "version_minor": 0
      },
      "text/plain": [
       "  0%|          | 0/1 [00:00<?, ?it/s]"
      ]
     },
     "metadata": {},
     "output_type": "display_data"
    },
    {
     "data": {
      "application/vnd.jupyter.widget-view+json": {
       "model_id": "2f2a7295c78d4f46adbb5e59c40d8a94",
       "version_major": 2,
       "version_minor": 0
      },
      "text/plain": [
       "  0%|          | 0/1 [00:00<?, ?it/s]"
      ]
     },
     "metadata": {},
     "output_type": "display_data"
    },
    {
     "data": {
      "application/vnd.jupyter.widget-view+json": {
       "model_id": "2a0cc953e8aa4692a0b5678c6ffe0f8e",
       "version_major": 2,
       "version_minor": 0
      },
      "text/plain": [
       "  0%|          | 0/1 [00:00<?, ?it/s]"
      ]
     },
     "metadata": {},
     "output_type": "display_data"
    },
    {
     "data": {
      "application/vnd.jupyter.widget-view+json": {
       "model_id": "a7b298e871954859b609619ad86207bd",
       "version_major": 2,
       "version_minor": 0
      },
      "text/plain": [
       "  0%|          | 0/1 [00:00<?, ?it/s]"
      ]
     },
     "metadata": {},
     "output_type": "display_data"
    },
    {
     "data": {
      "application/vnd.jupyter.widget-view+json": {
       "model_id": "7ac20287c7424557840fad7c5fdb6534",
       "version_major": 2,
       "version_minor": 0
      },
      "text/plain": [
       "  0%|          | 0/1 [00:00<?, ?it/s]"
      ]
     },
     "metadata": {},
     "output_type": "display_data"
    },
    {
     "data": {
      "application/vnd.jupyter.widget-view+json": {
       "model_id": "9069fdcfe35242acb52dc6bc61a7f237",
       "version_major": 2,
       "version_minor": 0
      },
      "text/plain": [
       "  0%|          | 0/1 [00:00<?, ?it/s]"
      ]
     },
     "metadata": {},
     "output_type": "display_data"
    },
    {
     "data": {
      "application/vnd.jupyter.widget-view+json": {
       "model_id": "d410409eea5344899686e330d90b6e3c",
       "version_major": 2,
       "version_minor": 0
      },
      "text/plain": [
       "  0%|          | 0/1 [00:00<?, ?it/s]"
      ]
     },
     "metadata": {},
     "output_type": "display_data"
    },
    {
     "data": {
      "application/vnd.jupyter.widget-view+json": {
       "model_id": "82a97b4fd919496887ae653663a297dc",
       "version_major": 2,
       "version_minor": 0
      },
      "text/plain": [
       "  0%|          | 0/1 [00:00<?, ?it/s]"
      ]
     },
     "metadata": {},
     "output_type": "display_data"
    },
    {
     "data": {
      "application/vnd.jupyter.widget-view+json": {
       "model_id": "ac7df437fab74e88ad0447fbbe89aa61",
       "version_major": 2,
       "version_minor": 0
      },
      "text/plain": [
       "  0%|          | 0/1 [00:00<?, ?it/s]"
      ]
     },
     "metadata": {},
     "output_type": "display_data"
    },
    {
     "data": {
      "application/vnd.jupyter.widget-view+json": {
       "model_id": "1e76b1f1bc9f4f56b0179100607dc1c1",
       "version_major": 2,
       "version_minor": 0
      },
      "text/plain": [
       "  0%|          | 0/1 [00:00<?, ?it/s]"
      ]
     },
     "metadata": {},
     "output_type": "display_data"
    },
    {
     "data": {
      "application/vnd.jupyter.widget-view+json": {
       "model_id": "c06291e3a4ab4afabcabaa13439b9040",
       "version_major": 2,
       "version_minor": 0
      },
      "text/plain": [
       "  0%|          | 0/1 [00:00<?, ?it/s]"
      ]
     },
     "metadata": {},
     "output_type": "display_data"
    },
    {
     "data": {
      "application/vnd.jupyter.widget-view+json": {
       "model_id": "d4375c08f03a4121b5c651add568965c",
       "version_major": 2,
       "version_minor": 0
      },
      "text/plain": [
       "  0%|          | 0/1 [00:00<?, ?it/s]"
      ]
     },
     "metadata": {},
     "output_type": "display_data"
    },
    {
     "data": {
      "application/vnd.jupyter.widget-view+json": {
       "model_id": "326e17f027784e2dbc92dedbc345d5e4",
       "version_major": 2,
       "version_minor": 0
      },
      "text/plain": [
       "  0%|          | 0/1 [00:00<?, ?it/s]"
      ]
     },
     "metadata": {},
     "output_type": "display_data"
    },
    {
     "data": {
      "application/vnd.jupyter.widget-view+json": {
       "model_id": "19c2d7f5cec64254ba27fa64f6e24f9c",
       "version_major": 2,
       "version_minor": 0
      },
      "text/plain": [
       "  0%|          | 0/1 [00:00<?, ?it/s]"
      ]
     },
     "metadata": {},
     "output_type": "display_data"
    },
    {
     "data": {
      "application/vnd.jupyter.widget-view+json": {
       "model_id": "8196b6e4e6b7451ea049c5ac05b36edb",
       "version_major": 2,
       "version_minor": 0
      },
      "text/plain": [
       "  0%|          | 0/1 [00:00<?, ?it/s]"
      ]
     },
     "metadata": {},
     "output_type": "display_data"
    },
    {
     "data": {
      "application/vnd.jupyter.widget-view+json": {
       "model_id": "756bbe0dda7d44ad9ca1d3181d00d6b6",
       "version_major": 2,
       "version_minor": 0
      },
      "text/plain": [
       "  0%|          | 0/1 [00:00<?, ?it/s]"
      ]
     },
     "metadata": {},
     "output_type": "display_data"
    },
    {
     "data": {
      "application/vnd.jupyter.widget-view+json": {
       "model_id": "92bb7437084d448eb29bc204db460b1f",
       "version_major": 2,
       "version_minor": 0
      },
      "text/plain": [
       "  0%|          | 0/1 [00:00<?, ?it/s]"
      ]
     },
     "metadata": {},
     "output_type": "display_data"
    },
    {
     "data": {
      "application/vnd.jupyter.widget-view+json": {
       "model_id": "3b04e12065f54a6a9a6c683009d95373",
       "version_major": 2,
       "version_minor": 0
      },
      "text/plain": [
       "  0%|          | 0/1 [00:00<?, ?it/s]"
      ]
     },
     "metadata": {},
     "output_type": "display_data"
    },
    {
     "data": {
      "application/vnd.jupyter.widget-view+json": {
       "model_id": "2457285abc9e4ae1b52861318d7cc3c9",
       "version_major": 2,
       "version_minor": 0
      },
      "text/plain": [
       "  0%|          | 0/1 [00:00<?, ?it/s]"
      ]
     },
     "metadata": {},
     "output_type": "display_data"
    },
    {
     "data": {
      "application/vnd.jupyter.widget-view+json": {
       "model_id": "e73223433b7d4ce498f4df142b19433a",
       "version_major": 2,
       "version_minor": 0
      },
      "text/plain": [
       "  0%|          | 0/1 [00:00<?, ?it/s]"
      ]
     },
     "metadata": {},
     "output_type": "display_data"
    },
    {
     "data": {
      "application/vnd.jupyter.widget-view+json": {
       "model_id": "2806efa9511a4e43ac37cd51d6918b80",
       "version_major": 2,
       "version_minor": 0
      },
      "text/plain": [
       "  0%|          | 0/1 [00:00<?, ?it/s]"
      ]
     },
     "metadata": {},
     "output_type": "display_data"
    },
    {
     "data": {
      "application/vnd.jupyter.widget-view+json": {
       "model_id": "3e39d84dcd5c4cf894eabd165b3054e9",
       "version_major": 2,
       "version_minor": 0
      },
      "text/plain": [
       "  0%|          | 0/1 [00:00<?, ?it/s]"
      ]
     },
     "metadata": {},
     "output_type": "display_data"
    },
    {
     "data": {
      "application/vnd.jupyter.widget-view+json": {
       "model_id": "9f4f5260aa4849d1be223ff23d7c1409",
       "version_major": 2,
       "version_minor": 0
      },
      "text/plain": [
       "  0%|          | 0/1 [00:00<?, ?it/s]"
      ]
     },
     "metadata": {},
     "output_type": "display_data"
    },
    {
     "data": {
      "application/vnd.jupyter.widget-view+json": {
       "model_id": "664b8d48cece428aa502676480b0dc7c",
       "version_major": 2,
       "version_minor": 0
      },
      "text/plain": [
       "  0%|          | 0/1 [00:00<?, ?it/s]"
      ]
     },
     "metadata": {},
     "output_type": "display_data"
    },
    {
     "data": {
      "application/vnd.jupyter.widget-view+json": {
       "model_id": "bc23696945154f57a5c4d3bc097fbf67",
       "version_major": 2,
       "version_minor": 0
      },
      "text/plain": [
       "  0%|          | 0/1 [00:00<?, ?it/s]"
      ]
     },
     "metadata": {},
     "output_type": "display_data"
    },
    {
     "data": {
      "application/vnd.jupyter.widget-view+json": {
       "model_id": "0708998566b9435ca2d6ff4bd69c6e6e",
       "version_major": 2,
       "version_minor": 0
      },
      "text/plain": [
       "  0%|          | 0/1 [00:00<?, ?it/s]"
      ]
     },
     "metadata": {},
     "output_type": "display_data"
    },
    {
     "data": {
      "application/vnd.jupyter.widget-view+json": {
       "model_id": "7e11f022f44b4dd29f4ed60cc0c9bcf0",
       "version_major": 2,
       "version_minor": 0
      },
      "text/plain": [
       "  0%|          | 0/1 [00:00<?, ?it/s]"
      ]
     },
     "metadata": {},
     "output_type": "display_data"
    },
    {
     "data": {
      "application/vnd.jupyter.widget-view+json": {
       "model_id": "0c21debba5d840efa9e0eb837137fdca",
       "version_major": 2,
       "version_minor": 0
      },
      "text/plain": [
       "  0%|          | 0/1 [00:00<?, ?it/s]"
      ]
     },
     "metadata": {},
     "output_type": "display_data"
    },
    {
     "data": {
      "application/vnd.jupyter.widget-view+json": {
       "model_id": "24e73836b69f46b8bbaeb6992006427a",
       "version_major": 2,
       "version_minor": 0
      },
      "text/plain": [
       "  0%|          | 0/1 [00:00<?, ?it/s]"
      ]
     },
     "metadata": {},
     "output_type": "display_data"
    },
    {
     "data": {
      "application/vnd.jupyter.widget-view+json": {
       "model_id": "95485fb38d0542509f7b7a3c03064551",
       "version_major": 2,
       "version_minor": 0
      },
      "text/plain": [
       "  0%|          | 0/1 [00:00<?, ?it/s]"
      ]
     },
     "metadata": {},
     "output_type": "display_data"
    },
    {
     "data": {
      "application/vnd.jupyter.widget-view+json": {
       "model_id": "65c5d042daca4a0fab6ba1fcc97be303",
       "version_major": 2,
       "version_minor": 0
      },
      "text/plain": [
       "  0%|          | 0/1 [00:00<?, ?it/s]"
      ]
     },
     "metadata": {},
     "output_type": "display_data"
    },
    {
     "data": {
      "application/vnd.jupyter.widget-view+json": {
       "model_id": "071f0ef5c5f7462d8255474bb2c97825",
       "version_major": 2,
       "version_minor": 0
      },
      "text/plain": [
       "  0%|          | 0/1 [00:00<?, ?it/s]"
      ]
     },
     "metadata": {},
     "output_type": "display_data"
    },
    {
     "data": {
      "application/vnd.jupyter.widget-view+json": {
       "model_id": "02c6270e5ac048cc8d94ae8427503e03",
       "version_major": 2,
       "version_minor": 0
      },
      "text/plain": [
       "  0%|          | 0/1 [00:00<?, ?it/s]"
      ]
     },
     "metadata": {},
     "output_type": "display_data"
    },
    {
     "data": {
      "application/vnd.jupyter.widget-view+json": {
       "model_id": "f99328a016fa40ab8df55b0515596974",
       "version_major": 2,
       "version_minor": 0
      },
      "text/plain": [
       "  0%|          | 0/1 [00:00<?, ?it/s]"
      ]
     },
     "metadata": {},
     "output_type": "display_data"
    },
    {
     "data": {
      "application/vnd.jupyter.widget-view+json": {
       "model_id": "557da689b9d747caa523df026ea337a4",
       "version_major": 2,
       "version_minor": 0
      },
      "text/plain": [
       "  0%|          | 0/1 [00:00<?, ?it/s]"
      ]
     },
     "metadata": {},
     "output_type": "display_data"
    },
    {
     "data": {
      "application/vnd.jupyter.widget-view+json": {
       "model_id": "26c3ee5ccd85490499da5b3675ed9220",
       "version_major": 2,
       "version_minor": 0
      },
      "text/plain": [
       "  0%|          | 0/1 [00:00<?, ?it/s]"
      ]
     },
     "metadata": {},
     "output_type": "display_data"
    },
    {
     "data": {
      "application/vnd.jupyter.widget-view+json": {
       "model_id": "19dc9951b62044538816b6e016c2fe82",
       "version_major": 2,
       "version_minor": 0
      },
      "text/plain": [
       "  0%|          | 0/1 [00:00<?, ?it/s]"
      ]
     },
     "metadata": {},
     "output_type": "display_data"
    },
    {
     "data": {
      "application/vnd.jupyter.widget-view+json": {
       "model_id": "0242fbf37c5a4024a75959192edab73c",
       "version_major": 2,
       "version_minor": 0
      },
      "text/plain": [
       "  0%|          | 0/1 [00:00<?, ?it/s]"
      ]
     },
     "metadata": {},
     "output_type": "display_data"
    },
    {
     "data": {
      "application/vnd.jupyter.widget-view+json": {
       "model_id": "c53dc918b31144e2ac0130bb86b21fae",
       "version_major": 2,
       "version_minor": 0
      },
      "text/plain": [
       "  0%|          | 0/1 [00:00<?, ?it/s]"
      ]
     },
     "metadata": {},
     "output_type": "display_data"
    },
    {
     "data": {
      "application/vnd.jupyter.widget-view+json": {
       "model_id": "30a86f2de910486db5336ca1af6f3b13",
       "version_major": 2,
       "version_minor": 0
      },
      "text/plain": [
       "  0%|          | 0/1 [00:00<?, ?it/s]"
      ]
     },
     "metadata": {},
     "output_type": "display_data"
    },
    {
     "data": {
      "application/vnd.jupyter.widget-view+json": {
       "model_id": "c410bced5b49456ba2b6c61ab3ec8721",
       "version_major": 2,
       "version_minor": 0
      },
      "text/plain": [
       "  0%|          | 0/1 [00:00<?, ?it/s]"
      ]
     },
     "metadata": {},
     "output_type": "display_data"
    },
    {
     "name": "stdout",
     "output_type": "stream",
     "text": [
      "Aufgrund des subendothelialen Wachstums entlang der Perineuralscheiden beträgt das Rezidivrisiko nach radikaler chirurgischer Tumorentfernung für ein perihiläres Cholangiokarzinom (CCA) 40-80% (Auflistung der Studienergebnisse siehe [REF] ).\n",
      "\n",
      "No Filter:\n"
     ]
    },
    {
     "data": {
      "text/html": [
       "<div>\n",
       "<style scoped>\n",
       "    .dataframe tbody tr th:only-of-type {\n",
       "        vertical-align: middle;\n",
       "    }\n",
       "\n",
       "    .dataframe tbody tr th {\n",
       "        vertical-align: top;\n",
       "    }\n",
       "\n",
       "    .dataframe thead th {\n",
       "        text-align: right;\n",
       "    }\n",
       "</style>\n",
       "<table border=\"1\" class=\"dataframe\">\n",
       "  <thead>\n",
       "    <tr style=\"text-align: right;\">\n",
       "      <th></th>\n",
       "      <th>document</th>\n",
       "      <th>text</th>\n",
       "      <th>type</th>\n",
       "      <th>start</th>\n",
       "      <th>end</th>\n",
       "      <th>cui</th>\n",
       "      <th>tuis</th>\n",
       "      <th>canonical</th>\n",
       "      <th>linker</th>\n",
       "      <th>confidence</th>\n",
       "    </tr>\n",
       "  </thead>\n",
       "  <tbody>\n",
       "    <tr>\n",
       "      <th>2</th>\n",
       "      <td>11_hepatozellulaeres-karzinom-und-biliaere-kar...</td>\n",
       "      <td>radikaler chirurgischer Tumorentfernung</td>\n",
       "      <td>Therapeutic</td>\n",
       "      <td>102</td>\n",
       "      <td>141</td>\n",
       "      <td>C0024884</td>\n",
       "      <td>[T061]</td>\n",
       "      <td>Mastektomie, radikale</td>\n",
       "      <td>[sapbert]</td>\n",
       "      <td>0.066802</td>\n",
       "    </tr>\n",
       "  </tbody>\n",
       "</table>\n",
       "</div>"
      ],
      "text/plain": [
       "                                            document  \\\n",
       "2  11_hepatozellulaeres-karzinom-und-biliaere-kar...   \n",
       "\n",
       "                                      text         type  start  end       cui  \\\n",
       "2  radikaler chirurgischer Tumorentfernung  Therapeutic    102  141  C0024884   \n",
       "\n",
       "     tuis              canonical     linker  confidence  \n",
       "2  [T061]  Mastektomie, radikale  [sapbert]    0.066802  "
      ]
     },
     "metadata": {},
     "output_type": "display_data"
    },
    {
     "name": "stdout",
     "output_type": "stream",
     "text": [
      "Filter:\n"
     ]
    },
    {
     "data": {
      "text/html": [
       "<div>\n",
       "<style scoped>\n",
       "    .dataframe tbody tr th:only-of-type {\n",
       "        vertical-align: middle;\n",
       "    }\n",
       "\n",
       "    .dataframe tbody tr th {\n",
       "        vertical-align: top;\n",
       "    }\n",
       "\n",
       "    .dataframe thead th {\n",
       "        text-align: right;\n",
       "    }\n",
       "</style>\n",
       "<table border=\"1\" class=\"dataframe\">\n",
       "  <thead>\n",
       "    <tr style=\"text-align: right;\">\n",
       "      <th></th>\n",
       "      <th>document</th>\n",
       "      <th>text</th>\n",
       "      <th>type</th>\n",
       "      <th>start</th>\n",
       "      <th>end</th>\n",
       "      <th>cui</th>\n",
       "      <th>tuis</th>\n",
       "      <th>canonical</th>\n",
       "      <th>linker</th>\n",
       "      <th>confidence</th>\n",
       "    </tr>\n",
       "  </thead>\n",
       "  <tbody>\n",
       "    <tr>\n",
       "      <th>2</th>\n",
       "      <td>11_hepatozellulaeres-karzinom-und-biliaere-kar...</td>\n",
       "      <td>radikaler chirurgischer Tumorentfernung</td>\n",
       "      <td>Therapeutic</td>\n",
       "      <td>102</td>\n",
       "      <td>141</td>\n",
       "      <td>C4761063</td>\n",
       "      <td>[T061]</td>\n",
       "      <td>Tumor resection</td>\n",
       "      <td>[sapbert]</td>\n",
       "      <td>0.070224</td>\n",
       "    </tr>\n",
       "  </tbody>\n",
       "</table>\n",
       "</div>"
      ],
      "text/plain": [
       "                                            document  \\\n",
       "2  11_hepatozellulaeres-karzinom-und-biliaere-kar...   \n",
       "\n",
       "                                      text         type  start  end       cui  \\\n",
       "2  radikaler chirurgischer Tumorentfernung  Therapeutic    102  141  C4761063   \n",
       "\n",
       "     tuis        canonical     linker  confidence  \n",
       "2  [T061]  Tumor resection  [sapbert]    0.070224  "
      ]
     },
     "metadata": {},
     "output_type": "display_data"
    },
    {
     "name": "stdout",
     "output_type": "stream",
     "text": [
      "####\n"
     ]
    },
    {
     "data": {
      "application/vnd.jupyter.widget-view+json": {
       "model_id": "0377c7dd15f54573bffb2a5ac8456673",
       "version_major": 2,
       "version_minor": 0
      },
      "text/plain": [
       "  0%|          | 0/1 [00:00<?, ?it/s]"
      ]
     },
     "metadata": {},
     "output_type": "display_data"
    },
    {
     "data": {
      "application/vnd.jupyter.widget-view+json": {
       "model_id": "db9dc1298fab47c8b371684fbb3d4128",
       "version_major": 2,
       "version_minor": 0
      },
      "text/plain": [
       "  0%|          | 0/1 [00:00<?, ?it/s]"
      ]
     },
     "metadata": {},
     "output_type": "display_data"
    },
    {
     "data": {
      "application/vnd.jupyter.widget-view+json": {
       "model_id": "e3cba5c697fd4365873640d2c03db42b",
       "version_major": 2,
       "version_minor": 0
      },
      "text/plain": [
       "  0%|          | 0/1 [00:00<?, ?it/s]"
      ]
     },
     "metadata": {},
     "output_type": "display_data"
    },
    {
     "data": {
      "application/vnd.jupyter.widget-view+json": {
       "model_id": "8b2cf20474bc4fc5b9b715e708ca121a",
       "version_major": 2,
       "version_minor": 0
      },
      "text/plain": [
       "  0%|          | 0/1 [00:00<?, ?it/s]"
      ]
     },
     "metadata": {},
     "output_type": "display_data"
    },
    {
     "data": {
      "application/vnd.jupyter.widget-view+json": {
       "model_id": "254e9f135f9f4788a90241214e2ffc4f",
       "version_major": 2,
       "version_minor": 0
      },
      "text/plain": [
       "  0%|          | 0/1 [00:00<?, ?it/s]"
      ]
     },
     "metadata": {},
     "output_type": "display_data"
    },
    {
     "data": {
      "application/vnd.jupyter.widget-view+json": {
       "model_id": "c3967713a8f34c0b97ed3765407052b8",
       "version_major": 2,
       "version_minor": 0
      },
      "text/plain": [
       "  0%|          | 0/1 [00:00<?, ?it/s]"
      ]
     },
     "metadata": {},
     "output_type": "display_data"
    },
    {
     "data": {
      "application/vnd.jupyter.widget-view+json": {
       "model_id": "a31d7cf2bf1d46ae95e4285ad521cf0c",
       "version_major": 2,
       "version_minor": 0
      },
      "text/plain": [
       "  0%|          | 0/1 [00:00<?, ?it/s]"
      ]
     },
     "metadata": {},
     "output_type": "display_data"
    },
    {
     "data": {
      "application/vnd.jupyter.widget-view+json": {
       "model_id": "dd7418032a984bd9b843bc7e74e7e273",
       "version_major": 2,
       "version_minor": 0
      },
      "text/plain": [
       "  0%|          | 0/1 [00:00<?, ?it/s]"
      ]
     },
     "metadata": {},
     "output_type": "display_data"
    },
    {
     "data": {
      "application/vnd.jupyter.widget-view+json": {
       "model_id": "d739d718cb5542dcab89af1e84f9d4f3",
       "version_major": 2,
       "version_minor": 0
      },
      "text/plain": [
       "  0%|          | 0/1 [00:00<?, ?it/s]"
      ]
     },
     "metadata": {},
     "output_type": "display_data"
    },
    {
     "data": {
      "application/vnd.jupyter.widget-view+json": {
       "model_id": "54469e20b7ec4314808666a028358c30",
       "version_major": 2,
       "version_minor": 0
      },
      "text/plain": [
       "  0%|          | 0/1 [00:00<?, ?it/s]"
      ]
     },
     "metadata": {},
     "output_type": "display_data"
    },
    {
     "name": "stdout",
     "output_type": "stream",
     "text": [
      "In dieser Studie wurde bei 447 Patienten mit CCA oder muskelinvasivem GB-CA sowie vollständiger makroskopischer Tumorentfernung (R0 oder R1) die Gabe von Capecitabin (1250 mg/m2 zweimal täglich an Tag 1 bis 14 bei einer Zyklusdauer von 21 Tagen, insgesamt 8 Zyklen) mit der alleinigen Nachsorge verglichen.\n",
      "\n",
      "No Filter:\n"
     ]
    },
    {
     "data": {
      "text/html": [
       "<div>\n",
       "<style scoped>\n",
       "    .dataframe tbody tr th:only-of-type {\n",
       "        vertical-align: middle;\n",
       "    }\n",
       "\n",
       "    .dataframe tbody tr th {\n",
       "        vertical-align: top;\n",
       "    }\n",
       "\n",
       "    .dataframe thead th {\n",
       "        text-align: right;\n",
       "    }\n",
       "</style>\n",
       "<table border=\"1\" class=\"dataframe\">\n",
       "  <thead>\n",
       "    <tr style=\"text-align: right;\">\n",
       "      <th></th>\n",
       "      <th>document</th>\n",
       "      <th>text</th>\n",
       "      <th>type</th>\n",
       "      <th>start</th>\n",
       "      <th>end</th>\n",
       "      <th>cui</th>\n",
       "      <th>tuis</th>\n",
       "      <th>canonical</th>\n",
       "      <th>linker</th>\n",
       "      <th>confidence</th>\n",
       "    </tr>\n",
       "  </thead>\n",
       "  <tbody>\n",
       "    <tr>\n",
       "      <th>1</th>\n",
       "      <td>11_hepatozellulaeres-karzinom-und-biliaere-kar...</td>\n",
       "      <td>muskelinvasivem GB-CA</td>\n",
       "      <td>Diagnosis_or_Pathology</td>\n",
       "      <td>54</td>\n",
       "      <td>75</td>\n",
       "      <td>C0674272</td>\n",
       "      <td>[T116]</td>\n",
       "      <td>Boc-Gly-Arg-Arg-MCA</td>\n",
       "      <td>[sapbert]</td>\n",
       "      <td>0.063696</td>\n",
       "    </tr>\n",
       "  </tbody>\n",
       "</table>\n",
       "</div>"
      ],
      "text/plain": [
       "                                            document                   text  \\\n",
       "1  11_hepatozellulaeres-karzinom-und-biliaere-kar...  muskelinvasivem GB-CA   \n",
       "\n",
       "                     type  start  end       cui    tuis            canonical  \\\n",
       "1  Diagnosis_or_Pathology     54   75  C0674272  [T116]  Boc-Gly-Arg-Arg-MCA   \n",
       "\n",
       "      linker  confidence  \n",
       "1  [sapbert]    0.063696  "
      ]
     },
     "metadata": {},
     "output_type": "display_data"
    },
    {
     "name": "stdout",
     "output_type": "stream",
     "text": [
      "Filter:\n"
     ]
    },
    {
     "data": {
      "text/html": [
       "<div>\n",
       "<style scoped>\n",
       "    .dataframe tbody tr th:only-of-type {\n",
       "        vertical-align: middle;\n",
       "    }\n",
       "\n",
       "    .dataframe tbody tr th {\n",
       "        vertical-align: top;\n",
       "    }\n",
       "\n",
       "    .dataframe thead th {\n",
       "        text-align: right;\n",
       "    }\n",
       "</style>\n",
       "<table border=\"1\" class=\"dataframe\">\n",
       "  <thead>\n",
       "    <tr style=\"text-align: right;\">\n",
       "      <th></th>\n",
       "      <th>document</th>\n",
       "      <th>text</th>\n",
       "      <th>type</th>\n",
       "      <th>start</th>\n",
       "      <th>end</th>\n",
       "      <th>cui</th>\n",
       "      <th>tuis</th>\n",
       "      <th>canonical</th>\n",
       "      <th>linker</th>\n",
       "      <th>confidence</th>\n",
       "    </tr>\n",
       "  </thead>\n",
       "  <tbody>\n",
       "    <tr>\n",
       "      <th>1</th>\n",
       "      <td>11_hepatozellulaeres-karzinom-und-biliaere-kar...</td>\n",
       "      <td>muskelinvasivem GB-CA</td>\n",
       "      <td>Diagnosis_or_Pathology</td>\n",
       "      <td>54</td>\n",
       "      <td>75</td>\n",
       "      <td>C0250995</td>\n",
       "      <td>[T116, T121]</td>\n",
       "      <td>gamma-glutaminyl-S-(4-methylbenzyl)cysteinyl-b...</td>\n",
       "      <td>[sapbert]</td>\n",
       "      <td>0.063638</td>\n",
       "    </tr>\n",
       "  </tbody>\n",
       "</table>\n",
       "</div>"
      ],
      "text/plain": [
       "                                            document                   text  \\\n",
       "1  11_hepatozellulaeres-karzinom-und-biliaere-kar...  muskelinvasivem GB-CA   \n",
       "\n",
       "                     type  start  end       cui          tuis  \\\n",
       "1  Diagnosis_or_Pathology     54   75  C0250995  [T116, T121]   \n",
       "\n",
       "                                           canonical     linker  confidence  \n",
       "1  gamma-glutaminyl-S-(4-methylbenzyl)cysteinyl-b...  [sapbert]    0.063638  "
      ]
     },
     "metadata": {},
     "output_type": "display_data"
    },
    {
     "name": "stdout",
     "output_type": "stream",
     "text": [
      "####\n"
     ]
    },
    {
     "data": {
      "application/vnd.jupyter.widget-view+json": {
       "model_id": "dcf2e6c054c641afa306bc7d26554209",
       "version_major": 2,
       "version_minor": 0
      },
      "text/plain": [
       "  0%|          | 0/1 [00:00<?, ?it/s]"
      ]
     },
     "metadata": {},
     "output_type": "display_data"
    },
    {
     "data": {
      "application/vnd.jupyter.widget-view+json": {
       "model_id": "9e8990a2d7bf4cf2b8304e938bbe03bc",
       "version_major": 2,
       "version_minor": 0
      },
      "text/plain": [
       "  0%|          | 0/1 [00:00<?, ?it/s]"
      ]
     },
     "metadata": {},
     "output_type": "display_data"
    },
    {
     "name": "stdout",
     "output_type": "stream",
     "text": [
      "Der Therapiebeginn sollte innerhalb von 12 Wochen postoperativ bei Patienten mit ECOG 0 – 1 erfolgen, erlaubt war eine Ausdehnung des Zeitraumes bis auf 16 Wochen.\n",
      "\n",
      "No Filter:\n"
     ]
    },
    {
     "data": {
      "text/html": [
       "<div>\n",
       "<style scoped>\n",
       "    .dataframe tbody tr th:only-of-type {\n",
       "        vertical-align: middle;\n",
       "    }\n",
       "\n",
       "    .dataframe tbody tr th {\n",
       "        vertical-align: top;\n",
       "    }\n",
       "\n",
       "    .dataframe thead th {\n",
       "        text-align: right;\n",
       "    }\n",
       "</style>\n",
       "<table border=\"1\" class=\"dataframe\">\n",
       "  <thead>\n",
       "    <tr style=\"text-align: right;\">\n",
       "      <th></th>\n",
       "      <th>document</th>\n",
       "      <th>text</th>\n",
       "      <th>type</th>\n",
       "      <th>start</th>\n",
       "      <th>end</th>\n",
       "      <th>cui</th>\n",
       "      <th>tuis</th>\n",
       "      <th>canonical</th>\n",
       "      <th>linker</th>\n",
       "      <th>confidence</th>\n",
       "    </tr>\n",
       "  </thead>\n",
       "  <tbody>\n",
       "    <tr>\n",
       "      <th>0</th>\n",
       "      <td>11_hepatozellulaeres-karzinom-und-biliaere-kar...</td>\n",
       "      <td>Therapiebeginn</td>\n",
       "      <td>Therapeutic</td>\n",
       "      <td>4</td>\n",
       "      <td>18</td>\n",
       "      <td>C1273560</td>\n",
       "      <td>[T033]</td>\n",
       "      <td>Procedure started</td>\n",
       "      <td>[sapbert]</td>\n",
       "      <td>0.066248</td>\n",
       "    </tr>\n",
       "  </tbody>\n",
       "</table>\n",
       "</div>"
      ],
      "text/plain": [
       "                                            document            text  \\\n",
       "0  11_hepatozellulaeres-karzinom-und-biliaere-kar...  Therapiebeginn   \n",
       "\n",
       "          type  start  end       cui    tuis          canonical     linker  \\\n",
       "0  Therapeutic      4   18  C1273560  [T033]  Procedure started  [sapbert]   \n",
       "\n",
       "   confidence  \n",
       "0    0.066248  "
      ]
     },
     "metadata": {},
     "output_type": "display_data"
    },
    {
     "name": "stdout",
     "output_type": "stream",
     "text": [
      "Filter:\n"
     ]
    },
    {
     "data": {
      "text/html": [
       "<div>\n",
       "<style scoped>\n",
       "    .dataframe tbody tr th:only-of-type {\n",
       "        vertical-align: middle;\n",
       "    }\n",
       "\n",
       "    .dataframe tbody tr th {\n",
       "        vertical-align: top;\n",
       "    }\n",
       "\n",
       "    .dataframe thead th {\n",
       "        text-align: right;\n",
       "    }\n",
       "</style>\n",
       "<table border=\"1\" class=\"dataframe\">\n",
       "  <thead>\n",
       "    <tr style=\"text-align: right;\">\n",
       "      <th></th>\n",
       "      <th>document</th>\n",
       "      <th>text</th>\n",
       "      <th>type</th>\n",
       "      <th>start</th>\n",
       "      <th>end</th>\n",
       "      <th>cui</th>\n",
       "      <th>tuis</th>\n",
       "      <th>canonical</th>\n",
       "      <th>linker</th>\n",
       "      <th>confidence</th>\n",
       "    </tr>\n",
       "  </thead>\n",
       "  <tbody>\n",
       "    <tr>\n",
       "      <th>0</th>\n",
       "      <td>11_hepatozellulaeres-karzinom-und-biliaere-kar...</td>\n",
       "      <td>Therapiebeginn</td>\n",
       "      <td>Therapeutic</td>\n",
       "      <td>4</td>\n",
       "      <td>18</td>\n",
       "      <td>C5419193</td>\n",
       "      <td>[T079]</td>\n",
       "      <td>Since Starting Treatment</td>\n",
       "      <td>[sapbert]</td>\n",
       "      <td>0.066774</td>\n",
       "    </tr>\n",
       "  </tbody>\n",
       "</table>\n",
       "</div>"
      ],
      "text/plain": [
       "                                            document            text  \\\n",
       "0  11_hepatozellulaeres-karzinom-und-biliaere-kar...  Therapiebeginn   \n",
       "\n",
       "          type  start  end       cui    tuis                 canonical  \\\n",
       "0  Therapeutic      4   18  C5419193  [T079]  Since Starting Treatment   \n",
       "\n",
       "      linker  confidence  \n",
       "0  [sapbert]    0.066774  "
      ]
     },
     "metadata": {},
     "output_type": "display_data"
    },
    {
     "name": "stdout",
     "output_type": "stream",
     "text": [
      "####\n"
     ]
    },
    {
     "data": {
      "application/vnd.jupyter.widget-view+json": {
       "model_id": "fb677da2cd464778845ee08c2c3d387e",
       "version_major": 2,
       "version_minor": 0
      },
      "text/plain": [
       "  0%|          | 0/1 [00:00<?, ?it/s]"
      ]
     },
     "metadata": {},
     "output_type": "display_data"
    },
    {
     "data": {
      "application/vnd.jupyter.widget-view+json": {
       "model_id": "ef8643b2e282409b8234151050faf5f9",
       "version_major": 2,
       "version_minor": 0
      },
      "text/plain": [
       "  0%|          | 0/1 [00:00<?, ?it/s]"
      ]
     },
     "metadata": {},
     "output_type": "display_data"
    },
    {
     "data": {
      "application/vnd.jupyter.widget-view+json": {
       "model_id": "5123ee77264546b3aeb2e27a8f7f69fa",
       "version_major": 2,
       "version_minor": 0
      },
      "text/plain": [
       "  0%|          | 0/1 [00:00<?, ?it/s]"
      ]
     },
     "metadata": {},
     "output_type": "display_data"
    },
    {
     "data": {
      "application/vnd.jupyter.widget-view+json": {
       "model_id": "f92a43c5a37242909d9d3a157f989268",
       "version_major": 2,
       "version_minor": 0
      },
      "text/plain": [
       "  0%|          | 0/1 [00:00<?, ?it/s]"
      ]
     },
     "metadata": {},
     "output_type": "display_data"
    },
    {
     "data": {
      "application/vnd.jupyter.widget-view+json": {
       "model_id": "e41c0b2eab7d4e72a183cfb55434682a",
       "version_major": 2,
       "version_minor": 0
      },
      "text/plain": [
       "  0%|          | 0/1 [00:00<?, ?it/s]"
      ]
     },
     "metadata": {},
     "output_type": "display_data"
    },
    {
     "data": {
      "application/vnd.jupyter.widget-view+json": {
       "model_id": "c642f980d55c4b5a932a8fe45f53d655",
       "version_major": 2,
       "version_minor": 0
      },
      "text/plain": [
       "  0%|          | 0/1 [00:00<?, ?it/s]"
      ]
     },
     "metadata": {},
     "output_type": "display_data"
    },
    {
     "data": {
      "application/vnd.jupyter.widget-view+json": {
       "model_id": "b387b4811d21434c88d7402845bb1308",
       "version_major": 2,
       "version_minor": 0
      },
      "text/plain": [
       "  0%|          | 0/1 [00:00<?, ?it/s]"
      ]
     },
     "metadata": {},
     "output_type": "display_data"
    },
    {
     "data": {
      "application/vnd.jupyter.widget-view+json": {
       "model_id": "b917845cd4ae4406ba7d65afcc39fb36",
       "version_major": 2,
       "version_minor": 0
      },
      "text/plain": [
       "  0%|          | 0/1 [00:00<?, ?it/s]"
      ]
     },
     "metadata": {},
     "output_type": "display_data"
    },
    {
     "name": "stdout",
     "output_type": "stream",
     "text": [
      "Die mediane Zeit von der OP bis zum Therapiebeginn lag bei 10,3 Wochen.\n",
      "\n",
      "No Filter:\n"
     ]
    },
    {
     "data": {
      "text/html": [
       "<div>\n",
       "<style scoped>\n",
       "    .dataframe tbody tr th:only-of-type {\n",
       "        vertical-align: middle;\n",
       "    }\n",
       "\n",
       "    .dataframe tbody tr th {\n",
       "        vertical-align: top;\n",
       "    }\n",
       "\n",
       "    .dataframe thead th {\n",
       "        text-align: right;\n",
       "    }\n",
       "</style>\n",
       "<table border=\"1\" class=\"dataframe\">\n",
       "  <thead>\n",
       "    <tr style=\"text-align: right;\">\n",
       "      <th></th>\n",
       "      <th>document</th>\n",
       "      <th>text</th>\n",
       "      <th>type</th>\n",
       "      <th>start</th>\n",
       "      <th>end</th>\n",
       "      <th>cui</th>\n",
       "      <th>tuis</th>\n",
       "      <th>canonical</th>\n",
       "      <th>linker</th>\n",
       "      <th>confidence</th>\n",
       "    </tr>\n",
       "  </thead>\n",
       "  <tbody>\n",
       "    <tr>\n",
       "      <th>1</th>\n",
       "      <td>11_hepatozellulaeres-karzinom-und-biliaere-kar...</td>\n",
       "      <td>Therapiebeginn</td>\n",
       "      <td>Therapeutic</td>\n",
       "      <td>36</td>\n",
       "      <td>50</td>\n",
       "      <td>C1273560</td>\n",
       "      <td>[T033]</td>\n",
       "      <td>Procedure started</td>\n",
       "      <td>[sapbert]</td>\n",
       "      <td>0.074768</td>\n",
       "    </tr>\n",
       "  </tbody>\n",
       "</table>\n",
       "</div>"
      ],
      "text/plain": [
       "                                            document            text  \\\n",
       "1  11_hepatozellulaeres-karzinom-und-biliaere-kar...  Therapiebeginn   \n",
       "\n",
       "          type  start  end       cui    tuis          canonical     linker  \\\n",
       "1  Therapeutic     36   50  C1273560  [T033]  Procedure started  [sapbert]   \n",
       "\n",
       "   confidence  \n",
       "1    0.074768  "
      ]
     },
     "metadata": {},
     "output_type": "display_data"
    },
    {
     "name": "stdout",
     "output_type": "stream",
     "text": [
      "Filter:\n"
     ]
    },
    {
     "data": {
      "text/html": [
       "<div>\n",
       "<style scoped>\n",
       "    .dataframe tbody tr th:only-of-type {\n",
       "        vertical-align: middle;\n",
       "    }\n",
       "\n",
       "    .dataframe tbody tr th {\n",
       "        vertical-align: top;\n",
       "    }\n",
       "\n",
       "    .dataframe thead th {\n",
       "        text-align: right;\n",
       "    }\n",
       "</style>\n",
       "<table border=\"1\" class=\"dataframe\">\n",
       "  <thead>\n",
       "    <tr style=\"text-align: right;\">\n",
       "      <th></th>\n",
       "      <th>document</th>\n",
       "      <th>text</th>\n",
       "      <th>type</th>\n",
       "      <th>start</th>\n",
       "      <th>end</th>\n",
       "      <th>cui</th>\n",
       "      <th>tuis</th>\n",
       "      <th>canonical</th>\n",
       "      <th>linker</th>\n",
       "      <th>confidence</th>\n",
       "    </tr>\n",
       "  </thead>\n",
       "  <tbody>\n",
       "    <tr>\n",
       "      <th>1</th>\n",
       "      <td>11_hepatozellulaeres-karzinom-und-biliaere-kar...</td>\n",
       "      <td>Therapiebeginn</td>\n",
       "      <td>Therapeutic</td>\n",
       "      <td>36</td>\n",
       "      <td>50</td>\n",
       "      <td>C2712338</td>\n",
       "      <td>[T079]</td>\n",
       "      <td>Start time of procedure</td>\n",
       "      <td>[sapbert]</td>\n",
       "      <td>0.077498</td>\n",
       "    </tr>\n",
       "  </tbody>\n",
       "</table>\n",
       "</div>"
      ],
      "text/plain": [
       "                                            document            text  \\\n",
       "1  11_hepatozellulaeres-karzinom-und-biliaere-kar...  Therapiebeginn   \n",
       "\n",
       "          type  start  end       cui    tuis                canonical  \\\n",
       "1  Therapeutic     36   50  C2712338  [T079]  Start time of procedure   \n",
       "\n",
       "      linker  confidence  \n",
       "1  [sapbert]    0.077498  "
      ]
     },
     "metadata": {},
     "output_type": "display_data"
    },
    {
     "name": "stdout",
     "output_type": "stream",
     "text": [
      "####\n"
     ]
    },
    {
     "data": {
      "application/vnd.jupyter.widget-view+json": {
       "model_id": "24befe48cb1d4b3681025ff98a4ad01a",
       "version_major": 2,
       "version_minor": 0
      },
      "text/plain": [
       "  0%|          | 0/1 [00:00<?, ?it/s]"
      ]
     },
     "metadata": {},
     "output_type": "display_data"
    },
    {
     "data": {
      "application/vnd.jupyter.widget-view+json": {
       "model_id": "342eba87d9f342548f2ec124a66a07f1",
       "version_major": 2,
       "version_minor": 0
      },
      "text/plain": [
       "  0%|          | 0/1 [00:00<?, ?it/s]"
      ]
     },
     "metadata": {},
     "output_type": "display_data"
    },
    {
     "data": {
      "application/vnd.jupyter.widget-view+json": {
       "model_id": "61d5259f6a18427592dfa1fc127f92dd",
       "version_major": 2,
       "version_minor": 0
      },
      "text/plain": [
       "  0%|          | 0/1 [00:00<?, ?it/s]"
      ]
     },
     "metadata": {},
     "output_type": "display_data"
    },
    {
     "data": {
      "application/vnd.jupyter.widget-view+json": {
       "model_id": "7303322ce3e24bc3a94f5f5ec2273ec6",
       "version_major": 2,
       "version_minor": 0
      },
      "text/plain": [
       "  0%|          | 0/1 [00:00<?, ?it/s]"
      ]
     },
     "metadata": {},
     "output_type": "display_data"
    },
    {
     "data": {
      "application/vnd.jupyter.widget-view+json": {
       "model_id": "50ee505f99b94f2ea879a9576afaed8a",
       "version_major": 2,
       "version_minor": 0
      },
      "text/plain": [
       "  0%|          | 0/1 [00:00<?, ?it/s]"
      ]
     },
     "metadata": {},
     "output_type": "display_data"
    },
    {
     "data": {
      "application/vnd.jupyter.widget-view+json": {
       "model_id": "f54e3e578d7248e2a584a050e6f48047",
       "version_major": 2,
       "version_minor": 0
      },
      "text/plain": [
       "  0%|          | 0/1 [00:00<?, ?it/s]"
      ]
     },
     "metadata": {},
     "output_type": "display_data"
    },
    {
     "data": {
      "application/vnd.jupyter.widget-view+json": {
       "model_id": "b657807d4abc40f5824c6cb588cd6d20",
       "version_major": 2,
       "version_minor": 0
      },
      "text/plain": [
       "  0%|          | 0/1 [00:00<?, ?it/s]"
      ]
     },
     "metadata": {},
     "output_type": "display_data"
    },
    {
     "data": {
      "application/vnd.jupyter.widget-view+json": {
       "model_id": "e713bfa9f60046a1834bb1439cfc30d2",
       "version_major": 2,
       "version_minor": 0
      },
      "text/plain": [
       "  0%|          | 0/1 [00:00<?, ?it/s]"
      ]
     },
     "metadata": {},
     "output_type": "display_data"
    },
    {
     "data": {
      "application/vnd.jupyter.widget-view+json": {
       "model_id": "1ae74384def74b9193cd1d9dbe41d6d5",
       "version_major": 2,
       "version_minor": 0
      },
      "text/plain": [
       "  0%|          | 0/1 [00:00<?, ?it/s]"
      ]
     },
     "metadata": {},
     "output_type": "display_data"
    },
    {
     "data": {
      "application/vnd.jupyter.widget-view+json": {
       "model_id": "f9b4a24624d44baf86ccb50ae54c6d86",
       "version_major": 2,
       "version_minor": 0
      },
      "text/plain": [
       "  0%|          | 0/1 [00:00<?, ?it/s]"
      ]
     },
     "metadata": {},
     "output_type": "display_data"
    },
    {
     "data": {
      "application/vnd.jupyter.widget-view+json": {
       "model_id": "dad94f5dbb30480ab92342815082834f",
       "version_major": 2,
       "version_minor": 0
      },
      "text/plain": [
       "  0%|          | 0/1 [00:00<?, ?it/s]"
      ]
     },
     "metadata": {},
     "output_type": "display_data"
    },
    {
     "data": {
      "application/vnd.jupyter.widget-view+json": {
       "model_id": "2c28bc58ab12433597ecef65bab1c249",
       "version_major": 2,
       "version_minor": 0
      },
      "text/plain": [
       "  0%|          | 0/1 [00:00<?, ?it/s]"
      ]
     },
     "metadata": {},
     "output_type": "display_data"
    },
    {
     "name": "stdout",
     "output_type": "stream",
     "text": [
      "Datenlage zum prädiktiven Wert einer negativen Interim-PET nach zwei/drei Zyklen ABVD\n",
      "\n",
      "No Filter:\n"
     ]
    },
    {
     "data": {
      "text/html": [
       "<div>\n",
       "<style scoped>\n",
       "    .dataframe tbody tr th:only-of-type {\n",
       "        vertical-align: middle;\n",
       "    }\n",
       "\n",
       "    .dataframe tbody tr th {\n",
       "        vertical-align: top;\n",
       "    }\n",
       "\n",
       "    .dataframe thead th {\n",
       "        text-align: right;\n",
       "    }\n",
       "</style>\n",
       "<table border=\"1\" class=\"dataframe\">\n",
       "  <thead>\n",
       "    <tr style=\"text-align: right;\">\n",
       "      <th></th>\n",
       "      <th>document</th>\n",
       "      <th>text</th>\n",
       "      <th>type</th>\n",
       "      <th>start</th>\n",
       "      <th>end</th>\n",
       "      <th>cui</th>\n",
       "      <th>tuis</th>\n",
       "      <th>canonical</th>\n",
       "      <th>linker</th>\n",
       "      <th>confidence</th>\n",
       "    </tr>\n",
       "  </thead>\n",
       "  <tbody>\n",
       "    <tr>\n",
       "      <th>1</th>\n",
       "      <td>18_hodgkin-lymphom_0051_1</td>\n",
       "      <td>zwei/drei Zyklen ABVD</td>\n",
       "      <td>Therapeutic</td>\n",
       "      <td>64</td>\n",
       "      <td>85</td>\n",
       "      <td>C0050380</td>\n",
       "      <td>[T061]</td>\n",
       "      <td>BLEO/DOX/DTIC/VBL</td>\n",
       "      <td>[sapbert]</td>\n",
       "      <td>0.065968</td>\n",
       "    </tr>\n",
       "  </tbody>\n",
       "</table>\n",
       "</div>"
      ],
      "text/plain": [
       "                    document                   text         type  start  end  \\\n",
       "1  18_hodgkin-lymphom_0051_1  zwei/drei Zyklen ABVD  Therapeutic     64   85   \n",
       "\n",
       "        cui    tuis          canonical     linker  confidence  \n",
       "1  C0050380  [T061]  BLEO/DOX/DTIC/VBL  [sapbert]    0.065968  "
      ]
     },
     "metadata": {},
     "output_type": "display_data"
    },
    {
     "name": "stdout",
     "output_type": "stream",
     "text": [
      "Filter:\n"
     ]
    },
    {
     "data": {
      "text/html": [
       "<div>\n",
       "<style scoped>\n",
       "    .dataframe tbody tr th:only-of-type {\n",
       "        vertical-align: middle;\n",
       "    }\n",
       "\n",
       "    .dataframe tbody tr th {\n",
       "        vertical-align: top;\n",
       "    }\n",
       "\n",
       "    .dataframe thead th {\n",
       "        text-align: right;\n",
       "    }\n",
       "</style>\n",
       "<table border=\"1\" class=\"dataframe\">\n",
       "  <thead>\n",
       "    <tr style=\"text-align: right;\">\n",
       "      <th></th>\n",
       "      <th>document</th>\n",
       "      <th>text</th>\n",
       "      <th>type</th>\n",
       "      <th>start</th>\n",
       "      <th>end</th>\n",
       "      <th>cui</th>\n",
       "      <th>tuis</th>\n",
       "      <th>canonical</th>\n",
       "      <th>linker</th>\n",
       "      <th>confidence</th>\n",
       "    </tr>\n",
       "  </thead>\n",
       "  <tbody>\n",
       "    <tr>\n",
       "      <th>1</th>\n",
       "      <td>18_hodgkin-lymphom_0051_1</td>\n",
       "      <td>zwei/drei Zyklen ABVD</td>\n",
       "      <td>Therapeutic</td>\n",
       "      <td>64</td>\n",
       "      <td>85</td>\n",
       "      <td>C1741578</td>\n",
       "      <td>[T116, T123]</td>\n",
       "      <td>dual altered peptide ligand</td>\n",
       "      <td>[sapbert]</td>\n",
       "      <td>0.066694</td>\n",
       "    </tr>\n",
       "  </tbody>\n",
       "</table>\n",
       "</div>"
      ],
      "text/plain": [
       "                    document                   text         type  start  end  \\\n",
       "1  18_hodgkin-lymphom_0051_1  zwei/drei Zyklen ABVD  Therapeutic     64   85   \n",
       "\n",
       "        cui          tuis                    canonical     linker  confidence  \n",
       "1  C1741578  [T116, T123]  dual altered peptide ligand  [sapbert]    0.066694  "
      ]
     },
     "metadata": {},
     "output_type": "display_data"
    },
    {
     "name": "stdout",
     "output_type": "stream",
     "text": [
      "####\n"
     ]
    },
    {
     "data": {
      "application/vnd.jupyter.widget-view+json": {
       "model_id": "8e63d9e8a9d2433e80c495c0aa3809e0",
       "version_major": 2,
       "version_minor": 0
      },
      "text/plain": [
       "  0%|          | 0/1 [00:00<?, ?it/s]"
      ]
     },
     "metadata": {},
     "output_type": "display_data"
    },
    {
     "data": {
      "application/vnd.jupyter.widget-view+json": {
       "model_id": "7157b7c084e44499b6d82d7651dc47dc",
       "version_major": 2,
       "version_minor": 0
      },
      "text/plain": [
       "  0%|          | 0/1 [00:00<?, ?it/s]"
      ]
     },
     "metadata": {},
     "output_type": "display_data"
    },
    {
     "name": "stdout",
     "output_type": "stream",
     "text": [
      "In kleinen (77 bzw. 85 Patienten), nicht-randomisierten Studien aus Dänemark (Hutchings 2006b) und aus England [REF] wurde das Ergebnis des PET/CTs nach 2 Zyklen Chemotherapie beim Hodgkin Lymphom als unabhängiger Prognosefaktor identifiziert.\n",
      "\n",
      "No Filter:\n"
     ]
    },
    {
     "data": {
      "text/html": [
       "<div>\n",
       "<style scoped>\n",
       "    .dataframe tbody tr th:only-of-type {\n",
       "        vertical-align: middle;\n",
       "    }\n",
       "\n",
       "    .dataframe tbody tr th {\n",
       "        vertical-align: top;\n",
       "    }\n",
       "\n",
       "    .dataframe thead th {\n",
       "        text-align: right;\n",
       "    }\n",
       "</style>\n",
       "<table border=\"1\" class=\"dataframe\">\n",
       "  <thead>\n",
       "    <tr style=\"text-align: right;\">\n",
       "      <th></th>\n",
       "      <th>document</th>\n",
       "      <th>text</th>\n",
       "      <th>type</th>\n",
       "      <th>start</th>\n",
       "      <th>end</th>\n",
       "      <th>cui</th>\n",
       "      <th>tuis</th>\n",
       "      <th>canonical</th>\n",
       "      <th>linker</th>\n",
       "      <th>confidence</th>\n",
       "    </tr>\n",
       "  </thead>\n",
       "  <tbody>\n",
       "    <tr>\n",
       "      <th>0</th>\n",
       "      <td>18_hodgkin-lymphom_0051_2</td>\n",
       "      <td>PET/CTs nach 2 Zyklen Chemotherapie</td>\n",
       "      <td>Diagnostic</td>\n",
       "      <td>140</td>\n",
       "      <td>175</td>\n",
       "      <td>C1559156</td>\n",
       "      <td>[T033]</td>\n",
       "      <td>Grade 2 Chemoradiation, CTCAE</td>\n",
       "      <td>[sapbert]</td>\n",
       "      <td>0.063704</td>\n",
       "    </tr>\n",
       "  </tbody>\n",
       "</table>\n",
       "</div>"
      ],
      "text/plain": [
       "                    document                                 text        type  \\\n",
       "0  18_hodgkin-lymphom_0051_2  PET/CTs nach 2 Zyklen Chemotherapie  Diagnostic   \n",
       "\n",
       "   start  end       cui    tuis                      canonical     linker  \\\n",
       "0    140  175  C1559156  [T033]  Grade 2 Chemoradiation, CTCAE  [sapbert]   \n",
       "\n",
       "   confidence  \n",
       "0    0.063704  "
      ]
     },
     "metadata": {},
     "output_type": "display_data"
    },
    {
     "name": "stdout",
     "output_type": "stream",
     "text": [
      "Filter:\n"
     ]
    },
    {
     "data": {
      "text/html": [
       "<div>\n",
       "<style scoped>\n",
       "    .dataframe tbody tr th:only-of-type {\n",
       "        vertical-align: middle;\n",
       "    }\n",
       "\n",
       "    .dataframe tbody tr th {\n",
       "        vertical-align: top;\n",
       "    }\n",
       "\n",
       "    .dataframe thead th {\n",
       "        text-align: right;\n",
       "    }\n",
       "</style>\n",
       "<table border=\"1\" class=\"dataframe\">\n",
       "  <thead>\n",
       "    <tr style=\"text-align: right;\">\n",
       "      <th></th>\n",
       "      <th>document</th>\n",
       "      <th>text</th>\n",
       "      <th>type</th>\n",
       "      <th>start</th>\n",
       "      <th>end</th>\n",
       "      <th>cui</th>\n",
       "      <th>tuis</th>\n",
       "      <th>canonical</th>\n",
       "      <th>linker</th>\n",
       "      <th>confidence</th>\n",
       "    </tr>\n",
       "  </thead>\n",
       "  <tbody>\n",
       "    <tr>\n",
       "      <th>0</th>\n",
       "      <td>18_hodgkin-lymphom_0051_2</td>\n",
       "      <td>PET/CTs nach 2 Zyklen Chemotherapie</td>\n",
       "      <td>Diagnostic</td>\n",
       "      <td>140</td>\n",
       "      <td>175</td>\n",
       "      <td>C0260835</td>\n",
       "      <td>[T061]</td>\n",
       "      <td>Chemotherapy follow-up</td>\n",
       "      <td>[sapbert]</td>\n",
       "      <td>0.06356</td>\n",
       "    </tr>\n",
       "  </tbody>\n",
       "</table>\n",
       "</div>"
      ],
      "text/plain": [
       "                    document                                 text        type  \\\n",
       "0  18_hodgkin-lymphom_0051_2  PET/CTs nach 2 Zyklen Chemotherapie  Diagnostic   \n",
       "\n",
       "   start  end       cui    tuis               canonical     linker  confidence  \n",
       "0    140  175  C0260835  [T061]  Chemotherapy follow-up  [sapbert]     0.06356  "
      ]
     },
     "metadata": {},
     "output_type": "display_data"
    },
    {
     "name": "stdout",
     "output_type": "stream",
     "text": [
      "####\n"
     ]
    },
    {
     "data": {
      "application/vnd.jupyter.widget-view+json": {
       "model_id": "88dd3ffd29ad4d31bf55eb5d3c2f9cf6",
       "version_major": 2,
       "version_minor": 0
      },
      "text/plain": [
       "  0%|          | 0/1 [00:00<?, ?it/s]"
      ]
     },
     "metadata": {},
     "output_type": "display_data"
    },
    {
     "data": {
      "application/vnd.jupyter.widget-view+json": {
       "model_id": "efc51388fba44a779db09ff39146ecef",
       "version_major": 2,
       "version_minor": 0
      },
      "text/plain": [
       "  0%|          | 0/1 [00:00<?, ?it/s]"
      ]
     },
     "metadata": {},
     "output_type": "display_data"
    },
    {
     "data": {
      "application/vnd.jupyter.widget-view+json": {
       "model_id": "78f74fd4a2bf4f008438f335718f0c95",
       "version_major": 2,
       "version_minor": 0
      },
      "text/plain": [
       "  0%|          | 0/1 [00:00<?, ?it/s]"
      ]
     },
     "metadata": {},
     "output_type": "display_data"
    },
    {
     "data": {
      "application/vnd.jupyter.widget-view+json": {
       "model_id": "7eaac944a288447a972c6785a5bcdb73",
       "version_major": 2,
       "version_minor": 0
      },
      "text/plain": [
       "  0%|          | 0/1 [00:00<?, ?it/s]"
      ]
     },
     "metadata": {},
     "output_type": "display_data"
    },
    {
     "data": {
      "application/vnd.jupyter.widget-view+json": {
       "model_id": "ed8a42b2273244d7aa2e82fb24e959a9",
       "version_major": 2,
       "version_minor": 0
      },
      "text/plain": [
       "  0%|          | 0/1 [00:00<?, ?it/s]"
      ]
     },
     "metadata": {},
     "output_type": "display_data"
    },
    {
     "data": {
      "application/vnd.jupyter.widget-view+json": {
       "model_id": "63d81f207dad4d049963e7869d730579",
       "version_major": 2,
       "version_minor": 0
      },
      "text/plain": [
       "  0%|          | 0/1 [00:00<?, ?it/s]"
      ]
     },
     "metadata": {},
     "output_type": "display_data"
    },
    {
     "name": "stdout",
     "output_type": "stream",
     "text": [
      "In die „RAPID“-Studie des britischen „National Cancer Research Institute“(NCRI) wurden Patienten im Stadium IA/IIA eines klassischen Hodgkin Lymphoms (bei Diagnosestellung lag bei ca. 70% der Patienten nach der GHSG-Risikostratifizierung ein frühes Stadium vor) bei Vorliegen eines negativen PET/CTs nach drei Zyklen ABVD entweder in einen Nachbeobachtungsarm oder in einen Therapiearm mit konsolidierender Strahlentherapie mit 30 Gy IF-RT randomisiert.\n",
      "\n",
      "No Filter:\n"
     ]
    },
    {
     "data": {
      "text/html": [
       "<div>\n",
       "<style scoped>\n",
       "    .dataframe tbody tr th:only-of-type {\n",
       "        vertical-align: middle;\n",
       "    }\n",
       "\n",
       "    .dataframe tbody tr th {\n",
       "        vertical-align: top;\n",
       "    }\n",
       "\n",
       "    .dataframe thead th {\n",
       "        text-align: right;\n",
       "    }\n",
       "</style>\n",
       "<table border=\"1\" class=\"dataframe\">\n",
       "  <thead>\n",
       "    <tr style=\"text-align: right;\">\n",
       "      <th></th>\n",
       "      <th>document</th>\n",
       "      <th>text</th>\n",
       "      <th>type</th>\n",
       "      <th>start</th>\n",
       "      <th>end</th>\n",
       "      <th>cui</th>\n",
       "      <th>tuis</th>\n",
       "      <th>canonical</th>\n",
       "      <th>linker</th>\n",
       "      <th>confidence</th>\n",
       "    </tr>\n",
       "  </thead>\n",
       "  <tbody>\n",
       "    <tr>\n",
       "      <th>3</th>\n",
       "      <td>18_hodgkin-lymphom_0051_5</td>\n",
       "      <td>GHSG-Risikostratifizierung</td>\n",
       "      <td>Diagnostic</td>\n",
       "      <td>211</td>\n",
       "      <td>237</td>\n",
       "      <td>C0018133</td>\n",
       "      <td>[T047]</td>\n",
       "      <td>Graft-versus-host-Krankheit</td>\n",
       "      <td>[sapbert]</td>\n",
       "      <td>0.063292</td>\n",
       "    </tr>\n",
       "  </tbody>\n",
       "</table>\n",
       "</div>"
      ],
      "text/plain": [
       "                    document                        text        type  start  \\\n",
       "3  18_hodgkin-lymphom_0051_5  GHSG-Risikostratifizierung  Diagnostic    211   \n",
       "\n",
       "   end       cui    tuis                    canonical     linker  confidence  \n",
       "3  237  C0018133  [T047]  Graft-versus-host-Krankheit  [sapbert]    0.063292  "
      ]
     },
     "metadata": {},
     "output_type": "display_data"
    },
    {
     "name": "stdout",
     "output_type": "stream",
     "text": [
      "Filter:\n"
     ]
    },
    {
     "data": {
      "text/html": [
       "<div>\n",
       "<style scoped>\n",
       "    .dataframe tbody tr th:only-of-type {\n",
       "        vertical-align: middle;\n",
       "    }\n",
       "\n",
       "    .dataframe tbody tr th {\n",
       "        vertical-align: top;\n",
       "    }\n",
       "\n",
       "    .dataframe thead th {\n",
       "        text-align: right;\n",
       "    }\n",
       "</style>\n",
       "<table border=\"1\" class=\"dataframe\">\n",
       "  <thead>\n",
       "    <tr style=\"text-align: right;\">\n",
       "      <th></th>\n",
       "      <th>document</th>\n",
       "      <th>text</th>\n",
       "      <th>type</th>\n",
       "      <th>start</th>\n",
       "      <th>end</th>\n",
       "      <th>cui</th>\n",
       "      <th>tuis</th>\n",
       "      <th>canonical</th>\n",
       "      <th>linker</th>\n",
       "      <th>confidence</th>\n",
       "    </tr>\n",
       "  </thead>\n",
       "  <tbody>\n",
       "    <tr>\n",
       "      <th>3</th>\n",
       "      <td>18_hodgkin-lymphom_0051_5</td>\n",
       "      <td>GHSG-Risikostratifizierung</td>\n",
       "      <td>Diagnostic</td>\n",
       "      <td>211</td>\n",
       "      <td>237</td>\n",
       "      <td>C0391690</td>\n",
       "      <td>[T116, T192]</td>\n",
       "      <td>Rezeptoren, Ghrelin-</td>\n",
       "      <td>[sapbert]</td>\n",
       "      <td>0.063205</td>\n",
       "    </tr>\n",
       "  </tbody>\n",
       "</table>\n",
       "</div>"
      ],
      "text/plain": [
       "                    document                        text        type  start  \\\n",
       "3  18_hodgkin-lymphom_0051_5  GHSG-Risikostratifizierung  Diagnostic    211   \n",
       "\n",
       "   end       cui          tuis             canonical     linker  confidence  \n",
       "3  237  C0391690  [T116, T192]  Rezeptoren, Ghrelin-  [sapbert]    0.063205  "
      ]
     },
     "metadata": {},
     "output_type": "display_data"
    },
    {
     "name": "stdout",
     "output_type": "stream",
     "text": [
      "####\n"
     ]
    },
    {
     "data": {
      "application/vnd.jupyter.widget-view+json": {
       "model_id": "b8cb8a329cba48bfb6dd87202d4a177f",
       "version_major": 2,
       "version_minor": 0
      },
      "text/plain": [
       "  0%|          | 0/1 [00:00<?, ?it/s]"
      ]
     },
     "metadata": {},
     "output_type": "display_data"
    },
    {
     "data": {
      "application/vnd.jupyter.widget-view+json": {
       "model_id": "4d07b584ab06462e958d59a25435ec65",
       "version_major": 2,
       "version_minor": 0
      },
      "text/plain": [
       "  0%|          | 0/1 [00:00<?, ?it/s]"
      ]
     },
     "metadata": {},
     "output_type": "display_data"
    },
    {
     "name": "stdout",
     "output_type": "stream",
     "text": [
      "Bei einem medianen Follow-up von 60 Monaten wurden im Beobachtungsarm 9.5% und im Strahlentherapiearm 3.5% Progresse dokumentiert.\n",
      "\n",
      "No Filter:\n"
     ]
    },
    {
     "data": {
      "text/html": [
       "<div>\n",
       "<style scoped>\n",
       "    .dataframe tbody tr th:only-of-type {\n",
       "        vertical-align: middle;\n",
       "    }\n",
       "\n",
       "    .dataframe tbody tr th {\n",
       "        vertical-align: top;\n",
       "    }\n",
       "\n",
       "    .dataframe thead th {\n",
       "        text-align: right;\n",
       "    }\n",
       "</style>\n",
       "<table border=\"1\" class=\"dataframe\">\n",
       "  <thead>\n",
       "    <tr style=\"text-align: right;\">\n",
       "      <th></th>\n",
       "      <th>document</th>\n",
       "      <th>text</th>\n",
       "      <th>type</th>\n",
       "      <th>start</th>\n",
       "      <th>end</th>\n",
       "      <th>cui</th>\n",
       "      <th>tuis</th>\n",
       "      <th>canonical</th>\n",
       "      <th>linker</th>\n",
       "      <th>confidence</th>\n",
       "    </tr>\n",
       "  </thead>\n",
       "  <tbody>\n",
       "    <tr>\n",
       "      <th>0</th>\n",
       "      <td>18_hodgkin-lymphom_0051_6</td>\n",
       "      <td>Beobachtungsarm</td>\n",
       "      <td>Diagnostic</td>\n",
       "      <td>54</td>\n",
       "      <td>69</td>\n",
       "      <td>C0302523</td>\n",
       "      <td>[T062]</td>\n",
       "      <td>Beobachtung</td>\n",
       "      <td>[ngram, sapbert]</td>\n",
       "      <td>0.088545</td>\n",
       "    </tr>\n",
       "  </tbody>\n",
       "</table>\n",
       "</div>"
      ],
      "text/plain": [
       "                    document             text        type  start  end  \\\n",
       "0  18_hodgkin-lymphom_0051_6  Beobachtungsarm  Diagnostic     54   69   \n",
       "\n",
       "        cui    tuis    canonical            linker  confidence  \n",
       "0  C0302523  [T062]  Beobachtung  [ngram, sapbert]    0.088545  "
      ]
     },
     "metadata": {},
     "output_type": "display_data"
    },
    {
     "name": "stdout",
     "output_type": "stream",
     "text": [
      "Filter:\n"
     ]
    },
    {
     "data": {
      "text/html": [
       "<div>\n",
       "<style scoped>\n",
       "    .dataframe tbody tr th:only-of-type {\n",
       "        vertical-align: middle;\n",
       "    }\n",
       "\n",
       "    .dataframe tbody tr th {\n",
       "        vertical-align: top;\n",
       "    }\n",
       "\n",
       "    .dataframe thead th {\n",
       "        text-align: right;\n",
       "    }\n",
       "</style>\n",
       "<table border=\"1\" class=\"dataframe\">\n",
       "  <thead>\n",
       "    <tr style=\"text-align: right;\">\n",
       "      <th></th>\n",
       "      <th>document</th>\n",
       "      <th>text</th>\n",
       "      <th>type</th>\n",
       "      <th>start</th>\n",
       "      <th>end</th>\n",
       "      <th>cui</th>\n",
       "      <th>tuis</th>\n",
       "      <th>canonical</th>\n",
       "      <th>linker</th>\n",
       "      <th>confidence</th>\n",
       "    </tr>\n",
       "  </thead>\n",
       "  <tbody>\n",
       "    <tr>\n",
       "      <th>0</th>\n",
       "      <td>18_hodgkin-lymphom_0051_6</td>\n",
       "      <td>Beobachtungsarm</td>\n",
       "      <td>Diagnostic</td>\n",
       "      <td>54</td>\n",
       "      <td>69</td>\n",
       "      <td>C0558046</td>\n",
       "      <td>[T061]</td>\n",
       "      <td>Levels of observation</td>\n",
       "      <td>[sapbert]</td>\n",
       "      <td>0.085869</td>\n",
       "    </tr>\n",
       "  </tbody>\n",
       "</table>\n",
       "</div>"
      ],
      "text/plain": [
       "                    document             text        type  start  end  \\\n",
       "0  18_hodgkin-lymphom_0051_6  Beobachtungsarm  Diagnostic     54   69   \n",
       "\n",
       "        cui    tuis              canonical     linker  confidence  \n",
       "0  C0558046  [T061]  Levels of observation  [sapbert]    0.085869  "
      ]
     },
     "metadata": {},
     "output_type": "display_data"
    },
    {
     "name": "stdout",
     "output_type": "stream",
     "text": [
      "####\n"
     ]
    },
    {
     "data": {
      "application/vnd.jupyter.widget-view+json": {
       "model_id": "98fac7e42b494bd0841c701541fc3e1e",
       "version_major": 2,
       "version_minor": 0
      },
      "text/plain": [
       "  0%|          | 0/1 [00:00<?, ?it/s]"
      ]
     },
     "metadata": {},
     "output_type": "display_data"
    },
    {
     "data": {
      "application/vnd.jupyter.widget-view+json": {
       "model_id": "56be390e8012452380a440ce3bd27acb",
       "version_major": 2,
       "version_minor": 0
      },
      "text/plain": [
       "  0%|          | 0/1 [00:00<?, ?it/s]"
      ]
     },
     "metadata": {},
     "output_type": "display_data"
    },
    {
     "name": "stdout",
     "output_type": "stream",
     "text": [
      "In der „Intent-to-Treat“-Analyse betrug das 3-Jahres progressionsfreie Überleben (PFS) 94.6% (95% Konfidenzintervall [CI], 91.5% bis 97.7%) im Bestrahlungsarm und 90.8% (95% CI, 86.9% bis 94.8%) im Beobachtungsarm; noch deutlicher war der PFS-Unterschied in der „Per-Protocol“-Analyse mit einem 3-Jahres PFS von 97.1% (95% CI, 94.7% bis 99.6%) im Bestrahlungsarm und von 90.8% (95% CI, 86.8% bis 94.7%) im Beobachtungsarm.\n",
      "\n",
      "No Filter:\n"
     ]
    },
    {
     "data": {
      "text/html": [
       "<div>\n",
       "<style scoped>\n",
       "    .dataframe tbody tr th:only-of-type {\n",
       "        vertical-align: middle;\n",
       "    }\n",
       "\n",
       "    .dataframe tbody tr th {\n",
       "        vertical-align: top;\n",
       "    }\n",
       "\n",
       "    .dataframe thead th {\n",
       "        text-align: right;\n",
       "    }\n",
       "</style>\n",
       "<table border=\"1\" class=\"dataframe\">\n",
       "  <thead>\n",
       "    <tr style=\"text-align: right;\">\n",
       "      <th></th>\n",
       "      <th>document</th>\n",
       "      <th>text</th>\n",
       "      <th>type</th>\n",
       "      <th>start</th>\n",
       "      <th>end</th>\n",
       "      <th>cui</th>\n",
       "      <th>tuis</th>\n",
       "      <th>canonical</th>\n",
       "      <th>linker</th>\n",
       "      <th>confidence</th>\n",
       "    </tr>\n",
       "  </thead>\n",
       "  <tbody>\n",
       "    <tr>\n",
       "      <th>3</th>\n",
       "      <td>18_hodgkin-lymphom_0051_7</td>\n",
       "      <td>Beobachtungsarm</td>\n",
       "      <td>Diagnostic</td>\n",
       "      <td>198</td>\n",
       "      <td>213</td>\n",
       "      <td>C0302523</td>\n",
       "      <td>[T062]</td>\n",
       "      <td>Beobachtung</td>\n",
       "      <td>[ngram, sapbert]</td>\n",
       "      <td>0.089368</td>\n",
       "    </tr>\n",
       "  </tbody>\n",
       "</table>\n",
       "</div>"
      ],
      "text/plain": [
       "                    document             text        type  start  end  \\\n",
       "3  18_hodgkin-lymphom_0051_7  Beobachtungsarm  Diagnostic    198  213   \n",
       "\n",
       "        cui    tuis    canonical            linker  confidence  \n",
       "3  C0302523  [T062]  Beobachtung  [ngram, sapbert]    0.089368  "
      ]
     },
     "metadata": {},
     "output_type": "display_data"
    },
    {
     "name": "stdout",
     "output_type": "stream",
     "text": [
      "Filter:\n"
     ]
    },
    {
     "data": {
      "text/html": [
       "<div>\n",
       "<style scoped>\n",
       "    .dataframe tbody tr th:only-of-type {\n",
       "        vertical-align: middle;\n",
       "    }\n",
       "\n",
       "    .dataframe tbody tr th {\n",
       "        vertical-align: top;\n",
       "    }\n",
       "\n",
       "    .dataframe thead th {\n",
       "        text-align: right;\n",
       "    }\n",
       "</style>\n",
       "<table border=\"1\" class=\"dataframe\">\n",
       "  <thead>\n",
       "    <tr style=\"text-align: right;\">\n",
       "      <th></th>\n",
       "      <th>document</th>\n",
       "      <th>text</th>\n",
       "      <th>type</th>\n",
       "      <th>start</th>\n",
       "      <th>end</th>\n",
       "      <th>cui</th>\n",
       "      <th>tuis</th>\n",
       "      <th>canonical</th>\n",
       "      <th>linker</th>\n",
       "      <th>confidence</th>\n",
       "    </tr>\n",
       "  </thead>\n",
       "  <tbody>\n",
       "    <tr>\n",
       "      <th>3</th>\n",
       "      <td>18_hodgkin-lymphom_0051_7</td>\n",
       "      <td>Beobachtungsarm</td>\n",
       "      <td>Diagnostic</td>\n",
       "      <td>198</td>\n",
       "      <td>213</td>\n",
       "      <td>C1964257</td>\n",
       "      <td>[T060]</td>\n",
       "      <td>Observation</td>\n",
       "      <td>[sapbert]</td>\n",
       "      <td>0.08438</td>\n",
       "    </tr>\n",
       "  </tbody>\n",
       "</table>\n",
       "</div>"
      ],
      "text/plain": [
       "                    document             text        type  start  end  \\\n",
       "3  18_hodgkin-lymphom_0051_7  Beobachtungsarm  Diagnostic    198  213   \n",
       "\n",
       "        cui    tuis    canonical     linker  confidence  \n",
       "3  C1964257  [T060]  Observation  [sapbert]     0.08438  "
      ]
     },
     "metadata": {},
     "output_type": "display_data"
    },
    {
     "name": "stdout",
     "output_type": "stream",
     "text": [
      "####\n"
     ]
    },
    {
     "data": {
      "application/vnd.jupyter.widget-view+json": {
       "model_id": "413c3245d1d849c28fa77649d17b4379",
       "version_major": 2,
       "version_minor": 0
      },
      "text/plain": [
       "  0%|          | 0/1 [00:00<?, ?it/s]"
      ]
     },
     "metadata": {},
     "output_type": "display_data"
    },
    {
     "data": {
      "application/vnd.jupyter.widget-view+json": {
       "model_id": "9832687f590b464eb21ad323aebf66c6",
       "version_major": 2,
       "version_minor": 0
      },
      "text/plain": [
       "  0%|          | 0/1 [00:00<?, ?it/s]"
      ]
     },
     "metadata": {},
     "output_type": "display_data"
    },
    {
     "data": {
      "application/vnd.jupyter.widget-view+json": {
       "model_id": "1661007304414beb8f23000322da8dbb",
       "version_major": 2,
       "version_minor": 0
      },
      "text/plain": [
       "  0%|          | 0/1 [00:00<?, ?it/s]"
      ]
     },
     "metadata": {},
     "output_type": "display_data"
    },
    {
     "data": {
      "application/vnd.jupyter.widget-view+json": {
       "model_id": "9f9f84a823c04fa2b98e0a5bc4ac072c",
       "version_major": 2,
       "version_minor": 0
      },
      "text/plain": [
       "  0%|          | 0/1 [00:00<?, ?it/s]"
      ]
     },
     "metadata": {},
     "output_type": "display_data"
    },
    {
     "name": "stdout",
     "output_type": "stream",
     "text": [
      "In der H10F Studie der EORTC/The Lymphoma Study Association (LYSA)/Italian Foundation for Lymphoma Study (FIL) wurden Patienten im Stadium I/II eines klassischen Hodgkin Lymphoms ohne Vorliegen eines definierten Risikofaktors bei Dokumentation eines negativen PET/CTs nach zwei Zyklen ABVD im Standardarm mit einem weiteren Zyklus ABVD gefolgt von 30 Gy „involved-node“ (IN)-RT und im experimentellen Arm mit zwei weiteren Zyklen ABVD ohne konsolidierende Strahlentherapie behandelt.\n",
      "\n",
      "No Filter:\n"
     ]
    },
    {
     "data": {
      "text/html": [
       "<div>\n",
       "<style scoped>\n",
       "    .dataframe tbody tr th:only-of-type {\n",
       "        vertical-align: middle;\n",
       "    }\n",
       "\n",
       "    .dataframe tbody tr th {\n",
       "        vertical-align: top;\n",
       "    }\n",
       "\n",
       "    .dataframe thead th {\n",
       "        text-align: right;\n",
       "    }\n",
       "</style>\n",
       "<table border=\"1\" class=\"dataframe\">\n",
       "  <thead>\n",
       "    <tr style=\"text-align: right;\">\n",
       "      <th></th>\n",
       "      <th>document</th>\n",
       "      <th>text</th>\n",
       "      <th>type</th>\n",
       "      <th>start</th>\n",
       "      <th>end</th>\n",
       "      <th>cui</th>\n",
       "      <th>tuis</th>\n",
       "      <th>canonical</th>\n",
       "      <th>linker</th>\n",
       "      <th>confidence</th>\n",
       "    </tr>\n",
       "  </thead>\n",
       "  <tbody>\n",
       "    <tr>\n",
       "      <th>4</th>\n",
       "      <td>18_hodgkin-lymphom_0051_9</td>\n",
       "      <td>zwei weiteren Zyklen ABVD ohne konsolidierende...</td>\n",
       "      <td>Therapeutic</td>\n",
       "      <td>409</td>\n",
       "      <td>472</td>\n",
       "      <td>C1168319</td>\n",
       "      <td>[T033]</td>\n",
       "      <td>AV dual-paced rhythm</td>\n",
       "      <td>[sapbert]</td>\n",
       "      <td>0.062895</td>\n",
       "    </tr>\n",
       "  </tbody>\n",
       "</table>\n",
       "</div>"
      ],
      "text/plain": [
       "                    document  \\\n",
       "4  18_hodgkin-lymphom_0051_9   \n",
       "\n",
       "                                                text         type  start  end  \\\n",
       "4  zwei weiteren Zyklen ABVD ohne konsolidierende...  Therapeutic    409  472   \n",
       "\n",
       "        cui    tuis             canonical     linker  confidence  \n",
       "4  C1168319  [T033]  AV dual-paced rhythm  [sapbert]    0.062895  "
      ]
     },
     "metadata": {},
     "output_type": "display_data"
    },
    {
     "name": "stdout",
     "output_type": "stream",
     "text": [
      "Filter:\n"
     ]
    },
    {
     "data": {
      "text/html": [
       "<div>\n",
       "<style scoped>\n",
       "    .dataframe tbody tr th:only-of-type {\n",
       "        vertical-align: middle;\n",
       "    }\n",
       "\n",
       "    .dataframe tbody tr th {\n",
       "        vertical-align: top;\n",
       "    }\n",
       "\n",
       "    .dataframe thead th {\n",
       "        text-align: right;\n",
       "    }\n",
       "</style>\n",
       "<table border=\"1\" class=\"dataframe\">\n",
       "  <thead>\n",
       "    <tr style=\"text-align: right;\">\n",
       "      <th></th>\n",
       "      <th>document</th>\n",
       "      <th>text</th>\n",
       "      <th>type</th>\n",
       "      <th>start</th>\n",
       "      <th>end</th>\n",
       "      <th>cui</th>\n",
       "      <th>tuis</th>\n",
       "      <th>canonical</th>\n",
       "      <th>linker</th>\n",
       "      <th>confidence</th>\n",
       "    </tr>\n",
       "  </thead>\n",
       "  <tbody>\n",
       "    <tr>\n",
       "      <th>4</th>\n",
       "      <td>18_hodgkin-lymphom_0051_9</td>\n",
       "      <td>zwei weiteren Zyklen ABVD ohne konsolidierende...</td>\n",
       "      <td>Therapeutic</td>\n",
       "      <td>409</td>\n",
       "      <td>472</td>\n",
       "      <td>C0396772</td>\n",
       "      <td>[T061]</td>\n",
       "      <td>Revision of bypass for two coronary arteries</td>\n",
       "      <td>[sapbert]</td>\n",
       "      <td>0.064947</td>\n",
       "    </tr>\n",
       "  </tbody>\n",
       "</table>\n",
       "</div>"
      ],
      "text/plain": [
       "                    document  \\\n",
       "4  18_hodgkin-lymphom_0051_9   \n",
       "\n",
       "                                                text         type  start  end  \\\n",
       "4  zwei weiteren Zyklen ABVD ohne konsolidierende...  Therapeutic    409  472   \n",
       "\n",
       "        cui    tuis                                     canonical     linker  \\\n",
       "4  C0396772  [T061]  Revision of bypass for two coronary arteries  [sapbert]   \n",
       "\n",
       "   confidence  \n",
       "4    0.064947  "
      ]
     },
     "metadata": {},
     "output_type": "display_data"
    },
    {
     "name": "stdout",
     "output_type": "stream",
     "text": [
      "####\n"
     ]
    },
    {
     "data": {
      "application/vnd.jupyter.widget-view+json": {
       "model_id": "1cb0405b332d438b8163d52348a7ca35",
       "version_major": 2,
       "version_minor": 0
      },
      "text/plain": [
       "  0%|          | 0/1 [00:00<?, ?it/s]"
      ]
     },
     "metadata": {},
     "output_type": "display_data"
    },
    {
     "data": {
      "application/vnd.jupyter.widget-view+json": {
       "model_id": "66afabac30304767a176324479abd961",
       "version_major": 2,
       "version_minor": 0
      },
      "text/plain": [
       "  0%|          | 0/1 [00:00<?, ?it/s]"
      ]
     },
     "metadata": {},
     "output_type": "display_data"
    },
    {
     "name": "stdout",
     "output_type": "stream",
     "text": [
      "Der experimentelle Arm wurde nach Vorliegen der Ergebnisse der 12-Monats-Interimsanalyse geschlossen, da im experimentellen Arm 9 Rezidive und im Standardarm nur 1 Rezidiv zu dokumentieren waren (1-Jahres PFS 94.9% (95% CI 91.9% bis 96.9%) bzw. 100%) [REF].\n",
      "\n",
      "No Filter:\n"
     ]
    },
    {
     "data": {
      "text/html": [
       "<div>\n",
       "<style scoped>\n",
       "    .dataframe tbody tr th:only-of-type {\n",
       "        vertical-align: middle;\n",
       "    }\n",
       "\n",
       "    .dataframe tbody tr th {\n",
       "        vertical-align: top;\n",
       "    }\n",
       "\n",
       "    .dataframe thead th {\n",
       "        text-align: right;\n",
       "    }\n",
       "</style>\n",
       "<table border=\"1\" class=\"dataframe\">\n",
       "  <thead>\n",
       "    <tr style=\"text-align: right;\">\n",
       "      <th></th>\n",
       "      <th>document</th>\n",
       "      <th>text</th>\n",
       "      <th>type</th>\n",
       "      <th>start</th>\n",
       "      <th>end</th>\n",
       "      <th>cui</th>\n",
       "      <th>tuis</th>\n",
       "      <th>canonical</th>\n",
       "      <th>linker</th>\n",
       "      <th>confidence</th>\n",
       "    </tr>\n",
       "  </thead>\n",
       "  <tbody>\n",
       "    <tr>\n",
       "      <th>2</th>\n",
       "      <td>18_hodgkin-lymphom_0051_10</td>\n",
       "      <td>1-Jahres PFS</td>\n",
       "      <td>Other_Finding</td>\n",
       "      <td>196</td>\n",
       "      <td>208</td>\n",
       "      <td>C0969299</td>\n",
       "      <td>[T116]</td>\n",
       "      <td>small heat shock protein, Pyrococcus furiosus</td>\n",
       "      <td>[sapbert]</td>\n",
       "      <td>0.092062</td>\n",
       "    </tr>\n",
       "  </tbody>\n",
       "</table>\n",
       "</div>"
      ],
      "text/plain": [
       "                     document          text           type  start  end  \\\n",
       "2  18_hodgkin-lymphom_0051_10  1-Jahres PFS  Other_Finding    196  208   \n",
       "\n",
       "        cui    tuis                                      canonical     linker  \\\n",
       "2  C0969299  [T116]  small heat shock protein, Pyrococcus furiosus  [sapbert]   \n",
       "\n",
       "   confidence  \n",
       "2    0.092062  "
      ]
     },
     "metadata": {},
     "output_type": "display_data"
    },
    {
     "name": "stdout",
     "output_type": "stream",
     "text": [
      "Filter:\n"
     ]
    },
    {
     "data": {
      "text/html": [
       "<div>\n",
       "<style scoped>\n",
       "    .dataframe tbody tr th:only-of-type {\n",
       "        vertical-align: middle;\n",
       "    }\n",
       "\n",
       "    .dataframe tbody tr th {\n",
       "        vertical-align: top;\n",
       "    }\n",
       "\n",
       "    .dataframe thead th {\n",
       "        text-align: right;\n",
       "    }\n",
       "</style>\n",
       "<table border=\"1\" class=\"dataframe\">\n",
       "  <thead>\n",
       "    <tr style=\"text-align: right;\">\n",
       "      <th></th>\n",
       "      <th>document</th>\n",
       "      <th>text</th>\n",
       "      <th>type</th>\n",
       "      <th>start</th>\n",
       "      <th>end</th>\n",
       "      <th>cui</th>\n",
       "      <th>tuis</th>\n",
       "      <th>canonical</th>\n",
       "      <th>linker</th>\n",
       "      <th>confidence</th>\n",
       "    </tr>\n",
       "  </thead>\n",
       "  <tbody>\n",
       "    <tr>\n",
       "      <th>2</th>\n",
       "      <td>18_hodgkin-lymphom_0051_10</td>\n",
       "      <td>1-Jahres PFS</td>\n",
       "      <td>Other_Finding</td>\n",
       "      <td>196</td>\n",
       "      <td>208</td>\n",
       "      <td>C1453067</td>\n",
       "      <td>[T116, T126]</td>\n",
       "      <td>aldo-keto reductase family 1 member C3 protein...</td>\n",
       "      <td>[sapbert]</td>\n",
       "      <td>0.063981</td>\n",
       "    </tr>\n",
       "  </tbody>\n",
       "</table>\n",
       "</div>"
      ],
      "text/plain": [
       "                     document          text           type  start  end  \\\n",
       "2  18_hodgkin-lymphom_0051_10  1-Jahres PFS  Other_Finding    196  208   \n",
       "\n",
       "        cui          tuis                                          canonical  \\\n",
       "2  C1453067  [T116, T126]  aldo-keto reductase family 1 member C3 protein...   \n",
       "\n",
       "      linker  confidence  \n",
       "2  [sapbert]    0.063981  "
      ]
     },
     "metadata": {},
     "output_type": "display_data"
    },
    {
     "name": "stdout",
     "output_type": "stream",
     "text": [
      "####\n"
     ]
    },
    {
     "data": {
      "application/vnd.jupyter.widget-view+json": {
       "model_id": "948a9e3fb070419e82593bdf9088a7f0",
       "version_major": 2,
       "version_minor": 0
      },
      "text/plain": [
       "  0%|          | 0/1 [00:00<?, ?it/s]"
      ]
     },
     "metadata": {},
     "output_type": "display_data"
    },
    {
     "data": {
      "application/vnd.jupyter.widget-view+json": {
       "model_id": "c3b287ec33fa45b7b5443b72db47b4f6",
       "version_major": 2,
       "version_minor": 0
      },
      "text/plain": [
       "  0%|          | 0/1 [00:00<?, ?it/s]"
      ]
     },
     "metadata": {},
     "output_type": "display_data"
    },
    {
     "data": {
      "application/vnd.jupyter.widget-view+json": {
       "model_id": "7542fdefba8a427fbb06ff80e16e6d10",
       "version_major": 2,
       "version_minor": 0
      },
      "text/plain": [
       "  0%|          | 0/1 [00:00<?, ?it/s]"
      ]
     },
     "metadata": {},
     "output_type": "display_data"
    },
    {
     "data": {
      "application/vnd.jupyter.widget-view+json": {
       "model_id": "7e6e7af3221443fbb0abcc279d83d65c",
       "version_major": 2,
       "version_minor": 0
      },
      "text/plain": [
       "  0%|          | 0/1 [00:00<?, ?it/s]"
      ]
     },
     "metadata": {},
     "output_type": "display_data"
    },
    {
     "data": {
      "application/vnd.jupyter.widget-view+json": {
       "model_id": "cda985370eb742feb867bdcab99fd4eb",
       "version_major": 2,
       "version_minor": 0
      },
      "text/plain": [
       "  0%|          | 0/1 [00:00<?, ?it/s]"
      ]
     },
     "metadata": {},
     "output_type": "display_data"
    },
    {
     "data": {
      "application/vnd.jupyter.widget-view+json": {
       "model_id": "c5a4c962a813458cbc1346031d78f6a4",
       "version_major": 2,
       "version_minor": 0
      },
      "text/plain": [
       "  0%|          | 0/1 [00:00<?, ?it/s]"
      ]
     },
     "metadata": {},
     "output_type": "display_data"
    },
    {
     "data": {
      "application/vnd.jupyter.widget-view+json": {
       "model_id": "45aa90c00733482a899bb07bab74ee9c",
       "version_major": 2,
       "version_minor": 0
      },
      "text/plain": [
       "  0%|          | 0/1 [00:00<?, ?it/s]"
      ]
     },
     "metadata": {},
     "output_type": "display_data"
    },
    {
     "data": {
      "application/vnd.jupyter.widget-view+json": {
       "model_id": "d2248a55b5e54c11821dcd2ca3adf242",
       "version_major": 2,
       "version_minor": 0
      },
      "text/plain": [
       "  0%|          | 0/1 [00:00<?, ?it/s]"
      ]
     },
     "metadata": {},
     "output_type": "display_data"
    },
    {
     "data": {
      "application/vnd.jupyter.widget-view+json": {
       "model_id": "ce3df77c354a441081e00eb1de373a5c",
       "version_major": 2,
       "version_minor": 0
      },
      "text/plain": [
       "  0%|          | 0/1 [00:00<?, ?it/s]"
      ]
     },
     "metadata": {},
     "output_type": "display_data"
    },
    {
     "data": {
      "application/vnd.jupyter.widget-view+json": {
       "model_id": "eda189133257487a945f49eccfb18305",
       "version_major": 2,
       "version_minor": 0
      },
      "text/plain": [
       "  0%|          | 0/1 [00:00<?, ?it/s]"
      ]
     },
     "metadata": {},
     "output_type": "display_data"
    },
    {
     "name": "stdout",
     "output_type": "stream",
     "text": [
      "Der PFS-Unterschied war v.a. durch eine vermehrte Inzidenz an Rezidiven im Bereich der initialen Lymphomlokalisation und damit im Bestrahlungsfeld bedingt.\n",
      "\n",
      "No Filter:\n"
     ]
    },
    {
     "data": {
      "text/html": [
       "<div>\n",
       "<style scoped>\n",
       "    .dataframe tbody tr th:only-of-type {\n",
       "        vertical-align: middle;\n",
       "    }\n",
       "\n",
       "    .dataframe tbody tr th {\n",
       "        vertical-align: top;\n",
       "    }\n",
       "\n",
       "    .dataframe thead th {\n",
       "        text-align: right;\n",
       "    }\n",
       "</style>\n",
       "<table border=\"1\" class=\"dataframe\">\n",
       "  <thead>\n",
       "    <tr style=\"text-align: right;\">\n",
       "      <th></th>\n",
       "      <th>document</th>\n",
       "      <th>text</th>\n",
       "      <th>type</th>\n",
       "      <th>start</th>\n",
       "      <th>end</th>\n",
       "      <th>cui</th>\n",
       "      <th>tuis</th>\n",
       "      <th>canonical</th>\n",
       "      <th>linker</th>\n",
       "      <th>confidence</th>\n",
       "    </tr>\n",
       "  </thead>\n",
       "  <tbody>\n",
       "    <tr>\n",
       "      <th>0</th>\n",
       "      <td>18_hodgkin-lymphom_0051_15</td>\n",
       "      <td>PFS-Unterschied</td>\n",
       "      <td>Other_Finding</td>\n",
       "      <td>4</td>\n",
       "      <td>19</td>\n",
       "      <td>C0231981</td>\n",
       "      <td>[T034]</td>\n",
       "      <td>Partial expiratory flow-static recoil curve</td>\n",
       "      <td>[sapbert]</td>\n",
       "      <td>0.064313</td>\n",
       "    </tr>\n",
       "    <tr>\n",
       "      <th>2</th>\n",
       "      <td>18_hodgkin-lymphom_0051_15</td>\n",
       "      <td>Bestrahlungsfeld</td>\n",
       "      <td>Therapeutic</td>\n",
       "      <td>130</td>\n",
       "      <td>146</td>\n",
       "      <td>C1882536</td>\n",
       "      <td>[T029]</td>\n",
       "      <td>Radiation Field</td>\n",
       "      <td>[sapbert]</td>\n",
       "      <td>0.094267</td>\n",
       "    </tr>\n",
       "  </tbody>\n",
       "</table>\n",
       "</div>"
      ],
      "text/plain": [
       "                     document              text           type  start  end  \\\n",
       "0  18_hodgkin-lymphom_0051_15   PFS-Unterschied  Other_Finding      4   19   \n",
       "2  18_hodgkin-lymphom_0051_15  Bestrahlungsfeld    Therapeutic    130  146   \n",
       "\n",
       "        cui    tuis                                    canonical     linker  \\\n",
       "0  C0231981  [T034]  Partial expiratory flow-static recoil curve  [sapbert]   \n",
       "2  C1882536  [T029]                              Radiation Field  [sapbert]   \n",
       "\n",
       "   confidence  \n",
       "0    0.064313  \n",
       "2    0.094267  "
      ]
     },
     "metadata": {},
     "output_type": "display_data"
    },
    {
     "name": "stdout",
     "output_type": "stream",
     "text": [
      "Filter:\n"
     ]
    },
    {
     "data": {
      "text/html": [
       "<div>\n",
       "<style scoped>\n",
       "    .dataframe tbody tr th:only-of-type {\n",
       "        vertical-align: middle;\n",
       "    }\n",
       "\n",
       "    .dataframe tbody tr th {\n",
       "        vertical-align: top;\n",
       "    }\n",
       "\n",
       "    .dataframe thead th {\n",
       "        text-align: right;\n",
       "    }\n",
       "</style>\n",
       "<table border=\"1\" class=\"dataframe\">\n",
       "  <thead>\n",
       "    <tr style=\"text-align: right;\">\n",
       "      <th></th>\n",
       "      <th>document</th>\n",
       "      <th>text</th>\n",
       "      <th>type</th>\n",
       "      <th>start</th>\n",
       "      <th>end</th>\n",
       "      <th>cui</th>\n",
       "      <th>tuis</th>\n",
       "      <th>canonical</th>\n",
       "      <th>linker</th>\n",
       "      <th>confidence</th>\n",
       "    </tr>\n",
       "  </thead>\n",
       "  <tbody>\n",
       "    <tr>\n",
       "      <th>0</th>\n",
       "      <td>18_hodgkin-lymphom_0051_15</td>\n",
       "      <td>PFS-Unterschied</td>\n",
       "      <td>Other_Finding</td>\n",
       "      <td>4</td>\n",
       "      <td>19</td>\n",
       "      <td>C1453067</td>\n",
       "      <td>[T116, T126]</td>\n",
       "      <td>aldo-keto reductase family 1 member C3 protein...</td>\n",
       "      <td>[sapbert]</td>\n",
       "      <td>0.064342</td>\n",
       "    </tr>\n",
       "    <tr>\n",
       "      <th>2</th>\n",
       "      <td>18_hodgkin-lymphom_0051_15</td>\n",
       "      <td>Bestrahlungsfeld</td>\n",
       "      <td>Therapeutic</td>\n",
       "      <td>130</td>\n",
       "      <td>146</td>\n",
       "      <td>C0851346</td>\n",
       "      <td>[T070]</td>\n",
       "      <td>Strahlung</td>\n",
       "      <td>[ngram, sapbert]</td>\n",
       "      <td>0.069980</td>\n",
       "    </tr>\n",
       "  </tbody>\n",
       "</table>\n",
       "</div>"
      ],
      "text/plain": [
       "                     document              text           type  start  end  \\\n",
       "0  18_hodgkin-lymphom_0051_15   PFS-Unterschied  Other_Finding      4   19   \n",
       "2  18_hodgkin-lymphom_0051_15  Bestrahlungsfeld    Therapeutic    130  146   \n",
       "\n",
       "        cui          tuis                                          canonical  \\\n",
       "0  C1453067  [T116, T126]  aldo-keto reductase family 1 member C3 protein...   \n",
       "2  C0851346        [T070]                                          Strahlung   \n",
       "\n",
       "             linker  confidence  \n",
       "0         [sapbert]    0.064342  \n",
       "2  [ngram, sapbert]    0.069980  "
      ]
     },
     "metadata": {},
     "output_type": "display_data"
    },
    {
     "name": "stdout",
     "output_type": "stream",
     "text": [
      "####\n"
     ]
    },
    {
     "data": {
      "application/vnd.jupyter.widget-view+json": {
       "model_id": "c2baed2f60404ae6a42f0539f55f1ac4",
       "version_major": 2,
       "version_minor": 0
      },
      "text/plain": [
       "  0%|          | 0/1 [00:00<?, ?it/s]"
      ]
     },
     "metadata": {},
     "output_type": "display_data"
    },
    {
     "data": {
      "application/vnd.jupyter.widget-view+json": {
       "model_id": "35ef5c3e3c9241d3b8ea6508c599536f",
       "version_major": 2,
       "version_minor": 0
      },
      "text/plain": [
       "  0%|          | 0/1 [00:00<?, ?it/s]"
      ]
     },
     "metadata": {},
     "output_type": "display_data"
    },
    {
     "data": {
      "application/vnd.jupyter.widget-view+json": {
       "model_id": "4327f999489242638e91fbb29a8af80c",
       "version_major": 2,
       "version_minor": 0
      },
      "text/plain": [
       "  0%|          | 0/1 [00:00<?, ?it/s]"
      ]
     },
     "metadata": {},
     "output_type": "display_data"
    },
    {
     "data": {
      "application/vnd.jupyter.widget-view+json": {
       "model_id": "ad6b82b5bea2435b8d4dd76c7cb4e56f",
       "version_major": 2,
       "version_minor": 0
      },
      "text/plain": [
       "  0%|          | 0/1 [00:00<?, ?it/s]"
      ]
     },
     "metadata": {},
     "output_type": "display_data"
    },
    {
     "data": {
      "application/vnd.jupyter.widget-view+json": {
       "model_id": "d52d10b192034c3f9559cbc7686731c0",
       "version_major": 2,
       "version_minor": 0
      },
      "text/plain": [
       "  0%|          | 0/1 [00:00<?, ?it/s]"
      ]
     },
     "metadata": {},
     "output_type": "display_data"
    },
    {
     "data": {
      "application/vnd.jupyter.widget-view+json": {
       "model_id": "fdf19265d8fe43bebf679a4c4a97de89",
       "version_major": 2,
       "version_minor": 0
      },
      "text/plain": [
       "  0%|          | 0/1 [00:00<?, ?it/s]"
      ]
     },
     "metadata": {},
     "output_type": "display_data"
    },
    {
     "data": {
      "application/vnd.jupyter.widget-view+json": {
       "model_id": "7c920c3ef99e42c98ab360d2d8c45ad8",
       "version_major": 2,
       "version_minor": 0
      },
      "text/plain": [
       "  0%|          | 0/1 [00:00<?, ?it/s]"
      ]
     },
     "metadata": {},
     "output_type": "display_data"
    },
    {
     "data": {
      "application/vnd.jupyter.widget-view+json": {
       "model_id": "df2ef9b0f5c34f3dae9c3974083a43c3",
       "version_major": 2,
       "version_minor": 0
      },
      "text/plain": [
       "  0%|          | 0/1 [00:00<?, ?it/s]"
      ]
     },
     "metadata": {},
     "output_type": "display_data"
    },
    {
     "name": "stdout",
     "output_type": "stream",
     "text": [
      "Zusammenfassend ergab die Meta-Analyse der RAPID-, H10F- und HD16-Studie der GHSG, dass der Verzicht auf eine konsolidierende Strahlentherapie trotz Dokumentation einer PET-Negativität nach zwei bis drei Zyklen ABVD mit einer niedrigeren Tumorkontrolle und damit einem niedrigeren PFS/EFS einhergeht ( [REF] [REF] und Metaanalyse im Leitlinienreport).\n",
      "\n",
      "No Filter:\n"
     ]
    },
    {
     "data": {
      "text/html": [
       "<div>\n",
       "<style scoped>\n",
       "    .dataframe tbody tr th:only-of-type {\n",
       "        vertical-align: middle;\n",
       "    }\n",
       "\n",
       "    .dataframe tbody tr th {\n",
       "        vertical-align: top;\n",
       "    }\n",
       "\n",
       "    .dataframe thead th {\n",
       "        text-align: right;\n",
       "    }\n",
       "</style>\n",
       "<table border=\"1\" class=\"dataframe\">\n",
       "  <thead>\n",
       "    <tr style=\"text-align: right;\">\n",
       "      <th></th>\n",
       "      <th>document</th>\n",
       "      <th>text</th>\n",
       "      <th>type</th>\n",
       "      <th>start</th>\n",
       "      <th>end</th>\n",
       "      <th>cui</th>\n",
       "      <th>tuis</th>\n",
       "      <th>canonical</th>\n",
       "      <th>linker</th>\n",
       "      <th>confidence</th>\n",
       "    </tr>\n",
       "  </thead>\n",
       "  <tbody>\n",
       "    <tr>\n",
       "      <th>1</th>\n",
       "      <td>18_hodgkin-lymphom_0051_19</td>\n",
       "      <td>Dokumentation einer PET-Negativität nach zwei ...</td>\n",
       "      <td>Diagnostic</td>\n",
       "      <td>149</td>\n",
       "      <td>215</td>\n",
       "      <td>C0439619</td>\n",
       "      <td>[T079]</td>\n",
       "      <td>Two stage revision</td>\n",
       "      <td>[sapbert]</td>\n",
       "      <td>0.062827</td>\n",
       "    </tr>\n",
       "    <tr>\n",
       "      <th>2</th>\n",
       "      <td>18_hodgkin-lymphom_0051_19</td>\n",
       "      <td>Dokumentation einer PET-Negativität</td>\n",
       "      <td>Diagnostic</td>\n",
       "      <td>149</td>\n",
       "      <td>184</td>\n",
       "      <td>C0853546</td>\n",
       "      <td>[T033]</td>\n",
       "      <td>Positron emission tomogram abnormal</td>\n",
       "      <td>[sapbert]</td>\n",
       "      <td>0.064737</td>\n",
       "    </tr>\n",
       "    <tr>\n",
       "      <th>4</th>\n",
       "      <td>18_hodgkin-lymphom_0051_19</td>\n",
       "      <td>zwei bis drei Zyklen ABVD</td>\n",
       "      <td>Therapeutic</td>\n",
       "      <td>190</td>\n",
       "      <td>215</td>\n",
       "      <td>C0050380</td>\n",
       "      <td>[T061]</td>\n",
       "      <td>BLEO/DOX/DTIC/VBL</td>\n",
       "      <td>[sapbert]</td>\n",
       "      <td>0.066833</td>\n",
       "    </tr>\n",
       "  </tbody>\n",
       "</table>\n",
       "</div>"
      ],
      "text/plain": [
       "                     document  \\\n",
       "1  18_hodgkin-lymphom_0051_19   \n",
       "2  18_hodgkin-lymphom_0051_19   \n",
       "4  18_hodgkin-lymphom_0051_19   \n",
       "\n",
       "                                                text         type  start  end  \\\n",
       "1  Dokumentation einer PET-Negativität nach zwei ...   Diagnostic    149  215   \n",
       "2                Dokumentation einer PET-Negativität   Diagnostic    149  184   \n",
       "4                          zwei bis drei Zyklen ABVD  Therapeutic    190  215   \n",
       "\n",
       "        cui    tuis                            canonical     linker  \\\n",
       "1  C0439619  [T079]                   Two stage revision  [sapbert]   \n",
       "2  C0853546  [T033]  Positron emission tomogram abnormal  [sapbert]   \n",
       "4  C0050380  [T061]                    BLEO/DOX/DTIC/VBL  [sapbert]   \n",
       "\n",
       "   confidence  \n",
       "1    0.062827  \n",
       "2    0.064737  \n",
       "4    0.066833  "
      ]
     },
     "metadata": {},
     "output_type": "display_data"
    },
    {
     "name": "stdout",
     "output_type": "stream",
     "text": [
      "Filter:\n"
     ]
    },
    {
     "data": {
      "text/html": [
       "<div>\n",
       "<style scoped>\n",
       "    .dataframe tbody tr th:only-of-type {\n",
       "        vertical-align: middle;\n",
       "    }\n",
       "\n",
       "    .dataframe tbody tr th {\n",
       "        vertical-align: top;\n",
       "    }\n",
       "\n",
       "    .dataframe thead th {\n",
       "        text-align: right;\n",
       "    }\n",
       "</style>\n",
       "<table border=\"1\" class=\"dataframe\">\n",
       "  <thead>\n",
       "    <tr style=\"text-align: right;\">\n",
       "      <th></th>\n",
       "      <th>document</th>\n",
       "      <th>text</th>\n",
       "      <th>type</th>\n",
       "      <th>start</th>\n",
       "      <th>end</th>\n",
       "      <th>cui</th>\n",
       "      <th>tuis</th>\n",
       "      <th>canonical</th>\n",
       "      <th>linker</th>\n",
       "      <th>confidence</th>\n",
       "    </tr>\n",
       "  </thead>\n",
       "  <tbody>\n",
       "    <tr>\n",
       "      <th>1</th>\n",
       "      <td>18_hodgkin-lymphom_0051_19</td>\n",
       "      <td>Dokumentation einer PET-Negativität nach zwei ...</td>\n",
       "      <td>Diagnostic</td>\n",
       "      <td>149</td>\n",
       "      <td>215</td>\n",
       "      <td>C4085919</td>\n",
       "      <td>[T060]</td>\n",
       "      <td>4D PET Scan</td>\n",
       "      <td>[sapbert]</td>\n",
       "      <td>0.063313</td>\n",
       "    </tr>\n",
       "    <tr>\n",
       "      <th>2</th>\n",
       "      <td>18_hodgkin-lymphom_0051_19</td>\n",
       "      <td>Dokumentation einer PET-Negativität</td>\n",
       "      <td>Diagnostic</td>\n",
       "      <td>149</td>\n",
       "      <td>184</td>\n",
       "      <td>C0182349</td>\n",
       "      <td>[T074]</td>\n",
       "      <td>Positron emission tomography unit</td>\n",
       "      <td>[sapbert]</td>\n",
       "      <td>0.064357</td>\n",
       "    </tr>\n",
       "    <tr>\n",
       "      <th>4</th>\n",
       "      <td>18_hodgkin-lymphom_0051_19</td>\n",
       "      <td>zwei bis drei Zyklen ABVD</td>\n",
       "      <td>Therapeutic</td>\n",
       "      <td>190</td>\n",
       "      <td>215</td>\n",
       "      <td>C1741578</td>\n",
       "      <td>[T116, T123]</td>\n",
       "      <td>dual altered peptide ligand</td>\n",
       "      <td>[sapbert]</td>\n",
       "      <td>0.078018</td>\n",
       "    </tr>\n",
       "  </tbody>\n",
       "</table>\n",
       "</div>"
      ],
      "text/plain": [
       "                     document  \\\n",
       "1  18_hodgkin-lymphom_0051_19   \n",
       "2  18_hodgkin-lymphom_0051_19   \n",
       "4  18_hodgkin-lymphom_0051_19   \n",
       "\n",
       "                                                text         type  start  end  \\\n",
       "1  Dokumentation einer PET-Negativität nach zwei ...   Diagnostic    149  215   \n",
       "2                Dokumentation einer PET-Negativität   Diagnostic    149  184   \n",
       "4                          zwei bis drei Zyklen ABVD  Therapeutic    190  215   \n",
       "\n",
       "        cui          tuis                          canonical     linker  \\\n",
       "1  C4085919        [T060]                        4D PET Scan  [sapbert]   \n",
       "2  C0182349        [T074]  Positron emission tomography unit  [sapbert]   \n",
       "4  C1741578  [T116, T123]        dual altered peptide ligand  [sapbert]   \n",
       "\n",
       "   confidence  \n",
       "1    0.063313  \n",
       "2    0.064357  \n",
       "4    0.078018  "
      ]
     },
     "metadata": {},
     "output_type": "display_data"
    },
    {
     "name": "stdout",
     "output_type": "stream",
     "text": [
      "####\n"
     ]
    },
    {
     "data": {
      "application/vnd.jupyter.widget-view+json": {
       "model_id": "2124922f5ce54f62b553523841764b0d",
       "version_major": 2,
       "version_minor": 0
      },
      "text/plain": [
       "  0%|          | 0/1 [00:00<?, ?it/s]"
      ]
     },
     "metadata": {},
     "output_type": "display_data"
    },
    {
     "data": {
      "application/vnd.jupyter.widget-view+json": {
       "model_id": "2c3f3aa6de5a4ad4b5ce3caaf9560e33",
       "version_major": 2,
       "version_minor": 0
      },
      "text/plain": [
       "  0%|          | 0/1 [00:00<?, ?it/s]"
      ]
     },
     "metadata": {},
     "output_type": "display_data"
    },
    {
     "name": "stdout",
     "output_type": "stream",
     "text": [
      "Datenlage zum prädiktiven Wert einer positiven Interim-PET nach zwei/drei Zyklen ABVD\n",
      "\n",
      "No Filter:\n"
     ]
    },
    {
     "data": {
      "text/html": [
       "<div>\n",
       "<style scoped>\n",
       "    .dataframe tbody tr th:only-of-type {\n",
       "        vertical-align: middle;\n",
       "    }\n",
       "\n",
       "    .dataframe tbody tr th {\n",
       "        vertical-align: top;\n",
       "    }\n",
       "\n",
       "    .dataframe thead th {\n",
       "        text-align: right;\n",
       "    }\n",
       "</style>\n",
       "<table border=\"1\" class=\"dataframe\">\n",
       "  <thead>\n",
       "    <tr style=\"text-align: right;\">\n",
       "      <th></th>\n",
       "      <th>document</th>\n",
       "      <th>text</th>\n",
       "      <th>type</th>\n",
       "      <th>start</th>\n",
       "      <th>end</th>\n",
       "      <th>cui</th>\n",
       "      <th>tuis</th>\n",
       "      <th>canonical</th>\n",
       "      <th>linker</th>\n",
       "      <th>confidence</th>\n",
       "    </tr>\n",
       "  </thead>\n",
       "  <tbody>\n",
       "    <tr>\n",
       "      <th>1</th>\n",
       "      <td>18_hodgkin-lymphom_0051_20</td>\n",
       "      <td>zwei/drei Zyklen ABVD</td>\n",
       "      <td>Therapeutic</td>\n",
       "      <td>64</td>\n",
       "      <td>85</td>\n",
       "      <td>C0050380</td>\n",
       "      <td>[T061]</td>\n",
       "      <td>BLEO/DOX/DTIC/VBL</td>\n",
       "      <td>[sapbert]</td>\n",
       "      <td>0.065966</td>\n",
       "    </tr>\n",
       "  </tbody>\n",
       "</table>\n",
       "</div>"
      ],
      "text/plain": [
       "                     document                   text         type  start  end  \\\n",
       "1  18_hodgkin-lymphom_0051_20  zwei/drei Zyklen ABVD  Therapeutic     64   85   \n",
       "\n",
       "        cui    tuis          canonical     linker  confidence  \n",
       "1  C0050380  [T061]  BLEO/DOX/DTIC/VBL  [sapbert]    0.065966  "
      ]
     },
     "metadata": {},
     "output_type": "display_data"
    },
    {
     "name": "stdout",
     "output_type": "stream",
     "text": [
      "Filter:\n"
     ]
    },
    {
     "data": {
      "text/html": [
       "<div>\n",
       "<style scoped>\n",
       "    .dataframe tbody tr th:only-of-type {\n",
       "        vertical-align: middle;\n",
       "    }\n",
       "\n",
       "    .dataframe tbody tr th {\n",
       "        vertical-align: top;\n",
       "    }\n",
       "\n",
       "    .dataframe thead th {\n",
       "        text-align: right;\n",
       "    }\n",
       "</style>\n",
       "<table border=\"1\" class=\"dataframe\">\n",
       "  <thead>\n",
       "    <tr style=\"text-align: right;\">\n",
       "      <th></th>\n",
       "      <th>document</th>\n",
       "      <th>text</th>\n",
       "      <th>type</th>\n",
       "      <th>start</th>\n",
       "      <th>end</th>\n",
       "      <th>cui</th>\n",
       "      <th>tuis</th>\n",
       "      <th>canonical</th>\n",
       "      <th>linker</th>\n",
       "      <th>confidence</th>\n",
       "    </tr>\n",
       "  </thead>\n",
       "  <tbody>\n",
       "    <tr>\n",
       "      <th>1</th>\n",
       "      <td>18_hodgkin-lymphom_0051_20</td>\n",
       "      <td>zwei/drei Zyklen ABVD</td>\n",
       "      <td>Therapeutic</td>\n",
       "      <td>64</td>\n",
       "      <td>85</td>\n",
       "      <td>C1741578</td>\n",
       "      <td>[T116, T123]</td>\n",
       "      <td>dual altered peptide ligand</td>\n",
       "      <td>[sapbert]</td>\n",
       "      <td>0.066139</td>\n",
       "    </tr>\n",
       "  </tbody>\n",
       "</table>\n",
       "</div>"
      ],
      "text/plain": [
       "                     document                   text         type  start  end  \\\n",
       "1  18_hodgkin-lymphom_0051_20  zwei/drei Zyklen ABVD  Therapeutic     64   85   \n",
       "\n",
       "        cui          tuis                    canonical     linker  confidence  \n",
       "1  C1741578  [T116, T123]  dual altered peptide ligand  [sapbert]    0.066139  "
      ]
     },
     "metadata": {},
     "output_type": "display_data"
    },
    {
     "name": "stdout",
     "output_type": "stream",
     "text": [
      "####\n"
     ]
    },
    {
     "data": {
      "application/vnd.jupyter.widget-view+json": {
       "model_id": "2b88a61294ab4d5080ddc6d40ba9ac7b",
       "version_major": 2,
       "version_minor": 0
      },
      "text/plain": [
       "  0%|          | 0/1 [00:00<?, ?it/s]"
      ]
     },
     "metadata": {},
     "output_type": "display_data"
    },
    {
     "data": {
      "application/vnd.jupyter.widget-view+json": {
       "model_id": "f1bb351b4e964ea681ab81b2b61ec4dc",
       "version_major": 2,
       "version_minor": 0
      },
      "text/plain": [
       "  0%|          | 0/1 [00:00<?, ?it/s]"
      ]
     },
     "metadata": {},
     "output_type": "display_data"
    },
    {
     "data": {
      "application/vnd.jupyter.widget-view+json": {
       "model_id": "5c1c643a199242d0a3d0664a81c63071",
       "version_major": 2,
       "version_minor": 0
      },
      "text/plain": [
       "  0%|          | 0/1 [00:00<?, ?it/s]"
      ]
     },
     "metadata": {},
     "output_type": "display_data"
    },
    {
     "data": {
      "application/vnd.jupyter.widget-view+json": {
       "model_id": "17eb357c96274095b8b900b91174a5cf",
       "version_major": 2,
       "version_minor": 0
      },
      "text/plain": [
       "  0%|          | 0/1 [00:00<?, ?it/s]"
      ]
     },
     "metadata": {},
     "output_type": "display_data"
    },
    {
     "data": {
      "application/vnd.jupyter.widget-view+json": {
       "model_id": "70bb69aa95cb4be2811de7d4978a4f60",
       "version_major": 2,
       "version_minor": 0
      },
      "text/plain": [
       "  0%|          | 0/1 [00:00<?, ?it/s]"
      ]
     },
     "metadata": {},
     "output_type": "display_data"
    },
    {
     "data": {
      "application/vnd.jupyter.widget-view+json": {
       "model_id": "b41a6cc5bbed43a8baaa676926765c40",
       "version_major": 2,
       "version_minor": 0
      },
      "text/plain": [
       "  0%|          | 0/1 [00:00<?, ?it/s]"
      ]
     },
     "metadata": {},
     "output_type": "display_data"
    },
    {
     "data": {
      "application/vnd.jupyter.widget-view+json": {
       "model_id": "aa2c27248bfb457fb3179e149e5c66a7",
       "version_major": 2,
       "version_minor": 0
      },
      "text/plain": [
       "  0%|          | 0/1 [00:00<?, ?it/s]"
      ]
     },
     "metadata": {},
     "output_type": "display_data"
    },
    {
     "data": {
      "application/vnd.jupyter.widget-view+json": {
       "model_id": "76830390f01d4dde97f110cdbfafa920",
       "version_major": 2,
       "version_minor": 0
      },
      "text/plain": [
       "  0%|          | 0/1 [00:00<?, ?it/s]"
      ]
     },
     "metadata": {},
     "output_type": "display_data"
    },
    {
     "name": "stdout",
     "output_type": "stream",
     "text": [
      "Für die im experimentellen Arm behandelten PET-positiven Patienten wurde eine signifikant höhere 5-Jahres-PFS-Rate (90.6%, 95% CI 84.7% bis 94.3%) im Vergleich zu der im Standardarm behandelten PET-positiven Patienten (5-Jahres PFS 77.4%; 95%CI 70.4% bis 82.9%) dokumentiert [REF].\n",
      "\n",
      "No Filter:\n"
     ]
    },
    {
     "data": {
      "text/html": [
       "<div>\n",
       "<style scoped>\n",
       "    .dataframe tbody tr th:only-of-type {\n",
       "        vertical-align: middle;\n",
       "    }\n",
       "\n",
       "    .dataframe tbody tr th {\n",
       "        vertical-align: top;\n",
       "    }\n",
       "\n",
       "    .dataframe thead th {\n",
       "        text-align: right;\n",
       "    }\n",
       "</style>\n",
       "<table border=\"1\" class=\"dataframe\">\n",
       "  <thead>\n",
       "    <tr style=\"text-align: right;\">\n",
       "      <th></th>\n",
       "      <th>document</th>\n",
       "      <th>text</th>\n",
       "      <th>type</th>\n",
       "      <th>start</th>\n",
       "      <th>end</th>\n",
       "      <th>cui</th>\n",
       "      <th>tuis</th>\n",
       "      <th>canonical</th>\n",
       "      <th>linker</th>\n",
       "      <th>confidence</th>\n",
       "    </tr>\n",
       "  </thead>\n",
       "  <tbody>\n",
       "    <tr>\n",
       "      <th>1</th>\n",
       "      <td>18_hodgkin-lymphom_0051_24</td>\n",
       "      <td>5-Jahres-PFS-Rate</td>\n",
       "      <td>Other_Finding</td>\n",
       "      <td>97</td>\n",
       "      <td>114</td>\n",
       "      <td>C2936093</td>\n",
       "      <td>[T116]</td>\n",
       "      <td>l-phenylalanyl sarcosine</td>\n",
       "      <td>[sapbert]</td>\n",
       "      <td>0.093998</td>\n",
       "    </tr>\n",
       "  </tbody>\n",
       "</table>\n",
       "</div>"
      ],
      "text/plain": [
       "                     document               text           type  start  end  \\\n",
       "1  18_hodgkin-lymphom_0051_24  5-Jahres-PFS-Rate  Other_Finding     97  114   \n",
       "\n",
       "        cui    tuis                 canonical     linker  confidence  \n",
       "1  C2936093  [T116]  l-phenylalanyl sarcosine  [sapbert]    0.093998  "
      ]
     },
     "metadata": {},
     "output_type": "display_data"
    },
    {
     "name": "stdout",
     "output_type": "stream",
     "text": [
      "Filter:\n"
     ]
    },
    {
     "data": {
      "text/html": [
       "<div>\n",
       "<style scoped>\n",
       "    .dataframe tbody tr th:only-of-type {\n",
       "        vertical-align: middle;\n",
       "    }\n",
       "\n",
       "    .dataframe tbody tr th {\n",
       "        vertical-align: top;\n",
       "    }\n",
       "\n",
       "    .dataframe thead th {\n",
       "        text-align: right;\n",
       "    }\n",
       "</style>\n",
       "<table border=\"1\" class=\"dataframe\">\n",
       "  <thead>\n",
       "    <tr style=\"text-align: right;\">\n",
       "      <th></th>\n",
       "      <th>document</th>\n",
       "      <th>text</th>\n",
       "      <th>type</th>\n",
       "      <th>start</th>\n",
       "      <th>end</th>\n",
       "      <th>cui</th>\n",
       "      <th>tuis</th>\n",
       "      <th>canonical</th>\n",
       "      <th>linker</th>\n",
       "      <th>confidence</th>\n",
       "    </tr>\n",
       "  </thead>\n",
       "  <tbody>\n",
       "    <tr>\n",
       "      <th>1</th>\n",
       "      <td>18_hodgkin-lymphom_0051_24</td>\n",
       "      <td>5-Jahres-PFS-Rate</td>\n",
       "      <td>Other_Finding</td>\n",
       "      <td>97</td>\n",
       "      <td>114</td>\n",
       "      <td>C2933387</td>\n",
       "      <td>[T109]</td>\n",
       "      <td>poly(poly(ethylene glycol)methyl ether methacr...</td>\n",
       "      <td>[sapbert]</td>\n",
       "      <td>0.098485</td>\n",
       "    </tr>\n",
       "  </tbody>\n",
       "</table>\n",
       "</div>"
      ],
      "text/plain": [
       "                     document               text           type  start  end  \\\n",
       "1  18_hodgkin-lymphom_0051_24  5-Jahres-PFS-Rate  Other_Finding     97  114   \n",
       "\n",
       "        cui    tuis                                          canonical  \\\n",
       "1  C2933387  [T109]  poly(poly(ethylene glycol)methyl ether methacr...   \n",
       "\n",
       "      linker  confidence  \n",
       "1  [sapbert]    0.098485  "
      ]
     },
     "metadata": {},
     "output_type": "display_data"
    },
    {
     "name": "stdout",
     "output_type": "stream",
     "text": [
      "####\n"
     ]
    },
    {
     "data": {
      "application/vnd.jupyter.widget-view+json": {
       "model_id": "f963b42f112a4fdcaf0d969561c4ec0f",
       "version_major": 2,
       "version_minor": 0
      },
      "text/plain": [
       "  0%|          | 0/1 [00:00<?, ?it/s]"
      ]
     },
     "metadata": {},
     "output_type": "display_data"
    },
    {
     "data": {
      "application/vnd.jupyter.widget-view+json": {
       "model_id": "682da3c0b9c94248802d2bb0062e86b1",
       "version_major": 2,
       "version_minor": 0
      },
      "text/plain": [
       "  0%|          | 0/1 [00:00<?, ?it/s]"
      ]
     },
     "metadata": {},
     "output_type": "display_data"
    },
    {
     "data": {
      "application/vnd.jupyter.widget-view+json": {
       "model_id": "b01c9e7d642f42a4a2b0e661913bb0bc",
       "version_major": 2,
       "version_minor": 0
      },
      "text/plain": [
       "  0%|          | 0/1 [00:00<?, ?it/s]"
      ]
     },
     "metadata": {},
     "output_type": "display_data"
    },
    {
     "data": {
      "application/vnd.jupyter.widget-view+json": {
       "model_id": "c09bc0d90b614ecfab9999f188bf703e",
       "version_major": 2,
       "version_minor": 0
      },
      "text/plain": [
       "  0%|          | 0/1 [00:00<?, ?it/s]"
      ]
     },
     "metadata": {},
     "output_type": "display_data"
    },
    {
     "data": {
      "application/vnd.jupyter.widget-view+json": {
       "model_id": "bfd195ed9a0e4d9d9c8f8e242388ab43",
       "version_major": 2,
       "version_minor": 0
      },
      "text/plain": [
       "  0%|          | 0/1 [00:00<?, ?it/s]"
      ]
     },
     "metadata": {},
     "output_type": "display_data"
    },
    {
     "data": {
      "application/vnd.jupyter.widget-view+json": {
       "model_id": "b901f89fa6bd4f8ba6c72d37b1befe7b",
       "version_major": 2,
       "version_minor": 0
      },
      "text/plain": [
       "  0%|          | 0/1 [00:00<?, ?it/s]"
      ]
     },
     "metadata": {},
     "output_type": "display_data"
    },
    {
     "name": "stdout",
     "output_type": "stream",
     "text": [
      "Mit der angewandten Definition der PET-Positivität scheint daher keine ausreichende Differenzierung der Prognose der PET-negativen und PET-positiven Patienten möglich zu sein; die weiterführende Analyse der PET-positiven Patienten ergab, dass insbesondere für die Patienten mit einem Deauville-Score von 5 im Vergleich zu den Patienten mit einem Deauville-Score von 1-4 ein signifikant niedrigeres PFS und ES (5-Jahres PFS und -EFS jeweils 61.9%) und ein niedrigeres Gesamtüberleben (5-Jahres OS 85,2%; 95% CI, 69.7% bis 100% versus 97.8%, 95%CI, 96.4 bis 99.2%) zu dokumentieren war [REF].\n",
      "\n",
      "No Filter:\n"
     ]
    },
    {
     "data": {
      "text/html": [
       "<div>\n",
       "<style scoped>\n",
       "    .dataframe tbody tr th:only-of-type {\n",
       "        vertical-align: middle;\n",
       "    }\n",
       "\n",
       "    .dataframe tbody tr th {\n",
       "        vertical-align: top;\n",
       "    }\n",
       "\n",
       "    .dataframe thead th {\n",
       "        text-align: right;\n",
       "    }\n",
       "</style>\n",
       "<table border=\"1\" class=\"dataframe\">\n",
       "  <thead>\n",
       "    <tr style=\"text-align: right;\">\n",
       "      <th></th>\n",
       "      <th>document</th>\n",
       "      <th>text</th>\n",
       "      <th>type</th>\n",
       "      <th>start</th>\n",
       "      <th>end</th>\n",
       "      <th>cui</th>\n",
       "      <th>tuis</th>\n",
       "      <th>canonical</th>\n",
       "      <th>linker</th>\n",
       "      <th>confidence</th>\n",
       "    </tr>\n",
       "  </thead>\n",
       "  <tbody>\n",
       "    <tr>\n",
       "      <th>7</th>\n",
       "      <td>18_hodgkin-lymphom_0051_27</td>\n",
       "      <td>-EFS</td>\n",
       "      <td>Other_Finding</td>\n",
       "      <td>427</td>\n",
       "      <td>431</td>\n",
       "      <td>C4724032</td>\n",
       "      <td>[T170]</td>\n",
       "      <td>EFS</td>\n",
       "      <td>[ngram, sapbert]</td>\n",
       "      <td>0.074262</td>\n",
       "    </tr>\n",
       "  </tbody>\n",
       "</table>\n",
       "</div>"
      ],
      "text/plain": [
       "                     document  text           type  start  end       cui  \\\n",
       "7  18_hodgkin-lymphom_0051_27  -EFS  Other_Finding    427  431  C4724032   \n",
       "\n",
       "     tuis canonical            linker  confidence  \n",
       "7  [T170]       EFS  [ngram, sapbert]    0.074262  "
      ]
     },
     "metadata": {},
     "output_type": "display_data"
    },
    {
     "name": "stdout",
     "output_type": "stream",
     "text": [
      "Filter:\n"
     ]
    },
    {
     "data": {
      "text/html": [
       "<div>\n",
       "<style scoped>\n",
       "    .dataframe tbody tr th:only-of-type {\n",
       "        vertical-align: middle;\n",
       "    }\n",
       "\n",
       "    .dataframe tbody tr th {\n",
       "        vertical-align: top;\n",
       "    }\n",
       "\n",
       "    .dataframe thead th {\n",
       "        text-align: right;\n",
       "    }\n",
       "</style>\n",
       "<table border=\"1\" class=\"dataframe\">\n",
       "  <thead>\n",
       "    <tr style=\"text-align: right;\">\n",
       "      <th></th>\n",
       "      <th>document</th>\n",
       "      <th>text</th>\n",
       "      <th>type</th>\n",
       "      <th>start</th>\n",
       "      <th>end</th>\n",
       "      <th>cui</th>\n",
       "      <th>tuis</th>\n",
       "      <th>canonical</th>\n",
       "      <th>linker</th>\n",
       "      <th>confidence</th>\n",
       "    </tr>\n",
       "  </thead>\n",
       "  <tbody>\n",
       "    <tr>\n",
       "      <th>7</th>\n",
       "      <td>18_hodgkin-lymphom_0051_27</td>\n",
       "      <td>-EFS</td>\n",
       "      <td>Other_Finding</td>\n",
       "      <td>427</td>\n",
       "      <td>431</td>\n",
       "      <td>C4045375</td>\n",
       "      <td>[T109]</td>\n",
       "      <td>1-fluoro-1-(phenylsulfonyl)ethylene</td>\n",
       "      <td>[sapbert]</td>\n",
       "      <td>0.076742</td>\n",
       "    </tr>\n",
       "  </tbody>\n",
       "</table>\n",
       "</div>"
      ],
      "text/plain": [
       "                     document  text           type  start  end       cui  \\\n",
       "7  18_hodgkin-lymphom_0051_27  -EFS  Other_Finding    427  431  C4045375   \n",
       "\n",
       "     tuis                            canonical     linker  confidence  \n",
       "7  [T109]  1-fluoro-1-(phenylsulfonyl)ethylene  [sapbert]    0.076742  "
      ]
     },
     "metadata": {},
     "output_type": "display_data"
    },
    {
     "name": "stdout",
     "output_type": "stream",
     "text": [
      "####\n"
     ]
    },
    {
     "data": {
      "application/vnd.jupyter.widget-view+json": {
       "model_id": "392a99736d3c4dc78552500686f15361",
       "version_major": 2,
       "version_minor": 0
      },
      "text/plain": [
       "  0%|          | 0/1 [00:00<?, ?it/s]"
      ]
     },
     "metadata": {},
     "output_type": "display_data"
    },
    {
     "data": {
      "application/vnd.jupyter.widget-view+json": {
       "model_id": "e8cb5fffe61c4e9bbdaa9dd1cd099d2b",
       "version_major": 2,
       "version_minor": 0
      },
      "text/plain": [
       "  0%|          | 0/1 [00:00<?, ?it/s]"
      ]
     },
     "metadata": {},
     "output_type": "display_data"
    },
    {
     "data": {
      "application/vnd.jupyter.widget-view+json": {
       "model_id": "aad107b951bb49eaa5e981aaa162056b",
       "version_major": 2,
       "version_minor": 0
      },
      "text/plain": [
       "  0%|          | 0/1 [00:00<?, ?it/s]"
      ]
     },
     "metadata": {},
     "output_type": "display_data"
    },
    {
     "data": {
      "application/vnd.jupyter.widget-view+json": {
       "model_id": "63d12422b0fe4090bbddc19744335261",
       "version_major": 2,
       "version_minor": 0
      },
      "text/plain": [
       "  0%|          | 0/1 [00:00<?, ?it/s]"
      ]
     },
     "metadata": {},
     "output_type": "display_data"
    },
    {
     "data": {
      "application/vnd.jupyter.widget-view+json": {
       "model_id": "b9d6320290f54a08b42de14d6c7758fa",
       "version_major": 2,
       "version_minor": 0
      },
      "text/plain": [
       "  0%|          | 0/1 [00:00<?, ?it/s]"
      ]
     },
     "metadata": {},
     "output_type": "display_data"
    },
    {
     "data": {
      "application/vnd.jupyter.widget-view+json": {
       "model_id": "a55c20211eab43b0b2529ede7e71800e",
       "version_major": 2,
       "version_minor": 0
      },
      "text/plain": [
       "  0%|          | 0/1 [00:00<?, ?it/s]"
      ]
     },
     "metadata": {},
     "output_type": "display_data"
    },
    {
     "name": "stdout",
     "output_type": "stream",
     "text": [
      "Die Ergebnisse der H10F-, RAPID- und der HD16- Studie unterstützen daher die Hypothese des prognostischen Werts einer positiven PET-CT nach zwei bis drei Zyklen ABVD, d.h. einer signifikant schlechteren Prognose der Patienten mit einer positiven Interim-PET, insbesondere bei Vorliegen eines Deauville-Scores von 4-5.\n",
      "\n",
      "No Filter:\n"
     ]
    },
    {
     "data": {
      "text/html": [
       "<div>\n",
       "<style scoped>\n",
       "    .dataframe tbody tr th:only-of-type {\n",
       "        vertical-align: middle;\n",
       "    }\n",
       "\n",
       "    .dataframe tbody tr th {\n",
       "        vertical-align: top;\n",
       "    }\n",
       "\n",
       "    .dataframe thead th {\n",
       "        text-align: right;\n",
       "    }\n",
       "</style>\n",
       "<table border=\"1\" class=\"dataframe\">\n",
       "  <thead>\n",
       "    <tr style=\"text-align: right;\">\n",
       "      <th></th>\n",
       "      <th>document</th>\n",
       "      <th>text</th>\n",
       "      <th>type</th>\n",
       "      <th>start</th>\n",
       "      <th>end</th>\n",
       "      <th>cui</th>\n",
       "      <th>tuis</th>\n",
       "      <th>canonical</th>\n",
       "      <th>linker</th>\n",
       "      <th>confidence</th>\n",
       "    </tr>\n",
       "  </thead>\n",
       "  <tbody>\n",
       "    <tr>\n",
       "      <th>1</th>\n",
       "      <td>18_hodgkin-lymphom_0051_30</td>\n",
       "      <td>zwei bis drei Zyklen ABVD</td>\n",
       "      <td>Therapeutic</td>\n",
       "      <td>140</td>\n",
       "      <td>165</td>\n",
       "      <td>C0050380</td>\n",
       "      <td>[T061]</td>\n",
       "      <td>BLEO/DOX/DTIC/VBL</td>\n",
       "      <td>[sapbert]</td>\n",
       "      <td>0.065995</td>\n",
       "    </tr>\n",
       "  </tbody>\n",
       "</table>\n",
       "</div>"
      ],
      "text/plain": [
       "                     document                       text         type  start  \\\n",
       "1  18_hodgkin-lymphom_0051_30  zwei bis drei Zyklen ABVD  Therapeutic    140   \n",
       "\n",
       "   end       cui    tuis          canonical     linker  confidence  \n",
       "1  165  C0050380  [T061]  BLEO/DOX/DTIC/VBL  [sapbert]    0.065995  "
      ]
     },
     "metadata": {},
     "output_type": "display_data"
    },
    {
     "name": "stdout",
     "output_type": "stream",
     "text": [
      "Filter:\n"
     ]
    },
    {
     "data": {
      "text/html": [
       "<div>\n",
       "<style scoped>\n",
       "    .dataframe tbody tr th:only-of-type {\n",
       "        vertical-align: middle;\n",
       "    }\n",
       "\n",
       "    .dataframe tbody tr th {\n",
       "        vertical-align: top;\n",
       "    }\n",
       "\n",
       "    .dataframe thead th {\n",
       "        text-align: right;\n",
       "    }\n",
       "</style>\n",
       "<table border=\"1\" class=\"dataframe\">\n",
       "  <thead>\n",
       "    <tr style=\"text-align: right;\">\n",
       "      <th></th>\n",
       "      <th>document</th>\n",
       "      <th>text</th>\n",
       "      <th>type</th>\n",
       "      <th>start</th>\n",
       "      <th>end</th>\n",
       "      <th>cui</th>\n",
       "      <th>tuis</th>\n",
       "      <th>canonical</th>\n",
       "      <th>linker</th>\n",
       "      <th>confidence</th>\n",
       "    </tr>\n",
       "  </thead>\n",
       "  <tbody>\n",
       "    <tr>\n",
       "      <th>1</th>\n",
       "      <td>18_hodgkin-lymphom_0051_30</td>\n",
       "      <td>zwei bis drei Zyklen ABVD</td>\n",
       "      <td>Therapeutic</td>\n",
       "      <td>140</td>\n",
       "      <td>165</td>\n",
       "      <td>C1741578</td>\n",
       "      <td>[T116, T123]</td>\n",
       "      <td>dual altered peptide ligand</td>\n",
       "      <td>[sapbert]</td>\n",
       "      <td>0.0733</td>\n",
       "    </tr>\n",
       "  </tbody>\n",
       "</table>\n",
       "</div>"
      ],
      "text/plain": [
       "                     document                       text         type  start  \\\n",
       "1  18_hodgkin-lymphom_0051_30  zwei bis drei Zyklen ABVD  Therapeutic    140   \n",
       "\n",
       "   end       cui          tuis                    canonical     linker  \\\n",
       "1  165  C1741578  [T116, T123]  dual altered peptide ligand  [sapbert]   \n",
       "\n",
       "   confidence  \n",
       "1      0.0733  "
      ]
     },
     "metadata": {},
     "output_type": "display_data"
    },
    {
     "name": "stdout",
     "output_type": "stream",
     "text": [
      "####\n"
     ]
    },
    {
     "data": {
      "application/vnd.jupyter.widget-view+json": {
       "model_id": "9992ebd144bb4a1e99bb315895cb6077",
       "version_major": 2,
       "version_minor": 0
      },
      "text/plain": [
       "  0%|          | 0/1 [00:00<?, ?it/s]"
      ]
     },
     "metadata": {},
     "output_type": "display_data"
    },
    {
     "data": {
      "application/vnd.jupyter.widget-view+json": {
       "model_id": "950d308c7ddf45ea99eba3f611301c8a",
       "version_major": 2,
       "version_minor": 0
      },
      "text/plain": [
       "  0%|          | 0/1 [00:00<?, ?it/s]"
      ]
     },
     "metadata": {},
     "output_type": "display_data"
    },
    {
     "data": {
      "application/vnd.jupyter.widget-view+json": {
       "model_id": "ce1dc1c7bead4c4cb7854d04d93edec4",
       "version_major": 2,
       "version_minor": 0
      },
      "text/plain": [
       "  0%|          | 0/1 [00:00<?, ?it/s]"
      ]
     },
     "metadata": {},
     "output_type": "display_data"
    },
    {
     "data": {
      "application/vnd.jupyter.widget-view+json": {
       "model_id": "5f025ac8a62249a3b13261ce94369b15",
       "version_major": 2,
       "version_minor": 0
      },
      "text/plain": [
       "  0%|          | 0/1 [00:00<?, ?it/s]"
      ]
     },
     "metadata": {},
     "output_type": "display_data"
    },
    {
     "data": {
      "application/vnd.jupyter.widget-view+json": {
       "model_id": "7a00c4fde043405da3b4987650b19efd",
       "version_major": 2,
       "version_minor": 0
      },
      "text/plain": [
       "  0%|          | 0/1 [00:00<?, ?it/s]"
      ]
     },
     "metadata": {},
     "output_type": "display_data"
    },
    {
     "data": {
      "application/vnd.jupyter.widget-view+json": {
       "model_id": "02de9211751843da91c0a13e6bae13aa",
       "version_major": 2,
       "version_minor": 0
      },
      "text/plain": [
       "  0%|          | 0/1 [00:00<?, ?it/s]"
      ]
     },
     "metadata": {},
     "output_type": "display_data"
    },
    {
     "name": "stdout",
     "output_type": "stream",
     "text": [
      "Im Hinblick darauf, dass in der HD16-Studie für die Patienten mit einer positiven Interim-PET ein signifikant niedrigeres PFS dokumentiert wurde und das der PFS-Unterschied besonders deutlich bei Vorliegen eines Deauville-Score von 4-5 war, sollte die Option einer Therapieeskalation in Form von zwei Zyklen BEACOPPeskaliert analog der H10F-Studie vor der konsolidierenden Strahlentherapie bei den Patienten mit einem positiven PET Ergebnis mit einem Deauville-Score von 4-5 nach zwei Zyklen ABVD individuell erwogen werden.\n",
      "\n",
      "No Filter:\n"
     ]
    },
    {
     "data": {
      "text/html": [
       "<div>\n",
       "<style scoped>\n",
       "    .dataframe tbody tr th:only-of-type {\n",
       "        vertical-align: middle;\n",
       "    }\n",
       "\n",
       "    .dataframe tbody tr th {\n",
       "        vertical-align: top;\n",
       "    }\n",
       "\n",
       "    .dataframe thead th {\n",
       "        text-align: right;\n",
       "    }\n",
       "</style>\n",
       "<table border=\"1\" class=\"dataframe\">\n",
       "  <thead>\n",
       "    <tr style=\"text-align: right;\">\n",
       "      <th></th>\n",
       "      <th>document</th>\n",
       "      <th>text</th>\n",
       "      <th>type</th>\n",
       "      <th>start</th>\n",
       "      <th>end</th>\n",
       "      <th>cui</th>\n",
       "      <th>tuis</th>\n",
       "      <th>canonical</th>\n",
       "      <th>linker</th>\n",
       "      <th>confidence</th>\n",
       "    </tr>\n",
       "  </thead>\n",
       "  <tbody>\n",
       "    <tr>\n",
       "      <th>4</th>\n",
       "      <td>18_hodgkin-lymphom_0051_33</td>\n",
       "      <td>Therapieeskalation in Form von zwei Zyklen BEA...</td>\n",
       "      <td>Therapeutic</td>\n",
       "      <td>265</td>\n",
       "      <td>324</td>\n",
       "      <td>C1276295</td>\n",
       "      <td>[T033]</td>\n",
       "      <td>Two field external beam radiation therapy</td>\n",
       "      <td>[sapbert]</td>\n",
       "      <td>0.062934</td>\n",
       "    </tr>\n",
       "    <tr>\n",
       "      <th>6</th>\n",
       "      <td>18_hodgkin-lymphom_0051_33</td>\n",
       "      <td>positiven PET Ergebnis</td>\n",
       "      <td>Diagnosis_or_Pathology</td>\n",
       "      <td>418</td>\n",
       "      <td>440</td>\n",
       "      <td>C5555404</td>\n",
       "      <td>[T096]</td>\n",
       "      <td>Positive Biospecimen</td>\n",
       "      <td>[sapbert]</td>\n",
       "      <td>0.063872</td>\n",
       "    </tr>\n",
       "  </tbody>\n",
       "</table>\n",
       "</div>"
      ],
      "text/plain": [
       "                     document  \\\n",
       "4  18_hodgkin-lymphom_0051_33   \n",
       "6  18_hodgkin-lymphom_0051_33   \n",
       "\n",
       "                                                text                    type  \\\n",
       "4  Therapieeskalation in Form von zwei Zyklen BEA...             Therapeutic   \n",
       "6                             positiven PET Ergebnis  Diagnosis_or_Pathology   \n",
       "\n",
       "   start  end       cui    tuis                                  canonical  \\\n",
       "4    265  324  C1276295  [T033]  Two field external beam radiation therapy   \n",
       "6    418  440  C5555404  [T096]                       Positive Biospecimen   \n",
       "\n",
       "      linker  confidence  \n",
       "4  [sapbert]    0.062934  \n",
       "6  [sapbert]    0.063872  "
      ]
     },
     "metadata": {},
     "output_type": "display_data"
    },
    {
     "name": "stdout",
     "output_type": "stream",
     "text": [
      "Filter:\n"
     ]
    },
    {
     "data": {
      "text/html": [
       "<div>\n",
       "<style scoped>\n",
       "    .dataframe tbody tr th:only-of-type {\n",
       "        vertical-align: middle;\n",
       "    }\n",
       "\n",
       "    .dataframe tbody tr th {\n",
       "        vertical-align: top;\n",
       "    }\n",
       "\n",
       "    .dataframe thead th {\n",
       "        text-align: right;\n",
       "    }\n",
       "</style>\n",
       "<table border=\"1\" class=\"dataframe\">\n",
       "  <thead>\n",
       "    <tr style=\"text-align: right;\">\n",
       "      <th></th>\n",
       "      <th>document</th>\n",
       "      <th>text</th>\n",
       "      <th>type</th>\n",
       "      <th>start</th>\n",
       "      <th>end</th>\n",
       "      <th>cui</th>\n",
       "      <th>tuis</th>\n",
       "      <th>canonical</th>\n",
       "      <th>linker</th>\n",
       "      <th>confidence</th>\n",
       "    </tr>\n",
       "  </thead>\n",
       "  <tbody>\n",
       "    <tr>\n",
       "      <th>4</th>\n",
       "      <td>18_hodgkin-lymphom_0051_33</td>\n",
       "      <td>Therapieeskalation in Form von zwei Zyklen BEA...</td>\n",
       "      <td>Therapeutic</td>\n",
       "      <td>265</td>\n",
       "      <td>324</td>\n",
       "      <td>C0397344</td>\n",
       "      <td>[T061]</td>\n",
       "      <td>Arterial Switch Operation</td>\n",
       "      <td>[sapbert]</td>\n",
       "      <td>0.062876</td>\n",
       "    </tr>\n",
       "    <tr>\n",
       "      <th>6</th>\n",
       "      <td>18_hodgkin-lymphom_0051_33</td>\n",
       "      <td>positiven PET Ergebnis</td>\n",
       "      <td>Diagnosis_or_Pathology</td>\n",
       "      <td>418</td>\n",
       "      <td>440</td>\n",
       "      <td>C2939040</td>\n",
       "      <td>[T034]</td>\n",
       "      <td>False positive investigation result</td>\n",
       "      <td>[sapbert]</td>\n",
       "      <td>0.063510</td>\n",
       "    </tr>\n",
       "  </tbody>\n",
       "</table>\n",
       "</div>"
      ],
      "text/plain": [
       "                     document  \\\n",
       "4  18_hodgkin-lymphom_0051_33   \n",
       "6  18_hodgkin-lymphom_0051_33   \n",
       "\n",
       "                                                text                    type  \\\n",
       "4  Therapieeskalation in Form von zwei Zyklen BEA...             Therapeutic   \n",
       "6                             positiven PET Ergebnis  Diagnosis_or_Pathology   \n",
       "\n",
       "   start  end       cui    tuis                            canonical  \\\n",
       "4    265  324  C0397344  [T061]            Arterial Switch Operation   \n",
       "6    418  440  C2939040  [T034]  False positive investigation result   \n",
       "\n",
       "      linker  confidence  \n",
       "4  [sapbert]    0.062876  \n",
       "6  [sapbert]    0.063510  "
      ]
     },
     "metadata": {},
     "output_type": "display_data"
    },
    {
     "name": "stdout",
     "output_type": "stream",
     "text": [
      "####\n"
     ]
    },
    {
     "data": {
      "application/vnd.jupyter.widget-view+json": {
       "model_id": "8c0efb872498455f870698839f6bb3e3",
       "version_major": 2,
       "version_minor": 0
      },
      "text/plain": [
       "  0%|          | 0/1 [00:00<?, ?it/s]"
      ]
     },
     "metadata": {},
     "output_type": "display_data"
    },
    {
     "data": {
      "application/vnd.jupyter.widget-view+json": {
       "model_id": "f85cd4a46d0945eaaf3e6d7bc8ecbfb6",
       "version_major": 2,
       "version_minor": 0
      },
      "text/plain": [
       "  0%|          | 0/1 [00:00<?, ?it/s]"
      ]
     },
     "metadata": {},
     "output_type": "display_data"
    },
    {
     "data": {
      "application/vnd.jupyter.widget-view+json": {
       "model_id": "a6a8ca3642904192bccf85dc60640a3e",
       "version_major": 2,
       "version_minor": 0
      },
      "text/plain": [
       "  0%|          | 0/1 [00:00<?, ?it/s]"
      ]
     },
     "metadata": {},
     "output_type": "display_data"
    },
    {
     "data": {
      "application/vnd.jupyter.widget-view+json": {
       "model_id": "5a38b9f6a11e4d8393ede9efc0376d67",
       "version_major": 2,
       "version_minor": 0
      },
      "text/plain": [
       "  0%|          | 0/1 [00:00<?, ?it/s]"
      ]
     },
     "metadata": {},
     "output_type": "display_data"
    },
    {
     "data": {
      "application/vnd.jupyter.widget-view+json": {
       "model_id": "34c698e594ab458eb68ccd72904a61c8",
       "version_major": 2,
       "version_minor": 0
      },
      "text/plain": [
       "  0%|          | 0/1 [00:00<?, ?it/s]"
      ]
     },
     "metadata": {},
     "output_type": "display_data"
    },
    {
     "data": {
      "application/vnd.jupyter.widget-view+json": {
       "model_id": "ce39156696864eceb2f6588cad848c18",
       "version_major": 2,
       "version_minor": 0
      },
      "text/plain": [
       "  0%|          | 0/1 [00:00<?, ?it/s]"
      ]
     },
     "metadata": {},
     "output_type": "display_data"
    },
    {
     "name": "stdout",
     "output_type": "stream",
     "text": [
      "In retrospektiven bzw. in Kohortenanalysen konnte gezeigt werden, dass insbesondere bei Frauen bis zu einem Alter von 29 Jahren zum Zeitpunkt der Therapie des Hodgkin Lymphoms ein gegenüber der Normalbevölkerung deutlich erhöhtes Risiko der Entwicklung eines sekundären Mamma-Karzinoms vorliegt und, dass das Risiko mit zunehmendem Alter zum Zeitpunkt der Hodgkin-Lymphom-Diagnose abnimmt [REF].\n",
      "\n",
      "No Filter:\n"
     ]
    },
    {
     "data": {
      "text/html": [
       "<div>\n",
       "<style scoped>\n",
       "    .dataframe tbody tr th:only-of-type {\n",
       "        vertical-align: middle;\n",
       "    }\n",
       "\n",
       "    .dataframe tbody tr th {\n",
       "        vertical-align: top;\n",
       "    }\n",
       "\n",
       "    .dataframe thead th {\n",
       "        text-align: right;\n",
       "    }\n",
       "</style>\n",
       "<table border=\"1\" class=\"dataframe\">\n",
       "  <thead>\n",
       "    <tr style=\"text-align: right;\">\n",
       "      <th></th>\n",
       "      <th>document</th>\n",
       "      <th>text</th>\n",
       "      <th>type</th>\n",
       "      <th>start</th>\n",
       "      <th>end</th>\n",
       "      <th>cui</th>\n",
       "      <th>tuis</th>\n",
       "      <th>canonical</th>\n",
       "      <th>linker</th>\n",
       "      <th>confidence</th>\n",
       "    </tr>\n",
       "  </thead>\n",
       "  <tbody>\n",
       "    <tr>\n",
       "      <th>1</th>\n",
       "      <td>18_hodgkin-lymphom_0051_36</td>\n",
       "      <td>Therapie des Hodgkin Lymphoms</td>\n",
       "      <td>Therapeutic</td>\n",
       "      <td>146</td>\n",
       "      <td>175</td>\n",
       "      <td>C0019829</td>\n",
       "      <td>[T191]</td>\n",
       "      <td>Hodgkin-Krankheit</td>\n",
       "      <td>[ngram, sapbert]</td>\n",
       "      <td>0.071369</td>\n",
       "    </tr>\n",
       "  </tbody>\n",
       "</table>\n",
       "</div>"
      ],
      "text/plain": [
       "                     document                           text         type  \\\n",
       "1  18_hodgkin-lymphom_0051_36  Therapie des Hodgkin Lymphoms  Therapeutic   \n",
       "\n",
       "   start  end       cui    tuis          canonical            linker  \\\n",
       "1    146  175  C0019829  [T191]  Hodgkin-Krankheit  [ngram, sapbert]   \n",
       "\n",
       "   confidence  \n",
       "1    0.071369  "
      ]
     },
     "metadata": {},
     "output_type": "display_data"
    },
    {
     "name": "stdout",
     "output_type": "stream",
     "text": [
      "Filter:\n"
     ]
    },
    {
     "data": {
      "text/html": [
       "<div>\n",
       "<style scoped>\n",
       "    .dataframe tbody tr th:only-of-type {\n",
       "        vertical-align: middle;\n",
       "    }\n",
       "\n",
       "    .dataframe tbody tr th {\n",
       "        vertical-align: top;\n",
       "    }\n",
       "\n",
       "    .dataframe thead th {\n",
       "        text-align: right;\n",
       "    }\n",
       "</style>\n",
       "<table border=\"1\" class=\"dataframe\">\n",
       "  <thead>\n",
       "    <tr style=\"text-align: right;\">\n",
       "      <th></th>\n",
       "      <th>document</th>\n",
       "      <th>text</th>\n",
       "      <th>type</th>\n",
       "      <th>start</th>\n",
       "      <th>end</th>\n",
       "      <th>cui</th>\n",
       "      <th>tuis</th>\n",
       "      <th>canonical</th>\n",
       "      <th>linker</th>\n",
       "      <th>confidence</th>\n",
       "    </tr>\n",
       "  </thead>\n",
       "  <tbody>\n",
       "    <tr>\n",
       "      <th>1</th>\n",
       "      <td>18_hodgkin-lymphom_0051_36</td>\n",
       "      <td>Therapie des Hodgkin Lymphoms</td>\n",
       "      <td>Therapeutic</td>\n",
       "      <td>146</td>\n",
       "      <td>175</td>\n",
       "      <td>C5557287</td>\n",
       "      <td>[T170]</td>\n",
       "      <td>HL Project Terminology</td>\n",
       "      <td>[ngram, sapbert]</td>\n",
       "      <td>0.264336</td>\n",
       "    </tr>\n",
       "  </tbody>\n",
       "</table>\n",
       "</div>"
      ],
      "text/plain": [
       "                     document                           text         type  \\\n",
       "1  18_hodgkin-lymphom_0051_36  Therapie des Hodgkin Lymphoms  Therapeutic   \n",
       "\n",
       "   start  end       cui    tuis               canonical            linker  \\\n",
       "1    146  175  C5557287  [T170]  HL Project Terminology  [ngram, sapbert]   \n",
       "\n",
       "   confidence  \n",
       "1    0.264336  "
      ]
     },
     "metadata": {},
     "output_type": "display_data"
    },
    {
     "name": "stdout",
     "output_type": "stream",
     "text": [
      "####\n"
     ]
    },
    {
     "data": {
      "application/vnd.jupyter.widget-view+json": {
       "model_id": "8c4529736f91451c90b46ac7c673f6b9",
       "version_major": 2,
       "version_minor": 0
      },
      "text/plain": [
       "  0%|          | 0/1 [00:00<?, ?it/s]"
      ]
     },
     "metadata": {},
     "output_type": "display_data"
    },
    {
     "data": {
      "application/vnd.jupyter.widget-view+json": {
       "model_id": "fa5869537aad4f13854b7d934a4d19e2",
       "version_major": 2,
       "version_minor": 0
      },
      "text/plain": [
       "  0%|          | 0/1 [00:00<?, ?it/s]"
      ]
     },
     "metadata": {},
     "output_type": "display_data"
    },
    {
     "data": {
      "application/vnd.jupyter.widget-view+json": {
       "model_id": "153bfa9d605543a0938113cc7eae5075",
       "version_major": 2,
       "version_minor": 0
      },
      "text/plain": [
       "  0%|          | 0/1 [00:00<?, ?it/s]"
      ]
     },
     "metadata": {},
     "output_type": "display_data"
    },
    {
     "data": {
      "application/vnd.jupyter.widget-view+json": {
       "model_id": "d7b25ae86967454887542b9d2758f785",
       "version_major": 2,
       "version_minor": 0
      },
      "text/plain": [
       "  0%|          | 0/1 [00:00<?, ?it/s]"
      ]
     },
     "metadata": {},
     "output_type": "display_data"
    },
    {
     "name": "stdout",
     "output_type": "stream",
     "text": [
      "Sollte aufgrund des Vorliegens einer positiven PET/CT oder unabhängig vom PET/CT-Befund die Entscheidung zur konsolidierenden Strahlentherapie gefällt werden, sollten- wie in Abschnitt 11.2 beschrieben- frühzeitig intensivierte Vorsorgeuntersuchungen erfolgen.\n",
      "\n",
      "No Filter:\n"
     ]
    },
    {
     "data": {
      "text/html": [
       "<div>\n",
       "<style scoped>\n",
       "    .dataframe tbody tr th:only-of-type {\n",
       "        vertical-align: middle;\n",
       "    }\n",
       "\n",
       "    .dataframe tbody tr th {\n",
       "        vertical-align: top;\n",
       "    }\n",
       "\n",
       "    .dataframe thead th {\n",
       "        text-align: right;\n",
       "    }\n",
       "</style>\n",
       "<table border=\"1\" class=\"dataframe\">\n",
       "  <thead>\n",
       "    <tr style=\"text-align: right;\">\n",
       "      <th></th>\n",
       "      <th>document</th>\n",
       "      <th>text</th>\n",
       "      <th>type</th>\n",
       "      <th>start</th>\n",
       "      <th>end</th>\n",
       "      <th>cui</th>\n",
       "      <th>tuis</th>\n",
       "      <th>canonical</th>\n",
       "      <th>linker</th>\n",
       "      <th>confidence</th>\n",
       "    </tr>\n",
       "  </thead>\n",
       "  <tbody>\n",
       "    <tr>\n",
       "      <th>3</th>\n",
       "      <td>18_hodgkin-lymphom_0051_38</td>\n",
       "      <td>frühzeitig intensivierte Vorsorgeuntersuchungen</td>\n",
       "      <td>Diagnostic</td>\n",
       "      <td>203</td>\n",
       "      <td>250</td>\n",
       "      <td>C5197888</td>\n",
       "      <td>[T058]</td>\n",
       "      <td>Early Warning Score</td>\n",
       "      <td>[sapbert]</td>\n",
       "      <td>0.063525</td>\n",
       "    </tr>\n",
       "  </tbody>\n",
       "</table>\n",
       "</div>"
      ],
      "text/plain": [
       "                     document  \\\n",
       "3  18_hodgkin-lymphom_0051_38   \n",
       "\n",
       "                                              text        type  start  end  \\\n",
       "3  frühzeitig intensivierte Vorsorgeuntersuchungen  Diagnostic    203  250   \n",
       "\n",
       "        cui    tuis            canonical     linker  confidence  \n",
       "3  C5197888  [T058]  Early Warning Score  [sapbert]    0.063525  "
      ]
     },
     "metadata": {},
     "output_type": "display_data"
    },
    {
     "name": "stdout",
     "output_type": "stream",
     "text": [
      "Filter:\n"
     ]
    },
    {
     "data": {
      "text/html": [
       "<div>\n",
       "<style scoped>\n",
       "    .dataframe tbody tr th:only-of-type {\n",
       "        vertical-align: middle;\n",
       "    }\n",
       "\n",
       "    .dataframe tbody tr th {\n",
       "        vertical-align: top;\n",
       "    }\n",
       "\n",
       "    .dataframe thead th {\n",
       "        text-align: right;\n",
       "    }\n",
       "</style>\n",
       "<table border=\"1\" class=\"dataframe\">\n",
       "  <thead>\n",
       "    <tr style=\"text-align: right;\">\n",
       "      <th></th>\n",
       "      <th>document</th>\n",
       "      <th>text</th>\n",
       "      <th>type</th>\n",
       "      <th>start</th>\n",
       "      <th>end</th>\n",
       "      <th>cui</th>\n",
       "      <th>tuis</th>\n",
       "      <th>canonical</th>\n",
       "      <th>linker</th>\n",
       "      <th>confidence</th>\n",
       "    </tr>\n",
       "  </thead>\n",
       "  <tbody>\n",
       "    <tr>\n",
       "      <th>3</th>\n",
       "      <td>18_hodgkin-lymphom_0051_38</td>\n",
       "      <td>frühzeitig intensivierte Vorsorgeuntersuchungen</td>\n",
       "      <td>Diagnostic</td>\n",
       "      <td>203</td>\n",
       "      <td>250</td>\n",
       "      <td>C1514407</td>\n",
       "      <td>[T060]</td>\n",
       "      <td>Prevention, Early Detection of Premalignant Le...</td>\n",
       "      <td>[sapbert]</td>\n",
       "      <td>0.066824</td>\n",
       "    </tr>\n",
       "  </tbody>\n",
       "</table>\n",
       "</div>"
      ],
      "text/plain": [
       "                     document  \\\n",
       "3  18_hodgkin-lymphom_0051_38   \n",
       "\n",
       "                                              text        type  start  end  \\\n",
       "3  frühzeitig intensivierte Vorsorgeuntersuchungen  Diagnostic    203  250   \n",
       "\n",
       "        cui    tuis                                          canonical  \\\n",
       "3  C1514407  [T060]  Prevention, Early Detection of Premalignant Le...   \n",
       "\n",
       "      linker  confidence  \n",
       "3  [sapbert]    0.066824  "
      ]
     },
     "metadata": {},
     "output_type": "display_data"
    },
    {
     "name": "stdout",
     "output_type": "stream",
     "text": [
      "####\n"
     ]
    },
    {
     "data": {
      "application/vnd.jupyter.widget-view+json": {
       "model_id": "2f685cf7764f44cbbfaa505604de6cc1",
       "version_major": 2,
       "version_minor": 0
      },
      "text/plain": [
       "  0%|          | 0/1 [00:00<?, ?it/s]"
      ]
     },
     "metadata": {},
     "output_type": "display_data"
    },
    {
     "data": {
      "application/vnd.jupyter.widget-view+json": {
       "model_id": "193a35e310aa4e9195e1412375f6ef99",
       "version_major": 2,
       "version_minor": 0
      },
      "text/plain": [
       "  0%|          | 0/1 [00:00<?, ?it/s]"
      ]
     },
     "metadata": {},
     "output_type": "display_data"
    },
    {
     "name": "stdout",
     "output_type": "stream",
     "text": [
      "In der großen Kohortenanalyse von Veit-Rubin wurde nämlich gezeigt, dass bis zu 30 Jahre nach Therapie des Hodgkin-Lymphoms von einer steigenden Inzidenz des sekundären Mamma-Karzinoms auszugehen ist.\n",
      "\n",
      "No Filter:\n"
     ]
    },
    {
     "data": {
      "text/html": [
       "<div>\n",
       "<style scoped>\n",
       "    .dataframe tbody tr th:only-of-type {\n",
       "        vertical-align: middle;\n",
       "    }\n",
       "\n",
       "    .dataframe tbody tr th {\n",
       "        vertical-align: top;\n",
       "    }\n",
       "\n",
       "    .dataframe thead th {\n",
       "        text-align: right;\n",
       "    }\n",
       "</style>\n",
       "<table border=\"1\" class=\"dataframe\">\n",
       "  <thead>\n",
       "    <tr style=\"text-align: right;\">\n",
       "      <th></th>\n",
       "      <th>document</th>\n",
       "      <th>text</th>\n",
       "      <th>type</th>\n",
       "      <th>start</th>\n",
       "      <th>end</th>\n",
       "      <th>cui</th>\n",
       "      <th>tuis</th>\n",
       "      <th>canonical</th>\n",
       "      <th>linker</th>\n",
       "      <th>confidence</th>\n",
       "    </tr>\n",
       "  </thead>\n",
       "  <tbody>\n",
       "    <tr>\n",
       "      <th>0</th>\n",
       "      <td>18_hodgkin-lymphom_0051_39</td>\n",
       "      <td>Therapie des Hodgkin-Lymphoms</td>\n",
       "      <td>Therapeutic</td>\n",
       "      <td>94</td>\n",
       "      <td>123</td>\n",
       "      <td>C0019829</td>\n",
       "      <td>[T191]</td>\n",
       "      <td>Hodgkin-Krankheit</td>\n",
       "      <td>[ngram, sapbert]</td>\n",
       "      <td>0.070408</td>\n",
       "    </tr>\n",
       "  </tbody>\n",
       "</table>\n",
       "</div>"
      ],
      "text/plain": [
       "                     document                           text         type  \\\n",
       "0  18_hodgkin-lymphom_0051_39  Therapie des Hodgkin-Lymphoms  Therapeutic   \n",
       "\n",
       "   start  end       cui    tuis          canonical            linker  \\\n",
       "0     94  123  C0019829  [T191]  Hodgkin-Krankheit  [ngram, sapbert]   \n",
       "\n",
       "   confidence  \n",
       "0    0.070408  "
      ]
     },
     "metadata": {},
     "output_type": "display_data"
    },
    {
     "name": "stdout",
     "output_type": "stream",
     "text": [
      "Filter:\n"
     ]
    },
    {
     "data": {
      "text/html": [
       "<div>\n",
       "<style scoped>\n",
       "    .dataframe tbody tr th:only-of-type {\n",
       "        vertical-align: middle;\n",
       "    }\n",
       "\n",
       "    .dataframe tbody tr th {\n",
       "        vertical-align: top;\n",
       "    }\n",
       "\n",
       "    .dataframe thead th {\n",
       "        text-align: right;\n",
       "    }\n",
       "</style>\n",
       "<table border=\"1\" class=\"dataframe\">\n",
       "  <thead>\n",
       "    <tr style=\"text-align: right;\">\n",
       "      <th></th>\n",
       "      <th>document</th>\n",
       "      <th>text</th>\n",
       "      <th>type</th>\n",
       "      <th>start</th>\n",
       "      <th>end</th>\n",
       "      <th>cui</th>\n",
       "      <th>tuis</th>\n",
       "      <th>canonical</th>\n",
       "      <th>linker</th>\n",
       "      <th>confidence</th>\n",
       "    </tr>\n",
       "  </thead>\n",
       "  <tbody>\n",
       "    <tr>\n",
       "      <th>0</th>\n",
       "      <td>18_hodgkin-lymphom_0051_39</td>\n",
       "      <td>Therapie des Hodgkin-Lymphoms</td>\n",
       "      <td>Therapeutic</td>\n",
       "      <td>94</td>\n",
       "      <td>123</td>\n",
       "      <td>C5557287</td>\n",
       "      <td>[T170]</td>\n",
       "      <td>HL Project Terminology</td>\n",
       "      <td>[ngram, sapbert]</td>\n",
       "      <td>0.269659</td>\n",
       "    </tr>\n",
       "  </tbody>\n",
       "</table>\n",
       "</div>"
      ],
      "text/plain": [
       "                     document                           text         type  \\\n",
       "0  18_hodgkin-lymphom_0051_39  Therapie des Hodgkin-Lymphoms  Therapeutic   \n",
       "\n",
       "   start  end       cui    tuis               canonical            linker  \\\n",
       "0     94  123  C5557287  [T170]  HL Project Terminology  [ngram, sapbert]   \n",
       "\n",
       "   confidence  \n",
       "0    0.269659  "
      ]
     },
     "metadata": {},
     "output_type": "display_data"
    },
    {
     "name": "stdout",
     "output_type": "stream",
     "text": [
      "####\n"
     ]
    },
    {
     "data": {
      "application/vnd.jupyter.widget-view+json": {
       "model_id": "06090a362bc74f7db13a23d0c088245f",
       "version_major": 2,
       "version_minor": 0
      },
      "text/plain": [
       "  0%|          | 0/1 [00:00<?, ?it/s]"
      ]
     },
     "metadata": {},
     "output_type": "display_data"
    },
    {
     "data": {
      "application/vnd.jupyter.widget-view+json": {
       "model_id": "855b39e2ecc7467080a0efb75e6ee6ab",
       "version_major": 2,
       "version_minor": 0
      },
      "text/plain": [
       "  0%|          | 0/1 [00:00<?, ?it/s]"
      ]
     },
     "metadata": {},
     "output_type": "display_data"
    },
    {
     "data": {
      "application/vnd.jupyter.widget-view+json": {
       "model_id": "11b06cf756c54a70919d1eac717821a9",
       "version_major": 2,
       "version_minor": 0
      },
      "text/plain": [
       "  0%|          | 0/1 [00:00<?, ?it/s]"
      ]
     },
     "metadata": {},
     "output_type": "display_data"
    },
    {
     "data": {
      "application/vnd.jupyter.widget-view+json": {
       "model_id": "ac058e3a30934188bb513902b7da4cec",
       "version_major": 2,
       "version_minor": 0
      },
      "text/plain": [
       "  0%|          | 0/1 [00:00<?, ?it/s]"
      ]
     },
     "metadata": {},
     "output_type": "display_data"
    },
    {
     "data": {
      "application/vnd.jupyter.widget-view+json": {
       "model_id": "878ca0c6305f483a91ef6e6609ad1dd5",
       "version_major": 2,
       "version_minor": 0
      },
      "text/plain": [
       "  0%|          | 0/1 [00:00<?, ?it/s]"
      ]
     },
     "metadata": {},
     "output_type": "display_data"
    },
    {
     "data": {
      "application/vnd.jupyter.widget-view+json": {
       "model_id": "ab321026b75e4920ad5c1d65cedfa22c",
       "version_major": 2,
       "version_minor": 0
      },
      "text/plain": [
       "  0%|          | 0/1 [00:00<?, ?it/s]"
      ]
     },
     "metadata": {},
     "output_type": "display_data"
    },
    {
     "data": {
      "application/vnd.jupyter.widget-view+json": {
       "model_id": "8997a6c8e61a4214a256b3651c3499ee",
       "version_major": 2,
       "version_minor": 0
      },
      "text/plain": [
       "  0%|          | 0/1 [00:00<?, ?it/s]"
      ]
     },
     "metadata": {},
     "output_type": "display_data"
    },
    {
     "data": {
      "application/vnd.jupyter.widget-view+json": {
       "model_id": "40200c7351b9405fb8ffbf7e23b47ff9",
       "version_major": 2,
       "version_minor": 0
      },
      "text/plain": [
       "  0%|          | 0/1 [00:00<?, ?it/s]"
      ]
     },
     "metadata": {},
     "output_type": "display_data"
    },
    {
     "data": {
      "application/vnd.jupyter.widget-view+json": {
       "model_id": "e95453f263b24b9995d315e83cd83e26",
       "version_major": 2,
       "version_minor": 0
      },
      "text/plain": [
       "  0%|          | 0/1 [00:00<?, ?it/s]"
      ]
     },
     "metadata": {},
     "output_type": "display_data"
    },
    {
     "data": {
      "application/vnd.jupyter.widget-view+json": {
       "model_id": "f728eb6e4ec14e228fbc281ca522699b",
       "version_major": 2,
       "version_minor": 0
      },
      "text/plain": [
       "  0%|          | 0/1 [00:00<?, ?it/s]"
      ]
     },
     "metadata": {},
     "output_type": "display_data"
    },
    {
     "name": "stdout",
     "output_type": "stream",
     "text": [
      "Obligatorische Untersuchungen des Restagings nach Bestrahlung enthalten:\n",
      "\n",
      "No Filter:\n"
     ]
    },
    {
     "data": {
      "text/html": [
       "<div>\n",
       "<style scoped>\n",
       "    .dataframe tbody tr th:only-of-type {\n",
       "        vertical-align: middle;\n",
       "    }\n",
       "\n",
       "    .dataframe tbody tr th {\n",
       "        vertical-align: top;\n",
       "    }\n",
       "\n",
       "    .dataframe thead th {\n",
       "        text-align: right;\n",
       "    }\n",
       "</style>\n",
       "<table border=\"1\" class=\"dataframe\">\n",
       "  <thead>\n",
       "    <tr style=\"text-align: right;\">\n",
       "      <th></th>\n",
       "      <th>document</th>\n",
       "      <th>text</th>\n",
       "      <th>type</th>\n",
       "      <th>start</th>\n",
       "      <th>end</th>\n",
       "      <th>cui</th>\n",
       "      <th>tuis</th>\n",
       "      <th>canonical</th>\n",
       "      <th>linker</th>\n",
       "      <th>confidence</th>\n",
       "    </tr>\n",
       "  </thead>\n",
       "  <tbody>\n",
       "    <tr>\n",
       "      <th>0</th>\n",
       "      <td>18_hodgkin-lymphom_0051_44</td>\n",
       "      <td>Obligatorische Untersuchungen des Restagings n...</td>\n",
       "      <td>Diagnostic</td>\n",
       "      <td>0</td>\n",
       "      <td>61</td>\n",
       "      <td>C1700931</td>\n",
       "      <td>[T046]</td>\n",
       "      <td>Post vaccination satellite lesions</td>\n",
       "      <td>[sapbert]</td>\n",
       "      <td>0.068599</td>\n",
       "    </tr>\n",
       "  </tbody>\n",
       "</table>\n",
       "</div>"
      ],
      "text/plain": [
       "                     document  \\\n",
       "0  18_hodgkin-lymphom_0051_44   \n",
       "\n",
       "                                                text        type  start  end  \\\n",
       "0  Obligatorische Untersuchungen des Restagings n...  Diagnostic      0   61   \n",
       "\n",
       "        cui    tuis                           canonical     linker  confidence  \n",
       "0  C1700931  [T046]  Post vaccination satellite lesions  [sapbert]    0.068599  "
      ]
     },
     "metadata": {},
     "output_type": "display_data"
    },
    {
     "name": "stdout",
     "output_type": "stream",
     "text": [
      "Filter:\n"
     ]
    },
    {
     "data": {
      "text/html": [
       "<div>\n",
       "<style scoped>\n",
       "    .dataframe tbody tr th:only-of-type {\n",
       "        vertical-align: middle;\n",
       "    }\n",
       "\n",
       "    .dataframe tbody tr th {\n",
       "        vertical-align: top;\n",
       "    }\n",
       "\n",
       "    .dataframe thead th {\n",
       "        text-align: right;\n",
       "    }\n",
       "</style>\n",
       "<table border=\"1\" class=\"dataframe\">\n",
       "  <thead>\n",
       "    <tr style=\"text-align: right;\">\n",
       "      <th></th>\n",
       "      <th>document</th>\n",
       "      <th>text</th>\n",
       "      <th>type</th>\n",
       "      <th>start</th>\n",
       "      <th>end</th>\n",
       "      <th>cui</th>\n",
       "      <th>tuis</th>\n",
       "      <th>canonical</th>\n",
       "      <th>linker</th>\n",
       "      <th>confidence</th>\n",
       "    </tr>\n",
       "  </thead>\n",
       "  <tbody>\n",
       "    <tr>\n",
       "      <th>0</th>\n",
       "      <td>18_hodgkin-lymphom_0051_44</td>\n",
       "      <td>Obligatorische Untersuchungen des Restagings n...</td>\n",
       "      <td>Diagnostic</td>\n",
       "      <td>0</td>\n",
       "      <td>61</td>\n",
       "      <td>C5208122</td>\n",
       "      <td>[T060]</td>\n",
       "      <td>Radiation contamination survey</td>\n",
       "      <td>[sapbert]</td>\n",
       "      <td>0.064638</td>\n",
       "    </tr>\n",
       "  </tbody>\n",
       "</table>\n",
       "</div>"
      ],
      "text/plain": [
       "                     document  \\\n",
       "0  18_hodgkin-lymphom_0051_44   \n",
       "\n",
       "                                                text        type  start  end  \\\n",
       "0  Obligatorische Untersuchungen des Restagings n...  Diagnostic      0   61   \n",
       "\n",
       "        cui    tuis                       canonical     linker  confidence  \n",
       "0  C5208122  [T060]  Radiation contamination survey  [sapbert]    0.064638  "
      ]
     },
     "metadata": {},
     "output_type": "display_data"
    },
    {
     "name": "stdout",
     "output_type": "stream",
     "text": [
      "####\n"
     ]
    },
    {
     "data": {
      "application/vnd.jupyter.widget-view+json": {
       "model_id": "80d7ccccc0014d6ea13fbd7301d24292",
       "version_major": 2,
       "version_minor": 0
      },
      "text/plain": [
       "  0%|          | 0/1 [00:00<?, ?it/s]"
      ]
     },
     "metadata": {},
     "output_type": "display_data"
    },
    {
     "data": {
      "application/vnd.jupyter.widget-view+json": {
       "model_id": "5f5021e761a84e9697db3e0eaf699133",
       "version_major": 2,
       "version_minor": 0
      },
      "text/plain": [
       "  0%|          | 0/1 [00:00<?, ?it/s]"
      ]
     },
     "metadata": {},
     "output_type": "display_data"
    },
    {
     "name": "stdout",
     "output_type": "stream",
     "text": [
      "- Anamnese\n",
      "\n",
      "No Filter:\n"
     ]
    },
    {
     "data": {
      "text/html": [
       "<div>\n",
       "<style scoped>\n",
       "    .dataframe tbody tr th:only-of-type {\n",
       "        vertical-align: middle;\n",
       "    }\n",
       "\n",
       "    .dataframe tbody tr th {\n",
       "        vertical-align: top;\n",
       "    }\n",
       "\n",
       "    .dataframe thead th {\n",
       "        text-align: right;\n",
       "    }\n",
       "</style>\n",
       "<table border=\"1\" class=\"dataframe\">\n",
       "  <thead>\n",
       "    <tr style=\"text-align: right;\">\n",
       "      <th></th>\n",
       "      <th>document</th>\n",
       "      <th>text</th>\n",
       "      <th>type</th>\n",
       "      <th>start</th>\n",
       "      <th>end</th>\n",
       "      <th>cui</th>\n",
       "      <th>tuis</th>\n",
       "      <th>canonical</th>\n",
       "      <th>linker</th>\n",
       "      <th>confidence</th>\n",
       "    </tr>\n",
       "  </thead>\n",
       "  <tbody>\n",
       "    <tr>\n",
       "      <th>0</th>\n",
       "      <td>18_hodgkin-lymphom_0051_45</td>\n",
       "      <td>Anamnese</td>\n",
       "      <td>Diagnostic</td>\n",
       "      <td>2</td>\n",
       "      <td>10</td>\n",
       "      <td>C0021055</td>\n",
       "      <td>[T042]</td>\n",
       "      <td>Immunologisches Gedächtnis</td>\n",
       "      <td>[ngram, sapbert]</td>\n",
       "      <td>0.08095</td>\n",
       "    </tr>\n",
       "  </tbody>\n",
       "</table>\n",
       "</div>"
      ],
      "text/plain": [
       "                     document      text        type  start  end       cui  \\\n",
       "0  18_hodgkin-lymphom_0051_45  Anamnese  Diagnostic      2   10  C0021055   \n",
       "\n",
       "     tuis                   canonical            linker  confidence  \n",
       "0  [T042]  Immunologisches Gedächtnis  [ngram, sapbert]     0.08095  "
      ]
     },
     "metadata": {},
     "output_type": "display_data"
    },
    {
     "name": "stdout",
     "output_type": "stream",
     "text": [
      "Filter:\n"
     ]
    },
    {
     "data": {
      "text/html": [
       "<div>\n",
       "<style scoped>\n",
       "    .dataframe tbody tr th:only-of-type {\n",
       "        vertical-align: middle;\n",
       "    }\n",
       "\n",
       "    .dataframe tbody tr th {\n",
       "        vertical-align: top;\n",
       "    }\n",
       "\n",
       "    .dataframe thead th {\n",
       "        text-align: right;\n",
       "    }\n",
       "</style>\n",
       "<table border=\"1\" class=\"dataframe\">\n",
       "  <thead>\n",
       "    <tr style=\"text-align: right;\">\n",
       "      <th></th>\n",
       "      <th>document</th>\n",
       "      <th>text</th>\n",
       "      <th>type</th>\n",
       "      <th>start</th>\n",
       "      <th>end</th>\n",
       "      <th>cui</th>\n",
       "      <th>tuis</th>\n",
       "      <th>canonical</th>\n",
       "      <th>linker</th>\n",
       "      <th>confidence</th>\n",
       "    </tr>\n",
       "  </thead>\n",
       "  <tbody>\n",
       "    <tr>\n",
       "      <th>0</th>\n",
       "      <td>18_hodgkin-lymphom_0051_45</td>\n",
       "      <td>Anamnese</td>\n",
       "      <td>Diagnostic</td>\n",
       "      <td>2</td>\n",
       "      <td>10</td>\n",
       "      <td>C0085970</td>\n",
       "      <td>[T170]</td>\n",
       "      <td>Case Histories</td>\n",
       "      <td>[sapbert]</td>\n",
       "      <td>0.078161</td>\n",
       "    </tr>\n",
       "  </tbody>\n",
       "</table>\n",
       "</div>"
      ],
      "text/plain": [
       "                     document      text        type  start  end       cui  \\\n",
       "0  18_hodgkin-lymphom_0051_45  Anamnese  Diagnostic      2   10  C0085970   \n",
       "\n",
       "     tuis       canonical     linker  confidence  \n",
       "0  [T170]  Case Histories  [sapbert]    0.078161  "
      ]
     },
     "metadata": {},
     "output_type": "display_data"
    },
    {
     "name": "stdout",
     "output_type": "stream",
     "text": [
      "####\n"
     ]
    },
    {
     "data": {
      "application/vnd.jupyter.widget-view+json": {
       "model_id": "3220ebdce5e44c539d0800814992c552",
       "version_major": 2,
       "version_minor": 0
      },
      "text/plain": [
       "  0%|          | 0/1 [00:00<?, ?it/s]"
      ]
     },
     "metadata": {},
     "output_type": "display_data"
    },
    {
     "data": {
      "application/vnd.jupyter.widget-view+json": {
       "model_id": "f03c05e9c538429aa20fb89ed9d3af40",
       "version_major": 2,
       "version_minor": 0
      },
      "text/plain": [
       "  0%|          | 0/1 [00:00<?, ?it/s]"
      ]
     },
     "metadata": {},
     "output_type": "display_data"
    },
    {
     "data": {
      "application/vnd.jupyter.widget-view+json": {
       "model_id": "9e65654b9bf94d9fbe923434b8600dd7",
       "version_major": 2,
       "version_minor": 0
      },
      "text/plain": [
       "  0%|          | 0/1 [00:00<?, ?it/s]"
      ]
     },
     "metadata": {},
     "output_type": "display_data"
    },
    {
     "data": {
      "application/vnd.jupyter.widget-view+json": {
       "model_id": "d685f3b2fff54554ae89e5dc4ba7530d",
       "version_major": 2,
       "version_minor": 0
      },
      "text/plain": [
       "  0%|          | 0/1 [00:00<?, ?it/s]"
      ]
     },
     "metadata": {},
     "output_type": "display_data"
    },
    {
     "name": "stdout",
     "output_type": "stream",
     "text": [
      "- Labordiagnostik, wie Blutsenkungsgeschwindigkeit (BSG), Differentialblutbild, Klinische Chemie (Gamma-GT, GOT, GPT, Bilirubin, Kreatinin, Harnsäure), Alkalische Phosphatase (AP), Laktatdehydrogenase (LDH)\n",
      "\n",
      "No Filter:\n"
     ]
    },
    {
     "data": {
      "text/html": [
       "<div>\n",
       "<style scoped>\n",
       "    .dataframe tbody tr th:only-of-type {\n",
       "        vertical-align: middle;\n",
       "    }\n",
       "\n",
       "    .dataframe tbody tr th {\n",
       "        vertical-align: top;\n",
       "    }\n",
       "\n",
       "    .dataframe thead th {\n",
       "        text-align: right;\n",
       "    }\n",
       "</style>\n",
       "<table border=\"1\" class=\"dataframe\">\n",
       "  <thead>\n",
       "    <tr style=\"text-align: right;\">\n",
       "      <th></th>\n",
       "      <th>document</th>\n",
       "      <th>text</th>\n",
       "      <th>type</th>\n",
       "      <th>start</th>\n",
       "      <th>end</th>\n",
       "      <th>cui</th>\n",
       "      <th>tuis</th>\n",
       "      <th>canonical</th>\n",
       "      <th>linker</th>\n",
       "      <th>confidence</th>\n",
       "    </tr>\n",
       "  </thead>\n",
       "  <tbody>\n",
       "    <tr>\n",
       "      <th>0</th>\n",
       "      <td>18_hodgkin-lymphom_0051_47</td>\n",
       "      <td>Labordiagnostik</td>\n",
       "      <td>Diagnostic</td>\n",
       "      <td>2</td>\n",
       "      <td>17</td>\n",
       "      <td>C0011911</td>\n",
       "      <td>[T033]</td>\n",
       "      <td>Labordiagnostik</td>\n",
       "      <td>[ngram, sapbert]</td>\n",
       "      <td>0.159278</td>\n",
       "    </tr>\n",
       "    <tr>\n",
       "      <th>3</th>\n",
       "      <td>18_hodgkin-lymphom_0051_47</td>\n",
       "      <td>Differentialblutbild</td>\n",
       "      <td>Diagnostic</td>\n",
       "      <td>58</td>\n",
       "      <td>78</td>\n",
       "      <td>C0009555</td>\n",
       "      <td>[T059]</td>\n",
       "      <td>Blutzellzählung, vollständige</td>\n",
       "      <td>[sapbert]</td>\n",
       "      <td>0.067997</td>\n",
       "    </tr>\n",
       "  </tbody>\n",
       "</table>\n",
       "</div>"
      ],
      "text/plain": [
       "                     document                  text        type  start  end  \\\n",
       "0  18_hodgkin-lymphom_0051_47       Labordiagnostik  Diagnostic      2   17   \n",
       "3  18_hodgkin-lymphom_0051_47  Differentialblutbild  Diagnostic     58   78   \n",
       "\n",
       "        cui    tuis                      canonical            linker  \\\n",
       "0  C0011911  [T033]                Labordiagnostik  [ngram, sapbert]   \n",
       "3  C0009555  [T059]  Blutzellzählung, vollständige         [sapbert]   \n",
       "\n",
       "   confidence  \n",
       "0    0.159278  \n",
       "3    0.067997  "
      ]
     },
     "metadata": {},
     "output_type": "display_data"
    },
    {
     "name": "stdout",
     "output_type": "stream",
     "text": [
      "Filter:\n"
     ]
    },
    {
     "data": {
      "text/html": [
       "<div>\n",
       "<style scoped>\n",
       "    .dataframe tbody tr th:only-of-type {\n",
       "        vertical-align: middle;\n",
       "    }\n",
       "\n",
       "    .dataframe tbody tr th {\n",
       "        vertical-align: top;\n",
       "    }\n",
       "\n",
       "    .dataframe thead th {\n",
       "        text-align: right;\n",
       "    }\n",
       "</style>\n",
       "<table border=\"1\" class=\"dataframe\">\n",
       "  <thead>\n",
       "    <tr style=\"text-align: right;\">\n",
       "      <th></th>\n",
       "      <th>document</th>\n",
       "      <th>text</th>\n",
       "      <th>type</th>\n",
       "      <th>start</th>\n",
       "      <th>end</th>\n",
       "      <th>cui</th>\n",
       "      <th>tuis</th>\n",
       "      <th>canonical</th>\n",
       "      <th>linker</th>\n",
       "      <th>confidence</th>\n",
       "    </tr>\n",
       "  </thead>\n",
       "  <tbody>\n",
       "    <tr>\n",
       "      <th>0</th>\n",
       "      <td>18_hodgkin-lymphom_0051_47</td>\n",
       "      <td>Labordiagnostik</td>\n",
       "      <td>Diagnostic</td>\n",
       "      <td>2</td>\n",
       "      <td>17</td>\n",
       "      <td>C1319069</td>\n",
       "      <td>[T060]</td>\n",
       "      <td>Point-of-Care Testing</td>\n",
       "      <td>[ngram, sapbert]</td>\n",
       "      <td>0.069894</td>\n",
       "    </tr>\n",
       "    <tr>\n",
       "      <th>3</th>\n",
       "      <td>18_hodgkin-lymphom_0051_47</td>\n",
       "      <td>Differentialblutbild</td>\n",
       "      <td>Diagnostic</td>\n",
       "      <td>58</td>\n",
       "      <td>78</td>\n",
       "      <td>C0005771</td>\n",
       "      <td>[T059]</td>\n",
       "      <td>Blutkörperchenbestimmung</td>\n",
       "      <td>[ngram, sapbert]</td>\n",
       "      <td>0.070344</td>\n",
       "    </tr>\n",
       "  </tbody>\n",
       "</table>\n",
       "</div>"
      ],
      "text/plain": [
       "                     document                  text        type  start  end  \\\n",
       "0  18_hodgkin-lymphom_0051_47       Labordiagnostik  Diagnostic      2   17   \n",
       "3  18_hodgkin-lymphom_0051_47  Differentialblutbild  Diagnostic     58   78   \n",
       "\n",
       "        cui    tuis                 canonical            linker  confidence  \n",
       "0  C1319069  [T060]     Point-of-Care Testing  [ngram, sapbert]    0.069894  \n",
       "3  C0005771  [T059]  Blutkörperchenbestimmung  [ngram, sapbert]    0.070344  "
      ]
     },
     "metadata": {},
     "output_type": "display_data"
    },
    {
     "name": "stdout",
     "output_type": "stream",
     "text": [
      "####\n"
     ]
    },
    {
     "data": {
      "application/vnd.jupyter.widget-view+json": {
       "model_id": "564ea40428054f8599d4c06d23ac482d",
       "version_major": 2,
       "version_minor": 0
      },
      "text/plain": [
       "  0%|          | 0/1 [00:00<?, ?it/s]"
      ]
     },
     "metadata": {},
     "output_type": "display_data"
    },
    {
     "data": {
      "application/vnd.jupyter.widget-view+json": {
       "model_id": "1de5369b01f441cf9baac6853a15251e",
       "version_major": 2,
       "version_minor": 0
      },
      "text/plain": [
       "  0%|          | 0/1 [00:00<?, ?it/s]"
      ]
     },
     "metadata": {},
     "output_type": "display_data"
    },
    {
     "data": {
      "application/vnd.jupyter.widget-view+json": {
       "model_id": "42f77e97e3b64c3c9dbeb4a7b612a3e6",
       "version_major": 2,
       "version_minor": 0
      },
      "text/plain": [
       "  0%|          | 0/1 [00:00<?, ?it/s]"
      ]
     },
     "metadata": {},
     "output_type": "display_data"
    },
    {
     "data": {
      "application/vnd.jupyter.widget-view+json": {
       "model_id": "2017775adadc4377948e89cca044ff9a",
       "version_major": 2,
       "version_minor": 0
      },
      "text/plain": [
       "  0%|          | 0/1 [00:00<?, ?it/s]"
      ]
     },
     "metadata": {},
     "output_type": "display_data"
    },
    {
     "data": {
      "application/vnd.jupyter.widget-view+json": {
       "model_id": "42a782e97116420aad09bea19a274a01",
       "version_major": 2,
       "version_minor": 0
      },
      "text/plain": [
       "  0%|          | 0/1 [00:00<?, ?it/s]"
      ]
     },
     "metadata": {},
     "output_type": "display_data"
    },
    {
     "data": {
      "application/vnd.jupyter.widget-view+json": {
       "model_id": "0822d2346f544ed3998fc59ac37b9f87",
       "version_major": 2,
       "version_minor": 0
      },
      "text/plain": [
       "  0%|          | 0/1 [00:00<?, ?it/s]"
      ]
     },
     "metadata": {},
     "output_type": "display_data"
    },
    {
     "data": {
      "application/vnd.jupyter.widget-view+json": {
       "model_id": "d385deddeeae4e1688f578f048d38e3e",
       "version_major": 2,
       "version_minor": 0
      },
      "text/plain": [
       "  0%|          | 0/1 [00:00<?, ?it/s]"
      ]
     },
     "metadata": {},
     "output_type": "display_data"
    },
    {
     "data": {
      "application/vnd.jupyter.widget-view+json": {
       "model_id": "a4891c61462246018175b7054cbe9575",
       "version_major": 2,
       "version_minor": 0
      },
      "text/plain": [
       "  0%|          | 0/1 [00:00<?, ?it/s]"
      ]
     },
     "metadata": {},
     "output_type": "display_data"
    },
    {
     "data": {
      "application/vnd.jupyter.widget-view+json": {
       "model_id": "26dfbfbc390247e98f335f2fc2a07f59",
       "version_major": 2,
       "version_minor": 0
      },
      "text/plain": [
       "  0%|          | 0/1 [00:00<?, ?it/s]"
      ]
     },
     "metadata": {},
     "output_type": "display_data"
    },
    {
     "data": {
      "application/vnd.jupyter.widget-view+json": {
       "model_id": "dd20d09386ee450da40cad7b20d7bd74",
       "version_major": 2,
       "version_minor": 0
      },
      "text/plain": [
       "  0%|          | 0/1 [00:00<?, ?it/s]"
      ]
     },
     "metadata": {},
     "output_type": "display_data"
    },
    {
     "data": {
      "application/vnd.jupyter.widget-view+json": {
       "model_id": "73d6ea634d744b0e944a8d3f1fc45c80",
       "version_major": 2,
       "version_minor": 0
      },
      "text/plain": [
       "  0%|          | 0/1 [00:00<?, ?it/s]"
      ]
     },
     "metadata": {},
     "output_type": "display_data"
    },
    {
     "data": {
      "application/vnd.jupyter.widget-view+json": {
       "model_id": "e1f63ecd838c49589672f61ee32f4f1f",
       "version_major": 2,
       "version_minor": 0
      },
      "text/plain": [
       "  0%|          | 0/1 [00:00<?, ?it/s]"
      ]
     },
     "metadata": {},
     "output_type": "display_data"
    },
    {
     "data": {
      "application/vnd.jupyter.widget-view+json": {
       "model_id": "d5c796f0db014923a0213e47f027adbd",
       "version_major": 2,
       "version_minor": 0
      },
      "text/plain": [
       "  0%|          | 0/1 [00:00<?, ?it/s]"
      ]
     },
     "metadata": {},
     "output_type": "display_data"
    },
    {
     "data": {
      "application/vnd.jupyter.widget-view+json": {
       "model_id": "e4dab0c05ea6417caebf0d222e6c23c0",
       "version_major": 2,
       "version_minor": 0
      },
      "text/plain": [
       "  0%|          | 0/1 [00:00<?, ?it/s]"
      ]
     },
     "metadata": {},
     "output_type": "display_data"
    },
    {
     "data": {
      "application/vnd.jupyter.widget-view+json": {
       "model_id": "850dd8c2c49c41788e4886303726e11a",
       "version_major": 2,
       "version_minor": 0
      },
      "text/plain": [
       "  0%|          | 0/1 [00:00<?, ?it/s]"
      ]
     },
     "metadata": {},
     "output_type": "display_data"
    },
    {
     "data": {
      "application/vnd.jupyter.widget-view+json": {
       "model_id": "b2a924ed39944d9b8a3b3714bfd228eb",
       "version_major": 2,
       "version_minor": 0
      },
      "text/plain": [
       "  0%|          | 0/1 [00:00<?, ?it/s]"
      ]
     },
     "metadata": {},
     "output_type": "display_data"
    },
    {
     "data": {
      "application/vnd.jupyter.widget-view+json": {
       "model_id": "aca6bde517ea40a9b7cbf18c299fe6c9",
       "version_major": 2,
       "version_minor": 0
      },
      "text/plain": [
       "  0%|          | 0/1 [00:00<?, ?it/s]"
      ]
     },
     "metadata": {},
     "output_type": "display_data"
    },
    {
     "data": {
      "application/vnd.jupyter.widget-view+json": {
       "model_id": "48f685c7537648768f933ffc1ea042cd",
       "version_major": 2,
       "version_minor": 0
      },
      "text/plain": [
       "  0%|          | 0/1 [00:00<?, ?it/s]"
      ]
     },
     "metadata": {},
     "output_type": "display_data"
    },
    {
     "data": {
      "application/vnd.jupyter.widget-view+json": {
       "model_id": "0866bb1a2605489b908d9391ff09fa1e",
       "version_major": 2,
       "version_minor": 0
      },
      "text/plain": [
       "  0%|          | 0/1 [00:00<?, ?it/s]"
      ]
     },
     "metadata": {},
     "output_type": "display_data"
    },
    {
     "data": {
      "application/vnd.jupyter.widget-view+json": {
       "model_id": "994dde6d4abe40beb4663918266789b3",
       "version_major": 2,
       "version_minor": 0
      },
      "text/plain": [
       "  0%|          | 0/1 [00:00<?, ?it/s]"
      ]
     },
     "metadata": {},
     "output_type": "display_data"
    },
    {
     "data": {
      "application/vnd.jupyter.widget-view+json": {
       "model_id": "0189925dc77141a79a4e655ad4e9baf3",
       "version_major": 2,
       "version_minor": 0
      },
      "text/plain": [
       "  0%|          | 0/1 [00:00<?, ?it/s]"
      ]
     },
     "metadata": {},
     "output_type": "display_data"
    },
    {
     "data": {
      "application/vnd.jupyter.widget-view+json": {
       "model_id": "a75cbf823a904e3489df99db9d5171eb",
       "version_major": 2,
       "version_minor": 0
      },
      "text/plain": [
       "  0%|          | 0/1 [00:00<?, ?it/s]"
      ]
     },
     "metadata": {},
     "output_type": "display_data"
    },
    {
     "data": {
      "application/vnd.jupyter.widget-view+json": {
       "model_id": "3b0b1d1130c749bc8c29b70b65030251",
       "version_major": 2,
       "version_minor": 0
      },
      "text/plain": [
       "  0%|          | 0/1 [00:00<?, ?it/s]"
      ]
     },
     "metadata": {},
     "output_type": "display_data"
    },
    {
     "data": {
      "application/vnd.jupyter.widget-view+json": {
       "model_id": "8fe7226241344dce9dfdfa4e4924fe76",
       "version_major": 2,
       "version_minor": 0
      },
      "text/plain": [
       "  0%|          | 0/1 [00:00<?, ?it/s]"
      ]
     },
     "metadata": {},
     "output_type": "display_data"
    },
    {
     "data": {
      "application/vnd.jupyter.widget-view+json": {
       "model_id": "9d03552e9b81441aa77a5e5fd81ae8bb",
       "version_major": 2,
       "version_minor": 0
      },
      "text/plain": [
       "  0%|          | 0/1 [00:00<?, ?it/s]"
      ]
     },
     "metadata": {},
     "output_type": "display_data"
    },
    {
     "data": {
      "application/vnd.jupyter.widget-view+json": {
       "model_id": "6122ac3bd2d74d13aa4c32678a8be251",
       "version_major": 2,
       "version_minor": 0
      },
      "text/plain": [
       "  0%|          | 0/1 [00:00<?, ?it/s]"
      ]
     },
     "metadata": {},
     "output_type": "display_data"
    },
    {
     "data": {
      "application/vnd.jupyter.widget-view+json": {
       "model_id": "b0739e4ade4d4fe0bda6300012763378",
       "version_major": 2,
       "version_minor": 0
      },
      "text/plain": [
       "  0%|          | 0/1 [00:00<?, ?it/s]"
      ]
     },
     "metadata": {},
     "output_type": "display_data"
    },
    {
     "data": {
      "application/vnd.jupyter.widget-view+json": {
       "model_id": "0fffa449bd52466183e4c717ebaca36c",
       "version_major": 2,
       "version_minor": 0
      },
      "text/plain": [
       "  0%|          | 0/1 [00:00<?, ?it/s]"
      ]
     },
     "metadata": {},
     "output_type": "display_data"
    },
    {
     "data": {
      "application/vnd.jupyter.widget-view+json": {
       "model_id": "4ca5b30f96ef42a89a815940f061e91a",
       "version_major": 2,
       "version_minor": 0
      },
      "text/plain": [
       "  0%|          | 0/1 [00:00<?, ?it/s]"
      ]
     },
     "metadata": {},
     "output_type": "display_data"
    },
    {
     "data": {
      "application/vnd.jupyter.widget-view+json": {
       "model_id": "5c881fc5549a459ba6993ff45bd697c1",
       "version_major": 2,
       "version_minor": 0
      },
      "text/plain": [
       "  0%|          | 0/1 [00:00<?, ?it/s]"
      ]
     },
     "metadata": {},
     "output_type": "display_data"
    },
    {
     "data": {
      "application/vnd.jupyter.widget-view+json": {
       "model_id": "64f91fdfefc748b285a1e2945a604bf8",
       "version_major": 2,
       "version_minor": 0
      },
      "text/plain": [
       "  0%|          | 0/1 [00:00<?, ?it/s]"
      ]
     },
     "metadata": {},
     "output_type": "display_data"
    },
    {
     "data": {
      "application/vnd.jupyter.widget-view+json": {
       "model_id": "eec913213cd7409caea3473538423a6b",
       "version_major": 2,
       "version_minor": 0
      },
      "text/plain": [
       "  0%|          | 0/1 [00:00<?, ?it/s]"
      ]
     },
     "metadata": {},
     "output_type": "display_data"
    },
    {
     "data": {
      "application/vnd.jupyter.widget-view+json": {
       "model_id": "f20d8c31820c44388f662420db0e18a1",
       "version_major": 2,
       "version_minor": 0
      },
      "text/plain": [
       "  0%|          | 0/1 [00:00<?, ?it/s]"
      ]
     },
     "metadata": {},
     "output_type": "display_data"
    },
    {
     "data": {
      "application/vnd.jupyter.widget-view+json": {
       "model_id": "5a0d8558735c4fbcb717583d64ef8384",
       "version_major": 2,
       "version_minor": 0
      },
      "text/plain": [
       "  0%|          | 0/1 [00:00<?, ?it/s]"
      ]
     },
     "metadata": {},
     "output_type": "display_data"
    },
    {
     "data": {
      "application/vnd.jupyter.widget-view+json": {
       "model_id": "e0810456bdfc4df89dcfe4c786c5bd25",
       "version_major": 2,
       "version_minor": 0
      },
      "text/plain": [
       "  0%|          | 0/1 [00:00<?, ?it/s]"
      ]
     },
     "metadata": {},
     "output_type": "display_data"
    },
    {
     "data": {
      "application/vnd.jupyter.widget-view+json": {
       "model_id": "681776cda69140548e2d16769c423f8e",
       "version_major": 2,
       "version_minor": 0
      },
      "text/plain": [
       "  0%|          | 0/1 [00:00<?, ?it/s]"
      ]
     },
     "metadata": {},
     "output_type": "display_data"
    },
    {
     "data": {
      "application/vnd.jupyter.widget-view+json": {
       "model_id": "4d376803097c4c808e65ff9cb9607537",
       "version_major": 2,
       "version_minor": 0
      },
      "text/plain": [
       "  0%|          | 0/1 [00:00<?, ?it/s]"
      ]
     },
     "metadata": {},
     "output_type": "display_data"
    },
    {
     "data": {
      "application/vnd.jupyter.widget-view+json": {
       "model_id": "45f3057d2bc04103b46ade46ea8f24be",
       "version_major": 2,
       "version_minor": 0
      },
      "text/plain": [
       "  0%|          | 0/1 [00:00<?, ?it/s]"
      ]
     },
     "metadata": {},
     "output_type": "display_data"
    },
    {
     "data": {
      "application/vnd.jupyter.widget-view+json": {
       "model_id": "c2a7496f30064789af7f9b30e17026a8",
       "version_major": 2,
       "version_minor": 0
      },
      "text/plain": [
       "  0%|          | 0/1 [00:00<?, ?it/s]"
      ]
     },
     "metadata": {},
     "output_type": "display_data"
    },
    {
     "data": {
      "application/vnd.jupyter.widget-view+json": {
       "model_id": "3b07557c47ce40df9a7639a8fb4aafb7",
       "version_major": 2,
       "version_minor": 0
      },
      "text/plain": [
       "  0%|          | 0/1 [00:00<?, ?it/s]"
      ]
     },
     "metadata": {},
     "output_type": "display_data"
    },
    {
     "data": {
      "application/vnd.jupyter.widget-view+json": {
       "model_id": "3fa16438dace486b9e32774fcb7993a8",
       "version_major": 2,
       "version_minor": 0
      },
      "text/plain": [
       "  0%|          | 0/1 [00:00<?, ?it/s]"
      ]
     },
     "metadata": {},
     "output_type": "display_data"
    },
    {
     "data": {
      "application/vnd.jupyter.widget-view+json": {
       "model_id": "2bba3b2fee9c427d83e2f79917751b2b",
       "version_major": 2,
       "version_minor": 0
      },
      "text/plain": [
       "  0%|          | 0/1 [00:00<?, ?it/s]"
      ]
     },
     "metadata": {},
     "output_type": "display_data"
    },
    {
     "data": {
      "application/vnd.jupyter.widget-view+json": {
       "model_id": "90f748619a0a4655802d38d23ac9c88b",
       "version_major": 2,
       "version_minor": 0
      },
      "text/plain": [
       "  0%|          | 0/1 [00:00<?, ?it/s]"
      ]
     },
     "metadata": {},
     "output_type": "display_data"
    },
    {
     "data": {
      "application/vnd.jupyter.widget-view+json": {
       "model_id": "a9c2a442f9a04514a6029dd986fd2aef",
       "version_major": 2,
       "version_minor": 0
      },
      "text/plain": [
       "  0%|          | 0/1 [00:00<?, ?it/s]"
      ]
     },
     "metadata": {},
     "output_type": "display_data"
    },
    {
     "data": {
      "application/vnd.jupyter.widget-view+json": {
       "model_id": "47714679e77e400fbdcab9e0988f642b",
       "version_major": 2,
       "version_minor": 0
      },
      "text/plain": [
       "  0%|          | 0/1 [00:00<?, ?it/s]"
      ]
     },
     "metadata": {},
     "output_type": "display_data"
    },
    {
     "data": {
      "application/vnd.jupyter.widget-view+json": {
       "model_id": "7136f13aef3a428eb98d1bb2b98b592d",
       "version_major": 2,
       "version_minor": 0
      },
      "text/plain": [
       "  0%|          | 0/1 [00:00<?, ?it/s]"
      ]
     },
     "metadata": {},
     "output_type": "display_data"
    },
    {
     "data": {
      "application/vnd.jupyter.widget-view+json": {
       "model_id": "0383824a39cf4d98a46e6dabe54e3db6",
       "version_major": 2,
       "version_minor": 0
      },
      "text/plain": [
       "  0%|          | 0/1 [00:00<?, ?it/s]"
      ]
     },
     "metadata": {},
     "output_type": "display_data"
    },
    {
     "data": {
      "application/vnd.jupyter.widget-view+json": {
       "model_id": "bad77b3c3e644d1c83ede971d8dca06c",
       "version_major": 2,
       "version_minor": 0
      },
      "text/plain": [
       "  0%|          | 0/1 [00:00<?, ?it/s]"
      ]
     },
     "metadata": {},
     "output_type": "display_data"
    },
    {
     "data": {
      "application/vnd.jupyter.widget-view+json": {
       "model_id": "5f23f6797a2e459d80b9d6a610839e3a",
       "version_major": 2,
       "version_minor": 0
      },
      "text/plain": [
       "  0%|          | 0/1 [00:00<?, ?it/s]"
      ]
     },
     "metadata": {},
     "output_type": "display_data"
    },
    {
     "data": {
      "application/vnd.jupyter.widget-view+json": {
       "model_id": "3de6760e234d466a86f5d5be8033af61",
       "version_major": 2,
       "version_minor": 0
      },
      "text/plain": [
       "  0%|          | 0/1 [00:00<?, ?it/s]"
      ]
     },
     "metadata": {},
     "output_type": "display_data"
    },
    {
     "data": {
      "application/vnd.jupyter.widget-view+json": {
       "model_id": "6d88003efae34e659f50963f5e68dce7",
       "version_major": 2,
       "version_minor": 0
      },
      "text/plain": [
       "  0%|          | 0/1 [00:00<?, ?it/s]"
      ]
     },
     "metadata": {},
     "output_type": "display_data"
    },
    {
     "data": {
      "application/vnd.jupyter.widget-view+json": {
       "model_id": "ebea251019cb495abd181dae616cae0f",
       "version_major": 2,
       "version_minor": 0
      },
      "text/plain": [
       "  0%|          | 0/1 [00:00<?, ?it/s]"
      ]
     },
     "metadata": {},
     "output_type": "display_data"
    },
    {
     "data": {
      "application/vnd.jupyter.widget-view+json": {
       "model_id": "0d28cc5039a3485fa74c85200c711446",
       "version_major": 2,
       "version_minor": 0
      },
      "text/plain": [
       "  0%|          | 0/1 [00:00<?, ?it/s]"
      ]
     },
     "metadata": {},
     "output_type": "display_data"
    },
    {
     "data": {
      "application/vnd.jupyter.widget-view+json": {
       "model_id": "2fa6710cb0a6471d853bfa05484f977c",
       "version_major": 2,
       "version_minor": 0
      },
      "text/plain": [
       "  0%|          | 0/1 [00:00<?, ?it/s]"
      ]
     },
     "metadata": {},
     "output_type": "display_data"
    },
    {
     "data": {
      "application/vnd.jupyter.widget-view+json": {
       "model_id": "fe86b40091e54744abc7791ee50f2b9d",
       "version_major": 2,
       "version_minor": 0
      },
      "text/plain": [
       "  0%|          | 0/1 [00:00<?, ?it/s]"
      ]
     },
     "metadata": {},
     "output_type": "display_data"
    },
    {
     "data": {
      "application/vnd.jupyter.widget-view+json": {
       "model_id": "bf7e1942631f421cb0853ae2bc940ec0",
       "version_major": 2,
       "version_minor": 0
      },
      "text/plain": [
       "  0%|          | 0/1 [00:00<?, ?it/s]"
      ]
     },
     "metadata": {},
     "output_type": "display_data"
    },
    {
     "name": "stdout",
     "output_type": "stream",
     "text": [
      "Zudem ist die Bestimmung der Serumtumormarker (AFP, Beta-hCG, LDH) zur korrekten Klassifikation des EGKZT nach IGCCCG erforderlich.\n",
      "\n",
      "No Filter:\n"
     ]
    },
    {
     "data": {
      "text/html": [
       "<div>\n",
       "<style scoped>\n",
       "    .dataframe tbody tr th:only-of-type {\n",
       "        vertical-align: middle;\n",
       "    }\n",
       "\n",
       "    .dataframe tbody tr th {\n",
       "        vertical-align: top;\n",
       "    }\n",
       "\n",
       "    .dataframe thead th {\n",
       "        text-align: right;\n",
       "    }\n",
       "</style>\n",
       "<table border=\"1\" class=\"dataframe\">\n",
       "  <thead>\n",
       "    <tr style=\"text-align: right;\">\n",
       "      <th></th>\n",
       "      <th>document</th>\n",
       "      <th>text</th>\n",
       "      <th>type</th>\n",
       "      <th>start</th>\n",
       "      <th>end</th>\n",
       "      <th>cui</th>\n",
       "      <th>tuis</th>\n",
       "      <th>canonical</th>\n",
       "      <th>linker</th>\n",
       "      <th>confidence</th>\n",
       "    </tr>\n",
       "  </thead>\n",
       "  <tbody>\n",
       "    <tr>\n",
       "      <th>4</th>\n",
       "      <td>21_hodentumoren_0260_22</td>\n",
       "      <td>LDH</td>\n",
       "      <td>Nutrient_or_Body_Substance</td>\n",
       "      <td>62</td>\n",
       "      <td>65</td>\n",
       "      <td>C0202113</td>\n",
       "      <td>[T059]</td>\n",
       "      <td>Laktatdehydrogenase</td>\n",
       "      <td>[ngram, sapbert]</td>\n",
       "      <td>0.073044</td>\n",
       "    </tr>\n",
       "  </tbody>\n",
       "</table>\n",
       "</div>"
      ],
      "text/plain": [
       "                  document text                        type  start  end  \\\n",
       "4  21_hodentumoren_0260_22  LDH  Nutrient_or_Body_Substance     62   65   \n",
       "\n",
       "        cui    tuis            canonical            linker  confidence  \n",
       "4  C0202113  [T059]  Laktatdehydrogenase  [ngram, sapbert]    0.073044  "
      ]
     },
     "metadata": {},
     "output_type": "display_data"
    },
    {
     "name": "stdout",
     "output_type": "stream",
     "text": [
      "Filter:\n"
     ]
    },
    {
     "data": {
      "text/html": [
       "<div>\n",
       "<style scoped>\n",
       "    .dataframe tbody tr th:only-of-type {\n",
       "        vertical-align: middle;\n",
       "    }\n",
       "\n",
       "    .dataframe tbody tr th {\n",
       "        vertical-align: top;\n",
       "    }\n",
       "\n",
       "    .dataframe thead th {\n",
       "        text-align: right;\n",
       "    }\n",
       "</style>\n",
       "<table border=\"1\" class=\"dataframe\">\n",
       "  <thead>\n",
       "    <tr style=\"text-align: right;\">\n",
       "      <th></th>\n",
       "      <th>document</th>\n",
       "      <th>text</th>\n",
       "      <th>type</th>\n",
       "      <th>start</th>\n",
       "      <th>end</th>\n",
       "      <th>cui</th>\n",
       "      <th>tuis</th>\n",
       "      <th>canonical</th>\n",
       "      <th>linker</th>\n",
       "      <th>confidence</th>\n",
       "    </tr>\n",
       "  </thead>\n",
       "  <tbody>\n",
       "    <tr>\n",
       "      <th>4</th>\n",
       "      <td>21_hodentumoren_0260_22</td>\n",
       "      <td>LDH</td>\n",
       "      <td>Nutrient_or_Body_Substance</td>\n",
       "      <td>62</td>\n",
       "      <td>65</td>\n",
       "      <td>C0024395</td>\n",
       "      <td>[T116, T126]</td>\n",
       "      <td>Lactatdehydrogenase 5</td>\n",
       "      <td>[ngram, sapbert]</td>\n",
       "      <td>0.069396</td>\n",
       "    </tr>\n",
       "  </tbody>\n",
       "</table>\n",
       "</div>"
      ],
      "text/plain": [
       "                  document text                        type  start  end  \\\n",
       "4  21_hodentumoren_0260_22  LDH  Nutrient_or_Body_Substance     62   65   \n",
       "\n",
       "        cui          tuis              canonical            linker  confidence  \n",
       "4  C0024395  [T116, T126]  Lactatdehydrogenase 5  [ngram, sapbert]    0.069396  "
      ]
     },
     "metadata": {},
     "output_type": "display_data"
    },
    {
     "name": "stdout",
     "output_type": "stream",
     "text": [
      "####\n"
     ]
    },
    {
     "data": {
      "application/vnd.jupyter.widget-view+json": {
       "model_id": "82312b110b6d4823800300d4c74e25bb",
       "version_major": 2,
       "version_minor": 0
      },
      "text/plain": [
       "  0%|          | 0/1 [00:00<?, ?it/s]"
      ]
     },
     "metadata": {},
     "output_type": "display_data"
    },
    {
     "data": {
      "application/vnd.jupyter.widget-view+json": {
       "model_id": "caaf7acf6a0b4d83b4fbf52059b3b3e3",
       "version_major": 2,
       "version_minor": 0
      },
      "text/plain": [
       "  0%|          | 0/1 [00:00<?, ?it/s]"
      ]
     },
     "metadata": {},
     "output_type": "display_data"
    },
    {
     "data": {
      "application/vnd.jupyter.widget-view+json": {
       "model_id": "d91b4b87fca041059f00e85e7e87dc2b",
       "version_major": 2,
       "version_minor": 0
      },
      "text/plain": [
       "  0%|          | 0/1 [00:00<?, ?it/s]"
      ]
     },
     "metadata": {},
     "output_type": "display_data"
    },
    {
     "data": {
      "application/vnd.jupyter.widget-view+json": {
       "model_id": "e0956f4a167b44beb89b73ebd8a9c1c2",
       "version_major": 2,
       "version_minor": 0
      },
      "text/plain": [
       "  0%|          | 0/1 [00:00<?, ?it/s]"
      ]
     },
     "metadata": {},
     "output_type": "display_data"
    },
    {
     "data": {
      "application/vnd.jupyter.widget-view+json": {
       "model_id": "635b368120774ae9bfd8b3fdbb924434",
       "version_major": 2,
       "version_minor": 0
      },
      "text/plain": [
       "  0%|          | 0/1 [00:00<?, ?it/s]"
      ]
     },
     "metadata": {},
     "output_type": "display_data"
    },
    {
     "data": {
      "application/vnd.jupyter.widget-view+json": {
       "model_id": "d65eae80100c4f9eb4478ae8bc5f11c9",
       "version_major": 2,
       "version_minor": 0
      },
      "text/plain": [
       "  0%|          | 0/1 [00:00<?, ?it/s]"
      ]
     },
     "metadata": {},
     "output_type": "display_data"
    },
    {
     "data": {
      "application/vnd.jupyter.widget-view+json": {
       "model_id": "9783dcf499604788a9dae090bf525935",
       "version_major": 2,
       "version_minor": 0
      },
      "text/plain": [
       "  0%|          | 0/1 [00:00<?, ?it/s]"
      ]
     },
     "metadata": {},
     "output_type": "display_data"
    },
    {
     "data": {
      "application/vnd.jupyter.widget-view+json": {
       "model_id": "64d3a5f217b546909bfefeac18378848",
       "version_major": 2,
       "version_minor": 0
      },
      "text/plain": [
       "  0%|          | 0/1 [00:00<?, ?it/s]"
      ]
     },
     "metadata": {},
     "output_type": "display_data"
    },
    {
     "name": "stdout",
     "output_type": "stream",
     "text": [
      "Die Notwendigkeit einer primären Biopsie eines solchen Befundes wird kontrovers diskutiert.\n",
      "\n",
      "No Filter:\n"
     ]
    },
    {
     "data": {
      "text/html": [
       "<div>\n",
       "<style scoped>\n",
       "    .dataframe tbody tr th:only-of-type {\n",
       "        vertical-align: middle;\n",
       "    }\n",
       "\n",
       "    .dataframe tbody tr th {\n",
       "        vertical-align: top;\n",
       "    }\n",
       "\n",
       "    .dataframe thead th {\n",
       "        text-align: right;\n",
       "    }\n",
       "</style>\n",
       "<table border=\"1\" class=\"dataframe\">\n",
       "  <thead>\n",
       "    <tr style=\"text-align: right;\">\n",
       "      <th></th>\n",
       "      <th>document</th>\n",
       "      <th>text</th>\n",
       "      <th>type</th>\n",
       "      <th>start</th>\n",
       "      <th>end</th>\n",
       "      <th>cui</th>\n",
       "      <th>tuis</th>\n",
       "      <th>canonical</th>\n",
       "      <th>linker</th>\n",
       "      <th>confidence</th>\n",
       "    </tr>\n",
       "  </thead>\n",
       "  <tbody>\n",
       "    <tr>\n",
       "      <th>0</th>\n",
       "      <td>21_hodentumoren_0260_26</td>\n",
       "      <td>primären Biopsie eines solchen Befundes</td>\n",
       "      <td>Diagnostic</td>\n",
       "      <td>24</td>\n",
       "      <td>63</td>\n",
       "      <td>C0220797</td>\n",
       "      <td>[T033]</td>\n",
       "      <td>biopsy</td>\n",
       "      <td>[sapbert]</td>\n",
       "      <td>0.064055</td>\n",
       "    </tr>\n",
       "  </tbody>\n",
       "</table>\n",
       "</div>"
      ],
      "text/plain": [
       "                  document                                     text  \\\n",
       "0  21_hodentumoren_0260_26  primären Biopsie eines solchen Befundes   \n",
       "\n",
       "         type  start  end       cui    tuis canonical     linker  confidence  \n",
       "0  Diagnostic     24   63  C0220797  [T033]    biopsy  [sapbert]    0.064055  "
      ]
     },
     "metadata": {},
     "output_type": "display_data"
    },
    {
     "name": "stdout",
     "output_type": "stream",
     "text": [
      "Filter:\n"
     ]
    },
    {
     "data": {
      "text/html": [
       "<div>\n",
       "<style scoped>\n",
       "    .dataframe tbody tr th:only-of-type {\n",
       "        vertical-align: middle;\n",
       "    }\n",
       "\n",
       "    .dataframe tbody tr th {\n",
       "        vertical-align: top;\n",
       "    }\n",
       "\n",
       "    .dataframe thead th {\n",
       "        text-align: right;\n",
       "    }\n",
       "</style>\n",
       "<table border=\"1\" class=\"dataframe\">\n",
       "  <thead>\n",
       "    <tr style=\"text-align: right;\">\n",
       "      <th></th>\n",
       "      <th>document</th>\n",
       "      <th>text</th>\n",
       "      <th>type</th>\n",
       "      <th>start</th>\n",
       "      <th>end</th>\n",
       "      <th>cui</th>\n",
       "      <th>tuis</th>\n",
       "      <th>canonical</th>\n",
       "      <th>linker</th>\n",
       "      <th>confidence</th>\n",
       "    </tr>\n",
       "  </thead>\n",
       "  <tbody>\n",
       "    <tr>\n",
       "      <th>0</th>\n",
       "      <td>21_hodentumoren_0260_26</td>\n",
       "      <td>primären Biopsie eines solchen Befundes</td>\n",
       "      <td>Diagnostic</td>\n",
       "      <td>24</td>\n",
       "      <td>63</td>\n",
       "      <td>C0005558</td>\n",
       "      <td>[T060]</td>\n",
       "      <td>Biopsie</td>\n",
       "      <td>[ngram, sapbert]</td>\n",
       "      <td>0.063768</td>\n",
       "    </tr>\n",
       "  </tbody>\n",
       "</table>\n",
       "</div>"
      ],
      "text/plain": [
       "                  document                                     text  \\\n",
       "0  21_hodentumoren_0260_26  primären Biopsie eines solchen Befundes   \n",
       "\n",
       "         type  start  end       cui    tuis canonical            linker  \\\n",
       "0  Diagnostic     24   63  C0005558  [T060]   Biopsie  [ngram, sapbert]   \n",
       "\n",
       "   confidence  \n",
       "0    0.063768  "
      ]
     },
     "metadata": {},
     "output_type": "display_data"
    },
    {
     "name": "stdout",
     "output_type": "stream",
     "text": [
      "####\n"
     ]
    },
    {
     "data": {
      "application/vnd.jupyter.widget-view+json": {
       "model_id": "e7c6fbf4f2a649c88252f2360345f2a8",
       "version_major": 2,
       "version_minor": 0
      },
      "text/plain": [
       "  0%|          | 0/1 [00:00<?, ?it/s]"
      ]
     },
     "metadata": {},
     "output_type": "display_data"
    },
    {
     "data": {
      "application/vnd.jupyter.widget-view+json": {
       "model_id": "7bd9f5650b4f4d36a046d5c84533b5bb",
       "version_major": 2,
       "version_minor": 0
      },
      "text/plain": [
       "  0%|          | 0/1 [00:00<?, ?it/s]"
      ]
     },
     "metadata": {},
     "output_type": "display_data"
    },
    {
     "data": {
      "application/vnd.jupyter.widget-view+json": {
       "model_id": "b48cbe65139e4898ac3c90954b300419",
       "version_major": 2,
       "version_minor": 0
      },
      "text/plain": [
       "  0%|          | 0/1 [00:00<?, ?it/s]"
      ]
     },
     "metadata": {},
     "output_type": "display_data"
    },
    {
     "data": {
      "application/vnd.jupyter.widget-view+json": {
       "model_id": "eba7fc04235248d2b285099f5dc5082b",
       "version_major": 2,
       "version_minor": 0
      },
      "text/plain": [
       "  0%|          | 0/1 [00:00<?, ?it/s]"
      ]
     },
     "metadata": {},
     "output_type": "display_data"
    },
    {
     "data": {
      "application/vnd.jupyter.widget-view+json": {
       "model_id": "bd7ae39121ab472093f102a670d0bd4f",
       "version_major": 2,
       "version_minor": 0
      },
      "text/plain": [
       "  0%|          | 0/1 [00:00<?, ?it/s]"
      ]
     },
     "metadata": {},
     "output_type": "display_data"
    },
    {
     "data": {
      "application/vnd.jupyter.widget-view+json": {
       "model_id": "ef82a2c5960d48159d3777701b21b43c",
       "version_major": 2,
       "version_minor": 0
      },
      "text/plain": [
       "  0%|          | 0/1 [00:00<?, ?it/s]"
      ]
     },
     "metadata": {},
     "output_type": "display_data"
    },
    {
     "data": {
      "application/vnd.jupyter.widget-view+json": {
       "model_id": "64529c63c34940d0a427452fb269103b",
       "version_major": 2,
       "version_minor": 0
      },
      "text/plain": [
       "  0%|          | 0/1 [00:00<?, ?it/s]"
      ]
     },
     "metadata": {},
     "output_type": "display_data"
    },
    {
     "data": {
      "application/vnd.jupyter.widget-view+json": {
       "model_id": "30b12169f0434caa80ae941dcb57e829",
       "version_major": 2,
       "version_minor": 0
      },
      "text/plain": [
       "  0%|          | 0/1 [00:00<?, ?it/s]"
      ]
     },
     "metadata": {},
     "output_type": "display_data"
    },
    {
     "data": {
      "application/vnd.jupyter.widget-view+json": {
       "model_id": "bc982946c42d4ccbb770cc14ab52b2e6",
       "version_major": 2,
       "version_minor": 0
      },
      "text/plain": [
       "  0%|          | 0/1 [00:00<?, ?it/s]"
      ]
     },
     "metadata": {},
     "output_type": "display_data"
    },
    {
     "data": {
      "application/vnd.jupyter.widget-view+json": {
       "model_id": "0d24c41461c44a0b83e2a4bd9da987d3",
       "version_major": 2,
       "version_minor": 0
      },
      "text/plain": [
       "  0%|          | 0/1 [00:00<?, ?it/s]"
      ]
     },
     "metadata": {},
     "output_type": "display_data"
    },
    {
     "data": {
      "application/vnd.jupyter.widget-view+json": {
       "model_id": "66a2e88bc5ed439c913ccf67a14db0b6",
       "version_major": 2,
       "version_minor": 0
      },
      "text/plain": [
       "  0%|          | 0/1 [00:00<?, ?it/s]"
      ]
     },
     "metadata": {},
     "output_type": "display_data"
    },
    {
     "data": {
      "application/vnd.jupyter.widget-view+json": {
       "model_id": "f2fe3a277c5d46db95c9c22ae21b24b1",
       "version_major": 2,
       "version_minor": 0
      },
      "text/plain": [
       "  0%|          | 0/1 [00:00<?, ?it/s]"
      ]
     },
     "metadata": {},
     "output_type": "display_data"
    },
    {
     "data": {
      "application/vnd.jupyter.widget-view+json": {
       "model_id": "60d9df4bca194288979b18a67a83a0bb",
       "version_major": 2,
       "version_minor": 0
      },
      "text/plain": [
       "  0%|          | 0/1 [00:00<?, ?it/s]"
      ]
     },
     "metadata": {},
     "output_type": "display_data"
    },
    {
     "data": {
      "application/vnd.jupyter.widget-view+json": {
       "model_id": "35835d36d1144c0a81471a35cd9ca463",
       "version_major": 2,
       "version_minor": 0
      },
      "text/plain": [
       "  0%|          | 0/1 [00:00<?, ?it/s]"
      ]
     },
     "metadata": {},
     "output_type": "display_data"
    },
    {
     "data": {
      "application/vnd.jupyter.widget-view+json": {
       "model_id": "b2dbd7689932429eba9ba4c104d79c5a",
       "version_major": 2,
       "version_minor": 0
      },
      "text/plain": [
       "  0%|          | 0/1 [00:00<?, ?it/s]"
      ]
     },
     "metadata": {},
     "output_type": "display_data"
    },
    {
     "data": {
      "application/vnd.jupyter.widget-view+json": {
       "model_id": "a88e5a74f26c4364b7abaca12e8dedc9",
       "version_major": 2,
       "version_minor": 0
      },
      "text/plain": [
       "  0%|          | 0/1 [00:00<?, ?it/s]"
      ]
     },
     "metadata": {},
     "output_type": "display_data"
    },
    {
     "data": {
      "application/vnd.jupyter.widget-view+json": {
       "model_id": "d4cc99eccf99451a98a1954ea8949486",
       "version_major": 2,
       "version_minor": 0
      },
      "text/plain": [
       "  0%|          | 0/1 [00:00<?, ?it/s]"
      ]
     },
     "metadata": {},
     "output_type": "display_data"
    },
    {
     "data": {
      "application/vnd.jupyter.widget-view+json": {
       "model_id": "a0f6087cf7ae486399599c3cf4420f8f",
       "version_major": 2,
       "version_minor": 0
      },
      "text/plain": [
       "  0%|          | 0/1 [00:00<?, ?it/s]"
      ]
     },
     "metadata": {},
     "output_type": "display_data"
    },
    {
     "data": {
      "application/vnd.jupyter.widget-view+json": {
       "model_id": "be94516ca2e44b96adda97d9553aa588",
       "version_major": 2,
       "version_minor": 0
      },
      "text/plain": [
       "  0%|          | 0/1 [00:00<?, ?it/s]"
      ]
     },
     "metadata": {},
     "output_type": "display_data"
    },
    {
     "data": {
      "application/vnd.jupyter.widget-view+json": {
       "model_id": "96941eec069d4dd09e4dda55dc69fb89",
       "version_major": 2,
       "version_minor": 0
      },
      "text/plain": [
       "  0%|          | 0/1 [00:00<?, ?it/s]"
      ]
     },
     "metadata": {},
     "output_type": "display_data"
    },
    {
     "data": {
      "application/vnd.jupyter.widget-view+json": {
       "model_id": "d27af00193c548508d32b16e42df7e28",
       "version_major": 2,
       "version_minor": 0
      },
      "text/plain": [
       "  0%|          | 0/1 [00:00<?, ?it/s]"
      ]
     },
     "metadata": {},
     "output_type": "display_data"
    },
    {
     "data": {
      "application/vnd.jupyter.widget-view+json": {
       "model_id": "1c6f909f172d40369b33bfad033f2821",
       "version_major": 2,
       "version_minor": 0
      },
      "text/plain": [
       "  0%|          | 0/1 [00:00<?, ?it/s]"
      ]
     },
     "metadata": {},
     "output_type": "display_data"
    },
    {
     "data": {
      "application/vnd.jupyter.widget-view+json": {
       "model_id": "962f60b932cd4175be09a915d5d4b8dd",
       "version_major": 2,
       "version_minor": 0
      },
      "text/plain": [
       "  0%|          | 0/1 [00:00<?, ?it/s]"
      ]
     },
     "metadata": {},
     "output_type": "display_data"
    },
    {
     "data": {
      "application/vnd.jupyter.widget-view+json": {
       "model_id": "3f5ace8359a34ab39845bead4feb3f55",
       "version_major": 2,
       "version_minor": 0
      },
      "text/plain": [
       "  0%|          | 0/1 [00:00<?, ?it/s]"
      ]
     },
     "metadata": {},
     "output_type": "display_data"
    },
    {
     "data": {
      "application/vnd.jupyter.widget-view+json": {
       "model_id": "09f2db1fa6654fd9a7e870f8962d5475",
       "version_major": 2,
       "version_minor": 0
      },
      "text/plain": [
       "  0%|          | 0/1 [00:00<?, ?it/s]"
      ]
     },
     "metadata": {},
     "output_type": "display_data"
    },
    {
     "data": {
      "application/vnd.jupyter.widget-view+json": {
       "model_id": "4cde964dfde34f0f8163d267f8e2cd93",
       "version_major": 2,
       "version_minor": 0
      },
      "text/plain": [
       "  0%|          | 0/1 [00:00<?, ?it/s]"
      ]
     },
     "metadata": {},
     "output_type": "display_data"
    },
    {
     "data": {
      "application/vnd.jupyter.widget-view+json": {
       "model_id": "7e606b8db337455e9ea2aaeeb2344642",
       "version_major": 2,
       "version_minor": 0
      },
      "text/plain": [
       "  0%|          | 0/1 [00:00<?, ?it/s]"
      ]
     },
     "metadata": {},
     "output_type": "display_data"
    },
    {
     "data": {
      "application/vnd.jupyter.widget-view+json": {
       "model_id": "123a1e75a1ab4d91bc357ce59d07e9f1",
       "version_major": 2,
       "version_minor": 0
      },
      "text/plain": [
       "  0%|          | 0/1 [00:00<?, ?it/s]"
      ]
     },
     "metadata": {},
     "output_type": "display_data"
    },
    {
     "data": {
      "application/vnd.jupyter.widget-view+json": {
       "model_id": "d900dd015c804986936060e5b6b006a8",
       "version_major": 2,
       "version_minor": 0
      },
      "text/plain": [
       "  0%|          | 0/1 [00:00<?, ?it/s]"
      ]
     },
     "metadata": {},
     "output_type": "display_data"
    },
    {
     "data": {
      "application/vnd.jupyter.widget-view+json": {
       "model_id": "296e3a766fb6413f900c190c2ba1ff8f",
       "version_major": 2,
       "version_minor": 0
      },
      "text/plain": [
       "  0%|          | 0/1 [00:00<?, ?it/s]"
      ]
     },
     "metadata": {},
     "output_type": "display_data"
    },
    {
     "data": {
      "application/vnd.jupyter.widget-view+json": {
       "model_id": "2573000da49f446dae737b798f0960b9",
       "version_major": 2,
       "version_minor": 0
      },
      "text/plain": [
       "  0%|          | 0/1 [00:00<?, ?it/s]"
      ]
     },
     "metadata": {},
     "output_type": "display_data"
    },
    {
     "data": {
      "application/vnd.jupyter.widget-view+json": {
       "model_id": "ec6b05fc11664227928a38a22d642cad",
       "version_major": 2,
       "version_minor": 0
      },
      "text/plain": [
       "  0%|          | 0/1 [00:00<?, ?it/s]"
      ]
     },
     "metadata": {},
     "output_type": "display_data"
    },
    {
     "data": {
      "application/vnd.jupyter.widget-view+json": {
       "model_id": "5bc7e8f5dd3f40089aa42f3232dd8ebd",
       "version_major": 2,
       "version_minor": 0
      },
      "text/plain": [
       "  0%|          | 0/1 [00:00<?, ?it/s]"
      ]
     },
     "metadata": {},
     "output_type": "display_data"
    },
    {
     "data": {
      "application/vnd.jupyter.widget-view+json": {
       "model_id": "a105bd60ca544a0e9d10c622c768d2a6",
       "version_major": 2,
       "version_minor": 0
      },
      "text/plain": [
       "  0%|          | 0/1 [00:00<?, ?it/s]"
      ]
     },
     "metadata": {},
     "output_type": "display_data"
    },
    {
     "data": {
      "application/vnd.jupyter.widget-view+json": {
       "model_id": "06884564ca0f440fb6056c8e2b3397b1",
       "version_major": 2,
       "version_minor": 0
      },
      "text/plain": [
       "  0%|          | 0/1 [00:00<?, ?it/s]"
      ]
     },
     "metadata": {},
     "output_type": "display_data"
    },
    {
     "data": {
      "application/vnd.jupyter.widget-view+json": {
       "model_id": "fb77d2e65d644d948f9a8678376231d9",
       "version_major": 2,
       "version_minor": 0
      },
      "text/plain": [
       "  0%|          | 0/1 [00:00<?, ?it/s]"
      ]
     },
     "metadata": {},
     "output_type": "display_data"
    },
    {
     "data": {
      "application/vnd.jupyter.widget-view+json": {
       "model_id": "bbbe87380491461bb7cdeef7756fa3b2",
       "version_major": 2,
       "version_minor": 0
      },
      "text/plain": [
       "  0%|          | 0/1 [00:00<?, ?it/s]"
      ]
     },
     "metadata": {},
     "output_type": "display_data"
    },
    {
     "data": {
      "application/vnd.jupyter.widget-view+json": {
       "model_id": "0a446f7a5e5d4392a93346ee04db9290",
       "version_major": 2,
       "version_minor": 0
      },
      "text/plain": [
       "  0%|          | 0/1 [00:00<?, ?it/s]"
      ]
     },
     "metadata": {},
     "output_type": "display_data"
    },
    {
     "data": {
      "application/vnd.jupyter.widget-view+json": {
       "model_id": "b58150ff8fd94c75902ee433c1911cdc",
       "version_major": 2,
       "version_minor": 0
      },
      "text/plain": [
       "  0%|          | 0/1 [00:00<?, ?it/s]"
      ]
     },
     "metadata": {},
     "output_type": "display_data"
    },
    {
     "data": {
      "application/vnd.jupyter.widget-view+json": {
       "model_id": "2f96828d6fbe4e809b4fe3fcf9890ce6",
       "version_major": 2,
       "version_minor": 0
      },
      "text/plain": [
       "  0%|          | 0/1 [00:00<?, ?it/s]"
      ]
     },
     "metadata": {},
     "output_type": "display_data"
    },
    {
     "name": "stdout",
     "output_type": "stream",
     "text": [
      "Bei klarem histologischen Nachweis eines reifen Teratoms und normwertigen Serumtumormarkern ist eine operative Resektion des EGKZT indiziert.\n",
      "\n",
      "No Filter:\n"
     ]
    },
    {
     "data": {
      "text/html": [
       "<div>\n",
       "<style scoped>\n",
       "    .dataframe tbody tr th:only-of-type {\n",
       "        vertical-align: middle;\n",
       "    }\n",
       "\n",
       "    .dataframe tbody tr th {\n",
       "        vertical-align: top;\n",
       "    }\n",
       "\n",
       "    .dataframe thead th {\n",
       "        text-align: right;\n",
       "    }\n",
       "</style>\n",
       "<table border=\"1\" class=\"dataframe\">\n",
       "  <thead>\n",
       "    <tr style=\"text-align: right;\">\n",
       "      <th></th>\n",
       "      <th>document</th>\n",
       "      <th>text</th>\n",
       "      <th>type</th>\n",
       "      <th>start</th>\n",
       "      <th>end</th>\n",
       "      <th>cui</th>\n",
       "      <th>tuis</th>\n",
       "      <th>canonical</th>\n",
       "      <th>linker</th>\n",
       "      <th>confidence</th>\n",
       "    </tr>\n",
       "  </thead>\n",
       "  <tbody>\n",
       "    <tr>\n",
       "      <th>2</th>\n",
       "      <td>21_hodentumoren_0260_46</td>\n",
       "      <td>operative Resektion des EGKZT</td>\n",
       "      <td>Therapeutic</td>\n",
       "      <td>101</td>\n",
       "      <td>130</td>\n",
       "      <td>C2939032</td>\n",
       "      <td>[T061]</td>\n",
       "      <td>Electrocorticography electrodes removal</td>\n",
       "      <td>[sapbert]</td>\n",
       "      <td>0.06314</td>\n",
       "    </tr>\n",
       "  </tbody>\n",
       "</table>\n",
       "</div>"
      ],
      "text/plain": [
       "                  document                           text         type  start  \\\n",
       "2  21_hodentumoren_0260_46  operative Resektion des EGKZT  Therapeutic    101   \n",
       "\n",
       "   end       cui    tuis                                canonical     linker  \\\n",
       "2  130  C2939032  [T061]  Electrocorticography electrodes removal  [sapbert]   \n",
       "\n",
       "   confidence  \n",
       "2     0.06314  "
      ]
     },
     "metadata": {},
     "output_type": "display_data"
    },
    {
     "name": "stdout",
     "output_type": "stream",
     "text": [
      "Filter:\n"
     ]
    },
    {
     "data": {
      "text/html": [
       "<div>\n",
       "<style scoped>\n",
       "    .dataframe tbody tr th:only-of-type {\n",
       "        vertical-align: middle;\n",
       "    }\n",
       "\n",
       "    .dataframe tbody tr th {\n",
       "        vertical-align: top;\n",
       "    }\n",
       "\n",
       "    .dataframe thead th {\n",
       "        text-align: right;\n",
       "    }\n",
       "</style>\n",
       "<table border=\"1\" class=\"dataframe\">\n",
       "  <thead>\n",
       "    <tr style=\"text-align: right;\">\n",
       "      <th></th>\n",
       "      <th>document</th>\n",
       "      <th>text</th>\n",
       "      <th>type</th>\n",
       "      <th>start</th>\n",
       "      <th>end</th>\n",
       "      <th>cui</th>\n",
       "      <th>tuis</th>\n",
       "      <th>canonical</th>\n",
       "      <th>linker</th>\n",
       "      <th>confidence</th>\n",
       "    </tr>\n",
       "  </thead>\n",
       "  <tbody>\n",
       "    <tr>\n",
       "      <th>2</th>\n",
       "      <td>21_hodentumoren_0260_46</td>\n",
       "      <td>operative Resektion des EGKZT</td>\n",
       "      <td>Therapeutic</td>\n",
       "      <td>101</td>\n",
       "      <td>130</td>\n",
       "      <td>C0543467</td>\n",
       "      <td>[T061]</td>\n",
       "      <td>Chirurgische Verfahren, operative</td>\n",
       "      <td>[ngram]</td>\n",
       "      <td>0.063292</td>\n",
       "    </tr>\n",
       "  </tbody>\n",
       "</table>\n",
       "</div>"
      ],
      "text/plain": [
       "                  document                           text         type  start  \\\n",
       "2  21_hodentumoren_0260_46  operative Resektion des EGKZT  Therapeutic    101   \n",
       "\n",
       "   end       cui    tuis                          canonical   linker  \\\n",
       "2  130  C0543467  [T061]  Chirurgische Verfahren, operative  [ngram]   \n",
       "\n",
       "   confidence  \n",
       "2    0.063292  "
      ]
     },
     "metadata": {},
     "output_type": "display_data"
    },
    {
     "name": "stdout",
     "output_type": "stream",
     "text": [
      "####\n"
     ]
    },
    {
     "data": {
      "application/vnd.jupyter.widget-view+json": {
       "model_id": "f484b463ba734a4dba4d7ddabd85c13b",
       "version_major": 2,
       "version_minor": 0
      },
      "text/plain": [
       "  0%|          | 0/1 [00:00<?, ?it/s]"
      ]
     },
     "metadata": {},
     "output_type": "display_data"
    },
    {
     "data": {
      "application/vnd.jupyter.widget-view+json": {
       "model_id": "fb6e7d99b6624bcfa767f2eeea9ba88b",
       "version_major": 2,
       "version_minor": 0
      },
      "text/plain": [
       "  0%|          | 0/1 [00:00<?, ?it/s]"
      ]
     },
     "metadata": {},
     "output_type": "display_data"
    },
    {
     "data": {
      "application/vnd.jupyter.widget-view+json": {
       "model_id": "d3c6510c603447f0a165d94fc7e5be23",
       "version_major": 2,
       "version_minor": 0
      },
      "text/plain": [
       "  0%|          | 0/1 [00:00<?, ?it/s]"
      ]
     },
     "metadata": {},
     "output_type": "display_data"
    },
    {
     "data": {
      "application/vnd.jupyter.widget-view+json": {
       "model_id": "40e1e396c5704925958e2f66d552fb00",
       "version_major": 2,
       "version_minor": 0
      },
      "text/plain": [
       "  0%|          | 0/1 [00:00<?, ?it/s]"
      ]
     },
     "metadata": {},
     "output_type": "display_data"
    },
    {
     "data": {
      "application/vnd.jupyter.widget-view+json": {
       "model_id": "a3480ee712ec4c8bab40e652d63e474c",
       "version_major": 2,
       "version_minor": 0
      },
      "text/plain": [
       "  0%|          | 0/1 [00:00<?, ?it/s]"
      ]
     },
     "metadata": {},
     "output_type": "display_data"
    },
    {
     "data": {
      "application/vnd.jupyter.widget-view+json": {
       "model_id": "9ca55586c1154eb888dbdf1815abca7c",
       "version_major": 2,
       "version_minor": 0
      },
      "text/plain": [
       "  0%|          | 0/1 [00:00<?, ?it/s]"
      ]
     },
     "metadata": {},
     "output_type": "display_data"
    },
    {
     "data": {
      "application/vnd.jupyter.widget-view+json": {
       "model_id": "f730a35bc74542d8942fe8dbd4bca2d0",
       "version_major": 2,
       "version_minor": 0
      },
      "text/plain": [
       "  0%|          | 0/1 [00:00<?, ?it/s]"
      ]
     },
     "metadata": {},
     "output_type": "display_data"
    },
    {
     "data": {
      "application/vnd.jupyter.widget-view+json": {
       "model_id": "82106d934e444eb880ff6c78621a6f4b",
       "version_major": 2,
       "version_minor": 0
      },
      "text/plain": [
       "  0%|          | 0/1 [00:00<?, ?it/s]"
      ]
     },
     "metadata": {},
     "output_type": "display_data"
    },
    {
     "name": "stdout",
     "output_type": "stream",
     "text": [
      "Die vaskulär-gezielte photodynamische Therapie (VTP) mit Padeliporfin (TOOKAD©) ist durch die EMA zugelassen für die Behandlung des unbehandelten, lokalisierten Niedrig-Risiko Prostatakarzinoms (T1c oder T2a, Gleason Score 6, PSA < 10 ng/ml) mit lokaler Begrenzung (maximal drei positive Proben mit einer maximalen Tumorinfiltrationslänge von 5 mm bei jeder der drei Proben oder 1-2 positiven Proben mit > 50 % Befall oder einer PSA-Dichte ≥ 0.15 ng/ml/mm3).\n",
      "\n",
      "No Filter:\n"
     ]
    },
    {
     "data": {
      "text/html": [
       "<div>\n",
       "<style scoped>\n",
       "    .dataframe tbody tr th:only-of-type {\n",
       "        vertical-align: middle;\n",
       "    }\n",
       "\n",
       "    .dataframe tbody tr th {\n",
       "        vertical-align: top;\n",
       "    }\n",
       "\n",
       "    .dataframe thead th {\n",
       "        text-align: right;\n",
       "    }\n",
       "</style>\n",
       "<table border=\"1\" class=\"dataframe\">\n",
       "  <thead>\n",
       "    <tr style=\"text-align: right;\">\n",
       "      <th></th>\n",
       "      <th>document</th>\n",
       "      <th>text</th>\n",
       "      <th>type</th>\n",
       "      <th>start</th>\n",
       "      <th>end</th>\n",
       "      <th>cui</th>\n",
       "      <th>tuis</th>\n",
       "      <th>canonical</th>\n",
       "      <th>linker</th>\n",
       "      <th>confidence</th>\n",
       "    </tr>\n",
       "  </thead>\n",
       "  <tbody>\n",
       "    <tr>\n",
       "      <th>4</th>\n",
       "      <td>22_prostatakarzinom_0153_0</td>\n",
       "      <td>Behandlung des unbehandelten, lokalisierten Ni...</td>\n",
       "      <td>Therapeutic</td>\n",
       "      <td>117</td>\n",
       "      <td>193</td>\n",
       "      <td>C5553996</td>\n",
       "      <td>[T191]</td>\n",
       "      <td>Locally advanced prostate cancer</td>\n",
       "      <td>[ngram, sapbert]</td>\n",
       "      <td>0.063802</td>\n",
       "    </tr>\n",
       "  </tbody>\n",
       "</table>\n",
       "</div>"
      ],
      "text/plain": [
       "                     document  \\\n",
       "4  22_prostatakarzinom_0153_0   \n",
       "\n",
       "                                                text         type  start  end  \\\n",
       "4  Behandlung des unbehandelten, lokalisierten Ni...  Therapeutic    117  193   \n",
       "\n",
       "        cui    tuis                         canonical            linker  \\\n",
       "4  C5553996  [T191]  Locally advanced prostate cancer  [ngram, sapbert]   \n",
       "\n",
       "   confidence  \n",
       "4    0.063802  "
      ]
     },
     "metadata": {},
     "output_type": "display_data"
    },
    {
     "name": "stdout",
     "output_type": "stream",
     "text": [
      "Filter:\n"
     ]
    },
    {
     "data": {
      "text/html": [
       "<div>\n",
       "<style scoped>\n",
       "    .dataframe tbody tr th:only-of-type {\n",
       "        vertical-align: middle;\n",
       "    }\n",
       "\n",
       "    .dataframe tbody tr th {\n",
       "        vertical-align: top;\n",
       "    }\n",
       "\n",
       "    .dataframe thead th {\n",
       "        text-align: right;\n",
       "    }\n",
       "</style>\n",
       "<table border=\"1\" class=\"dataframe\">\n",
       "  <thead>\n",
       "    <tr style=\"text-align: right;\">\n",
       "      <th></th>\n",
       "      <th>document</th>\n",
       "      <th>text</th>\n",
       "      <th>type</th>\n",
       "      <th>start</th>\n",
       "      <th>end</th>\n",
       "      <th>cui</th>\n",
       "      <th>tuis</th>\n",
       "      <th>canonical</th>\n",
       "      <th>linker</th>\n",
       "      <th>confidence</th>\n",
       "    </tr>\n",
       "  </thead>\n",
       "  <tbody>\n",
       "    <tr>\n",
       "      <th>4</th>\n",
       "      <td>22_prostatakarzinom_0153_0</td>\n",
       "      <td>Behandlung des unbehandelten, lokalisierten Ni...</td>\n",
       "      <td>Therapeutic</td>\n",
       "      <td>117</td>\n",
       "      <td>193</td>\n",
       "      <td>C1880062</td>\n",
       "      <td>[T061]</td>\n",
       "      <td>Regimen Used to Treat Prostate Carcinoma</td>\n",
       "      <td>[sapbert]</td>\n",
       "      <td>0.063829</td>\n",
       "    </tr>\n",
       "  </tbody>\n",
       "</table>\n",
       "</div>"
      ],
      "text/plain": [
       "                     document  \\\n",
       "4  22_prostatakarzinom_0153_0   \n",
       "\n",
       "                                                text         type  start  end  \\\n",
       "4  Behandlung des unbehandelten, lokalisierten Ni...  Therapeutic    117  193   \n",
       "\n",
       "        cui    tuis                                 canonical     linker  \\\n",
       "4  C1880062  [T061]  Regimen Used to Treat Prostate Carcinoma  [sapbert]   \n",
       "\n",
       "   confidence  \n",
       "4    0.063829  "
      ]
     },
     "metadata": {},
     "output_type": "display_data"
    },
    {
     "name": "stdout",
     "output_type": "stream",
     "text": [
      "####\n"
     ]
    },
    {
     "data": {
      "application/vnd.jupyter.widget-view+json": {
       "model_id": "50bd4b3d113d4118a4f2038e4be536ea",
       "version_major": 2,
       "version_minor": 0
      },
      "text/plain": [
       "  0%|          | 0/1 [00:00<?, ?it/s]"
      ]
     },
     "metadata": {},
     "output_type": "display_data"
    },
    {
     "data": {
      "application/vnd.jupyter.widget-view+json": {
       "model_id": "089382049c8343dd919266b658138099",
       "version_major": 2,
       "version_minor": 0
      },
      "text/plain": [
       "  0%|          | 0/1 [00:00<?, ?it/s]"
      ]
     },
     "metadata": {},
     "output_type": "display_data"
    },
    {
     "data": {
      "application/vnd.jupyter.widget-view+json": {
       "model_id": "06ed6f09687e4374aea7f676d7786c4b",
       "version_major": 2,
       "version_minor": 0
      },
      "text/plain": [
       "  0%|          | 0/1 [00:00<?, ?it/s]"
      ]
     },
     "metadata": {},
     "output_type": "display_data"
    },
    {
     "data": {
      "application/vnd.jupyter.widget-view+json": {
       "model_id": "79de33738069492b8220798b3dfd231b",
       "version_major": 2,
       "version_minor": 0
      },
      "text/plain": [
       "  0%|          | 0/1 [00:00<?, ?it/s]"
      ]
     },
     "metadata": {},
     "output_type": "display_data"
    },
    {
     "data": {
      "application/vnd.jupyter.widget-view+json": {
       "model_id": "2db401a9d1eb4f72b0269806f8812684",
       "version_major": 2,
       "version_minor": 0
      },
      "text/plain": [
       "  0%|          | 0/1 [00:00<?, ?it/s]"
      ]
     },
     "metadata": {},
     "output_type": "display_data"
    },
    {
     "data": {
      "application/vnd.jupyter.widget-view+json": {
       "model_id": "52bd96694d434dd4ba7978afd9f21049",
       "version_major": 2,
       "version_minor": 0
      },
      "text/plain": [
       "  0%|          | 0/1 [00:00<?, ?it/s]"
      ]
     },
     "metadata": {},
     "output_type": "display_data"
    },
    {
     "data": {
      "application/vnd.jupyter.widget-view+json": {
       "model_id": "414a5b8a6780401189b928ce627982f8",
       "version_major": 2,
       "version_minor": 0
      },
      "text/plain": [
       "  0%|          | 0/1 [00:00<?, ?it/s]"
      ]
     },
     "metadata": {},
     "output_type": "display_data"
    },
    {
     "data": {
      "application/vnd.jupyter.widget-view+json": {
       "model_id": "7f4115a4a03043569df75b817513513a",
       "version_major": 2,
       "version_minor": 0
      },
      "text/plain": [
       "  0%|          | 0/1 [00:00<?, ?it/s]"
      ]
     },
     "metadata": {},
     "output_type": "display_data"
    },
    {
     "data": {
      "application/vnd.jupyter.widget-view+json": {
       "model_id": "a833bc17e6834710b7df184da5c2ad45",
       "version_major": 2,
       "version_minor": 0
      },
      "text/plain": [
       "  0%|          | 0/1 [00:00<?, ?it/s]"
      ]
     },
     "metadata": {},
     "output_type": "display_data"
    },
    {
     "data": {
      "application/vnd.jupyter.widget-view+json": {
       "model_id": "82e755d026194453a94044595c5b8d35",
       "version_major": 2,
       "version_minor": 0
      },
      "text/plain": [
       "  0%|          | 0/1 [00:00<?, ?it/s]"
      ]
     },
     "metadata": {},
     "output_type": "display_data"
    },
    {
     "data": {
      "application/vnd.jupyter.widget-view+json": {
       "model_id": "4e3e24dfa1474a1b9e5da76a325c0c77",
       "version_major": 2,
       "version_minor": 0
      },
      "text/plain": [
       "  0%|          | 0/1 [00:00<?, ?it/s]"
      ]
     },
     "metadata": {},
     "output_type": "display_data"
    },
    {
     "data": {
      "application/vnd.jupyter.widget-view+json": {
       "model_id": "7a7a767f317c4643b95f63e73e589d29",
       "version_major": 2,
       "version_minor": 0
      },
      "text/plain": [
       "  0%|          | 0/1 [00:00<?, ?it/s]"
      ]
     },
     "metadata": {},
     "output_type": "display_data"
    },
    {
     "data": {
      "application/vnd.jupyter.widget-view+json": {
       "model_id": "bd4cb905c3064bdeb2c9dfe9d929f3e6",
       "version_major": 2,
       "version_minor": 0
      },
      "text/plain": [
       "  0%|          | 0/1 [00:00<?, ?it/s]"
      ]
     },
     "metadata": {},
     "output_type": "display_data"
    },
    {
     "data": {
      "application/vnd.jupyter.widget-view+json": {
       "model_id": "11c1549463c54e24bf418191de779657",
       "version_major": 2,
       "version_minor": 0
      },
      "text/plain": [
       "  0%|          | 0/1 [00:00<?, ?it/s]"
      ]
     },
     "metadata": {},
     "output_type": "display_data"
    },
    {
     "data": {
      "application/vnd.jupyter.widget-view+json": {
       "model_id": "c6ac88c8a8984710bb3d271a14e04e5c",
       "version_major": 2,
       "version_minor": 0
      },
      "text/plain": [
       "  0%|          | 0/1 [00:00<?, ?it/s]"
      ]
     },
     "metadata": {},
     "output_type": "display_data"
    },
    {
     "data": {
      "application/vnd.jupyter.widget-view+json": {
       "model_id": "5a40b83f430e4f6e9394949469a8466c",
       "version_major": 2,
       "version_minor": 0
      },
      "text/plain": [
       "  0%|          | 0/1 [00:00<?, ?it/s]"
      ]
     },
     "metadata": {},
     "output_type": "display_data"
    },
    {
     "data": {
      "application/vnd.jupyter.widget-view+json": {
       "model_id": "ac6e82bda33643b0a045837226f12b3b",
       "version_major": 2,
       "version_minor": 0
      },
      "text/plain": [
       "  0%|          | 0/1 [00:00<?, ?it/s]"
      ]
     },
     "metadata": {},
     "output_type": "display_data"
    },
    {
     "data": {
      "application/vnd.jupyter.widget-view+json": {
       "model_id": "6c7030e4bb454185b07c4194104cbd9c",
       "version_major": 2,
       "version_minor": 0
      },
      "text/plain": [
       "  0%|          | 0/1 [00:00<?, ?it/s]"
      ]
     },
     "metadata": {},
     "output_type": "display_data"
    },
    {
     "data": {
      "application/vnd.jupyter.widget-view+json": {
       "model_id": "2195f1f612204945a0d3aa06caa9262b",
       "version_major": 2,
       "version_minor": 0
      },
      "text/plain": [
       "  0%|          | 0/1 [00:00<?, ?it/s]"
      ]
     },
     "metadata": {},
     "output_type": "display_data"
    },
    {
     "data": {
      "application/vnd.jupyter.widget-view+json": {
       "model_id": "aa0569bb7f4d4726ad9b1fd125b3baf1",
       "version_major": 2,
       "version_minor": 0
      },
      "text/plain": [
       "  0%|          | 0/1 [00:00<?, ?it/s]"
      ]
     },
     "metadata": {},
     "output_type": "display_data"
    },
    {
     "data": {
      "application/vnd.jupyter.widget-view+json": {
       "model_id": "30048a1e786c4e6dafe9ed6b8c77528f",
       "version_major": 2,
       "version_minor": 0
      },
      "text/plain": [
       "  0%|          | 0/1 [00:00<?, ?it/s]"
      ]
     },
     "metadata": {},
     "output_type": "display_data"
    },
    {
     "data": {
      "application/vnd.jupyter.widget-view+json": {
       "model_id": "77e425f29eb74178ae06e05f43fe2acd",
       "version_major": 2,
       "version_minor": 0
      },
      "text/plain": [
       "  0%|          | 0/1 [00:00<?, ?it/s]"
      ]
     },
     "metadata": {},
     "output_type": "display_data"
    },
    {
     "data": {
      "application/vnd.jupyter.widget-view+json": {
       "model_id": "18c3898a1cd2451b950bd88437fbbb9f",
       "version_major": 2,
       "version_minor": 0
      },
      "text/plain": [
       "  0%|          | 0/1 [00:00<?, ?it/s]"
      ]
     },
     "metadata": {},
     "output_type": "display_data"
    },
    {
     "data": {
      "application/vnd.jupyter.widget-view+json": {
       "model_id": "eeaf005c5db14f759c4537d080f9b271",
       "version_major": 2,
       "version_minor": 0
      },
      "text/plain": [
       "  0%|          | 0/1 [00:00<?, ?it/s]"
      ]
     },
     "metadata": {},
     "output_type": "display_data"
    },
    {
     "data": {
      "application/vnd.jupyter.widget-view+json": {
       "model_id": "d1aa23215ce544499156650813de84f2",
       "version_major": 2,
       "version_minor": 0
      },
      "text/plain": [
       "  0%|          | 0/1 [00:00<?, ?it/s]"
      ]
     },
     "metadata": {},
     "output_type": "display_data"
    },
    {
     "data": {
      "application/vnd.jupyter.widget-view+json": {
       "model_id": "b950b04b9dd64c129e349c6987f2dede",
       "version_major": 2,
       "version_minor": 0
      },
      "text/plain": [
       "  0%|          | 0/1 [00:00<?, ?it/s]"
      ]
     },
     "metadata": {},
     "output_type": "display_data"
    },
    {
     "data": {
      "application/vnd.jupyter.widget-view+json": {
       "model_id": "ebf43adfb1c74eb88ec258c8febf2770",
       "version_major": 2,
       "version_minor": 0
      },
      "text/plain": [
       "  0%|          | 0/1 [00:00<?, ?it/s]"
      ]
     },
     "metadata": {},
     "output_type": "display_data"
    },
    {
     "data": {
      "application/vnd.jupyter.widget-view+json": {
       "model_id": "7aa05ea9f2a348b2953bb2b52f0bf53a",
       "version_major": 2,
       "version_minor": 0
      },
      "text/plain": [
       "  0%|          | 0/1 [00:00<?, ?it/s]"
      ]
     },
     "metadata": {},
     "output_type": "display_data"
    },
    {
     "data": {
      "application/vnd.jupyter.widget-view+json": {
       "model_id": "1c4f7df0deb54634bbc9fa7386b84b00",
       "version_major": 2,
       "version_minor": 0
      },
      "text/plain": [
       "  0%|          | 0/1 [00:00<?, ?it/s]"
      ]
     },
     "metadata": {},
     "output_type": "display_data"
    },
    {
     "data": {
      "application/vnd.jupyter.widget-view+json": {
       "model_id": "4a23db08d7fc416cad79503e639e99f7",
       "version_major": 2,
       "version_minor": 0
      },
      "text/plain": [
       "  0%|          | 0/1 [00:00<?, ?it/s]"
      ]
     },
     "metadata": {},
     "output_type": "display_data"
    },
    {
     "data": {
      "application/vnd.jupyter.widget-view+json": {
       "model_id": "0fa2bb81b13a422cb0fa164e0c5ef67e",
       "version_major": 2,
       "version_minor": 0
      },
      "text/plain": [
       "  0%|          | 0/1 [00:00<?, ?it/s]"
      ]
     },
     "metadata": {},
     "output_type": "display_data"
    },
    {
     "data": {
      "application/vnd.jupyter.widget-view+json": {
       "model_id": "4f1b895ca58244ee9e2809eccad629da",
       "version_major": 2,
       "version_minor": 0
      },
      "text/plain": [
       "  0%|          | 0/1 [00:00<?, ?it/s]"
      ]
     },
     "metadata": {},
     "output_type": "display_data"
    },
    {
     "data": {
      "application/vnd.jupyter.widget-view+json": {
       "model_id": "9e208a8e2b634bbf8dc4042c88387397",
       "version_major": 2,
       "version_minor": 0
      },
      "text/plain": [
       "  0%|          | 0/1 [00:00<?, ?it/s]"
      ]
     },
     "metadata": {},
     "output_type": "display_data"
    },
    {
     "data": {
      "application/vnd.jupyter.widget-view+json": {
       "model_id": "51629e27c8e1461a89353d0770ffcd8c",
       "version_major": 2,
       "version_minor": 0
      },
      "text/plain": [
       "  0%|          | 0/1 [00:00<?, ?it/s]"
      ]
     },
     "metadata": {},
     "output_type": "display_data"
    },
    {
     "data": {
      "application/vnd.jupyter.widget-view+json": {
       "model_id": "a8d5b6fa7e0048dc88383077bd9a84cf",
       "version_major": 2,
       "version_minor": 0
      },
      "text/plain": [
       "  0%|          | 0/1 [00:00<?, ?it/s]"
      ]
     },
     "metadata": {},
     "output_type": "display_data"
    },
    {
     "data": {
      "application/vnd.jupyter.widget-view+json": {
       "model_id": "c6a654d645924281bb1822709e89834a",
       "version_major": 2,
       "version_minor": 0
      },
      "text/plain": [
       "  0%|          | 0/1 [00:00<?, ?it/s]"
      ]
     },
     "metadata": {},
     "output_type": "display_data"
    },
    {
     "data": {
      "application/vnd.jupyter.widget-view+json": {
       "model_id": "da2c3c74814a494aaa74de889dea4805",
       "version_major": 2,
       "version_minor": 0
      },
      "text/plain": [
       "  0%|          | 0/1 [00:00<?, ?it/s]"
      ]
     },
     "metadata": {},
     "output_type": "display_data"
    },
    {
     "data": {
      "application/vnd.jupyter.widget-view+json": {
       "model_id": "38b409f4e7c3426dad0493f238ad749a",
       "version_major": 2,
       "version_minor": 0
      },
      "text/plain": [
       "  0%|          | 0/1 [00:00<?, ?it/s]"
      ]
     },
     "metadata": {},
     "output_type": "display_data"
    },
    {
     "data": {
      "application/vnd.jupyter.widget-view+json": {
       "model_id": "84f81a6255bf4869a9f6ee7bf3ebe365",
       "version_major": 2,
       "version_minor": 0
      },
      "text/plain": [
       "  0%|          | 0/1 [00:00<?, ?it/s]"
      ]
     },
     "metadata": {},
     "output_type": "display_data"
    },
    {
     "data": {
      "application/vnd.jupyter.widget-view+json": {
       "model_id": "972674ecf05c4785b86b10f107344fe1",
       "version_major": 2,
       "version_minor": 0
      },
      "text/plain": [
       "  0%|          | 0/1 [00:00<?, ?it/s]"
      ]
     },
     "metadata": {},
     "output_type": "display_data"
    },
    {
     "data": {
      "application/vnd.jupyter.widget-view+json": {
       "model_id": "1f795138453246b99ee20bd3b5ce34b6",
       "version_major": 2,
       "version_minor": 0
      },
      "text/plain": [
       "  0%|          | 0/1 [00:00<?, ?it/s]"
      ]
     },
     "metadata": {},
     "output_type": "display_data"
    },
    {
     "data": {
      "application/vnd.jupyter.widget-view+json": {
       "model_id": "9028298f2814469f8744340340de49d5",
       "version_major": 2,
       "version_minor": 0
      },
      "text/plain": [
       "  0%|          | 0/1 [00:00<?, ?it/s]"
      ]
     },
     "metadata": {},
     "output_type": "display_data"
    },
    {
     "data": {
      "application/vnd.jupyter.widget-view+json": {
       "model_id": "ff104eb237ad464db2acf292bc392b6e",
       "version_major": 2,
       "version_minor": 0
      },
      "text/plain": [
       "  0%|          | 0/1 [00:00<?, ?it/s]"
      ]
     },
     "metadata": {},
     "output_type": "display_data"
    },
    {
     "data": {
      "application/vnd.jupyter.widget-view+json": {
       "model_id": "b540da1fbff84ea795ff3a4fd7b399ee",
       "version_major": 2,
       "version_minor": 0
      },
      "text/plain": [
       "  0%|          | 0/1 [00:00<?, ?it/s]"
      ]
     },
     "metadata": {},
     "output_type": "display_data"
    },
    {
     "data": {
      "application/vnd.jupyter.widget-view+json": {
       "model_id": "6659104c04fe4899bf19f8b39e33e11c",
       "version_major": 2,
       "version_minor": 0
      },
      "text/plain": [
       "  0%|          | 0/1 [00:00<?, ?it/s]"
      ]
     },
     "metadata": {},
     "output_type": "display_data"
    },
    {
     "data": {
      "application/vnd.jupyter.widget-view+json": {
       "model_id": "a62be192249a4363a1e4a9243c7f0cd8",
       "version_major": 2,
       "version_minor": 0
      },
      "text/plain": [
       "  0%|          | 0/1 [00:00<?, ?it/s]"
      ]
     },
     "metadata": {},
     "output_type": "display_data"
    },
    {
     "data": {
      "application/vnd.jupyter.widget-view+json": {
       "model_id": "9971eba492c04b66ad87219037de69b4",
       "version_major": 2,
       "version_minor": 0
      },
      "text/plain": [
       "  0%|          | 0/1 [00:00<?, ?it/s]"
      ]
     },
     "metadata": {},
     "output_type": "display_data"
    },
    {
     "data": {
      "application/vnd.jupyter.widget-view+json": {
       "model_id": "e42288dc07e84fcfbc5b40fa6cb86e22",
       "version_major": 2,
       "version_minor": 0
      },
      "text/plain": [
       "  0%|          | 0/1 [00:00<?, ?it/s]"
      ]
     },
     "metadata": {},
     "output_type": "display_data"
    },
    {
     "data": {
      "application/vnd.jupyter.widget-view+json": {
       "model_id": "abb59829e1944e44b24b37f283b9f204",
       "version_major": 2,
       "version_minor": 0
      },
      "text/plain": [
       "  0%|          | 0/1 [00:00<?, ?it/s]"
      ]
     },
     "metadata": {},
     "output_type": "display_data"
    },
    {
     "data": {
      "application/vnd.jupyter.widget-view+json": {
       "model_id": "7e2f380c698c4e2c841a45c753e4cf1e",
       "version_major": 2,
       "version_minor": 0
      },
      "text/plain": [
       "  0%|          | 0/1 [00:00<?, ?it/s]"
      ]
     },
     "metadata": {},
     "output_type": "display_data"
    },
    {
     "data": {
      "application/vnd.jupyter.widget-view+json": {
       "model_id": "8682595de51d4993aa91060113b550ee",
       "version_major": 2,
       "version_minor": 0
      },
      "text/plain": [
       "  0%|          | 0/1 [00:00<?, ?it/s]"
      ]
     },
     "metadata": {},
     "output_type": "display_data"
    },
    {
     "data": {
      "application/vnd.jupyter.widget-view+json": {
       "model_id": "ea14b45ac06b49cd985364c125923e15",
       "version_major": 2,
       "version_minor": 0
      },
      "text/plain": [
       "  0%|          | 0/1 [00:00<?, ?it/s]"
      ]
     },
     "metadata": {},
     "output_type": "display_data"
    },
    {
     "data": {
      "application/vnd.jupyter.widget-view+json": {
       "model_id": "780519fcb8a6455d85c73fcce3ab6b96",
       "version_major": 2,
       "version_minor": 0
      },
      "text/plain": [
       "  0%|          | 0/1 [00:00<?, ?it/s]"
      ]
     },
     "metadata": {},
     "output_type": "display_data"
    },
    {
     "data": {
      "application/vnd.jupyter.widget-view+json": {
       "model_id": "49e42d93a9ed4e8cb389156728db8200",
       "version_major": 2,
       "version_minor": 0
      },
      "text/plain": [
       "  0%|          | 0/1 [00:00<?, ?it/s]"
      ]
     },
     "metadata": {},
     "output_type": "display_data"
    },
    {
     "data": {
      "application/vnd.jupyter.widget-view+json": {
       "model_id": "bf16bae3b6df4a66a7f49a4de58c0769",
       "version_major": 2,
       "version_minor": 0
      },
      "text/plain": [
       "  0%|          | 0/1 [00:00<?, ?it/s]"
      ]
     },
     "metadata": {},
     "output_type": "display_data"
    },
    {
     "data": {
      "application/vnd.jupyter.widget-view+json": {
       "model_id": "7f66b287062847b5a09851d57781ee7c",
       "version_major": 2,
       "version_minor": 0
      },
      "text/plain": [
       "  0%|          | 0/1 [00:00<?, ?it/s]"
      ]
     },
     "metadata": {},
     "output_type": "display_data"
    },
    {
     "data": {
      "application/vnd.jupyter.widget-view+json": {
       "model_id": "26286e42cb6343bdac09432ed54bd72b",
       "version_major": 2,
       "version_minor": 0
      },
      "text/plain": [
       "  0%|          | 0/1 [00:00<?, ?it/s]"
      ]
     },
     "metadata": {},
     "output_type": "display_data"
    },
    {
     "data": {
      "application/vnd.jupyter.widget-view+json": {
       "model_id": "e2ce0bee3012432c9e53843647a607e9",
       "version_major": 2,
       "version_minor": 0
      },
      "text/plain": [
       "  0%|          | 0/1 [00:00<?, ?it/s]"
      ]
     },
     "metadata": {},
     "output_type": "display_data"
    },
    {
     "name": "stdout",
     "output_type": "stream",
     "text": [
      "Die beschriebenen Fallserien können jedoch sowohl wegen ihrer Fallzahl als auch aufgrund des Fehlens einer Kontrollgruppe nicht die Evidenz liefern, dass eine Testosteronsubstitution nach kurativer Therapie unschädlich sei.\n",
      "\n",
      "No Filter:\n"
     ]
    },
    {
     "data": {
      "text/html": [
       "<div>\n",
       "<style scoped>\n",
       "    .dataframe tbody tr th:only-of-type {\n",
       "        vertical-align: middle;\n",
       "    }\n",
       "\n",
       "    .dataframe tbody tr th {\n",
       "        vertical-align: top;\n",
       "    }\n",
       "\n",
       "    .dataframe thead th {\n",
       "        text-align: right;\n",
       "    }\n",
       "</style>\n",
       "<table border=\"1\" class=\"dataframe\">\n",
       "  <thead>\n",
       "    <tr style=\"text-align: right;\">\n",
       "      <th></th>\n",
       "      <th>document</th>\n",
       "      <th>text</th>\n",
       "      <th>type</th>\n",
       "      <th>start</th>\n",
       "      <th>end</th>\n",
       "      <th>cui</th>\n",
       "      <th>tuis</th>\n",
       "      <th>canonical</th>\n",
       "      <th>linker</th>\n",
       "      <th>confidence</th>\n",
       "    </tr>\n",
       "  </thead>\n",
       "  <tbody>\n",
       "    <tr>\n",
       "      <th>0</th>\n",
       "      <td>22_prostatakarzinom_0334_13</td>\n",
       "      <td>Testosteronsubstitution</td>\n",
       "      <td>Therapeutic</td>\n",
       "      <td>159</td>\n",
       "      <td>182</td>\n",
       "      <td>C3827232</td>\n",
       "      <td>[T033]</td>\n",
       "      <td>Testosterone excess</td>\n",
       "      <td>[sapbert]</td>\n",
       "      <td>0.065929</td>\n",
       "    </tr>\n",
       "  </tbody>\n",
       "</table>\n",
       "</div>"
      ],
      "text/plain": [
       "                      document                     text         type  start  \\\n",
       "0  22_prostatakarzinom_0334_13  Testosteronsubstitution  Therapeutic    159   \n",
       "\n",
       "   end       cui    tuis            canonical     linker  confidence  \n",
       "0  182  C3827232  [T033]  Testosterone excess  [sapbert]    0.065929  "
      ]
     },
     "metadata": {},
     "output_type": "display_data"
    },
    {
     "name": "stdout",
     "output_type": "stream",
     "text": [
      "Filter:\n"
     ]
    },
    {
     "data": {
      "text/html": [
       "<div>\n",
       "<style scoped>\n",
       "    .dataframe tbody tr th:only-of-type {\n",
       "        vertical-align: middle;\n",
       "    }\n",
       "\n",
       "    .dataframe tbody tr th {\n",
       "        vertical-align: top;\n",
       "    }\n",
       "\n",
       "    .dataframe thead th {\n",
       "        text-align: right;\n",
       "    }\n",
       "</style>\n",
       "<table border=\"1\" class=\"dataframe\">\n",
       "  <thead>\n",
       "    <tr style=\"text-align: right;\">\n",
       "      <th></th>\n",
       "      <th>document</th>\n",
       "      <th>text</th>\n",
       "      <th>type</th>\n",
       "      <th>start</th>\n",
       "      <th>end</th>\n",
       "      <th>cui</th>\n",
       "      <th>tuis</th>\n",
       "      <th>canonical</th>\n",
       "      <th>linker</th>\n",
       "      <th>confidence</th>\n",
       "    </tr>\n",
       "  </thead>\n",
       "  <tbody>\n",
       "    <tr>\n",
       "      <th>0</th>\n",
       "      <td>22_prostatakarzinom_0334_13</td>\n",
       "      <td>Testosteronsubstitution</td>\n",
       "      <td>Therapeutic</td>\n",
       "      <td>159</td>\n",
       "      <td>182</td>\n",
       "      <td>C0039607</td>\n",
       "      <td>[T109, T121, T125]</td>\n",
       "      <td>Testosteronproprionat</td>\n",
       "      <td>[sapbert]</td>\n",
       "      <td>0.065842</td>\n",
       "    </tr>\n",
       "  </tbody>\n",
       "</table>\n",
       "</div>"
      ],
      "text/plain": [
       "                      document                     text         type  start  \\\n",
       "0  22_prostatakarzinom_0334_13  Testosteronsubstitution  Therapeutic    159   \n",
       "\n",
       "   end       cui                tuis              canonical     linker  \\\n",
       "0  182  C0039607  [T109, T121, T125]  Testosteronproprionat  [sapbert]   \n",
       "\n",
       "   confidence  \n",
       "0    0.065842  "
      ]
     },
     "metadata": {},
     "output_type": "display_data"
    },
    {
     "name": "stdout",
     "output_type": "stream",
     "text": [
      "####\n"
     ]
    },
    {
     "data": {
      "application/vnd.jupyter.widget-view+json": {
       "model_id": "ad664a3f0c0645b799412aa46c7430b4",
       "version_major": 2,
       "version_minor": 0
      },
      "text/plain": [
       "  0%|          | 0/1 [00:00<?, ?it/s]"
      ]
     },
     "metadata": {},
     "output_type": "display_data"
    },
    {
     "data": {
      "application/vnd.jupyter.widget-view+json": {
       "model_id": "41f07b55dbbc4175a701a1c0a84ccb94",
       "version_major": 2,
       "version_minor": 0
      },
      "text/plain": [
       "  0%|          | 0/1 [00:00<?, ?it/s]"
      ]
     },
     "metadata": {},
     "output_type": "display_data"
    },
    {
     "name": "stdout",
     "output_type": "stream",
     "text": [
      "Die Autoren dieser Leitlinie sehen die Notwendigkeit für eine Stellungnahme zur Testosteronsubstition bei klinisch schwer symptomatischen Patienten mit nachgewiesenem Testosteronmangel nach kurativer Therapie eines Prostatakarzinoms.\n",
      "\n",
      "No Filter:\n"
     ]
    },
    {
     "data": {
      "text/html": [
       "<div>\n",
       "<style scoped>\n",
       "    .dataframe tbody tr th:only-of-type {\n",
       "        vertical-align: middle;\n",
       "    }\n",
       "\n",
       "    .dataframe tbody tr th {\n",
       "        vertical-align: top;\n",
       "    }\n",
       "\n",
       "    .dataframe thead th {\n",
       "        text-align: right;\n",
       "    }\n",
       "</style>\n",
       "<table border=\"1\" class=\"dataframe\">\n",
       "  <thead>\n",
       "    <tr style=\"text-align: right;\">\n",
       "      <th></th>\n",
       "      <th>document</th>\n",
       "      <th>text</th>\n",
       "      <th>type</th>\n",
       "      <th>start</th>\n",
       "      <th>end</th>\n",
       "      <th>cui</th>\n",
       "      <th>tuis</th>\n",
       "      <th>canonical</th>\n",
       "      <th>linker</th>\n",
       "      <th>confidence</th>\n",
       "    </tr>\n",
       "  </thead>\n",
       "  <tbody>\n",
       "    <tr>\n",
       "      <th>3</th>\n",
       "      <td>22_prostatakarzinom_0334_14</td>\n",
       "      <td>kurativer Therapie eines Prostatakarzinoms</td>\n",
       "      <td>Therapeutic</td>\n",
       "      <td>190</td>\n",
       "      <td>232</td>\n",
       "      <td>C1328504</td>\n",
       "      <td>[T191]</td>\n",
       "      <td>Hormone refractory prostate cancer</td>\n",
       "      <td>[ngram, sapbert]</td>\n",
       "      <td>0.065897</td>\n",
       "    </tr>\n",
       "  </tbody>\n",
       "</table>\n",
       "</div>"
      ],
      "text/plain": [
       "                      document                                        text  \\\n",
       "3  22_prostatakarzinom_0334_14  kurativer Therapie eines Prostatakarzinoms   \n",
       "\n",
       "          type  start  end       cui    tuis  \\\n",
       "3  Therapeutic    190  232  C1328504  [T191]   \n",
       "\n",
       "                            canonical            linker  confidence  \n",
       "3  Hormone refractory prostate cancer  [ngram, sapbert]    0.065897  "
      ]
     },
     "metadata": {},
     "output_type": "display_data"
    },
    {
     "name": "stdout",
     "output_type": "stream",
     "text": [
      "Filter:\n"
     ]
    },
    {
     "data": {
      "text/html": [
       "<div>\n",
       "<style scoped>\n",
       "    .dataframe tbody tr th:only-of-type {\n",
       "        vertical-align: middle;\n",
       "    }\n",
       "\n",
       "    .dataframe tbody tr th {\n",
       "        vertical-align: top;\n",
       "    }\n",
       "\n",
       "    .dataframe thead th {\n",
       "        text-align: right;\n",
       "    }\n",
       "</style>\n",
       "<table border=\"1\" class=\"dataframe\">\n",
       "  <thead>\n",
       "    <tr style=\"text-align: right;\">\n",
       "      <th></th>\n",
       "      <th>document</th>\n",
       "      <th>text</th>\n",
       "      <th>type</th>\n",
       "      <th>start</th>\n",
       "      <th>end</th>\n",
       "      <th>cui</th>\n",
       "      <th>tuis</th>\n",
       "      <th>canonical</th>\n",
       "      <th>linker</th>\n",
       "      <th>confidence</th>\n",
       "    </tr>\n",
       "  </thead>\n",
       "  <tbody>\n",
       "    <tr>\n",
       "      <th>3</th>\n",
       "      <td>22_prostatakarzinom_0334_14</td>\n",
       "      <td>kurativer Therapie eines Prostatakarzinoms</td>\n",
       "      <td>Therapeutic</td>\n",
       "      <td>190</td>\n",
       "      <td>232</td>\n",
       "      <td>C4763954</td>\n",
       "      <td>[T061]</td>\n",
       "      <td>Prostate Cancer Surgery</td>\n",
       "      <td>[sapbert]</td>\n",
       "      <td>0.063945</td>\n",
       "    </tr>\n",
       "  </tbody>\n",
       "</table>\n",
       "</div>"
      ],
      "text/plain": [
       "                      document                                        text  \\\n",
       "3  22_prostatakarzinom_0334_14  kurativer Therapie eines Prostatakarzinoms   \n",
       "\n",
       "          type  start  end       cui    tuis                canonical  \\\n",
       "3  Therapeutic    190  232  C4763954  [T061]  Prostate Cancer Surgery   \n",
       "\n",
       "      linker  confidence  \n",
       "3  [sapbert]    0.063945  "
      ]
     },
     "metadata": {},
     "output_type": "display_data"
    },
    {
     "name": "stdout",
     "output_type": "stream",
     "text": [
      "####\n"
     ]
    },
    {
     "data": {
      "application/vnd.jupyter.widget-view+json": {
       "model_id": "4c9d8b927a5a4abd99a19f21c8939510",
       "version_major": 2,
       "version_minor": 0
      },
      "text/plain": [
       "  0%|          | 0/1 [00:00<?, ?it/s]"
      ]
     },
     "metadata": {},
     "output_type": "display_data"
    },
    {
     "data": {
      "application/vnd.jupyter.widget-view+json": {
       "model_id": "7e2c69822d514bdd8c59ed767566d3d2",
       "version_major": 2,
       "version_minor": 0
      },
      "text/plain": [
       "  0%|          | 0/1 [00:00<?, ?it/s]"
      ]
     },
     "metadata": {},
     "output_type": "display_data"
    },
    {
     "data": {
      "application/vnd.jupyter.widget-view+json": {
       "model_id": "72f398acebc9498691930e5c9291c1b8",
       "version_major": 2,
       "version_minor": 0
      },
      "text/plain": [
       "  0%|          | 0/1 [00:00<?, ?it/s]"
      ]
     },
     "metadata": {},
     "output_type": "display_data"
    },
    {
     "data": {
      "application/vnd.jupyter.widget-view+json": {
       "model_id": "09951e78ba7644d5801e9ae6d2b16ddc",
       "version_major": 2,
       "version_minor": 0
      },
      "text/plain": [
       "  0%|          | 0/1 [00:00<?, ?it/s]"
      ]
     },
     "metadata": {},
     "output_type": "display_data"
    },
    {
     "data": {
      "application/vnd.jupyter.widget-view+json": {
       "model_id": "e35a6750ae804b188b05b23c51bf1df8",
       "version_major": 2,
       "version_minor": 0
      },
      "text/plain": [
       "  0%|          | 0/1 [00:00<?, ?it/s]"
      ]
     },
     "metadata": {},
     "output_type": "display_data"
    },
    {
     "data": {
      "application/vnd.jupyter.widget-view+json": {
       "model_id": "def17f07d3ab4c26b9d3dedcdf1fb5a6",
       "version_major": 2,
       "version_minor": 0
      },
      "text/plain": [
       "  0%|          | 0/1 [00:00<?, ?it/s]"
      ]
     },
     "metadata": {},
     "output_type": "display_data"
    },
    {
     "data": {
      "application/vnd.jupyter.widget-view+json": {
       "model_id": "df30799451094840a9cf53a3a8bfed94",
       "version_major": 2,
       "version_minor": 0
      },
      "text/plain": [
       "  0%|          | 0/1 [00:00<?, ?it/s]"
      ]
     },
     "metadata": {},
     "output_type": "display_data"
    },
    {
     "data": {
      "application/vnd.jupyter.widget-view+json": {
       "model_id": "c81e7c0ae5ff474c9b6cfad57157ca61",
       "version_major": 2,
       "version_minor": 0
      },
      "text/plain": [
       "  0%|          | 0/1 [00:00<?, ?it/s]"
      ]
     },
     "metadata": {},
     "output_type": "display_data"
    },
    {
     "data": {
      "application/vnd.jupyter.widget-view+json": {
       "model_id": "2c97ae69744a49d4bf834b4bbb7cdbff",
       "version_major": 2,
       "version_minor": 0
      },
      "text/plain": [
       "  0%|          | 0/1 [00:00<?, ?it/s]"
      ]
     },
     "metadata": {},
     "output_type": "display_data"
    },
    {
     "data": {
      "application/vnd.jupyter.widget-view+json": {
       "model_id": "7c68a69ec9634bcb8b06163b603a5a77",
       "version_major": 2,
       "version_minor": 0
      },
      "text/plain": [
       "  0%|          | 0/1 [00:00<?, ?it/s]"
      ]
     },
     "metadata": {},
     "output_type": "display_data"
    },
    {
     "data": {
      "application/vnd.jupyter.widget-view+json": {
       "model_id": "399217195e7f452784c8b7bad51ed4a6",
       "version_major": 2,
       "version_minor": 0
      },
      "text/plain": [
       "  0%|          | 0/1 [00:00<?, ?it/s]"
      ]
     },
     "metadata": {},
     "output_type": "display_data"
    },
    {
     "data": {
      "application/vnd.jupyter.widget-view+json": {
       "model_id": "fc5020d233dd4f28a35e0971a382d5d0",
       "version_major": 2,
       "version_minor": 0
      },
      "text/plain": [
       "  0%|          | 0/1 [00:00<?, ?it/s]"
      ]
     },
     "metadata": {},
     "output_type": "display_data"
    },
    {
     "data": {
      "application/vnd.jupyter.widget-view+json": {
       "model_id": "92627d158eb641a0aab19e8d9dd57408",
       "version_major": 2,
       "version_minor": 0
      },
      "text/plain": [
       "  0%|          | 0/1 [00:00<?, ?it/s]"
      ]
     },
     "metadata": {},
     "output_type": "display_data"
    },
    {
     "data": {
      "application/vnd.jupyter.widget-view+json": {
       "model_id": "d44dfdb15ee446639daf297b8d76c781",
       "version_major": 2,
       "version_minor": 0
      },
      "text/plain": [
       "  0%|          | 0/1 [00:00<?, ?it/s]"
      ]
     },
     "metadata": {},
     "output_type": "display_data"
    },
    {
     "data": {
      "application/vnd.jupyter.widget-view+json": {
       "model_id": "2fe639bcc5ba448e83f1c450f8503390",
       "version_major": 2,
       "version_minor": 0
      },
      "text/plain": [
       "  0%|          | 0/1 [00:00<?, ?it/s]"
      ]
     },
     "metadata": {},
     "output_type": "display_data"
    },
    {
     "data": {
      "application/vnd.jupyter.widget-view+json": {
       "model_id": "8c469a10963a4080a821d921cf47cf2e",
       "version_major": 2,
       "version_minor": 0
      },
      "text/plain": [
       "  0%|          | 0/1 [00:00<?, ?it/s]"
      ]
     },
     "metadata": {},
     "output_type": "display_data"
    },
    {
     "data": {
      "application/vnd.jupyter.widget-view+json": {
       "model_id": "cc2c45250d4e4864adf017c4ab8e6648",
       "version_major": 2,
       "version_minor": 0
      },
      "text/plain": [
       "  0%|          | 0/1 [00:00<?, ?it/s]"
      ]
     },
     "metadata": {},
     "output_type": "display_data"
    },
    {
     "data": {
      "application/vnd.jupyter.widget-view+json": {
       "model_id": "78b9304b12b245ccbde184c02de5fd69",
       "version_major": 2,
       "version_minor": 0
      },
      "text/plain": [
       "  0%|          | 0/1 [00:00<?, ?it/s]"
      ]
     },
     "metadata": {},
     "output_type": "display_data"
    },
    {
     "data": {
      "application/vnd.jupyter.widget-view+json": {
       "model_id": "19bac58c99414ca69987cc26a2a4c7f5",
       "version_major": 2,
       "version_minor": 0
      },
      "text/plain": [
       "  0%|          | 0/1 [00:00<?, ?it/s]"
      ]
     },
     "metadata": {},
     "output_type": "display_data"
    },
    {
     "data": {
      "application/vnd.jupyter.widget-view+json": {
       "model_id": "d4fddfd093d3498ca5d1033865d3b85c",
       "version_major": 2,
       "version_minor": 0
      },
      "text/plain": [
       "  0%|          | 0/1 [00:00<?, ?it/s]"
      ]
     },
     "metadata": {},
     "output_type": "display_data"
    },
    {
     "data": {
      "application/vnd.jupyter.widget-view+json": {
       "model_id": "b9f7c1a0583946dbbc30872ebb34cee9",
       "version_major": 2,
       "version_minor": 0
      },
      "text/plain": [
       "  0%|          | 0/1 [00:00<?, ?it/s]"
      ]
     },
     "metadata": {},
     "output_type": "display_data"
    },
    {
     "data": {
      "application/vnd.jupyter.widget-view+json": {
       "model_id": "bd061d702fd74e1d86f7772cbb4cce9a",
       "version_major": 2,
       "version_minor": 0
      },
      "text/plain": [
       "  0%|          | 0/1 [00:00<?, ?it/s]"
      ]
     },
     "metadata": {},
     "output_type": "display_data"
    },
    {
     "data": {
      "application/vnd.jupyter.widget-view+json": {
       "model_id": "eec1423eb7734305bbe79824213637d8",
       "version_major": 2,
       "version_minor": 0
      },
      "text/plain": [
       "  0%|          | 0/1 [00:00<?, ?it/s]"
      ]
     },
     "metadata": {},
     "output_type": "display_data"
    },
    {
     "data": {
      "application/vnd.jupyter.widget-view+json": {
       "model_id": "965b0d38f973442d937aea4d270e6597",
       "version_major": 2,
       "version_minor": 0
      },
      "text/plain": [
       "  0%|          | 0/1 [00:00<?, ?it/s]"
      ]
     },
     "metadata": {},
     "output_type": "display_data"
    },
    {
     "data": {
      "application/vnd.jupyter.widget-view+json": {
       "model_id": "0420b471df36496880b5749e2389c418",
       "version_major": 2,
       "version_minor": 0
      },
      "text/plain": [
       "  0%|          | 0/1 [00:00<?, ?it/s]"
      ]
     },
     "metadata": {},
     "output_type": "display_data"
    },
    {
     "data": {
      "application/vnd.jupyter.widget-view+json": {
       "model_id": "2bc8deba0c8b4f40ab2e6d40f651bee4",
       "version_major": 2,
       "version_minor": 0
      },
      "text/plain": [
       "  0%|          | 0/1 [00:00<?, ?it/s]"
      ]
     },
     "metadata": {},
     "output_type": "display_data"
    },
    {
     "data": {
      "application/vnd.jupyter.widget-view+json": {
       "model_id": "f2319a66914249dbb82ff063abfe92dc",
       "version_major": 2,
       "version_minor": 0
      },
      "text/plain": [
       "  0%|          | 0/1 [00:00<?, ?it/s]"
      ]
     },
     "metadata": {},
     "output_type": "display_data"
    },
    {
     "data": {
      "application/vnd.jupyter.widget-view+json": {
       "model_id": "ce99268242504365bf6e3c0639218ccd",
       "version_major": 2,
       "version_minor": 0
      },
      "text/plain": [
       "  0%|          | 0/1 [00:00<?, ?it/s]"
      ]
     },
     "metadata": {},
     "output_type": "display_data"
    },
    {
     "data": {
      "application/vnd.jupyter.widget-view+json": {
       "model_id": "b3c79621b4c84c668305399d2a7ee845",
       "version_major": 2,
       "version_minor": 0
      },
      "text/plain": [
       "  0%|          | 0/1 [00:00<?, ?it/s]"
      ]
     },
     "metadata": {},
     "output_type": "display_data"
    },
    {
     "data": {
      "application/vnd.jupyter.widget-view+json": {
       "model_id": "22a7d5320cec4592bd6891ba735fb64f",
       "version_major": 2,
       "version_minor": 0
      },
      "text/plain": [
       "  0%|          | 0/1 [00:00<?, ?it/s]"
      ]
     },
     "metadata": {},
     "output_type": "display_data"
    },
    {
     "data": {
      "application/vnd.jupyter.widget-view+json": {
       "model_id": "073d6d5ee5ae4f5da4447c58fedaf0cf",
       "version_major": 2,
       "version_minor": 0
      },
      "text/plain": [
       "  0%|          | 0/1 [00:00<?, ?it/s]"
      ]
     },
     "metadata": {},
     "output_type": "display_data"
    },
    {
     "data": {
      "application/vnd.jupyter.widget-view+json": {
       "model_id": "8859e02c09b04af8a02a03770a5d5de9",
       "version_major": 2,
       "version_minor": 0
      },
      "text/plain": [
       "  0%|          | 0/1 [00:00<?, ?it/s]"
      ]
     },
     "metadata": {},
     "output_type": "display_data"
    },
    {
     "data": {
      "application/vnd.jupyter.widget-view+json": {
       "model_id": "78f37005b6e24c2fb19090374cb5e159",
       "version_major": 2,
       "version_minor": 0
      },
      "text/plain": [
       "  0%|          | 0/1 [00:00<?, ?it/s]"
      ]
     },
     "metadata": {},
     "output_type": "display_data"
    },
    {
     "data": {
      "application/vnd.jupyter.widget-view+json": {
       "model_id": "f7abdff6c075406fb107ddf7c58edc82",
       "version_major": 2,
       "version_minor": 0
      },
      "text/plain": [
       "  0%|          | 0/1 [00:00<?, ?it/s]"
      ]
     },
     "metadata": {},
     "output_type": "display_data"
    },
    {
     "data": {
      "application/vnd.jupyter.widget-view+json": {
       "model_id": "802a9f653c9248b582c8e0137a725e95",
       "version_major": 2,
       "version_minor": 0
      },
      "text/plain": [
       "  0%|          | 0/1 [00:00<?, ?it/s]"
      ]
     },
     "metadata": {},
     "output_type": "display_data"
    },
    {
     "data": {
      "application/vnd.jupyter.widget-view+json": {
       "model_id": "6015c7e74ba44c5abe2e8f3deda8eda2",
       "version_major": 2,
       "version_minor": 0
      },
      "text/plain": [
       "  0%|          | 0/1 [00:00<?, ?it/s]"
      ]
     },
     "metadata": {},
     "output_type": "display_data"
    },
    {
     "name": "stdout",
     "output_type": "stream",
     "text": [
      "Obwohl Nikotin einen protektiven Effekt für die entzündliche Komponente der Pneumonitis hat und die Pneumonitisrate zu senken scheint [REF] [REF] [REF] [REF] [REF] [REF], wird Nikotinkarenz empfohlen, um eine Verbesserung der Lungenfunktion zu erreichen und das Risiko von Zweittumoren zu reduzieren [REF].\n",
      "\n",
      "No Filter:\n"
     ]
    },
    {
     "data": {
      "text/html": [
       "<div>\n",
       "<style scoped>\n",
       "    .dataframe tbody tr th:only-of-type {\n",
       "        vertical-align: middle;\n",
       "    }\n",
       "\n",
       "    .dataframe tbody tr th {\n",
       "        vertical-align: top;\n",
       "    }\n",
       "\n",
       "    .dataframe thead th {\n",
       "        text-align: right;\n",
       "    }\n",
       "</style>\n",
       "<table border=\"1\" class=\"dataframe\">\n",
       "  <thead>\n",
       "    <tr style=\"text-align: right;\">\n",
       "      <th></th>\n",
       "      <th>document</th>\n",
       "      <th>text</th>\n",
       "      <th>type</th>\n",
       "      <th>start</th>\n",
       "      <th>end</th>\n",
       "      <th>cui</th>\n",
       "      <th>tuis</th>\n",
       "      <th>canonical</th>\n",
       "      <th>linker</th>\n",
       "      <th>confidence</th>\n",
       "    </tr>\n",
       "  </thead>\n",
       "  <tbody>\n",
       "    <tr>\n",
       "      <th>3</th>\n",
       "      <td>27_supportive-therapie_0765_15</td>\n",
       "      <td>Nikotinkarenz</td>\n",
       "      <td>Therapeutic</td>\n",
       "      <td>176</td>\n",
       "      <td>189</td>\n",
       "      <td>C3179141</td>\n",
       "      <td>[T200]</td>\n",
       "      <td>Nikotininhalator</td>\n",
       "      <td>[ngram, sapbert]</td>\n",
       "      <td>0.064533</td>\n",
       "    </tr>\n",
       "  </tbody>\n",
       "</table>\n",
       "</div>"
      ],
      "text/plain": [
       "                         document           text         type  start  end  \\\n",
       "3  27_supportive-therapie_0765_15  Nikotinkarenz  Therapeutic    176  189   \n",
       "\n",
       "        cui    tuis         canonical            linker  confidence  \n",
       "3  C3179141  [T200]  Nikotininhalator  [ngram, sapbert]    0.064533  "
      ]
     },
     "metadata": {},
     "output_type": "display_data"
    },
    {
     "name": "stdout",
     "output_type": "stream",
     "text": [
      "Filter:\n"
     ]
    },
    {
     "data": {
      "text/html": [
       "<div>\n",
       "<style scoped>\n",
       "    .dataframe tbody tr th:only-of-type {\n",
       "        vertical-align: middle;\n",
       "    }\n",
       "\n",
       "    .dataframe tbody tr th {\n",
       "        vertical-align: top;\n",
       "    }\n",
       "\n",
       "    .dataframe thead th {\n",
       "        text-align: right;\n",
       "    }\n",
       "</style>\n",
       "<table border=\"1\" class=\"dataframe\">\n",
       "  <thead>\n",
       "    <tr style=\"text-align: right;\">\n",
       "      <th></th>\n",
       "      <th>document</th>\n",
       "      <th>text</th>\n",
       "      <th>type</th>\n",
       "      <th>start</th>\n",
       "      <th>end</th>\n",
       "      <th>cui</th>\n",
       "      <th>tuis</th>\n",
       "      <th>canonical</th>\n",
       "      <th>linker</th>\n",
       "      <th>confidence</th>\n",
       "    </tr>\n",
       "  </thead>\n",
       "  <tbody>\n",
       "    <tr>\n",
       "      <th>3</th>\n",
       "      <td>27_supportive-therapie_0765_15</td>\n",
       "      <td>Nikotinkarenz</td>\n",
       "      <td>Therapeutic</td>\n",
       "      <td>176</td>\n",
       "      <td>189</td>\n",
       "      <td>C0027996</td>\n",
       "      <td>[T109, T121, T127]</td>\n",
       "      <td>Niacin</td>\n",
       "      <td>[ngram, sapbert]</td>\n",
       "      <td>0.067396</td>\n",
       "    </tr>\n",
       "  </tbody>\n",
       "</table>\n",
       "</div>"
      ],
      "text/plain": [
       "                         document           text         type  start  end  \\\n",
       "3  27_supportive-therapie_0765_15  Nikotinkarenz  Therapeutic    176  189   \n",
       "\n",
       "        cui                tuis canonical            linker  confidence  \n",
       "3  C0027996  [T109, T121, T127]    Niacin  [ngram, sapbert]    0.067396  "
      ]
     },
     "metadata": {},
     "output_type": "display_data"
    },
    {
     "name": "stdout",
     "output_type": "stream",
     "text": [
      "####\n"
     ]
    },
    {
     "data": {
      "application/vnd.jupyter.widget-view+json": {
       "model_id": "a1e659f0ca364134885af883fbc4d582",
       "version_major": 2,
       "version_minor": 0
      },
      "text/plain": [
       "  0%|          | 0/1 [00:00<?, ?it/s]"
      ]
     },
     "metadata": {},
     "output_type": "display_data"
    },
    {
     "data": {
      "application/vnd.jupyter.widget-view+json": {
       "model_id": "f6e843b5e8484a6a9db211249d791323",
       "version_major": 2,
       "version_minor": 0
      },
      "text/plain": [
       "  0%|          | 0/1 [00:00<?, ?it/s]"
      ]
     },
     "metadata": {},
     "output_type": "display_data"
    },
    {
     "data": {
      "application/vnd.jupyter.widget-view+json": {
       "model_id": "b842787fb731473ea90dd67b22ec049f",
       "version_major": 2,
       "version_minor": 0
      },
      "text/plain": [
       "  0%|          | 0/1 [00:00<?, ?it/s]"
      ]
     },
     "metadata": {},
     "output_type": "display_data"
    },
    {
     "data": {
      "application/vnd.jupyter.widget-view+json": {
       "model_id": "6a074f65efe046559b796d60c0a4ea76",
       "version_major": 2,
       "version_minor": 0
      },
      "text/plain": [
       "  0%|          | 0/1 [00:00<?, ?it/s]"
      ]
     },
     "metadata": {},
     "output_type": "display_data"
    },
    {
     "data": {
      "application/vnd.jupyter.widget-view+json": {
       "model_id": "ebeec1e63d92400eadebe694e1b69e60",
       "version_major": 2,
       "version_minor": 0
      },
      "text/plain": [
       "  0%|          | 0/1 [00:00<?, ?it/s]"
      ]
     },
     "metadata": {},
     "output_type": "display_data"
    },
    {
     "data": {
      "application/vnd.jupyter.widget-view+json": {
       "model_id": "6d898e59e67542f1a19b9a95be9dcb05",
       "version_major": 2,
       "version_minor": 0
      },
      "text/plain": [
       "  0%|          | 0/1 [00:00<?, ?it/s]"
      ]
     },
     "metadata": {},
     "output_type": "display_data"
    },
    {
     "data": {
      "application/vnd.jupyter.widget-view+json": {
       "model_id": "aa1aff0c38804a0585b35bba2325f40b",
       "version_major": 2,
       "version_minor": 0
      },
      "text/plain": [
       "  0%|          | 0/1 [00:00<?, ?it/s]"
      ]
     },
     "metadata": {},
     "output_type": "display_data"
    },
    {
     "data": {
      "application/vnd.jupyter.widget-view+json": {
       "model_id": "3edff2ae3187498888f044a3d3b396cc",
       "version_major": 2,
       "version_minor": 0
      },
      "text/plain": [
       "  0%|          | 0/1 [00:00<?, ?it/s]"
      ]
     },
     "metadata": {},
     "output_type": "display_data"
    },
    {
     "data": {
      "application/vnd.jupyter.widget-view+json": {
       "model_id": "2f4370f5e0f34d7696e8dc01a0122209",
       "version_major": 2,
       "version_minor": 0
      },
      "text/plain": [
       "  0%|          | 0/1 [00:00<?, ?it/s]"
      ]
     },
     "metadata": {},
     "output_type": "display_data"
    },
    {
     "data": {
      "application/vnd.jupyter.widget-view+json": {
       "model_id": "5dd7864f80d0477b9668a27a8905ab84",
       "version_major": 2,
       "version_minor": 0
      },
      "text/plain": [
       "  0%|          | 0/1 [00:00<?, ?it/s]"
      ]
     },
     "metadata": {},
     "output_type": "display_data"
    },
    {
     "data": {
      "application/vnd.jupyter.widget-view+json": {
       "model_id": "acda0fbdb30c465c8b00bdc7f4e8199b",
       "version_major": 2,
       "version_minor": 0
      },
      "text/plain": [
       "  0%|          | 0/1 [00:00<?, ?it/s]"
      ]
     },
     "metadata": {},
     "output_type": "display_data"
    },
    {
     "data": {
      "application/vnd.jupyter.widget-view+json": {
       "model_id": "730720f711a94df7a187645005f95a35",
       "version_major": 2,
       "version_minor": 0
      },
      "text/plain": [
       "  0%|          | 0/1 [00:00<?, ?it/s]"
      ]
     },
     "metadata": {},
     "output_type": "display_data"
    },
    {
     "name": "stdout",
     "output_type": "stream",
     "text": [
      "In einer Metaanalyse individueller Patientendaten von 836 PatientInnen mit NSCLC und simultaner Strahlentherapie wurden Therapie mit Carboplatin/Paclitaxel (versus Cisplatin/Etoposid) (OR 3,33, p < 0,001), das Volumen der Lunge, das ≥ 20 Gy erhält (V20), (OR 1,03; pro 1% Zunahme, p = 0,008) und als Trend das Alter (OR 1,24; pro Dekade, p = 0,09) als Risikofaktoren identifiziert.\n",
      "\n",
      "No Filter:\n"
     ]
    },
    {
     "data": {
      "text/html": [
       "<div>\n",
       "<style scoped>\n",
       "    .dataframe tbody tr th:only-of-type {\n",
       "        vertical-align: middle;\n",
       "    }\n",
       "\n",
       "    .dataframe tbody tr th {\n",
       "        vertical-align: top;\n",
       "    }\n",
       "\n",
       "    .dataframe thead th {\n",
       "        text-align: right;\n",
       "    }\n",
       "</style>\n",
       "<table border=\"1\" class=\"dataframe\">\n",
       "  <thead>\n",
       "    <tr style=\"text-align: right;\">\n",
       "      <th></th>\n",
       "      <th>document</th>\n",
       "      <th>text</th>\n",
       "      <th>type</th>\n",
       "      <th>start</th>\n",
       "      <th>end</th>\n",
       "      <th>cui</th>\n",
       "      <th>tuis</th>\n",
       "      <th>canonical</th>\n",
       "      <th>linker</th>\n",
       "      <th>confidence</th>\n",
       "    </tr>\n",
       "  </thead>\n",
       "  <tbody>\n",
       "    <tr>\n",
       "      <th>0</th>\n",
       "      <td>27_supportive-therapie_0765_21</td>\n",
       "      <td>NSCLC</td>\n",
       "      <td>Diagnosis_or_Pathology</td>\n",
       "      <td>75</td>\n",
       "      <td>80</td>\n",
       "      <td>C0067671</td>\n",
       "      <td>[T116]</td>\n",
       "      <td>N-acetyl-S-lactoylcysteine</td>\n",
       "      <td>[sapbert]</td>\n",
       "      <td>0.065826</td>\n",
       "    </tr>\n",
       "  </tbody>\n",
       "</table>\n",
       "</div>"
      ],
      "text/plain": [
       "                         document   text                    type  start  end  \\\n",
       "0  27_supportive-therapie_0765_21  NSCLC  Diagnosis_or_Pathology     75   80   \n",
       "\n",
       "        cui    tuis                   canonical     linker  confidence  \n",
       "0  C0067671  [T116]  N-acetyl-S-lactoylcysteine  [sapbert]    0.065826  "
      ]
     },
     "metadata": {},
     "output_type": "display_data"
    },
    {
     "name": "stdout",
     "output_type": "stream",
     "text": [
      "Filter:\n"
     ]
    },
    {
     "data": {
      "text/html": [
       "<div>\n",
       "<style scoped>\n",
       "    .dataframe tbody tr th:only-of-type {\n",
       "        vertical-align: middle;\n",
       "    }\n",
       "\n",
       "    .dataframe tbody tr th {\n",
       "        vertical-align: top;\n",
       "    }\n",
       "\n",
       "    .dataframe thead th {\n",
       "        text-align: right;\n",
       "    }\n",
       "</style>\n",
       "<table border=\"1\" class=\"dataframe\">\n",
       "  <thead>\n",
       "    <tr style=\"text-align: right;\">\n",
       "      <th></th>\n",
       "      <th>document</th>\n",
       "      <th>text</th>\n",
       "      <th>type</th>\n",
       "      <th>start</th>\n",
       "      <th>end</th>\n",
       "      <th>cui</th>\n",
       "      <th>tuis</th>\n",
       "      <th>canonical</th>\n",
       "      <th>linker</th>\n",
       "      <th>confidence</th>\n",
       "    </tr>\n",
       "  </thead>\n",
       "  <tbody>\n",
       "    <tr>\n",
       "      <th>0</th>\n",
       "      <td>27_supportive-therapie_0765_21</td>\n",
       "      <td>NSCLC</td>\n",
       "      <td>Diagnosis_or_Pathology</td>\n",
       "      <td>75</td>\n",
       "      <td>80</td>\n",
       "      <td>C2984258</td>\n",
       "      <td>[T077]</td>\n",
       "      <td>Non-Small Cell Lung Cancer Pathway</td>\n",
       "      <td>[ngram, sapbert]</td>\n",
       "      <td>0.065139</td>\n",
       "    </tr>\n",
       "  </tbody>\n",
       "</table>\n",
       "</div>"
      ],
      "text/plain": [
       "                         document   text                    type  start  end  \\\n",
       "0  27_supportive-therapie_0765_21  NSCLC  Diagnosis_or_Pathology     75   80   \n",
       "\n",
       "        cui    tuis                           canonical            linker  \\\n",
       "0  C2984258  [T077]  Non-Small Cell Lung Cancer Pathway  [ngram, sapbert]   \n",
       "\n",
       "   confidence  \n",
       "0    0.065139  "
      ]
     },
     "metadata": {},
     "output_type": "display_data"
    },
    {
     "name": "stdout",
     "output_type": "stream",
     "text": [
      "####\n"
     ]
    },
    {
     "data": {
      "application/vnd.jupyter.widget-view+json": {
       "model_id": "34ad09dbd3914d12a4742ebfcb18202d",
       "version_major": 2,
       "version_minor": 0
      },
      "text/plain": [
       "  0%|          | 0/1 [00:00<?, ?it/s]"
      ]
     },
     "metadata": {},
     "output_type": "display_data"
    },
    {
     "data": {
      "application/vnd.jupyter.widget-view+json": {
       "model_id": "e0e6c83c9d6f433cb8d278a648a46a10",
       "version_major": 2,
       "version_minor": 0
      },
      "text/plain": [
       "  0%|          | 0/1 [00:00<?, ?it/s]"
      ]
     },
     "metadata": {},
     "output_type": "display_data"
    },
    {
     "data": {
      "application/vnd.jupyter.widget-view+json": {
       "model_id": "a643dc73d0694d7785a90bc15761e485",
       "version_major": 2,
       "version_minor": 0
      },
      "text/plain": [
       "  0%|          | 0/1 [00:00<?, ?it/s]"
      ]
     },
     "metadata": {},
     "output_type": "display_data"
    },
    {
     "data": {
      "application/vnd.jupyter.widget-view+json": {
       "model_id": "afc318faa5654f7fb2ad743a903762b7",
       "version_major": 2,
       "version_minor": 0
      },
      "text/plain": [
       "  0%|          | 0/1 [00:00<?, ?it/s]"
      ]
     },
     "metadata": {},
     "output_type": "display_data"
    },
    {
     "data": {
      "application/vnd.jupyter.widget-view+json": {
       "model_id": "555eaca688c4470fb3b640cad55297f8",
       "version_major": 2,
       "version_minor": 0
      },
      "text/plain": [
       "  0%|          | 0/1 [00:00<?, ?it/s]"
      ]
     },
     "metadata": {},
     "output_type": "display_data"
    },
    {
     "data": {
      "application/vnd.jupyter.widget-view+json": {
       "model_id": "207f1e8ee514414baa3a93dda0484ec7",
       "version_major": 2,
       "version_minor": 0
      },
      "text/plain": [
       "  0%|          | 0/1 [00:00<?, ?it/s]"
      ]
     },
     "metadata": {},
     "output_type": "display_data"
    }
   ],
   "source": [
    "res_sem = linking_results['before_eccnp']['reranked']\n",
    "res_no_sem = linking_results['before_eccnp_no_semtype']['reranked']\n",
    "\n",
    "assert len(res_sem) == len(res_no_sem)\n",
    "#s = Sampler(42, 10)\n",
    "#l, r = s.transform_batch(res_sem, res_no_sem)\n",
    "\n",
    "diff_sem = 0\n",
    "\n",
    "for d_b, d_a in zip(res_no_sem, res_sem):\n",
    "    t_a = d_a['passages'][0]['text'][0]\n",
    "    df1 = get_annotation_dataframe([d_b], linker.kb, 1, 0.0)\n",
    "    df2 = get_annotation_dataframe([d_a], linker.kb, 1, 0.0)\n",
    "    if len(df1) == 0:\n",
    "        continue\n",
    "    mask = df1.canonical != df2.canonical\n",
    "    if mask.any():\n",
    "        print(t_a + '\\n')\n",
    "        #show_diff_single(t_b, t_a)\n",
    "        print('No Filter:')\n",
    "        display(df1[mask])\n",
    "        print('Filter:')\n",
    "        display(df2[mask])\n",
    "        diff_sem += 1\n",
    "        print('####')"
   ]
  },
  {
   "cell_type": "code",
   "execution_count": 14,
   "id": "81a10ff2-065d-4472-b1b5-2c99f25147af",
   "metadata": {
    "tags": []
   },
   "outputs": [
    {
     "data": {
      "text/plain": [
       "0.13368983957219252"
      ]
     },
     "execution_count": 14,
     "metadata": {},
     "output_type": "execute_result"
    }
   ],
   "source": [
    "diff_sem / len(res_no_sem)"
   ]
  },
  {
   "cell_type": "markdown",
   "id": "c1eca9dc-1154-4f25-8c44-97916db355dc",
   "metadata": {},
   "source": [
    "# Impact of ECCNPs"
   ]
  },
  {
   "cell_type": "code",
   "execution_count": 15,
   "id": "e02979b7-f39d-461e-8f7f-fea5177d5777",
   "metadata": {
    "tags": []
   },
   "outputs": [
    {
     "name": "stdout",
     "output_type": "stream",
     "text": [
      "Difference 1\n"
     ]
    },
    {
     "data": {
      "text/markdown": [
       "Am ehesten werden bei Patienten mit Malignomen Mangelzustände von Vitamin D beobachtet [REF] und von einigen Autoren mit der Erkrankungsinzidenz und -prognose in Verbindung gebracht [REF] [REF] [REF] [REF]."
      ],
      "text/plain": [
       "<IPython.core.display.Markdown object>"
      ]
     },
     "metadata": {},
     "output_type": "display_data"
    },
    {
     "data": {
      "text/markdown": [
       "Am ehesten werden bei Patienten mit Malignomen Mangelzustände von Vitamin D beobachtet [REF] und von einigen Autoren mit der Erkrankungsinzidenz und Erkrankungsprognose in Verbindung gebracht [REF] [REF] [REF] [REF]."
      ],
      "text/plain": [
       "<IPython.core.display.Markdown object>"
      ]
     },
     "metadata": {},
     "output_type": "display_data"
    },
    {
     "data": {
      "text/html": [
       "<html><body><div>Am ehesten werden bei Patienten mit Malignomen Mangelzustände von Vitamin D beobachtet [REF] und von einigen Autoren mit der Erkrankungsinzidenz und <span style=\"background-color: red; text-decoration: line-through;\">-</span><span style=\"background-color: lightgreen;\">Erkrankungs</span>prognose in Verbindung gebracht [REF] [REF] [REF] [REF].</div></body></html>"
      ],
      "text/plain": [
       "<IPython.core.display.HTML object>"
      ]
     },
     "metadata": {},
     "output_type": "display_data"
    },
    {
     "data": {
      "application/vnd.jupyter.widget-view+json": {
       "model_id": "d9f8debf7bfc48618ec95cc2188f70c5",
       "version_major": 2,
       "version_minor": 0
      },
      "text/plain": [
       "  0%|          | 0/1 [00:00<?, ?it/s]"
      ]
     },
     "metadata": {},
     "output_type": "display_data"
    },
    {
     "data": {
      "text/html": [
       "<div>\n",
       "<style scoped>\n",
       "    .dataframe tbody tr th:only-of-type {\n",
       "        vertical-align: middle;\n",
       "    }\n",
       "\n",
       "    .dataframe tbody tr th {\n",
       "        vertical-align: top;\n",
       "    }\n",
       "\n",
       "    .dataframe thead th {\n",
       "        text-align: right;\n",
       "    }\n",
       "</style>\n",
       "<table border=\"1\" class=\"dataframe\">\n",
       "  <thead>\n",
       "    <tr style=\"text-align: right;\">\n",
       "      <th></th>\n",
       "      <th>document</th>\n",
       "      <th>text</th>\n",
       "      <th>type</th>\n",
       "      <th>start</th>\n",
       "      <th>end</th>\n",
       "      <th>cui</th>\n",
       "      <th>tuis</th>\n",
       "      <th>canonical</th>\n",
       "      <th>linker</th>\n",
       "      <th>confidence</th>\n",
       "    </tr>\n",
       "  </thead>\n",
       "  <tbody>\n",
       "    <tr>\n",
       "      <th>0</th>\n",
       "      <td>01_magenkarzinom_0192_2</td>\n",
       "      <td>Malignomen</td>\n",
       "      <td>Diagnosis_or_Pathology</td>\n",
       "      <td>36</td>\n",
       "      <td>46</td>\n",
       "      <td>C0006826</td>\n",
       "      <td>[T191]</td>\n",
       "      <td>Krebserkrankung</td>\n",
       "      <td>[ngram, sapbert]</td>\n",
       "      <td>0.078375</td>\n",
       "    </tr>\n",
       "    <tr>\n",
       "      <th>1</th>\n",
       "      <td>01_magenkarzinom_0192_2</td>\n",
       "      <td>Mangelzustände von Vitamin D</td>\n",
       "      <td>Diagnosis_or_Pathology</td>\n",
       "      <td>47</td>\n",
       "      <td>75</td>\n",
       "      <td>C0042870</td>\n",
       "      <td>[T047]</td>\n",
       "      <td>Vitamin-D-Mangel</td>\n",
       "      <td>[ngram, sapbert]</td>\n",
       "      <td>0.071928</td>\n",
       "    </tr>\n",
       "    <tr>\n",
       "      <th>2</th>\n",
       "      <td>01_magenkarzinom_0192_2</td>\n",
       "      <td>Vitamin D</td>\n",
       "      <td>Nutrient_or_Body_Substance</td>\n",
       "      <td>66</td>\n",
       "      <td>75</td>\n",
       "      <td>C0042866</td>\n",
       "      <td>[T121, T125, T127]</td>\n",
       "      <td>Vitamin D</td>\n",
       "      <td>[ngram, sapbert]</td>\n",
       "      <td>0.077961</td>\n",
       "    </tr>\n",
       "    <tr>\n",
       "      <th>3</th>\n",
       "      <td>01_magenkarzinom_0192_2</td>\n",
       "      <td>Erkrankungsinzidenz</td>\n",
       "      <td>Diagnosis_or_Pathology</td>\n",
       "      <td>125</td>\n",
       "      <td>144</td>\n",
       "      <td>C0012655</td>\n",
       "      <td>[T201]</td>\n",
       "      <td>Krankheitsanfälligkeit</td>\n",
       "      <td>[sapbert]</td>\n",
       "      <td>0.065133</td>\n",
       "    </tr>\n",
       "    <tr>\n",
       "      <th>4</th>\n",
       "      <td>01_magenkarzinom_0192_2</td>\n",
       "      <td>-prognose</td>\n",
       "      <td>Other_Finding</td>\n",
       "      <td>149</td>\n",
       "      <td>158</td>\n",
       "      <td>C0033325</td>\n",
       "      <td>[T058]</td>\n",
       "      <td>Prognose</td>\n",
       "      <td>[ngram, sapbert]</td>\n",
       "      <td>0.092011</td>\n",
       "    </tr>\n",
       "  </tbody>\n",
       "</table>\n",
       "</div>"
      ],
      "text/plain": [
       "                  document                          text  \\\n",
       "0  01_magenkarzinom_0192_2                    Malignomen   \n",
       "1  01_magenkarzinom_0192_2  Mangelzustände von Vitamin D   \n",
       "2  01_magenkarzinom_0192_2                     Vitamin D   \n",
       "3  01_magenkarzinom_0192_2           Erkrankungsinzidenz   \n",
       "4  01_magenkarzinom_0192_2                     -prognose   \n",
       "\n",
       "                         type  start  end       cui                tuis  \\\n",
       "0      Diagnosis_or_Pathology     36   46  C0006826              [T191]   \n",
       "1      Diagnosis_or_Pathology     47   75  C0042870              [T047]   \n",
       "2  Nutrient_or_Body_Substance     66   75  C0042866  [T121, T125, T127]   \n",
       "3      Diagnosis_or_Pathology    125  144  C0012655              [T201]   \n",
       "4               Other_Finding    149  158  C0033325              [T058]   \n",
       "\n",
       "                canonical            linker  confidence  \n",
       "0         Krebserkrankung  [ngram, sapbert]    0.078375  \n",
       "1        Vitamin-D-Mangel  [ngram, sapbert]    0.071928  \n",
       "2               Vitamin D  [ngram, sapbert]    0.077961  \n",
       "3  Krankheitsanfälligkeit         [sapbert]    0.065133  \n",
       "4                Prognose  [ngram, sapbert]    0.092011  "
      ]
     },
     "metadata": {},
     "output_type": "display_data"
    },
    {
     "data": {
      "application/vnd.jupyter.widget-view+json": {
       "model_id": "b6fd302487504aa383c5e7c3fa38a9f4",
       "version_major": 2,
       "version_minor": 0
      },
      "text/plain": [
       "  0%|          | 0/1 [00:00<?, ?it/s]"
      ]
     },
     "metadata": {},
     "output_type": "display_data"
    },
    {
     "data": {
      "text/html": [
       "<div>\n",
       "<style scoped>\n",
       "    .dataframe tbody tr th:only-of-type {\n",
       "        vertical-align: middle;\n",
       "    }\n",
       "\n",
       "    .dataframe tbody tr th {\n",
       "        vertical-align: top;\n",
       "    }\n",
       "\n",
       "    .dataframe thead th {\n",
       "        text-align: right;\n",
       "    }\n",
       "</style>\n",
       "<table border=\"1\" class=\"dataframe\">\n",
       "  <thead>\n",
       "    <tr style=\"text-align: right;\">\n",
       "      <th></th>\n",
       "      <th>document</th>\n",
       "      <th>text</th>\n",
       "      <th>type</th>\n",
       "      <th>start</th>\n",
       "      <th>end</th>\n",
       "      <th>cui</th>\n",
       "      <th>tuis</th>\n",
       "      <th>canonical</th>\n",
       "      <th>linker</th>\n",
       "      <th>confidence</th>\n",
       "    </tr>\n",
       "  </thead>\n",
       "  <tbody>\n",
       "    <tr>\n",
       "      <th>0</th>\n",
       "      <td>01_magenkarzinom_0192_2</td>\n",
       "      <td>Malignomen</td>\n",
       "      <td>Diagnosis_or_Pathology</td>\n",
       "      <td>36</td>\n",
       "      <td>46</td>\n",
       "      <td>C0205282</td>\n",
       "      <td>[T080]</td>\n",
       "      <td>Malignant</td>\n",
       "      <td>[ngram, sapbert]</td>\n",
       "      <td>0.078865</td>\n",
       "    </tr>\n",
       "    <tr>\n",
       "      <th>1</th>\n",
       "      <td>01_magenkarzinom_0192_2</td>\n",
       "      <td>Mangelzustände von Vitamin D</td>\n",
       "      <td>Diagnosis_or_Pathology</td>\n",
       "      <td>47</td>\n",
       "      <td>75</td>\n",
       "      <td>C0042870</td>\n",
       "      <td>[T047]</td>\n",
       "      <td>Vitamin-D-Mangel</td>\n",
       "      <td>[ngram, sapbert]</td>\n",
       "      <td>0.072261</td>\n",
       "    </tr>\n",
       "    <tr>\n",
       "      <th>2</th>\n",
       "      <td>01_magenkarzinom_0192_2</td>\n",
       "      <td>Vitamin D</td>\n",
       "      <td>Nutrient_or_Body_Substance</td>\n",
       "      <td>66</td>\n",
       "      <td>75</td>\n",
       "      <td>C0042866</td>\n",
       "      <td>[T121, T125, T127]</td>\n",
       "      <td>Vitamin D</td>\n",
       "      <td>[ngram, sapbert]</td>\n",
       "      <td>0.077968</td>\n",
       "    </tr>\n",
       "    <tr>\n",
       "      <th>3</th>\n",
       "      <td>01_magenkarzinom_0192_2</td>\n",
       "      <td>Erkrankungsinzidenz</td>\n",
       "      <td>Diagnosis_or_Pathology</td>\n",
       "      <td>125</td>\n",
       "      <td>144</td>\n",
       "      <td>C0012655</td>\n",
       "      <td>[T201]</td>\n",
       "      <td>Krankheitsanfälligkeit</td>\n",
       "      <td>[sapbert]</td>\n",
       "      <td>0.065035</td>\n",
       "    </tr>\n",
       "    <tr>\n",
       "      <th>4</th>\n",
       "      <td>01_magenkarzinom_0192_2</td>\n",
       "      <td>Erkrankungsprognose</td>\n",
       "      <td>Other_Finding</td>\n",
       "      <td>149</td>\n",
       "      <td>168</td>\n",
       "      <td>C0242656</td>\n",
       "      <td>[T046]</td>\n",
       "      <td>Krankheitsprogression</td>\n",
       "      <td>[ngram, sapbert]</td>\n",
       "      <td>0.071588</td>\n",
       "    </tr>\n",
       "  </tbody>\n",
       "</table>\n",
       "</div>"
      ],
      "text/plain": [
       "                  document                          text  \\\n",
       "0  01_magenkarzinom_0192_2                    Malignomen   \n",
       "1  01_magenkarzinom_0192_2  Mangelzustände von Vitamin D   \n",
       "2  01_magenkarzinom_0192_2                     Vitamin D   \n",
       "3  01_magenkarzinom_0192_2           Erkrankungsinzidenz   \n",
       "4  01_magenkarzinom_0192_2           Erkrankungsprognose   \n",
       "\n",
       "                         type  start  end       cui                tuis  \\\n",
       "0      Diagnosis_or_Pathology     36   46  C0205282              [T080]   \n",
       "1      Diagnosis_or_Pathology     47   75  C0042870              [T047]   \n",
       "2  Nutrient_or_Body_Substance     66   75  C0042866  [T121, T125, T127]   \n",
       "3      Diagnosis_or_Pathology    125  144  C0012655              [T201]   \n",
       "4               Other_Finding    149  168  C0242656              [T046]   \n",
       "\n",
       "                canonical            linker  confidence  \n",
       "0               Malignant  [ngram, sapbert]    0.078865  \n",
       "1        Vitamin-D-Mangel  [ngram, sapbert]    0.072261  \n",
       "2               Vitamin D  [ngram, sapbert]    0.077968  \n",
       "3  Krankheitsanfälligkeit         [sapbert]    0.065035  \n",
       "4   Krankheitsprogression  [ngram, sapbert]    0.071588  "
      ]
     },
     "metadata": {},
     "output_type": "display_data"
    },
    {
     "name": "stdout",
     "output_type": "stream",
     "text": [
      "Difference 2\n"
     ]
    },
    {
     "data": {
      "text/markdown": [
       "Insbesondere Antioxidantien können die Wirkung von Chemo- und Strahlentherapie abschwächen."
      ],
      "text/plain": [
       "<IPython.core.display.Markdown object>"
      ]
     },
     "metadata": {},
     "output_type": "display_data"
    },
    {
     "data": {
      "text/markdown": [
       "Insbesondere Antioxidantien können die Wirkung von Chemotherapie und Strahlentherapie abschwächen."
      ],
      "text/plain": [
       "<IPython.core.display.Markdown object>"
      ]
     },
     "metadata": {},
     "output_type": "display_data"
    },
    {
     "data": {
      "text/html": [
       "<html><body><div>Insbesondere Antioxidantien können die Wirkung von Chemo<span style=\"background-color: red; text-decoration: line-through;\">-</span><span style=\"background-color: lightgreen;\">therapie</span> und Strahlentherapie abschwächen.</div></body></html>"
      ],
      "text/plain": [
       "<IPython.core.display.HTML object>"
      ]
     },
     "metadata": {},
     "output_type": "display_data"
    },
    {
     "data": {
      "application/vnd.jupyter.widget-view+json": {
       "model_id": "fb2839e8e5b943b0bdc767aa349fc618",
       "version_major": 2,
       "version_minor": 0
      },
      "text/plain": [
       "  0%|          | 0/1 [00:00<?, ?it/s]"
      ]
     },
     "metadata": {},
     "output_type": "display_data"
    },
    {
     "data": {
      "text/html": [
       "<div>\n",
       "<style scoped>\n",
       "    .dataframe tbody tr th:only-of-type {\n",
       "        vertical-align: middle;\n",
       "    }\n",
       "\n",
       "    .dataframe tbody tr th {\n",
       "        vertical-align: top;\n",
       "    }\n",
       "\n",
       "    .dataframe thead th {\n",
       "        text-align: right;\n",
       "    }\n",
       "</style>\n",
       "<table border=\"1\" class=\"dataframe\">\n",
       "  <thead>\n",
       "    <tr style=\"text-align: right;\">\n",
       "      <th></th>\n",
       "      <th>document</th>\n",
       "      <th>text</th>\n",
       "      <th>type</th>\n",
       "      <th>start</th>\n",
       "      <th>end</th>\n",
       "      <th>cui</th>\n",
       "      <th>tuis</th>\n",
       "      <th>canonical</th>\n",
       "      <th>linker</th>\n",
       "      <th>confidence</th>\n",
       "    </tr>\n",
       "  </thead>\n",
       "  <tbody>\n",
       "    <tr>\n",
       "      <th>0</th>\n",
       "      <td>01_magenkarzinom_0192_12</td>\n",
       "      <td>Antioxidantien</td>\n",
       "      <td>Nutrient_or_Body_Substance</td>\n",
       "      <td>13</td>\n",
       "      <td>27</td>\n",
       "      <td>C0003402</td>\n",
       "      <td>[T121]</td>\n",
       "      <td>Antioxydanzien</td>\n",
       "      <td>[ngram, sapbert]</td>\n",
       "      <td>0.139340</td>\n",
       "    </tr>\n",
       "    <tr>\n",
       "      <th>1</th>\n",
       "      <td>01_magenkarzinom_0192_12</td>\n",
       "      <td>Chemo-</td>\n",
       "      <td>Therapeutic</td>\n",
       "      <td>51</td>\n",
       "      <td>57</td>\n",
       "      <td>C3665472</td>\n",
       "      <td>[T061]</td>\n",
       "      <td>Chemotherapie</td>\n",
       "      <td>[ngram, sapbert]</td>\n",
       "      <td>0.090850</td>\n",
       "    </tr>\n",
       "    <tr>\n",
       "      <th>2</th>\n",
       "      <td>01_magenkarzinom_0192_12</td>\n",
       "      <td>Strahlentherapie</td>\n",
       "      <td>Therapeutic</td>\n",
       "      <td>62</td>\n",
       "      <td>78</td>\n",
       "      <td>C1522449</td>\n",
       "      <td>[T061]</td>\n",
       "      <td>Strahlentherapie</td>\n",
       "      <td>[ngram, sapbert]</td>\n",
       "      <td>0.140554</td>\n",
       "    </tr>\n",
       "  </tbody>\n",
       "</table>\n",
       "</div>"
      ],
      "text/plain": [
       "                   document              text                        type  \\\n",
       "0  01_magenkarzinom_0192_12    Antioxidantien  Nutrient_or_Body_Substance   \n",
       "1  01_magenkarzinom_0192_12            Chemo-                 Therapeutic   \n",
       "2  01_magenkarzinom_0192_12  Strahlentherapie                 Therapeutic   \n",
       "\n",
       "   start  end       cui    tuis         canonical            linker  \\\n",
       "0     13   27  C0003402  [T121]    Antioxydanzien  [ngram, sapbert]   \n",
       "1     51   57  C3665472  [T061]     Chemotherapie  [ngram, sapbert]   \n",
       "2     62   78  C1522449  [T061]  Strahlentherapie  [ngram, sapbert]   \n",
       "\n",
       "   confidence  \n",
       "0    0.139340  \n",
       "1    0.090850  \n",
       "2    0.140554  "
      ]
     },
     "metadata": {},
     "output_type": "display_data"
    },
    {
     "data": {
      "application/vnd.jupyter.widget-view+json": {
       "model_id": "bae0506d636848a4847a959224b28a0f",
       "version_major": 2,
       "version_minor": 0
      },
      "text/plain": [
       "  0%|          | 0/1 [00:00<?, ?it/s]"
      ]
     },
     "metadata": {},
     "output_type": "display_data"
    },
    {
     "data": {
      "text/html": [
       "<div>\n",
       "<style scoped>\n",
       "    .dataframe tbody tr th:only-of-type {\n",
       "        vertical-align: middle;\n",
       "    }\n",
       "\n",
       "    .dataframe tbody tr th {\n",
       "        vertical-align: top;\n",
       "    }\n",
       "\n",
       "    .dataframe thead th {\n",
       "        text-align: right;\n",
       "    }\n",
       "</style>\n",
       "<table border=\"1\" class=\"dataframe\">\n",
       "  <thead>\n",
       "    <tr style=\"text-align: right;\">\n",
       "      <th></th>\n",
       "      <th>document</th>\n",
       "      <th>text</th>\n",
       "      <th>type</th>\n",
       "      <th>start</th>\n",
       "      <th>end</th>\n",
       "      <th>cui</th>\n",
       "      <th>tuis</th>\n",
       "      <th>canonical</th>\n",
       "      <th>linker</th>\n",
       "      <th>confidence</th>\n",
       "    </tr>\n",
       "  </thead>\n",
       "  <tbody>\n",
       "    <tr>\n",
       "      <th>0</th>\n",
       "      <td>01_magenkarzinom_0192_12</td>\n",
       "      <td>Antioxidantien</td>\n",
       "      <td>Nutrient_or_Body_Substance</td>\n",
       "      <td>13</td>\n",
       "      <td>27</td>\n",
       "      <td>C0003402</td>\n",
       "      <td>[T121]</td>\n",
       "      <td>Antioxydanzien</td>\n",
       "      <td>[ngram, sapbert]</td>\n",
       "      <td>0.137946</td>\n",
       "    </tr>\n",
       "    <tr>\n",
       "      <th>1</th>\n",
       "      <td>01_magenkarzinom_0192_12</td>\n",
       "      <td>Chemotherapie</td>\n",
       "      <td>Therapeutic</td>\n",
       "      <td>51</td>\n",
       "      <td>64</td>\n",
       "      <td>C3665472</td>\n",
       "      <td>[T061]</td>\n",
       "      <td>Chemotherapie</td>\n",
       "      <td>[ngram, sapbert]</td>\n",
       "      <td>0.108496</td>\n",
       "    </tr>\n",
       "    <tr>\n",
       "      <th>2</th>\n",
       "      <td>01_magenkarzinom_0192_12</td>\n",
       "      <td>Strahlentherapie</td>\n",
       "      <td>Therapeutic</td>\n",
       "      <td>69</td>\n",
       "      <td>85</td>\n",
       "      <td>C1522449</td>\n",
       "      <td>[T061]</td>\n",
       "      <td>Strahlentherapie</td>\n",
       "      <td>[ngram, sapbert]</td>\n",
       "      <td>0.138481</td>\n",
       "    </tr>\n",
       "  </tbody>\n",
       "</table>\n",
       "</div>"
      ],
      "text/plain": [
       "                   document              text                        type  \\\n",
       "0  01_magenkarzinom_0192_12    Antioxidantien  Nutrient_or_Body_Substance   \n",
       "1  01_magenkarzinom_0192_12     Chemotherapie                 Therapeutic   \n",
       "2  01_magenkarzinom_0192_12  Strahlentherapie                 Therapeutic   \n",
       "\n",
       "   start  end       cui    tuis         canonical            linker  \\\n",
       "0     13   27  C0003402  [T121]    Antioxydanzien  [ngram, sapbert]   \n",
       "1     51   64  C3665472  [T061]     Chemotherapie  [ngram, sapbert]   \n",
       "2     69   85  C1522449  [T061]  Strahlentherapie  [ngram, sapbert]   \n",
       "\n",
       "   confidence  \n",
       "0    0.137946  \n",
       "1    0.108496  \n",
       "2    0.138481  "
      ]
     },
     "metadata": {},
     "output_type": "display_data"
    },
    {
     "name": "stdout",
     "output_type": "stream",
     "text": [
      "Difference 3\n"
     ]
    },
    {
     "data": {
      "text/markdown": [
       "Hierzu gehören die Vitamine C und E sowie Betacarotin."
      ],
      "text/plain": [
       "<IPython.core.display.Markdown object>"
      ]
     },
     "metadata": {},
     "output_type": "display_data"
    },
    {
     "data": {
      "text/markdown": [
       "Hierzu gehören die Vitamine C und Vitamine E sowie Betacarotin."
      ],
      "text/plain": [
       "<IPython.core.display.Markdown object>"
      ]
     },
     "metadata": {},
     "output_type": "display_data"
    },
    {
     "data": {
      "text/html": [
       "<html><body><div>Hierzu gehören die Vitamine C und <span style=\"background-color: lightgreen;\">Vitamine </span>E sowie Betacarotin.</div></body></html>"
      ],
      "text/plain": [
       "<IPython.core.display.HTML object>"
      ]
     },
     "metadata": {},
     "output_type": "display_data"
    },
    {
     "data": {
      "application/vnd.jupyter.widget-view+json": {
       "model_id": "4c57f9c2046b4ca384dc703740787cff",
       "version_major": 2,
       "version_minor": 0
      },
      "text/plain": [
       "  0%|          | 0/1 [00:00<?, ?it/s]"
      ]
     },
     "metadata": {},
     "output_type": "display_data"
    },
    {
     "data": {
      "text/html": [
       "<div>\n",
       "<style scoped>\n",
       "    .dataframe tbody tr th:only-of-type {\n",
       "        vertical-align: middle;\n",
       "    }\n",
       "\n",
       "    .dataframe tbody tr th {\n",
       "        vertical-align: top;\n",
       "    }\n",
       "\n",
       "    .dataframe thead th {\n",
       "        text-align: right;\n",
       "    }\n",
       "</style>\n",
       "<table border=\"1\" class=\"dataframe\">\n",
       "  <thead>\n",
       "    <tr style=\"text-align: right;\">\n",
       "      <th></th>\n",
       "      <th>document</th>\n",
       "      <th>text</th>\n",
       "      <th>type</th>\n",
       "      <th>start</th>\n",
       "      <th>end</th>\n",
       "      <th>cui</th>\n",
       "      <th>tuis</th>\n",
       "      <th>canonical</th>\n",
       "      <th>linker</th>\n",
       "      <th>confidence</th>\n",
       "    </tr>\n",
       "  </thead>\n",
       "  <tbody>\n",
       "    <tr>\n",
       "      <th>0</th>\n",
       "      <td>01_magenkarzinom_0192_13</td>\n",
       "      <td>Vitamine C</td>\n",
       "      <td>Nutrient_or_Body_Substance</td>\n",
       "      <td>19</td>\n",
       "      <td>29</td>\n",
       "      <td>C0003968</td>\n",
       "      <td>[T109, T121, T127]</td>\n",
       "      <td>Ascorbinsäure</td>\n",
       "      <td>[ngram, sapbert]</td>\n",
       "      <td>0.134796</td>\n",
       "    </tr>\n",
       "    <tr>\n",
       "      <th>1</th>\n",
       "      <td>01_magenkarzinom_0192_13</td>\n",
       "      <td>Vitamine C und E</td>\n",
       "      <td>Nutrient_or_Body_Substance</td>\n",
       "      <td>19</td>\n",
       "      <td>35</td>\n",
       "      <td>C0042874</td>\n",
       "      <td>[T109, T121, T127]</td>\n",
       "      <td>Vitamin E</td>\n",
       "      <td>[ngram, sapbert]</td>\n",
       "      <td>0.069408</td>\n",
       "    </tr>\n",
       "    <tr>\n",
       "      <th>2</th>\n",
       "      <td>01_magenkarzinom_0192_13</td>\n",
       "      <td>E</td>\n",
       "      <td>Nutrient_or_Body_Substance</td>\n",
       "      <td>34</td>\n",
       "      <td>35</td>\n",
       "      <td>C0439131</td>\n",
       "      <td>[T170]</td>\n",
       "      <td>Lower case Roman letter e (qualifier value)</td>\n",
       "      <td>[ngram, sapbert]</td>\n",
       "      <td>0.079268</td>\n",
       "    </tr>\n",
       "    <tr>\n",
       "      <th>3</th>\n",
       "      <td>01_magenkarzinom_0192_13</td>\n",
       "      <td>Betacarotin</td>\n",
       "      <td>Nutrient_or_Body_Substance</td>\n",
       "      <td>42</td>\n",
       "      <td>53</td>\n",
       "      <td>C0053396</td>\n",
       "      <td>[T109, T121, T127]</td>\n",
       "      <td>Beta-Carotin</td>\n",
       "      <td>[ngram, sapbert]</td>\n",
       "      <td>0.203045</td>\n",
       "    </tr>\n",
       "  </tbody>\n",
       "</table>\n",
       "</div>"
      ],
      "text/plain": [
       "                   document              text                        type  \\\n",
       "0  01_magenkarzinom_0192_13        Vitamine C  Nutrient_or_Body_Substance   \n",
       "1  01_magenkarzinom_0192_13  Vitamine C und E  Nutrient_or_Body_Substance   \n",
       "2  01_magenkarzinom_0192_13                 E  Nutrient_or_Body_Substance   \n",
       "3  01_magenkarzinom_0192_13       Betacarotin  Nutrient_or_Body_Substance   \n",
       "\n",
       "   start  end       cui                tuis  \\\n",
       "0     19   29  C0003968  [T109, T121, T127]   \n",
       "1     19   35  C0042874  [T109, T121, T127]   \n",
       "2     34   35  C0439131              [T170]   \n",
       "3     42   53  C0053396  [T109, T121, T127]   \n",
       "\n",
       "                                     canonical            linker  confidence  \n",
       "0                                Ascorbinsäure  [ngram, sapbert]    0.134796  \n",
       "1                                    Vitamin E  [ngram, sapbert]    0.069408  \n",
       "2  Lower case Roman letter e (qualifier value)  [ngram, sapbert]    0.079268  \n",
       "3                                 Beta-Carotin  [ngram, sapbert]    0.203045  "
      ]
     },
     "metadata": {},
     "output_type": "display_data"
    },
    {
     "data": {
      "application/vnd.jupyter.widget-view+json": {
       "model_id": "a706143176f642cc9beeb789b6149075",
       "version_major": 2,
       "version_minor": 0
      },
      "text/plain": [
       "  0%|          | 0/1 [00:00<?, ?it/s]"
      ]
     },
     "metadata": {},
     "output_type": "display_data"
    },
    {
     "data": {
      "text/html": [
       "<div>\n",
       "<style scoped>\n",
       "    .dataframe tbody tr th:only-of-type {\n",
       "        vertical-align: middle;\n",
       "    }\n",
       "\n",
       "    .dataframe tbody tr th {\n",
       "        vertical-align: top;\n",
       "    }\n",
       "\n",
       "    .dataframe thead th {\n",
       "        text-align: right;\n",
       "    }\n",
       "</style>\n",
       "<table border=\"1\" class=\"dataframe\">\n",
       "  <thead>\n",
       "    <tr style=\"text-align: right;\">\n",
       "      <th></th>\n",
       "      <th>document</th>\n",
       "      <th>text</th>\n",
       "      <th>type</th>\n",
       "      <th>start</th>\n",
       "      <th>end</th>\n",
       "      <th>cui</th>\n",
       "      <th>tuis</th>\n",
       "      <th>canonical</th>\n",
       "      <th>linker</th>\n",
       "      <th>confidence</th>\n",
       "    </tr>\n",
       "  </thead>\n",
       "  <tbody>\n",
       "    <tr>\n",
       "      <th>0</th>\n",
       "      <td>01_magenkarzinom_0192_13</td>\n",
       "      <td>Vitamine C</td>\n",
       "      <td>Nutrient_or_Body_Substance</td>\n",
       "      <td>19</td>\n",
       "      <td>29</td>\n",
       "      <td>C0003968</td>\n",
       "      <td>[T109, T121, T127]</td>\n",
       "      <td>Ascorbinsäure</td>\n",
       "      <td>[ngram, sapbert]</td>\n",
       "      <td>0.126339</td>\n",
       "    </tr>\n",
       "    <tr>\n",
       "      <th>1</th>\n",
       "      <td>01_magenkarzinom_0192_13</td>\n",
       "      <td>Vitamine E</td>\n",
       "      <td>Nutrient_or_Body_Substance</td>\n",
       "      <td>34</td>\n",
       "      <td>44</td>\n",
       "      <td>C0042874</td>\n",
       "      <td>[T109, T121, T127]</td>\n",
       "      <td>Vitamin E</td>\n",
       "      <td>[ngram, sapbert]</td>\n",
       "      <td>0.074293</td>\n",
       "    </tr>\n",
       "    <tr>\n",
       "      <th>2</th>\n",
       "      <td>01_magenkarzinom_0192_13</td>\n",
       "      <td>Betacarotin</td>\n",
       "      <td>Nutrient_or_Body_Substance</td>\n",
       "      <td>51</td>\n",
       "      <td>62</td>\n",
       "      <td>C0053396</td>\n",
       "      <td>[T109, T121, T127]</td>\n",
       "      <td>Beta-Carotin</td>\n",
       "      <td>[ngram, sapbert]</td>\n",
       "      <td>0.194001</td>\n",
       "    </tr>\n",
       "  </tbody>\n",
       "</table>\n",
       "</div>"
      ],
      "text/plain": [
       "                   document         text                        type  start  \\\n",
       "0  01_magenkarzinom_0192_13   Vitamine C  Nutrient_or_Body_Substance     19   \n",
       "1  01_magenkarzinom_0192_13   Vitamine E  Nutrient_or_Body_Substance     34   \n",
       "2  01_magenkarzinom_0192_13  Betacarotin  Nutrient_or_Body_Substance     51   \n",
       "\n",
       "   end       cui                tuis      canonical            linker  \\\n",
       "0   29  C0003968  [T109, T121, T127]  Ascorbinsäure  [ngram, sapbert]   \n",
       "1   44  C0042874  [T109, T121, T127]      Vitamin E  [ngram, sapbert]   \n",
       "2   62  C0053396  [T109, T121, T127]   Beta-Carotin  [ngram, sapbert]   \n",
       "\n",
       "   confidence  \n",
       "0    0.126339  \n",
       "1    0.074293  \n",
       "2    0.194001  "
      ]
     },
     "metadata": {},
     "output_type": "display_data"
    },
    {
     "name": "stdout",
     "output_type": "stream",
     "text": [
      "Difference 4\n"
     ]
    },
    {
     "data": {
      "text/markdown": [
       "Bei nachgewiesenem oder mit der Krankheitssituation des Patienten regelhaft einhergehenden Mangelsituationen (Beispiel Vitamin B12) ist eine Substitution orientiert am physiologischen Bedarf und den Zufuhr- und Resorptionsmöglichkeiten des Patienten erforderlich."
      ],
      "text/plain": [
       "<IPython.core.display.Markdown object>"
      ]
     },
     "metadata": {},
     "output_type": "display_data"
    },
    {
     "data": {
      "text/markdown": [
       "Bei nachgewiesenem oder mit der Krankheitssituation des Patienten regelhaft einhergehenden Mangelsituationen (Beispiel Vitamin B12) ist eine Substitution orientiert am physiologischen Bedarf und den Zufuhrmöglichkeiten und Resorptionsmöglichkeiten des Patienten erforderlich."
      ],
      "text/plain": [
       "<IPython.core.display.Markdown object>"
      ]
     },
     "metadata": {},
     "output_type": "display_data"
    },
    {
     "data": {
      "text/html": [
       "<html><body><div>Bei nachgewiesenem oder mit der Krankheitssituation des Patienten regelhaft einhergehenden Mangelsituationen (Beispiel Vitamin B12) ist eine Substitution orientiert am physiologischen Bedarf und den Zufuhr<span style=\"background-color: red; text-decoration: line-through;\">-</span><span style=\"background-color: lightgreen;\">möglichkeiten</span> und Resorptionsmöglichkeiten des Patienten erforderlich.</div></body></html>"
      ],
      "text/plain": [
       "<IPython.core.display.HTML object>"
      ]
     },
     "metadata": {},
     "output_type": "display_data"
    },
    {
     "data": {
      "application/vnd.jupyter.widget-view+json": {
       "model_id": "cf4444761b954c429d456ae1abf898a6",
       "version_major": 2,
       "version_minor": 0
      },
      "text/plain": [
       "  0%|          | 0/1 [00:00<?, ?it/s]"
      ]
     },
     "metadata": {},
     "output_type": "display_data"
    },
    {
     "data": {
      "text/html": [
       "<div>\n",
       "<style scoped>\n",
       "    .dataframe tbody tr th:only-of-type {\n",
       "        vertical-align: middle;\n",
       "    }\n",
       "\n",
       "    .dataframe tbody tr th {\n",
       "        vertical-align: top;\n",
       "    }\n",
       "\n",
       "    .dataframe thead th {\n",
       "        text-align: right;\n",
       "    }\n",
       "</style>\n",
       "<table border=\"1\" class=\"dataframe\">\n",
       "  <thead>\n",
       "    <tr style=\"text-align: right;\">\n",
       "      <th></th>\n",
       "      <th>document</th>\n",
       "      <th>text</th>\n",
       "      <th>type</th>\n",
       "      <th>start</th>\n",
       "      <th>end</th>\n",
       "      <th>cui</th>\n",
       "      <th>tuis</th>\n",
       "      <th>canonical</th>\n",
       "      <th>linker</th>\n",
       "      <th>confidence</th>\n",
       "    </tr>\n",
       "  </thead>\n",
       "  <tbody>\n",
       "    <tr>\n",
       "      <th>0</th>\n",
       "      <td>01_magenkarzinom_0192_18</td>\n",
       "      <td>nachgewiesenem oder mit der Krankheitssituation</td>\n",
       "      <td>Diagnosis_or_Pathology</td>\n",
       "      <td>4</td>\n",
       "      <td>51</td>\n",
       "      <td>C3887610</td>\n",
       "      <td>[T033]</td>\n",
       "      <td>Disease related state (finding)</td>\n",
       "      <td>[sapbert]</td>\n",
       "      <td>0.065285</td>\n",
       "    </tr>\n",
       "    <tr>\n",
       "      <th>1</th>\n",
       "      <td>01_magenkarzinom_0192_18</td>\n",
       "      <td>regelhaft einhergehenden Mangelsituationen</td>\n",
       "      <td>Diagnosis_or_Pathology</td>\n",
       "      <td>66</td>\n",
       "      <td>108</td>\n",
       "      <td>C0520966</td>\n",
       "      <td>[T033]</td>\n",
       "      <td>Dyskoordination</td>\n",
       "      <td>[ngram, sapbert]</td>\n",
       "      <td>0.063747</td>\n",
       "    </tr>\n",
       "    <tr>\n",
       "      <th>2</th>\n",
       "      <td>01_magenkarzinom_0192_18</td>\n",
       "      <td>Vitamin B12</td>\n",
       "      <td>Nutrient_or_Body_Substance</td>\n",
       "      <td>119</td>\n",
       "      <td>130</td>\n",
       "      <td>C0042845</td>\n",
       "      <td>[T109, T121, T127]</td>\n",
       "      <td>Vitamin B12</td>\n",
       "      <td>[ngram, sapbert]</td>\n",
       "      <td>0.124395</td>\n",
       "    </tr>\n",
       "    <tr>\n",
       "      <th>3</th>\n",
       "      <td>01_magenkarzinom_0192_18</td>\n",
       "      <td>Substitution</td>\n",
       "      <td>Therapeutic</td>\n",
       "      <td>141</td>\n",
       "      <td>153</td>\n",
       "      <td>C2936279</td>\n",
       "      <td>[T058]</td>\n",
       "      <td>Drug Substitution</td>\n",
       "      <td>[ngram, sapbert]</td>\n",
       "      <td>0.072037</td>\n",
       "    </tr>\n",
       "    <tr>\n",
       "      <th>4</th>\n",
       "      <td>01_magenkarzinom_0192_18</td>\n",
       "      <td>physiologischen Bedarf</td>\n",
       "      <td>Other_Finding</td>\n",
       "      <td>168</td>\n",
       "      <td>190</td>\n",
       "      <td>C0028719</td>\n",
       "      <td>[T032]</td>\n",
       "      <td>Nutritional Requirements</td>\n",
       "      <td>[sapbert]</td>\n",
       "      <td>0.066891</td>\n",
       "    </tr>\n",
       "    <tr>\n",
       "      <th>5</th>\n",
       "      <td>01_magenkarzinom_0192_18</td>\n",
       "      <td>Zufuhr-</td>\n",
       "      <td>Other_Finding</td>\n",
       "      <td>199</td>\n",
       "      <td>206</td>\n",
       "      <td>C0013470</td>\n",
       "      <td>[T040]</td>\n",
       "      <td>Essen</td>\n",
       "      <td>[sapbert]</td>\n",
       "      <td>0.070076</td>\n",
       "    </tr>\n",
       "    <tr>\n",
       "      <th>6</th>\n",
       "      <td>01_magenkarzinom_0192_18</td>\n",
       "      <td>Resorptionsmöglichkeiten</td>\n",
       "      <td>Other_Finding</td>\n",
       "      <td>211</td>\n",
       "      <td>235</td>\n",
       "      <td>C2985494</td>\n",
       "      <td>[T040]</td>\n",
       "      <td>Resorption</td>\n",
       "      <td>[ngram, sapbert]</td>\n",
       "      <td>0.066815</td>\n",
       "    </tr>\n",
       "  </tbody>\n",
       "</table>\n",
       "</div>"
      ],
      "text/plain": [
       "                   document                                             text  \\\n",
       "0  01_magenkarzinom_0192_18  nachgewiesenem oder mit der Krankheitssituation   \n",
       "1  01_magenkarzinom_0192_18       regelhaft einhergehenden Mangelsituationen   \n",
       "2  01_magenkarzinom_0192_18                                      Vitamin B12   \n",
       "3  01_magenkarzinom_0192_18                                     Substitution   \n",
       "4  01_magenkarzinom_0192_18                           physiologischen Bedarf   \n",
       "5  01_magenkarzinom_0192_18                                          Zufuhr-   \n",
       "6  01_magenkarzinom_0192_18                         Resorptionsmöglichkeiten   \n",
       "\n",
       "                         type  start  end       cui                tuis  \\\n",
       "0      Diagnosis_or_Pathology      4   51  C3887610              [T033]   \n",
       "1      Diagnosis_or_Pathology     66  108  C0520966              [T033]   \n",
       "2  Nutrient_or_Body_Substance    119  130  C0042845  [T109, T121, T127]   \n",
       "3                 Therapeutic    141  153  C2936279              [T058]   \n",
       "4               Other_Finding    168  190  C0028719              [T032]   \n",
       "5               Other_Finding    199  206  C0013470              [T040]   \n",
       "6               Other_Finding    211  235  C2985494              [T040]   \n",
       "\n",
       "                         canonical            linker  confidence  \n",
       "0  Disease related state (finding)         [sapbert]    0.065285  \n",
       "1                  Dyskoordination  [ngram, sapbert]    0.063747  \n",
       "2                      Vitamin B12  [ngram, sapbert]    0.124395  \n",
       "3                Drug Substitution  [ngram, sapbert]    0.072037  \n",
       "4         Nutritional Requirements         [sapbert]    0.066891  \n",
       "5                            Essen         [sapbert]    0.070076  \n",
       "6                       Resorption  [ngram, sapbert]    0.066815  "
      ]
     },
     "metadata": {},
     "output_type": "display_data"
    },
    {
     "data": {
      "application/vnd.jupyter.widget-view+json": {
       "model_id": "de6f61107c19497dbd616ed3b068f344",
       "version_major": 2,
       "version_minor": 0
      },
      "text/plain": [
       "  0%|          | 0/1 [00:00<?, ?it/s]"
      ]
     },
     "metadata": {},
     "output_type": "display_data"
    },
    {
     "data": {
      "text/html": [
       "<div>\n",
       "<style scoped>\n",
       "    .dataframe tbody tr th:only-of-type {\n",
       "        vertical-align: middle;\n",
       "    }\n",
       "\n",
       "    .dataframe tbody tr th {\n",
       "        vertical-align: top;\n",
       "    }\n",
       "\n",
       "    .dataframe thead th {\n",
       "        text-align: right;\n",
       "    }\n",
       "</style>\n",
       "<table border=\"1\" class=\"dataframe\">\n",
       "  <thead>\n",
       "    <tr style=\"text-align: right;\">\n",
       "      <th></th>\n",
       "      <th>document</th>\n",
       "      <th>text</th>\n",
       "      <th>type</th>\n",
       "      <th>start</th>\n",
       "      <th>end</th>\n",
       "      <th>cui</th>\n",
       "      <th>tuis</th>\n",
       "      <th>canonical</th>\n",
       "      <th>linker</th>\n",
       "      <th>confidence</th>\n",
       "    </tr>\n",
       "  </thead>\n",
       "  <tbody>\n",
       "    <tr>\n",
       "      <th>0</th>\n",
       "      <td>01_magenkarzinom_0192_18</td>\n",
       "      <td>nachgewiesenem oder mit der Krankheitssituation</td>\n",
       "      <td>Diagnosis_or_Pathology</td>\n",
       "      <td>4</td>\n",
       "      <td>51</td>\n",
       "      <td>C3887610</td>\n",
       "      <td>[T033]</td>\n",
       "      <td>Disease related state (finding)</td>\n",
       "      <td>[sapbert]</td>\n",
       "      <td>0.065285</td>\n",
       "    </tr>\n",
       "    <tr>\n",
       "      <th>1</th>\n",
       "      <td>01_magenkarzinom_0192_18</td>\n",
       "      <td>regelhaft einhergehenden Mangelsituationen</td>\n",
       "      <td>Diagnosis_or_Pathology</td>\n",
       "      <td>66</td>\n",
       "      <td>108</td>\n",
       "      <td>C0520966</td>\n",
       "      <td>[T033]</td>\n",
       "      <td>Dyskoordination</td>\n",
       "      <td>[ngram, sapbert]</td>\n",
       "      <td>0.063714</td>\n",
       "    </tr>\n",
       "    <tr>\n",
       "      <th>2</th>\n",
       "      <td>01_magenkarzinom_0192_18</td>\n",
       "      <td>Vitamin B12</td>\n",
       "      <td>Nutrient_or_Body_Substance</td>\n",
       "      <td>119</td>\n",
       "      <td>130</td>\n",
       "      <td>C0042845</td>\n",
       "      <td>[T109, T121, T127]</td>\n",
       "      <td>Vitamin B12</td>\n",
       "      <td>[ngram, sapbert]</td>\n",
       "      <td>0.123965</td>\n",
       "    </tr>\n",
       "    <tr>\n",
       "      <th>3</th>\n",
       "      <td>01_magenkarzinom_0192_18</td>\n",
       "      <td>Substitution</td>\n",
       "      <td>Therapeutic</td>\n",
       "      <td>141</td>\n",
       "      <td>153</td>\n",
       "      <td>C2936279</td>\n",
       "      <td>[T058]</td>\n",
       "      <td>Drug Substitution</td>\n",
       "      <td>[ngram, sapbert]</td>\n",
       "      <td>0.072232</td>\n",
       "    </tr>\n",
       "    <tr>\n",
       "      <th>4</th>\n",
       "      <td>01_magenkarzinom_0192_18</td>\n",
       "      <td>physiologischen Bedarf</td>\n",
       "      <td>Other_Finding</td>\n",
       "      <td>168</td>\n",
       "      <td>190</td>\n",
       "      <td>C0028719</td>\n",
       "      <td>[T032]</td>\n",
       "      <td>Nutritional Requirements</td>\n",
       "      <td>[sapbert]</td>\n",
       "      <td>0.066736</td>\n",
       "    </tr>\n",
       "    <tr>\n",
       "      <th>5</th>\n",
       "      <td>01_magenkarzinom_0192_18</td>\n",
       "      <td>Zufuhrmöglichkeiten</td>\n",
       "      <td>Other_Finding</td>\n",
       "      <td>199</td>\n",
       "      <td>218</td>\n",
       "      <td>C0028722</td>\n",
       "      <td>[T080]</td>\n",
       "      <td>Nutritive Value</td>\n",
       "      <td>[sapbert]</td>\n",
       "      <td>0.066207</td>\n",
       "    </tr>\n",
       "    <tr>\n",
       "      <th>6</th>\n",
       "      <td>01_magenkarzinom_0192_18</td>\n",
       "      <td>Resorptionsmöglichkeiten</td>\n",
       "      <td>Other_Finding</td>\n",
       "      <td>223</td>\n",
       "      <td>247</td>\n",
       "      <td>C2985494</td>\n",
       "      <td>[T040]</td>\n",
       "      <td>Resorption</td>\n",
       "      <td>[ngram, sapbert]</td>\n",
       "      <td>0.068145</td>\n",
       "    </tr>\n",
       "  </tbody>\n",
       "</table>\n",
       "</div>"
      ],
      "text/plain": [
       "                   document                                             text  \\\n",
       "0  01_magenkarzinom_0192_18  nachgewiesenem oder mit der Krankheitssituation   \n",
       "1  01_magenkarzinom_0192_18       regelhaft einhergehenden Mangelsituationen   \n",
       "2  01_magenkarzinom_0192_18                                      Vitamin B12   \n",
       "3  01_magenkarzinom_0192_18                                     Substitution   \n",
       "4  01_magenkarzinom_0192_18                           physiologischen Bedarf   \n",
       "5  01_magenkarzinom_0192_18                              Zufuhrmöglichkeiten   \n",
       "6  01_magenkarzinom_0192_18                         Resorptionsmöglichkeiten   \n",
       "\n",
       "                         type  start  end       cui                tuis  \\\n",
       "0      Diagnosis_or_Pathology      4   51  C3887610              [T033]   \n",
       "1      Diagnosis_or_Pathology     66  108  C0520966              [T033]   \n",
       "2  Nutrient_or_Body_Substance    119  130  C0042845  [T109, T121, T127]   \n",
       "3                 Therapeutic    141  153  C2936279              [T058]   \n",
       "4               Other_Finding    168  190  C0028719              [T032]   \n",
       "5               Other_Finding    199  218  C0028722              [T080]   \n",
       "6               Other_Finding    223  247  C2985494              [T040]   \n",
       "\n",
       "                         canonical            linker  confidence  \n",
       "0  Disease related state (finding)         [sapbert]    0.065285  \n",
       "1                  Dyskoordination  [ngram, sapbert]    0.063714  \n",
       "2                      Vitamin B12  [ngram, sapbert]    0.123965  \n",
       "3                Drug Substitution  [ngram, sapbert]    0.072232  \n",
       "4         Nutritional Requirements         [sapbert]    0.066736  \n",
       "5                  Nutritive Value         [sapbert]    0.066207  \n",
       "6                       Resorption  [ngram, sapbert]    0.068145  "
      ]
     },
     "metadata": {},
     "output_type": "display_data"
    },
    {
     "name": "stdout",
     "output_type": "stream",
     "text": [
      "Difference 5\n"
     ]
    },
    {
     "data": {
      "text/markdown": [
       "Zu uterinen Karzinomen (Endometrium- und Zervixkarzinom) existiert eine multizentrische, randomisierte Phase-3-Studie, die die Auswirkungen einer Supplementation von Natriumselenit auf die unerwünschten Wirkungen der Strahlentherapie untersuchte."
      ],
      "text/plain": [
       "<IPython.core.display.Markdown object>"
      ]
     },
     "metadata": {},
     "output_type": "display_data"
    },
    {
     "data": {
      "text/markdown": [
       "Zu uterinen Karzinomen (Endometriumkarzinom und Zervixkarzinom) existiert eine multizentrische, randomisierte Phase-3-Studie, die die Auswirkungen einer Supplementation von Natriumselenit auf die unerwünschten Wirkungen der Strahlentherapie untersuchte."
      ],
      "text/plain": [
       "<IPython.core.display.Markdown object>"
      ]
     },
     "metadata": {},
     "output_type": "display_data"
    },
    {
     "data": {
      "text/html": [
       "<html><body><div>Zu uterinen Karzinomen (Endometrium<span style=\"background-color: red; text-decoration: line-through;\">-</span><span style=\"background-color: lightgreen;\">karzinom</span> und Zervixkarzinom) existiert eine multizentrische, randomisierte Phase-3-Studie, die die Auswirkungen einer Supplementation von Natriumselenit auf die unerwünschten Wirkungen der Strahlentherapie untersuchte.</div></body></html>"
      ],
      "text/plain": [
       "<IPython.core.display.HTML object>"
      ]
     },
     "metadata": {},
     "output_type": "display_data"
    },
    {
     "data": {
      "application/vnd.jupyter.widget-view+json": {
       "model_id": "bfa35d4c7e22425c8bd7a860a0533589",
       "version_major": 2,
       "version_minor": 0
      },
      "text/plain": [
       "  0%|          | 0/1 [00:00<?, ?it/s]"
      ]
     },
     "metadata": {},
     "output_type": "display_data"
    },
    {
     "data": {
      "text/html": [
       "<div>\n",
       "<style scoped>\n",
       "    .dataframe tbody tr th:only-of-type {\n",
       "        vertical-align: middle;\n",
       "    }\n",
       "\n",
       "    .dataframe tbody tr th {\n",
       "        vertical-align: top;\n",
       "    }\n",
       "\n",
       "    .dataframe thead th {\n",
       "        text-align: right;\n",
       "    }\n",
       "</style>\n",
       "<table border=\"1\" class=\"dataframe\">\n",
       "  <thead>\n",
       "    <tr style=\"text-align: right;\">\n",
       "      <th></th>\n",
       "      <th>document</th>\n",
       "      <th>text</th>\n",
       "      <th>type</th>\n",
       "      <th>start</th>\n",
       "      <th>end</th>\n",
       "      <th>cui</th>\n",
       "      <th>tuis</th>\n",
       "      <th>canonical</th>\n",
       "      <th>linker</th>\n",
       "      <th>confidence</th>\n",
       "    </tr>\n",
       "  </thead>\n",
       "  <tbody>\n",
       "    <tr>\n",
       "      <th>0</th>\n",
       "      <td>05_zervixkarzinom_0265_11</td>\n",
       "      <td>uterinen Karzinomen</td>\n",
       "      <td>Diagnosis_or_Pathology</td>\n",
       "      <td>3</td>\n",
       "      <td>22</td>\n",
       "      <td>C0153567</td>\n",
       "      <td>[T191]</td>\n",
       "      <td>Krebs des Uterus</td>\n",
       "      <td>[ngram, sapbert]</td>\n",
       "      <td>0.076731</td>\n",
       "    </tr>\n",
       "    <tr>\n",
       "      <th>1</th>\n",
       "      <td>05_zervixkarzinom_0265_11</td>\n",
       "      <td>Endometrium-</td>\n",
       "      <td>Diagnosis_or_Pathology</td>\n",
       "      <td>24</td>\n",
       "      <td>36</td>\n",
       "      <td>C0014180</td>\n",
       "      <td>[T023]</td>\n",
       "      <td>Endometrium</td>\n",
       "      <td>[ngram, sapbert]</td>\n",
       "      <td>0.115464</td>\n",
       "    </tr>\n",
       "    <tr>\n",
       "      <th>2</th>\n",
       "      <td>05_zervixkarzinom_0265_11</td>\n",
       "      <td>Zervixkarzinom</td>\n",
       "      <td>Diagnosis_or_Pathology</td>\n",
       "      <td>41</td>\n",
       "      <td>55</td>\n",
       "      <td>C0302592</td>\n",
       "      <td>[T191]</td>\n",
       "      <td>Zervixkarzinom</td>\n",
       "      <td>[ngram, sapbert]</td>\n",
       "      <td>0.123141</td>\n",
       "    </tr>\n",
       "    <tr>\n",
       "      <th>3</th>\n",
       "      <td>05_zervixkarzinom_0265_11</td>\n",
       "      <td>Supplementation von Natriumselenit</td>\n",
       "      <td>Therapeutic</td>\n",
       "      <td>146</td>\n",
       "      <td>180</td>\n",
       "      <td>C0521939</td>\n",
       "      <td>[T121, T197]</td>\n",
       "      <td>Selenium supplement</td>\n",
       "      <td>[ngram, sapbert]</td>\n",
       "      <td>0.070027</td>\n",
       "    </tr>\n",
       "    <tr>\n",
       "      <th>4</th>\n",
       "      <td>05_zervixkarzinom_0265_11</td>\n",
       "      <td>Natriumselenit</td>\n",
       "      <td>Clinical_Drug</td>\n",
       "      <td>166</td>\n",
       "      <td>180</td>\n",
       "      <td>C0142923</td>\n",
       "      <td>[T121, T197]</td>\n",
       "      <td>Natriumselenit</td>\n",
       "      <td>[ngram, sapbert]</td>\n",
       "      <td>0.148524</td>\n",
       "    </tr>\n",
       "    <tr>\n",
       "      <th>5</th>\n",
       "      <td>05_zervixkarzinom_0265_11</td>\n",
       "      <td>unerwünschten Wirkungen der Strahlentherapie</td>\n",
       "      <td>Diagnosis_or_Pathology</td>\n",
       "      <td>189</td>\n",
       "      <td>233</td>\n",
       "      <td>C0392615</td>\n",
       "      <td>[T037]</td>\n",
       "      <td>Effect of radiation therapy</td>\n",
       "      <td>[sapbert]</td>\n",
       "      <td>0.075655</td>\n",
       "    </tr>\n",
       "    <tr>\n",
       "      <th>6</th>\n",
       "      <td>05_zervixkarzinom_0265_11</td>\n",
       "      <td>Strahlentherapie</td>\n",
       "      <td>Therapeutic</td>\n",
       "      <td>217</td>\n",
       "      <td>233</td>\n",
       "      <td>C1522449</td>\n",
       "      <td>[T061]</td>\n",
       "      <td>Strahlentherapie</td>\n",
       "      <td>[ngram, sapbert]</td>\n",
       "      <td>0.139603</td>\n",
       "    </tr>\n",
       "  </tbody>\n",
       "</table>\n",
       "</div>"
      ],
      "text/plain": [
       "                    document                                          text  \\\n",
       "0  05_zervixkarzinom_0265_11                           uterinen Karzinomen   \n",
       "1  05_zervixkarzinom_0265_11                                  Endometrium-   \n",
       "2  05_zervixkarzinom_0265_11                                Zervixkarzinom   \n",
       "3  05_zervixkarzinom_0265_11            Supplementation von Natriumselenit   \n",
       "4  05_zervixkarzinom_0265_11                                Natriumselenit   \n",
       "5  05_zervixkarzinom_0265_11  unerwünschten Wirkungen der Strahlentherapie   \n",
       "6  05_zervixkarzinom_0265_11                              Strahlentherapie   \n",
       "\n",
       "                     type  start  end       cui          tuis  \\\n",
       "0  Diagnosis_or_Pathology      3   22  C0153567        [T191]   \n",
       "1  Diagnosis_or_Pathology     24   36  C0014180        [T023]   \n",
       "2  Diagnosis_or_Pathology     41   55  C0302592        [T191]   \n",
       "3             Therapeutic    146  180  C0521939  [T121, T197]   \n",
       "4           Clinical_Drug    166  180  C0142923  [T121, T197]   \n",
       "5  Diagnosis_or_Pathology    189  233  C0392615        [T037]   \n",
       "6             Therapeutic    217  233  C1522449        [T061]   \n",
       "\n",
       "                     canonical            linker  confidence  \n",
       "0             Krebs des Uterus  [ngram, sapbert]    0.076731  \n",
       "1                  Endometrium  [ngram, sapbert]    0.115464  \n",
       "2               Zervixkarzinom  [ngram, sapbert]    0.123141  \n",
       "3          Selenium supplement  [ngram, sapbert]    0.070027  \n",
       "4               Natriumselenit  [ngram, sapbert]    0.148524  \n",
       "5  Effect of radiation therapy         [sapbert]    0.075655  \n",
       "6             Strahlentherapie  [ngram, sapbert]    0.139603  "
      ]
     },
     "metadata": {},
     "output_type": "display_data"
    },
    {
     "data": {
      "application/vnd.jupyter.widget-view+json": {
       "model_id": "31afa03cafa84270b53a3620f6f93f27",
       "version_major": 2,
       "version_minor": 0
      },
      "text/plain": [
       "  0%|          | 0/1 [00:00<?, ?it/s]"
      ]
     },
     "metadata": {},
     "output_type": "display_data"
    },
    {
     "data": {
      "text/html": [
       "<div>\n",
       "<style scoped>\n",
       "    .dataframe tbody tr th:only-of-type {\n",
       "        vertical-align: middle;\n",
       "    }\n",
       "\n",
       "    .dataframe tbody tr th {\n",
       "        vertical-align: top;\n",
       "    }\n",
       "\n",
       "    .dataframe thead th {\n",
       "        text-align: right;\n",
       "    }\n",
       "</style>\n",
       "<table border=\"1\" class=\"dataframe\">\n",
       "  <thead>\n",
       "    <tr style=\"text-align: right;\">\n",
       "      <th></th>\n",
       "      <th>document</th>\n",
       "      <th>text</th>\n",
       "      <th>type</th>\n",
       "      <th>start</th>\n",
       "      <th>end</th>\n",
       "      <th>cui</th>\n",
       "      <th>tuis</th>\n",
       "      <th>canonical</th>\n",
       "      <th>linker</th>\n",
       "      <th>confidence</th>\n",
       "    </tr>\n",
       "  </thead>\n",
       "  <tbody>\n",
       "    <tr>\n",
       "      <th>0</th>\n",
       "      <td>05_zervixkarzinom_0265_11</td>\n",
       "      <td>uterinen Karzinomen</td>\n",
       "      <td>Diagnosis_or_Pathology</td>\n",
       "      <td>3</td>\n",
       "      <td>22</td>\n",
       "      <td>C0153567</td>\n",
       "      <td>[T191]</td>\n",
       "      <td>Krebs des Uterus</td>\n",
       "      <td>[ngram, sapbert]</td>\n",
       "      <td>0.076976</td>\n",
       "    </tr>\n",
       "    <tr>\n",
       "      <th>1</th>\n",
       "      <td>05_zervixkarzinom_0265_11</td>\n",
       "      <td>Endometriumkarzinom</td>\n",
       "      <td>Diagnosis_or_Pathology</td>\n",
       "      <td>24</td>\n",
       "      <td>43</td>\n",
       "      <td>C0476089</td>\n",
       "      <td>[T191]</td>\n",
       "      <td>Endometriumkarzinom</td>\n",
       "      <td>[ngram, sapbert]</td>\n",
       "      <td>0.118525</td>\n",
       "    </tr>\n",
       "    <tr>\n",
       "      <th>2</th>\n",
       "      <td>05_zervixkarzinom_0265_11</td>\n",
       "      <td>Zervixkarzinom</td>\n",
       "      <td>Diagnosis_or_Pathology</td>\n",
       "      <td>48</td>\n",
       "      <td>62</td>\n",
       "      <td>C0302592</td>\n",
       "      <td>[T191]</td>\n",
       "      <td>Zervixkarzinom</td>\n",
       "      <td>[ngram, sapbert]</td>\n",
       "      <td>0.121492</td>\n",
       "    </tr>\n",
       "    <tr>\n",
       "      <th>3</th>\n",
       "      <td>05_zervixkarzinom_0265_11</td>\n",
       "      <td>Supplementation von Natriumselenit</td>\n",
       "      <td>Therapeutic</td>\n",
       "      <td>153</td>\n",
       "      <td>187</td>\n",
       "      <td>C0521939</td>\n",
       "      <td>[T121, T197]</td>\n",
       "      <td>Selenium supplement</td>\n",
       "      <td>[ngram, sapbert]</td>\n",
       "      <td>0.070570</td>\n",
       "    </tr>\n",
       "    <tr>\n",
       "      <th>4</th>\n",
       "      <td>05_zervixkarzinom_0265_11</td>\n",
       "      <td>Natriumselenit</td>\n",
       "      <td>Clinical_Drug</td>\n",
       "      <td>173</td>\n",
       "      <td>187</td>\n",
       "      <td>C0142923</td>\n",
       "      <td>[T121, T197]</td>\n",
       "      <td>Natriumselenit</td>\n",
       "      <td>[ngram, sapbert]</td>\n",
       "      <td>0.148524</td>\n",
       "    </tr>\n",
       "    <tr>\n",
       "      <th>5</th>\n",
       "      <td>05_zervixkarzinom_0265_11</td>\n",
       "      <td>unerwünschten Wirkungen der Strahlentherapie</td>\n",
       "      <td>Diagnosis_or_Pathology</td>\n",
       "      <td>196</td>\n",
       "      <td>240</td>\n",
       "      <td>C0392615</td>\n",
       "      <td>[T037]</td>\n",
       "      <td>Effect of radiation therapy</td>\n",
       "      <td>[sapbert]</td>\n",
       "      <td>0.075655</td>\n",
       "    </tr>\n",
       "    <tr>\n",
       "      <th>6</th>\n",
       "      <td>05_zervixkarzinom_0265_11</td>\n",
       "      <td>Strahlentherapie</td>\n",
       "      <td>Therapeutic</td>\n",
       "      <td>224</td>\n",
       "      <td>240</td>\n",
       "      <td>C1522449</td>\n",
       "      <td>[T061]</td>\n",
       "      <td>Strahlentherapie</td>\n",
       "      <td>[ngram, sapbert]</td>\n",
       "      <td>0.139603</td>\n",
       "    </tr>\n",
       "  </tbody>\n",
       "</table>\n",
       "</div>"
      ],
      "text/plain": [
       "                    document                                          text  \\\n",
       "0  05_zervixkarzinom_0265_11                           uterinen Karzinomen   \n",
       "1  05_zervixkarzinom_0265_11                           Endometriumkarzinom   \n",
       "2  05_zervixkarzinom_0265_11                                Zervixkarzinom   \n",
       "3  05_zervixkarzinom_0265_11            Supplementation von Natriumselenit   \n",
       "4  05_zervixkarzinom_0265_11                                Natriumselenit   \n",
       "5  05_zervixkarzinom_0265_11  unerwünschten Wirkungen der Strahlentherapie   \n",
       "6  05_zervixkarzinom_0265_11                              Strahlentherapie   \n",
       "\n",
       "                     type  start  end       cui          tuis  \\\n",
       "0  Diagnosis_or_Pathology      3   22  C0153567        [T191]   \n",
       "1  Diagnosis_or_Pathology     24   43  C0476089        [T191]   \n",
       "2  Diagnosis_or_Pathology     48   62  C0302592        [T191]   \n",
       "3             Therapeutic    153  187  C0521939  [T121, T197]   \n",
       "4           Clinical_Drug    173  187  C0142923  [T121, T197]   \n",
       "5  Diagnosis_or_Pathology    196  240  C0392615        [T037]   \n",
       "6             Therapeutic    224  240  C1522449        [T061]   \n",
       "\n",
       "                     canonical            linker  confidence  \n",
       "0             Krebs des Uterus  [ngram, sapbert]    0.076976  \n",
       "1          Endometriumkarzinom  [ngram, sapbert]    0.118525  \n",
       "2               Zervixkarzinom  [ngram, sapbert]    0.121492  \n",
       "3          Selenium supplement  [ngram, sapbert]    0.070570  \n",
       "4               Natriumselenit  [ngram, sapbert]    0.148524  \n",
       "5  Effect of radiation therapy         [sapbert]    0.075655  \n",
       "6             Strahlentherapie  [ngram, sapbert]    0.139603  "
      ]
     },
     "metadata": {},
     "output_type": "display_data"
    },
    {
     "name": "stdout",
     "output_type": "stream",
     "text": [
      "Difference 6\n"
     ]
    },
    {
     "data": {
      "text/markdown": [
       "Hinweise für ein ungünstigeres rezidivfreies und Gesamtüberleben fanden sich nicht."
      ],
      "text/plain": [
       "<IPython.core.display.Markdown object>"
      ]
     },
     "metadata": {},
     "output_type": "display_data"
    },
    {
     "data": {
      "text/markdown": [
       "Hinweise für ein ungünstigeres rezidivfreies Überleben und Gesamtüberleben fanden sich nicht."
      ],
      "text/plain": [
       "<IPython.core.display.Markdown object>"
      ]
     },
     "metadata": {},
     "output_type": "display_data"
    },
    {
     "data": {
      "text/html": [
       "<html><body><div>Hinweise für ein ungünstigeres rezidivfreies <span style=\"background-color: lightgreen;\">Überleben </span>und Gesamtüberleben fanden sich nicht.</div></body></html>"
      ],
      "text/plain": [
       "<IPython.core.display.HTML object>"
      ]
     },
     "metadata": {},
     "output_type": "display_data"
    },
    {
     "data": {
      "application/vnd.jupyter.widget-view+json": {
       "model_id": "82bb21d5737c4123bba306f73c7df124",
       "version_major": 2,
       "version_minor": 0
      },
      "text/plain": [
       "  0%|          | 0/1 [00:00<?, ?it/s]"
      ]
     },
     "metadata": {},
     "output_type": "display_data"
    },
    {
     "data": {
      "text/html": [
       "<div>\n",
       "<style scoped>\n",
       "    .dataframe tbody tr th:only-of-type {\n",
       "        vertical-align: middle;\n",
       "    }\n",
       "\n",
       "    .dataframe tbody tr th {\n",
       "        vertical-align: top;\n",
       "    }\n",
       "\n",
       "    .dataframe thead th {\n",
       "        text-align: right;\n",
       "    }\n",
       "</style>\n",
       "<table border=\"1\" class=\"dataframe\">\n",
       "  <thead>\n",
       "    <tr style=\"text-align: right;\">\n",
       "      <th></th>\n",
       "      <th>document</th>\n",
       "      <th>text</th>\n",
       "      <th>type</th>\n",
       "      <th>start</th>\n",
       "      <th>end</th>\n",
       "      <th>cui</th>\n",
       "      <th>tuis</th>\n",
       "      <th>canonical</th>\n",
       "      <th>linker</th>\n",
       "      <th>confidence</th>\n",
       "    </tr>\n",
       "  </thead>\n",
       "  <tbody>\n",
       "    <tr>\n",
       "      <th>0</th>\n",
       "      <td>05_zervixkarzinom_0265_14</td>\n",
       "      <td>ungünstigeres rezidivfreies und Gesamtüberleben</td>\n",
       "      <td>Other_Finding</td>\n",
       "      <td>17</td>\n",
       "      <td>64</td>\n",
       "      <td>C1711356</td>\n",
       "      <td>[T081]</td>\n",
       "      <td>Relative Survival</td>\n",
       "      <td>[sapbert]</td>\n",
       "      <td>0.100695</td>\n",
       "    </tr>\n",
       "  </tbody>\n",
       "</table>\n",
       "</div>"
      ],
      "text/plain": [
       "                    document                                             text  \\\n",
       "0  05_zervixkarzinom_0265_14  ungünstigeres rezidivfreies und Gesamtüberleben   \n",
       "\n",
       "            type  start  end       cui    tuis          canonical     linker  \\\n",
       "0  Other_Finding     17   64  C1711356  [T081]  Relative Survival  [sapbert]   \n",
       "\n",
       "   confidence  \n",
       "0    0.100695  "
      ]
     },
     "metadata": {},
     "output_type": "display_data"
    },
    {
     "data": {
      "application/vnd.jupyter.widget-view+json": {
       "model_id": "8e1ad7570ef949ce8f293ca273d83425",
       "version_major": 2,
       "version_minor": 0
      },
      "text/plain": [
       "  0%|          | 0/1 [00:00<?, ?it/s]"
      ]
     },
     "metadata": {},
     "output_type": "display_data"
    },
    {
     "data": {
      "text/html": [
       "<div>\n",
       "<style scoped>\n",
       "    .dataframe tbody tr th:only-of-type {\n",
       "        vertical-align: middle;\n",
       "    }\n",
       "\n",
       "    .dataframe tbody tr th {\n",
       "        vertical-align: top;\n",
       "    }\n",
       "\n",
       "    .dataframe thead th {\n",
       "        text-align: right;\n",
       "    }\n",
       "</style>\n",
       "<table border=\"1\" class=\"dataframe\">\n",
       "  <thead>\n",
       "    <tr style=\"text-align: right;\">\n",
       "      <th></th>\n",
       "      <th>document</th>\n",
       "      <th>text</th>\n",
       "      <th>type</th>\n",
       "      <th>start</th>\n",
       "      <th>end</th>\n",
       "      <th>cui</th>\n",
       "      <th>tuis</th>\n",
       "      <th>canonical</th>\n",
       "      <th>linker</th>\n",
       "      <th>confidence</th>\n",
       "    </tr>\n",
       "  </thead>\n",
       "  <tbody>\n",
       "    <tr>\n",
       "      <th>0</th>\n",
       "      <td>05_zervixkarzinom_0265_14</td>\n",
       "      <td>ungünstigeres rezidivfreies Überleben</td>\n",
       "      <td>Other_Finding</td>\n",
       "      <td>17</td>\n",
       "      <td>54</td>\n",
       "      <td>C2919733</td>\n",
       "      <td>[T033]</td>\n",
       "      <td>Surviving free of recurrence of neoplastic dis...</td>\n",
       "      <td>[sapbert]</td>\n",
       "      <td>0.071705</td>\n",
       "    </tr>\n",
       "    <tr>\n",
       "      <th>1</th>\n",
       "      <td>05_zervixkarzinom_0265_14</td>\n",
       "      <td>Gesamtüberleben</td>\n",
       "      <td>Other_Finding</td>\n",
       "      <td>59</td>\n",
       "      <td>74</td>\n",
       "      <td>C0038954</td>\n",
       "      <td>[T081]</td>\n",
       "      <td>Survival Rate</td>\n",
       "      <td>[ngram, sapbert]</td>\n",
       "      <td>0.076043</td>\n",
       "    </tr>\n",
       "  </tbody>\n",
       "</table>\n",
       "</div>"
      ],
      "text/plain": [
       "                    document                                   text  \\\n",
       "0  05_zervixkarzinom_0265_14  ungünstigeres rezidivfreies Überleben   \n",
       "1  05_zervixkarzinom_0265_14                        Gesamtüberleben   \n",
       "\n",
       "            type  start  end       cui    tuis  \\\n",
       "0  Other_Finding     17   54  C2919733  [T033]   \n",
       "1  Other_Finding     59   74  C0038954  [T081]   \n",
       "\n",
       "                                           canonical            linker  \\\n",
       "0  Surviving free of recurrence of neoplastic dis...         [sapbert]   \n",
       "1                                      Survival Rate  [ngram, sapbert]   \n",
       "\n",
       "   confidence  \n",
       "0    0.071705  \n",
       "1    0.076043  "
      ]
     },
     "metadata": {},
     "output_type": "display_data"
    },
    {
     "name": "stdout",
     "output_type": "stream",
     "text": [
      "Difference 7\n"
     ]
    },
    {
     "data": {
      "text/markdown": [
       "Auch hepatische Nebenwirkungen sind unter zielgerichteten und Immuntherapien häufig."
      ],
      "text/plain": [
       "<IPython.core.display.Markdown object>"
      ]
     },
     "metadata": {},
     "output_type": "display_data"
    },
    {
     "data": {
      "text/markdown": [
       "Auch hepatische Nebenwirkungen sind unter zielgerichteten Therapien und Immuntherapien häufig."
      ],
      "text/plain": [
       "<IPython.core.display.Markdown object>"
      ]
     },
     "metadata": {},
     "output_type": "display_data"
    },
    {
     "data": {
      "text/html": [
       "<html><body><div>Auch hepatische Nebenwirkungen sind unter zielgerichteten <span style=\"background-color: lightgreen;\">Therapien </span>und Immuntherapien häufig.</div></body></html>"
      ],
      "text/plain": [
       "<IPython.core.display.HTML object>"
      ]
     },
     "metadata": {},
     "output_type": "display_data"
    },
    {
     "data": {
      "application/vnd.jupyter.widget-view+json": {
       "model_id": "5725b72fa73b4348976d93aa738c80ad",
       "version_major": 2,
       "version_minor": 0
      },
      "text/plain": [
       "  0%|          | 0/1 [00:00<?, ?it/s]"
      ]
     },
     "metadata": {},
     "output_type": "display_data"
    },
    {
     "data": {
      "text/html": [
       "<div>\n",
       "<style scoped>\n",
       "    .dataframe tbody tr th:only-of-type {\n",
       "        vertical-align: middle;\n",
       "    }\n",
       "\n",
       "    .dataframe tbody tr th {\n",
       "        vertical-align: top;\n",
       "    }\n",
       "\n",
       "    .dataframe thead th {\n",
       "        text-align: right;\n",
       "    }\n",
       "</style>\n",
       "<table border=\"1\" class=\"dataframe\">\n",
       "  <thead>\n",
       "    <tr style=\"text-align: right;\">\n",
       "      <th></th>\n",
       "      <th>document</th>\n",
       "      <th>text</th>\n",
       "      <th>type</th>\n",
       "      <th>start</th>\n",
       "      <th>end</th>\n",
       "      <th>cui</th>\n",
       "      <th>tuis</th>\n",
       "      <th>canonical</th>\n",
       "      <th>linker</th>\n",
       "      <th>confidence</th>\n",
       "    </tr>\n",
       "  </thead>\n",
       "  <tbody>\n",
       "    <tr>\n",
       "      <th>0</th>\n",
       "      <td>07_malignes-melanom_0197_2</td>\n",
       "      <td>hepatische Nebenwirkungen</td>\n",
       "      <td>Diagnosis_or_Pathology</td>\n",
       "      <td>5</td>\n",
       "      <td>30</td>\n",
       "      <td>C0235378</td>\n",
       "      <td>[T037]</td>\n",
       "      <td>Lebertoxizitaet</td>\n",
       "      <td>[sapbert]</td>\n",
       "      <td>0.066954</td>\n",
       "    </tr>\n",
       "    <tr>\n",
       "      <th>1</th>\n",
       "      <td>07_malignes-melanom_0197_2</td>\n",
       "      <td>zielgerichteten</td>\n",
       "      <td>Therapeutic</td>\n",
       "      <td>42</td>\n",
       "      <td>57</td>\n",
       "      <td>C2699893</td>\n",
       "      <td>[T061]</td>\n",
       "      <td>Molecular Targeted Therapy</td>\n",
       "      <td>[ngram]</td>\n",
       "      <td>0.067461</td>\n",
       "    </tr>\n",
       "    <tr>\n",
       "      <th>2</th>\n",
       "      <td>07_malignes-melanom_0197_2</td>\n",
       "      <td>Immuntherapien</td>\n",
       "      <td>Therapeutic</td>\n",
       "      <td>62</td>\n",
       "      <td>76</td>\n",
       "      <td>C0021083</td>\n",
       "      <td>[T061]</td>\n",
       "      <td>Immuntherapie</td>\n",
       "      <td>[ngram, sapbert]</td>\n",
       "      <td>0.137149</td>\n",
       "    </tr>\n",
       "  </tbody>\n",
       "</table>\n",
       "</div>"
      ],
      "text/plain": [
       "                     document                       text  \\\n",
       "0  07_malignes-melanom_0197_2  hepatische Nebenwirkungen   \n",
       "1  07_malignes-melanom_0197_2            zielgerichteten   \n",
       "2  07_malignes-melanom_0197_2             Immuntherapien   \n",
       "\n",
       "                     type  start  end       cui    tuis  \\\n",
       "0  Diagnosis_or_Pathology      5   30  C0235378  [T037]   \n",
       "1             Therapeutic     42   57  C2699893  [T061]   \n",
       "2             Therapeutic     62   76  C0021083  [T061]   \n",
       "\n",
       "                    canonical            linker  confidence  \n",
       "0             Lebertoxizitaet         [sapbert]    0.066954  \n",
       "1  Molecular Targeted Therapy           [ngram]    0.067461  \n",
       "2               Immuntherapie  [ngram, sapbert]    0.137149  "
      ]
     },
     "metadata": {},
     "output_type": "display_data"
    },
    {
     "data": {
      "application/vnd.jupyter.widget-view+json": {
       "model_id": "2e9b54129e17437dac314acffa602d54",
       "version_major": 2,
       "version_minor": 0
      },
      "text/plain": [
       "  0%|          | 0/1 [00:00<?, ?it/s]"
      ]
     },
     "metadata": {},
     "output_type": "display_data"
    },
    {
     "data": {
      "text/html": [
       "<div>\n",
       "<style scoped>\n",
       "    .dataframe tbody tr th:only-of-type {\n",
       "        vertical-align: middle;\n",
       "    }\n",
       "\n",
       "    .dataframe tbody tr th {\n",
       "        vertical-align: top;\n",
       "    }\n",
       "\n",
       "    .dataframe thead th {\n",
       "        text-align: right;\n",
       "    }\n",
       "</style>\n",
       "<table border=\"1\" class=\"dataframe\">\n",
       "  <thead>\n",
       "    <tr style=\"text-align: right;\">\n",
       "      <th></th>\n",
       "      <th>document</th>\n",
       "      <th>text</th>\n",
       "      <th>type</th>\n",
       "      <th>start</th>\n",
       "      <th>end</th>\n",
       "      <th>cui</th>\n",
       "      <th>tuis</th>\n",
       "      <th>canonical</th>\n",
       "      <th>linker</th>\n",
       "      <th>confidence</th>\n",
       "    </tr>\n",
       "  </thead>\n",
       "  <tbody>\n",
       "    <tr>\n",
       "      <th>0</th>\n",
       "      <td>07_malignes-melanom_0197_2</td>\n",
       "      <td>hepatische Nebenwirkungen</td>\n",
       "      <td>Diagnosis_or_Pathology</td>\n",
       "      <td>5</td>\n",
       "      <td>30</td>\n",
       "      <td>C0235378</td>\n",
       "      <td>[T037]</td>\n",
       "      <td>Lebertoxizitaet</td>\n",
       "      <td>[sapbert]</td>\n",
       "      <td>0.066987</td>\n",
       "    </tr>\n",
       "    <tr>\n",
       "      <th>1</th>\n",
       "      <td>07_malignes-melanom_0197_2</td>\n",
       "      <td>zielgerichteten Therapien</td>\n",
       "      <td>Therapeutic</td>\n",
       "      <td>42</td>\n",
       "      <td>67</td>\n",
       "      <td>C2699893</td>\n",
       "      <td>[T061]</td>\n",
       "      <td>Molecular Targeted Therapy</td>\n",
       "      <td>[ngram, sapbert]</td>\n",
       "      <td>0.072630</td>\n",
       "    </tr>\n",
       "    <tr>\n",
       "      <th>2</th>\n",
       "      <td>07_malignes-melanom_0197_2</td>\n",
       "      <td>Immuntherapien</td>\n",
       "      <td>Therapeutic</td>\n",
       "      <td>72</td>\n",
       "      <td>86</td>\n",
       "      <td>C0021083</td>\n",
       "      <td>[T061]</td>\n",
       "      <td>Immuntherapie</td>\n",
       "      <td>[ngram, sapbert]</td>\n",
       "      <td>0.139838</td>\n",
       "    </tr>\n",
       "  </tbody>\n",
       "</table>\n",
       "</div>"
      ],
      "text/plain": [
       "                     document                       text  \\\n",
       "0  07_malignes-melanom_0197_2  hepatische Nebenwirkungen   \n",
       "1  07_malignes-melanom_0197_2  zielgerichteten Therapien   \n",
       "2  07_malignes-melanom_0197_2             Immuntherapien   \n",
       "\n",
       "                     type  start  end       cui    tuis  \\\n",
       "0  Diagnosis_or_Pathology      5   30  C0235378  [T037]   \n",
       "1             Therapeutic     42   67  C2699893  [T061]   \n",
       "2             Therapeutic     72   86  C0021083  [T061]   \n",
       "\n",
       "                    canonical            linker  confidence  \n",
       "0             Lebertoxizitaet         [sapbert]    0.066987  \n",
       "1  Molecular Targeted Therapy  [ngram, sapbert]    0.072630  \n",
       "2               Immuntherapie  [ngram, sapbert]    0.139838  "
      ]
     },
     "metadata": {},
     "output_type": "display_data"
    },
    {
     "name": "stdout",
     "output_type": "stream",
     "text": [
      "Difference 8\n"
     ]
    },
    {
     "data": {
      "text/markdown": [
       "BRAF/MEK-Inhibitoren führen insbesondere zu asymptomatischen Transaminasenerhöhungen bei etwa 30% der Patienten, Grad 3/4 Erhöhungen treten bei etwa 10% auf [REF], [REF]."
      ],
      "text/plain": [
       "<IPython.core.display.Markdown object>"
      ]
     },
     "metadata": {},
     "output_type": "display_data"
    },
    {
     "data": {
      "text/markdown": [
       "BRAF-Inhibitoren/MEK-Inhibitoren führen insbesondere zu asymptomatischen Transaminasenerhöhungen bei etwa 30% der Patienten, Grad 3 Erhöhungen/Grad 4 Erhöhungen treten bei etwa 10% auf [REF], [REF]."
      ],
      "text/plain": [
       "<IPython.core.display.Markdown object>"
      ]
     },
     "metadata": {},
     "output_type": "display_data"
    },
    {
     "data": {
      "text/html": [
       "<html><body><div>BRAF<span style=\"background-color: lightgreen;\">-Inhibitoren</span>/MEK-Inhibitoren führen insbesondere zu asymptomatischen Transaminasenerhöhungen bei etwa 30% der Patienten, Grad 3<span style=\"background-color: lightgreen;\"> Erhöhungen</span>/<span style=\"background-color: lightgreen;\">Grad </span>4 Erhöhungen treten bei etwa 10% auf [REF], [REF].</div></body></html>"
      ],
      "text/plain": [
       "<IPython.core.display.HTML object>"
      ]
     },
     "metadata": {},
     "output_type": "display_data"
    },
    {
     "data": {
      "application/vnd.jupyter.widget-view+json": {
       "model_id": "9f59bbc45f1845ada1eb4687d5069fde",
       "version_major": 2,
       "version_minor": 0
      },
      "text/plain": [
       "  0%|          | 0/1 [00:00<?, ?it/s]"
      ]
     },
     "metadata": {},
     "output_type": "display_data"
    },
    {
     "data": {
      "text/html": [
       "<div>\n",
       "<style scoped>\n",
       "    .dataframe tbody tr th:only-of-type {\n",
       "        vertical-align: middle;\n",
       "    }\n",
       "\n",
       "    .dataframe tbody tr th {\n",
       "        vertical-align: top;\n",
       "    }\n",
       "\n",
       "    .dataframe thead th {\n",
       "        text-align: right;\n",
       "    }\n",
       "</style>\n",
       "<table border=\"1\" class=\"dataframe\">\n",
       "  <thead>\n",
       "    <tr style=\"text-align: right;\">\n",
       "      <th></th>\n",
       "      <th>document</th>\n",
       "      <th>text</th>\n",
       "      <th>type</th>\n",
       "      <th>start</th>\n",
       "      <th>end</th>\n",
       "      <th>cui</th>\n",
       "      <th>tuis</th>\n",
       "      <th>canonical</th>\n",
       "      <th>linker</th>\n",
       "      <th>confidence</th>\n",
       "    </tr>\n",
       "  </thead>\n",
       "  <tbody>\n",
       "    <tr>\n",
       "      <th>0</th>\n",
       "      <td>07_malignes-melanom_0197_3</td>\n",
       "      <td>BRAF</td>\n",
       "      <td>Clinical_Drug</td>\n",
       "      <td>0</td>\n",
       "      <td>4</td>\n",
       "      <td>C1259929</td>\n",
       "      <td>[T116, T123]</td>\n",
       "      <td>94 kDa B-raf Protein</td>\n",
       "      <td>[ngram, sapbert]</td>\n",
       "      <td>0.077802</td>\n",
       "    </tr>\n",
       "    <tr>\n",
       "      <th>1</th>\n",
       "      <td>07_malignes-melanom_0197_3</td>\n",
       "      <td>MEK-Inhibitoren</td>\n",
       "      <td>Clinical_Drug</td>\n",
       "      <td>5</td>\n",
       "      <td>20</td>\n",
       "      <td>C2347168</td>\n",
       "      <td>[T121]</td>\n",
       "      <td>MAPKK Inhibitor</td>\n",
       "      <td>[ngram, sapbert]</td>\n",
       "      <td>0.112728</td>\n",
       "    </tr>\n",
       "    <tr>\n",
       "      <th>2</th>\n",
       "      <td>07_malignes-melanom_0197_3</td>\n",
       "      <td>asymptomatischen Transaminasenerhöhungen</td>\n",
       "      <td>Diagnosis_or_Pathology</td>\n",
       "      <td>44</td>\n",
       "      <td>84</td>\n",
       "      <td>C0438717</td>\n",
       "      <td>[T033]</td>\n",
       "      <td>Transaminasen erhoeht</td>\n",
       "      <td>[ngram, sapbert]</td>\n",
       "      <td>0.067316</td>\n",
       "    </tr>\n",
       "    <tr>\n",
       "      <th>3</th>\n",
       "      <td>07_malignes-melanom_0197_3</td>\n",
       "      <td>Grad 3</td>\n",
       "      <td>Diagnosis_or_Pathology</td>\n",
       "      <td>113</td>\n",
       "      <td>119</td>\n",
       "      <td>C0450094</td>\n",
       "      <td>[T033]</td>\n",
       "      <td>Grade 3</td>\n",
       "      <td>[ngram, sapbert]</td>\n",
       "      <td>0.116514</td>\n",
       "    </tr>\n",
       "    <tr>\n",
       "      <th>4</th>\n",
       "      <td>07_malignes-melanom_0197_3</td>\n",
       "      <td>Grad 3/4 Erhöhungen</td>\n",
       "      <td>Diagnosis_or_Pathology</td>\n",
       "      <td>113</td>\n",
       "      <td>132</td>\n",
       "      <td>C5548512</td>\n",
       "      <td>[T185]</td>\n",
       "      <td>Grade 4 on a scale of 1 to 4</td>\n",
       "      <td>[sapbert]</td>\n",
       "      <td>0.065514</td>\n",
       "    </tr>\n",
       "  </tbody>\n",
       "</table>\n",
       "</div>"
      ],
      "text/plain": [
       "                     document                                      text  \\\n",
       "0  07_malignes-melanom_0197_3                                      BRAF   \n",
       "1  07_malignes-melanom_0197_3                           MEK-Inhibitoren   \n",
       "2  07_malignes-melanom_0197_3  asymptomatischen Transaminasenerhöhungen   \n",
       "3  07_malignes-melanom_0197_3                                    Grad 3   \n",
       "4  07_malignes-melanom_0197_3                       Grad 3/4 Erhöhungen   \n",
       "\n",
       "                     type  start  end       cui          tuis  \\\n",
       "0           Clinical_Drug      0    4  C1259929  [T116, T123]   \n",
       "1           Clinical_Drug      5   20  C2347168        [T121]   \n",
       "2  Diagnosis_or_Pathology     44   84  C0438717        [T033]   \n",
       "3  Diagnosis_or_Pathology    113  119  C0450094        [T033]   \n",
       "4  Diagnosis_or_Pathology    113  132  C5548512        [T185]   \n",
       "\n",
       "                      canonical            linker  confidence  \n",
       "0          94 kDa B-raf Protein  [ngram, sapbert]    0.077802  \n",
       "1               MAPKK Inhibitor  [ngram, sapbert]    0.112728  \n",
       "2         Transaminasen erhoeht  [ngram, sapbert]    0.067316  \n",
       "3                       Grade 3  [ngram, sapbert]    0.116514  \n",
       "4  Grade 4 on a scale of 1 to 4         [sapbert]    0.065514  "
      ]
     },
     "metadata": {},
     "output_type": "display_data"
    },
    {
     "data": {
      "application/vnd.jupyter.widget-view+json": {
       "model_id": "20489a9804704909876a5fdff1bfc268",
       "version_major": 2,
       "version_minor": 0
      },
      "text/plain": [
       "  0%|          | 0/1 [00:00<?, ?it/s]"
      ]
     },
     "metadata": {},
     "output_type": "display_data"
    },
    {
     "data": {
      "text/html": [
       "<div>\n",
       "<style scoped>\n",
       "    .dataframe tbody tr th:only-of-type {\n",
       "        vertical-align: middle;\n",
       "    }\n",
       "\n",
       "    .dataframe tbody tr th {\n",
       "        vertical-align: top;\n",
       "    }\n",
       "\n",
       "    .dataframe thead th {\n",
       "        text-align: right;\n",
       "    }\n",
       "</style>\n",
       "<table border=\"1\" class=\"dataframe\">\n",
       "  <thead>\n",
       "    <tr style=\"text-align: right;\">\n",
       "      <th></th>\n",
       "      <th>document</th>\n",
       "      <th>text</th>\n",
       "      <th>type</th>\n",
       "      <th>start</th>\n",
       "      <th>end</th>\n",
       "      <th>cui</th>\n",
       "      <th>tuis</th>\n",
       "      <th>canonical</th>\n",
       "      <th>linker</th>\n",
       "      <th>confidence</th>\n",
       "    </tr>\n",
       "  </thead>\n",
       "  <tbody>\n",
       "    <tr>\n",
       "      <th>0</th>\n",
       "      <td>07_malignes-melanom_0197_3</td>\n",
       "      <td>BRAF-Inhibitoren</td>\n",
       "      <td>Clinical_Drug</td>\n",
       "      <td>0</td>\n",
       "      <td>16</td>\n",
       "      <td>C3838813</td>\n",
       "      <td>[T116, T121]</td>\n",
       "      <td>B-Raf inhibitor</td>\n",
       "      <td>[ngram, sapbert]</td>\n",
       "      <td>0.099231</td>\n",
       "    </tr>\n",
       "    <tr>\n",
       "      <th>1</th>\n",
       "      <td>07_malignes-melanom_0197_3</td>\n",
       "      <td>MEK-Inhibitoren</td>\n",
       "      <td>Clinical_Drug</td>\n",
       "      <td>17</td>\n",
       "      <td>32</td>\n",
       "      <td>C2347168</td>\n",
       "      <td>[T121]</td>\n",
       "      <td>MAPKK Inhibitor</td>\n",
       "      <td>[ngram, sapbert]</td>\n",
       "      <td>0.091886</td>\n",
       "    </tr>\n",
       "    <tr>\n",
       "      <th>2</th>\n",
       "      <td>07_malignes-melanom_0197_3</td>\n",
       "      <td>asymptomatischen Transaminasenerhöhungen</td>\n",
       "      <td>Diagnosis_or_Pathology</td>\n",
       "      <td>56</td>\n",
       "      <td>96</td>\n",
       "      <td>C0438717</td>\n",
       "      <td>[T033]</td>\n",
       "      <td>Transaminasen erhoeht</td>\n",
       "      <td>[ngram, sapbert]</td>\n",
       "      <td>0.064062</td>\n",
       "    </tr>\n",
       "    <tr>\n",
       "      <th>3</th>\n",
       "      <td>07_malignes-melanom_0197_3</td>\n",
       "      <td>Grad 3 Erhöhungen</td>\n",
       "      <td>Diagnosis_or_Pathology</td>\n",
       "      <td>125</td>\n",
       "      <td>142</td>\n",
       "      <td>C1333844</td>\n",
       "      <td>[T033]</td>\n",
       "      <td>Grade 3 Lesion</td>\n",
       "      <td>[ngram, sapbert]</td>\n",
       "      <td>0.068164</td>\n",
       "    </tr>\n",
       "    <tr>\n",
       "      <th>4</th>\n",
       "      <td>07_malignes-melanom_0197_3</td>\n",
       "      <td>Grad 4 Erhöhungen</td>\n",
       "      <td>Diagnosis_or_Pathology</td>\n",
       "      <td>143</td>\n",
       "      <td>160</td>\n",
       "      <td>C0547054</td>\n",
       "      <td>[T185]</td>\n",
       "      <td>Grade IV</td>\n",
       "      <td>[ngram, sapbert]</td>\n",
       "      <td>0.067878</td>\n",
       "    </tr>\n",
       "  </tbody>\n",
       "</table>\n",
       "</div>"
      ],
      "text/plain": [
       "                     document                                      text  \\\n",
       "0  07_malignes-melanom_0197_3                          BRAF-Inhibitoren   \n",
       "1  07_malignes-melanom_0197_3                           MEK-Inhibitoren   \n",
       "2  07_malignes-melanom_0197_3  asymptomatischen Transaminasenerhöhungen   \n",
       "3  07_malignes-melanom_0197_3                         Grad 3 Erhöhungen   \n",
       "4  07_malignes-melanom_0197_3                         Grad 4 Erhöhungen   \n",
       "\n",
       "                     type  start  end       cui          tuis  \\\n",
       "0           Clinical_Drug      0   16  C3838813  [T116, T121]   \n",
       "1           Clinical_Drug     17   32  C2347168        [T121]   \n",
       "2  Diagnosis_or_Pathology     56   96  C0438717        [T033]   \n",
       "3  Diagnosis_or_Pathology    125  142  C1333844        [T033]   \n",
       "4  Diagnosis_or_Pathology    143  160  C0547054        [T185]   \n",
       "\n",
       "               canonical            linker  confidence  \n",
       "0        B-Raf inhibitor  [ngram, sapbert]    0.099231  \n",
       "1        MAPKK Inhibitor  [ngram, sapbert]    0.091886  \n",
       "2  Transaminasen erhoeht  [ngram, sapbert]    0.064062  \n",
       "3         Grade 3 Lesion  [ngram, sapbert]    0.068164  \n",
       "4               Grade IV  [ngram, sapbert]    0.067878  "
      ]
     },
     "metadata": {},
     "output_type": "display_data"
    },
    {
     "name": "stdout",
     "output_type": "stream",
     "text": [
      "Difference 9\n"
     ]
    },
    {
     "data": {
      "text/markdown": [
       "In der CheckMate 067 Studie zeigten bis zu 18% der Patienten meist asymptomatische Transaminasenerhöhungen, während es bei Ipilimumab und Nivolumab Monotherapie jeweils nur 4% sind [REF]."
      ],
      "text/plain": [
       "<IPython.core.display.Markdown object>"
      ]
     },
     "metadata": {},
     "output_type": "display_data"
    },
    {
     "data": {
      "text/markdown": [
       "In der CheckMate 067 Studie zeigten bis zu 18% der Patienten meist asymptomatische Transaminasenerhöhungen, während es bei Ipilimumab Monotherapie und Nivolumab Monotherapie jeweils nur 4% sind [REF]."
      ],
      "text/plain": [
       "<IPython.core.display.Markdown object>"
      ]
     },
     "metadata": {},
     "output_type": "display_data"
    },
    {
     "data": {
      "text/html": [
       "<html><body><div>In der CheckMate 067 Studie zeigten bis zu 18% der Patienten meist asymptomatische Transaminasenerhöhungen, während es bei Ipilimumab<span style=\"background-color: lightgreen;\"> Monotherapie</span> und Nivolumab Monotherapie jeweils nur 4% sind [REF].</div></body></html>"
      ],
      "text/plain": [
       "<IPython.core.display.HTML object>"
      ]
     },
     "metadata": {},
     "output_type": "display_data"
    },
    {
     "data": {
      "application/vnd.jupyter.widget-view+json": {
       "model_id": "3097807833ed41598089f21e7dba7dc3",
       "version_major": 2,
       "version_minor": 0
      },
      "text/plain": [
       "  0%|          | 0/1 [00:00<?, ?it/s]"
      ]
     },
     "metadata": {},
     "output_type": "display_data"
    },
    {
     "data": {
      "text/html": [
       "<div>\n",
       "<style scoped>\n",
       "    .dataframe tbody tr th:only-of-type {\n",
       "        vertical-align: middle;\n",
       "    }\n",
       "\n",
       "    .dataframe tbody tr th {\n",
       "        vertical-align: top;\n",
       "    }\n",
       "\n",
       "    .dataframe thead th {\n",
       "        text-align: right;\n",
       "    }\n",
       "</style>\n",
       "<table border=\"1\" class=\"dataframe\">\n",
       "  <thead>\n",
       "    <tr style=\"text-align: right;\">\n",
       "      <th></th>\n",
       "      <th>document</th>\n",
       "      <th>text</th>\n",
       "      <th>type</th>\n",
       "      <th>start</th>\n",
       "      <th>end</th>\n",
       "      <th>cui</th>\n",
       "      <th>tuis</th>\n",
       "      <th>canonical</th>\n",
       "      <th>linker</th>\n",
       "      <th>confidence</th>\n",
       "    </tr>\n",
       "  </thead>\n",
       "  <tbody>\n",
       "    <tr>\n",
       "      <th>0</th>\n",
       "      <td>07_malignes-melanom_0197_6</td>\n",
       "      <td>asymptomatische Transaminasenerhöhungen</td>\n",
       "      <td>Diagnosis_or_Pathology</td>\n",
       "      <td>67</td>\n",
       "      <td>106</td>\n",
       "      <td>C0438717</td>\n",
       "      <td>[T033]</td>\n",
       "      <td>Transaminasen erhoeht</td>\n",
       "      <td>[ngram, sapbert]</td>\n",
       "      <td>0.064863</td>\n",
       "    </tr>\n",
       "    <tr>\n",
       "      <th>1</th>\n",
       "      <td>07_malignes-melanom_0197_6</td>\n",
       "      <td>Ipilimumab</td>\n",
       "      <td>Clinical_Drug</td>\n",
       "      <td>123</td>\n",
       "      <td>133</td>\n",
       "      <td>C1367202</td>\n",
       "      <td>[T116, T121, T129]</td>\n",
       "      <td>Ipilimumab</td>\n",
       "      <td>[ngram, sapbert]</td>\n",
       "      <td>0.144958</td>\n",
       "    </tr>\n",
       "    <tr>\n",
       "      <th>2</th>\n",
       "      <td>07_malignes-melanom_0197_6</td>\n",
       "      <td>Nivolumab Monotherapie</td>\n",
       "      <td>Therapeutic</td>\n",
       "      <td>138</td>\n",
       "      <td>160</td>\n",
       "      <td>C3657270</td>\n",
       "      <td>[T116, T121, T129]</td>\n",
       "      <td>Nivolumab</td>\n",
       "      <td>[sapbert]</td>\n",
       "      <td>0.072226</td>\n",
       "    </tr>\n",
       "  </tbody>\n",
       "</table>\n",
       "</div>"
      ],
      "text/plain": [
       "                     document                                     text  \\\n",
       "0  07_malignes-melanom_0197_6  asymptomatische Transaminasenerhöhungen   \n",
       "1  07_malignes-melanom_0197_6                               Ipilimumab   \n",
       "2  07_malignes-melanom_0197_6                   Nivolumab Monotherapie   \n",
       "\n",
       "                     type  start  end       cui                tuis  \\\n",
       "0  Diagnosis_or_Pathology     67  106  C0438717              [T033]   \n",
       "1           Clinical_Drug    123  133  C1367202  [T116, T121, T129]   \n",
       "2             Therapeutic    138  160  C3657270  [T116, T121, T129]   \n",
       "\n",
       "               canonical            linker  confidence  \n",
       "0  Transaminasen erhoeht  [ngram, sapbert]    0.064863  \n",
       "1             Ipilimumab  [ngram, sapbert]    0.144958  \n",
       "2              Nivolumab         [sapbert]    0.072226  "
      ]
     },
     "metadata": {},
     "output_type": "display_data"
    },
    {
     "data": {
      "application/vnd.jupyter.widget-view+json": {
       "model_id": "69992e7c92a344c8b116925b70442d2d",
       "version_major": 2,
       "version_minor": 0
      },
      "text/plain": [
       "  0%|          | 0/1 [00:00<?, ?it/s]"
      ]
     },
     "metadata": {},
     "output_type": "display_data"
    },
    {
     "data": {
      "text/html": [
       "<div>\n",
       "<style scoped>\n",
       "    .dataframe tbody tr th:only-of-type {\n",
       "        vertical-align: middle;\n",
       "    }\n",
       "\n",
       "    .dataframe tbody tr th {\n",
       "        vertical-align: top;\n",
       "    }\n",
       "\n",
       "    .dataframe thead th {\n",
       "        text-align: right;\n",
       "    }\n",
       "</style>\n",
       "<table border=\"1\" class=\"dataframe\">\n",
       "  <thead>\n",
       "    <tr style=\"text-align: right;\">\n",
       "      <th></th>\n",
       "      <th>document</th>\n",
       "      <th>text</th>\n",
       "      <th>type</th>\n",
       "      <th>start</th>\n",
       "      <th>end</th>\n",
       "      <th>cui</th>\n",
       "      <th>tuis</th>\n",
       "      <th>canonical</th>\n",
       "      <th>linker</th>\n",
       "      <th>confidence</th>\n",
       "    </tr>\n",
       "  </thead>\n",
       "  <tbody>\n",
       "    <tr>\n",
       "      <th>0</th>\n",
       "      <td>07_malignes-melanom_0197_6</td>\n",
       "      <td>asymptomatische Transaminasenerhöhungen</td>\n",
       "      <td>Diagnosis_or_Pathology</td>\n",
       "      <td>67</td>\n",
       "      <td>106</td>\n",
       "      <td>C0438717</td>\n",
       "      <td>[T033]</td>\n",
       "      <td>Transaminasen erhoeht</td>\n",
       "      <td>[ngram, sapbert]</td>\n",
       "      <td>0.064624</td>\n",
       "    </tr>\n",
       "    <tr>\n",
       "      <th>1</th>\n",
       "      <td>07_malignes-melanom_0197_6</td>\n",
       "      <td>Ipilimumab Monotherapie</td>\n",
       "      <td>Therapeutic</td>\n",
       "      <td>123</td>\n",
       "      <td>146</td>\n",
       "      <td>C1367202</td>\n",
       "      <td>[T116, T121, T129]</td>\n",
       "      <td>Ipilimumab</td>\n",
       "      <td>[sapbert]</td>\n",
       "      <td>0.076966</td>\n",
       "    </tr>\n",
       "    <tr>\n",
       "      <th>2</th>\n",
       "      <td>07_malignes-melanom_0197_6</td>\n",
       "      <td>Nivolumab Monotherapie</td>\n",
       "      <td>Therapeutic</td>\n",
       "      <td>151</td>\n",
       "      <td>173</td>\n",
       "      <td>C3657270</td>\n",
       "      <td>[T116, T121, T129]</td>\n",
       "      <td>Nivolumab</td>\n",
       "      <td>[sapbert]</td>\n",
       "      <td>0.075624</td>\n",
       "    </tr>\n",
       "  </tbody>\n",
       "</table>\n",
       "</div>"
      ],
      "text/plain": [
       "                     document                                     text  \\\n",
       "0  07_malignes-melanom_0197_6  asymptomatische Transaminasenerhöhungen   \n",
       "1  07_malignes-melanom_0197_6                  Ipilimumab Monotherapie   \n",
       "2  07_malignes-melanom_0197_6                   Nivolumab Monotherapie   \n",
       "\n",
       "                     type  start  end       cui                tuis  \\\n",
       "0  Diagnosis_or_Pathology     67  106  C0438717              [T033]   \n",
       "1             Therapeutic    123  146  C1367202  [T116, T121, T129]   \n",
       "2             Therapeutic    151  173  C3657270  [T116, T121, T129]   \n",
       "\n",
       "               canonical            linker  confidence  \n",
       "0  Transaminasen erhoeht  [ngram, sapbert]    0.064624  \n",
       "1             Ipilimumab         [sapbert]    0.076966  \n",
       "2              Nivolumab         [sapbert]    0.075624  "
      ]
     },
     "metadata": {},
     "output_type": "display_data"
    },
    {
     "name": "stdout",
     "output_type": "stream",
     "text": [
      "Difference 10\n"
     ]
    },
    {
     "data": {
      "text/markdown": [
       "Grad 3/4 Hepatitiden sieht man bei bis zu 8% unter Ipilimumab plus Nivolumab und maximal 2% unter den Monotherapien."
      ],
      "text/plain": [
       "<IPython.core.display.Markdown object>"
      ]
     },
     "metadata": {},
     "output_type": "display_data"
    },
    {
     "data": {
      "text/markdown": [
       "Grad 3 Hepatitiden/Grad 4 Hepatitiden sieht man bei bis zu 8% unter Ipilimumab plus Nivolumab und maximal 2% unter den Monotherapien."
      ],
      "text/plain": [
       "<IPython.core.display.Markdown object>"
      ]
     },
     "metadata": {},
     "output_type": "display_data"
    },
    {
     "data": {
      "text/html": [
       "<html><body><div>Grad 3<span style=\"background-color: lightgreen;\"> Hepatitiden</span>/<span style=\"background-color: lightgreen;\">Grad </span>4 Hepatitiden sieht man bei bis zu 8% unter Ipilimumab plus Nivolumab und maximal 2% unter den Monotherapien.</div></body></html>"
      ],
      "text/plain": [
       "<IPython.core.display.HTML object>"
      ]
     },
     "metadata": {},
     "output_type": "display_data"
    },
    {
     "data": {
      "application/vnd.jupyter.widget-view+json": {
       "model_id": "5cf4d7058969483fa52d4f39ee8c1bb8",
       "version_major": 2,
       "version_minor": 0
      },
      "text/plain": [
       "  0%|          | 0/1 [00:00<?, ?it/s]"
      ]
     },
     "metadata": {},
     "output_type": "display_data"
    },
    {
     "data": {
      "text/html": [
       "<div>\n",
       "<style scoped>\n",
       "    .dataframe tbody tr th:only-of-type {\n",
       "        vertical-align: middle;\n",
       "    }\n",
       "\n",
       "    .dataframe tbody tr th {\n",
       "        vertical-align: top;\n",
       "    }\n",
       "\n",
       "    .dataframe thead th {\n",
       "        text-align: right;\n",
       "    }\n",
       "</style>\n",
       "<table border=\"1\" class=\"dataframe\">\n",
       "  <thead>\n",
       "    <tr style=\"text-align: right;\">\n",
       "      <th></th>\n",
       "      <th>document</th>\n",
       "      <th>text</th>\n",
       "      <th>type</th>\n",
       "      <th>start</th>\n",
       "      <th>end</th>\n",
       "      <th>cui</th>\n",
       "      <th>tuis</th>\n",
       "      <th>canonical</th>\n",
       "      <th>linker</th>\n",
       "      <th>confidence</th>\n",
       "    </tr>\n",
       "  </thead>\n",
       "  <tbody>\n",
       "    <tr>\n",
       "      <th>0</th>\n",
       "      <td>07_malignes-melanom_0197_7</td>\n",
       "      <td>Grad 3/4 Hepatitiden</td>\n",
       "      <td>Diagnosis_or_Pathology</td>\n",
       "      <td>0</td>\n",
       "      <td>20</td>\n",
       "      <td>C1557117</td>\n",
       "      <td>[T033]</td>\n",
       "      <td>Grade 4 Viral Hepatitis, CTCAE</td>\n",
       "      <td>[ngram, sapbert]</td>\n",
       "      <td>0.063176</td>\n",
       "    </tr>\n",
       "    <tr>\n",
       "      <th>1</th>\n",
       "      <td>07_malignes-melanom_0197_7</td>\n",
       "      <td>Ipilimumab plus Nivolumab</td>\n",
       "      <td>Clinical_Drug</td>\n",
       "      <td>51</td>\n",
       "      <td>76</td>\n",
       "      <td>C4727545</td>\n",
       "      <td>[T061]</td>\n",
       "      <td>Ipilimumab/Nivolumab Regimen</td>\n",
       "      <td>[ngram, sapbert]</td>\n",
       "      <td>0.124392</td>\n",
       "    </tr>\n",
       "    <tr>\n",
       "      <th>2</th>\n",
       "      <td>07_malignes-melanom_0197_7</td>\n",
       "      <td>Monotherapien</td>\n",
       "      <td>Therapeutic</td>\n",
       "      <td>102</td>\n",
       "      <td>115</td>\n",
       "      <td>C4763675</td>\n",
       "      <td>[T061]</td>\n",
       "      <td>Single Agent Therapy</td>\n",
       "      <td>[ngram, sapbert]</td>\n",
       "      <td>0.076002</td>\n",
       "    </tr>\n",
       "  </tbody>\n",
       "</table>\n",
       "</div>"
      ],
      "text/plain": [
       "                     document                       text  \\\n",
       "0  07_malignes-melanom_0197_7       Grad 3/4 Hepatitiden   \n",
       "1  07_malignes-melanom_0197_7  Ipilimumab plus Nivolumab   \n",
       "2  07_malignes-melanom_0197_7              Monotherapien   \n",
       "\n",
       "                     type  start  end       cui    tuis  \\\n",
       "0  Diagnosis_or_Pathology      0   20  C1557117  [T033]   \n",
       "1           Clinical_Drug     51   76  C4727545  [T061]   \n",
       "2             Therapeutic    102  115  C4763675  [T061]   \n",
       "\n",
       "                        canonical            linker  confidence  \n",
       "0  Grade 4 Viral Hepatitis, CTCAE  [ngram, sapbert]    0.063176  \n",
       "1    Ipilimumab/Nivolumab Regimen  [ngram, sapbert]    0.124392  \n",
       "2            Single Agent Therapy  [ngram, sapbert]    0.076002  "
      ]
     },
     "metadata": {},
     "output_type": "display_data"
    },
    {
     "data": {
      "application/vnd.jupyter.widget-view+json": {
       "model_id": "659c211b655f4b59864ac36653fec94f",
       "version_major": 2,
       "version_minor": 0
      },
      "text/plain": [
       "  0%|          | 0/1 [00:00<?, ?it/s]"
      ]
     },
     "metadata": {},
     "output_type": "display_data"
    },
    {
     "data": {
      "text/html": [
       "<div>\n",
       "<style scoped>\n",
       "    .dataframe tbody tr th:only-of-type {\n",
       "        vertical-align: middle;\n",
       "    }\n",
       "\n",
       "    .dataframe tbody tr th {\n",
       "        vertical-align: top;\n",
       "    }\n",
       "\n",
       "    .dataframe thead th {\n",
       "        text-align: right;\n",
       "    }\n",
       "</style>\n",
       "<table border=\"1\" class=\"dataframe\">\n",
       "  <thead>\n",
       "    <tr style=\"text-align: right;\">\n",
       "      <th></th>\n",
       "      <th>document</th>\n",
       "      <th>text</th>\n",
       "      <th>type</th>\n",
       "      <th>start</th>\n",
       "      <th>end</th>\n",
       "      <th>cui</th>\n",
       "      <th>tuis</th>\n",
       "      <th>canonical</th>\n",
       "      <th>linker</th>\n",
       "      <th>confidence</th>\n",
       "    </tr>\n",
       "  </thead>\n",
       "  <tbody>\n",
       "    <tr>\n",
       "      <th>0</th>\n",
       "      <td>07_malignes-melanom_0197_7</td>\n",
       "      <td>Grad 3 Hepatitiden/Grad 4 Hepatitiden</td>\n",
       "      <td>Diagnosis_or_Pathology</td>\n",
       "      <td>0</td>\n",
       "      <td>37</td>\n",
       "      <td>C4686259</td>\n",
       "      <td>[T033]</td>\n",
       "      <td>Grade 3 Hepatic Pain, CTCAE</td>\n",
       "      <td>[sapbert]</td>\n",
       "      <td>0.063627</td>\n",
       "    </tr>\n",
       "    <tr>\n",
       "      <th>1</th>\n",
       "      <td>07_malignes-melanom_0197_7</td>\n",
       "      <td>Ipilimumab plus Nivolumab</td>\n",
       "      <td>Clinical_Drug</td>\n",
       "      <td>68</td>\n",
       "      <td>93</td>\n",
       "      <td>C4727545</td>\n",
       "      <td>[T061]</td>\n",
       "      <td>Ipilimumab/Nivolumab Regimen</td>\n",
       "      <td>[ngram, sapbert]</td>\n",
       "      <td>0.110924</td>\n",
       "    </tr>\n",
       "    <tr>\n",
       "      <th>2</th>\n",
       "      <td>07_malignes-melanom_0197_7</td>\n",
       "      <td>Monotherapien</td>\n",
       "      <td>Therapeutic</td>\n",
       "      <td>119</td>\n",
       "      <td>132</td>\n",
       "      <td>C4763675</td>\n",
       "      <td>[T061]</td>\n",
       "      <td>Single Agent Therapy</td>\n",
       "      <td>[ngram, sapbert]</td>\n",
       "      <td>0.077485</td>\n",
       "    </tr>\n",
       "  </tbody>\n",
       "</table>\n",
       "</div>"
      ],
      "text/plain": [
       "                     document                                   text  \\\n",
       "0  07_malignes-melanom_0197_7  Grad 3 Hepatitiden/Grad 4 Hepatitiden   \n",
       "1  07_malignes-melanom_0197_7              Ipilimumab plus Nivolumab   \n",
       "2  07_malignes-melanom_0197_7                          Monotherapien   \n",
       "\n",
       "                     type  start  end       cui    tuis  \\\n",
       "0  Diagnosis_or_Pathology      0   37  C4686259  [T033]   \n",
       "1           Clinical_Drug     68   93  C4727545  [T061]   \n",
       "2             Therapeutic    119  132  C4763675  [T061]   \n",
       "\n",
       "                      canonical            linker  confidence  \n",
       "0   Grade 3 Hepatic Pain, CTCAE         [sapbert]    0.063627  \n",
       "1  Ipilimumab/Nivolumab Regimen  [ngram, sapbert]    0.110924  \n",
       "2          Single Agent Therapy  [ngram, sapbert]    0.077485  "
      ]
     },
     "metadata": {},
     "output_type": "display_data"
    },
    {
     "name": "stdout",
     "output_type": "stream",
     "text": [
      "Difference 11\n"
     ]
    },
    {
     "data": {
      "text/markdown": [
       "Bei Grad 3/4 Transaminasenanstiegen unter zielgerichteten Therapien führt in der Regel eine Pausierung der Therapie zu einem Rückgang der Leberwerte."
      ],
      "text/plain": [
       "<IPython.core.display.Markdown object>"
      ]
     },
     "metadata": {},
     "output_type": "display_data"
    },
    {
     "data": {
      "text/markdown": [
       "Bei Grad 3 Transaminasenanstiegen/Grad 4 Transaminasenanstiegen unter zielgerichteten Therapien führt in der Regel eine Pausierung der Therapie zu einem Rückgang der Leberwerte."
      ],
      "text/plain": [
       "<IPython.core.display.Markdown object>"
      ]
     },
     "metadata": {},
     "output_type": "display_data"
    },
    {
     "data": {
      "text/html": [
       "<html><body><div>Bei Grad 3<span style=\"background-color: lightgreen;\"> Transaminasenanstiegen</span>/<span style=\"background-color: lightgreen;\">Grad </span>4 Transaminasenanstiegen unter zielgerichteten Therapien führt in der Regel eine Pausierung der Therapie zu einem Rückgang der Leberwerte.</div></body></html>"
      ],
      "text/plain": [
       "<IPython.core.display.HTML object>"
      ]
     },
     "metadata": {},
     "output_type": "display_data"
    },
    {
     "data": {
      "application/vnd.jupyter.widget-view+json": {
       "model_id": "b137e93352c94268b376c206af46e0a2",
       "version_major": 2,
       "version_minor": 0
      },
      "text/plain": [
       "  0%|          | 0/1 [00:00<?, ?it/s]"
      ]
     },
     "metadata": {},
     "output_type": "display_data"
    },
    {
     "data": {
      "text/html": [
       "<div>\n",
       "<style scoped>\n",
       "    .dataframe tbody tr th:only-of-type {\n",
       "        vertical-align: middle;\n",
       "    }\n",
       "\n",
       "    .dataframe tbody tr th {\n",
       "        vertical-align: top;\n",
       "    }\n",
       "\n",
       "    .dataframe thead th {\n",
       "        text-align: right;\n",
       "    }\n",
       "</style>\n",
       "<table border=\"1\" class=\"dataframe\">\n",
       "  <thead>\n",
       "    <tr style=\"text-align: right;\">\n",
       "      <th></th>\n",
       "      <th>document</th>\n",
       "      <th>text</th>\n",
       "      <th>type</th>\n",
       "      <th>start</th>\n",
       "      <th>end</th>\n",
       "      <th>cui</th>\n",
       "      <th>tuis</th>\n",
       "      <th>canonical</th>\n",
       "      <th>linker</th>\n",
       "      <th>confidence</th>\n",
       "    </tr>\n",
       "  </thead>\n",
       "  <tbody>\n",
       "    <tr>\n",
       "      <th>0</th>\n",
       "      <td>07_malignes-melanom_0197_22</td>\n",
       "      <td>Grad 3/4 Transaminasenanstiegen unter zielgeri...</td>\n",
       "      <td>Diagnosis_or_Pathology</td>\n",
       "      <td>4</td>\n",
       "      <td>67</td>\n",
       "      <td>C0438717</td>\n",
       "      <td>[T033]</td>\n",
       "      <td>Transaminasen erhoeht</td>\n",
       "      <td>[ngram, sapbert]</td>\n",
       "      <td>0.067148</td>\n",
       "    </tr>\n",
       "    <tr>\n",
       "      <th>1</th>\n",
       "      <td>07_malignes-melanom_0197_22</td>\n",
       "      <td>zielgerichteten Therapien</td>\n",
       "      <td>Therapeutic</td>\n",
       "      <td>42</td>\n",
       "      <td>67</td>\n",
       "      <td>C2699893</td>\n",
       "      <td>[T061]</td>\n",
       "      <td>Molecular Targeted Therapy</td>\n",
       "      <td>[ngram, sapbert]</td>\n",
       "      <td>0.073418</td>\n",
       "    </tr>\n",
       "    <tr>\n",
       "      <th>2</th>\n",
       "      <td>07_malignes-melanom_0197_22</td>\n",
       "      <td>Pausierung der Therapie</td>\n",
       "      <td>Therapeutic</td>\n",
       "      <td>92</td>\n",
       "      <td>115</td>\n",
       "      <td>C0444921</td>\n",
       "      <td>[T079]</td>\n",
       "      <td>Dauer der Therapie</td>\n",
       "      <td>[ngram, sapbert]</td>\n",
       "      <td>0.065861</td>\n",
       "    </tr>\n",
       "    <tr>\n",
       "      <th>3</th>\n",
       "      <td>07_malignes-melanom_0197_22</td>\n",
       "      <td>Rückgang der Leberwerte</td>\n",
       "      <td>Other_Finding</td>\n",
       "      <td>125</td>\n",
       "      <td>148</td>\n",
       "      <td>C0857338</td>\n",
       "      <td>[T033]</td>\n",
       "      <td>Entgleisung der Leberwerte</td>\n",
       "      <td>[ngram, sapbert]</td>\n",
       "      <td>0.075002</td>\n",
       "    </tr>\n",
       "  </tbody>\n",
       "</table>\n",
       "</div>"
      ],
      "text/plain": [
       "                      document  \\\n",
       "0  07_malignes-melanom_0197_22   \n",
       "1  07_malignes-melanom_0197_22   \n",
       "2  07_malignes-melanom_0197_22   \n",
       "3  07_malignes-melanom_0197_22   \n",
       "\n",
       "                                                text                    type  \\\n",
       "0  Grad 3/4 Transaminasenanstiegen unter zielgeri...  Diagnosis_or_Pathology   \n",
       "1                          zielgerichteten Therapien             Therapeutic   \n",
       "2                            Pausierung der Therapie             Therapeutic   \n",
       "3                            Rückgang der Leberwerte           Other_Finding   \n",
       "\n",
       "   start  end       cui    tuis                   canonical            linker  \\\n",
       "0      4   67  C0438717  [T033]       Transaminasen erhoeht  [ngram, sapbert]   \n",
       "1     42   67  C2699893  [T061]  Molecular Targeted Therapy  [ngram, sapbert]   \n",
       "2     92  115  C0444921  [T079]          Dauer der Therapie  [ngram, sapbert]   \n",
       "3    125  148  C0857338  [T033]  Entgleisung der Leberwerte  [ngram, sapbert]   \n",
       "\n",
       "   confidence  \n",
       "0    0.067148  \n",
       "1    0.073418  \n",
       "2    0.065861  \n",
       "3    0.075002  "
      ]
     },
     "metadata": {},
     "output_type": "display_data"
    },
    {
     "data": {
      "application/vnd.jupyter.widget-view+json": {
       "model_id": "d0f6f6a9c83c414b87195ec07e33d293",
       "version_major": 2,
       "version_minor": 0
      },
      "text/plain": [
       "  0%|          | 0/1 [00:00<?, ?it/s]"
      ]
     },
     "metadata": {},
     "output_type": "display_data"
    },
    {
     "data": {
      "text/html": [
       "<div>\n",
       "<style scoped>\n",
       "    .dataframe tbody tr th:only-of-type {\n",
       "        vertical-align: middle;\n",
       "    }\n",
       "\n",
       "    .dataframe tbody tr th {\n",
       "        vertical-align: top;\n",
       "    }\n",
       "\n",
       "    .dataframe thead th {\n",
       "        text-align: right;\n",
       "    }\n",
       "</style>\n",
       "<table border=\"1\" class=\"dataframe\">\n",
       "  <thead>\n",
       "    <tr style=\"text-align: right;\">\n",
       "      <th></th>\n",
       "      <th>document</th>\n",
       "      <th>text</th>\n",
       "      <th>type</th>\n",
       "      <th>start</th>\n",
       "      <th>end</th>\n",
       "      <th>cui</th>\n",
       "      <th>tuis</th>\n",
       "      <th>canonical</th>\n",
       "      <th>linker</th>\n",
       "      <th>confidence</th>\n",
       "    </tr>\n",
       "  </thead>\n",
       "  <tbody>\n",
       "    <tr>\n",
       "      <th>0</th>\n",
       "      <td>07_malignes-melanom_0197_22</td>\n",
       "      <td>zielgerichteten Therapien</td>\n",
       "      <td>Therapeutic</td>\n",
       "      <td>70</td>\n",
       "      <td>95</td>\n",
       "      <td>C2699893</td>\n",
       "      <td>[T061]</td>\n",
       "      <td>Molecular Targeted Therapy</td>\n",
       "      <td>[ngram, sapbert]</td>\n",
       "      <td>0.073634</td>\n",
       "    </tr>\n",
       "    <tr>\n",
       "      <th>1</th>\n",
       "      <td>07_malignes-melanom_0197_22</td>\n",
       "      <td>Pausierung der Therapie</td>\n",
       "      <td>Therapeutic</td>\n",
       "      <td>120</td>\n",
       "      <td>143</td>\n",
       "      <td>C0444921</td>\n",
       "      <td>[T079]</td>\n",
       "      <td>Dauer der Therapie</td>\n",
       "      <td>[ngram, sapbert]</td>\n",
       "      <td>0.067113</td>\n",
       "    </tr>\n",
       "    <tr>\n",
       "      <th>2</th>\n",
       "      <td>07_malignes-melanom_0197_22</td>\n",
       "      <td>Rückgang der Leberwerte</td>\n",
       "      <td>Other_Finding</td>\n",
       "      <td>153</td>\n",
       "      <td>176</td>\n",
       "      <td>C0857338</td>\n",
       "      <td>[T033]</td>\n",
       "      <td>Entgleisung der Leberwerte</td>\n",
       "      <td>[ngram, sapbert]</td>\n",
       "      <td>0.080237</td>\n",
       "    </tr>\n",
       "  </tbody>\n",
       "</table>\n",
       "</div>"
      ],
      "text/plain": [
       "                      document                       text           type  \\\n",
       "0  07_malignes-melanom_0197_22  zielgerichteten Therapien    Therapeutic   \n",
       "1  07_malignes-melanom_0197_22    Pausierung der Therapie    Therapeutic   \n",
       "2  07_malignes-melanom_0197_22    Rückgang der Leberwerte  Other_Finding   \n",
       "\n",
       "   start  end       cui    tuis                   canonical            linker  \\\n",
       "0     70   95  C2699893  [T061]  Molecular Targeted Therapy  [ngram, sapbert]   \n",
       "1    120  143  C0444921  [T079]          Dauer der Therapie  [ngram, sapbert]   \n",
       "2    153  176  C0857338  [T033]  Entgleisung der Leberwerte  [ngram, sapbert]   \n",
       "\n",
       "   confidence  \n",
       "0    0.073634  \n",
       "1    0.067113  \n",
       "2    0.080237  "
      ]
     },
     "metadata": {},
     "output_type": "display_data"
    },
    {
     "name": "stdout",
     "output_type": "stream",
     "text": [
      "Difference 12\n"
     ]
    },
    {
     "data": {
      "text/markdown": [
       "Sie treten unter zielgerichteten und Immuntherapien auf und unterscheiden sich in Ihrem Spektrum und Ihrer Therapiebedürftigkeit."
      ],
      "text/plain": [
       "<IPython.core.display.Markdown object>"
      ]
     },
     "metadata": {},
     "output_type": "display_data"
    },
    {
     "data": {
      "text/markdown": [
       "Sie treten unter zielgerichteten Therapien und Immuntherapien auf und unterscheiden sich in Ihrem Spektrum und Ihrer Therapiebedürftigkeit."
      ],
      "text/plain": [
       "<IPython.core.display.Markdown object>"
      ]
     },
     "metadata": {},
     "output_type": "display_data"
    },
    {
     "data": {
      "text/html": [
       "<html><body><div>Sie treten unter zielgerichtet<span style=\"background-color: lightgreen;\">en Therapi</span>en und Immuntherapien auf und unterscheiden sich in Ihrem Spektrum und Ihrer Therapiebedürftigkeit.</div></body></html>"
      ],
      "text/plain": [
       "<IPython.core.display.HTML object>"
      ]
     },
     "metadata": {},
     "output_type": "display_data"
    },
    {
     "data": {
      "application/vnd.jupyter.widget-view+json": {
       "model_id": "64a96805349c4c029bd9e82b01902a00",
       "version_major": 2,
       "version_minor": 0
      },
      "text/plain": [
       "  0%|          | 0/1 [00:00<?, ?it/s]"
      ]
     },
     "metadata": {},
     "output_type": "display_data"
    },
    {
     "data": {
      "text/html": [
       "<div>\n",
       "<style scoped>\n",
       "    .dataframe tbody tr th:only-of-type {\n",
       "        vertical-align: middle;\n",
       "    }\n",
       "\n",
       "    .dataframe tbody tr th {\n",
       "        vertical-align: top;\n",
       "    }\n",
       "\n",
       "    .dataframe thead th {\n",
       "        text-align: right;\n",
       "    }\n",
       "</style>\n",
       "<table border=\"1\" class=\"dataframe\">\n",
       "  <thead>\n",
       "    <tr style=\"text-align: right;\">\n",
       "      <th></th>\n",
       "      <th>document</th>\n",
       "      <th>text</th>\n",
       "      <th>type</th>\n",
       "      <th>start</th>\n",
       "      <th>end</th>\n",
       "      <th>cui</th>\n",
       "      <th>tuis</th>\n",
       "      <th>canonical</th>\n",
       "      <th>linker</th>\n",
       "      <th>confidence</th>\n",
       "    </tr>\n",
       "  </thead>\n",
       "  <tbody>\n",
       "    <tr>\n",
       "      <th>0</th>\n",
       "      <td>07_malignes-melanom_0207_3</td>\n",
       "      <td>zielgerichteten</td>\n",
       "      <td>Therapeutic</td>\n",
       "      <td>17</td>\n",
       "      <td>32</td>\n",
       "      <td>C2699893</td>\n",
       "      <td>[T061]</td>\n",
       "      <td>Molecular Targeted Therapy</td>\n",
       "      <td>[ngram]</td>\n",
       "      <td>0.070853</td>\n",
       "    </tr>\n",
       "    <tr>\n",
       "      <th>1</th>\n",
       "      <td>07_malignes-melanom_0207_3</td>\n",
       "      <td>Immuntherapien</td>\n",
       "      <td>Therapeutic</td>\n",
       "      <td>37</td>\n",
       "      <td>51</td>\n",
       "      <td>C0021083</td>\n",
       "      <td>[T061]</td>\n",
       "      <td>Immuntherapie</td>\n",
       "      <td>[ngram, sapbert]</td>\n",
       "      <td>0.138564</td>\n",
       "    </tr>\n",
       "    <tr>\n",
       "      <th>2</th>\n",
       "      <td>07_malignes-melanom_0207_3</td>\n",
       "      <td>Therapiebedürftigkeit</td>\n",
       "      <td>Other_Finding</td>\n",
       "      <td>107</td>\n",
       "      <td>128</td>\n",
       "      <td>C0013893</td>\n",
       "      <td>[T058]</td>\n",
       "      <td>Behandlungsbedürftigkeit, Begutachtung</td>\n",
       "      <td>[ngram, sapbert]</td>\n",
       "      <td>0.071025</td>\n",
       "    </tr>\n",
       "  </tbody>\n",
       "</table>\n",
       "</div>"
      ],
      "text/plain": [
       "                     document                   text           type  start  \\\n",
       "0  07_malignes-melanom_0207_3        zielgerichteten    Therapeutic     17   \n",
       "1  07_malignes-melanom_0207_3         Immuntherapien    Therapeutic     37   \n",
       "2  07_malignes-melanom_0207_3  Therapiebedürftigkeit  Other_Finding    107   \n",
       "\n",
       "   end       cui    tuis                               canonical  \\\n",
       "0   32  C2699893  [T061]              Molecular Targeted Therapy   \n",
       "1   51  C0021083  [T061]                           Immuntherapie   \n",
       "2  128  C0013893  [T058]  Behandlungsbedürftigkeit, Begutachtung   \n",
       "\n",
       "             linker  confidence  \n",
       "0           [ngram]    0.070853  \n",
       "1  [ngram, sapbert]    0.138564  \n",
       "2  [ngram, sapbert]    0.071025  "
      ]
     },
     "metadata": {},
     "output_type": "display_data"
    },
    {
     "data": {
      "application/vnd.jupyter.widget-view+json": {
       "model_id": "48bde80e30134ed4a28b40cdaa068d70",
       "version_major": 2,
       "version_minor": 0
      },
      "text/plain": [
       "  0%|          | 0/1 [00:00<?, ?it/s]"
      ]
     },
     "metadata": {},
     "output_type": "display_data"
    },
    {
     "data": {
      "text/html": [
       "<div>\n",
       "<style scoped>\n",
       "    .dataframe tbody tr th:only-of-type {\n",
       "        vertical-align: middle;\n",
       "    }\n",
       "\n",
       "    .dataframe tbody tr th {\n",
       "        vertical-align: top;\n",
       "    }\n",
       "\n",
       "    .dataframe thead th {\n",
       "        text-align: right;\n",
       "    }\n",
       "</style>\n",
       "<table border=\"1\" class=\"dataframe\">\n",
       "  <thead>\n",
       "    <tr style=\"text-align: right;\">\n",
       "      <th></th>\n",
       "      <th>document</th>\n",
       "      <th>text</th>\n",
       "      <th>type</th>\n",
       "      <th>start</th>\n",
       "      <th>end</th>\n",
       "      <th>cui</th>\n",
       "      <th>tuis</th>\n",
       "      <th>canonical</th>\n",
       "      <th>linker</th>\n",
       "      <th>confidence</th>\n",
       "    </tr>\n",
       "  </thead>\n",
       "  <tbody>\n",
       "    <tr>\n",
       "      <th>0</th>\n",
       "      <td>07_malignes-melanom_0207_3</td>\n",
       "      <td>zielgerichteten Therapien</td>\n",
       "      <td>Therapeutic</td>\n",
       "      <td>17</td>\n",
       "      <td>42</td>\n",
       "      <td>C2699893</td>\n",
       "      <td>[T061]</td>\n",
       "      <td>Molecular Targeted Therapy</td>\n",
       "      <td>[ngram, sapbert]</td>\n",
       "      <td>0.074096</td>\n",
       "    </tr>\n",
       "    <tr>\n",
       "      <th>1</th>\n",
       "      <td>07_malignes-melanom_0207_3</td>\n",
       "      <td>Immuntherapien</td>\n",
       "      <td>Therapeutic</td>\n",
       "      <td>47</td>\n",
       "      <td>61</td>\n",
       "      <td>C0021083</td>\n",
       "      <td>[T061]</td>\n",
       "      <td>Immuntherapie</td>\n",
       "      <td>[ngram, sapbert]</td>\n",
       "      <td>0.139869</td>\n",
       "    </tr>\n",
       "    <tr>\n",
       "      <th>2</th>\n",
       "      <td>07_malignes-melanom_0207_3</td>\n",
       "      <td>Therapiebedürftigkeit</td>\n",
       "      <td>Other_Finding</td>\n",
       "      <td>117</td>\n",
       "      <td>138</td>\n",
       "      <td>C0013893</td>\n",
       "      <td>[T058]</td>\n",
       "      <td>Behandlungsbedürftigkeit, Begutachtung</td>\n",
       "      <td>[ngram, sapbert]</td>\n",
       "      <td>0.068488</td>\n",
       "    </tr>\n",
       "  </tbody>\n",
       "</table>\n",
       "</div>"
      ],
      "text/plain": [
       "                     document                       text           type  \\\n",
       "0  07_malignes-melanom_0207_3  zielgerichteten Therapien    Therapeutic   \n",
       "1  07_malignes-melanom_0207_3             Immuntherapien    Therapeutic   \n",
       "2  07_malignes-melanom_0207_3      Therapiebedürftigkeit  Other_Finding   \n",
       "\n",
       "   start  end       cui    tuis                               canonical  \\\n",
       "0     17   42  C2699893  [T061]              Molecular Targeted Therapy   \n",
       "1     47   61  C0021083  [T061]                           Immuntherapie   \n",
       "2    117  138  C0013893  [T058]  Behandlungsbedürftigkeit, Begutachtung   \n",
       "\n",
       "             linker  confidence  \n",
       "0  [ngram, sapbert]    0.074096  \n",
       "1  [ngram, sapbert]    0.139869  \n",
       "2  [ngram, sapbert]    0.068488  "
      ]
     },
     "metadata": {},
     "output_type": "display_data"
    },
    {
     "name": "stdout",
     "output_type": "stream",
     "text": [
      "Difference 13\n"
     ]
    },
    {
     "data": {
      "text/markdown": [
       "Zielgerichtete Therapien wie die BRAF- und die MEK-Inhibitoren induzieren neben Reizüberleitungsstörungen eine Reduktion der Ejektionsfraktion [REF]."
      ],
      "text/plain": [
       "<IPython.core.display.Markdown object>"
      ]
     },
     "metadata": {},
     "output_type": "display_data"
    },
    {
     "data": {
      "text/markdown": [
       "Zielgerichtete Therapien wie die BRAF-Inhibitoren und die MEK-Inhibitoren induzieren neben Reizüberleitungsstörungen eine Reduktion der Ejektionsfraktion [REF]."
      ],
      "text/plain": [
       "<IPython.core.display.Markdown object>"
      ]
     },
     "metadata": {},
     "output_type": "display_data"
    },
    {
     "data": {
      "text/html": [
       "<html><body><div>Zielgerichtete Therapien wie die BRAF-<span style=\"background-color: lightgreen;\">Inhibitoren</span> und die MEK-Inhibitoren induzieren neben Reizüberleitungsstörungen eine Reduktion der Ejektionsfraktion [REF].</div></body></html>"
      ],
      "text/plain": [
       "<IPython.core.display.HTML object>"
      ]
     },
     "metadata": {},
     "output_type": "display_data"
    },
    {
     "data": {
      "application/vnd.jupyter.widget-view+json": {
       "model_id": "18bed6aff83c40829fb60d28d03b986a",
       "version_major": 2,
       "version_minor": 0
      },
      "text/plain": [
       "  0%|          | 0/1 [00:00<?, ?it/s]"
      ]
     },
     "metadata": {},
     "output_type": "display_data"
    },
    {
     "data": {
      "text/html": [
       "<div>\n",
       "<style scoped>\n",
       "    .dataframe tbody tr th:only-of-type {\n",
       "        vertical-align: middle;\n",
       "    }\n",
       "\n",
       "    .dataframe tbody tr th {\n",
       "        vertical-align: top;\n",
       "    }\n",
       "\n",
       "    .dataframe thead th {\n",
       "        text-align: right;\n",
       "    }\n",
       "</style>\n",
       "<table border=\"1\" class=\"dataframe\">\n",
       "  <thead>\n",
       "    <tr style=\"text-align: right;\">\n",
       "      <th></th>\n",
       "      <th>document</th>\n",
       "      <th>text</th>\n",
       "      <th>type</th>\n",
       "      <th>start</th>\n",
       "      <th>end</th>\n",
       "      <th>cui</th>\n",
       "      <th>tuis</th>\n",
       "      <th>canonical</th>\n",
       "      <th>linker</th>\n",
       "      <th>confidence</th>\n",
       "    </tr>\n",
       "  </thead>\n",
       "  <tbody>\n",
       "    <tr>\n",
       "      <th>0</th>\n",
       "      <td>07_malignes-melanom_0207_4</td>\n",
       "      <td>Zielgerichtete Therapien</td>\n",
       "      <td>Therapeutic</td>\n",
       "      <td>0</td>\n",
       "      <td>24</td>\n",
       "      <td>C2699893</td>\n",
       "      <td>[T061]</td>\n",
       "      <td>Molecular Targeted Therapy</td>\n",
       "      <td>[ngram, sapbert]</td>\n",
       "      <td>0.071887</td>\n",
       "    </tr>\n",
       "    <tr>\n",
       "      <th>1</th>\n",
       "      <td>07_malignes-melanom_0207_4</td>\n",
       "      <td>BRAF-</td>\n",
       "      <td>Clinical_Drug</td>\n",
       "      <td>33</td>\n",
       "      <td>38</td>\n",
       "      <td>C1259929</td>\n",
       "      <td>[T116, T123]</td>\n",
       "      <td>94 kDa B-raf Protein</td>\n",
       "      <td>[ngram, sapbert]</td>\n",
       "      <td>0.077549</td>\n",
       "    </tr>\n",
       "    <tr>\n",
       "      <th>2</th>\n",
       "      <td>07_malignes-melanom_0207_4</td>\n",
       "      <td>MEK-Inhibitoren</td>\n",
       "      <td>Clinical_Drug</td>\n",
       "      <td>47</td>\n",
       "      <td>62</td>\n",
       "      <td>C2347168</td>\n",
       "      <td>[T121]</td>\n",
       "      <td>MAPKK Inhibitor</td>\n",
       "      <td>[ngram, sapbert]</td>\n",
       "      <td>0.101331</td>\n",
       "    </tr>\n",
       "    <tr>\n",
       "      <th>3</th>\n",
       "      <td>07_malignes-melanom_0207_4</td>\n",
       "      <td>Reizüberleitungsstörungen</td>\n",
       "      <td>Diagnosis_or_Pathology</td>\n",
       "      <td>80</td>\n",
       "      <td>105</td>\n",
       "      <td>C0264886</td>\n",
       "      <td>[T047]</td>\n",
       "      <td>Kardiale Erregungsleitungssystem-Erkrankung</td>\n",
       "      <td>[ngram, sapbert]</td>\n",
       "      <td>0.149191</td>\n",
       "    </tr>\n",
       "    <tr>\n",
       "      <th>4</th>\n",
       "      <td>07_malignes-melanom_0207_4</td>\n",
       "      <td>Reduktion der Ejektionsfraktion</td>\n",
       "      <td>Diagnosis_or_Pathology</td>\n",
       "      <td>111</td>\n",
       "      <td>142</td>\n",
       "      <td>C0743400</td>\n",
       "      <td>[T033]</td>\n",
       "      <td>Auswurffraktion verkleinert</td>\n",
       "      <td>[ngram, sapbert]</td>\n",
       "      <td>0.072382</td>\n",
       "    </tr>\n",
       "  </tbody>\n",
       "</table>\n",
       "</div>"
      ],
      "text/plain": [
       "                     document                             text  \\\n",
       "0  07_malignes-melanom_0207_4         Zielgerichtete Therapien   \n",
       "1  07_malignes-melanom_0207_4                            BRAF-   \n",
       "2  07_malignes-melanom_0207_4                  MEK-Inhibitoren   \n",
       "3  07_malignes-melanom_0207_4        Reizüberleitungsstörungen   \n",
       "4  07_malignes-melanom_0207_4  Reduktion der Ejektionsfraktion   \n",
       "\n",
       "                     type  start  end       cui          tuis  \\\n",
       "0             Therapeutic      0   24  C2699893        [T061]   \n",
       "1           Clinical_Drug     33   38  C1259929  [T116, T123]   \n",
       "2           Clinical_Drug     47   62  C2347168        [T121]   \n",
       "3  Diagnosis_or_Pathology     80  105  C0264886        [T047]   \n",
       "4  Diagnosis_or_Pathology    111  142  C0743400        [T033]   \n",
       "\n",
       "                                     canonical            linker  confidence  \n",
       "0                   Molecular Targeted Therapy  [ngram, sapbert]    0.071887  \n",
       "1                         94 kDa B-raf Protein  [ngram, sapbert]    0.077549  \n",
       "2                              MAPKK Inhibitor  [ngram, sapbert]    0.101331  \n",
       "3  Kardiale Erregungsleitungssystem-Erkrankung  [ngram, sapbert]    0.149191  \n",
       "4                  Auswurffraktion verkleinert  [ngram, sapbert]    0.072382  "
      ]
     },
     "metadata": {},
     "output_type": "display_data"
    },
    {
     "data": {
      "application/vnd.jupyter.widget-view+json": {
       "model_id": "5dc65ef0115a435fb9615df9dfc6e35c",
       "version_major": 2,
       "version_minor": 0
      },
      "text/plain": [
       "  0%|          | 0/1 [00:00<?, ?it/s]"
      ]
     },
     "metadata": {},
     "output_type": "display_data"
    },
    {
     "data": {
      "text/html": [
       "<div>\n",
       "<style scoped>\n",
       "    .dataframe tbody tr th:only-of-type {\n",
       "        vertical-align: middle;\n",
       "    }\n",
       "\n",
       "    .dataframe tbody tr th {\n",
       "        vertical-align: top;\n",
       "    }\n",
       "\n",
       "    .dataframe thead th {\n",
       "        text-align: right;\n",
       "    }\n",
       "</style>\n",
       "<table border=\"1\" class=\"dataframe\">\n",
       "  <thead>\n",
       "    <tr style=\"text-align: right;\">\n",
       "      <th></th>\n",
       "      <th>document</th>\n",
       "      <th>text</th>\n",
       "      <th>type</th>\n",
       "      <th>start</th>\n",
       "      <th>end</th>\n",
       "      <th>cui</th>\n",
       "      <th>tuis</th>\n",
       "      <th>canonical</th>\n",
       "      <th>linker</th>\n",
       "      <th>confidence</th>\n",
       "    </tr>\n",
       "  </thead>\n",
       "  <tbody>\n",
       "    <tr>\n",
       "      <th>0</th>\n",
       "      <td>07_malignes-melanom_0207_4</td>\n",
       "      <td>Zielgerichtete Therapien</td>\n",
       "      <td>Therapeutic</td>\n",
       "      <td>0</td>\n",
       "      <td>24</td>\n",
       "      <td>C2699893</td>\n",
       "      <td>[T061]</td>\n",
       "      <td>Molecular Targeted Therapy</td>\n",
       "      <td>[ngram, sapbert]</td>\n",
       "      <td>0.072258</td>\n",
       "    </tr>\n",
       "    <tr>\n",
       "      <th>1</th>\n",
       "      <td>07_malignes-melanom_0207_4</td>\n",
       "      <td>BRAF-Inhibitoren</td>\n",
       "      <td>Clinical_Drug</td>\n",
       "      <td>33</td>\n",
       "      <td>49</td>\n",
       "      <td>C3838813</td>\n",
       "      <td>[T116, T121]</td>\n",
       "      <td>B-Raf inhibitor</td>\n",
       "      <td>[ngram, sapbert]</td>\n",
       "      <td>0.102607</td>\n",
       "    </tr>\n",
       "    <tr>\n",
       "      <th>2</th>\n",
       "      <td>07_malignes-melanom_0207_4</td>\n",
       "      <td>MEK-Inhibitoren</td>\n",
       "      <td>Clinical_Drug</td>\n",
       "      <td>58</td>\n",
       "      <td>73</td>\n",
       "      <td>C2347168</td>\n",
       "      <td>[T121]</td>\n",
       "      <td>MAPKK Inhibitor</td>\n",
       "      <td>[ngram, sapbert]</td>\n",
       "      <td>0.100303</td>\n",
       "    </tr>\n",
       "    <tr>\n",
       "      <th>3</th>\n",
       "      <td>07_malignes-melanom_0207_4</td>\n",
       "      <td>Reizüberleitungsstörungen</td>\n",
       "      <td>Diagnosis_or_Pathology</td>\n",
       "      <td>91</td>\n",
       "      <td>116</td>\n",
       "      <td>C0264886</td>\n",
       "      <td>[T047]</td>\n",
       "      <td>Kardiale Erregungsleitungssystem-Erkrankung</td>\n",
       "      <td>[ngram, sapbert]</td>\n",
       "      <td>0.126522</td>\n",
       "    </tr>\n",
       "    <tr>\n",
       "      <th>4</th>\n",
       "      <td>07_malignes-melanom_0207_4</td>\n",
       "      <td>Reduktion der Ejektionsfraktion</td>\n",
       "      <td>Diagnosis_or_Pathology</td>\n",
       "      <td>122</td>\n",
       "      <td>153</td>\n",
       "      <td>C0743400</td>\n",
       "      <td>[T033]</td>\n",
       "      <td>Auswurffraktion verkleinert</td>\n",
       "      <td>[ngram, sapbert]</td>\n",
       "      <td>0.073114</td>\n",
       "    </tr>\n",
       "  </tbody>\n",
       "</table>\n",
       "</div>"
      ],
      "text/plain": [
       "                     document                             text  \\\n",
       "0  07_malignes-melanom_0207_4         Zielgerichtete Therapien   \n",
       "1  07_malignes-melanom_0207_4                 BRAF-Inhibitoren   \n",
       "2  07_malignes-melanom_0207_4                  MEK-Inhibitoren   \n",
       "3  07_malignes-melanom_0207_4        Reizüberleitungsstörungen   \n",
       "4  07_malignes-melanom_0207_4  Reduktion der Ejektionsfraktion   \n",
       "\n",
       "                     type  start  end       cui          tuis  \\\n",
       "0             Therapeutic      0   24  C2699893        [T061]   \n",
       "1           Clinical_Drug     33   49  C3838813  [T116, T121]   \n",
       "2           Clinical_Drug     58   73  C2347168        [T121]   \n",
       "3  Diagnosis_or_Pathology     91  116  C0264886        [T047]   \n",
       "4  Diagnosis_or_Pathology    122  153  C0743400        [T033]   \n",
       "\n",
       "                                     canonical            linker  confidence  \n",
       "0                   Molecular Targeted Therapy  [ngram, sapbert]    0.072258  \n",
       "1                              B-Raf inhibitor  [ngram, sapbert]    0.102607  \n",
       "2                              MAPKK Inhibitor  [ngram, sapbert]    0.100303  \n",
       "3  Kardiale Erregungsleitungssystem-Erkrankung  [ngram, sapbert]    0.126522  \n",
       "4                  Auswurffraktion verkleinert  [ngram, sapbert]    0.073114  "
      ]
     },
     "metadata": {},
     "output_type": "display_data"
    },
    {
     "name": "stdout",
     "output_type": "stream",
     "text": [
      "Difference 14\n"
     ]
    },
    {
     "data": {
      "text/markdown": [
       "Unter Immuntherapien mit anti-CTLA4 und anti-PD1 Antikörper zeigten sich Myokarditiden, Perikarditiden, Perikardtamponade, Kardiomyopathie, Herzversagen, Reizleitungsstörungen, Myokardinfarkt bzw. kardiale Ischämie und Myokardfibrose [REF]."
      ],
      "text/plain": [
       "<IPython.core.display.Markdown object>"
      ]
     },
     "metadata": {},
     "output_type": "display_data"
    },
    {
     "data": {
      "text/markdown": [
       "Unter Immuntherapien mit anti-CTLA4 Antikörper und anti-PD1 Antikörper zeigten sich Myokarditiden, Perikarditiden, Perikardtamponade, Kardiomyopathie, Herzversagen, Reizleitungsstörungen, Myokardinfarkt bzw. kardiale Ischämie und Myokardfibrose [REF]."
      ],
      "text/plain": [
       "<IPython.core.display.Markdown object>"
      ]
     },
     "metadata": {},
     "output_type": "display_data"
    },
    {
     "data": {
      "text/html": [
       "<html><body><div>Unter Immuntherapien mit anti-CTLA4 <span style=\"background-color: lightgreen;\">Antikörper </span>und anti-PD1 Antikörper zeigten sich Myokarditiden, Perikarditiden, Perikardtamponade, Kardiomyopathie, Herzversagen, Reizleitungsstörungen, Myokardinfarkt bzw. kardiale Ischämie und Myokardfibrose [REF].</div></body></html>"
      ],
      "text/plain": [
       "<IPython.core.display.HTML object>"
      ]
     },
     "metadata": {},
     "output_type": "display_data"
    },
    {
     "data": {
      "application/vnd.jupyter.widget-view+json": {
       "model_id": "80d542f01c264d6cb5552aa68b0ab2cb",
       "version_major": 2,
       "version_minor": 0
      },
      "text/plain": [
       "  0%|          | 0/1 [00:00<?, ?it/s]"
      ]
     },
     "metadata": {},
     "output_type": "display_data"
    },
    {
     "data": {
      "text/html": [
       "<div>\n",
       "<style scoped>\n",
       "    .dataframe tbody tr th:only-of-type {\n",
       "        vertical-align: middle;\n",
       "    }\n",
       "\n",
       "    .dataframe tbody tr th {\n",
       "        vertical-align: top;\n",
       "    }\n",
       "\n",
       "    .dataframe thead th {\n",
       "        text-align: right;\n",
       "    }\n",
       "</style>\n",
       "<table border=\"1\" class=\"dataframe\">\n",
       "  <thead>\n",
       "    <tr style=\"text-align: right;\">\n",
       "      <th></th>\n",
       "      <th>document</th>\n",
       "      <th>text</th>\n",
       "      <th>type</th>\n",
       "      <th>start</th>\n",
       "      <th>end</th>\n",
       "      <th>cui</th>\n",
       "      <th>tuis</th>\n",
       "      <th>canonical</th>\n",
       "      <th>linker</th>\n",
       "      <th>confidence</th>\n",
       "    </tr>\n",
       "  </thead>\n",
       "  <tbody>\n",
       "    <tr>\n",
       "      <th>0</th>\n",
       "      <td>07_malignes-melanom_0207_9</td>\n",
       "      <td>Immuntherapien mit anti-CTLA4 und anti-PD1 Ant...</td>\n",
       "      <td>Therapeutic</td>\n",
       "      <td>6</td>\n",
       "      <td>59</td>\n",
       "      <td>C1367202</td>\n",
       "      <td>[T116, T121, T129]</td>\n",
       "      <td>Ipilimumab</td>\n",
       "      <td>[sapbert]</td>\n",
       "      <td>0.064055</td>\n",
       "    </tr>\n",
       "    <tr>\n",
       "      <th>1</th>\n",
       "      <td>07_malignes-melanom_0207_9</td>\n",
       "      <td>anti-CTLA4</td>\n",
       "      <td>Clinical_Drug</td>\n",
       "      <td>25</td>\n",
       "      <td>35</td>\n",
       "      <td>C4289973</td>\n",
       "      <td>[T116]</td>\n",
       "      <td>Anti-CTLA-4 Monoclonal Antibody</td>\n",
       "      <td>[ngram, sapbert]</td>\n",
       "      <td>0.069021</td>\n",
       "    </tr>\n",
       "    <tr>\n",
       "      <th>2</th>\n",
       "      <td>07_malignes-melanom_0207_9</td>\n",
       "      <td>anti-CTLA4 und anti-PD1 Antikörper</td>\n",
       "      <td>Clinical_Drug</td>\n",
       "      <td>25</td>\n",
       "      <td>59</td>\n",
       "      <td>C4289973</td>\n",
       "      <td>[T116]</td>\n",
       "      <td>Anti-CTLA-4 Monoclonal Antibody</td>\n",
       "      <td>[ngram, sapbert]</td>\n",
       "      <td>0.065991</td>\n",
       "    </tr>\n",
       "    <tr>\n",
       "      <th>3</th>\n",
       "      <td>07_malignes-melanom_0207_9</td>\n",
       "      <td>anti-PD1 Antikörper</td>\n",
       "      <td>Clinical_Drug</td>\n",
       "      <td>40</td>\n",
       "      <td>59</td>\n",
       "      <td>C4289970</td>\n",
       "      <td>[T116, T121, T129]</td>\n",
       "      <td>Anti-PD1 Monoclonal Antibody</td>\n",
       "      <td>[ngram, sapbert]</td>\n",
       "      <td>0.066907</td>\n",
       "    </tr>\n",
       "    <tr>\n",
       "      <th>4</th>\n",
       "      <td>07_malignes-melanom_0207_9</td>\n",
       "      <td>Myokarditiden</td>\n",
       "      <td>Diagnosis_or_Pathology</td>\n",
       "      <td>73</td>\n",
       "      <td>86</td>\n",
       "      <td>C0027059</td>\n",
       "      <td>[T047]</td>\n",
       "      <td>Myokarditis</td>\n",
       "      <td>[ngram, sapbert]</td>\n",
       "      <td>0.099101</td>\n",
       "    </tr>\n",
       "    <tr>\n",
       "      <th>5</th>\n",
       "      <td>07_malignes-melanom_0207_9</td>\n",
       "      <td>Perikarditiden</td>\n",
       "      <td>Diagnosis_or_Pathology</td>\n",
       "      <td>88</td>\n",
       "      <td>102</td>\n",
       "      <td>C0031046</td>\n",
       "      <td>[T047]</td>\n",
       "      <td>Perikarditis</td>\n",
       "      <td>[ngram, sapbert]</td>\n",
       "      <td>0.122347</td>\n",
       "    </tr>\n",
       "    <tr>\n",
       "      <th>6</th>\n",
       "      <td>07_malignes-melanom_0207_9</td>\n",
       "      <td>Perikardtamponade</td>\n",
       "      <td>Diagnosis_or_Pathology</td>\n",
       "      <td>104</td>\n",
       "      <td>121</td>\n",
       "      <td>C0007177</td>\n",
       "      <td>[T047]</td>\n",
       "      <td>Herztamponade</td>\n",
       "      <td>[ngram, sapbert]</td>\n",
       "      <td>0.161796</td>\n",
       "    </tr>\n",
       "    <tr>\n",
       "      <th>7</th>\n",
       "      <td>07_malignes-melanom_0207_9</td>\n",
       "      <td>Kardiomyopathie</td>\n",
       "      <td>Diagnosis_or_Pathology</td>\n",
       "      <td>123</td>\n",
       "      <td>138</td>\n",
       "      <td>C0878544</td>\n",
       "      <td>[T047]</td>\n",
       "      <td>Myokardkrankheiten</td>\n",
       "      <td>[ngram, sapbert]</td>\n",
       "      <td>0.145596</td>\n",
       "    </tr>\n",
       "    <tr>\n",
       "      <th>8</th>\n",
       "      <td>07_malignes-melanom_0207_9</td>\n",
       "      <td>Herzversagen</td>\n",
       "      <td>Diagnosis_or_Pathology</td>\n",
       "      <td>140</td>\n",
       "      <td>152</td>\n",
       "      <td>C0018801</td>\n",
       "      <td>[T047]</td>\n",
       "      <td>Herzinsuffizienz</td>\n",
       "      <td>[ngram, sapbert]</td>\n",
       "      <td>0.132407</td>\n",
       "    </tr>\n",
       "    <tr>\n",
       "      <th>9</th>\n",
       "      <td>07_malignes-melanom_0207_9</td>\n",
       "      <td>Reizleitungsstörungen</td>\n",
       "      <td>Diagnosis_or_Pathology</td>\n",
       "      <td>154</td>\n",
       "      <td>175</td>\n",
       "      <td>C0264886</td>\n",
       "      <td>[T047]</td>\n",
       "      <td>Kardiale Erregungsleitungssystem-Erkrankung</td>\n",
       "      <td>[ngram, sapbert]</td>\n",
       "      <td>0.129754</td>\n",
       "    </tr>\n",
       "    <tr>\n",
       "      <th>10</th>\n",
       "      <td>07_malignes-melanom_0207_9</td>\n",
       "      <td>Myokardinfarkt</td>\n",
       "      <td>Diagnosis_or_Pathology</td>\n",
       "      <td>177</td>\n",
       "      <td>191</td>\n",
       "      <td>C0027051</td>\n",
       "      <td>[T047]</td>\n",
       "      <td>Myokardinfarkt</td>\n",
       "      <td>[ngram, sapbert]</td>\n",
       "      <td>0.132754</td>\n",
       "    </tr>\n",
       "    <tr>\n",
       "      <th>11</th>\n",
       "      <td>07_malignes-melanom_0207_9</td>\n",
       "      <td>kardiale Ischämie</td>\n",
       "      <td>Diagnosis_or_Pathology</td>\n",
       "      <td>197</td>\n",
       "      <td>214</td>\n",
       "      <td>C0151744</td>\n",
       "      <td>[T047]</td>\n",
       "      <td>Myokardischämie</td>\n",
       "      <td>[ngram, sapbert]</td>\n",
       "      <td>0.147217</td>\n",
       "    </tr>\n",
       "    <tr>\n",
       "      <th>12</th>\n",
       "      <td>07_malignes-melanom_0207_9</td>\n",
       "      <td>Myokardfibrose</td>\n",
       "      <td>Diagnosis_or_Pathology</td>\n",
       "      <td>219</td>\n",
       "      <td>233</td>\n",
       "      <td>C0151654</td>\n",
       "      <td>[T046]</td>\n",
       "      <td>Myokardfibrose</td>\n",
       "      <td>[ngram, sapbert]</td>\n",
       "      <td>0.149962</td>\n",
       "    </tr>\n",
       "  </tbody>\n",
       "</table>\n",
       "</div>"
      ],
      "text/plain": [
       "                      document  \\\n",
       "0   07_malignes-melanom_0207_9   \n",
       "1   07_malignes-melanom_0207_9   \n",
       "2   07_malignes-melanom_0207_9   \n",
       "3   07_malignes-melanom_0207_9   \n",
       "4   07_malignes-melanom_0207_9   \n",
       "5   07_malignes-melanom_0207_9   \n",
       "6   07_malignes-melanom_0207_9   \n",
       "7   07_malignes-melanom_0207_9   \n",
       "8   07_malignes-melanom_0207_9   \n",
       "9   07_malignes-melanom_0207_9   \n",
       "10  07_malignes-melanom_0207_9   \n",
       "11  07_malignes-melanom_0207_9   \n",
       "12  07_malignes-melanom_0207_9   \n",
       "\n",
       "                                                 text                    type  \\\n",
       "0   Immuntherapien mit anti-CTLA4 und anti-PD1 Ant...             Therapeutic   \n",
       "1                                          anti-CTLA4           Clinical_Drug   \n",
       "2                  anti-CTLA4 und anti-PD1 Antikörper           Clinical_Drug   \n",
       "3                                 anti-PD1 Antikörper           Clinical_Drug   \n",
       "4                                       Myokarditiden  Diagnosis_or_Pathology   \n",
       "5                                      Perikarditiden  Diagnosis_or_Pathology   \n",
       "6                                   Perikardtamponade  Diagnosis_or_Pathology   \n",
       "7                                     Kardiomyopathie  Diagnosis_or_Pathology   \n",
       "8                                        Herzversagen  Diagnosis_or_Pathology   \n",
       "9                               Reizleitungsstörungen  Diagnosis_or_Pathology   \n",
       "10                                     Myokardinfarkt  Diagnosis_or_Pathology   \n",
       "11                                  kardiale Ischämie  Diagnosis_or_Pathology   \n",
       "12                                     Myokardfibrose  Diagnosis_or_Pathology   \n",
       "\n",
       "    start  end       cui                tuis  \\\n",
       "0       6   59  C1367202  [T116, T121, T129]   \n",
       "1      25   35  C4289973              [T116]   \n",
       "2      25   59  C4289973              [T116]   \n",
       "3      40   59  C4289970  [T116, T121, T129]   \n",
       "4      73   86  C0027059              [T047]   \n",
       "5      88  102  C0031046              [T047]   \n",
       "6     104  121  C0007177              [T047]   \n",
       "7     123  138  C0878544              [T047]   \n",
       "8     140  152  C0018801              [T047]   \n",
       "9     154  175  C0264886              [T047]   \n",
       "10    177  191  C0027051              [T047]   \n",
       "11    197  214  C0151744              [T047]   \n",
       "12    219  233  C0151654              [T046]   \n",
       "\n",
       "                                      canonical            linker  confidence  \n",
       "0                                    Ipilimumab         [sapbert]    0.064055  \n",
       "1               Anti-CTLA-4 Monoclonal Antibody  [ngram, sapbert]    0.069021  \n",
       "2               Anti-CTLA-4 Monoclonal Antibody  [ngram, sapbert]    0.065991  \n",
       "3                  Anti-PD1 Monoclonal Antibody  [ngram, sapbert]    0.066907  \n",
       "4                                   Myokarditis  [ngram, sapbert]    0.099101  \n",
       "5                                  Perikarditis  [ngram, sapbert]    0.122347  \n",
       "6                                 Herztamponade  [ngram, sapbert]    0.161796  \n",
       "7                            Myokardkrankheiten  [ngram, sapbert]    0.145596  \n",
       "8                              Herzinsuffizienz  [ngram, sapbert]    0.132407  \n",
       "9   Kardiale Erregungsleitungssystem-Erkrankung  [ngram, sapbert]    0.129754  \n",
       "10                               Myokardinfarkt  [ngram, sapbert]    0.132754  \n",
       "11                              Myokardischämie  [ngram, sapbert]    0.147217  \n",
       "12                               Myokardfibrose  [ngram, sapbert]    0.149962  "
      ]
     },
     "metadata": {},
     "output_type": "display_data"
    },
    {
     "data": {
      "application/vnd.jupyter.widget-view+json": {
       "model_id": "f9fb4ceee76e4954854516043e017991",
       "version_major": 2,
       "version_minor": 0
      },
      "text/plain": [
       "  0%|          | 0/1 [00:00<?, ?it/s]"
      ]
     },
     "metadata": {},
     "output_type": "display_data"
    },
    {
     "data": {
      "text/html": [
       "<div>\n",
       "<style scoped>\n",
       "    .dataframe tbody tr th:only-of-type {\n",
       "        vertical-align: middle;\n",
       "    }\n",
       "\n",
       "    .dataframe tbody tr th {\n",
       "        vertical-align: top;\n",
       "    }\n",
       "\n",
       "    .dataframe thead th {\n",
       "        text-align: right;\n",
       "    }\n",
       "</style>\n",
       "<table border=\"1\" class=\"dataframe\">\n",
       "  <thead>\n",
       "    <tr style=\"text-align: right;\">\n",
       "      <th></th>\n",
       "      <th>document</th>\n",
       "      <th>text</th>\n",
       "      <th>type</th>\n",
       "      <th>start</th>\n",
       "      <th>end</th>\n",
       "      <th>cui</th>\n",
       "      <th>tuis</th>\n",
       "      <th>canonical</th>\n",
       "      <th>linker</th>\n",
       "      <th>confidence</th>\n",
       "    </tr>\n",
       "  </thead>\n",
       "  <tbody>\n",
       "    <tr>\n",
       "      <th>0</th>\n",
       "      <td>07_malignes-melanom_0207_9</td>\n",
       "      <td>Immuntherapien mit anti-CTLA4 Antikörper und a...</td>\n",
       "      <td>Therapeutic</td>\n",
       "      <td>6</td>\n",
       "      <td>70</td>\n",
       "      <td>C1367202</td>\n",
       "      <td>[T116, T121, T129]</td>\n",
       "      <td>Ipilimumab</td>\n",
       "      <td>[sapbert]</td>\n",
       "      <td>0.063651</td>\n",
       "    </tr>\n",
       "    <tr>\n",
       "      <th>1</th>\n",
       "      <td>07_malignes-melanom_0207_9</td>\n",
       "      <td>anti-CTLA4 Antikörper</td>\n",
       "      <td>Clinical_Drug</td>\n",
       "      <td>25</td>\n",
       "      <td>46</td>\n",
       "      <td>C4289973</td>\n",
       "      <td>[T116]</td>\n",
       "      <td>Anti-CTLA-4 Monoclonal Antibody</td>\n",
       "      <td>[ngram, sapbert]</td>\n",
       "      <td>0.069302</td>\n",
       "    </tr>\n",
       "    <tr>\n",
       "      <th>2</th>\n",
       "      <td>07_malignes-melanom_0207_9</td>\n",
       "      <td>anti-CTLA4 Antikörper und anti-PD1 Antikörper</td>\n",
       "      <td>Clinical_Drug</td>\n",
       "      <td>25</td>\n",
       "      <td>70</td>\n",
       "      <td>C4289973</td>\n",
       "      <td>[T116]</td>\n",
       "      <td>Anti-CTLA-4 Monoclonal Antibody</td>\n",
       "      <td>[ngram, sapbert]</td>\n",
       "      <td>0.066033</td>\n",
       "    </tr>\n",
       "    <tr>\n",
       "      <th>3</th>\n",
       "      <td>07_malignes-melanom_0207_9</td>\n",
       "      <td>anti-PD1 Antikörper</td>\n",
       "      <td>Clinical_Drug</td>\n",
       "      <td>51</td>\n",
       "      <td>70</td>\n",
       "      <td>C4289970</td>\n",
       "      <td>[T116, T121, T129]</td>\n",
       "      <td>Anti-PD1 Monoclonal Antibody</td>\n",
       "      <td>[ngram, sapbert]</td>\n",
       "      <td>0.066620</td>\n",
       "    </tr>\n",
       "    <tr>\n",
       "      <th>4</th>\n",
       "      <td>07_malignes-melanom_0207_9</td>\n",
       "      <td>Myokarditiden</td>\n",
       "      <td>Diagnosis_or_Pathology</td>\n",
       "      <td>84</td>\n",
       "      <td>97</td>\n",
       "      <td>C0027059</td>\n",
       "      <td>[T047]</td>\n",
       "      <td>Myokarditis</td>\n",
       "      <td>[ngram, sapbert]</td>\n",
       "      <td>0.097542</td>\n",
       "    </tr>\n",
       "    <tr>\n",
       "      <th>5</th>\n",
       "      <td>07_malignes-melanom_0207_9</td>\n",
       "      <td>Perikarditiden</td>\n",
       "      <td>Diagnosis_or_Pathology</td>\n",
       "      <td>99</td>\n",
       "      <td>113</td>\n",
       "      <td>C0031046</td>\n",
       "      <td>[T047]</td>\n",
       "      <td>Perikarditis</td>\n",
       "      <td>[ngram, sapbert]</td>\n",
       "      <td>0.130398</td>\n",
       "    </tr>\n",
       "    <tr>\n",
       "      <th>6</th>\n",
       "      <td>07_malignes-melanom_0207_9</td>\n",
       "      <td>Perikardtamponade</td>\n",
       "      <td>Diagnosis_or_Pathology</td>\n",
       "      <td>115</td>\n",
       "      <td>132</td>\n",
       "      <td>C0007177</td>\n",
       "      <td>[T047]</td>\n",
       "      <td>Herztamponade</td>\n",
       "      <td>[ngram, sapbert]</td>\n",
       "      <td>0.160963</td>\n",
       "    </tr>\n",
       "    <tr>\n",
       "      <th>7</th>\n",
       "      <td>07_malignes-melanom_0207_9</td>\n",
       "      <td>Kardiomyopathie</td>\n",
       "      <td>Diagnosis_or_Pathology</td>\n",
       "      <td>134</td>\n",
       "      <td>149</td>\n",
       "      <td>C0878544</td>\n",
       "      <td>[T047]</td>\n",
       "      <td>Myokardkrankheiten</td>\n",
       "      <td>[ngram, sapbert]</td>\n",
       "      <td>0.144874</td>\n",
       "    </tr>\n",
       "    <tr>\n",
       "      <th>8</th>\n",
       "      <td>07_malignes-melanom_0207_9</td>\n",
       "      <td>Herzversagen</td>\n",
       "      <td>Diagnosis_or_Pathology</td>\n",
       "      <td>151</td>\n",
       "      <td>163</td>\n",
       "      <td>C0018801</td>\n",
       "      <td>[T047]</td>\n",
       "      <td>Herzinsuffizienz</td>\n",
       "      <td>[ngram, sapbert]</td>\n",
       "      <td>0.130615</td>\n",
       "    </tr>\n",
       "    <tr>\n",
       "      <th>9</th>\n",
       "      <td>07_malignes-melanom_0207_9</td>\n",
       "      <td>Reizleitungsstörungen</td>\n",
       "      <td>Diagnosis_or_Pathology</td>\n",
       "      <td>165</td>\n",
       "      <td>186</td>\n",
       "      <td>C0264886</td>\n",
       "      <td>[T047]</td>\n",
       "      <td>Kardiale Erregungsleitungssystem-Erkrankung</td>\n",
       "      <td>[ngram, sapbert]</td>\n",
       "      <td>0.132998</td>\n",
       "    </tr>\n",
       "    <tr>\n",
       "      <th>10</th>\n",
       "      <td>07_malignes-melanom_0207_9</td>\n",
       "      <td>Myokardinfarkt</td>\n",
       "      <td>Diagnosis_or_Pathology</td>\n",
       "      <td>188</td>\n",
       "      <td>202</td>\n",
       "      <td>C0027051</td>\n",
       "      <td>[T047]</td>\n",
       "      <td>Myokardinfarkt</td>\n",
       "      <td>[ngram, sapbert]</td>\n",
       "      <td>0.132754</td>\n",
       "    </tr>\n",
       "    <tr>\n",
       "      <th>11</th>\n",
       "      <td>07_malignes-melanom_0207_9</td>\n",
       "      <td>kardiale Ischämie</td>\n",
       "      <td>Diagnosis_or_Pathology</td>\n",
       "      <td>208</td>\n",
       "      <td>225</td>\n",
       "      <td>C0151744</td>\n",
       "      <td>[T047]</td>\n",
       "      <td>Myokardischämie</td>\n",
       "      <td>[ngram, sapbert]</td>\n",
       "      <td>0.147217</td>\n",
       "    </tr>\n",
       "    <tr>\n",
       "      <th>12</th>\n",
       "      <td>07_malignes-melanom_0207_9</td>\n",
       "      <td>Myokardfibrose</td>\n",
       "      <td>Diagnosis_or_Pathology</td>\n",
       "      <td>230</td>\n",
       "      <td>244</td>\n",
       "      <td>C0151654</td>\n",
       "      <td>[T046]</td>\n",
       "      <td>Myokardfibrose</td>\n",
       "      <td>[ngram, sapbert]</td>\n",
       "      <td>0.149962</td>\n",
       "    </tr>\n",
       "  </tbody>\n",
       "</table>\n",
       "</div>"
      ],
      "text/plain": [
       "                      document  \\\n",
       "0   07_malignes-melanom_0207_9   \n",
       "1   07_malignes-melanom_0207_9   \n",
       "2   07_malignes-melanom_0207_9   \n",
       "3   07_malignes-melanom_0207_9   \n",
       "4   07_malignes-melanom_0207_9   \n",
       "5   07_malignes-melanom_0207_9   \n",
       "6   07_malignes-melanom_0207_9   \n",
       "7   07_malignes-melanom_0207_9   \n",
       "8   07_malignes-melanom_0207_9   \n",
       "9   07_malignes-melanom_0207_9   \n",
       "10  07_malignes-melanom_0207_9   \n",
       "11  07_malignes-melanom_0207_9   \n",
       "12  07_malignes-melanom_0207_9   \n",
       "\n",
       "                                                 text                    type  \\\n",
       "0   Immuntherapien mit anti-CTLA4 Antikörper und a...             Therapeutic   \n",
       "1                               anti-CTLA4 Antikörper           Clinical_Drug   \n",
       "2       anti-CTLA4 Antikörper und anti-PD1 Antikörper           Clinical_Drug   \n",
       "3                                 anti-PD1 Antikörper           Clinical_Drug   \n",
       "4                                       Myokarditiden  Diagnosis_or_Pathology   \n",
       "5                                      Perikarditiden  Diagnosis_or_Pathology   \n",
       "6                                   Perikardtamponade  Diagnosis_or_Pathology   \n",
       "7                                     Kardiomyopathie  Diagnosis_or_Pathology   \n",
       "8                                        Herzversagen  Diagnosis_or_Pathology   \n",
       "9                               Reizleitungsstörungen  Diagnosis_or_Pathology   \n",
       "10                                     Myokardinfarkt  Diagnosis_or_Pathology   \n",
       "11                                  kardiale Ischämie  Diagnosis_or_Pathology   \n",
       "12                                     Myokardfibrose  Diagnosis_or_Pathology   \n",
       "\n",
       "    start  end       cui                tuis  \\\n",
       "0       6   70  C1367202  [T116, T121, T129]   \n",
       "1      25   46  C4289973              [T116]   \n",
       "2      25   70  C4289973              [T116]   \n",
       "3      51   70  C4289970  [T116, T121, T129]   \n",
       "4      84   97  C0027059              [T047]   \n",
       "5      99  113  C0031046              [T047]   \n",
       "6     115  132  C0007177              [T047]   \n",
       "7     134  149  C0878544              [T047]   \n",
       "8     151  163  C0018801              [T047]   \n",
       "9     165  186  C0264886              [T047]   \n",
       "10    188  202  C0027051              [T047]   \n",
       "11    208  225  C0151744              [T047]   \n",
       "12    230  244  C0151654              [T046]   \n",
       "\n",
       "                                      canonical            linker  confidence  \n",
       "0                                    Ipilimumab         [sapbert]    0.063651  \n",
       "1               Anti-CTLA-4 Monoclonal Antibody  [ngram, sapbert]    0.069302  \n",
       "2               Anti-CTLA-4 Monoclonal Antibody  [ngram, sapbert]    0.066033  \n",
       "3                  Anti-PD1 Monoclonal Antibody  [ngram, sapbert]    0.066620  \n",
       "4                                   Myokarditis  [ngram, sapbert]    0.097542  \n",
       "5                                  Perikarditis  [ngram, sapbert]    0.130398  \n",
       "6                                 Herztamponade  [ngram, sapbert]    0.160963  \n",
       "7                            Myokardkrankheiten  [ngram, sapbert]    0.144874  \n",
       "8                              Herzinsuffizienz  [ngram, sapbert]    0.130615  \n",
       "9   Kardiale Erregungsleitungssystem-Erkrankung  [ngram, sapbert]    0.132998  \n",
       "10                               Myokardinfarkt  [ngram, sapbert]    0.132754  \n",
       "11                              Myokardischämie  [ngram, sapbert]    0.147217  \n",
       "12                               Myokardfibrose  [ngram, sapbert]    0.149962  "
      ]
     },
     "metadata": {},
     "output_type": "display_data"
    },
    {
     "name": "stdout",
     "output_type": "stream",
     "text": [
      "Difference 15\n"
     ]
    },
    {
     "data": {
      "text/markdown": [
       "Bei Patienten unter BRAF/MEK-Inhibitortherapie müssen die Elektrolyte und das EKG vor und zunächst alle 4 Wochen nach Einleitung der Therapie bzw. nach Dosisänderungen untersucht werden."
      ],
      "text/plain": [
       "<IPython.core.display.Markdown object>"
      ]
     },
     "metadata": {},
     "output_type": "display_data"
    },
    {
     "data": {
      "text/markdown": [
       "Bei Patienten unter BRAF-Inhibitortherapie/MEK-Inhibitortherapie müssen die Elektrolyte und das EKG vor und zunächst alle 4 Wochen nach Einleitung der Therapie bzw. nach Dosisänderungen untersucht werden."
      ],
      "text/plain": [
       "<IPython.core.display.Markdown object>"
      ]
     },
     "metadata": {},
     "output_type": "display_data"
    },
    {
     "data": {
      "text/html": [
       "<html><body><div>Bei Patienten unter BRAF<span style=\"background-color: lightgreen;\">-Inhibitortherapie</span>/MEK-Inhibitortherapie müssen die Elektrolyte und das EKG vor und zunächst alle 4 Wochen nach Einleitung der Therapie bzw. nach Dosisänderungen untersucht werden.</div></body></html>"
      ],
      "text/plain": [
       "<IPython.core.display.HTML object>"
      ]
     },
     "metadata": {},
     "output_type": "display_data"
    },
    {
     "data": {
      "application/vnd.jupyter.widget-view+json": {
       "model_id": "2b62c9f7bb564b91aeb6bc5579b1248e",
       "version_major": 2,
       "version_minor": 0
      },
      "text/plain": [
       "  0%|          | 0/1 [00:00<?, ?it/s]"
      ]
     },
     "metadata": {},
     "output_type": "display_data"
    },
    {
     "data": {
      "text/html": [
       "<div>\n",
       "<style scoped>\n",
       "    .dataframe tbody tr th:only-of-type {\n",
       "        vertical-align: middle;\n",
       "    }\n",
       "\n",
       "    .dataframe tbody tr th {\n",
       "        vertical-align: top;\n",
       "    }\n",
       "\n",
       "    .dataframe thead th {\n",
       "        text-align: right;\n",
       "    }\n",
       "</style>\n",
       "<table border=\"1\" class=\"dataframe\">\n",
       "  <thead>\n",
       "    <tr style=\"text-align: right;\">\n",
       "      <th></th>\n",
       "      <th>document</th>\n",
       "      <th>text</th>\n",
       "      <th>type</th>\n",
       "      <th>start</th>\n",
       "      <th>end</th>\n",
       "      <th>cui</th>\n",
       "      <th>tuis</th>\n",
       "      <th>canonical</th>\n",
       "      <th>linker</th>\n",
       "      <th>confidence</th>\n",
       "    </tr>\n",
       "  </thead>\n",
       "  <tbody>\n",
       "    <tr>\n",
       "      <th>0</th>\n",
       "      <td>07_malignes-melanom_0207_14</td>\n",
       "      <td>BRAF</td>\n",
       "      <td>Therapeutic</td>\n",
       "      <td>20</td>\n",
       "      <td>24</td>\n",
       "      <td>C1259929</td>\n",
       "      <td>[T116, T123]</td>\n",
       "      <td>94 kDa B-raf Protein</td>\n",
       "      <td>[ngram, sapbert]</td>\n",
       "      <td>0.079368</td>\n",
       "    </tr>\n",
       "    <tr>\n",
       "      <th>1</th>\n",
       "      <td>07_malignes-melanom_0207_14</td>\n",
       "      <td>BRAF/MEK-Inhibitortherapie</td>\n",
       "      <td>Therapeutic</td>\n",
       "      <td>20</td>\n",
       "      <td>46</td>\n",
       "      <td>C4521853</td>\n",
       "      <td>[T080]</td>\n",
       "      <td>B-Raf inhibitor</td>\n",
       "      <td>[ngram, sapbert]</td>\n",
       "      <td>0.064098</td>\n",
       "    </tr>\n",
       "    <tr>\n",
       "      <th>2</th>\n",
       "      <td>07_malignes-melanom_0207_14</td>\n",
       "      <td>MEK-Inhibitortherapie</td>\n",
       "      <td>Therapeutic</td>\n",
       "      <td>25</td>\n",
       "      <td>46</td>\n",
       "      <td>C2347168</td>\n",
       "      <td>[T121]</td>\n",
       "      <td>MAPKK Inhibitor</td>\n",
       "      <td>[ngram, sapbert]</td>\n",
       "      <td>0.064760</td>\n",
       "    </tr>\n",
       "    <tr>\n",
       "      <th>3</th>\n",
       "      <td>07_malignes-melanom_0207_14</td>\n",
       "      <td>Elektrolyte</td>\n",
       "      <td>Nutrient_or_Body_Substance</td>\n",
       "      <td>58</td>\n",
       "      <td>69</td>\n",
       "      <td>C0013832</td>\n",
       "      <td>[T121, T197]</td>\n",
       "      <td>Elektrolyte</td>\n",
       "      <td>[ngram, sapbert]</td>\n",
       "      <td>0.069613</td>\n",
       "    </tr>\n",
       "    <tr>\n",
       "      <th>4</th>\n",
       "      <td>07_malignes-melanom_0207_14</td>\n",
       "      <td>EKG</td>\n",
       "      <td>Diagnostic</td>\n",
       "      <td>78</td>\n",
       "      <td>81</td>\n",
       "      <td>C0013798</td>\n",
       "      <td>[T060]</td>\n",
       "      <td>Elektrokardiogramm</td>\n",
       "      <td>[ngram, sapbert]</td>\n",
       "      <td>0.088079</td>\n",
       "    </tr>\n",
       "    <tr>\n",
       "      <th>5</th>\n",
       "      <td>07_malignes-melanom_0207_14</td>\n",
       "      <td>Einleitung der Therapie</td>\n",
       "      <td>Therapeutic</td>\n",
       "      <td>118</td>\n",
       "      <td>141</td>\n",
       "      <td>C4288398</td>\n",
       "      <td>[T061]</td>\n",
       "      <td>Pharmacotherapy Initiation</td>\n",
       "      <td>[sapbert]</td>\n",
       "      <td>0.066210</td>\n",
       "    </tr>\n",
       "    <tr>\n",
       "      <th>6</th>\n",
       "      <td>07_malignes-melanom_0207_14</td>\n",
       "      <td>Dosisänderungen</td>\n",
       "      <td>Therapeutic</td>\n",
       "      <td>152</td>\n",
       "      <td>167</td>\n",
       "      <td>C1827449</td>\n",
       "      <td>[T061]</td>\n",
       "      <td>Drug Tapering</td>\n",
       "      <td>[ngram, sapbert]</td>\n",
       "      <td>0.068877</td>\n",
       "    </tr>\n",
       "  </tbody>\n",
       "</table>\n",
       "</div>"
      ],
      "text/plain": [
       "                      document                        text  \\\n",
       "0  07_malignes-melanom_0207_14                        BRAF   \n",
       "1  07_malignes-melanom_0207_14  BRAF/MEK-Inhibitortherapie   \n",
       "2  07_malignes-melanom_0207_14       MEK-Inhibitortherapie   \n",
       "3  07_malignes-melanom_0207_14                 Elektrolyte   \n",
       "4  07_malignes-melanom_0207_14                         EKG   \n",
       "5  07_malignes-melanom_0207_14     Einleitung der Therapie   \n",
       "6  07_malignes-melanom_0207_14             Dosisänderungen   \n",
       "\n",
       "                         type  start  end       cui          tuis  \\\n",
       "0                 Therapeutic     20   24  C1259929  [T116, T123]   \n",
       "1                 Therapeutic     20   46  C4521853        [T080]   \n",
       "2                 Therapeutic     25   46  C2347168        [T121]   \n",
       "3  Nutrient_or_Body_Substance     58   69  C0013832  [T121, T197]   \n",
       "4                  Diagnostic     78   81  C0013798        [T060]   \n",
       "5                 Therapeutic    118  141  C4288398        [T061]   \n",
       "6                 Therapeutic    152  167  C1827449        [T061]   \n",
       "\n",
       "                    canonical            linker  confidence  \n",
       "0        94 kDa B-raf Protein  [ngram, sapbert]    0.079368  \n",
       "1             B-Raf inhibitor  [ngram, sapbert]    0.064098  \n",
       "2             MAPKK Inhibitor  [ngram, sapbert]    0.064760  \n",
       "3                 Elektrolyte  [ngram, sapbert]    0.069613  \n",
       "4          Elektrokardiogramm  [ngram, sapbert]    0.088079  \n",
       "5  Pharmacotherapy Initiation         [sapbert]    0.066210  \n",
       "6               Drug Tapering  [ngram, sapbert]    0.068877  "
      ]
     },
     "metadata": {},
     "output_type": "display_data"
    },
    {
     "data": {
      "application/vnd.jupyter.widget-view+json": {
       "model_id": "a2d891e79d1a486295257abe3b04f426",
       "version_major": 2,
       "version_minor": 0
      },
      "text/plain": [
       "  0%|          | 0/1 [00:00<?, ?it/s]"
      ]
     },
     "metadata": {},
     "output_type": "display_data"
    },
    {
     "data": {
      "text/html": [
       "<div>\n",
       "<style scoped>\n",
       "    .dataframe tbody tr th:only-of-type {\n",
       "        vertical-align: middle;\n",
       "    }\n",
       "\n",
       "    .dataframe tbody tr th {\n",
       "        vertical-align: top;\n",
       "    }\n",
       "\n",
       "    .dataframe thead th {\n",
       "        text-align: right;\n",
       "    }\n",
       "</style>\n",
       "<table border=\"1\" class=\"dataframe\">\n",
       "  <thead>\n",
       "    <tr style=\"text-align: right;\">\n",
       "      <th></th>\n",
       "      <th>document</th>\n",
       "      <th>text</th>\n",
       "      <th>type</th>\n",
       "      <th>start</th>\n",
       "      <th>end</th>\n",
       "      <th>cui</th>\n",
       "      <th>tuis</th>\n",
       "      <th>canonical</th>\n",
       "      <th>linker</th>\n",
       "      <th>confidence</th>\n",
       "    </tr>\n",
       "  </thead>\n",
       "  <tbody>\n",
       "    <tr>\n",
       "      <th>0</th>\n",
       "      <td>07_malignes-melanom_0207_14</td>\n",
       "      <td>BRAF-Inhibitortherapie</td>\n",
       "      <td>Therapeutic</td>\n",
       "      <td>20</td>\n",
       "      <td>42</td>\n",
       "      <td>C4521853</td>\n",
       "      <td>[T080]</td>\n",
       "      <td>B-Raf inhibitor</td>\n",
       "      <td>[ngram, sapbert]</td>\n",
       "      <td>0.069536</td>\n",
       "    </tr>\n",
       "    <tr>\n",
       "      <th>1</th>\n",
       "      <td>07_malignes-melanom_0207_14</td>\n",
       "      <td>MEK-Inhibitortherapie</td>\n",
       "      <td>Therapeutic</td>\n",
       "      <td>43</td>\n",
       "      <td>64</td>\n",
       "      <td>C2347168</td>\n",
       "      <td>[T121]</td>\n",
       "      <td>MAPKK Inhibitor</td>\n",
       "      <td>[ngram, sapbert]</td>\n",
       "      <td>0.065105</td>\n",
       "    </tr>\n",
       "    <tr>\n",
       "      <th>2</th>\n",
       "      <td>07_malignes-melanom_0207_14</td>\n",
       "      <td>Elektrolyte</td>\n",
       "      <td>Nutrient_or_Body_Substance</td>\n",
       "      <td>76</td>\n",
       "      <td>87</td>\n",
       "      <td>C0013832</td>\n",
       "      <td>[T121, T197]</td>\n",
       "      <td>Elektrolyte</td>\n",
       "      <td>[ngram, sapbert]</td>\n",
       "      <td>0.071724</td>\n",
       "    </tr>\n",
       "    <tr>\n",
       "      <th>3</th>\n",
       "      <td>07_malignes-melanom_0207_14</td>\n",
       "      <td>EKG</td>\n",
       "      <td>Diagnostic</td>\n",
       "      <td>96</td>\n",
       "      <td>99</td>\n",
       "      <td>C0013798</td>\n",
       "      <td>[T060]</td>\n",
       "      <td>Elektrokardiogramm</td>\n",
       "      <td>[ngram, sapbert]</td>\n",
       "      <td>0.088586</td>\n",
       "    </tr>\n",
       "    <tr>\n",
       "      <th>4</th>\n",
       "      <td>07_malignes-melanom_0207_14</td>\n",
       "      <td>Einleitung der Therapie</td>\n",
       "      <td>Therapeutic</td>\n",
       "      <td>136</td>\n",
       "      <td>159</td>\n",
       "      <td>C4288398</td>\n",
       "      <td>[T061]</td>\n",
       "      <td>Pharmacotherapy Initiation</td>\n",
       "      <td>[sapbert]</td>\n",
       "      <td>0.065879</td>\n",
       "    </tr>\n",
       "    <tr>\n",
       "      <th>5</th>\n",
       "      <td>07_malignes-melanom_0207_14</td>\n",
       "      <td>Dosisänderungen</td>\n",
       "      <td>Therapeutic</td>\n",
       "      <td>170</td>\n",
       "      <td>185</td>\n",
       "      <td>C1827449</td>\n",
       "      <td>[T061]</td>\n",
       "      <td>Drug Tapering</td>\n",
       "      <td>[ngram, sapbert]</td>\n",
       "      <td>0.068877</td>\n",
       "    </tr>\n",
       "  </tbody>\n",
       "</table>\n",
       "</div>"
      ],
      "text/plain": [
       "                      document                     text  \\\n",
       "0  07_malignes-melanom_0207_14   BRAF-Inhibitortherapie   \n",
       "1  07_malignes-melanom_0207_14    MEK-Inhibitortherapie   \n",
       "2  07_malignes-melanom_0207_14              Elektrolyte   \n",
       "3  07_malignes-melanom_0207_14                      EKG   \n",
       "4  07_malignes-melanom_0207_14  Einleitung der Therapie   \n",
       "5  07_malignes-melanom_0207_14          Dosisänderungen   \n",
       "\n",
       "                         type  start  end       cui          tuis  \\\n",
       "0                 Therapeutic     20   42  C4521853        [T080]   \n",
       "1                 Therapeutic     43   64  C2347168        [T121]   \n",
       "2  Nutrient_or_Body_Substance     76   87  C0013832  [T121, T197]   \n",
       "3                  Diagnostic     96   99  C0013798        [T060]   \n",
       "4                 Therapeutic    136  159  C4288398        [T061]   \n",
       "5                 Therapeutic    170  185  C1827449        [T061]   \n",
       "\n",
       "                    canonical            linker  confidence  \n",
       "0             B-Raf inhibitor  [ngram, sapbert]    0.069536  \n",
       "1             MAPKK Inhibitor  [ngram, sapbert]    0.065105  \n",
       "2                 Elektrolyte  [ngram, sapbert]    0.071724  \n",
       "3          Elektrokardiogramm  [ngram, sapbert]    0.088586  \n",
       "4  Pharmacotherapy Initiation         [sapbert]    0.065879  \n",
       "5               Drug Tapering  [ngram, sapbert]    0.068877  "
      ]
     },
     "metadata": {},
     "output_type": "display_data"
    },
    {
     "name": "stdout",
     "output_type": "stream",
     "text": [
      "Difference 16\n"
     ]
    },
    {
     "data": {
      "text/markdown": [
       "Vor und unter Immuntherapien mit anti-CTLA4 und anti-PD1 Antikörper sollte die CK regelmässig bestimmt werden, sowie immer bei Auftreten kardialer Symptome."
      ],
      "text/plain": [
       "<IPython.core.display.Markdown object>"
      ]
     },
     "metadata": {},
     "output_type": "display_data"
    },
    {
     "data": {
      "text/markdown": [
       "Vor und unter Immuntherapien mit anti-CTLA4 Antikörper und anti-PD1 Antikörper sollte die CK regelmässig bestimmt werden, sowie immer bei Auftreten kardialer Symptome."
      ],
      "text/plain": [
       "<IPython.core.display.Markdown object>"
      ]
     },
     "metadata": {},
     "output_type": "display_data"
    },
    {
     "data": {
      "text/html": [
       "<html><body><div>Vor und unter Immuntherapien mit anti-CTLA4<span style=\"background-color: lightgreen;\"> Antikörper</span> und anti-PD1 Antikörper sollte die CK regelmässig bestimmt werden, sowie immer bei Auftreten kardialer Symptome.</div></body></html>"
      ],
      "text/plain": [
       "<IPython.core.display.HTML object>"
      ]
     },
     "metadata": {},
     "output_type": "display_data"
    },
    {
     "data": {
      "application/vnd.jupyter.widget-view+json": {
       "model_id": "dd4887d60d014697b9fd761a2f43b220",
       "version_major": 2,
       "version_minor": 0
      },
      "text/plain": [
       "  0%|          | 0/1 [00:00<?, ?it/s]"
      ]
     },
     "metadata": {},
     "output_type": "display_data"
    },
    {
     "data": {
      "text/html": [
       "<div>\n",
       "<style scoped>\n",
       "    .dataframe tbody tr th:only-of-type {\n",
       "        vertical-align: middle;\n",
       "    }\n",
       "\n",
       "    .dataframe tbody tr th {\n",
       "        vertical-align: top;\n",
       "    }\n",
       "\n",
       "    .dataframe thead th {\n",
       "        text-align: right;\n",
       "    }\n",
       "</style>\n",
       "<table border=\"1\" class=\"dataframe\">\n",
       "  <thead>\n",
       "    <tr style=\"text-align: right;\">\n",
       "      <th></th>\n",
       "      <th>document</th>\n",
       "      <th>text</th>\n",
       "      <th>type</th>\n",
       "      <th>start</th>\n",
       "      <th>end</th>\n",
       "      <th>cui</th>\n",
       "      <th>tuis</th>\n",
       "      <th>canonical</th>\n",
       "      <th>linker</th>\n",
       "      <th>confidence</th>\n",
       "    </tr>\n",
       "  </thead>\n",
       "  <tbody>\n",
       "    <tr>\n",
       "      <th>0</th>\n",
       "      <td>07_malignes-melanom_0207_20</td>\n",
       "      <td>Immuntherapien mit anti-CTLA4 und anti-PD1 Ant...</td>\n",
       "      <td>Therapeutic</td>\n",
       "      <td>14</td>\n",
       "      <td>67</td>\n",
       "      <td>C1367202</td>\n",
       "      <td>[T116, T121, T129]</td>\n",
       "      <td>Ipilimumab</td>\n",
       "      <td>[sapbert]</td>\n",
       "      <td>0.064058</td>\n",
       "    </tr>\n",
       "    <tr>\n",
       "      <th>1</th>\n",
       "      <td>07_malignes-melanom_0207_20</td>\n",
       "      <td>anti-CTLA4</td>\n",
       "      <td>Clinical_Drug</td>\n",
       "      <td>33</td>\n",
       "      <td>43</td>\n",
       "      <td>C4289973</td>\n",
       "      <td>[T116]</td>\n",
       "      <td>Anti-CTLA-4 Monoclonal Antibody</td>\n",
       "      <td>[ngram, sapbert]</td>\n",
       "      <td>0.068610</td>\n",
       "    </tr>\n",
       "    <tr>\n",
       "      <th>2</th>\n",
       "      <td>07_malignes-melanom_0207_20</td>\n",
       "      <td>anti-CTLA4 und anti-PD1 Antikörper</td>\n",
       "      <td>Clinical_Drug</td>\n",
       "      <td>33</td>\n",
       "      <td>67</td>\n",
       "      <td>C4289973</td>\n",
       "      <td>[T116]</td>\n",
       "      <td>Anti-CTLA-4 Monoclonal Antibody</td>\n",
       "      <td>[ngram, sapbert]</td>\n",
       "      <td>0.065451</td>\n",
       "    </tr>\n",
       "    <tr>\n",
       "      <th>3</th>\n",
       "      <td>07_malignes-melanom_0207_20</td>\n",
       "      <td>anti-PD1 Antikörper</td>\n",
       "      <td>Clinical_Drug</td>\n",
       "      <td>48</td>\n",
       "      <td>67</td>\n",
       "      <td>C4289970</td>\n",
       "      <td>[T116, T121, T129]</td>\n",
       "      <td>Anti-PD1 Monoclonal Antibody</td>\n",
       "      <td>[ngram, sapbert]</td>\n",
       "      <td>0.069309</td>\n",
       "    </tr>\n",
       "    <tr>\n",
       "      <th>4</th>\n",
       "      <td>07_malignes-melanom_0207_20</td>\n",
       "      <td>CK</td>\n",
       "      <td>Nutrient_or_Body_Substance</td>\n",
       "      <td>79</td>\n",
       "      <td>81</td>\n",
       "      <td>C0010287</td>\n",
       "      <td>[T116, T126]</td>\n",
       "      <td>Creatinkinase</td>\n",
       "      <td>[ngram, sapbert]</td>\n",
       "      <td>0.082112</td>\n",
       "    </tr>\n",
       "    <tr>\n",
       "      <th>5</th>\n",
       "      <td>07_malignes-melanom_0207_20</td>\n",
       "      <td>Auftreten kardialer Symptome</td>\n",
       "      <td>Diagnosis_or_Pathology</td>\n",
       "      <td>127</td>\n",
       "      <td>155</td>\n",
       "      <td>C0476270</td>\n",
       "      <td>[T184]</td>\n",
       "      <td>Cardiovascular symptoms</td>\n",
       "      <td>[ngram, sapbert]</td>\n",
       "      <td>0.068689</td>\n",
       "    </tr>\n",
       "  </tbody>\n",
       "</table>\n",
       "</div>"
      ],
      "text/plain": [
       "                      document  \\\n",
       "0  07_malignes-melanom_0207_20   \n",
       "1  07_malignes-melanom_0207_20   \n",
       "2  07_malignes-melanom_0207_20   \n",
       "3  07_malignes-melanom_0207_20   \n",
       "4  07_malignes-melanom_0207_20   \n",
       "5  07_malignes-melanom_0207_20   \n",
       "\n",
       "                                                text  \\\n",
       "0  Immuntherapien mit anti-CTLA4 und anti-PD1 Ant...   \n",
       "1                                         anti-CTLA4   \n",
       "2                 anti-CTLA4 und anti-PD1 Antikörper   \n",
       "3                                anti-PD1 Antikörper   \n",
       "4                                                 CK   \n",
       "5                       Auftreten kardialer Symptome   \n",
       "\n",
       "                         type  start  end       cui                tuis  \\\n",
       "0                 Therapeutic     14   67  C1367202  [T116, T121, T129]   \n",
       "1               Clinical_Drug     33   43  C4289973              [T116]   \n",
       "2               Clinical_Drug     33   67  C4289973              [T116]   \n",
       "3               Clinical_Drug     48   67  C4289970  [T116, T121, T129]   \n",
       "4  Nutrient_or_Body_Substance     79   81  C0010287        [T116, T126]   \n",
       "5      Diagnosis_or_Pathology    127  155  C0476270              [T184]   \n",
       "\n",
       "                         canonical            linker  confidence  \n",
       "0                       Ipilimumab         [sapbert]    0.064058  \n",
       "1  Anti-CTLA-4 Monoclonal Antibody  [ngram, sapbert]    0.068610  \n",
       "2  Anti-CTLA-4 Monoclonal Antibody  [ngram, sapbert]    0.065451  \n",
       "3     Anti-PD1 Monoclonal Antibody  [ngram, sapbert]    0.069309  \n",
       "4                    Creatinkinase  [ngram, sapbert]    0.082112  \n",
       "5          Cardiovascular symptoms  [ngram, sapbert]    0.068689  "
      ]
     },
     "metadata": {},
     "output_type": "display_data"
    },
    {
     "data": {
      "application/vnd.jupyter.widget-view+json": {
       "model_id": "163668e98765496da88b433d71e1c72c",
       "version_major": 2,
       "version_minor": 0
      },
      "text/plain": [
       "  0%|          | 0/1 [00:00<?, ?it/s]"
      ]
     },
     "metadata": {},
     "output_type": "display_data"
    },
    {
     "data": {
      "text/html": [
       "<div>\n",
       "<style scoped>\n",
       "    .dataframe tbody tr th:only-of-type {\n",
       "        vertical-align: middle;\n",
       "    }\n",
       "\n",
       "    .dataframe tbody tr th {\n",
       "        vertical-align: top;\n",
       "    }\n",
       "\n",
       "    .dataframe thead th {\n",
       "        text-align: right;\n",
       "    }\n",
       "</style>\n",
       "<table border=\"1\" class=\"dataframe\">\n",
       "  <thead>\n",
       "    <tr style=\"text-align: right;\">\n",
       "      <th></th>\n",
       "      <th>document</th>\n",
       "      <th>text</th>\n",
       "      <th>type</th>\n",
       "      <th>start</th>\n",
       "      <th>end</th>\n",
       "      <th>cui</th>\n",
       "      <th>tuis</th>\n",
       "      <th>canonical</th>\n",
       "      <th>linker</th>\n",
       "      <th>confidence</th>\n",
       "    </tr>\n",
       "  </thead>\n",
       "  <tbody>\n",
       "    <tr>\n",
       "      <th>0</th>\n",
       "      <td>07_malignes-melanom_0207_20</td>\n",
       "      <td>Immuntherapien mit anti-CTLA4 Antikörper</td>\n",
       "      <td>Therapeutic</td>\n",
       "      <td>14</td>\n",
       "      <td>54</td>\n",
       "      <td>C1367202</td>\n",
       "      <td>[T116, T121, T129]</td>\n",
       "      <td>Ipilimumab</td>\n",
       "      <td>[sapbert]</td>\n",
       "      <td>0.065093</td>\n",
       "    </tr>\n",
       "    <tr>\n",
       "      <th>1</th>\n",
       "      <td>07_malignes-melanom_0207_20</td>\n",
       "      <td>Immuntherapien mit anti-CTLA4 Antikörper und a...</td>\n",
       "      <td>Therapeutic</td>\n",
       "      <td>14</td>\n",
       "      <td>78</td>\n",
       "      <td>C1367202</td>\n",
       "      <td>[T116, T121, T129]</td>\n",
       "      <td>Ipilimumab</td>\n",
       "      <td>[sapbert]</td>\n",
       "      <td>0.063941</td>\n",
       "    </tr>\n",
       "    <tr>\n",
       "      <th>2</th>\n",
       "      <td>07_malignes-melanom_0207_20</td>\n",
       "      <td>anti-CTLA4 Antikörper</td>\n",
       "      <td>Clinical_Drug</td>\n",
       "      <td>33</td>\n",
       "      <td>54</td>\n",
       "      <td>C4289973</td>\n",
       "      <td>[T116]</td>\n",
       "      <td>Anti-CTLA-4 Monoclonal Antibody</td>\n",
       "      <td>[ngram, sapbert]</td>\n",
       "      <td>0.069343</td>\n",
       "    </tr>\n",
       "    <tr>\n",
       "      <th>3</th>\n",
       "      <td>07_malignes-melanom_0207_20</td>\n",
       "      <td>anti-CTLA4 Antikörper und anti-PD1 Antikörper</td>\n",
       "      <td>Clinical_Drug</td>\n",
       "      <td>33</td>\n",
       "      <td>78</td>\n",
       "      <td>C4289973</td>\n",
       "      <td>[T116]</td>\n",
       "      <td>Anti-CTLA-4 Monoclonal Antibody</td>\n",
       "      <td>[ngram, sapbert]</td>\n",
       "      <td>0.065643</td>\n",
       "    </tr>\n",
       "    <tr>\n",
       "      <th>4</th>\n",
       "      <td>07_malignes-melanom_0207_20</td>\n",
       "      <td>anti-PD1 Antikörper</td>\n",
       "      <td>Clinical_Drug</td>\n",
       "      <td>59</td>\n",
       "      <td>78</td>\n",
       "      <td>C4289970</td>\n",
       "      <td>[T116, T121, T129]</td>\n",
       "      <td>Anti-PD1 Monoclonal Antibody</td>\n",
       "      <td>[ngram, sapbert]</td>\n",
       "      <td>0.068731</td>\n",
       "    </tr>\n",
       "    <tr>\n",
       "      <th>5</th>\n",
       "      <td>07_malignes-melanom_0207_20</td>\n",
       "      <td>CK</td>\n",
       "      <td>Nutrient_or_Body_Substance</td>\n",
       "      <td>90</td>\n",
       "      <td>92</td>\n",
       "      <td>C0010287</td>\n",
       "      <td>[T116, T126]</td>\n",
       "      <td>Creatinkinase</td>\n",
       "      <td>[ngram, sapbert]</td>\n",
       "      <td>0.083508</td>\n",
       "    </tr>\n",
       "    <tr>\n",
       "      <th>6</th>\n",
       "      <td>07_malignes-melanom_0207_20</td>\n",
       "      <td>Auftreten kardialer Symptome</td>\n",
       "      <td>Diagnosis_or_Pathology</td>\n",
       "      <td>138</td>\n",
       "      <td>166</td>\n",
       "      <td>C0476270</td>\n",
       "      <td>[T184]</td>\n",
       "      <td>Cardiovascular symptoms</td>\n",
       "      <td>[ngram, sapbert]</td>\n",
       "      <td>0.069976</td>\n",
       "    </tr>\n",
       "  </tbody>\n",
       "</table>\n",
       "</div>"
      ],
      "text/plain": [
       "                      document  \\\n",
       "0  07_malignes-melanom_0207_20   \n",
       "1  07_malignes-melanom_0207_20   \n",
       "2  07_malignes-melanom_0207_20   \n",
       "3  07_malignes-melanom_0207_20   \n",
       "4  07_malignes-melanom_0207_20   \n",
       "5  07_malignes-melanom_0207_20   \n",
       "6  07_malignes-melanom_0207_20   \n",
       "\n",
       "                                                text  \\\n",
       "0           Immuntherapien mit anti-CTLA4 Antikörper   \n",
       "1  Immuntherapien mit anti-CTLA4 Antikörper und a...   \n",
       "2                              anti-CTLA4 Antikörper   \n",
       "3      anti-CTLA4 Antikörper und anti-PD1 Antikörper   \n",
       "4                                anti-PD1 Antikörper   \n",
       "5                                                 CK   \n",
       "6                       Auftreten kardialer Symptome   \n",
       "\n",
       "                         type  start  end       cui                tuis  \\\n",
       "0                 Therapeutic     14   54  C1367202  [T116, T121, T129]   \n",
       "1                 Therapeutic     14   78  C1367202  [T116, T121, T129]   \n",
       "2               Clinical_Drug     33   54  C4289973              [T116]   \n",
       "3               Clinical_Drug     33   78  C4289973              [T116]   \n",
       "4               Clinical_Drug     59   78  C4289970  [T116, T121, T129]   \n",
       "5  Nutrient_or_Body_Substance     90   92  C0010287        [T116, T126]   \n",
       "6      Diagnosis_or_Pathology    138  166  C0476270              [T184]   \n",
       "\n",
       "                         canonical            linker  confidence  \n",
       "0                       Ipilimumab         [sapbert]    0.065093  \n",
       "1                       Ipilimumab         [sapbert]    0.063941  \n",
       "2  Anti-CTLA-4 Monoclonal Antibody  [ngram, sapbert]    0.069343  \n",
       "3  Anti-CTLA-4 Monoclonal Antibody  [ngram, sapbert]    0.065643  \n",
       "4     Anti-PD1 Monoclonal Antibody  [ngram, sapbert]    0.068731  \n",
       "5                    Creatinkinase  [ngram, sapbert]    0.083508  \n",
       "6          Cardiovascular symptoms  [ngram, sapbert]    0.069976  "
      ]
     },
     "metadata": {},
     "output_type": "display_data"
    },
    {
     "name": "stdout",
     "output_type": "stream",
     "text": [
      "Difference 17\n"
     ]
    },
    {
     "data": {
      "text/markdown": [
       "Kommt es unter der BRAF/MEK-Inhibitortherapie zu einer QTc-Verlängerung im EKG, muss die Dosis reduziert, die Medikamentengabe ausgesetzt oder ganz abgebrochen werden."
      ],
      "text/plain": [
       "<IPython.core.display.Markdown object>"
      ]
     },
     "metadata": {},
     "output_type": "display_data"
    },
    {
     "data": {
      "text/markdown": [
       "Kommt es unter der BRAF-Inhibitortherapie/MEK-Inhibitortherapie zu einer QTc-Verlängerung im EKG, muss die Dosis reduziert, die Medikamentengabe ausgesetzt oder ganz abgebrochen werden."
      ],
      "text/plain": [
       "<IPython.core.display.Markdown object>"
      ]
     },
     "metadata": {},
     "output_type": "display_data"
    },
    {
     "data": {
      "text/html": [
       "<html><body><div>Kommt es unter der BRAF<span style=\"background-color: lightgreen;\">-Inhibitortherapie</span>/MEK-Inhibitortherapie zu einer QTc-Verlängerung im EKG, muss die Dosis reduziert, die Medikamentengabe ausgesetzt oder ganz abgebrochen werden.</div></body></html>"
      ],
      "text/plain": [
       "<IPython.core.display.HTML object>"
      ]
     },
     "metadata": {},
     "output_type": "display_data"
    },
    {
     "data": {
      "application/vnd.jupyter.widget-view+json": {
       "model_id": "9c8b961235154576ad139fc9c4e223bd",
       "version_major": 2,
       "version_minor": 0
      },
      "text/plain": [
       "  0%|          | 0/1 [00:00<?, ?it/s]"
      ]
     },
     "metadata": {},
     "output_type": "display_data"
    },
    {
     "data": {
      "text/html": [
       "<div>\n",
       "<style scoped>\n",
       "    .dataframe tbody tr th:only-of-type {\n",
       "        vertical-align: middle;\n",
       "    }\n",
       "\n",
       "    .dataframe tbody tr th {\n",
       "        vertical-align: top;\n",
       "    }\n",
       "\n",
       "    .dataframe thead th {\n",
       "        text-align: right;\n",
       "    }\n",
       "</style>\n",
       "<table border=\"1\" class=\"dataframe\">\n",
       "  <thead>\n",
       "    <tr style=\"text-align: right;\">\n",
       "      <th></th>\n",
       "      <th>document</th>\n",
       "      <th>text</th>\n",
       "      <th>type</th>\n",
       "      <th>start</th>\n",
       "      <th>end</th>\n",
       "      <th>cui</th>\n",
       "      <th>tuis</th>\n",
       "      <th>canonical</th>\n",
       "      <th>linker</th>\n",
       "      <th>confidence</th>\n",
       "    </tr>\n",
       "  </thead>\n",
       "  <tbody>\n",
       "    <tr>\n",
       "      <th>0</th>\n",
       "      <td>07_malignes-melanom_0207_26</td>\n",
       "      <td>BRAF</td>\n",
       "      <td>Therapeutic</td>\n",
       "      <td>19</td>\n",
       "      <td>23</td>\n",
       "      <td>C1259929</td>\n",
       "      <td>[T116, T123]</td>\n",
       "      <td>94 kDa B-raf Protein</td>\n",
       "      <td>[ngram, sapbert]</td>\n",
       "      <td>0.081087</td>\n",
       "    </tr>\n",
       "    <tr>\n",
       "      <th>1</th>\n",
       "      <td>07_malignes-melanom_0207_26</td>\n",
       "      <td>BRAF/MEK-Inhibitortherapie</td>\n",
       "      <td>Therapeutic</td>\n",
       "      <td>19</td>\n",
       "      <td>45</td>\n",
       "      <td>C4521853</td>\n",
       "      <td>[T080]</td>\n",
       "      <td>B-Raf inhibitor</td>\n",
       "      <td>[ngram, sapbert]</td>\n",
       "      <td>0.064073</td>\n",
       "    </tr>\n",
       "    <tr>\n",
       "      <th>2</th>\n",
       "      <td>07_malignes-melanom_0207_26</td>\n",
       "      <td>MEK-Inhibitortherapie</td>\n",
       "      <td>Therapeutic</td>\n",
       "      <td>24</td>\n",
       "      <td>45</td>\n",
       "      <td>C2347168</td>\n",
       "      <td>[T121]</td>\n",
       "      <td>MAPKK Inhibitor</td>\n",
       "      <td>[ngram, sapbert]</td>\n",
       "      <td>0.064913</td>\n",
       "    </tr>\n",
       "    <tr>\n",
       "      <th>3</th>\n",
       "      <td>07_malignes-melanom_0207_26</td>\n",
       "      <td>QTc-Verlängerung im EKG</td>\n",
       "      <td>Diagnosis_or_Pathology</td>\n",
       "      <td>55</td>\n",
       "      <td>78</td>\n",
       "      <td>C0855333</td>\n",
       "      <td>[T033]</td>\n",
       "      <td>Elektrokardiogramm QT-korrigiertes Intervall v...</td>\n",
       "      <td>[ngram, sapbert]</td>\n",
       "      <td>0.067988</td>\n",
       "    </tr>\n",
       "    <tr>\n",
       "      <th>4</th>\n",
       "      <td>07_malignes-melanom_0207_26</td>\n",
       "      <td>Medikamentengabe</td>\n",
       "      <td>Therapeutic</td>\n",
       "      <td>110</td>\n",
       "      <td>126</td>\n",
       "      <td>C0001563</td>\n",
       "      <td>[T061]</td>\n",
       "      <td>Administration, Oral</td>\n",
       "      <td>[sapbert]</td>\n",
       "      <td>0.067705</td>\n",
       "    </tr>\n",
       "  </tbody>\n",
       "</table>\n",
       "</div>"
      ],
      "text/plain": [
       "                      document                        text  \\\n",
       "0  07_malignes-melanom_0207_26                        BRAF   \n",
       "1  07_malignes-melanom_0207_26  BRAF/MEK-Inhibitortherapie   \n",
       "2  07_malignes-melanom_0207_26       MEK-Inhibitortherapie   \n",
       "3  07_malignes-melanom_0207_26     QTc-Verlängerung im EKG   \n",
       "4  07_malignes-melanom_0207_26            Medikamentengabe   \n",
       "\n",
       "                     type  start  end       cui          tuis  \\\n",
       "0             Therapeutic     19   23  C1259929  [T116, T123]   \n",
       "1             Therapeutic     19   45  C4521853        [T080]   \n",
       "2             Therapeutic     24   45  C2347168        [T121]   \n",
       "3  Diagnosis_or_Pathology     55   78  C0855333        [T033]   \n",
       "4             Therapeutic    110  126  C0001563        [T061]   \n",
       "\n",
       "                                           canonical            linker  \\\n",
       "0                               94 kDa B-raf Protein  [ngram, sapbert]   \n",
       "1                                    B-Raf inhibitor  [ngram, sapbert]   \n",
       "2                                    MAPKK Inhibitor  [ngram, sapbert]   \n",
       "3  Elektrokardiogramm QT-korrigiertes Intervall v...  [ngram, sapbert]   \n",
       "4                               Administration, Oral         [sapbert]   \n",
       "\n",
       "   confidence  \n",
       "0    0.081087  \n",
       "1    0.064073  \n",
       "2    0.064913  \n",
       "3    0.067988  \n",
       "4    0.067705  "
      ]
     },
     "metadata": {},
     "output_type": "display_data"
    },
    {
     "data": {
      "application/vnd.jupyter.widget-view+json": {
       "model_id": "1bc93d8dcb354739aa2afe76fa708d04",
       "version_major": 2,
       "version_minor": 0
      },
      "text/plain": [
       "  0%|          | 0/1 [00:00<?, ?it/s]"
      ]
     },
     "metadata": {},
     "output_type": "display_data"
    },
    {
     "data": {
      "text/html": [
       "<div>\n",
       "<style scoped>\n",
       "    .dataframe tbody tr th:only-of-type {\n",
       "        vertical-align: middle;\n",
       "    }\n",
       "\n",
       "    .dataframe tbody tr th {\n",
       "        vertical-align: top;\n",
       "    }\n",
       "\n",
       "    .dataframe thead th {\n",
       "        text-align: right;\n",
       "    }\n",
       "</style>\n",
       "<table border=\"1\" class=\"dataframe\">\n",
       "  <thead>\n",
       "    <tr style=\"text-align: right;\">\n",
       "      <th></th>\n",
       "      <th>document</th>\n",
       "      <th>text</th>\n",
       "      <th>type</th>\n",
       "      <th>start</th>\n",
       "      <th>end</th>\n",
       "      <th>cui</th>\n",
       "      <th>tuis</th>\n",
       "      <th>canonical</th>\n",
       "      <th>linker</th>\n",
       "      <th>confidence</th>\n",
       "    </tr>\n",
       "  </thead>\n",
       "  <tbody>\n",
       "    <tr>\n",
       "      <th>0</th>\n",
       "      <td>07_malignes-melanom_0207_26</td>\n",
       "      <td>BRAF-Inhibitortherapie</td>\n",
       "      <td>Therapeutic</td>\n",
       "      <td>19</td>\n",
       "      <td>41</td>\n",
       "      <td>C3838813</td>\n",
       "      <td>[T116, T121]</td>\n",
       "      <td>B-Raf inhibitor</td>\n",
       "      <td>[ngram, sapbert]</td>\n",
       "      <td>0.069738</td>\n",
       "    </tr>\n",
       "    <tr>\n",
       "      <th>1</th>\n",
       "      <td>07_malignes-melanom_0207_26</td>\n",
       "      <td>MEK-Inhibitortherapie</td>\n",
       "      <td>Therapeutic</td>\n",
       "      <td>42</td>\n",
       "      <td>63</td>\n",
       "      <td>C2347168</td>\n",
       "      <td>[T121]</td>\n",
       "      <td>MAPKK Inhibitor</td>\n",
       "      <td>[ngram, sapbert]</td>\n",
       "      <td>0.065341</td>\n",
       "    </tr>\n",
       "    <tr>\n",
       "      <th>2</th>\n",
       "      <td>07_malignes-melanom_0207_26</td>\n",
       "      <td>QTc-Verlängerung im EKG</td>\n",
       "      <td>Diagnosis_or_Pathology</td>\n",
       "      <td>73</td>\n",
       "      <td>96</td>\n",
       "      <td>C0855333</td>\n",
       "      <td>[T033]</td>\n",
       "      <td>Elektrokardiogramm QT-korrigiertes Intervall v...</td>\n",
       "      <td>[ngram, sapbert]</td>\n",
       "      <td>0.067433</td>\n",
       "    </tr>\n",
       "    <tr>\n",
       "      <th>3</th>\n",
       "      <td>07_malignes-melanom_0207_26</td>\n",
       "      <td>Medikamentengabe</td>\n",
       "      <td>Therapeutic</td>\n",
       "      <td>128</td>\n",
       "      <td>144</td>\n",
       "      <td>C0001563</td>\n",
       "      <td>[T061]</td>\n",
       "      <td>Administration, Oral</td>\n",
       "      <td>[sapbert]</td>\n",
       "      <td>0.067696</td>\n",
       "    </tr>\n",
       "  </tbody>\n",
       "</table>\n",
       "</div>"
      ],
      "text/plain": [
       "                      document                     text  \\\n",
       "0  07_malignes-melanom_0207_26   BRAF-Inhibitortherapie   \n",
       "1  07_malignes-melanom_0207_26    MEK-Inhibitortherapie   \n",
       "2  07_malignes-melanom_0207_26  QTc-Verlängerung im EKG   \n",
       "3  07_malignes-melanom_0207_26         Medikamentengabe   \n",
       "\n",
       "                     type  start  end       cui          tuis  \\\n",
       "0             Therapeutic     19   41  C3838813  [T116, T121]   \n",
       "1             Therapeutic     42   63  C2347168        [T121]   \n",
       "2  Diagnosis_or_Pathology     73   96  C0855333        [T033]   \n",
       "3             Therapeutic    128  144  C0001563        [T061]   \n",
       "\n",
       "                                           canonical            linker  \\\n",
       "0                                    B-Raf inhibitor  [ngram, sapbert]   \n",
       "1                                    MAPKK Inhibitor  [ngram, sapbert]   \n",
       "2  Elektrokardiogramm QT-korrigiertes Intervall v...  [ngram, sapbert]   \n",
       "3                               Administration, Oral         [sapbert]   \n",
       "\n",
       "   confidence  \n",
       "0    0.069738  \n",
       "1    0.065341  \n",
       "2    0.067433  \n",
       "3    0.067696  "
      ]
     },
     "metadata": {},
     "output_type": "display_data"
    },
    {
     "name": "stdout",
     "output_type": "stream",
     "text": [
      "Difference 18\n"
     ]
    },
    {
     "data": {
      "text/markdown": [
       "In die „RAPID“-Studie des britischen „National Cancer Research Institute“(NCRI) wurden Patienten im Stadium IA/IIA eines klassischen Hodgkin Lymphoms (bei Diagnosestellung lag bei ca. 70% der Patienten nach der GHSG-Risikostratifizierung ein frühes Stadium vor) bei Vorliegen eines negativen PET/CTs nach drei Zyklen ABVD entweder in einen Nachbeobachtungsarm oder in einen Therapiearm mit konsolidierender Strahlentherapie mit 30 Gy IF-RT randomisiert."
      ],
      "text/plain": [
       "<IPython.core.display.Markdown object>"
      ]
     },
     "metadata": {},
     "output_type": "display_data"
    },
    {
     "data": {
      "text/markdown": [
       "In die „RAPID“-Studie des britischen „National Cancer Research Institute“(NCRI) wurden Patienten im Stadium IA/Stadium IIA eines klassischen Hodgkin Lymphoms (bei Diagnosestellung lag bei ca. 70% der Patienten nach der GHSG-Risikostratifizierung ein frühes Stadium vor) bei Vorliegen eines negativen PET/CTs nach drei Zyklen ABVD entweder in einen Nachbeobachtungsarm oder in einen Therapiearm mit konsolidierender Strahlentherapie mit 30 Gy IF-RT randomisiert."
      ],
      "text/plain": [
       "<IPython.core.display.Markdown object>"
      ]
     },
     "metadata": {},
     "output_type": "display_data"
    },
    {
     "data": {
      "text/html": [
       "<html><body><div>In die „RAPID“-Studie des britischen „National Cancer Research Institute“(NCRI) wurden Patienten im Stadium IA/<span style=\"background-color: lightgreen;\">Stadium </span>IIA eines klassischen Hodgkin Lymphoms (bei Diagnosestellung lag bei ca. 70% der Patienten nach der GHSG-Risikostratifizierung ein frühes Stadium vor) bei Vorliegen eines negativen PET/CTs nach drei Zyklen ABVD entweder in einen Nachbeobachtungsarm oder in einen Therapiearm mit konsolidierender Strahlentherapie mit 30 Gy IF-RT randomisiert.</div></body></html>"
      ],
      "text/plain": [
       "<IPython.core.display.HTML object>"
      ]
     },
     "metadata": {},
     "output_type": "display_data"
    },
    {
     "data": {
      "application/vnd.jupyter.widget-view+json": {
       "model_id": "f1bfca5a888c49ae865f6cdd77342dbc",
       "version_major": 2,
       "version_minor": 0
      },
      "text/plain": [
       "  0%|          | 0/1 [00:00<?, ?it/s]"
      ]
     },
     "metadata": {},
     "output_type": "display_data"
    },
    {
     "data": {
      "text/html": [
       "<div>\n",
       "<style scoped>\n",
       "    .dataframe tbody tr th:only-of-type {\n",
       "        vertical-align: middle;\n",
       "    }\n",
       "\n",
       "    .dataframe tbody tr th {\n",
       "        vertical-align: top;\n",
       "    }\n",
       "\n",
       "    .dataframe thead th {\n",
       "        text-align: right;\n",
       "    }\n",
       "</style>\n",
       "<table border=\"1\" class=\"dataframe\">\n",
       "  <thead>\n",
       "    <tr style=\"text-align: right;\">\n",
       "      <th></th>\n",
       "      <th>document</th>\n",
       "      <th>text</th>\n",
       "      <th>type</th>\n",
       "      <th>start</th>\n",
       "      <th>end</th>\n",
       "      <th>cui</th>\n",
       "      <th>tuis</th>\n",
       "      <th>canonical</th>\n",
       "      <th>linker</th>\n",
       "      <th>confidence</th>\n",
       "    </tr>\n",
       "  </thead>\n",
       "  <tbody>\n",
       "    <tr>\n",
       "      <th>0</th>\n",
       "      <td>18_hodgkin-lymphom_0051_5</td>\n",
       "      <td>Cancer</td>\n",
       "      <td>Diagnosis_or_Pathology</td>\n",
       "      <td>47</td>\n",
       "      <td>53</td>\n",
       "      <td>C0006826</td>\n",
       "      <td>[T191]</td>\n",
       "      <td>Krebserkrankung</td>\n",
       "      <td>[ngram, sapbert]</td>\n",
       "      <td>0.118521</td>\n",
       "    </tr>\n",
       "    <tr>\n",
       "      <th>1</th>\n",
       "      <td>18_hodgkin-lymphom_0051_5</td>\n",
       "      <td>Stadium IA/IIA eines klassischen Hodgkin Lymphoms</td>\n",
       "      <td>Diagnosis_or_Pathology</td>\n",
       "      <td>100</td>\n",
       "      <td>149</td>\n",
       "      <td>C0262516</td>\n",
       "      <td>[T191]</td>\n",
       "      <td>Ann Arbor Stage IIA Hodgkin Lymphoma</td>\n",
       "      <td>[ngram, sapbert]</td>\n",
       "      <td>0.068773</td>\n",
       "    </tr>\n",
       "    <tr>\n",
       "      <th>2</th>\n",
       "      <td>18_hodgkin-lymphom_0051_5</td>\n",
       "      <td>Diagnosestellung</td>\n",
       "      <td>Diagnostic</td>\n",
       "      <td>155</td>\n",
       "      <td>171</td>\n",
       "      <td>C0011900</td>\n",
       "      <td>[T060]</td>\n",
       "      <td>Diagnostik</td>\n",
       "      <td>[ngram, sapbert]</td>\n",
       "      <td>0.079946</td>\n",
       "    </tr>\n",
       "    <tr>\n",
       "      <th>3</th>\n",
       "      <td>18_hodgkin-lymphom_0051_5</td>\n",
       "      <td>GHSG-Risikostratifizierung</td>\n",
       "      <td>Diagnostic</td>\n",
       "      <td>211</td>\n",
       "      <td>237</td>\n",
       "      <td>C0391690</td>\n",
       "      <td>[T116, T192]</td>\n",
       "      <td>Rezeptoren, Ghrelin-</td>\n",
       "      <td>[sapbert]</td>\n",
       "      <td>0.063205</td>\n",
       "    </tr>\n",
       "    <tr>\n",
       "      <th>4</th>\n",
       "      <td>18_hodgkin-lymphom_0051_5</td>\n",
       "      <td>frühes Stadium</td>\n",
       "      <td>Diagnosis_or_Pathology</td>\n",
       "      <td>242</td>\n",
       "      <td>256</td>\n",
       "      <td>C2363430</td>\n",
       "      <td>[T079]</td>\n",
       "      <td>Early stage</td>\n",
       "      <td>[sapbert]</td>\n",
       "      <td>0.141263</td>\n",
       "    </tr>\n",
       "    <tr>\n",
       "      <th>5</th>\n",
       "      <td>18_hodgkin-lymphom_0051_5</td>\n",
       "      <td>drei Zyklen ABVD</td>\n",
       "      <td>Therapeutic</td>\n",
       "      <td>305</td>\n",
       "      <td>321</td>\n",
       "      <td>C0050380</td>\n",
       "      <td>[T061]</td>\n",
       "      <td>BLEO/DOX/DTIC/VBL</td>\n",
       "      <td>[sapbert]</td>\n",
       "      <td>0.067385</td>\n",
       "    </tr>\n",
       "    <tr>\n",
       "      <th>6</th>\n",
       "      <td>18_hodgkin-lymphom_0051_5</td>\n",
       "      <td>Nachbeobachtungsarm</td>\n",
       "      <td>Diagnostic</td>\n",
       "      <td>340</td>\n",
       "      <td>359</td>\n",
       "      <td>C4684721</td>\n",
       "      <td>[T058]</td>\n",
       "      <td>Observer Assessment</td>\n",
       "      <td>[sapbert]</td>\n",
       "      <td>0.082006</td>\n",
       "    </tr>\n",
       "    <tr>\n",
       "      <th>7</th>\n",
       "      <td>18_hodgkin-lymphom_0051_5</td>\n",
       "      <td>Therapiearm mit konsolidierender Strahlenthera...</td>\n",
       "      <td>Therapeutic</td>\n",
       "      <td>374</td>\n",
       "      <td>439</td>\n",
       "      <td>C1522449</td>\n",
       "      <td>[T061]</td>\n",
       "      <td>Strahlentherapie</td>\n",
       "      <td>[ngram]</td>\n",
       "      <td>0.067481</td>\n",
       "    </tr>\n",
       "  </tbody>\n",
       "</table>\n",
       "</div>"
      ],
      "text/plain": [
       "                    document  \\\n",
       "0  18_hodgkin-lymphom_0051_5   \n",
       "1  18_hodgkin-lymphom_0051_5   \n",
       "2  18_hodgkin-lymphom_0051_5   \n",
       "3  18_hodgkin-lymphom_0051_5   \n",
       "4  18_hodgkin-lymphom_0051_5   \n",
       "5  18_hodgkin-lymphom_0051_5   \n",
       "6  18_hodgkin-lymphom_0051_5   \n",
       "7  18_hodgkin-lymphom_0051_5   \n",
       "\n",
       "                                                text                    type  \\\n",
       "0                                             Cancer  Diagnosis_or_Pathology   \n",
       "1  Stadium IA/IIA eines klassischen Hodgkin Lymphoms  Diagnosis_or_Pathology   \n",
       "2                                   Diagnosestellung              Diagnostic   \n",
       "3                         GHSG-Risikostratifizierung              Diagnostic   \n",
       "4                                     frühes Stadium  Diagnosis_or_Pathology   \n",
       "5                                   drei Zyklen ABVD             Therapeutic   \n",
       "6                                Nachbeobachtungsarm              Diagnostic   \n",
       "7  Therapiearm mit konsolidierender Strahlenthera...             Therapeutic   \n",
       "\n",
       "   start  end       cui          tuis                             canonical  \\\n",
       "0     47   53  C0006826        [T191]                       Krebserkrankung   \n",
       "1    100  149  C0262516        [T191]  Ann Arbor Stage IIA Hodgkin Lymphoma   \n",
       "2    155  171  C0011900        [T060]                            Diagnostik   \n",
       "3    211  237  C0391690  [T116, T192]                  Rezeptoren, Ghrelin-   \n",
       "4    242  256  C2363430        [T079]                           Early stage   \n",
       "5    305  321  C0050380        [T061]                     BLEO/DOX/DTIC/VBL   \n",
       "6    340  359  C4684721        [T058]                   Observer Assessment   \n",
       "7    374  439  C1522449        [T061]                      Strahlentherapie   \n",
       "\n",
       "             linker  confidence  \n",
       "0  [ngram, sapbert]    0.118521  \n",
       "1  [ngram, sapbert]    0.068773  \n",
       "2  [ngram, sapbert]    0.079946  \n",
       "3         [sapbert]    0.063205  \n",
       "4         [sapbert]    0.141263  \n",
       "5         [sapbert]    0.067385  \n",
       "6         [sapbert]    0.082006  \n",
       "7           [ngram]    0.067481  "
      ]
     },
     "metadata": {},
     "output_type": "display_data"
    },
    {
     "data": {
      "application/vnd.jupyter.widget-view+json": {
       "model_id": "ec5475577b004d839ee382140683c0ff",
       "version_major": 2,
       "version_minor": 0
      },
      "text/plain": [
       "  0%|          | 0/1 [00:00<?, ?it/s]"
      ]
     },
     "metadata": {},
     "output_type": "display_data"
    },
    {
     "data": {
      "text/html": [
       "<div>\n",
       "<style scoped>\n",
       "    .dataframe tbody tr th:only-of-type {\n",
       "        vertical-align: middle;\n",
       "    }\n",
       "\n",
       "    .dataframe tbody tr th {\n",
       "        vertical-align: top;\n",
       "    }\n",
       "\n",
       "    .dataframe thead th {\n",
       "        text-align: right;\n",
       "    }\n",
       "</style>\n",
       "<table border=\"1\" class=\"dataframe\">\n",
       "  <thead>\n",
       "    <tr style=\"text-align: right;\">\n",
       "      <th></th>\n",
       "      <th>document</th>\n",
       "      <th>text</th>\n",
       "      <th>type</th>\n",
       "      <th>start</th>\n",
       "      <th>end</th>\n",
       "      <th>cui</th>\n",
       "      <th>tuis</th>\n",
       "      <th>canonical</th>\n",
       "      <th>linker</th>\n",
       "      <th>confidence</th>\n",
       "    </tr>\n",
       "  </thead>\n",
       "  <tbody>\n",
       "    <tr>\n",
       "      <th>0</th>\n",
       "      <td>18_hodgkin-lymphom_0051_5</td>\n",
       "      <td>Cancer</td>\n",
       "      <td>Diagnosis_or_Pathology</td>\n",
       "      <td>47</td>\n",
       "      <td>53</td>\n",
       "      <td>C0006826</td>\n",
       "      <td>[T191]</td>\n",
       "      <td>Krebserkrankung</td>\n",
       "      <td>[ngram, sapbert]</td>\n",
       "      <td>0.118089</td>\n",
       "    </tr>\n",
       "    <tr>\n",
       "      <th>1</th>\n",
       "      <td>18_hodgkin-lymphom_0051_5</td>\n",
       "      <td>Diagnosestellung</td>\n",
       "      <td>Diagnostic</td>\n",
       "      <td>163</td>\n",
       "      <td>179</td>\n",
       "      <td>C0011900</td>\n",
       "      <td>[T060]</td>\n",
       "      <td>Diagnostik</td>\n",
       "      <td>[ngram, sapbert]</td>\n",
       "      <td>0.079933</td>\n",
       "    </tr>\n",
       "    <tr>\n",
       "      <th>2</th>\n",
       "      <td>18_hodgkin-lymphom_0051_5</td>\n",
       "      <td>GHSG-Risikostratifizierung</td>\n",
       "      <td>Diagnostic</td>\n",
       "      <td>219</td>\n",
       "      <td>245</td>\n",
       "      <td>C0391690</td>\n",
       "      <td>[T116, T192]</td>\n",
       "      <td>Rezeptoren, Ghrelin-</td>\n",
       "      <td>[sapbert]</td>\n",
       "      <td>0.063113</td>\n",
       "    </tr>\n",
       "    <tr>\n",
       "      <th>3</th>\n",
       "      <td>18_hodgkin-lymphom_0051_5</td>\n",
       "      <td>frühes Stadium</td>\n",
       "      <td>Diagnosis_or_Pathology</td>\n",
       "      <td>250</td>\n",
       "      <td>264</td>\n",
       "      <td>C2363430</td>\n",
       "      <td>[T079]</td>\n",
       "      <td>Early stage</td>\n",
       "      <td>[sapbert]</td>\n",
       "      <td>0.141263</td>\n",
       "    </tr>\n",
       "    <tr>\n",
       "      <th>4</th>\n",
       "      <td>18_hodgkin-lymphom_0051_5</td>\n",
       "      <td>drei Zyklen ABVD</td>\n",
       "      <td>Therapeutic</td>\n",
       "      <td>313</td>\n",
       "      <td>329</td>\n",
       "      <td>C0050380</td>\n",
       "      <td>[T061]</td>\n",
       "      <td>BLEO/DOX/DTIC/VBL</td>\n",
       "      <td>[sapbert]</td>\n",
       "      <td>0.067385</td>\n",
       "    </tr>\n",
       "    <tr>\n",
       "      <th>5</th>\n",
       "      <td>18_hodgkin-lymphom_0051_5</td>\n",
       "      <td>Nachbeobachtungsarm</td>\n",
       "      <td>Diagnostic</td>\n",
       "      <td>348</td>\n",
       "      <td>367</td>\n",
       "      <td>C4684721</td>\n",
       "      <td>[T058]</td>\n",
       "      <td>Observer Assessment</td>\n",
       "      <td>[sapbert]</td>\n",
       "      <td>0.082006</td>\n",
       "    </tr>\n",
       "    <tr>\n",
       "      <th>6</th>\n",
       "      <td>18_hodgkin-lymphom_0051_5</td>\n",
       "      <td>Therapiearm mit konsolidierender Strahlenthera...</td>\n",
       "      <td>Therapeutic</td>\n",
       "      <td>382</td>\n",
       "      <td>447</td>\n",
       "      <td>C1522449</td>\n",
       "      <td>[T061]</td>\n",
       "      <td>Strahlentherapie</td>\n",
       "      <td>[ngram]</td>\n",
       "      <td>0.067481</td>\n",
       "    </tr>\n",
       "  </tbody>\n",
       "</table>\n",
       "</div>"
      ],
      "text/plain": [
       "                    document  \\\n",
       "0  18_hodgkin-lymphom_0051_5   \n",
       "1  18_hodgkin-lymphom_0051_5   \n",
       "2  18_hodgkin-lymphom_0051_5   \n",
       "3  18_hodgkin-lymphom_0051_5   \n",
       "4  18_hodgkin-lymphom_0051_5   \n",
       "5  18_hodgkin-lymphom_0051_5   \n",
       "6  18_hodgkin-lymphom_0051_5   \n",
       "\n",
       "                                                text                    type  \\\n",
       "0                                             Cancer  Diagnosis_or_Pathology   \n",
       "1                                   Diagnosestellung              Diagnostic   \n",
       "2                         GHSG-Risikostratifizierung              Diagnostic   \n",
       "3                                     frühes Stadium  Diagnosis_or_Pathology   \n",
       "4                                   drei Zyklen ABVD             Therapeutic   \n",
       "5                                Nachbeobachtungsarm              Diagnostic   \n",
       "6  Therapiearm mit konsolidierender Strahlenthera...             Therapeutic   \n",
       "\n",
       "   start  end       cui          tuis             canonical            linker  \\\n",
       "0     47   53  C0006826        [T191]       Krebserkrankung  [ngram, sapbert]   \n",
       "1    163  179  C0011900        [T060]            Diagnostik  [ngram, sapbert]   \n",
       "2    219  245  C0391690  [T116, T192]  Rezeptoren, Ghrelin-         [sapbert]   \n",
       "3    250  264  C2363430        [T079]           Early stage         [sapbert]   \n",
       "4    313  329  C0050380        [T061]     BLEO/DOX/DTIC/VBL         [sapbert]   \n",
       "5    348  367  C4684721        [T058]   Observer Assessment         [sapbert]   \n",
       "6    382  447  C1522449        [T061]      Strahlentherapie           [ngram]   \n",
       "\n",
       "   confidence  \n",
       "0    0.118089  \n",
       "1    0.079933  \n",
       "2    0.063113  \n",
       "3    0.141263  \n",
       "4    0.067385  \n",
       "5    0.082006  \n",
       "6    0.067481  "
      ]
     },
     "metadata": {},
     "output_type": "display_data"
    },
    {
     "name": "stdout",
     "output_type": "stream",
     "text": [
      "Difference 19\n"
     ]
    },
    {
     "data": {
      "text/markdown": [
       "Empfehlungen zur Nachsorge nach Abschluss der Chemo- und Strahlentherapie"
      ],
      "text/plain": [
       "<IPython.core.display.Markdown object>"
      ]
     },
     "metadata": {},
     "output_type": "display_data"
    },
    {
     "data": {
      "text/markdown": [
       "Empfehlungen zur Nachsorge nach Abschluss der Chemotherapie und Strahlentherapie"
      ],
      "text/plain": [
       "<IPython.core.display.Markdown object>"
      ]
     },
     "metadata": {},
     "output_type": "display_data"
    },
    {
     "data": {
      "text/html": [
       "<html><body><div>Empfehlungen zur Nachsorge nach Abschluss der Chemo<span style=\"background-color: red; text-decoration: line-through;\">-</span><span style=\"background-color: lightgreen;\">therapie</span> und Strahlentherapie</div></body></html>"
      ],
      "text/plain": [
       "<IPython.core.display.HTML object>"
      ]
     },
     "metadata": {},
     "output_type": "display_data"
    },
    {
     "data": {
      "application/vnd.jupyter.widget-view+json": {
       "model_id": "e327355c21794ce1a58bdc42a4a7ed0c",
       "version_major": 2,
       "version_minor": 0
      },
      "text/plain": [
       "  0%|          | 0/1 [00:00<?, ?it/s]"
      ]
     },
     "metadata": {},
     "output_type": "display_data"
    },
    {
     "data": {
      "text/html": [
       "<div>\n",
       "<style scoped>\n",
       "    .dataframe tbody tr th:only-of-type {\n",
       "        vertical-align: middle;\n",
       "    }\n",
       "\n",
       "    .dataframe tbody tr th {\n",
       "        vertical-align: top;\n",
       "    }\n",
       "\n",
       "    .dataframe thead th {\n",
       "        text-align: right;\n",
       "    }\n",
       "</style>\n",
       "<table border=\"1\" class=\"dataframe\">\n",
       "  <thead>\n",
       "    <tr style=\"text-align: right;\">\n",
       "      <th></th>\n",
       "      <th>document</th>\n",
       "      <th>text</th>\n",
       "      <th>type</th>\n",
       "      <th>start</th>\n",
       "      <th>end</th>\n",
       "      <th>cui</th>\n",
       "      <th>tuis</th>\n",
       "      <th>canonical</th>\n",
       "      <th>linker</th>\n",
       "      <th>confidence</th>\n",
       "    </tr>\n",
       "  </thead>\n",
       "  <tbody>\n",
       "    <tr>\n",
       "      <th>0</th>\n",
       "      <td>18_hodgkin-lymphom_0051_42</td>\n",
       "      <td>Nachsorge</td>\n",
       "      <td>Diagnostic</td>\n",
       "      <td>17</td>\n",
       "      <td>26</td>\n",
       "      <td>C0001758</td>\n",
       "      <td>[T058]</td>\n",
       "      <td>Nachsorge</td>\n",
       "      <td>[ngram, sapbert]</td>\n",
       "      <td>0.109718</td>\n",
       "    </tr>\n",
       "    <tr>\n",
       "      <th>1</th>\n",
       "      <td>18_hodgkin-lymphom_0051_42</td>\n",
       "      <td>Chemo-</td>\n",
       "      <td>Therapeutic</td>\n",
       "      <td>46</td>\n",
       "      <td>52</td>\n",
       "      <td>C3665472</td>\n",
       "      <td>[T061]</td>\n",
       "      <td>Chemotherapie</td>\n",
       "      <td>[ngram, sapbert]</td>\n",
       "      <td>0.096639</td>\n",
       "    </tr>\n",
       "    <tr>\n",
       "      <th>2</th>\n",
       "      <td>18_hodgkin-lymphom_0051_42</td>\n",
       "      <td>Strahlentherapie</td>\n",
       "      <td>Therapeutic</td>\n",
       "      <td>57</td>\n",
       "      <td>73</td>\n",
       "      <td>C1522449</td>\n",
       "      <td>[T061]</td>\n",
       "      <td>Strahlentherapie</td>\n",
       "      <td>[ngram, sapbert]</td>\n",
       "      <td>0.141216</td>\n",
       "    </tr>\n",
       "  </tbody>\n",
       "</table>\n",
       "</div>"
      ],
      "text/plain": [
       "                     document              text         type  start  end  \\\n",
       "0  18_hodgkin-lymphom_0051_42         Nachsorge   Diagnostic     17   26   \n",
       "1  18_hodgkin-lymphom_0051_42            Chemo-  Therapeutic     46   52   \n",
       "2  18_hodgkin-lymphom_0051_42  Strahlentherapie  Therapeutic     57   73   \n",
       "\n",
       "        cui    tuis         canonical            linker  confidence  \n",
       "0  C0001758  [T058]         Nachsorge  [ngram, sapbert]    0.109718  \n",
       "1  C3665472  [T061]     Chemotherapie  [ngram, sapbert]    0.096639  \n",
       "2  C1522449  [T061]  Strahlentherapie  [ngram, sapbert]    0.141216  "
      ]
     },
     "metadata": {},
     "output_type": "display_data"
    },
    {
     "data": {
      "application/vnd.jupyter.widget-view+json": {
       "model_id": "388bbc435b0d4716b98d3558c4e928cb",
       "version_major": 2,
       "version_minor": 0
      },
      "text/plain": [
       "  0%|          | 0/1 [00:00<?, ?it/s]"
      ]
     },
     "metadata": {},
     "output_type": "display_data"
    },
    {
     "data": {
      "text/html": [
       "<div>\n",
       "<style scoped>\n",
       "    .dataframe tbody tr th:only-of-type {\n",
       "        vertical-align: middle;\n",
       "    }\n",
       "\n",
       "    .dataframe tbody tr th {\n",
       "        vertical-align: top;\n",
       "    }\n",
       "\n",
       "    .dataframe thead th {\n",
       "        text-align: right;\n",
       "    }\n",
       "</style>\n",
       "<table border=\"1\" class=\"dataframe\">\n",
       "  <thead>\n",
       "    <tr style=\"text-align: right;\">\n",
       "      <th></th>\n",
       "      <th>document</th>\n",
       "      <th>text</th>\n",
       "      <th>type</th>\n",
       "      <th>start</th>\n",
       "      <th>end</th>\n",
       "      <th>cui</th>\n",
       "      <th>tuis</th>\n",
       "      <th>canonical</th>\n",
       "      <th>linker</th>\n",
       "      <th>confidence</th>\n",
       "    </tr>\n",
       "  </thead>\n",
       "  <tbody>\n",
       "    <tr>\n",
       "      <th>0</th>\n",
       "      <td>18_hodgkin-lymphom_0051_42</td>\n",
       "      <td>Nachsorge</td>\n",
       "      <td>Diagnostic</td>\n",
       "      <td>17</td>\n",
       "      <td>26</td>\n",
       "      <td>C0001758</td>\n",
       "      <td>[T058]</td>\n",
       "      <td>Nachsorge</td>\n",
       "      <td>[ngram, sapbert]</td>\n",
       "      <td>0.114159</td>\n",
       "    </tr>\n",
       "    <tr>\n",
       "      <th>1</th>\n",
       "      <td>18_hodgkin-lymphom_0051_42</td>\n",
       "      <td>Abschluss der Chemotherapie</td>\n",
       "      <td>Therapeutic</td>\n",
       "      <td>32</td>\n",
       "      <td>59</td>\n",
       "      <td>C3665472</td>\n",
       "      <td>[T061]</td>\n",
       "      <td>Chemotherapie</td>\n",
       "      <td>[ngram, sapbert]</td>\n",
       "      <td>0.066714</td>\n",
       "    </tr>\n",
       "    <tr>\n",
       "      <th>2</th>\n",
       "      <td>18_hodgkin-lymphom_0051_42</td>\n",
       "      <td>Chemotherapie</td>\n",
       "      <td>Therapeutic</td>\n",
       "      <td>46</td>\n",
       "      <td>59</td>\n",
       "      <td>C3665472</td>\n",
       "      <td>[T061]</td>\n",
       "      <td>Chemotherapie</td>\n",
       "      <td>[ngram, sapbert]</td>\n",
       "      <td>0.115146</td>\n",
       "    </tr>\n",
       "    <tr>\n",
       "      <th>3</th>\n",
       "      <td>18_hodgkin-lymphom_0051_42</td>\n",
       "      <td>Strahlentherapie</td>\n",
       "      <td>Therapeutic</td>\n",
       "      <td>64</td>\n",
       "      <td>80</td>\n",
       "      <td>C1522449</td>\n",
       "      <td>[T061]</td>\n",
       "      <td>Strahlentherapie</td>\n",
       "      <td>[ngram, sapbert]</td>\n",
       "      <td>0.140303</td>\n",
       "    </tr>\n",
       "  </tbody>\n",
       "</table>\n",
       "</div>"
      ],
      "text/plain": [
       "                     document                         text         type  \\\n",
       "0  18_hodgkin-lymphom_0051_42                    Nachsorge   Diagnostic   \n",
       "1  18_hodgkin-lymphom_0051_42  Abschluss der Chemotherapie  Therapeutic   \n",
       "2  18_hodgkin-lymphom_0051_42                Chemotherapie  Therapeutic   \n",
       "3  18_hodgkin-lymphom_0051_42             Strahlentherapie  Therapeutic   \n",
       "\n",
       "   start  end       cui    tuis         canonical            linker  \\\n",
       "0     17   26  C0001758  [T058]         Nachsorge  [ngram, sapbert]   \n",
       "1     32   59  C3665472  [T061]     Chemotherapie  [ngram, sapbert]   \n",
       "2     46   59  C3665472  [T061]     Chemotherapie  [ngram, sapbert]   \n",
       "3     64   80  C1522449  [T061]  Strahlentherapie  [ngram, sapbert]   \n",
       "\n",
       "   confidence  \n",
       "0    0.114159  \n",
       "1    0.066714  \n",
       "2    0.115146  \n",
       "3    0.140303  "
      ]
     },
     "metadata": {},
     "output_type": "display_data"
    },
    {
     "name": "stdout",
     "output_type": "stream",
     "text": [
      "Difference 20\n"
     ]
    },
    {
     "data": {
      "text/markdown": [
       "Dies kann durch sonographisch- oder CT-gesteuerte Feinnadelbiopsie oder mittels Medianoskopie/Laparoskopie erfolgen."
      ],
      "text/plain": [
       "<IPython.core.display.Markdown object>"
      ]
     },
     "metadata": {},
     "output_type": "display_data"
    },
    {
     "data": {
      "text/markdown": [
       "Dies kann durch sonographisch-gesteuerte oder CT-gesteuerte Feinnadelbiopsie oder mittels Medianoskopie/Laparoskopie erfolgen."
      ],
      "text/plain": [
       "<IPython.core.display.Markdown object>"
      ]
     },
     "metadata": {},
     "output_type": "display_data"
    },
    {
     "data": {
      "text/html": [
       "<html><body><div>Dies kann durch sonographisch-<span style=\"background-color: lightgreen;\">gesteuerte</span> oder CT-gesteuerte Feinnadelbiopsie oder mittels Medianoskopie/Laparoskopie erfolgen.</div></body></html>"
      ],
      "text/plain": [
       "<IPython.core.display.HTML object>"
      ]
     },
     "metadata": {},
     "output_type": "display_data"
    },
    {
     "data": {
      "application/vnd.jupyter.widget-view+json": {
       "model_id": "a5c656a8995d4ecb861547a9768215b6",
       "version_major": 2,
       "version_minor": 0
      },
      "text/plain": [
       "  0%|          | 0/1 [00:00<?, ?it/s]"
      ]
     },
     "metadata": {},
     "output_type": "display_data"
    },
    {
     "data": {
      "text/html": [
       "<div>\n",
       "<style scoped>\n",
       "    .dataframe tbody tr th:only-of-type {\n",
       "        vertical-align: middle;\n",
       "    }\n",
       "\n",
       "    .dataframe tbody tr th {\n",
       "        vertical-align: top;\n",
       "    }\n",
       "\n",
       "    .dataframe thead th {\n",
       "        text-align: right;\n",
       "    }\n",
       "</style>\n",
       "<table border=\"1\" class=\"dataframe\">\n",
       "  <thead>\n",
       "    <tr style=\"text-align: right;\">\n",
       "      <th></th>\n",
       "      <th>document</th>\n",
       "      <th>text</th>\n",
       "      <th>type</th>\n",
       "      <th>start</th>\n",
       "      <th>end</th>\n",
       "      <th>cui</th>\n",
       "      <th>tuis</th>\n",
       "      <th>canonical</th>\n",
       "      <th>linker</th>\n",
       "      <th>confidence</th>\n",
       "    </tr>\n",
       "  </thead>\n",
       "  <tbody>\n",
       "    <tr>\n",
       "      <th>0</th>\n",
       "      <td>21_hodentumoren_0260_21</td>\n",
       "      <td>sonographisch- oder CT-gesteuerte Feinnadelbio...</td>\n",
       "      <td>Diagnostic</td>\n",
       "      <td>16</td>\n",
       "      <td>66</td>\n",
       "      <td>C0085846</td>\n",
       "      <td>[T060]</td>\n",
       "      <td>Biopsie, Feinnadel-</td>\n",
       "      <td>[ngram, sapbert]</td>\n",
       "      <td>0.076167</td>\n",
       "    </tr>\n",
       "    <tr>\n",
       "      <th>1</th>\n",
       "      <td>21_hodentumoren_0260_21</td>\n",
       "      <td>Medianoskopie</td>\n",
       "      <td>Diagnostic</td>\n",
       "      <td>80</td>\n",
       "      <td>93</td>\n",
       "      <td>C0029090</td>\n",
       "      <td>[T060]</td>\n",
       "      <td>Ophthalmoskopie</td>\n",
       "      <td>[ngram, sapbert]</td>\n",
       "      <td>0.064008</td>\n",
       "    </tr>\n",
       "    <tr>\n",
       "      <th>2</th>\n",
       "      <td>21_hodentumoren_0260_21</td>\n",
       "      <td>Laparoskopie</td>\n",
       "      <td>Diagnostic</td>\n",
       "      <td>94</td>\n",
       "      <td>106</td>\n",
       "      <td>C0031150</td>\n",
       "      <td>[T060]</td>\n",
       "      <td>Laparoskopie</td>\n",
       "      <td>[ngram, sapbert]</td>\n",
       "      <td>0.121292</td>\n",
       "    </tr>\n",
       "  </tbody>\n",
       "</table>\n",
       "</div>"
      ],
      "text/plain": [
       "                  document                                               text  \\\n",
       "0  21_hodentumoren_0260_21  sonographisch- oder CT-gesteuerte Feinnadelbio...   \n",
       "1  21_hodentumoren_0260_21                                      Medianoskopie   \n",
       "2  21_hodentumoren_0260_21                                       Laparoskopie   \n",
       "\n",
       "         type  start  end       cui    tuis            canonical  \\\n",
       "0  Diagnostic     16   66  C0085846  [T060]  Biopsie, Feinnadel-   \n",
       "1  Diagnostic     80   93  C0029090  [T060]      Ophthalmoskopie   \n",
       "2  Diagnostic     94  106  C0031150  [T060]         Laparoskopie   \n",
       "\n",
       "             linker  confidence  \n",
       "0  [ngram, sapbert]    0.076167  \n",
       "1  [ngram, sapbert]    0.064008  \n",
       "2  [ngram, sapbert]    0.121292  "
      ]
     },
     "metadata": {},
     "output_type": "display_data"
    },
    {
     "data": {
      "application/vnd.jupyter.widget-view+json": {
       "model_id": "6a69e45f5b4244a58b4629de7cf1ae28",
       "version_major": 2,
       "version_minor": 0
      },
      "text/plain": [
       "  0%|          | 0/1 [00:00<?, ?it/s]"
      ]
     },
     "metadata": {},
     "output_type": "display_data"
    },
    {
     "data": {
      "text/html": [
       "<div>\n",
       "<style scoped>\n",
       "    .dataframe tbody tr th:only-of-type {\n",
       "        vertical-align: middle;\n",
       "    }\n",
       "\n",
       "    .dataframe tbody tr th {\n",
       "        vertical-align: top;\n",
       "    }\n",
       "\n",
       "    .dataframe thead th {\n",
       "        text-align: right;\n",
       "    }\n",
       "</style>\n",
       "<table border=\"1\" class=\"dataframe\">\n",
       "  <thead>\n",
       "    <tr style=\"text-align: right;\">\n",
       "      <th></th>\n",
       "      <th>document</th>\n",
       "      <th>text</th>\n",
       "      <th>type</th>\n",
       "      <th>start</th>\n",
       "      <th>end</th>\n",
       "      <th>cui</th>\n",
       "      <th>tuis</th>\n",
       "      <th>canonical</th>\n",
       "      <th>linker</th>\n",
       "      <th>confidence</th>\n",
       "    </tr>\n",
       "  </thead>\n",
       "  <tbody>\n",
       "    <tr>\n",
       "      <th>0</th>\n",
       "      <td>21_hodentumoren_0260_21</td>\n",
       "      <td>sonographisch-gesteuerte oder CT-gesteuerte Fe...</td>\n",
       "      <td>Diagnostic</td>\n",
       "      <td>16</td>\n",
       "      <td>76</td>\n",
       "      <td>C0085846</td>\n",
       "      <td>[T060]</td>\n",
       "      <td>Biopsie, Feinnadel-</td>\n",
       "      <td>[ngram, sapbert]</td>\n",
       "      <td>0.076588</td>\n",
       "    </tr>\n",
       "    <tr>\n",
       "      <th>1</th>\n",
       "      <td>21_hodentumoren_0260_21</td>\n",
       "      <td>Medianoskopie</td>\n",
       "      <td>Diagnostic</td>\n",
       "      <td>90</td>\n",
       "      <td>103</td>\n",
       "      <td>C0029090</td>\n",
       "      <td>[T060]</td>\n",
       "      <td>Ophthalmoskopie</td>\n",
       "      <td>[ngram, sapbert]</td>\n",
       "      <td>0.064063</td>\n",
       "    </tr>\n",
       "    <tr>\n",
       "      <th>2</th>\n",
       "      <td>21_hodentumoren_0260_21</td>\n",
       "      <td>Laparoskopie</td>\n",
       "      <td>Diagnostic</td>\n",
       "      <td>104</td>\n",
       "      <td>116</td>\n",
       "      <td>C0031150</td>\n",
       "      <td>[T060]</td>\n",
       "      <td>Laparoskopie</td>\n",
       "      <td>[ngram, sapbert]</td>\n",
       "      <td>0.119639</td>\n",
       "    </tr>\n",
       "  </tbody>\n",
       "</table>\n",
       "</div>"
      ],
      "text/plain": [
       "                  document                                               text  \\\n",
       "0  21_hodentumoren_0260_21  sonographisch-gesteuerte oder CT-gesteuerte Fe...   \n",
       "1  21_hodentumoren_0260_21                                      Medianoskopie   \n",
       "2  21_hodentumoren_0260_21                                       Laparoskopie   \n",
       "\n",
       "         type  start  end       cui    tuis            canonical  \\\n",
       "0  Diagnostic     16   76  C0085846  [T060]  Biopsie, Feinnadel-   \n",
       "1  Diagnostic     90  103  C0029090  [T060]      Ophthalmoskopie   \n",
       "2  Diagnostic    104  116  C0031150  [T060]         Laparoskopie   \n",
       "\n",
       "             linker  confidence  \n",
       "0  [ngram, sapbert]    0.076588  \n",
       "1  [ngram, sapbert]    0.064063  \n",
       "2  [ngram, sapbert]    0.119639  "
      ]
     },
     "metadata": {},
     "output_type": "display_data"
    },
    {
     "name": "stdout",
     "output_type": "stream",
     "text": [
      "Difference 21\n"
     ]
    },
    {
     "data": {
      "text/markdown": [
       "Dysurie (26 % versus 2 %), Hämaturie (28 % versus 3 %), Drangsymptomatik (11 % versus <1 %), Harnverhaltung (17 % versus <1 %), Inkontinenz (10 % versus 4 %), Harnwegsinfekte (10,7 % versus 4,3 %) erektile Dysfunktion (38 % versus 11 %) sowie Prostata- oder Perinealschmerzen (18 % versus <1 %) [REF]."
      ],
      "text/plain": [
       "<IPython.core.display.Markdown object>"
      ]
     },
     "metadata": {},
     "output_type": "display_data"
    },
    {
     "data": {
      "text/markdown": [
       "Dysurie (26 % versus 2 %), Hämaturie (28 % versus 3 %), Drangsymptomatik (11 % versus <1 %), Harnverhaltung (17 % versus <1 %), Inkontinenz (10 % versus 4 %), Harnwegsinfekte (10,7 % versus 4,3 %) erektile Dysfunktion (38 % versus 11 %) sowie Prostataschmerzen oder Perinealschmerzen (18 % versus <1 %) [REF]."
      ],
      "text/plain": [
       "<IPython.core.display.Markdown object>"
      ]
     },
     "metadata": {},
     "output_type": "display_data"
    },
    {
     "data": {
      "text/html": [
       "<html><body><div>Dysurie (26 % versus 2 %), Hämaturie (28 % versus 3 %), Drangsymptomatik (11 % versus <1 %), Harnverhaltung (17 % versus <1 %), Inkontinenz (10 % versus 4 %), Harnwegsinfekte (10,7 % versus 4,3 %) erektile Dysfunktion (38 % versus 11 %) sowie Prostata<span style=\"background-color: red; text-decoration: line-through;\">-</span><span style=\"background-color: lightgreen;\">schmerzen</span> oder Perinealschmerzen (18 % versus <1 %) [REF].</div></body></html>"
      ],
      "text/plain": [
       "<IPython.core.display.HTML object>"
      ]
     },
     "metadata": {},
     "output_type": "display_data"
    },
    {
     "data": {
      "application/vnd.jupyter.widget-view+json": {
       "model_id": "44327c8f3ef143c0bcdd00f2801a77e2",
       "version_major": 2,
       "version_minor": 0
      },
      "text/plain": [
       "  0%|          | 0/1 [00:00<?, ?it/s]"
      ]
     },
     "metadata": {},
     "output_type": "display_data"
    },
    {
     "data": {
      "text/html": [
       "<div>\n",
       "<style scoped>\n",
       "    .dataframe tbody tr th:only-of-type {\n",
       "        vertical-align: middle;\n",
       "    }\n",
       "\n",
       "    .dataframe tbody tr th {\n",
       "        vertical-align: top;\n",
       "    }\n",
       "\n",
       "    .dataframe thead th {\n",
       "        text-align: right;\n",
       "    }\n",
       "</style>\n",
       "<table border=\"1\" class=\"dataframe\">\n",
       "  <thead>\n",
       "    <tr style=\"text-align: right;\">\n",
       "      <th></th>\n",
       "      <th>document</th>\n",
       "      <th>text</th>\n",
       "      <th>type</th>\n",
       "      <th>start</th>\n",
       "      <th>end</th>\n",
       "      <th>cui</th>\n",
       "      <th>tuis</th>\n",
       "      <th>canonical</th>\n",
       "      <th>linker</th>\n",
       "      <th>confidence</th>\n",
       "    </tr>\n",
       "  </thead>\n",
       "  <tbody>\n",
       "    <tr>\n",
       "      <th>0</th>\n",
       "      <td>22_prostatakarzinom_0153_14</td>\n",
       "      <td>Dysurie</td>\n",
       "      <td>Diagnosis_or_Pathology</td>\n",
       "      <td>0</td>\n",
       "      <td>7</td>\n",
       "      <td>C0013428</td>\n",
       "      <td>[T184]</td>\n",
       "      <td>Dysurie</td>\n",
       "      <td>[ngram, sapbert]</td>\n",
       "      <td>0.153963</td>\n",
       "    </tr>\n",
       "    <tr>\n",
       "      <th>1</th>\n",
       "      <td>22_prostatakarzinom_0153_14</td>\n",
       "      <td>Hämaturie</td>\n",
       "      <td>Diagnosis_or_Pathology</td>\n",
       "      <td>27</td>\n",
       "      <td>36</td>\n",
       "      <td>C0018965</td>\n",
       "      <td>[T047]</td>\n",
       "      <td>Hämaturie</td>\n",
       "      <td>[ngram, sapbert]</td>\n",
       "      <td>0.142960</td>\n",
       "    </tr>\n",
       "    <tr>\n",
       "      <th>2</th>\n",
       "      <td>22_prostatakarzinom_0153_14</td>\n",
       "      <td>Drangsymptomatik</td>\n",
       "      <td>Diagnosis_or_Pathology</td>\n",
       "      <td>56</td>\n",
       "      <td>72</td>\n",
       "      <td>C0087169</td>\n",
       "      <td>[T184]</td>\n",
       "      <td>Withdrawal Symptoms</td>\n",
       "      <td>[sapbert]</td>\n",
       "      <td>0.064590</td>\n",
       "    </tr>\n",
       "    <tr>\n",
       "      <th>3</th>\n",
       "      <td>22_prostatakarzinom_0153_14</td>\n",
       "      <td>Harnverhaltung</td>\n",
       "      <td>Diagnosis_or_Pathology</td>\n",
       "      <td>93</td>\n",
       "      <td>107</td>\n",
       "      <td>C0080274</td>\n",
       "      <td>[T169]</td>\n",
       "      <td>Harnverhalt</td>\n",
       "      <td>[ngram, sapbert]</td>\n",
       "      <td>0.143468</td>\n",
       "    </tr>\n",
       "    <tr>\n",
       "      <th>4</th>\n",
       "      <td>22_prostatakarzinom_0153_14</td>\n",
       "      <td>Inkontinenz</td>\n",
       "      <td>Diagnosis_or_Pathology</td>\n",
       "      <td>128</td>\n",
       "      <td>139</td>\n",
       "      <td>C0021167</td>\n",
       "      <td>[T047]</td>\n",
       "      <td>Inkontinenz</td>\n",
       "      <td>[ngram, sapbert]</td>\n",
       "      <td>0.121398</td>\n",
       "    </tr>\n",
       "    <tr>\n",
       "      <th>5</th>\n",
       "      <td>22_prostatakarzinom_0153_14</td>\n",
       "      <td>Harnwegsinfekte</td>\n",
       "      <td>Diagnosis_or_Pathology</td>\n",
       "      <td>159</td>\n",
       "      <td>174</td>\n",
       "      <td>C0042029</td>\n",
       "      <td>[T047]</td>\n",
       "      <td>Harnwegsinfektionen</td>\n",
       "      <td>[ngram, sapbert]</td>\n",
       "      <td>0.094017</td>\n",
       "    </tr>\n",
       "    <tr>\n",
       "      <th>6</th>\n",
       "      <td>22_prostatakarzinom_0153_14</td>\n",
       "      <td>erektile Dysfunktion</td>\n",
       "      <td>Diagnosis_or_Pathology</td>\n",
       "      <td>197</td>\n",
       "      <td>217</td>\n",
       "      <td>C0242350</td>\n",
       "      <td>[T047]</td>\n",
       "      <td>Erektile Dysfunktion</td>\n",
       "      <td>[ngram, sapbert]</td>\n",
       "      <td>0.195050</td>\n",
       "    </tr>\n",
       "    <tr>\n",
       "      <th>7</th>\n",
       "      <td>22_prostatakarzinom_0153_14</td>\n",
       "      <td>Prostata-</td>\n",
       "      <td>Diagnosis_or_Pathology</td>\n",
       "      <td>243</td>\n",
       "      <td>252</td>\n",
       "      <td>C0033572</td>\n",
       "      <td>[T023]</td>\n",
       "      <td>Prostata</td>\n",
       "      <td>[ngram, sapbert]</td>\n",
       "      <td>0.080446</td>\n",
       "    </tr>\n",
       "    <tr>\n",
       "      <th>8</th>\n",
       "      <td>22_prostatakarzinom_0153_14</td>\n",
       "      <td>Perinealschmerzen</td>\n",
       "      <td>Diagnosis_or_Pathology</td>\n",
       "      <td>258</td>\n",
       "      <td>275</td>\n",
       "      <td>C0240717</td>\n",
       "      <td>[T184]</td>\n",
       "      <td>Dammschmerz</td>\n",
       "      <td>[ngram, sapbert]</td>\n",
       "      <td>0.150069</td>\n",
       "    </tr>\n",
       "  </tbody>\n",
       "</table>\n",
       "</div>"
      ],
      "text/plain": [
       "                      document                  text                    type  \\\n",
       "0  22_prostatakarzinom_0153_14               Dysurie  Diagnosis_or_Pathology   \n",
       "1  22_prostatakarzinom_0153_14             Hämaturie  Diagnosis_or_Pathology   \n",
       "2  22_prostatakarzinom_0153_14      Drangsymptomatik  Diagnosis_or_Pathology   \n",
       "3  22_prostatakarzinom_0153_14        Harnverhaltung  Diagnosis_or_Pathology   \n",
       "4  22_prostatakarzinom_0153_14           Inkontinenz  Diagnosis_or_Pathology   \n",
       "5  22_prostatakarzinom_0153_14       Harnwegsinfekte  Diagnosis_or_Pathology   \n",
       "6  22_prostatakarzinom_0153_14  erektile Dysfunktion  Diagnosis_or_Pathology   \n",
       "7  22_prostatakarzinom_0153_14             Prostata-  Diagnosis_or_Pathology   \n",
       "8  22_prostatakarzinom_0153_14     Perinealschmerzen  Diagnosis_or_Pathology   \n",
       "\n",
       "   start  end       cui    tuis             canonical            linker  \\\n",
       "0      0    7  C0013428  [T184]               Dysurie  [ngram, sapbert]   \n",
       "1     27   36  C0018965  [T047]             Hämaturie  [ngram, sapbert]   \n",
       "2     56   72  C0087169  [T184]   Withdrawal Symptoms         [sapbert]   \n",
       "3     93  107  C0080274  [T169]           Harnverhalt  [ngram, sapbert]   \n",
       "4    128  139  C0021167  [T047]           Inkontinenz  [ngram, sapbert]   \n",
       "5    159  174  C0042029  [T047]   Harnwegsinfektionen  [ngram, sapbert]   \n",
       "6    197  217  C0242350  [T047]  Erektile Dysfunktion  [ngram, sapbert]   \n",
       "7    243  252  C0033572  [T023]              Prostata  [ngram, sapbert]   \n",
       "8    258  275  C0240717  [T184]           Dammschmerz  [ngram, sapbert]   \n",
       "\n",
       "   confidence  \n",
       "0    0.153963  \n",
       "1    0.142960  \n",
       "2    0.064590  \n",
       "3    0.143468  \n",
       "4    0.121398  \n",
       "5    0.094017  \n",
       "6    0.195050  \n",
       "7    0.080446  \n",
       "8    0.150069  "
      ]
     },
     "metadata": {},
     "output_type": "display_data"
    },
    {
     "data": {
      "application/vnd.jupyter.widget-view+json": {
       "model_id": "eb725c42a776499c9bb4090e8512b09a",
       "version_major": 2,
       "version_minor": 0
      },
      "text/plain": [
       "  0%|          | 0/1 [00:00<?, ?it/s]"
      ]
     },
     "metadata": {},
     "output_type": "display_data"
    },
    {
     "data": {
      "text/html": [
       "<div>\n",
       "<style scoped>\n",
       "    .dataframe tbody tr th:only-of-type {\n",
       "        vertical-align: middle;\n",
       "    }\n",
       "\n",
       "    .dataframe tbody tr th {\n",
       "        vertical-align: top;\n",
       "    }\n",
       "\n",
       "    .dataframe thead th {\n",
       "        text-align: right;\n",
       "    }\n",
       "</style>\n",
       "<table border=\"1\" class=\"dataframe\">\n",
       "  <thead>\n",
       "    <tr style=\"text-align: right;\">\n",
       "      <th></th>\n",
       "      <th>document</th>\n",
       "      <th>text</th>\n",
       "      <th>type</th>\n",
       "      <th>start</th>\n",
       "      <th>end</th>\n",
       "      <th>cui</th>\n",
       "      <th>tuis</th>\n",
       "      <th>canonical</th>\n",
       "      <th>linker</th>\n",
       "      <th>confidence</th>\n",
       "    </tr>\n",
       "  </thead>\n",
       "  <tbody>\n",
       "    <tr>\n",
       "      <th>0</th>\n",
       "      <td>22_prostatakarzinom_0153_14</td>\n",
       "      <td>Dysurie</td>\n",
       "      <td>Diagnosis_or_Pathology</td>\n",
       "      <td>0</td>\n",
       "      <td>7</td>\n",
       "      <td>C0013428</td>\n",
       "      <td>[T184]</td>\n",
       "      <td>Dysurie</td>\n",
       "      <td>[ngram, sapbert]</td>\n",
       "      <td>0.153963</td>\n",
       "    </tr>\n",
       "    <tr>\n",
       "      <th>1</th>\n",
       "      <td>22_prostatakarzinom_0153_14</td>\n",
       "      <td>Hämaturie</td>\n",
       "      <td>Diagnosis_or_Pathology</td>\n",
       "      <td>27</td>\n",
       "      <td>36</td>\n",
       "      <td>C0018965</td>\n",
       "      <td>[T047]</td>\n",
       "      <td>Hämaturie</td>\n",
       "      <td>[ngram, sapbert]</td>\n",
       "      <td>0.142960</td>\n",
       "    </tr>\n",
       "    <tr>\n",
       "      <th>2</th>\n",
       "      <td>22_prostatakarzinom_0153_14</td>\n",
       "      <td>Drangsymptomatik</td>\n",
       "      <td>Diagnosis_or_Pathology</td>\n",
       "      <td>56</td>\n",
       "      <td>72</td>\n",
       "      <td>C0087169</td>\n",
       "      <td>[T184]</td>\n",
       "      <td>Withdrawal Symptoms</td>\n",
       "      <td>[sapbert]</td>\n",
       "      <td>0.064590</td>\n",
       "    </tr>\n",
       "    <tr>\n",
       "      <th>3</th>\n",
       "      <td>22_prostatakarzinom_0153_14</td>\n",
       "      <td>Harnverhaltung</td>\n",
       "      <td>Diagnosis_or_Pathology</td>\n",
       "      <td>93</td>\n",
       "      <td>107</td>\n",
       "      <td>C0080274</td>\n",
       "      <td>[T169]</td>\n",
       "      <td>Harnverhalt</td>\n",
       "      <td>[ngram, sapbert]</td>\n",
       "      <td>0.143468</td>\n",
       "    </tr>\n",
       "    <tr>\n",
       "      <th>4</th>\n",
       "      <td>22_prostatakarzinom_0153_14</td>\n",
       "      <td>Inkontinenz</td>\n",
       "      <td>Diagnosis_or_Pathology</td>\n",
       "      <td>128</td>\n",
       "      <td>139</td>\n",
       "      <td>C0021167</td>\n",
       "      <td>[T047]</td>\n",
       "      <td>Inkontinenz</td>\n",
       "      <td>[ngram, sapbert]</td>\n",
       "      <td>0.122175</td>\n",
       "    </tr>\n",
       "    <tr>\n",
       "      <th>5</th>\n",
       "      <td>22_prostatakarzinom_0153_14</td>\n",
       "      <td>Harnwegsinfekte</td>\n",
       "      <td>Diagnosis_or_Pathology</td>\n",
       "      <td>159</td>\n",
       "      <td>174</td>\n",
       "      <td>C0042029</td>\n",
       "      <td>[T047]</td>\n",
       "      <td>Harnwegsinfektionen</td>\n",
       "      <td>[ngram, sapbert]</td>\n",
       "      <td>0.080301</td>\n",
       "    </tr>\n",
       "    <tr>\n",
       "      <th>6</th>\n",
       "      <td>22_prostatakarzinom_0153_14</td>\n",
       "      <td>erektile Dysfunktion</td>\n",
       "      <td>Diagnosis_or_Pathology</td>\n",
       "      <td>197</td>\n",
       "      <td>217</td>\n",
       "      <td>C0242350</td>\n",
       "      <td>[T047]</td>\n",
       "      <td>Erektile Dysfunktion</td>\n",
       "      <td>[ngram, sapbert]</td>\n",
       "      <td>0.185237</td>\n",
       "    </tr>\n",
       "    <tr>\n",
       "      <th>7</th>\n",
       "      <td>22_prostatakarzinom_0153_14</td>\n",
       "      <td>Prostataschmerzen</td>\n",
       "      <td>Diagnosis_or_Pathology</td>\n",
       "      <td>243</td>\n",
       "      <td>260</td>\n",
       "      <td>C0240812</td>\n",
       "      <td>[T184]</td>\n",
       "      <td>Prostataschmerz</td>\n",
       "      <td>[ngram, sapbert]</td>\n",
       "      <td>0.145128</td>\n",
       "    </tr>\n",
       "    <tr>\n",
       "      <th>8</th>\n",
       "      <td>22_prostatakarzinom_0153_14</td>\n",
       "      <td>Perinealschmerzen</td>\n",
       "      <td>Diagnosis_or_Pathology</td>\n",
       "      <td>266</td>\n",
       "      <td>283</td>\n",
       "      <td>C0240717</td>\n",
       "      <td>[T184]</td>\n",
       "      <td>Dammschmerz</td>\n",
       "      <td>[ngram, sapbert]</td>\n",
       "      <td>0.150170</td>\n",
       "    </tr>\n",
       "  </tbody>\n",
       "</table>\n",
       "</div>"
      ],
      "text/plain": [
       "                      document                  text                    type  \\\n",
       "0  22_prostatakarzinom_0153_14               Dysurie  Diagnosis_or_Pathology   \n",
       "1  22_prostatakarzinom_0153_14             Hämaturie  Diagnosis_or_Pathology   \n",
       "2  22_prostatakarzinom_0153_14      Drangsymptomatik  Diagnosis_or_Pathology   \n",
       "3  22_prostatakarzinom_0153_14        Harnverhaltung  Diagnosis_or_Pathology   \n",
       "4  22_prostatakarzinom_0153_14           Inkontinenz  Diagnosis_or_Pathology   \n",
       "5  22_prostatakarzinom_0153_14       Harnwegsinfekte  Diagnosis_or_Pathology   \n",
       "6  22_prostatakarzinom_0153_14  erektile Dysfunktion  Diagnosis_or_Pathology   \n",
       "7  22_prostatakarzinom_0153_14     Prostataschmerzen  Diagnosis_or_Pathology   \n",
       "8  22_prostatakarzinom_0153_14     Perinealschmerzen  Diagnosis_or_Pathology   \n",
       "\n",
       "   start  end       cui    tuis             canonical            linker  \\\n",
       "0      0    7  C0013428  [T184]               Dysurie  [ngram, sapbert]   \n",
       "1     27   36  C0018965  [T047]             Hämaturie  [ngram, sapbert]   \n",
       "2     56   72  C0087169  [T184]   Withdrawal Symptoms         [sapbert]   \n",
       "3     93  107  C0080274  [T169]           Harnverhalt  [ngram, sapbert]   \n",
       "4    128  139  C0021167  [T047]           Inkontinenz  [ngram, sapbert]   \n",
       "5    159  174  C0042029  [T047]   Harnwegsinfektionen  [ngram, sapbert]   \n",
       "6    197  217  C0242350  [T047]  Erektile Dysfunktion  [ngram, sapbert]   \n",
       "7    243  260  C0240812  [T184]       Prostataschmerz  [ngram, sapbert]   \n",
       "8    266  283  C0240717  [T184]           Dammschmerz  [ngram, sapbert]   \n",
       "\n",
       "   confidence  \n",
       "0    0.153963  \n",
       "1    0.142960  \n",
       "2    0.064590  \n",
       "3    0.143468  \n",
       "4    0.122175  \n",
       "5    0.080301  \n",
       "6    0.185237  \n",
       "7    0.145128  \n",
       "8    0.150170  "
      ]
     },
     "metadata": {},
     "output_type": "display_data"
    },
    {
     "name": "stdout",
     "output_type": "stream",
     "text": [
      "Difference 22\n"
     ]
    },
    {
     "data": {
      "text/markdown": [
       "Im Sinne eines Recall-Phänomens kann eine Pneumonitis auch lange nach Bestrahlung nach Chemo- oder Immunotherapie z.B. mit Taxanen, Gemcitabin oder Tyrosinkinase- Inhibitoren (Erlotinib, Gefitinib, Sunitinib und Folgesubstanzen) auftreten [REF] [REF] [REF] [REF] [REF] [REF] [REF] [REF] [REF] [REF]."
      ],
      "text/plain": [
       "<IPython.core.display.Markdown object>"
      ]
     },
     "metadata": {},
     "output_type": "display_data"
    },
    {
     "data": {
      "text/markdown": [
       "Im Sinne eines Recall-Phänomens kann eine Pneumonitis auch lange nach Bestrahlung nach Chemotherapie oder Immunotherapie z.B. mit Taxanen, Gemcitabin oder Tyrosinkinase- Inhibitoren (Erlotinib, Gefitinib, Sunitinib und Folgesubstanzen) auftreten [REF] [REF] [REF] [REF] [REF] [REF] [REF] [REF] [REF] [REF]."
      ],
      "text/plain": [
       "<IPython.core.display.Markdown object>"
      ]
     },
     "metadata": {},
     "output_type": "display_data"
    },
    {
     "data": {
      "text/html": [
       "<html><body><div>Im Sinne eines Recall-Phänomens kann eine Pneumonitis auch lange nach Bestrahlung nach Chemo<span style=\"background-color: red; text-decoration: line-through;\">-</span><span style=\"background-color: lightgreen;\">therapie</span> oder Immunotherapie z.B. mit Taxanen, Gemcitabin oder Tyrosinkinase- Inhibitoren (Erlotinib, Gefitinib, Sunitinib und Folgesubstanzen) auftreten [REF] [REF] [REF] [REF] [REF] [REF] [REF] [REF] [REF] [REF].</div></body></html>"
      ],
      "text/plain": [
       "<IPython.core.display.HTML object>"
      ]
     },
     "metadata": {},
     "output_type": "display_data"
    },
    {
     "data": {
      "application/vnd.jupyter.widget-view+json": {
       "model_id": "5ebd7453dd0e4caa871a9eabb3a03222",
       "version_major": 2,
       "version_minor": 0
      },
      "text/plain": [
       "  0%|          | 0/1 [00:00<?, ?it/s]"
      ]
     },
     "metadata": {},
     "output_type": "display_data"
    },
    {
     "data": {
      "text/html": [
       "<div>\n",
       "<style scoped>\n",
       "    .dataframe tbody tr th:only-of-type {\n",
       "        vertical-align: middle;\n",
       "    }\n",
       "\n",
       "    .dataframe tbody tr th {\n",
       "        vertical-align: top;\n",
       "    }\n",
       "\n",
       "    .dataframe thead th {\n",
       "        text-align: right;\n",
       "    }\n",
       "</style>\n",
       "<table border=\"1\" class=\"dataframe\">\n",
       "  <thead>\n",
       "    <tr style=\"text-align: right;\">\n",
       "      <th></th>\n",
       "      <th>document</th>\n",
       "      <th>text</th>\n",
       "      <th>type</th>\n",
       "      <th>start</th>\n",
       "      <th>end</th>\n",
       "      <th>cui</th>\n",
       "      <th>tuis</th>\n",
       "      <th>canonical</th>\n",
       "      <th>linker</th>\n",
       "      <th>confidence</th>\n",
       "    </tr>\n",
       "  </thead>\n",
       "  <tbody>\n",
       "    <tr>\n",
       "      <th>0</th>\n",
       "      <td>27_supportive-therapie_0765_11</td>\n",
       "      <td>Recall-Phänomens</td>\n",
       "      <td>Diagnosis_or_Pathology</td>\n",
       "      <td>15</td>\n",
       "      <td>31</td>\n",
       "      <td>C1262013</td>\n",
       "      <td>[T046]</td>\n",
       "      <td>Recall phenomenon</td>\n",
       "      <td>[ngram, sapbert]</td>\n",
       "      <td>0.117091</td>\n",
       "    </tr>\n",
       "    <tr>\n",
       "      <th>1</th>\n",
       "      <td>27_supportive-therapie_0765_11</td>\n",
       "      <td>Pneumonitis</td>\n",
       "      <td>Diagnosis_or_Pathology</td>\n",
       "      <td>42</td>\n",
       "      <td>53</td>\n",
       "      <td>C3714636</td>\n",
       "      <td>[T047]</td>\n",
       "      <td>Pneumonitis</td>\n",
       "      <td>[ngram, sapbert]</td>\n",
       "      <td>0.129935</td>\n",
       "    </tr>\n",
       "    <tr>\n",
       "      <th>2</th>\n",
       "      <td>27_supportive-therapie_0765_11</td>\n",
       "      <td>Bestrahlung</td>\n",
       "      <td>Therapeutic</td>\n",
       "      <td>70</td>\n",
       "      <td>81</td>\n",
       "      <td>C1522449</td>\n",
       "      <td>[T061]</td>\n",
       "      <td>Strahlentherapie</td>\n",
       "      <td>[sapbert]</td>\n",
       "      <td>0.114749</td>\n",
       "    </tr>\n",
       "    <tr>\n",
       "      <th>3</th>\n",
       "      <td>27_supportive-therapie_0765_11</td>\n",
       "      <td>Chemo-</td>\n",
       "      <td>Therapeutic</td>\n",
       "      <td>87</td>\n",
       "      <td>93</td>\n",
       "      <td>C3665472</td>\n",
       "      <td>[T061]</td>\n",
       "      <td>Chemotherapie</td>\n",
       "      <td>[ngram, sapbert]</td>\n",
       "      <td>0.106600</td>\n",
       "    </tr>\n",
       "    <tr>\n",
       "      <th>4</th>\n",
       "      <td>27_supportive-therapie_0765_11</td>\n",
       "      <td>Immunotherapie</td>\n",
       "      <td>Therapeutic</td>\n",
       "      <td>99</td>\n",
       "      <td>113</td>\n",
       "      <td>C0021083</td>\n",
       "      <td>[T061]</td>\n",
       "      <td>Immuntherapie</td>\n",
       "      <td>[ngram, sapbert]</td>\n",
       "      <td>0.126997</td>\n",
       "    </tr>\n",
       "    <tr>\n",
       "      <th>5</th>\n",
       "      <td>27_supportive-therapie_0765_11</td>\n",
       "      <td>Taxanen</td>\n",
       "      <td>Clinical_Drug</td>\n",
       "      <td>123</td>\n",
       "      <td>130</td>\n",
       "      <td>C0796419</td>\n",
       "      <td>[T109]</td>\n",
       "      <td>Taxane</td>\n",
       "      <td>[ngram, sapbert]</td>\n",
       "      <td>0.079232</td>\n",
       "    </tr>\n",
       "    <tr>\n",
       "      <th>6</th>\n",
       "      <td>27_supportive-therapie_0765_11</td>\n",
       "      <td>Gemcitabin</td>\n",
       "      <td>Clinical_Drug</td>\n",
       "      <td>132</td>\n",
       "      <td>142</td>\n",
       "      <td>C0045093</td>\n",
       "      <td>[T114, T121]</td>\n",
       "      <td>2' Deoxy 2' Difluorocytidine</td>\n",
       "      <td>[ngram, sapbert]</td>\n",
       "      <td>0.132524</td>\n",
       "    </tr>\n",
       "    <tr>\n",
       "      <th>7</th>\n",
       "      <td>27_supportive-therapie_0765_11</td>\n",
       "      <td>Tyrosinkinase-</td>\n",
       "      <td>Clinical_Drug</td>\n",
       "      <td>148</td>\n",
       "      <td>162</td>\n",
       "      <td>C0033681</td>\n",
       "      <td>[T116, T126]</td>\n",
       "      <td>Protein-Tyrosin-Kinase</td>\n",
       "      <td>[ngram, sapbert]</td>\n",
       "      <td>0.141131</td>\n",
       "    </tr>\n",
       "    <tr>\n",
       "      <th>8</th>\n",
       "      <td>27_supportive-therapie_0765_11</td>\n",
       "      <td>Tyrosinkinase- Inhibitoren</td>\n",
       "      <td>Clinical_Drug</td>\n",
       "      <td>148</td>\n",
       "      <td>174</td>\n",
       "      <td>C4521478</td>\n",
       "      <td>[T080]</td>\n",
       "      <td>Tyrosine Protein Kinase Inhibitors</td>\n",
       "      <td>[ngram, sapbert]</td>\n",
       "      <td>0.139909</td>\n",
       "    </tr>\n",
       "    <tr>\n",
       "      <th>9</th>\n",
       "      <td>27_supportive-therapie_0765_11</td>\n",
       "      <td>Erlotinib</td>\n",
       "      <td>Clinical_Drug</td>\n",
       "      <td>176</td>\n",
       "      <td>185</td>\n",
       "      <td>C1135135</td>\n",
       "      <td>[T109, T121]</td>\n",
       "      <td>Erlotinib</td>\n",
       "      <td>[ngram, sapbert]</td>\n",
       "      <td>0.139762</td>\n",
       "    </tr>\n",
       "    <tr>\n",
       "      <th>10</th>\n",
       "      <td>27_supportive-therapie_0765_11</td>\n",
       "      <td>Gefitinib</td>\n",
       "      <td>Clinical_Drug</td>\n",
       "      <td>187</td>\n",
       "      <td>196</td>\n",
       "      <td>C1122962</td>\n",
       "      <td>[T109, T121]</td>\n",
       "      <td>Gefitinib</td>\n",
       "      <td>[ngram, sapbert]</td>\n",
       "      <td>0.148072</td>\n",
       "    </tr>\n",
       "    <tr>\n",
       "      <th>11</th>\n",
       "      <td>27_supportive-therapie_0765_11</td>\n",
       "      <td>Sunitinib</td>\n",
       "      <td>Clinical_Drug</td>\n",
       "      <td>198</td>\n",
       "      <td>207</td>\n",
       "      <td>C1176020</td>\n",
       "      <td>[T109, T121]</td>\n",
       "      <td>Sunitinib</td>\n",
       "      <td>[ngram, sapbert]</td>\n",
       "      <td>0.139536</td>\n",
       "    </tr>\n",
       "    <tr>\n",
       "      <th>12</th>\n",
       "      <td>27_supportive-therapie_0765_11</td>\n",
       "      <td>Folgesubstanzen</td>\n",
       "      <td>Clinical_Drug</td>\n",
       "      <td>212</td>\n",
       "      <td>227</td>\n",
       "      <td>C1564892</td>\n",
       "      <td>[T116, T121, T129]</td>\n",
       "      <td>Komplement-inaktivierende Substanzen</td>\n",
       "      <td>[ngram, sapbert]</td>\n",
       "      <td>0.068746</td>\n",
       "    </tr>\n",
       "  </tbody>\n",
       "</table>\n",
       "</div>"
      ],
      "text/plain": [
       "                          document                        text  \\\n",
       "0   27_supportive-therapie_0765_11            Recall-Phänomens   \n",
       "1   27_supportive-therapie_0765_11                 Pneumonitis   \n",
       "2   27_supportive-therapie_0765_11                 Bestrahlung   \n",
       "3   27_supportive-therapie_0765_11                      Chemo-   \n",
       "4   27_supportive-therapie_0765_11              Immunotherapie   \n",
       "5   27_supportive-therapie_0765_11                     Taxanen   \n",
       "6   27_supportive-therapie_0765_11                  Gemcitabin   \n",
       "7   27_supportive-therapie_0765_11              Tyrosinkinase-   \n",
       "8   27_supportive-therapie_0765_11  Tyrosinkinase- Inhibitoren   \n",
       "9   27_supportive-therapie_0765_11                   Erlotinib   \n",
       "10  27_supportive-therapie_0765_11                   Gefitinib   \n",
       "11  27_supportive-therapie_0765_11                   Sunitinib   \n",
       "12  27_supportive-therapie_0765_11             Folgesubstanzen   \n",
       "\n",
       "                      type  start  end       cui                tuis  \\\n",
       "0   Diagnosis_or_Pathology     15   31  C1262013              [T046]   \n",
       "1   Diagnosis_or_Pathology     42   53  C3714636              [T047]   \n",
       "2              Therapeutic     70   81  C1522449              [T061]   \n",
       "3              Therapeutic     87   93  C3665472              [T061]   \n",
       "4              Therapeutic     99  113  C0021083              [T061]   \n",
       "5            Clinical_Drug    123  130  C0796419              [T109]   \n",
       "6            Clinical_Drug    132  142  C0045093        [T114, T121]   \n",
       "7            Clinical_Drug    148  162  C0033681        [T116, T126]   \n",
       "8            Clinical_Drug    148  174  C4521478              [T080]   \n",
       "9            Clinical_Drug    176  185  C1135135        [T109, T121]   \n",
       "10           Clinical_Drug    187  196  C1122962        [T109, T121]   \n",
       "11           Clinical_Drug    198  207  C1176020        [T109, T121]   \n",
       "12           Clinical_Drug    212  227  C1564892  [T116, T121, T129]   \n",
       "\n",
       "                               canonical            linker  confidence  \n",
       "0                      Recall phenomenon  [ngram, sapbert]    0.117091  \n",
       "1                            Pneumonitis  [ngram, sapbert]    0.129935  \n",
       "2                       Strahlentherapie         [sapbert]    0.114749  \n",
       "3                          Chemotherapie  [ngram, sapbert]    0.106600  \n",
       "4                          Immuntherapie  [ngram, sapbert]    0.126997  \n",
       "5                                 Taxane  [ngram, sapbert]    0.079232  \n",
       "6           2' Deoxy 2' Difluorocytidine  [ngram, sapbert]    0.132524  \n",
       "7                 Protein-Tyrosin-Kinase  [ngram, sapbert]    0.141131  \n",
       "8     Tyrosine Protein Kinase Inhibitors  [ngram, sapbert]    0.139909  \n",
       "9                              Erlotinib  [ngram, sapbert]    0.139762  \n",
       "10                             Gefitinib  [ngram, sapbert]    0.148072  \n",
       "11                             Sunitinib  [ngram, sapbert]    0.139536  \n",
       "12  Komplement-inaktivierende Substanzen  [ngram, sapbert]    0.068746  "
      ]
     },
     "metadata": {},
     "output_type": "display_data"
    },
    {
     "data": {
      "application/vnd.jupyter.widget-view+json": {
       "model_id": "61ddf2b6aee7404c86af3f17d57dbe80",
       "version_major": 2,
       "version_minor": 0
      },
      "text/plain": [
       "  0%|          | 0/1 [00:00<?, ?it/s]"
      ]
     },
     "metadata": {},
     "output_type": "display_data"
    },
    {
     "data": {
      "text/html": [
       "<div>\n",
       "<style scoped>\n",
       "    .dataframe tbody tr th:only-of-type {\n",
       "        vertical-align: middle;\n",
       "    }\n",
       "\n",
       "    .dataframe tbody tr th {\n",
       "        vertical-align: top;\n",
       "    }\n",
       "\n",
       "    .dataframe thead th {\n",
       "        text-align: right;\n",
       "    }\n",
       "</style>\n",
       "<table border=\"1\" class=\"dataframe\">\n",
       "  <thead>\n",
       "    <tr style=\"text-align: right;\">\n",
       "      <th></th>\n",
       "      <th>document</th>\n",
       "      <th>text</th>\n",
       "      <th>type</th>\n",
       "      <th>start</th>\n",
       "      <th>end</th>\n",
       "      <th>cui</th>\n",
       "      <th>tuis</th>\n",
       "      <th>canonical</th>\n",
       "      <th>linker</th>\n",
       "      <th>confidence</th>\n",
       "    </tr>\n",
       "  </thead>\n",
       "  <tbody>\n",
       "    <tr>\n",
       "      <th>0</th>\n",
       "      <td>27_supportive-therapie_0765_11</td>\n",
       "      <td>Recall-Phänomens</td>\n",
       "      <td>Diagnosis_or_Pathology</td>\n",
       "      <td>15</td>\n",
       "      <td>31</td>\n",
       "      <td>C1262013</td>\n",
       "      <td>[T046]</td>\n",
       "      <td>Recall phenomenon</td>\n",
       "      <td>[ngram, sapbert]</td>\n",
       "      <td>0.121586</td>\n",
       "    </tr>\n",
       "    <tr>\n",
       "      <th>1</th>\n",
       "      <td>27_supportive-therapie_0765_11</td>\n",
       "      <td>Pneumonitis</td>\n",
       "      <td>Diagnosis_or_Pathology</td>\n",
       "      <td>42</td>\n",
       "      <td>53</td>\n",
       "      <td>C3714636</td>\n",
       "      <td>[T047]</td>\n",
       "      <td>Pneumonitis</td>\n",
       "      <td>[ngram, sapbert]</td>\n",
       "      <td>0.129758</td>\n",
       "    </tr>\n",
       "    <tr>\n",
       "      <th>2</th>\n",
       "      <td>27_supportive-therapie_0765_11</td>\n",
       "      <td>Bestrahlung</td>\n",
       "      <td>Therapeutic</td>\n",
       "      <td>70</td>\n",
       "      <td>81</td>\n",
       "      <td>C1522449</td>\n",
       "      <td>[T061]</td>\n",
       "      <td>Strahlentherapie</td>\n",
       "      <td>[sapbert]</td>\n",
       "      <td>0.116514</td>\n",
       "    </tr>\n",
       "    <tr>\n",
       "      <th>3</th>\n",
       "      <td>27_supportive-therapie_0765_11</td>\n",
       "      <td>Chemotherapie</td>\n",
       "      <td>Therapeutic</td>\n",
       "      <td>87</td>\n",
       "      <td>100</td>\n",
       "      <td>C3665472</td>\n",
       "      <td>[T061]</td>\n",
       "      <td>Chemotherapie</td>\n",
       "      <td>[ngram, sapbert]</td>\n",
       "      <td>0.108146</td>\n",
       "    </tr>\n",
       "    <tr>\n",
       "      <th>4</th>\n",
       "      <td>27_supportive-therapie_0765_11</td>\n",
       "      <td>Immunotherapie</td>\n",
       "      <td>Therapeutic</td>\n",
       "      <td>106</td>\n",
       "      <td>120</td>\n",
       "      <td>C0021083</td>\n",
       "      <td>[T061]</td>\n",
       "      <td>Immuntherapie</td>\n",
       "      <td>[ngram, sapbert]</td>\n",
       "      <td>0.125116</td>\n",
       "    </tr>\n",
       "    <tr>\n",
       "      <th>5</th>\n",
       "      <td>27_supportive-therapie_0765_11</td>\n",
       "      <td>Taxanen</td>\n",
       "      <td>Clinical_Drug</td>\n",
       "      <td>130</td>\n",
       "      <td>137</td>\n",
       "      <td>C0796419</td>\n",
       "      <td>[T109]</td>\n",
       "      <td>Taxane</td>\n",
       "      <td>[ngram, sapbert]</td>\n",
       "      <td>0.077322</td>\n",
       "    </tr>\n",
       "    <tr>\n",
       "      <th>6</th>\n",
       "      <td>27_supportive-therapie_0765_11</td>\n",
       "      <td>Gemcitabin</td>\n",
       "      <td>Clinical_Drug</td>\n",
       "      <td>139</td>\n",
       "      <td>149</td>\n",
       "      <td>C0045093</td>\n",
       "      <td>[T114, T121]</td>\n",
       "      <td>2' Deoxy 2' Difluorocytidine</td>\n",
       "      <td>[ngram, sapbert]</td>\n",
       "      <td>0.135344</td>\n",
       "    </tr>\n",
       "    <tr>\n",
       "      <th>7</th>\n",
       "      <td>27_supportive-therapie_0765_11</td>\n",
       "      <td>Tyrosinkinase-</td>\n",
       "      <td>Clinical_Drug</td>\n",
       "      <td>155</td>\n",
       "      <td>169</td>\n",
       "      <td>C0033681</td>\n",
       "      <td>[T116, T126]</td>\n",
       "      <td>Protein-Tyrosin-Kinase</td>\n",
       "      <td>[ngram, sapbert]</td>\n",
       "      <td>0.134931</td>\n",
       "    </tr>\n",
       "    <tr>\n",
       "      <th>8</th>\n",
       "      <td>27_supportive-therapie_0765_11</td>\n",
       "      <td>Tyrosinkinase- Inhibitoren</td>\n",
       "      <td>Clinical_Drug</td>\n",
       "      <td>155</td>\n",
       "      <td>181</td>\n",
       "      <td>C4521478</td>\n",
       "      <td>[T080]</td>\n",
       "      <td>Tyrosine Protein Kinase Inhibitors</td>\n",
       "      <td>[ngram, sapbert]</td>\n",
       "      <td>0.137750</td>\n",
       "    </tr>\n",
       "    <tr>\n",
       "      <th>9</th>\n",
       "      <td>27_supportive-therapie_0765_11</td>\n",
       "      <td>Erlotinib</td>\n",
       "      <td>Clinical_Drug</td>\n",
       "      <td>183</td>\n",
       "      <td>192</td>\n",
       "      <td>C1135135</td>\n",
       "      <td>[T109, T121]</td>\n",
       "      <td>Erlotinib</td>\n",
       "      <td>[ngram, sapbert]</td>\n",
       "      <td>0.140089</td>\n",
       "    </tr>\n",
       "    <tr>\n",
       "      <th>10</th>\n",
       "      <td>27_supportive-therapie_0765_11</td>\n",
       "      <td>Gefitinib</td>\n",
       "      <td>Clinical_Drug</td>\n",
       "      <td>194</td>\n",
       "      <td>203</td>\n",
       "      <td>C1122962</td>\n",
       "      <td>[T109, T121]</td>\n",
       "      <td>Gefitinib</td>\n",
       "      <td>[ngram, sapbert]</td>\n",
       "      <td>0.149970</td>\n",
       "    </tr>\n",
       "    <tr>\n",
       "      <th>11</th>\n",
       "      <td>27_supportive-therapie_0765_11</td>\n",
       "      <td>Sunitinib</td>\n",
       "      <td>Clinical_Drug</td>\n",
       "      <td>205</td>\n",
       "      <td>214</td>\n",
       "      <td>C1176020</td>\n",
       "      <td>[T109, T121]</td>\n",
       "      <td>Sunitinib</td>\n",
       "      <td>[ngram, sapbert]</td>\n",
       "      <td>0.141609</td>\n",
       "    </tr>\n",
       "    <tr>\n",
       "      <th>12</th>\n",
       "      <td>27_supportive-therapie_0765_11</td>\n",
       "      <td>Folgesubstanzen</td>\n",
       "      <td>Clinical_Drug</td>\n",
       "      <td>219</td>\n",
       "      <td>234</td>\n",
       "      <td>C1564892</td>\n",
       "      <td>[T116, T121, T129]</td>\n",
       "      <td>Komplement-inaktivierende Substanzen</td>\n",
       "      <td>[ngram, sapbert]</td>\n",
       "      <td>0.063600</td>\n",
       "    </tr>\n",
       "  </tbody>\n",
       "</table>\n",
       "</div>"
      ],
      "text/plain": [
       "                          document                        text  \\\n",
       "0   27_supportive-therapie_0765_11            Recall-Phänomens   \n",
       "1   27_supportive-therapie_0765_11                 Pneumonitis   \n",
       "2   27_supportive-therapie_0765_11                 Bestrahlung   \n",
       "3   27_supportive-therapie_0765_11               Chemotherapie   \n",
       "4   27_supportive-therapie_0765_11              Immunotherapie   \n",
       "5   27_supportive-therapie_0765_11                     Taxanen   \n",
       "6   27_supportive-therapie_0765_11                  Gemcitabin   \n",
       "7   27_supportive-therapie_0765_11              Tyrosinkinase-   \n",
       "8   27_supportive-therapie_0765_11  Tyrosinkinase- Inhibitoren   \n",
       "9   27_supportive-therapie_0765_11                   Erlotinib   \n",
       "10  27_supportive-therapie_0765_11                   Gefitinib   \n",
       "11  27_supportive-therapie_0765_11                   Sunitinib   \n",
       "12  27_supportive-therapie_0765_11             Folgesubstanzen   \n",
       "\n",
       "                      type  start  end       cui                tuis  \\\n",
       "0   Diagnosis_or_Pathology     15   31  C1262013              [T046]   \n",
       "1   Diagnosis_or_Pathology     42   53  C3714636              [T047]   \n",
       "2              Therapeutic     70   81  C1522449              [T061]   \n",
       "3              Therapeutic     87  100  C3665472              [T061]   \n",
       "4              Therapeutic    106  120  C0021083              [T061]   \n",
       "5            Clinical_Drug    130  137  C0796419              [T109]   \n",
       "6            Clinical_Drug    139  149  C0045093        [T114, T121]   \n",
       "7            Clinical_Drug    155  169  C0033681        [T116, T126]   \n",
       "8            Clinical_Drug    155  181  C4521478              [T080]   \n",
       "9            Clinical_Drug    183  192  C1135135        [T109, T121]   \n",
       "10           Clinical_Drug    194  203  C1122962        [T109, T121]   \n",
       "11           Clinical_Drug    205  214  C1176020        [T109, T121]   \n",
       "12           Clinical_Drug    219  234  C1564892  [T116, T121, T129]   \n",
       "\n",
       "                               canonical            linker  confidence  \n",
       "0                      Recall phenomenon  [ngram, sapbert]    0.121586  \n",
       "1                            Pneumonitis  [ngram, sapbert]    0.129758  \n",
       "2                       Strahlentherapie         [sapbert]    0.116514  \n",
       "3                          Chemotherapie  [ngram, sapbert]    0.108146  \n",
       "4                          Immuntherapie  [ngram, sapbert]    0.125116  \n",
       "5                                 Taxane  [ngram, sapbert]    0.077322  \n",
       "6           2' Deoxy 2' Difluorocytidine  [ngram, sapbert]    0.135344  \n",
       "7                 Protein-Tyrosin-Kinase  [ngram, sapbert]    0.134931  \n",
       "8     Tyrosine Protein Kinase Inhibitors  [ngram, sapbert]    0.137750  \n",
       "9                              Erlotinib  [ngram, sapbert]    0.140089  \n",
       "10                             Gefitinib  [ngram, sapbert]    0.149970  \n",
       "11                             Sunitinib  [ngram, sapbert]    0.141609  \n",
       "12  Komplement-inaktivierende Substanzen  [ngram, sapbert]    0.063600  "
      ]
     },
     "metadata": {},
     "output_type": "display_data"
    }
   ],
   "source": [
    "res_before = linking_results['before_eccnp']['reranked']\n",
    "res_after = linking_results['after_eccnp']['reranked']\n",
    "\n",
    "assert len(res_sem) == len(res_no_sem)\n",
    "\n",
    "diff_text = 0\n",
    "diff_ents = 0\n",
    "for d_b, d_a in zip(res_before, res_after):\n",
    "    if d_b['passages'] != d_a['passages']: \n",
    "        diff_text += 1\n",
    "        if get_ent_texts(d_b) != get_ent_texts(d_a):\n",
    "            diff_ents += 1\n",
    "            t_a = d_a['passages'][0]['text'][0]\n",
    "            t_b = d_b['passages'][0]['text'][0]\n",
    "            print('Difference', diff_ents)\n",
    "            show_diff_single(t_b, t_a)\n",
    "            display(get_annotation_dataframe([d_b], linker.kb, 1, 0.0))\n",
    "            display(get_annotation_dataframe([d_a], linker.kb, 1, 0.0))"
   ]
  },
  {
   "cell_type": "code",
   "execution_count": null,
   "id": "674548a8-c76a-412e-bfc0-239f0e717e4f",
   "metadata": {},
   "outputs": [],
   "source": []
  }
 ],
 "metadata": {
  "kernelspec": {
   "name": "conda-env-ggponc-py"
  },
  "language_info": {
   "codemirror_mode": {
    "name": "ipython",
    "version": 3
   },
   "file_extension": ".py",
   "mimetype": "text/x-python",
   "name": "python",
   "nbconvert_exporter": "python",
   "pygments_lexer": "ipython3",
   "version": "3.9.0"
  }
 },
 "nbformat": 4,
 "nbformat_minor": 5
}
