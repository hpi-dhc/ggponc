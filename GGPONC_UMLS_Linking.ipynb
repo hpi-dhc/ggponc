{
 "cells": [
  {
   "cell_type": "markdown",
   "id": "6a3e8444-54ec-41a2-aaef-3849a22cde57",
   "metadata": {},
   "source": [
    "# UMLS Entity Linking"
   ]
  },
  {
   "cell_type": "code",
   "execution_count": 2,
   "id": "103b84f5-9ede-45ff-80de-ee5df396cadd",
   "metadata": {},
   "outputs": [],
   "source": [
    "import os\n",
    "os.environ['CUDA_VISIBLE_DEVICES'] = '1'"
   ]
  },
  {
   "cell_type": "code",
   "execution_count": 3,
   "id": "d12073e5-3bf5-4a45-b508-bf7abd5e3887",
   "metadata": {},
   "outputs": [
    {
     "name": "stderr",
     "output_type": "stream",
     "text": [
      "/home/Florian.Borchert/miniconda3/envs/ggponc/lib/python3.10/site-packages/tqdm/auto.py:21: TqdmWarning: IProgress not found. Please update jupyter and ipywidgets. See https://ipywidgets.readthedocs.io/en/stable/user_install.html\n",
      "  from .autonotebook import tqdm as notebook_tqdm\n"
     ]
    }
   ],
   "source": [
    "import datasets\n",
    "from pathlib import Path"
   ]
  },
  {
   "cell_type": "code",
   "execution_count": 4,
   "id": "e9c4485d-150d-4f30-a8df-99b3bd9c7b95",
   "metadata": {},
   "outputs": [],
   "source": [
    "from xmen import load_config, load_kb\n",
    "\n",
    "conf = load_config('xmen_ggponc3.yaml')\n",
    "kb = load_kb(Path(conf.cache_dir) / 'ggponc3' / 'ggponc3.jsonl')"
   ]
  },
  {
   "cell_type": "markdown",
   "id": "eace0372-6610-4a03-bab6-32e186911bac",
   "metadata": {},
   "source": [
    "## Preparation"
   ]
  },
  {
   "cell_type": "markdown",
   "id": "f216b159-7112-473e-a09e-6eff33fa7a34",
   "metadata": {},
   "source": [
    "`xmen dict xmen_ggponc3.yaml`\n",
    "\n",
    "`xmen index xmen_ggponc3.yaml --all --overwrite`"
   ]
  },
  {
   "cell_type": "code",
   "execution_count": null,
   "id": "32b917c2-c4eb-43e9-a042-1aeba666ae96",
   "metadata": {},
   "outputs": [],
   "source": [
    "!unzip -n -q data/v3.0_2024_01_03/plain_text/plain_text.zip -d data/v3_plain_text"
   ]
  },
  {
   "cell_type": "markdown",
   "id": "407e49a2-7a40-4982-bf1b-d15de505d039",
   "metadata": {},
   "source": [
    "## Run NER Model"
   ]
  },
  {
   "cell_type": "code",
   "execution_count": null,
   "id": "16b7f973-ccee-4f41-bf86-cd7d9078074a",
   "metadata": {},
   "outputs": [],
   "source": [
    "from spacy import Language\n",
    "\n",
    "@Language.component('prevent-sbd')\n",
    "def prevent_sentence_boundary_detection(doc):\n",
    "    doc[0].is_sent_start = True\n",
    "    for token in doc[1:]:\n",
    "        token.is_sent_start = False\n",
    "    return doc"
   ]
  },
  {
   "cell_type": "code",
   "execution_count": null,
   "id": "521b389e-ce31-4e1f-9e37-29986d475a82",
   "metadata": {},
   "outputs": [],
   "source": [
    "import spacy\n",
    "\n",
    "spacy.require_gpu()\n",
    "\n",
    "nlp = spacy.load('de_ggponc_medbertde')\n",
    "# GGPONC is already split into sentences\n",
    "nlp.add_pipe('prevent-sbd', before='parser')"
   ]
  },
  {
   "cell_type": "code",
   "execution_count": null,
   "id": "8049cf19-4a70-4bac-af9a-416c4e7a60e5",
   "metadata": {},
   "outputs": [],
   "source": [
    "from pathlib import Path\n",
    "from tqdm.auto import tqdm\n",
    "\n",
    "def get_sentences():\n",
    "    for f in tqdm(list(sorted(Path('data/v3_plain_text/sentences/all_files_sentences/').glob('*.txt')))):\n",
    "        with open(f, 'r', encoding='utf-8') as fh:\n",
    "            for l in fh.readlines():\n",
    "                l = l.rstrip()\n",
    "                if l:\n",
    "                    yield l, f.stem"
   ]
  },
  {
   "cell_type": "code",
   "execution_count": null,
   "id": "46b41f4b-993f-4c53-93a8-0b4648f5ef9a",
   "metadata": {},
   "outputs": [],
   "source": [
    "sents = list(get_sentences())"
   ]
  },
  {
   "cell_type": "code",
   "execution_count": null,
   "id": "0c88f1e2-53b6-4884-803f-c22390493e1a",
   "metadata": {},
   "outputs": [],
   "source": [
    "len(sents)"
   ]
  },
  {
   "cell_type": "code",
   "execution_count": null,
   "id": "0c4a97fe-8947-4114-80d2-957bdc3d0378",
   "metadata": {},
   "outputs": [],
   "source": [
    "%%time\n",
    "ner_result = list(nlp.pipe(get_sentences(), as_tuples=True, batch_size=256))"
   ]
  },
  {
   "cell_type": "code",
   "execution_count": null,
   "id": "2e80d851-e103-4f21-996e-b86563e0249e",
   "metadata": {},
   "outputs": [],
   "source": [
    "from spacy import displacy\n",
    "\n",
    "displacy.render(ner_result[10][0], style='span', options={'spans_key' : 'entities'})"
   ]
  },
  {
   "cell_type": "code",
   "execution_count": null,
   "id": "fbf10a27-c191-4348-95f5-a2940115cd4c",
   "metadata": {},
   "outputs": [],
   "source": [
    "from itertools import groupby\n",
    "from spacy.tokens import Doc, DocBin"
   ]
  },
  {
   "cell_type": "code",
   "execution_count": null,
   "id": "50667233-ee92-45a7-bf75-f2970739123a",
   "metadata": {},
   "outputs": [],
   "source": [
    "from typing import List, Tuple, Any\n",
    "\n",
    "def merge_sentence_docs(sentence_docs : List[Tuple[Doc, Any]], key_name='file_name'):\n",
    "    docs = []\n",
    "    for key, grp in groupby(sentence_docs, key=lambda t: t[1]):\n",
    "        sents = [g[0] for g in grp]\n",
    "        doc = Doc.from_docs(sents)\n",
    "        for k in doc.spans.keys():\n",
    "            assert sum([len(d.spans[k]) for d in sents]) == len(doc.spans[k])\n",
    "        doc.user_data[key_name] = key\n",
    "        docs.append(doc)\n",
    "    return docs"
   ]
  },
  {
   "cell_type": "code",
   "execution_count": null,
   "id": "7fb2db1d-6ecf-401c-9cdc-28fcec9128c6",
   "metadata": {},
   "outputs": [],
   "source": [
    "docs = merge_sentence_docs(ner_result)"
   ]
  },
  {
   "cell_type": "code",
   "execution_count": null,
   "id": "6f53bb25-1086-4b23-866e-f16b38e9be79",
   "metadata": {},
   "outputs": [],
   "source": [
    "from xmen.data import from_spacy\n",
    "ds = from_spacy(docs, span_key='entities', doc_id_key='file_name')"
   ]
  },
  {
   "cell_type": "code",
   "execution_count": null,
   "id": "a996fec4-6cd0-4ee8-96bd-a165402f02ff",
   "metadata": {},
   "outputs": [],
   "source": [
    "ds.save_to_disk('data/ggponc_v3_spacy')"
   ]
  },
  {
   "cell_type": "markdown",
   "id": "0ae82793-8135-41a2-b6f5-75e39e1e57b1",
   "metadata": {},
   "source": [
    "# Run Entity Linker"
   ]
  },
  {
   "cell_type": "code",
   "execution_count": null,
   "id": "77e3004d-f959-4f71-a144-ae41ed8dc8f8",
   "metadata": {},
   "outputs": [],
   "source": [
    "ds = datasets.load_from_disk('data/ggponc_v3_spacy')"
   ]
  },
  {
   "cell_type": "code",
   "execution_count": null,
   "id": "f5b0add5-9fb7-4eb4-9495-91ee5a5c95ea",
   "metadata": {},
   "outputs": [],
   "source": [
    "from xmen.data import from_spacy\n",
    "from xmen.linkers import default_ensemble"
   ]
  },
  {
   "cell_type": "code",
   "execution_count": null,
   "id": "5a04434d-1825-4ba1-89dd-0557f340eae6",
   "metadata": {},
   "outputs": [],
   "source": [
    "from xmen.data import AbbreviationExpander\n",
    "ds = AbbreviationExpander().transform_batch(ds)"
   ]
  },
  {
   "cell_type": "code",
   "execution_count": null,
   "id": "b562df87-828b-4eef-803b-7ab37d0f5be4",
   "metadata": {},
   "outputs": [],
   "source": [
    "linker = default_ensemble(**conf.linker.candidate_generation)"
   ]
  },
  {
   "cell_type": "code",
   "execution_count": null,
   "id": "3d37789e-83e5-4b9e-94f2-2a12871f03b9",
   "metadata": {},
   "outputs": [],
   "source": [
    "candidates_raw = linker.predict_batch(ds, batch_size=128)"
   ]
  },
  {
   "cell_type": "code",
   "execution_count": null,
   "id": "820e4b5c-20b6-4dcf-bb11-dc81262eab35",
   "metadata": {},
   "outputs": [],
   "source": [
    "candidates_raw.save_to_disk('data/ggponc_v3_candidates_raw')"
   ]
  },
  {
   "cell_type": "markdown",
   "id": "351dfeda-c355-468d-9f3c-ddc35f605786",
   "metadata": {},
   "source": [
    "### Semantic Type Filter"
   ]
  },
  {
   "cell_type": "code",
   "execution_count": null,
   "id": "9c79ad2b-1d3e-4cd5-a7f8-63c303029174",
   "metadata": {},
   "outputs": [],
   "source": [
    "candidates_raw = datasets.load_from_disk('data/ggponc_v3_candidates_raw')"
   ]
  },
  {
   "cell_type": "code",
   "execution_count": null,
   "id": "2829e8d7-4458-4278-ad0b-bf821f6c6584",
   "metadata": {},
   "outputs": [],
   "source": [
    "from xmen.data import SemanticTypeFilter\n",
    "import pandas as pd\n",
    "\n",
    "tui_df = pd.read_csv('ggponc2tui.csv')\n",
    "type2tui = {}\n",
    "for c in ['Diagnosis_or_Pathology', 'Other_Finding', 'Clinical_Drug', 'Nutrient_or_Body_Substance',\n",
    "       'External_Substance', 'Therapeutic', 'Diagnostic']:\n",
    "    type2tui[c] = list(tui_df.TUI[tui_df[c] == 'x'].values)\n",
    "    \n",
    "type_filter = SemanticTypeFilter(type2tui, kb)"
   ]
  },
  {
   "cell_type": "code",
   "execution_count": null,
   "id": "96e6d6cf-d2b4-42d8-bbc8-391006d1fcc3",
   "metadata": {},
   "outputs": [],
   "source": [
    "candidates_all = type_filter.transform_batch(candidates_raw)"
   ]
  },
  {
   "cell_type": "code",
   "execution_count": null,
   "id": "d3ff8b62-abbb-4e68-b253-d504d8fa0d31",
   "metadata": {},
   "outputs": [],
   "source": [
    "candidates_all.save_to_disk('data/ggponc_v3_candidates')"
   ]
  },
  {
   "cell_type": "markdown",
   "id": "5b8847b5-ff8f-40de-8a18-f2c2485daf7e",
   "metadata": {},
   "source": [
    "## Re-Ranking"
   ]
  },
  {
   "cell_type": "code",
   "execution_count": 5,
   "id": "496f4dda-9447-4d98-ac2a-4c2401277342",
   "metadata": {},
   "outputs": [],
   "source": [
    "candidates_all = datasets.load_from_disk('data/ggponc_v3_candidates')"
   ]
  },
  {
   "cell_type": "code",
   "execution_count": 6,
   "id": "0109e950-57ef-4aa6-9928-c9f34ac81d57",
   "metadata": {},
   "outputs": [],
   "source": [
    "K_RERANKING = 16"
   ]
  },
  {
   "cell_type": "code",
   "execution_count": 7,
   "id": "18cf4526-540c-4d75-8d45-fc61767aa2e2",
   "metadata": {},
   "outputs": [
    {
     "name": "stderr",
     "output_type": "stream",
     "text": [
      "Map: 100%|█████████████████████████████████████████████████████████████████████████████████████| 11821/11821 [03:35<00:00, 54.81 examples/s]\n"
     ]
    }
   ],
   "source": [
    "from xmen.data import filter_and_apply_threshold\n",
    "candidates = filter_and_apply_threshold(candidates_all, K_RERANKING, 0.0)"
   ]
  },
  {
   "cell_type": "code",
   "execution_count": 8,
   "id": "8185c65f-5645-4c38-a11a-a32a4f24a2a1",
   "metadata": {},
   "outputs": [],
   "source": [
    "from xmen.reranking import CrossEncoderReranker"
   ]
  },
  {
   "cell_type": "code",
   "execution_count": 9,
   "id": "07d41590-f991-474a-9109-9b75d3184266",
   "metadata": {},
   "outputs": [
    {
     "name": "stdout",
     "output_type": "stream",
     "text": [
      "Context length: 128\n",
      "Use NIL values: False\n"
     ]
    },
    {
     "name": "stderr",
     "output_type": "stream",
     "text": [
      "100%|████████████████████████████████████████████████████████████████████████████████████████████| 271629/271629 [00:06<00:00, 41458.89it/s]\n",
      "100%|███████████████████████████████████████████████████████████████████████████████████████████| 271629/271629 [00:01<00:00, 219170.48it/s]\n",
      "100%|█████████████████████████████████████████████████████████████████████████████████████████████| 271629/271629 [01:02<00:00, 4325.17it/s]\n"
     ]
    }
   ],
   "source": [
    "ce_candidates = CrossEncoderReranker.prepare_data(candidates, None, kb, use_nil=False)"
   ]
  },
  {
   "cell_type": "code",
   "execution_count": 10,
   "id": "6613f881-9323-42c7-a63c-710c6a1d758c",
   "metadata": {},
   "outputs": [],
   "source": [
    "rr = CrossEncoderReranker.load(\"phlobo/xmen-de-ce-medmentions\", device=0)"
   ]
  },
  {
   "cell_type": "code",
   "execution_count": null,
   "id": "3af8dfbf-14b1-4a47-b76b-14868cde55e6",
   "metadata": {},
   "outputs": [
    {
     "name": "stderr",
     "output_type": "stream",
     "text": [
      "Batches:   5%|████                                                                                 | 13066/271561 [16:23<4:33:35, 15.75it/s]"
     ]
    }
   ],
   "source": [
    "reranked = rr.rerank_batch(candidates, ce_candidates)"
   ]
  },
  {
   "cell_type": "code",
   "execution_count": null,
   "id": "8121364c-7b3c-48d5-adca-6fce25040479",
   "metadata": {},
   "outputs": [],
   "source": [
    "reranked.save_to_disk('data/ggponc_v3_rr_no_nil')"
   ]
  },
  {
   "cell_type": "markdown",
   "id": "156c203b-0715-4979-a273-c73919b62cd4",
   "metadata": {},
   "source": [
    "# Final Format"
   ]
  },
  {
   "cell_type": "code",
   "execution_count": null,
   "id": "527ed903-1897-4540-af40-f555129fe34a",
   "metadata": {},
   "outputs": [],
   "source": [
    "reranked = datasets.load_from_disk('data/ggponc_v3_rr_no_nil')"
   ]
  },
  {
   "cell_type": "code",
   "execution_count": null,
   "id": "4a68a6e3-80a0-4c21-80ec-d0d8b74e891c",
   "metadata": {},
   "outputs": [],
   "source": [
    "import random\n",
    "show_indices = [random.randint(0, len(candidates))]"
   ]
  },
  {
   "cell_type": "code",
   "execution_count": null,
   "id": "83d12321-1871-40c3-9113-5443cde30039",
   "metadata": {},
   "outputs": [],
   "source": [
    "get_annotation_dataframe(reranked.select(show_indices), kb, 3, 0.0).iloc[0:10]"
   ]
  },
  {
   "cell_type": "code",
   "execution_count": null,
   "id": "71842ee1-ce0a-4277-88a0-e00ea90d24b1",
   "metadata": {},
   "outputs": [],
   "source": [
    "#df = get_annotation_dataframe(reranked, kb, 3, 0.07)\n",
    "df = get_annotation_dataframe(reranked, kb, 1, 0.0)"
   ]
  },
  {
   "cell_type": "code",
   "execution_count": null,
   "id": "7db87fa7-3bcd-4d9f-894e-5a7d23799af5",
   "metadata": {},
   "outputs": [],
   "source": [
    "df.to_csv('data/entities_with_cuis.tsv', sep='\\t', index=False)"
   ]
  },
  {
   "cell_type": "code",
   "execution_count": null,
   "id": "2adf684a-b944-48d3-a9a0-e30d4e1a2d97",
   "metadata": {},
   "outputs": [],
   "source": []
  }
 ],
 "metadata": {
  "kernelspec": {
   "display_name": "Python [conda env:ggponc]",
   "language": "python",
   "name": "conda-env-ggponc-py"
  },
  "language_info": {
   "codemirror_mode": {
    "name": "ipython",
    "version": 3
   },
   "file_extension": ".py",
   "mimetype": "text/x-python",
   "name": "python",
   "nbconvert_exporter": "python",
   "pygments_lexer": "ipython3",
   "version": "3.10.13"
  }
 },
 "nbformat": 4,
 "nbformat_minor": 5
}
