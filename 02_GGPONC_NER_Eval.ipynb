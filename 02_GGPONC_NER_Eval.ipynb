{
 "cells": [
  {
   "cell_type": "code",
   "execution_count": 1,
   "id": "19122b8f-7ec8-4393-b5bb-e007feb806a8",
   "metadata": {
    "tags": []
   },
   "outputs": [
    {
     "data": {
      "text/plain": [
       "True"
      ]
     },
     "execution_count": 1,
     "metadata": {},
     "output_type": "execute_result"
    }
   ],
   "source": [
    "import spacy\n",
    "spacy.require_gpu()"
   ]
  },
  {
   "cell_type": "code",
   "execution_count": 24,
   "id": "138a86ff-40e8-4a5e-b269-281e7cc8bf0e",
   "metadata": {
    "tags": []
   },
   "outputs": [],
   "source": [
    "model2run = {    \n",
    "    'ggponc2_fine_long_bigbio_kb' : {\n",
    "        'deepset/gbert-base' : '2024-01-02_09-33-47-cuda-5'\n",
    "    },\n",
    "    'ggponc2_fine_short_bigbio_kb' : {\n",
    "        'deepset/gbert-base' : ...\n",
    "    }\n",
    "}"
   ]
  },
  {
   "cell_type": "code",
   "execution_count": 35,
   "id": "b2535a25-6306-4d73-8dfc-f659a654fd47",
   "metadata": {
    "tags": []
   },
   "outputs": [],
   "source": [
    "config = 'ggponc2_fine_short_bigbio_kb'"
   ]
  },
  {
   "cell_type": "code",
   "execution_count": 10,
   "id": "19e3ac52-f292-47d6-a7c0-db0fb1fa7a75",
   "metadata": {
    "tags": []
   },
   "outputs": [],
   "source": [
    "\n",
    "checkpoint = 'deepset/gbert-base'\n",
    "\n",
    "# ner_model = spacy.load('de_ggponc_medbertde')\n",
    "\n",
    "## or\n",
    "from spacy_ner import chunk_and_ngram_suggester\n",
    "run = model2run[config][checkpoint]\n",
    "ner_model = spacy.load(f'spacy_ner/training/{run}/model-best')"
   ]
  },
  {
   "cell_type": "code",
   "execution_count": 40,
   "id": "7109b2b6-d380-4ee3-ba25-c040e07815a5",
   "metadata": {
    "tags": []
   },
   "outputs": [],
   "source": [
    "from spacy.tokens import DocBin\n",
    "from itertools import islice\n",
    "from xmen.data import from_spacy\n",
    "\n",
    "spacy_test_db = DocBin(store_user_data=True).from_disk(f'data/{config}/ggponc_spacy/test.spacy')\n",
    "spacy_test = list(spacy_test_db.get_docs(ner_model.vocab))"
   ]
  },
  {
   "cell_type": "code",
   "execution_count": 41,
   "id": "5c4406dc-c953-4648-bd44-112a5a4925fb",
   "metadata": {
    "tags": []
   },
   "outputs": [],
   "source": [
    "ents = [e for s in spacy_test for e in s.spans['entities']]"
   ]
  },
  {
   "cell_type": "code",
   "execution_count": 42,
   "id": "80755559-5d5b-4b8f-a218-820a52ba02e9",
   "metadata": {
    "tags": []
   },
   "outputs": [
    {
     "data": {
      "text/plain": [
       "171358"
      ]
     },
     "execution_count": 42,
     "metadata": {},
     "output_type": "execute_result"
    }
   ],
   "source": [
    "len(ents)"
   ]
  },
  {
   "cell_type": "code",
   "execution_count": 12,
   "id": "a9135497-18d3-4d25-b0a6-dc97a8bf719d",
   "metadata": {
    "tags": []
   },
   "outputs": [],
   "source": [
    "spacy_test_ds = from_spacy(spacy_test, 'entities')"
   ]
  },
  {
   "cell_type": "code",
   "execution_count": 13,
   "id": "610eabae-9c10-4ac9-826f-6102c283bb76",
   "metadata": {
    "tags": []
   },
   "outputs": [
    {
     "name": "stderr",
     "output_type": "stream",
     "text": [
      "100%|█████████████████████████████████████████████████████████████████████████████████████████████████| 13714/13714 [02:51<00:00, 79.98it/s]\n"
     ]
    }
   ],
   "source": [
    "from tqdm.auto import tqdm\n",
    "test_data = [d.text for d in spacy_test]\n",
    "pred = list(tqdm(ner_model.pipe(test_data,  batch_size=128), total=len(test_data)))"
   ]
  },
  {
   "cell_type": "code",
   "execution_count": 14,
   "id": "45298959-2341-47cf-be62-34b6c89458cd",
   "metadata": {
    "tags": []
   },
   "outputs": [],
   "source": [
    "pred_ds = from_spacy(pred, 'entities')"
   ]
  },
  {
   "cell_type": "code",
   "execution_count": 15,
   "id": "b6f788c7-b147-4bcd-b4d9-56f0c0c2137f",
   "metadata": {
    "tags": []
   },
   "outputs": [],
   "source": [
    "def filter_entities(semantic_class):\n",
    "    def _filter(d):\n",
    "        res = []\n",
    "        for e in d['entities']:\n",
    "            if e[\"type\"] == semantic_class:\n",
    "                res.append(e)\n",
    "        return {\"entities\" : res}\n",
    "    return _filter"
   ]
  },
  {
   "cell_type": "code",
   "execution_count": 19,
   "id": "95d35ec1-0b2c-4ddb-b69a-2a0ab318f8e0",
   "metadata": {
    "tags": []
   },
   "outputs": [],
   "source": [
    "semantic_classes = ['Diagnosis_or_Pathology', 'Other_Finding', 'Clinical_Drug', 'Nutrient_or_Body_Substance', 'Therapeutic', 'Diagnostic', 'External_Substance']"
   ]
  },
  {
   "cell_type": "code",
   "execution_count": 17,
   "id": "a67a24d9-c370-471a-a171-b844dd6555d1",
   "metadata": {
    "tags": []
   },
   "outputs": [
    {
     "name": "stderr",
     "output_type": "stream",
     "text": [
      "Map: 100%|███████████████████████████████████████████████████████████████████████████████████| 13714/13714 [00:01<00:00, 7524.42 examples/s]\n",
      "Map: 100%|███████████████████████████████████████████████████████████████████████████████████| 13714/13714 [00:01<00:00, 7313.11 examples/s]\n",
      "Map: 100%|███████████████████████████████████████████████████████████████████████████████████| 13714/13714 [00:01<00:00, 9319.94 examples/s]\n",
      "Map: 100%|███████████████████████████████████████████████████████████████████████████████████| 13714/13714 [00:01<00:00, 7393.57 examples/s]\n",
      "Map: 100%|███████████████████████████████████████████████████████████████████████████████████| 13714/13714 [00:01<00:00, 9604.43 examples/s]\n",
      "Map: 100%|███████████████████████████████████████████████████████████████████████████████████| 13714/13714 [00:01<00:00, 7817.01 examples/s]\n",
      "Map: 100%|███████████████████████████████████████████████████████████████████████████████████| 13714/13714 [00:01<00:00, 7755.80 examples/s]\n",
      "Map: 100%|███████████████████████████████████████████████████████████████████████████████████| 13714/13714 [00:01<00:00, 9585.89 examples/s]\n",
      "Map: 100%|███████████████████████████████████████████████████████████████████████████████████| 13714/13714 [00:01<00:00, 7801.84 examples/s]\n",
      "Map: 100%|███████████████████████████████████████████████████████████████████████████████████| 13714/13714 [00:01<00:00, 9435.49 examples/s]\n",
      "Map: 100%|███████████████████████████████████████████████████████████████████████████████████| 13714/13714 [00:01<00:00, 9661.27 examples/s]\n",
      "Map: 100%|███████████████████████████████████████████████████████████████████████████████████| 13714/13714 [00:01<00:00, 7808.36 examples/s]\n",
      "Map: 100%|███████████████████████████████████████████████████████████████████████████████████| 13714/13714 [00:01<00:00, 7909.37 examples/s]\n",
      "Map: 100%|███████████████████████████████████████████████████████████████████████████████████| 13714/13714 [00:01<00:00, 7671.46 examples/s]\n"
     ]
    }
   ],
   "source": [
    "from xmen.evaluation import evaluate, error_analysis\n",
    "import pandas as pd\n",
    "\n",
    "res = []\n",
    "for s in semantic_classes:\n",
    "    e = evaluate(spacy_test_ds.map(filter_entities(s)), pred_ds.map(filter_entities(s)), ner_only=True, metrics=['strict'])['strict']\n",
    "    e['tag'] = s\n",
    "    res.append(e)\n",
    "res = pd.DataFrame(res)"
   ]
  },
  {
   "cell_type": "code",
   "execution_count": 18,
   "id": "a21a2a02-1e96-4b45-8f96-5d970d9b7a29",
   "metadata": {
    "tags": []
   },
   "outputs": [
    {
     "data": {
      "text/html": [
       "<div>\n",
       "<style scoped>\n",
       "    .dataframe tbody tr th:only-of-type {\n",
       "        vertical-align: middle;\n",
       "    }\n",
       "\n",
       "    .dataframe tbody tr th {\n",
       "        vertical-align: top;\n",
       "    }\n",
       "\n",
       "    .dataframe thead th {\n",
       "        text-align: right;\n",
       "    }\n",
       "</style>\n",
       "<table border=\"1\" class=\"dataframe\">\n",
       "  <thead>\n",
       "    <tr style=\"text-align: right;\">\n",
       "      <th></th>\n",
       "      <th>precision</th>\n",
       "      <th>recall</th>\n",
       "      <th>fscore</th>\n",
       "      <th>ptp</th>\n",
       "      <th>fp</th>\n",
       "      <th>rtp</th>\n",
       "      <th>fn</th>\n",
       "      <th>n_docs_system</th>\n",
       "      <th>n_annos_system</th>\n",
       "      <th>n_docs_gold</th>\n",
       "      <th>n_annos_gold</th>\n",
       "    </tr>\n",
       "    <tr>\n",
       "      <th>tag</th>\n",
       "      <th></th>\n",
       "      <th></th>\n",
       "      <th></th>\n",
       "      <th></th>\n",
       "      <th></th>\n",
       "      <th></th>\n",
       "      <th></th>\n",
       "      <th></th>\n",
       "      <th></th>\n",
       "      <th></th>\n",
       "      <th></th>\n",
       "    </tr>\n",
       "  </thead>\n",
       "  <tbody>\n",
       "    <tr>\n",
       "      <th>Diagnosis_or_Pathology</th>\n",
       "      <td>0.766281</td>\n",
       "      <td>0.779034</td>\n",
       "      <td>0.772605</td>\n",
       "      <td>8472</td>\n",
       "      <td>2584</td>\n",
       "      <td>8472</td>\n",
       "      <td>2403</td>\n",
       "      <td>13714</td>\n",
       "      <td>11073</td>\n",
       "      <td>13714</td>\n",
       "      <td>10883</td>\n",
       "    </tr>\n",
       "    <tr>\n",
       "      <th>Other_Finding</th>\n",
       "      <td>0.590572</td>\n",
       "      <td>0.610040</td>\n",
       "      <td>0.600148</td>\n",
       "      <td>4460</td>\n",
       "      <td>3092</td>\n",
       "      <td>4460</td>\n",
       "      <td>2851</td>\n",
       "      <td>13714</td>\n",
       "      <td>7571</td>\n",
       "      <td>13714</td>\n",
       "      <td>7316</td>\n",
       "    </tr>\n",
       "    <tr>\n",
       "      <th>Clinical_Drug</th>\n",
       "      <td>0.790004</td>\n",
       "      <td>0.798668</td>\n",
       "      <td>0.794312</td>\n",
       "      <td>2039</td>\n",
       "      <td>542</td>\n",
       "      <td>2039</td>\n",
       "      <td>514</td>\n",
       "      <td>13714</td>\n",
       "      <td>2581</td>\n",
       "      <td>13714</td>\n",
       "      <td>2555</td>\n",
       "    </tr>\n",
       "    <tr>\n",
       "      <th>Nutrient_or_Body_Substance</th>\n",
       "      <td>0.523757</td>\n",
       "      <td>0.738318</td>\n",
       "      <td>0.612799</td>\n",
       "      <td>474</td>\n",
       "      <td>431</td>\n",
       "      <td>474</td>\n",
       "      <td>168</td>\n",
       "      <td>13714</td>\n",
       "      <td>905</td>\n",
       "      <td>13714</td>\n",
       "      <td>643</td>\n",
       "    </tr>\n",
       "    <tr>\n",
       "      <th>Therapeutic</th>\n",
       "      <td>0.768346</td>\n",
       "      <td>0.777460</td>\n",
       "      <td>0.772876</td>\n",
       "      <td>7078</td>\n",
       "      <td>2134</td>\n",
       "      <td>7078</td>\n",
       "      <td>2026</td>\n",
       "      <td>13714</td>\n",
       "      <td>9227</td>\n",
       "      <td>13714</td>\n",
       "      <td>9110</td>\n",
       "    </tr>\n",
       "    <tr>\n",
       "      <th>External_Substance</th>\n",
       "      <td>0.515152</td>\n",
       "      <td>0.393064</td>\n",
       "      <td>0.445902</td>\n",
       "      <td>68</td>\n",
       "      <td>64</td>\n",
       "      <td>68</td>\n",
       "      <td>105</td>\n",
       "      <td>13714</td>\n",
       "      <td>132</td>\n",
       "      <td>13714</td>\n",
       "      <td>173</td>\n",
       "    </tr>\n",
       "    <tr>\n",
       "      <th>Diagnostic</th>\n",
       "      <td>0.655497</td>\n",
       "      <td>0.729150</td>\n",
       "      <td>0.690364</td>\n",
       "      <td>2719</td>\n",
       "      <td>1429</td>\n",
       "      <td>2719</td>\n",
       "      <td>1010</td>\n",
       "      <td>13714</td>\n",
       "      <td>4156</td>\n",
       "      <td>13714</td>\n",
       "      <td>3734</td>\n",
       "    </tr>\n",
       "  </tbody>\n",
       "</table>\n",
       "</div>"
      ],
      "text/plain": [
       "                            precision    recall    fscore   ptp    fp   rtp  \\\n",
       "tag                                                                           \n",
       "Diagnosis_or_Pathology       0.766281  0.779034  0.772605  8472  2584  8472   \n",
       "Other_Finding                0.590572  0.610040  0.600148  4460  3092  4460   \n",
       "Clinical_Drug                0.790004  0.798668  0.794312  2039   542  2039   \n",
       "Nutrient_or_Body_Substance   0.523757  0.738318  0.612799   474   431   474   \n",
       "Therapeutic                  0.768346  0.777460  0.772876  7078  2134  7078   \n",
       "External_Substance           0.515152  0.393064  0.445902    68    64    68   \n",
       "Diagnostic                   0.655497  0.729150  0.690364  2719  1429  2719   \n",
       "\n",
       "                              fn  n_docs_system  n_annos_system  n_docs_gold  \\\n",
       "tag                                                                            \n",
       "Diagnosis_or_Pathology      2403          13714           11073        13714   \n",
       "Other_Finding               2851          13714            7571        13714   \n",
       "Clinical_Drug                514          13714            2581        13714   \n",
       "Nutrient_or_Body_Substance   168          13714             905        13714   \n",
       "Therapeutic                 2026          13714            9227        13714   \n",
       "External_Substance           105          13714             132        13714   \n",
       "Diagnostic                  1010          13714            4156        13714   \n",
       "\n",
       "                            n_annos_gold  \n",
       "tag                                       \n",
       "Diagnosis_or_Pathology             10883  \n",
       "Other_Finding                       7316  \n",
       "Clinical_Drug                       2555  \n",
       "Nutrient_or_Body_Substance           643  \n",
       "Therapeutic                         9110  \n",
       "External_Substance                   173  \n",
       "Diagnostic                          3734  "
      ]
     },
     "execution_count": 18,
     "metadata": {},
     "output_type": "execute_result"
    }
   ],
   "source": [
    "res.set_index('tag')"
   ]
  },
  {
   "cell_type": "code",
   "execution_count": null,
   "id": "c14a19a8-bc94-4949-a528-ca94e333db02",
   "metadata": {},
   "outputs": [],
   "source": []
  }
 ],
 "metadata": {
  "kernelspec": {
   "display_name": "Python [conda env:ggponc]",
   "language": "python",
   "name": "conda-env-ggponc-py"
  },
  "language_info": {
   "codemirror_mode": {
    "name": "ipython",
    "version": 3
   },
   "file_extension": ".py",
   "mimetype": "text/x-python",
   "name": "python",
   "nbconvert_exporter": "python",
   "pygments_lexer": "ipython3",
   "version": "3.10.13"
  }
 },
 "nbformat": 4,
 "nbformat_minor": 5
}
