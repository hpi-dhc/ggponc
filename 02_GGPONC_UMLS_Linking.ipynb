{
 "cells": [
  {
   "cell_type": "markdown",
   "id": "6a3e8444-54ec-41a2-aaef-3849a22cde57",
   "metadata": {},
   "source": [
    "# UMLS Entity Linking"
   ]
  },
  {
   "cell_type": "code",
   "execution_count": 2,
   "id": "103b84f5-9ede-45ff-80de-ee5df396cadd",
   "metadata": {},
   "outputs": [],
   "source": [
    "import os\n",
    "os.environ['CUDA_VISIBLE_DEVICES'] = '3'"
   ]
  },
  {
   "cell_type": "code",
   "execution_count": 3,
   "id": "d12073e5-3bf5-4a45-b508-bf7abd5e3887",
   "metadata": {},
   "outputs": [],
   "source": [
    "import datasets\n",
    "from pathlib import Path\n",
    "from nen_util import get_annotation_dataframe\n",
    "import pandas as pd"
   ]
  },
  {
   "cell_type": "code",
   "execution_count": 4,
   "id": "e9c4485d-150d-4f30-a8df-99b3bd9c7b95",
   "metadata": {},
   "outputs": [],
   "source": [
    "from xmen import load_config, load_kb\n",
    "\n",
    "conf = load_config('xmen_ggponc3.yaml')\n",
    "version = conf.data_version"
   ]
  },
  {
   "cell_type": "markdown",
   "id": "eace0372-6610-4a03-bab6-32e186911bac",
   "metadata": {},
   "source": [
    "## Preparation"
   ]
  },
  {
   "cell_type": "markdown",
   "id": "f216b159-7112-473e-a09e-6eff33fa7a34",
   "metadata": {},
   "source": [
    "`xmen dict xmen_ggponc3.yaml`\n",
    "\n",
    "`xmen index xmen_ggponc3.yaml --all --overwrite`"
   ]
  },
  {
   "cell_type": "code",
   "execution_count": null,
   "id": "32b917c2-c4eb-43e9-a042-1aeba666ae96",
   "metadata": {},
   "outputs": [],
   "source": [
    "#!unzip -n -q data/v3.0_2024_01_03/plain_text/plain_text.zip -d data/v3_plain_text\n",
    "!mkdir output/$version\n",
    "!unzip -n -q data/$version/plain_text/plain_text.zip -d output/$version/plain_text"
   ]
  },
  {
   "cell_type": "markdown",
   "id": "89aeaff9-2e17-461d-9dc3-a4889852eecc",
   "metadata": {},
   "source": [
    "## Read Sentences"
   ]
  },
  {
   "cell_type": "code",
   "execution_count": null,
   "id": "18b933d7-f575-41fc-8625-1ccb166d77e5",
   "metadata": {
    "tags": []
   },
   "outputs": [],
   "source": [
    "from ggponc import read_sentences\n",
    "sent_df = read_sentences(version)\n",
    "sent_df.head()"
   ]
  },
  {
   "cell_type": "markdown",
   "id": "ef25d4ff-d2be-422d-a408-e501356e0843",
   "metadata": {},
   "source": [
    "## Resolve Elliptical Compounds"
   ]
  },
  {
   "cell_type": "code",
   "execution_count": null,
   "id": "35de4a1c-ca54-4ddd-8dd0-0ac46290f996",
   "metadata": {
    "tags": []
   },
   "outputs": [],
   "source": [
    "from ggponc import ECCNPResolver\n",
    "resolver = ECCNPResolver(**conf.eccnp)"
   ]
  },
  {
   "cell_type": "code",
   "execution_count": null,
   "id": "2b598b01-d02e-4622-9e7a-d9ae7d754a11",
   "metadata": {
    "tags": []
   },
   "outputs": [],
   "source": [
    "resolver.transform('Chemo- und Strahlentherapie, BRAF-/MEK-Inhibitor')"
   ]
  },
  {
   "cell_type": "code",
   "execution_count": null,
   "id": "63ac99b6-e14d-4204-87fa-ccaa3b283a38",
   "metadata": {
    "tags": []
   },
   "outputs": [],
   "source": [
    "sent_df = resolver.set_df(sent_df)"
   ]
  },
  {
   "cell_type": "code",
   "execution_count": null,
   "id": "0d72d893-e38d-4173-8e90-d4bcd9b84632",
   "metadata": {
    "tags": []
   },
   "outputs": [],
   "source": [
    "sent_df.to_parquet(f'output/{version}/sentences_resolved.parquet')"
   ]
  },
  {
   "cell_type": "markdown",
   "id": "407e49a2-7a40-4982-bf1b-d15de505d039",
   "metadata": {},
   "source": [
    "## Run NER Model"
   ]
  },
  {
   "cell_type": "code",
   "execution_count": null,
   "id": "004ec515-73de-4500-8c9a-9ffb4c7a5e83",
   "metadata": {
    "tags": []
   },
   "outputs": [],
   "source": [
    "sent_df = pd.read_parquet(f'output/{version}/sentences_resolved.parquet')"
   ]
  },
  {
   "cell_type": "code",
   "execution_count": null,
   "id": "cc38fc29-c4f8-4dce-8a2a-0ffbcf29d29e",
   "metadata": {
    "tags": []
   },
   "outputs": [],
   "source": [
    "# Drop excessively long pre-processed sentences, most like generation errors\n",
    "sent_df['ratio'] = (sent_df.sentence_preprocessed.str.len() / sent_df.sentence.str.len()).sort_values()\n",
    "sent_df.loc[sent_df.ratio > 2, 'sentence_preprocessed'] = sent_df.sentence"
   ]
  },
  {
   "cell_type": "code",
   "execution_count": null,
   "id": "0b8eb1bd-823f-4d05-80fb-8e795cb8a111",
   "metadata": {
    "tags": []
   },
   "outputs": [],
   "source": [
    "from ggponc import NERTagger\n",
    "ner = NERTagger()"
   ]
  },
  {
   "cell_type": "code",
   "execution_count": null,
   "id": "9bd36b87-e307-4084-a768-2489d8dbace3",
   "metadata": {
    "tags": []
   },
   "outputs": [],
   "source": [
    "d = ner.transform('Chemo- und Strahlentherapie, BRAF-/MEK-Inhibitor')\n",
    "d.spans"
   ]
  },
  {
   "cell_type": "code",
   "execution_count": null,
   "id": "85fff5d8-9c79-494a-9bde-47adf854815b",
   "metadata": {
    "tags": []
   },
   "outputs": [],
   "source": [
    "d = ner.transform('Chemotherapie und Strahlentherapie, BRAF-Inhibitor/MEK-Inhibitor')\n",
    "d.spans"
   ]
  },
  {
   "cell_type": "code",
   "execution_count": null,
   "id": "81306002-9ef5-4d0f-8713-53da043e5648",
   "metadata": {
    "tags": []
   },
   "outputs": [],
   "source": [
    "ner_df = ner.set_df(sent_df)"
   ]
  },
  {
   "cell_type": "code",
   "execution_count": null,
   "id": "7fb2db1d-6ecf-401c-9cdc-28fcec9128c6",
   "metadata": {},
   "outputs": [],
   "source": [
    "from ggponc import merge_sentence_docs\n",
    "docs = merge_sentence_docs(ner_df.spacy_ner, ner_df.file)"
   ]
  },
  {
   "cell_type": "code",
   "execution_count": null,
   "id": "ab7e186e-09c6-4261-8745-b5fa1fc0e439",
   "metadata": {
    "tags": []
   },
   "outputs": [],
   "source": [
    "from spacy import displacy\n",
    "\n",
    "displacy.render(docs[2], style='span', options = {'spans_key' : 'entities'})"
   ]
  },
  {
   "cell_type": "code",
   "execution_count": null,
   "id": "6f53bb25-1086-4b23-866e-f16b38e9be79",
   "metadata": {},
   "outputs": [],
   "source": [
    "from xmen.data import from_spacy\n",
    "ds = from_spacy(docs, span_key='entities', doc_id_key='file_name')"
   ]
  },
  {
   "cell_type": "code",
   "execution_count": null,
   "id": "a996fec4-6cd0-4ee8-96bd-a165402f02ff",
   "metadata": {},
   "outputs": [],
   "source": [
    "fname = f'output/{version}/ggponc_ner_spacy'\n",
    "ds.save_to_disk(fname)\n",
    "fname"
   ]
  },
  {
   "cell_type": "markdown",
   "id": "0ae82793-8135-41a2-b6f5-75e39e1e57b1",
   "metadata": {},
   "source": [
    "# Run Entity Linker"
   ]
  },
  {
   "cell_type": "code",
   "execution_count": 5,
   "id": "77e3004d-f959-4f71-a144-ae41ed8dc8f8",
   "metadata": {},
   "outputs": [],
   "source": [
    "ds = datasets.load_from_disk(f'output/{version}/ggponc_ner_spacy')"
   ]
  },
  {
   "cell_type": "code",
   "execution_count": 6,
   "id": "c9550100-f8ef-4b11-9e49-81c97cd6be4f",
   "metadata": {
    "tags": []
   },
   "outputs": [
    {
     "data": {
      "text/plain": [
       "257325"
      ]
     },
     "execution_count": 6,
     "metadata": {},
     "output_type": "execute_result"
    }
   ],
   "source": [
    "len([e for d in ds for e in d['entities']])"
   ]
  },
  {
   "cell_type": "code",
   "execution_count": 7,
   "id": "0c826330-1a7e-4f07-8430-79b77942450d",
   "metadata": {
    "tags": []
   },
   "outputs": [
    {
     "data": {
      "application/vnd.jupyter.widget-view+json": {
       "model_id": "d806d7693bfd4fbfa8889924121a09e2",
       "version_major": 2,
       "version_minor": 0
      },
      "text/plain": [
       "Filter:   0%|          | 0/11280 [00:00<?, ? examples/s]"
      ]
     },
     "metadata": {},
     "output_type": "display_data"
    },
    {
     "data": {
      "text/plain": [
       "{'id': 26,\n",
       " 'offsets': [[4171, 4206]],\n",
       " 'text': ['Reproduktionsmedizinische Verfahren'],\n",
       " 'type': 'sentence'}"
      ]
     },
     "execution_count": 7,
     "metadata": {},
     "output_type": "execute_result"
    }
   ],
   "source": [
    "ds.filter(lambda d: d['document_id'] == '18_hodgkin-lymphom_0194')[0]['passages'][26]"
   ]
  },
  {
   "cell_type": "code",
   "execution_count": 8,
   "id": "836bfc78-9737-4111-95ce-f82e1c541d13",
   "metadata": {
    "tags": []
   },
   "outputs": [
    {
     "name": "stderr",
     "output_type": "stream",
     "text": [
      "/home/Florian.Borchert/miniconda3/envs/ggponc/lib/python3.9/site-packages/transformers/utils/generic.py:441: UserWarning: torch.utils._pytree._register_pytree_node is deprecated. Please use torch.utils._pytree.register_pytree_node instead.\n",
      "  _torch_pytree._register_pytree_node(\n",
      "/home/Florian.Borchert/miniconda3/envs/ggponc/lib/python3.9/site-packages/transformers/utils/generic.py:309: UserWarning: torch.utils._pytree._register_pytree_node is deprecated. Please use torch.utils._pytree.register_pytree_node instead.\n",
      "  _torch_pytree._register_pytree_node(\n",
      "Your CPU supports instructions that this binary was not compiled to use: SSE3 SSE4.1 SSE4.2 AVX AVX2\n",
      "For maximum performance, you can install NMSLIB from sources \n",
      "pip install --no-binary :all: nmslib\n",
      "/home/Florian.Borchert/miniconda3/envs/ggponc/lib/python3.9/site-packages/sklearn/base.py:348: InconsistentVersionWarning: Trying to unpickle estimator TfidfTransformer from version 1.3.1 when using version 1.3.2. This might lead to breaking code or invalid results. Use at your own risk. For more info please refer to:\n",
      "https://scikit-learn.org/stable/model_persistence.html#security-maintainability-limitations\n",
      "  warnings.warn(\n",
      "/home/Florian.Borchert/miniconda3/envs/ggponc/lib/python3.9/site-packages/sklearn/base.py:348: InconsistentVersionWarning: Trying to unpickle estimator TfidfVectorizer from version 1.3.1 when using version 1.3.2. This might lead to breaking code or invalid results. Use at your own risk. For more info please refer to:\n",
      "https://scikit-learn.org/stable/model_persistence.html#security-maintainability-limitations\n",
      "  warnings.warn(\n"
     ]
    },
    {
     "data": {
      "text/html": [
       "<pre style=\"white-space:pre;overflow-x:auto;line-height:normal;font-family:Menlo,'DejaVu Sans Mono',consolas,'Courier New',monospace\"><span style=\"color: #7fbfbf; text-decoration-color: #7fbfbf\">[04/15/24 09:42:26] </span><span style=\"color: #000080; text-decoration-color: #000080\">INFO    </span> Loading hierarchical faiss index                                <a href=\"file:///mnt/nfs/home/Florian.Borchert/workspace/xmen/xmen/linkers/sap_bert_linker.py\" target=\"_blank\"><span style=\"color: #7f7f7f; text-decoration-color: #7f7f7f\">sap_bert_linker.py</span></a><span style=\"color: #7f7f7f; text-decoration-color: #7f7f7f\">:</span><a href=\"file:///mnt/nfs/home/Florian.Borchert/workspace/xmen/xmen/linkers/sap_bert_linker.py#153\" target=\"_blank\"><span style=\"color: #7f7f7f; text-decoration-color: #7f7f7f\">153</span></a>\n",
       "</pre>\n"
      ],
      "text/plain": [
       "\u001b[2;36m[04/15/24 09:42:26]\u001b[0m\u001b[2;36m \u001b[0m\u001b[34mINFO    \u001b[0m Loading hierarchical faiss index                                \u001b]8;id=905541;file:///mnt/nfs/home/Florian.Borchert/workspace/xmen/xmen/linkers/sap_bert_linker.py\u001b\\\u001b[2msap_bert_linker.py\u001b[0m\u001b]8;;\u001b\\\u001b[2m:\u001b[0m\u001b]8;id=43152;file:///mnt/nfs/home/Florian.Borchert/workspace/xmen/xmen/linkers/sap_bert_linker.py#153\u001b\\\u001b[2m153\u001b[0m\u001b]8;;\u001b\\\n"
      ]
     },
     "metadata": {},
     "output_type": "display_data"
    },
    {
     "data": {
      "text/html": [
       "<pre style=\"white-space:pre;overflow-x:auto;line-height:normal;font-family:Menlo,'DejaVu Sans Mono',consolas,'Courier New',monospace\"><span style=\"color: #7fbfbf; text-decoration-color: #7fbfbf\">                    </span><span style=\"color: #000080; text-decoration-color: #000080\">INFO    </span> Loading index from                                                 <a href=\"file:///mnt/nfs/home/Florian.Borchert/workspace/xmen/xmen/linkers/faiss_indexer.py\" target=\"_blank\"><span style=\"color: #7f7f7f; text-decoration-color: #7f7f7f\">faiss_indexer.py</span></a><span style=\"color: #7f7f7f; text-decoration-color: #7f7f7f\">:</span><a href=\"file:///mnt/nfs/home/Florian.Borchert/workspace/xmen/xmen/linkers/faiss_indexer.py#64\" target=\"_blank\"><span style=\"color: #7f7f7f; text-decoration-color: #7f7f7f\">64</span></a>\n",
       "<span style=\"color: #7fbfbf; text-decoration-color: #7fbfbf\">                    </span>         <span style=\"color: #800080; text-decoration-color: #800080\">/home/Florian.Borchert/.cache/xmen/ggponc3/index/sapbert/</span><span style=\"color: #ff00ff; text-decoration-color: #ff00ff\">embed_fai</span> <span style=\"color: #7f7f7f; text-decoration-color: #7f7f7f\">                   </span>\n",
       "<span style=\"color: #7fbfbf; text-decoration-color: #7fbfbf\">                    </span>         <span style=\"color: #ff00ff; text-decoration-color: #ff00ff\">ss_hier.pickle</span>                                                     <span style=\"color: #7f7f7f; text-decoration-color: #7f7f7f\">                   </span>\n",
       "</pre>\n"
      ],
      "text/plain": [
       "\u001b[2;36m                   \u001b[0m\u001b[2;36m \u001b[0m\u001b[34mINFO    \u001b[0m Loading index from                                                 \u001b]8;id=851773;file:///mnt/nfs/home/Florian.Borchert/workspace/xmen/xmen/linkers/faiss_indexer.py\u001b\\\u001b[2mfaiss_indexer.py\u001b[0m\u001b]8;;\u001b\\\u001b[2m:\u001b[0m\u001b]8;id=725515;file:///mnt/nfs/home/Florian.Borchert/workspace/xmen/xmen/linkers/faiss_indexer.py#64\u001b\\\u001b[2m64\u001b[0m\u001b]8;;\u001b\\\n",
       "\u001b[2;36m                    \u001b[0m         \u001b[35m/home/Florian.Borchert/.cache/xmen/ggponc3/index/sapbert/\u001b[0m\u001b[95membed_fai\u001b[0m \u001b[2m                   \u001b[0m\n",
       "\u001b[2;36m                    \u001b[0m         \u001b[95mss_hier.pickle\u001b[0m                                                     \u001b[2m                   \u001b[0m\n"
      ]
     },
     "metadata": {},
     "output_type": "display_data"
    },
    {
     "data": {
      "text/html": [
       "<pre style=\"white-space:pre;overflow-x:auto;line-height:normal;font-family:Menlo,'DejaVu Sans Mono',consolas,'Courier New',monospace\"><span style=\"color: #7fbfbf; text-decoration-color: #7fbfbf\">[04/15/24 09:42:30] </span><span style=\"color: #000080; text-decoration-color: #000080\">INFO    </span> Loaded index of type <span style=\"font-weight: bold\">&lt;</span><span style=\"color: #ff00ff; text-decoration-color: #ff00ff; font-weight: bold\">class</span><span style=\"color: #000000; text-decoration-color: #000000\"> </span><span style=\"color: #008000; text-decoration-color: #008000\">'faiss.swigfaiss.IndexHNSWFlat'</span><span style=\"font-weight: bold\">&gt;</span> and   <a href=\"file:///mnt/nfs/home/Florian.Borchert/workspace/xmen/xmen/linkers/faiss_indexer.py\" target=\"_blank\"><span style=\"color: #7f7f7f; text-decoration-color: #7f7f7f\">faiss_indexer.py</span></a><span style=\"color: #7f7f7f; text-decoration-color: #7f7f7f\">:</span><a href=\"file:///mnt/nfs/home/Florian.Borchert/workspace/xmen/xmen/linkers/faiss_indexer.py#66\" target=\"_blank\"><span style=\"color: #7f7f7f; text-decoration-color: #7f7f7f\">66</span></a>\n",
       "<span style=\"color: #7fbfbf; text-decoration-color: #7fbfbf\">                    </span>         size <span style=\"color: #008080; text-decoration-color: #008080; font-weight: bold\">2465719</span>                                                       <span style=\"color: #7f7f7f; text-decoration-color: #7f7f7f\">                   </span>\n",
       "</pre>\n"
      ],
      "text/plain": [
       "\u001b[2;36m[04/15/24 09:42:30]\u001b[0m\u001b[2;36m \u001b[0m\u001b[34mINFO    \u001b[0m Loaded index of type \u001b[1m<\u001b[0m\u001b[1;95mclass\u001b[0m\u001b[39m \u001b[0m\u001b[32m'faiss.swigfaiss.IndexHNSWFlat'\u001b[0m\u001b[1m>\u001b[0m and   \u001b]8;id=824513;file:///mnt/nfs/home/Florian.Borchert/workspace/xmen/xmen/linkers/faiss_indexer.py\u001b\\\u001b[2mfaiss_indexer.py\u001b[0m\u001b]8;;\u001b\\\u001b[2m:\u001b[0m\u001b]8;id=325075;file:///mnt/nfs/home/Florian.Borchert/workspace/xmen/xmen/linkers/faiss_indexer.py#66\u001b\\\u001b[2m66\u001b[0m\u001b]8;;\u001b\\\n",
       "\u001b[2;36m                    \u001b[0m         size \u001b[1;36m2465719\u001b[0m                                                       \u001b[2m                   \u001b[0m\n"
      ]
     },
     "metadata": {},
     "output_type": "display_data"
    }
   ],
   "source": [
    "from ggponc import EntityLinker\n",
    "linker = EntityLinker(**conf.linker.ranking, candidate_generation_kwargs=conf.linker.candidate_generation)"
   ]
  },
  {
   "cell_type": "code",
   "execution_count": null,
   "id": "3af8dfbf-14b1-4a47-b76b-14868cde55e6",
   "metadata": {},
   "outputs": [
    {
     "data": {
      "text/html": [
       "<pre style=\"white-space:pre;overflow-x:auto;line-height:normal;font-family:Menlo,'DejaVu Sans Mono',consolas,'Courier New',monospace\"><span style=\"color: #7fbfbf; text-decoration-color: #7fbfbf\">[04/15/24 09:42:53] </span><span style=\"color: #000080; text-decoration-color: #000080\">INFO    </span> Expanding Abbreviations                                                  <a href=\"file:///mnt/nfs/home/Florian.Borchert/workspace/ggponc/ggponc.py\" target=\"_blank\"><span style=\"color: #7f7f7f; text-decoration-color: #7f7f7f\">ggponc.py</span></a><span style=\"color: #7f7f7f; text-decoration-color: #7f7f7f\">:</span><a href=\"file:///mnt/nfs/home/Florian.Borchert/workspace/ggponc/ggponc.py#136\" target=\"_blank\"><span style=\"color: #7f7f7f; text-decoration-color: #7f7f7f\">136</span></a>\n",
       "</pre>\n"
      ],
      "text/plain": [
       "\u001b[2;36m[04/15/24 09:42:53]\u001b[0m\u001b[2;36m \u001b[0m\u001b[34mINFO    \u001b[0m Expanding Abbreviations                                                  \u001b]8;id=373433;file:///mnt/nfs/home/Florian.Borchert/workspace/ggponc/ggponc.py\u001b\\\u001b[2mggponc.py\u001b[0m\u001b]8;;\u001b\\\u001b[2m:\u001b[0m\u001b]8;id=287540;file:///mnt/nfs/home/Florian.Borchert/workspace/ggponc/ggponc.py#136\u001b\\\u001b[2m136\u001b[0m\u001b]8;;\u001b\\\n"
      ]
     },
     "metadata": {},
     "output_type": "display_data"
    },
    {
     "name": "stderr",
     "output_type": "stream",
     "text": [
      "/home/Florian.Borchert/miniconda3/envs/ggponc/lib/python3.9/site-packages/spacy/util.py:910: UserWarning: [W095] Model 'en_core_sci_sm' (0.5.1) was trained with spaCy v3.4.1 and may not be 100% compatible with the current version (3.7.4). If you see errors or degraded performance, download a newer compatible model or retrain your custom model with the current spaCy version. For more details and available updates, run: python -m spacy validate\n",
      "  warnings.warn(warn_msg)\n"
     ]
    },
    {
     "data": {
      "application/vnd.jupyter.widget-view+json": {
       "model_id": "e2547178cc374b19be0b01f02a433bc5",
       "version_major": 2,
       "version_minor": 0
      },
      "text/plain": [
       "Map:   0%|          | 0/11280 [00:00<?, ? examples/s]"
      ]
     },
     "metadata": {},
     "output_type": "display_data"
    },
    {
     "name": "stderr",
     "output_type": "stream",
     "text": [
      "/home/Florian.Borchert/miniconda3/envs/ggponc/lib/python3.9/site-packages/scispacy/abbreviation.py:248: UserWarning: [W036] The component 'matcher' does not have any patterns defined.\n",
      "  global_matches = self.global_matcher(doc)\n"
     ]
    },
    {
     "data": {
      "text/html": [
       "<pre style=\"white-space:pre;overflow-x:auto;line-height:normal;font-family:Menlo,'DejaVu Sans Mono',consolas,'Courier New',monospace\"><span style=\"color: #7fbfbf; text-decoration-color: #7fbfbf\">[04/15/24 09:44:59] </span><span style=\"color: #000080; text-decoration-color: #000080\">INFO    </span> Generating Candidates                                                    <a href=\"file:///mnt/nfs/home/Florian.Borchert/workspace/ggponc/ggponc.py\" target=\"_blank\"><span style=\"color: #7f7f7f; text-decoration-color: #7f7f7f\">ggponc.py</span></a><span style=\"color: #7f7f7f; text-decoration-color: #7f7f7f\">:</span><a href=\"file:///mnt/nfs/home/Florian.Borchert/workspace/ggponc/ggponc.py#140\" target=\"_blank\"><span style=\"color: #7f7f7f; text-decoration-color: #7f7f7f\">140</span></a>\n",
       "</pre>\n"
      ],
      "text/plain": [
       "\u001b[2;36m[04/15/24 09:44:59]\u001b[0m\u001b[2;36m \u001b[0m\u001b[34mINFO    \u001b[0m Generating Candidates                                                    \u001b]8;id=898559;file:///mnt/nfs/home/Florian.Borchert/workspace/ggponc/ggponc.py\u001b\\\u001b[2mggponc.py\u001b[0m\u001b]8;;\u001b\\\u001b[2m:\u001b[0m\u001b]8;id=438870;file:///mnt/nfs/home/Florian.Borchert/workspace/ggponc/ggponc.py#140\u001b\\\u001b[2m140\u001b[0m\u001b]8;;\u001b\\\n"
      ]
     },
     "metadata": {},
     "output_type": "display_data"
    },
    {
     "data": {
      "application/vnd.jupyter.widget-view+json": {
       "model_id": "7d017de2b00f4289a0c62664f5eef4a6",
       "version_major": 2,
       "version_minor": 0
      },
      "text/plain": [
       "Map:   0%|          | 0/11280 [00:00<?, ? examples/s]"
      ]
     },
     "metadata": {},
     "output_type": "display_data"
    },
    {
     "data": {
      "text/html": [
       "<pre style=\"white-space:pre;overflow-x:auto;line-height:normal;font-family:Menlo,'DejaVu Sans Mono',consolas,'Courier New',monospace\"><span style=\"color: #7fbfbf; text-decoration-color: #7fbfbf\">[04/15/24 10:59:02] </span><span style=\"color: #000080; text-decoration-color: #000080\">INFO    </span> Filtering Semantic Types                                                 <a href=\"file:///mnt/nfs/home/Florian.Borchert/workspace/ggponc/ggponc.py\" target=\"_blank\"><span style=\"color: #7f7f7f; text-decoration-color: #7f7f7f\">ggponc.py</span></a><span style=\"color: #7f7f7f; text-decoration-color: #7f7f7f\">:</span><a href=\"file:///mnt/nfs/home/Florian.Borchert/workspace/ggponc/ggponc.py#146\" target=\"_blank\"><span style=\"color: #7f7f7f; text-decoration-color: #7f7f7f\">146</span></a>\n",
       "</pre>\n"
      ],
      "text/plain": [
       "\u001b[2;36m[04/15/24 10:59:02]\u001b[0m\u001b[2;36m \u001b[0m\u001b[34mINFO    \u001b[0m Filtering Semantic Types                                                 \u001b]8;id=16227;file:///mnt/nfs/home/Florian.Borchert/workspace/ggponc/ggponc.py\u001b\\\u001b[2mggponc.py\u001b[0m\u001b]8;;\u001b\\\u001b[2m:\u001b[0m\u001b]8;id=258413;file:///mnt/nfs/home/Florian.Borchert/workspace/ggponc/ggponc.py#146\u001b\\\u001b[2m146\u001b[0m\u001b]8;;\u001b\\\n"
      ]
     },
     "metadata": {},
     "output_type": "display_data"
    },
    {
     "data": {
      "application/vnd.jupyter.widget-view+json": {
       "model_id": "6756fa487cf14b4691ff9b209654609e",
       "version_major": 2,
       "version_minor": 0
      },
      "text/plain": [
       "Map:   0%|          | 0/11280 [00:00<?, ? examples/s]"
      ]
     },
     "metadata": {},
     "output_type": "display_data"
    },
    {
     "data": {
      "text/html": [
       "<pre style=\"white-space:pre;overflow-x:auto;line-height:normal;font-family:Menlo,'DejaVu Sans Mono',consolas,'Courier New',monospace\"><span style=\"color: #7fbfbf; text-decoration-color: #7fbfbf\">[04/15/24 11:06:25] </span><span style=\"color: #000080; text-decoration-color: #000080\">INFO    </span> Re-ranking Candidates                                                    <a href=\"file:///mnt/nfs/home/Florian.Borchert/workspace/ggponc/ggponc.py\" target=\"_blank\"><span style=\"color: #7f7f7f; text-decoration-color: #7f7f7f\">ggponc.py</span></a><span style=\"color: #7f7f7f; text-decoration-color: #7f7f7f\">:</span><a href=\"file:///mnt/nfs/home/Florian.Borchert/workspace/ggponc/ggponc.py#150\" target=\"_blank\"><span style=\"color: #7f7f7f; text-decoration-color: #7f7f7f\">150</span></a>\n",
       "</pre>\n"
      ],
      "text/plain": [
       "\u001b[2;36m[04/15/24 11:06:25]\u001b[0m\u001b[2;36m \u001b[0m\u001b[34mINFO    \u001b[0m Re-ranking Candidates                                                    \u001b]8;id=955906;file:///mnt/nfs/home/Florian.Borchert/workspace/ggponc/ggponc.py\u001b\\\u001b[2mggponc.py\u001b[0m\u001b]8;;\u001b\\\u001b[2m:\u001b[0m\u001b]8;id=743533;file:///mnt/nfs/home/Florian.Borchert/workspace/ggponc/ggponc.py#150\u001b\\\u001b[2m150\u001b[0m\u001b]8;;\u001b\\\n"
      ]
     },
     "metadata": {},
     "output_type": "display_data"
    },
    {
     "data": {
      "application/vnd.jupyter.widget-view+json": {
       "model_id": "0e0d2f80d34c4621bb5fee1b0ad8a1bc",
       "version_major": 2,
       "version_minor": 0
      },
      "text/plain": [
       "Map:   0%|          | 0/11280 [00:00<?, ? examples/s]"
      ]
     },
     "metadata": {},
     "output_type": "display_data"
    },
    {
     "name": "stdout",
     "output_type": "stream",
     "text": [
      "Context length: 128\n",
      "Use NIL values: False\n"
     ]
    },
    {
     "data": {
      "application/vnd.jupyter.widget-view+json": {
       "model_id": "5f71c39e06fa4fda9f5dbd165f67ed1c",
       "version_major": 2,
       "version_minor": 0
      },
      "text/plain": [
       "  0%|          | 0/257325 [00:00<?, ?it/s]"
      ]
     },
     "metadata": {},
     "output_type": "display_data"
    },
    {
     "data": {
      "application/vnd.jupyter.widget-view+json": {
       "model_id": "de83c7b1dd8642d88caf90f913b6e2a7",
       "version_major": 2,
       "version_minor": 0
      },
      "text/plain": [
       "  0%|          | 0/257325 [00:00<?, ?it/s]"
      ]
     },
     "metadata": {},
     "output_type": "display_data"
    },
    {
     "name": "stderr",
     "output_type": "stream",
     "text": [
      "/home/Florian.Borchert/miniconda3/envs/ggponc/lib/python3.9/site-packages/datasets/table.py:1387: FutureWarning: promote has been superseded by promote_options='default'.\n",
      "  return cls._concat_blocks(pa_tables_to_concat_vertically, axis=0)\n"
     ]
    },
    {
     "data": {
      "application/vnd.jupyter.widget-view+json": {
       "model_id": "2a79431a86464ab4b0f54f7c5bf220c6",
       "version_major": 2,
       "version_minor": 0
      },
      "text/plain": [
       "  0%|          | 0/257325 [00:00<?, ?it/s]"
      ]
     },
     "metadata": {},
     "output_type": "display_data"
    },
    {
     "data": {
      "application/vnd.jupyter.widget-view+json": {
       "model_id": "88bc4f7d22c342d98ea3f4492f798a85",
       "version_major": 2,
       "version_minor": 0
      },
      "text/plain": [
       "Batches:   0%|          | 0/257318 [00:00<?, ?it/s]"
      ]
     },
     "metadata": {},
     "output_type": "display_data"
    },
    {
     "data": {
      "application/vnd.jupyter.widget-view+json": {
       "model_id": "4478fe5996914998aff9fd830e5924c2",
       "version_major": 2,
       "version_minor": 0
      },
      "text/plain": [
       "Map:   0%|          | 0/11280 [00:00<?, ? examples/s]"
      ]
     },
     "metadata": {},
     "output_type": "display_data"
    },
    {
     "name": "stderr",
     "output_type": "stream",
     "text": [
      "IOPub message rate exceeded.\n",
      "The Jupyter server will temporarily stop sending output\n",
      "to the client in order to avoid crashing it.\n",
      "To change this limit, set the config variable\n",
      "`--ServerApp.iopub_msg_rate_limit`.\n",
      "\n",
      "Current values:\n",
      "ServerApp.iopub_msg_rate_limit=1000.0 (msgs/sec)\n",
      "ServerApp.rate_limit_window=3.0 (secs)\n",
      "\n"
     ]
    },
    {
     "data": {
      "application/vnd.jupyter.widget-view+json": {
       "model_id": "61138d5933804e34b20b9dace7bc200f",
       "version_major": 2,
       "version_minor": 0
      },
      "text/plain": [
       "Map:   0%|          | 0/11280 [00:00<?, ? examples/s]"
      ]
     },
     "metadata": {},
     "output_type": "display_data"
    }
   ],
   "source": [
    "result = linker.transform(ds)"
   ]
  },
  {
   "cell_type": "code",
   "execution_count": null,
   "id": "8121364c-7b3c-48d5-adca-6fce25040479",
   "metadata": {},
   "outputs": [],
   "source": [
    "result.save_to_disk(f'output/{version}/ggponc_xmen')"
   ]
  },
  {
   "cell_type": "markdown",
   "id": "156c203b-0715-4979-a273-c73919b62cd4",
   "metadata": {},
   "source": [
    "# Final Format"
   ]
  },
  {
   "cell_type": "code",
   "execution_count": null,
   "id": "527ed903-1897-4540-af40-f555129fe34a",
   "metadata": {},
   "outputs": [],
   "source": [
    "result = datasets.load_from_disk(f'output/{version}/ggponc_xmen')"
   ]
  },
  {
   "cell_type": "code",
   "execution_count": null,
   "id": "65fb47e8-43d5-4295-8d5e-cc29263c6e91",
   "metadata": {
    "tags": []
   },
   "outputs": [],
   "source": [
    "types = ['Clinical_Drug', 'Diagnostic', 'Therapeutic']\n",
    "\n",
    "import random\n",
    "show_indices = list(range(0, len(result['candidates'])))\n",
    "random.shuffle(show_indices)\n",
    "show_indices[0:10]"
   ]
  },
  {
   "cell_type": "code",
   "execution_count": 19,
   "id": "8b2c91d3-ab75-4e5e-9aed-a9b654404e10",
   "metadata": {},
   "outputs": [
    {
     "data": {
      "application/vnd.jupyter.widget-view+json": {
       "model_id": "168c4a43ad0b4479893d9a583c1c382a",
       "version_major": 2,
       "version_minor": 0
      },
      "text/plain": [
       "  0%|          | 0/10 [00:00<?, ?it/s]"
      ]
     },
     "metadata": {},
     "output_type": "display_data"
    },
    {
     "data": {
      "text/html": [
       "<div>\n",
       "<style scoped>\n",
       "    .dataframe tbody tr th:only-of-type {\n",
       "        vertical-align: middle;\n",
       "    }\n",
       "\n",
       "    .dataframe tbody tr th {\n",
       "        vertical-align: top;\n",
       "    }\n",
       "\n",
       "    .dataframe thead th {\n",
       "        text-align: right;\n",
       "    }\n",
       "</style>\n",
       "<table border=\"1\" class=\"dataframe\">\n",
       "  <thead>\n",
       "    <tr style=\"text-align: right;\">\n",
       "      <th></th>\n",
       "      <th>document</th>\n",
       "      <th>text</th>\n",
       "      <th>type</th>\n",
       "      <th>start</th>\n",
       "      <th>end</th>\n",
       "      <th>cui</th>\n",
       "      <th>tuis</th>\n",
       "      <th>canonical</th>\n",
       "      <th>linker</th>\n",
       "      <th>confidence</th>\n",
       "    </tr>\n",
       "  </thead>\n",
       "  <tbody>\n",
       "    <tr>\n",
       "      <th>0</th>\n",
       "      <td>06_hautkrebspraevention_0286</td>\n",
       "      <td>Hautkrebs-Screening</td>\n",
       "      <td>Diagnostic</td>\n",
       "      <td>76</td>\n",
       "      <td>95</td>\n",
       "      <td>C4087363</td>\n",
       "      <td>[T061]</td>\n",
       "      <td>Skin cancer excision</td>\n",
       "      <td>[ngram, sapbert]</td>\n",
       "      <td>0.835250</td>\n",
       "    </tr>\n",
       "    <tr>\n",
       "      <th>1</th>\n",
       "      <td>06_hautkrebspraevention_0286</td>\n",
       "      <td>Hautkrebs-Screening</td>\n",
       "      <td>Diagnostic</td>\n",
       "      <td>76</td>\n",
       "      <td>95</td>\n",
       "      <td>C0576774</td>\n",
       "      <td>[T061]</td>\n",
       "      <td>Excision of skin carcinoma</td>\n",
       "      <td>[sapbert]</td>\n",
       "      <td>0.807886</td>\n",
       "    </tr>\n",
       "    <tr>\n",
       "      <th>2</th>\n",
       "      <td>06_hautkrebspraevention_0286</td>\n",
       "      <td>Hautkrebs-Screening</td>\n",
       "      <td>Diagnostic</td>\n",
       "      <td>76</td>\n",
       "      <td>95</td>\n",
       "      <td>C0578566</td>\n",
       "      <td>[T061]</td>\n",
       "      <td>Excision of malignant skin tumor</td>\n",
       "      <td>[sapbert]</td>\n",
       "      <td>0.753645</td>\n",
       "    </tr>\n",
       "    <tr>\n",
       "      <th>3</th>\n",
       "      <td>06_hautkrebspraevention_0286</td>\n",
       "      <td>gezielten Anamnese</td>\n",
       "      <td>Diagnostic</td>\n",
       "      <td>150</td>\n",
       "      <td>168</td>\n",
       "      <td>C0025084</td>\n",
       "      <td>[T058]</td>\n",
       "      <td>Medical History Taking</td>\n",
       "      <td>[ngram, sapbert]</td>\n",
       "      <td>0.745956</td>\n",
       "    </tr>\n",
       "    <tr>\n",
       "      <th>4</th>\n",
       "      <td>06_hautkrebspraevention_0286</td>\n",
       "      <td>gezielten Anamnese</td>\n",
       "      <td>Diagnostic</td>\n",
       "      <td>150</td>\n",
       "      <td>168</td>\n",
       "      <td>C0561843</td>\n",
       "      <td>[T041]</td>\n",
       "      <td>Memory, Episodic</td>\n",
       "      <td>[sapbert]</td>\n",
       "      <td>0.745167</td>\n",
       "    </tr>\n",
       "    <tr>\n",
       "      <th>5</th>\n",
       "      <td>06_hautkrebspraevention_0286</td>\n",
       "      <td>gezielten Anamnese</td>\n",
       "      <td>Diagnostic</td>\n",
       "      <td>150</td>\n",
       "      <td>168</td>\n",
       "      <td>C0199184</td>\n",
       "      <td>[T058]</td>\n",
       "      <td>History taking, limited</td>\n",
       "      <td>[sapbert]</td>\n",
       "      <td>0.739637</td>\n",
       "    </tr>\n",
       "    <tr>\n",
       "      <th>6</th>\n",
       "      <td>06_hautkrebspraevention_0286</td>\n",
       "      <td>visuellen standardisierten Ganzkörperinspektion</td>\n",
       "      <td>Diagnostic</td>\n",
       "      <td>177</td>\n",
       "      <td>224</td>\n",
       "      <td>C1112379</td>\n",
       "      <td>[T060]</td>\n",
       "      <td>Visual tracking test</td>\n",
       "      <td>[sapbert]</td>\n",
       "      <td>0.744488</td>\n",
       "    </tr>\n",
       "    <tr>\n",
       "      <th>7</th>\n",
       "      <td>06_hautkrebspraevention_0286</td>\n",
       "      <td>visuellen standardisierten Ganzkörperinspektion</td>\n",
       "      <td>Diagnostic</td>\n",
       "      <td>177</td>\n",
       "      <td>224</td>\n",
       "      <td>C1565979</td>\n",
       "      <td>[T060]</td>\n",
       "      <td>Whole Body Screening</td>\n",
       "      <td>[ngram, sapbert]</td>\n",
       "      <td>0.722371</td>\n",
       "    </tr>\n",
       "    <tr>\n",
       "      <th>8</th>\n",
       "      <td>06_hautkrebspraevention_0286</td>\n",
       "      <td>visuellen standardisierten Ganzkörperinspektion</td>\n",
       "      <td>Diagnostic</td>\n",
       "      <td>177</td>\n",
       "      <td>224</td>\n",
       "      <td>C0200160</td>\n",
       "      <td>[T060]</td>\n",
       "      <td>Color vision examination, extended</td>\n",
       "      <td>[sapbert]</td>\n",
       "      <td>0.704022</td>\n",
       "    </tr>\n",
       "    <tr>\n",
       "      <th>9</th>\n",
       "      <td>06_hautkrebspraevention_0286</td>\n",
       "      <td>Befundmitteilung</td>\n",
       "      <td>Therapeutic</td>\n",
       "      <td>234</td>\n",
       "      <td>250</td>\n",
       "      <td>C0949214</td>\n",
       "      <td>[T170]</td>\n",
       "      <td>Anzeigen [Dokumenttyp]</td>\n",
       "      <td>[sapbert]</td>\n",
       "      <td>0.844695</td>\n",
       "    </tr>\n",
       "  </tbody>\n",
       "</table>\n",
       "</div>"
      ],
      "text/plain": [
       "                       document  \\\n",
       "0  06_hautkrebspraevention_0286   \n",
       "1  06_hautkrebspraevention_0286   \n",
       "2  06_hautkrebspraevention_0286   \n",
       "3  06_hautkrebspraevention_0286   \n",
       "4  06_hautkrebspraevention_0286   \n",
       "5  06_hautkrebspraevention_0286   \n",
       "6  06_hautkrebspraevention_0286   \n",
       "7  06_hautkrebspraevention_0286   \n",
       "8  06_hautkrebspraevention_0286   \n",
       "9  06_hautkrebspraevention_0286   \n",
       "\n",
       "                                              text         type  start  end  \\\n",
       "0                              Hautkrebs-Screening   Diagnostic     76   95   \n",
       "1                              Hautkrebs-Screening   Diagnostic     76   95   \n",
       "2                              Hautkrebs-Screening   Diagnostic     76   95   \n",
       "3                               gezielten Anamnese   Diagnostic    150  168   \n",
       "4                               gezielten Anamnese   Diagnostic    150  168   \n",
       "5                               gezielten Anamnese   Diagnostic    150  168   \n",
       "6  visuellen standardisierten Ganzkörperinspektion   Diagnostic    177  224   \n",
       "7  visuellen standardisierten Ganzkörperinspektion   Diagnostic    177  224   \n",
       "8  visuellen standardisierten Ganzkörperinspektion   Diagnostic    177  224   \n",
       "9                                 Befundmitteilung  Therapeutic    234  250   \n",
       "\n",
       "        cui    tuis                           canonical            linker  \\\n",
       "0  C4087363  [T061]                Skin cancer excision  [ngram, sapbert]   \n",
       "1  C0576774  [T061]          Excision of skin carcinoma         [sapbert]   \n",
       "2  C0578566  [T061]    Excision of malignant skin tumor         [sapbert]   \n",
       "3  C0025084  [T058]              Medical History Taking  [ngram, sapbert]   \n",
       "4  C0561843  [T041]                    Memory, Episodic         [sapbert]   \n",
       "5  C0199184  [T058]             History taking, limited         [sapbert]   \n",
       "6  C1112379  [T060]                Visual tracking test         [sapbert]   \n",
       "7  C1565979  [T060]                Whole Body Screening  [ngram, sapbert]   \n",
       "8  C0200160  [T060]  Color vision examination, extended         [sapbert]   \n",
       "9  C0949214  [T170]              Anzeigen [Dokumenttyp]         [sapbert]   \n",
       "\n",
       "   confidence  \n",
       "0    0.835250  \n",
       "1    0.807886  \n",
       "2    0.753645  \n",
       "3    0.745956  \n",
       "4    0.745167  \n",
       "5    0.739637  \n",
       "6    0.744488  \n",
       "7    0.722371  \n",
       "8    0.704022  \n",
       "9    0.844695  "
      ]
     },
     "execution_count": 19,
     "metadata": {},
     "output_type": "execute_result"
    }
   ],
   "source": [
    "get_annotation_dataframe(result['candidates'].select(show_indices[0:10]), linker.kb, 3, 0.0).query('type in @types').iloc[0:10]"
   ]
  },
  {
   "cell_type": "code",
   "execution_count": 20,
   "id": "83d12321-1871-40c3-9113-5443cde30039",
   "metadata": {},
   "outputs": [
    {
     "data": {
      "application/vnd.jupyter.widget-view+json": {
       "model_id": "df23c7ff9b204835bffa4e269bb5f55a",
       "version_major": 2,
       "version_minor": 0
      },
      "text/plain": [
       "  0%|          | 0/10 [00:00<?, ?it/s]"
      ]
     },
     "metadata": {},
     "output_type": "display_data"
    },
    {
     "data": {
      "text/html": [
       "<div>\n",
       "<style scoped>\n",
       "    .dataframe tbody tr th:only-of-type {\n",
       "        vertical-align: middle;\n",
       "    }\n",
       "\n",
       "    .dataframe tbody tr th {\n",
       "        vertical-align: top;\n",
       "    }\n",
       "\n",
       "    .dataframe thead th {\n",
       "        text-align: right;\n",
       "    }\n",
       "</style>\n",
       "<table border=\"1\" class=\"dataframe\">\n",
       "  <thead>\n",
       "    <tr style=\"text-align: right;\">\n",
       "      <th></th>\n",
       "      <th>document</th>\n",
       "      <th>text</th>\n",
       "      <th>type</th>\n",
       "      <th>start</th>\n",
       "      <th>end</th>\n",
       "      <th>cui</th>\n",
       "      <th>tuis</th>\n",
       "      <th>canonical</th>\n",
       "      <th>linker</th>\n",
       "      <th>confidence</th>\n",
       "    </tr>\n",
       "  </thead>\n",
       "  <tbody>\n",
       "    <tr>\n",
       "      <th>0</th>\n",
       "      <td>06_hautkrebspraevention_0286</td>\n",
       "      <td>Hautkrebs-Screening</td>\n",
       "      <td>Diagnostic</td>\n",
       "      <td>76</td>\n",
       "      <td>95</td>\n",
       "      <td>C2919584</td>\n",
       "      <td>[T061]</td>\n",
       "      <td>Screening for skin cancer</td>\n",
       "      <td>[sapbert]</td>\n",
       "      <td>0.101426</td>\n",
       "    </tr>\n",
       "    <tr>\n",
       "      <th>1</th>\n",
       "      <td>06_hautkrebspraevention_0286</td>\n",
       "      <td>Hautkrebs-Screening</td>\n",
       "      <td>Diagnostic</td>\n",
       "      <td>76</td>\n",
       "      <td>95</td>\n",
       "      <td>C4087363</td>\n",
       "      <td>[T061]</td>\n",
       "      <td>Skin cancer excision</td>\n",
       "      <td>[ngram, sapbert]</td>\n",
       "      <td>0.069480</td>\n",
       "    </tr>\n",
       "    <tr>\n",
       "      <th>2</th>\n",
       "      <td>06_hautkrebspraevention_0286</td>\n",
       "      <td>Hautkrebs-Screening</td>\n",
       "      <td>Diagnostic</td>\n",
       "      <td>76</td>\n",
       "      <td>95</td>\n",
       "      <td>C0420052</td>\n",
       "      <td>[T060]</td>\n",
       "      <td>Skin disease screening</td>\n",
       "      <td>[sapbert]</td>\n",
       "      <td>0.062753</td>\n",
       "    </tr>\n",
       "    <tr>\n",
       "      <th>3</th>\n",
       "      <td>06_hautkrebspraevention_0286</td>\n",
       "      <td>gezielten Anamnese</td>\n",
       "      <td>Diagnostic</td>\n",
       "      <td>150</td>\n",
       "      <td>168</td>\n",
       "      <td>C0025084</td>\n",
       "      <td>[T058]</td>\n",
       "      <td>Medical History Taking</td>\n",
       "      <td>[ngram, sapbert]</td>\n",
       "      <td>0.066949</td>\n",
       "    </tr>\n",
       "    <tr>\n",
       "      <th>4</th>\n",
       "      <td>06_hautkrebspraevention_0286</td>\n",
       "      <td>gezielten Anamnese</td>\n",
       "      <td>Diagnostic</td>\n",
       "      <td>150</td>\n",
       "      <td>168</td>\n",
       "      <td>C0085970</td>\n",
       "      <td>[T170]</td>\n",
       "      <td>Case Histories</td>\n",
       "      <td>[sapbert]</td>\n",
       "      <td>0.065283</td>\n",
       "    </tr>\n",
       "    <tr>\n",
       "      <th>5</th>\n",
       "      <td>06_hautkrebspraevention_0286</td>\n",
       "      <td>gezielten Anamnese</td>\n",
       "      <td>Diagnostic</td>\n",
       "      <td>150</td>\n",
       "      <td>168</td>\n",
       "      <td>C2732279</td>\n",
       "      <td>[T058]</td>\n",
       "      <td>History taken on subject</td>\n",
       "      <td>[sapbert]</td>\n",
       "      <td>0.064761</td>\n",
       "    </tr>\n",
       "    <tr>\n",
       "      <th>6</th>\n",
       "      <td>06_hautkrebspraevention_0286</td>\n",
       "      <td>visuellen standardisierten Ganzkörperinspektion</td>\n",
       "      <td>Diagnostic</td>\n",
       "      <td>177</td>\n",
       "      <td>224</td>\n",
       "      <td>C0199219</td>\n",
       "      <td>[T058]</td>\n",
       "      <td>Visual examination</td>\n",
       "      <td>[sapbert]</td>\n",
       "      <td>0.064340</td>\n",
       "    </tr>\n",
       "    <tr>\n",
       "      <th>7</th>\n",
       "      <td>06_hautkrebspraevention_0286</td>\n",
       "      <td>visuellen standardisierten Ganzkörperinspektion</td>\n",
       "      <td>Diagnostic</td>\n",
       "      <td>177</td>\n",
       "      <td>224</td>\n",
       "      <td>C0042792</td>\n",
       "      <td>[T060]</td>\n",
       "      <td>Vision Screening</td>\n",
       "      <td>[sapbert]</td>\n",
       "      <td>0.063352</td>\n",
       "    </tr>\n",
       "    <tr>\n",
       "      <th>8</th>\n",
       "      <td>06_hautkrebspraevention_0286</td>\n",
       "      <td>visuellen standardisierten Ganzkörperinspektion</td>\n",
       "      <td>Diagnostic</td>\n",
       "      <td>177</td>\n",
       "      <td>224</td>\n",
       "      <td>C2230326</td>\n",
       "      <td>[T060]</td>\n",
       "      <td>Visual Inspection of the Abdomen</td>\n",
       "      <td>[sapbert]</td>\n",
       "      <td>0.063348</td>\n",
       "    </tr>\n",
       "    <tr>\n",
       "      <th>9</th>\n",
       "      <td>06_hautkrebspraevention_0286</td>\n",
       "      <td>Befundmitteilung</td>\n",
       "      <td>Therapeutic</td>\n",
       "      <td>234</td>\n",
       "      <td>250</td>\n",
       "      <td>C1269803</td>\n",
       "      <td>[T170]</td>\n",
       "      <td>Consent report</td>\n",
       "      <td>[sapbert]</td>\n",
       "      <td>0.063774</td>\n",
       "    </tr>\n",
       "  </tbody>\n",
       "</table>\n",
       "</div>"
      ],
      "text/plain": [
       "                       document  \\\n",
       "0  06_hautkrebspraevention_0286   \n",
       "1  06_hautkrebspraevention_0286   \n",
       "2  06_hautkrebspraevention_0286   \n",
       "3  06_hautkrebspraevention_0286   \n",
       "4  06_hautkrebspraevention_0286   \n",
       "5  06_hautkrebspraevention_0286   \n",
       "6  06_hautkrebspraevention_0286   \n",
       "7  06_hautkrebspraevention_0286   \n",
       "8  06_hautkrebspraevention_0286   \n",
       "9  06_hautkrebspraevention_0286   \n",
       "\n",
       "                                              text         type  start  end  \\\n",
       "0                              Hautkrebs-Screening   Diagnostic     76   95   \n",
       "1                              Hautkrebs-Screening   Diagnostic     76   95   \n",
       "2                              Hautkrebs-Screening   Diagnostic     76   95   \n",
       "3                               gezielten Anamnese   Diagnostic    150  168   \n",
       "4                               gezielten Anamnese   Diagnostic    150  168   \n",
       "5                               gezielten Anamnese   Diagnostic    150  168   \n",
       "6  visuellen standardisierten Ganzkörperinspektion   Diagnostic    177  224   \n",
       "7  visuellen standardisierten Ganzkörperinspektion   Diagnostic    177  224   \n",
       "8  visuellen standardisierten Ganzkörperinspektion   Diagnostic    177  224   \n",
       "9                                 Befundmitteilung  Therapeutic    234  250   \n",
       "\n",
       "        cui    tuis                         canonical            linker  \\\n",
       "0  C2919584  [T061]         Screening for skin cancer         [sapbert]   \n",
       "1  C4087363  [T061]              Skin cancer excision  [ngram, sapbert]   \n",
       "2  C0420052  [T060]            Skin disease screening         [sapbert]   \n",
       "3  C0025084  [T058]            Medical History Taking  [ngram, sapbert]   \n",
       "4  C0085970  [T170]                    Case Histories         [sapbert]   \n",
       "5  C2732279  [T058]          History taken on subject         [sapbert]   \n",
       "6  C0199219  [T058]                Visual examination         [sapbert]   \n",
       "7  C0042792  [T060]                  Vision Screening         [sapbert]   \n",
       "8  C2230326  [T060]  Visual Inspection of the Abdomen         [sapbert]   \n",
       "9  C1269803  [T170]                    Consent report         [sapbert]   \n",
       "\n",
       "   confidence  \n",
       "0    0.101426  \n",
       "1    0.069480  \n",
       "2    0.062753  \n",
       "3    0.066949  \n",
       "4    0.065283  \n",
       "5    0.064761  \n",
       "6    0.064340  \n",
       "7    0.063352  \n",
       "8    0.063348  \n",
       "9    0.063774  "
      ]
     },
     "execution_count": 20,
     "metadata": {},
     "output_type": "execute_result"
    }
   ],
   "source": [
    "get_annotation_dataframe(result['reranked'].select(show_indices[0:10]), linker.kb, 3, 0.0).query('type in @types').iloc[0:10]"
   ]
  },
  {
   "cell_type": "code",
   "execution_count": 21,
   "id": "71842ee1-ce0a-4277-88a0-e00ea90d24b1",
   "metadata": {},
   "outputs": [
    {
     "data": {
      "application/vnd.jupyter.widget-view+json": {
       "model_id": "0d6f019e2b5f4473baeaad69b9199968",
       "version_major": 2,
       "version_minor": 0
      },
      "text/plain": [
       "  0%|          | 0/11280 [00:00<?, ?it/s]"
      ]
     },
     "metadata": {},
     "output_type": "display_data"
    }
   ],
   "source": [
    "df = get_annotation_dataframe(result['reranked'], linker.kb, 1, 0.0)"
   ]
  },
  {
   "cell_type": "code",
   "execution_count": 22,
   "id": "7db87fa7-3bcd-4d9f-894e-5a7d23799af5",
   "metadata": {},
   "outputs": [],
   "source": [
    "df.to_csv(f'output/{version}/entities_with_cuis.tsv', sep='\\t', index=False)"
   ]
  },
  {
   "cell_type": "code",
   "execution_count": 23,
   "id": "6b961893-65a0-4b22-a260-213ff25d1a15",
   "metadata": {},
   "outputs": [],
   "source": [
    "import pandas as pd"
   ]
  },
  {
   "cell_type": "code",
   "execution_count": 24,
   "id": "22b6590a-9f7f-4299-9d58-e6513c8ba2e9",
   "metadata": {
    "tags": []
   },
   "outputs": [],
   "source": [
    "tsv = pd.read_csv('output/v2.1_2023_03_30/entities_with_cuis.tsv', sep='\\t')"
   ]
  },
  {
   "cell_type": "code",
   "execution_count": null,
   "id": "c0a8b737-560d-452e-8566-fbfb3b0fcbc3",
   "metadata": {},
   "outputs": [],
   "source": []
  }
 ],
 "metadata": {
  "kernelspec": {
   "display_name": "Python [conda env:ggponc]",
   "language": "python",
   "name": "conda-env-ggponc-py"
  },
  "language_info": {
   "codemirror_mode": {
    "name": "ipython",
    "version": 3
   },
   "file_extension": ".py",
   "mimetype": "text/x-python",
   "name": "python",
   "nbconvert_exporter": "python",
   "pygments_lexer": "ipython3",
   "version": "3.9.0"
  }
 },
 "nbformat": 4,
 "nbformat_minor": 5
}
